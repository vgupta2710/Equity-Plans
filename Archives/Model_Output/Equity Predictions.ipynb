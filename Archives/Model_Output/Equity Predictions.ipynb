{
 "cells": [
  {
   "cell_type": "code",
   "execution_count": 1,
   "metadata": {},
   "outputs": [
    {
     "name": "stderr",
     "output_type": "stream",
     "text": [
      "/Users/vaigupta/Documents/Notebooks/anaconda3/lib/python3.7/site-packages/mpl_finance.py:22: DeprecationWarning: \n",
      "\n",
      "  =================================================================\n",
      "\n",
      "   WARNING: `mpl_finance` is deprecated:\n",
      "\n",
      "    Please use `mplfinance` instead (no hyphen, no underscore).\n",
      "\n",
      "    To install: `pip install --upgrade mplfinance` \n",
      "\n",
      "   For more information, see: https://pypi.org/project/mplfinance/\n",
      "\n",
      "  =================================================================\n",
      "\n",
      "  category=DeprecationWarning)\n",
      "/Users/vaigupta/Documents/Notebooks/anaconda3/lib/python3.7/site-packages/ipykernel_launcher.py:20: DeprecationWarning: deprecated\n"
     ]
    }
   ],
   "source": [
    "import datetime\n",
    "from nsepy import get_history\n",
    "import pandas as pd\n",
    "import sys\n",
    "from datetime import date\n",
    "import datetime\n",
    "from fbprophet import Prophet\n",
    "import seaborn as sns\n",
    "from sklearn.metrics import mean_absolute_error\n",
    "from matplotlib import pyplot\n",
    "import warnings\n",
    "import seaborn as sns\n",
    "import yfinance as yf\n",
    "import mpl_finance\n",
    "import streamlit as st\n",
    "\n",
    "from sklearn.preprocessing import MinMaxScaler\n",
    "from keras.models import Sequential\n",
    "from keras.layers import Dense, Dropout, LSTM\n",
    "warnings.warn(\"deprecated\", DeprecationWarning)\n",
    "%matplotlib inline\n",
    "\n",
    "import pickle"
   ]
  },
  {
   "cell_type": "code",
   "execution_count": 2,
   "metadata": {},
   "outputs": [],
   "source": [
    "def refresh_data(equity,period1,interval1):\n",
    "    equity1 = yf.Ticker(equity)\n",
    "    history = equity1.history(period=period1,interval=interval1,actions=False)   \n",
    "    return history"
   ]
  },
  {
   "cell_type": "code",
   "execution_count": 12,
   "metadata": {},
   "outputs": [
    {
     "data": {
      "text/html": [
       "<div>\n",
       "<style scoped>\n",
       "    .dataframe tbody tr th:only-of-type {\n",
       "        vertical-align: middle;\n",
       "    }\n",
       "\n",
       "    .dataframe tbody tr th {\n",
       "        vertical-align: top;\n",
       "    }\n",
       "\n",
       "    .dataframe thead th {\n",
       "        text-align: right;\n",
       "    }\n",
       "</style>\n",
       "<table border=\"1\" class=\"dataframe\">\n",
       "  <thead>\n",
       "    <tr style=\"text-align: right;\">\n",
       "      <th></th>\n",
       "      <th>instrumentToken</th>\n",
       "      <th>instrumentName</th>\n",
       "      <th>name</th>\n",
       "      <th>lastPrice</th>\n",
       "      <th>expiry</th>\n",
       "      <th>strike</th>\n",
       "      <th>tickSize</th>\n",
       "      <th>lotSize</th>\n",
       "      <th>instrumentType</th>\n",
       "      <th>segment</th>\n",
       "      <th>exchange</th>\n",
       "      <th>isin</th>\n",
       "      <th>multiplier</th>\n",
       "      <th>exchangeToken</th>\n",
       "      <th>OptionType</th>\n",
       "    </tr>\n",
       "  </thead>\n",
       "  <tbody>\n",
       "    <tr>\n",
       "      <th>0</th>\n",
       "      <td>9516</td>\n",
       "      <td>20MICRONS</td>\n",
       "      <td>20 Microns Ltd</td>\n",
       "      <td>71.95</td>\n",
       "      <td>0</td>\n",
       "      <td>0</td>\n",
       "      <td>0.05</td>\n",
       "      <td>1</td>\n",
       "      <td>EQ</td>\n",
       "      <td>CASH</td>\n",
       "      <td>NSE</td>\n",
       "      <td>INE144J01027</td>\n",
       "      <td>1</td>\n",
       "      <td>16921</td>\n",
       "      <td>-</td>\n",
       "    </tr>\n",
       "    <tr>\n",
       "      <th>1</th>\n",
       "      <td>43865</td>\n",
       "      <td>3IINFOLTD</td>\n",
       "      <td>3i Infotech Ltd</td>\n",
       "      <td>42.55</td>\n",
       "      <td>0</td>\n",
       "      <td>0</td>\n",
       "      <td>0.05</td>\n",
       "      <td>1</td>\n",
       "      <td>EQ</td>\n",
       "      <td>CASH</td>\n",
       "      <td>NSE</td>\n",
       "      <td>INE748C01038</td>\n",
       "      <td>1</td>\n",
       "      <td>6232</td>\n",
       "      <td>-</td>\n",
       "    </tr>\n",
       "    <tr>\n",
       "      <th>2</th>\n",
       "      <td>891</td>\n",
       "      <td>3MINDIA</td>\n",
       "      <td>3M India Ltd</td>\n",
       "      <td>21928.35</td>\n",
       "      <td>0</td>\n",
       "      <td>0</td>\n",
       "      <td>0.05</td>\n",
       "      <td>1</td>\n",
       "      <td>EQ</td>\n",
       "      <td>CASH</td>\n",
       "      <td>NSE</td>\n",
       "      <td>INE470A01017</td>\n",
       "      <td>1</td>\n",
       "      <td>474</td>\n",
       "      <td>-</td>\n",
       "    </tr>\n",
       "    <tr>\n",
       "      <th>3</th>\n",
       "      <td>607</td>\n",
       "      <td>3PLAND</td>\n",
       "      <td>3P Land Holdings Ltd</td>\n",
       "      <td>15.35</td>\n",
       "      <td>0</td>\n",
       "      <td>0</td>\n",
       "      <td>0.05</td>\n",
       "      <td>1</td>\n",
       "      <td>EQ</td>\n",
       "      <td>CASH</td>\n",
       "      <td>NSE</td>\n",
       "      <td>INE105C01023</td>\n",
       "      <td>1</td>\n",
       "      <td>2595</td>\n",
       "      <td>-</td>\n",
       "    </tr>\n",
       "    <tr>\n",
       "      <th>4</th>\n",
       "      <td>13140</td>\n",
       "      <td>5PAISA</td>\n",
       "      <td>5Paisa Capital Ltd</td>\n",
       "      <td>283.75</td>\n",
       "      <td>0</td>\n",
       "      <td>0</td>\n",
       "      <td>0.05</td>\n",
       "      <td>1</td>\n",
       "      <td>EQ</td>\n",
       "      <td>CASH</td>\n",
       "      <td>NSE</td>\n",
       "      <td>INE618L01018</td>\n",
       "      <td>1</td>\n",
       "      <td>445</td>\n",
       "      <td>-</td>\n",
       "    </tr>\n",
       "    <tr>\n",
       "      <th>5</th>\n",
       "      <td>5653</td>\n",
       "      <td>63MOONS</td>\n",
       "      <td>63 Moons Technologies Ltd</td>\n",
       "      <td>186.40</td>\n",
       "      <td>0</td>\n",
       "      <td>0</td>\n",
       "      <td>0.05</td>\n",
       "      <td>1</td>\n",
       "      <td>EQ</td>\n",
       "      <td>CASH</td>\n",
       "      <td>NSE</td>\n",
       "      <td>INE111B01023</td>\n",
       "      <td>1</td>\n",
       "      <td>11868</td>\n",
       "      <td>-</td>\n",
       "    </tr>\n",
       "    <tr>\n",
       "      <th>6</th>\n",
       "      <td>10586</td>\n",
       "      <td>A2ZINFRA</td>\n",
       "      <td>A2Z Infra Engineering Ltd</td>\n",
       "      <td>11.50</td>\n",
       "      <td>0</td>\n",
       "      <td>0</td>\n",
       "      <td>0.05</td>\n",
       "      <td>1</td>\n",
       "      <td>EQ</td>\n",
       "      <td>CASH</td>\n",
       "      <td>NSE</td>\n",
       "      <td>INE619I01012</td>\n",
       "      <td>1</td>\n",
       "      <td>20906</td>\n",
       "      <td>-</td>\n",
       "    </tr>\n",
       "    <tr>\n",
       "      <th>7</th>\n",
       "      <td>94320</td>\n",
       "      <td>AAKASH</td>\n",
       "      <td>Aakash Exploration Services Ltd</td>\n",
       "      <td>14.15</td>\n",
       "      <td>0</td>\n",
       "      <td>0</td>\n",
       "      <td>0.05</td>\n",
       "      <td>1</td>\n",
       "      <td>EQ</td>\n",
       "      <td>CASH</td>\n",
       "      <td>NSE</td>\n",
       "      <td>INE087Z01024</td>\n",
       "      <td>1</td>\n",
       "      <td>235</td>\n",
       "      <td>-</td>\n",
       "    </tr>\n",
       "    <tr>\n",
       "      <th>8</th>\n",
       "      <td>16680</td>\n",
       "      <td>AREYDRG</td>\n",
       "      <td>Aarey Drugs &amp; Pharmaceuticals Ltd</td>\n",
       "      <td>35.05</td>\n",
       "      <td>0</td>\n",
       "      <td>0</td>\n",
       "      <td>0.05</td>\n",
       "      <td>1</td>\n",
       "      <td>EQ</td>\n",
       "      <td>CASH</td>\n",
       "      <td>NSE</td>\n",
       "      <td>INE198H01019</td>\n",
       "      <td>1</td>\n",
       "      <td>5245</td>\n",
       "      <td>-</td>\n",
       "    </tr>\n",
       "    <tr>\n",
       "      <th>9</th>\n",
       "      <td>15947</td>\n",
       "      <td>AARON</td>\n",
       "      <td>Aaron Industries Ltd</td>\n",
       "      <td>126.20</td>\n",
       "      <td>0</td>\n",
       "      <td>0</td>\n",
       "      <td>0.05</td>\n",
       "      <td>1</td>\n",
       "      <td>EQ</td>\n",
       "      <td>CASH</td>\n",
       "      <td>NSE</td>\n",
       "      <td>INE721Z01010</td>\n",
       "      <td>1</td>\n",
       "      <td>1030</td>\n",
       "      <td>-</td>\n",
       "    </tr>\n",
       "    <tr>\n",
       "      <th>10</th>\n",
       "      <td>717</td>\n",
       "      <td>AARTIDRUGS</td>\n",
       "      <td>Aarti Drugs Ltd</td>\n",
       "      <td>437.90</td>\n",
       "      <td>0</td>\n",
       "      <td>0</td>\n",
       "      <td>0.05</td>\n",
       "      <td>1</td>\n",
       "      <td>EQ</td>\n",
       "      <td>CASH</td>\n",
       "      <td>NSE</td>\n",
       "      <td>INE767A01016</td>\n",
       "      <td>1</td>\n",
       "      <td>4481</td>\n",
       "      <td>-</td>\n",
       "    </tr>\n",
       "    <tr>\n",
       "      <th>11</th>\n",
       "      <td>411</td>\n",
       "      <td>AARTIIND</td>\n",
       "      <td>Aarti Industries Ltd</td>\n",
       "      <td>728.40</td>\n",
       "      <td>0</td>\n",
       "      <td>0</td>\n",
       "      <td>0.05</td>\n",
       "      <td>1</td>\n",
       "      <td>EQ</td>\n",
       "      <td>CASH</td>\n",
       "      <td>NSE</td>\n",
       "      <td>INE769A01020</td>\n",
       "      <td>1</td>\n",
       "      <td>7</td>\n",
       "      <td>-</td>\n",
       "    </tr>\n",
       "    <tr>\n",
       "      <th>12</th>\n",
       "      <td>27206</td>\n",
       "      <td>AARTISURF</td>\n",
       "      <td>Aarti Surfactants Ltd</td>\n",
       "      <td>719.30</td>\n",
       "      <td>0</td>\n",
       "      <td>0</td>\n",
       "      <td>0.05</td>\n",
       "      <td>1</td>\n",
       "      <td>EQ</td>\n",
       "      <td>CASH</td>\n",
       "      <td>NSE</td>\n",
       "      <td>INE09EO01013</td>\n",
       "      <td>1</td>\n",
       "      <td>19233</td>\n",
       "      <td>-</td>\n",
       "    </tr>\n",
       "    <tr>\n",
       "      <th>13</th>\n",
       "      <td>4968</td>\n",
       "      <td>AARVEEDEN</td>\n",
       "      <td>Aarvee Denims &amp; Exports Ltd</td>\n",
       "      <td>18.35</td>\n",
       "      <td>0</td>\n",
       "      <td>0</td>\n",
       "      <td>0.05</td>\n",
       "      <td>1</td>\n",
       "      <td>EQ</td>\n",
       "      <td>CASH</td>\n",
       "      <td>NSE</td>\n",
       "      <td>INE273D01019</td>\n",
       "      <td>1</td>\n",
       "      <td>13771</td>\n",
       "      <td>-</td>\n",
       "    </tr>\n",
       "    <tr>\n",
       "      <th>14</th>\n",
       "      <td>5038</td>\n",
       "      <td>AARVI</td>\n",
       "      <td>Aarvi Encon Ltd</td>\n",
       "      <td>90.50</td>\n",
       "      <td>0</td>\n",
       "      <td>0</td>\n",
       "      <td>0.05</td>\n",
       "      <td>1</td>\n",
       "      <td>EQ</td>\n",
       "      <td>CASH</td>\n",
       "      <td>NSE</td>\n",
       "      <td>INE754X01016</td>\n",
       "      <td>1</td>\n",
       "      <td>19073</td>\n",
       "      <td>-</td>\n",
       "    </tr>\n",
       "    <tr>\n",
       "      <th>15</th>\n",
       "      <td>109230</td>\n",
       "      <td>AAVAS</td>\n",
       "      <td>AAVAS Financiers Ltd</td>\n",
       "      <td>1992.45</td>\n",
       "      <td>0</td>\n",
       "      <td>0</td>\n",
       "      <td>0.05</td>\n",
       "      <td>1</td>\n",
       "      <td>EQ</td>\n",
       "      <td>CASH</td>\n",
       "      <td>NSE</td>\n",
       "      <td>INE216P01012</td>\n",
       "      <td>1</td>\n",
       "      <td>5385</td>\n",
       "      <td>-</td>\n",
       "    </tr>\n",
       "    <tr>\n",
       "      <th>16</th>\n",
       "      <td>413</td>\n",
       "      <td>ABAN</td>\n",
       "      <td>Aban Offshore Ltd</td>\n",
       "      <td>43.95</td>\n",
       "      <td>0</td>\n",
       "      <td>0</td>\n",
       "      <td>0.05</td>\n",
       "      <td>1</td>\n",
       "      <td>EQ</td>\n",
       "      <td>CASH</td>\n",
       "      <td>NSE</td>\n",
       "      <td>INE421A01028</td>\n",
       "      <td>1</td>\n",
       "      <td>10</td>\n",
       "      <td>-</td>\n",
       "    </tr>\n",
       "    <tr>\n",
       "      <th>17</th>\n",
       "      <td>720</td>\n",
       "      <td>ABB</td>\n",
       "      <td>ABB India Ltd</td>\n",
       "      <td>2559.45</td>\n",
       "      <td>0</td>\n",
       "      <td>0</td>\n",
       "      <td>0.05</td>\n",
       "      <td>1</td>\n",
       "      <td>EQ</td>\n",
       "      <td>CASH</td>\n",
       "      <td>NSE</td>\n",
       "      <td>INE117A01022</td>\n",
       "      <td>1</td>\n",
       "      <td>13</td>\n",
       "      <td>-</td>\n",
       "    </tr>\n",
       "    <tr>\n",
       "      <th>18</th>\n",
       "      <td>904</td>\n",
       "      <td>ABBOTINDIA</td>\n",
       "      <td>Abbott India Ltd</td>\n",
       "      <td>19746.95</td>\n",
       "      <td>0</td>\n",
       "      <td>0</td>\n",
       "      <td>0.05</td>\n",
       "      <td>1</td>\n",
       "      <td>EQ</td>\n",
       "      <td>CASH</td>\n",
       "      <td>NSE</td>\n",
       "      <td>INE358A01014</td>\n",
       "      <td>1</td>\n",
       "      <td>17903</td>\n",
       "      <td>-</td>\n",
       "    </tr>\n",
       "    <tr>\n",
       "      <th>19</th>\n",
       "      <td>727</td>\n",
       "      <td>ACC</td>\n",
       "      <td>ACC Ltd</td>\n",
       "      <td>2140.35</td>\n",
       "      <td>0</td>\n",
       "      <td>0</td>\n",
       "      <td>0.05</td>\n",
       "      <td>1</td>\n",
       "      <td>EQ</td>\n",
       "      <td>CASH</td>\n",
       "      <td>NSE</td>\n",
       "      <td>INE012A01025</td>\n",
       "      <td>1</td>\n",
       "      <td>22</td>\n",
       "      <td>-</td>\n",
       "    </tr>\n",
       "    <tr>\n",
       "      <th>20</th>\n",
       "      <td>2574</td>\n",
       "      <td>ACCELYA</td>\n",
       "      <td>Accelya Solutions India Ltd</td>\n",
       "      <td>902.45</td>\n",
       "      <td>0</td>\n",
       "      <td>0</td>\n",
       "      <td>0.05</td>\n",
       "      <td>1</td>\n",
       "      <td>EQ</td>\n",
       "      <td>CASH</td>\n",
       "      <td>NSE</td>\n",
       "      <td>INE793A01012</td>\n",
       "      <td>1</td>\n",
       "      <td>7053</td>\n",
       "      <td>-</td>\n",
       "    </tr>\n",
       "    <tr>\n",
       "      <th>21</th>\n",
       "      <td>27632</td>\n",
       "      <td>ACCURACY</td>\n",
       "      <td>Accuracy Shipping Ltd</td>\n",
       "      <td>202.45</td>\n",
       "      <td>0</td>\n",
       "      <td>0</td>\n",
       "      <td>0.05</td>\n",
       "      <td>1</td>\n",
       "      <td>EQ</td>\n",
       "      <td>CASH</td>\n",
       "      <td>NSE</td>\n",
       "      <td>INE648Z01015</td>\n",
       "      <td>1</td>\n",
       "      <td>1465</td>\n",
       "      <td>-</td>\n",
       "    </tr>\n",
       "    <tr>\n",
       "      <th>22</th>\n",
       "      <td>14111</td>\n",
       "      <td>ACRYSIL</td>\n",
       "      <td>Acrysil Ltd</td>\n",
       "      <td>580.45</td>\n",
       "      <td>0</td>\n",
       "      <td>0</td>\n",
       "      <td>0.05</td>\n",
       "      <td>1</td>\n",
       "      <td>EQ</td>\n",
       "      <td>CASH</td>\n",
       "      <td>NSE</td>\n",
       "      <td>INE482D01024</td>\n",
       "      <td>1</td>\n",
       "      <td>1879</td>\n",
       "      <td>-</td>\n",
       "    </tr>\n",
       "    <tr>\n",
       "      <th>23</th>\n",
       "      <td>8244</td>\n",
       "      <td>ACE</td>\n",
       "      <td>Action Construction Equipment Ltd</td>\n",
       "      <td>220.45</td>\n",
       "      <td>0</td>\n",
       "      <td>0</td>\n",
       "      <td>0.05</td>\n",
       "      <td>1</td>\n",
       "      <td>EQ</td>\n",
       "      <td>CASH</td>\n",
       "      <td>NSE</td>\n",
       "      <td>INE731H01025</td>\n",
       "      <td>1</td>\n",
       "      <td>13587</td>\n",
       "      <td>-</td>\n",
       "    </tr>\n",
       "    <tr>\n",
       "      <th>24</th>\n",
       "      <td>729</td>\n",
       "      <td>ADANIENT</td>\n",
       "      <td>Adani Enterprises Ltd</td>\n",
       "      <td>2405.25</td>\n",
       "      <td>0</td>\n",
       "      <td>0</td>\n",
       "      <td>0.05</td>\n",
       "      <td>1</td>\n",
       "      <td>EQ</td>\n",
       "      <td>CASH</td>\n",
       "      <td>NSE</td>\n",
       "      <td>INE423A01024</td>\n",
       "      <td>1</td>\n",
       "      <td>25</td>\n",
       "      <td>-</td>\n",
       "    </tr>\n",
       "    <tr>\n",
       "      <th>25</th>\n",
       "      <td>14443</td>\n",
       "      <td>ADANIGREEN</td>\n",
       "      <td>Adani Green Energy Ltd</td>\n",
       "      <td>2072.65</td>\n",
       "      <td>0</td>\n",
       "      <td>0</td>\n",
       "      <td>0.05</td>\n",
       "      <td>1</td>\n",
       "      <td>EQ</td>\n",
       "      <td>CASH</td>\n",
       "      <td>NSE</td>\n",
       "      <td>INE364U01010</td>\n",
       "      <td>1</td>\n",
       "      <td>3563</td>\n",
       "      <td>-</td>\n",
       "    </tr>\n",
       "    <tr>\n",
       "      <th>26</th>\n",
       "      <td>9077</td>\n",
       "      <td>ADANIPORTS</td>\n",
       "      <td>Adani Ports &amp; Special Economic Zone Ltd</td>\n",
       "      <td>730.90</td>\n",
       "      <td>0</td>\n",
       "      <td>0</td>\n",
       "      <td>0.05</td>\n",
       "      <td>1</td>\n",
       "      <td>EQ</td>\n",
       "      <td>CASH</td>\n",
       "      <td>NSE</td>\n",
       "      <td>INE742F01042</td>\n",
       "      <td>1</td>\n",
       "      <td>15083</td>\n",
       "      <td>-</td>\n",
       "    </tr>\n",
       "    <tr>\n",
       "      <th>27</th>\n",
       "      <td>9907</td>\n",
       "      <td>ADANIPOWER</td>\n",
       "      <td>Adani Power Ltd</td>\n",
       "      <td>286.75</td>\n",
       "      <td>0</td>\n",
       "      <td>0</td>\n",
       "      <td>0.05</td>\n",
       "      <td>1</td>\n",
       "      <td>EQ</td>\n",
       "      <td>CASH</td>\n",
       "      <td>NSE</td>\n",
       "      <td>INE814H01011</td>\n",
       "      <td>1</td>\n",
       "      <td>17388</td>\n",
       "      <td>-</td>\n",
       "    </tr>\n",
       "    <tr>\n",
       "      <th>28</th>\n",
       "      <td>113066</td>\n",
       "      <td>ATGL</td>\n",
       "      <td>Adani Total Gas Ltd</td>\n",
       "      <td>2807.70</td>\n",
       "      <td>0</td>\n",
       "      <td>0</td>\n",
       "      <td>0.05</td>\n",
       "      <td>1</td>\n",
       "      <td>EQ</td>\n",
       "      <td>CASH</td>\n",
       "      <td>NSE</td>\n",
       "      <td>INE399L01023</td>\n",
       "      <td>1</td>\n",
       "      <td>6066</td>\n",
       "      <td>-</td>\n",
       "    </tr>\n",
       "    <tr>\n",
       "      <th>29</th>\n",
       "      <td>14878</td>\n",
       "      <td>ADANITRANS</td>\n",
       "      <td>Adani Transmission Ltd</td>\n",
       "      <td>2889.35</td>\n",
       "      <td>0</td>\n",
       "      <td>0</td>\n",
       "      <td>0.05</td>\n",
       "      <td>1</td>\n",
       "      <td>EQ</td>\n",
       "      <td>CASH</td>\n",
       "      <td>NSE</td>\n",
       "      <td>INE931S01010</td>\n",
       "      <td>1</td>\n",
       "      <td>10217</td>\n",
       "      <td>-</td>\n",
       "    </tr>\n",
       "    <tr>\n",
       "      <th>...</th>\n",
       "      <td>...</td>\n",
       "      <td>...</td>\n",
       "      <td>...</td>\n",
       "      <td>...</td>\n",
       "      <td>...</td>\n",
       "      <td>...</td>\n",
       "      <td>...</td>\n",
       "      <td>...</td>\n",
       "      <td>...</td>\n",
       "      <td>...</td>\n",
       "      <td>...</td>\n",
       "      <td>...</td>\n",
       "      <td>...</td>\n",
       "      <td>...</td>\n",
       "      <td>...</td>\n",
       "    </tr>\n",
       "    <tr>\n",
       "      <th>7613</th>\n",
       "      <td>5464</td>\n",
       "      <td>VISTAPH</td>\n",
       "      <td>Vista Pharmaceuticals Ltd</td>\n",
       "      <td>6.72</td>\n",
       "      <td>0</td>\n",
       "      <td>0</td>\n",
       "      <td>0.01</td>\n",
       "      <td>1</td>\n",
       "      <td>BE</td>\n",
       "      <td>CASH</td>\n",
       "      <td>BSE</td>\n",
       "      <td>INE427C01021</td>\n",
       "      <td>1</td>\n",
       "      <td>524711</td>\n",
       "      <td>-</td>\n",
       "    </tr>\n",
       "    <tr>\n",
       "      <th>7614</th>\n",
       "      <td>15121</td>\n",
       "      <td>VITESSE</td>\n",
       "      <td>Vitesse Agro Ltd</td>\n",
       "      <td>34.25</td>\n",
       "      <td>0</td>\n",
       "      <td>0</td>\n",
       "      <td>0.05</td>\n",
       "      <td>1</td>\n",
       "      <td>BE</td>\n",
       "      <td>CASH</td>\n",
       "      <td>BSE</td>\n",
       "      <td>INE550U01014</td>\n",
       "      <td>1</td>\n",
       "      <td>540823</td>\n",
       "      <td>-</td>\n",
       "    </tr>\n",
       "    <tr>\n",
       "      <th>7615</th>\n",
       "      <td>11402</td>\n",
       "      <td>VIVANZA</td>\n",
       "      <td>Vivanza Biosciences Ltd</td>\n",
       "      <td>195.00</td>\n",
       "      <td>0</td>\n",
       "      <td>0</td>\n",
       "      <td>0.05</td>\n",
       "      <td>1</td>\n",
       "      <td>BE</td>\n",
       "      <td>CASH</td>\n",
       "      <td>BSE</td>\n",
       "      <td>INE984E01027</td>\n",
       "      <td>1</td>\n",
       "      <td>530057</td>\n",
       "      <td>-</td>\n",
       "    </tr>\n",
       "    <tr>\n",
       "      <th>7616</th>\n",
       "      <td>9590</td>\n",
       "      <td>VJTFEDU</td>\n",
       "      <td>VJTF Eduservices Ltd</td>\n",
       "      <td>57.00</td>\n",
       "      <td>0</td>\n",
       "      <td>0</td>\n",
       "      <td>0.05</td>\n",
       "      <td>1</td>\n",
       "      <td>BE</td>\n",
       "      <td>CASH</td>\n",
       "      <td>BSE</td>\n",
       "      <td>INE117F01013</td>\n",
       "      <td>1</td>\n",
       "      <td>509026</td>\n",
       "      <td>-</td>\n",
       "    </tr>\n",
       "    <tr>\n",
       "      <th>7617</th>\n",
       "      <td>17622</td>\n",
       "      <td>VKJINFRA</td>\n",
       "      <td>VKJ Infradevelopers Ltd</td>\n",
       "      <td>0.41</td>\n",
       "      <td>0</td>\n",
       "      <td>0</td>\n",
       "      <td>0.01</td>\n",
       "      <td>1</td>\n",
       "      <td>BE</td>\n",
       "      <td>CASH</td>\n",
       "      <td>BSE</td>\n",
       "      <td>INE211P01021</td>\n",
       "      <td>1</td>\n",
       "      <td>536128</td>\n",
       "      <td>-</td>\n",
       "    </tr>\n",
       "    <tr>\n",
       "      <th>7618</th>\n",
       "      <td>90056</td>\n",
       "      <td>VOLLF</td>\n",
       "      <td>Voltaire Leasing &amp; Finance Ltd</td>\n",
       "      <td>27.50</td>\n",
       "      <td>0</td>\n",
       "      <td>0</td>\n",
       "      <td>0.05</td>\n",
       "      <td>1</td>\n",
       "      <td>BE</td>\n",
       "      <td>CASH</td>\n",
       "      <td>BSE</td>\n",
       "      <td>INE763D01019</td>\n",
       "      <td>1</td>\n",
       "      <td>509038</td>\n",
       "      <td>-</td>\n",
       "    </tr>\n",
       "    <tr>\n",
       "      <th>7619</th>\n",
       "      <td>7678</td>\n",
       "      <td>WSIND</td>\n",
       "      <td>W S Industries (India) Ltd</td>\n",
       "      <td>13.89</td>\n",
       "      <td>0</td>\n",
       "      <td>0</td>\n",
       "      <td>0.01</td>\n",
       "      <td>1</td>\n",
       "      <td>BE</td>\n",
       "      <td>CASH</td>\n",
       "      <td>BSE</td>\n",
       "      <td>INE100D01014</td>\n",
       "      <td>1</td>\n",
       "      <td>504220</td>\n",
       "      <td>-</td>\n",
       "    </tr>\n",
       "    <tr>\n",
       "      <th>7620</th>\n",
       "      <td>8482</td>\n",
       "      <td>WANBURY</td>\n",
       "      <td>Wanbury Ltd</td>\n",
       "      <td>65.50</td>\n",
       "      <td>0</td>\n",
       "      <td>0</td>\n",
       "      <td>0.05</td>\n",
       "      <td>1</td>\n",
       "      <td>BE</td>\n",
       "      <td>CASH</td>\n",
       "      <td>BSE</td>\n",
       "      <td>INE107F01022</td>\n",
       "      <td>1</td>\n",
       "      <td>524212</td>\n",
       "      <td>-</td>\n",
       "    </tr>\n",
       "    <tr>\n",
       "      <th>7621</th>\n",
       "      <td>13060</td>\n",
       "      <td>WARDWIZPP</td>\n",
       "      <td>Wardwizard Innovations &amp; Mobility Ltd PartlyPa...</td>\n",
       "      <td>18.67</td>\n",
       "      <td>0</td>\n",
       "      <td>0</td>\n",
       "      <td>0.01</td>\n",
       "      <td>1</td>\n",
       "      <td>ZZ</td>\n",
       "      <td>-</td>\n",
       "      <td>BSE</td>\n",
       "      <td>IN9945P01014</td>\n",
       "      <td>1</td>\n",
       "      <td>890164</td>\n",
       "      <td>-</td>\n",
       "    </tr>\n",
       "    <tr>\n",
       "      <th>7622</th>\n",
       "      <td>13060</td>\n",
       "      <td>WARDWIZPP</td>\n",
       "      <td>Wardwizard Innovations and Mobility Limited - ...</td>\n",
       "      <td>18.67</td>\n",
       "      <td>0</td>\n",
       "      <td>0</td>\n",
       "      <td>0.01</td>\n",
       "      <td>1</td>\n",
       "      <td>ZZ</td>\n",
       "      <td>-</td>\n",
       "      <td>BSE</td>\n",
       "      <td>IN9945P01014</td>\n",
       "      <td>1</td>\n",
       "      <td>890164</td>\n",
       "      <td>-</td>\n",
       "    </tr>\n",
       "    <tr>\n",
       "      <th>7623</th>\n",
       "      <td>37781</td>\n",
       "      <td>WELLNESS</td>\n",
       "      <td>Wellness Noni Ltd</td>\n",
       "      <td>7.32</td>\n",
       "      <td>0</td>\n",
       "      <td>0</td>\n",
       "      <td>0.01</td>\n",
       "      <td>100</td>\n",
       "      <td>BE</td>\n",
       "      <td>CASH</td>\n",
       "      <td>BSE</td>\n",
       "      <td>INE571H01017</td>\n",
       "      <td>1</td>\n",
       "      <td>531211</td>\n",
       "      <td>-</td>\n",
       "    </tr>\n",
       "    <tr>\n",
       "      <th>7624</th>\n",
       "      <td>37866</td>\n",
       "      <td>WELTI</td>\n",
       "      <td>Welterman International Ltd</td>\n",
       "      <td>7.71</td>\n",
       "      <td>0</td>\n",
       "      <td>0</td>\n",
       "      <td>0.01</td>\n",
       "      <td>1</td>\n",
       "      <td>BE</td>\n",
       "      <td>CASH</td>\n",
       "      <td>BSE</td>\n",
       "      <td>INE662D01013</td>\n",
       "      <td>1</td>\n",
       "      <td>526431</td>\n",
       "      <td>-</td>\n",
       "    </tr>\n",
       "    <tr>\n",
       "      <th>7625</th>\n",
       "      <td>210597</td>\n",
       "      <td>WESTLEIRES</td>\n",
       "      <td>West Leisure Resorts Ltd</td>\n",
       "      <td>137.00</td>\n",
       "      <td>0</td>\n",
       "      <td>0</td>\n",
       "      <td>0.05</td>\n",
       "      <td>1</td>\n",
       "      <td>BE</td>\n",
       "      <td>CASH</td>\n",
       "      <td>BSE</td>\n",
       "      <td>INE266P01017</td>\n",
       "      <td>1</td>\n",
       "      <td>538382</td>\n",
       "      <td>-</td>\n",
       "    </tr>\n",
       "    <tr>\n",
       "      <th>7626</th>\n",
       "      <td>13283</td>\n",
       "      <td>WMINIMT</td>\n",
       "      <td>Western Ministil Ltd</td>\n",
       "      <td>0.40</td>\n",
       "      <td>0</td>\n",
       "      <td>0</td>\n",
       "      <td>0.01</td>\n",
       "      <td>50</td>\n",
       "      <td>BE</td>\n",
       "      <td>CASH</td>\n",
       "      <td>BSE</td>\n",
       "      <td>INE187U01015</td>\n",
       "      <td>1</td>\n",
       "      <td>504998</td>\n",
       "      <td>-</td>\n",
       "    </tr>\n",
       "    <tr>\n",
       "      <th>7627</th>\n",
       "      <td>10146</td>\n",
       "      <td>WINROC</td>\n",
       "      <td>Winro Commercial (India) Ltd</td>\n",
       "      <td>244.45</td>\n",
       "      <td>0</td>\n",
       "      <td>0</td>\n",
       "      <td>0.05</td>\n",
       "      <td>1</td>\n",
       "      <td>BE</td>\n",
       "      <td>CASH</td>\n",
       "      <td>BSE</td>\n",
       "      <td>INE837E01019</td>\n",
       "      <td>1</td>\n",
       "      <td>512022</td>\n",
       "      <td>-</td>\n",
       "    </tr>\n",
       "    <tr>\n",
       "      <th>7628</th>\n",
       "      <td>8942</td>\n",
       "      <td>WINSOMBR</td>\n",
       "      <td>Winsome Breweries Ltd</td>\n",
       "      <td>8.98</td>\n",
       "      <td>0</td>\n",
       "      <td>0</td>\n",
       "      <td>0.01</td>\n",
       "      <td>1</td>\n",
       "      <td>BE</td>\n",
       "      <td>CASH</td>\n",
       "      <td>BSE</td>\n",
       "      <td>INE391C01011</td>\n",
       "      <td>1</td>\n",
       "      <td>526471</td>\n",
       "      <td>-</td>\n",
       "    </tr>\n",
       "    <tr>\n",
       "      <th>7629</th>\n",
       "      <td>37708</td>\n",
       "      <td>WOODSVILA</td>\n",
       "      <td>Woodsvilla Ltd</td>\n",
       "      <td>3.02</td>\n",
       "      <td>0</td>\n",
       "      <td>0</td>\n",
       "      <td>0.01</td>\n",
       "      <td>1</td>\n",
       "      <td>BE</td>\n",
       "      <td>CASH</td>\n",
       "      <td>BSE</td>\n",
       "      <td>INE374J01020</td>\n",
       "      <td>1</td>\n",
       "      <td>526959</td>\n",
       "      <td>-</td>\n",
       "    </tr>\n",
       "    <tr>\n",
       "      <th>7630</th>\n",
       "      <td>6763</td>\n",
       "      <td>WWALUM</td>\n",
       "      <td>Worldwide Aluminium Ltd</td>\n",
       "      <td>12.46</td>\n",
       "      <td>0</td>\n",
       "      <td>0</td>\n",
       "      <td>0.01</td>\n",
       "      <td>1</td>\n",
       "      <td>BE</td>\n",
       "      <td>CASH</td>\n",
       "      <td>BSE</td>\n",
       "      <td>INE550D01010</td>\n",
       "      <td>1</td>\n",
       "      <td>526525</td>\n",
       "      <td>-</td>\n",
       "    </tr>\n",
       "    <tr>\n",
       "      <th>7631</th>\n",
       "      <td>214256</td>\n",
       "      <td>WORTH</td>\n",
       "      <td>Worth Investment &amp; Trading Company Ltd</td>\n",
       "      <td>28.65</td>\n",
       "      <td>0</td>\n",
       "      <td>0</td>\n",
       "      <td>0.05</td>\n",
       "      <td>1</td>\n",
       "      <td>BE</td>\n",
       "      <td>CASH</td>\n",
       "      <td>BSE</td>\n",
       "      <td>INE114O01012</td>\n",
       "      <td>1</td>\n",
       "      <td>538451</td>\n",
       "      <td>-</td>\n",
       "    </tr>\n",
       "    <tr>\n",
       "      <th>7632</th>\n",
       "      <td>4038</td>\n",
       "      <td>XPROINDIA</td>\n",
       "      <td>XPRO India Ltd</td>\n",
       "      <td>800.80</td>\n",
       "      <td>0</td>\n",
       "      <td>0</td>\n",
       "      <td>0.05</td>\n",
       "      <td>1</td>\n",
       "      <td>BE</td>\n",
       "      <td>CASH</td>\n",
       "      <td>BSE</td>\n",
       "      <td>INE445C01015</td>\n",
       "      <td>1</td>\n",
       "      <td>590013</td>\n",
       "      <td>-</td>\n",
       "    </tr>\n",
       "    <tr>\n",
       "      <th>7633</th>\n",
       "      <td>11267</td>\n",
       "      <td>YAMNINV</td>\n",
       "      <td>Yamini Investment Company Ltd</td>\n",
       "      <td>1.02</td>\n",
       "      <td>0</td>\n",
       "      <td>0</td>\n",
       "      <td>0.01</td>\n",
       "      <td>1</td>\n",
       "      <td>BE</td>\n",
       "      <td>CASH</td>\n",
       "      <td>BSE</td>\n",
       "      <td>INE457N01025</td>\n",
       "      <td>1</td>\n",
       "      <td>511012</td>\n",
       "      <td>-</td>\n",
       "    </tr>\n",
       "    <tr>\n",
       "      <th>7634</th>\n",
       "      <td>10824</td>\n",
       "      <td>YASHINNO</td>\n",
       "      <td>Yash Innoventures Ltd</td>\n",
       "      <td>28.85</td>\n",
       "      <td>0</td>\n",
       "      <td>0</td>\n",
       "      <td>0.05</td>\n",
       "      <td>1</td>\n",
       "      <td>BE</td>\n",
       "      <td>CASH</td>\n",
       "      <td>BSE</td>\n",
       "      <td>INE823D01011</td>\n",
       "      <td>1</td>\n",
       "      <td>523650</td>\n",
       "      <td>-</td>\n",
       "    </tr>\n",
       "    <tr>\n",
       "      <th>7635</th>\n",
       "      <td>10152</td>\n",
       "      <td>YASTF</td>\n",
       "      <td>Yash Trading &amp; Finance Ltd</td>\n",
       "      <td>17.65</td>\n",
       "      <td>0</td>\n",
       "      <td>0</td>\n",
       "      <td>0.05</td>\n",
       "      <td>1</td>\n",
       "      <td>BE</td>\n",
       "      <td>CASH</td>\n",
       "      <td>BSE</td>\n",
       "      <td>INE745A01012</td>\n",
       "      <td>1</td>\n",
       "      <td>512345</td>\n",
       "      <td>-</td>\n",
       "    </tr>\n",
       "    <tr>\n",
       "      <th>7636</th>\n",
       "      <td>61620</td>\n",
       "      <td>YASHO</td>\n",
       "      <td>Yasho Industries Ltd</td>\n",
       "      <td>1564.95</td>\n",
       "      <td>0</td>\n",
       "      <td>0</td>\n",
       "      <td>0.05</td>\n",
       "      <td>1</td>\n",
       "      <td>BE</td>\n",
       "      <td>CASH</td>\n",
       "      <td>BSE</td>\n",
       "      <td>INE616Z01012</td>\n",
       "      <td>1</td>\n",
       "      <td>541167</td>\n",
       "      <td>-</td>\n",
       "    </tr>\n",
       "    <tr>\n",
       "      <th>7637</th>\n",
       "      <td>12753</td>\n",
       "      <td>YORKEXP</td>\n",
       "      <td>York Exports Ltd</td>\n",
       "      <td>30.35</td>\n",
       "      <td>0</td>\n",
       "      <td>0</td>\n",
       "      <td>0.05</td>\n",
       "      <td>1</td>\n",
       "      <td>BE</td>\n",
       "      <td>CASH</td>\n",
       "      <td>BSE</td>\n",
       "      <td>INE057Q01018</td>\n",
       "      <td>1</td>\n",
       "      <td>530675</td>\n",
       "      <td>-</td>\n",
       "    </tr>\n",
       "    <tr>\n",
       "      <th>7638</th>\n",
       "      <td>7449</td>\n",
       "      <td>YUVRAAJHPL</td>\n",
       "      <td>Yuvraaj Hygiene Products Ltd</td>\n",
       "      <td>1.58</td>\n",
       "      <td>0</td>\n",
       "      <td>0</td>\n",
       "      <td>0.01</td>\n",
       "      <td>1</td>\n",
       "      <td>BE</td>\n",
       "      <td>CASH</td>\n",
       "      <td>BSE</td>\n",
       "      <td>INE139D01020</td>\n",
       "      <td>1</td>\n",
       "      <td>531663</td>\n",
       "      <td>-</td>\n",
       "    </tr>\n",
       "    <tr>\n",
       "      <th>7639</th>\n",
       "      <td>5867</td>\n",
       "      <td>ZENITHHE</td>\n",
       "      <td>Zenith Health Care Ltd</td>\n",
       "      <td>5.88</td>\n",
       "      <td>0</td>\n",
       "      <td>0</td>\n",
       "      <td>0.01</td>\n",
       "      <td>1</td>\n",
       "      <td>BE</td>\n",
       "      <td>CASH</td>\n",
       "      <td>BSE</td>\n",
       "      <td>INE812B01026</td>\n",
       "      <td>1</td>\n",
       "      <td>530665</td>\n",
       "      <td>-</td>\n",
       "    </tr>\n",
       "    <tr>\n",
       "      <th>7640</th>\n",
       "      <td>8741</td>\n",
       "      <td>ZENITHSTL</td>\n",
       "      <td>Zenith Steel Pipes &amp; Industries Ltd</td>\n",
       "      <td>7.64</td>\n",
       "      <td>0</td>\n",
       "      <td>0</td>\n",
       "      <td>0.01</td>\n",
       "      <td>1</td>\n",
       "      <td>BE</td>\n",
       "      <td>CASH</td>\n",
       "      <td>BSE</td>\n",
       "      <td>INE318D01020</td>\n",
       "      <td>1</td>\n",
       "      <td>531845</td>\n",
       "      <td>-</td>\n",
       "    </tr>\n",
       "    <tr>\n",
       "      <th>7641</th>\n",
       "      <td>9740</td>\n",
       "      <td>ZENLABS</td>\n",
       "      <td>Zenlabs Ethica Ltd</td>\n",
       "      <td>45.90</td>\n",
       "      <td>0</td>\n",
       "      <td>0</td>\n",
       "      <td>0.05</td>\n",
       "      <td>1</td>\n",
       "      <td>BE</td>\n",
       "      <td>CASH</td>\n",
       "      <td>BSE</td>\n",
       "      <td>INE546F01013</td>\n",
       "      <td>1</td>\n",
       "      <td>530697</td>\n",
       "      <td>-</td>\n",
       "    </tr>\n",
       "    <tr>\n",
       "      <th>7642</th>\n",
       "      <td>16854</td>\n",
       "      <td>ZODIAC</td>\n",
       "      <td>Zodiac Energy Ltd</td>\n",
       "      <td>116.70</td>\n",
       "      <td>0</td>\n",
       "      <td>0</td>\n",
       "      <td>0.05</td>\n",
       "      <td>1</td>\n",
       "      <td>BE</td>\n",
       "      <td>CASH</td>\n",
       "      <td>BSE</td>\n",
       "      <td>INE761Y01019</td>\n",
       "      <td>1</td>\n",
       "      <td>543416</td>\n",
       "      <td>-</td>\n",
       "    </tr>\n",
       "  </tbody>\n",
       "</table>\n",
       "<p>7643 rows × 15 columns</p>\n",
       "</div>"
      ],
      "text/plain": [
       "      instrumentToken instrumentName  \\\n",
       "0                9516      20MICRONS   \n",
       "1               43865      3IINFOLTD   \n",
       "2                 891        3MINDIA   \n",
       "3                 607         3PLAND   \n",
       "4               13140         5PAISA   \n",
       "5                5653        63MOONS   \n",
       "6               10586       A2ZINFRA   \n",
       "7               94320         AAKASH   \n",
       "8               16680        AREYDRG   \n",
       "9               15947          AARON   \n",
       "10                717     AARTIDRUGS   \n",
       "11                411       AARTIIND   \n",
       "12              27206      AARTISURF   \n",
       "13               4968      AARVEEDEN   \n",
       "14               5038          AARVI   \n",
       "15             109230          AAVAS   \n",
       "16                413           ABAN   \n",
       "17                720            ABB   \n",
       "18                904     ABBOTINDIA   \n",
       "19                727            ACC   \n",
       "20               2574        ACCELYA   \n",
       "21              27632       ACCURACY   \n",
       "22              14111        ACRYSIL   \n",
       "23               8244            ACE   \n",
       "24                729       ADANIENT   \n",
       "25              14443     ADANIGREEN   \n",
       "26               9077     ADANIPORTS   \n",
       "27               9907     ADANIPOWER   \n",
       "28             113066           ATGL   \n",
       "29              14878     ADANITRANS   \n",
       "...               ...            ...   \n",
       "7613             5464        VISTAPH   \n",
       "7614            15121        VITESSE   \n",
       "7615            11402        VIVANZA   \n",
       "7616             9590        VJTFEDU   \n",
       "7617            17622       VKJINFRA   \n",
       "7618            90056          VOLLF   \n",
       "7619             7678          WSIND   \n",
       "7620             8482        WANBURY   \n",
       "7621            13060      WARDWIZPP   \n",
       "7622            13060      WARDWIZPP   \n",
       "7623            37781       WELLNESS   \n",
       "7624            37866          WELTI   \n",
       "7625           210597     WESTLEIRES   \n",
       "7626            13283        WMINIMT   \n",
       "7627            10146         WINROC   \n",
       "7628             8942       WINSOMBR   \n",
       "7629            37708      WOODSVILA   \n",
       "7630             6763         WWALUM   \n",
       "7631           214256          WORTH   \n",
       "7632             4038      XPROINDIA   \n",
       "7633            11267        YAMNINV   \n",
       "7634            10824       YASHINNO   \n",
       "7635            10152          YASTF   \n",
       "7636            61620          YASHO   \n",
       "7637            12753        YORKEXP   \n",
       "7638             7449     YUVRAAJHPL   \n",
       "7639             5867       ZENITHHE   \n",
       "7640             8741      ZENITHSTL   \n",
       "7641             9740        ZENLABS   \n",
       "7642            16854         ZODIAC   \n",
       "\n",
       "                                                   name  lastPrice  expiry  \\\n",
       "0                                        20 Microns Ltd      71.95       0   \n",
       "1                                       3i Infotech Ltd      42.55       0   \n",
       "2                                          3M India Ltd   21928.35       0   \n",
       "3                                  3P Land Holdings Ltd      15.35       0   \n",
       "4                                    5Paisa Capital Ltd     283.75       0   \n",
       "5                             63 Moons Technologies Ltd     186.40       0   \n",
       "6                             A2Z Infra Engineering Ltd      11.50       0   \n",
       "7                       Aakash Exploration Services Ltd      14.15       0   \n",
       "8                     Aarey Drugs & Pharmaceuticals Ltd      35.05       0   \n",
       "9                                  Aaron Industries Ltd     126.20       0   \n",
       "10                                      Aarti Drugs Ltd     437.90       0   \n",
       "11                                 Aarti Industries Ltd     728.40       0   \n",
       "12                                Aarti Surfactants Ltd     719.30       0   \n",
       "13                          Aarvee Denims & Exports Ltd      18.35       0   \n",
       "14                                      Aarvi Encon Ltd      90.50       0   \n",
       "15                                 AAVAS Financiers Ltd    1992.45       0   \n",
       "16                                    Aban Offshore Ltd      43.95       0   \n",
       "17                                        ABB India Ltd    2559.45       0   \n",
       "18                                     Abbott India Ltd   19746.95       0   \n",
       "19                                              ACC Ltd    2140.35       0   \n",
       "20                          Accelya Solutions India Ltd     902.45       0   \n",
       "21                                Accuracy Shipping Ltd     202.45       0   \n",
       "22                                          Acrysil Ltd     580.45       0   \n",
       "23                    Action Construction Equipment Ltd     220.45       0   \n",
       "24                                Adani Enterprises Ltd    2405.25       0   \n",
       "25                               Adani Green Energy Ltd    2072.65       0   \n",
       "26              Adani Ports & Special Economic Zone Ltd     730.90       0   \n",
       "27                                      Adani Power Ltd     286.75       0   \n",
       "28                                  Adani Total Gas Ltd    2807.70       0   \n",
       "29                               Adani Transmission Ltd    2889.35       0   \n",
       "...                                                 ...        ...     ...   \n",
       "7613                          Vista Pharmaceuticals Ltd       6.72       0   \n",
       "7614                                   Vitesse Agro Ltd      34.25       0   \n",
       "7615                            Vivanza Biosciences Ltd     195.00       0   \n",
       "7616                               VJTF Eduservices Ltd      57.00       0   \n",
       "7617                            VKJ Infradevelopers Ltd       0.41       0   \n",
       "7618                     Voltaire Leasing & Finance Ltd      27.50       0   \n",
       "7619                         W S Industries (India) Ltd      13.89       0   \n",
       "7620                                        Wanbury Ltd      65.50       0   \n",
       "7621  Wardwizard Innovations & Mobility Ltd PartlyPa...      18.67       0   \n",
       "7622  Wardwizard Innovations and Mobility Limited - ...      18.67       0   \n",
       "7623                                  Wellness Noni Ltd       7.32       0   \n",
       "7624                        Welterman International Ltd       7.71       0   \n",
       "7625                           West Leisure Resorts Ltd     137.00       0   \n",
       "7626                               Western Ministil Ltd       0.40       0   \n",
       "7627                       Winro Commercial (India) Ltd     244.45       0   \n",
       "7628                              Winsome Breweries Ltd       8.98       0   \n",
       "7629                                     Woodsvilla Ltd       3.02       0   \n",
       "7630                            Worldwide Aluminium Ltd      12.46       0   \n",
       "7631             Worth Investment & Trading Company Ltd      28.65       0   \n",
       "7632                                     XPRO India Ltd     800.80       0   \n",
       "7633                      Yamini Investment Company Ltd       1.02       0   \n",
       "7634                              Yash Innoventures Ltd      28.85       0   \n",
       "7635                         Yash Trading & Finance Ltd      17.65       0   \n",
       "7636                               Yasho Industries Ltd    1564.95       0   \n",
       "7637                                   York Exports Ltd      30.35       0   \n",
       "7638                       Yuvraaj Hygiene Products Ltd       1.58       0   \n",
       "7639                             Zenith Health Care Ltd       5.88       0   \n",
       "7640                Zenith Steel Pipes & Industries Ltd       7.64       0   \n",
       "7641                                 Zenlabs Ethica Ltd      45.90       0   \n",
       "7642                                  Zodiac Energy Ltd     116.70       0   \n",
       "\n",
       "      strike  tickSize  lotSize instrumentType segment exchange          isin  \\\n",
       "0          0      0.05        1             EQ    CASH      NSE  INE144J01027   \n",
       "1          0      0.05        1             EQ    CASH      NSE  INE748C01038   \n",
       "2          0      0.05        1             EQ    CASH      NSE  INE470A01017   \n",
       "3          0      0.05        1             EQ    CASH      NSE  INE105C01023   \n",
       "4          0      0.05        1             EQ    CASH      NSE  INE618L01018   \n",
       "5          0      0.05        1             EQ    CASH      NSE  INE111B01023   \n",
       "6          0      0.05        1             EQ    CASH      NSE  INE619I01012   \n",
       "7          0      0.05        1             EQ    CASH      NSE  INE087Z01024   \n",
       "8          0      0.05        1             EQ    CASH      NSE  INE198H01019   \n",
       "9          0      0.05        1             EQ    CASH      NSE  INE721Z01010   \n",
       "10         0      0.05        1             EQ    CASH      NSE  INE767A01016   \n",
       "11         0      0.05        1             EQ    CASH      NSE  INE769A01020   \n",
       "12         0      0.05        1             EQ    CASH      NSE  INE09EO01013   \n",
       "13         0      0.05        1             EQ    CASH      NSE  INE273D01019   \n",
       "14         0      0.05        1             EQ    CASH      NSE  INE754X01016   \n",
       "15         0      0.05        1             EQ    CASH      NSE  INE216P01012   \n",
       "16         0      0.05        1             EQ    CASH      NSE  INE421A01028   \n",
       "17         0      0.05        1             EQ    CASH      NSE  INE117A01022   \n",
       "18         0      0.05        1             EQ    CASH      NSE  INE358A01014   \n",
       "19         0      0.05        1             EQ    CASH      NSE  INE012A01025   \n",
       "20         0      0.05        1             EQ    CASH      NSE  INE793A01012   \n",
       "21         0      0.05        1             EQ    CASH      NSE  INE648Z01015   \n",
       "22         0      0.05        1             EQ    CASH      NSE  INE482D01024   \n",
       "23         0      0.05        1             EQ    CASH      NSE  INE731H01025   \n",
       "24         0      0.05        1             EQ    CASH      NSE  INE423A01024   \n",
       "25         0      0.05        1             EQ    CASH      NSE  INE364U01010   \n",
       "26         0      0.05        1             EQ    CASH      NSE  INE742F01042   \n",
       "27         0      0.05        1             EQ    CASH      NSE  INE814H01011   \n",
       "28         0      0.05        1             EQ    CASH      NSE  INE399L01023   \n",
       "29         0      0.05        1             EQ    CASH      NSE  INE931S01010   \n",
       "...      ...       ...      ...            ...     ...      ...           ...   \n",
       "7613       0      0.01        1             BE    CASH      BSE  INE427C01021   \n",
       "7614       0      0.05        1             BE    CASH      BSE  INE550U01014   \n",
       "7615       0      0.05        1             BE    CASH      BSE  INE984E01027   \n",
       "7616       0      0.05        1             BE    CASH      BSE  INE117F01013   \n",
       "7617       0      0.01        1             BE    CASH      BSE  INE211P01021   \n",
       "7618       0      0.05        1             BE    CASH      BSE  INE763D01019   \n",
       "7619       0      0.01        1             BE    CASH      BSE  INE100D01014   \n",
       "7620       0      0.05        1             BE    CASH      BSE  INE107F01022   \n",
       "7621       0      0.01        1             ZZ       -      BSE  IN9945P01014   \n",
       "7622       0      0.01        1             ZZ       -      BSE  IN9945P01014   \n",
       "7623       0      0.01      100             BE    CASH      BSE  INE571H01017   \n",
       "7624       0      0.01        1             BE    CASH      BSE  INE662D01013   \n",
       "7625       0      0.05        1             BE    CASH      BSE  INE266P01017   \n",
       "7626       0      0.01       50             BE    CASH      BSE  INE187U01015   \n",
       "7627       0      0.05        1             BE    CASH      BSE  INE837E01019   \n",
       "7628       0      0.01        1             BE    CASH      BSE  INE391C01011   \n",
       "7629       0      0.01        1             BE    CASH      BSE  INE374J01020   \n",
       "7630       0      0.01        1             BE    CASH      BSE  INE550D01010   \n",
       "7631       0      0.05        1             BE    CASH      BSE  INE114O01012   \n",
       "7632       0      0.05        1             BE    CASH      BSE  INE445C01015   \n",
       "7633       0      0.01        1             BE    CASH      BSE  INE457N01025   \n",
       "7634       0      0.05        1             BE    CASH      BSE  INE823D01011   \n",
       "7635       0      0.05        1             BE    CASH      BSE  INE745A01012   \n",
       "7636       0      0.05        1             BE    CASH      BSE  INE616Z01012   \n",
       "7637       0      0.05        1             BE    CASH      BSE  INE057Q01018   \n",
       "7638       0      0.01        1             BE    CASH      BSE  INE139D01020   \n",
       "7639       0      0.01        1             BE    CASH      BSE  INE812B01026   \n",
       "7640       0      0.01        1             BE    CASH      BSE  INE318D01020   \n",
       "7641       0      0.05        1             BE    CASH      BSE  INE546F01013   \n",
       "7642       0      0.05        1             BE    CASH      BSE  INE761Y01019   \n",
       "\n",
       "      multiplier  exchangeToken OptionType  \n",
       "0              1          16921         -   \n",
       "1              1           6232         -   \n",
       "2              1            474         -   \n",
       "3              1           2595         -   \n",
       "4              1            445         -   \n",
       "5              1          11868         -   \n",
       "6              1          20906         -   \n",
       "7              1            235         -   \n",
       "8              1           5245         -   \n",
       "9              1           1030         -   \n",
       "10             1           4481         -   \n",
       "11             1              7         -   \n",
       "12             1          19233         -   \n",
       "13             1          13771         -   \n",
       "14             1          19073         -   \n",
       "15             1           5385         -   \n",
       "16             1             10         -   \n",
       "17             1             13         -   \n",
       "18             1          17903         -   \n",
       "19             1             22         -   \n",
       "20             1           7053         -   \n",
       "21             1           1465         -   \n",
       "22             1           1879         -   \n",
       "23             1          13587         -   \n",
       "24             1             25         -   \n",
       "25             1           3563         -   \n",
       "26             1          15083         -   \n",
       "27             1          17388         -   \n",
       "28             1           6066         -   \n",
       "29             1          10217         -   \n",
       "...          ...            ...        ...  \n",
       "7613           1         524711         -   \n",
       "7614           1         540823         -   \n",
       "7615           1         530057         -   \n",
       "7616           1         509026         -   \n",
       "7617           1         536128         -   \n",
       "7618           1         509038         -   \n",
       "7619           1         504220         -   \n",
       "7620           1         524212         -   \n",
       "7621           1         890164         -   \n",
       "7622           1         890164         -   \n",
       "7623           1         531211         -   \n",
       "7624           1         526431         -   \n",
       "7625           1         538382         -   \n",
       "7626           1         504998         -   \n",
       "7627           1         512022         -   \n",
       "7628           1         526471         -   \n",
       "7629           1         526959         -   \n",
       "7630           1         526525         -   \n",
       "7631           1         538451         -   \n",
       "7632           1         590013         -   \n",
       "7633           1         511012         -   \n",
       "7634           1         523650         -   \n",
       "7635           1         512345         -   \n",
       "7636           1         541167         -   \n",
       "7637           1         530675         -   \n",
       "7638           1         531663         -   \n",
       "7639           1         530665         -   \n",
       "7640           1         531845         -   \n",
       "7641           1         530697         -   \n",
       "7642           1         543416         -   \n",
       "\n",
       "[7643 rows x 15 columns]"
      ]
     },
     "execution_count": 12,
     "metadata": {},
     "output_type": "execute_result"
    }
   ],
   "source": [
    "pd.read_csv('https://preferred.kotaksecurities.com/security/production/TradeApiInstruments_Cash_18_07_2022.txt',delimiter = '|')"
   ]
  },
  {
   "cell_type": "markdown",
   "metadata": {},
   "source": [
    "### data extract above ##"
   ]
  },
  {
   "cell_type": "code",
   "execution_count": 144,
   "metadata": {},
   "outputs": [],
   "source": [
    "def train_fn(data_tf,lookback_period,epochs,l_event):\n",
    "  #converting dataset into x_train and y_train\n",
    "    scaler = MinMaxScaler(feature_range=(0, 1))\n",
    "    scaled_data = scaler.fit_transform(data_tf[['Close']])  \n",
    "    \n",
    "    x, y = [], []\n",
    "    for i in range(lookback_period,len(data_tf)):\n",
    "        x.append(scaled_data[i-lookback_period:i,0])\n",
    "        y.append(scaled_data[i,0])\n",
    "     \n",
    "    x = pd.DataFrame(x)\n",
    "    y = pd.DataFrame(y)\n",
    "\n",
    "    train = round(len(x)*0.90) \n",
    "    val =  round(len(x)*0.90) \n",
    "    test =  round(len(x))\n",
    "    \n",
    "\n",
    "    x_train,y_train = x[:train],y[:train]\n",
    "    x_val,y_val = x[train:val],y[train:val]\n",
    "    x_test,y_test = x[val:test],y[val:test]\n",
    "    \n",
    "    # create and fit the LSTM network\n",
    "    model = Sequential()\n",
    "    model.add(LSTM(units=50, return_sequences=True, input_shape=(x_train.shape[1],1)))\n",
    "    model.add(LSTM(units=50,activation = 'relu'))\n",
    "    model.add(Dense(1))\n",
    "    model.add(Dense(1))\n",
    "    \n",
    "    model.compile(loss='mean_squared_error', optimizer='adam',metrics=['mae','mape'])\n",
    "    model_history  = model.fit(x_train, y_train, epochs=epochs, batch_size=5, verbose=1,validation_data=[x_val,y_val] )\n",
    "    \n",
    "    \n",
    "    ## test metrics\n",
    "    predictions = model.predict(x_test)\n",
    "    test_predictions = scaler.inverse_transform(predictions)\n",
    "    test_close_price = scaler.inverse_transform(y_test)\n",
    "    \n",
    "    mae=mean_absolute_error(test_predictions[l_event:],test_close_price[l_event:])\n",
    "    mape = np. mean(np. abs((test_close_price[l_event:] - test_predictions[l_event:]) / test_close_price[l_event:])) * 100\n",
    "    \n",
    "    return model_history, model,mae,mape,x_test,y_test,scaler"
   ]
  },
  {
   "cell_type": "code",
   "execution_count": 145,
   "metadata": {
    "collapsed": true
   },
   "outputs": [
    {
     "name": "stdout",
     "output_type": "stream",
     "text": [
      "Epoch 1/50\n",
      "793/793 [==============================] - 31s 36ms/step - loss: 0.0028 - mae: 0.0229 - mape: 13130.3652\n",
      "Epoch 2/50\n",
      "793/793 [==============================] - 31s 39ms/step - loss: 4.9026e-04 - mae: 0.0158 - mape: 10979.6758\n",
      "Epoch 3/50\n",
      "793/793 [==============================] - 32s 40ms/step - loss: 3.9132e-04 - mae: 0.0139 - mape: 12622.1172\n",
      "Epoch 4/50\n",
      "793/793 [==============================] - 32s 40ms/step - loss: 3.1602e-04 - mae: 0.0124 - mape: 10769.0322\n",
      "Epoch 5/50\n",
      "793/793 [==============================] - 31s 40ms/step - loss: 2.3944e-04 - mae: 0.0105 - mape: 12036.8154\n",
      "Epoch 6/50\n",
      "793/793 [==============================] - 32s 41ms/step - loss: 2.3595e-04 - mae: 0.0107 - mape: 8963.7354\n",
      "Epoch 7/50\n",
      "793/793 [==============================] - 279s 353ms/step - loss: 1.9036e-04 - mae: 0.0095 - mape: 10519.5957\n",
      "Epoch 8/50\n",
      "793/793 [==============================] - 2225s 3s/step - loss: 1.8068e-04 - mae: 0.0092 - mape: 6436.1826\n",
      "Epoch 9/50\n",
      "793/793 [==============================] - 250s 316ms/step - loss: 1.7389e-04 - mae: 0.0088 - mape: 3681.2710\n",
      "Epoch 10/50\n",
      "793/793 [==============================] - 252s 318ms/step - loss: 1.5045e-04 - mae: 0.0083 - mape: 6872.0908\n",
      "Epoch 11/50\n",
      "793/793 [==============================] - 4120s 5s/step - loss: 1.6580e-04 - mae: 0.0090 - mape: 8705.4971\n",
      "Epoch 12/50\n",
      "793/793 [==============================] - 32s 40ms/step - loss: 1.3791e-04 - mae: 0.0078 - mape: 4190.7944\n",
      "Epoch 13/50\n",
      "793/793 [==============================] - 34s 42ms/step - loss: 1.3679e-04 - mae: 0.0079 - mape: 6034.5464\n",
      "Epoch 14/50\n",
      "793/793 [==============================] - 32s 41ms/step - loss: 1.5405e-04 - mae: 0.0083 - mape: 4418.6841\n",
      "Epoch 15/50\n",
      "793/793 [==============================] - 29s 36ms/step - loss: 1.4263e-04 - mae: 0.0080 - mape: 5514.7476\n",
      "Epoch 16/50\n",
      "793/793 [==============================] - 31s 40ms/step - loss: 1.5469e-04 - mae: 0.0084 - mape: 7038.1250\n",
      "Epoch 17/50\n",
      "793/793 [==============================] - 31s 39ms/step - loss: 1.3051e-04 - mae: 0.0075 - mape: 5690.9375\n",
      "Epoch 18/50\n",
      "793/793 [==============================] - 33s 41ms/step - loss: 1.3026e-04 - mae: 0.0076 - mape: 5036.1094\n",
      "Epoch 19/50\n",
      "793/793 [==============================] - 32s 40ms/step - loss: 1.3201e-04 - mae: 0.0076 - mape: 4333.4717\n",
      "Epoch 20/50\n",
      "793/793 [==============================] - 31s 39ms/step - loss: 1.3702e-04 - mae: 0.0077 - mape: 6404.2300\n",
      "Epoch 21/50\n",
      "793/793 [==============================] - 33s 42ms/step - loss: 1.1766e-04 - mae: 0.0071 - mape: 4386.7505\n",
      "Epoch 22/50\n",
      "793/793 [==============================] - 32s 40ms/step - loss: 1.2893e-04 - mae: 0.0075 - mape: 4713.0698\n",
      "Epoch 23/50\n",
      "793/793 [==============================] - 31s 39ms/step - loss: 1.2398e-04 - mae: 0.0073 - mape: 4012.5632\n",
      "Epoch 24/50\n",
      "793/793 [==============================] - 34s 43ms/step - loss: 1.2415e-04 - mae: 0.0073 - mape: 3192.8665\n",
      "Epoch 25/50\n",
      "793/793 [==============================] - 30s 38ms/step - loss: 1.2513e-04 - mae: 0.0074 - mape: 4633.5713\n",
      "Epoch 26/50\n",
      "793/793 [==============================] - 31s 39ms/step - loss: 1.2003e-04 - mae: 0.0071 - mape: 4482.1816\n",
      "Epoch 27/50\n",
      "793/793 [==============================] - 30s 38ms/step - loss: 1.2455e-04 - mae: 0.0072 - mape: 3259.5876\n",
      "Epoch 28/50\n",
      "793/793 [==============================] - 30s 38ms/step - loss: 1.2046e-04 - mae: 0.0071 - mape: 3061.1355\n",
      "Epoch 29/50\n",
      "793/793 [==============================] - 30s 38ms/step - loss: 1.1410e-04 - mae: 0.0068 - mape: 5218.1445\n",
      "Epoch 30/50\n",
      "793/793 [==============================] - 30s 38ms/step - loss: 1.1979e-04 - mae: 0.0071 - mape: 6961.1724\n",
      "Epoch 31/50\n",
      "793/793 [==============================] - 30s 38ms/step - loss: 1.0946e-04 - mae: 0.0066 - mape: 5086.3486\n",
      "Epoch 32/50\n",
      "793/793 [==============================] - 31s 39ms/step - loss: 1.2121e-04 - mae: 0.0071 - mape: 3658.3386\n",
      "Epoch 33/50\n",
      "793/793 [==============================] - 30s 38ms/step - loss: 1.1910e-04 - mae: 0.0069 - mape: 5318.4536\n",
      "Epoch 34/50\n",
      "793/793 [==============================] - 30s 38ms/step - loss: 1.1825e-04 - mae: 0.0071 - mape: 5393.3062\n",
      "Epoch 35/50\n",
      "793/793 [==============================] - 30s 38ms/step - loss: 1.1545e-04 - mae: 0.0069 - mape: 3764.8850\n",
      "Epoch 36/50\n",
      "793/793 [==============================] - 30s 38ms/step - loss: 1.1519e-04 - mae: 0.0068 - mape: 615.9755\n",
      "Epoch 37/50\n",
      "793/793 [==============================] - 30s 38ms/step - loss: 1.1733e-04 - mae: 0.0071 - mape: 6091.6675\n",
      "Epoch 38/50\n",
      "793/793 [==============================] - 30s 38ms/step - loss: 1.1834e-04 - mae: 0.0071 - mape: 4115.6338\n",
      "Epoch 39/50\n",
      "793/793 [==============================] - 30s 38ms/step - loss: 1.1328e-04 - mae: 0.0068 - mape: 3616.5315\n",
      "Epoch 40/50\n",
      "793/793 [==============================] - 30s 38ms/step - loss: 1.2013e-04 - mae: 0.0071 - mape: 3933.3896\n",
      "Epoch 41/50\n",
      "793/793 [==============================] - 30s 38ms/step - loss: 1.1906e-04 - mae: 0.0070 - mape: 3625.4368\n",
      "Epoch 42/50\n",
      "793/793 [==============================] - 31s 39ms/step - loss: 1.0915e-04 - mae: 0.0066 - mape: 86.5066\n",
      "Epoch 43/50\n",
      "793/793 [==============================] - 30s 38ms/step - loss: 1.1452e-04 - mae: 0.0069 - mape: 4817.9976\n",
      "Epoch 44/50\n",
      "793/793 [==============================] - 31s 39ms/step - loss: 1.1100e-04 - mae: 0.0067 - mape: 3002.7271\n",
      "Epoch 45/50\n",
      "793/793 [==============================] - 31s 38ms/step - loss: 1.1217e-04 - mae: 0.0068 - mape: 4053.6753\n",
      "Epoch 46/50\n",
      "793/793 [==============================] - 30s 38ms/step - loss: 1.1407e-04 - mae: 0.0068 - mape: 6014.5566\n",
      "Epoch 47/50\n",
      "793/793 [==============================] - 31s 39ms/step - loss: 1.1185e-04 - mae: 0.0068 - mape: 2826.5120\n",
      "Epoch 48/50\n",
      "793/793 [==============================] - 31s 39ms/step - loss: 1.1026e-04 - mae: 0.0068 - mape: 3456.1296\n",
      "Epoch 49/50\n",
      "793/793 [==============================] - 31s 40ms/step - loss: 1.1577e-04 - mae: 0.0070 - mape: 2990.2991\n",
      "Epoch 50/50\n",
      "793/793 [==============================] - 31s 39ms/step - loss: 1.1248e-04 - mae: 0.0069 - mape: 4615.8975\n"
     ]
    },
    {
     "data": {
      "application/javascript": [
       "\n",
       "        if (window._pyforest_update_imports_cell) { window._pyforest_update_imports_cell('import numpy as np'); }\n",
       "    "
      ],
      "text/plain": [
       "<IPython.core.display.Javascript object>"
      ]
     },
     "metadata": {},
     "output_type": "display_data"
    },
    {
     "data": {
      "application/javascript": [
       "\n",
       "        if (window._pyforest_update_imports_cell) { window._pyforest_update_imports_cell('import numpy as np'); }\n",
       "    "
      ],
      "text/plain": [
       "<IPython.core.display.Javascript object>"
      ]
     },
     "metadata": {},
     "output_type": "display_data"
    }
   ],
   "source": [
    "model_history_5, model_5,mae_5,mape_5,x_test,y_test,scaler = train_fn(data_tf_5m,lookback_period=90,epochs=50,l_event=-100)\n",
    "#model_history_15, model_15,mae_15,mape_15,x_test,y_test,scaler = train_fn(data_tf_15m,lookback_period=60,epochs=50,l_event=-10)\n"
   ]
  },
  {
   "cell_type": "code",
   "execution_count": 13,
   "metadata": {
    "collapsed": true
   },
   "outputs": [
    {
     "name": "stdout",
     "output_type": "stream",
     "text": [
      "Epoch 1/50\n",
      "747/747 [==============================] - 15s 16ms/step - loss: 0.0029 - mae: 0.0209 - mape: 4599.1147\n",
      "Epoch 2/50\n",
      "747/747 [==============================] - 9s 13ms/step - loss: 4.6589e-04 - mae: 0.0132 - mape: 4424.1157\n",
      "Epoch 3/50\n",
      "747/747 [==============================] - 10s 14ms/step - loss: 2.7269e-04 - mae: 0.0101 - mape: 5486.2578\n",
      "Epoch 4/50\n",
      "747/747 [==============================] - 9s 13ms/step - loss: 2.3082e-04 - mae: 0.0094 - mape: 5332.1108\n",
      "Epoch 5/50\n",
      "747/747 [==============================] - 10s 13ms/step - loss: 1.7075e-04 - mae: 0.0083 - mape: 3415.4209\n",
      "Epoch 6/50\n",
      "747/747 [==============================] - 11s 15ms/step - loss: 1.6228e-04 - mae: 0.0081 - mape: 4559.5776\n",
      "Epoch 7/50\n",
      "747/747 [==============================] - 12s 16ms/step - loss: 1.7151e-04 - mae: 0.0081 - mape: 4871.0977\n",
      "Epoch 8/50\n",
      "747/747 [==============================] - 13s 17ms/step - loss: 1.1458e-04 - mae: 0.0067 - mape: 8467.1436\n",
      "Epoch 9/50\n",
      "747/747 [==============================] - 14s 19ms/step - loss: 9.8164e-05 - mae: 0.0063 - mape: 5216.1519\n",
      "Epoch 10/50\n",
      "747/747 [==============================] - 20s 27ms/step - loss: 9.1505e-05 - mae: 0.0059 - mape: 3767.1003\n",
      "Epoch 11/50\n",
      "747/747 [==============================] - 20s 27ms/step - loss: 1.1429e-04 - mae: 0.0064 - mape: 6116.4360\n",
      "Epoch 12/50\n",
      "747/747 [==============================] - 16s 21ms/step - loss: 1.3548e-04 - mae: 0.0064 - mape: 7305.8423\n",
      "Epoch 13/50\n",
      "747/747 [==============================] - 13s 17ms/step - loss: 1.0753e-04 - mae: 0.0064 - mape: 8709.3574\n",
      "Epoch 14/50\n",
      "747/747 [==============================] - 12s 16ms/step - loss: 6.9041e-05 - mae: 0.0053 - mape: 4054.3181\n",
      "Epoch 15/50\n",
      "747/747 [==============================] - 13s 17ms/step - loss: 8.6172e-05 - mae: 0.0057 - mape: 3162.6721\n",
      "Epoch 16/50\n",
      "747/747 [==============================] - 16s 21ms/step - loss: 8.6778e-05 - mae: 0.0059 - mape: 2961.0442\n",
      "Epoch 17/50\n",
      "747/747 [==============================] - 17s 23ms/step - loss: 7.5104e-05 - mae: 0.0054 - mape: 4106.8867\n",
      "Epoch 18/50\n",
      "747/747 [==============================] - 15s 20ms/step - loss: 7.5067e-05 - mae: 0.0055 - mape: 3407.5349\n",
      "Epoch 19/50\n",
      "747/747 [==============================] - 15s 20ms/step - loss: 9.0624e-05 - mae: 0.0061 - mape: 1647.0577\n",
      "Epoch 20/50\n",
      "747/747 [==============================] - 15s 20ms/step - loss: 8.0138e-05 - mae: 0.0056 - mape: 5406.9463\n",
      "Epoch 21/50\n",
      "747/747 [==============================] - 14s 19ms/step - loss: 7.3401e-05 - mae: 0.0054 - mape: 1629.8491\n",
      "Epoch 22/50\n",
      "747/747 [==============================] - 15s 20ms/step - loss: 7.3820e-05 - mae: 0.0052 - mape: 3182.7324\n",
      "Epoch 23/50\n",
      "747/747 [==============================] - 20s 27ms/step - loss: 7.5350e-05 - mae: 0.0053 - mape: 3321.0818\n",
      "Epoch 24/50\n",
      "747/747 [==============================] - 19s 25ms/step - loss: 7.1197e-05 - mae: 0.0051 - mape: 1837.5276\n",
      "Epoch 25/50\n",
      "747/747 [==============================] - 22s 30ms/step - loss: 7.0122e-05 - mae: 0.0051 - mape: 1684.3600\n",
      "Epoch 26/50\n",
      "747/747 [==============================] - 18s 23ms/step - loss: 6.8289e-05 - mae: 0.0050 - mape: 2802.8828\n",
      "Epoch 27/50\n",
      "747/747 [==============================] - 16s 21ms/step - loss: 7.0154e-05 - mae: 0.0052 - mape: 154.1703\n",
      "Epoch 28/50\n",
      "747/747 [==============================] - 15s 20ms/step - loss: 6.2135e-05 - mae: 0.0050 - mape: 305.3024\n",
      "Epoch 29/50\n",
      "747/747 [==============================] - 16s 21ms/step - loss: 6.7239e-05 - mae: 0.0049 - mape: 3055.9919\n",
      "Epoch 30/50\n",
      "747/747 [==============================] - 15s 21ms/step - loss: 7.1664e-05 - mae: 0.0051 - mape: 1735.1222\n",
      "Epoch 31/50\n",
      "747/747 [==============================] - 15s 20ms/step - loss: 6.8149e-05 - mae: 0.0050 - mape: 1666.4628\n",
      "Epoch 32/50\n",
      "747/747 [==============================] - 14s 19ms/step - loss: 6.2265e-05 - mae: 0.0046 - mape: 1857.9833\n",
      "Epoch 33/50\n",
      "747/747 [==============================] - 14s 18ms/step - loss: 7.1663e-05 - mae: 0.0051 - mape: 2895.2976\n",
      "Epoch 34/50\n",
      "747/747 [==============================] - 16s 22ms/step - loss: 5.8764e-05 - mae: 0.0045 - mape: 2037.7581\n",
      "Epoch 35/50\n",
      "747/747 [==============================] - 19s 25ms/step - loss: 6.4727e-05 - mae: 0.0048 - mape: 1085.7280\n",
      "Epoch 36/50\n",
      "747/747 [==============================] - 17s 23ms/step - loss: 5.9403e-05 - mae: 0.0043 - mape: 2316.3330\n",
      "Epoch 37/50\n",
      "747/747 [==============================] - 17s 23ms/step - loss: 5.9980e-05 - mae: 0.0046 - mape: 2910.9163\n",
      "Epoch 38/50\n",
      "747/747 [==============================] - 20s 26ms/step - loss: 6.0341e-05 - mae: 0.0047 - mape: 636.9158\n",
      "Epoch 39/50\n",
      "747/747 [==============================] - 17s 23ms/step - loss: 6.1471e-05 - mae: 0.0047 - mape: 1323.8809\n",
      "Epoch 40/50\n",
      "747/747 [==============================] - 15s 21ms/step - loss: 7.1649e-05 - mae: 0.0051 - mape: 1796.7334\n",
      "Epoch 41/50\n",
      "747/747 [==============================] - 15s 20ms/step - loss: 7.1000e-05 - mae: 0.0050 - mape: 1646.8645\n",
      "Epoch 42/50\n",
      "747/747 [==============================] - 14s 19ms/step - loss: 5.7113e-05 - mae: 0.0044 - mape: 414.7928\n",
      "Epoch 43/50\n",
      "747/747 [==============================] - 14s 18ms/step - loss: 6.0390e-05 - mae: 0.0046 - mape: 2156.3696\n",
      "Epoch 44/50\n",
      "747/747 [==============================] - 14s 18ms/step - loss: 5.8170e-05 - mae: 0.0047 - mape: 219.3134\n",
      "Epoch 45/50\n",
      "747/747 [==============================] - 14s 18ms/step - loss: 6.5135e-05 - mae: 0.0048 - mape: 693.4328\n",
      "Epoch 46/50\n",
      "747/747 [==============================] - 14s 19ms/step - loss: 6.2415e-05 - mae: 0.0047 - mape: 1895.5192\n",
      "Epoch 47/50\n",
      "747/747 [==============================] - 14s 19ms/step - loss: 5.9726e-05 - mae: 0.0046 - mape: 661.1573\n",
      "Epoch 48/50\n",
      "747/747 [==============================] - 15s 20ms/step - loss: 6.3384e-05 - mae: 0.0046 - mape: 2753.5361\n",
      "Epoch 49/50\n",
      "747/747 [==============================] - 15s 20ms/step - loss: 5.4909e-05 - mae: 0.0042 - mape: 3448.2800\n",
      "Epoch 50/50\n",
      "747/747 [==============================] - 14s 18ms/step - loss: 5.4693e-05 - mae: 0.0044 - mape: 669.9633\n"
     ]
    },
    {
     "data": {
      "application/javascript": [
       "\n",
       "        if (window._pyforest_update_imports_cell) { window._pyforest_update_imports_cell('import numpy as np'); }\n",
       "    "
      ],
      "text/plain": [
       "<IPython.core.display.Javascript object>"
      ]
     },
     "metadata": {},
     "output_type": "display_data"
    },
    {
     "data": {
      "application/javascript": [
       "\n",
       "        if (window._pyforest_update_imports_cell) { window._pyforest_update_imports_cell('import numpy as np'); }\n",
       "    "
      ],
      "text/plain": [
       "<IPython.core.display.Javascript object>"
      ]
     },
     "metadata": {},
     "output_type": "display_data"
    }
   ],
   "source": [
    "model_history_1h, model_1h,mae_1h,mape_1h,x_test_1h,y_test_1h,scaler_1h = train_fn(data_tf_1h,lookback_period=30,epochs=50,l_event=-10)"
   ]
  },
  {
   "cell_type": "code",
   "execution_count": 146,
   "metadata": {},
   "outputs": [
    {
     "data": {
      "text/plain": [
       "0.34316833496093724"
      ]
     },
     "execution_count": 146,
     "metadata": {},
     "output_type": "execute_result"
    }
   ],
   "source": [
    "mae_5"
   ]
  },
  {
   "cell_type": "markdown",
   "metadata": {},
   "source": [
    "### backtesting results"
   ]
  },
  {
   "cell_type": "code",
   "execution_count": 127,
   "metadata": {},
   "outputs": [],
   "source": [
    "lookback_period = 90\n",
    "scaled_data = scaler_1h.fit_transform(data_tf_5m[['Close']])"
   ]
  },
  {
   "cell_type": "code",
   "execution_count": 137,
   "metadata": {
    "collapsed": true
   },
   "outputs": [
    {
     "data": {
      "application/javascript": [
       "\n",
       "        if (window._pyforest_update_imports_cell) { window._pyforest_update_imports_cell('import numpy as np'); }\n",
       "    "
      ],
      "text/plain": [
       "<IPython.core.display.Javascript object>"
      ]
     },
     "metadata": {},
     "output_type": "display_data"
    },
    {
     "data": {
      "application/javascript": [
       "\n",
       "        if (window._pyforest_update_imports_cell) { window._pyforest_update_imports_cell('import numpy as np'); }\n",
       "    "
      ],
      "text/plain": [
       "<IPython.core.display.Javascript object>"
      ]
     },
     "metadata": {},
     "output_type": "display_data"
    },
    {
     "data": {
      "application/javascript": [
       "\n",
       "        if (window._pyforest_update_imports_cell) { window._pyforest_update_imports_cell('import numpy as np'); }\n",
       "    "
      ],
      "text/plain": [
       "<IPython.core.display.Javascript object>"
      ]
     },
     "metadata": {},
     "output_type": "display_data"
    },
    {
     "data": {
      "application/javascript": [
       "\n",
       "        if (window._pyforest_update_imports_cell) { window._pyforest_update_imports_cell('import numpy as np'); }\n",
       "    "
      ],
      "text/plain": [
       "<IPython.core.display.Javascript object>"
      ]
     },
     "metadata": {},
     "output_type": "display_data"
    },
    {
     "data": {
      "application/javascript": [
       "\n",
       "        if (window._pyforest_update_imports_cell) { window._pyforest_update_imports_cell('import numpy as np'); }\n",
       "    "
      ],
      "text/plain": [
       "<IPython.core.display.Javascript object>"
      ]
     },
     "metadata": {},
     "output_type": "display_data"
    },
    {
     "data": {
      "application/javascript": [
       "\n",
       "        if (window._pyforest_update_imports_cell) { window._pyforest_update_imports_cell('import numpy as np'); }\n",
       "    "
      ],
      "text/plain": [
       "<IPython.core.display.Javascript object>"
      ]
     },
     "metadata": {},
     "output_type": "display_data"
    },
    {
     "data": {
      "application/javascript": [
       "\n",
       "        if (window._pyforest_update_imports_cell) { window._pyforest_update_imports_cell('import numpy as np'); }\n",
       "    "
      ],
      "text/plain": [
       "<IPython.core.display.Javascript object>"
      ]
     },
     "metadata": {},
     "output_type": "display_data"
    },
    {
     "data": {
      "application/javascript": [
       "\n",
       "        if (window._pyforest_update_imports_cell) { window._pyforest_update_imports_cell('import numpy as np'); }\n",
       "    "
      ],
      "text/plain": [
       "<IPython.core.display.Javascript object>"
      ]
     },
     "metadata": {},
     "output_type": "display_data"
    },
    {
     "data": {
      "application/javascript": [
       "\n",
       "        if (window._pyforest_update_imports_cell) { window._pyforest_update_imports_cell('import numpy as np'); }\n",
       "    "
      ],
      "text/plain": [
       "<IPython.core.display.Javascript object>"
      ]
     },
     "metadata": {},
     "output_type": "display_data"
    },
    {
     "data": {
      "application/javascript": [
       "\n",
       "        if (window._pyforest_update_imports_cell) { window._pyforest_update_imports_cell('import numpy as np'); }\n",
       "    "
      ],
      "text/plain": [
       "<IPython.core.display.Javascript object>"
      ]
     },
     "metadata": {},
     "output_type": "display_data"
    },
    {
     "data": {
      "application/javascript": [
       "\n",
       "        if (window._pyforest_update_imports_cell) { window._pyforest_update_imports_cell('import numpy as np'); }\n",
       "    "
      ],
      "text/plain": [
       "<IPython.core.display.Javascript object>"
      ]
     },
     "metadata": {},
     "output_type": "display_data"
    },
    {
     "data": {
      "application/javascript": [
       "\n",
       "        if (window._pyforest_update_imports_cell) { window._pyforest_update_imports_cell('import numpy as np'); }\n",
       "    "
      ],
      "text/plain": [
       "<IPython.core.display.Javascript object>"
      ]
     },
     "metadata": {},
     "output_type": "display_data"
    },
    {
     "data": {
      "application/javascript": [
       "\n",
       "        if (window._pyforest_update_imports_cell) { window._pyforest_update_imports_cell('import numpy as np'); }\n",
       "    "
      ],
      "text/plain": [
       "<IPython.core.display.Javascript object>"
      ]
     },
     "metadata": {},
     "output_type": "display_data"
    },
    {
     "data": {
      "application/javascript": [
       "\n",
       "        if (window._pyforest_update_imports_cell) { window._pyforest_update_imports_cell('import numpy as np'); }\n",
       "    "
      ],
      "text/plain": [
       "<IPython.core.display.Javascript object>"
      ]
     },
     "metadata": {},
     "output_type": "display_data"
    },
    {
     "data": {
      "application/javascript": [
       "\n",
       "        if (window._pyforest_update_imports_cell) { window._pyforest_update_imports_cell('import numpy as np'); }\n",
       "    "
      ],
      "text/plain": [
       "<IPython.core.display.Javascript object>"
      ]
     },
     "metadata": {},
     "output_type": "display_data"
    },
    {
     "data": {
      "application/javascript": [
       "\n",
       "        if (window._pyforest_update_imports_cell) { window._pyforest_update_imports_cell('import numpy as np'); }\n",
       "    "
      ],
      "text/plain": [
       "<IPython.core.display.Javascript object>"
      ]
     },
     "metadata": {},
     "output_type": "display_data"
    },
    {
     "data": {
      "application/javascript": [
       "\n",
       "        if (window._pyforest_update_imports_cell) { window._pyforest_update_imports_cell('import numpy as np'); }\n",
       "    "
      ],
      "text/plain": [
       "<IPython.core.display.Javascript object>"
      ]
     },
     "metadata": {},
     "output_type": "display_data"
    },
    {
     "data": {
      "application/javascript": [
       "\n",
       "        if (window._pyforest_update_imports_cell) { window._pyforest_update_imports_cell('import numpy as np'); }\n",
       "    "
      ],
      "text/plain": [
       "<IPython.core.display.Javascript object>"
      ]
     },
     "metadata": {},
     "output_type": "display_data"
    },
    {
     "data": {
      "application/javascript": [
       "\n",
       "        if (window._pyforest_update_imports_cell) { window._pyforest_update_imports_cell('import numpy as np'); }\n",
       "    "
      ],
      "text/plain": [
       "<IPython.core.display.Javascript object>"
      ]
     },
     "metadata": {},
     "output_type": "display_data"
    },
    {
     "data": {
      "application/javascript": [
       "\n",
       "        if (window._pyforest_update_imports_cell) { window._pyforest_update_imports_cell('import numpy as np'); }\n",
       "    "
      ],
      "text/plain": [
       "<IPython.core.display.Javascript object>"
      ]
     },
     "metadata": {},
     "output_type": "display_data"
    },
    {
     "data": {
      "application/javascript": [
       "\n",
       "        if (window._pyforest_update_imports_cell) { window._pyforest_update_imports_cell('import numpy as np'); }\n",
       "    "
      ],
      "text/plain": [
       "<IPython.core.display.Javascript object>"
      ]
     },
     "metadata": {},
     "output_type": "display_data"
    },
    {
     "data": {
      "application/javascript": [
       "\n",
       "        if (window._pyforest_update_imports_cell) { window._pyforest_update_imports_cell('import numpy as np'); }\n",
       "    "
      ],
      "text/plain": [
       "<IPython.core.display.Javascript object>"
      ]
     },
     "metadata": {},
     "output_type": "display_data"
    },
    {
     "data": {
      "application/javascript": [
       "\n",
       "        if (window._pyforest_update_imports_cell) { window._pyforest_update_imports_cell('import numpy as np'); }\n",
       "    "
      ],
      "text/plain": [
       "<IPython.core.display.Javascript object>"
      ]
     },
     "metadata": {},
     "output_type": "display_data"
    },
    {
     "data": {
      "application/javascript": [
       "\n",
       "        if (window._pyforest_update_imports_cell) { window._pyforest_update_imports_cell('import numpy as np'); }\n",
       "    "
      ],
      "text/plain": [
       "<IPython.core.display.Javascript object>"
      ]
     },
     "metadata": {},
     "output_type": "display_data"
    },
    {
     "data": {
      "application/javascript": [
       "\n",
       "        if (window._pyforest_update_imports_cell) { window._pyforest_update_imports_cell('import numpy as np'); }\n",
       "    "
      ],
      "text/plain": [
       "<IPython.core.display.Javascript object>"
      ]
     },
     "metadata": {},
     "output_type": "display_data"
    },
    {
     "data": {
      "application/javascript": [
       "\n",
       "        if (window._pyforest_update_imports_cell) { window._pyforest_update_imports_cell('import numpy as np'); }\n",
       "    "
      ],
      "text/plain": [
       "<IPython.core.display.Javascript object>"
      ]
     },
     "metadata": {},
     "output_type": "display_data"
    },
    {
     "data": {
      "application/javascript": [
       "\n",
       "        if (window._pyforest_update_imports_cell) { window._pyforest_update_imports_cell('import numpy as np'); }\n",
       "    "
      ],
      "text/plain": [
       "<IPython.core.display.Javascript object>"
      ]
     },
     "metadata": {},
     "output_type": "display_data"
    },
    {
     "data": {
      "application/javascript": [
       "\n",
       "        if (window._pyforest_update_imports_cell) { window._pyforest_update_imports_cell('import numpy as np'); }\n",
       "    "
      ],
      "text/plain": [
       "<IPython.core.display.Javascript object>"
      ]
     },
     "metadata": {},
     "output_type": "display_data"
    },
    {
     "data": {
      "application/javascript": [
       "\n",
       "        if (window._pyforest_update_imports_cell) { window._pyforest_update_imports_cell('import numpy as np'); }\n",
       "    "
      ],
      "text/plain": [
       "<IPython.core.display.Javascript object>"
      ]
     },
     "metadata": {},
     "output_type": "display_data"
    },
    {
     "data": {
      "application/javascript": [
       "\n",
       "        if (window._pyforest_update_imports_cell) { window._pyforest_update_imports_cell('import numpy as np'); }\n",
       "    "
      ],
      "text/plain": [
       "<IPython.core.display.Javascript object>"
      ]
     },
     "metadata": {},
     "output_type": "display_data"
    },
    {
     "data": {
      "application/javascript": [
       "\n",
       "        if (window._pyforest_update_imports_cell) { window._pyforest_update_imports_cell('import numpy as np'); }\n",
       "    "
      ],
      "text/plain": [
       "<IPython.core.display.Javascript object>"
      ]
     },
     "metadata": {},
     "output_type": "display_data"
    },
    {
     "data": {
      "application/javascript": [
       "\n",
       "        if (window._pyforest_update_imports_cell) { window._pyforest_update_imports_cell('import numpy as np'); }\n",
       "    "
      ],
      "text/plain": [
       "<IPython.core.display.Javascript object>"
      ]
     },
     "metadata": {},
     "output_type": "display_data"
    },
    {
     "data": {
      "application/javascript": [
       "\n",
       "        if (window._pyforest_update_imports_cell) { window._pyforest_update_imports_cell('import numpy as np'); }\n",
       "    "
      ],
      "text/plain": [
       "<IPython.core.display.Javascript object>"
      ]
     },
     "metadata": {},
     "output_type": "display_data"
    },
    {
     "data": {
      "application/javascript": [
       "\n",
       "        if (window._pyforest_update_imports_cell) { window._pyforest_update_imports_cell('import numpy as np'); }\n",
       "    "
      ],
      "text/plain": [
       "<IPython.core.display.Javascript object>"
      ]
     },
     "metadata": {},
     "output_type": "display_data"
    },
    {
     "data": {
      "application/javascript": [
       "\n",
       "        if (window._pyforest_update_imports_cell) { window._pyforest_update_imports_cell('import numpy as np'); }\n",
       "    "
      ],
      "text/plain": [
       "<IPython.core.display.Javascript object>"
      ]
     },
     "metadata": {},
     "output_type": "display_data"
    },
    {
     "data": {
      "application/javascript": [
       "\n",
       "        if (window._pyforest_update_imports_cell) { window._pyforest_update_imports_cell('import numpy as np'); }\n",
       "    "
      ],
      "text/plain": [
       "<IPython.core.display.Javascript object>"
      ]
     },
     "metadata": {},
     "output_type": "display_data"
    },
    {
     "data": {
      "application/javascript": [
       "\n",
       "        if (window._pyforest_update_imports_cell) { window._pyforest_update_imports_cell('import numpy as np'); }\n",
       "    "
      ],
      "text/plain": [
       "<IPython.core.display.Javascript object>"
      ]
     },
     "metadata": {},
     "output_type": "display_data"
    },
    {
     "data": {
      "application/javascript": [
       "\n",
       "        if (window._pyforest_update_imports_cell) { window._pyforest_update_imports_cell('import numpy as np'); }\n",
       "    "
      ],
      "text/plain": [
       "<IPython.core.display.Javascript object>"
      ]
     },
     "metadata": {},
     "output_type": "display_data"
    },
    {
     "data": {
      "application/javascript": [
       "\n",
       "        if (window._pyforest_update_imports_cell) { window._pyforest_update_imports_cell('import numpy as np'); }\n",
       "    "
      ],
      "text/plain": [
       "<IPython.core.display.Javascript object>"
      ]
     },
     "metadata": {},
     "output_type": "display_data"
    },
    {
     "data": {
      "application/javascript": [
       "\n",
       "        if (window._pyforest_update_imports_cell) { window._pyforest_update_imports_cell('import numpy as np'); }\n",
       "    "
      ],
      "text/plain": [
       "<IPython.core.display.Javascript object>"
      ]
     },
     "metadata": {},
     "output_type": "display_data"
    },
    {
     "data": {
      "application/javascript": [
       "\n",
       "        if (window._pyforest_update_imports_cell) { window._pyforest_update_imports_cell('import numpy as np'); }\n",
       "    "
      ],
      "text/plain": [
       "<IPython.core.display.Javascript object>"
      ]
     },
     "metadata": {},
     "output_type": "display_data"
    },
    {
     "data": {
      "application/javascript": [
       "\n",
       "        if (window._pyforest_update_imports_cell) { window._pyforest_update_imports_cell('import numpy as np'); }\n",
       "    "
      ],
      "text/plain": [
       "<IPython.core.display.Javascript object>"
      ]
     },
     "metadata": {},
     "output_type": "display_data"
    },
    {
     "data": {
      "application/javascript": [
       "\n",
       "        if (window._pyforest_update_imports_cell) { window._pyforest_update_imports_cell('import numpy as np'); }\n",
       "    "
      ],
      "text/plain": [
       "<IPython.core.display.Javascript object>"
      ]
     },
     "metadata": {},
     "output_type": "display_data"
    },
    {
     "data": {
      "application/javascript": [
       "\n",
       "        if (window._pyforest_update_imports_cell) { window._pyforest_update_imports_cell('import numpy as np'); }\n",
       "    "
      ],
      "text/plain": [
       "<IPython.core.display.Javascript object>"
      ]
     },
     "metadata": {},
     "output_type": "display_data"
    },
    {
     "data": {
      "application/javascript": [
       "\n",
       "        if (window._pyforest_update_imports_cell) { window._pyforest_update_imports_cell('import numpy as np'); }\n",
       "    "
      ],
      "text/plain": [
       "<IPython.core.display.Javascript object>"
      ]
     },
     "metadata": {},
     "output_type": "display_data"
    },
    {
     "data": {
      "application/javascript": [
       "\n",
       "        if (window._pyforest_update_imports_cell) { window._pyforest_update_imports_cell('import numpy as np'); }\n",
       "    "
      ],
      "text/plain": [
       "<IPython.core.display.Javascript object>"
      ]
     },
     "metadata": {},
     "output_type": "display_data"
    },
    {
     "data": {
      "application/javascript": [
       "\n",
       "        if (window._pyforest_update_imports_cell) { window._pyforest_update_imports_cell('import numpy as np'); }\n",
       "    "
      ],
      "text/plain": [
       "<IPython.core.display.Javascript object>"
      ]
     },
     "metadata": {},
     "output_type": "display_data"
    },
    {
     "data": {
      "application/javascript": [
       "\n",
       "        if (window._pyforest_update_imports_cell) { window._pyforest_update_imports_cell('import numpy as np'); }\n",
       "    "
      ],
      "text/plain": [
       "<IPython.core.display.Javascript object>"
      ]
     },
     "metadata": {},
     "output_type": "display_data"
    },
    {
     "data": {
      "application/javascript": [
       "\n",
       "        if (window._pyforest_update_imports_cell) { window._pyforest_update_imports_cell('import numpy as np'); }\n",
       "    "
      ],
      "text/plain": [
       "<IPython.core.display.Javascript object>"
      ]
     },
     "metadata": {},
     "output_type": "display_data"
    },
    {
     "data": {
      "application/javascript": [
       "\n",
       "        if (window._pyforest_update_imports_cell) { window._pyforest_update_imports_cell('import numpy as np'); }\n",
       "    "
      ],
      "text/plain": [
       "<IPython.core.display.Javascript object>"
      ]
     },
     "metadata": {},
     "output_type": "display_data"
    },
    {
     "data": {
      "application/javascript": [
       "\n",
       "        if (window._pyforest_update_imports_cell) { window._pyforest_update_imports_cell('import numpy as np'); }\n",
       "    "
      ],
      "text/plain": [
       "<IPython.core.display.Javascript object>"
      ]
     },
     "metadata": {},
     "output_type": "display_data"
    },
    {
     "data": {
      "application/javascript": [
       "\n",
       "        if (window._pyforest_update_imports_cell) { window._pyforest_update_imports_cell('import numpy as np'); }\n",
       "    "
      ],
      "text/plain": [
       "<IPython.core.display.Javascript object>"
      ]
     },
     "metadata": {},
     "output_type": "display_data"
    },
    {
     "data": {
      "application/javascript": [
       "\n",
       "        if (window._pyforest_update_imports_cell) { window._pyforest_update_imports_cell('import numpy as np'); }\n",
       "    "
      ],
      "text/plain": [
       "<IPython.core.display.Javascript object>"
      ]
     },
     "metadata": {},
     "output_type": "display_data"
    },
    {
     "data": {
      "application/javascript": [
       "\n",
       "        if (window._pyforest_update_imports_cell) { window._pyforest_update_imports_cell('import numpy as np'); }\n",
       "    "
      ],
      "text/plain": [
       "<IPython.core.display.Javascript object>"
      ]
     },
     "metadata": {},
     "output_type": "display_data"
    },
    {
     "data": {
      "application/javascript": [
       "\n",
       "        if (window._pyforest_update_imports_cell) { window._pyforest_update_imports_cell('import numpy as np'); }\n",
       "    "
      ],
      "text/plain": [
       "<IPython.core.display.Javascript object>"
      ]
     },
     "metadata": {},
     "output_type": "display_data"
    },
    {
     "data": {
      "application/javascript": [
       "\n",
       "        if (window._pyforest_update_imports_cell) { window._pyforest_update_imports_cell('import numpy as np'); }\n",
       "    "
      ],
      "text/plain": [
       "<IPython.core.display.Javascript object>"
      ]
     },
     "metadata": {},
     "output_type": "display_data"
    },
    {
     "data": {
      "application/javascript": [
       "\n",
       "        if (window._pyforest_update_imports_cell) { window._pyforest_update_imports_cell('import numpy as np'); }\n",
       "    "
      ],
      "text/plain": [
       "<IPython.core.display.Javascript object>"
      ]
     },
     "metadata": {},
     "output_type": "display_data"
    },
    {
     "data": {
      "application/javascript": [
       "\n",
       "        if (window._pyforest_update_imports_cell) { window._pyforest_update_imports_cell('import numpy as np'); }\n",
       "    "
      ],
      "text/plain": [
       "<IPython.core.display.Javascript object>"
      ]
     },
     "metadata": {},
     "output_type": "display_data"
    },
    {
     "data": {
      "application/javascript": [
       "\n",
       "        if (window._pyforest_update_imports_cell) { window._pyforest_update_imports_cell('import numpy as np'); }\n",
       "    "
      ],
      "text/plain": [
       "<IPython.core.display.Javascript object>"
      ]
     },
     "metadata": {},
     "output_type": "display_data"
    },
    {
     "data": {
      "application/javascript": [
       "\n",
       "        if (window._pyforest_update_imports_cell) { window._pyforest_update_imports_cell('import numpy as np'); }\n",
       "    "
      ],
      "text/plain": [
       "<IPython.core.display.Javascript object>"
      ]
     },
     "metadata": {},
     "output_type": "display_data"
    },
    {
     "data": {
      "application/javascript": [
       "\n",
       "        if (window._pyforest_update_imports_cell) { window._pyforest_update_imports_cell('import numpy as np'); }\n",
       "    "
      ],
      "text/plain": [
       "<IPython.core.display.Javascript object>"
      ]
     },
     "metadata": {},
     "output_type": "display_data"
    },
    {
     "data": {
      "application/javascript": [
       "\n",
       "        if (window._pyforest_update_imports_cell) { window._pyforest_update_imports_cell('import numpy as np'); }\n",
       "    "
      ],
      "text/plain": [
       "<IPython.core.display.Javascript object>"
      ]
     },
     "metadata": {},
     "output_type": "display_data"
    },
    {
     "data": {
      "application/javascript": [
       "\n",
       "        if (window._pyforest_update_imports_cell) { window._pyforest_update_imports_cell('import numpy as np'); }\n",
       "    "
      ],
      "text/plain": [
       "<IPython.core.display.Javascript object>"
      ]
     },
     "metadata": {},
     "output_type": "display_data"
    },
    {
     "data": {
      "application/javascript": [
       "\n",
       "        if (window._pyforest_update_imports_cell) { window._pyforest_update_imports_cell('import numpy as np'); }\n",
       "    "
      ],
      "text/plain": [
       "<IPython.core.display.Javascript object>"
      ]
     },
     "metadata": {},
     "output_type": "display_data"
    },
    {
     "data": {
      "application/javascript": [
       "\n",
       "        if (window._pyforest_update_imports_cell) { window._pyforest_update_imports_cell('import numpy as np'); }\n",
       "    "
      ],
      "text/plain": [
       "<IPython.core.display.Javascript object>"
      ]
     },
     "metadata": {},
     "output_type": "display_data"
    },
    {
     "data": {
      "application/javascript": [
       "\n",
       "        if (window._pyforest_update_imports_cell) { window._pyforest_update_imports_cell('import numpy as np'); }\n",
       "    "
      ],
      "text/plain": [
       "<IPython.core.display.Javascript object>"
      ]
     },
     "metadata": {},
     "output_type": "display_data"
    },
    {
     "data": {
      "application/javascript": [
       "\n",
       "        if (window._pyforest_update_imports_cell) { window._pyforest_update_imports_cell('import numpy as np'); }\n",
       "    "
      ],
      "text/plain": [
       "<IPython.core.display.Javascript object>"
      ]
     },
     "metadata": {},
     "output_type": "display_data"
    },
    {
     "data": {
      "application/javascript": [
       "\n",
       "        if (window._pyforest_update_imports_cell) { window._pyforest_update_imports_cell('import numpy as np'); }\n",
       "    "
      ],
      "text/plain": [
       "<IPython.core.display.Javascript object>"
      ]
     },
     "metadata": {},
     "output_type": "display_data"
    },
    {
     "data": {
      "application/javascript": [
       "\n",
       "        if (window._pyforest_update_imports_cell) { window._pyforest_update_imports_cell('import numpy as np'); }\n",
       "    "
      ],
      "text/plain": [
       "<IPython.core.display.Javascript object>"
      ]
     },
     "metadata": {},
     "output_type": "display_data"
    },
    {
     "data": {
      "application/javascript": [
       "\n",
       "        if (window._pyforest_update_imports_cell) { window._pyforest_update_imports_cell('import numpy as np'); }\n",
       "    "
      ],
      "text/plain": [
       "<IPython.core.display.Javascript object>"
      ]
     },
     "metadata": {},
     "output_type": "display_data"
    },
    {
     "data": {
      "application/javascript": [
       "\n",
       "        if (window._pyforest_update_imports_cell) { window._pyforest_update_imports_cell('import numpy as np'); }\n",
       "    "
      ],
      "text/plain": [
       "<IPython.core.display.Javascript object>"
      ]
     },
     "metadata": {},
     "output_type": "display_data"
    },
    {
     "data": {
      "application/javascript": [
       "\n",
       "        if (window._pyforest_update_imports_cell) { window._pyforest_update_imports_cell('import numpy as np'); }\n",
       "    "
      ],
      "text/plain": [
       "<IPython.core.display.Javascript object>"
      ]
     },
     "metadata": {},
     "output_type": "display_data"
    },
    {
     "data": {
      "application/javascript": [
       "\n",
       "        if (window._pyforest_update_imports_cell) { window._pyforest_update_imports_cell('import numpy as np'); }\n",
       "    "
      ],
      "text/plain": [
       "<IPython.core.display.Javascript object>"
      ]
     },
     "metadata": {},
     "output_type": "display_data"
    },
    {
     "data": {
      "application/javascript": [
       "\n",
       "        if (window._pyforest_update_imports_cell) { window._pyforest_update_imports_cell('import numpy as np'); }\n",
       "    "
      ],
      "text/plain": [
       "<IPython.core.display.Javascript object>"
      ]
     },
     "metadata": {},
     "output_type": "display_data"
    },
    {
     "data": {
      "application/javascript": [
       "\n",
       "        if (window._pyforest_update_imports_cell) { window._pyforest_update_imports_cell('import numpy as np'); }\n",
       "    "
      ],
      "text/plain": [
       "<IPython.core.display.Javascript object>"
      ]
     },
     "metadata": {},
     "output_type": "display_data"
    },
    {
     "data": {
      "application/javascript": [
       "\n",
       "        if (window._pyforest_update_imports_cell) { window._pyforest_update_imports_cell('import numpy as np'); }\n",
       "    "
      ],
      "text/plain": [
       "<IPython.core.display.Javascript object>"
      ]
     },
     "metadata": {},
     "output_type": "display_data"
    },
    {
     "data": {
      "application/javascript": [
       "\n",
       "        if (window._pyforest_update_imports_cell) { window._pyforest_update_imports_cell('import numpy as np'); }\n",
       "    "
      ],
      "text/plain": [
       "<IPython.core.display.Javascript object>"
      ]
     },
     "metadata": {},
     "output_type": "display_data"
    },
    {
     "data": {
      "application/javascript": [
       "\n",
       "        if (window._pyforest_update_imports_cell) { window._pyforest_update_imports_cell('import numpy as np'); }\n",
       "    "
      ],
      "text/plain": [
       "<IPython.core.display.Javascript object>"
      ]
     },
     "metadata": {},
     "output_type": "display_data"
    },
    {
     "data": {
      "application/javascript": [
       "\n",
       "        if (window._pyforest_update_imports_cell) { window._pyforest_update_imports_cell('import numpy as np'); }\n",
       "    "
      ],
      "text/plain": [
       "<IPython.core.display.Javascript object>"
      ]
     },
     "metadata": {},
     "output_type": "display_data"
    },
    {
     "data": {
      "application/javascript": [
       "\n",
       "        if (window._pyforest_update_imports_cell) { window._pyforest_update_imports_cell('import numpy as np'); }\n",
       "    "
      ],
      "text/plain": [
       "<IPython.core.display.Javascript object>"
      ]
     },
     "metadata": {},
     "output_type": "display_data"
    },
    {
     "data": {
      "application/javascript": [
       "\n",
       "        if (window._pyforest_update_imports_cell) { window._pyforest_update_imports_cell('import numpy as np'); }\n",
       "    "
      ],
      "text/plain": [
       "<IPython.core.display.Javascript object>"
      ]
     },
     "metadata": {},
     "output_type": "display_data"
    },
    {
     "data": {
      "application/javascript": [
       "\n",
       "        if (window._pyforest_update_imports_cell) { window._pyforest_update_imports_cell('import numpy as np'); }\n",
       "    "
      ],
      "text/plain": [
       "<IPython.core.display.Javascript object>"
      ]
     },
     "metadata": {},
     "output_type": "display_data"
    },
    {
     "data": {
      "application/javascript": [
       "\n",
       "        if (window._pyforest_update_imports_cell) { window._pyforest_update_imports_cell('import numpy as np'); }\n",
       "    "
      ],
      "text/plain": [
       "<IPython.core.display.Javascript object>"
      ]
     },
     "metadata": {},
     "output_type": "display_data"
    },
    {
     "data": {
      "application/javascript": [
       "\n",
       "        if (window._pyforest_update_imports_cell) { window._pyforest_update_imports_cell('import numpy as np'); }\n",
       "    "
      ],
      "text/plain": [
       "<IPython.core.display.Javascript object>"
      ]
     },
     "metadata": {},
     "output_type": "display_data"
    },
    {
     "data": {
      "application/javascript": [
       "\n",
       "        if (window._pyforest_update_imports_cell) { window._pyforest_update_imports_cell('import numpy as np'); }\n",
       "    "
      ],
      "text/plain": [
       "<IPython.core.display.Javascript object>"
      ]
     },
     "metadata": {},
     "output_type": "display_data"
    },
    {
     "data": {
      "application/javascript": [
       "\n",
       "        if (window._pyforest_update_imports_cell) { window._pyforest_update_imports_cell('import numpy as np'); }\n",
       "    "
      ],
      "text/plain": [
       "<IPython.core.display.Javascript object>"
      ]
     },
     "metadata": {},
     "output_type": "display_data"
    },
    {
     "data": {
      "application/javascript": [
       "\n",
       "        if (window._pyforest_update_imports_cell) { window._pyforest_update_imports_cell('import numpy as np'); }\n",
       "    "
      ],
      "text/plain": [
       "<IPython.core.display.Javascript object>"
      ]
     },
     "metadata": {},
     "output_type": "display_data"
    },
    {
     "data": {
      "application/javascript": [
       "\n",
       "        if (window._pyforest_update_imports_cell) { window._pyforest_update_imports_cell('import numpy as np'); }\n",
       "    "
      ],
      "text/plain": [
       "<IPython.core.display.Javascript object>"
      ]
     },
     "metadata": {},
     "output_type": "display_data"
    },
    {
     "data": {
      "application/javascript": [
       "\n",
       "        if (window._pyforest_update_imports_cell) { window._pyforest_update_imports_cell('import numpy as np'); }\n",
       "    "
      ],
      "text/plain": [
       "<IPython.core.display.Javascript object>"
      ]
     },
     "metadata": {},
     "output_type": "display_data"
    },
    {
     "data": {
      "application/javascript": [
       "\n",
       "        if (window._pyforest_update_imports_cell) { window._pyforest_update_imports_cell('import numpy as np'); }\n",
       "    "
      ],
      "text/plain": [
       "<IPython.core.display.Javascript object>"
      ]
     },
     "metadata": {},
     "output_type": "display_data"
    },
    {
     "data": {
      "application/javascript": [
       "\n",
       "        if (window._pyforest_update_imports_cell) { window._pyforest_update_imports_cell('import numpy as np'); }\n",
       "    "
      ],
      "text/plain": [
       "<IPython.core.display.Javascript object>"
      ]
     },
     "metadata": {},
     "output_type": "display_data"
    },
    {
     "data": {
      "application/javascript": [
       "\n",
       "        if (window._pyforest_update_imports_cell) { window._pyforest_update_imports_cell('import numpy as np'); }\n",
       "    "
      ],
      "text/plain": [
       "<IPython.core.display.Javascript object>"
      ]
     },
     "metadata": {},
     "output_type": "display_data"
    },
    {
     "data": {
      "application/javascript": [
       "\n",
       "        if (window._pyforest_update_imports_cell) { window._pyforest_update_imports_cell('import numpy as np'); }\n",
       "    "
      ],
      "text/plain": [
       "<IPython.core.display.Javascript object>"
      ]
     },
     "metadata": {},
     "output_type": "display_data"
    },
    {
     "data": {
      "application/javascript": [
       "\n",
       "        if (window._pyforest_update_imports_cell) { window._pyforest_update_imports_cell('import numpy as np'); }\n",
       "    "
      ],
      "text/plain": [
       "<IPython.core.display.Javascript object>"
      ]
     },
     "metadata": {},
     "output_type": "display_data"
    },
    {
     "data": {
      "application/javascript": [
       "\n",
       "        if (window._pyforest_update_imports_cell) { window._pyforest_update_imports_cell('import numpy as np'); }\n",
       "    "
      ],
      "text/plain": [
       "<IPython.core.display.Javascript object>"
      ]
     },
     "metadata": {},
     "output_type": "display_data"
    },
    {
     "data": {
      "application/javascript": [
       "\n",
       "        if (window._pyforest_update_imports_cell) { window._pyforest_update_imports_cell('import numpy as np'); }\n",
       "    "
      ],
      "text/plain": [
       "<IPython.core.display.Javascript object>"
      ]
     },
     "metadata": {},
     "output_type": "display_data"
    },
    {
     "data": {
      "application/javascript": [
       "\n",
       "        if (window._pyforest_update_imports_cell) { window._pyforest_update_imports_cell('import numpy as np'); }\n",
       "    "
      ],
      "text/plain": [
       "<IPython.core.display.Javascript object>"
      ]
     },
     "metadata": {},
     "output_type": "display_data"
    },
    {
     "data": {
      "application/javascript": [
       "\n",
       "        if (window._pyforest_update_imports_cell) { window._pyforest_update_imports_cell('import numpy as np'); }\n",
       "    "
      ],
      "text/plain": [
       "<IPython.core.display.Javascript object>"
      ]
     },
     "metadata": {},
     "output_type": "display_data"
    },
    {
     "data": {
      "application/javascript": [
       "\n",
       "        if (window._pyforest_update_imports_cell) { window._pyforest_update_imports_cell('import numpy as np'); }\n",
       "    "
      ],
      "text/plain": [
       "<IPython.core.display.Javascript object>"
      ]
     },
     "metadata": {},
     "output_type": "display_data"
    },
    {
     "data": {
      "application/javascript": [
       "\n",
       "        if (window._pyforest_update_imports_cell) { window._pyforest_update_imports_cell('import numpy as np'); }\n",
       "    "
      ],
      "text/plain": [
       "<IPython.core.display.Javascript object>"
      ]
     },
     "metadata": {},
     "output_type": "display_data"
    },
    {
     "data": {
      "application/javascript": [
       "\n",
       "        if (window._pyforest_update_imports_cell) { window._pyforest_update_imports_cell('import numpy as np'); }\n",
       "    "
      ],
      "text/plain": [
       "<IPython.core.display.Javascript object>"
      ]
     },
     "metadata": {},
     "output_type": "display_data"
    },
    {
     "data": {
      "application/javascript": [
       "\n",
       "        if (window._pyforest_update_imports_cell) { window._pyforest_update_imports_cell('import numpy as np'); }\n",
       "    "
      ],
      "text/plain": [
       "<IPython.core.display.Javascript object>"
      ]
     },
     "metadata": {},
     "output_type": "display_data"
    },
    {
     "data": {
      "application/javascript": [
       "\n",
       "        if (window._pyforest_update_imports_cell) { window._pyforest_update_imports_cell('import numpy as np'); }\n",
       "    "
      ],
      "text/plain": [
       "<IPython.core.display.Javascript object>"
      ]
     },
     "metadata": {},
     "output_type": "display_data"
    },
    {
     "data": {
      "application/javascript": [
       "\n",
       "        if (window._pyforest_update_imports_cell) { window._pyforest_update_imports_cell('import numpy as np'); }\n",
       "    "
      ],
      "text/plain": [
       "<IPython.core.display.Javascript object>"
      ]
     },
     "metadata": {},
     "output_type": "display_data"
    },
    {
     "data": {
      "application/javascript": [
       "\n",
       "        if (window._pyforest_update_imports_cell) { window._pyforest_update_imports_cell('import numpy as np'); }\n",
       "    "
      ],
      "text/plain": [
       "<IPython.core.display.Javascript object>"
      ]
     },
     "metadata": {},
     "output_type": "display_data"
    },
    {
     "data": {
      "application/javascript": [
       "\n",
       "        if (window._pyforest_update_imports_cell) { window._pyforest_update_imports_cell('import numpy as np'); }\n",
       "    "
      ],
      "text/plain": [
       "<IPython.core.display.Javascript object>"
      ]
     },
     "metadata": {},
     "output_type": "display_data"
    },
    {
     "data": {
      "application/javascript": [
       "\n",
       "        if (window._pyforest_update_imports_cell) { window._pyforest_update_imports_cell('import numpy as np'); }\n",
       "    "
      ],
      "text/plain": [
       "<IPython.core.display.Javascript object>"
      ]
     },
     "metadata": {},
     "output_type": "display_data"
    },
    {
     "data": {
      "application/javascript": [
       "\n",
       "        if (window._pyforest_update_imports_cell) { window._pyforest_update_imports_cell('import numpy as np'); }\n",
       "    "
      ],
      "text/plain": [
       "<IPython.core.display.Javascript object>"
      ]
     },
     "metadata": {},
     "output_type": "display_data"
    },
    {
     "data": {
      "application/javascript": [
       "\n",
       "        if (window._pyforest_update_imports_cell) { window._pyforest_update_imports_cell('import numpy as np'); }\n",
       "    "
      ],
      "text/plain": [
       "<IPython.core.display.Javascript object>"
      ]
     },
     "metadata": {},
     "output_type": "display_data"
    },
    {
     "data": {
      "application/javascript": [
       "\n",
       "        if (window._pyforest_update_imports_cell) { window._pyforest_update_imports_cell('import numpy as np'); }\n",
       "    "
      ],
      "text/plain": [
       "<IPython.core.display.Javascript object>"
      ]
     },
     "metadata": {},
     "output_type": "display_data"
    },
    {
     "data": {
      "application/javascript": [
       "\n",
       "        if (window._pyforest_update_imports_cell) { window._pyforest_update_imports_cell('import numpy as np'); }\n",
       "    "
      ],
      "text/plain": [
       "<IPython.core.display.Javascript object>"
      ]
     },
     "metadata": {},
     "output_type": "display_data"
    },
    {
     "data": {
      "application/javascript": [
       "\n",
       "        if (window._pyforest_update_imports_cell) { window._pyforest_update_imports_cell('import numpy as np'); }\n",
       "    "
      ],
      "text/plain": [
       "<IPython.core.display.Javascript object>"
      ]
     },
     "metadata": {},
     "output_type": "display_data"
    },
    {
     "data": {
      "application/javascript": [
       "\n",
       "        if (window._pyforest_update_imports_cell) { window._pyforest_update_imports_cell('import numpy as np'); }\n",
       "    "
      ],
      "text/plain": [
       "<IPython.core.display.Javascript object>"
      ]
     },
     "metadata": {},
     "output_type": "display_data"
    },
    {
     "data": {
      "application/javascript": [
       "\n",
       "        if (window._pyforest_update_imports_cell) { window._pyforest_update_imports_cell('import numpy as np'); }\n",
       "    "
      ],
      "text/plain": [
       "<IPython.core.display.Javascript object>"
      ]
     },
     "metadata": {},
     "output_type": "display_data"
    },
    {
     "data": {
      "application/javascript": [
       "\n",
       "        if (window._pyforest_update_imports_cell) { window._pyforest_update_imports_cell('import numpy as np'); }\n",
       "    "
      ],
      "text/plain": [
       "<IPython.core.display.Javascript object>"
      ]
     },
     "metadata": {},
     "output_type": "display_data"
    },
    {
     "data": {
      "application/javascript": [
       "\n",
       "        if (window._pyforest_update_imports_cell) { window._pyforest_update_imports_cell('import numpy as np'); }\n",
       "    "
      ],
      "text/plain": [
       "<IPython.core.display.Javascript object>"
      ]
     },
     "metadata": {},
     "output_type": "display_data"
    },
    {
     "data": {
      "application/javascript": [
       "\n",
       "        if (window._pyforest_update_imports_cell) { window._pyforest_update_imports_cell('import numpy as np'); }\n",
       "    "
      ],
      "text/plain": [
       "<IPython.core.display.Javascript object>"
      ]
     },
     "metadata": {},
     "output_type": "display_data"
    },
    {
     "data": {
      "application/javascript": [
       "\n",
       "        if (window._pyforest_update_imports_cell) { window._pyforest_update_imports_cell('import numpy as np'); }\n",
       "    "
      ],
      "text/plain": [
       "<IPython.core.display.Javascript object>"
      ]
     },
     "metadata": {},
     "output_type": "display_data"
    },
    {
     "data": {
      "application/javascript": [
       "\n",
       "        if (window._pyforest_update_imports_cell) { window._pyforest_update_imports_cell('import numpy as np'); }\n",
       "    "
      ],
      "text/plain": [
       "<IPython.core.display.Javascript object>"
      ]
     },
     "metadata": {},
     "output_type": "display_data"
    },
    {
     "data": {
      "application/javascript": [
       "\n",
       "        if (window._pyforest_update_imports_cell) { window._pyforest_update_imports_cell('import numpy as np'); }\n",
       "    "
      ],
      "text/plain": [
       "<IPython.core.display.Javascript object>"
      ]
     },
     "metadata": {},
     "output_type": "display_data"
    },
    {
     "data": {
      "application/javascript": [
       "\n",
       "        if (window._pyforest_update_imports_cell) { window._pyforest_update_imports_cell('import numpy as np'); }\n",
       "    "
      ],
      "text/plain": [
       "<IPython.core.display.Javascript object>"
      ]
     },
     "metadata": {},
     "output_type": "display_data"
    },
    {
     "data": {
      "application/javascript": [
       "\n",
       "        if (window._pyforest_update_imports_cell) { window._pyforest_update_imports_cell('import numpy as np'); }\n",
       "    "
      ],
      "text/plain": [
       "<IPython.core.display.Javascript object>"
      ]
     },
     "metadata": {},
     "output_type": "display_data"
    },
    {
     "data": {
      "application/javascript": [
       "\n",
       "        if (window._pyforest_update_imports_cell) { window._pyforest_update_imports_cell('import numpy as np'); }\n",
       "    "
      ],
      "text/plain": [
       "<IPython.core.display.Javascript object>"
      ]
     },
     "metadata": {},
     "output_type": "display_data"
    },
    {
     "data": {
      "application/javascript": [
       "\n",
       "        if (window._pyforest_update_imports_cell) { window._pyforest_update_imports_cell('import numpy as np'); }\n",
       "    "
      ],
      "text/plain": [
       "<IPython.core.display.Javascript object>"
      ]
     },
     "metadata": {},
     "output_type": "display_data"
    },
    {
     "data": {
      "application/javascript": [
       "\n",
       "        if (window._pyforest_update_imports_cell) { window._pyforest_update_imports_cell('import numpy as np'); }\n",
       "    "
      ],
      "text/plain": [
       "<IPython.core.display.Javascript object>"
      ]
     },
     "metadata": {},
     "output_type": "display_data"
    },
    {
     "data": {
      "application/javascript": [
       "\n",
       "        if (window._pyforest_update_imports_cell) { window._pyforest_update_imports_cell('import numpy as np'); }\n",
       "    "
      ],
      "text/plain": [
       "<IPython.core.display.Javascript object>"
      ]
     },
     "metadata": {},
     "output_type": "display_data"
    },
    {
     "data": {
      "application/javascript": [
       "\n",
       "        if (window._pyforest_update_imports_cell) { window._pyforest_update_imports_cell('import numpy as np'); }\n",
       "    "
      ],
      "text/plain": [
       "<IPython.core.display.Javascript object>"
      ]
     },
     "metadata": {},
     "output_type": "display_data"
    },
    {
     "data": {
      "application/javascript": [
       "\n",
       "        if (window._pyforest_update_imports_cell) { window._pyforest_update_imports_cell('import numpy as np'); }\n",
       "    "
      ],
      "text/plain": [
       "<IPython.core.display.Javascript object>"
      ]
     },
     "metadata": {},
     "output_type": "display_data"
    },
    {
     "data": {
      "application/javascript": [
       "\n",
       "        if (window._pyforest_update_imports_cell) { window._pyforest_update_imports_cell('import numpy as np'); }\n",
       "    "
      ],
      "text/plain": [
       "<IPython.core.display.Javascript object>"
      ]
     },
     "metadata": {},
     "output_type": "display_data"
    },
    {
     "data": {
      "application/javascript": [
       "\n",
       "        if (window._pyforest_update_imports_cell) { window._pyforest_update_imports_cell('import numpy as np'); }\n",
       "    "
      ],
      "text/plain": [
       "<IPython.core.display.Javascript object>"
      ]
     },
     "metadata": {},
     "output_type": "display_data"
    },
    {
     "data": {
      "application/javascript": [
       "\n",
       "        if (window._pyforest_update_imports_cell) { window._pyforest_update_imports_cell('import numpy as np'); }\n",
       "    "
      ],
      "text/plain": [
       "<IPython.core.display.Javascript object>"
      ]
     },
     "metadata": {},
     "output_type": "display_data"
    },
    {
     "data": {
      "application/javascript": [
       "\n",
       "        if (window._pyforest_update_imports_cell) { window._pyforest_update_imports_cell('import numpy as np'); }\n",
       "    "
      ],
      "text/plain": [
       "<IPython.core.display.Javascript object>"
      ]
     },
     "metadata": {},
     "output_type": "display_data"
    },
    {
     "data": {
      "application/javascript": [
       "\n",
       "        if (window._pyforest_update_imports_cell) { window._pyforest_update_imports_cell('import numpy as np'); }\n",
       "    "
      ],
      "text/plain": [
       "<IPython.core.display.Javascript object>"
      ]
     },
     "metadata": {},
     "output_type": "display_data"
    },
    {
     "data": {
      "application/javascript": [
       "\n",
       "        if (window._pyforest_update_imports_cell) { window._pyforest_update_imports_cell('import numpy as np'); }\n",
       "    "
      ],
      "text/plain": [
       "<IPython.core.display.Javascript object>"
      ]
     },
     "metadata": {},
     "output_type": "display_data"
    },
    {
     "data": {
      "application/javascript": [
       "\n",
       "        if (window._pyforest_update_imports_cell) { window._pyforest_update_imports_cell('import numpy as np'); }\n",
       "    "
      ],
      "text/plain": [
       "<IPython.core.display.Javascript object>"
      ]
     },
     "metadata": {},
     "output_type": "display_data"
    },
    {
     "data": {
      "application/javascript": [
       "\n",
       "        if (window._pyforest_update_imports_cell) { window._pyforest_update_imports_cell('import numpy as np'); }\n",
       "    "
      ],
      "text/plain": [
       "<IPython.core.display.Javascript object>"
      ]
     },
     "metadata": {},
     "output_type": "display_data"
    },
    {
     "data": {
      "application/javascript": [
       "\n",
       "        if (window._pyforest_update_imports_cell) { window._pyforest_update_imports_cell('import numpy as np'); }\n",
       "    "
      ],
      "text/plain": [
       "<IPython.core.display.Javascript object>"
      ]
     },
     "metadata": {},
     "output_type": "display_data"
    },
    {
     "data": {
      "application/javascript": [
       "\n",
       "        if (window._pyforest_update_imports_cell) { window._pyforest_update_imports_cell('import numpy as np'); }\n",
       "    "
      ],
      "text/plain": [
       "<IPython.core.display.Javascript object>"
      ]
     },
     "metadata": {},
     "output_type": "display_data"
    },
    {
     "data": {
      "application/javascript": [
       "\n",
       "        if (window._pyforest_update_imports_cell) { window._pyforest_update_imports_cell('import numpy as np'); }\n",
       "    "
      ],
      "text/plain": [
       "<IPython.core.display.Javascript object>"
      ]
     },
     "metadata": {},
     "output_type": "display_data"
    },
    {
     "data": {
      "application/javascript": [
       "\n",
       "        if (window._pyforest_update_imports_cell) { window._pyforest_update_imports_cell('import numpy as np'); }\n",
       "    "
      ],
      "text/plain": [
       "<IPython.core.display.Javascript object>"
      ]
     },
     "metadata": {},
     "output_type": "display_data"
    },
    {
     "data": {
      "application/javascript": [
       "\n",
       "        if (window._pyforest_update_imports_cell) { window._pyforest_update_imports_cell('import numpy as np'); }\n",
       "    "
      ],
      "text/plain": [
       "<IPython.core.display.Javascript object>"
      ]
     },
     "metadata": {},
     "output_type": "display_data"
    },
    {
     "data": {
      "application/javascript": [
       "\n",
       "        if (window._pyforest_update_imports_cell) { window._pyforest_update_imports_cell('import numpy as np'); }\n",
       "    "
      ],
      "text/plain": [
       "<IPython.core.display.Javascript object>"
      ]
     },
     "metadata": {},
     "output_type": "display_data"
    },
    {
     "data": {
      "application/javascript": [
       "\n",
       "        if (window._pyforest_update_imports_cell) { window._pyforest_update_imports_cell('import numpy as np'); }\n",
       "    "
      ],
      "text/plain": [
       "<IPython.core.display.Javascript object>"
      ]
     },
     "metadata": {},
     "output_type": "display_data"
    },
    {
     "data": {
      "application/javascript": [
       "\n",
       "        if (window._pyforest_update_imports_cell) { window._pyforest_update_imports_cell('import numpy as np'); }\n",
       "    "
      ],
      "text/plain": [
       "<IPython.core.display.Javascript object>"
      ]
     },
     "metadata": {},
     "output_type": "display_data"
    },
    {
     "data": {
      "application/javascript": [
       "\n",
       "        if (window._pyforest_update_imports_cell) { window._pyforest_update_imports_cell('import numpy as np'); }\n",
       "    "
      ],
      "text/plain": [
       "<IPython.core.display.Javascript object>"
      ]
     },
     "metadata": {},
     "output_type": "display_data"
    },
    {
     "data": {
      "application/javascript": [
       "\n",
       "        if (window._pyforest_update_imports_cell) { window._pyforest_update_imports_cell('import numpy as np'); }\n",
       "    "
      ],
      "text/plain": [
       "<IPython.core.display.Javascript object>"
      ]
     },
     "metadata": {},
     "output_type": "display_data"
    },
    {
     "data": {
      "application/javascript": [
       "\n",
       "        if (window._pyforest_update_imports_cell) { window._pyforest_update_imports_cell('import numpy as np'); }\n",
       "    "
      ],
      "text/plain": [
       "<IPython.core.display.Javascript object>"
      ]
     },
     "metadata": {},
     "output_type": "display_data"
    },
    {
     "data": {
      "application/javascript": [
       "\n",
       "        if (window._pyforest_update_imports_cell) { window._pyforest_update_imports_cell('import numpy as np'); }\n",
       "    "
      ],
      "text/plain": [
       "<IPython.core.display.Javascript object>"
      ]
     },
     "metadata": {},
     "output_type": "display_data"
    },
    {
     "data": {
      "application/javascript": [
       "\n",
       "        if (window._pyforest_update_imports_cell) { window._pyforest_update_imports_cell('import numpy as np'); }\n",
       "    "
      ],
      "text/plain": [
       "<IPython.core.display.Javascript object>"
      ]
     },
     "metadata": {},
     "output_type": "display_data"
    },
    {
     "data": {
      "application/javascript": [
       "\n",
       "        if (window._pyforest_update_imports_cell) { window._pyforest_update_imports_cell('import numpy as np'); }\n",
       "    "
      ],
      "text/plain": [
       "<IPython.core.display.Javascript object>"
      ]
     },
     "metadata": {},
     "output_type": "display_data"
    },
    {
     "data": {
      "application/javascript": [
       "\n",
       "        if (window._pyforest_update_imports_cell) { window._pyforest_update_imports_cell('import numpy as np'); }\n",
       "    "
      ],
      "text/plain": [
       "<IPython.core.display.Javascript object>"
      ]
     },
     "metadata": {},
     "output_type": "display_data"
    },
    {
     "data": {
      "application/javascript": [
       "\n",
       "        if (window._pyforest_update_imports_cell) { window._pyforest_update_imports_cell('import numpy as np'); }\n",
       "    "
      ],
      "text/plain": [
       "<IPython.core.display.Javascript object>"
      ]
     },
     "metadata": {},
     "output_type": "display_data"
    },
    {
     "data": {
      "application/javascript": [
       "\n",
       "        if (window._pyforest_update_imports_cell) { window._pyforest_update_imports_cell('import numpy as np'); }\n",
       "    "
      ],
      "text/plain": [
       "<IPython.core.display.Javascript object>"
      ]
     },
     "metadata": {},
     "output_type": "display_data"
    },
    {
     "data": {
      "application/javascript": [
       "\n",
       "        if (window._pyforest_update_imports_cell) { window._pyforest_update_imports_cell('import numpy as np'); }\n",
       "    "
      ],
      "text/plain": [
       "<IPython.core.display.Javascript object>"
      ]
     },
     "metadata": {},
     "output_type": "display_data"
    },
    {
     "data": {
      "application/javascript": [
       "\n",
       "        if (window._pyforest_update_imports_cell) { window._pyforest_update_imports_cell('import numpy as np'); }\n",
       "    "
      ],
      "text/plain": [
       "<IPython.core.display.Javascript object>"
      ]
     },
     "metadata": {},
     "output_type": "display_data"
    },
    {
     "data": {
      "application/javascript": [
       "\n",
       "        if (window._pyforest_update_imports_cell) { window._pyforest_update_imports_cell('import numpy as np'); }\n",
       "    "
      ],
      "text/plain": [
       "<IPython.core.display.Javascript object>"
      ]
     },
     "metadata": {},
     "output_type": "display_data"
    },
    {
     "data": {
      "application/javascript": [
       "\n",
       "        if (window._pyforest_update_imports_cell) { window._pyforest_update_imports_cell('import numpy as np'); }\n",
       "    "
      ],
      "text/plain": [
       "<IPython.core.display.Javascript object>"
      ]
     },
     "metadata": {},
     "output_type": "display_data"
    },
    {
     "data": {
      "application/javascript": [
       "\n",
       "        if (window._pyforest_update_imports_cell) { window._pyforest_update_imports_cell('import numpy as np'); }\n",
       "    "
      ],
      "text/plain": [
       "<IPython.core.display.Javascript object>"
      ]
     },
     "metadata": {},
     "output_type": "display_data"
    },
    {
     "data": {
      "application/javascript": [
       "\n",
       "        if (window._pyforest_update_imports_cell) { window._pyforest_update_imports_cell('import numpy as np'); }\n",
       "    "
      ],
      "text/plain": [
       "<IPython.core.display.Javascript object>"
      ]
     },
     "metadata": {},
     "output_type": "display_data"
    },
    {
     "data": {
      "application/javascript": [
       "\n",
       "        if (window._pyforest_update_imports_cell) { window._pyforest_update_imports_cell('import numpy as np'); }\n",
       "    "
      ],
      "text/plain": [
       "<IPython.core.display.Javascript object>"
      ]
     },
     "metadata": {},
     "output_type": "display_data"
    },
    {
     "data": {
      "application/javascript": [
       "\n",
       "        if (window._pyforest_update_imports_cell) { window._pyforest_update_imports_cell('import numpy as np'); }\n",
       "    "
      ],
      "text/plain": [
       "<IPython.core.display.Javascript object>"
      ]
     },
     "metadata": {},
     "output_type": "display_data"
    },
    {
     "data": {
      "application/javascript": [
       "\n",
       "        if (window._pyforest_update_imports_cell) { window._pyforest_update_imports_cell('import numpy as np'); }\n",
       "    "
      ],
      "text/plain": [
       "<IPython.core.display.Javascript object>"
      ]
     },
     "metadata": {},
     "output_type": "display_data"
    },
    {
     "data": {
      "application/javascript": [
       "\n",
       "        if (window._pyforest_update_imports_cell) { window._pyforest_update_imports_cell('import numpy as np'); }\n",
       "    "
      ],
      "text/plain": [
       "<IPython.core.display.Javascript object>"
      ]
     },
     "metadata": {},
     "output_type": "display_data"
    },
    {
     "data": {
      "application/javascript": [
       "\n",
       "        if (window._pyforest_update_imports_cell) { window._pyforest_update_imports_cell('import numpy as np'); }\n",
       "    "
      ],
      "text/plain": [
       "<IPython.core.display.Javascript object>"
      ]
     },
     "metadata": {},
     "output_type": "display_data"
    },
    {
     "data": {
      "application/javascript": [
       "\n",
       "        if (window._pyforest_update_imports_cell) { window._pyforest_update_imports_cell('import numpy as np'); }\n",
       "    "
      ],
      "text/plain": [
       "<IPython.core.display.Javascript object>"
      ]
     },
     "metadata": {},
     "output_type": "display_data"
    },
    {
     "data": {
      "application/javascript": [
       "\n",
       "        if (window._pyforest_update_imports_cell) { window._pyforest_update_imports_cell('import numpy as np'); }\n",
       "    "
      ],
      "text/plain": [
       "<IPython.core.display.Javascript object>"
      ]
     },
     "metadata": {},
     "output_type": "display_data"
    },
    {
     "data": {
      "application/javascript": [
       "\n",
       "        if (window._pyforest_update_imports_cell) { window._pyforest_update_imports_cell('import numpy as np'); }\n",
       "    "
      ],
      "text/plain": [
       "<IPython.core.display.Javascript object>"
      ]
     },
     "metadata": {},
     "output_type": "display_data"
    },
    {
     "data": {
      "application/javascript": [
       "\n",
       "        if (window._pyforest_update_imports_cell) { window._pyforest_update_imports_cell('import numpy as np'); }\n",
       "    "
      ],
      "text/plain": [
       "<IPython.core.display.Javascript object>"
      ]
     },
     "metadata": {},
     "output_type": "display_data"
    },
    {
     "data": {
      "application/javascript": [
       "\n",
       "        if (window._pyforest_update_imports_cell) { window._pyforest_update_imports_cell('import numpy as np'); }\n",
       "    "
      ],
      "text/plain": [
       "<IPython.core.display.Javascript object>"
      ]
     },
     "metadata": {},
     "output_type": "display_data"
    },
    {
     "data": {
      "application/javascript": [
       "\n",
       "        if (window._pyforest_update_imports_cell) { window._pyforest_update_imports_cell('import numpy as np'); }\n",
       "    "
      ],
      "text/plain": [
       "<IPython.core.display.Javascript object>"
      ]
     },
     "metadata": {},
     "output_type": "display_data"
    },
    {
     "data": {
      "application/javascript": [
       "\n",
       "        if (window._pyforest_update_imports_cell) { window._pyforest_update_imports_cell('import numpy as np'); }\n",
       "    "
      ],
      "text/plain": [
       "<IPython.core.display.Javascript object>"
      ]
     },
     "metadata": {},
     "output_type": "display_data"
    },
    {
     "data": {
      "application/javascript": [
       "\n",
       "        if (window._pyforest_update_imports_cell) { window._pyforest_update_imports_cell('import numpy as np'); }\n",
       "    "
      ],
      "text/plain": [
       "<IPython.core.display.Javascript object>"
      ]
     },
     "metadata": {},
     "output_type": "display_data"
    },
    {
     "data": {
      "application/javascript": [
       "\n",
       "        if (window._pyforest_update_imports_cell) { window._pyforest_update_imports_cell('import numpy as np'); }\n",
       "    "
      ],
      "text/plain": [
       "<IPython.core.display.Javascript object>"
      ]
     },
     "metadata": {},
     "output_type": "display_data"
    },
    {
     "data": {
      "application/javascript": [
       "\n",
       "        if (window._pyforest_update_imports_cell) { window._pyforest_update_imports_cell('import numpy as np'); }\n",
       "    "
      ],
      "text/plain": [
       "<IPython.core.display.Javascript object>"
      ]
     },
     "metadata": {},
     "output_type": "display_data"
    },
    {
     "data": {
      "application/javascript": [
       "\n",
       "        if (window._pyforest_update_imports_cell) { window._pyforest_update_imports_cell('import numpy as np'); }\n",
       "    "
      ],
      "text/plain": [
       "<IPython.core.display.Javascript object>"
      ]
     },
     "metadata": {},
     "output_type": "display_data"
    },
    {
     "data": {
      "application/javascript": [
       "\n",
       "        if (window._pyforest_update_imports_cell) { window._pyforest_update_imports_cell('import numpy as np'); }\n",
       "    "
      ],
      "text/plain": [
       "<IPython.core.display.Javascript object>"
      ]
     },
     "metadata": {},
     "output_type": "display_data"
    },
    {
     "data": {
      "application/javascript": [
       "\n",
       "        if (window._pyforest_update_imports_cell) { window._pyforest_update_imports_cell('import numpy as np'); }\n",
       "    "
      ],
      "text/plain": [
       "<IPython.core.display.Javascript object>"
      ]
     },
     "metadata": {},
     "output_type": "display_data"
    },
    {
     "data": {
      "application/javascript": [
       "\n",
       "        if (window._pyforest_update_imports_cell) { window._pyforest_update_imports_cell('import numpy as np'); }\n",
       "    "
      ],
      "text/plain": [
       "<IPython.core.display.Javascript object>"
      ]
     },
     "metadata": {},
     "output_type": "display_data"
    },
    {
     "data": {
      "application/javascript": [
       "\n",
       "        if (window._pyforest_update_imports_cell) { window._pyforest_update_imports_cell('import numpy as np'); }\n",
       "    "
      ],
      "text/plain": [
       "<IPython.core.display.Javascript object>"
      ]
     },
     "metadata": {},
     "output_type": "display_data"
    },
    {
     "data": {
      "application/javascript": [
       "\n",
       "        if (window._pyforest_update_imports_cell) { window._pyforest_update_imports_cell('import numpy as np'); }\n",
       "    "
      ],
      "text/plain": [
       "<IPython.core.display.Javascript object>"
      ]
     },
     "metadata": {},
     "output_type": "display_data"
    },
    {
     "data": {
      "application/javascript": [
       "\n",
       "        if (window._pyforest_update_imports_cell) { window._pyforest_update_imports_cell('import numpy as np'); }\n",
       "    "
      ],
      "text/plain": [
       "<IPython.core.display.Javascript object>"
      ]
     },
     "metadata": {},
     "output_type": "display_data"
    },
    {
     "data": {
      "application/javascript": [
       "\n",
       "        if (window._pyforest_update_imports_cell) { window._pyforest_update_imports_cell('import numpy as np'); }\n",
       "    "
      ],
      "text/plain": [
       "<IPython.core.display.Javascript object>"
      ]
     },
     "metadata": {},
     "output_type": "display_data"
    },
    {
     "data": {
      "application/javascript": [
       "\n",
       "        if (window._pyforest_update_imports_cell) { window._pyforest_update_imports_cell('import numpy as np'); }\n",
       "    "
      ],
      "text/plain": [
       "<IPython.core.display.Javascript object>"
      ]
     },
     "metadata": {},
     "output_type": "display_data"
    },
    {
     "data": {
      "application/javascript": [
       "\n",
       "        if (window._pyforest_update_imports_cell) { window._pyforest_update_imports_cell('import numpy as np'); }\n",
       "    "
      ],
      "text/plain": [
       "<IPython.core.display.Javascript object>"
      ]
     },
     "metadata": {},
     "output_type": "display_data"
    },
    {
     "data": {
      "application/javascript": [
       "\n",
       "        if (window._pyforest_update_imports_cell) { window._pyforest_update_imports_cell('import numpy as np'); }\n",
       "    "
      ],
      "text/plain": [
       "<IPython.core.display.Javascript object>"
      ]
     },
     "metadata": {},
     "output_type": "display_data"
    },
    {
     "data": {
      "application/javascript": [
       "\n",
       "        if (window._pyforest_update_imports_cell) { window._pyforest_update_imports_cell('import numpy as np'); }\n",
       "    "
      ],
      "text/plain": [
       "<IPython.core.display.Javascript object>"
      ]
     },
     "metadata": {},
     "output_type": "display_data"
    },
    {
     "data": {
      "application/javascript": [
       "\n",
       "        if (window._pyforest_update_imports_cell) { window._pyforest_update_imports_cell('import numpy as np'); }\n",
       "    "
      ],
      "text/plain": [
       "<IPython.core.display.Javascript object>"
      ]
     },
     "metadata": {},
     "output_type": "display_data"
    },
    {
     "data": {
      "application/javascript": [
       "\n",
       "        if (window._pyforest_update_imports_cell) { window._pyforest_update_imports_cell('import numpy as np'); }\n",
       "    "
      ],
      "text/plain": [
       "<IPython.core.display.Javascript object>"
      ]
     },
     "metadata": {},
     "output_type": "display_data"
    },
    {
     "data": {
      "application/javascript": [
       "\n",
       "        if (window._pyforest_update_imports_cell) { window._pyforest_update_imports_cell('import numpy as np'); }\n",
       "    "
      ],
      "text/plain": [
       "<IPython.core.display.Javascript object>"
      ]
     },
     "metadata": {},
     "output_type": "display_data"
    },
    {
     "data": {
      "application/javascript": [
       "\n",
       "        if (window._pyforest_update_imports_cell) { window._pyforest_update_imports_cell('import numpy as np'); }\n",
       "    "
      ],
      "text/plain": [
       "<IPython.core.display.Javascript object>"
      ]
     },
     "metadata": {},
     "output_type": "display_data"
    },
    {
     "data": {
      "application/javascript": [
       "\n",
       "        if (window._pyforest_update_imports_cell) { window._pyforest_update_imports_cell('import numpy as np'); }\n",
       "    "
      ],
      "text/plain": [
       "<IPython.core.display.Javascript object>"
      ]
     },
     "metadata": {},
     "output_type": "display_data"
    },
    {
     "data": {
      "application/javascript": [
       "\n",
       "        if (window._pyforest_update_imports_cell) { window._pyforest_update_imports_cell('import numpy as np'); }\n",
       "    "
      ],
      "text/plain": [
       "<IPython.core.display.Javascript object>"
      ]
     },
     "metadata": {},
     "output_type": "display_data"
    },
    {
     "data": {
      "application/javascript": [
       "\n",
       "        if (window._pyforest_update_imports_cell) { window._pyforest_update_imports_cell('import numpy as np'); }\n",
       "    "
      ],
      "text/plain": [
       "<IPython.core.display.Javascript object>"
      ]
     },
     "metadata": {},
     "output_type": "display_data"
    },
    {
     "data": {
      "application/javascript": [
       "\n",
       "        if (window._pyforest_update_imports_cell) { window._pyforest_update_imports_cell('import numpy as np'); }\n",
       "    "
      ],
      "text/plain": [
       "<IPython.core.display.Javascript object>"
      ]
     },
     "metadata": {},
     "output_type": "display_data"
    },
    {
     "data": {
      "application/javascript": [
       "\n",
       "        if (window._pyforest_update_imports_cell) { window._pyforest_update_imports_cell('import numpy as np'); }\n",
       "    "
      ],
      "text/plain": [
       "<IPython.core.display.Javascript object>"
      ]
     },
     "metadata": {},
     "output_type": "display_data"
    },
    {
     "data": {
      "application/javascript": [
       "\n",
       "        if (window._pyforest_update_imports_cell) { window._pyforest_update_imports_cell('import numpy as np'); }\n",
       "    "
      ],
      "text/plain": [
       "<IPython.core.display.Javascript object>"
      ]
     },
     "metadata": {},
     "output_type": "display_data"
    },
    {
     "data": {
      "application/javascript": [
       "\n",
       "        if (window._pyforest_update_imports_cell) { window._pyforest_update_imports_cell('import numpy as np'); }\n",
       "    "
      ],
      "text/plain": [
       "<IPython.core.display.Javascript object>"
      ]
     },
     "metadata": {},
     "output_type": "display_data"
    },
    {
     "data": {
      "application/javascript": [
       "\n",
       "        if (window._pyforest_update_imports_cell) { window._pyforest_update_imports_cell('import numpy as np'); }\n",
       "    "
      ],
      "text/plain": [
       "<IPython.core.display.Javascript object>"
      ]
     },
     "metadata": {},
     "output_type": "display_data"
    },
    {
     "data": {
      "application/javascript": [
       "\n",
       "        if (window._pyforest_update_imports_cell) { window._pyforest_update_imports_cell('import numpy as np'); }\n",
       "    "
      ],
      "text/plain": [
       "<IPython.core.display.Javascript object>"
      ]
     },
     "metadata": {},
     "output_type": "display_data"
    },
    {
     "data": {
      "application/javascript": [
       "\n",
       "        if (window._pyforest_update_imports_cell) { window._pyforest_update_imports_cell('import numpy as np'); }\n",
       "    "
      ],
      "text/plain": [
       "<IPython.core.display.Javascript object>"
      ]
     },
     "metadata": {},
     "output_type": "display_data"
    },
    {
     "data": {
      "application/javascript": [
       "\n",
       "        if (window._pyforest_update_imports_cell) { window._pyforest_update_imports_cell('import numpy as np'); }\n",
       "    "
      ],
      "text/plain": [
       "<IPython.core.display.Javascript object>"
      ]
     },
     "metadata": {},
     "output_type": "display_data"
    },
    {
     "data": {
      "application/javascript": [
       "\n",
       "        if (window._pyforest_update_imports_cell) { window._pyforest_update_imports_cell('import numpy as np'); }\n",
       "    "
      ],
      "text/plain": [
       "<IPython.core.display.Javascript object>"
      ]
     },
     "metadata": {},
     "output_type": "display_data"
    },
    {
     "data": {
      "application/javascript": [
       "\n",
       "        if (window._pyforest_update_imports_cell) { window._pyforest_update_imports_cell('import numpy as np'); }\n",
       "    "
      ],
      "text/plain": [
       "<IPython.core.display.Javascript object>"
      ]
     },
     "metadata": {},
     "output_type": "display_data"
    },
    {
     "data": {
      "application/javascript": [
       "\n",
       "        if (window._pyforest_update_imports_cell) { window._pyforest_update_imports_cell('import numpy as np'); }\n",
       "    "
      ],
      "text/plain": [
       "<IPython.core.display.Javascript object>"
      ]
     },
     "metadata": {},
     "output_type": "display_data"
    },
    {
     "data": {
      "application/javascript": [
       "\n",
       "        if (window._pyforest_update_imports_cell) { window._pyforest_update_imports_cell('import numpy as np'); }\n",
       "    "
      ],
      "text/plain": [
       "<IPython.core.display.Javascript object>"
      ]
     },
     "metadata": {},
     "output_type": "display_data"
    },
    {
     "data": {
      "application/javascript": [
       "\n",
       "        if (window._pyforest_update_imports_cell) { window._pyforest_update_imports_cell('import numpy as np'); }\n",
       "    "
      ],
      "text/plain": [
       "<IPython.core.display.Javascript object>"
      ]
     },
     "metadata": {},
     "output_type": "display_data"
    },
    {
     "data": {
      "application/javascript": [
       "\n",
       "        if (window._pyforest_update_imports_cell) { window._pyforest_update_imports_cell('import numpy as np'); }\n",
       "    "
      ],
      "text/plain": [
       "<IPython.core.display.Javascript object>"
      ]
     },
     "metadata": {},
     "output_type": "display_data"
    },
    {
     "data": {
      "application/javascript": [
       "\n",
       "        if (window._pyforest_update_imports_cell) { window._pyforest_update_imports_cell('import numpy as np'); }\n",
       "    "
      ],
      "text/plain": [
       "<IPython.core.display.Javascript object>"
      ]
     },
     "metadata": {},
     "output_type": "display_data"
    },
    {
     "data": {
      "application/javascript": [
       "\n",
       "        if (window._pyforest_update_imports_cell) { window._pyforest_update_imports_cell('import numpy as np'); }\n",
       "    "
      ],
      "text/plain": [
       "<IPython.core.display.Javascript object>"
      ]
     },
     "metadata": {},
     "output_type": "display_data"
    },
    {
     "data": {
      "application/javascript": [
       "\n",
       "        if (window._pyforest_update_imports_cell) { window._pyforest_update_imports_cell('import numpy as np'); }\n",
       "    "
      ],
      "text/plain": [
       "<IPython.core.display.Javascript object>"
      ]
     },
     "metadata": {},
     "output_type": "display_data"
    },
    {
     "data": {
      "application/javascript": [
       "\n",
       "        if (window._pyforest_update_imports_cell) { window._pyforest_update_imports_cell('import numpy as np'); }\n",
       "    "
      ],
      "text/plain": [
       "<IPython.core.display.Javascript object>"
      ]
     },
     "metadata": {},
     "output_type": "display_data"
    },
    {
     "data": {
      "application/javascript": [
       "\n",
       "        if (window._pyforest_update_imports_cell) { window._pyforest_update_imports_cell('import numpy as np'); }\n",
       "    "
      ],
      "text/plain": [
       "<IPython.core.display.Javascript object>"
      ]
     },
     "metadata": {},
     "output_type": "display_data"
    },
    {
     "data": {
      "application/javascript": [
       "\n",
       "        if (window._pyforest_update_imports_cell) { window._pyforest_update_imports_cell('import numpy as np'); }\n",
       "    "
      ],
      "text/plain": [
       "<IPython.core.display.Javascript object>"
      ]
     },
     "metadata": {},
     "output_type": "display_data"
    },
    {
     "data": {
      "application/javascript": [
       "\n",
       "        if (window._pyforest_update_imports_cell) { window._pyforest_update_imports_cell('import numpy as np'); }\n",
       "    "
      ],
      "text/plain": [
       "<IPython.core.display.Javascript object>"
      ]
     },
     "metadata": {},
     "output_type": "display_data"
    },
    {
     "data": {
      "application/javascript": [
       "\n",
       "        if (window._pyforest_update_imports_cell) { window._pyforest_update_imports_cell('import numpy as np'); }\n",
       "    "
      ],
      "text/plain": [
       "<IPython.core.display.Javascript object>"
      ]
     },
     "metadata": {},
     "output_type": "display_data"
    },
    {
     "data": {
      "application/javascript": [
       "\n",
       "        if (window._pyforest_update_imports_cell) { window._pyforest_update_imports_cell('import numpy as np'); }\n",
       "    "
      ],
      "text/plain": [
       "<IPython.core.display.Javascript object>"
      ]
     },
     "metadata": {},
     "output_type": "display_data"
    },
    {
     "data": {
      "application/javascript": [
       "\n",
       "        if (window._pyforest_update_imports_cell) { window._pyforest_update_imports_cell('import numpy as np'); }\n",
       "    "
      ],
      "text/plain": [
       "<IPython.core.display.Javascript object>"
      ]
     },
     "metadata": {},
     "output_type": "display_data"
    },
    {
     "data": {
      "application/javascript": [
       "\n",
       "        if (window._pyforest_update_imports_cell) { window._pyforest_update_imports_cell('import numpy as np'); }\n",
       "    "
      ],
      "text/plain": [
       "<IPython.core.display.Javascript object>"
      ]
     },
     "metadata": {},
     "output_type": "display_data"
    },
    {
     "data": {
      "application/javascript": [
       "\n",
       "        if (window._pyforest_update_imports_cell) { window._pyforest_update_imports_cell('import numpy as np'); }\n",
       "    "
      ],
      "text/plain": [
       "<IPython.core.display.Javascript object>"
      ]
     },
     "metadata": {},
     "output_type": "display_data"
    },
    {
     "data": {
      "application/javascript": [
       "\n",
       "        if (window._pyforest_update_imports_cell) { window._pyforest_update_imports_cell('import numpy as np'); }\n",
       "    "
      ],
      "text/plain": [
       "<IPython.core.display.Javascript object>"
      ]
     },
     "metadata": {},
     "output_type": "display_data"
    },
    {
     "data": {
      "application/javascript": [
       "\n",
       "        if (window._pyforest_update_imports_cell) { window._pyforest_update_imports_cell('import numpy as np'); }\n",
       "    "
      ],
      "text/plain": [
       "<IPython.core.display.Javascript object>"
      ]
     },
     "metadata": {},
     "output_type": "display_data"
    },
    {
     "data": {
      "application/javascript": [
       "\n",
       "        if (window._pyforest_update_imports_cell) { window._pyforest_update_imports_cell('import numpy as np'); }\n",
       "    "
      ],
      "text/plain": [
       "<IPython.core.display.Javascript object>"
      ]
     },
     "metadata": {},
     "output_type": "display_data"
    },
    {
     "data": {
      "application/javascript": [
       "\n",
       "        if (window._pyforest_update_imports_cell) { window._pyforest_update_imports_cell('import numpy as np'); }\n",
       "    "
      ],
      "text/plain": [
       "<IPython.core.display.Javascript object>"
      ]
     },
     "metadata": {},
     "output_type": "display_data"
    },
    {
     "data": {
      "application/javascript": [
       "\n",
       "        if (window._pyforest_update_imports_cell) { window._pyforest_update_imports_cell('import numpy as np'); }\n",
       "    "
      ],
      "text/plain": [
       "<IPython.core.display.Javascript object>"
      ]
     },
     "metadata": {},
     "output_type": "display_data"
    },
    {
     "data": {
      "application/javascript": [
       "\n",
       "        if (window._pyforest_update_imports_cell) { window._pyforest_update_imports_cell('import numpy as np'); }\n",
       "    "
      ],
      "text/plain": [
       "<IPython.core.display.Javascript object>"
      ]
     },
     "metadata": {},
     "output_type": "display_data"
    },
    {
     "data": {
      "application/javascript": [
       "\n",
       "        if (window._pyforest_update_imports_cell) { window._pyforest_update_imports_cell('import numpy as np'); }\n",
       "    "
      ],
      "text/plain": [
       "<IPython.core.display.Javascript object>"
      ]
     },
     "metadata": {},
     "output_type": "display_data"
    },
    {
     "data": {
      "application/javascript": [
       "\n",
       "        if (window._pyforest_update_imports_cell) { window._pyforest_update_imports_cell('import numpy as np'); }\n",
       "    "
      ],
      "text/plain": [
       "<IPython.core.display.Javascript object>"
      ]
     },
     "metadata": {},
     "output_type": "display_data"
    },
    {
     "data": {
      "application/javascript": [
       "\n",
       "        if (window._pyforest_update_imports_cell) { window._pyforest_update_imports_cell('import numpy as np'); }\n",
       "    "
      ],
      "text/plain": [
       "<IPython.core.display.Javascript object>"
      ]
     },
     "metadata": {},
     "output_type": "display_data"
    },
    {
     "data": {
      "application/javascript": [
       "\n",
       "        if (window._pyforest_update_imports_cell) { window._pyforest_update_imports_cell('import numpy as np'); }\n",
       "    "
      ],
      "text/plain": [
       "<IPython.core.display.Javascript object>"
      ]
     },
     "metadata": {},
     "output_type": "display_data"
    },
    {
     "data": {
      "application/javascript": [
       "\n",
       "        if (window._pyforest_update_imports_cell) { window._pyforest_update_imports_cell('import numpy as np'); }\n",
       "    "
      ],
      "text/plain": [
       "<IPython.core.display.Javascript object>"
      ]
     },
     "metadata": {},
     "output_type": "display_data"
    },
    {
     "data": {
      "application/javascript": [
       "\n",
       "        if (window._pyforest_update_imports_cell) { window._pyforest_update_imports_cell('import numpy as np'); }\n",
       "    "
      ],
      "text/plain": [
       "<IPython.core.display.Javascript object>"
      ]
     },
     "metadata": {},
     "output_type": "display_data"
    },
    {
     "data": {
      "application/javascript": [
       "\n",
       "        if (window._pyforest_update_imports_cell) { window._pyforest_update_imports_cell('import numpy as np'); }\n",
       "    "
      ],
      "text/plain": [
       "<IPython.core.display.Javascript object>"
      ]
     },
     "metadata": {},
     "output_type": "display_data"
    },
    {
     "data": {
      "application/javascript": [
       "\n",
       "        if (window._pyforest_update_imports_cell) { window._pyforest_update_imports_cell('import numpy as np'); }\n",
       "    "
      ],
      "text/plain": [
       "<IPython.core.display.Javascript object>"
      ]
     },
     "metadata": {},
     "output_type": "display_data"
    },
    {
     "data": {
      "application/javascript": [
       "\n",
       "        if (window._pyforest_update_imports_cell) { window._pyforest_update_imports_cell('import numpy as np'); }\n",
       "    "
      ],
      "text/plain": [
       "<IPython.core.display.Javascript object>"
      ]
     },
     "metadata": {},
     "output_type": "display_data"
    },
    {
     "data": {
      "application/javascript": [
       "\n",
       "        if (window._pyforest_update_imports_cell) { window._pyforest_update_imports_cell('import numpy as np'); }\n",
       "    "
      ],
      "text/plain": [
       "<IPython.core.display.Javascript object>"
      ]
     },
     "metadata": {},
     "output_type": "display_data"
    },
    {
     "data": {
      "application/javascript": [
       "\n",
       "        if (window._pyforest_update_imports_cell) { window._pyforest_update_imports_cell('import numpy as np'); }\n",
       "    "
      ],
      "text/plain": [
       "<IPython.core.display.Javascript object>"
      ]
     },
     "metadata": {},
     "output_type": "display_data"
    },
    {
     "data": {
      "application/javascript": [
       "\n",
       "        if (window._pyforest_update_imports_cell) { window._pyforest_update_imports_cell('import numpy as np'); }\n",
       "    "
      ],
      "text/plain": [
       "<IPython.core.display.Javascript object>"
      ]
     },
     "metadata": {},
     "output_type": "display_data"
    },
    {
     "data": {
      "application/javascript": [
       "\n",
       "        if (window._pyforest_update_imports_cell) { window._pyforest_update_imports_cell('import numpy as np'); }\n",
       "    "
      ],
      "text/plain": [
       "<IPython.core.display.Javascript object>"
      ]
     },
     "metadata": {},
     "output_type": "display_data"
    },
    {
     "data": {
      "application/javascript": [
       "\n",
       "        if (window._pyforest_update_imports_cell) { window._pyforest_update_imports_cell('import numpy as np'); }\n",
       "    "
      ],
      "text/plain": [
       "<IPython.core.display.Javascript object>"
      ]
     },
     "metadata": {},
     "output_type": "display_data"
    },
    {
     "data": {
      "application/javascript": [
       "\n",
       "        if (window._pyforest_update_imports_cell) { window._pyforest_update_imports_cell('import numpy as np'); }\n",
       "    "
      ],
      "text/plain": [
       "<IPython.core.display.Javascript object>"
      ]
     },
     "metadata": {},
     "output_type": "display_data"
    },
    {
     "data": {
      "application/javascript": [
       "\n",
       "        if (window._pyforest_update_imports_cell) { window._pyforest_update_imports_cell('import numpy as np'); }\n",
       "    "
      ],
      "text/plain": [
       "<IPython.core.display.Javascript object>"
      ]
     },
     "metadata": {},
     "output_type": "display_data"
    },
    {
     "data": {
      "application/javascript": [
       "\n",
       "        if (window._pyforest_update_imports_cell) { window._pyforest_update_imports_cell('import numpy as np'); }\n",
       "    "
      ],
      "text/plain": [
       "<IPython.core.display.Javascript object>"
      ]
     },
     "metadata": {},
     "output_type": "display_data"
    },
    {
     "data": {
      "application/javascript": [
       "\n",
       "        if (window._pyforest_update_imports_cell) { window._pyforest_update_imports_cell('import numpy as np'); }\n",
       "    "
      ],
      "text/plain": [
       "<IPython.core.display.Javascript object>"
      ]
     },
     "metadata": {},
     "output_type": "display_data"
    },
    {
     "data": {
      "application/javascript": [
       "\n",
       "        if (window._pyforest_update_imports_cell) { window._pyforest_update_imports_cell('import numpy as np'); }\n",
       "    "
      ],
      "text/plain": [
       "<IPython.core.display.Javascript object>"
      ]
     },
     "metadata": {},
     "output_type": "display_data"
    },
    {
     "data": {
      "application/javascript": [
       "\n",
       "        if (window._pyforest_update_imports_cell) { window._pyforest_update_imports_cell('import numpy as np'); }\n",
       "    "
      ],
      "text/plain": [
       "<IPython.core.display.Javascript object>"
      ]
     },
     "metadata": {},
     "output_type": "display_data"
    },
    {
     "data": {
      "application/javascript": [
       "\n",
       "        if (window._pyforest_update_imports_cell) { window._pyforest_update_imports_cell('import numpy as np'); }\n",
       "    "
      ],
      "text/plain": [
       "<IPython.core.display.Javascript object>"
      ]
     },
     "metadata": {},
     "output_type": "display_data"
    },
    {
     "data": {
      "application/javascript": [
       "\n",
       "        if (window._pyforest_update_imports_cell) { window._pyforest_update_imports_cell('import numpy as np'); }\n",
       "    "
      ],
      "text/plain": [
       "<IPython.core.display.Javascript object>"
      ]
     },
     "metadata": {},
     "output_type": "display_data"
    },
    {
     "data": {
      "application/javascript": [
       "\n",
       "        if (window._pyforest_update_imports_cell) { window._pyforest_update_imports_cell('import numpy as np'); }\n",
       "    "
      ],
      "text/plain": [
       "<IPython.core.display.Javascript object>"
      ]
     },
     "metadata": {},
     "output_type": "display_data"
    },
    {
     "data": {
      "application/javascript": [
       "\n",
       "        if (window._pyforest_update_imports_cell) { window._pyforest_update_imports_cell('import numpy as np'); }\n",
       "    "
      ],
      "text/plain": [
       "<IPython.core.display.Javascript object>"
      ]
     },
     "metadata": {},
     "output_type": "display_data"
    },
    {
     "data": {
      "application/javascript": [
       "\n",
       "        if (window._pyforest_update_imports_cell) { window._pyforest_update_imports_cell('import numpy as np'); }\n",
       "    "
      ],
      "text/plain": [
       "<IPython.core.display.Javascript object>"
      ]
     },
     "metadata": {},
     "output_type": "display_data"
    },
    {
     "data": {
      "application/javascript": [
       "\n",
       "        if (window._pyforest_update_imports_cell) { window._pyforest_update_imports_cell('import numpy as np'); }\n",
       "    "
      ],
      "text/plain": [
       "<IPython.core.display.Javascript object>"
      ]
     },
     "metadata": {},
     "output_type": "display_data"
    },
    {
     "data": {
      "application/javascript": [
       "\n",
       "        if (window._pyforest_update_imports_cell) { window._pyforest_update_imports_cell('import numpy as np'); }\n",
       "    "
      ],
      "text/plain": [
       "<IPython.core.display.Javascript object>"
      ]
     },
     "metadata": {},
     "output_type": "display_data"
    },
    {
     "data": {
      "application/javascript": [
       "\n",
       "        if (window._pyforest_update_imports_cell) { window._pyforest_update_imports_cell('import numpy as np'); }\n",
       "    "
      ],
      "text/plain": [
       "<IPython.core.display.Javascript object>"
      ]
     },
     "metadata": {},
     "output_type": "display_data"
    },
    {
     "data": {
      "application/javascript": [
       "\n",
       "        if (window._pyforest_update_imports_cell) { window._pyforest_update_imports_cell('import numpy as np'); }\n",
       "    "
      ],
      "text/plain": [
       "<IPython.core.display.Javascript object>"
      ]
     },
     "metadata": {},
     "output_type": "display_data"
    },
    {
     "data": {
      "application/javascript": [
       "\n",
       "        if (window._pyforest_update_imports_cell) { window._pyforest_update_imports_cell('import numpy as np'); }\n",
       "    "
      ],
      "text/plain": [
       "<IPython.core.display.Javascript object>"
      ]
     },
     "metadata": {},
     "output_type": "display_data"
    },
    {
     "data": {
      "application/javascript": [
       "\n",
       "        if (window._pyforest_update_imports_cell) { window._pyforest_update_imports_cell('import numpy as np'); }\n",
       "    "
      ],
      "text/plain": [
       "<IPython.core.display.Javascript object>"
      ]
     },
     "metadata": {},
     "output_type": "display_data"
    },
    {
     "data": {
      "application/javascript": [
       "\n",
       "        if (window._pyforest_update_imports_cell) { window._pyforest_update_imports_cell('import numpy as np'); }\n",
       "    "
      ],
      "text/plain": [
       "<IPython.core.display.Javascript object>"
      ]
     },
     "metadata": {},
     "output_type": "display_data"
    },
    {
     "data": {
      "application/javascript": [
       "\n",
       "        if (window._pyforest_update_imports_cell) { window._pyforest_update_imports_cell('import numpy as np'); }\n",
       "    "
      ],
      "text/plain": [
       "<IPython.core.display.Javascript object>"
      ]
     },
     "metadata": {},
     "output_type": "display_data"
    },
    {
     "data": {
      "application/javascript": [
       "\n",
       "        if (window._pyforest_update_imports_cell) { window._pyforest_update_imports_cell('import numpy as np'); }\n",
       "    "
      ],
      "text/plain": [
       "<IPython.core.display.Javascript object>"
      ]
     },
     "metadata": {},
     "output_type": "display_data"
    },
    {
     "data": {
      "application/javascript": [
       "\n",
       "        if (window._pyforest_update_imports_cell) { window._pyforest_update_imports_cell('import numpy as np'); }\n",
       "    "
      ],
      "text/plain": [
       "<IPython.core.display.Javascript object>"
      ]
     },
     "metadata": {},
     "output_type": "display_data"
    },
    {
     "data": {
      "application/javascript": [
       "\n",
       "        if (window._pyforest_update_imports_cell) { window._pyforest_update_imports_cell('import numpy as np'); }\n",
       "    "
      ],
      "text/plain": [
       "<IPython.core.display.Javascript object>"
      ]
     },
     "metadata": {},
     "output_type": "display_data"
    },
    {
     "data": {
      "application/javascript": [
       "\n",
       "        if (window._pyforest_update_imports_cell) { window._pyforest_update_imports_cell('import numpy as np'); }\n",
       "    "
      ],
      "text/plain": [
       "<IPython.core.display.Javascript object>"
      ]
     },
     "metadata": {},
     "output_type": "display_data"
    },
    {
     "data": {
      "application/javascript": [
       "\n",
       "        if (window._pyforest_update_imports_cell) { window._pyforest_update_imports_cell('import numpy as np'); }\n",
       "    "
      ],
      "text/plain": [
       "<IPython.core.display.Javascript object>"
      ]
     },
     "metadata": {},
     "output_type": "display_data"
    },
    {
     "data": {
      "application/javascript": [
       "\n",
       "        if (window._pyforest_update_imports_cell) { window._pyforest_update_imports_cell('import numpy as np'); }\n",
       "    "
      ],
      "text/plain": [
       "<IPython.core.display.Javascript object>"
      ]
     },
     "metadata": {},
     "output_type": "display_data"
    },
    {
     "data": {
      "application/javascript": [
       "\n",
       "        if (window._pyforest_update_imports_cell) { window._pyforest_update_imports_cell('import numpy as np'); }\n",
       "    "
      ],
      "text/plain": [
       "<IPython.core.display.Javascript object>"
      ]
     },
     "metadata": {},
     "output_type": "display_data"
    },
    {
     "data": {
      "application/javascript": [
       "\n",
       "        if (window._pyforest_update_imports_cell) { window._pyforest_update_imports_cell('import numpy as np'); }\n",
       "    "
      ],
      "text/plain": [
       "<IPython.core.display.Javascript object>"
      ]
     },
     "metadata": {},
     "output_type": "display_data"
    },
    {
     "data": {
      "application/javascript": [
       "\n",
       "        if (window._pyforest_update_imports_cell) { window._pyforest_update_imports_cell('import numpy as np'); }\n",
       "    "
      ],
      "text/plain": [
       "<IPython.core.display.Javascript object>"
      ]
     },
     "metadata": {},
     "output_type": "display_data"
    },
    {
     "data": {
      "application/javascript": [
       "\n",
       "        if (window._pyforest_update_imports_cell) { window._pyforest_update_imports_cell('import numpy as np'); }\n",
       "    "
      ],
      "text/plain": [
       "<IPython.core.display.Javascript object>"
      ]
     },
     "metadata": {},
     "output_type": "display_data"
    },
    {
     "data": {
      "application/javascript": [
       "\n",
       "        if (window._pyforest_update_imports_cell) { window._pyforest_update_imports_cell('import numpy as np'); }\n",
       "    "
      ],
      "text/plain": [
       "<IPython.core.display.Javascript object>"
      ]
     },
     "metadata": {},
     "output_type": "display_data"
    },
    {
     "data": {
      "application/javascript": [
       "\n",
       "        if (window._pyforest_update_imports_cell) { window._pyforest_update_imports_cell('import numpy as np'); }\n",
       "    "
      ],
      "text/plain": [
       "<IPython.core.display.Javascript object>"
      ]
     },
     "metadata": {},
     "output_type": "display_data"
    },
    {
     "data": {
      "application/javascript": [
       "\n",
       "        if (window._pyforest_update_imports_cell) { window._pyforest_update_imports_cell('import numpy as np'); }\n",
       "    "
      ],
      "text/plain": [
       "<IPython.core.display.Javascript object>"
      ]
     },
     "metadata": {},
     "output_type": "display_data"
    },
    {
     "data": {
      "application/javascript": [
       "\n",
       "        if (window._pyforest_update_imports_cell) { window._pyforest_update_imports_cell('import numpy as np'); }\n",
       "    "
      ],
      "text/plain": [
       "<IPython.core.display.Javascript object>"
      ]
     },
     "metadata": {},
     "output_type": "display_data"
    },
    {
     "data": {
      "application/javascript": [
       "\n",
       "        if (window._pyforest_update_imports_cell) { window._pyforest_update_imports_cell('import numpy as np'); }\n",
       "    "
      ],
      "text/plain": [
       "<IPython.core.display.Javascript object>"
      ]
     },
     "metadata": {},
     "output_type": "display_data"
    },
    {
     "data": {
      "application/javascript": [
       "\n",
       "        if (window._pyforest_update_imports_cell) { window._pyforest_update_imports_cell('import numpy as np'); }\n",
       "    "
      ],
      "text/plain": [
       "<IPython.core.display.Javascript object>"
      ]
     },
     "metadata": {},
     "output_type": "display_data"
    },
    {
     "data": {
      "application/javascript": [
       "\n",
       "        if (window._pyforest_update_imports_cell) { window._pyforest_update_imports_cell('import numpy as np'); }\n",
       "    "
      ],
      "text/plain": [
       "<IPython.core.display.Javascript object>"
      ]
     },
     "metadata": {},
     "output_type": "display_data"
    },
    {
     "data": {
      "application/javascript": [
       "\n",
       "        if (window._pyforest_update_imports_cell) { window._pyforest_update_imports_cell('import numpy as np'); }\n",
       "    "
      ],
      "text/plain": [
       "<IPython.core.display.Javascript object>"
      ]
     },
     "metadata": {},
     "output_type": "display_data"
    },
    {
     "data": {
      "application/javascript": [
       "\n",
       "        if (window._pyforest_update_imports_cell) { window._pyforest_update_imports_cell('import numpy as np'); }\n",
       "    "
      ],
      "text/plain": [
       "<IPython.core.display.Javascript object>"
      ]
     },
     "metadata": {},
     "output_type": "display_data"
    },
    {
     "data": {
      "application/javascript": [
       "\n",
       "        if (window._pyforest_update_imports_cell) { window._pyforest_update_imports_cell('import numpy as np'); }\n",
       "    "
      ],
      "text/plain": [
       "<IPython.core.display.Javascript object>"
      ]
     },
     "metadata": {},
     "output_type": "display_data"
    },
    {
     "data": {
      "application/javascript": [
       "\n",
       "        if (window._pyforest_update_imports_cell) { window._pyforest_update_imports_cell('import numpy as np'); }\n",
       "    "
      ],
      "text/plain": [
       "<IPython.core.display.Javascript object>"
      ]
     },
     "metadata": {},
     "output_type": "display_data"
    },
    {
     "data": {
      "application/javascript": [
       "\n",
       "        if (window._pyforest_update_imports_cell) { window._pyforest_update_imports_cell('import numpy as np'); }\n",
       "    "
      ],
      "text/plain": [
       "<IPython.core.display.Javascript object>"
      ]
     },
     "metadata": {},
     "output_type": "display_data"
    },
    {
     "data": {
      "application/javascript": [
       "\n",
       "        if (window._pyforest_update_imports_cell) { window._pyforest_update_imports_cell('import numpy as np'); }\n",
       "    "
      ],
      "text/plain": [
       "<IPython.core.display.Javascript object>"
      ]
     },
     "metadata": {},
     "output_type": "display_data"
    },
    {
     "data": {
      "application/javascript": [
       "\n",
       "        if (window._pyforest_update_imports_cell) { window._pyforest_update_imports_cell('import numpy as np'); }\n",
       "    "
      ],
      "text/plain": [
       "<IPython.core.display.Javascript object>"
      ]
     },
     "metadata": {},
     "output_type": "display_data"
    },
    {
     "data": {
      "application/javascript": [
       "\n",
       "        if (window._pyforest_update_imports_cell) { window._pyforest_update_imports_cell('import numpy as np'); }\n",
       "    "
      ],
      "text/plain": [
       "<IPython.core.display.Javascript object>"
      ]
     },
     "metadata": {},
     "output_type": "display_data"
    },
    {
     "data": {
      "application/javascript": [
       "\n",
       "        if (window._pyforest_update_imports_cell) { window._pyforest_update_imports_cell('import numpy as np'); }\n",
       "    "
      ],
      "text/plain": [
       "<IPython.core.display.Javascript object>"
      ]
     },
     "metadata": {},
     "output_type": "display_data"
    },
    {
     "data": {
      "application/javascript": [
       "\n",
       "        if (window._pyforest_update_imports_cell) { window._pyforest_update_imports_cell('import numpy as np'); }\n",
       "    "
      ],
      "text/plain": [
       "<IPython.core.display.Javascript object>"
      ]
     },
     "metadata": {},
     "output_type": "display_data"
    },
    {
     "data": {
      "application/javascript": [
       "\n",
       "        if (window._pyforest_update_imports_cell) { window._pyforest_update_imports_cell('import numpy as np'); }\n",
       "    "
      ],
      "text/plain": [
       "<IPython.core.display.Javascript object>"
      ]
     },
     "metadata": {},
     "output_type": "display_data"
    },
    {
     "data": {
      "application/javascript": [
       "\n",
       "        if (window._pyforest_update_imports_cell) { window._pyforest_update_imports_cell('import numpy as np'); }\n",
       "    "
      ],
      "text/plain": [
       "<IPython.core.display.Javascript object>"
      ]
     },
     "metadata": {},
     "output_type": "display_data"
    },
    {
     "data": {
      "application/javascript": [
       "\n",
       "        if (window._pyforest_update_imports_cell) { window._pyforest_update_imports_cell('import numpy as np'); }\n",
       "    "
      ],
      "text/plain": [
       "<IPython.core.display.Javascript object>"
      ]
     },
     "metadata": {},
     "output_type": "display_data"
    },
    {
     "data": {
      "application/javascript": [
       "\n",
       "        if (window._pyforest_update_imports_cell) { window._pyforest_update_imports_cell('import numpy as np'); }\n",
       "    "
      ],
      "text/plain": [
       "<IPython.core.display.Javascript object>"
      ]
     },
     "metadata": {},
     "output_type": "display_data"
    },
    {
     "data": {
      "application/javascript": [
       "\n",
       "        if (window._pyforest_update_imports_cell) { window._pyforest_update_imports_cell('import numpy as np'); }\n",
       "    "
      ],
      "text/plain": [
       "<IPython.core.display.Javascript object>"
      ]
     },
     "metadata": {},
     "output_type": "display_data"
    },
    {
     "data": {
      "application/javascript": [
       "\n",
       "        if (window._pyforest_update_imports_cell) { window._pyforest_update_imports_cell('import numpy as np'); }\n",
       "    "
      ],
      "text/plain": [
       "<IPython.core.display.Javascript object>"
      ]
     },
     "metadata": {},
     "output_type": "display_data"
    },
    {
     "data": {
      "application/javascript": [
       "\n",
       "        if (window._pyforest_update_imports_cell) { window._pyforest_update_imports_cell('import numpy as np'); }\n",
       "    "
      ],
      "text/plain": [
       "<IPython.core.display.Javascript object>"
      ]
     },
     "metadata": {},
     "output_type": "display_data"
    },
    {
     "data": {
      "application/javascript": [
       "\n",
       "        if (window._pyforest_update_imports_cell) { window._pyforest_update_imports_cell('import numpy as np'); }\n",
       "    "
      ],
      "text/plain": [
       "<IPython.core.display.Javascript object>"
      ]
     },
     "metadata": {},
     "output_type": "display_data"
    },
    {
     "data": {
      "application/javascript": [
       "\n",
       "        if (window._pyforest_update_imports_cell) { window._pyforest_update_imports_cell('import numpy as np'); }\n",
       "    "
      ],
      "text/plain": [
       "<IPython.core.display.Javascript object>"
      ]
     },
     "metadata": {},
     "output_type": "display_data"
    },
    {
     "data": {
      "application/javascript": [
       "\n",
       "        if (window._pyforest_update_imports_cell) { window._pyforest_update_imports_cell('import numpy as np'); }\n",
       "    "
      ],
      "text/plain": [
       "<IPython.core.display.Javascript object>"
      ]
     },
     "metadata": {},
     "output_type": "display_data"
    },
    {
     "data": {
      "application/javascript": [
       "\n",
       "        if (window._pyforest_update_imports_cell) { window._pyforest_update_imports_cell('import numpy as np'); }\n",
       "    "
      ],
      "text/plain": [
       "<IPython.core.display.Javascript object>"
      ]
     },
     "metadata": {},
     "output_type": "display_data"
    },
    {
     "data": {
      "application/javascript": [
       "\n",
       "        if (window._pyforest_update_imports_cell) { window._pyforest_update_imports_cell('import numpy as np'); }\n",
       "    "
      ],
      "text/plain": [
       "<IPython.core.display.Javascript object>"
      ]
     },
     "metadata": {},
     "output_type": "display_data"
    },
    {
     "data": {
      "application/javascript": [
       "\n",
       "        if (window._pyforest_update_imports_cell) { window._pyforest_update_imports_cell('import numpy as np'); }\n",
       "    "
      ],
      "text/plain": [
       "<IPython.core.display.Javascript object>"
      ]
     },
     "metadata": {},
     "output_type": "display_data"
    },
    {
     "data": {
      "application/javascript": [
       "\n",
       "        if (window._pyforest_update_imports_cell) { window._pyforest_update_imports_cell('import numpy as np'); }\n",
       "    "
      ],
      "text/plain": [
       "<IPython.core.display.Javascript object>"
      ]
     },
     "metadata": {},
     "output_type": "display_data"
    },
    {
     "data": {
      "application/javascript": [
       "\n",
       "        if (window._pyforest_update_imports_cell) { window._pyforest_update_imports_cell('import numpy as np'); }\n",
       "    "
      ],
      "text/plain": [
       "<IPython.core.display.Javascript object>"
      ]
     },
     "metadata": {},
     "output_type": "display_data"
    },
    {
     "data": {
      "application/javascript": [
       "\n",
       "        if (window._pyforest_update_imports_cell) { window._pyforest_update_imports_cell('import numpy as np'); }\n",
       "    "
      ],
      "text/plain": [
       "<IPython.core.display.Javascript object>"
      ]
     },
     "metadata": {},
     "output_type": "display_data"
    },
    {
     "data": {
      "application/javascript": [
       "\n",
       "        if (window._pyforest_update_imports_cell) { window._pyforest_update_imports_cell('import numpy as np'); }\n",
       "    "
      ],
      "text/plain": [
       "<IPython.core.display.Javascript object>"
      ]
     },
     "metadata": {},
     "output_type": "display_data"
    },
    {
     "data": {
      "application/javascript": [
       "\n",
       "        if (window._pyforest_update_imports_cell) { window._pyforest_update_imports_cell('import numpy as np'); }\n",
       "    "
      ],
      "text/plain": [
       "<IPython.core.display.Javascript object>"
      ]
     },
     "metadata": {},
     "output_type": "display_data"
    },
    {
     "data": {
      "application/javascript": [
       "\n",
       "        if (window._pyforest_update_imports_cell) { window._pyforest_update_imports_cell('import numpy as np'); }\n",
       "    "
      ],
      "text/plain": [
       "<IPython.core.display.Javascript object>"
      ]
     },
     "metadata": {},
     "output_type": "display_data"
    },
    {
     "data": {
      "application/javascript": [
       "\n",
       "        if (window._pyforest_update_imports_cell) { window._pyforest_update_imports_cell('import numpy as np'); }\n",
       "    "
      ],
      "text/plain": [
       "<IPython.core.display.Javascript object>"
      ]
     },
     "metadata": {},
     "output_type": "display_data"
    },
    {
     "data": {
      "application/javascript": [
       "\n",
       "        if (window._pyforest_update_imports_cell) { window._pyforest_update_imports_cell('import numpy as np'); }\n",
       "    "
      ],
      "text/plain": [
       "<IPython.core.display.Javascript object>"
      ]
     },
     "metadata": {},
     "output_type": "display_data"
    },
    {
     "data": {
      "application/javascript": [
       "\n",
       "        if (window._pyforest_update_imports_cell) { window._pyforest_update_imports_cell('import numpy as np'); }\n",
       "    "
      ],
      "text/plain": [
       "<IPython.core.display.Javascript object>"
      ]
     },
     "metadata": {},
     "output_type": "display_data"
    },
    {
     "data": {
      "application/javascript": [
       "\n",
       "        if (window._pyforest_update_imports_cell) { window._pyforest_update_imports_cell('import numpy as np'); }\n",
       "    "
      ],
      "text/plain": [
       "<IPython.core.display.Javascript object>"
      ]
     },
     "metadata": {},
     "output_type": "display_data"
    },
    {
     "data": {
      "application/javascript": [
       "\n",
       "        if (window._pyforest_update_imports_cell) { window._pyforest_update_imports_cell('import numpy as np'); }\n",
       "    "
      ],
      "text/plain": [
       "<IPython.core.display.Javascript object>"
      ]
     },
     "metadata": {},
     "output_type": "display_data"
    },
    {
     "data": {
      "application/javascript": [
       "\n",
       "        if (window._pyforest_update_imports_cell) { window._pyforest_update_imports_cell('import numpy as np'); }\n",
       "    "
      ],
      "text/plain": [
       "<IPython.core.display.Javascript object>"
      ]
     },
     "metadata": {},
     "output_type": "display_data"
    },
    {
     "data": {
      "application/javascript": [
       "\n",
       "        if (window._pyforest_update_imports_cell) { window._pyforest_update_imports_cell('import numpy as np'); }\n",
       "    "
      ],
      "text/plain": [
       "<IPython.core.display.Javascript object>"
      ]
     },
     "metadata": {},
     "output_type": "display_data"
    },
    {
     "data": {
      "application/javascript": [
       "\n",
       "        if (window._pyforest_update_imports_cell) { window._pyforest_update_imports_cell('import numpy as np'); }\n",
       "    "
      ],
      "text/plain": [
       "<IPython.core.display.Javascript object>"
      ]
     },
     "metadata": {},
     "output_type": "display_data"
    },
    {
     "data": {
      "application/javascript": [
       "\n",
       "        if (window._pyforest_update_imports_cell) { window._pyforest_update_imports_cell('import numpy as np'); }\n",
       "    "
      ],
      "text/plain": [
       "<IPython.core.display.Javascript object>"
      ]
     },
     "metadata": {},
     "output_type": "display_data"
    },
    {
     "data": {
      "application/javascript": [
       "\n",
       "        if (window._pyforest_update_imports_cell) { window._pyforest_update_imports_cell('import numpy as np'); }\n",
       "    "
      ],
      "text/plain": [
       "<IPython.core.display.Javascript object>"
      ]
     },
     "metadata": {},
     "output_type": "display_data"
    },
    {
     "data": {
      "application/javascript": [
       "\n",
       "        if (window._pyforest_update_imports_cell) { window._pyforest_update_imports_cell('import numpy as np'); }\n",
       "    "
      ],
      "text/plain": [
       "<IPython.core.display.Javascript object>"
      ]
     },
     "metadata": {},
     "output_type": "display_data"
    },
    {
     "data": {
      "application/javascript": [
       "\n",
       "        if (window._pyforest_update_imports_cell) { window._pyforest_update_imports_cell('import numpy as np'); }\n",
       "    "
      ],
      "text/plain": [
       "<IPython.core.display.Javascript object>"
      ]
     },
     "metadata": {},
     "output_type": "display_data"
    },
    {
     "data": {
      "application/javascript": [
       "\n",
       "        if (window._pyforest_update_imports_cell) { window._pyforest_update_imports_cell('import numpy as np'); }\n",
       "    "
      ],
      "text/plain": [
       "<IPython.core.display.Javascript object>"
      ]
     },
     "metadata": {},
     "output_type": "display_data"
    },
    {
     "data": {
      "application/javascript": [
       "\n",
       "        if (window._pyforest_update_imports_cell) { window._pyforest_update_imports_cell('import numpy as np'); }\n",
       "    "
      ],
      "text/plain": [
       "<IPython.core.display.Javascript object>"
      ]
     },
     "metadata": {},
     "output_type": "display_data"
    },
    {
     "data": {
      "application/javascript": [
       "\n",
       "        if (window._pyforest_update_imports_cell) { window._pyforest_update_imports_cell('import numpy as np'); }\n",
       "    "
      ],
      "text/plain": [
       "<IPython.core.display.Javascript object>"
      ]
     },
     "metadata": {},
     "output_type": "display_data"
    },
    {
     "data": {
      "application/javascript": [
       "\n",
       "        if (window._pyforest_update_imports_cell) { window._pyforest_update_imports_cell('import numpy as np'); }\n",
       "    "
      ],
      "text/plain": [
       "<IPython.core.display.Javascript object>"
      ]
     },
     "metadata": {},
     "output_type": "display_data"
    },
    {
     "data": {
      "application/javascript": [
       "\n",
       "        if (window._pyforest_update_imports_cell) { window._pyforest_update_imports_cell('import numpy as np'); }\n",
       "    "
      ],
      "text/plain": [
       "<IPython.core.display.Javascript object>"
      ]
     },
     "metadata": {},
     "output_type": "display_data"
    },
    {
     "data": {
      "application/javascript": [
       "\n",
       "        if (window._pyforest_update_imports_cell) { window._pyforest_update_imports_cell('import numpy as np'); }\n",
       "    "
      ],
      "text/plain": [
       "<IPython.core.display.Javascript object>"
      ]
     },
     "metadata": {},
     "output_type": "display_data"
    },
    {
     "data": {
      "application/javascript": [
       "\n",
       "        if (window._pyforest_update_imports_cell) { window._pyforest_update_imports_cell('import numpy as np'); }\n",
       "    "
      ],
      "text/plain": [
       "<IPython.core.display.Javascript object>"
      ]
     },
     "metadata": {},
     "output_type": "display_data"
    },
    {
     "data": {
      "application/javascript": [
       "\n",
       "        if (window._pyforest_update_imports_cell) { window._pyforest_update_imports_cell('import numpy as np'); }\n",
       "    "
      ],
      "text/plain": [
       "<IPython.core.display.Javascript object>"
      ]
     },
     "metadata": {},
     "output_type": "display_data"
    },
    {
     "data": {
      "application/javascript": [
       "\n",
       "        if (window._pyforest_update_imports_cell) { window._pyforest_update_imports_cell('import numpy as np'); }\n",
       "    "
      ],
      "text/plain": [
       "<IPython.core.display.Javascript object>"
      ]
     },
     "metadata": {},
     "output_type": "display_data"
    },
    {
     "data": {
      "application/javascript": [
       "\n",
       "        if (window._pyforest_update_imports_cell) { window._pyforest_update_imports_cell('import numpy as np'); }\n",
       "    "
      ],
      "text/plain": [
       "<IPython.core.display.Javascript object>"
      ]
     },
     "metadata": {},
     "output_type": "display_data"
    },
    {
     "data": {
      "application/javascript": [
       "\n",
       "        if (window._pyforest_update_imports_cell) { window._pyforest_update_imports_cell('import numpy as np'); }\n",
       "    "
      ],
      "text/plain": [
       "<IPython.core.display.Javascript object>"
      ]
     },
     "metadata": {},
     "output_type": "display_data"
    },
    {
     "data": {
      "application/javascript": [
       "\n",
       "        if (window._pyforest_update_imports_cell) { window._pyforest_update_imports_cell('import numpy as np'); }\n",
       "    "
      ],
      "text/plain": [
       "<IPython.core.display.Javascript object>"
      ]
     },
     "metadata": {},
     "output_type": "display_data"
    },
    {
     "data": {
      "application/javascript": [
       "\n",
       "        if (window._pyforest_update_imports_cell) { window._pyforest_update_imports_cell('import numpy as np'); }\n",
       "    "
      ],
      "text/plain": [
       "<IPython.core.display.Javascript object>"
      ]
     },
     "metadata": {},
     "output_type": "display_data"
    },
    {
     "data": {
      "application/javascript": [
       "\n",
       "        if (window._pyforest_update_imports_cell) { window._pyforest_update_imports_cell('import numpy as np'); }\n",
       "    "
      ],
      "text/plain": [
       "<IPython.core.display.Javascript object>"
      ]
     },
     "metadata": {},
     "output_type": "display_data"
    },
    {
     "data": {
      "application/javascript": [
       "\n",
       "        if (window._pyforest_update_imports_cell) { window._pyforest_update_imports_cell('import numpy as np'); }\n",
       "    "
      ],
      "text/plain": [
       "<IPython.core.display.Javascript object>"
      ]
     },
     "metadata": {},
     "output_type": "display_data"
    },
    {
     "data": {
      "application/javascript": [
       "\n",
       "        if (window._pyforest_update_imports_cell) { window._pyforest_update_imports_cell('import numpy as np'); }\n",
       "    "
      ],
      "text/plain": [
       "<IPython.core.display.Javascript object>"
      ]
     },
     "metadata": {},
     "output_type": "display_data"
    },
    {
     "data": {
      "application/javascript": [
       "\n",
       "        if (window._pyforest_update_imports_cell) { window._pyforest_update_imports_cell('import numpy as np'); }\n",
       "    "
      ],
      "text/plain": [
       "<IPython.core.display.Javascript object>"
      ]
     },
     "metadata": {},
     "output_type": "display_data"
    },
    {
     "data": {
      "application/javascript": [
       "\n",
       "        if (window._pyforest_update_imports_cell) { window._pyforest_update_imports_cell('import numpy as np'); }\n",
       "    "
      ],
      "text/plain": [
       "<IPython.core.display.Javascript object>"
      ]
     },
     "metadata": {},
     "output_type": "display_data"
    },
    {
     "data": {
      "application/javascript": [
       "\n",
       "        if (window._pyforest_update_imports_cell) { window._pyforest_update_imports_cell('import numpy as np'); }\n",
       "    "
      ],
      "text/plain": [
       "<IPython.core.display.Javascript object>"
      ]
     },
     "metadata": {},
     "output_type": "display_data"
    },
    {
     "data": {
      "application/javascript": [
       "\n",
       "        if (window._pyforest_update_imports_cell) { window._pyforest_update_imports_cell('import numpy as np'); }\n",
       "    "
      ],
      "text/plain": [
       "<IPython.core.display.Javascript object>"
      ]
     },
     "metadata": {},
     "output_type": "display_data"
    },
    {
     "data": {
      "application/javascript": [
       "\n",
       "        if (window._pyforest_update_imports_cell) { window._pyforest_update_imports_cell('import numpy as np'); }\n",
       "    "
      ],
      "text/plain": [
       "<IPython.core.display.Javascript object>"
      ]
     },
     "metadata": {},
     "output_type": "display_data"
    },
    {
     "data": {
      "application/javascript": [
       "\n",
       "        if (window._pyforest_update_imports_cell) { window._pyforest_update_imports_cell('import numpy as np'); }\n",
       "    "
      ],
      "text/plain": [
       "<IPython.core.display.Javascript object>"
      ]
     },
     "metadata": {},
     "output_type": "display_data"
    },
    {
     "data": {
      "application/javascript": [
       "\n",
       "        if (window._pyforest_update_imports_cell) { window._pyforest_update_imports_cell('import numpy as np'); }\n",
       "    "
      ],
      "text/plain": [
       "<IPython.core.display.Javascript object>"
      ]
     },
     "metadata": {},
     "output_type": "display_data"
    },
    {
     "data": {
      "application/javascript": [
       "\n",
       "        if (window._pyforest_update_imports_cell) { window._pyforest_update_imports_cell('import numpy as np'); }\n",
       "    "
      ],
      "text/plain": [
       "<IPython.core.display.Javascript object>"
      ]
     },
     "metadata": {},
     "output_type": "display_data"
    },
    {
     "data": {
      "application/javascript": [
       "\n",
       "        if (window._pyforest_update_imports_cell) { window._pyforest_update_imports_cell('import numpy as np'); }\n",
       "    "
      ],
      "text/plain": [
       "<IPython.core.display.Javascript object>"
      ]
     },
     "metadata": {},
     "output_type": "display_data"
    },
    {
     "data": {
      "application/javascript": [
       "\n",
       "        if (window._pyforest_update_imports_cell) { window._pyforest_update_imports_cell('import numpy as np'); }\n",
       "    "
      ],
      "text/plain": [
       "<IPython.core.display.Javascript object>"
      ]
     },
     "metadata": {},
     "output_type": "display_data"
    },
    {
     "data": {
      "application/javascript": [
       "\n",
       "        if (window._pyforest_update_imports_cell) { window._pyforest_update_imports_cell('import numpy as np'); }\n",
       "    "
      ],
      "text/plain": [
       "<IPython.core.display.Javascript object>"
      ]
     },
     "metadata": {},
     "output_type": "display_data"
    },
    {
     "data": {
      "application/javascript": [
       "\n",
       "        if (window._pyforest_update_imports_cell) { window._pyforest_update_imports_cell('import numpy as np'); }\n",
       "    "
      ],
      "text/plain": [
       "<IPython.core.display.Javascript object>"
      ]
     },
     "metadata": {},
     "output_type": "display_data"
    },
    {
     "data": {
      "application/javascript": [
       "\n",
       "        if (window._pyforest_update_imports_cell) { window._pyforest_update_imports_cell('import numpy as np'); }\n",
       "    "
      ],
      "text/plain": [
       "<IPython.core.display.Javascript object>"
      ]
     },
     "metadata": {},
     "output_type": "display_data"
    },
    {
     "data": {
      "application/javascript": [
       "\n",
       "        if (window._pyforest_update_imports_cell) { window._pyforest_update_imports_cell('import numpy as np'); }\n",
       "    "
      ],
      "text/plain": [
       "<IPython.core.display.Javascript object>"
      ]
     },
     "metadata": {},
     "output_type": "display_data"
    },
    {
     "data": {
      "application/javascript": [
       "\n",
       "        if (window._pyforest_update_imports_cell) { window._pyforest_update_imports_cell('import numpy as np'); }\n",
       "    "
      ],
      "text/plain": [
       "<IPython.core.display.Javascript object>"
      ]
     },
     "metadata": {},
     "output_type": "display_data"
    },
    {
     "data": {
      "application/javascript": [
       "\n",
       "        if (window._pyforest_update_imports_cell) { window._pyforest_update_imports_cell('import numpy as np'); }\n",
       "    "
      ],
      "text/plain": [
       "<IPython.core.display.Javascript object>"
      ]
     },
     "metadata": {},
     "output_type": "display_data"
    },
    {
     "data": {
      "application/javascript": [
       "\n",
       "        if (window._pyforest_update_imports_cell) { window._pyforest_update_imports_cell('import numpy as np'); }\n",
       "    "
      ],
      "text/plain": [
       "<IPython.core.display.Javascript object>"
      ]
     },
     "metadata": {},
     "output_type": "display_data"
    },
    {
     "data": {
      "application/javascript": [
       "\n",
       "        if (window._pyforest_update_imports_cell) { window._pyforest_update_imports_cell('import numpy as np'); }\n",
       "    "
      ],
      "text/plain": [
       "<IPython.core.display.Javascript object>"
      ]
     },
     "metadata": {},
     "output_type": "display_data"
    },
    {
     "data": {
      "application/javascript": [
       "\n",
       "        if (window._pyforest_update_imports_cell) { window._pyforest_update_imports_cell('import numpy as np'); }\n",
       "    "
      ],
      "text/plain": [
       "<IPython.core.display.Javascript object>"
      ]
     },
     "metadata": {},
     "output_type": "display_data"
    },
    {
     "data": {
      "application/javascript": [
       "\n",
       "        if (window._pyforest_update_imports_cell) { window._pyforest_update_imports_cell('import numpy as np'); }\n",
       "    "
      ],
      "text/plain": [
       "<IPython.core.display.Javascript object>"
      ]
     },
     "metadata": {},
     "output_type": "display_data"
    },
    {
     "data": {
      "application/javascript": [
       "\n",
       "        if (window._pyforest_update_imports_cell) { window._pyforest_update_imports_cell('import numpy as np'); }\n",
       "    "
      ],
      "text/plain": [
       "<IPython.core.display.Javascript object>"
      ]
     },
     "metadata": {},
     "output_type": "display_data"
    },
    {
     "data": {
      "application/javascript": [
       "\n",
       "        if (window._pyforest_update_imports_cell) { window._pyforest_update_imports_cell('import numpy as np'); }\n",
       "    "
      ],
      "text/plain": [
       "<IPython.core.display.Javascript object>"
      ]
     },
     "metadata": {},
     "output_type": "display_data"
    },
    {
     "data": {
      "application/javascript": [
       "\n",
       "        if (window._pyforest_update_imports_cell) { window._pyforest_update_imports_cell('import numpy as np'); }\n",
       "    "
      ],
      "text/plain": [
       "<IPython.core.display.Javascript object>"
      ]
     },
     "metadata": {},
     "output_type": "display_data"
    },
    {
     "data": {
      "application/javascript": [
       "\n",
       "        if (window._pyforest_update_imports_cell) { window._pyforest_update_imports_cell('import numpy as np'); }\n",
       "    "
      ],
      "text/plain": [
       "<IPython.core.display.Javascript object>"
      ]
     },
     "metadata": {},
     "output_type": "display_data"
    },
    {
     "data": {
      "application/javascript": [
       "\n",
       "        if (window._pyforest_update_imports_cell) { window._pyforest_update_imports_cell('import numpy as np'); }\n",
       "    "
      ],
      "text/plain": [
       "<IPython.core.display.Javascript object>"
      ]
     },
     "metadata": {},
     "output_type": "display_data"
    },
    {
     "data": {
      "application/javascript": [
       "\n",
       "        if (window._pyforest_update_imports_cell) { window._pyforest_update_imports_cell('import numpy as np'); }\n",
       "    "
      ],
      "text/plain": [
       "<IPython.core.display.Javascript object>"
      ]
     },
     "metadata": {},
     "output_type": "display_data"
    },
    {
     "data": {
      "application/javascript": [
       "\n",
       "        if (window._pyforest_update_imports_cell) { window._pyforest_update_imports_cell('import numpy as np'); }\n",
       "    "
      ],
      "text/plain": [
       "<IPython.core.display.Javascript object>"
      ]
     },
     "metadata": {},
     "output_type": "display_data"
    },
    {
     "data": {
      "application/javascript": [
       "\n",
       "        if (window._pyforest_update_imports_cell) { window._pyforest_update_imports_cell('import numpy as np'); }\n",
       "    "
      ],
      "text/plain": [
       "<IPython.core.display.Javascript object>"
      ]
     },
     "metadata": {},
     "output_type": "display_data"
    },
    {
     "data": {
      "application/javascript": [
       "\n",
       "        if (window._pyforest_update_imports_cell) { window._pyforest_update_imports_cell('import numpy as np'); }\n",
       "    "
      ],
      "text/plain": [
       "<IPython.core.display.Javascript object>"
      ]
     },
     "metadata": {},
     "output_type": "display_data"
    },
    {
     "data": {
      "application/javascript": [
       "\n",
       "        if (window._pyforest_update_imports_cell) { window._pyforest_update_imports_cell('import numpy as np'); }\n",
       "    "
      ],
      "text/plain": [
       "<IPython.core.display.Javascript object>"
      ]
     },
     "metadata": {},
     "output_type": "display_data"
    },
    {
     "data": {
      "application/javascript": [
       "\n",
       "        if (window._pyforest_update_imports_cell) { window._pyforest_update_imports_cell('import numpy as np'); }\n",
       "    "
      ],
      "text/plain": [
       "<IPython.core.display.Javascript object>"
      ]
     },
     "metadata": {},
     "output_type": "display_data"
    },
    {
     "data": {
      "application/javascript": [
       "\n",
       "        if (window._pyforest_update_imports_cell) { window._pyforest_update_imports_cell('import numpy as np'); }\n",
       "    "
      ],
      "text/plain": [
       "<IPython.core.display.Javascript object>"
      ]
     },
     "metadata": {},
     "output_type": "display_data"
    },
    {
     "data": {
      "application/javascript": [
       "\n",
       "        if (window._pyforest_update_imports_cell) { window._pyforest_update_imports_cell('import numpy as np'); }\n",
       "    "
      ],
      "text/plain": [
       "<IPython.core.display.Javascript object>"
      ]
     },
     "metadata": {},
     "output_type": "display_data"
    },
    {
     "data": {
      "application/javascript": [
       "\n",
       "        if (window._pyforest_update_imports_cell) { window._pyforest_update_imports_cell('import numpy as np'); }\n",
       "    "
      ],
      "text/plain": [
       "<IPython.core.display.Javascript object>"
      ]
     },
     "metadata": {},
     "output_type": "display_data"
    },
    {
     "data": {
      "application/javascript": [
       "\n",
       "        if (window._pyforest_update_imports_cell) { window._pyforest_update_imports_cell('import numpy as np'); }\n",
       "    "
      ],
      "text/plain": [
       "<IPython.core.display.Javascript object>"
      ]
     },
     "metadata": {},
     "output_type": "display_data"
    },
    {
     "data": {
      "application/javascript": [
       "\n",
       "        if (window._pyforest_update_imports_cell) { window._pyforest_update_imports_cell('import numpy as np'); }\n",
       "    "
      ],
      "text/plain": [
       "<IPython.core.display.Javascript object>"
      ]
     },
     "metadata": {},
     "output_type": "display_data"
    },
    {
     "data": {
      "application/javascript": [
       "\n",
       "        if (window._pyforest_update_imports_cell) { window._pyforest_update_imports_cell('import numpy as np'); }\n",
       "    "
      ],
      "text/plain": [
       "<IPython.core.display.Javascript object>"
      ]
     },
     "metadata": {},
     "output_type": "display_data"
    },
    {
     "data": {
      "application/javascript": [
       "\n",
       "        if (window._pyforest_update_imports_cell) { window._pyforest_update_imports_cell('import numpy as np'); }\n",
       "    "
      ],
      "text/plain": [
       "<IPython.core.display.Javascript object>"
      ]
     },
     "metadata": {},
     "output_type": "display_data"
    },
    {
     "data": {
      "application/javascript": [
       "\n",
       "        if (window._pyforest_update_imports_cell) { window._pyforest_update_imports_cell('import numpy as np'); }\n",
       "    "
      ],
      "text/plain": [
       "<IPython.core.display.Javascript object>"
      ]
     },
     "metadata": {},
     "output_type": "display_data"
    },
    {
     "data": {
      "application/javascript": [
       "\n",
       "        if (window._pyforest_update_imports_cell) { window._pyforest_update_imports_cell('import numpy as np'); }\n",
       "    "
      ],
      "text/plain": [
       "<IPython.core.display.Javascript object>"
      ]
     },
     "metadata": {},
     "output_type": "display_data"
    },
    {
     "data": {
      "application/javascript": [
       "\n",
       "        if (window._pyforest_update_imports_cell) { window._pyforest_update_imports_cell('import numpy as np'); }\n",
       "    "
      ],
      "text/plain": [
       "<IPython.core.display.Javascript object>"
      ]
     },
     "metadata": {},
     "output_type": "display_data"
    },
    {
     "data": {
      "application/javascript": [
       "\n",
       "        if (window._pyforest_update_imports_cell) { window._pyforest_update_imports_cell('import numpy as np'); }\n",
       "    "
      ],
      "text/plain": [
       "<IPython.core.display.Javascript object>"
      ]
     },
     "metadata": {},
     "output_type": "display_data"
    },
    {
     "data": {
      "application/javascript": [
       "\n",
       "        if (window._pyforest_update_imports_cell) { window._pyforest_update_imports_cell('import numpy as np'); }\n",
       "    "
      ],
      "text/plain": [
       "<IPython.core.display.Javascript object>"
      ]
     },
     "metadata": {},
     "output_type": "display_data"
    },
    {
     "data": {
      "application/javascript": [
       "\n",
       "        if (window._pyforest_update_imports_cell) { window._pyforest_update_imports_cell('import numpy as np'); }\n",
       "    "
      ],
      "text/plain": [
       "<IPython.core.display.Javascript object>"
      ]
     },
     "metadata": {},
     "output_type": "display_data"
    },
    {
     "data": {
      "application/javascript": [
       "\n",
       "        if (window._pyforest_update_imports_cell) { window._pyforest_update_imports_cell('import numpy as np'); }\n",
       "    "
      ],
      "text/plain": [
       "<IPython.core.display.Javascript object>"
      ]
     },
     "metadata": {},
     "output_type": "display_data"
    },
    {
     "data": {
      "application/javascript": [
       "\n",
       "        if (window._pyforest_update_imports_cell) { window._pyforest_update_imports_cell('import numpy as np'); }\n",
       "    "
      ],
      "text/plain": [
       "<IPython.core.display.Javascript object>"
      ]
     },
     "metadata": {},
     "output_type": "display_data"
    },
    {
     "data": {
      "application/javascript": [
       "\n",
       "        if (window._pyforest_update_imports_cell) { window._pyforest_update_imports_cell('import numpy as np'); }\n",
       "    "
      ],
      "text/plain": [
       "<IPython.core.display.Javascript object>"
      ]
     },
     "metadata": {},
     "output_type": "display_data"
    },
    {
     "data": {
      "application/javascript": [
       "\n",
       "        if (window._pyforest_update_imports_cell) { window._pyforest_update_imports_cell('import numpy as np'); }\n",
       "    "
      ],
      "text/plain": [
       "<IPython.core.display.Javascript object>"
      ]
     },
     "metadata": {},
     "output_type": "display_data"
    },
    {
     "data": {
      "application/javascript": [
       "\n",
       "        if (window._pyforest_update_imports_cell) { window._pyforest_update_imports_cell('import numpy as np'); }\n",
       "    "
      ],
      "text/plain": [
       "<IPython.core.display.Javascript object>"
      ]
     },
     "metadata": {},
     "output_type": "display_data"
    },
    {
     "data": {
      "application/javascript": [
       "\n",
       "        if (window._pyforest_update_imports_cell) { window._pyforest_update_imports_cell('import numpy as np'); }\n",
       "    "
      ],
      "text/plain": [
       "<IPython.core.display.Javascript object>"
      ]
     },
     "metadata": {},
     "output_type": "display_data"
    },
    {
     "data": {
      "application/javascript": [
       "\n",
       "        if (window._pyforest_update_imports_cell) { window._pyforest_update_imports_cell('import numpy as np'); }\n",
       "    "
      ],
      "text/plain": [
       "<IPython.core.display.Javascript object>"
      ]
     },
     "metadata": {},
     "output_type": "display_data"
    },
    {
     "data": {
      "application/javascript": [
       "\n",
       "        if (window._pyforest_update_imports_cell) { window._pyforest_update_imports_cell('import numpy as np'); }\n",
       "    "
      ],
      "text/plain": [
       "<IPython.core.display.Javascript object>"
      ]
     },
     "metadata": {},
     "output_type": "display_data"
    },
    {
     "data": {
      "application/javascript": [
       "\n",
       "        if (window._pyforest_update_imports_cell) { window._pyforest_update_imports_cell('import numpy as np'); }\n",
       "    "
      ],
      "text/plain": [
       "<IPython.core.display.Javascript object>"
      ]
     },
     "metadata": {},
     "output_type": "display_data"
    },
    {
     "data": {
      "application/javascript": [
       "\n",
       "        if (window._pyforest_update_imports_cell) { window._pyforest_update_imports_cell('import numpy as np'); }\n",
       "    "
      ],
      "text/plain": [
       "<IPython.core.display.Javascript object>"
      ]
     },
     "metadata": {},
     "output_type": "display_data"
    },
    {
     "data": {
      "application/javascript": [
       "\n",
       "        if (window._pyforest_update_imports_cell) { window._pyforest_update_imports_cell('import numpy as np'); }\n",
       "    "
      ],
      "text/plain": [
       "<IPython.core.display.Javascript object>"
      ]
     },
     "metadata": {},
     "output_type": "display_data"
    },
    {
     "data": {
      "application/javascript": [
       "\n",
       "        if (window._pyforest_update_imports_cell) { window._pyforest_update_imports_cell('import numpy as np'); }\n",
       "    "
      ],
      "text/plain": [
       "<IPython.core.display.Javascript object>"
      ]
     },
     "metadata": {},
     "output_type": "display_data"
    },
    {
     "data": {
      "application/javascript": [
       "\n",
       "        if (window._pyforest_update_imports_cell) { window._pyforest_update_imports_cell('import numpy as np'); }\n",
       "    "
      ],
      "text/plain": [
       "<IPython.core.display.Javascript object>"
      ]
     },
     "metadata": {},
     "output_type": "display_data"
    },
    {
     "data": {
      "application/javascript": [
       "\n",
       "        if (window._pyforest_update_imports_cell) { window._pyforest_update_imports_cell('import numpy as np'); }\n",
       "    "
      ],
      "text/plain": [
       "<IPython.core.display.Javascript object>"
      ]
     },
     "metadata": {},
     "output_type": "display_data"
    },
    {
     "data": {
      "application/javascript": [
       "\n",
       "        if (window._pyforest_update_imports_cell) { window._pyforest_update_imports_cell('import numpy as np'); }\n",
       "    "
      ],
      "text/plain": [
       "<IPython.core.display.Javascript object>"
      ]
     },
     "metadata": {},
     "output_type": "display_data"
    },
    {
     "data": {
      "application/javascript": [
       "\n",
       "        if (window._pyforest_update_imports_cell) { window._pyforest_update_imports_cell('import numpy as np'); }\n",
       "    "
      ],
      "text/plain": [
       "<IPython.core.display.Javascript object>"
      ]
     },
     "metadata": {},
     "output_type": "display_data"
    },
    {
     "data": {
      "application/javascript": [
       "\n",
       "        if (window._pyforest_update_imports_cell) { window._pyforest_update_imports_cell('import numpy as np'); }\n",
       "    "
      ],
      "text/plain": [
       "<IPython.core.display.Javascript object>"
      ]
     },
     "metadata": {},
     "output_type": "display_data"
    },
    {
     "data": {
      "application/javascript": [
       "\n",
       "        if (window._pyforest_update_imports_cell) { window._pyforest_update_imports_cell('import numpy as np'); }\n",
       "    "
      ],
      "text/plain": [
       "<IPython.core.display.Javascript object>"
      ]
     },
     "metadata": {},
     "output_type": "display_data"
    },
    {
     "data": {
      "application/javascript": [
       "\n",
       "        if (window._pyforest_update_imports_cell) { window._pyforest_update_imports_cell('import numpy as np'); }\n",
       "    "
      ],
      "text/plain": [
       "<IPython.core.display.Javascript object>"
      ]
     },
     "metadata": {},
     "output_type": "display_data"
    },
    {
     "data": {
      "application/javascript": [
       "\n",
       "        if (window._pyforest_update_imports_cell) { window._pyforest_update_imports_cell('import numpy as np'); }\n",
       "    "
      ],
      "text/plain": [
       "<IPython.core.display.Javascript object>"
      ]
     },
     "metadata": {},
     "output_type": "display_data"
    },
    {
     "data": {
      "application/javascript": [
       "\n",
       "        if (window._pyforest_update_imports_cell) { window._pyforest_update_imports_cell('import numpy as np'); }\n",
       "    "
      ],
      "text/plain": [
       "<IPython.core.display.Javascript object>"
      ]
     },
     "metadata": {},
     "output_type": "display_data"
    },
    {
     "data": {
      "application/javascript": [
       "\n",
       "        if (window._pyforest_update_imports_cell) { window._pyforest_update_imports_cell('import numpy as np'); }\n",
       "    "
      ],
      "text/plain": [
       "<IPython.core.display.Javascript object>"
      ]
     },
     "metadata": {},
     "output_type": "display_data"
    },
    {
     "data": {
      "application/javascript": [
       "\n",
       "        if (window._pyforest_update_imports_cell) { window._pyforest_update_imports_cell('import numpy as np'); }\n",
       "    "
      ],
      "text/plain": [
       "<IPython.core.display.Javascript object>"
      ]
     },
     "metadata": {},
     "output_type": "display_data"
    },
    {
     "data": {
      "application/javascript": [
       "\n",
       "        if (window._pyforest_update_imports_cell) { window._pyforest_update_imports_cell('import numpy as np'); }\n",
       "    "
      ],
      "text/plain": [
       "<IPython.core.display.Javascript object>"
      ]
     },
     "metadata": {},
     "output_type": "display_data"
    }
   ],
   "source": [
    "prediction_out = []\n",
    "for x in range(len(scaled_data)-400,len(scaled_data)):\n",
    "    prediction_value = model_5.predict(np.reshape(scaled_data[x-lookback_period:x,0],(1,-1)))\n",
    "    prediction_out.append((x,scaler.inverse_transform(prediction_value)[0][0]))"
   ]
  },
  {
   "cell_type": "code",
   "execution_count": 138,
   "metadata": {},
   "outputs": [],
   "source": [
    "x_future = pd.DataFrame(prediction_out,columns = ['index','pred']).set_index(['index'])\n",
    "#data_tf_15m.reset_index().merge(x_future, right_index=True,left_index=True)"
   ]
  },
  {
   "cell_type": "code",
   "execution_count": 139,
   "metadata": {},
   "outputs": [],
   "source": [
    "x_future=data_tf_5m.reset_index().merge(x_future, right_index=True,left_index=True)"
   ]
  },
  {
   "cell_type": "code",
   "execution_count": 141,
   "metadata": {},
   "outputs": [],
   "source": [
    "x_future.to_clipboard()"
   ]
  },
  {
   "cell_type": "code",
   "execution_count": 143,
   "metadata": {},
   "outputs": [
    {
     "data": {
      "text/plain": [
       "0.4796279907226534"
      ]
     },
     "execution_count": 143,
     "metadata": {},
     "output_type": "execute_result"
    }
   ],
   "source": [
    "mae_5"
   ]
  },
  {
   "cell_type": "markdown",
   "metadata": {},
   "source": [
    "## Stratergy Builder"
   ]
  },
  {
   "cell_type": "code",
   "execution_count": 14,
   "metadata": {},
   "outputs": [
    {
     "ename": "SyntaxError",
     "evalue": "invalid syntax (<ipython-input-14-cf47dcf1497e>, line 23)",
     "output_type": "error",
     "traceback": [
      "\u001b[0;36m  File \u001b[0;32m\"<ipython-input-14-cf47dcf1497e>\"\u001b[0;36m, line \u001b[0;32m23\u001b[0m\n\u001b[0;31m    df.loc[idx,'Outside bar'] = if current['High'] > prev['High'] and current['Low'] < prev['Low']:\u001b[0m\n\u001b[0m                                 ^\u001b[0m\n\u001b[0;31mSyntaxError\u001b[0m\u001b[0;31m:\u001b[0m invalid syntax\n"
     ]
    }
   ],
   "source": [
    "for i in range(2,df.shape[0]):\n",
    "    \n",
    "    current = df.iloc[i,:]\n",
    "    prev = df.iloc[i-1,:]\n",
    "    prev_2 = df.iloc[i-2,:]\n",
    "    realbody = abs(current['Open'] - current['Close'])\n",
    "    candle_range = current['High'] - current['Low']\n",
    "    idx = df.index[i]\n",
    "\n",
    "    # Bullish swing\n",
    "    df.loc[idx,'Bullish swing'] = current['Low'] > prev['Low'] and prev['Low'] < prev_2['Low']\n",
    "    # Bearish swing\n",
    "    df.loc[idx,'Bearish swing'] = current['High'] < prev['High'] and prev['High'] > prev_2['High']\n",
    "    # Bullish pinbar\n",
    "    df.loc[idx,'Bullish pinbar'] = realbody <= candle_range/3 and  min(current['Open'], current['Close']) > (current['High'] + current['Low'])/2 and current['Low'] < prev['Low']\n",
    "    # Bearish pinbar\n",
    "    df.loc[idx,'Bearish pinbar'] = realbody <= candle_range/3 and max(current['Open'] , current['Close']) < (current['High'] + current['Low'])/2 and current['High'] > prev['High']\n",
    "\n",
    "    # Inside bar\n",
    "    df.loc[idx,'Inside bar'] = current['High'] < prev['High'] and current['Low'] > prev['Low']\n",
    "\n",
    "    # Outside bar\n",
    "    df.loc[idx,'Outside bar'] = if current['High'] > prev['High'] and current['Low'] < prev['Low']:\n",
    "        df['Outside bar'] == \"Buy\"\n",
    "\n",
    "    # Bullish engulfing\n",
    "    df.loc[idx,'Bullish engulfing'] = current['High'] > prev['High'] and current['Low'] < prev['Low'] and realbody >= 0.8 * candle_range and current['Close'] > current['Open']\n",
    "    # Bearish engulfing\n",
    "    df.loc[idx,'Bearish engulfing'] = current['High'] > prev['High'] and current['Low'] < prev['Low'] and realbody >= 0.8 * candle_range and current['Close'] < current['Open']\n",
    "    df.fillna(False, inplace=True)"
   ]
  },
  {
   "cell_type": "code",
   "execution_count": 21,
   "metadata": {},
   "outputs": [],
   "source": [
    "df = data_tf_5m\n",
    "for i in range(2,df.shape[0]):\n",
    "    \n",
    "    current = df.iloc[i,:]\n",
    "    prev = df.iloc[i-1,:]\n",
    "    prev_2 = df.iloc[i-2,:]\n",
    "    realbody = abs(current['Open'] - current['Close'])\n",
    "    candle_range = current['High'] - current['Low']\n",
    "    idx = df.index[i]\n",
    "\n",
    "    # Bullish swing\n",
    "    if current['Low'] > prev['Low'] and prev['Low'] < prev_2['Low']:\n",
    "        df.loc[idx,'Bullish swing'] =df.loc[idx,'Close']\n",
    "    # Bearish swing\n",
    "    if current['High'] < prev['High'] and prev['High'] > prev_2['High']:\n",
    "        df.loc[idx,'Bearish swing'] = df.loc[idx,'Close']\n",
    "    # Bullish pinbar\n",
    "    if realbody <= candle_range/3 and  min(current['Open'], current['Close']) > (current['High'] + current['Low'])/2 and current['Low'] < prev['Low']:\n",
    "        df.loc[idx,'Bullish pinbar'] = df.loc[idx,'Close']\n",
    "    # Bearish pinbar\n",
    "    if realbody <= candle_range/3 and max(current['Open'] , current['Close']) < (current['High'] + current['Low'])/2 and current['High'] > prev['High']:\n",
    "        df.loc[idx,'Bearish pinbar'] = df.loc[idx,'Close']\n",
    "\n",
    "    # Inside bar\n",
    "    if current['High'] < prev['High'] and current['Low'] > prev['Low']:\n",
    "        df.loc[idx,'Inside bar']=df.loc[idx,'Close']\n",
    "    # Outside bar\n",
    "    if current['High'] > prev['High'] and current['Low'] < prev['Low']:\n",
    "        df.loc[idx,'Outside bar'] = df.loc[idx,'Close']\n",
    "\n",
    "    # Bullish engulfing\n",
    "    if current['High'] > prev['High'] and current['Low'] < prev['Low'] and realbody >= 0.8 * candle_range and current['Close'] > current['Open']:\n",
    "        df.loc[idx,'Bullish engulfing']= df.loc[idx,'Close']\n",
    "    # Bearish engulfing\n",
    "    if current['High'] > prev['High'] and current['Low'] < prev['Low'] and realbody >= 0.8 * candle_range and current['Close'] < current['Open']:\n",
    "        df.loc[idx,'Bearish engulfing']=df.loc[idx,'Close']\n",
    "    #df.fillna(False, inplace=True)"
   ]
  },
  {
   "cell_type": "code",
   "execution_count": 54,
   "metadata": {},
   "outputs": [],
   "source": [
    "df = data_tf_5m\n",
    "for i in range(5,df.shape[0]):\n",
    "    \n",
    "    current = df.iloc[i,:]\n",
    "    prev = df.iloc[i-1,:]\n",
    "    prev_2 = df.iloc[i-2,:]\n",
    "    prev_3 = df.iloc[i-3,:]\n",
    "    prev_4 = df.iloc[i-4,:]\n",
    "    prev_5 = df.iloc[i-5,:]\n",
    "    realbody = abs(current['Open'] - current['Close'])\n",
    "    realbody_prev = abs(prev['Open'] - prev['Close'])\n",
    "    upper_stick = abs(current['High'] - current['Close'])\n",
    "    lower_stick = abs(current['Open'] - current['Low'])\n",
    "    candle_range = current['High'] - current['Low']\n",
    "    candle_range_prev = prev['High'] - prev['Low']\n",
    "    idx = df.index[i]\n",
    "\n",
    "    # Bullish swing\n",
    "    if   realbody >= candle_range*0.80 and prev['Low']>prev_2['Low'] and prev_2['Low']>prev_3['Low'] and current['Close']>current['Open']:\n",
    "        df.loc[idx,'V-Bullish swing'] =df.loc[idx,'Close']\n",
    "    elif realbody >= candle_range*0.80 and prev['Low']<prev_2['Low'] and prev_2['Low']<prev_3['Low'] and current['Close']<current['Open']:\n",
    "        df.loc[idx,'V-Bearish swing'] =df.loc[idx,'Close']\n",
    "    elif upper_stick >= realbody*2 and current['Close'] == current['High'] and realbody_prev >= candle_range_prev*0.50 and current['High']>prev['High'] and current['Low']>prev['Low'] and prev['Low']>prev_2['Low'] and prev['High']>prev_2['High'] and prev_2['Low']>prev_3['Low'] and current['Close']>current['Open']:    \n",
    "        df.loc[idx,'V-Trend Reversal'] =df.loc[idx,'Close']\n",
    "    elif prev['Open']>prev_2['Open'] and prev_2['Open']>prev_3['Open'] and current['Close'] < current['Open'] and current['Open']>prev['Close'] and current['Open']>prev['Close']  and current['Close']<prev_2['Open'] and realbody > (realbody_prev*5) :\n",
    "        df.loc[idx,'V-test swing'] =df.loc[idx,'Close']   \n",
    "\n",
    "        "
   ]
  },
  {
   "cell_type": "code",
   "execution_count": 514,
   "metadata": {},
   "outputs": [
    {
     "ename": "KeyboardInterrupt",
     "evalue": "",
     "output_type": "error",
     "traceback": [
      "\u001b[0;31m---------------------------------------------------------------------------\u001b[0m",
      "\u001b[0;31mKeyboardInterrupt\u001b[0m                         Traceback (most recent call last)",
      "\u001b[0;32m<ipython-input-514-4caea1b9e84f>\u001b[0m in \u001b[0;36m<module>\u001b[0;34m\u001b[0m\n\u001b[1;32m     19\u001b[0m     \u001b[0mprev_3\u001b[0m \u001b[0;34m=\u001b[0m \u001b[0mdf\u001b[0m\u001b[0;34m.\u001b[0m\u001b[0miloc\u001b[0m\u001b[0;34m[\u001b[0m\u001b[0mi\u001b[0m\u001b[0;34m-\u001b[0m\u001b[0;36m3\u001b[0m\u001b[0;34m,\u001b[0m\u001b[0;34m:\u001b[0m\u001b[0;34m]\u001b[0m\u001b[0;34m\u001b[0m\u001b[0;34m\u001b[0m\u001b[0m\n\u001b[1;32m     20\u001b[0m     \u001b[0mprev_4\u001b[0m \u001b[0;34m=\u001b[0m \u001b[0mdf\u001b[0m\u001b[0;34m.\u001b[0m\u001b[0miloc\u001b[0m\u001b[0;34m[\u001b[0m\u001b[0mi\u001b[0m\u001b[0;34m-\u001b[0m\u001b[0;36m4\u001b[0m\u001b[0;34m,\u001b[0m\u001b[0;34m:\u001b[0m\u001b[0;34m]\u001b[0m\u001b[0;34m\u001b[0m\u001b[0;34m\u001b[0m\u001b[0m\n\u001b[0;32m---> 21\u001b[0;31m     \u001b[0mprev_5\u001b[0m \u001b[0;34m=\u001b[0m \u001b[0mdf\u001b[0m\u001b[0;34m.\u001b[0m\u001b[0miloc\u001b[0m\u001b[0;34m[\u001b[0m\u001b[0mi\u001b[0m\u001b[0;34m-\u001b[0m\u001b[0;36m5\u001b[0m\u001b[0;34m,\u001b[0m\u001b[0;34m:\u001b[0m\u001b[0;34m]\u001b[0m\u001b[0;34m\u001b[0m\u001b[0;34m\u001b[0m\u001b[0m\n\u001b[0m\u001b[1;32m     22\u001b[0m     \u001b[0mrealbody\u001b[0m \u001b[0;34m=\u001b[0m \u001b[0mabs\u001b[0m\u001b[0;34m(\u001b[0m\u001b[0mcurrent\u001b[0m\u001b[0;34m[\u001b[0m\u001b[0;34m'Open'\u001b[0m\u001b[0;34m]\u001b[0m \u001b[0;34m-\u001b[0m \u001b[0mcurrent\u001b[0m\u001b[0;34m[\u001b[0m\u001b[0;34m'Close'\u001b[0m\u001b[0;34m]\u001b[0m\u001b[0;34m)\u001b[0m\u001b[0;34m\u001b[0m\u001b[0;34m\u001b[0m\u001b[0m\n\u001b[1;32m     23\u001b[0m     \u001b[0mrealbody_prev\u001b[0m \u001b[0;34m=\u001b[0m \u001b[0mabs\u001b[0m\u001b[0;34m(\u001b[0m\u001b[0mprev\u001b[0m\u001b[0;34m[\u001b[0m\u001b[0;34m'Open'\u001b[0m\u001b[0;34m]\u001b[0m \u001b[0;34m-\u001b[0m \u001b[0mprev\u001b[0m\u001b[0;34m[\u001b[0m\u001b[0;34m'Close'\u001b[0m\u001b[0;34m]\u001b[0m\u001b[0;34m)\u001b[0m\u001b[0;34m\u001b[0m\u001b[0;34m\u001b[0m\u001b[0m\n",
      "\u001b[0;31mKeyboardInterrupt\u001b[0m: "
     ]
    }
   ],
   "source": [
    "start_time = datetime.datetime.now()\n",
    "historical_consolidated = pd.DataFrame(columns=['Datetime', 'Open', 'High', 'Low', 'Close', 'Volume', 'Dividends',\n",
    "       'Stock Splits', 'equity'])\n",
    "for x in stocks:\n",
    "    historical = refresh_data(x+'.NS','2D','1m').reset_index()\n",
    "    historical['equity']=x\n",
    "    historical_consolidated = historical_consolidated.append(historical,ignore_index=True)\n",
    "historical_consolidated['Datetime'] = pd.to_datetime(historical_consolidated['Datetime'])\n",
    "historical_consolidated['hour']=historical_consolidated['Datetime'].dt.hour\n",
    "historical_consolidated['min']= historical_consolidated['Datetime'].dt.minute\n",
    "historical_consolidated['day']= historical_consolidated['Datetime'].dt.day\n",
    "df = historical_consolidated[historical_consolidated['day']!=1]\n",
    "\n",
    "for i in range(5,df.shape[0]):\n",
    "    \n",
    "    current = df.iloc[i,:]\n",
    "    prev = df.iloc[i-1,:]\n",
    "    prev_2 = df.iloc[i-2,:]\n",
    "    prev_3 = df.iloc[i-3,:]\n",
    "    prev_4 = df.iloc[i-4,:]\n",
    "    prev_5 = df.iloc[i-5,:]\n",
    "    realbody = abs(current['Open'] - current['Close'])\n",
    "    realbody_prev = abs(prev['Open'] - prev['Close'])\n",
    "    realbody_prev2 = abs(prev_2['Open'] - prev_2['Close'])\n",
    "    upper_stick = abs(current['High'] - current['Close'])\n",
    "    lower_stick = abs(current['Open'] - current['Low'])\n",
    "    candle_range = current['High'] - current['Low']\n",
    "    candle_range_prev = prev['High'] - prev['Low']\n",
    "    idx = df.index[i]\n",
    "\n",
    "    #Bearish swing\n",
    "    if prev['Close']>prev_2['Close'] and realbody_prev>prev['Close']*0.005 and realbody_prev2>prev['Close']*0.005  and prev_2['Close']>prev_3['Close'] and prev_2['Close']>prev_3['Close'] and prev['Close']>prev['Open'] and prev_2['Close']>prev_2['Open'] and current['Open'] > current['Close'] and current['Close'] < prev_2['Open'] and current['Open']>prev['Close']:\n",
    "        df.loc[idx,'Bearish_Engulfing'] =df.loc[idx,'Close'] \n",
    "    ##bearish swing\n",
    "    if prev['Close']<prev_2['Close'] and realbody >= candle_range*0.80 and realbody_prev>prev['Close']*0.005 and realbody_prev2>prev['Close']*0.005  and prev_2['Close']<prev_3['Close'] and prev_2['Close']<prev_3['Close'] and prev['Close']<prev['Open'] and prev_2['Close']<prev_2['Open'] and current['Open'] < current['Close'] and current['Close'] > prev_2['Open'] and current['Open']>prev['Close']:\n",
    "        df.loc[idx,'Bullish_Engulfing'] =df.loc[idx,'Close']   \n",
    "end_time =datetime.datetime.now()          \n",
    "\n",
    "print('time taken to process complete task : {}'.format(end_time-start_time))\n",
    "\n"
   ]
  },
  {
   "cell_type": "code",
   "execution_count": 460,
   "metadata": {},
   "outputs": [],
   "source": [
    "start_time = datetime.datetime.now()\n",
    "historical_consolidated = pd.DataFrame(columns=['Datetime', 'Open', 'High', 'Low', 'Close', 'Volume', 'Dividends',\n",
    "       'Stock Splits', 'equity'])\n",
    "for x in stocks:\n",
    "    historical = refresh_data(x+'.NS','1D','1m').reset_index()\n",
    "    historical['equity']=x\n",
    "    historical_consolidated = historical_consolidated.append(historical,ignore_index=True)\n",
    "historical_consolidated['Datetime'] = pd.to_datetime(historical_consolidated['Datetime'])\n",
    "historical_consolidated['hour']=historical_consolidated['Datetime'].dt.hour\n",
    "historical_consolidated['min']= historical_consolidated['Datetime'].dt.minute"
   ]
  },
  {
   "cell_type": "code",
   "execution_count": 369,
   "metadata": {},
   "outputs": [],
   "source": [
    "eq_min_max= historical_consolidated[(historical_consolidated['hour']==9) & (historical_consolidated['min']<20) ].groupby(['equity']).agg({'Open':['min'],'Close':['max']})\n",
    "day_min_max= historical_consolidated.groupby(['equity']).agg({'Open':['min'],'Close':['max']})\n",
    "eq_min_max.columns=['Low_pp','High_pp']\n",
    "day_min_max.columns=['day_Low','day_High']\n",
    "historical_consolidated = historical_consolidated.merge(eq_min_max,on='equity')\n",
    "historical_consolidated = historical_consolidated.merge(day_min_max,on='equity')\n"
   ]
  },
  {
   "cell_type": "code",
   "execution_count": 8,
   "metadata": {},
   "outputs": [
    {
     "name": "stderr",
     "output_type": "stream",
     "text": [
      "/Users/vaigupta/Documents/Notebooks/anaconda3/lib/python3.7/site-packages/ipykernel_launcher.py:26: SettingWithCopyWarning: \n",
      "A value is trying to be set on a copy of a slice from a DataFrame.\n",
      "Try using .loc[row_indexer,col_indexer] = value instead\n",
      "\n",
      "See the caveats in the documentation: http://pandas.pydata.org/pandas-docs/stable/indexing.html#indexing-view-versus-copy\n",
      "/Users/vaigupta/Documents/Notebooks/anaconda3/lib/python3.7/site-packages/ipykernel_launcher.py:27: SettingWithCopyWarning: \n",
      "A value is trying to be set on a copy of a slice from a DataFrame.\n",
      "Try using .loc[row_indexer,col_indexer] = value instead\n",
      "\n",
      "See the caveats in the documentation: http://pandas.pydata.org/pandas-docs/stable/indexing.html#indexing-view-versus-copy\n",
      "/Users/vaigupta/Documents/Notebooks/anaconda3/lib/python3.7/site-packages/ipykernel_launcher.py:28: SettingWithCopyWarning: \n",
      "A value is trying to be set on a copy of a slice from a DataFrame.\n",
      "Try using .loc[row_indexer,col_indexer] = value instead\n",
      "\n",
      "See the caveats in the documentation: http://pandas.pydata.org/pandas-docs/stable/indexing.html#indexing-view-versus-copy\n",
      "/Users/vaigupta/Documents/Notebooks/anaconda3/lib/python3.7/site-packages/pandas/core/indexing.py:543: SettingWithCopyWarning: \n",
      "A value is trying to be set on a copy of a slice from a DataFrame.\n",
      "Try using .loc[row_indexer,col_indexer] = value instead\n",
      "\n",
      "See the caveats in the documentation: http://pandas.pydata.org/pandas-docs/stable/indexing.html#indexing-view-versus-copy\n",
      "  self.obj[item] = s\n"
     ]
    },
    {
     "name": "stdout",
     "output_type": "stream",
     "text": [
      "time taken to process complete task : 0:02:59.691535\n"
     ]
    }
   ],
   "source": [
    "start_time = datetime.datetime.now()\n",
    "historical_consolidated = pd.DataFrame(columns=['Datetime', 'Open', 'High', 'Low', 'Close', 'Volume', 'equity'])\n",
    "\n",
    "for x in stocks:\n",
    "    historical = refresh_data(x+'.NS','1D','5m').reset_index()\n",
    "    historical['equity']=x\n",
    "    historical_consolidated = historical_consolidated.append(historical,ignore_index=True)\n",
    "    \n",
    "historical_consolidated.drop(columns =['Volume'],inplace=True)    \n",
    "historical_consolidated['Datetime'] = pd.to_datetime(historical_consolidated['Datetime']).dt.tz_localize(None)\n",
    "historical_consolidated['hour']=historical_consolidated['Datetime'].dt.hour\n",
    "historical_consolidated['min']= historical_consolidated['Datetime'].dt.minute\n",
    "historical_consolidated['day']= historical_consolidated['Datetime'].dt.day\n",
    "\n",
    "historical_consolidated['Open_Max']= historical_consolidated[['Open','Close']].max(axis=1)\n",
    "historical_consolidated['Open_Min']= historical_consolidated[['Open','Close']].min(axis=1)\n",
    "\n",
    "eq_min_max= historical_consolidated[(historical_consolidated['hour']==9) & (historical_consolidated['min']<35)].groupby(['equity']).agg({'Open_Min':['min'],'Open_Max':['max']})\n",
    "day_min_max= historical_consolidated.groupby(['equity']).agg({'Open':['min'],'Close':['max']})\n",
    "eq_min_max.columns=['Low_pp','High_pp']\n",
    "day_min_max.columns=['day_Low','day_High']\n",
    "historical_consolidated = historical_consolidated.merge(eq_min_max,on='equity')\n",
    "historical_consolidated = historical_consolidated.merge(day_min_max,on='equity')\n",
    "\n",
    "df = historical_consolidated[(historical_consolidated['hour']>10) & (historical_consolidated['hour']<15)]\n",
    "df['bb']=0\n",
    "df['day_breakout']=0\n",
    "df['day_breakdown']=0\n",
    "\n",
    "for i in range(5,df.shape[0]): \n",
    "    current = df.iloc[i,:]\n",
    "    prev = df.iloc[i-1,:]\n",
    "    prev_2 = df.iloc[i-2,:]\n",
    "    prev_3 = df.iloc[i-3,:]\n",
    "    prev_4 = df.iloc[i-4,:]\n",
    "    prev_5 = df.iloc[i-5,:]\n",
    "    realbody = abs(current['Open'] - current['Close'])\n",
    "    realbody_prev = abs(prev['Open'] - prev['Close'])\n",
    "    realbody_prev2 = abs(prev_2['Open'] - prev_2['Close'])\n",
    "    upper_stick = abs( current['High'] - current['Close'])\n",
    "    lower_stick = abs(current['Open'] - current['Low'])\n",
    "    candle_range = current['High'] - current['Low']\n",
    "    candle_range_prev = abs(prev['High'] - prev['Low'])\n",
    "    idx = df.index[i]\n",
    "\n",
    "    if prev['Open']<prev['High_pp'] and prev['Close']>prev['High_pp'] and current['Open']>prev['Close'] and current['Close']>current['Open']  and current['bb']==0 and prev['Open'] < prev['Close'] and realbody_prev > candle_range_prev *0.80:\n",
    "        df.loc[idx,'day_breakout'] =df.loc[idx,'Close']\n",
    "        df.loc[df['equity']==current['equity'],'bb']=1\n",
    "        \n",
    "    elif prev['Open']>=prev['Low_pp'] and prev['Low_pp']>prev['Close'] and current['Open']<prev['Close'] and prev['Open']>prev['Close'] and current['Close']<current['Open'] and current['bb']==0 and realbody_prev > candle_range_prev *0.80:\n",
    "        df.loc[idx,'day_breakdown'] =df.loc[idx,'Close']\n",
    "        df.loc[df['equity']==current['equity'],'bb']=1\n",
    "        \n",
    "end_time =datetime.datetime.now()          \n",
    "\n",
    "print('time taken to process complete task : {}'.format(end_time-start_time)) \n"
   ]
  },
  {
   "cell_type": "code",
   "execution_count": 9,
   "metadata": {},
   "outputs": [
    {
     "name": "stderr",
     "output_type": "stream",
     "text": [
      "/Users/vaigupta/Documents/Notebooks/anaconda3/lib/python3.7/site-packages/ipykernel_launcher.py:2: SettingWithCopyWarning: \n",
      "A value is trying to be set on a copy of a slice from a DataFrame.\n",
      "Try using .loc[row_indexer,col_indexer] = value instead\n",
      "\n",
      "See the caveats in the documentation: http://pandas.pydata.org/pandas-docs/stable/indexing.html#indexing-view-versus-copy\n",
      "  \n",
      "/Users/vaigupta/Documents/Notebooks/anaconda3/lib/python3.7/site-packages/ipykernel_launcher.py:3: SettingWithCopyWarning: \n",
      "A value is trying to be set on a copy of a slice from a DataFrame.\n",
      "Try using .loc[row_indexer,col_indexer] = value instead\n",
      "\n",
      "See the caveats in the documentation: http://pandas.pydata.org/pandas-docs/stable/indexing.html#indexing-view-versus-copy\n",
      "  This is separate from the ipykernel package so we can avoid doing imports until\n"
     ]
    },
    {
     "data": {
      "text/html": [
       "<div>\n",
       "<style scoped>\n",
       "    .dataframe tbody tr th:only-of-type {\n",
       "        vertical-align: middle;\n",
       "    }\n",
       "\n",
       "    .dataframe tbody tr th {\n",
       "        vertical-align: top;\n",
       "    }\n",
       "\n",
       "    .dataframe thead th {\n",
       "        text-align: right;\n",
       "    }\n",
       "</style>\n",
       "<table border=\"1\" class=\"dataframe\">\n",
       "  <thead>\n",
       "    <tr style=\"text-align: right;\">\n",
       "      <th></th>\n",
       "      <th>Datetime</th>\n",
       "      <th>Open</th>\n",
       "      <th>High</th>\n",
       "      <th>Low</th>\n",
       "      <th>Close</th>\n",
       "      <th>equity</th>\n",
       "      <th>hour</th>\n",
       "      <th>min</th>\n",
       "      <th>day</th>\n",
       "      <th>Open_Max</th>\n",
       "      <th>Open_Min</th>\n",
       "      <th>Low_pp</th>\n",
       "      <th>High_pp</th>\n",
       "      <th>day_Low</th>\n",
       "      <th>day_High</th>\n",
       "      <th>bb</th>\n",
       "      <th>day_breakout</th>\n",
       "      <th>day_breakdown</th>\n",
       "      <th>delta_up</th>\n",
       "      <th>delta_down</th>\n",
       "    </tr>\n",
       "  </thead>\n",
       "  <tbody>\n",
       "    <tr>\n",
       "      <th>2131</th>\n",
       "      <td>2022-07-15 11:45:00</td>\n",
       "      <td>370.149994</td>\n",
       "      <td>370.549988</td>\n",
       "      <td>370.100006</td>\n",
       "      <td>370.549988</td>\n",
       "      <td>AMBUJACEM</td>\n",
       "      <td>11</td>\n",
       "      <td>45</td>\n",
       "      <td>15</td>\n",
       "      <td>370.549988</td>\n",
       "      <td>370.149994</td>\n",
       "      <td>368.450012</td>\n",
       "      <td>369.799988</td>\n",
       "      <td>368.450012</td>\n",
       "      <td>371.100006</td>\n",
       "      <td>1</td>\n",
       "      <td>370.549988</td>\n",
       "      <td>0.000000</td>\n",
       "      <td>0.148213</td>\n",
       "      <td>-inf</td>\n",
       "    </tr>\n",
       "    <tr>\n",
       "      <th>2350</th>\n",
       "      <td>2022-07-15 11:05:00</td>\n",
       "      <td>3890.050049</td>\n",
       "      <td>3891.199951</td>\n",
       "      <td>3882.850098</td>\n",
       "      <td>3888.449951</td>\n",
       "      <td>APOLLOHOSP</td>\n",
       "      <td>11</td>\n",
       "      <td>5</td>\n",
       "      <td>15</td>\n",
       "      <td>3890.050049</td>\n",
       "      <td>3888.449951</td>\n",
       "      <td>3898.100098</td>\n",
       "      <td>3941.949951</td>\n",
       "      <td>3885.350098</td>\n",
       "      <td>3941.649902</td>\n",
       "      <td>1</td>\n",
       "      <td>0.000000</td>\n",
       "      <td>3888.449951</td>\n",
       "      <td>100.000000</td>\n",
       "      <td>0.079720</td>\n",
       "    </tr>\n",
       "    <tr>\n",
       "      <th>2991</th>\n",
       "      <td>2022-07-15 14:55:00</td>\n",
       "      <td>1775.300049</td>\n",
       "      <td>1782.099976</td>\n",
       "      <td>1775.150024</td>\n",
       "      <td>1780.199951</td>\n",
       "      <td>ASTRAL</td>\n",
       "      <td>14</td>\n",
       "      <td>55</td>\n",
       "      <td>15</td>\n",
       "      <td>1780.199951</td>\n",
       "      <td>1775.300049</td>\n",
       "      <td>1767.550049</td>\n",
       "      <td>1773.150024</td>\n",
       "      <td>1761.849976</td>\n",
       "      <td>1790.949951</td>\n",
       "      <td>1</td>\n",
       "      <td>1780.199951</td>\n",
       "      <td>0.000000</td>\n",
       "      <td>0.600240</td>\n",
       "      <td>-inf</td>\n",
       "    </tr>\n",
       "    <tr>\n",
       "      <th>3242</th>\n",
       "      <td>2022-07-15 11:05:00</td>\n",
       "      <td>3894.050049</td>\n",
       "      <td>3897.949951</td>\n",
       "      <td>3894.000000</td>\n",
       "      <td>3894.000000</td>\n",
       "      <td>DMART</td>\n",
       "      <td>11</td>\n",
       "      <td>5</td>\n",
       "      <td>15</td>\n",
       "      <td>3894.050049</td>\n",
       "      <td>3894.000000</td>\n",
       "      <td>3897.000000</td>\n",
       "      <td>3930.000000</td>\n",
       "      <td>3891.000000</td>\n",
       "      <td>3937.850098</td>\n",
       "      <td>1</td>\n",
       "      <td>0.000000</td>\n",
       "      <td>3894.000000</td>\n",
       "      <td>100.000000</td>\n",
       "      <td>0.077042</td>\n",
       "    </tr>\n",
       "    <tr>\n",
       "      <th>4762</th>\n",
       "      <td>2022-07-15 12:50:00</td>\n",
       "      <td>240.649994</td>\n",
       "      <td>241.050003</td>\n",
       "      <td>240.500000</td>\n",
       "      <td>240.850006</td>\n",
       "      <td>BEL</td>\n",
       "      <td>12</td>\n",
       "      <td>50</td>\n",
       "      <td>15</td>\n",
       "      <td>240.850006</td>\n",
       "      <td>240.649994</td>\n",
       "      <td>237.850006</td>\n",
       "      <td>239.699997</td>\n",
       "      <td>237.850006</td>\n",
       "      <td>246.199997</td>\n",
       "      <td>1</td>\n",
       "      <td>240.850006</td>\n",
       "      <td>0.000000</td>\n",
       "      <td>2.173026</td>\n",
       "      <td>-inf</td>\n",
       "    </tr>\n",
       "    <tr>\n",
       "      <th>6727</th>\n",
       "      <td>2022-07-15 13:55:00</td>\n",
       "      <td>763.049988</td>\n",
       "      <td>767.400024</td>\n",
       "      <td>763.049988</td>\n",
       "      <td>765.000000</td>\n",
       "      <td>CARBORUNIV</td>\n",
       "      <td>13</td>\n",
       "      <td>55</td>\n",
       "      <td>15</td>\n",
       "      <td>765.000000</td>\n",
       "      <td>763.049988</td>\n",
       "      <td>758.200012</td>\n",
       "      <td>761.950012</td>\n",
       "      <td>748.250000</td>\n",
       "      <td>770.849976</td>\n",
       "      <td>1</td>\n",
       "      <td>765.000000</td>\n",
       "      <td>0.000000</td>\n",
       "      <td>0.758899</td>\n",
       "      <td>-inf</td>\n",
       "    </tr>\n",
       "    <tr>\n",
       "      <th>12722</th>\n",
       "      <td>2022-07-15 13:25:00</td>\n",
       "      <td>1328.449951</td>\n",
       "      <td>1329.949951</td>\n",
       "      <td>1328.300049</td>\n",
       "      <td>1329.349976</td>\n",
       "      <td>GODREJPROP</td>\n",
       "      <td>13</td>\n",
       "      <td>25</td>\n",
       "      <td>15</td>\n",
       "      <td>1329.349976</td>\n",
       "      <td>1328.449951</td>\n",
       "      <td>1320.099976</td>\n",
       "      <td>1327.949951</td>\n",
       "      <td>1320.099976</td>\n",
       "      <td>1346.949951</td>\n",
       "      <td>1</td>\n",
       "      <td>1329.349976</td>\n",
       "      <td>0.000000</td>\n",
       "      <td>1.306654</td>\n",
       "      <td>-inf</td>\n",
       "    </tr>\n",
       "    <tr>\n",
       "      <th>14514</th>\n",
       "      <td>2022-07-15 13:05:00</td>\n",
       "      <td>1246.000000</td>\n",
       "      <td>1246.300049</td>\n",
       "      <td>1245.000000</td>\n",
       "      <td>1245.800049</td>\n",
       "      <td>HAVELLS</td>\n",
       "      <td>13</td>\n",
       "      <td>5</td>\n",
       "      <td>15</td>\n",
       "      <td>1246.000000</td>\n",
       "      <td>1245.800049</td>\n",
       "      <td>1247.000000</td>\n",
       "      <td>1257.150024</td>\n",
       "      <td>1244.000000</td>\n",
       "      <td>1257.000000</td>\n",
       "      <td>1</td>\n",
       "      <td>0.000000</td>\n",
       "      <td>1245.800049</td>\n",
       "      <td>100.000000</td>\n",
       "      <td>0.144489</td>\n",
       "    </tr>\n",
       "    <tr>\n",
       "      <th>15129</th>\n",
       "      <td>2022-07-15 14:05:00</td>\n",
       "      <td>239.250000</td>\n",
       "      <td>239.350006</td>\n",
       "      <td>238.850006</td>\n",
       "      <td>239.350006</td>\n",
       "      <td>HINDPETRO</td>\n",
       "      <td>14</td>\n",
       "      <td>5</td>\n",
       "      <td>15</td>\n",
       "      <td>239.350006</td>\n",
       "      <td>239.250000</td>\n",
       "      <td>238.149994</td>\n",
       "      <td>239.000000</td>\n",
       "      <td>235.750000</td>\n",
       "      <td>241.350006</td>\n",
       "      <td>1</td>\n",
       "      <td>239.350006</td>\n",
       "      <td>0.000000</td>\n",
       "      <td>0.828672</td>\n",
       "      <td>-inf</td>\n",
       "    </tr>\n",
       "    <tr>\n",
       "      <th>17578</th>\n",
       "      <td>2022-07-15 14:15:00</td>\n",
       "      <td>1413.150024</td>\n",
       "      <td>1417.250000</td>\n",
       "      <td>1411.099976</td>\n",
       "      <td>1415.599976</td>\n",
       "      <td>INDIGOPNTS</td>\n",
       "      <td>14</td>\n",
       "      <td>15</td>\n",
       "      <td>15</td>\n",
       "      <td>1415.599976</td>\n",
       "      <td>1413.150024</td>\n",
       "      <td>1402.150024</td>\n",
       "      <td>1411.800049</td>\n",
       "      <td>1402.150024</td>\n",
       "      <td>1415.599976</td>\n",
       "      <td>1</td>\n",
       "      <td>1415.599976</td>\n",
       "      <td>0.000000</td>\n",
       "      <td>0.000000</td>\n",
       "      <td>-inf</td>\n",
       "    </tr>\n",
       "    <tr>\n",
       "      <th>17764</th>\n",
       "      <td>2022-07-15 11:05:00</td>\n",
       "      <td>365.600006</td>\n",
       "      <td>366.299988</td>\n",
       "      <td>365.200012</td>\n",
       "      <td>365.549988</td>\n",
       "      <td>IGL</td>\n",
       "      <td>11</td>\n",
       "      <td>5</td>\n",
       "      <td>15</td>\n",
       "      <td>365.600006</td>\n",
       "      <td>365.549988</td>\n",
       "      <td>366.500000</td>\n",
       "      <td>368.200012</td>\n",
       "      <td>365.399994</td>\n",
       "      <td>368.750000</td>\n",
       "      <td>1</td>\n",
       "      <td>0.000000</td>\n",
       "      <td>365.549988</td>\n",
       "      <td>100.000000</td>\n",
       "      <td>0.041032</td>\n",
       "    </tr>\n",
       "    <tr>\n",
       "      <th>20141</th>\n",
       "      <td>2022-07-15 14:10:00</td>\n",
       "      <td>362.850006</td>\n",
       "      <td>363.000000</td>\n",
       "      <td>362.850006</td>\n",
       "      <td>363.000000</td>\n",
       "      <td>KALPATPOWR</td>\n",
       "      <td>14</td>\n",
       "      <td>10</td>\n",
       "      <td>15</td>\n",
       "      <td>363.000000</td>\n",
       "      <td>362.850006</td>\n",
       "      <td>358.149994</td>\n",
       "      <td>362.450012</td>\n",
       "      <td>358.149994</td>\n",
       "      <td>366.350006</td>\n",
       "      <td>1</td>\n",
       "      <td>363.000000</td>\n",
       "      <td>0.000000</td>\n",
       "      <td>0.914428</td>\n",
       "      <td>-inf</td>\n",
       "    </tr>\n",
       "    <tr>\n",
       "      <th>20559</th>\n",
       "      <td>2022-07-15 11:50:00</td>\n",
       "      <td>1190.000000</td>\n",
       "      <td>1190.300049</td>\n",
       "      <td>1189.000000</td>\n",
       "      <td>1190.300049</td>\n",
       "      <td>KIMS</td>\n",
       "      <td>11</td>\n",
       "      <td>50</td>\n",
       "      <td>15</td>\n",
       "      <td>1190.300049</td>\n",
       "      <td>1190.000000</td>\n",
       "      <td>1186.099976</td>\n",
       "      <td>1188.750000</td>\n",
       "      <td>1184.900024</td>\n",
       "      <td>1198.900024</td>\n",
       "      <td>1</td>\n",
       "      <td>1190.300049</td>\n",
       "      <td>0.000000</td>\n",
       "      <td>0.717322</td>\n",
       "      <td>-inf</td>\n",
       "    </tr>\n",
       "    <tr>\n",
       "      <th>21832</th>\n",
       "      <td>2022-07-15 11:45:00</td>\n",
       "      <td>1106.650024</td>\n",
       "      <td>1108.699951</td>\n",
       "      <td>1101.300049</td>\n",
       "      <td>1104.949951</td>\n",
       "      <td>LODHA</td>\n",
       "      <td>11</td>\n",
       "      <td>45</td>\n",
       "      <td>15</td>\n",
       "      <td>1106.650024</td>\n",
       "      <td>1104.949951</td>\n",
       "      <td>1107.599976</td>\n",
       "      <td>1114.500000</td>\n",
       "      <td>1098.949951</td>\n",
       "      <td>1115.000000</td>\n",
       "      <td>1</td>\n",
       "      <td>0.000000</td>\n",
       "      <td>1104.949951</td>\n",
       "      <td>100.000000</td>\n",
       "      <td>0.543011</td>\n",
       "    </tr>\n",
       "    <tr>\n",
       "      <th>22651</th>\n",
       "      <td>2022-07-15 11:10:00</td>\n",
       "      <td>1960.300049</td>\n",
       "      <td>1960.300049</td>\n",
       "      <td>1956.000000</td>\n",
       "      <td>1957.400024</td>\n",
       "      <td>MASTEK</td>\n",
       "      <td>11</td>\n",
       "      <td>10</td>\n",
       "      <td>15</td>\n",
       "      <td>1960.300049</td>\n",
       "      <td>1957.400024</td>\n",
       "      <td>1964.000000</td>\n",
       "      <td>1977.000000</td>\n",
       "      <td>1952.599976</td>\n",
       "      <td>1977.000000</td>\n",
       "      <td>1</td>\n",
       "      <td>0.000000</td>\n",
       "      <td>1957.400024</td>\n",
       "      <td>100.000000</td>\n",
       "      <td>0.245226</td>\n",
       "    </tr>\n",
       "    <tr>\n",
       "      <th>23883</th>\n",
       "      <td>2022-07-15 13:25:00</td>\n",
       "      <td>585.900024</td>\n",
       "      <td>586.000000</td>\n",
       "      <td>585.900024</td>\n",
       "      <td>586.000000</td>\n",
       "      <td>NESCO</td>\n",
       "      <td>13</td>\n",
       "      <td>25</td>\n",
       "      <td>15</td>\n",
       "      <td>586.000000</td>\n",
       "      <td>585.900024</td>\n",
       "      <td>582.700012</td>\n",
       "      <td>585.650024</td>\n",
       "      <td>580.549988</td>\n",
       "      <td>598.000000</td>\n",
       "      <td>1</td>\n",
       "      <td>586.000000</td>\n",
       "      <td>0.000000</td>\n",
       "      <td>2.006689</td>\n",
       "      <td>-inf</td>\n",
       "    </tr>\n",
       "    <tr>\n",
       "      <th>25697</th>\n",
       "      <td>2022-07-15 13:55:00</td>\n",
       "      <td>251.699997</td>\n",
       "      <td>252.600006</td>\n",
       "      <td>251.699997</td>\n",
       "      <td>252.000000</td>\n",
       "      <td>PNCINFRA</td>\n",
       "      <td>13</td>\n",
       "      <td>55</td>\n",
       "      <td>15</td>\n",
       "      <td>252.000000</td>\n",
       "      <td>251.699997</td>\n",
       "      <td>249.750000</td>\n",
       "      <td>251.500000</td>\n",
       "      <td>248.050003</td>\n",
       "      <td>252.000000</td>\n",
       "      <td>1</td>\n",
       "      <td>252.000000</td>\n",
       "      <td>0.000000</td>\n",
       "      <td>0.000000</td>\n",
       "      <td>-inf</td>\n",
       "    </tr>\n",
       "    <tr>\n",
       "      <th>25782</th>\n",
       "      <td>2022-07-15 14:40:00</td>\n",
       "      <td>1922.000000</td>\n",
       "      <td>1924.800049</td>\n",
       "      <td>1920.599976</td>\n",
       "      <td>1924.800049</td>\n",
       "      <td>PVR</td>\n",
       "      <td>14</td>\n",
       "      <td>40</td>\n",
       "      <td>15</td>\n",
       "      <td>1924.800049</td>\n",
       "      <td>1922.000000</td>\n",
       "      <td>1904.050049</td>\n",
       "      <td>1919.000000</td>\n",
       "      <td>1904.050049</td>\n",
       "      <td>1933.800049</td>\n",
       "      <td>1</td>\n",
       "      <td>1924.800049</td>\n",
       "      <td>0.000000</td>\n",
       "      <td>0.465405</td>\n",
       "      <td>-inf</td>\n",
       "    </tr>\n",
       "    <tr>\n",
       "      <th>26404</th>\n",
       "      <td>2022-07-15 11:40:00</td>\n",
       "      <td>2107.350098</td>\n",
       "      <td>2109.000000</td>\n",
       "      <td>2104.000000</td>\n",
       "      <td>2106.000000</td>\n",
       "      <td>POLYCAB</td>\n",
       "      <td>11</td>\n",
       "      <td>40</td>\n",
       "      <td>15</td>\n",
       "      <td>2107.350098</td>\n",
       "      <td>2106.000000</td>\n",
       "      <td>2110.100098</td>\n",
       "      <td>2155.649902</td>\n",
       "      <td>2106.100098</td>\n",
       "      <td>2162.550049</td>\n",
       "      <td>1</td>\n",
       "      <td>0.000000</td>\n",
       "      <td>2106.000000</td>\n",
       "      <td>100.000000</td>\n",
       "      <td>-0.004753</td>\n",
       "    </tr>\n",
       "    <tr>\n",
       "      <th>29558</th>\n",
       "      <td>2022-07-15 12:50:00</td>\n",
       "      <td>2425.000000</td>\n",
       "      <td>2430.000000</td>\n",
       "      <td>2422.199951</td>\n",
       "      <td>2428.899902</td>\n",
       "      <td>SCHAEFFLER</td>\n",
       "      <td>12</td>\n",
       "      <td>50</td>\n",
       "      <td>15</td>\n",
       "      <td>2428.899902</td>\n",
       "      <td>2425.000000</td>\n",
       "      <td>2400.550049</td>\n",
       "      <td>2415.000000</td>\n",
       "      <td>2400.550049</td>\n",
       "      <td>2450.000000</td>\n",
       "      <td>1</td>\n",
       "      <td>2428.899902</td>\n",
       "      <td>0.000000</td>\n",
       "      <td>0.861228</td>\n",
       "      <td>-inf</td>\n",
       "    </tr>\n",
       "    <tr>\n",
       "      <th>29718</th>\n",
       "      <td>2022-07-15 14:25:00</td>\n",
       "      <td>2633.699951</td>\n",
       "      <td>2641.199951</td>\n",
       "      <td>2633.699951</td>\n",
       "      <td>2639.550049</td>\n",
       "      <td>SFL</td>\n",
       "      <td>14</td>\n",
       "      <td>25</td>\n",
       "      <td>15</td>\n",
       "      <td>2639.550049</td>\n",
       "      <td>2633.699951</td>\n",
       "      <td>2611.250000</td>\n",
       "      <td>2625.850098</td>\n",
       "      <td>2604.100098</td>\n",
       "      <td>2657.500000</td>\n",
       "      <td>1</td>\n",
       "      <td>2639.550049</td>\n",
       "      <td>0.000000</td>\n",
       "      <td>0.675445</td>\n",
       "      <td>-inf</td>\n",
       "    </tr>\n",
       "    <tr>\n",
       "      <th>32883</th>\n",
       "      <td>2022-07-15 11:45:00</td>\n",
       "      <td>983.000000</td>\n",
       "      <td>985.750000</td>\n",
       "      <td>983.000000</td>\n",
       "      <td>984.849976</td>\n",
       "      <td>TATACOMM</td>\n",
       "      <td>11</td>\n",
       "      <td>45</td>\n",
       "      <td>15</td>\n",
       "      <td>984.849976</td>\n",
       "      <td>983.000000</td>\n",
       "      <td>965.650024</td>\n",
       "      <td>980.950012</td>\n",
       "      <td>965.650024</td>\n",
       "      <td>987.049988</td>\n",
       "      <td>1</td>\n",
       "      <td>984.849976</td>\n",
       "      <td>0.000000</td>\n",
       "      <td>0.222888</td>\n",
       "      <td>-inf</td>\n",
       "    </tr>\n",
       "    <tr>\n",
       "      <th>34467</th>\n",
       "      <td>2022-07-15 12:55:00</td>\n",
       "      <td>1202.099976</td>\n",
       "      <td>1207.500000</td>\n",
       "      <td>1201.000000</td>\n",
       "      <td>1206.550049</td>\n",
       "      <td>TRENT</td>\n",
       "      <td>12</td>\n",
       "      <td>55</td>\n",
       "      <td>15</td>\n",
       "      <td>1206.550049</td>\n",
       "      <td>1202.099976</td>\n",
       "      <td>1182.099976</td>\n",
       "      <td>1196.500000</td>\n",
       "      <td>1182.099976</td>\n",
       "      <td>1212.500000</td>\n",
       "      <td>1</td>\n",
       "      <td>1206.550049</td>\n",
       "      <td>0.000000</td>\n",
       "      <td>0.490718</td>\n",
       "      <td>-inf</td>\n",
       "    </tr>\n",
       "    <tr>\n",
       "      <th>36214</th>\n",
       "      <td>2022-07-15 14:10:00</td>\n",
       "      <td>325.000000</td>\n",
       "      <td>326.250000</td>\n",
       "      <td>324.750000</td>\n",
       "      <td>325.500000</td>\n",
       "      <td>VIJAYA</td>\n",
       "      <td>14</td>\n",
       "      <td>10</td>\n",
       "      <td>15</td>\n",
       "      <td>325.500000</td>\n",
       "      <td>325.000000</td>\n",
       "      <td>319.500000</td>\n",
       "      <td>324.649994</td>\n",
       "      <td>319.399994</td>\n",
       "      <td>328.600006</td>\n",
       "      <td>1</td>\n",
       "      <td>325.500000</td>\n",
       "      <td>0.000000</td>\n",
       "      <td>0.943398</td>\n",
       "      <td>-inf</td>\n",
       "    </tr>\n",
       "    <tr>\n",
       "      <th>37185</th>\n",
       "      <td>2022-07-15 14:45:00</td>\n",
       "      <td>250.250000</td>\n",
       "      <td>250.500000</td>\n",
       "      <td>249.199997</td>\n",
       "      <td>249.500000</td>\n",
       "      <td>ZENSARTECH</td>\n",
       "      <td>14</td>\n",
       "      <td>45</td>\n",
       "      <td>15</td>\n",
       "      <td>250.250000</td>\n",
       "      <td>249.500000</td>\n",
       "      <td>250.600006</td>\n",
       "      <td>253.100006</td>\n",
       "      <td>248.649994</td>\n",
       "      <td>252.949997</td>\n",
       "      <td>1</td>\n",
       "      <td>0.000000</td>\n",
       "      <td>249.500000</td>\n",
       "      <td>100.000000</td>\n",
       "      <td>0.340684</td>\n",
       "    </tr>\n",
       "    <tr>\n",
       "      <th>37400</th>\n",
       "      <td>2022-07-15 13:45:00</td>\n",
       "      <td>1612.949951</td>\n",
       "      <td>1612.949951</td>\n",
       "      <td>1610.599976</td>\n",
       "      <td>1611.300049</td>\n",
       "      <td>ZYDUSWELL</td>\n",
       "      <td>13</td>\n",
       "      <td>45</td>\n",
       "      <td>15</td>\n",
       "      <td>1612.949951</td>\n",
       "      <td>1611.300049</td>\n",
       "      <td>1614.900024</td>\n",
       "      <td>1624.000000</td>\n",
       "      <td>1606.000000</td>\n",
       "      <td>1624.000000</td>\n",
       "      <td>1</td>\n",
       "      <td>0.000000</td>\n",
       "      <td>1611.300049</td>\n",
       "      <td>100.000000</td>\n",
       "      <td>0.328930</td>\n",
       "    </tr>\n",
       "    <tr>\n",
       "      <th>37450</th>\n",
       "      <td>2022-07-15 11:40:00</td>\n",
       "      <td>2090.850098</td>\n",
       "      <td>2108.000000</td>\n",
       "      <td>2090.850098</td>\n",
       "      <td>2096.300049</td>\n",
       "      <td>ECLERX</td>\n",
       "      <td>11</td>\n",
       "      <td>40</td>\n",
       "      <td>15</td>\n",
       "      <td>2096.300049</td>\n",
       "      <td>2090.850098</td>\n",
       "      <td>2060.199951</td>\n",
       "      <td>2076.949951</td>\n",
       "      <td>2052.000000</td>\n",
       "      <td>2133.949951</td>\n",
       "      <td>1</td>\n",
       "      <td>2096.300049</td>\n",
       "      <td>0.000000</td>\n",
       "      <td>1.764329</td>\n",
       "      <td>-inf</td>\n",
       "    </tr>\n",
       "  </tbody>\n",
       "</table>\n",
       "</div>"
      ],
      "text/plain": [
       "                 Datetime         Open         High          Low        Close  \\\n",
       "2131  2022-07-15 11:45:00   370.149994   370.549988   370.100006   370.549988   \n",
       "2350  2022-07-15 11:05:00  3890.050049  3891.199951  3882.850098  3888.449951   \n",
       "2991  2022-07-15 14:55:00  1775.300049  1782.099976  1775.150024  1780.199951   \n",
       "3242  2022-07-15 11:05:00  3894.050049  3897.949951  3894.000000  3894.000000   \n",
       "4762  2022-07-15 12:50:00   240.649994   241.050003   240.500000   240.850006   \n",
       "6727  2022-07-15 13:55:00   763.049988   767.400024   763.049988   765.000000   \n",
       "12722 2022-07-15 13:25:00  1328.449951  1329.949951  1328.300049  1329.349976   \n",
       "14514 2022-07-15 13:05:00  1246.000000  1246.300049  1245.000000  1245.800049   \n",
       "15129 2022-07-15 14:05:00   239.250000   239.350006   238.850006   239.350006   \n",
       "17578 2022-07-15 14:15:00  1413.150024  1417.250000  1411.099976  1415.599976   \n",
       "17764 2022-07-15 11:05:00   365.600006   366.299988   365.200012   365.549988   \n",
       "20141 2022-07-15 14:10:00   362.850006   363.000000   362.850006   363.000000   \n",
       "20559 2022-07-15 11:50:00  1190.000000  1190.300049  1189.000000  1190.300049   \n",
       "21832 2022-07-15 11:45:00  1106.650024  1108.699951  1101.300049  1104.949951   \n",
       "22651 2022-07-15 11:10:00  1960.300049  1960.300049  1956.000000  1957.400024   \n",
       "23883 2022-07-15 13:25:00   585.900024   586.000000   585.900024   586.000000   \n",
       "25697 2022-07-15 13:55:00   251.699997   252.600006   251.699997   252.000000   \n",
       "25782 2022-07-15 14:40:00  1922.000000  1924.800049  1920.599976  1924.800049   \n",
       "26404 2022-07-15 11:40:00  2107.350098  2109.000000  2104.000000  2106.000000   \n",
       "29558 2022-07-15 12:50:00  2425.000000  2430.000000  2422.199951  2428.899902   \n",
       "29718 2022-07-15 14:25:00  2633.699951  2641.199951  2633.699951  2639.550049   \n",
       "32883 2022-07-15 11:45:00   983.000000   985.750000   983.000000   984.849976   \n",
       "34467 2022-07-15 12:55:00  1202.099976  1207.500000  1201.000000  1206.550049   \n",
       "36214 2022-07-15 14:10:00   325.000000   326.250000   324.750000   325.500000   \n",
       "37185 2022-07-15 14:45:00   250.250000   250.500000   249.199997   249.500000   \n",
       "37400 2022-07-15 13:45:00  1612.949951  1612.949951  1610.599976  1611.300049   \n",
       "37450 2022-07-15 11:40:00  2090.850098  2108.000000  2090.850098  2096.300049   \n",
       "\n",
       "           equity  hour  min  day     Open_Max     Open_Min       Low_pp  \\\n",
       "2131    AMBUJACEM    11   45   15   370.549988   370.149994   368.450012   \n",
       "2350   APOLLOHOSP    11    5   15  3890.050049  3888.449951  3898.100098   \n",
       "2991       ASTRAL    14   55   15  1780.199951  1775.300049  1767.550049   \n",
       "3242        DMART    11    5   15  3894.050049  3894.000000  3897.000000   \n",
       "4762          BEL    12   50   15   240.850006   240.649994   237.850006   \n",
       "6727   CARBORUNIV    13   55   15   765.000000   763.049988   758.200012   \n",
       "12722  GODREJPROP    13   25   15  1329.349976  1328.449951  1320.099976   \n",
       "14514     HAVELLS    13    5   15  1246.000000  1245.800049  1247.000000   \n",
       "15129   HINDPETRO    14    5   15   239.350006   239.250000   238.149994   \n",
       "17578  INDIGOPNTS    14   15   15  1415.599976  1413.150024  1402.150024   \n",
       "17764         IGL    11    5   15   365.600006   365.549988   366.500000   \n",
       "20141  KALPATPOWR    14   10   15   363.000000   362.850006   358.149994   \n",
       "20559        KIMS    11   50   15  1190.300049  1190.000000  1186.099976   \n",
       "21832       LODHA    11   45   15  1106.650024  1104.949951  1107.599976   \n",
       "22651      MASTEK    11   10   15  1960.300049  1957.400024  1964.000000   \n",
       "23883       NESCO    13   25   15   586.000000   585.900024   582.700012   \n",
       "25697    PNCINFRA    13   55   15   252.000000   251.699997   249.750000   \n",
       "25782         PVR    14   40   15  1924.800049  1922.000000  1904.050049   \n",
       "26404     POLYCAB    11   40   15  2107.350098  2106.000000  2110.100098   \n",
       "29558  SCHAEFFLER    12   50   15  2428.899902  2425.000000  2400.550049   \n",
       "29718         SFL    14   25   15  2639.550049  2633.699951  2611.250000   \n",
       "32883    TATACOMM    11   45   15   984.849976   983.000000   965.650024   \n",
       "34467       TRENT    12   55   15  1206.550049  1202.099976  1182.099976   \n",
       "36214      VIJAYA    14   10   15   325.500000   325.000000   319.500000   \n",
       "37185  ZENSARTECH    14   45   15   250.250000   249.500000   250.600006   \n",
       "37400   ZYDUSWELL    13   45   15  1612.949951  1611.300049  1614.900024   \n",
       "37450      ECLERX    11   40   15  2096.300049  2090.850098  2060.199951   \n",
       "\n",
       "           High_pp      day_Low     day_High  bb  day_breakout  day_breakdown  \\\n",
       "2131    369.799988   368.450012   371.100006   1    370.549988       0.000000   \n",
       "2350   3941.949951  3885.350098  3941.649902   1      0.000000    3888.449951   \n",
       "2991   1773.150024  1761.849976  1790.949951   1   1780.199951       0.000000   \n",
       "3242   3930.000000  3891.000000  3937.850098   1      0.000000    3894.000000   \n",
       "4762    239.699997   237.850006   246.199997   1    240.850006       0.000000   \n",
       "6727    761.950012   748.250000   770.849976   1    765.000000       0.000000   \n",
       "12722  1327.949951  1320.099976  1346.949951   1   1329.349976       0.000000   \n",
       "14514  1257.150024  1244.000000  1257.000000   1      0.000000    1245.800049   \n",
       "15129   239.000000   235.750000   241.350006   1    239.350006       0.000000   \n",
       "17578  1411.800049  1402.150024  1415.599976   1   1415.599976       0.000000   \n",
       "17764   368.200012   365.399994   368.750000   1      0.000000     365.549988   \n",
       "20141   362.450012   358.149994   366.350006   1    363.000000       0.000000   \n",
       "20559  1188.750000  1184.900024  1198.900024   1   1190.300049       0.000000   \n",
       "21832  1114.500000  1098.949951  1115.000000   1      0.000000    1104.949951   \n",
       "22651  1977.000000  1952.599976  1977.000000   1      0.000000    1957.400024   \n",
       "23883   585.650024   580.549988   598.000000   1    586.000000       0.000000   \n",
       "25697   251.500000   248.050003   252.000000   1    252.000000       0.000000   \n",
       "25782  1919.000000  1904.050049  1933.800049   1   1924.800049       0.000000   \n",
       "26404  2155.649902  2106.100098  2162.550049   1      0.000000    2106.000000   \n",
       "29558  2415.000000  2400.550049  2450.000000   1   2428.899902       0.000000   \n",
       "29718  2625.850098  2604.100098  2657.500000   1   2639.550049       0.000000   \n",
       "32883   980.950012   965.650024   987.049988   1    984.849976       0.000000   \n",
       "34467  1196.500000  1182.099976  1212.500000   1   1206.550049       0.000000   \n",
       "36214   324.649994   319.399994   328.600006   1    325.500000       0.000000   \n",
       "37185   253.100006   248.649994   252.949997   1      0.000000     249.500000   \n",
       "37400  1624.000000  1606.000000  1624.000000   1      0.000000    1611.300049   \n",
       "37450  2076.949951  2052.000000  2133.949951   1   2096.300049       0.000000   \n",
       "\n",
       "         delta_up  delta_down  \n",
       "2131     0.148213        -inf  \n",
       "2350   100.000000    0.079720  \n",
       "2991     0.600240        -inf  \n",
       "3242   100.000000    0.077042  \n",
       "4762     2.173026        -inf  \n",
       "6727     0.758899        -inf  \n",
       "12722    1.306654        -inf  \n",
       "14514  100.000000    0.144489  \n",
       "15129    0.828672        -inf  \n",
       "17578    0.000000        -inf  \n",
       "17764  100.000000    0.041032  \n",
       "20141    0.914428        -inf  \n",
       "20559    0.717322        -inf  \n",
       "21832  100.000000    0.543011  \n",
       "22651  100.000000    0.245226  \n",
       "23883    2.006689        -inf  \n",
       "25697    0.000000        -inf  \n",
       "25782    0.465405        -inf  \n",
       "26404  100.000000   -0.004753  \n",
       "29558    0.861228        -inf  \n",
       "29718    0.675445        -inf  \n",
       "32883    0.222888        -inf  \n",
       "34467    0.490718        -inf  \n",
       "36214    0.943398        -inf  \n",
       "37185  100.000000    0.340684  \n",
       "37400  100.000000    0.328930  \n",
       "37450    1.764329        -inf  "
      ]
     },
     "execution_count": 9,
     "metadata": {},
     "output_type": "execute_result"
    }
   ],
   "source": [
    "test= df[(df['day_breakout']>0) | (df['day_breakdown']>0)]\n",
    "test['delta_up'] = ((test['day_High']-test['day_breakout'])/test['day_High'])*100\n",
    "test['delta_down'] = ((test['day_breakdown']-test['day_Low'])/test['day_breakdown'])*100\n",
    "test"
   ]
  },
  {
   "cell_type": "code",
   "execution_count": 10,
   "metadata": {},
   "outputs": [],
   "source": [
    "df.loc[:,'day_breakout']=0"
   ]
  },
  {
   "cell_type": "code",
   "execution_count": 761,
   "metadata": {},
   "outputs": [
    {
     "data": {
      "text/plain": [
       "Timestamp('2022-07-04 10:46:23')"
      ]
     },
     "execution_count": 761,
     "metadata": {},
     "output_type": "execute_result"
    }
   ],
   "source": [
    "historical_consolidated['Datetime'].max()####################################################################################################################################\n",
    "\n",
    "from ks_api_client import ks_api\n",
    "\n",
    "client = ks_api.KSTradeApi(access_token = \"b0f15099-04ff-3f2c-a737-7cf9fff489b2\", userid = \"VG27101991\", consumer_key = \"JSaisisrZVPlJAUtJfJfAKxCnOka\",ip = \"127.0.0.1\", app_id = \"\", \\\n",
    "                        host = \"https://tradeapi.kotaksecurities.com/apim\", consumer_secret = \"saDBHcrZ2aTIUMcOzgt_Z_WNc4wa\")\n",
    "\n",
    "client.login(password = \"Rake@3427\")\n",
    "client.session_2fa()\n",
    "\n",
    "try:\n",
    "    # Get historical prices\n",
    "    client.history(\"historicalprices\",{\"exchange\":\"NSE\",\"cocode\":\"4481\",\"fromdate\":\"01-jan-2020\",\"todate\":\"08-oct-2020\"})\n",
    "except Exception as e:\n",
    "    print(\"Exception when calling Historical API->details: %s\\n\" % e)                        \n",
    "\n",
    "\n",
    "client.quote(instrument_token = 110)\n",
    "\n",
    "\n",
    "client.history(\"historicalprices-unadjusted\",{\"exchange\":\"bse\",\"co_code\":\"110\",\"date\":\"16-Jun-2016\"})\n",
    "\n",
    "client.history(\"historicalprices\",{\"exchange\":\"NSE\",\"cocode\":\"476\",\"fromdate\":\"01-jan-2020\",\"todate\":\"08-oct-2020\"})\n",
    "\n",
    "client.history(\"historicalprices\",{})\n",
    "\n",
    "token = []\n",
    "name= []\n",
    "3320 * 0.995\n",
    "\n",
    "order_info = [\n",
    "            {\"instrument_token\": 4106, \"quantity\": , \"price\": 3320, \"amount\": 30000, \"trigger_price\": 3320}\n",
    "        ]\n",
    "ss = client.margin_required(transaction_type=\"BUY\",order_info=order_info)\n",
    "\n",
    "ss.get('Success')[0].get('normal')\n",
    "\n",
    "for x in range(100,103):\n",
    "        token.append(x)\n",
    "        name.append(client.quote(instrument_token = 8210).get('success')[0].get('stk_name'))            "
   ]
  },
  {
   "cell_type": "code",
   "execution_count": 588,
   "metadata": {},
   "outputs": [
    {
     "data": {
      "text/plain": [
       "396440.579551"
      ]
     },
     "execution_count": 588,
     "metadata": {},
     "output_type": "execute_result"
    }
   ],
   "source": [
    "if (end_time - test.iloc[0,0]).total_seconds() < 300 :\n",
    "    "
   ]
  },
  {
   "cell_type": "code",
   "execution_count": 6,
   "metadata": {},
   "outputs": [],
   "source": [
    "stocks=[\n",
    "    '3MINDIA',\n",
    "'ABB',\n",
    "'ACC',\n",
    "'AIAENG',\n",
    "'APLAPOLLO',\n",
    "'AUBANK',\n",
    "'AARTIDRUGS',\n",
    "'AAVAS',\n",
    "'ABBOTINDIA',\n",
    "'ADANIENT',\n",
    "'ADANIGREEN',\n",
    "'ADANIPORTS',\n",
    "'ATGL',\n",
    "'ADANITRANS',\n",
    "'ABCAPITAL',\n",
    "'ABFRL',\n",
    "'ABSLAMC',\n",
    "'ADVENZYMES',\n",
    "'AEGISCHEM',\n",
    "'AFFLE',\n",
    "'AJANTPHARM',\n",
    "'APLLTD',\n",
    "'ALKEM',\n",
    "'ALKYLAMINE',\n",
    "'ALLCARGO',\n",
    "'ALOKINDS',\n",
    "'AMARAJABAT',\n",
    "'AMBER',\n",
    "'AMBUJACEM',\n",
    "'ANGELONE',\n",
    "'ANURAS',\n",
    "'APOLLOHOSP',\n",
    "'APOLLOTYRE',\n",
    "'APTUS',\n",
    "'ASAHIINDIA',\n",
    "'ASHOKLEY',\n",
    "'ASIANPAINT',\n",
    "'ASTERDM',\n",
    "'ASTRAZEN',\n",
    "'ASTRAL',\n",
    "'ATUL',\n",
    "'AUROPHARMA',\n",
    "'AVANTIFEED',\n",
    "'DMART',\n",
    "'AXISBANK',\n",
    "'BASF',\n",
    "'BSE',\n",
    "'BAJAJ-AUTO',\n",
    "'BAJAJELEC',\n",
    "'BAJFINANCE',\n",
    "'BAJAJFINSV',\n",
    "'BAJAJHLDNG',\n",
    "'BALAMINES',\n",
    "'BALKRISIND',\n",
    "'BALRAMCHIN',\n",
    "'BANDHANBNK',\n",
    "'BANKBARODA',\n",
    "'BANKINDIA',\n",
    "'MAHABANK',\n",
    "'BATAINDIA',\n",
    "'BAYERCROP',\n",
    "'BERGEPAINT',\n",
    "'BDL',\n",
    "'BEL',\n",
    "'BHARATFORG',\n",
    "'BHEL',\n",
    "'BPCL',\n",
    "'BHARTIARTL',\n",
    "'BIOCON',\n",
    "'BIRLACORPN',\n",
    "'BSOFT',\n",
    "'BLUEDART',\n",
    "'BLUESTARCO',\n",
    "'BBTC',\n",
    "'BORORENEW',\n",
    "'BOSCHLTD',\n",
    "'BRIGADE',\n",
    "'BCG',\n",
    "'BRITANNIA',\n",
    "'MAPMYINDIA',\n",
    "'CCL',\n",
    "'CESC',\n",
    "'CGPOWER',\n",
    "'CRISIL',\n",
    "'CSBBANK',\n",
    "'CANFINHOME',\n",
    "'CANBK',\n",
    "'CAPLIPOINT',\n",
    "'CGCL',\n",
    "'CARBORUNIV',\n",
    "'CASTROLIND',\n",
    "'CEATLTD',\n",
    "'CENTRALBK',\n",
    "'CDSL',\n",
    "'CENTURYPLY',\n",
    "'CENTURYTEX',\n",
    "'CERA',\n",
    "'CHALET',\n",
    "'CHAMBLFERT',\n",
    "'CHEMPLASTS',\n",
    "'CHOLAHLDNG',\n",
    "'CHOLAFIN',\n",
    "'CIPLA',\n",
    "'CUB',\n",
    "'CLEAN',\n",
    "'COALINDIA',\n",
    "'COCHINSHIP',\n",
    "'COFORGE',\n",
    "'COLPAL',\n",
    "'CAMS',\n",
    "'CONCOR',\n",
    "'COROMANDEL',\n",
    "'CREDITACC',\n",
    "'CROMPTON',\n",
    "'CUMMINSIND',\n",
    "'CYIENT',\n",
    "'DCMSHRIRAM',\n",
    "'DLF',\n",
    "'DABUR',\n",
    "'DALBHARAT',\n",
    "'DEEPAKNTR',\n",
    "'DELTACORP',\n",
    "'DEVYANI',\n",
    "'DHANI',\n",
    "'DBL',\n",
    "'DIVISLAB',\n",
    "'DIXON',\n",
    "'LALPATHLAB',\n",
    "'DRREDDY',\n",
    "'EIDPARRY',\n",
    "'EIHOTEL',\n",
    "'EPL',\n",
    "'EASEMYTRIP',\n",
    "'EDELWEISS',\n",
    "'EICHERMOT',\n",
    "'ELGIEQUIP',\n",
    "'EMAMILTD',\n",
    "'ENDURANCE',\n",
    "'ENGINERSIN',\n",
    "'EQUITAS',\n",
    "'EQUITASBNK',\n",
    "'ERIS',\n",
    "'ESCORTS',\n",
    "'EXIDEIND',\n",
    "'FDC',\n",
    "'NYKAA',\n",
    "'FEDERALBNK',\n",
    "'FACT',\n",
    "'FINEORG',\n",
    "'FINCABLES',\n",
    "'FINPIPE',\n",
    "'FSL',\n",
    "'FORTIS',\n",
    "'GRINFRA',\n",
    "'GAIL',\n",
    "'GMMPFAUDLR',\n",
    "'GMRINFRA',\n",
    "'GALAXYSURF',\n",
    "'GARFIBRES',\n",
    "'GICRE',\n",
    "'GLAND',\n",
    "'GLAXO',\n",
    "'GLS',\n",
    "'GLENMARK',\n",
    "'GOCOLORS',\n",
    "'GODFRYPHLP',\n",
    "'GODREJAGRO',\n",
    "'GODREJCP',\n",
    "'GODREJIND',\n",
    "'GODREJPROP',\n",
    "'GRANULES',\n",
    "'GRAPHITE',\n",
    "'GRASIM',\n",
    "'GESHIP',\n",
    "'GRINDWELL',\n",
    "'GUJALKALI',\n",
    "'GAEL',\n",
    "'FLUOROCHEM',\n",
    "'GUJGASLTD',\n",
    "'GNFC',\n",
    "'GPPL',\n",
    "'GSFC',\n",
    "'GSPL',\n",
    "'HEG',\n",
    "'HCLTECH',\n",
    "'HDFCAMC',\n",
    "'HDFCBANK',\n",
    "'HDFCLIFE',\n",
    "'HFCL',\n",
    "'HLEGLAS',\n",
    "'HAPPSTMNDS',\n",
    "'HATHWAY',\n",
    "'HATSUN',\n",
    "'HAVELLS',\n",
    "'HEMIPROP',\n",
    "'HEROMOTOCO',\n",
    "'HIKAL',\n",
    "'HINDALCO',\n",
    "'HGS',\n",
    "'HAL',\n",
    "'HINDCOPPER',\n",
    "'HINDPETRO',\n",
    "'HINDUNILVR',\n",
    "'HINDZINC',\n",
    "'POWERINDIA',\n",
    "'HOMEFIRST',\n",
    "'HONAUT',\n",
    "'HUDCO',\n",
    "'HDFC',\n",
    "'ICICIBANK',\n",
    "'ICICIGI',\n",
    "'ICICIPRULI',\n",
    "'ISEC',\n",
    "'IDBI',\n",
    "'IDFCFIRSTB',\n",
    "'IDFC',\n",
    "'IFBIND',\n",
    "'IIFL',\n",
    "'IIFLWAM',\n",
    "'IRB',\n",
    "'IRCON',\n",
    "'ITC',\n",
    "'ITI',\n",
    "'INDIACEM',\n",
    "'IBULHSGFIN',\n",
    "'IBREALEST',\n",
    "'INDIAMART',\n",
    "'INDIANB',\n",
    "'IEX',\n",
    "'INDHOTEL',\n",
    "'IOC',\n",
    "'IOB',\n",
    "'IRCTC',\n",
    "'IRFC',\n",
    "'INDIGOPNTS',\n",
    "'ICIL',\n",
    "'INDOCO',\n",
    "'IGL',\n",
    "'INDUSTOWER',\n",
    "'INDUSINDBK',\n",
    "'INFIBEAM',\n",
    "'NAUKRI',\n",
    "'INFY',\n",
    "'INOXLEISUR',\n",
    "'INTELLECT',\n",
    "'INDIGO',\n",
    "'IPCALAB',\n",
    "'JBCHEPHARM',\n",
    "'JKCEMENT',\n",
    "'JKLAKSHMI',\n",
    "'JKPAPER',\n",
    "'JMFINANCIL',\n",
    "'JSWENERGY',\n",
    "'JSWSTEEL',\n",
    "'JAMNAAUTO',\n",
    "'JSL',\n",
    "'JINDALSTEL',\n",
    "'JUBLFOOD',\n",
    "'JUBLINGREA',\n",
    "'JUBLPHARMA',\n",
    "'JUSTDIAL',\n",
    "'JYOTHYLAB',\n",
    "'KPRMILL',\n",
    "'KEI',\n",
    "'KNRCON',\n",
    "'KPITTECH',\n",
    "'KRBL',\n",
    "'KAJARIACER',\n",
    "'KALPATPOWR',\n",
    "'KALYANKJIL',\n",
    "'KANSAINER',\n",
    "'KARURVYSYA',\n",
    "'KEC',\n",
    "'KOTAKBANK',\n",
    "'KIMS',\n",
    "'L&TFH',\n",
    "'LTTS',\n",
    "'LICHSGFIN',\n",
    "'LAXMIMACH',\n",
    "'LTI',\n",
    "'LT',\n",
    "'LATENTVIEW',\n",
    "'LAURUSLABS',\n",
    "'LXCHEM',\n",
    "'LINDEINDIA',\n",
    "'LUPIN',\n",
    "'LUXIND',\n",
    "'MMTC',\n",
    "'MOIL',\n",
    "'MRF',\n",
    "'MTARTECH',\n",
    "'LODHA',\n",
    "'MGL',\n",
    "'M&MFIN',\n",
    "'M&M',\n",
    "'MAHINDCIE',\n",
    "'MHRIL',\n",
    "'MAHLOG',\n",
    "'MANAPPURAM',\n",
    "'MRPL',\n",
    "'MARICO',\n",
    "'MARUTI',\n",
    "'MASTEK',\n",
    "'MFSL',\n",
    "'MAXHEALTH',\n",
    "'MAZDOCK',\n",
    "'MEDPLUS',\n",
    "'METROBRAND',\n",
    "'METROPOLIS',\n",
    "'MINDTREE',\n",
    "'MINDAIND',\n",
    "'MOTILALOFS',\n",
    "'MPHASIS',\n",
    "'MCX',\n",
    "'MUTHOOTFIN',\n",
    "'NATCOPHARM',\n",
    "'NBCC',\n",
    "'NCC',\n",
    "'NESCO',\n",
    "'NHPC',\n",
    "'NLCINDIA',\n",
    "'NMDC',\n",
    "'NOCIL',\n",
    "'NTPC',\n",
    "'NH',\n",
    "'NATIONALUM',\n",
    "'NAVINFLUOR',\n",
    "'NAZARA',\n",
    "'NESTLEIND',\n",
    "'NETWORK18',\n",
    "'NAM-INDIA',\n",
    "'NUVOCO',\n",
    "'OBEROIRLTY',\n",
    "'ONGC',\n",
    "'OIL',\n",
    "'PAYTM',\n",
    "'OFSS',\n",
    "'ORIENTELEC',\n",
    "'POLICYBZR',\n",
    "'PCBL',\n",
    "'PIIND',\n",
    "'PNBHOUSING',\n",
    "'PNCINFRA',\n",
    "'PVR',\n",
    "'PAGEIND',\n",
    "'PERSISTENT',\n",
    "'PETRONET',\n",
    "'PFIZER',\n",
    "'PHOENIXLTD',\n",
    "'PIDILITIND',\n",
    "'PEL',\n",
    "'POLYMED',\n",
    "'POLYCAB',\n",
    "'POLYPLEX',\n",
    "'POONAWALLA',\n",
    "'PFC',\n",
    "'POWERGRID',\n",
    "'PRAJIND',\n",
    "'PRESTIGE',\n",
    "'PRINCEPIPE',\n",
    "'PRSMJOHNSN',\n",
    "'PRIVISCL',\n",
    "'PGHL',\n",
    "'PGHH',\n",
    "'PNB',\n",
    "'QUESS',\n",
    "'RBLBANK',\n",
    "'RECLTD',\n",
    "'RHIM',\n",
    "'RITES',\n",
    "'RADICO',\n",
    "'RVNL',\n",
    "'RAILTEL',\n",
    "'RAIN',\n",
    "'RAJESHEXPO',\n",
    "'RALLIS',\n",
    "'RCF',\n",
    "'RATNAMANI',\n",
    "'RTNINDIA',\n",
    "'REDINGTON',\n",
    "'RELAXO',\n",
    "'RELIANCE',\n",
    "'RBA',\n",
    "'ROSSARI',\n",
    "'ROUTE',\n",
    "'SBICARD',\n",
    "'SBILIFE',\n",
    "'SIS',\n",
    "'SJVN',\n",
    "'SKFINDIA',\n",
    "'SRF',\n",
    "'SANOFI',\n",
    "'SAPPHIRE',\n",
    "'SAREGAMA',\n",
    "'SCHAEFFLER',\n",
    "'SEQUENT',\n",
    "'SFL',\n",
    "'SHILPAMED',\n",
    "'SCI',\n",
    "'SHREECEM',\n",
    "'RENUKA',\n",
    "'SHRIRAMCIT',\n",
    "'SRTRANSFIN',\n",
    "'SHYAMMETL',\n",
    "'SIEMENS',\n",
    "'SOBHA',\n",
    "'SOLARINDS',\n",
    "'SOLARA',\n",
    "'SONACOMS',\n",
    "'SONATSOFTW',\n",
    "'SPICEJET',\n",
    "'STARHEALTH',\n",
    "'SBIN',\n",
    "'SAIL',\n",
    "'SWSOLAR',\n",
    "'STLTECH',\n",
    "'STAR',\n",
    "'SUDARSCHEM',\n",
    "'SUMICHEM',\n",
    "'SPARC',\n",
    "'SUNPHARMA',\n",
    "'SUNTV',\n",
    "'SUNDARMFIN',\n",
    "'SUNDRMFAST',\n",
    "'SUNTECK',\n",
    "'SUPRAJIT',\n",
    "'SUPREMEIND',\n",
    "'SUVENPHAR',\n",
    "'SUZLON',\n",
    "'SYMPHONY',\n",
    "'SYNGENE',\n",
    "'TCIEXP',\n",
    "'TCNSBRANDS',\n",
    "'TTKPRESTIG',\n",
    "'TV18BRDCST',\n",
    "'TVSMOTOR',\n",
    "'TANLA',\n",
    "'TATACHEM',\n",
    "'TATACOFFEE',\n",
    "'TATACOMM',\n",
    "'TCS',\n",
    "'TATACONSUM',\n",
    "'TATAELXSI',\n",
    "'TATAINVEST',\n",
    "'TATAMTRDVR',\n",
    "'TATAMOTORS',\n",
    "'TATAPOWER',\n",
    "'TATASTLLP',\n",
    "'TATASTEEL',\n",
    "'TTML',\n",
    "'TEAMLEASE',\n",
    "'TECHM',\n",
    "'NIACL',\n",
    "'RAMCOCEM',\n",
    "'THERMAX',\n",
    "'THYROCARE',\n",
    "'TIMKEN',\n",
    "'TITAN',\n",
    "'TORNTPHARM',\n",
    "'TORNTPOWER',\n",
    "'TRENT',\n",
    "'TRIDENT',\n",
    "'TRIVENI',\n",
    "'TRITURBINE',\n",
    "'TIINDIA',\n",
    "'UCOBANK',\n",
    "'UFLEX',\n",
    "'UPL',\n",
    "'UTIAMC',\n",
    "'ULTRACEMCO',\n",
    "'UNIONBANK',\n",
    "'UBL',\n",
    "'MCDOWELL-N',\n",
    "'VGUARD',\n",
    "'VMART',\n",
    "'VIPIND',\n",
    "'VAIBHAVGBL',\n",
    "'VAKRANGEE',\n",
    "'VTL',\n",
    "'VARROC',\n",
    "'VBL',\n",
    "'VEDL',\n",
    "'VENKEYS',\n",
    "'VIJAYA',\n",
    "'VINATIORGA',\n",
    "'IDEA',\n",
    "'VOLTAS',\n",
    "'WELCORP',\n",
    "'WELSPUNIND',\n",
    "'WESTLIFE',\n",
    "'WHIRLPOOL',\n",
    "'WIPRO',\n",
    "'WOCKPHARMA',\n",
    "'YESBANK',\n",
    "'ZFCVINDIA',\n",
    "'ZEEL',\n",
    "'ZENSARTECH',\n",
    "'ZOMATO',\n",
    "'ZYDUSLIFE',\n",
    "'ZYDUSWELL',\n",
    "'ECLERX'\n",
    "]"
   ]
  },
  {
   "cell_type": "code",
   "execution_count": null,
   "metadata": {},
   "outputs": [],
   "source": [
    "## prod code -- for testing"
   ]
  },
  {
   "cell_type": "code",
   "execution_count": 279,
   "metadata": {},
   "outputs": [
    {
     "data": {
      "text/plain": [
       "(37521, 10)"
      ]
     },
     "execution_count": 279,
     "metadata": {},
     "output_type": "execute_result"
    }
   ],
   "source": [
    "historical_consolidated.shape"
   ]
  },
  {
   "cell_type": "code",
   "execution_count": 59,
   "metadata": {
    "collapsed": true
   },
   "outputs": [
    {
     "data": {
      "application/javascript": [
       "\n",
       "        if (window._pyforest_update_imports_cell) { window._pyforest_update_imports_cell('import matplotlib.pyplot as plt'); }\n",
       "    "
      ],
      "text/plain": [
       "<IPython.core.display.Javascript object>"
      ]
     },
     "metadata": {},
     "output_type": "display_data"
    },
    {
     "data": {
      "application/javascript": [
       "\n",
       "        if (window._pyforest_update_imports_cell) { window._pyforest_update_imports_cell('import matplotlib.pyplot as plt'); }\n",
       "    "
      ],
      "text/plain": [
       "<IPython.core.display.Javascript object>"
      ]
     },
     "metadata": {},
     "output_type": "display_data"
    },
    {
     "data": {
      "application/javascript": [
       "\n",
       "        if (window._pyforest_update_imports_cell) { window._pyforest_update_imports_cell('import matplotlib.pyplot as plt'); }\n",
       "    "
      ],
      "text/plain": [
       "<IPython.core.display.Javascript object>"
      ]
     },
     "metadata": {},
     "output_type": "display_data"
    },
    {
     "data": {
      "application/javascript": [
       "\n",
       "        if (window._pyforest_update_imports_cell) { window._pyforest_update_imports_cell('import matplotlib.pyplot as plt'); }\n",
       "    "
      ],
      "text/plain": [
       "<IPython.core.display.Javascript object>"
      ]
     },
     "metadata": {},
     "output_type": "display_data"
    },
    {
     "ename": "KeyError",
     "evalue": "'V-Trend Reversal'",
     "output_type": "error",
     "traceback": [
      "\u001b[0;31m---------------------------------------------------------------------------\u001b[0m",
      "\u001b[0;31mKeyError\u001b[0m                                  Traceback (most recent call last)",
      "\u001b[0;32m~/Documents/Notebooks/anaconda3/lib/python3.7/site-packages/pandas/core/indexes/base.py\u001b[0m in \u001b[0;36mget_loc\u001b[0;34m(self, key, method, tolerance)\u001b[0m\n\u001b[1;32m   2656\u001b[0m             \u001b[0;32mtry\u001b[0m\u001b[0;34m:\u001b[0m\u001b[0;34m\u001b[0m\u001b[0;34m\u001b[0m\u001b[0m\n\u001b[0;32m-> 2657\u001b[0;31m                 \u001b[0;32mreturn\u001b[0m \u001b[0mself\u001b[0m\u001b[0;34m.\u001b[0m\u001b[0m_engine\u001b[0m\u001b[0;34m.\u001b[0m\u001b[0mget_loc\u001b[0m\u001b[0;34m(\u001b[0m\u001b[0mkey\u001b[0m\u001b[0;34m)\u001b[0m\u001b[0;34m\u001b[0m\u001b[0;34m\u001b[0m\u001b[0m\n\u001b[0m\u001b[1;32m   2658\u001b[0m             \u001b[0;32mexcept\u001b[0m \u001b[0mKeyError\u001b[0m\u001b[0;34m:\u001b[0m\u001b[0;34m\u001b[0m\u001b[0;34m\u001b[0m\u001b[0m\n",
      "\u001b[0;32mpandas/_libs/index.pyx\u001b[0m in \u001b[0;36mpandas._libs.index.IndexEngine.get_loc\u001b[0;34m()\u001b[0m\n",
      "\u001b[0;32mpandas/_libs/index.pyx\u001b[0m in \u001b[0;36mpandas._libs.index.IndexEngine.get_loc\u001b[0;34m()\u001b[0m\n",
      "\u001b[0;32mpandas/_libs/hashtable_class_helper.pxi\u001b[0m in \u001b[0;36mpandas._libs.hashtable.PyObjectHashTable.get_item\u001b[0;34m()\u001b[0m\n",
      "\u001b[0;32mpandas/_libs/hashtable_class_helper.pxi\u001b[0m in \u001b[0;36mpandas._libs.hashtable.PyObjectHashTable.get_item\u001b[0;34m()\u001b[0m\n",
      "\u001b[0;31mKeyError\u001b[0m: 'V-Trend Reversal'",
      "\nDuring handling of the above exception, another exception occurred:\n",
      "\u001b[0;31mKeyError\u001b[0m                                  Traceback (most recent call last)",
      "\u001b[0;32m<ipython-input-59-d81237f064f4>\u001b[0m in \u001b[0;36m<module>\u001b[0;34m\u001b[0m\n\u001b[1;32m      5\u001b[0m \u001b[0mplt\u001b[0m\u001b[0;34m.\u001b[0m\u001b[0mplot\u001b[0m\u001b[0;34m(\u001b[0m\u001b[0mdf\u001b[0m\u001b[0;34m.\u001b[0m\u001b[0mindex\u001b[0m\u001b[0;34m[\u001b[0m\u001b[0;34m-\u001b[0m\u001b[0mperiod\u001b[0m\u001b[0;34m:\u001b[0m\u001b[0;34m]\u001b[0m\u001b[0;34m,\u001b[0m\u001b[0mdf\u001b[0m\u001b[0;34m[\u001b[0m\u001b[0;34m'Close'\u001b[0m\u001b[0;34m]\u001b[0m\u001b[0;34m[\u001b[0m\u001b[0;34m-\u001b[0m\u001b[0mperiod\u001b[0m\u001b[0;34m:\u001b[0m\u001b[0;34m]\u001b[0m\u001b[0;34m,\u001b[0m \u001b[0mcolor\u001b[0m\u001b[0;34m=\u001b[0m\u001b[0;34m\"g\"\u001b[0m\u001b[0;34m,\u001b[0m \u001b[0malpha\u001b[0m\u001b[0;34m=\u001b[0m\u001b[0;36m.3\u001b[0m\u001b[0;34m)\u001b[0m\u001b[0;34m\u001b[0m\u001b[0;34m\u001b[0m\u001b[0m\n\u001b[1;32m      6\u001b[0m \u001b[0mplt\u001b[0m\u001b[0;34m.\u001b[0m\u001b[0mplot\u001b[0m\u001b[0;34m(\u001b[0m\u001b[0mdf\u001b[0m\u001b[0;34m.\u001b[0m\u001b[0mindex\u001b[0m\u001b[0;34m[\u001b[0m\u001b[0;34m-\u001b[0m\u001b[0mperiod\u001b[0m\u001b[0;34m:\u001b[0m\u001b[0;34m]\u001b[0m\u001b[0;34m,\u001b[0m\u001b[0mdf\u001b[0m\u001b[0;34m[\u001b[0m\u001b[0;34m'V-Bearish swing'\u001b[0m\u001b[0;34m]\u001b[0m\u001b[0;34m[\u001b[0m\u001b[0;34m-\u001b[0m\u001b[0mperiod\u001b[0m\u001b[0;34m:\u001b[0m\u001b[0;34m]\u001b[0m\u001b[0;34m,\u001b[0m\u001b[0mmarker\u001b[0m\u001b[0;34m=\u001b[0m\u001b[0;34m\"p\"\u001b[0m\u001b[0;34m,\u001b[0m \u001b[0mcolor\u001b[0m\u001b[0;34m=\u001b[0m\u001b[0;34m\"r\"\u001b[0m\u001b[0;34m,\u001b[0m \u001b[0malpha\u001b[0m\u001b[0;34m=\u001b[0m\u001b[0;36m1.0\u001b[0m\u001b[0;34m,\u001b[0m\u001b[0mlabel\u001b[0m\u001b[0;34m=\u001b[0m\u001b[0;34m\"Bullish Swing\"\u001b[0m\u001b[0;34m)\u001b[0m\u001b[0;34m\u001b[0m\u001b[0;34m\u001b[0m\u001b[0m\n\u001b[0;32m----> 7\u001b[0;31m \u001b[0mplt\u001b[0m\u001b[0;34m.\u001b[0m\u001b[0mplot\u001b[0m\u001b[0;34m(\u001b[0m\u001b[0mdf\u001b[0m\u001b[0;34m.\u001b[0m\u001b[0mindex\u001b[0m\u001b[0;34m[\u001b[0m\u001b[0;34m-\u001b[0m\u001b[0mperiod\u001b[0m\u001b[0;34m:\u001b[0m\u001b[0;34m]\u001b[0m\u001b[0;34m,\u001b[0m\u001b[0mdf\u001b[0m\u001b[0;34m[\u001b[0m\u001b[0;34m'V-Trend Reversal'\u001b[0m\u001b[0;34m]\u001b[0m\u001b[0;34m[\u001b[0m\u001b[0;34m-\u001b[0m\u001b[0mperiod\u001b[0m\u001b[0;34m:\u001b[0m\u001b[0;34m]\u001b[0m\u001b[0;34m,\u001b[0m\u001b[0mmarker\u001b[0m\u001b[0;34m=\u001b[0m\u001b[0;34m\"*\"\u001b[0m\u001b[0;34m,\u001b[0m \u001b[0mcolor\u001b[0m\u001b[0;34m=\u001b[0m\u001b[0;34m\"b\"\u001b[0m\u001b[0;34m,\u001b[0m \u001b[0malpha\u001b[0m\u001b[0;34m=\u001b[0m\u001b[0;36m1.0\u001b[0m\u001b[0;34m,\u001b[0m\u001b[0mlabel\u001b[0m\u001b[0;34m=\u001b[0m\u001b[0;34m\"Bearish Swing\"\u001b[0m\u001b[0;34m)\u001b[0m\u001b[0;34m\u001b[0m\u001b[0;34m\u001b[0m\u001b[0m\n\u001b[0m\u001b[1;32m      8\u001b[0m \u001b[0mplt\u001b[0m\u001b[0;34m.\u001b[0m\u001b[0mplot\u001b[0m\u001b[0;34m(\u001b[0m\u001b[0mdf\u001b[0m\u001b[0;34m.\u001b[0m\u001b[0mindex\u001b[0m\u001b[0;34m[\u001b[0m\u001b[0;34m-\u001b[0m\u001b[0mperiod\u001b[0m\u001b[0;34m:\u001b[0m\u001b[0;34m]\u001b[0m\u001b[0;34m,\u001b[0m\u001b[0mdf\u001b[0m\u001b[0;34m[\u001b[0m\u001b[0;34m'EMA_10'\u001b[0m\u001b[0;34m]\u001b[0m\u001b[0;34m[\u001b[0m\u001b[0;34m-\u001b[0m\u001b[0mperiod\u001b[0m\u001b[0;34m:\u001b[0m\u001b[0;34m]\u001b[0m\u001b[0;34m)\u001b[0m\u001b[0;34m\u001b[0m\u001b[0;34m\u001b[0m\u001b[0m\n\u001b[1;32m      9\u001b[0m \u001b[0mplt\u001b[0m\u001b[0;34m.\u001b[0m\u001b[0mlegend\u001b[0m\u001b[0;34m(\u001b[0m\u001b[0;34m)\u001b[0m\u001b[0;34m\u001b[0m\u001b[0;34m\u001b[0m\u001b[0m\n",
      "\u001b[0;32m~/Documents/Notebooks/anaconda3/lib/python3.7/site-packages/pandas/core/frame.py\u001b[0m in \u001b[0;36m__getitem__\u001b[0;34m(self, key)\u001b[0m\n\u001b[1;32m   2925\u001b[0m             \u001b[0;32mif\u001b[0m \u001b[0mself\u001b[0m\u001b[0;34m.\u001b[0m\u001b[0mcolumns\u001b[0m\u001b[0;34m.\u001b[0m\u001b[0mnlevels\u001b[0m \u001b[0;34m>\u001b[0m \u001b[0;36m1\u001b[0m\u001b[0;34m:\u001b[0m\u001b[0;34m\u001b[0m\u001b[0;34m\u001b[0m\u001b[0m\n\u001b[1;32m   2926\u001b[0m                 \u001b[0;32mreturn\u001b[0m \u001b[0mself\u001b[0m\u001b[0;34m.\u001b[0m\u001b[0m_getitem_multilevel\u001b[0m\u001b[0;34m(\u001b[0m\u001b[0mkey\u001b[0m\u001b[0;34m)\u001b[0m\u001b[0;34m\u001b[0m\u001b[0;34m\u001b[0m\u001b[0m\n\u001b[0;32m-> 2927\u001b[0;31m             \u001b[0mindexer\u001b[0m \u001b[0;34m=\u001b[0m \u001b[0mself\u001b[0m\u001b[0;34m.\u001b[0m\u001b[0mcolumns\u001b[0m\u001b[0;34m.\u001b[0m\u001b[0mget_loc\u001b[0m\u001b[0;34m(\u001b[0m\u001b[0mkey\u001b[0m\u001b[0;34m)\u001b[0m\u001b[0;34m\u001b[0m\u001b[0;34m\u001b[0m\u001b[0m\n\u001b[0m\u001b[1;32m   2928\u001b[0m             \u001b[0;32mif\u001b[0m \u001b[0mis_integer\u001b[0m\u001b[0;34m(\u001b[0m\u001b[0mindexer\u001b[0m\u001b[0;34m)\u001b[0m\u001b[0;34m:\u001b[0m\u001b[0;34m\u001b[0m\u001b[0;34m\u001b[0m\u001b[0m\n\u001b[1;32m   2929\u001b[0m                 \u001b[0mindexer\u001b[0m \u001b[0;34m=\u001b[0m \u001b[0;34m[\u001b[0m\u001b[0mindexer\u001b[0m\u001b[0;34m]\u001b[0m\u001b[0;34m\u001b[0m\u001b[0;34m\u001b[0m\u001b[0m\n",
      "\u001b[0;32m~/Documents/Notebooks/anaconda3/lib/python3.7/site-packages/pandas/core/indexes/base.py\u001b[0m in \u001b[0;36mget_loc\u001b[0;34m(self, key, method, tolerance)\u001b[0m\n\u001b[1;32m   2657\u001b[0m                 \u001b[0;32mreturn\u001b[0m \u001b[0mself\u001b[0m\u001b[0;34m.\u001b[0m\u001b[0m_engine\u001b[0m\u001b[0;34m.\u001b[0m\u001b[0mget_loc\u001b[0m\u001b[0;34m(\u001b[0m\u001b[0mkey\u001b[0m\u001b[0;34m)\u001b[0m\u001b[0;34m\u001b[0m\u001b[0;34m\u001b[0m\u001b[0m\n\u001b[1;32m   2658\u001b[0m             \u001b[0;32mexcept\u001b[0m \u001b[0mKeyError\u001b[0m\u001b[0;34m:\u001b[0m\u001b[0;34m\u001b[0m\u001b[0;34m\u001b[0m\u001b[0m\n\u001b[0;32m-> 2659\u001b[0;31m                 \u001b[0;32mreturn\u001b[0m \u001b[0mself\u001b[0m\u001b[0;34m.\u001b[0m\u001b[0m_engine\u001b[0m\u001b[0;34m.\u001b[0m\u001b[0mget_loc\u001b[0m\u001b[0;34m(\u001b[0m\u001b[0mself\u001b[0m\u001b[0;34m.\u001b[0m\u001b[0m_maybe_cast_indexer\u001b[0m\u001b[0;34m(\u001b[0m\u001b[0mkey\u001b[0m\u001b[0;34m)\u001b[0m\u001b[0;34m)\u001b[0m\u001b[0;34m\u001b[0m\u001b[0;34m\u001b[0m\u001b[0m\n\u001b[0m\u001b[1;32m   2660\u001b[0m         \u001b[0mindexer\u001b[0m \u001b[0;34m=\u001b[0m \u001b[0mself\u001b[0m\u001b[0;34m.\u001b[0m\u001b[0mget_indexer\u001b[0m\u001b[0;34m(\u001b[0m\u001b[0;34m[\u001b[0m\u001b[0mkey\u001b[0m\u001b[0;34m]\u001b[0m\u001b[0;34m,\u001b[0m \u001b[0mmethod\u001b[0m\u001b[0;34m=\u001b[0m\u001b[0mmethod\u001b[0m\u001b[0;34m,\u001b[0m \u001b[0mtolerance\u001b[0m\u001b[0;34m=\u001b[0m\u001b[0mtolerance\u001b[0m\u001b[0;34m)\u001b[0m\u001b[0;34m\u001b[0m\u001b[0;34m\u001b[0m\u001b[0m\n\u001b[1;32m   2661\u001b[0m         \u001b[0;32mif\u001b[0m \u001b[0mindexer\u001b[0m\u001b[0;34m.\u001b[0m\u001b[0mndim\u001b[0m \u001b[0;34m>\u001b[0m \u001b[0;36m1\u001b[0m \u001b[0;32mor\u001b[0m \u001b[0mindexer\u001b[0m\u001b[0;34m.\u001b[0m\u001b[0msize\u001b[0m \u001b[0;34m>\u001b[0m \u001b[0;36m1\u001b[0m\u001b[0;34m:\u001b[0m\u001b[0;34m\u001b[0m\u001b[0;34m\u001b[0m\u001b[0m\n",
      "\u001b[0;32mpandas/_libs/index.pyx\u001b[0m in \u001b[0;36mpandas._libs.index.IndexEngine.get_loc\u001b[0;34m()\u001b[0m\n",
      "\u001b[0;32mpandas/_libs/index.pyx\u001b[0m in \u001b[0;36mpandas._libs.index.IndexEngine.get_loc\u001b[0;34m()\u001b[0m\n",
      "\u001b[0;32mpandas/_libs/hashtable_class_helper.pxi\u001b[0m in \u001b[0;36mpandas._libs.hashtable.PyObjectHashTable.get_item\u001b[0;34m()\u001b[0m\n",
      "\u001b[0;32mpandas/_libs/hashtable_class_helper.pxi\u001b[0m in \u001b[0;36mpandas._libs.hashtable.PyObjectHashTable.get_item\u001b[0;34m()\u001b[0m\n",
      "\u001b[0;31mKeyError\u001b[0m: 'V-Trend Reversal'"
     ]
    },
    {
     "data": {
      "image/png": "[encoded data removed]",
      "text/plain": [
       "<Figure size 1080x720 with 1 Axes>"
      ]
     },
     "metadata": {
      "needs_background": "light"
     },
     "output_type": "display_data"
    }
   ],
   "source": [
    "period  =500\n",
    "df['EMA_10'] = df.Close.ewm(span=period).mean()\n",
    "plt.figure(figsize=(15, 10))\n",
    "#plt.plot(x_future['Datetime'],x_future[1], color=\"r\", alpha=.8)\n",
    "plt.plot(df.index[-period:],df['Close'][-period:], color=\"g\", alpha=.3)\n",
    "plt.plot(df.index[-period:],df['V-Bearish swing'][-period:],marker=\"p\", color=\"r\", alpha=1.0,label=\"Bullish Swing\")\n",
    "plt.plot(df.index[-period:],df['V-Trend Reversal'][-period:],marker=\"*\", color=\"b\", alpha=1.0,label=\"Bearish Swing\")\n",
    "plt.plot(df.index[-period:],df['EMA_10'][-period:])\n",
    "plt.legend()\n",
    "plt.show()"
   ]
  },
  {
   "cell_type": "code",
   "execution_count": 55,
   "metadata": {},
   "outputs": [
    {
     "data": {
      "text/html": [
       "<div>\n",
       "<style scoped>\n",
       "    .dataframe tbody tr th:only-of-type {\n",
       "        vertical-align: middle;\n",
       "    }\n",
       "\n",
       "    .dataframe tbody tr th {\n",
       "        vertical-align: top;\n",
       "    }\n",
       "\n",
       "    .dataframe thead th {\n",
       "        text-align: right;\n",
       "    }\n",
       "</style>\n",
       "<table border=\"1\" class=\"dataframe\">\n",
       "  <thead>\n",
       "    <tr style=\"text-align: right;\">\n",
       "      <th></th>\n",
       "      <th>Open</th>\n",
       "      <th>High</th>\n",
       "      <th>Low</th>\n",
       "      <th>Close</th>\n",
       "      <th>Volume</th>\n",
       "      <th>Dividends</th>\n",
       "      <th>Stock Splits</th>\n",
       "    </tr>\n",
       "    <tr>\n",
       "      <th>Datetime</th>\n",
       "      <th></th>\n",
       "      <th></th>\n",
       "      <th></th>\n",
       "      <th></th>\n",
       "      <th></th>\n",
       "      <th></th>\n",
       "      <th></th>\n",
       "    </tr>\n",
       "  </thead>\n",
       "  <tbody>\n",
       "    <tr>\n",
       "      <th>2021-12-23 09:15:00+05:30</th>\n",
       "      <td>257.500000</td>\n",
       "      <td>258.899994</td>\n",
       "      <td>257.299988</td>\n",
       "      <td>257.549988</td>\n",
       "      <td>0</td>\n",
       "      <td>0.0</td>\n",
       "      <td>0</td>\n",
       "    </tr>\n",
       "    <tr>\n",
       "      <th>2021-12-23 09:20:00+05:30</th>\n",
       "      <td>257.600006</td>\n",
       "      <td>258.200012</td>\n",
       "      <td>256.899994</td>\n",
       "      <td>257.399994</td>\n",
       "      <td>547958</td>\n",
       "      <td>0.0</td>\n",
       "      <td>0</td>\n",
       "    </tr>\n",
       "    <tr>\n",
       "      <th>2021-12-23 09:25:00+05:30</th>\n",
       "      <td>257.549988</td>\n",
       "      <td>257.600006</td>\n",
       "      <td>256.700012</td>\n",
       "      <td>256.950012</td>\n",
       "      <td>325167</td>\n",
       "      <td>0.0</td>\n",
       "      <td>0</td>\n",
       "    </tr>\n",
       "    <tr>\n",
       "      <th>2021-12-23 09:30:00+05:30</th>\n",
       "      <td>257.100006</td>\n",
       "      <td>257.250000</td>\n",
       "      <td>256.000000</td>\n",
       "      <td>256.100006</td>\n",
       "      <td>362003</td>\n",
       "      <td>0.0</td>\n",
       "      <td>0</td>\n",
       "    </tr>\n",
       "    <tr>\n",
       "      <th>2021-12-23 09:35:00+05:30</th>\n",
       "      <td>256.000000</td>\n",
       "      <td>256.649994</td>\n",
       "      <td>255.550003</td>\n",
       "      <td>256.399994</td>\n",
       "      <td>391892</td>\n",
       "      <td>0.0</td>\n",
       "      <td>0</td>\n",
       "    </tr>\n",
       "  </tbody>\n",
       "</table>\n",
       "</div>"
      ],
      "text/plain": [
       "                                 Open        High         Low       Close  \\\n",
       "Datetime                                                                    \n",
       "2021-12-23 09:15:00+05:30  257.500000  258.899994  257.299988  257.549988   \n",
       "2021-12-23 09:20:00+05:30  257.600006  258.200012  256.899994  257.399994   \n",
       "2021-12-23 09:25:00+05:30  257.549988  257.600006  256.700012  256.950012   \n",
       "2021-12-23 09:30:00+05:30  257.100006  257.250000  256.000000  256.100006   \n",
       "2021-12-23 09:35:00+05:30  256.000000  256.649994  255.550003  256.399994   \n",
       "\n",
       "                           Volume  Dividends  Stock Splits  \n",
       "Datetime                                                    \n",
       "2021-12-23 09:15:00+05:30       0        0.0             0  \n",
       "2021-12-23 09:20:00+05:30  547958        0.0             0  \n",
       "2021-12-23 09:25:00+05:30  325167        0.0             0  \n",
       "2021-12-23 09:30:00+05:30  362003        0.0             0  \n",
       "2021-12-23 09:35:00+05:30  391892        0.0             0  "
      ]
     },
     "execution_count": 55,
     "metadata": {},
     "output_type": "execute_result"
    }
   ],
   "source": [
    "data_tf_5m.head()"
   ]
  },
  {
   "cell_type": "code",
   "execution_count": 366,
   "metadata": {},
   "outputs": [],
   "source": [
    "    if  int(realbody)>= int(candle_range)*0.90:\n",
    "        df.loc[idx,'V-Bullish swing'] =df.loc[idx,'Close']\n",
    "        print(\"Hello\")"
   ]
  },
  {
   "cell_type": "code",
   "execution_count": 376,
   "metadata": {},
   "outputs": [
    {
     "data": {
      "text/html": [
       "<div>\n",
       "<style scoped>\n",
       "    .dataframe tbody tr th:only-of-type {\n",
       "        vertical-align: middle;\n",
       "    }\n",
       "\n",
       "    .dataframe tbody tr th {\n",
       "        vertical-align: top;\n",
       "    }\n",
       "\n",
       "    .dataframe thead th {\n",
       "        text-align: right;\n",
       "    }\n",
       "</style>\n",
       "<table border=\"1\" class=\"dataframe\">\n",
       "  <thead>\n",
       "    <tr style=\"text-align: right;\">\n",
       "      <th></th>\n",
       "      <th>Open</th>\n",
       "      <th>High</th>\n",
       "      <th>Low</th>\n",
       "      <th>Close</th>\n",
       "      <th>Volume</th>\n",
       "      <th>Dividends</th>\n",
       "      <th>Stock Splits</th>\n",
       "    </tr>\n",
       "    <tr>\n",
       "      <th>Datetime</th>\n",
       "      <th></th>\n",
       "      <th></th>\n",
       "      <th></th>\n",
       "      <th></th>\n",
       "      <th></th>\n",
       "      <th></th>\n",
       "      <th></th>\n",
       "    </tr>\n",
       "  </thead>\n",
       "  <tbody>\n",
       "    <tr>\n",
       "      <th>2022-03-02 14:15:00+05:30</th>\n",
       "      <td>2388.050049</td>\n",
       "      <td>2389.500000</td>\n",
       "      <td>2378.199951</td>\n",
       "      <td>2382.949951</td>\n",
       "      <td>404158</td>\n",
       "      <td>0</td>\n",
       "      <td>0</td>\n",
       "    </tr>\n",
       "    <tr>\n",
       "      <th>2022-03-02 14:30:00+05:30</th>\n",
       "      <td>2383.050049</td>\n",
       "      <td>2397.350098</td>\n",
       "      <td>2383.050049</td>\n",
       "      <td>2396.100098</td>\n",
       "      <td>331576</td>\n",
       "      <td>0</td>\n",
       "      <td>0</td>\n",
       "    </tr>\n",
       "    <tr>\n",
       "      <th>2022-03-02 14:45:00+05:30</th>\n",
       "      <td>2396.100098</td>\n",
       "      <td>2397.000000</td>\n",
       "      <td>2389.500000</td>\n",
       "      <td>2392.500000</td>\n",
       "      <td>314237</td>\n",
       "      <td>0</td>\n",
       "      <td>0</td>\n",
       "    </tr>\n",
       "    <tr>\n",
       "      <th>2022-03-02 15:00:00+05:30</th>\n",
       "      <td>2393.000000</td>\n",
       "      <td>2400.000000</td>\n",
       "      <td>2391.550049</td>\n",
       "      <td>2395.199951</td>\n",
       "      <td>776312</td>\n",
       "      <td>0</td>\n",
       "      <td>0</td>\n",
       "    </tr>\n",
       "    <tr>\n",
       "      <th>2022-03-02 15:15:00+05:30</th>\n",
       "      <td>2395.699951</td>\n",
       "      <td>2400.000000</td>\n",
       "      <td>2395.000000</td>\n",
       "      <td>2395.250000</td>\n",
       "      <td>841380</td>\n",
       "      <td>0</td>\n",
       "      <td>0</td>\n",
       "    </tr>\n",
       "    <tr>\n",
       "      <th>2022-03-03 09:15:00+05:30</th>\n",
       "      <td>2400.149902</td>\n",
       "      <td>2414.800049</td>\n",
       "      <td>2400.149902</td>\n",
       "      <td>2404.899902</td>\n",
       "      <td>235196</td>\n",
       "      <td>0</td>\n",
       "      <td>0</td>\n",
       "    </tr>\n",
       "    <tr>\n",
       "      <th>2022-03-03 09:30:00+05:30</th>\n",
       "      <td>2405.250000</td>\n",
       "      <td>2406.050049</td>\n",
       "      <td>2394.000000</td>\n",
       "      <td>2395.800049</td>\n",
       "      <td>250210</td>\n",
       "      <td>0</td>\n",
       "      <td>0</td>\n",
       "    </tr>\n",
       "    <tr>\n",
       "      <th>2022-03-03 09:45:00+05:30</th>\n",
       "      <td>2395.850098</td>\n",
       "      <td>2403.800049</td>\n",
       "      <td>2393.000000</td>\n",
       "      <td>2396.850098</td>\n",
       "      <td>127938</td>\n",
       "      <td>0</td>\n",
       "      <td>0</td>\n",
       "    </tr>\n",
       "    <tr>\n",
       "      <th>2022-03-03 10:00:00+05:30</th>\n",
       "      <td>2396.850098</td>\n",
       "      <td>2399.899902</td>\n",
       "      <td>2391.600098</td>\n",
       "      <td>2399.000000</td>\n",
       "      <td>182835</td>\n",
       "      <td>0</td>\n",
       "      <td>0</td>\n",
       "    </tr>\n",
       "    <tr>\n",
       "      <th>2022-03-03 10:15:00+05:30</th>\n",
       "      <td>2399.500000</td>\n",
       "      <td>2401.100098</td>\n",
       "      <td>2392.500000</td>\n",
       "      <td>2399.949951</td>\n",
       "      <td>161131</td>\n",
       "      <td>0</td>\n",
       "      <td>0</td>\n",
       "    </tr>\n",
       "  </tbody>\n",
       "</table>\n",
       "</div>"
      ],
      "text/plain": [
       "                                  Open         High          Low        Close  \\\n",
       "Datetime                                                                        \n",
       "2022-03-02 14:15:00+05:30  2388.050049  2389.500000  2378.199951  2382.949951   \n",
       "2022-03-02 14:30:00+05:30  2383.050049  2397.350098  2383.050049  2396.100098   \n",
       "2022-03-02 14:45:00+05:30  2396.100098  2397.000000  2389.500000  2392.500000   \n",
       "2022-03-02 15:00:00+05:30  2393.000000  2400.000000  2391.550049  2395.199951   \n",
       "2022-03-02 15:15:00+05:30  2395.699951  2400.000000  2395.000000  2395.250000   \n",
       "2022-03-03 09:15:00+05:30  2400.149902  2414.800049  2400.149902  2404.899902   \n",
       "2022-03-03 09:30:00+05:30  2405.250000  2406.050049  2394.000000  2395.800049   \n",
       "2022-03-03 09:45:00+05:30  2395.850098  2403.800049  2393.000000  2396.850098   \n",
       "2022-03-03 10:00:00+05:30  2396.850098  2399.899902  2391.600098  2399.000000   \n",
       "2022-03-03 10:15:00+05:30  2399.500000  2401.100098  2392.500000  2399.949951   \n",
       "\n",
       "                           Volume  Dividends  Stock Splits  \n",
       "Datetime                                                    \n",
       "2022-03-02 14:15:00+05:30  404158          0             0  \n",
       "2022-03-02 14:30:00+05:30  331576          0             0  \n",
       "2022-03-02 14:45:00+05:30  314237          0             0  \n",
       "2022-03-02 15:00:00+05:30  776312          0             0  \n",
       "2022-03-02 15:15:00+05:30  841380          0             0  \n",
       "2022-03-03 09:15:00+05:30  235196          0             0  \n",
       "2022-03-03 09:30:00+05:30  250210          0             0  \n",
       "2022-03-03 09:45:00+05:30  127938          0             0  \n",
       "2022-03-03 10:00:00+05:30  182835          0             0  \n",
       "2022-03-03 10:15:00+05:30  161131          0             0  "
      ]
     },
     "execution_count": 376,
     "metadata": {},
     "output_type": "execute_result"
    }
   ],
   "source": [
    "data_tf_15m.iloc[1470:1480]"
   ]
  },
  {
   "cell_type": "code",
   "execution_count": 344,
   "metadata": {},
   "outputs": [
    {
     "data": {
      "text/plain": [
       "False"
      ]
     },
     "execution_count": 344,
     "metadata": {},
     "output_type": "execute_result"
    }
   ],
   "source": [
    "realbody_prev >= candle_range_prev*0.90"
   ]
  },
  {
   "cell_type": "code",
   "execution_count": 354,
   "metadata": {},
   "outputs": [],
   "source": [
    "if  realbody >= candle_range*0.90:\n",
    "    print(\"Hello\")"
   ]
  },
  {
   "cell_type": "code",
   "execution_count": 353,
   "metadata": {},
   "outputs": [
    {
     "data": {
      "text/plain": [
       "4.75"
      ]
     },
     "execution_count": 353,
     "metadata": {},
     "output_type": "execute_result"
    }
   ],
   "source": [
    "realbody"
   ]
  },
  {
   "cell_type": "code",
   "execution_count": 348,
   "metadata": {},
   "outputs": [
    {
     "data": {
      "text/plain": [
       "True"
      ]
     },
     "execution_count": 348,
     "metadata": {},
     "output_type": "execute_result"
    }
   ],
   "source": [
    "realbody >= candle_range*0.90"
   ]
  },
  {
   "cell_type": "code",
   "execution_count": 317,
   "metadata": {},
   "outputs": [
    {
     "data": {
      "text/plain": [
       "Index(['Open', 'High', 'Low', 'Close', 'Volume', 'Dividends', 'Stock Splits',\n",
       "       'EMA_10'],\n",
       "      dtype='object')"
      ]
     },
     "execution_count": 317,
     "metadata": {},
     "output_type": "execute_result"
    }
   ],
   "source": [
    "df.columns"
   ]
  },
  {
   "cell_type": "markdown",
   "metadata": {},
   "source": [
    "### Moving Average Crossover"
   ]
  },
  {
   "cell_type": "code",
   "execution_count": 75,
   "metadata": {},
   "outputs": [],
   "source": [
    "df = data_tf_5m"
   ]
  },
  {
   "cell_type": "code",
   "execution_count": 79,
   "metadata": {},
   "outputs": [
    {
     "data": {
      "text/html": [
       "<div>\n",
       "<style scoped>\n",
       "    .dataframe tbody tr th:only-of-type {\n",
       "        vertical-align: middle;\n",
       "    }\n",
       "\n",
       "    .dataframe tbody tr th {\n",
       "        vertical-align: top;\n",
       "    }\n",
       "\n",
       "    .dataframe thead th {\n",
       "        text-align: right;\n",
       "    }\n",
       "</style>\n",
       "<table border=\"1\" class=\"dataframe\">\n",
       "  <thead>\n",
       "    <tr style=\"text-align: right;\">\n",
       "      <th></th>\n",
       "      <th>Open</th>\n",
       "      <th>High</th>\n",
       "      <th>Low</th>\n",
       "      <th>Close</th>\n",
       "      <th>Volume</th>\n",
       "      <th>Dividends</th>\n",
       "      <th>Stock Splits</th>\n",
       "      <th>SMA_09</th>\n",
       "      <th>SMA_18</th>\n",
       "    </tr>\n",
       "    <tr>\n",
       "      <th>Datetime</th>\n",
       "      <th></th>\n",
       "      <th></th>\n",
       "      <th></th>\n",
       "      <th></th>\n",
       "      <th></th>\n",
       "      <th></th>\n",
       "      <th></th>\n",
       "      <th></th>\n",
       "      <th></th>\n",
       "    </tr>\n",
       "  </thead>\n",
       "  <tbody>\n",
       "    <tr>\n",
       "      <th>2021-12-16 09:15:00+05:30</th>\n",
       "      <td>2400.000000</td>\n",
       "      <td>2402.649902</td>\n",
       "      <td>2385.000000</td>\n",
       "      <td>2385.850098</td>\n",
       "      <td>204653</td>\n",
       "      <td>0</td>\n",
       "      <td>0</td>\n",
       "      <td>2385.850098</td>\n",
       "      <td>2385.850098</td>\n",
       "    </tr>\n",
       "    <tr>\n",
       "      <th>2021-12-16 09:30:00+05:30</th>\n",
       "      <td>2385.850098</td>\n",
       "      <td>2388.149902</td>\n",
       "      <td>2380.000000</td>\n",
       "      <td>2385.699951</td>\n",
       "      <td>336046</td>\n",
       "      <td>0</td>\n",
       "      <td>0</td>\n",
       "      <td>2385.775024</td>\n",
       "      <td>2385.775024</td>\n",
       "    </tr>\n",
       "    <tr>\n",
       "      <th>2021-12-16 09:45:00+05:30</th>\n",
       "      <td>2385.500000</td>\n",
       "      <td>2387.000000</td>\n",
       "      <td>2371.100098</td>\n",
       "      <td>2377.100098</td>\n",
       "      <td>239156</td>\n",
       "      <td>0</td>\n",
       "      <td>0</td>\n",
       "      <td>2382.883382</td>\n",
       "      <td>2382.883382</td>\n",
       "    </tr>\n",
       "    <tr>\n",
       "      <th>2021-12-16 10:00:00+05:30</th>\n",
       "      <td>2377.100098</td>\n",
       "      <td>2379.000000</td>\n",
       "      <td>2371.050049</td>\n",
       "      <td>2378.000000</td>\n",
       "      <td>90114</td>\n",
       "      <td>0</td>\n",
       "      <td>0</td>\n",
       "      <td>2381.662537</td>\n",
       "      <td>2381.662537</td>\n",
       "    </tr>\n",
       "    <tr>\n",
       "      <th>2021-12-16 10:15:00+05:30</th>\n",
       "      <td>2378.000000</td>\n",
       "      <td>2381.500000</td>\n",
       "      <td>2376.000000</td>\n",
       "      <td>2380.100098</td>\n",
       "      <td>84891</td>\n",
       "      <td>0</td>\n",
       "      <td>0</td>\n",
       "      <td>2381.350049</td>\n",
       "      <td>2381.350049</td>\n",
       "    </tr>\n",
       "  </tbody>\n",
       "</table>\n",
       "</div>"
      ],
      "text/plain": [
       "                                  Open         High          Low        Close  \\\n",
       "Datetime                                                                        \n",
       "2021-12-16 09:15:00+05:30  2400.000000  2402.649902  2385.000000  2385.850098   \n",
       "2021-12-16 09:30:00+05:30  2385.850098  2388.149902  2380.000000  2385.699951   \n",
       "2021-12-16 09:45:00+05:30  2385.500000  2387.000000  2371.100098  2377.100098   \n",
       "2021-12-16 10:00:00+05:30  2377.100098  2379.000000  2371.050049  2378.000000   \n",
       "2021-12-16 10:15:00+05:30  2378.000000  2381.500000  2376.000000  2380.100098   \n",
       "\n",
       "                           Volume  Dividends  Stock Splits       SMA_09  \\\n",
       "Datetime                                                                  \n",
       "2021-12-16 09:15:00+05:30  204653          0             0  2385.850098   \n",
       "2021-12-16 09:30:00+05:30  336046          0             0  2385.775024   \n",
       "2021-12-16 09:45:00+05:30  239156          0             0  2382.883382   \n",
       "2021-12-16 10:00:00+05:30   90114          0             0  2381.662537   \n",
       "2021-12-16 10:15:00+05:30   84891          0             0  2381.350049   \n",
       "\n",
       "                                SMA_18  \n",
       "Datetime                                \n",
       "2021-12-16 09:15:00+05:30  2385.850098  \n",
       "2021-12-16 09:30:00+05:30  2385.775024  \n",
       "2021-12-16 09:45:00+05:30  2382.883382  \n",
       "2021-12-16 10:00:00+05:30  2381.662537  \n",
       "2021-12-16 10:15:00+05:30  2381.350049  "
      ]
     },
     "execution_count": 79,
     "metadata": {},
     "output_type": "execute_result"
    }
   ],
   "source": [
    "df.head()"
   ]
  },
  {
   "cell_type": "code",
   "execution_count": 78,
   "metadata": {},
   "outputs": [],
   "source": [
    "df['SMA_09'] = df.Close.rolling(9, min_periods=1).mean()\n",
    "df['SMA_18'] = df.Close.rolling(18, min_periods=1).mean()"
   ]
  },
  {
   "cell_type": "code",
   "execution_count": 80,
   "metadata": {},
   "outputs": [],
   "source": [
    "for i in range(100,df.shape[0]):\n",
    "    \n",
    "    current = df.iloc[i,:]\n",
    "    prev = df.iloc[i-1,:]\n",
    "    prev_2 = df.iloc[i-2,:]\n",
    "    prev_3 = df.iloc[i-3,:]\n",
    "    prev_4 = df.iloc[i-4,:]\n",
    "    prev_5 = df.iloc[i-5,:]\n",
    "    idx = df.index[i]\n",
    "    \n",
    "    if current['SMA_09']>current['SMA_18'] and prev['SMA_09']<prev['SMA_18']:\n",
    "        df.loc[idx,'MA_Crossover'] = df.loc[idx,'Close']"
   ]
  },
  {
   "cell_type": "code",
   "execution_count": 82,
   "metadata": {},
   "outputs": [
    {
     "data": {
      "text/html": [
       "<div>\n",
       "<style scoped>\n",
       "    .dataframe tbody tr th:only-of-type {\n",
       "        vertical-align: middle;\n",
       "    }\n",
       "\n",
       "    .dataframe tbody tr th {\n",
       "        vertical-align: top;\n",
       "    }\n",
       "\n",
       "    .dataframe thead th {\n",
       "        text-align: right;\n",
       "    }\n",
       "</style>\n",
       "<table border=\"1\" class=\"dataframe\">\n",
       "  <thead>\n",
       "    <tr style=\"text-align: right;\">\n",
       "      <th></th>\n",
       "      <th>Open</th>\n",
       "      <th>High</th>\n",
       "      <th>Low</th>\n",
       "      <th>Close</th>\n",
       "      <th>Volume</th>\n",
       "      <th>Dividends</th>\n",
       "      <th>Stock Splits</th>\n",
       "      <th>SMA_09</th>\n",
       "      <th>SMA_18</th>\n",
       "      <th>MA_Crossover</th>\n",
       "    </tr>\n",
       "    <tr>\n",
       "      <th>Datetime</th>\n",
       "      <th></th>\n",
       "      <th></th>\n",
       "      <th></th>\n",
       "      <th></th>\n",
       "      <th></th>\n",
       "      <th></th>\n",
       "      <th></th>\n",
       "      <th></th>\n",
       "      <th></th>\n",
       "      <th></th>\n",
       "    </tr>\n",
       "  </thead>\n",
       "  <tbody>\n",
       "    <tr>\n",
       "      <th>2021-12-22 10:30:00+05:30</th>\n",
       "      <td>2336.000000</td>\n",
       "      <td>2339.800049</td>\n",
       "      <td>2331.000000</td>\n",
       "      <td>2334.899902</td>\n",
       "      <td>180798</td>\n",
       "      <td>0</td>\n",
       "      <td>0</td>\n",
       "      <td>2335.577772</td>\n",
       "      <td>2333.388889</td>\n",
       "      <td>2334.899902</td>\n",
       "    </tr>\n",
       "    <tr>\n",
       "      <th>2021-12-22 13:45:00+05:30</th>\n",
       "      <td>2345.399902</td>\n",
       "      <td>2348.000000</td>\n",
       "      <td>2342.000000</td>\n",
       "      <td>2345.600098</td>\n",
       "      <td>127836</td>\n",
       "      <td>0</td>\n",
       "      <td>0</td>\n",
       "      <td>2342.011149</td>\n",
       "      <td>2341.172228</td>\n",
       "      <td>2345.600098</td>\n",
       "    </tr>\n",
       "    <tr>\n",
       "      <th>2021-12-24 13:00:00+05:30</th>\n",
       "      <td>2358.500000</td>\n",
       "      <td>2360.000000</td>\n",
       "      <td>2351.100098</td>\n",
       "      <td>2353.199951</td>\n",
       "      <td>67052</td>\n",
       "      <td>0</td>\n",
       "      <td>0</td>\n",
       "      <td>2354.861111</td>\n",
       "      <td>2354.175008</td>\n",
       "      <td>2353.199951</td>\n",
       "    </tr>\n",
       "    <tr>\n",
       "      <th>2021-12-27 12:15:00+05:30</th>\n",
       "      <td>2369.750000</td>\n",
       "      <td>2375.000000</td>\n",
       "      <td>2369.199951</td>\n",
       "      <td>2372.000000</td>\n",
       "      <td>72962</td>\n",
       "      <td>0</td>\n",
       "      <td>0</td>\n",
       "      <td>2368.105523</td>\n",
       "      <td>2367.702772</td>\n",
       "      <td>2372.000000</td>\n",
       "    </tr>\n",
       "    <tr>\n",
       "      <th>2021-12-29 14:45:00+05:30</th>\n",
       "      <td>2396.250000</td>\n",
       "      <td>2399.500000</td>\n",
       "      <td>2395.000000</td>\n",
       "      <td>2395.199951</td>\n",
       "      <td>136455</td>\n",
       "      <td>0</td>\n",
       "      <td>0</td>\n",
       "      <td>2394.088867</td>\n",
       "      <td>2392.749986</td>\n",
       "      <td>2395.199951</td>\n",
       "    </tr>\n",
       "    <tr>\n",
       "      <th>2021-12-31 11:00:00+05:30</th>\n",
       "      <td>2364.000000</td>\n",
       "      <td>2369.399902</td>\n",
       "      <td>2360.000000</td>\n",
       "      <td>2369.399902</td>\n",
       "      <td>147065</td>\n",
       "      <td>0</td>\n",
       "      <td>0</td>\n",
       "      <td>2369.905518</td>\n",
       "      <td>2368.605537</td>\n",
       "      <td>2369.399902</td>\n",
       "    </tr>\n",
       "    <tr>\n",
       "      <th>2022-01-05 13:00:00+05:30</th>\n",
       "      <td>2455.800049</td>\n",
       "      <td>2459.050049</td>\n",
       "      <td>2447.649902</td>\n",
       "      <td>2452.949951</td>\n",
       "      <td>251734</td>\n",
       "      <td>0</td>\n",
       "      <td>0</td>\n",
       "      <td>2444.511149</td>\n",
       "      <td>2444.444472</td>\n",
       "      <td>2452.949951</td>\n",
       "    </tr>\n",
       "    <tr>\n",
       "      <th>2022-01-06 14:30:00+05:30</th>\n",
       "      <td>2423.000000</td>\n",
       "      <td>2425.949951</td>\n",
       "      <td>2418.000000</td>\n",
       "      <td>2420.500000</td>\n",
       "      <td>243683</td>\n",
       "      <td>0</td>\n",
       "      <td>0</td>\n",
       "      <td>2421.161133</td>\n",
       "      <td>2420.019463</td>\n",
       "      <td>2420.500000</td>\n",
       "    </tr>\n",
       "    <tr>\n",
       "      <th>2022-01-10 10:00:00+05:30</th>\n",
       "      <td>2445.149902</td>\n",
       "      <td>2447.750000</td>\n",
       "      <td>2443.649902</td>\n",
       "      <td>2446.800049</td>\n",
       "      <td>72864</td>\n",
       "      <td>0</td>\n",
       "      <td>0</td>\n",
       "      <td>2434.144423</td>\n",
       "      <td>2432.480550</td>\n",
       "      <td>2446.800049</td>\n",
       "    </tr>\n",
       "    <tr>\n",
       "      <th>2022-01-10 14:15:00+05:30</th>\n",
       "      <td>2430.850098</td>\n",
       "      <td>2434.000000</td>\n",
       "      <td>2430.050049</td>\n",
       "      <td>2432.750000</td>\n",
       "      <td>71456</td>\n",
       "      <td>0</td>\n",
       "      <td>0</td>\n",
       "      <td>2430.811117</td>\n",
       "      <td>2429.936117</td>\n",
       "      <td>2432.750000</td>\n",
       "    </tr>\n",
       "    <tr>\n",
       "      <th>2022-01-12 09:45:00+05:30</th>\n",
       "      <td>2492.449951</td>\n",
       "      <td>2495.000000</td>\n",
       "      <td>2485.000000</td>\n",
       "      <td>2494.850098</td>\n",
       "      <td>328696</td>\n",
       "      <td>0</td>\n",
       "      <td>0</td>\n",
       "      <td>2466.116672</td>\n",
       "      <td>2465.200005</td>\n",
       "      <td>2494.850098</td>\n",
       "    </tr>\n",
       "    <tr>\n",
       "      <th>2022-01-13 14:45:00+05:30</th>\n",
       "      <td>2527.899902</td>\n",
       "      <td>2528.000000</td>\n",
       "      <td>2523.449951</td>\n",
       "      <td>2526.100098</td>\n",
       "      <td>128762</td>\n",
       "      <td>0</td>\n",
       "      <td>0</td>\n",
       "      <td>2523.533339</td>\n",
       "      <td>2523.238878</td>\n",
       "      <td>2526.100098</td>\n",
       "    </tr>\n",
       "    <tr>\n",
       "      <th>2022-01-14 14:15:00+05:30</th>\n",
       "      <td>2536.399902</td>\n",
       "      <td>2538.350098</td>\n",
       "      <td>2533.000000</td>\n",
       "      <td>2537.000000</td>\n",
       "      <td>93240</td>\n",
       "      <td>0</td>\n",
       "      <td>0</td>\n",
       "      <td>2537.605523</td>\n",
       "      <td>2536.941664</td>\n",
       "      <td>2537.000000</td>\n",
       "    </tr>\n",
       "    <tr>\n",
       "      <th>2022-01-18 13:00:00+05:30</th>\n",
       "      <td>2556.850098</td>\n",
       "      <td>2561.300049</td>\n",
       "      <td>2554.000000</td>\n",
       "      <td>2559.699951</td>\n",
       "      <td>107845</td>\n",
       "      <td>0</td>\n",
       "      <td>0</td>\n",
       "      <td>2546.683350</td>\n",
       "      <td>2545.113892</td>\n",
       "      <td>2559.699951</td>\n",
       "    </tr>\n",
       "    <tr>\n",
       "      <th>2022-01-21 10:15:00+05:30</th>\n",
       "      <td>2471.250000</td>\n",
       "      <td>2476.699951</td>\n",
       "      <td>2466.050049</td>\n",
       "      <td>2472.899902</td>\n",
       "      <td>194800</td>\n",
       "      <td>0</td>\n",
       "      <td>0</td>\n",
       "      <td>2473.755561</td>\n",
       "      <td>2473.677762</td>\n",
       "      <td>2472.899902</td>\n",
       "    </tr>\n",
       "    <tr>\n",
       "      <th>2022-01-25 13:15:00+05:30</th>\n",
       "      <td>2337.399902</td>\n",
       "      <td>2348.000000</td>\n",
       "      <td>2336.750000</td>\n",
       "      <td>2347.449951</td>\n",
       "      <td>268813</td>\n",
       "      <td>0</td>\n",
       "      <td>0</td>\n",
       "      <td>2334.633328</td>\n",
       "      <td>2333.708333</td>\n",
       "      <td>2347.449951</td>\n",
       "    </tr>\n",
       "    <tr>\n",
       "      <th>2022-01-27 14:30:00+05:30</th>\n",
       "      <td>2346.800049</td>\n",
       "      <td>2356.100098</td>\n",
       "      <td>2343.550049</td>\n",
       "      <td>2349.949951</td>\n",
       "      <td>426445</td>\n",
       "      <td>0</td>\n",
       "      <td>0</td>\n",
       "      <td>2333.783312</td>\n",
       "      <td>2331.405558</td>\n",
       "      <td>2349.949951</td>\n",
       "    </tr>\n",
       "    <tr>\n",
       "      <th>2022-01-31 10:00:00+05:30</th>\n",
       "      <td>2375.000000</td>\n",
       "      <td>2384.949951</td>\n",
       "      <td>2367.250000</td>\n",
       "      <td>2382.899902</td>\n",
       "      <td>260556</td>\n",
       "      <td>0</td>\n",
       "      <td>0</td>\n",
       "      <td>2354.866645</td>\n",
       "      <td>2354.138889</td>\n",
       "      <td>2382.899902</td>\n",
       "    </tr>\n",
       "    <tr>\n",
       "      <th>2022-02-01 10:30:00+05:30</th>\n",
       "      <td>2412.949951</td>\n",
       "      <td>2412.949951</td>\n",
       "      <td>2403.399902</td>\n",
       "      <td>2407.300049</td>\n",
       "      <td>133426</td>\n",
       "      <td>0</td>\n",
       "      <td>0</td>\n",
       "      <td>2400.538873</td>\n",
       "      <td>2399.788873</td>\n",
       "      <td>2407.300049</td>\n",
       "    </tr>\n",
       "    <tr>\n",
       "      <th>2022-02-02 10:45:00+05:30</th>\n",
       "      <td>2383.600098</td>\n",
       "      <td>2388.550049</td>\n",
       "      <td>2382.500000</td>\n",
       "      <td>2386.149902</td>\n",
       "      <td>93762</td>\n",
       "      <td>0</td>\n",
       "      <td>0</td>\n",
       "      <td>2386.705566</td>\n",
       "      <td>2385.188911</td>\n",
       "      <td>2386.149902</td>\n",
       "    </tr>\n",
       "    <tr>\n",
       "      <th>2022-02-03 09:45:00+05:30</th>\n",
       "      <td>2381.449951</td>\n",
       "      <td>2385.500000</td>\n",
       "      <td>2376.100098</td>\n",
       "      <td>2382.500000</td>\n",
       "      <td>158887</td>\n",
       "      <td>0</td>\n",
       "      <td>0</td>\n",
       "      <td>2383.183322</td>\n",
       "      <td>2382.977770</td>\n",
       "      <td>2382.500000</td>\n",
       "    </tr>\n",
       "    <tr>\n",
       "      <th>2022-02-03 10:45:00+05:30</th>\n",
       "      <td>2375.000000</td>\n",
       "      <td>2377.750000</td>\n",
       "      <td>2374.449951</td>\n",
       "      <td>2375.449951</td>\n",
       "      <td>60614</td>\n",
       "      <td>0</td>\n",
       "      <td>0</td>\n",
       "      <td>2381.066678</td>\n",
       "      <td>2380.933336</td>\n",
       "      <td>2375.449951</td>\n",
       "    </tr>\n",
       "    <tr>\n",
       "      <th>2022-02-07 09:15:00+05:30</th>\n",
       "      <td>2335.399902</td>\n",
       "      <td>2349.399902</td>\n",
       "      <td>2333.199951</td>\n",
       "      <td>2342.000000</td>\n",
       "      <td>201566</td>\n",
       "      <td>0</td>\n",
       "      <td>0</td>\n",
       "      <td>2334.616672</td>\n",
       "      <td>2333.663900</td>\n",
       "      <td>2342.000000</td>\n",
       "    </tr>\n",
       "    <tr>\n",
       "      <th>2022-02-08 10:30:00+05:30</th>\n",
       "      <td>2322.100098</td>\n",
       "      <td>2322.949951</td>\n",
       "      <td>2314.199951</td>\n",
       "      <td>2316.000000</td>\n",
       "      <td>201186</td>\n",
       "      <td>0</td>\n",
       "      <td>0</td>\n",
       "      <td>2323.255561</td>\n",
       "      <td>2322.427789</td>\n",
       "      <td>2316.000000</td>\n",
       "    </tr>\n",
       "    <tr>\n",
       "      <th>2022-02-09 14:00:00+05:30</th>\n",
       "      <td>2372.899902</td>\n",
       "      <td>2376.899902</td>\n",
       "      <td>2370.000000</td>\n",
       "      <td>2374.949951</td>\n",
       "      <td>228504</td>\n",
       "      <td>0</td>\n",
       "      <td>0</td>\n",
       "      <td>2368.244439</td>\n",
       "      <td>2367.519423</td>\n",
       "      <td>2374.949951</td>\n",
       "    </tr>\n",
       "    <tr>\n",
       "      <th>2022-02-10 11:45:00+05:30</th>\n",
       "      <td>2385.149902</td>\n",
       "      <td>2386.949951</td>\n",
       "      <td>2383.500000</td>\n",
       "      <td>2386.199951</td>\n",
       "      <td>159720</td>\n",
       "      <td>0</td>\n",
       "      <td>0</td>\n",
       "      <td>2377.861111</td>\n",
       "      <td>2377.752767</td>\n",
       "      <td>2386.199951</td>\n",
       "    </tr>\n",
       "    <tr>\n",
       "      <th>2022-02-11 13:00:00+05:30</th>\n",
       "      <td>2367.250000</td>\n",
       "      <td>2372.000000</td>\n",
       "      <td>2366.050049</td>\n",
       "      <td>2371.600098</td>\n",
       "      <td>99844</td>\n",
       "      <td>0</td>\n",
       "      <td>0</td>\n",
       "      <td>2365.166694</td>\n",
       "      <td>2364.519463</td>\n",
       "      <td>2371.600098</td>\n",
       "    </tr>\n",
       "    <tr>\n",
       "      <th>2022-02-14 13:15:00+05:30</th>\n",
       "      <td>2346.000000</td>\n",
       "      <td>2354.699951</td>\n",
       "      <td>2344.449951</td>\n",
       "      <td>2352.350098</td>\n",
       "      <td>199486</td>\n",
       "      <td>0</td>\n",
       "      <td>0</td>\n",
       "      <td>2342.427762</td>\n",
       "      <td>2342.252780</td>\n",
       "      <td>2352.350098</td>\n",
       "    </tr>\n",
       "    <tr>\n",
       "      <th>2022-02-15 10:30:00+05:30</th>\n",
       "      <td>2353.699951</td>\n",
       "      <td>2355.000000</td>\n",
       "      <td>2347.949951</td>\n",
       "      <td>2352.000000</td>\n",
       "      <td>129246</td>\n",
       "      <td>0</td>\n",
       "      <td>0</td>\n",
       "      <td>2345.588894</td>\n",
       "      <td>2344.308322</td>\n",
       "      <td>2352.000000</td>\n",
       "    </tr>\n",
       "    <tr>\n",
       "      <th>2022-02-16 13:00:00+05:30</th>\n",
       "      <td>2420.000000</td>\n",
       "      <td>2424.000000</td>\n",
       "      <td>2419.449951</td>\n",
       "      <td>2423.500000</td>\n",
       "      <td>86344</td>\n",
       "      <td>0</td>\n",
       "      <td>0</td>\n",
       "      <td>2415.966661</td>\n",
       "      <td>2415.219442</td>\n",
       "      <td>2423.500000</td>\n",
       "    </tr>\n",
       "    <tr>\n",
       "      <th>2022-02-17 10:45:00+05:30</th>\n",
       "      <td>2437.000000</td>\n",
       "      <td>2445.000000</td>\n",
       "      <td>2434.000000</td>\n",
       "      <td>2444.449951</td>\n",
       "      <td>404993</td>\n",
       "      <td>0</td>\n",
       "      <td>0</td>\n",
       "      <td>2424.366645</td>\n",
       "      <td>2422.627767</td>\n",
       "      <td>2444.449951</td>\n",
       "    </tr>\n",
       "    <tr>\n",
       "      <th>2022-02-18 11:45:00+05:30</th>\n",
       "      <td>2448.250000</td>\n",
       "      <td>2450.000000</td>\n",
       "      <td>2445.500000</td>\n",
       "      <td>2445.649902</td>\n",
       "      <td>112992</td>\n",
       "      <td>0</td>\n",
       "      <td>0</td>\n",
       "      <td>2443.388862</td>\n",
       "      <td>2443.263862</td>\n",
       "      <td>2445.649902</td>\n",
       "    </tr>\n",
       "    <tr>\n",
       "      <th>2022-02-21 12:30:00+05:30</th>\n",
       "      <td>2418.600098</td>\n",
       "      <td>2423.250000</td>\n",
       "      <td>2415.100098</td>\n",
       "      <td>2421.600098</td>\n",
       "      <td>89712</td>\n",
       "      <td>0</td>\n",
       "      <td>0</td>\n",
       "      <td>2415.961127</td>\n",
       "      <td>2413.872247</td>\n",
       "      <td>2421.600098</td>\n",
       "    </tr>\n",
       "    <tr>\n",
       "      <th>2022-02-22 13:00:00+05:30</th>\n",
       "      <td>2366.199951</td>\n",
       "      <td>2368.000000</td>\n",
       "      <td>2361.550049</td>\n",
       "      <td>2363.149902</td>\n",
       "      <td>170355</td>\n",
       "      <td>0</td>\n",
       "      <td>0</td>\n",
       "      <td>2369.883301</td>\n",
       "      <td>2369.663859</td>\n",
       "      <td>2363.149902</td>\n",
       "    </tr>\n",
       "    <tr>\n",
       "      <th>2022-02-24 13:30:00+05:30</th>\n",
       "      <td>2298.399902</td>\n",
       "      <td>2302.600098</td>\n",
       "      <td>2293.000000</td>\n",
       "      <td>2294.050049</td>\n",
       "      <td>303170</td>\n",
       "      <td>0</td>\n",
       "      <td>0</td>\n",
       "      <td>2300.766656</td>\n",
       "      <td>2300.013889</td>\n",
       "      <td>2294.050049</td>\n",
       "    </tr>\n",
       "    <tr>\n",
       "      <th>2022-02-25 11:00:00+05:30</th>\n",
       "      <td>2298.699951</td>\n",
       "      <td>2300.500000</td>\n",
       "      <td>2293.399902</td>\n",
       "      <td>2295.100098</td>\n",
       "      <td>248441</td>\n",
       "      <td>0</td>\n",
       "      <td>0</td>\n",
       "      <td>2290.183350</td>\n",
       "      <td>2288.380561</td>\n",
       "      <td>2295.100098</td>\n",
       "    </tr>\n",
       "    <tr>\n",
       "      <th>2022-02-28 11:45:00+05:30</th>\n",
       "      <td>2296.500000</td>\n",
       "      <td>2312.699951</td>\n",
       "      <td>2296.000000</td>\n",
       "      <td>2310.399902</td>\n",
       "      <td>229582</td>\n",
       "      <td>0</td>\n",
       "      <td>0</td>\n",
       "      <td>2287.972195</td>\n",
       "      <td>2284.966661</td>\n",
       "      <td>2310.399902</td>\n",
       "    </tr>\n",
       "    <tr>\n",
       "      <th>2022-03-04 13:15:00+05:30</th>\n",
       "      <td>2343.100098</td>\n",
       "      <td>2349.800049</td>\n",
       "      <td>2341.699951</td>\n",
       "      <td>2349.550049</td>\n",
       "      <td>123820</td>\n",
       "      <td>0</td>\n",
       "      <td>0</td>\n",
       "      <td>2340.961127</td>\n",
       "      <td>2340.024997</td>\n",
       "      <td>2349.550049</td>\n",
       "    </tr>\n",
       "    <tr>\n",
       "      <th>2022-03-08 15:00:00+05:30</th>\n",
       "      <td>2233.000000</td>\n",
       "      <td>2240.649902</td>\n",
       "      <td>2230.750000</td>\n",
       "      <td>2235.000000</td>\n",
       "      <td>748998</td>\n",
       "      <td>0</td>\n",
       "      <td>0</td>\n",
       "      <td>2211.333306</td>\n",
       "      <td>2208.686130</td>\n",
       "      <td>2235.000000</td>\n",
       "    </tr>\n",
       "    <tr>\n",
       "      <th>2022-03-11 10:00:00+05:30</th>\n",
       "      <td>2401.250000</td>\n",
       "      <td>2404.949951</td>\n",
       "      <td>2392.500000</td>\n",
       "      <td>2395.649902</td>\n",
       "      <td>244138</td>\n",
       "      <td>0</td>\n",
       "      <td>0</td>\n",
       "      <td>2391.133328</td>\n",
       "      <td>2389.397217</td>\n",
       "      <td>2395.649902</td>\n",
       "    </tr>\n",
       "  </tbody>\n",
       "</table>\n",
       "</div>"
      ],
      "text/plain": [
       "                                  Open         High          Low        Close  \\\n",
       "Datetime                                                                        \n",
       "2021-12-22 10:30:00+05:30  2336.000000  2339.800049  2331.000000  2334.899902   \n",
       "2021-12-22 13:45:00+05:30  2345.399902  2348.000000  2342.000000  2345.600098   \n",
       "2021-12-24 13:00:00+05:30  2358.500000  2360.000000  2351.100098  2353.199951   \n",
       "2021-12-27 12:15:00+05:30  2369.750000  2375.000000  2369.199951  2372.000000   \n",
       "2021-12-29 14:45:00+05:30  2396.250000  2399.500000  2395.000000  2395.199951   \n",
       "2021-12-31 11:00:00+05:30  2364.000000  2369.399902  2360.000000  2369.399902   \n",
       "2022-01-05 13:00:00+05:30  2455.800049  2459.050049  2447.649902  2452.949951   \n",
       "2022-01-06 14:30:00+05:30  2423.000000  2425.949951  2418.000000  2420.500000   \n",
       "2022-01-10 10:00:00+05:30  2445.149902  2447.750000  2443.649902  2446.800049   \n",
       "2022-01-10 14:15:00+05:30  2430.850098  2434.000000  2430.050049  2432.750000   \n",
       "2022-01-12 09:45:00+05:30  2492.449951  2495.000000  2485.000000  2494.850098   \n",
       "2022-01-13 14:45:00+05:30  2527.899902  2528.000000  2523.449951  2526.100098   \n",
       "2022-01-14 14:15:00+05:30  2536.399902  2538.350098  2533.000000  2537.000000   \n",
       "2022-01-18 13:00:00+05:30  2556.850098  2561.300049  2554.000000  2559.699951   \n",
       "2022-01-21 10:15:00+05:30  2471.250000  2476.699951  2466.050049  2472.899902   \n",
       "2022-01-25 13:15:00+05:30  2337.399902  2348.000000  2336.750000  2347.449951   \n",
       "2022-01-27 14:30:00+05:30  2346.800049  2356.100098  2343.550049  2349.949951   \n",
       "2022-01-31 10:00:00+05:30  2375.000000  2384.949951  2367.250000  2382.899902   \n",
       "2022-02-01 10:30:00+05:30  2412.949951  2412.949951  2403.399902  2407.300049   \n",
       "2022-02-02 10:45:00+05:30  2383.600098  2388.550049  2382.500000  2386.149902   \n",
       "2022-02-03 09:45:00+05:30  2381.449951  2385.500000  2376.100098  2382.500000   \n",
       "2022-02-03 10:45:00+05:30  2375.000000  2377.750000  2374.449951  2375.449951   \n",
       "2022-02-07 09:15:00+05:30  2335.399902  2349.399902  2333.199951  2342.000000   \n",
       "2022-02-08 10:30:00+05:30  2322.100098  2322.949951  2314.199951  2316.000000   \n",
       "2022-02-09 14:00:00+05:30  2372.899902  2376.899902  2370.000000  2374.949951   \n",
       "2022-02-10 11:45:00+05:30  2385.149902  2386.949951  2383.500000  2386.199951   \n",
       "2022-02-11 13:00:00+05:30  2367.250000  2372.000000  2366.050049  2371.600098   \n",
       "2022-02-14 13:15:00+05:30  2346.000000  2354.699951  2344.449951  2352.350098   \n",
       "2022-02-15 10:30:00+05:30  2353.699951  2355.000000  2347.949951  2352.000000   \n",
       "2022-02-16 13:00:00+05:30  2420.000000  2424.000000  2419.449951  2423.500000   \n",
       "2022-02-17 10:45:00+05:30  2437.000000  2445.000000  2434.000000  2444.449951   \n",
       "2022-02-18 11:45:00+05:30  2448.250000  2450.000000  2445.500000  2445.649902   \n",
       "2022-02-21 12:30:00+05:30  2418.600098  2423.250000  2415.100098  2421.600098   \n",
       "2022-02-22 13:00:00+05:30  2366.199951  2368.000000  2361.550049  2363.149902   \n",
       "2022-02-24 13:30:00+05:30  2298.399902  2302.600098  2293.000000  2294.050049   \n",
       "2022-02-25 11:00:00+05:30  2298.699951  2300.500000  2293.399902  2295.100098   \n",
       "2022-02-28 11:45:00+05:30  2296.500000  2312.699951  2296.000000  2310.399902   \n",
       "2022-03-04 13:15:00+05:30  2343.100098  2349.800049  2341.699951  2349.550049   \n",
       "2022-03-08 15:00:00+05:30  2233.000000  2240.649902  2230.750000  2235.000000   \n",
       "2022-03-11 10:00:00+05:30  2401.250000  2404.949951  2392.500000  2395.649902   \n",
       "\n",
       "                           Volume  Dividends  Stock Splits       SMA_09  \\\n",
       "Datetime                                                                  \n",
       "2021-12-22 10:30:00+05:30  180798          0             0  2335.577772   \n",
       "2021-12-22 13:45:00+05:30  127836          0             0  2342.011149   \n",
       "2021-12-24 13:00:00+05:30   67052          0             0  2354.861111   \n",
       "2021-12-27 12:15:00+05:30   72962          0             0  2368.105523   \n",
       "2021-12-29 14:45:00+05:30  136455          0             0  2394.088867   \n",
       "2021-12-31 11:00:00+05:30  147065          0             0  2369.905518   \n",
       "2022-01-05 13:00:00+05:30  251734          0             0  2444.511149   \n",
       "2022-01-06 14:30:00+05:30  243683          0             0  2421.161133   \n",
       "2022-01-10 10:00:00+05:30   72864          0             0  2434.144423   \n",
       "2022-01-10 14:15:00+05:30   71456          0             0  2430.811117   \n",
       "2022-01-12 09:45:00+05:30  328696          0             0  2466.116672   \n",
       "2022-01-13 14:45:00+05:30  128762          0             0  2523.533339   \n",
       "2022-01-14 14:15:00+05:30   93240          0             0  2537.605523   \n",
       "2022-01-18 13:00:00+05:30  107845          0             0  2546.683350   \n",
       "2022-01-21 10:15:00+05:30  194800          0             0  2473.755561   \n",
       "2022-01-25 13:15:00+05:30  268813          0             0  2334.633328   \n",
       "2022-01-27 14:30:00+05:30  426445          0             0  2333.783312   \n",
       "2022-01-31 10:00:00+05:30  260556          0             0  2354.866645   \n",
       "2022-02-01 10:30:00+05:30  133426          0             0  2400.538873   \n",
       "2022-02-02 10:45:00+05:30   93762          0             0  2386.705566   \n",
       "2022-02-03 09:45:00+05:30  158887          0             0  2383.183322   \n",
       "2022-02-03 10:45:00+05:30   60614          0             0  2381.066678   \n",
       "2022-02-07 09:15:00+05:30  201566          0             0  2334.616672   \n",
       "2022-02-08 10:30:00+05:30  201186          0             0  2323.255561   \n",
       "2022-02-09 14:00:00+05:30  228504          0             0  2368.244439   \n",
       "2022-02-10 11:45:00+05:30  159720          0             0  2377.861111   \n",
       "2022-02-11 13:00:00+05:30   99844          0             0  2365.166694   \n",
       "2022-02-14 13:15:00+05:30  199486          0             0  2342.427762   \n",
       "2022-02-15 10:30:00+05:30  129246          0             0  2345.588894   \n",
       "2022-02-16 13:00:00+05:30   86344          0             0  2415.966661   \n",
       "2022-02-17 10:45:00+05:30  404993          0             0  2424.366645   \n",
       "2022-02-18 11:45:00+05:30  112992          0             0  2443.388862   \n",
       "2022-02-21 12:30:00+05:30   89712          0             0  2415.961127   \n",
       "2022-02-22 13:00:00+05:30  170355          0             0  2369.883301   \n",
       "2022-02-24 13:30:00+05:30  303170          0             0  2300.766656   \n",
       "2022-02-25 11:00:00+05:30  248441          0             0  2290.183350   \n",
       "2022-02-28 11:45:00+05:30  229582          0             0  2287.972195   \n",
       "2022-03-04 13:15:00+05:30  123820          0             0  2340.961127   \n",
       "2022-03-08 15:00:00+05:30  748998          0             0  2211.333306   \n",
       "2022-03-11 10:00:00+05:30  244138          0             0  2391.133328   \n",
       "\n",
       "                                SMA_18  MA_Crossover  \n",
       "Datetime                                              \n",
       "2021-12-22 10:30:00+05:30  2333.388889   2334.899902  \n",
       "2021-12-22 13:45:00+05:30  2341.172228   2345.600098  \n",
       "2021-12-24 13:00:00+05:30  2354.175008   2353.199951  \n",
       "2021-12-27 12:15:00+05:30  2367.702772   2372.000000  \n",
       "2021-12-29 14:45:00+05:30  2392.749986   2395.199951  \n",
       "2021-12-31 11:00:00+05:30  2368.605537   2369.399902  \n",
       "2022-01-05 13:00:00+05:30  2444.444472   2452.949951  \n",
       "2022-01-06 14:30:00+05:30  2420.019463   2420.500000  \n",
       "2022-01-10 10:00:00+05:30  2432.480550   2446.800049  \n",
       "2022-01-10 14:15:00+05:30  2429.936117   2432.750000  \n",
       "2022-01-12 09:45:00+05:30  2465.200005   2494.850098  \n",
       "2022-01-13 14:45:00+05:30  2523.238878   2526.100098  \n",
       "2022-01-14 14:15:00+05:30  2536.941664   2537.000000  \n",
       "2022-01-18 13:00:00+05:30  2545.113892   2559.699951  \n",
       "2022-01-21 10:15:00+05:30  2473.677762   2472.899902  \n",
       "2022-01-25 13:15:00+05:30  2333.708333   2347.449951  \n",
       "2022-01-27 14:30:00+05:30  2331.405558   2349.949951  \n",
       "2022-01-31 10:00:00+05:30  2354.138889   2382.899902  \n",
       "2022-02-01 10:30:00+05:30  2399.788873   2407.300049  \n",
       "2022-02-02 10:45:00+05:30  2385.188911   2386.149902  \n",
       "2022-02-03 09:45:00+05:30  2382.977770   2382.500000  \n",
       "2022-02-03 10:45:00+05:30  2380.933336   2375.449951  \n",
       "2022-02-07 09:15:00+05:30  2333.663900   2342.000000  \n",
       "2022-02-08 10:30:00+05:30  2322.427789   2316.000000  \n",
       "2022-02-09 14:00:00+05:30  2367.519423   2374.949951  \n",
       "2022-02-10 11:45:00+05:30  2377.752767   2386.199951  \n",
       "2022-02-11 13:00:00+05:30  2364.519463   2371.600098  \n",
       "2022-02-14 13:15:00+05:30  2342.252780   2352.350098  \n",
       "2022-02-15 10:30:00+05:30  2344.308322   2352.000000  \n",
       "2022-02-16 13:00:00+05:30  2415.219442   2423.500000  \n",
       "2022-02-17 10:45:00+05:30  2422.627767   2444.449951  \n",
       "2022-02-18 11:45:00+05:30  2443.263862   2445.649902  \n",
       "2022-02-21 12:30:00+05:30  2413.872247   2421.600098  \n",
       "2022-02-22 13:00:00+05:30  2369.663859   2363.149902  \n",
       "2022-02-24 13:30:00+05:30  2300.013889   2294.050049  \n",
       "2022-02-25 11:00:00+05:30  2288.380561   2295.100098  \n",
       "2022-02-28 11:45:00+05:30  2284.966661   2310.399902  \n",
       "2022-03-04 13:15:00+05:30  2340.024997   2349.550049  \n",
       "2022-03-08 15:00:00+05:30  2208.686130   2235.000000  \n",
       "2022-03-11 10:00:00+05:30  2389.397217   2395.649902  "
      ]
     },
     "execution_count": 82,
     "metadata": {},
     "output_type": "execute_result"
    }
   ],
   "source": [
    "df[df['MA_Crossover']>0]"
   ]
  },
  {
   "cell_type": "code",
   "execution_count": 1,
   "metadata": {},
   "outputs": [],
   "source": [
    "import pandas as pd"
   ]
  },
  {
   "cell_type": "code",
   "execution_count": 15,
   "metadata": {},
   "outputs": [],
   "source": [
    "ss = pd.read_clipboard()"
   ]
  },
  {
   "cell_type": "code",
   "execution_count": 16,
   "metadata": {},
   "outputs": [],
   "source": [
    "ss['EVENT_DATE'] = pd.to_datetime(ss['EVENT_DATE'])"
   ]
  },
  {
   "cell_type": "code",
   "execution_count": 17,
   "metadata": {},
   "outputs": [
    {
     "name": "stdout",
     "output_type": "stream",
     "text": [
      "<class 'pandas.core.frame.DataFrame'>\n",
      "RangeIndex: 801 entries, 0 to 800\n",
      "Data columns (total 8 columns):\n",
      "CONTACT_ID          801 non-null object\n",
      "GPID                799 non-null float64\n",
      "EVENT_DATE          801 non-null datetime64[ns]\n",
      "CAMPAIGN_NAME       801 non-null object\n",
      "SCENARIO_TYPE       801 non-null object\n",
      "SCENARIO_SUBTYPE    783 non-null object\n",
      "JOB_ID              801 non-null int64\n",
      "ID                  801 non-null object\n",
      "dtypes: datetime64[ns](1), float64(1), int64(1), object(5)\n",
      "memory usage: 50.1+ KB\n"
     ]
    }
   ],
   "source": [
    "ss.info()"
   ]
  },
  {
   "cell_type": "code",
   "execution_count": null,
   "metadata": {},
   "outputs": [],
   "source": []
  }
 ],
 "metadata": {
  "kernelspec": {
   "display_name": "Python 3",
   "language": "python",
   "name": "python3"
  },
  "language_info": {
   "codemirror_mode": {
    "name": "ipython",
    "version": 3
   },
   "file_extension": ".py",
   "mimetype": "text/x-python",
   "name": "python",
   "nbconvert_exporter": "python",
   "pygments_lexer": "ipython3",
   "version": "3.7.3"
  }
 },
 "nbformat": 4,
 "nbformat_minor": 2
}
