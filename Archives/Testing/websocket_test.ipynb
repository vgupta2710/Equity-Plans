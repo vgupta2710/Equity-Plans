{
 "cells": [
  {
   "cell_type": "code",
   "execution_count": 1,
   "metadata": {},
   "outputs": [
    {
     "data": {
      "application/javascript": [
       "\n",
       "        if (window._pyforest_update_imports_cell) { window._pyforest_update_imports_cell('import sys'); }\n",
       "    "
      ],
      "text/plain": [
       "<IPython.core.display.Javascript object>"
      ]
     },
     "metadata": {},
     "output_type": "display_data"
    },
    {
     "data": {
      "application/javascript": [
       "\n",
       "        if (window._pyforest_update_imports_cell) { window._pyforest_update_imports_cell('import sys\\nimport os'); }\n",
       "    "
      ],
      "text/plain": [
       "<IPython.core.display.Javascript object>"
      ]
     },
     "metadata": {},
     "output_type": "display_data"
    },
    {
     "data": {
      "application/javascript": [
       "\n",
       "        if (window._pyforest_update_imports_cell) { window._pyforest_update_imports_cell('import sys\\nimport os'); }\n",
       "    "
      ],
      "text/plain": [
       "<IPython.core.display.Javascript object>"
      ]
     },
     "metadata": {},
     "output_type": "display_data"
    },
    {
     "data": {
      "application/javascript": [
       "\n",
       "        if (window._pyforest_update_imports_cell) { window._pyforest_update_imports_cell('import sys\\nimport os'); }\n",
       "    "
      ],
      "text/plain": [
       "<IPython.core.display.Javascript object>"
      ]
     },
     "metadata": {},
     "output_type": "display_data"
    }
   ],
   "source": [
    "sys.path.append(os.path.dirname(os.path.dirname(os.path.abspath('/Users/vaigupta/Documents/DS/Equity_Simulator/Production Copy/ShoonyaApi-py'))))\n",
    "from api_helper import ShoonyaApiPy, get_time\n",
    "import datetime\n",
    "import logging\n",
    "import time\n",
    "import yaml\n",
    "import pandas as pd\n",
    "import warnings\n",
    "warnings.filterwarnings(action= 'ignore')\n",
    "#sample\n",
    "logging.basicConfig(level=logging.ERROR)"
   ]
  },
  {
   "cell_type": "code",
   "execution_count": 3,
   "metadata": {},
   "outputs": [
    {
     "name": "stdout",
     "output_type": "stream",
     "text": [
      "{'uid': 'FA67369', 'pwd': 'Rake@3427', 'factor2': 'AUYPV4182G', 'vc': 'FA67369_U', 'app_key': 'a0294fc8b334fa66926920b167aee41e', 'imei': 'asbd2324'}\n"
     ]
    }
   ],
   "source": [
    "#start of our program\n",
    "api = ShoonyaApiPy()\n",
    "\n",
    "#yaml for parameters\n",
    "with open('cred.yml') as f:\n",
    "    cred = yaml.load(f, Loader=yaml.FullLoader)\n",
    "    print(cred)\n",
    "\n",
    "ret = api.login(userid = cred['uid'], password = cred['pwd'], twoFA=cred['factor2'], vendor_code=cred['vc'], api_secret=cred['app_key'], imei=cred['imei'])\n"
   ]
  },
  {
   "cell_type": "code",
   "execution_count": 7,
   "metadata": {},
   "outputs": [],
   "source": [
    "#flag to tell us if the websocket is open\n",
    "socket_opened = False\n",
    "global current_batch\n",
    "current_batch=[]\n",
    "\n",
    "#application callbacks\n",
    "def event_handler_order_update(message):\n",
    "    print(\"order event: \" + str(message))\n",
    "\n",
    "def event_handler_quote_update(message):\n",
    "    global strr\n",
    "    print(message)\n",
    "    order_append(message)\n",
    "    \n",
    "def order_append(event):\n",
    "    data = (event['tk'],event['ts'],event['ft'],event['o'],event['l'],event['h'],event['c'],event['v'])\n",
    "    # add new data record to batch\n",
    "    current_batch.append(data)\n",
    "    return current_batch\n",
    "\n",
    "def open_callback():\n",
    "    global socket_opened\n",
    "    socket_opened = True\n",
    "    print('app is connected')   \n",
    "    #api.subscribe('NSE|22', feed_type='d')\n",
    "    api.subscribe(['NSE|22', 'NSE|760'],feed_type='d')\n",
    "\n",
    "\n",
    "def get_time(time_string):\n",
    "    data = time.strptime(time_string,'%d-%m-%Y %H:%M:%S')\n",
    "    return time.mktime(data)"
   ]
  },
  {
   "cell_type": "code",
   "execution_count": 8,
   "metadata": {},
   "outputs": [
    {
     "name": "stdout",
     "output_type": "stream",
     "text": [
      "app is connected\n",
      "{'t': 'dk', 'e': 'NSE', 'tk': '22', 'ts': 'ACC-EQ', 'pp': '2', 'ls': '1', 'ti': '0.05', 'lp': '2227.00', 'pc': '0.11', 'ft': '1660127398', 'o': '2224.55', 'h': '2234.80', 'l': '2214.50', 'c': '2224.60', 'ap': '2221.38', 'v': '200902', 'ltq': '84', 'ltt': '15:29:57', 'tbq': '126', 'tsq': '0', 'bp1': '2227.00', 'sp1': '0.00', 'bp2': '0.00', 'sp2': '0.00', 'bp3': '0.00', 'sp3': '0.00', 'bp4': '0.00', 'sp4': '0.00', 'bp5': '0.00', 'sp5': '0.00', 'bq1': '126', 'sq1': '0', 'bq2': '0', 'sq2': '0', 'bq3': '0', 'sq3': '0', 'bq4': '0', 'sq4': '0', 'bq5': '0', 'sq5': '0', 'bo1': '3', 'so1': '0', 'bo2': '0', 'so2': '0', 'bo3': '0', 'so3': '0', 'bo4': '0', 'so4': '0', 'bo5': '0', 'so5': '0', 'uc': '2449.70', 'lc': '2004.30', '52h': '2589.00', '52l': '1900.00', '52hd': '15-NOV-2021', '52ld': '07-MAR-2022', 'toi': '5662500'}\n",
      "{'t': 'dk', 'e': 'NSE', 'tk': '760', 'ts': 'CGPOWER-EQ', 'pp': '2', 'ls': '1', 'ti': '0.05', 'lp': '230.50', 'pc': '0.59', 'ft': '1660127309', 'o': '230.15', 'h': '233.85', 'l': '228.00', 'c': '229.15', 'ap': '231.08', 'v': '1114741', 'ltq': '20', 'ltt': '15:42:25', 'tbq': '0', 'tsq': '7313', 'bp1': '0.00', 'sp1': '230.50', 'bp2': '0.00', 'sp2': '0.00', 'bp3': '0.00', 'sp3': '0.00', 'bp4': '0.00', 'sp4': '0.00', 'bp5': '0.00', 'sp5': '0.00', 'bq1': '0', 'sq1': '7313', 'bq2': '0', 'sq2': '0', 'bq3': '0', 'sq3': '0', 'bq4': '0', 'sq4': '0', 'bq5': '0', 'sq5': '0', 'bo1': '0', 'so1': '8', 'bo2': '0', 'so2': '0', 'bo3': '0', 'so3': '0', 'bo4': '0', 'so4': '0', 'bo5': '0', 'so5': '0', 'uc': '276.60', 'lc': '184.40', '52h': '238.70', '52l': '74.05', '52hd': '03-AUG-2022', '52ld': '11-AUG-2021'}\n"
     ]
    }
   ],
   "source": [
    "api.start_websocket(order_update_callback=event_handler_order_update, subscribe_callback=event_handler_quote_update, socket_open_callback=open_callback)\n"
   ]
  },
  {
   "cell_type": "code",
   "execution_count": 56,
   "metadata": {},
   "outputs": [],
   "source": [
    "api.close_websocket()"
   ]
  },
  {
   "cell_type": "code",
   "execution_count": 9,
   "metadata": {},
   "outputs": [
    {
     "data": {
      "text/plain": [
       "[('22',\n",
       "  'ACC-EQ',\n",
       "  '1660127398',\n",
       "  '2224.55',\n",
       "  '2214.50',\n",
       "  '2234.80',\n",
       "  '2224.60',\n",
       "  '200902'),\n",
       " ('760',\n",
       "  'CGPOWER-EQ',\n",
       "  '1660127309',\n",
       "  '230.15',\n",
       "  '228.00',\n",
       "  '233.85',\n",
       "  '229.15',\n",
       "  '1114741')]"
      ]
     },
     "execution_count": 9,
     "metadata": {},
     "output_type": "execute_result"
    },
    {
     "name": "stdout",
     "output_type": "stream",
     "text": [
      "order event: {'t': 'om', 'norenordno': '22081000359424', 'uid': 'FA67369', 'actid': 'FA67369', 'exch': 'NSE', 'tsym': 'AARTIDRUGS-EQ', 'trantype': 'B', 'qty': '1', 'prc': '12022.00', 'pcode': 'B', 'remarks': 'my_order_001', 'status': 'PENDING', 'reporttype': 'NewAck', 'prctyp': 'LMT', 'ret': 'DAY', 'exchordid': '', 'dscqty': '0', 'blprc': '10000.00', 'bpprc': '11000.00'}\n",
      "order event: {'t': 'om', 'norenordno': '22081000359424', 'uid': 'FA67369', 'actid': 'FA67369', 'exch': 'NSE', 'tsym': 'AARTIDRUGS-EQ', 'trantype': 'B', 'qty': '1', 'prc': '12022.00', 'pcode': 'B', 'remarks': 'my_order_001', 'rejreason': \"RED:'BO' Orders are disallowed after system square off\", 'status': 'REJECTED', 'reporttype': 'Rejected', 'prctyp': 'LMT', 'ret': 'DAY', 'exchordid': '', 'dscqty': '0', 'blprc': '10000.00', 'bpprc': '11000.00'}order event: {'t': 'om', 'norenordno': '22081000359424', 'uid': 'FA67369', 'actid': 'FA67369', 'exch': 'NSE', 'tsym': 'AARTIDRUGS-EQ', 'trantype': 'B', 'qty': '1', 'prc': '12022.00', 'pcode': 'B', 'remarks': 'my_order_001', 'status': 'PENDING', 'reporttype': 'NewAck', 'prctyp': 'LMT', 'ret': 'DAY', 'exchordid': '', 'dscqty': '0', 'blprc': '10000.00', 'bpprc': '11000.00'}\n",
      "\n",
      "order event: {'t': 'om', 'norenordno': '22081000359424', 'uid': 'FA67369', 'actid': 'FA67369', 'exch': 'NSE', 'tsym': 'AARTIDRUGS-EQ', 'trantype': 'B', 'qty': '1', 'prc': '12022.00', 'pcode': 'B', 'remarks': 'my_order_001', 'rejreason': \"RED:'BO' Orders are disallowed after system square off\", 'status': 'REJECTED', 'reporttype': 'Rejected', 'prctyp': 'LMT', 'ret': 'DAY', 'exchordid': '', 'dscqty': '0', 'blprc': '10000.00', 'bpprc': '11000.00'}\n",
      "order event: {'t': 'om', 'norenordno': '22081000359448', 'uid': 'FA67369', 'actid': 'FA67369', 'exch': 'NSE', 'tsym': 'AARTIDRUGS-EQ', 'trantype': 'B', 'qty': '1', 'prc': '12022.00', 'pcode': 'B', 'remarks': 'my_order_001', 'status': 'PENDING', 'reporttype': 'NewAck', 'prctyp': 'LMT', 'ret': 'DAY', 'exchordid': '', 'dscqty': '0', 'blprc': '10000.00', 'bpprc': '11000.00'}\n",
      "order event: {'t': 'om', 'norenordno': '22081000359448', 'uid': 'FA67369', 'actid': 'FA67369', 'exch': 'NSE', 'tsym': 'AARTIDRUGS-EQ', 'trantype': 'B', 'qty': '1', 'prc': '12022.00', 'pcode': 'B', 'remarks': 'my_order_001', 'rejreason': \"RED:'BO' Orders are disallowed after system square off\", 'status': 'REJECTED', 'reporttype': 'Rejected', 'prctyp': 'LMT', 'ret': 'DAY', 'exchordid': '', 'dscqty': '0', 'blprc': '10000.00', 'bpprc': '11000.00'}\n",
      "order event: {'t': 'om', 'norenordno': '22081000359448', 'uid': 'FA67369', 'actid': 'FA67369', 'exch': 'NSE', 'tsym': 'AARTIDRUGS-EQ', 'trantype': 'B', 'qty': '1', 'prc': '12022.00', 'pcode': 'B', 'remarks': 'my_order_001', 'status': 'PENDING', 'reporttype': 'NewAck', 'prctyp': 'LMT', 'ret': 'DAY', 'exchordid': '', 'dscqty': '0', 'blprc': '10000.00', 'bpprc': '11000.00'}\n",
      "order event: {'t': 'om', 'norenordno': '22081000359448', 'uid': 'FA67369', 'actid': 'FA67369', 'exch': 'NSE', 'tsym': 'AARTIDRUGS-EQ', 'trantype': 'B', 'qty': '1', 'prc': '12022.00', 'pcode': 'B', 'remarks': 'my_order_001', 'rejreason': \"RED:'BO' Orders are disallowed after system square off\", 'status': 'REJECTED', 'reporttype': 'Rejected', 'prctyp': 'LMT', 'ret': 'DAY', 'exchordid': '', 'dscqty': '0', 'blprc': '10000.00', 'bpprc': '11000.00'}\n",
      "order event: {'t': 'om', 'norenordno': '22081000359517', 'uid': 'FA67369', 'actid': 'FA67369', 'exch': 'NSE', 'tsym': 'AARTIDRUGS-EQ', 'trantype': 'B', 'qty': '1', 'prc': '12022.00', 'pcode': 'B', 'remarks': 'my_order_001', 'status': 'PENDING', 'reporttype': 'NewAck', 'prctyp': 'LMT', 'ret': 'DAY', 'exchordid': '', 'dscqty': '0', 'blprc': '10000.00', 'bpprc': '11000.00'}\n",
      "order event: {'t': 'om', 'norenordno': '22081000359517', 'uid': 'FA67369', 'actid': 'FA67369', 'exch': 'NSE', 'tsym': 'AARTIDRUGS-EQ', 'trantype': 'B', 'qty': '1', 'prc': '12022.00', 'pcode': 'B', 'remarks': 'my_order_001', 'rejreason': \"RED:'BO' Orders are disallowed after system square off\", 'status': 'REJECTED', 'reporttype': 'Rejected', 'prctyp': 'LMT', 'ret': 'DAY', 'exchordid': '', 'dscqty': '0', 'blprc': '10000.00', 'bpprc': '11000.00'}\n",
      "order event: {'t': 'om', 'norenordno': '22081000359517', 'uid': 'FA67369', 'actid': 'FA67369', 'exch': 'NSE', 'tsym': 'AARTIDRUGS-EQ', 'trantype': 'B', 'qty': '1', 'prc': '12022.00', 'pcode': 'B', 'remarks': 'my_order_001', 'status': 'PENDING', 'reporttype': 'NewAck', 'prctyp': 'LMT', 'ret': 'DAY', 'exchordid': '', 'dscqty': '0', 'blprc': '10000.00', 'bpprc': '11000.00'}\n",
      "order event: {'t': 'om', 'norenordno': '22081000359517', 'uid': 'FA67369', 'actid': 'FA67369', 'exch': 'NSE', 'tsym': 'AARTIDRUGS-EQ', 'trantype': 'B', 'qty': '1', 'prc': '12022.00', 'pcode': 'B', 'remarks': 'my_order_001', 'rejreason': \"RED:'BO' Orders are disallowed after system square off\", 'status': 'REJECTED', 'reporttype': 'Rejected', 'prctyp': 'LMT', 'ret': 'DAY', 'exchordid': '', 'dscqty': '0', 'blprc': '10000.00', 'bpprc': '11000.00'}\n",
      "order event: {'t': 'om', 'norenordno': '22081000359551', 'uid': 'FA67369', 'actid': 'FA67369', 'exch': 'NSE', 'tsym': 'AARTIDRUGS-EQ', 'trantype': 'B', 'qty': '1', 'prc': '12022.00', 'pcode': 'B', 'remarks': 'my_order_001', 'status': 'PENDING', 'reporttype': 'NewAck', 'prctyp': 'LMT', 'ret': 'DAY', 'exchordid': '', 'dscqty': '0', 'blprc': '10000.00', 'bpprc': '11000.00'}\n",
      "order event: {'t': 'om', 'norenordno': '22081000359551', 'uid': 'FA67369', 'actid': 'FA67369', 'exch': 'NSE', 'tsym': 'AARTIDRUGS-EQ', 'trantype': 'B', 'qty': '1', 'prc': '12022.00', 'pcode': 'B', 'remarks': 'my_order_001', 'rejreason': \"RED:'BO' Orders are disallowed after system square off\", 'status': 'REJECTED', 'reporttype': 'Rejected', 'prctyp': 'LMT', 'ret': 'DAY', 'exchordid': '', 'dscqty': '0', 'blprc': '10000.00', 'bpprc': '11000.00'}\n",
      "order event: {'t': 'om', 'norenordno': '22081000359551', 'uid': 'FA67369', 'actid': 'FA67369', 'exch': 'NSE', 'tsym': 'AARTIDRUGS-EQ', 'trantype': 'B', 'qty': '1', 'prc': '12022.00', 'pcode': 'B', 'remarks': 'my_order_001', 'status': 'PENDING', 'reporttype': 'NewAck', 'prctyp': 'LMT', 'ret': 'DAY', 'exchordid': '', 'dscqty': '0', 'blprc': '10000.00', 'bpprc': '11000.00'}\n",
      "order event: {'t': 'om', 'norenordno': '22081000359551', 'uid': 'FA67369', 'actid': 'FA67369', 'exch': 'NSE', 'tsym': 'AARTIDRUGS-EQ', 'trantype': 'B', 'qty': '1', 'prc': '12022.00', 'pcode': 'B', 'remarks': 'my_order_001', 'rejreason': \"RED:'BO' Orders are disallowed after system square off\", 'status': 'REJECTED', 'reporttype': 'Rejected', 'prctyp': 'LMT', 'ret': 'DAY', 'exchordid': '', 'dscqty': '0', 'blprc': '10000.00', 'bpprc': '11000.00'}\n"
     ]
    }
   ],
   "source": [
    "current_batch"
   ]
  },
  {
   "cell_type": "code",
   "execution_count": 52,
   "metadata": {},
   "outputs": [],
   "source": [
    "time = datetime.fromtimestamp(int(strr['ft'])).strftime('%Y-%m-%d %H:%M:%S')"
   ]
  },
  {
   "cell_type": "code",
   "execution_count": 10,
   "metadata": {},
   "outputs": [
    {
     "data": {
      "text/plain": [
       "[]"
      ]
     },
     "execution_count": 10,
     "metadata": {},
     "output_type": "execute_result"
    }
   ],
   "source": [
    "json.loads(({'Time':time,'Open':strr['o']}))"
   ]
  },
  {
   "cell_type": "code",
   "execution_count": 10,
   "metadata": {},
   "outputs": [
    {
     "data": {
      "text/plain": [
       "'224.00'"
      ]
     },
     "execution_count": 10,
     "metadata": {},
     "output_type": "execute_result"
    }
   ],
   "source": [
    "token.append(strr['token'])\n",
    "openn.append(strr['o'])\n",
    "low.append(strr['l'])\n",
    "high.append(strr['h'])\n",
    "close.append(strr['c'])\n",
    "volume.append(strr['v'])\n",
    "stock.append(strr['ts'])"
   ]
  },
  {
   "cell_type": "code",
   "execution_count": 51,
   "metadata": {},
   "outputs": [
    {
     "data": {
      "text/plain": [
       "{'t': 'df',\n",
       " 'e': 'NSE',\n",
       " 'tk': '760',\n",
       " 'ft': '1659600605',\n",
       " 'tbq': '288744',\n",
       " 'tsq': '584930',\n",
       " 'bq1': '65',\n",
       " 'bq4': '218',\n",
       " 'bo1': '5',\n",
       " 'bo4': '3'}"
      ]
     },
     "execution_count": 51,
     "metadata": {},
     "output_type": "execute_result"
    }
   ],
   "source": [
    "strr"
   ]
  },
  {
   "cell_type": "code",
   "execution_count": 47,
   "metadata": {},
   "outputs": [
    {
     "ename": "KeyError",
     "evalue": "'o'",
     "output_type": "error",
     "traceback": [
      "\u001b[0;31m---------------------------------------------------------------------------\u001b[0m",
      "\u001b[0;31mKeyError\u001b[0m                                  Traceback (most recent call last)",
      "\u001b[0;32m<ipython-input-47-72e421172b3a>\u001b[0m in \u001b[0;36m<module>\u001b[0;34m\u001b[0m\n\u001b[0;32m----> 1\u001b[0;31m \u001b[0;32mif\u001b[0m \u001b[0mstrr\u001b[0m\u001b[0;34m[\u001b[0m\u001b[0;34m'o'\u001b[0m\u001b[0;34m]\u001b[0m \u001b[0;34m==\u001b[0m \u001b[0;32mNone\u001b[0m\u001b[0;34m:\u001b[0m\u001b[0;34m\u001b[0m\u001b[0;34m\u001b[0m\u001b[0m\n\u001b[0m\u001b[1;32m      2\u001b[0m     \u001b[0mprint\u001b[0m\u001b[0;34m(\u001b[0m\u001b[0;34m\"Print\"\u001b[0m\u001b[0;34m)\u001b[0m\u001b[0;34m\u001b[0m\u001b[0;34m\u001b[0m\u001b[0m\n",
      "\u001b[0;31mKeyError\u001b[0m: 'o'"
     ]
    },
    {
     "name": "stderr",
     "output_type": "stream",
     "text": [
      "ERROR:websocket:error from callback <bound method NorenApi.__on_open_callback of <api_helper.ShoonyaApiPy object at 0x7fef13d135c0>>: socket is already closed.\n"
     ]
    }
   ],
   "source": [
    "if isnull(strr['o']):\n",
    "    print(\"Print\")"
   ]
  },
  {
   "cell_type": "code",
   "execution_count": 36,
   "metadata": {},
   "outputs": [
    {
     "data": {
      "text/plain": [
       "[('22', '2233.95'), ('760', '224.00')]"
      ]
     },
     "execution_count": 36,
     "metadata": {},
     "output_type": "execute_result"
    },
    {
     "name": "stdout",
     "output_type": "stream",
     "text": [
      "app is connected\n",
      "{'t': 'dk', 'e': 'NSE', 'tk': '22', 'ts': 'ACC-EQ', 'pp': '2', 'ls': '1', 'ti': '0.05', 'lp': '2236.40', 'pc': '0.39', 'ft': '1659522130', 'o': '2233.95', 'h': '2241.55', 'l': '2204.20', 'c': '2227.65', 'ap': '2223.94', 'v': '288612', 'ltq': '10', 'ltt': '15:40:06', 'tbq': '99', 'tsq': '0', 'bp1': '2236.40', 'sp1': '0.00', 'bp2': '0.00', 'sp2': '0.00', 'bp3': '0.00', 'sp3': '0.00', 'bp4': '0.00', 'sp4': '0.00', 'bp5': '0.00', 'sp5': '0.00', 'bq1': '99', 'sq1': '0', 'bq2': '0', 'sq2': '0', 'bq3': '0', 'sq3': '0', 'bq4': '0', 'sq4': '0', 'bq5': '0', 'sq5': '0', 'bo1': '3', 'so1': '0', 'bo2': '0', 'so2': '0', 'bo3': '0', 'so3': '0', 'bo4': '0', 'so4': '0', 'bo5': '0', 'so5': '0', 'uc': '2460.00', 'lc': '2012.80', '52h': '2589.00', '52l': '1900.00', '52hd': '15-NOV-2021', '52ld': '07-MAR-2022', 'toi': '4837250'}\n",
      "{'t': 'dk', 'e': 'NSE', 'tk': '760', 'ts': 'CGPOWER-EQ', 'pp': '2', 'ls': '1', 'ti': '0.05', 'lp': '232.05', 'pc': '3.52', 'ft': '1659522512', 'o': '224.00', 'h': '238.70', 'l': '222.50', 'c': '224.15', 'ap': '232.00', 'v': '4727515', 'ltq': '100', 'ltt': '15:58:32', 'tbq': '187', 'tsq': '0', 'bp1': '232.05', 'sp1': '0.00', 'bp2': '0.00', 'sp2': '0.00', 'bp3': '0.00', 'sp3': '0.00', 'bp4': '0.00', 'sp4': '0.00', 'bp5': '0.00', 'sp5': '0.00', 'bq1': '187', 'sq1': '0', 'bq2': '0', 'sq2': '0', 'bq3': '0', 'sq3': '0', 'bq4': '0', 'sq4': '0', 'bq5': '0', 'sq5': '0', 'bo1': '1', 'so1': '0', 'bo2': '0', 'so2': '0', 'bo3': '0', 'so3': '0', 'bo4': '0', 'so4': '0', 'bo5': '0', 'so5': '0', 'uc': '278.45', 'lc': '185.65', '52h': '231.50', '52l': '74.05', '52hd': '22-JUL-2022', '52ld': '11-AUG-2021'}\n",
      "app is connected\n",
      "{'t': 'dk', 'e': 'NSE', 'tk': '22', 'ts': 'ACC-EQ', 'pp': '2', 'ls': '1', 'ti': '0.05', 'lp': '2236.40', 'pc': '0.39', 'ft': '1659522130', 'o': '2233.95', 'h': '2241.55', 'l': '2204.20', 'c': '2227.65', 'ap': '2223.94', 'v': '288612', 'ltq': '10', 'ltt': '15:40:06', 'tbq': '99', 'tsq': '0', 'bp1': '2236.40', 'sp1': '0.00', 'bp2': '0.00', 'sp2': '0.00', 'bp3': '0.00', 'sp3': '0.00', 'bp4': '0.00', 'sp4': '0.00', 'bp5': '0.00', 'sp5': '0.00', 'bq1': '99', 'sq1': '0', 'bq2': '0', 'sq2': '0', 'bq3': '0', 'sq3': '0', 'bq4': '0', 'sq4': '0', 'bq5': '0', 'sq5': '0', 'bo1': '3', 'so1': '0', 'bo2': '0', 'so2': '0', 'bo3': '0', 'so3': '0', 'bo4': '0', 'so4': '0', 'bo5': '0', 'so5': '0', 'uc': '2460.00', 'lc': '2012.80', '52h': '2589.00', '52l': '1900.00', '52hd': '15-NOV-2021', '52ld': '07-MAR-2022', 'toi': '4837250'}\n",
      "{'t': 'dk', 'e': 'NSE', 'tk': '760', 'ts': 'CGPOWER-EQ', 'pp': '2', 'ls': '1', 'ti': '0.05', 'lp': '232.05', 'pc': '3.52', 'ft': '1659522512', 'o': '224.00', 'h': '238.70', 'l': '222.50', 'c': '224.15', 'ap': '232.00', 'v': '4727515', 'ltq': '100', 'ltt': '15:58:32', 'tbq': '187', 'tsq': '0', 'bp1': '232.05', 'sp1': '0.00', 'bp2': '0.00', 'sp2': '0.00', 'bp3': '0.00', 'sp3': '0.00', 'bp4': '0.00', 'sp4': '0.00', 'bp5': '0.00', 'sp5': '0.00', 'bq1': '187', 'sq1': '0', 'bq2': '0', 'sq2': '0', 'bq3': '0', 'sq3': '0', 'bq4': '0', 'sq4': '0', 'bq5': '0', 'sq5': '0', 'bo1': '1', 'so1': '0', 'bo2': '0', 'so2': '0', 'bo3': '0', 'so3': '0', 'bo4': '0', 'so4': '0', 'bo5': '0', 'so5': '0', 'uc': '278.45', 'lc': '185.65', '52h': '231.50', '52l': '74.05', '52hd': '22-JUL-2022', '52ld': '11-AUG-2021'}\n"
     ]
    }
   ],
   "source": [
    "current_batch"
   ]
  },
  {
   "cell_type": "code",
   "execution_count": 15,
   "metadata": {},
   "outputs": [
    {
     "ename": "KeyError",
     "evalue": "'token'",
     "output_type": "error",
     "traceback": [
      "\u001b[0;31m---------------------------------------------------------------------------\u001b[0m",
      "\u001b[0;31mKeyError\u001b[0m                                  Traceback (most recent call last)",
      "\u001b[0;32m<ipython-input-15-05ccfcb47add>\u001b[0m in \u001b[0;36m<module>\u001b[0;34m\u001b[0m\n\u001b[0;32m----> 1\u001b[0;31m \u001b[0mtoken\u001b[0m\u001b[0;34m.\u001b[0m\u001b[0mappend\u001b[0m\u001b[0;34m(\u001b[0m\u001b[0mstrr\u001b[0m\u001b[0;34m[\u001b[0m\u001b[0;34m'token'\u001b[0m\u001b[0;34m]\u001b[0m\u001b[0;34m)\u001b[0m\u001b[0;34m\u001b[0m\u001b[0;34m\u001b[0m\u001b[0m\n\u001b[0m\u001b[1;32m      2\u001b[0m \u001b[0mopen\u001b[0m\u001b[0;34m.\u001b[0m\u001b[0mappend\u001b[0m\u001b[0;34m(\u001b[0m\u001b[0mstrr\u001b[0m\u001b[0;34m[\u001b[0m\u001b[0;34m'o'\u001b[0m\u001b[0;34m]\u001b[0m\u001b[0;34m)\u001b[0m\u001b[0;34m\u001b[0m\u001b[0;34m\u001b[0m\u001b[0m\n\u001b[1;32m      3\u001b[0m \u001b[0mlow\u001b[0m\u001b[0;34m.\u001b[0m\u001b[0mappend\u001b[0m\u001b[0;34m(\u001b[0m\u001b[0mstrr\u001b[0m\u001b[0;34m[\u001b[0m\u001b[0;34m'l'\u001b[0m\u001b[0;34m]\u001b[0m\u001b[0;34m)\u001b[0m\u001b[0;34m\u001b[0m\u001b[0;34m\u001b[0m\u001b[0m\n\u001b[1;32m      4\u001b[0m \u001b[0mhigh\u001b[0m\u001b[0;34m.\u001b[0m\u001b[0mappend\u001b[0m\u001b[0;34m(\u001b[0m\u001b[0mstrr\u001b[0m\u001b[0;34m[\u001b[0m\u001b[0;34m'h'\u001b[0m\u001b[0;34m]\u001b[0m\u001b[0;34m)\u001b[0m\u001b[0;34m\u001b[0m\u001b[0;34m\u001b[0m\u001b[0m\n\u001b[1;32m      5\u001b[0m \u001b[0mclose\u001b[0m\u001b[0;34m.\u001b[0m\u001b[0mappend\u001b[0m\u001b[0;34m(\u001b[0m\u001b[0mstrr\u001b[0m\u001b[0;34m[\u001b[0m\u001b[0;34m'c'\u001b[0m\u001b[0;34m]\u001b[0m\u001b[0;34m)\u001b[0m\u001b[0;34m\u001b[0m\u001b[0;34m\u001b[0m\u001b[0m\n",
      "\u001b[0;31mKeyError\u001b[0m: 'token'"
     ]
    }
   ],
   "source": [
    "token.append(strr['token'])\n",
    "openn.append(strr['o'])\n",
    "low.append(strr['l'])\n",
    "high.append(strr['h'])\n",
    "close.append(strr['c'])\n",
    "volume.append(strr['v'])\n",
    "volume.append(strr['ts'])"
   ]
  },
  {
   "cell_type": "code",
   "execution_count": 13,
   "metadata": {},
   "outputs": [
    {
     "data": {
      "text/plain": [
       "'760'"
      ]
     },
     "execution_count": 13,
     "metadata": {},
     "output_type": "execute_result"
    }
   ],
   "source": [
    "strr['tk']"
   ]
  },
  {
   "cell_type": "code",
   "execution_count": 11,
   "metadata": {},
   "outputs": [
    {
     "data": {
      "text/plain": [
       "'760'"
      ]
     },
     "execution_count": 11,
     "metadata": {},
     "output_type": "execute_result"
    }
   ],
   "source": [
    "strr['tk']"
   ]
  },
  {
   "cell_type": "code",
   "execution_count": 79,
   "metadata": {},
   "outputs": [
    {
     "name": "stdout",
     "output_type": "stream",
     "text": [
      "3.7.3\n"
     ]
    }
   ],
   "source": [
    "from platform import python_version\n",
    "\n",
    "print(python_version())"
   ]
  },
  {
   "cell_type": "code",
   "execution_count": null,
   "metadata": {},
   "outputs": [],
   "source": []
  }
 ],
 "metadata": {
  "kernelspec": {
   "display_name": "Python 3",
   "language": "python",
   "name": "python3"
  },
  "language_info": {
   "codemirror_mode": {
    "name": "ipython",
    "version": 3
   },
   "file_extension": ".py",
   "mimetype": "text/x-python",
   "name": "python",
   "nbconvert_exporter": "python",
   "pygments_lexer": "ipython3",
   "version": "3.7.3"
  }
 },
 "nbformat": 4,
 "nbformat_minor": 2
}
