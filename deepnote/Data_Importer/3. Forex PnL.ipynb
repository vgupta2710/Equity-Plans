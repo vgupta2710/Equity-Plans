{
  "cells": [
    {
      "cell_type": "code",
      "metadata": {
        "source_hash": "74a9bca0",
        "execution_start": 1744027948157,
        "execution_millis": 1,
        "execution_context_id": "1b2ca2f9-843a-44eb-8ffb-80fd8105676c",
        "cell_id": "936a9ae588564d0abf5fb76626c620d6",
        "deepnote_cell_type": "code"
      },
      "source": "import os\naccess_token = os.environ[\"ACCESS_TOKEN\"]\naccount_id_demo = os.environ[\"ACCOUNT_DEMO\"]\naccount_id_hedge = os.environ[\"ACCOUNT_HEDGE\"]\nimport oandapyV20\nimport oandapyV20.endpoints.transactions as trans\nimport pandas as pd",
      "block_group": "936a9ae588564d0abf5fb76626c620d6",
      "execution_count": 19,
      "outputs": [],
      "outputs_reference": null,
      "content_dependencies": null
    },
    {
      "cell_type": "code",
      "metadata": {
        "source_hash": "8d381a14",
        "execution_start": 1744027810149,
        "execution_millis": 175,
        "execution_context_id": "1b2ca2f9-843a-44eb-8ffb-80fd8105676c",
        "cell_id": "4b7c591013e64d1faf326f5ab951689f",
        "deepnote_cell_type": "code"
      },
      "source": "client = oandapyV20.API(access_token=access_token)\nparam = { \"id\": 900 }\nr = trans.TransactionsSinceID(accountID=account_id_demo,  params=param)\ntrades= client.request(r)",
      "block_group": "da0bcd9836484df49e01f0085a50a6bc",
      "execution_count": 13,
      "outputs": [],
      "outputs_reference": null,
      "content_dependencies": null
    },
    {
      "cell_type": "code",
      "metadata": {
        "source_hash": "a83ca73e",
        "execution_start": 1744028057894,
        "execution_millis": 77,
        "execution_context_id": "1b2ca2f9-843a-44eb-8ffb-80fd8105676c",
        "cell_id": "03ca7f237fb14bfc9f56da1baefbcd24",
        "deepnote_cell_type": "code"
      },
      "source": "param1 = { \"id\": 0 }\nrequest_hedge = trans.TransactionsSinceID(accountID=account_id_hedge,  params=param1)\ntrades_hedge= client.request(request_hedge)\nall_transactions_hedge = pd.DataFrame(trades_hedge['transactions'])\nall_transactions_hedge ['time'] = pd.to_datetime(all_transactions_hedge ['time'])\nall_transactions_hedge ",
      "block_group": "dfb94ba9a51c41b39974bcf40ebf725b",
      "execution_count": 33,
      "outputs": [
        {
          "output_type": "execute_result",
          "execution_count": 33,
          "data": {
            "application/vnd.deepnote.dataframe.v3+json": {
              "column_count": 55,
              "row_count": 27,
              "columns": [
                {
                  "name": "id",
                  "dtype": "object",
                  "stats": {
                    "unique_count": 27,
                    "nan_count": 0,
                    "categories": [
                      {
                        "name": "1",
                        "count": 1
                      },
                      {
                        "name": "2",
                        "count": 1
                      },
                      {
                        "name": "25 others",
                        "count": 25
                      }
                    ]
                  }
                },
                {
                  "name": "accountID",
                  "dtype": "object",
                  "stats": {
                    "unique_count": 1,
                    "nan_count": 0,
                    "categories": [
                      {
                        "name": "101-004-31059296-003",
                        "count": 27
                      }
                    ]
                  }
                },
                {
                  "name": "userID",
                  "dtype": "int64",
                  "stats": {
                    "unique_count": 1,
                    "nan_count": 0,
                    "min": "31059296",
                    "max": "31059296",
                    "histogram": [
                      {
                        "bin_start": 31059295.5,
                        "bin_end": 31059295.6,
                        "count": 0
                      },
                      {
                        "bin_start": 31059295.6,
                        "bin_end": 31059295.7,
                        "count": 0
                      },
                      {
                        "bin_start": 31059295.7,
                        "bin_end": 31059295.8,
                        "count": 0
                      },
                      {
                        "bin_start": 31059295.8,
                        "bin_end": 31059295.9,
                        "count": 0
                      },
                      {
                        "bin_start": 31059295.9,
                        "bin_end": 31059296,
                        "count": 0
                      },
                      {
                        "bin_start": 31059296,
                        "bin_end": 31059296.1,
                        "count": 27
                      },
                      {
                        "bin_start": 31059296.1,
                        "bin_end": 31059296.2,
                        "count": 0
                      },
                      {
                        "bin_start": 31059296.2,
                        "bin_end": 31059296.3,
                        "count": 0
                      },
                      {
                        "bin_start": 31059296.3,
                        "bin_end": 31059296.4,
                        "count": 0
                      },
                      {
                        "bin_start": 31059296.4,
                        "bin_end": 31059296.5,
                        "count": 0
                      }
                    ]
                  }
                },
                {
                  "name": "batchID",
                  "dtype": "object",
                  "stats": {
                    "unique_count": 12,
                    "nan_count": 0,
                    "categories": [
                      {
                        "name": "16",
                        "count": 4
                      },
                      {
                        "name": "22",
                        "count": 4
                      },
                      {
                        "name": "10 others",
                        "count": 19
                      }
                    ]
                  }
                },
                {
                  "name": "requestID",
                  "dtype": "object",
                  "stats": {
                    "unique_count": 8,
                    "nan_count": 9,
                    "categories": [
                      {
                        "name": "115401367817111343",
                        "count": 4
                      },
                      {
                        "name": "7 others",
                        "count": 14
                      },
                      {
                        "name": "Missing",
                        "count": 9
                      }
                    ]
                  }
                },
                {
                  "name": "time",
                  "dtype": "datetime64[ns, UTC]",
                  "stats": {
                    "unique_count": 12,
                    "nan_count": 0,
                    "min": "2025-04-04 11:27:44.777790339+00:00",
                    "max": "2025-04-07 12:01:50.200012927+00:00",
                    "histogram": [
                      {
                        "bin_start": 1743766064777790500,
                        "bin_end": 1743792189320012800,
                        "count": 3
                      },
                      {
                        "bin_start": 1743792189320012800,
                        "bin_end": 1743818313862235000,
                        "count": 3
                      },
                      {
                        "bin_start": 1743818313862235000,
                        "bin_end": 1743844438404457200,
                        "count": 0
                      },
                      {
                        "bin_start": 1743844438404457200,
                        "bin_end": 1743870562946679300,
                        "count": 0
                      },
                      {
                        "bin_start": 1743870562946679300,
                        "bin_end": 1743896687488901600,
                        "count": 0
                      },
                      {
                        "bin_start": 1743896687488901600,
                        "bin_end": 1743922812031124000,
                        "count": 4
                      },
                      {
                        "bin_start": 1743922812031124000,
                        "bin_end": 1743948936573346000,
                        "count": 0
                      },
                      {
                        "bin_start": 1743948936573346000,
                        "bin_end": 1743975061115568400,
                        "count": 0
                      },
                      {
                        "bin_start": 1743975061115568400,
                        "bin_end": 1744001185657790500,
                        "count": 5
                      },
                      {
                        "bin_start": 1744001185657790500,
                        "bin_end": 1744027310200012800,
                        "count": 12
                      }
                    ]
                  }
                },
                {
                  "name": "type",
                  "dtype": "object",
                  "stats": {
                    "unique_count": 10,
                    "nan_count": 0,
                    "categories": [
                      {
                        "name": "ORDER_CANCEL",
                        "count": 6
                      },
                      {
                        "name": "ORDER_FILL",
                        "count": 6
                      },
                      {
                        "name": "8 others",
                        "count": 15
                      }
                    ]
                  }
                },
                {
                  "name": "divisionID",
                  "dtype": "float64",
                  "stats": {
                    "unique_count": 1,
                    "nan_count": 26,
                    "min": "4.0",
                    "max": "4.0",
                    "histogram": [
                      {
                        "bin_start": 3.5,
                        "bin_end": 3.6,
                        "count": 0
                      },
                      {
                        "bin_start": 3.6,
                        "bin_end": 3.7,
                        "count": 0
                      },
                      {
                        "bin_start": 3.7,
                        "bin_end": 3.8,
                        "count": 0
                      },
                      {
                        "bin_start": 3.8,
                        "bin_end": 3.9,
                        "count": 0
                      },
                      {
                        "bin_start": 3.9,
                        "bin_end": 4,
                        "count": 0
                      },
                      {
                        "bin_start": 4,
                        "bin_end": 4.1,
                        "count": 1
                      },
                      {
                        "bin_start": 4.1,
                        "bin_end": 4.2,
                        "count": 0
                      },
                      {
                        "bin_start": 4.2,
                        "bin_end": 4.3,
                        "count": 0
                      },
                      {
                        "bin_start": 4.3,
                        "bin_end": 4.4,
                        "count": 0
                      },
                      {
                        "bin_start": 4.4,
                        "bin_end": 4.5,
                        "count": 0
                      }
                    ]
                  }
                },
                {
                  "name": "siteID",
                  "dtype": "float64",
                  "stats": {
                    "unique_count": 1,
                    "nan_count": 26,
                    "min": "101.0",
                    "max": "101.0",
                    "histogram": [
                      {
                        "bin_start": 100.5,
                        "bin_end": 100.6,
                        "count": 0
                      },
                      {
                        "bin_start": 100.6,
                        "bin_end": 100.7,
                        "count": 0
                      },
                      {
                        "bin_start": 100.7,
                        "bin_end": 100.8,
                        "count": 0
                      },
                      {
                        "bin_start": 100.8,
                        "bin_end": 100.9,
                        "count": 0
                      },
                      {
                        "bin_start": 100.9,
                        "bin_end": 101,
                        "count": 0
                      },
                      {
                        "bin_start": 101,
                        "bin_end": 101.1,
                        "count": 1
                      },
                      {
                        "bin_start": 101.1,
                        "bin_end": 101.2,
                        "count": 0
                      },
                      {
                        "bin_start": 101.2,
                        "bin_end": 101.3,
                        "count": 0
                      },
                      {
                        "bin_start": 101.3,
                        "bin_end": 101.4,
                        "count": 0
                      },
                      {
                        "bin_start": 101.4,
                        "bin_end": 101.5,
                        "count": 0
                      }
                    ]
                  }
                },
                {
                  "name": "accountUserID",
                  "dtype": "float64",
                  "stats": {
                    "unique_count": 1,
                    "nan_count": 26,
                    "min": "31059296.0",
                    "max": "31059296.0",
                    "histogram": [
                      {
                        "bin_start": 31059295.5,
                        "bin_end": 31059295.6,
                        "count": 0
                      },
                      {
                        "bin_start": 31059295.6,
                        "bin_end": 31059295.7,
                        "count": 0
                      },
                      {
                        "bin_start": 31059295.7,
                        "bin_end": 31059295.8,
                        "count": 0
                      },
                      {
                        "bin_start": 31059295.8,
                        "bin_end": 31059295.9,
                        "count": 0
                      },
                      {
                        "bin_start": 31059295.9,
                        "bin_end": 31059296,
                        "count": 0
                      },
                      {
                        "bin_start": 31059296,
                        "bin_end": 31059296.1,
                        "count": 1
                      },
                      {
                        "bin_start": 31059296.1,
                        "bin_end": 31059296.2,
                        "count": 0
                      },
                      {
                        "bin_start": 31059296.2,
                        "bin_end": 31059296.3,
                        "count": 0
                      },
                      {
                        "bin_start": 31059296.3,
                        "bin_end": 31059296.4,
                        "count": 0
                      },
                      {
                        "bin_start": 31059296.4,
                        "bin_end": 31059296.5,
                        "count": 0
                      }
                    ]
                  }
                },
                {
                  "name": "accountNumber",
                  "dtype": "float64",
                  "stats": {
                    "unique_count": 1,
                    "nan_count": 26,
                    "min": "3.0",
                    "max": "3.0",
                    "histogram": [
                      {
                        "bin_start": 2.5,
                        "bin_end": 2.6,
                        "count": 0
                      },
                      {
                        "bin_start": 2.6,
                        "bin_end": 2.7,
                        "count": 0
                      },
                      {
                        "bin_start": 2.7,
                        "bin_end": 2.8,
                        "count": 0
                      },
                      {
                        "bin_start": 2.8,
                        "bin_end": 2.9,
                        "count": 0
                      },
                      {
                        "bin_start": 2.9,
                        "bin_end": 3,
                        "count": 0
                      },
                      {
                        "bin_start": 3,
                        "bin_end": 3.1,
                        "count": 1
                      },
                      {
                        "bin_start": 3.1,
                        "bin_end": 3.2,
                        "count": 0
                      },
                      {
                        "bin_start": 3.2,
                        "bin_end": 3.3,
                        "count": 0
                      },
                      {
                        "bin_start": 3.3,
                        "bin_end": 3.4,
                        "count": 0
                      },
                      {
                        "bin_start": 3.4,
                        "bin_end": 3.5,
                        "count": 0
                      }
                    ]
                  }
                },
                {
                  "name": "homeCurrency",
                  "dtype": "object",
                  "stats": {
                    "unique_count": 1,
                    "nan_count": 26,
                    "categories": [
                      {
                        "name": "GBP",
                        "count": 1
                      },
                      {
                        "name": "Missing",
                        "count": 26
                      }
                    ]
                  }
                },
                {
                  "name": "marginRate",
                  "dtype": "object",
                  "stats": {
                    "unique_count": 1,
                    "nan_count": 26,
                    "categories": [
                      {
                        "name": "0.03333333333333",
                        "count": 1
                      },
                      {
                        "name": "Missing",
                        "count": 26
                      }
                    ]
                  }
                },
                {
                  "name": "alias",
                  "dtype": "object",
                  "stats": {
                    "unique_count": 1,
                    "nan_count": 26,
                    "categories": [
                      {
                        "name": "Hedging VG",
                        "count": 1
                      },
                      {
                        "name": "Missing",
                        "count": 26
                      }
                    ]
                  }
                },
                {
                  "name": "accountBalance",
                  "dtype": "object",
                  "stats": {
                    "unique_count": 4,
                    "nan_count": 20,
                    "categories": [
                      {
                        "name": "100000.0000",
                        "count": 2
                      },
                      {
                        "name": "3 others",
                        "count": 5
                      },
                      {
                        "name": "Missing",
                        "count": 20
                      }
                    ]
                  }
                },
                {
                  "name": "amount",
                  "dtype": "object",
                  "stats": {
                    "unique_count": 1,
                    "nan_count": 26,
                    "categories": [
                      {
                        "name": "100000",
                        "count": 1
                      },
                      {
                        "name": "Missing",
                        "count": 26
                      }
                    ]
                  }
                },
                {
                  "name": "fundingReason",
                  "dtype": "object",
                  "stats": {
                    "unique_count": 1,
                    "nan_count": 26,
                    "categories": [
                      {
                        "name": "ADJUSTMENT",
                        "count": 1
                      },
                      {
                        "name": "Missing",
                        "count": 26
                      }
                    ]
                  }
                },
                {
                  "name": "instrument",
                  "dtype": "object",
                  "stats": {
                    "unique_count": 1,
                    "nan_count": 15,
                    "categories": [
                      {
                        "name": "EUR_USD",
                        "count": 12
                      },
                      {
                        "name": "Missing",
                        "count": 15
                      }
                    ]
                  }
                },
                {
                  "name": "units",
                  "dtype": "object",
                  "stats": {
                    "unique_count": 4,
                    "nan_count": 15,
                    "categories": [
                      {
                        "name": "1000000",
                        "count": 5
                      },
                      {
                        "name": "3 others",
                        "count": 7
                      },
                      {
                        "name": "Missing",
                        "count": 15
                      }
                    ]
                  }
                },
                {
                  "name": "price",
                  "dtype": "object",
                  "stats": {
                    "unique_count": 9,
                    "nan_count": 16,
                    "categories": [
                      {
                        "name": "1.09639",
                        "count": 2
                      },
                      {
                        "name": "8 others",
                        "count": 9
                      },
                      {
                        "name": "Missing",
                        "count": 16
                      }
                    ]
                  }
                },
                {
                  "name": "timeInForce",
                  "dtype": "object",
                  "stats": {
                    "unique_count": 3,
                    "nan_count": 15,
                    "categories": [
                      {
                        "name": "GTC",
                        "count": 6
                      },
                      {
                        "name": "2 others",
                        "count": 6
                      },
                      {
                        "name": "Missing",
                        "count": 15
                      }
                    ]
                  }
                },
                {
                  "name": "gtdTime",
                  "dtype": "object",
                  "stats": {
                    "unique_count": 1,
                    "nan_count": 26,
                    "categories": [
                      {
                        "name": "2025-04-11T21:22:03.000000000Z",
                        "count": 1
                      },
                      {
                        "name": "Missing",
                        "count": 26
                      }
                    ]
                  }
                },
                {
                  "name": "triggerCondition",
                  "dtype": "object",
                  "stats": {
                    "unique_count": 1,
                    "nan_count": 20,
                    "categories": [
                      {
                        "name": "DEFAULT",
                        "count": 7
                      },
                      {
                        "name": "Missing",
                        "count": 20
                      }
                    ]
                  }
                },
                {
                  "name": "partialFill",
                  "dtype": "object",
                  "stats": {
                    "unique_count": 1,
                    "nan_count": 26,
                    "categories": [
                      {
                        "name": "DEFAULT",
                        "count": 1
                      },
                      {
                        "name": "Missing",
                        "count": 26
                      }
                    ]
                  }
                },
                {
                  "name": "positionFill",
                  "dtype": "object",
                  "stats": {
                    "unique_count": 1,
                    "nan_count": 21,
                    "categories": [
                      {
                        "name": "DEFAULT",
                        "count": 6
                      },
                      {
                        "name": "Missing",
                        "count": 21
                      }
                    ]
                  }
                },
                {
                  "name": "takeProfitOnFill",
                  "dtype": "object",
                  "stats": {
                    "unique_count": 27,
                    "nan_count": 21,
                    "categories": [
                      {
                        "name": "{'price': '1.09796', 'timeInForce': 'GTC'}",
                        "count": 2
                      },
                      {
                        "name": "4 others",
                        "count": 4
                      },
                      {
                        "name": "Missing",
                        "count": 21
                      }
                    ]
                  }
                },
                {
                  "name": "stopLossOnFill",
                  "dtype": "object",
                  "stats": {
                    "unique_count": 27,
                    "nan_count": 26,
                    "categories": [
                      {
                        "name": "{'price': '1.09659', 'timeInForce': 'GTC', 'triggerMode': 'TOP_OF_BOOK'}",
                        "count": 1
                      },
                      {
                        "name": "Missing",
                        "count": 26
                      }
                    ]
                  }
                },
                {
                  "name": "reason",
                  "dtype": "object",
                  "stats": {
                    "unique_count": 8,
                    "nan_count": 3,
                    "categories": [
                      {
                        "name": "CLIENT_ORDER",
                        "count": 6
                      },
                      {
                        "name": "7 others",
                        "count": 18
                      },
                      {
                        "name": "Missing",
                        "count": 3
                      }
                    ]
                  }
                },
                {
                  "name": "trailingStopLossOnFill",
                  "dtype": "object",
                  "stats": {
                    "unique_count": 27,
                    "nan_count": 22,
                    "categories": [
                      {
                        "name": "{'distance': '0.00055', 'timeInForce': 'GTC', 'triggerMode': 'TOP_OF_BOOK'}",
                        "count": 3
                      },
                      {
                        "name": "{'distance': '0.00050', 'timeInForce': 'GTC', 'triggerMode': 'TOP_OF_BOOK'}",
                        "count": 2
                      },
                      {
                        "name": "Missing",
                        "count": 22
                      }
                    ]
                  }
                },
                {
                  "name": "orderID",
                  "dtype": "object",
                  "stats": {
                    "unique_count": 12,
                    "nan_count": 15,
                    "categories": [
                      {
                        "name": "5",
                        "count": 1
                      },
                      {
                        "name": "11 others",
                        "count": 11
                      },
                      {
                        "name": "Missing",
                        "count": 15
                      }
                    ]
                  }
                },
                {
                  "name": "requestedUnits",
                  "dtype": "object",
                  "stats": {
                    "unique_count": 4,
                    "nan_count": 21,
                    "categories": [
                      {
                        "name": "1000000",
                        "count": 2
                      },
                      {
                        "name": "3 others",
                        "count": 4
                      },
                      {
                        "name": "Missing",
                        "count": 21
                      }
                    ]
                  }
                },
                {
                  "name": "pl",
                  "dtype": "object",
                  "stats": {
                    "unique_count": 4,
                    "nan_count": 21,
                    "categories": [
                      {
                        "name": "0.0000",
                        "count": 3
                      },
                      {
                        "name": "3 others",
                        "count": 3
                      },
                      {
                        "name": "Missing",
                        "count": 21
                      }
                    ]
                  }
                },
                {
                  "name": "quotePL",
                  "dtype": "object",
                  "stats": {
                    "unique_count": 4,
                    "nan_count": 21,
                    "categories": [
                      {
                        "name": "0",
                        "count": 3
                      },
                      {
                        "name": "3 others",
                        "count": 3
                      },
                      {
                        "name": "Missing",
                        "count": 21
                      }
                    ]
                  }
                },
                {
                  "name": "financing",
                  "dtype": "object",
                  "stats": {
                    "unique_count": 1,
                    "nan_count": 21,
                    "categories": [
                      {
                        "name": "0.0000",
                        "count": 6
                      },
                      {
                        "name": "Missing",
                        "count": 21
                      }
                    ]
                  }
                },
                {
                  "name": "baseFinancing",
                  "dtype": "object",
                  "stats": {
                    "unique_count": 2,
                    "nan_count": 21,
                    "categories": [
                      {
                        "name": "0",
                        "count": 3
                      },
                      {
                        "name": "0.00000000000000",
                        "count": 3
                      },
                      {
                        "name": "Missing",
                        "count": 21
                      }
                    ]
                  }
                },
                {
                  "name": "commission",
                  "dtype": "object",
                  "stats": {
                    "unique_count": 1,
                    "nan_count": 21,
                    "categories": [
                      {
                        "name": "0.0000",
                        "count": 6
                      },
                      {
                        "name": "Missing",
                        "count": 21
                      }
                    ]
                  }
                },
                {
                  "name": "gainQuoteHomeConversionFactor",
                  "dtype": "object",
                  "stats": {
                    "unique_count": 6,
                    "nan_count": 21,
                    "categories": [
                      {
                        "name": "0.773323083994",
                        "count": 1
                      },
                      {
                        "name": "5 others",
                        "count": 5
                      },
                      {
                        "name": "Missing",
                        "count": 21
                      }
                    ]
                  }
                },
                {
                  "name": "lossQuoteHomeConversionFactor",
                  "dtype": "object",
                  "stats": {
                    "unique_count": 6,
                    "nan_count": 21,
                    "categories": [
                      {
                        "name": "0.781095175291",
                        "count": 1
                      },
                      {
                        "name": "5 others",
                        "count": 5
                      },
                      {
                        "name": "Missing",
                        "count": 21
                      }
                    ]
                  }
                },
                {
                  "name": "guaranteedExecutionFee",
                  "dtype": "object",
                  "stats": {
                    "unique_count": 1,
                    "nan_count": 21,
                    "categories": [
                      {
                        "name": "0.0000",
                        "count": 6
                      },
                      {
                        "name": "Missing",
                        "count": 21
                      }
                    ]
                  }
                },
                {
                  "name": "quoteGuaranteedExecutionFee",
                  "dtype": "object",
                  "stats": {
                    "unique_count": 1,
                    "nan_count": 21,
                    "categories": [
                      {
                        "name": "0",
                        "count": 6
                      },
                      {
                        "name": "Missing",
                        "count": 21
                      }
                    ]
                  }
                },
                {
                  "name": "halfSpreadCost",
                  "dtype": "object",
                  "stats": {
                    "unique_count": 5,
                    "nan_count": 21,
                    "categories": [
                      {
                        "name": "0.0001",
                        "count": 2
                      },
                      {
                        "name": "4 others",
                        "count": 4
                      },
                      {
                        "name": "Missing",
                        "count": 21
                      }
                    ]
                  }
                },
                {
                  "name": "fullVWAP",
                  "dtype": "object",
                  "stats": {
                    "unique_count": 6,
                    "nan_count": 21,
                    "categories": [
                      {
                        "name": "1.09639",
                        "count": 1
                      },
                      {
                        "name": "5 others",
                        "count": 5
                      },
                      {
                        "name": "Missing",
                        "count": 21
                      }
                    ]
                  }
                },
                {
                  "name": "tradeOpened",
                  "dtype": "object",
                  "stats": {
                    "unique_count": 27,
                    "nan_count": 24,
                    "categories": [
                      {
                        "name": "{'price': '1.09639', 'tradeID': '11', 'units': '-1', 'guaranteedExecutionFee': '0.0000', 'quoteGuaranteedExecutionFee': '0', 'halfSpreadCost': '0.0001', 'initialMarginRequired': '0.0284', 'guaranteedExecutionFeeHomeConversionCost': '0.00000000000000'}",
                        "count": 1
                      },
                      {
                        "name": "2 others",
                        "count": 2
                      },
                      {
                        "name": "Missing",
                        "count": 24
                      }
                    ]
                  }
                },
                {
                  "name": "fullPrice",
                  "dtype": "object",
                  "stats": {
                    "unique_count": 27,
                    "nan_count": 21,
                    "categories": [
                      {
                        "name": "{'closeoutBid': '1.09630', 'closeoutAsk': '1.09667', 'timestamp': '2025-04-06T22:16:18.658134366Z', 'bids': [{'price': '1.09639', 'liquidity': '500000'}, {'price': '1.09638', 'liquidity': '2500000'}, {'price': '1.09637', 'liquidity': '2000000'}, {'price': '1.09636', 'liquidity': '5000000'}, {'price': '1.09633', 'liquidity': '10000000'}, {'price': '1.09630', 'liquidity': '10000000'}], 'asks': [{'price': '1.09658', 'liquidity': '500000'}, {'price': '1.09659', 'liquidity': '500000'}, {'price': '1.09660', 'liquidity': '2000000'}, {'price': '1.09661', 'liquidity': '2000000'}, {'price': '1.09662', 'liquidity': '5000000'}, {'price': '1.09664', 'liquidity': '10000000'}, {'price': '1.09667', 'liquidity': '10000000'}]}",
                        "count": 1
                      },
                      {
                        "name": "5 others",
                        "count": 5
                      },
                      {
                        "name": "Missing",
                        "count": 21
                      }
                    ]
                  }
                },
                {
                  "name": "homeConversionFactors",
                  "dtype": "object",
                  "stats": {
                    "unique_count": 27,
                    "nan_count": 21,
                    "categories": [
                      {
                        "name": "{'gainQuoteHome': {'factor': '0.77332308399434'}, 'lossQuoteHome': {'factor': '0.78109517529076'}, 'gainBaseHome': {'factor': '0.84783950'}, 'lossBaseHome': {'factor': '0.85636050'}}",
                        "count": 1
                      },
                      {
                        "name": "5 others",
                        "count": 5
                      },
                      {
                        "name": "Missing",
                        "count": 21
                      }
                    ]
                  }
                },
                {
                  "name": "plHomeConversionCost",
                  "dtype": "object",
                  "stats": {
                    "unique_count": 4,
                    "nan_count": 21,
                    "categories": [
                      {
                        "name": "0.00000000000000",
                        "count": 3
                      },
                      {
                        "name": "3 others",
                        "count": 3
                      },
                      {
                        "name": "Missing",
                        "count": 21
                      }
                    ]
                  }
                },
                {
                  "name": "baseFinancingHomeConversionCost",
                  "dtype": "object",
                  "stats": {
                    "unique_count": 2,
                    "nan_count": 21,
                    "categories": [
                      {
                        "name": "0.00000000",
                        "count": 3
                      },
                      {
                        "name": "0.00000000000000",
                        "count": 3
                      },
                      {
                        "name": "Missing",
                        "count": 21
                      }
                    ]
                  }
                },
                {
                  "name": "guaranteedExecutionFeeHomeConversionCost",
                  "dtype": "object",
                  "stats": {
                    "unique_count": 1,
                    "nan_count": 21,
                    "categories": [
                      {
                        "name": "0.00000000000000",
                        "count": 6
                      },
                      {
                        "name": "Missing",
                        "count": 21
                      }
                    ]
                  }
                },
                {
                  "name": "homeConversionCost",
                  "dtype": "object",
                  "stats": {
                    "unique_count": 4,
                    "nan_count": 21,
                    "categories": [
                      {
                        "name": "0.00000000000000",
                        "count": 3
                      },
                      {
                        "name": "3 others",
                        "count": 3
                      },
                      {
                        "name": "Missing",
                        "count": 21
                      }
                    ]
                  }
                },
                {
                  "name": "tradeID",
                  "dtype": "object",
                  "stats": {
                    "unique_count": 3,
                    "nan_count": 21,
                    "categories": [
                      {
                        "name": "11",
                        "count": 2
                      },
                      {
                        "name": "2 others",
                        "count": 4
                      },
                      {
                        "name": "Missing",
                        "count": 21
                      }
                    ]
                  }
                },
                {
                  "name": "triggerMode",
                  "dtype": "object",
                  "stats": {
                    "unique_count": 1,
                    "nan_count": 24,
                    "categories": [
                      {
                        "name": "TOP_OF_BOOK",
                        "count": 3
                      },
                      {
                        "name": "Missing",
                        "count": 24
                      }
                    ]
                  }
                },
                {
                  "name": "tradesClosed",
                  "dtype": "object",
                  "stats": {
                    "unique_count": 27,
                    "nan_count": 24,
                    "categories": [
                      {
                        "name": "[{'tradeID': '11', 'units': '1', 'realizedPL': '-0.0002', 'financing': '0.0000', 'baseFinancing': '0.00000000000000', 'price': '1.09659', 'guaranteedExecutionFee': '0.0000', 'quoteGuaranteedExecutionFee': '0', 'halfSpreadCost': '0.0001', 'plHomeConversionCost': '-0.00000076088810', 'baseFinancingHomeConversionCost': '0.00000000000000', 'guaranteedExecutionFeeHomeConversionCost': '0.00000000000000', 'homeConversionCost': '-0.00000076088810'}]",
                        "count": 1
                      },
                      {
                        "name": "2 others",
                        "count": 2
                      },
                      {
                        "name": "Missing",
                        "count": 24
                      }
                    ]
                  }
                },
                {
                  "name": "closedTradeID",
                  "dtype": "object",
                  "stats": {
                    "unique_count": 3,
                    "nan_count": 24,
                    "categories": [
                      {
                        "name": "11",
                        "count": 1
                      },
                      {
                        "name": "2 others",
                        "count": 2
                      },
                      {
                        "name": "Missing",
                        "count": 24
                      }
                    ]
                  }
                },
                {
                  "name": "tradeCloseTransactionID",
                  "dtype": "object",
                  "stats": {
                    "unique_count": 3,
                    "nan_count": 24,
                    "categories": [
                      {
                        "name": "14",
                        "count": 1
                      },
                      {
                        "name": "2 others",
                        "count": 2
                      },
                      {
                        "name": "Missing",
                        "count": 24
                      }
                    ]
                  }
                },
                {
                  "name": "distance",
                  "dtype": "object",
                  "stats": {
                    "unique_count": 1,
                    "nan_count": 25,
                    "categories": [
                      {
                        "name": "0.00050",
                        "count": 2
                      },
                      {
                        "name": "Missing",
                        "count": 25
                      }
                    ]
                  }
                },
                {
                  "name": "_deepnote_index_column",
                  "dtype": "int64"
                }
              ],
              "rows": [
                {
                  "id": "21",
                  "accountID": "101-004-31059296-003",
                  "userID": 31059296,
                  "batchID": "20",
                  "requestID": "nan",
                  "time": "2025-04-07 11:51:33.950545854+00:00",
                  "type": "ORDER_CANCEL",
                  "divisionID": "nan",
                  "siteID": "nan",
                  "accountUserID": "nan",
                  "accountNumber": "nan",
                  "homeCurrency": "nan",
                  "marginRate": "nan",
                  "alias": "nan",
                  "accountBalance": "nan",
                  "amount": "nan",
                  "fundingReason": "nan",
                  "instrument": "nan",
                  "units": "nan",
                  "price": "nan",
                  "timeInForce": "nan",
                  "gtdTime": "nan",
                  "triggerCondition": "nan",
                  "partialFill": "nan",
                  "positionFill": "nan",
                  "takeProfitOnFill": "nan",
                  "stopLossOnFill": "nan",
                  "reason": "LINKED_TRADE_CLOSED",
                  "trailingStopLossOnFill": "nan",
                  "orderID": "19",
                  "requestedUnits": "nan",
                  "pl": "nan",
                  "quotePL": "nan",
                  "financing": "nan",
                  "baseFinancing": "nan",
                  "commission": "nan",
                  "gainQuoteHomeConversionFactor": "nan",
                  "lossQuoteHomeConversionFactor": "nan",
                  "guaranteedExecutionFee": "nan",
                  "quoteGuaranteedExecutionFee": "nan",
                  "halfSpreadCost": "nan",
                  "fullVWAP": "nan",
                  "tradeOpened": "nan",
                  "fullPrice": "nan",
                  "homeConversionFactors": "nan",
                  "plHomeConversionCost": "nan",
                  "baseFinancingHomeConversionCost": "nan",
                  "guaranteedExecutionFeeHomeConversionCost": "nan",
                  "homeConversionCost": "nan",
                  "tradeID": "nan",
                  "triggerMode": "nan",
                  "tradesClosed": "nan",
                  "closedTradeID": "17",
                  "tradeCloseTransactionID": "20",
                  "distance": "nan",
                  "_deepnote_index_column": 20
                },
                {
                  "id": "22",
                  "accountID": "101-004-31059296-003",
                  "userID": 31059296,
                  "batchID": "22",
                  "requestID": "79372574574622780",
                  "time": "2025-04-07 12:01:05.376710107+00:00",
                  "type": "MARKET_ORDER",
                  "divisionID": "nan",
                  "siteID": "nan",
                  "accountUserID": "nan",
                  "accountNumber": "nan",
                  "homeCurrency": "nan",
                  "marginRate": "nan",
                  "alias": "nan",
                  "accountBalance": "nan",
                  "amount": "nan",
                  "fundingReason": "nan",
                  "instrument": "EUR_USD",
                  "units": "-1000000",
                  "price": "nan",
                  "timeInForce": "FOK",
                  "gtdTime": "nan",
                  "triggerCondition": "nan",
                  "partialFill": "nan",
                  "positionFill": "DEFAULT",
                  "takeProfitOnFill": "{'price': '1.09641', 'timeInForce': 'GTC'}",
                  "stopLossOnFill": "nan",
                  "reason": "CLIENT_ORDER",
                  "trailingStopLossOnFill": "{'distance': '0.00050', 'timeInForce': 'GTC', 'triggerMode': 'TOP_OF_BOOK'}",
                  "orderID": "nan",
                  "requestedUnits": "nan",
                  "pl": "nan",
                  "quotePL": "nan",
                  "financing": "nan",
                  "baseFinancing": "nan",
                  "commission": "nan",
                  "gainQuoteHomeConversionFactor": "nan",
                  "lossQuoteHomeConversionFactor": "nan",
                  "guaranteedExecutionFee": "nan",
                  "quoteGuaranteedExecutionFee": "nan",
                  "halfSpreadCost": "nan",
                  "fullVWAP": "nan",
                  "tradeOpened": "nan",
                  "fullPrice": "nan",
                  "homeConversionFactors": "nan",
                  "plHomeConversionCost": "nan",
                  "baseFinancingHomeConversionCost": "nan",
                  "guaranteedExecutionFeeHomeConversionCost": "nan",
                  "homeConversionCost": "nan",
                  "tradeID": "nan",
                  "triggerMode": "nan",
                  "tradesClosed": "nan",
                  "closedTradeID": "nan",
                  "tradeCloseTransactionID": "nan",
                  "distance": "nan",
                  "_deepnote_index_column": 21
                },
                {
                  "id": "23",
                  "accountID": "101-004-31059296-003",
                  "userID": 31059296,
                  "batchID": "22",
                  "requestID": "79372574574622780",
                  "time": "2025-04-07 12:01:05.376710107+00:00",
                  "type": "ORDER_FILL",
                  "divisionID": "nan",
                  "siteID": "nan",
                  "accountUserID": "nan",
                  "accountNumber": "nan",
                  "homeCurrency": "nan",
                  "marginRate": "nan",
                  "alias": "nan",
                  "accountBalance": "101272.6115",
                  "amount": "nan",
                  "fundingReason": "nan",
                  "instrument": "EUR_USD",
                  "units": "-1000000",
                  "price": "1.09664",
                  "timeInForce": "nan",
                  "gtdTime": "nan",
                  "triggerCondition": "nan",
                  "partialFill": "nan",
                  "positionFill": "nan",
                  "takeProfitOnFill": "nan",
                  "stopLossOnFill": "nan",
                  "reason": "MARKET_ORDER",
                  "trailingStopLossOnFill": "nan",
                  "orderID": "22",
                  "requestedUnits": "-1000000",
                  "pl": "0.0000",
                  "quotePL": "0",
                  "financing": "0.0000",
                  "baseFinancing": "0",
                  "commission": "0.0000",
                  "gainQuoteHomeConversionFactor": "0.775822415458",
                  "lossQuoteHomeConversionFactor": "0.783619625664",
                  "guaranteedExecutionFee": "0.0000",
                  "quoteGuaranteedExecutionFee": "0",
                  "halfSpreadCost": "35.0874",
                  "fullVWAP": "1.09664",
                  "tradeOpened": "{'price': '1.09664', 'tradeID': '23', 'units': '-1000000', 'guaranteedExecutionFee': '0.0000', 'quoteGuaranteedExecutionFee': '0', 'halfSpreadCost': '35.0874', 'initialMarginRequired': '28504.0000', 'guaranteedExecutionFeeHomeConversionCost': '0.00000000000000'}",
                  "fullPrice": "{'closeoutBid': '1.09655', 'closeoutAsk': '1.09682', 'timestamp': '2025-04-07T12:01:05.348632574Z', 'bids': [{'price': '1.09664', 'liquidity': '500000'}, {'price': '1.09663', 'liquidity': '2500000'}, {'price': '1.09662', 'liquidity': '2000000'}, {'price': '1.09661', 'liquidity': '5000000'}, {'price': '1.09658', 'liquidity': '10000000'}, {'price': '1.09655', 'liquidity': '10000000'}], 'asks': [{'price': '1.09673', 'liquidity': '500000'}, {'price': '1.09674', 'liquidity': '500000'}, {'price': '1.09675', 'liquidity': '2000000'}, {'price': '1.09676', 'liquidity': '2000000'}, {'price': '1.09677', 'liquidity': '5000000'}, {'price': '1.09679', 'liquidity': '10000000'}, {'price': '1.09682', 'liquidity': '10000000'}]}",
                  "homeConversionFactors": "{'gainQuoteHome': {'factor': '0.77582241545817'}, 'lossQuoteHome': {'factor': '0.78361962566377'}, 'gainBaseHome': {'factor': '0.85084440'}, 'lossBaseHome': {'factor': '0.85939560'}}",
                  "plHomeConversionCost": "0.00000000000000",
                  "baseFinancingHomeConversionCost": "0.00000000",
                  "guaranteedExecutionFeeHomeConversionCost": "0.00000000000000",
                  "homeConversionCost": "0.00000000000000",
                  "tradeID": "nan",
                  "triggerMode": "nan",
                  "tradesClosed": "nan",
                  "closedTradeID": "nan",
                  "tradeCloseTransactionID": "nan",
                  "distance": "nan",
                  "_deepnote_index_column": 22
                },
                {
                  "id": "24",
                  "accountID": "101-004-31059296-003",
                  "userID": 31059296,
                  "batchID": "22",
                  "requestID": "79372574574622780",
                  "time": "2025-04-07 12:01:05.376710107+00:00",
                  "type": "TAKE_PROFIT_ORDER",
                  "divisionID": "nan",
                  "siteID": "nan",
                  "accountUserID": "nan",
                  "accountNumber": "nan",
                  "homeCurrency": "nan",
                  "marginRate": "nan",
                  "alias": "nan",
                  "accountBalance": "nan",
                  "amount": "nan",
                  "fundingReason": "nan",
                  "instrument": "nan",
                  "units": "nan",
                  "price": "1.09641",
                  "timeInForce": "GTC",
                  "gtdTime": "nan",
                  "triggerCondition": "DEFAULT",
                  "partialFill": "nan",
                  "positionFill": "nan",
                  "takeProfitOnFill": "nan",
                  "stopLossOnFill": "nan",
                  "reason": "ON_FILL",
                  "trailingStopLossOnFill": "nan",
                  "orderID": "nan",
                  "requestedUnits": "nan",
                  "pl": "nan",
                  "quotePL": "nan",
                  "financing": "nan",
                  "baseFinancing": "nan",
                  "commission": "nan",
                  "gainQuoteHomeConversionFactor": "nan",
                  "lossQuoteHomeConversionFactor": "nan",
                  "guaranteedExecutionFee": "nan",
                  "quoteGuaranteedExecutionFee": "nan",
                  "halfSpreadCost": "nan",
                  "fullVWAP": "nan",
                  "tradeOpened": "nan",
                  "fullPrice": "nan",
                  "homeConversionFactors": "nan",
                  "plHomeConversionCost": "nan",
                  "baseFinancingHomeConversionCost": "nan",
                  "guaranteedExecutionFeeHomeConversionCost": "nan",
                  "homeConversionCost": "nan",
                  "tradeID": "23",
                  "triggerMode": "nan",
                  "tradesClosed": "nan",
                  "closedTradeID": "nan",
                  "tradeCloseTransactionID": "nan",
                  "distance": "nan",
                  "_deepnote_index_column": 23
                },
                {
                  "id": "25",
                  "accountID": "101-004-31059296-003",
                  "userID": 31059296,
                  "batchID": "22",
                  "requestID": "79372574574622780",
                  "time": "2025-04-07 12:01:05.376710107+00:00",
                  "type": "TRAILING_STOP_LOSS_ORDER",
                  "divisionID": "nan",
                  "siteID": "nan",
                  "accountUserID": "nan",
                  "accountNumber": "nan",
                  "homeCurrency": "nan",
                  "marginRate": "nan",
                  "alias": "nan",
                  "accountBalance": "nan",
                  "amount": "nan",
                  "fundingReason": "nan",
                  "instrument": "nan",
                  "units": "nan",
                  "price": "nan",
                  "timeInForce": "GTC",
                  "gtdTime": "nan",
                  "triggerCondition": "DEFAULT",
                  "partialFill": "nan",
                  "positionFill": "nan",
                  "takeProfitOnFill": "nan",
                  "stopLossOnFill": "nan",
                  "reason": "ON_FILL",
                  "trailingStopLossOnFill": "nan",
                  "orderID": "nan",
                  "requestedUnits": "nan",
                  "pl": "nan",
                  "quotePL": "nan",
                  "financing": "nan",
                  "baseFinancing": "nan",
                  "commission": "nan",
                  "gainQuoteHomeConversionFactor": "nan",
                  "lossQuoteHomeConversionFactor": "nan",
                  "guaranteedExecutionFee": "nan",
                  "quoteGuaranteedExecutionFee": "nan",
                  "halfSpreadCost": "nan",
                  "fullVWAP": "nan",
                  "tradeOpened": "nan",
                  "fullPrice": "nan",
                  "homeConversionFactors": "nan",
                  "plHomeConversionCost": "nan",
                  "baseFinancingHomeConversionCost": "nan",
                  "guaranteedExecutionFeeHomeConversionCost": "nan",
                  "homeConversionCost": "nan",
                  "tradeID": "23",
                  "triggerMode": "TOP_OF_BOOK",
                  "tradesClosed": "nan",
                  "closedTradeID": "nan",
                  "tradeCloseTransactionID": "nan",
                  "distance": "0.00050",
                  "_deepnote_index_column": 24
                },
                {
                  "id": "26",
                  "accountID": "101-004-31059296-003",
                  "userID": 31059296,
                  "batchID": "26",
                  "requestID": "nan",
                  "time": "2025-04-07 12:01:50.200012927+00:00",
                  "type": "ORDER_FILL",
                  "divisionID": "nan",
                  "siteID": "nan",
                  "accountUserID": "nan",
                  "accountNumber": "nan",
                  "homeCurrency": "nan",
                  "marginRate": "nan",
                  "alias": "nan",
                  "accountBalance": "101458.8713",
                  "amount": "nan",
                  "fundingReason": "nan",
                  "instrument": "EUR_USD",
                  "units": "1000000",
                  "price": "1.09640",
                  "timeInForce": "nan",
                  "gtdTime": "nan",
                  "triggerCondition": "nan",
                  "partialFill": "nan",
                  "positionFill": "nan",
                  "takeProfitOnFill": "nan",
                  "stopLossOnFill": "nan",
                  "reason": "TAKE_PROFIT_ORDER",
                  "trailingStopLossOnFill": "nan",
                  "orderID": "24",
                  "requestedUnits": "1000000",
                  "pl": "186.2598",
                  "quotePL": "240.00000",
                  "financing": "0.0000",
                  "baseFinancing": "0.00000000000000",
                  "commission": "0.0000",
                  "gainQuoteHomeConversionFactor": "0.776082619574",
                  "lossQuoteHomeConversionFactor": "0.783882444896",
                  "guaranteedExecutionFee": "0.0000",
                  "quoteGuaranteedExecutionFee": "0",
                  "halfSpreadCost": "35.0992",
                  "fullVWAP": "1.09640",
                  "tradeOpened": "nan",
                  "fullPrice": "{'closeoutBid': '1.09622', 'closeoutAsk': '1.09649', 'timestamp': '2025-04-07T12:01:50.200012927Z', 'bids': [{'price': '1.09631', 'liquidity': '500000'}, {'price': '1.09630', 'liquidity': '2500000'}, {'price': '1.09629', 'liquidity': '2000000'}, {'price': '1.09628', 'liquidity': '5000000'}, {'price': '1.09625', 'liquidity': '10000000'}, {'price': '1.09622', 'liquidity': '10000000'}], 'asks': [{'price': '1.09640', 'liquidity': '500000'}, {'price': '1.09641', 'liquidity': '500000'}, {'price': '1.09642', 'liquidity': '2000000'}, {'price': '1.09643', 'liquidity': '2000000'}, {'price': '1.09644', 'liquidity': '5000000'}, {'price': '1.09646', 'liquidity': '10000000'}, {'price': '1.09649', 'liquidity': '10000000'}]}",
                  "homeConversionFactors": "{'gainQuoteHome': {'factor': '0.77608261957381'}, 'lossQuoteHome': {'factor': '0.78388244489615'}, 'gainBaseHome': {'factor': '0.85090410'}, 'lossBaseHome': {'factor': '0.85945590'}}",
                  "plHomeConversionCost": "-0.92283818733120",
                  "baseFinancingHomeConversionCost": "0.00000000000000",
                  "guaranteedExecutionFeeHomeConversionCost": "0.00000000000000",
                  "homeConversionCost": "-0.92283818733120",
                  "tradeID": "nan",
                  "triggerMode": "nan",
                  "tradesClosed": "[{'tradeID': '23', 'units': '1000000', 'realizedPL': '186.2598', 'financing': '0.0000', 'baseFinancing': '0.00000000000000', 'price': '1.09640', 'guaranteedExecutionFee': '0.0000', 'quoteGuaranteedExecutionFee': '0', 'halfSpreadCost': '35.0992', 'plHomeConversionCost': '-0.92283818733120', 'baseFinancingHomeConversionCost': '0.00000000000000', 'guaranteedExecutionFeeHomeConversionCost': '0.00000000000000', 'homeConversionCost': '-0.92283818733120'}]",
                  "closedTradeID": "nan",
                  "tradeCloseTransactionID": "nan",
                  "distance": "nan",
                  "_deepnote_index_column": 25
                },
                {
                  "id": "27",
                  "accountID": "101-004-31059296-003",
                  "userID": 31059296,
                  "batchID": "26",
                  "requestID": "nan",
                  "time": "2025-04-07 12:01:50.200012927+00:00",
                  "type": "ORDER_CANCEL",
                  "divisionID": "nan",
                  "siteID": "nan",
                  "accountUserID": "nan",
                  "accountNumber": "nan",
                  "homeCurrency": "nan",
                  "marginRate": "nan",
                  "alias": "nan",
                  "accountBalance": "nan",
                  "amount": "nan",
                  "fundingReason": "nan",
                  "instrument": "nan",
                  "units": "nan",
                  "price": "nan",
                  "timeInForce": "nan",
                  "gtdTime": "nan",
                  "triggerCondition": "nan",
                  "partialFill": "nan",
                  "positionFill": "nan",
                  "takeProfitOnFill": "nan",
                  "stopLossOnFill": "nan",
                  "reason": "LINKED_TRADE_CLOSED",
                  "trailingStopLossOnFill": "nan",
                  "orderID": "25",
                  "requestedUnits": "nan",
                  "pl": "nan",
                  "quotePL": "nan",
                  "financing": "nan",
                  "baseFinancing": "nan",
                  "commission": "nan",
                  "gainQuoteHomeConversionFactor": "nan",
                  "lossQuoteHomeConversionFactor": "nan",
                  "guaranteedExecutionFee": "nan",
                  "quoteGuaranteedExecutionFee": "nan",
                  "halfSpreadCost": "nan",
                  "fullVWAP": "nan",
                  "tradeOpened": "nan",
                  "fullPrice": "nan",
                  "homeConversionFactors": "nan",
                  "plHomeConversionCost": "nan",
                  "baseFinancingHomeConversionCost": "nan",
                  "guaranteedExecutionFeeHomeConversionCost": "nan",
                  "homeConversionCost": "nan",
                  "tradeID": "nan",
                  "triggerMode": "nan",
                  "tradesClosed": "nan",
                  "closedTradeID": "23",
                  "tradeCloseTransactionID": "26",
                  "distance": "nan",
                  "_deepnote_index_column": 26
                }
              ],
              "type": "dataframe"
            },
            "text/plain": "    id             accountID    userID batchID            requestID  \\\n0    1  101-004-31059296-003  31059296       1  1682652946359240083   \n1    2  101-004-31059296-003  31059296       1  1682652946359240083   \n2    3  101-004-31059296-003  31059296       3  1718681743386592802   \n3    4  101-004-31059296-003  31059296       4    61357230115111042   \n4    5  101-004-31059296-003  31059296       5    79371629377737404   \n5    6  101-004-31059296-003  31059296       5    79371629377737404   \n6    7  101-004-31059296-003  31059296       7    79372046460821315   \n7    8  101-004-31059296-003  31059296       7    79372046460821315   \n8    9  101-004-31059296-003  31059296       9    61357653436547922   \n9   10  101-004-31059296-003  31059296       9    61357653436547922   \n10  11  101-004-31059296-003  31059296      11                  NaN   \n11  12  101-004-31059296-003  31059296      11                  NaN   \n12  13  101-004-31059296-003  31059296      11                  NaN   \n13  14  101-004-31059296-003  31059296      14                  NaN   \n14  15  101-004-31059296-003  31059296      14                  NaN   \n15  16  101-004-31059296-003  31059296      16   115401367817111343   \n16  17  101-004-31059296-003  31059296      16   115401367817111343   \n17  18  101-004-31059296-003  31059296      16   115401367817111343   \n18  19  101-004-31059296-003  31059296      16   115401367817111343   \n19  20  101-004-31059296-003  31059296      20                  NaN   \n20  21  101-004-31059296-003  31059296      20                  NaN   \n21  22  101-004-31059296-003  31059296      22    79372574574622780   \n22  23  101-004-31059296-003  31059296      22    79372574574622780   \n23  24  101-004-31059296-003  31059296      22    79372574574622780   \n24  25  101-004-31059296-003  31059296      22    79372574574622780   \n25  26  101-004-31059296-003  31059296      26                  NaN   \n26  27  101-004-31059296-003  31059296      26                  NaN   \n\n                                  time                      type  divisionID  \\\n0  2025-04-04 11:27:44.777790339+00:00                    CREATE         4.0   \n1  2025-04-04 11:27:44.777790339+00:00          CLIENT_CONFIGURE         NaN   \n2  2025-04-04 11:27:46.532682976+00:00            TRANSFER_FUNDS         NaN   \n3  2025-04-04 21:22:13.497057574+00:00               LIMIT_ORDER         NaN   \n4  2025-04-04 21:25:13.666076581+00:00              MARKET_ORDER         NaN   \n5  2025-04-04 21:25:13.666076581+00:00              ORDER_CANCEL         NaN   \n6  2025-04-06 01:02:33.098770020+00:00              MARKET_ORDER         NaN   \n7  2025-04-06 01:02:33.098770020+00:00              ORDER_CANCEL         NaN   \n8  2025-04-06 01:24:21.678028091+00:00              MARKET_ORDER         NaN   \n9  2025-04-06 01:24:21.678028091+00:00              ORDER_CANCEL         NaN   \n10 2025-04-06 22:16:18.658134366+00:00                ORDER_FILL         NaN   \n11 2025-04-06 22:16:18.658134366+00:00         TAKE_PROFIT_ORDER         NaN   \n12 2025-04-06 22:16:18.658134366+00:00           STOP_LOSS_ORDER         NaN   \n13 2025-04-06 22:16:18.675888941+00:00                ORDER_FILL         NaN   \n14 2025-04-06 22:16:18.675888941+00:00              ORDER_CANCEL         NaN   \n15 2025-04-07 11:46:05.797701276+00:00              MARKET_ORDER         NaN   \n16 2025-04-07 11:46:05.797701276+00:00                ORDER_FILL         NaN   \n17 2025-04-07 11:46:05.797701276+00:00         TAKE_PROFIT_ORDER         NaN   \n18 2025-04-07 11:46:05.797701276+00:00  TRAILING_STOP_LOSS_ORDER         NaN   \n19 2025-04-07 11:51:33.950545854+00:00                ORDER_FILL         NaN   \n20 2025-04-07 11:51:33.950545854+00:00              ORDER_CANCEL         NaN   \n21 2025-04-07 12:01:05.376710107+00:00              MARKET_ORDER         NaN   \n22 2025-04-07 12:01:05.376710107+00:00                ORDER_FILL         NaN   \n23 2025-04-07 12:01:05.376710107+00:00         TAKE_PROFIT_ORDER         NaN   \n24 2025-04-07 12:01:05.376710107+00:00  TRAILING_STOP_LOSS_ORDER         NaN   \n25 2025-04-07 12:01:50.200012927+00:00                ORDER_FILL         NaN   \n26 2025-04-07 12:01:50.200012927+00:00              ORDER_CANCEL         NaN   \n\n    siteID  accountUserID  ...  plHomeConversionCost  \\\n0    101.0     31059296.0  ...                   NaN   \n1      NaN            NaN  ...                   NaN   \n2      NaN            NaN  ...                   NaN   \n3      NaN            NaN  ...                   NaN   \n4      NaN            NaN  ...                   NaN   \n5      NaN            NaN  ...                   NaN   \n6      NaN            NaN  ...                   NaN   \n7      NaN            NaN  ...                   NaN   \n8      NaN            NaN  ...                   NaN   \n9      NaN            NaN  ...                   NaN   \n10     NaN            NaN  ...      0.00000000000000   \n11     NaN            NaN  ...                   NaN   \n12     NaN            NaN  ...                   NaN   \n13     NaN            NaN  ...     -0.00000076088810   \n14     NaN            NaN  ...                   NaN   \n15     NaN            NaN  ...                   NaN   \n16     NaN            NaN  ...      0.00000000000000   \n17     NaN            NaN  ...                   NaN   \n18     NaN            NaN  ...                   NaN   \n19     NaN            NaN  ...     -6.30027366364440   \n20     NaN            NaN  ...                   NaN   \n21     NaN            NaN  ...                   NaN   \n22     NaN            NaN  ...      0.00000000000000   \n23     NaN            NaN  ...                   NaN   \n24     NaN            NaN  ...                   NaN   \n25     NaN            NaN  ...     -0.92283818733120   \n26     NaN            NaN  ...                   NaN   \n\n   baseFinancingHomeConversionCost guaranteedExecutionFeeHomeConversionCost  \\\n0                              NaN                                      NaN   \n1                              NaN                                      NaN   \n2                              NaN                                      NaN   \n3                              NaN                                      NaN   \n4                              NaN                                      NaN   \n5                              NaN                                      NaN   \n6                              NaN                                      NaN   \n7                              NaN                                      NaN   \n8                              NaN                                      NaN   \n9                              NaN                                      NaN   \n10                      0.00000000                         0.00000000000000   \n11                             NaN                                      NaN   \n12                             NaN                                      NaN   \n13                0.00000000000000                         0.00000000000000   \n14                             NaN                                      NaN   \n15                             NaN                                      NaN   \n16                      0.00000000                         0.00000000000000   \n17                             NaN                                      NaN   \n18                             NaN                                      NaN   \n19                0.00000000000000                         0.00000000000000   \n20                             NaN                                      NaN   \n21                             NaN                                      NaN   \n22                      0.00000000                         0.00000000000000   \n23                             NaN                                      NaN   \n24                             NaN                                      NaN   \n25                0.00000000000000                         0.00000000000000   \n26                             NaN                                      NaN   \n\n   homeConversionCost tradeID  triggerMode  \\\n0                 NaN     NaN          NaN   \n1                 NaN     NaN          NaN   \n2                 NaN     NaN          NaN   \n3                 NaN     NaN          NaN   \n4                 NaN     NaN          NaN   \n5                 NaN     NaN          NaN   \n6                 NaN     NaN          NaN   \n7                 NaN     NaN          NaN   \n8                 NaN     NaN          NaN   \n9                 NaN     NaN          NaN   \n10   0.00000000000000     NaN          NaN   \n11                NaN      11          NaN   \n12                NaN      11  TOP_OF_BOOK   \n13  -0.00000076088810     NaN          NaN   \n14                NaN     NaN          NaN   \n15                NaN     NaN          NaN   \n16   0.00000000000000     NaN          NaN   \n17                NaN      17          NaN   \n18                NaN      17  TOP_OF_BOOK   \n19  -6.30027366364440     NaN          NaN   \n20                NaN     NaN          NaN   \n21                NaN     NaN          NaN   \n22   0.00000000000000     NaN          NaN   \n23                NaN      23          NaN   \n24                NaN      23  TOP_OF_BOOK   \n25  -0.92283818733120     NaN          NaN   \n26                NaN     NaN          NaN   \n\n                                         tradesClosed closedTradeID  \\\n0                                                 NaN           NaN   \n1                                                 NaN           NaN   \n2                                                 NaN           NaN   \n3                                                 NaN           NaN   \n4                                                 NaN           NaN   \n5                                                 NaN           NaN   \n6                                                 NaN           NaN   \n7                                                 NaN           NaN   \n8                                                 NaN           NaN   \n9                                                 NaN           NaN   \n10                                                NaN           NaN   \n11                                                NaN           NaN   \n12                                                NaN           NaN   \n13  [{'tradeID': '11', 'units': '1', 'realizedPL':...           NaN   \n14                                                NaN            11   \n15                                                NaN           NaN   \n16                                                NaN           NaN   \n17                                                NaN           NaN   \n18                                                NaN           NaN   \n19  [{'tradeID': '17', 'units': '-1000000', 'reali...           NaN   \n20                                                NaN            17   \n21                                                NaN           NaN   \n22                                                NaN           NaN   \n23                                                NaN           NaN   \n24                                                NaN           NaN   \n25  [{'tradeID': '23', 'units': '1000000', 'realiz...           NaN   \n26                                                NaN            23   \n\n   tradeCloseTransactionID distance  \n0                      NaN      NaN  \n1                      NaN      NaN  \n2                      NaN      NaN  \n3                      NaN      NaN  \n4                      NaN      NaN  \n5                      NaN      NaN  \n6                      NaN      NaN  \n7                      NaN      NaN  \n8                      NaN      NaN  \n9                      NaN      NaN  \n10                     NaN      NaN  \n11                     NaN      NaN  \n12                     NaN      NaN  \n13                     NaN      NaN  \n14                      14      NaN  \n15                     NaN      NaN  \n16                     NaN      NaN  \n17                     NaN      NaN  \n18                     NaN  0.00050  \n19                     NaN      NaN  \n20                      20      NaN  \n21                     NaN      NaN  \n22                     NaN      NaN  \n23                     NaN      NaN  \n24                     NaN  0.00050  \n25                     NaN      NaN  \n26                      26      NaN  \n\n[27 rows x 55 columns]",
            "text/html": "<div>\n<style scoped>\n    .dataframe tbody tr th:only-of-type {\n        vertical-align: middle;\n    }\n\n    .dataframe tbody tr th {\n        vertical-align: top;\n    }\n\n    .dataframe thead th {\n        text-align: right;\n    }\n</style>\n<table border=\"1\" class=\"dataframe\">\n  <thead>\n    <tr style=\"text-align: right;\">\n      <th></th>\n      <th>id</th>\n      <th>accountID</th>\n      <th>userID</th>\n      <th>batchID</th>\n      <th>requestID</th>\n      <th>time</th>\n      <th>type</th>\n      <th>divisionID</th>\n      <th>siteID</th>\n      <th>accountUserID</th>\n      <th>...</th>\n      <th>plHomeConversionCost</th>\n      <th>baseFinancingHomeConversionCost</th>\n      <th>guaranteedExecutionFeeHomeConversionCost</th>\n      <th>homeConversionCost</th>\n      <th>tradeID</th>\n      <th>triggerMode</th>\n      <th>tradesClosed</th>\n      <th>closedTradeID</th>\n      <th>tradeCloseTransactionID</th>\n      <th>distance</th>\n    </tr>\n  </thead>\n  <tbody>\n    <tr>\n      <th>0</th>\n      <td>1</td>\n      <td>101-004-31059296-003</td>\n      <td>31059296</td>\n      <td>1</td>\n      <td>1682652946359240083</td>\n      <td>2025-04-04 11:27:44.777790339+00:00</td>\n      <td>CREATE</td>\n      <td>4.0</td>\n      <td>101.0</td>\n      <td>31059296.0</td>\n      <td>...</td>\n      <td>NaN</td>\n      <td>NaN</td>\n      <td>NaN</td>\n      <td>NaN</td>\n      <td>NaN</td>\n      <td>NaN</td>\n      <td>NaN</td>\n      <td>NaN</td>\n      <td>NaN</td>\n      <td>NaN</td>\n    </tr>\n    <tr>\n      <th>1</th>\n      <td>2</td>\n      <td>101-004-31059296-003</td>\n      <td>31059296</td>\n      <td>1</td>\n      <td>1682652946359240083</td>\n      <td>2025-04-04 11:27:44.777790339+00:00</td>\n      <td>CLIENT_CONFIGURE</td>\n      <td>NaN</td>\n      <td>NaN</td>\n      <td>NaN</td>\n      <td>...</td>\n      <td>NaN</td>\n      <td>NaN</td>\n      <td>NaN</td>\n      <td>NaN</td>\n      <td>NaN</td>\n      <td>NaN</td>\n      <td>NaN</td>\n      <td>NaN</td>\n      <td>NaN</td>\n      <td>NaN</td>\n    </tr>\n    <tr>\n      <th>2</th>\n      <td>3</td>\n      <td>101-004-31059296-003</td>\n      <td>31059296</td>\n      <td>3</td>\n      <td>1718681743386592802</td>\n      <td>2025-04-04 11:27:46.532682976+00:00</td>\n      <td>TRANSFER_FUNDS</td>\n      <td>NaN</td>\n      <td>NaN</td>\n      <td>NaN</td>\n      <td>...</td>\n      <td>NaN</td>\n      <td>NaN</td>\n      <td>NaN</td>\n      <td>NaN</td>\n      <td>NaN</td>\n      <td>NaN</td>\n      <td>NaN</td>\n      <td>NaN</td>\n      <td>NaN</td>\n      <td>NaN</td>\n    </tr>\n    <tr>\n      <th>3</th>\n      <td>4</td>\n      <td>101-004-31059296-003</td>\n      <td>31059296</td>\n      <td>4</td>\n      <td>61357230115111042</td>\n      <td>2025-04-04 21:22:13.497057574+00:00</td>\n      <td>LIMIT_ORDER</td>\n      <td>NaN</td>\n      <td>NaN</td>\n      <td>NaN</td>\n      <td>...</td>\n      <td>NaN</td>\n      <td>NaN</td>\n      <td>NaN</td>\n      <td>NaN</td>\n      <td>NaN</td>\n      <td>NaN</td>\n      <td>NaN</td>\n      <td>NaN</td>\n      <td>NaN</td>\n      <td>NaN</td>\n    </tr>\n    <tr>\n      <th>4</th>\n      <td>5</td>\n      <td>101-004-31059296-003</td>\n      <td>31059296</td>\n      <td>5</td>\n      <td>79371629377737404</td>\n      <td>2025-04-04 21:25:13.666076581+00:00</td>\n      <td>MARKET_ORDER</td>\n      <td>NaN</td>\n      <td>NaN</td>\n      <td>NaN</td>\n      <td>...</td>\n      <td>NaN</td>\n      <td>NaN</td>\n      <td>NaN</td>\n      <td>NaN</td>\n      <td>NaN</td>\n      <td>NaN</td>\n      <td>NaN</td>\n      <td>NaN</td>\n      <td>NaN</td>\n      <td>NaN</td>\n    </tr>\n    <tr>\n      <th>5</th>\n      <td>6</td>\n      <td>101-004-31059296-003</td>\n      <td>31059296</td>\n      <td>5</td>\n      <td>79371629377737404</td>\n      <td>2025-04-04 21:25:13.666076581+00:00</td>\n      <td>ORDER_CANCEL</td>\n      <td>NaN</td>\n      <td>NaN</td>\n      <td>NaN</td>\n      <td>...</td>\n      <td>NaN</td>\n      <td>NaN</td>\n      <td>NaN</td>\n      <td>NaN</td>\n      <td>NaN</td>\n      <td>NaN</td>\n      <td>NaN</td>\n      <td>NaN</td>\n      <td>NaN</td>\n      <td>NaN</td>\n    </tr>\n    <tr>\n      <th>6</th>\n      <td>7</td>\n      <td>101-004-31059296-003</td>\n      <td>31059296</td>\n      <td>7</td>\n      <td>79372046460821315</td>\n      <td>2025-04-06 01:02:33.098770020+00:00</td>\n      <td>MARKET_ORDER</td>\n      <td>NaN</td>\n      <td>NaN</td>\n      <td>NaN</td>\n      <td>...</td>\n      <td>NaN</td>\n      <td>NaN</td>\n      <td>NaN</td>\n      <td>NaN</td>\n      <td>NaN</td>\n      <td>NaN</td>\n      <td>NaN</td>\n      <td>NaN</td>\n      <td>NaN</td>\n      <td>NaN</td>\n    </tr>\n    <tr>\n      <th>7</th>\n      <td>8</td>\n      <td>101-004-31059296-003</td>\n      <td>31059296</td>\n      <td>7</td>\n      <td>79372046460821315</td>\n      <td>2025-04-06 01:02:33.098770020+00:00</td>\n      <td>ORDER_CANCEL</td>\n      <td>NaN</td>\n      <td>NaN</td>\n      <td>NaN</td>\n      <td>...</td>\n      <td>NaN</td>\n      <td>NaN</td>\n      <td>NaN</td>\n      <td>NaN</td>\n      <td>NaN</td>\n      <td>NaN</td>\n      <td>NaN</td>\n      <td>NaN</td>\n      <td>NaN</td>\n      <td>NaN</td>\n    </tr>\n    <tr>\n      <th>8</th>\n      <td>9</td>\n      <td>101-004-31059296-003</td>\n      <td>31059296</td>\n      <td>9</td>\n      <td>61357653436547922</td>\n      <td>2025-04-06 01:24:21.678028091+00:00</td>\n      <td>MARKET_ORDER</td>\n      <td>NaN</td>\n      <td>NaN</td>\n      <td>NaN</td>\n      <td>...</td>\n      <td>NaN</td>\n      <td>NaN</td>\n      <td>NaN</td>\n      <td>NaN</td>\n      <td>NaN</td>\n      <td>NaN</td>\n      <td>NaN</td>\n      <td>NaN</td>\n      <td>NaN</td>\n      <td>NaN</td>\n    </tr>\n    <tr>\n      <th>9</th>\n      <td>10</td>\n      <td>101-004-31059296-003</td>\n      <td>31059296</td>\n      <td>9</td>\n      <td>61357653436547922</td>\n      <td>2025-04-06 01:24:21.678028091+00:00</td>\n      <td>ORDER_CANCEL</td>\n      <td>NaN</td>\n      <td>NaN</td>\n      <td>NaN</td>\n      <td>...</td>\n      <td>NaN</td>\n      <td>NaN</td>\n      <td>NaN</td>\n      <td>NaN</td>\n      <td>NaN</td>\n      <td>NaN</td>\n      <td>NaN</td>\n      <td>NaN</td>\n      <td>NaN</td>\n      <td>NaN</td>\n    </tr>\n    <tr>\n      <th>10</th>\n      <td>11</td>\n      <td>101-004-31059296-003</td>\n      <td>31059296</td>\n      <td>11</td>\n      <td>NaN</td>\n      <td>2025-04-06 22:16:18.658134366+00:00</td>\n      <td>ORDER_FILL</td>\n      <td>NaN</td>\n      <td>NaN</td>\n      <td>NaN</td>\n      <td>...</td>\n      <td>0.00000000000000</td>\n      <td>0.00000000</td>\n      <td>0.00000000000000</td>\n      <td>0.00000000000000</td>\n      <td>NaN</td>\n      <td>NaN</td>\n      <td>NaN</td>\n      <td>NaN</td>\n      <td>NaN</td>\n      <td>NaN</td>\n    </tr>\n    <tr>\n      <th>11</th>\n      <td>12</td>\n      <td>101-004-31059296-003</td>\n      <td>31059296</td>\n      <td>11</td>\n      <td>NaN</td>\n      <td>2025-04-06 22:16:18.658134366+00:00</td>\n      <td>TAKE_PROFIT_ORDER</td>\n      <td>NaN</td>\n      <td>NaN</td>\n      <td>NaN</td>\n      <td>...</td>\n      <td>NaN</td>\n      <td>NaN</td>\n      <td>NaN</td>\n      <td>NaN</td>\n      <td>11</td>\n      <td>NaN</td>\n      <td>NaN</td>\n      <td>NaN</td>\n      <td>NaN</td>\n      <td>NaN</td>\n    </tr>\n    <tr>\n      <th>12</th>\n      <td>13</td>\n      <td>101-004-31059296-003</td>\n      <td>31059296</td>\n      <td>11</td>\n      <td>NaN</td>\n      <td>2025-04-06 22:16:18.658134366+00:00</td>\n      <td>STOP_LOSS_ORDER</td>\n      <td>NaN</td>\n      <td>NaN</td>\n      <td>NaN</td>\n      <td>...</td>\n      <td>NaN</td>\n      <td>NaN</td>\n      <td>NaN</td>\n      <td>NaN</td>\n      <td>11</td>\n      <td>TOP_OF_BOOK</td>\n      <td>NaN</td>\n      <td>NaN</td>\n      <td>NaN</td>\n      <td>NaN</td>\n    </tr>\n    <tr>\n      <th>13</th>\n      <td>14</td>\n      <td>101-004-31059296-003</td>\n      <td>31059296</td>\n      <td>14</td>\n      <td>NaN</td>\n      <td>2025-04-06 22:16:18.675888941+00:00</td>\n      <td>ORDER_FILL</td>\n      <td>NaN</td>\n      <td>NaN</td>\n      <td>NaN</td>\n      <td>...</td>\n      <td>-0.00000076088810</td>\n      <td>0.00000000000000</td>\n      <td>0.00000000000000</td>\n      <td>-0.00000076088810</td>\n      <td>NaN</td>\n      <td>NaN</td>\n      <td>[{'tradeID': '11', 'units': '1', 'realizedPL':...</td>\n      <td>NaN</td>\n      <td>NaN</td>\n      <td>NaN</td>\n    </tr>\n    <tr>\n      <th>14</th>\n      <td>15</td>\n      <td>101-004-31059296-003</td>\n      <td>31059296</td>\n      <td>14</td>\n      <td>NaN</td>\n      <td>2025-04-06 22:16:18.675888941+00:00</td>\n      <td>ORDER_CANCEL</td>\n      <td>NaN</td>\n      <td>NaN</td>\n      <td>NaN</td>\n      <td>...</td>\n      <td>NaN</td>\n      <td>NaN</td>\n      <td>NaN</td>\n      <td>NaN</td>\n      <td>NaN</td>\n      <td>NaN</td>\n      <td>NaN</td>\n      <td>11</td>\n      <td>14</td>\n      <td>NaN</td>\n    </tr>\n    <tr>\n      <th>15</th>\n      <td>16</td>\n      <td>101-004-31059296-003</td>\n      <td>31059296</td>\n      <td>16</td>\n      <td>115401367817111343</td>\n      <td>2025-04-07 11:46:05.797701276+00:00</td>\n      <td>MARKET_ORDER</td>\n      <td>NaN</td>\n      <td>NaN</td>\n      <td>NaN</td>\n      <td>...</td>\n      <td>NaN</td>\n      <td>NaN</td>\n      <td>NaN</td>\n      <td>NaN</td>\n      <td>NaN</td>\n      <td>NaN</td>\n      <td>NaN</td>\n      <td>NaN</td>\n      <td>NaN</td>\n      <td>NaN</td>\n    </tr>\n    <tr>\n      <th>16</th>\n      <td>17</td>\n      <td>101-004-31059296-003</td>\n      <td>31059296</td>\n      <td>16</td>\n      <td>115401367817111343</td>\n      <td>2025-04-07 11:46:05.797701276+00:00</td>\n      <td>ORDER_FILL</td>\n      <td>NaN</td>\n      <td>NaN</td>\n      <td>NaN</td>\n      <td>...</td>\n      <td>0.00000000000000</td>\n      <td>0.00000000</td>\n      <td>0.00000000000000</td>\n      <td>0.00000000000000</td>\n      <td>NaN</td>\n      <td>NaN</td>\n      <td>NaN</td>\n      <td>NaN</td>\n      <td>NaN</td>\n      <td>NaN</td>\n    </tr>\n    <tr>\n      <th>17</th>\n      <td>18</td>\n      <td>101-004-31059296-003</td>\n      <td>31059296</td>\n      <td>16</td>\n      <td>115401367817111343</td>\n      <td>2025-04-07 11:46:05.797701276+00:00</td>\n      <td>TAKE_PROFIT_ORDER</td>\n      <td>NaN</td>\n      <td>NaN</td>\n      <td>NaN</td>\n      <td>...</td>\n      <td>NaN</td>\n      <td>NaN</td>\n      <td>NaN</td>\n      <td>NaN</td>\n      <td>17</td>\n      <td>NaN</td>\n      <td>NaN</td>\n      <td>NaN</td>\n      <td>NaN</td>\n      <td>NaN</td>\n    </tr>\n    <tr>\n      <th>18</th>\n      <td>19</td>\n      <td>101-004-31059296-003</td>\n      <td>31059296</td>\n      <td>16</td>\n      <td>115401367817111343</td>\n      <td>2025-04-07 11:46:05.797701276+00:00</td>\n      <td>TRAILING_STOP_LOSS_ORDER</td>\n      <td>NaN</td>\n      <td>NaN</td>\n      <td>NaN</td>\n      <td>...</td>\n      <td>NaN</td>\n      <td>NaN</td>\n      <td>NaN</td>\n      <td>NaN</td>\n      <td>17</td>\n      <td>TOP_OF_BOOK</td>\n      <td>NaN</td>\n      <td>NaN</td>\n      <td>NaN</td>\n      <td>0.00050</td>\n    </tr>\n    <tr>\n      <th>19</th>\n      <td>20</td>\n      <td>101-004-31059296-003</td>\n      <td>31059296</td>\n      <td>20</td>\n      <td>NaN</td>\n      <td>2025-04-07 11:51:33.950545854+00:00</td>\n      <td>ORDER_FILL</td>\n      <td>NaN</td>\n      <td>NaN</td>\n      <td>NaN</td>\n      <td>...</td>\n      <td>-6.30027366364440</td>\n      <td>0.00000000000000</td>\n      <td>0.00000000000000</td>\n      <td>-6.30027366364440</td>\n      <td>NaN</td>\n      <td>NaN</td>\n      <td>[{'tradeID': '17', 'units': '-1000000', 'reali...</td>\n      <td>NaN</td>\n      <td>NaN</td>\n      <td>NaN</td>\n    </tr>\n    <tr>\n      <th>20</th>\n      <td>21</td>\n      <td>101-004-31059296-003</td>\n      <td>31059296</td>\n      <td>20</td>\n      <td>NaN</td>\n      <td>2025-04-07 11:51:33.950545854+00:00</td>\n      <td>ORDER_CANCEL</td>\n      <td>NaN</td>\n      <td>NaN</td>\n      <td>NaN</td>\n      <td>...</td>\n      <td>NaN</td>\n      <td>NaN</td>\n      <td>NaN</td>\n      <td>NaN</td>\n      <td>NaN</td>\n      <td>NaN</td>\n      <td>NaN</td>\n      <td>17</td>\n      <td>20</td>\n      <td>NaN</td>\n    </tr>\n    <tr>\n      <th>21</th>\n      <td>22</td>\n      <td>101-004-31059296-003</td>\n      <td>31059296</td>\n      <td>22</td>\n      <td>79372574574622780</td>\n      <td>2025-04-07 12:01:05.376710107+00:00</td>\n      <td>MARKET_ORDER</td>\n      <td>NaN</td>\n      <td>NaN</td>\n      <td>NaN</td>\n      <td>...</td>\n      <td>NaN</td>\n      <td>NaN</td>\n      <td>NaN</td>\n      <td>NaN</td>\n      <td>NaN</td>\n      <td>NaN</td>\n      <td>NaN</td>\n      <td>NaN</td>\n      <td>NaN</td>\n      <td>NaN</td>\n    </tr>\n    <tr>\n      <th>22</th>\n      <td>23</td>\n      <td>101-004-31059296-003</td>\n      <td>31059296</td>\n      <td>22</td>\n      <td>79372574574622780</td>\n      <td>2025-04-07 12:01:05.376710107+00:00</td>\n      <td>ORDER_FILL</td>\n      <td>NaN</td>\n      <td>NaN</td>\n      <td>NaN</td>\n      <td>...</td>\n      <td>0.00000000000000</td>\n      <td>0.00000000</td>\n      <td>0.00000000000000</td>\n      <td>0.00000000000000</td>\n      <td>NaN</td>\n      <td>NaN</td>\n      <td>NaN</td>\n      <td>NaN</td>\n      <td>NaN</td>\n      <td>NaN</td>\n    </tr>\n    <tr>\n      <th>23</th>\n      <td>24</td>\n      <td>101-004-31059296-003</td>\n      <td>31059296</td>\n      <td>22</td>\n      <td>79372574574622780</td>\n      <td>2025-04-07 12:01:05.376710107+00:00</td>\n      <td>TAKE_PROFIT_ORDER</td>\n      <td>NaN</td>\n      <td>NaN</td>\n      <td>NaN</td>\n      <td>...</td>\n      <td>NaN</td>\n      <td>NaN</td>\n      <td>NaN</td>\n      <td>NaN</td>\n      <td>23</td>\n      <td>NaN</td>\n      <td>NaN</td>\n      <td>NaN</td>\n      <td>NaN</td>\n      <td>NaN</td>\n    </tr>\n    <tr>\n      <th>24</th>\n      <td>25</td>\n      <td>101-004-31059296-003</td>\n      <td>31059296</td>\n      <td>22</td>\n      <td>79372574574622780</td>\n      <td>2025-04-07 12:01:05.376710107+00:00</td>\n      <td>TRAILING_STOP_LOSS_ORDER</td>\n      <td>NaN</td>\n      <td>NaN</td>\n      <td>NaN</td>\n      <td>...</td>\n      <td>NaN</td>\n      <td>NaN</td>\n      <td>NaN</td>\n      <td>NaN</td>\n      <td>23</td>\n      <td>TOP_OF_BOOK</td>\n      <td>NaN</td>\n      <td>NaN</td>\n      <td>NaN</td>\n      <td>0.00050</td>\n    </tr>\n    <tr>\n      <th>25</th>\n      <td>26</td>\n      <td>101-004-31059296-003</td>\n      <td>31059296</td>\n      <td>26</td>\n      <td>NaN</td>\n      <td>2025-04-07 12:01:50.200012927+00:00</td>\n      <td>ORDER_FILL</td>\n      <td>NaN</td>\n      <td>NaN</td>\n      <td>NaN</td>\n      <td>...</td>\n      <td>-0.92283818733120</td>\n      <td>0.00000000000000</td>\n      <td>0.00000000000000</td>\n      <td>-0.92283818733120</td>\n      <td>NaN</td>\n      <td>NaN</td>\n      <td>[{'tradeID': '23', 'units': '1000000', 'realiz...</td>\n      <td>NaN</td>\n      <td>NaN</td>\n      <td>NaN</td>\n    </tr>\n    <tr>\n      <th>26</th>\n      <td>27</td>\n      <td>101-004-31059296-003</td>\n      <td>31059296</td>\n      <td>26</td>\n      <td>NaN</td>\n      <td>2025-04-07 12:01:50.200012927+00:00</td>\n      <td>ORDER_CANCEL</td>\n      <td>NaN</td>\n      <td>NaN</td>\n      <td>NaN</td>\n      <td>...</td>\n      <td>NaN</td>\n      <td>NaN</td>\n      <td>NaN</td>\n      <td>NaN</td>\n      <td>NaN</td>\n      <td>NaN</td>\n      <td>NaN</td>\n      <td>23</td>\n      <td>26</td>\n      <td>NaN</td>\n    </tr>\n  </tbody>\n</table>\n<p>27 rows × 55 columns</p>\n</div>"
          },
          "metadata": {}
        }
      ],
      "outputs_reference": null,
      "content_dependencies": null
    },
    {
      "cell_type": "code",
      "metadata": {
        "source_hash": "e7ccf984",
        "execution_start": 1744027810785,
        "execution_millis": 97,
        "deepnote_table_state": {
          "sortBy": [],
          "filters": [],
          "pageSize": 10,
          "pageIndex": 98,
          "columnOrder": [
            "id",
            "accountID",
            "userID",
            "batchID",
            "requestID",
            "time",
            "type",
            "divisionID",
            "siteID",
            "accountUserID",
            "accountNumber",
            "homeCurrency",
            "marginRate",
            "alias",
            "accountBalance",
            "amount",
            "fundingReason",
            "instrument",
            "units",
            "timeInForce",
            "positionFill",
            "takeProfitOnFill",
            "stopLossOnFill",
            "reason",
            "orderID",
            "requestedUnits",
            "price",
            "pl",
            "quotePL",
            "financing",
            "baseFinancing",
            "commission",
            "gainQuoteHomeConversionFactor",
            "lossQuoteHomeConversionFactor",
            "guaranteedExecutionFee",
            "quoteGuaranteedExecutionFee",
            "halfSpreadCost",
            "fullVWAP",
            "tradeOpened",
            "fullPrice",
            "homeConversionFactors",
            "plHomeConversionCost",
            "baseFinancingHomeConversionCost",
            "guaranteedExecutionFeeHomeConversionCost",
            "homeConversionCost",
            "tradeID",
            "triggerCondition",
            "triggerMode",
            "replacedByOrderID",
            "replacesOrderID",
            "cancellingTransactionID",
            "tradesClosed",
            "closedTradeID",
            "tradeCloseTransactionID",
            "partialFill",
            "rejectReason",
            "gtdTime",
            "guaranteedStopLossOnFill",
            "guaranteedExecutionPremium",
            "longPositionCloseout",
            "positionFinancings",
            "baseHomeConversionCost",
            "tradeReduced",
            "distance",
            "trailingStopLossOnFill"
          ],
          "hiddenColumnIds": [],
          "columnDisplayNames": [],
          "conditionalFilters": [],
          "cellFormattingRules": [],
          "wrappedTextColumnIds": []
        },
        "execution_context_id": "1b2ca2f9-843a-44eb-8ffb-80fd8105676c",
        "deepnote_table_loading": false,
        "cell_id": "ff4993be92434f439bbd56a1148913fd",
        "deepnote_cell_type": "code"
      },
      "source": "all_transactions = pd.DataFrame(trades['transactions'])\nall_transactions['time'] = pd.to_datetime(all_transactions['time'])\nall_transactions",
      "block_group": "30b944d6ed164acdac82227c02d89c94",
      "execution_count": 15,
      "outputs": [
        {
          "output_type": "execute_result",
          "execution_count": 15,
          "data": {
            "application/vnd.deepnote.dataframe.v3+json": {
              "column_count": 43,
              "row_count": 108,
              "columns": [
                {
                  "name": "id",
                  "dtype": "object",
                  "stats": {
                    "unique_count": 108,
                    "nan_count": 0,
                    "categories": [
                      {
                        "name": "901",
                        "count": 1
                      },
                      {
                        "name": "902",
                        "count": 1
                      },
                      {
                        "name": "106 others",
                        "count": 106
                      }
                    ]
                  }
                },
                {
                  "name": "accountID",
                  "dtype": "object",
                  "stats": {
                    "unique_count": 1,
                    "nan_count": 0,
                    "categories": [
                      {
                        "name": "101-004-31059296-001",
                        "count": 108
                      }
                    ]
                  }
                },
                {
                  "name": "userID",
                  "dtype": "int64",
                  "stats": {
                    "unique_count": 1,
                    "nan_count": 0,
                    "min": "31059296",
                    "max": "31059296",
                    "histogram": [
                      {
                        "bin_start": 31059295.5,
                        "bin_end": 31059295.6,
                        "count": 0
                      },
                      {
                        "bin_start": 31059295.6,
                        "bin_end": 31059295.7,
                        "count": 0
                      },
                      {
                        "bin_start": 31059295.7,
                        "bin_end": 31059295.8,
                        "count": 0
                      },
                      {
                        "bin_start": 31059295.8,
                        "bin_end": 31059295.9,
                        "count": 0
                      },
                      {
                        "bin_start": 31059295.9,
                        "bin_end": 31059296,
                        "count": 0
                      },
                      {
                        "bin_start": 31059296,
                        "bin_end": 31059296.1,
                        "count": 108
                      },
                      {
                        "bin_start": 31059296.1,
                        "bin_end": 31059296.2,
                        "count": 0
                      },
                      {
                        "bin_start": 31059296.2,
                        "bin_end": 31059296.3,
                        "count": 0
                      },
                      {
                        "bin_start": 31059296.3,
                        "bin_end": 31059296.4,
                        "count": 0
                      },
                      {
                        "bin_start": 31059296.4,
                        "bin_end": 31059296.5,
                        "count": 0
                      }
                    ]
                  }
                },
                {
                  "name": "batchID",
                  "dtype": "object",
                  "stats": {
                    "unique_count": 39,
                    "nan_count": 0,
                    "categories": [
                      {
                        "name": "901",
                        "count": 4
                      },
                      {
                        "name": "907",
                        "count": 4
                      },
                      {
                        "name": "37 others",
                        "count": 100
                      }
                    ]
                  }
                },
                {
                  "name": "requestID",
                  "dtype": "object",
                  "stats": {
                    "unique_count": 24,
                    "nan_count": 30,
                    "categories": [
                      {
                        "name": "97385412787380355",
                        "count": 4
                      },
                      {
                        "name": "23 others",
                        "count": 74
                      },
                      {
                        "name": "Missing",
                        "count": 30
                      }
                    ]
                  }
                },
                {
                  "name": "time",
                  "dtype": "datetime64[ns, UTC]",
                  "stats": {
                    "unique_count": 39,
                    "nan_count": 0,
                    "min": "2025-04-03 04:41:01.361067110+00:00",
                    "max": "2025-04-07 12:02:00.050398560+00:00",
                    "histogram": [
                      {
                        "bin_start": 1743655261361067000,
                        "bin_end": 1743692467230000000,
                        "count": 12
                      },
                      {
                        "bin_start": 1743692467230000000,
                        "bin_end": 1743729673098933200,
                        "count": 24
                      },
                      {
                        "bin_start": 1743729673098933200,
                        "bin_end": 1743766878967866400,
                        "count": 6
                      },
                      {
                        "bin_start": 1743766878967866400,
                        "bin_end": 1743804084836799500,
                        "count": 28
                      },
                      {
                        "bin_start": 1743804084836799500,
                        "bin_end": 1743841290705732600,
                        "count": 0
                      },
                      {
                        "bin_start": 1743841290705732600,
                        "bin_end": 1743878496574666000,
                        "count": 0
                      },
                      {
                        "bin_start": 1743878496574666000,
                        "bin_end": 1743915702443599000,
                        "count": 8
                      },
                      {
                        "bin_start": 1743915702443599000,
                        "bin_end": 1743952908312532200,
                        "count": 0
                      },
                      {
                        "bin_start": 1743952908312532200,
                        "bin_end": 1743990114181465300,
                        "count": 0
                      },
                      {
                        "bin_start": 1743990114181465300,
                        "bin_end": 1744027320050398500,
                        "count": 30
                      }
                    ]
                  }
                },
                {
                  "name": "type",
                  "dtype": "object",
                  "stats": {
                    "unique_count": 5,
                    "nan_count": 0,
                    "categories": [
                      {
                        "name": "ORDER_FILL",
                        "count": 30
                      },
                      {
                        "name": "MARKET_ORDER",
                        "count": 24
                      },
                      {
                        "name": "3 others",
                        "count": 54
                      }
                    ]
                  }
                },
                {
                  "name": "instrument",
                  "dtype": "object",
                  "stats": {
                    "unique_count": 1,
                    "nan_count": 54,
                    "categories": [
                      {
                        "name": "EUR_USD",
                        "count": 54
                      },
                      {
                        "name": "Missing",
                        "count": 54
                      }
                    ]
                  }
                },
                {
                  "name": "units",
                  "dtype": "object",
                  "stats": {
                    "unique_count": 4,
                    "nan_count": 54,
                    "categories": [
                      {
                        "name": "-1000000",
                        "count": 31
                      },
                      {
                        "name": "3 others",
                        "count": 23
                      },
                      {
                        "name": "Missing",
                        "count": 54
                      }
                    ]
                  }
                },
                {
                  "name": "timeInForce",
                  "dtype": "object",
                  "stats": {
                    "unique_count": 2,
                    "nan_count": 54,
                    "categories": [
                      {
                        "name": "GTC",
                        "count": 30
                      },
                      {
                        "name": "FOK",
                        "count": 24
                      },
                      {
                        "name": "Missing",
                        "count": 54
                      }
                    ]
                  }
                },
                {
                  "name": "positionFill",
                  "dtype": "object",
                  "stats": {
                    "unique_count": 1,
                    "nan_count": 84,
                    "categories": [
                      {
                        "name": "DEFAULT",
                        "count": 24
                      },
                      {
                        "name": "Missing",
                        "count": 84
                      }
                    ]
                  }
                },
                {
                  "name": "takeProfitOnFill",
                  "dtype": "object",
                  "stats": {
                    "unique_count": 108,
                    "nan_count": 84,
                    "categories": [
                      {
                        "name": "{'price': '1.09468', 'timeInForce': 'GTC'}",
                        "count": 10
                      },
                      {
                        "name": "14 others",
                        "count": 14
                      },
                      {
                        "name": "Missing",
                        "count": 84
                      }
                    ]
                  }
                },
                {
                  "name": "trailingStopLossOnFill",
                  "dtype": "object",
                  "stats": {
                    "unique_count": 108,
                    "nan_count": 84,
                    "categories": [
                      {
                        "name": "{'distance': '0.00055', 'timeInForce': 'GTC', 'triggerMode': 'TOP_OF_BOOK'}",
                        "count": 19
                      },
                      {
                        "name": "{'distance': '0.00050', 'timeInForce': 'GTC', 'triggerMode': 'TOP_OF_BOOK'}",
                        "count": 5
                      },
                      {
                        "name": "Missing",
                        "count": 84
                      }
                    ]
                  }
                },
                {
                  "name": "reason",
                  "dtype": "object",
                  "stats": {
                    "unique_count": 7,
                    "nan_count": 0,
                    "categories": [
                      {
                        "name": "ON_FILL",
                        "count": 30
                      },
                      {
                        "name": "CLIENT_ORDER",
                        "count": 24
                      },
                      {
                        "name": "5 others",
                        "count": 54
                      }
                    ]
                  }
                },
                {
                  "name": "orderID",
                  "dtype": "object",
                  "stats": {
                    "unique_count": 54,
                    "nan_count": 54,
                    "categories": [
                      {
                        "name": "901",
                        "count": 1
                      },
                      {
                        "name": "53 others",
                        "count": 53
                      },
                      {
                        "name": "Missing",
                        "count": 54
                      }
                    ]
                  }
                },
                {
                  "name": "requestedUnits",
                  "dtype": "object",
                  "stats": {
                    "unique_count": 4,
                    "nan_count": 78,
                    "categories": [
                      {
                        "name": "-1000000",
                        "count": 14
                      },
                      {
                        "name": "3 others",
                        "count": 16
                      },
                      {
                        "name": "Missing",
                        "count": 78
                      }
                    ]
                  }
                },
                {
                  "name": "price",
                  "dtype": "object",
                  "stats": {
                    "unique_count": 44,
                    "nan_count": 63,
                    "categories": [
                      {
                        "name": "1.09538",
                        "count": 2
                      },
                      {
                        "name": "43 others",
                        "count": 43
                      },
                      {
                        "name": "Missing",
                        "count": 63
                      }
                    ]
                  }
                },
                {
                  "name": "pl",
                  "dtype": "object",
                  "stats": {
                    "unique_count": 16,
                    "nan_count": 78,
                    "categories": [
                      {
                        "name": "0.0000",
                        "count": 15
                      },
                      {
                        "name": "15 others",
                        "count": 15
                      },
                      {
                        "name": "Missing",
                        "count": 78
                      }
                    ]
                  }
                },
                {
                  "name": "quotePL",
                  "dtype": "object",
                  "stats": {
                    "unique_count": 15,
                    "nan_count": 78,
                    "categories": [
                      {
                        "name": "0",
                        "count": 15
                      },
                      {
                        "name": "14 others",
                        "count": 15
                      },
                      {
                        "name": "Missing",
                        "count": 78
                      }
                    ]
                  }
                },
                {
                  "name": "financing",
                  "dtype": "object",
                  "stats": {
                    "unique_count": 1,
                    "nan_count": 78,
                    "categories": [
                      {
                        "name": "0.0000",
                        "count": 30
                      },
                      {
                        "name": "Missing",
                        "count": 78
                      }
                    ]
                  }
                },
                {
                  "name": "baseFinancing",
                  "dtype": "object",
                  "stats": {
                    "unique_count": 2,
                    "nan_count": 78,
                    "categories": [
                      {
                        "name": "0",
                        "count": 15
                      },
                      {
                        "name": "0.00000000000000",
                        "count": 15
                      },
                      {
                        "name": "Missing",
                        "count": 78
                      }
                    ]
                  }
                },
                {
                  "name": "commission",
                  "dtype": "object",
                  "stats": {
                    "unique_count": 1,
                    "nan_count": 78,
                    "categories": [
                      {
                        "name": "0.0000",
                        "count": 30
                      },
                      {
                        "name": "Missing",
                        "count": 78
                      }
                    ]
                  }
                },
                {
                  "name": "accountBalance",
                  "dtype": "object",
                  "stats": {
                    "unique_count": 16,
                    "nan_count": 78,
                    "categories": [
                      {
                        "name": "99902.5872",
                        "count": 3
                      },
                      {
                        "name": "15 others",
                        "count": 27
                      },
                      {
                        "name": "Missing",
                        "count": 78
                      }
                    ]
                  }
                },
                {
                  "name": "gainQuoteHomeConversionFactor",
                  "dtype": "object",
                  "stats": {
                    "unique_count": 30,
                    "nan_count": 78,
                    "categories": [
                      {
                        "name": "0.761640862093",
                        "count": 1
                      },
                      {
                        "name": "29 others",
                        "count": 29
                      },
                      {
                        "name": "Missing",
                        "count": 78
                      }
                    ]
                  }
                },
                {
                  "name": "lossQuoteHomeConversionFactor",
                  "dtype": "object",
                  "stats": {
                    "unique_count": 30,
                    "nan_count": 78,
                    "categories": [
                      {
                        "name": "0.769295544124",
                        "count": 1
                      },
                      {
                        "name": "29 others",
                        "count": 29
                      },
                      {
                        "name": "Missing",
                        "count": 78
                      }
                    ]
                  }
                },
                {
                  "name": "guaranteedExecutionFee",
                  "dtype": "object",
                  "stats": {
                    "unique_count": 1,
                    "nan_count": 78,
                    "categories": [
                      {
                        "name": "0.0000",
                        "count": 30
                      },
                      {
                        "name": "Missing",
                        "count": 78
                      }
                    ]
                  }
                },
                {
                  "name": "quoteGuaranteedExecutionFee",
                  "dtype": "object",
                  "stats": {
                    "unique_count": 1,
                    "nan_count": 78,
                    "categories": [
                      {
                        "name": "0",
                        "count": 30
                      },
                      {
                        "name": "Missing",
                        "count": 78
                      }
                    ]
                  }
                },
                {
                  "name": "halfSpreadCost",
                  "dtype": "object",
                  "stats": {
                    "unique_count": 29,
                    "nan_count": 78,
                    "categories": [
                      {
                        "name": "0.0000",
                        "count": 2
                      },
                      {
                        "name": "28 others",
                        "count": 28
                      },
                      {
                        "name": "Missing",
                        "count": 78
                      }
                    ]
                  }
                },
                {
                  "name": "fullVWAP",
                  "dtype": "object",
                  "stats": {
                    "unique_count": 30,
                    "nan_count": 78,
                    "categories": [
                      {
                        "name": "1.09126",
                        "count": 1
                      },
                      {
                        "name": "29 others",
                        "count": 29
                      },
                      {
                        "name": "Missing",
                        "count": 78
                      }
                    ]
                  }
                },
                {
                  "name": "tradeOpened",
                  "dtype": "object",
                  "stats": {
                    "unique_count": 108,
                    "nan_count": 93,
                    "categories": [
                      {
                        "name": "{'price': '1.09126', 'tradeID': '902', 'units': '-1000000', 'guaranteedExecutionFee': '0.0000', 'quoteGuaranteedExecutionFee': '0', 'halfSpreadCost': '26.7914', 'initialMarginRequired': '27844.6667', 'guaranteedExecutionFeeHomeConversionCost': '0.00000000000000'}",
                        "count": 1
                      },
                      {
                        "name": "14 others",
                        "count": 14
                      },
                      {
                        "name": "Missing",
                        "count": 93
                      }
                    ]
                  }
                },
                {
                  "name": "fullPrice",
                  "dtype": "object",
                  "stats": {
                    "unique_count": 108,
                    "nan_count": 78,
                    "categories": [
                      {
                        "name": "{'closeoutBid': '1.09117', 'closeoutAsk': '1.09142', 'timestamp': '2025-04-03T04:40:59.721310023Z', 'bids': [{'price': '1.09126', 'liquidity': '500000'}, {'price': '1.09125', 'liquidity': '2500000'}, {'price': '1.09124', 'liquidity': '2000000'}, {'price': '1.09123', 'liquidity': '5000000'}, {'price': '1.09120', 'liquidity': '10000000'}, {'price': '1.09117', 'liquidity': '10000000'}], 'asks': [{'price': '1.09133', 'liquidity': '500000'}, {'price': '1.09134', 'liquidity': '500000'}, {'price': '1.09135', 'liquidity': '2000000'}, {'price': '1.09136', 'liquidity': '2000000'}, {'price': '1.09137', 'liquidity': '5000000'}, {'price': '1.09139', 'liquidity': '10000000'}, {'price': '1.09142', 'liquidity': '10000000'}]}",
                        "count": 1
                      },
                      {
                        "name": "29 others",
                        "count": 29
                      },
                      {
                        "name": "Missing",
                        "count": 78
                      }
                    ]
                  }
                },
                {
                  "name": "homeConversionFactors",
                  "dtype": "object",
                  "stats": {
                    "unique_count": 108,
                    "nan_count": 78,
                    "categories": [
                      {
                        "name": "{'gainQuoteHome': {'factor': '0.76164086209334'}, 'lossQuoteHome': {'factor': '0.76929554412442'}, 'gainBaseHome': {'factor': '0.83116330'}, 'lossBaseHome': {'factor': '0.83951670'}}",
                        "count": 1
                      },
                      {
                        "name": "29 others",
                        "count": 29
                      },
                      {
                        "name": "Missing",
                        "count": 78
                      }
                    ]
                  }
                },
                {
                  "name": "plHomeConversionCost",
                  "dtype": "object",
                  "stats": {
                    "unique_count": 16,
                    "nan_count": 78,
                    "categories": [
                      {
                        "name": "0.00000000000000",
                        "count": 15
                      },
                      {
                        "name": "15 others",
                        "count": 15
                      },
                      {
                        "name": "Missing",
                        "count": 78
                      }
                    ]
                  }
                },
                {
                  "name": "baseFinancingHomeConversionCost",
                  "dtype": "object",
                  "stats": {
                    "unique_count": 2,
                    "nan_count": 78,
                    "categories": [
                      {
                        "name": "0.00000000",
                        "count": 15
                      },
                      {
                        "name": "0.00000000000000",
                        "count": 15
                      },
                      {
                        "name": "Missing",
                        "count": 78
                      }
                    ]
                  }
                },
                {
                  "name": "guaranteedExecutionFeeHomeConversionCost",
                  "dtype": "object",
                  "stats": {
                    "unique_count": 1,
                    "nan_count": 78,
                    "categories": [
                      {
                        "name": "0.00000000000000",
                        "count": 30
                      },
                      {
                        "name": "Missing",
                        "count": 78
                      }
                    ]
                  }
                },
                {
                  "name": "homeConversionCost",
                  "dtype": "object",
                  "stats": {
                    "unique_count": 16,
                    "nan_count": 78,
                    "categories": [
                      {
                        "name": "0.00000000000000",
                        "count": 15
                      },
                      {
                        "name": "15 others",
                        "count": 15
                      },
                      {
                        "name": "Missing",
                        "count": 78
                      }
                    ]
                  }
                },
                {
                  "name": "tradeID",
                  "dtype": "object",
                  "stats": {
                    "unique_count": 15,
                    "nan_count": 78,
                    "categories": [
                      {
                        "name": "902",
                        "count": 2
                      },
                      {
                        "name": "14 others",
                        "count": 28
                      },
                      {
                        "name": "Missing",
                        "count": 78
                      }
                    ]
                  }
                },
                {
                  "name": "triggerCondition",
                  "dtype": "object",
                  "stats": {
                    "unique_count": 1,
                    "nan_count": 78,
                    "categories": [
                      {
                        "name": "DEFAULT",
                        "count": 30
                      },
                      {
                        "name": "Missing",
                        "count": 78
                      }
                    ]
                  }
                },
                {
                  "name": "triggerMode",
                  "dtype": "object",
                  "stats": {
                    "unique_count": 1,
                    "nan_count": 93,
                    "categories": [
                      {
                        "name": "TOP_OF_BOOK",
                        "count": 15
                      },
                      {
                        "name": "Missing",
                        "count": 93
                      }
                    ]
                  }
                },
                {
                  "name": "distance",
                  "dtype": "object",
                  "stats": {
                    "unique_count": 2,
                    "nan_count": 93,
                    "categories": [
                      {
                        "name": "0.00055",
                        "count": 10
                      },
                      {
                        "name": "0.00050",
                        "count": 5
                      },
                      {
                        "name": "Missing",
                        "count": 93
                      }
                    ]
                  }
                },
                {
                  "name": "tradesClosed",
                  "dtype": "object",
                  "stats": {
                    "unique_count": 108,
                    "nan_count": 93,
                    "categories": [
                      {
                        "name": "[{'tradeID': '902', 'units': '1000000', 'realizedPL': '45.7000', 'financing': '0.0000', 'baseFinancing': '0.00000000000000', 'price': '1.09120', 'guaranteedExecutionFee': '0.0000', 'quoteGuaranteedExecutionFee': '0', 'halfSpreadCost': '38.2747', 'plHomeConversionCost': '-0.22595668535940', 'baseFinancingHomeConversionCost': '0.00000000000000', 'guaranteedExecutionFeeHomeConversionCost': '0.00000000000000', 'homeConversionCost': '-0.22595668535940'}]",
                        "count": 1
                      },
                      {
                        "name": "14 others",
                        "count": 14
                      },
                      {
                        "name": "Missing",
                        "count": 93
                      }
                    ]
                  }
                },
                {
                  "name": "closedTradeID",
                  "dtype": "object",
                  "stats": {
                    "unique_count": 15,
                    "nan_count": 93,
                    "categories": [
                      {
                        "name": "902",
                        "count": 1
                      },
                      {
                        "name": "14 others",
                        "count": 14
                      },
                      {
                        "name": "Missing",
                        "count": 93
                      }
                    ]
                  }
                },
                {
                  "name": "tradeCloseTransactionID",
                  "dtype": "object",
                  "stats": {
                    "unique_count": 15,
                    "nan_count": 93,
                    "categories": [
                      {
                        "name": "905",
                        "count": 1
                      },
                      {
                        "name": "14 others",
                        "count": 14
                      },
                      {
                        "name": "Missing",
                        "count": 93
                      }
                    ]
                  }
                },
                {
                  "name": "_deepnote_index_column",
                  "dtype": "int64"
                }
              ],
              "rows": [
                {
                  "id": "1001",
                  "accountID": "101-004-31059296-001",
                  "userID": 31059296,
                  "batchID": "1001",
                  "requestID": "nan",
                  "time": "2025-04-07 11:48:42.111587965+00:00",
                  "type": "ORDER_FILL",
                  "instrument": "EUR_USD",
                  "units": "1000000",
                  "timeInForce": "nan",
                  "positionFill": "nan",
                  "takeProfitOnFill": "nan",
                  "trailingStopLossOnFill": "nan",
                  "reason": "TRAILING_STOP_LOSS_ORDER",
                  "orderID": "1000",
                  "requestedUnits": "1000000",
                  "price": "1.09512",
                  "pl": "-407.9832",
                  "quotePL": "-520.00000",
                  "financing": "0.0000",
                  "baseFinancing": "0.00000000000000",
                  "commission": "0.0000",
                  "accountBalance": "101001.7221",
                  "gainQuoteHomeConversionFactor": "0.776776342579",
                  "lossQuoteHomeConversionFactor": "0.784583139992",
                  "guaranteedExecutionFee": "0.0000",
                  "quoteGuaranteedExecutionFee": "0",
                  "halfSpreadCost": "42.9374",
                  "fullVWAP": "1.09512",
                  "tradeOpened": "nan",
                  "fullPrice": "{'closeoutBid': '1.09493', 'closeoutAsk': '1.09520', 'timestamp': '2025-04-07T11:48:42.111587965Z', 'bids': [{'price': '1.09502', 'liquidity': '500000'}, {'price': '1.09501', 'liquidity': '2500000'}, {'price': '1.09500', 'liquidity': '2000000'}, {'price': '1.09499', 'liquidity': '5000000'}, {'price': '1.09496', 'liquidity': '10000000'}, {'price': '1.09493', 'liquidity': '10000000'}], 'asks': [{'price': '1.09511', 'liquidity': '500000'}, {'price': '1.09512', 'liquidity': '500000'}, {'price': '1.09513', 'liquidity': '2000000'}, {'price': '1.09514', 'liquidity': '2000000'}, {'price': '1.09515', 'liquidity': '5000000'}, {'price': '1.09517', 'liquidity': '10000000'}, {'price': '1.09520', 'liquidity': '10000000'}]}",
                  "homeConversionFactors": "{'gainQuoteHome': {'factor': '0.77677634257892'}, 'lossQuoteHome': {'factor': '0.78458313999178'}, 'gainBaseHome': {'factor': '0.85059565'}, 'lossBaseHome': {'factor': '0.85914435'}}",
                  "plHomeConversionCost": "-2.00282915751880",
                  "baseFinancingHomeConversionCost": "0.00000000000000",
                  "guaranteedExecutionFeeHomeConversionCost": "0.00000000000000",
                  "homeConversionCost": "-2.00282915751880",
                  "tradeID": "nan",
                  "triggerCondition": "nan",
                  "triggerMode": "nan",
                  "distance": "nan",
                  "tradesClosed": "[{'tradeID': '998', 'units': '1000000', 'realizedPL': '-407.9832', 'financing': '0.0000', 'baseFinancing': '0.00000000000000', 'price': '1.09512', 'guaranteedExecutionFee': '0.0000', 'quoteGuaranteedExecutionFee': '0', 'halfSpreadCost': '42.9374', 'plHomeConversionCost': '-2.00282915751880', 'baseFinancingHomeConversionCost': '0.00000000000000', 'guaranteedExecutionFeeHomeConversionCost': '0.00000000000000', 'homeConversionCost': '-2.00282915751880'}]",
                  "closedTradeID": "nan",
                  "tradeCloseTransactionID": "nan",
                  "_deepnote_index_column": 100
                },
                {
                  "id": "1002",
                  "accountID": "101-004-31059296-001",
                  "userID": 31059296,
                  "batchID": "1001",
                  "requestID": "nan",
                  "time": "2025-04-07 11:48:42.111587965+00:00",
                  "type": "ORDER_CANCEL",
                  "instrument": "nan",
                  "units": "nan",
                  "timeInForce": "nan",
                  "positionFill": "nan",
                  "takeProfitOnFill": "nan",
                  "trailingStopLossOnFill": "nan",
                  "reason": "LINKED_TRADE_CLOSED",
                  "orderID": "999",
                  "requestedUnits": "nan",
                  "price": "nan",
                  "pl": "nan",
                  "quotePL": "nan",
                  "financing": "nan",
                  "baseFinancing": "nan",
                  "commission": "nan",
                  "accountBalance": "nan",
                  "gainQuoteHomeConversionFactor": "nan",
                  "lossQuoteHomeConversionFactor": "nan",
                  "guaranteedExecutionFee": "nan",
                  "quoteGuaranteedExecutionFee": "nan",
                  "halfSpreadCost": "nan",
                  "fullVWAP": "nan",
                  "tradeOpened": "nan",
                  "fullPrice": "nan",
                  "homeConversionFactors": "nan",
                  "plHomeConversionCost": "nan",
                  "baseFinancingHomeConversionCost": "nan",
                  "guaranteedExecutionFeeHomeConversionCost": "nan",
                  "homeConversionCost": "nan",
                  "tradeID": "nan",
                  "triggerCondition": "nan",
                  "triggerMode": "nan",
                  "distance": "nan",
                  "tradesClosed": "nan",
                  "closedTradeID": "998",
                  "tradeCloseTransactionID": "1001",
                  "_deepnote_index_column": 101
                },
                {
                  "id": "1003",
                  "accountID": "101-004-31059296-001",
                  "userID": 31059296,
                  "batchID": "1003",
                  "requestID": "61358176051763718",
                  "time": "2025-04-07 12:01:02.825442962+00:00",
                  "type": "MARKET_ORDER",
                  "instrument": "EUR_USD",
                  "units": "1000000",
                  "timeInForce": "FOK",
                  "positionFill": "DEFAULT",
                  "takeProfitOnFill": "{'price': '1.09861', 'timeInForce': 'GTC'}",
                  "trailingStopLossOnFill": "{'distance': '0.00050', 'timeInForce': 'GTC', 'triggerMode': 'TOP_OF_BOOK'}",
                  "reason": "CLIENT_ORDER",
                  "orderID": "nan",
                  "requestedUnits": "nan",
                  "price": "nan",
                  "pl": "nan",
                  "quotePL": "nan",
                  "financing": "nan",
                  "baseFinancing": "nan",
                  "commission": "nan",
                  "accountBalance": "nan",
                  "gainQuoteHomeConversionFactor": "nan",
                  "lossQuoteHomeConversionFactor": "nan",
                  "guaranteedExecutionFee": "nan",
                  "quoteGuaranteedExecutionFee": "nan",
                  "halfSpreadCost": "nan",
                  "fullVWAP": "nan",
                  "tradeOpened": "nan",
                  "fullPrice": "nan",
                  "homeConversionFactors": "nan",
                  "plHomeConversionCost": "nan",
                  "baseFinancingHomeConversionCost": "nan",
                  "guaranteedExecutionFeeHomeConversionCost": "nan",
                  "homeConversionCost": "nan",
                  "tradeID": "nan",
                  "triggerCondition": "nan",
                  "triggerMode": "nan",
                  "distance": "nan",
                  "tradesClosed": "nan",
                  "closedTradeID": "nan",
                  "tradeCloseTransactionID": "nan",
                  "_deepnote_index_column": 102
                },
                {
                  "id": "1004",
                  "accountID": "101-004-31059296-001",
                  "userID": 31059296,
                  "batchID": "1003",
                  "requestID": "61358176051763718",
                  "time": "2025-04-07 12:01:02.825442962+00:00",
                  "type": "ORDER_FILL",
                  "instrument": "EUR_USD",
                  "units": "1000000",
                  "timeInForce": "nan",
                  "positionFill": "nan",
                  "takeProfitOnFill": "nan",
                  "trailingStopLossOnFill": "nan",
                  "reason": "MARKET_ORDER",
                  "orderID": "1003",
                  "requestedUnits": "1000000",
                  "price": "1.09672",
                  "pl": "0.0000",
                  "quotePL": "0",
                  "financing": "0.0000",
                  "baseFinancing": "0",
                  "commission": "0.0000",
                  "accountBalance": "101001.7221",
                  "gainQuoteHomeConversionFactor": "0.775825439635",
                  "lossQuoteHomeConversionFactor": "0.783622680235",
                  "guaranteedExecutionFee": "0.0000",
                  "quoteGuaranteedExecutionFee": "0",
                  "halfSpreadCost": "35.0876",
                  "fullVWAP": "1.09672",
                  "tradeOpened": "{'price': '1.09672', 'tradeID': '1004', 'units': '1000000', 'guaranteedExecutionFee': '0.0000', 'quoteGuaranteedExecutionFee': '0', 'halfSpreadCost': '35.0876', 'initialMarginRequired': '28504.3333', 'guaranteedExecutionFeeHomeConversionCost': '0.00000000000000'}",
                  "fullPrice": "{'closeoutBid': '1.09654', 'closeoutAsk': '1.09681', 'timestamp': '2025-04-07T12:01:02.773765908Z', 'bids': [{'price': '1.09663', 'liquidity': '500000'}, {'price': '1.09662', 'liquidity': '2500000'}, {'price': '1.09661', 'liquidity': '2000000'}, {'price': '1.09660', 'liquidity': '5000000'}, {'price': '1.09657', 'liquidity': '10000000'}, {'price': '1.09654', 'liquidity': '10000000'}], 'asks': [{'price': '1.09672', 'liquidity': '500000'}, {'price': '1.09673', 'liquidity': '500000'}, {'price': '1.09674', 'liquidity': '2000000'}, {'price': '1.09675', 'liquidity': '2000000'}, {'price': '1.09676', 'liquidity': '5000000'}, {'price': '1.09678', 'liquidity': '10000000'}, {'price': '1.09681', 'liquidity': '10000000'}]}",
                  "homeConversionFactors": "{'gainQuoteHome': {'factor': '0.77582543963532'}, 'lossQuoteHome': {'factor': '0.78362268023466'}, 'gainBaseHome': {'factor': '0.85085435'}, 'lossBaseHome': {'factor': '0.85940565'}}",
                  "plHomeConversionCost": "0.00000000000000",
                  "baseFinancingHomeConversionCost": "0.00000000",
                  "guaranteedExecutionFeeHomeConversionCost": "0.00000000000000",
                  "homeConversionCost": "0.00000000000000",
                  "tradeID": "nan",
                  "triggerCondition": "nan",
                  "triggerMode": "nan",
                  "distance": "nan",
                  "tradesClosed": "nan",
                  "closedTradeID": "nan",
                  "tradeCloseTransactionID": "nan",
                  "_deepnote_index_column": 103
                },
                {
                  "id": "1005",
                  "accountID": "101-004-31059296-001",
                  "userID": 31059296,
                  "batchID": "1003",
                  "requestID": "61358176051763718",
                  "time": "2025-04-07 12:01:02.825442962+00:00",
                  "type": "TAKE_PROFIT_ORDER",
                  "instrument": "nan",
                  "units": "nan",
                  "timeInForce": "GTC",
                  "positionFill": "nan",
                  "takeProfitOnFill": "nan",
                  "trailingStopLossOnFill": "nan",
                  "reason": "ON_FILL",
                  "orderID": "nan",
                  "requestedUnits": "nan",
                  "price": "1.09861",
                  "pl": "nan",
                  "quotePL": "nan",
                  "financing": "nan",
                  "baseFinancing": "nan",
                  "commission": "nan",
                  "accountBalance": "nan",
                  "gainQuoteHomeConversionFactor": "nan",
                  "lossQuoteHomeConversionFactor": "nan",
                  "guaranteedExecutionFee": "nan",
                  "quoteGuaranteedExecutionFee": "nan",
                  "halfSpreadCost": "nan",
                  "fullVWAP": "nan",
                  "tradeOpened": "nan",
                  "fullPrice": "nan",
                  "homeConversionFactors": "nan",
                  "plHomeConversionCost": "nan",
                  "baseFinancingHomeConversionCost": "nan",
                  "guaranteedExecutionFeeHomeConversionCost": "nan",
                  "homeConversionCost": "nan",
                  "tradeID": "1004",
                  "triggerCondition": "DEFAULT",
                  "triggerMode": "nan",
                  "distance": "nan",
                  "tradesClosed": "nan",
                  "closedTradeID": "nan",
                  "tradeCloseTransactionID": "nan",
                  "_deepnote_index_column": 104
                },
                {
                  "id": "1006",
                  "accountID": "101-004-31059296-001",
                  "userID": 31059296,
                  "batchID": "1003",
                  "requestID": "61358176051763718",
                  "time": "2025-04-07 12:01:02.825442962+00:00",
                  "type": "TRAILING_STOP_LOSS_ORDER",
                  "instrument": "nan",
                  "units": "nan",
                  "timeInForce": "GTC",
                  "positionFill": "nan",
                  "takeProfitOnFill": "nan",
                  "trailingStopLossOnFill": "nan",
                  "reason": "ON_FILL",
                  "orderID": "nan",
                  "requestedUnits": "nan",
                  "price": "nan",
                  "pl": "nan",
                  "quotePL": "nan",
                  "financing": "nan",
                  "baseFinancing": "nan",
                  "commission": "nan",
                  "accountBalance": "nan",
                  "gainQuoteHomeConversionFactor": "nan",
                  "lossQuoteHomeConversionFactor": "nan",
                  "guaranteedExecutionFee": "nan",
                  "quoteGuaranteedExecutionFee": "nan",
                  "halfSpreadCost": "nan",
                  "fullVWAP": "nan",
                  "tradeOpened": "nan",
                  "fullPrice": "nan",
                  "homeConversionFactors": "nan",
                  "plHomeConversionCost": "nan",
                  "baseFinancingHomeConversionCost": "nan",
                  "guaranteedExecutionFeeHomeConversionCost": "nan",
                  "homeConversionCost": "nan",
                  "tradeID": "1004",
                  "triggerCondition": "DEFAULT",
                  "triggerMode": "TOP_OF_BOOK",
                  "distance": "0.00050",
                  "tradesClosed": "nan",
                  "closedTradeID": "nan",
                  "tradeCloseTransactionID": "nan",
                  "_deepnote_index_column": 105
                },
                {
                  "id": "1007",
                  "accountID": "101-004-31059296-001",
                  "userID": 31059296,
                  "batchID": "1007",
                  "requestID": "nan",
                  "time": "2025-04-07 12:02:00.050398560+00:00",
                  "type": "ORDER_FILL",
                  "instrument": "EUR_USD",
                  "units": "-1000000",
                  "timeInForce": "nan",
                  "positionFill": "nan",
                  "takeProfitOnFill": "nan",
                  "trailingStopLossOnFill": "nan",
                  "reason": "TRAILING_STOP_LOSS_ORDER",
                  "orderID": "1006",
                  "requestedUnits": "-1000000",
                  "price": "1.09624",
                  "pl": "-376.2885",
                  "quotePL": "-480.00000",
                  "financing": "0.0000",
                  "baseFinancing": "0.00000000000000",
                  "commission": "0.0000",
                  "accountBalance": "100625.4336",
                  "gainQuoteHomeConversionFactor": "0.776134075698",
                  "lossQuoteHomeConversionFactor": "0.783934418167",
                  "guaranteedExecutionFee": "0.0000",
                  "quoteGuaranteedExecutionFee": "0",
                  "halfSpreadCost": "31.2014",
                  "fullVWAP": "1.09624",
                  "tradeOpened": "nan",
                  "fullPrice": "{'closeoutBid': '1.09616', 'closeoutAsk': '1.09640', 'timestamp': '2025-04-07T12:02:00.050398560Z', 'bids': [{'price': '1.09625', 'liquidity': '500000'}, {'price': '1.09624', 'liquidity': '2500000'}, {'price': '1.09623', 'liquidity': '2000000'}, {'price': '1.09622', 'liquidity': '5000000'}, {'price': '1.09619', 'liquidity': '10000000'}, {'price': '1.09616', 'liquidity': '10000000'}], 'asks': [{'price': '1.09631', 'liquidity': '500000'}, {'price': '1.09632', 'liquidity': '500000'}, {'price': '1.09633', 'liquidity': '2000000'}, {'price': '1.09634', 'liquidity': '2000000'}, {'price': '1.09635', 'liquidity': '5000000'}, {'price': '1.09637', 'liquidity': '10000000'}, {'price': '1.09640', 'liquidity': '10000000'}]}",
                  "homeConversionFactors": "{'gainQuoteHome': {'factor': '0.77613407569772'}, 'lossQuoteHome': {'factor': '0.78393441816704'}, 'gainBaseHome': {'factor': '0.85089415'}, 'lossBaseHome': {'factor': '0.85944585'}}",
                  "plHomeConversionCost": "-1.84725729294720",
                  "baseFinancingHomeConversionCost": "0.00000000000000",
                  "guaranteedExecutionFeeHomeConversionCost": "0.00000000000000",
                  "homeConversionCost": "-1.84725729294720",
                  "tradeID": "nan",
                  "triggerCondition": "nan",
                  "triggerMode": "nan",
                  "distance": "nan",
                  "tradesClosed": "[{'tradeID': '1004', 'units': '-1000000', 'realizedPL': '-376.2885', 'financing': '0.0000', 'baseFinancing': '0.00000000000000', 'price': '1.09624', 'guaranteedExecutionFee': '0.0000', 'quoteGuaranteedExecutionFee': '0', 'halfSpreadCost': '31.2014', 'plHomeConversionCost': '-1.84725729294720', 'baseFinancingHomeConversionCost': '0.00000000000000', 'guaranteedExecutionFeeHomeConversionCost': '0.00000000000000', 'homeConversionCost': '-1.84725729294720'}]",
                  "closedTradeID": "nan",
                  "tradeCloseTransactionID": "nan",
                  "_deepnote_index_column": 106
                },
                {
                  "id": "1008",
                  "accountID": "101-004-31059296-001",
                  "userID": 31059296,
                  "batchID": "1007",
                  "requestID": "nan",
                  "time": "2025-04-07 12:02:00.050398560+00:00",
                  "type": "ORDER_CANCEL",
                  "instrument": "nan",
                  "units": "nan",
                  "timeInForce": "nan",
                  "positionFill": "nan",
                  "takeProfitOnFill": "nan",
                  "trailingStopLossOnFill": "nan",
                  "reason": "LINKED_TRADE_CLOSED",
                  "orderID": "1005",
                  "requestedUnits": "nan",
                  "price": "nan",
                  "pl": "nan",
                  "quotePL": "nan",
                  "financing": "nan",
                  "baseFinancing": "nan",
                  "commission": "nan",
                  "accountBalance": "nan",
                  "gainQuoteHomeConversionFactor": "nan",
                  "lossQuoteHomeConversionFactor": "nan",
                  "guaranteedExecutionFee": "nan",
                  "quoteGuaranteedExecutionFee": "nan",
                  "halfSpreadCost": "nan",
                  "fullVWAP": "nan",
                  "tradeOpened": "nan",
                  "fullPrice": "nan",
                  "homeConversionFactors": "nan",
                  "plHomeConversionCost": "nan",
                  "baseFinancingHomeConversionCost": "nan",
                  "guaranteedExecutionFeeHomeConversionCost": "nan",
                  "homeConversionCost": "nan",
                  "tradeID": "nan",
                  "triggerCondition": "nan",
                  "triggerMode": "nan",
                  "distance": "nan",
                  "tradesClosed": "nan",
                  "closedTradeID": "1004",
                  "tradeCloseTransactionID": "1007",
                  "_deepnote_index_column": 107
                }
              ],
              "type": "dataframe"
            },
            "text/plain": "       id             accountID    userID batchID          requestID  \\\n0     901  101-004-31059296-001  31059296     901  97385412787380355   \n1     902  101-004-31059296-001  31059296     901  97385412787380355   \n2     903  101-004-31059296-001  31059296     901  97385412787380355   \n3     904  101-004-31059296-001  31059296     901  97385412787380355   \n4     905  101-004-31059296-001  31059296     905                NaN   \n..    ...                   ...       ...     ...                ...   \n103  1004  101-004-31059296-001  31059296    1003  61358176051763718   \n104  1005  101-004-31059296-001  31059296    1003  61358176051763718   \n105  1006  101-004-31059296-001  31059296    1003  61358176051763718   \n106  1007  101-004-31059296-001  31059296    1007                NaN   \n107  1008  101-004-31059296-001  31059296    1007                NaN   \n\n                                   time                      type instrument  \\\n0   2025-04-03 04:41:01.361067110+00:00              MARKET_ORDER    EUR_USD   \n1   2025-04-03 04:41:01.361067110+00:00                ORDER_FILL    EUR_USD   \n2   2025-04-03 04:41:01.361067110+00:00         TAKE_PROFIT_ORDER        NaN   \n3   2025-04-03 04:41:01.361067110+00:00  TRAILING_STOP_LOSS_ORDER        NaN   \n4   2025-04-03 05:05:43.489654690+00:00                ORDER_FILL    EUR_USD   \n..                                  ...                       ...        ...   \n103 2025-04-07 12:01:02.825442962+00:00                ORDER_FILL    EUR_USD   \n104 2025-04-07 12:01:02.825442962+00:00         TAKE_PROFIT_ORDER        NaN   \n105 2025-04-07 12:01:02.825442962+00:00  TRAILING_STOP_LOSS_ORDER        NaN   \n106 2025-04-07 12:02:00.050398560+00:00                ORDER_FILL    EUR_USD   \n107 2025-04-07 12:02:00.050398560+00:00              ORDER_CANCEL        NaN   \n\n        units timeInForce  ... baseFinancingHomeConversionCost  \\\n0    -1000000         FOK  ...                             NaN   \n1    -1000000         NaN  ...                      0.00000000   \n2         NaN         GTC  ...                             NaN   \n3         NaN         GTC  ...                             NaN   \n4     1000000         NaN  ...                0.00000000000000   \n..        ...         ...  ...                             ...   \n103   1000000         NaN  ...                      0.00000000   \n104       NaN         GTC  ...                             NaN   \n105       NaN         GTC  ...                             NaN   \n106  -1000000         NaN  ...                0.00000000000000   \n107       NaN         NaN  ...                             NaN   \n\n    guaranteedExecutionFeeHomeConversionCost homeConversionCost tradeID  \\\n0                                        NaN                NaN     NaN   \n1                           0.00000000000000   0.00000000000000     NaN   \n2                                        NaN                NaN     902   \n3                                        NaN                NaN     902   \n4                           0.00000000000000  -0.22595668535940     NaN   \n..                                       ...                ...     ...   \n103                         0.00000000000000   0.00000000000000     NaN   \n104                                      NaN                NaN    1004   \n105                                      NaN                NaN    1004   \n106                         0.00000000000000  -1.84725729294720     NaN   \n107                                      NaN                NaN     NaN   \n\n    triggerCondition  triggerMode distance  \\\n0                NaN          NaN      NaN   \n1                NaN          NaN      NaN   \n2            DEFAULT          NaN      NaN   \n3            DEFAULT  TOP_OF_BOOK  0.00055   \n4                NaN          NaN      NaN   \n..               ...          ...      ...   \n103              NaN          NaN      NaN   \n104          DEFAULT          NaN      NaN   \n105          DEFAULT  TOP_OF_BOOK  0.00050   \n106              NaN          NaN      NaN   \n107              NaN          NaN      NaN   \n\n                                          tradesClosed closedTradeID  \\\n0                                                  NaN           NaN   \n1                                                  NaN           NaN   \n2                                                  NaN           NaN   \n3                                                  NaN           NaN   \n4    [{'tradeID': '902', 'units': '1000000', 'reali...           NaN   \n..                                                 ...           ...   \n103                                                NaN           NaN   \n104                                                NaN           NaN   \n105                                                NaN           NaN   \n106  [{'tradeID': '1004', 'units': '-1000000', 'rea...           NaN   \n107                                                NaN          1004   \n\n    tradeCloseTransactionID  \n0                       NaN  \n1                       NaN  \n2                       NaN  \n3                       NaN  \n4                       NaN  \n..                      ...  \n103                     NaN  \n104                     NaN  \n105                     NaN  \n106                     NaN  \n107                    1007  \n\n[108 rows x 43 columns]",
            "text/html": "<div>\n<style scoped>\n    .dataframe tbody tr th:only-of-type {\n        vertical-align: middle;\n    }\n\n    .dataframe tbody tr th {\n        vertical-align: top;\n    }\n\n    .dataframe thead th {\n        text-align: right;\n    }\n</style>\n<table border=\"1\" class=\"dataframe\">\n  <thead>\n    <tr style=\"text-align: right;\">\n      <th></th>\n      <th>id</th>\n      <th>accountID</th>\n      <th>userID</th>\n      <th>batchID</th>\n      <th>requestID</th>\n      <th>time</th>\n      <th>type</th>\n      <th>instrument</th>\n      <th>units</th>\n      <th>timeInForce</th>\n      <th>...</th>\n      <th>baseFinancingHomeConversionCost</th>\n      <th>guaranteedExecutionFeeHomeConversionCost</th>\n      <th>homeConversionCost</th>\n      <th>tradeID</th>\n      <th>triggerCondition</th>\n      <th>triggerMode</th>\n      <th>distance</th>\n      <th>tradesClosed</th>\n      <th>closedTradeID</th>\n      <th>tradeCloseTransactionID</th>\n    </tr>\n  </thead>\n  <tbody>\n    <tr>\n      <th>0</th>\n      <td>901</td>\n      <td>101-004-31059296-001</td>\n      <td>31059296</td>\n      <td>901</td>\n      <td>97385412787380355</td>\n      <td>2025-04-03 04:41:01.361067110+00:00</td>\n      <td>MARKET_ORDER</td>\n      <td>EUR_USD</td>\n      <td>-1000000</td>\n      <td>FOK</td>\n      <td>...</td>\n      <td>NaN</td>\n      <td>NaN</td>\n      <td>NaN</td>\n      <td>NaN</td>\n      <td>NaN</td>\n      <td>NaN</td>\n      <td>NaN</td>\n      <td>NaN</td>\n      <td>NaN</td>\n      <td>NaN</td>\n    </tr>\n    <tr>\n      <th>1</th>\n      <td>902</td>\n      <td>101-004-31059296-001</td>\n      <td>31059296</td>\n      <td>901</td>\n      <td>97385412787380355</td>\n      <td>2025-04-03 04:41:01.361067110+00:00</td>\n      <td>ORDER_FILL</td>\n      <td>EUR_USD</td>\n      <td>-1000000</td>\n      <td>NaN</td>\n      <td>...</td>\n      <td>0.00000000</td>\n      <td>0.00000000000000</td>\n      <td>0.00000000000000</td>\n      <td>NaN</td>\n      <td>NaN</td>\n      <td>NaN</td>\n      <td>NaN</td>\n      <td>NaN</td>\n      <td>NaN</td>\n      <td>NaN</td>\n    </tr>\n    <tr>\n      <th>2</th>\n      <td>903</td>\n      <td>101-004-31059296-001</td>\n      <td>31059296</td>\n      <td>901</td>\n      <td>97385412787380355</td>\n      <td>2025-04-03 04:41:01.361067110+00:00</td>\n      <td>TAKE_PROFIT_ORDER</td>\n      <td>NaN</td>\n      <td>NaN</td>\n      <td>GTC</td>\n      <td>...</td>\n      <td>NaN</td>\n      <td>NaN</td>\n      <td>NaN</td>\n      <td>902</td>\n      <td>DEFAULT</td>\n      <td>NaN</td>\n      <td>NaN</td>\n      <td>NaN</td>\n      <td>NaN</td>\n      <td>NaN</td>\n    </tr>\n    <tr>\n      <th>3</th>\n      <td>904</td>\n      <td>101-004-31059296-001</td>\n      <td>31059296</td>\n      <td>901</td>\n      <td>97385412787380355</td>\n      <td>2025-04-03 04:41:01.361067110+00:00</td>\n      <td>TRAILING_STOP_LOSS_ORDER</td>\n      <td>NaN</td>\n      <td>NaN</td>\n      <td>GTC</td>\n      <td>...</td>\n      <td>NaN</td>\n      <td>NaN</td>\n      <td>NaN</td>\n      <td>902</td>\n      <td>DEFAULT</td>\n      <td>TOP_OF_BOOK</td>\n      <td>0.00055</td>\n      <td>NaN</td>\n      <td>NaN</td>\n      <td>NaN</td>\n    </tr>\n    <tr>\n      <th>4</th>\n      <td>905</td>\n      <td>101-004-31059296-001</td>\n      <td>31059296</td>\n      <td>905</td>\n      <td>NaN</td>\n      <td>2025-04-03 05:05:43.489654690+00:00</td>\n      <td>ORDER_FILL</td>\n      <td>EUR_USD</td>\n      <td>1000000</td>\n      <td>NaN</td>\n      <td>...</td>\n      <td>0.00000000000000</td>\n      <td>0.00000000000000</td>\n      <td>-0.22595668535940</td>\n      <td>NaN</td>\n      <td>NaN</td>\n      <td>NaN</td>\n      <td>NaN</td>\n      <td>[{'tradeID': '902', 'units': '1000000', 'reali...</td>\n      <td>NaN</td>\n      <td>NaN</td>\n    </tr>\n    <tr>\n      <th>...</th>\n      <td>...</td>\n      <td>...</td>\n      <td>...</td>\n      <td>...</td>\n      <td>...</td>\n      <td>...</td>\n      <td>...</td>\n      <td>...</td>\n      <td>...</td>\n      <td>...</td>\n      <td>...</td>\n      <td>...</td>\n      <td>...</td>\n      <td>...</td>\n      <td>...</td>\n      <td>...</td>\n      <td>...</td>\n      <td>...</td>\n      <td>...</td>\n      <td>...</td>\n      <td>...</td>\n    </tr>\n    <tr>\n      <th>103</th>\n      <td>1004</td>\n      <td>101-004-31059296-001</td>\n      <td>31059296</td>\n      <td>1003</td>\n      <td>61358176051763718</td>\n      <td>2025-04-07 12:01:02.825442962+00:00</td>\n      <td>ORDER_FILL</td>\n      <td>EUR_USD</td>\n      <td>1000000</td>\n      <td>NaN</td>\n      <td>...</td>\n      <td>0.00000000</td>\n      <td>0.00000000000000</td>\n      <td>0.00000000000000</td>\n      <td>NaN</td>\n      <td>NaN</td>\n      <td>NaN</td>\n      <td>NaN</td>\n      <td>NaN</td>\n      <td>NaN</td>\n      <td>NaN</td>\n    </tr>\n    <tr>\n      <th>104</th>\n      <td>1005</td>\n      <td>101-004-31059296-001</td>\n      <td>31059296</td>\n      <td>1003</td>\n      <td>61358176051763718</td>\n      <td>2025-04-07 12:01:02.825442962+00:00</td>\n      <td>TAKE_PROFIT_ORDER</td>\n      <td>NaN</td>\n      <td>NaN</td>\n      <td>GTC</td>\n      <td>...</td>\n      <td>NaN</td>\n      <td>NaN</td>\n      <td>NaN</td>\n      <td>1004</td>\n      <td>DEFAULT</td>\n      <td>NaN</td>\n      <td>NaN</td>\n      <td>NaN</td>\n      <td>NaN</td>\n      <td>NaN</td>\n    </tr>\n    <tr>\n      <th>105</th>\n      <td>1006</td>\n      <td>101-004-31059296-001</td>\n      <td>31059296</td>\n      <td>1003</td>\n      <td>61358176051763718</td>\n      <td>2025-04-07 12:01:02.825442962+00:00</td>\n      <td>TRAILING_STOP_LOSS_ORDER</td>\n      <td>NaN</td>\n      <td>NaN</td>\n      <td>GTC</td>\n      <td>...</td>\n      <td>NaN</td>\n      <td>NaN</td>\n      <td>NaN</td>\n      <td>1004</td>\n      <td>DEFAULT</td>\n      <td>TOP_OF_BOOK</td>\n      <td>0.00050</td>\n      <td>NaN</td>\n      <td>NaN</td>\n      <td>NaN</td>\n    </tr>\n    <tr>\n      <th>106</th>\n      <td>1007</td>\n      <td>101-004-31059296-001</td>\n      <td>31059296</td>\n      <td>1007</td>\n      <td>NaN</td>\n      <td>2025-04-07 12:02:00.050398560+00:00</td>\n      <td>ORDER_FILL</td>\n      <td>EUR_USD</td>\n      <td>-1000000</td>\n      <td>NaN</td>\n      <td>...</td>\n      <td>0.00000000000000</td>\n      <td>0.00000000000000</td>\n      <td>-1.84725729294720</td>\n      <td>NaN</td>\n      <td>NaN</td>\n      <td>NaN</td>\n      <td>NaN</td>\n      <td>[{'tradeID': '1004', 'units': '-1000000', 'rea...</td>\n      <td>NaN</td>\n      <td>NaN</td>\n    </tr>\n    <tr>\n      <th>107</th>\n      <td>1008</td>\n      <td>101-004-31059296-001</td>\n      <td>31059296</td>\n      <td>1007</td>\n      <td>NaN</td>\n      <td>2025-04-07 12:02:00.050398560+00:00</td>\n      <td>ORDER_CANCEL</td>\n      <td>NaN</td>\n      <td>NaN</td>\n      <td>NaN</td>\n      <td>...</td>\n      <td>NaN</td>\n      <td>NaN</td>\n      <td>NaN</td>\n      <td>NaN</td>\n      <td>NaN</td>\n      <td>NaN</td>\n      <td>NaN</td>\n      <td>NaN</td>\n      <td>1004</td>\n      <td>1007</td>\n    </tr>\n  </tbody>\n</table>\n<p>108 rows × 43 columns</p>\n</div>"
          },
          "metadata": {}
        }
      ],
      "outputs_reference": null,
      "content_dependencies": null
    },
    {
      "cell_type": "code",
      "metadata": {
        "source_hash": "af19407e",
        "execution_start": 1743722164511,
        "execution_millis": 206,
        "execution_context_id": "306557ef-a753-4ae1-a005-4a468b58fac6",
        "cell_id": "09d17e1da306410b8e9518ff1dbbd2e5",
        "deepnote_cell_type": "code"
      },
      "source": "orders = pd.read_csv('/work/order_history.csv')\norders['Time'] = pd.to_datetime(orders['Time'])",
      "block_group": "b34f708b89b5488795a46ad50d65f92a",
      "execution_count": 5,
      "outputs": [],
      "outputs_reference": null,
      "content_dependencies": null
    },
    {
      "cell_type": "code",
      "metadata": {
        "source_hash": "dbbb5691",
        "execution_start": 1743722164765,
        "execution_millis": 18,
        "execution_context_id": "306557ef-a753-4ae1-a005-4a468b58fac6",
        "cell_id": "1788618855c9485d923bc5a7ee959702",
        "deepnote_cell_type": "code"
      },
      "source": "\nall_transactions['id'] = pd.to_numeric(all_transactions['id'])\nall_transactions[all_transactions['id'].isin(orders['Order_ID'])].head(2)",
      "block_group": "0a4dc0305ca54078b57dd57f8113e71f",
      "execution_count": 6,
      "outputs": [
        {
          "output_type": "execute_result",
          "execution_count": 6,
          "data": {
            "application/vnd.deepnote.dataframe.v3+json": {
              "column_count": 65,
              "row_count": 2,
              "columns": [
                {
                  "name": "id",
                  "dtype": "int64",
                  "stats": {
                    "unique_count": 2,
                    "nan_count": 0,
                    "min": "152",
                    "max": "154",
                    "histogram": [
                      {
                        "bin_start": 152,
                        "bin_end": 152.2,
                        "count": 1
                      },
                      {
                        "bin_start": 152.2,
                        "bin_end": 152.4,
                        "count": 0
                      },
                      {
                        "bin_start": 152.4,
                        "bin_end": 152.6,
                        "count": 0
                      },
                      {
                        "bin_start": 152.6,
                        "bin_end": 152.8,
                        "count": 0
                      },
                      {
                        "bin_start": 152.8,
                        "bin_end": 153,
                        "count": 0
                      },
                      {
                        "bin_start": 153,
                        "bin_end": 153.2,
                        "count": 0
                      },
                      {
                        "bin_start": 153.2,
                        "bin_end": 153.4,
                        "count": 0
                      },
                      {
                        "bin_start": 153.4,
                        "bin_end": 153.6,
                        "count": 0
                      },
                      {
                        "bin_start": 153.6,
                        "bin_end": 153.8,
                        "count": 0
                      },
                      {
                        "bin_start": 153.8,
                        "bin_end": 154,
                        "count": 1
                      }
                    ]
                  }
                },
                {
                  "name": "accountID",
                  "dtype": "object",
                  "stats": {
                    "unique_count": 1,
                    "nan_count": 0,
                    "categories": [
                      {
                        "name": "101-004-31059296-001",
                        "count": 2
                      }
                    ]
                  }
                },
                {
                  "name": "userID",
                  "dtype": "int64",
                  "stats": {
                    "unique_count": 1,
                    "nan_count": 0,
                    "min": "31059296",
                    "max": "31059296",
                    "histogram": [
                      {
                        "bin_start": 31059295.5,
                        "bin_end": 31059295.6,
                        "count": 0
                      },
                      {
                        "bin_start": 31059295.6,
                        "bin_end": 31059295.7,
                        "count": 0
                      },
                      {
                        "bin_start": 31059295.7,
                        "bin_end": 31059295.8,
                        "count": 0
                      },
                      {
                        "bin_start": 31059295.8,
                        "bin_end": 31059295.9,
                        "count": 0
                      },
                      {
                        "bin_start": 31059295.9,
                        "bin_end": 31059296,
                        "count": 0
                      },
                      {
                        "bin_start": 31059296,
                        "bin_end": 31059296.1,
                        "count": 2
                      },
                      {
                        "bin_start": 31059296.1,
                        "bin_end": 31059296.2,
                        "count": 0
                      },
                      {
                        "bin_start": 31059296.2,
                        "bin_end": 31059296.3,
                        "count": 0
                      },
                      {
                        "bin_start": 31059296.3,
                        "bin_end": 31059296.4,
                        "count": 0
                      },
                      {
                        "bin_start": 31059296.4,
                        "bin_end": 31059296.5,
                        "count": 0
                      }
                    ]
                  }
                },
                {
                  "name": "batchID",
                  "dtype": "object",
                  "stats": {
                    "unique_count": 2,
                    "nan_count": 0,
                    "categories": [
                      {
                        "name": "152",
                        "count": 1
                      },
                      {
                        "name": "154",
                        "count": 1
                      }
                    ]
                  }
                },
                {
                  "name": "requestID",
                  "dtype": "object",
                  "stats": {
                    "unique_count": 2,
                    "nan_count": 0,
                    "categories": [
                      {
                        "name": "115394447449742676",
                        "count": 1
                      },
                      {
                        "name": "61351307288090414",
                        "count": 1
                      }
                    ]
                  }
                },
                {
                  "name": "time",
                  "dtype": "datetime64[ns, UTC]",
                  "stats": {
                    "unique_count": 2,
                    "nan_count": 0,
                    "min": "2025-03-19 09:27:01.537154565+00:00",
                    "max": "2025-03-19 13:07:01.312072734+00:00",
                    "histogram": [
                      {
                        "bin_start": 1742376421537154600,
                        "bin_end": 1742377741514646300,
                        "count": 1
                      },
                      {
                        "bin_start": 1742377741514646300,
                        "bin_end": 1742379061492138200,
                        "count": 0
                      },
                      {
                        "bin_start": 1742379061492138200,
                        "bin_end": 1742380381469630000,
                        "count": 0
                      },
                      {
                        "bin_start": 1742380381469630000,
                        "bin_end": 1742381701447122000,
                        "count": 0
                      },
                      {
                        "bin_start": 1742381701447122000,
                        "bin_end": 1742383021424613600,
                        "count": 0
                      },
                      {
                        "bin_start": 1742383021424613600,
                        "bin_end": 1742384341402105300,
                        "count": 0
                      },
                      {
                        "bin_start": 1742384341402105300,
                        "bin_end": 1742385661379597300,
                        "count": 0
                      },
                      {
                        "bin_start": 1742385661379597300,
                        "bin_end": 1742386981357089000,
                        "count": 0
                      },
                      {
                        "bin_start": 1742386981357089000,
                        "bin_end": 1742388301334581000,
                        "count": 0
                      },
                      {
                        "bin_start": 1742388301334581000,
                        "bin_end": 1742389621312072700,
                        "count": 1
                      }
                    ]
                  }
                },
                {
                  "name": "type",
                  "dtype": "object",
                  "stats": {
                    "unique_count": 1,
                    "nan_count": 0,
                    "categories": [
                      {
                        "name": "MARKET_ORDER",
                        "count": 2
                      }
                    ]
                  }
                },
                {
                  "name": "divisionID",
                  "dtype": "float64",
                  "stats": {
                    "unique_count": 0,
                    "nan_count": 2,
                    "min": null,
                    "max": null,
                    "histogram": [
                      {
                        "bin_start": 0,
                        "bin_end": 0.1,
                        "count": 0
                      },
                      {
                        "bin_start": 0.1,
                        "bin_end": 0.2,
                        "count": 0
                      },
                      {
                        "bin_start": 0.2,
                        "bin_end": 0.30000000000000004,
                        "count": 0
                      },
                      {
                        "bin_start": 0.30000000000000004,
                        "bin_end": 0.4,
                        "count": 0
                      },
                      {
                        "bin_start": 0.4,
                        "bin_end": 0.5,
                        "count": 0
                      },
                      {
                        "bin_start": 0.5,
                        "bin_end": 0.6000000000000001,
                        "count": 0
                      },
                      {
                        "bin_start": 0.6000000000000001,
                        "bin_end": 0.7000000000000001,
                        "count": 0
                      },
                      {
                        "bin_start": 0.7000000000000001,
                        "bin_end": 0.8,
                        "count": 0
                      },
                      {
                        "bin_start": 0.8,
                        "bin_end": 0.9,
                        "count": 0
                      },
                      {
                        "bin_start": 0.9,
                        "bin_end": 1,
                        "count": 0
                      }
                    ]
                  }
                },
                {
                  "name": "siteID",
                  "dtype": "float64",
                  "stats": {
                    "unique_count": 0,
                    "nan_count": 2,
                    "min": null,
                    "max": null,
                    "histogram": [
                      {
                        "bin_start": 0,
                        "bin_end": 0.1,
                        "count": 0
                      },
                      {
                        "bin_start": 0.1,
                        "bin_end": 0.2,
                        "count": 0
                      },
                      {
                        "bin_start": 0.2,
                        "bin_end": 0.30000000000000004,
                        "count": 0
                      },
                      {
                        "bin_start": 0.30000000000000004,
                        "bin_end": 0.4,
                        "count": 0
                      },
                      {
                        "bin_start": 0.4,
                        "bin_end": 0.5,
                        "count": 0
                      },
                      {
                        "bin_start": 0.5,
                        "bin_end": 0.6000000000000001,
                        "count": 0
                      },
                      {
                        "bin_start": 0.6000000000000001,
                        "bin_end": 0.7000000000000001,
                        "count": 0
                      },
                      {
                        "bin_start": 0.7000000000000001,
                        "bin_end": 0.8,
                        "count": 0
                      },
                      {
                        "bin_start": 0.8,
                        "bin_end": 0.9,
                        "count": 0
                      },
                      {
                        "bin_start": 0.9,
                        "bin_end": 1,
                        "count": 0
                      }
                    ]
                  }
                },
                {
                  "name": "accountUserID",
                  "dtype": "float64",
                  "stats": {
                    "unique_count": 0,
                    "nan_count": 2,
                    "min": null,
                    "max": null,
                    "histogram": [
                      {
                        "bin_start": 0,
                        "bin_end": 0.1,
                        "count": 0
                      },
                      {
                        "bin_start": 0.1,
                        "bin_end": 0.2,
                        "count": 0
                      },
                      {
                        "bin_start": 0.2,
                        "bin_end": 0.30000000000000004,
                        "count": 0
                      },
                      {
                        "bin_start": 0.30000000000000004,
                        "bin_end": 0.4,
                        "count": 0
                      },
                      {
                        "bin_start": 0.4,
                        "bin_end": 0.5,
                        "count": 0
                      },
                      {
                        "bin_start": 0.5,
                        "bin_end": 0.6000000000000001,
                        "count": 0
                      },
                      {
                        "bin_start": 0.6000000000000001,
                        "bin_end": 0.7000000000000001,
                        "count": 0
                      },
                      {
                        "bin_start": 0.7000000000000001,
                        "bin_end": 0.8,
                        "count": 0
                      },
                      {
                        "bin_start": 0.8,
                        "bin_end": 0.9,
                        "count": 0
                      },
                      {
                        "bin_start": 0.9,
                        "bin_end": 1,
                        "count": 0
                      }
                    ]
                  }
                },
                {
                  "name": "accountNumber",
                  "dtype": "float64",
                  "stats": {
                    "unique_count": 0,
                    "nan_count": 2,
                    "min": null,
                    "max": null,
                    "histogram": [
                      {
                        "bin_start": 0,
                        "bin_end": 0.1,
                        "count": 0
                      },
                      {
                        "bin_start": 0.1,
                        "bin_end": 0.2,
                        "count": 0
                      },
                      {
                        "bin_start": 0.2,
                        "bin_end": 0.30000000000000004,
                        "count": 0
                      },
                      {
                        "bin_start": 0.30000000000000004,
                        "bin_end": 0.4,
                        "count": 0
                      },
                      {
                        "bin_start": 0.4,
                        "bin_end": 0.5,
                        "count": 0
                      },
                      {
                        "bin_start": 0.5,
                        "bin_end": 0.6000000000000001,
                        "count": 0
                      },
                      {
                        "bin_start": 0.6000000000000001,
                        "bin_end": 0.7000000000000001,
                        "count": 0
                      },
                      {
                        "bin_start": 0.7000000000000001,
                        "bin_end": 0.8,
                        "count": 0
                      },
                      {
                        "bin_start": 0.8,
                        "bin_end": 0.9,
                        "count": 0
                      },
                      {
                        "bin_start": 0.9,
                        "bin_end": 1,
                        "count": 0
                      }
                    ]
                  }
                },
                {
                  "name": "homeCurrency",
                  "dtype": "object",
                  "stats": {
                    "unique_count": 0,
                    "nan_count": 2,
                    "categories": [
                      {
                        "name": "Missing",
                        "count": 2
                      }
                    ]
                  }
                },
                {
                  "name": "marginRate",
                  "dtype": "object",
                  "stats": {
                    "unique_count": 0,
                    "nan_count": 2,
                    "categories": [
                      {
                        "name": "Missing",
                        "count": 2
                      }
                    ]
                  }
                },
                {
                  "name": "alias",
                  "dtype": "object",
                  "stats": {
                    "unique_count": 0,
                    "nan_count": 2,
                    "categories": [
                      {
                        "name": "Missing",
                        "count": 2
                      }
                    ]
                  }
                },
                {
                  "name": "accountBalance",
                  "dtype": "object",
                  "stats": {
                    "unique_count": 0,
                    "nan_count": 2,
                    "categories": [
                      {
                        "name": "Missing",
                        "count": 2
                      }
                    ]
                  }
                },
                {
                  "name": "amount",
                  "dtype": "object",
                  "stats": {
                    "unique_count": 0,
                    "nan_count": 2,
                    "categories": [
                      {
                        "name": "Missing",
                        "count": 2
                      }
                    ]
                  }
                },
                {
                  "name": "fundingReason",
                  "dtype": "object",
                  "stats": {
                    "unique_count": 0,
                    "nan_count": 2,
                    "categories": [
                      {
                        "name": "Missing",
                        "count": 2
                      }
                    ]
                  }
                },
                {
                  "name": "instrument",
                  "dtype": "object",
                  "stats": {
                    "unique_count": 1,
                    "nan_count": 0,
                    "categories": [
                      {
                        "name": "EUR_USD",
                        "count": 2
                      }
                    ]
                  }
                },
                {
                  "name": "units",
                  "dtype": "object",
                  "stats": {
                    "unique_count": 1,
                    "nan_count": 0,
                    "categories": [
                      {
                        "name": "-100",
                        "count": 2
                      }
                    ]
                  }
                },
                {
                  "name": "timeInForce",
                  "dtype": "object",
                  "stats": {
                    "unique_count": 1,
                    "nan_count": 0,
                    "categories": [
                      {
                        "name": "FOK",
                        "count": 2
                      }
                    ]
                  }
                },
                {
                  "name": "positionFill",
                  "dtype": "object",
                  "stats": {
                    "unique_count": 1,
                    "nan_count": 0,
                    "categories": [
                      {
                        "name": "DEFAULT",
                        "count": 2
                      }
                    ]
                  }
                },
                {
                  "name": "takeProfitOnFill",
                  "dtype": "object",
                  "stats": {
                    "unique_count": 2,
                    "nan_count": 0,
                    "categories": [
                      {
                        "name": "{'price': '1.08800', 'timeInForce': 'GTC'}",
                        "count": 1
                      },
                      {
                        "name": "{'price': '1.08850', 'timeInForce': 'GTC'}",
                        "count": 1
                      }
                    ]
                  }
                },
                {
                  "name": "stopLossOnFill",
                  "dtype": "object",
                  "stats": {
                    "unique_count": 2,
                    "nan_count": 0,
                    "categories": [
                      {
                        "name": "{'price': '1.09020', 'timeInForce': 'GTC', 'triggerMode': 'TOP_OF_BOOK'}",
                        "count": 1
                      },
                      {
                        "name": "{'price': '1.09070', 'timeInForce': 'GTC', 'triggerMode': 'TOP_OF_BOOK'}",
                        "count": 1
                      }
                    ]
                  }
                },
                {
                  "name": "reason",
                  "dtype": "object",
                  "stats": {
                    "unique_count": 1,
                    "nan_count": 0,
                    "categories": [
                      {
                        "name": "CLIENT_ORDER",
                        "count": 2
                      }
                    ]
                  }
                },
                {
                  "name": "orderID",
                  "dtype": "object",
                  "stats": {
                    "unique_count": 0,
                    "nan_count": 2,
                    "categories": [
                      {
                        "name": "Missing",
                        "count": 2
                      }
                    ]
                  }
                },
                {
                  "name": "requestedUnits",
                  "dtype": "object",
                  "stats": {
                    "unique_count": 0,
                    "nan_count": 2,
                    "categories": [
                      {
                        "name": "Missing",
                        "count": 2
                      }
                    ]
                  }
                },
                {
                  "name": "price",
                  "dtype": "object",
                  "stats": {
                    "unique_count": 0,
                    "nan_count": 2,
                    "categories": [
                      {
                        "name": "Missing",
                        "count": 2
                      }
                    ]
                  }
                },
                {
                  "name": "pl",
                  "dtype": "object",
                  "stats": {
                    "unique_count": 0,
                    "nan_count": 2,
                    "categories": [
                      {
                        "name": "Missing",
                        "count": 2
                      }
                    ]
                  }
                },
                {
                  "name": "quotePL",
                  "dtype": "object",
                  "stats": {
                    "unique_count": 0,
                    "nan_count": 2,
                    "categories": [
                      {
                        "name": "Missing",
                        "count": 2
                      }
                    ]
                  }
                },
                {
                  "name": "financing",
                  "dtype": "object",
                  "stats": {
                    "unique_count": 0,
                    "nan_count": 2,
                    "categories": [
                      {
                        "name": "Missing",
                        "count": 2
                      }
                    ]
                  }
                },
                {
                  "name": "baseFinancing",
                  "dtype": "object",
                  "stats": {
                    "unique_count": 0,
                    "nan_count": 2,
                    "categories": [
                      {
                        "name": "Missing",
                        "count": 2
                      }
                    ]
                  }
                },
                {
                  "name": "commission",
                  "dtype": "object",
                  "stats": {
                    "unique_count": 0,
                    "nan_count": 2,
                    "categories": [
                      {
                        "name": "Missing",
                        "count": 2
                      }
                    ]
                  }
                },
                {
                  "name": "gainQuoteHomeConversionFactor",
                  "dtype": "object",
                  "stats": {
                    "unique_count": 0,
                    "nan_count": 2,
                    "categories": [
                      {
                        "name": "Missing",
                        "count": 2
                      }
                    ]
                  }
                },
                {
                  "name": "lossQuoteHomeConversionFactor",
                  "dtype": "object",
                  "stats": {
                    "unique_count": 0,
                    "nan_count": 2,
                    "categories": [
                      {
                        "name": "Missing",
                        "count": 2
                      }
                    ]
                  }
                },
                {
                  "name": "guaranteedExecutionFee",
                  "dtype": "object",
                  "stats": {
                    "unique_count": 0,
                    "nan_count": 2,
                    "categories": [
                      {
                        "name": "Missing",
                        "count": 2
                      }
                    ]
                  }
                },
                {
                  "name": "quoteGuaranteedExecutionFee",
                  "dtype": "object",
                  "stats": {
                    "unique_count": 0,
                    "nan_count": 2,
                    "categories": [
                      {
                        "name": "Missing",
                        "count": 2
                      }
                    ]
                  }
                },
                {
                  "name": "halfSpreadCost",
                  "dtype": "object",
                  "stats": {
                    "unique_count": 0,
                    "nan_count": 2,
                    "categories": [
                      {
                        "name": "Missing",
                        "count": 2
                      }
                    ]
                  }
                },
                {
                  "name": "fullVWAP",
                  "dtype": "object",
                  "stats": {
                    "unique_count": 0,
                    "nan_count": 2,
                    "categories": [
                      {
                        "name": "Missing",
                        "count": 2
                      }
                    ]
                  }
                },
                {
                  "name": "tradeOpened",
                  "dtype": "object",
                  "stats": {
                    "unique_count": 0,
                    "nan_count": 2,
                    "categories": [
                      {
                        "name": "Missing",
                        "count": 2
                      }
                    ]
                  }
                },
                {
                  "name": "fullPrice",
                  "dtype": "object",
                  "stats": {
                    "unique_count": 0,
                    "nan_count": 2,
                    "categories": [
                      {
                        "name": "Missing",
                        "count": 2
                      }
                    ]
                  }
                },
                {
                  "name": "homeConversionFactors",
                  "dtype": "object",
                  "stats": {
                    "unique_count": 0,
                    "nan_count": 2,
                    "categories": [
                      {
                        "name": "Missing",
                        "count": 2
                      }
                    ]
                  }
                },
                {
                  "name": "plHomeConversionCost",
                  "dtype": "object",
                  "stats": {
                    "unique_count": 0,
                    "nan_count": 2,
                    "categories": [
                      {
                        "name": "Missing",
                        "count": 2
                      }
                    ]
                  }
                },
                {
                  "name": "baseFinancingHomeConversionCost",
                  "dtype": "object",
                  "stats": {
                    "unique_count": 0,
                    "nan_count": 2,
                    "categories": [
                      {
                        "name": "Missing",
                        "count": 2
                      }
                    ]
                  }
                },
                {
                  "name": "guaranteedExecutionFeeHomeConversionCost",
                  "dtype": "object",
                  "stats": {
                    "unique_count": 0,
                    "nan_count": 2,
                    "categories": [
                      {
                        "name": "Missing",
                        "count": 2
                      }
                    ]
                  }
                },
                {
                  "name": "homeConversionCost",
                  "dtype": "object",
                  "stats": {
                    "unique_count": 0,
                    "nan_count": 2,
                    "categories": [
                      {
                        "name": "Missing",
                        "count": 2
                      }
                    ]
                  }
                },
                {
                  "name": "tradeID",
                  "dtype": "object",
                  "stats": {
                    "unique_count": 0,
                    "nan_count": 2,
                    "categories": [
                      {
                        "name": "Missing",
                        "count": 2
                      }
                    ]
                  }
                },
                {
                  "name": "triggerCondition",
                  "dtype": "object",
                  "stats": {
                    "unique_count": 0,
                    "nan_count": 2,
                    "categories": [
                      {
                        "name": "Missing",
                        "count": 2
                      }
                    ]
                  }
                },
                {
                  "name": "triggerMode",
                  "dtype": "object",
                  "stats": {
                    "unique_count": 0,
                    "nan_count": 2,
                    "categories": [
                      {
                        "name": "Missing",
                        "count": 2
                      }
                    ]
                  }
                },
                {
                  "name": "replacedByOrderID",
                  "dtype": "object",
                  "stats": {
                    "unique_count": 0,
                    "nan_count": 2,
                    "categories": [
                      {
                        "name": "Missing",
                        "count": 2
                      }
                    ]
                  }
                },
                {
                  "name": "replacesOrderID",
                  "dtype": "object",
                  "stats": {
                    "unique_count": 0,
                    "nan_count": 2,
                    "categories": [
                      {
                        "name": "Missing",
                        "count": 2
                      }
                    ]
                  }
                },
                {
                  "name": "cancellingTransactionID",
                  "dtype": "object",
                  "stats": {
                    "unique_count": 0,
                    "nan_count": 2,
                    "categories": [
                      {
                        "name": "Missing",
                        "count": 2
                      }
                    ]
                  }
                },
                {
                  "name": "tradesClosed",
                  "dtype": "object",
                  "stats": {
                    "unique_count": 0,
                    "nan_count": 2,
                    "categories": [
                      {
                        "name": "Missing",
                        "count": 2
                      }
                    ]
                  }
                },
                {
                  "name": "closedTradeID",
                  "dtype": "object",
                  "stats": {
                    "unique_count": 0,
                    "nan_count": 2,
                    "categories": [
                      {
                        "name": "Missing",
                        "count": 2
                      }
                    ]
                  }
                },
                {
                  "name": "tradeCloseTransactionID",
                  "dtype": "object",
                  "stats": {
                    "unique_count": 0,
                    "nan_count": 2,
                    "categories": [
                      {
                        "name": "Missing",
                        "count": 2
                      }
                    ]
                  }
                },
                {
                  "name": "partialFill",
                  "dtype": "object",
                  "stats": {
                    "unique_count": 0,
                    "nan_count": 2,
                    "categories": [
                      {
                        "name": "Missing",
                        "count": 2
                      }
                    ]
                  }
                },
                {
                  "name": "rejectReason",
                  "dtype": "object",
                  "stats": {
                    "unique_count": 0,
                    "nan_count": 2,
                    "categories": [
                      {
                        "name": "Missing",
                        "count": 2
                      }
                    ]
                  }
                },
                {
                  "name": "gtdTime",
                  "dtype": "object",
                  "stats": {
                    "unique_count": 0,
                    "nan_count": 2,
                    "categories": [
                      {
                        "name": "Missing",
                        "count": 2
                      }
                    ]
                  }
                },
                {
                  "name": "guaranteedStopLossOnFill",
                  "dtype": "object",
                  "stats": {
                    "unique_count": 0,
                    "nan_count": 2,
                    "categories": [
                      {
                        "name": "Missing",
                        "count": 2
                      }
                    ]
                  }
                },
                {
                  "name": "guaranteedExecutionPremium",
                  "dtype": "object",
                  "stats": {
                    "unique_count": 0,
                    "nan_count": 2,
                    "categories": [
                      {
                        "name": "Missing",
                        "count": 2
                      }
                    ]
                  }
                },
                {
                  "name": "longPositionCloseout",
                  "dtype": "object",
                  "stats": {
                    "unique_count": 0,
                    "nan_count": 2,
                    "categories": [
                      {
                        "name": "Missing",
                        "count": 2
                      }
                    ]
                  }
                },
                {
                  "name": "positionFinancings",
                  "dtype": "object",
                  "stats": {
                    "unique_count": 0,
                    "nan_count": 2,
                    "categories": [
                      {
                        "name": "Missing",
                        "count": 2
                      }
                    ]
                  }
                },
                {
                  "name": "baseHomeConversionCost",
                  "dtype": "object",
                  "stats": {
                    "unique_count": 0,
                    "nan_count": 2,
                    "categories": [
                      {
                        "name": "Missing",
                        "count": 2
                      }
                    ]
                  }
                },
                {
                  "name": "tradeReduced",
                  "dtype": "object",
                  "stats": {
                    "unique_count": 0,
                    "nan_count": 2,
                    "categories": [
                      {
                        "name": "Missing",
                        "count": 2
                      }
                    ]
                  }
                },
                {
                  "name": "distance",
                  "dtype": "object",
                  "stats": {
                    "unique_count": 0,
                    "nan_count": 2,
                    "categories": [
                      {
                        "name": "Missing",
                        "count": 2
                      }
                    ]
                  }
                },
                {
                  "name": "trailingStopLossOnFill",
                  "dtype": "object",
                  "stats": {
                    "unique_count": 0,
                    "nan_count": 2,
                    "categories": [
                      {
                        "name": "Missing",
                        "count": 2
                      }
                    ]
                  }
                },
                {
                  "name": "_deepnote_index_column",
                  "dtype": "int64"
                }
              ],
              "rows": [
                {
                  "id": 152,
                  "accountID": "101-004-31059296-001",
                  "userID": 31059296,
                  "batchID": "152",
                  "requestID": "115394447449742676",
                  "time": "2025-03-19 09:27:01.537154565+00:00",
                  "type": "MARKET_ORDER",
                  "divisionID": "nan",
                  "siteID": "nan",
                  "accountUserID": "nan",
                  "accountNumber": "nan",
                  "homeCurrency": "nan",
                  "marginRate": "nan",
                  "alias": "nan",
                  "accountBalance": "nan",
                  "amount": "nan",
                  "fundingReason": "nan",
                  "instrument": "EUR_USD",
                  "units": "-100",
                  "timeInForce": "FOK",
                  "positionFill": "DEFAULT",
                  "takeProfitOnFill": "{'price': '1.08800', 'timeInForce': 'GTC'}",
                  "stopLossOnFill": "{'price': '1.09020', 'timeInForce': 'GTC', 'triggerMode': 'TOP_OF_BOOK'}",
                  "reason": "CLIENT_ORDER",
                  "orderID": "nan",
                  "requestedUnits": "nan",
                  "price": "nan",
                  "pl": "nan",
                  "quotePL": "nan",
                  "financing": "nan",
                  "baseFinancing": "nan",
                  "commission": "nan",
                  "gainQuoteHomeConversionFactor": "nan",
                  "lossQuoteHomeConversionFactor": "nan",
                  "guaranteedExecutionFee": "nan",
                  "quoteGuaranteedExecutionFee": "nan",
                  "halfSpreadCost": "nan",
                  "fullVWAP": "nan",
                  "tradeOpened": "nan",
                  "fullPrice": "nan",
                  "homeConversionFactors": "nan",
                  "plHomeConversionCost": "nan",
                  "baseFinancingHomeConversionCost": "nan",
                  "guaranteedExecutionFeeHomeConversionCost": "nan",
                  "homeConversionCost": "nan",
                  "tradeID": "nan",
                  "triggerCondition": "nan",
                  "triggerMode": "nan",
                  "replacedByOrderID": "nan",
                  "replacesOrderID": "nan",
                  "cancellingTransactionID": "nan",
                  "tradesClosed": "nan",
                  "closedTradeID": "nan",
                  "tradeCloseTransactionID": "nan",
                  "partialFill": "nan",
                  "rejectReason": "nan",
                  "gtdTime": "nan",
                  "guaranteedStopLossOnFill": "nan",
                  "guaranteedExecutionPremium": "nan",
                  "longPositionCloseout": "nan",
                  "positionFinancings": "nan",
                  "baseHomeConversionCost": "nan",
                  "tradeReduced": "nan",
                  "distance": "nan",
                  "trailingStopLossOnFill": "nan",
                  "_deepnote_index_column": 151
                },
                {
                  "id": 154,
                  "accountID": "101-004-31059296-001",
                  "userID": 31059296,
                  "batchID": "154",
                  "requestID": "61351307288090414",
                  "time": "2025-03-19 13:07:01.312072734+00:00",
                  "type": "MARKET_ORDER",
                  "divisionID": "nan",
                  "siteID": "nan",
                  "accountUserID": "nan",
                  "accountNumber": "nan",
                  "homeCurrency": "nan",
                  "marginRate": "nan",
                  "alias": "nan",
                  "accountBalance": "nan",
                  "amount": "nan",
                  "fundingReason": "nan",
                  "instrument": "EUR_USD",
                  "units": "-100",
                  "timeInForce": "FOK",
                  "positionFill": "DEFAULT",
                  "takeProfitOnFill": "{'price': '1.08850', 'timeInForce': 'GTC'}",
                  "stopLossOnFill": "{'price': '1.09070', 'timeInForce': 'GTC', 'triggerMode': 'TOP_OF_BOOK'}",
                  "reason": "CLIENT_ORDER",
                  "orderID": "nan",
                  "requestedUnits": "nan",
                  "price": "nan",
                  "pl": "nan",
                  "quotePL": "nan",
                  "financing": "nan",
                  "baseFinancing": "nan",
                  "commission": "nan",
                  "gainQuoteHomeConversionFactor": "nan",
                  "lossQuoteHomeConversionFactor": "nan",
                  "guaranteedExecutionFee": "nan",
                  "quoteGuaranteedExecutionFee": "nan",
                  "halfSpreadCost": "nan",
                  "fullVWAP": "nan",
                  "tradeOpened": "nan",
                  "fullPrice": "nan",
                  "homeConversionFactors": "nan",
                  "plHomeConversionCost": "nan",
                  "baseFinancingHomeConversionCost": "nan",
                  "guaranteedExecutionFeeHomeConversionCost": "nan",
                  "homeConversionCost": "nan",
                  "tradeID": "nan",
                  "triggerCondition": "nan",
                  "triggerMode": "nan",
                  "replacedByOrderID": "nan",
                  "replacesOrderID": "nan",
                  "cancellingTransactionID": "nan",
                  "tradesClosed": "nan",
                  "closedTradeID": "nan",
                  "tradeCloseTransactionID": "nan",
                  "partialFill": "nan",
                  "rejectReason": "nan",
                  "gtdTime": "nan",
                  "guaranteedStopLossOnFill": "nan",
                  "guaranteedExecutionPremium": "nan",
                  "longPositionCloseout": "nan",
                  "positionFinancings": "nan",
                  "baseHomeConversionCost": "nan",
                  "tradeReduced": "nan",
                  "distance": "nan",
                  "trailingStopLossOnFill": "nan",
                  "_deepnote_index_column": 153
                }
              ],
              "type": "dataframe"
            },
            "text/plain": "      id             accountID    userID batchID           requestID  \\\n151  152  101-004-31059296-001  31059296     152  115394447449742676   \n153  154  101-004-31059296-001  31059296     154   61351307288090414   \n\n                                   time          type  divisionID  siteID  \\\n151 2025-03-19 09:27:01.537154565+00:00  MARKET_ORDER         NaN     NaN   \n153 2025-03-19 13:07:01.312072734+00:00  MARKET_ORDER         NaN     NaN   \n\n     accountUserID  ...  rejectReason gtdTime guaranteedStopLossOnFill  \\\n151            NaN  ...           NaN     NaN                      NaN   \n153            NaN  ...           NaN     NaN                      NaN   \n\n    guaranteedExecutionPremium longPositionCloseout positionFinancings  \\\n151                        NaN                  NaN                NaN   \n153                        NaN                  NaN                NaN   \n\n    baseHomeConversionCost tradeReduced distance trailingStopLossOnFill  \n151                    NaN          NaN      NaN                    NaN  \n153                    NaN          NaN      NaN                    NaN  \n\n[2 rows x 65 columns]",
            "text/html": "<div>\n<style scoped>\n    .dataframe tbody tr th:only-of-type {\n        vertical-align: middle;\n    }\n\n    .dataframe tbody tr th {\n        vertical-align: top;\n    }\n\n    .dataframe thead th {\n        text-align: right;\n    }\n</style>\n<table border=\"1\" class=\"dataframe\">\n  <thead>\n    <tr style=\"text-align: right;\">\n      <th></th>\n      <th>id</th>\n      <th>accountID</th>\n      <th>userID</th>\n      <th>batchID</th>\n      <th>requestID</th>\n      <th>time</th>\n      <th>type</th>\n      <th>divisionID</th>\n      <th>siteID</th>\n      <th>accountUserID</th>\n      <th>...</th>\n      <th>rejectReason</th>\n      <th>gtdTime</th>\n      <th>guaranteedStopLossOnFill</th>\n      <th>guaranteedExecutionPremium</th>\n      <th>longPositionCloseout</th>\n      <th>positionFinancings</th>\n      <th>baseHomeConversionCost</th>\n      <th>tradeReduced</th>\n      <th>distance</th>\n      <th>trailingStopLossOnFill</th>\n    </tr>\n  </thead>\n  <tbody>\n    <tr>\n      <th>151</th>\n      <td>152</td>\n      <td>101-004-31059296-001</td>\n      <td>31059296</td>\n      <td>152</td>\n      <td>115394447449742676</td>\n      <td>2025-03-19 09:27:01.537154565+00:00</td>\n      <td>MARKET_ORDER</td>\n      <td>NaN</td>\n      <td>NaN</td>\n      <td>NaN</td>\n      <td>...</td>\n      <td>NaN</td>\n      <td>NaN</td>\n      <td>NaN</td>\n      <td>NaN</td>\n      <td>NaN</td>\n      <td>NaN</td>\n      <td>NaN</td>\n      <td>NaN</td>\n      <td>NaN</td>\n      <td>NaN</td>\n    </tr>\n    <tr>\n      <th>153</th>\n      <td>154</td>\n      <td>101-004-31059296-001</td>\n      <td>31059296</td>\n      <td>154</td>\n      <td>61351307288090414</td>\n      <td>2025-03-19 13:07:01.312072734+00:00</td>\n      <td>MARKET_ORDER</td>\n      <td>NaN</td>\n      <td>NaN</td>\n      <td>NaN</td>\n      <td>...</td>\n      <td>NaN</td>\n      <td>NaN</td>\n      <td>NaN</td>\n      <td>NaN</td>\n      <td>NaN</td>\n      <td>NaN</td>\n      <td>NaN</td>\n      <td>NaN</td>\n      <td>NaN</td>\n      <td>NaN</td>\n    </tr>\n  </tbody>\n</table>\n<p>2 rows × 65 columns</p>\n</div>"
          },
          "metadata": {}
        }
      ],
      "outputs_reference": null,
      "content_dependencies": null
    },
    {
      "cell_type": "code",
      "metadata": {
        "source_hash": "1229834f",
        "execution_start": 1743722166071,
        "execution_millis": 1,
        "execution_context_id": "306557ef-a753-4ae1-a005-4a468b58fac6",
        "cell_id": "dae2428cdb3e424c8eb316fdb0a32758",
        "deepnote_cell_type": "code"
      },
      "source": "all_transactions['pl'] = pd.to_numeric(all_transactions['pl'])\nall_transactions[all_transactions['reason'].isin(['STOP_LOSS_ORDER', 'TAKE_PROFIT_ORDER'])].groupby('reason')['pl'].sum()",
      "block_group": "e79567ba9fca48348314a51c898edb07",
      "execution_count": 8,
      "outputs": [
        {
          "output_type": "execute_result",
          "execution_count": 8,
          "data": {
            "text/plain": "reason\nSTOP_LOSS_ORDER     -20150.0616\nTAKE_PROFIT_ORDER    22577.5745\nName: pl, dtype: float64"
          },
          "metadata": {}
        }
      ],
      "outputs_reference": null,
      "content_dependencies": null
    },
    {
      "cell_type": "code",
      "metadata": {
        "source_hash": "221322df",
        "execution_start": 1743722167300,
        "execution_millis": 2,
        "deepnote_table_state": {
          "sortBy": [],
          "filters": [],
          "pageSize": 100,
          "pageIndex": 0,
          "columnOrder": [
            "id",
            "type",
            "reason",
            "batchID",
            "orderID",
            "tradeID",
            "pl",
            "time"
          ],
          "hiddenColumnIds": [],
          "columnDisplayNames": [],
          "conditionalFilters": [],
          "cellFormattingRules": [],
          "wrappedTextColumnIds": []
        },
        "execution_context_id": "306557ef-a753-4ae1-a005-4a468b58fac6",
        "deepnote_table_loading": false,
        "cell_id": "deac337c039242c5ad4afdad75864f3a",
        "deepnote_cell_type": "code"
      },
      "source": "all_transactions[['id','type','reason','batchID','orderID','tradeID','pl','time']].head(2)",
      "block_group": "27488af6ccb74190b6f36b16fac48add",
      "execution_count": 10,
      "outputs": [
        {
          "output_type": "execute_result",
          "execution_count": 10,
          "data": {
            "application/vnd.deepnote.dataframe.v3+json": {
              "column_count": 8,
              "row_count": 2,
              "columns": [
                {
                  "name": "id",
                  "dtype": "int64",
                  "stats": {
                    "unique_count": 2,
                    "nan_count": 0,
                    "min": "1",
                    "max": "2",
                    "histogram": [
                      {
                        "bin_start": 1,
                        "bin_end": 1.1,
                        "count": 1
                      },
                      {
                        "bin_start": 1.1,
                        "bin_end": 1.2,
                        "count": 0
                      },
                      {
                        "bin_start": 1.2,
                        "bin_end": 1.3,
                        "count": 0
                      },
                      {
                        "bin_start": 1.3,
                        "bin_end": 1.4,
                        "count": 0
                      },
                      {
                        "bin_start": 1.4,
                        "bin_end": 1.5,
                        "count": 0
                      },
                      {
                        "bin_start": 1.5,
                        "bin_end": 1.6,
                        "count": 0
                      },
                      {
                        "bin_start": 1.6,
                        "bin_end": 1.7000000000000002,
                        "count": 0
                      },
                      {
                        "bin_start": 1.7000000000000002,
                        "bin_end": 1.8,
                        "count": 0
                      },
                      {
                        "bin_start": 1.8,
                        "bin_end": 1.9,
                        "count": 0
                      },
                      {
                        "bin_start": 1.9,
                        "bin_end": 2,
                        "count": 1
                      }
                    ]
                  }
                },
                {
                  "name": "type",
                  "dtype": "object",
                  "stats": {
                    "unique_count": 2,
                    "nan_count": 0,
                    "categories": [
                      {
                        "name": "CREATE",
                        "count": 1
                      },
                      {
                        "name": "CLIENT_CONFIGURE",
                        "count": 1
                      }
                    ]
                  }
                },
                {
                  "name": "reason",
                  "dtype": "object",
                  "stats": {
                    "unique_count": 0,
                    "nan_count": 2,
                    "categories": [
                      {
                        "name": "Missing",
                        "count": 2
                      }
                    ]
                  }
                },
                {
                  "name": "batchID",
                  "dtype": "object",
                  "stats": {
                    "unique_count": 1,
                    "nan_count": 0,
                    "categories": [
                      {
                        "name": "1",
                        "count": 2
                      }
                    ]
                  }
                },
                {
                  "name": "orderID",
                  "dtype": "object",
                  "stats": {
                    "unique_count": 0,
                    "nan_count": 2,
                    "categories": [
                      {
                        "name": "Missing",
                        "count": 2
                      }
                    ]
                  }
                },
                {
                  "name": "tradeID",
                  "dtype": "object",
                  "stats": {
                    "unique_count": 0,
                    "nan_count": 2,
                    "categories": [
                      {
                        "name": "Missing",
                        "count": 2
                      }
                    ]
                  }
                },
                {
                  "name": "pl",
                  "dtype": "float64",
                  "stats": {
                    "unique_count": 0,
                    "nan_count": 2,
                    "min": null,
                    "max": null,
                    "histogram": [
                      {
                        "bin_start": 0,
                        "bin_end": 0.1,
                        "count": 0
                      },
                      {
                        "bin_start": 0.1,
                        "bin_end": 0.2,
                        "count": 0
                      },
                      {
                        "bin_start": 0.2,
                        "bin_end": 0.30000000000000004,
                        "count": 0
                      },
                      {
                        "bin_start": 0.30000000000000004,
                        "bin_end": 0.4,
                        "count": 0
                      },
                      {
                        "bin_start": 0.4,
                        "bin_end": 0.5,
                        "count": 0
                      },
                      {
                        "bin_start": 0.5,
                        "bin_end": 0.6000000000000001,
                        "count": 0
                      },
                      {
                        "bin_start": 0.6000000000000001,
                        "bin_end": 0.7000000000000001,
                        "count": 0
                      },
                      {
                        "bin_start": 0.7000000000000001,
                        "bin_end": 0.8,
                        "count": 0
                      },
                      {
                        "bin_start": 0.8,
                        "bin_end": 0.9,
                        "count": 0
                      },
                      {
                        "bin_start": 0.9,
                        "bin_end": 1,
                        "count": 0
                      }
                    ]
                  }
                },
                {
                  "name": "time",
                  "dtype": "datetime64[ns, UTC]",
                  "stats": {
                    "unique_count": 1,
                    "nan_count": 0,
                    "min": "2025-02-12 15:52:59.277325926+00:00",
                    "max": "2025-02-12 15:52:59.277325926+00:00",
                    "histogram": null
                  }
                },
                {
                  "name": "_deepnote_index_column",
                  "dtype": "int64"
                }
              ],
              "rows": [
                {
                  "id": 1,
                  "type": "CREATE",
                  "reason": "nan",
                  "batchID": "1",
                  "orderID": "nan",
                  "tradeID": "nan",
                  "pl": "nan",
                  "time": "2025-02-12 15:52:59.277325926+00:00",
                  "_deepnote_index_column": 0
                },
                {
                  "id": 2,
                  "type": "CLIENT_CONFIGURE",
                  "reason": "nan",
                  "batchID": "1",
                  "orderID": "nan",
                  "tradeID": "nan",
                  "pl": "nan",
                  "time": "2025-02-12 15:52:59.277325926+00:00",
                  "_deepnote_index_column": 1
                }
              ],
              "type": "dataframe"
            },
            "text/plain": "   id              type reason batchID orderID tradeID  pl  \\\n0   1            CREATE    NaN       1     NaN     NaN NaN   \n1   2  CLIENT_CONFIGURE    NaN       1     NaN     NaN NaN   \n\n                                 time  \n0 2025-02-12 15:52:59.277325926+00:00  \n1 2025-02-12 15:52:59.277325926+00:00  ",
            "text/html": "<div>\n<style scoped>\n    .dataframe tbody tr th:only-of-type {\n        vertical-align: middle;\n    }\n\n    .dataframe tbody tr th {\n        vertical-align: top;\n    }\n\n    .dataframe thead th {\n        text-align: right;\n    }\n</style>\n<table border=\"1\" class=\"dataframe\">\n  <thead>\n    <tr style=\"text-align: right;\">\n      <th></th>\n      <th>id</th>\n      <th>type</th>\n      <th>reason</th>\n      <th>batchID</th>\n      <th>orderID</th>\n      <th>tradeID</th>\n      <th>pl</th>\n      <th>time</th>\n    </tr>\n  </thead>\n  <tbody>\n    <tr>\n      <th>0</th>\n      <td>1</td>\n      <td>CREATE</td>\n      <td>NaN</td>\n      <td>1</td>\n      <td>NaN</td>\n      <td>NaN</td>\n      <td>NaN</td>\n      <td>2025-02-12 15:52:59.277325926+00:00</td>\n    </tr>\n    <tr>\n      <th>1</th>\n      <td>2</td>\n      <td>CLIENT_CONFIGURE</td>\n      <td>NaN</td>\n      <td>1</td>\n      <td>NaN</td>\n      <td>NaN</td>\n      <td>NaN</td>\n      <td>2025-02-12 15:52:59.277325926+00:00</td>\n    </tr>\n  </tbody>\n</table>\n</div>"
          },
          "metadata": {}
        }
      ],
      "outputs_reference": null,
      "content_dependencies": null
    },
    {
      "cell_type": "code",
      "metadata": {
        "source_hash": "7f8159eb",
        "execution_start": 1743722167369,
        "execution_millis": 1166,
        "sql_integration_id": "deepnote-dataframe-sql",
        "deepnote_table_state": {
          "sortBy": [
            {
              "id": "batchID",
              "type": "asc"
            }
          ],
          "filters": [],
          "pageSize": 5,
          "pageIndex": 0,
          "columnOrder": [
            "batchID",
            "pl",
            "time",
            "order_time"
          ],
          "hiddenColumnIds": [],
          "columnDisplayNames": [],
          "conditionalFilters": [],
          "cellFormattingRules": [],
          "wrappedTextColumnIds": []
        },
        "execution_context_id": "306557ef-a753-4ae1-a005-4a468b58fac6",
        "deepnote_table_loading": false,
        "deepnote_variable_name": "trans_orders",
        "cell_id": "fe8ba156e9a24f609c2e1b38d47bdbaf",
        "deepnote_cell_type": "sql",
        "deepnote_sql_source": "WITH trading_orders AS (\n    SELECT \n        CAST(all1.batchID AS INTEGER) as batchID,\n        base.pl,\n        all1.time,\n        date_trunc('minute', all1.time - INTERVAL '7 minutes') AS order_time\n    FROM all_transactions base \n    LEFT JOIN all_transactions order_filled \n        ON CAST(base.orderID AS INTEGER) = order_filled.id\n    LEFT JOIN all_transactions all1 \n        ON order_filled.batchID = all1.id\n    WHERE base.reason IN ('TAKE_PROFIT_ORDER', 'STOP_LOSS_ORDER')\n)\nSELECT * FROM trading_orders\nORDER BY batchID "
      },
      "source": "trans_orders = _dntk.execute_sql(\n  'WITH trading_orders AS (\\n    SELECT \\n        CAST(all1.batchID AS INTEGER) as batchID,\\n        base.pl,\\n        all1.time,\\n        date_trunc(\\'minute\\', all1.time - INTERVAL \\'7 minutes\\') AS order_time\\n    FROM all_transactions base \\n    LEFT JOIN all_transactions order_filled \\n        ON CAST(base.orderID AS INTEGER) = order_filled.id\\n    LEFT JOIN all_transactions all1 \\n        ON order_filled.batchID = all1.id\\n    WHERE base.reason IN (\\'TAKE_PROFIT_ORDER\\', \\'STOP_LOSS_ORDER\\')\\n)\\nSELECT * FROM trading_orders\\nORDER BY batchID ',\n  'SQL_DEEPNOTE_DATAFRAME_SQL',\n  audit_sql_comment='',\n  sql_cache_mode='cache_disabled',\n  return_variable_type='dataframe'\n)\ntrans_orders",
      "block_group": "639cb0aec93f4f93ad715d106663f29a",
      "execution_count": 11,
      "outputs": [
        {
          "output_type": "execute_result",
          "execution_count": 11,
          "data": {
            "application/vnd.deepnote.dataframe.v3+json": {
              "column_count": 4,
              "row_count": 103,
              "columns": [
                {
                  "name": "batchID",
                  "dtype": "int32",
                  "stats": {
                    "unique_count": 103,
                    "nan_count": 0,
                    "min": "4",
                    "max": "923",
                    "histogram": [
                      {
                        "bin_start": 4,
                        "bin_end": 95.9,
                        "count": 11
                      },
                      {
                        "bin_start": 95.9,
                        "bin_end": 187.8,
                        "count": 12
                      },
                      {
                        "bin_start": 187.8,
                        "bin_end": 279.70000000000005,
                        "count": 15
                      },
                      {
                        "bin_start": 279.70000000000005,
                        "bin_end": 371.6,
                        "count": 10
                      },
                      {
                        "bin_start": 371.6,
                        "bin_end": 463.5,
                        "count": 12
                      },
                      {
                        "bin_start": 463.5,
                        "bin_end": 555.4000000000001,
                        "count": 13
                      },
                      {
                        "bin_start": 555.4000000000001,
                        "bin_end": 647.3000000000001,
                        "count": 11
                      },
                      {
                        "bin_start": 647.3000000000001,
                        "bin_end": 739.2,
                        "count": 13
                      },
                      {
                        "bin_start": 739.2,
                        "bin_end": 831.1,
                        "count": 2
                      },
                      {
                        "bin_start": 831.1,
                        "bin_end": 923,
                        "count": 4
                      }
                    ]
                  }
                },
                {
                  "name": "pl",
                  "dtype": "float64",
                  "stats": {
                    "unique_count": 103,
                    "nan_count": 0,
                    "min": "-1677.5824",
                    "max": "1506.7139",
                    "histogram": [
                      {
                        "bin_start": -1677.5824,
                        "bin_end": -1359.1527700000001,
                        "count": 2
                      },
                      {
                        "bin_start": -1359.1527700000001,
                        "bin_end": -1040.72314,
                        "count": 1
                      },
                      {
                        "bin_start": -1040.72314,
                        "bin_end": -722.2935100000001,
                        "count": 1
                      },
                      {
                        "bin_start": -722.2935100000001,
                        "bin_end": -403.8638800000001,
                        "count": 20
                      },
                      {
                        "bin_start": -403.8638800000001,
                        "bin_end": -85.43425000000002,
                        "count": 16
                      },
                      {
                        "bin_start": -85.43425000000002,
                        "bin_end": 232.99537999999984,
                        "count": 44
                      },
                      {
                        "bin_start": 232.99537999999984,
                        "bin_end": 551.4250099999997,
                        "count": 0
                      },
                      {
                        "bin_start": 551.4250099999997,
                        "bin_end": 869.8546399999998,
                        "count": 2
                      },
                      {
                        "bin_start": 869.8546399999998,
                        "bin_end": 1188.2842699999999,
                        "count": 7
                      },
                      {
                        "bin_start": 1188.2842699999999,
                        "bin_end": 1506.7139,
                        "count": 10
                      }
                    ]
                  }
                },
                {
                  "name": "time",
                  "dtype": "datetime64[us, Etc/UTC]",
                  "stats": {
                    "unique_count": 103,
                    "nan_count": 0,
                    "min": "2025-02-12 15:55:23.415344+00:00",
                    "max": "2025-04-03 19:11:01.256479+00:00",
                    "histogram": [
                      {
                        "bin_start": 1739375723415344,
                        "bin_end": 1739808897199457.5,
                        "count": 2
                      },
                      {
                        "bin_start": 1739808897199457.5,
                        "bin_end": 1740242070983571,
                        "count": 0
                      },
                      {
                        "bin_start": 1740242070983571,
                        "bin_end": 1740675244767684.5,
                        "count": 3
                      },
                      {
                        "bin_start": 1740675244767684.5,
                        "bin_end": 1741108418551798,
                        "count": 1
                      },
                      {
                        "bin_start": 1741108418551798,
                        "bin_end": 1741541592335911.5,
                        "count": 0
                      },
                      {
                        "bin_start": 1741541592335911.5,
                        "bin_end": 1741974766120025,
                        "count": 0
                      },
                      {
                        "bin_start": 1741974766120025,
                        "bin_end": 1742407939904138.5,
                        "count": 21
                      },
                      {
                        "bin_start": 1742407939904138.5,
                        "bin_end": 1742841113688252,
                        "count": 17
                      },
                      {
                        "bin_start": 1742841113688252,
                        "bin_end": 1743274287472365.5,
                        "count": 13
                      },
                      {
                        "bin_start": 1743274287472365.5,
                        "bin_end": 1743707461256479,
                        "count": 46
                      }
                    ]
                  }
                },
                {
                  "name": "order_time",
                  "dtype": "datetime64[us, Etc/UTC]",
                  "stats": {
                    "unique_count": 101,
                    "nan_count": 0,
                    "min": "2025-02-12 15:48:00+00:00",
                    "max": "2025-04-03 19:04:00+00:00",
                    "histogram": [
                      {
                        "bin_start": 1739375280000000,
                        "bin_end": 1739808456000000,
                        "count": 2
                      },
                      {
                        "bin_start": 1739808456000000,
                        "bin_end": 1740241632000000,
                        "count": 0
                      },
                      {
                        "bin_start": 1740241632000000,
                        "bin_end": 1740674808000000,
                        "count": 3
                      },
                      {
                        "bin_start": 1740674808000000,
                        "bin_end": 1741107984000000,
                        "count": 1
                      },
                      {
                        "bin_start": 1741107984000000,
                        "bin_end": 1741541160000000,
                        "count": 0
                      },
                      {
                        "bin_start": 1741541160000000,
                        "bin_end": 1741974336000000,
                        "count": 0
                      },
                      {
                        "bin_start": 1741974336000000,
                        "bin_end": 1742407512000000,
                        "count": 21
                      },
                      {
                        "bin_start": 1742407512000000,
                        "bin_end": 1742840688000000,
                        "count": 17
                      },
                      {
                        "bin_start": 1742840688000000,
                        "bin_end": 1743273864000000,
                        "count": 13
                      },
                      {
                        "bin_start": 1743273864000000,
                        "bin_end": 1743707040000000,
                        "count": 46
                      }
                    ]
                  }
                },
                {
                  "name": "_deepnote_index_column",
                  "dtype": "int64"
                }
              ],
              "rows": [
                {
                  "batchID": 4,
                  "pl": -2.0423,
                  "time": "2025-02-12 15:55:23.415344+00:00",
                  "order_time": "2025-02-12 15:48:00+00:00",
                  "_deepnote_index_column": 0
                },
                {
                  "batchID": 18,
                  "pl": -2.7433,
                  "time": "2025-02-13 02:15:20.220511+00:00",
                  "order_time": "2025-02-13 02:08:00+00:00",
                  "_deepnote_index_column": 1
                },
                {
                  "batchID": 22,
                  "pl": -0.0079,
                  "time": "2025-02-27 01:19:36.388815+00:00",
                  "order_time": "2025-02-27 01:12:00+00:00",
                  "_deepnote_index_column": 2
                },
                {
                  "batchID": 26,
                  "pl": -0.0167,
                  "time": "2025-02-27 01:25:41.603451+00:00",
                  "order_time": "2025-02-27 01:18:00+00:00",
                  "_deepnote_index_column": 3
                },
                {
                  "batchID": 38,
                  "pl": -0.0159,
                  "time": "2025-02-27 12:47:18.701539+00:00",
                  "order_time": "2025-02-27 12:40:00+00:00",
                  "_deepnote_index_column": 4
                }
              ],
              "type": "dataframe"
            },
            "text/plain": "     batchID         pl                             time  \\\n0          4    -2.0423 2025-02-12 15:55:23.415344+00:00   \n1         18    -2.7433 2025-02-13 02:15:20.220511+00:00   \n2         22    -0.0079 2025-02-27 01:19:36.388815+00:00   \n3         26    -0.0167 2025-02-27 01:25:41.603451+00:00   \n4         38    -0.0159 2025-02-27 12:47:18.701539+00:00   \n..       ...        ...                              ...   \n98       801     0.0006 2025-04-02 22:27:27.901929+00:00   \n99       832     0.0003 2025-04-02 22:42:22.780999+00:00   \n100      841     0.0001 2025-04-02 22:45:55.021637+00:00   \n101      919  1292.8004 2025-04-03 18:56:01.961608+00:00   \n102      923  1216.8928 2025-04-03 19:11:01.256479+00:00   \n\n                   order_time  \n0   2025-02-12 15:48:00+00:00  \n1   2025-02-13 02:08:00+00:00  \n2   2025-02-27 01:12:00+00:00  \n3   2025-02-27 01:18:00+00:00  \n4   2025-02-27 12:40:00+00:00  \n..                        ...  \n98  2025-04-02 22:20:00+00:00  \n99  2025-04-02 22:35:00+00:00  \n100 2025-04-02 22:38:00+00:00  \n101 2025-04-03 18:49:00+00:00  \n102 2025-04-03 19:04:00+00:00  \n\n[103 rows x 4 columns]",
            "text/html": "<div>\n<style scoped>\n    .dataframe tbody tr th:only-of-type {\n        vertical-align: middle;\n    }\n\n    .dataframe tbody tr th {\n        vertical-align: top;\n    }\n\n    .dataframe thead th {\n        text-align: right;\n    }\n</style>\n<table border=\"1\" class=\"dataframe\">\n  <thead>\n    <tr style=\"text-align: right;\">\n      <th></th>\n      <th>batchID</th>\n      <th>pl</th>\n      <th>time</th>\n      <th>order_time</th>\n    </tr>\n  </thead>\n  <tbody>\n    <tr>\n      <th>0</th>\n      <td>4</td>\n      <td>-2.0423</td>\n      <td>2025-02-12 15:55:23.415344+00:00</td>\n      <td>2025-02-12 15:48:00+00:00</td>\n    </tr>\n    <tr>\n      <th>1</th>\n      <td>18</td>\n      <td>-2.7433</td>\n      <td>2025-02-13 02:15:20.220511+00:00</td>\n      <td>2025-02-13 02:08:00+00:00</td>\n    </tr>\n    <tr>\n      <th>2</th>\n      <td>22</td>\n      <td>-0.0079</td>\n      <td>2025-02-27 01:19:36.388815+00:00</td>\n      <td>2025-02-27 01:12:00+00:00</td>\n    </tr>\n    <tr>\n      <th>3</th>\n      <td>26</td>\n      <td>-0.0167</td>\n      <td>2025-02-27 01:25:41.603451+00:00</td>\n      <td>2025-02-27 01:18:00+00:00</td>\n    </tr>\n    <tr>\n      <th>4</th>\n      <td>38</td>\n      <td>-0.0159</td>\n      <td>2025-02-27 12:47:18.701539+00:00</td>\n      <td>2025-02-27 12:40:00+00:00</td>\n    </tr>\n    <tr>\n      <th>...</th>\n      <td>...</td>\n      <td>...</td>\n      <td>...</td>\n      <td>...</td>\n    </tr>\n    <tr>\n      <th>98</th>\n      <td>801</td>\n      <td>0.0006</td>\n      <td>2025-04-02 22:27:27.901929+00:00</td>\n      <td>2025-04-02 22:20:00+00:00</td>\n    </tr>\n    <tr>\n      <th>99</th>\n      <td>832</td>\n      <td>0.0003</td>\n      <td>2025-04-02 22:42:22.780999+00:00</td>\n      <td>2025-04-02 22:35:00+00:00</td>\n    </tr>\n    <tr>\n      <th>100</th>\n      <td>841</td>\n      <td>0.0001</td>\n      <td>2025-04-02 22:45:55.021637+00:00</td>\n      <td>2025-04-02 22:38:00+00:00</td>\n    </tr>\n    <tr>\n      <th>101</th>\n      <td>919</td>\n      <td>1292.8004</td>\n      <td>2025-04-03 18:56:01.961608+00:00</td>\n      <td>2025-04-03 18:49:00+00:00</td>\n    </tr>\n    <tr>\n      <th>102</th>\n      <td>923</td>\n      <td>1216.8928</td>\n      <td>2025-04-03 19:11:01.256479+00:00</td>\n      <td>2025-04-03 19:04:00+00:00</td>\n    </tr>\n  </tbody>\n</table>\n<p>103 rows × 4 columns</p>\n</div>"
          },
          "metadata": {}
        }
      ],
      "outputs_reference": null,
      "content_dependencies": null
    },
    {
      "cell_type": "code",
      "metadata": {
        "source_hash": "9ad08d40",
        "execution_start": 1743722168586,
        "execution_millis": 0,
        "deepnote_table_state": {
          "sortBy": [
            {
              "id": "batchID",
              "type": "asc"
            }
          ],
          "filters": [],
          "pageSize": 5,
          "pageIndex": 10,
          "columnOrder": [
            "batchID",
            "pl",
            "time",
            "order_time"
          ],
          "hiddenColumnIds": [],
          "columnDisplayNames": [],
          "conditionalFilters": [],
          "cellFormattingRules": [],
          "wrappedTextColumnIds": []
        },
        "execution_context_id": "306557ef-a753-4ae1-a005-4a468b58fac6",
        "deepnote_table_loading": false,
        "cell_id": "22d37a7c694b4a53bc2f17ffabda0684",
        "deepnote_cell_type": "code"
      },
      "source": "trans_orders",
      "block_group": "fa8f8754e869476f85588e6097706ed9",
      "execution_count": 12,
      "outputs": [
        {
          "output_type": "execute_result",
          "execution_count": 12,
          "data": {
            "application/vnd.deepnote.dataframe.v3+json": {
              "column_count": 4,
              "row_count": 103,
              "columns": [
                {
                  "name": "batchID",
                  "dtype": "int32",
                  "stats": {
                    "unique_count": 103,
                    "nan_count": 0,
                    "min": "4",
                    "max": "923",
                    "histogram": [
                      {
                        "bin_start": 4,
                        "bin_end": 95.9,
                        "count": 11
                      },
                      {
                        "bin_start": 95.9,
                        "bin_end": 187.8,
                        "count": 12
                      },
                      {
                        "bin_start": 187.8,
                        "bin_end": 279.70000000000005,
                        "count": 15
                      },
                      {
                        "bin_start": 279.70000000000005,
                        "bin_end": 371.6,
                        "count": 10
                      },
                      {
                        "bin_start": 371.6,
                        "bin_end": 463.5,
                        "count": 12
                      },
                      {
                        "bin_start": 463.5,
                        "bin_end": 555.4000000000001,
                        "count": 13
                      },
                      {
                        "bin_start": 555.4000000000001,
                        "bin_end": 647.3000000000001,
                        "count": 11
                      },
                      {
                        "bin_start": 647.3000000000001,
                        "bin_end": 739.2,
                        "count": 13
                      },
                      {
                        "bin_start": 739.2,
                        "bin_end": 831.1,
                        "count": 2
                      },
                      {
                        "bin_start": 831.1,
                        "bin_end": 923,
                        "count": 4
                      }
                    ]
                  }
                },
                {
                  "name": "pl",
                  "dtype": "float64",
                  "stats": {
                    "unique_count": 103,
                    "nan_count": 0,
                    "min": "-1677.5824",
                    "max": "1506.7139",
                    "histogram": [
                      {
                        "bin_start": -1677.5824,
                        "bin_end": -1359.1527700000001,
                        "count": 2
                      },
                      {
                        "bin_start": -1359.1527700000001,
                        "bin_end": -1040.72314,
                        "count": 1
                      },
                      {
                        "bin_start": -1040.72314,
                        "bin_end": -722.2935100000001,
                        "count": 1
                      },
                      {
                        "bin_start": -722.2935100000001,
                        "bin_end": -403.8638800000001,
                        "count": 20
                      },
                      {
                        "bin_start": -403.8638800000001,
                        "bin_end": -85.43425000000002,
                        "count": 16
                      },
                      {
                        "bin_start": -85.43425000000002,
                        "bin_end": 232.99537999999984,
                        "count": 44
                      },
                      {
                        "bin_start": 232.99537999999984,
                        "bin_end": 551.4250099999997,
                        "count": 0
                      },
                      {
                        "bin_start": 551.4250099999997,
                        "bin_end": 869.8546399999998,
                        "count": 2
                      },
                      {
                        "bin_start": 869.8546399999998,
                        "bin_end": 1188.2842699999999,
                        "count": 7
                      },
                      {
                        "bin_start": 1188.2842699999999,
                        "bin_end": 1506.7139,
                        "count": 10
                      }
                    ]
                  }
                },
                {
                  "name": "time",
                  "dtype": "datetime64[us, Etc/UTC]",
                  "stats": {
                    "unique_count": 103,
                    "nan_count": 0,
                    "min": "2025-02-12 15:55:23.415344+00:00",
                    "max": "2025-04-03 19:11:01.256479+00:00",
                    "histogram": [
                      {
                        "bin_start": 1739375723415344,
                        "bin_end": 1739808897199457.5,
                        "count": 2
                      },
                      {
                        "bin_start": 1739808897199457.5,
                        "bin_end": 1740242070983571,
                        "count": 0
                      },
                      {
                        "bin_start": 1740242070983571,
                        "bin_end": 1740675244767684.5,
                        "count": 3
                      },
                      {
                        "bin_start": 1740675244767684.5,
                        "bin_end": 1741108418551798,
                        "count": 1
                      },
                      {
                        "bin_start": 1741108418551798,
                        "bin_end": 1741541592335911.5,
                        "count": 0
                      },
                      {
                        "bin_start": 1741541592335911.5,
                        "bin_end": 1741974766120025,
                        "count": 0
                      },
                      {
                        "bin_start": 1741974766120025,
                        "bin_end": 1742407939904138.5,
                        "count": 21
                      },
                      {
                        "bin_start": 1742407939904138.5,
                        "bin_end": 1742841113688252,
                        "count": 17
                      },
                      {
                        "bin_start": 1742841113688252,
                        "bin_end": 1743274287472365.5,
                        "count": 13
                      },
                      {
                        "bin_start": 1743274287472365.5,
                        "bin_end": 1743707461256479,
                        "count": 46
                      }
                    ]
                  }
                },
                {
                  "name": "order_time",
                  "dtype": "datetime64[us, Etc/UTC]",
                  "stats": {
                    "unique_count": 101,
                    "nan_count": 0,
                    "min": "2025-02-12 15:48:00+00:00",
                    "max": "2025-04-03 19:04:00+00:00",
                    "histogram": [
                      {
                        "bin_start": 1739375280000000,
                        "bin_end": 1739808456000000,
                        "count": 2
                      },
                      {
                        "bin_start": 1739808456000000,
                        "bin_end": 1740241632000000,
                        "count": 0
                      },
                      {
                        "bin_start": 1740241632000000,
                        "bin_end": 1740674808000000,
                        "count": 3
                      },
                      {
                        "bin_start": 1740674808000000,
                        "bin_end": 1741107984000000,
                        "count": 1
                      },
                      {
                        "bin_start": 1741107984000000,
                        "bin_end": 1741541160000000,
                        "count": 0
                      },
                      {
                        "bin_start": 1741541160000000,
                        "bin_end": 1741974336000000,
                        "count": 0
                      },
                      {
                        "bin_start": 1741974336000000,
                        "bin_end": 1742407512000000,
                        "count": 21
                      },
                      {
                        "bin_start": 1742407512000000,
                        "bin_end": 1742840688000000,
                        "count": 17
                      },
                      {
                        "bin_start": 1742840688000000,
                        "bin_end": 1743273864000000,
                        "count": 13
                      },
                      {
                        "bin_start": 1743273864000000,
                        "bin_end": 1743707040000000,
                        "count": 46
                      }
                    ]
                  }
                },
                {
                  "name": "_deepnote_index_column",
                  "dtype": "int64"
                }
              ],
              "rows": [
                {
                  "batchID": 390,
                  "pl": -436.4482,
                  "time": "2025-03-26 16:42:01.661403+00:00",
                  "order_time": "2025-03-26 16:35:00+00:00",
                  "_deepnote_index_column": 50
                },
                {
                  "batchID": 404,
                  "pl": -482.2326,
                  "time": "2025-03-27 09:07:02.264553+00:00",
                  "order_time": "2025-03-27 09:00:00+00:00",
                  "_deepnote_index_column": 51
                },
                {
                  "batchID": 410,
                  "pl": 1502.6969,
                  "time": "2025-03-27 14:55:02.105507+00:00",
                  "order_time": "2025-03-27 14:48:00+00:00",
                  "_deepnote_index_column": 52
                },
                {
                  "batchID": 414,
                  "pl": 1464.3571,
                  "time": "2025-03-27 15:00:01.821056+00:00",
                  "order_time": "2025-03-27 14:53:00+00:00",
                  "_deepnote_index_column": 53
                },
                {
                  "batchID": 422,
                  "pl": 629.8878,
                  "time": "2025-03-28 12:55:01.805501+00:00",
                  "order_time": "2025-03-28 12:48:00+00:00",
                  "_deepnote_index_column": 54
                }
              ],
              "type": "dataframe"
            },
            "text/plain": "     batchID         pl                             time  \\\n0          4    -2.0423 2025-02-12 15:55:23.415344+00:00   \n1         18    -2.7433 2025-02-13 02:15:20.220511+00:00   \n2         22    -0.0079 2025-02-27 01:19:36.388815+00:00   \n3         26    -0.0167 2025-02-27 01:25:41.603451+00:00   \n4         38    -0.0159 2025-02-27 12:47:18.701539+00:00   \n..       ...        ...                              ...   \n98       801     0.0006 2025-04-02 22:27:27.901929+00:00   \n99       832     0.0003 2025-04-02 22:42:22.780999+00:00   \n100      841     0.0001 2025-04-02 22:45:55.021637+00:00   \n101      919  1292.8004 2025-04-03 18:56:01.961608+00:00   \n102      923  1216.8928 2025-04-03 19:11:01.256479+00:00   \n\n                   order_time  \n0   2025-02-12 15:48:00+00:00  \n1   2025-02-13 02:08:00+00:00  \n2   2025-02-27 01:12:00+00:00  \n3   2025-02-27 01:18:00+00:00  \n4   2025-02-27 12:40:00+00:00  \n..                        ...  \n98  2025-04-02 22:20:00+00:00  \n99  2025-04-02 22:35:00+00:00  \n100 2025-04-02 22:38:00+00:00  \n101 2025-04-03 18:49:00+00:00  \n102 2025-04-03 19:04:00+00:00  \n\n[103 rows x 4 columns]",
            "text/html": "<div>\n<style scoped>\n    .dataframe tbody tr th:only-of-type {\n        vertical-align: middle;\n    }\n\n    .dataframe tbody tr th {\n        vertical-align: top;\n    }\n\n    .dataframe thead th {\n        text-align: right;\n    }\n</style>\n<table border=\"1\" class=\"dataframe\">\n  <thead>\n    <tr style=\"text-align: right;\">\n      <th></th>\n      <th>batchID</th>\n      <th>pl</th>\n      <th>time</th>\n      <th>order_time</th>\n    </tr>\n  </thead>\n  <tbody>\n    <tr>\n      <th>0</th>\n      <td>4</td>\n      <td>-2.0423</td>\n      <td>2025-02-12 15:55:23.415344+00:00</td>\n      <td>2025-02-12 15:48:00+00:00</td>\n    </tr>\n    <tr>\n      <th>1</th>\n      <td>18</td>\n      <td>-2.7433</td>\n      <td>2025-02-13 02:15:20.220511+00:00</td>\n      <td>2025-02-13 02:08:00+00:00</td>\n    </tr>\n    <tr>\n      <th>2</th>\n      <td>22</td>\n      <td>-0.0079</td>\n      <td>2025-02-27 01:19:36.388815+00:00</td>\n      <td>2025-02-27 01:12:00+00:00</td>\n    </tr>\n    <tr>\n      <th>3</th>\n      <td>26</td>\n      <td>-0.0167</td>\n      <td>2025-02-27 01:25:41.603451+00:00</td>\n      <td>2025-02-27 01:18:00+00:00</td>\n    </tr>\n    <tr>\n      <th>4</th>\n      <td>38</td>\n      <td>-0.0159</td>\n      <td>2025-02-27 12:47:18.701539+00:00</td>\n      <td>2025-02-27 12:40:00+00:00</td>\n    </tr>\n    <tr>\n      <th>...</th>\n      <td>...</td>\n      <td>...</td>\n      <td>...</td>\n      <td>...</td>\n    </tr>\n    <tr>\n      <th>98</th>\n      <td>801</td>\n      <td>0.0006</td>\n      <td>2025-04-02 22:27:27.901929+00:00</td>\n      <td>2025-04-02 22:20:00+00:00</td>\n    </tr>\n    <tr>\n      <th>99</th>\n      <td>832</td>\n      <td>0.0003</td>\n      <td>2025-04-02 22:42:22.780999+00:00</td>\n      <td>2025-04-02 22:35:00+00:00</td>\n    </tr>\n    <tr>\n      <th>100</th>\n      <td>841</td>\n      <td>0.0001</td>\n      <td>2025-04-02 22:45:55.021637+00:00</td>\n      <td>2025-04-02 22:38:00+00:00</td>\n    </tr>\n    <tr>\n      <th>101</th>\n      <td>919</td>\n      <td>1292.8004</td>\n      <td>2025-04-03 18:56:01.961608+00:00</td>\n      <td>2025-04-03 18:49:00+00:00</td>\n    </tr>\n    <tr>\n      <th>102</th>\n      <td>923</td>\n      <td>1216.8928</td>\n      <td>2025-04-03 19:11:01.256479+00:00</td>\n      <td>2025-04-03 19:04:00+00:00</td>\n    </tr>\n  </tbody>\n</table>\n<p>103 rows × 4 columns</p>\n</div>"
          },
          "metadata": {}
        }
      ],
      "outputs_reference": null,
      "content_dependencies": null
    },
    {
      "cell_type": "code",
      "metadata": {
        "source_hash": "5c596a7a",
        "execution_start": 1743722168635,
        "execution_millis": 1,
        "execution_context_id": "306557ef-a753-4ae1-a005-4a468b58fac6",
        "cell_id": "5a8128d543b847a2a0e26d05ab5ff405",
        "deepnote_cell_type": "code"
      },
      "source": "all_transactions['date'] = all_transactions['time'].dt.date\nall_transactions = all_transactions[all_transactions['date'] == all_transactions['date'].max()]\nall_transactions['pl'] = pd.to_numeric(all_transactions['pl'])\nall_transactions[all_transactions['reason'].isin(['STOP_LOSS_ORDER', 'TAKE_PROFIT_ORDER'])].groupby('reason')['pl'].sum()",
      "block_group": "a1631987ca4d4a7b9cb2a7da7bef9c03",
      "execution_count": 13,
      "outputs": [
        {
          "output_type": "execute_result",
          "execution_count": 13,
          "data": {
            "text/plain": "reason\nTAKE_PROFIT_ORDER    2509.6932\nName: pl, dtype: float64"
          },
          "metadata": {}
        }
      ],
      "outputs_reference": null,
      "content_dependencies": null
    },
    {
      "cell_type": "code",
      "metadata": {
        "source_hash": "86aace64",
        "execution_start": 1743722172292,
        "execution_millis": 2,
        "execution_context_id": "306557ef-a753-4ae1-a005-4a468b58fac6",
        "cell_id": "baa8fe0e4f2846f5846eeb7124639fde",
        "deepnote_cell_type": "code"
      },
      "source": "print(all_transactions[all_transactions['reason'].isin(['STOP_LOSS_ORDER', 'TAKE_PROFIT_ORDER'])].groupby('reason')['pl'].sum())\nprint(all_transactions[all_transactions['reason'].isin(['STOP_LOSS_ORDER', 'TAKE_PROFIT_ORDER'])].groupby('reason')['pl'].count())",
      "block_group": "7195981fa80845cea91f7e1a631d10b4",
      "execution_count": 15,
      "outputs": [
        {
          "name": "stdout",
          "text": "reason\nTAKE_PROFIT_ORDER    2509.6932\nName: pl, dtype: float64\nreason\nTAKE_PROFIT_ORDER    2\nName: pl, dtype: int64\n",
          "output_type": "stream"
        }
      ],
      "outputs_reference": null,
      "content_dependencies": null
    },
    {
      "cell_type": "code",
      "metadata": {
        "source_hash": "3bce06be",
        "execution_start": 1743722182825,
        "execution_millis": 1,
        "execution_context_id": "306557ef-a753-4ae1-a005-4a468b58fac6",
        "cell_id": "33cd0e2c24704f37a0d180907a98825e",
        "deepnote_cell_type": "code"
      },
      "source": "total_pl=all_transactions[all_transactions['reason'].isin(['STOP_LOSS_ORDER', 'TAKE_PROFIT_ORDER'])].groupby('reason')['pl'].sum()",
      "block_group": "1f9d65ba354d4c5cb38a6817d8a6eb02",
      "execution_count": 17,
      "outputs": [],
      "outputs_reference": null,
      "content_dependencies": null
    },
    {
      "cell_type": "code",
      "metadata": {
        "source_hash": "6c00cf57",
        "execution_start": 1743722185697,
        "execution_millis": 925,
        "execution_context_id": "306557ef-a753-4ae1-a005-4a468b58fac6",
        "cell_id": "83f73c3a213d4a55ab993c70f16a3733",
        "deepnote_cell_type": "code"
      },
      "source": "total_pl['STOP_LOSS_ORDER'] + total_pl['TAKE_PROFIT_ORDER']",
      "block_group": "69dc3970ddf9493099febda52917da83",
      "execution_count": 19,
      "outputs": [
        {
          "output_type": "error",
          "ename": "KeyError",
          "evalue": "'STOP_LOSS_ORDER'",
          "traceback": [
            "\u001b[0;31m---------------------------------------------------------------------------\u001b[0m",
            "\u001b[0;31mKeyError\u001b[0m                                  Traceback (most recent call last)",
            "File \u001b[0;32m~/venv/lib/python3.10/site-packages/pandas/core/indexes/base.py:3791\u001b[0m, in \u001b[0;36mIndex.get_loc\u001b[0;34m(self, key)\u001b[0m\n\u001b[1;32m   3790\u001b[0m \u001b[38;5;28;01mtry\u001b[39;00m:\n\u001b[0;32m-> 3791\u001b[0m     \u001b[38;5;28;01mreturn\u001b[39;00m \u001b[38;5;28;43mself\u001b[39;49m\u001b[38;5;241;43m.\u001b[39;49m\u001b[43m_engine\u001b[49m\u001b[38;5;241;43m.\u001b[39;49m\u001b[43mget_loc\u001b[49m\u001b[43m(\u001b[49m\u001b[43mcasted_key\u001b[49m\u001b[43m)\u001b[49m\n\u001b[1;32m   3792\u001b[0m \u001b[38;5;28;01mexcept\u001b[39;00m \u001b[38;5;167;01mKeyError\u001b[39;00m \u001b[38;5;28;01mas\u001b[39;00m err:\n",
            "File \u001b[0;32mindex.pyx:152\u001b[0m, in \u001b[0;36mpandas._libs.index.IndexEngine.get_loc\u001b[0;34m()\u001b[0m\n",
            "File \u001b[0;32mindex.pyx:181\u001b[0m, in \u001b[0;36mpandas._libs.index.IndexEngine.get_loc\u001b[0;34m()\u001b[0m\n",
            "File \u001b[0;32mpandas/_libs/hashtable_class_helper.pxi:7080\u001b[0m, in \u001b[0;36mpandas._libs.hashtable.PyObjectHashTable.get_item\u001b[0;34m()\u001b[0m\n",
            "File \u001b[0;32mpandas/_libs/hashtable_class_helper.pxi:7088\u001b[0m, in \u001b[0;36mpandas._libs.hashtable.PyObjectHashTable.get_item\u001b[0;34m()\u001b[0m\n",
            "\u001b[0;31mKeyError\u001b[0m: 'STOP_LOSS_ORDER'",
            "\nThe above exception was the direct cause of the following exception:\n",
            "\u001b[0;31mKeyError\u001b[0m                                  Traceback (most recent call last)",
            "Cell \u001b[0;32mIn[19], line 1\u001b[0m\n\u001b[0;32m----> 1\u001b[0m \u001b[43mtotal_pl\u001b[49m\u001b[43m[\u001b[49m\u001b[38;5;124;43m'\u001b[39;49m\u001b[38;5;124;43mSTOP_LOSS_ORDER\u001b[39;49m\u001b[38;5;124;43m'\u001b[39;49m\u001b[43m]\u001b[49m \u001b[38;5;241m+\u001b[39m total_pl[\u001b[38;5;124m'\u001b[39m\u001b[38;5;124mTAKE_PROFIT_ORDER\u001b[39m\u001b[38;5;124m'\u001b[39m]\n",
            "File \u001b[0;32m~/venv/lib/python3.10/site-packages/pandas/core/series.py:1040\u001b[0m, in \u001b[0;36mSeries.__getitem__\u001b[0;34m(self, key)\u001b[0m\n\u001b[1;32m   1037\u001b[0m     \u001b[38;5;28;01mreturn\u001b[39;00m \u001b[38;5;28mself\u001b[39m\u001b[38;5;241m.\u001b[39m_values[key]\n\u001b[1;32m   1039\u001b[0m \u001b[38;5;28;01melif\u001b[39;00m key_is_scalar:\n\u001b[0;32m-> 1040\u001b[0m     \u001b[38;5;28;01mreturn\u001b[39;00m \u001b[38;5;28;43mself\u001b[39;49m\u001b[38;5;241;43m.\u001b[39;49m\u001b[43m_get_value\u001b[49m\u001b[43m(\u001b[49m\u001b[43mkey\u001b[49m\u001b[43m)\u001b[49m\n\u001b[1;32m   1042\u001b[0m \u001b[38;5;66;03m# Convert generator to list before going through hashable part\u001b[39;00m\n\u001b[1;32m   1043\u001b[0m \u001b[38;5;66;03m# (We will iterate through the generator there to check for slices)\u001b[39;00m\n\u001b[1;32m   1044\u001b[0m \u001b[38;5;28;01mif\u001b[39;00m is_iterator(key):\n",
            "File \u001b[0;32m~/venv/lib/python3.10/site-packages/pandas/core/series.py:1156\u001b[0m, in \u001b[0;36mSeries._get_value\u001b[0;34m(self, label, takeable)\u001b[0m\n\u001b[1;32m   1153\u001b[0m     \u001b[38;5;28;01mreturn\u001b[39;00m \u001b[38;5;28mself\u001b[39m\u001b[38;5;241m.\u001b[39m_values[label]\n\u001b[1;32m   1155\u001b[0m \u001b[38;5;66;03m# Similar to Index.get_value, but we do not fall back to positional\u001b[39;00m\n\u001b[0;32m-> 1156\u001b[0m loc \u001b[38;5;241m=\u001b[39m \u001b[38;5;28;43mself\u001b[39;49m\u001b[38;5;241;43m.\u001b[39;49m\u001b[43mindex\u001b[49m\u001b[38;5;241;43m.\u001b[39;49m\u001b[43mget_loc\u001b[49m\u001b[43m(\u001b[49m\u001b[43mlabel\u001b[49m\u001b[43m)\u001b[49m\n\u001b[1;32m   1158\u001b[0m \u001b[38;5;28;01mif\u001b[39;00m is_integer(loc):\n\u001b[1;32m   1159\u001b[0m     \u001b[38;5;28;01mreturn\u001b[39;00m \u001b[38;5;28mself\u001b[39m\u001b[38;5;241m.\u001b[39m_values[loc]\n",
            "File \u001b[0;32m~/venv/lib/python3.10/site-packages/pandas/core/indexes/base.py:3798\u001b[0m, in \u001b[0;36mIndex.get_loc\u001b[0;34m(self, key)\u001b[0m\n\u001b[1;32m   3793\u001b[0m     \u001b[38;5;28;01mif\u001b[39;00m \u001b[38;5;28misinstance\u001b[39m(casted_key, \u001b[38;5;28mslice\u001b[39m) \u001b[38;5;129;01mor\u001b[39;00m (\n\u001b[1;32m   3794\u001b[0m         \u001b[38;5;28misinstance\u001b[39m(casted_key, abc\u001b[38;5;241m.\u001b[39mIterable)\n\u001b[1;32m   3795\u001b[0m         \u001b[38;5;129;01mand\u001b[39;00m \u001b[38;5;28many\u001b[39m(\u001b[38;5;28misinstance\u001b[39m(x, \u001b[38;5;28mslice\u001b[39m) \u001b[38;5;28;01mfor\u001b[39;00m x \u001b[38;5;129;01min\u001b[39;00m casted_key)\n\u001b[1;32m   3796\u001b[0m     ):\n\u001b[1;32m   3797\u001b[0m         \u001b[38;5;28;01mraise\u001b[39;00m InvalidIndexError(key)\n\u001b[0;32m-> 3798\u001b[0m     \u001b[38;5;28;01mraise\u001b[39;00m \u001b[38;5;167;01mKeyError\u001b[39;00m(key) \u001b[38;5;28;01mfrom\u001b[39;00m\u001b[38;5;250m \u001b[39m\u001b[38;5;21;01merr\u001b[39;00m\n\u001b[1;32m   3799\u001b[0m \u001b[38;5;28;01mexcept\u001b[39;00m \u001b[38;5;167;01mTypeError\u001b[39;00m:\n\u001b[1;32m   3800\u001b[0m     \u001b[38;5;66;03m# If we have a listlike key, _check_indexing_error will raise\u001b[39;00m\n\u001b[1;32m   3801\u001b[0m     \u001b[38;5;66;03m#  InvalidIndexError. Otherwise we fall through and re-raise\u001b[39;00m\n\u001b[1;32m   3802\u001b[0m     \u001b[38;5;66;03m#  the TypeError.\u001b[39;00m\n\u001b[1;32m   3803\u001b[0m     \u001b[38;5;28mself\u001b[39m\u001b[38;5;241m.\u001b[39m_check_indexing_error(key)\n",
            "\u001b[0;31mKeyError\u001b[0m: 'STOP_LOSS_ORDER'"
          ]
        }
      ],
      "outputs_reference": null,
      "content_dependencies": null
    },
    {
      "cell_type": "code",
      "metadata": {
        "source_hash": "1dfe3fda",
        "execution_start": 1743722192116,
        "execution_millis": 2,
        "execution_context_id": "306557ef-a753-4ae1-a005-4a468b58fac6",
        "cell_id": "2dbbd32ed9314e64b13c24a831684b36",
        "deepnote_cell_type": "code"
      },
      "source": "pd.to_numeric(all_transactions['halfSpreadCost']).sum()",
      "block_group": "fc4502b53fa744aab63887bd4ecf387a",
      "execution_count": 21,
      "outputs": [
        {
          "output_type": "execute_result",
          "execution_count": 21,
          "data": {
            "text/plain": "929.3706999999999"
          },
          "metadata": {}
        }
      ],
      "outputs_reference": null,
      "content_dependencies": null
    },
    {
      "cell_type": "code",
      "metadata": {
        "cell_id": "3cd4b2ba56744de1bf74ef8d6ae54d85",
        "deepnote_cell_type": "code"
      },
      "source": "",
      "block_group": "208f7fffa9644af284962302696c4547",
      "execution_count": null,
      "outputs": [],
      "outputs_reference": null,
      "content_dependencies": null
    },
    {
      "cell_type": "markdown",
      "source": "<a style='text-decoration:none;line-height:16px;display:flex;color:#5B5B62;padding:10px;justify-content:end;' href='https://deepnote.com?utm_source=created-in-deepnote-cell&projectId=a127aa9e-0a77-4af9-a6ce-85e7a9b74042' target=\"_blank\">\n<img alt='Created in deepnote.com' style='display:inline;max-height:16px;margin:0px;margin-right:7.5px;' src='data:image/svg+xml;base64,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' > </img>\nCreated in <span style='font-weight:600;margin-left:4px;'>Deepnote</span></a>",
      "metadata": {
        "created_in_deepnote_cell": true,
        "deepnote_cell_type": "markdown"
      }
    }
  ],
  "nbformat": 4,
  "nbformat_minor": 0,
  "metadata": {
    "deepnote_persisted_session": {
      "createdAt": "2025-04-04T21:15:34.668Z"
    },
    "deepnote_notebook_id": "77432b1dee9c4e5980e363ebe2995386"
  }
}