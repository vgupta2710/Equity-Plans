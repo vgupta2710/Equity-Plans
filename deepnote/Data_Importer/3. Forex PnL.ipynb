{
  "cells": [
    {
      "cell_type": "code",
      "metadata": {
        "source_hash": "74a9bca0",
        "execution_start": 1744132215586,
        "execution_millis": 2,
        "execution_context_id": "4871396d-a585-48ac-9423-c662bb426968",
        "cell_id": "936a9ae588564d0abf5fb76626c620d6",
        "deepnote_cell_type": "code"
      },
      "source": "import os\naccess_token = os.environ[\"ACCESS_TOKEN\"]\naccount_id_demo = os.environ[\"ACCOUNT_DEMO\"]\naccount_id_hedge = os.environ[\"ACCOUNT_HEDGE\"]\nimport oandapyV20\nimport oandapyV20.endpoints.transactions as trans\nimport pandas as pd",
      "block_group": "936a9ae588564d0abf5fb76626c620d6",
      "execution_count": 18,
      "outputs": [],
      "outputs_reference": null,
      "content_dependencies": null
    },
    {
      "cell_type": "code",
      "metadata": {
        "source_hash": "517d3b93",
        "execution_start": 1744155334731,
        "execution_millis": 343,
        "execution_context_id": "4871396d-a585-48ac-9423-c662bb426968",
        "cell_id": "4b7c591013e64d1faf326f5ab951689f",
        "deepnote_cell_type": "code"
      },
      "source": "client = oandapyV20.API(access_token=access_token)\nparam = { \"id\": 900 }\nr = trans.TransactionsSinceID(accountID=account_id_demo,  params=param)\ntrades= client.request(r)\nparam1 = { \"id\": 0 }\nrequest_hedge = trans.TransactionsSinceID(accountID=account_id_hedge,  params=param1)\ntrades_hedge= client.request(request_hedge)",
      "block_group": "da0bcd9836484df49e01f0085a50a6bc",
      "execution_count": 111,
      "outputs": [],
      "outputs_reference": null,
      "content_dependencies": null
    },
    {
      "cell_type": "code",
      "metadata": {
        "source_hash": "d5ef34a1",
        "execution_start": 1744155335126,
        "execution_millis": 0,
        "execution_context_id": "4871396d-a585-48ac-9423-c662bb426968",
        "cell_id": "428356300bb2463d81adc9ea14342c4f",
        "deepnote_cell_type": "code"
      },
      "source": "all_transactions_hedge = pd.DataFrame(trades_hedge['transactions'])\nall_transactions = pd.DataFrame(trades['transactions'])\nall_transactions = pd.concat([all_transactions_hedge,all_transactions])\nall_transactions['time'] = pd.to_datetime(all_transactions['time'])\nall_transactions['date'] = all_transactions['time'].dt.date\nall_transactions = all_transactions[all_transactions['date'] == all_transactions['date'].max()]\nall_transactions['pl'] = pd.to_numeric(all_transactions['pl'])\nprint(all_transactions[all_transactions['reason'].isin(['TRAILING_STOP_LOSS_ORDER', 'TAKE_PROFIT_ORDER'])].groupby(['accountID','reason'])['pl'].sum())\nprint(all_transactions['pl'].sum())",
      "block_group": "169c2c89203341ed8ed14d6bd748c360",
      "execution_count": 112,
      "outputs": [
        {
          "name": "stdout",
          "text": "accountID             reason                  \n101-004-31059296-001  TAKE_PROFIT_ORDER           2353.7937\n                      TRAILING_STOP_LOSS_ORDER   -5911.3750\n101-004-31059296-003  TAKE_PROFIT_ORDER           3757.7192\n                      TRAILING_STOP_LOSS_ORDER   -4347.5184\nName: pl, dtype: float64\n-2733.718300000001\n",
          "output_type": "stream"
        }
      ],
      "outputs_reference": null,
      "content_dependencies": null
    },
    {
      "cell_type": "code",
      "metadata": {
        "source_hash": "1dfe3fda",
        "execution_start": 1744155114652,
        "execution_millis": 2,
        "execution_context_id": "4871396d-a585-48ac-9423-c662bb426968",
        "cell_id": "40aea4369ea241e6bb3cb2b3895c3cbc",
        "deepnote_cell_type": "code"
      },
      "source": "pd.to_numeric(all_transactions['halfSpreadCost']).sum()",
      "block_group": "83be861b503246a9aaa1b6881896c197",
      "execution_count": 80,
      "outputs": [
        {
          "output_type": "execute_result",
          "execution_count": 80,
          "data": {
            "text/plain": "4631.0979"
          },
          "metadata": {}
        }
      ],
      "outputs_reference": null,
      "content_dependencies": null
    },
    {
      "cell_type": "code",
      "metadata": {
        "source_hash": "2a4ea8b",
        "execution_start": 1744155344110,
        "execution_millis": 1,
        "execution_context_id": "4871396d-a585-48ac-9423-c662bb426968",
        "cell_id": "effc39e44b8448d2b166ea4c620b3934",
        "deepnote_cell_type": "code"
      },
      "source": "all_transactions.shape",
      "block_group": "e7c5f8c76ac548c39026e2fe2e2954e6",
      "execution_count": 114,
      "outputs": [
        {
          "output_type": "execute_result",
          "execution_count": 114,
          "data": {
            "text/plain": "(430, 61)"
          },
          "metadata": {}
        }
      ],
      "outputs_reference": null,
      "content_dependencies": null
    },
    {
      "cell_type": "code",
      "metadata": {
        "source_hash": "cd842853",
        "execution_start": 1744155380276,
        "execution_millis": 207,
        "execution_context_id": "4871396d-a585-48ac-9423-c662bb426968",
        "cell_id": "09d17e1da306410b8e9518ff1dbbd2e5",
        "deepnote_cell_type": "code"
      },
      "source": "orders = pd.read_csv('/work/data/orders/all_orders.csv')\norders['Time'] = pd.to_datetime(orders['Time'])\nall_transactions['id'] = pd.to_numeric(all_transactions['id'])\nall_transactions['batchID'] = pd.to_numeric(all_transactions['batchID'])\nall_transactions = pd.merge(all_transactions,orders,left_on='batchID', right_on = 'Order_ID',how='left')",
      "block_group": "b34f708b89b5488795a46ad50d65f92a",
      "execution_count": 116,
      "outputs": [],
      "outputs_reference": null,
      "content_dependencies": null
    },
    {
      "cell_type": "code",
      "metadata": {
        "source_hash": "3477b697",
        "execution_start": 1744155668546,
        "execution_millis": 110,
        "sql_integration_id": "deepnote-dataframe-sql",
        "deepnote_table_state": {
          "sortBy": [
            {
              "id": "batchID",
              "type": "asc"
            }
          ],
          "filters": [],
          "pageSize": 5,
          "pageIndex": 0,
          "columnOrder": [
            "batchID",
            "pl",
            "time",
            "order_time"
          ],
          "hiddenColumnIds": [],
          "columnDisplayNames": [],
          "conditionalFilters": [],
          "cellFormattingRules": [],
          "wrappedTextColumnIds": []
        },
        "execution_context_id": "4871396d-a585-48ac-9423-c662bb426968",
        "deepnote_table_loading": false,
        "deepnote_variable_name": "trans_orders",
        "cell_id": "fe8ba156e9a24f609c2e1b38d47bdbaf",
        "deepnote_cell_type": "sql",
        "deepnote_sql_source": "WITH trading_orders AS (\n    SELECT \n        CAST(all1.batchID AS INTEGER) as batchID,base.accountID,all1.Strategy,\n        base.pl,\n        date_trunc('minute',all1.time) time_tf,\n        date_trunc('minute', all1.time - INTERVAL '6 minutes') AS order_time\n    FROM all_transactions base \n    LEFT JOIN all_transactions order_filled \n        ON CAST(base.orderID AS INTEGER) = order_filled.id\n    LEFT JOIN all_transactions all1 \n        ON order_filled.batchID = all1.id\n    WHERE base.reason IN ('TAKE_PROFIT_ORDER', 'TRAILING_STOP_LOSS_ORDER')\n)\nSELECT * FROM trading_orders\nORDER BY batchID "
      },
      "source": "trans_orders = _dntk.execute_sql(\n  'WITH trading_orders AS (\\n    SELECT \\n        CAST(all1.batchID AS INTEGER) as batchID,base.accountID,all1.Strategy,\\n        base.pl,\\n        date_trunc(\\'minute\\',all1.time) time_tf,\\n        date_trunc(\\'minute\\', all1.time - INTERVAL \\'6 minutes\\') AS order_time\\n    FROM all_transactions base \\n    LEFT JOIN all_transactions order_filled \\n        ON CAST(base.orderID AS INTEGER) = order_filled.id\\n    LEFT JOIN all_transactions all1 \\n        ON order_filled.batchID = all1.id\\n    WHERE base.reason IN (\\'TAKE_PROFIT_ORDER\\', \\'TRAILING_STOP_LOSS_ORDER\\')\\n)\\nSELECT * FROM trading_orders\\nORDER BY batchID ',\n  'SQL_DEEPNOTE_DATAFRAME_SQL',\n  audit_sql_comment='',\n  sql_cache_mode='cache_disabled',\n  return_variable_type='dataframe'\n)\ntrans_orders",
      "block_group": "639cb0aec93f4f93ad715d106663f29a",
      "execution_count": 138,
      "outputs": [
        {
          "output_type": "execute_result",
          "execution_count": 138,
          "data": {
            "application/vnd.deepnote.dataframe.v3+json": {
              "column_count": 6,
              "row_count": 61,
              "columns": [
                {
                  "name": "batchID",
                  "dtype": "int32",
                  "stats": {
                    "unique_count": 61,
                    "nan_count": 0,
                    "min": "64",
                    "max": "1240",
                    "histogram": [
                      {
                        "bin_start": 64,
                        "bin_end": 181.6,
                        "count": 17
                      },
                      {
                        "bin_start": 181.6,
                        "bin_end": 299.2,
                        "count": 15
                      },
                      {
                        "bin_start": 299.2,
                        "bin_end": 416.79999999999995,
                        "count": 0
                      },
                      {
                        "bin_start": 416.79999999999995,
                        "bin_end": 534.4,
                        "count": 0
                      },
                      {
                        "bin_start": 534.4,
                        "bin_end": 652,
                        "count": 0
                      },
                      {
                        "bin_start": 652,
                        "bin_end": 769.5999999999999,
                        "count": 0
                      },
                      {
                        "bin_start": 769.5999999999999,
                        "bin_end": 887.1999999999999,
                        "count": 0
                      },
                      {
                        "bin_start": 887.1999999999999,
                        "bin_end": 1004.8,
                        "count": 0
                      },
                      {
                        "bin_start": 1004.8,
                        "bin_end": 1122.3999999999999,
                        "count": 11
                      },
                      {
                        "bin_start": 1122.3999999999999,
                        "bin_end": 1240,
                        "count": 18
                      }
                    ]
                  }
                },
                {
                  "name": "accountID",
                  "dtype": "object",
                  "stats": {
                    "unique_count": 2,
                    "nan_count": 0,
                    "categories": [
                      {
                        "name": "101-004-31059296-003",
                        "count": 32
                      },
                      {
                        "name": "101-004-31059296-001",
                        "count": 29
                      }
                    ]
                  }
                },
                {
                  "name": "Strategy",
                  "dtype": "object",
                  "stats": {
                    "unique_count": 2,
                    "nan_count": 1,
                    "categories": [
                      {
                        "name": "volume_based_hedge",
                        "count": 31
                      },
                      {
                        "name": "volume_based",
                        "count": 29
                      },
                      {
                        "name": "Missing",
                        "count": 1
                      }
                    ]
                  }
                },
                {
                  "name": "pl",
                  "dtype": "float64",
                  "stats": {
                    "unique_count": 61,
                    "nan_count": 0,
                    "min": "-550.8596",
                    "max": "1184.6955",
                    "histogram": [
                      {
                        "bin_start": -550.8596,
                        "bin_end": -377.30409,
                        "count": 19
                      },
                      {
                        "bin_start": -377.30409,
                        "bin_end": -203.74858,
                        "count": 16
                      },
                      {
                        "bin_start": -203.74858,
                        "bin_end": -30.193070000000034,
                        "count": 4
                      },
                      {
                        "bin_start": -30.193070000000034,
                        "bin_end": 143.36244,
                        "count": 6
                      },
                      {
                        "bin_start": 143.36244,
                        "bin_end": 316.91795,
                        "count": 7
                      },
                      {
                        "bin_start": 316.91795,
                        "bin_end": 490.47345999999993,
                        "count": 1
                      },
                      {
                        "bin_start": 490.47345999999993,
                        "bin_end": 664.0289700000001,
                        "count": 1
                      },
                      {
                        "bin_start": 664.0289700000001,
                        "bin_end": 837.58448,
                        "count": 1
                      },
                      {
                        "bin_start": 837.58448,
                        "bin_end": 1011.1399899999999,
                        "count": 3
                      },
                      {
                        "bin_start": 1011.1399899999999,
                        "bin_end": 1184.6955,
                        "count": 3
                      }
                    ]
                  }
                },
                {
                  "name": "time_tf",
                  "dtype": "datetime64[us, Etc/UTC]",
                  "stats": {
                    "unique_count": 38,
                    "nan_count": 0,
                    "min": "2025-04-08 10:21:00+00:00",
                    "max": "2025-04-08 17:51:00+00:00",
                    "histogram": [
                      {
                        "bin_start": 1744107660000000,
                        "bin_end": 1744110360000000,
                        "count": 3
                      },
                      {
                        "bin_start": 1744110360000000,
                        "bin_end": 1744113060000000,
                        "count": 9
                      },
                      {
                        "bin_start": 1744113060000000,
                        "bin_end": 1744115760000000,
                        "count": 4
                      },
                      {
                        "bin_start": 1744115760000000,
                        "bin_end": 1744118460000000,
                        "count": 4
                      },
                      {
                        "bin_start": 1744118460000000,
                        "bin_end": 1744121160000000,
                        "count": 6
                      },
                      {
                        "bin_start": 1744121160000000,
                        "bin_end": 1744123860000000,
                        "count": 8
                      },
                      {
                        "bin_start": 1744123860000000,
                        "bin_end": 1744126560000000,
                        "count": 10
                      },
                      {
                        "bin_start": 1744126560000000,
                        "bin_end": 1744129260000000,
                        "count": 4
                      },
                      {
                        "bin_start": 1744129260000000,
                        "bin_end": 1744131960000000,
                        "count": 7
                      },
                      {
                        "bin_start": 1744131960000000,
                        "bin_end": 1744134660000000,
                        "count": 6
                      }
                    ]
                  }
                },
                {
                  "name": "order_time",
                  "dtype": "datetime64[us, Etc/UTC]",
                  "stats": {
                    "unique_count": 38,
                    "nan_count": 0,
                    "min": "2025-04-08 10:15:00+00:00",
                    "max": "2025-04-08 17:45:00+00:00",
                    "histogram": [
                      {
                        "bin_start": 1744107300000000,
                        "bin_end": 1744110000000000,
                        "count": 3
                      },
                      {
                        "bin_start": 1744110000000000,
                        "bin_end": 1744112700000000,
                        "count": 9
                      },
                      {
                        "bin_start": 1744112700000000,
                        "bin_end": 1744115400000000,
                        "count": 4
                      },
                      {
                        "bin_start": 1744115400000000,
                        "bin_end": 1744118100000000,
                        "count": 4
                      },
                      {
                        "bin_start": 1744118100000000,
                        "bin_end": 1744120800000000,
                        "count": 6
                      },
                      {
                        "bin_start": 1744120800000000,
                        "bin_end": 1744123500000000,
                        "count": 8
                      },
                      {
                        "bin_start": 1744123500000000,
                        "bin_end": 1744126200000000,
                        "count": 10
                      },
                      {
                        "bin_start": 1744126200000000,
                        "bin_end": 1744128900000000,
                        "count": 4
                      },
                      {
                        "bin_start": 1744128900000000,
                        "bin_end": 1744131600000000,
                        "count": 7
                      },
                      {
                        "bin_start": 1744131600000000,
                        "bin_end": 1744134300000000,
                        "count": 6
                      }
                    ]
                  }
                },
                {
                  "name": "_deepnote_index_column",
                  "dtype": "int64"
                }
              ],
              "rows": [
                {
                  "batchID": 64,
                  "accountID": "101-004-31059296-003",
                  "Strategy": "volume_based_hedge",
                  "pl": 889.4796,
                  "time_tf": "2025-04-08 10:21:00+00:00",
                  "order_time": "2025-04-08 10:15:00+00:00",
                  "_deepnote_index_column": 0
                },
                {
                  "batchID": 70,
                  "accountID": "101-004-31059296-003",
                  "Strategy": "volume_based_hedge",
                  "pl": -425.3835,
                  "time_tf": "2025-04-08 10:36:00+00:00",
                  "order_time": "2025-04-08 10:30:00+00:00",
                  "_deepnote_index_column": 1
                },
                {
                  "batchID": 76,
                  "accountID": "101-004-31059296-003",
                  "Strategy": "volume_based_hedge",
                  "pl": -456.8629,
                  "time_tf": "2025-04-08 10:46:00+00:00",
                  "order_time": "2025-04-08 10:40:00+00:00",
                  "_deepnote_index_column": 2
                },
                {
                  "batchID": 83,
                  "accountID": "101-004-31059296-003",
                  "Strategy": "volume_based_hedge",
                  "pl": 31.1602,
                  "time_tf": "2025-04-08 11:16:00+00:00",
                  "order_time": "2025-04-08 11:10:00+00:00",
                  "_deepnote_index_column": 3
                },
                {
                  "batchID": 87,
                  "accountID": "101-004-31059296-003",
                  "Strategy": "volume_based_hedge",
                  "pl": -298.9971,
                  "time_tf": "2025-04-08 11:21:00+00:00",
                  "order_time": "2025-04-08 11:15:00+00:00",
                  "_deepnote_index_column": 4
                }
              ],
              "type": "dataframe"
            },
            "text/plain": "    batchID             accountID            Strategy        pl  \\\n0        64  101-004-31059296-003  volume_based_hedge  889.4796   \n1        70  101-004-31059296-003  volume_based_hedge -425.3835   \n2        76  101-004-31059296-003  volume_based_hedge -456.8629   \n3        83  101-004-31059296-003  volume_based_hedge   31.1602   \n4        87  101-004-31059296-003  volume_based_hedge -298.9971   \n..      ...                   ...                 ...       ...   \n56     1214  101-004-31059296-001        volume_based -361.7824   \n57     1220  101-004-31059296-001        volume_based  233.6494   \n58     1228  101-004-31059296-001        volume_based  264.7012   \n59     1232  101-004-31059296-001        volume_based -338.1336   \n60     1240  101-004-31059296-001        volume_based -503.1821   \n\n                     time_tf                order_time  \n0  2025-04-08 10:21:00+00:00 2025-04-08 10:15:00+00:00  \n1  2025-04-08 10:36:00+00:00 2025-04-08 10:30:00+00:00  \n2  2025-04-08 10:46:00+00:00 2025-04-08 10:40:00+00:00  \n3  2025-04-08 11:16:00+00:00 2025-04-08 11:10:00+00:00  \n4  2025-04-08 11:21:00+00:00 2025-04-08 11:15:00+00:00  \n..                       ...                       ...  \n56 2025-04-08 16:51:00+00:00 2025-04-08 16:45:00+00:00  \n57 2025-04-08 16:56:00+00:00 2025-04-08 16:50:00+00:00  \n58 2025-04-08 17:36:00+00:00 2025-04-08 17:30:00+00:00  \n59 2025-04-08 17:41:00+00:00 2025-04-08 17:35:00+00:00  \n60 2025-04-08 17:51:00+00:00 2025-04-08 17:45:00+00:00  \n\n[61 rows x 6 columns]",
            "text/html": "<div>\n<style scoped>\n    .dataframe tbody tr th:only-of-type {\n        vertical-align: middle;\n    }\n\n    .dataframe tbody tr th {\n        vertical-align: top;\n    }\n\n    .dataframe thead th {\n        text-align: right;\n    }\n</style>\n<table border=\"1\" class=\"dataframe\">\n  <thead>\n    <tr style=\"text-align: right;\">\n      <th></th>\n      <th>batchID</th>\n      <th>accountID</th>\n      <th>Strategy</th>\n      <th>pl</th>\n      <th>time_tf</th>\n      <th>order_time</th>\n    </tr>\n  </thead>\n  <tbody>\n    <tr>\n      <th>0</th>\n      <td>64</td>\n      <td>101-004-31059296-003</td>\n      <td>volume_based_hedge</td>\n      <td>889.4796</td>\n      <td>2025-04-08 10:21:00+00:00</td>\n      <td>2025-04-08 10:15:00+00:00</td>\n    </tr>\n    <tr>\n      <th>1</th>\n      <td>70</td>\n      <td>101-004-31059296-003</td>\n      <td>volume_based_hedge</td>\n      <td>-425.3835</td>\n      <td>2025-04-08 10:36:00+00:00</td>\n      <td>2025-04-08 10:30:00+00:00</td>\n    </tr>\n    <tr>\n      <th>2</th>\n      <td>76</td>\n      <td>101-004-31059296-003</td>\n      <td>volume_based_hedge</td>\n      <td>-456.8629</td>\n      <td>2025-04-08 10:46:00+00:00</td>\n      <td>2025-04-08 10:40:00+00:00</td>\n    </tr>\n    <tr>\n      <th>3</th>\n      <td>83</td>\n      <td>101-004-31059296-003</td>\n      <td>volume_based_hedge</td>\n      <td>31.1602</td>\n      <td>2025-04-08 11:16:00+00:00</td>\n      <td>2025-04-08 11:10:00+00:00</td>\n    </tr>\n    <tr>\n      <th>4</th>\n      <td>87</td>\n      <td>101-004-31059296-003</td>\n      <td>volume_based_hedge</td>\n      <td>-298.9971</td>\n      <td>2025-04-08 11:21:00+00:00</td>\n      <td>2025-04-08 11:15:00+00:00</td>\n    </tr>\n    <tr>\n      <th>...</th>\n      <td>...</td>\n      <td>...</td>\n      <td>...</td>\n      <td>...</td>\n      <td>...</td>\n      <td>...</td>\n    </tr>\n    <tr>\n      <th>56</th>\n      <td>1214</td>\n      <td>101-004-31059296-001</td>\n      <td>volume_based</td>\n      <td>-361.7824</td>\n      <td>2025-04-08 16:51:00+00:00</td>\n      <td>2025-04-08 16:45:00+00:00</td>\n    </tr>\n    <tr>\n      <th>57</th>\n      <td>1220</td>\n      <td>101-004-31059296-001</td>\n      <td>volume_based</td>\n      <td>233.6494</td>\n      <td>2025-04-08 16:56:00+00:00</td>\n      <td>2025-04-08 16:50:00+00:00</td>\n    </tr>\n    <tr>\n      <th>58</th>\n      <td>1228</td>\n      <td>101-004-31059296-001</td>\n      <td>volume_based</td>\n      <td>264.7012</td>\n      <td>2025-04-08 17:36:00+00:00</td>\n      <td>2025-04-08 17:30:00+00:00</td>\n    </tr>\n    <tr>\n      <th>59</th>\n      <td>1232</td>\n      <td>101-004-31059296-001</td>\n      <td>volume_based</td>\n      <td>-338.1336</td>\n      <td>2025-04-08 17:41:00+00:00</td>\n      <td>2025-04-08 17:35:00+00:00</td>\n    </tr>\n    <tr>\n      <th>60</th>\n      <td>1240</td>\n      <td>101-004-31059296-001</td>\n      <td>volume_based</td>\n      <td>-503.1821</td>\n      <td>2025-04-08 17:51:00+00:00</td>\n      <td>2025-04-08 17:45:00+00:00</td>\n    </tr>\n  </tbody>\n</table>\n<p>61 rows × 6 columns</p>\n</div>"
          },
          "metadata": {}
        }
      ],
      "outputs_reference": null,
      "content_dependencies": null
    },
    {
      "cell_type": "code",
      "metadata": {
        "source_hash": "fb09c8e0",
        "execution_start": 1744158025106,
        "execution_millis": 0,
        "deepnote_table_state": {
          "sortBy": [],
          "filters": [],
          "pageSize": 100,
          "pageIndex": 0,
          "columnOrder": [
            "batchID",
            "pl",
            "time",
            "order_time"
          ],
          "hiddenColumnIds": [],
          "columnDisplayNames": [],
          "conditionalFilters": [],
          "cellFormattingRules": [],
          "wrappedTextColumnIds": []
        },
        "execution_context_id": "4871396d-a585-48ac-9423-c662bb426968",
        "deepnote_table_loading": false,
        "cell_id": "20108a0b86604a209ab802917707ba89",
        "deepnote_cell_type": "code"
      },
      "source": "strategy_agg['pl_agg'] = strategy_agg['pl_x'] + strategy_agg['pl_y']",
      "block_group": "3f0ded62d9324fea87eb9fe6c344001e",
      "execution_count": 242,
      "outputs": [],
      "outputs_reference": null,
      "content_dependencies": null
    },
    {
      "cell_type": "code",
      "metadata": {
        "source_hash": "a638302c",
        "execution_start": 1744156854586,
        "execution_millis": 0,
        "execution_context_id": "4871396d-a585-48ac-9423-c662bb426968",
        "cell_id": "baae9f4784b54998899239bc58e5e1e0",
        "deepnote_cell_type": "code"
      },
      "source": "strategy_agg=pd.merge(    \n    trans_orders[trans_orders['accountID']=='101-004-31059296-003'],\n    trans_orders[trans_orders['accountID']=='101-004-31059296-001'],\n    on = 'time_tf', how='left')",
      "block_group": "16823fb2ea9f43b2a1aeb9439bcd1814",
      "execution_count": 226,
      "outputs": [],
      "outputs_reference": null,
      "content_dependencies": null
    },
    {
      "cell_type": "code",
      "metadata": {
        "source_hash": "2f720232",
        "execution_start": 1744156034557,
        "execution_millis": 8,
        "execution_context_id": "4871396d-a585-48ac-9423-c662bb426968",
        "cell_id": "e40dbfc910304532983da3a67d72df53",
        "deepnote_cell_type": "code"
      },
      "source": "strategy_agg[(strategy_agg['pl_x']< -0) & (strategy_agg['pl_y']< -0)]",
      "block_group": "a2b648e6035f462da36ebdf2576b3993",
      "execution_count": 152,
      "outputs": [
        {
          "output_type": "execute_result",
          "execution_count": 152,
          "data": {
            "application/vnd.deepnote.dataframe.v3+json": {
              "column_count": 11,
              "row_count": 4,
              "columns": [
                {
                  "name": "batchID_x",
                  "dtype": "int32",
                  "stats": {
                    "unique_count": 4,
                    "nan_count": 0,
                    "min": "153",
                    "max": "281",
                    "histogram": [
                      {
                        "bin_start": 153,
                        "bin_end": 165.8,
                        "count": 2
                      },
                      {
                        "bin_start": 165.8,
                        "bin_end": 178.6,
                        "count": 0
                      },
                      {
                        "bin_start": 178.6,
                        "bin_end": 191.4,
                        "count": 0
                      },
                      {
                        "bin_start": 191.4,
                        "bin_end": 204.2,
                        "count": 0
                      },
                      {
                        "bin_start": 204.2,
                        "bin_end": 217,
                        "count": 0
                      },
                      {
                        "bin_start": 217,
                        "bin_end": 229.8,
                        "count": 0
                      },
                      {
                        "bin_start": 229.8,
                        "bin_end": 242.60000000000002,
                        "count": 0
                      },
                      {
                        "bin_start": 242.60000000000002,
                        "bin_end": 255.4,
                        "count": 0
                      },
                      {
                        "bin_start": 255.4,
                        "bin_end": 268.2,
                        "count": 1
                      },
                      {
                        "bin_start": 268.2,
                        "bin_end": 281,
                        "count": 1
                      }
                    ]
                  }
                },
                {
                  "name": "accountID_x",
                  "dtype": "object",
                  "stats": {
                    "unique_count": 1,
                    "nan_count": 0,
                    "categories": [
                      {
                        "name": "101-004-31059296-003",
                        "count": 4
                      }
                    ]
                  }
                },
                {
                  "name": "Strategy_x",
                  "dtype": "object",
                  "stats": {
                    "unique_count": 1,
                    "nan_count": 0,
                    "categories": [
                      {
                        "name": "volume_based_hedge",
                        "count": 4
                      }
                    ]
                  }
                },
                {
                  "name": "pl_x",
                  "dtype": "float64",
                  "stats": {
                    "unique_count": 4,
                    "nan_count": 0,
                    "min": "-204.3985",
                    "max": "-55.0616",
                    "histogram": [
                      {
                        "bin_start": -204.3985,
                        "bin_end": -189.46481,
                        "count": 1
                      },
                      {
                        "bin_start": -189.46481,
                        "bin_end": -174.53112000000002,
                        "count": 0
                      },
                      {
                        "bin_start": -174.53112000000002,
                        "bin_end": -159.59743,
                        "count": 0
                      },
                      {
                        "bin_start": -159.59743,
                        "bin_end": -144.66374000000002,
                        "count": 1
                      },
                      {
                        "bin_start": -144.66374000000002,
                        "bin_end": -129.73005,
                        "count": 0
                      },
                      {
                        "bin_start": -129.73005,
                        "bin_end": -114.79635999999999,
                        "count": 0
                      },
                      {
                        "bin_start": -114.79635999999999,
                        "bin_end": -99.86267,
                        "count": 1
                      },
                      {
                        "bin_start": -99.86267,
                        "bin_end": -84.92898,
                        "count": 0
                      },
                      {
                        "bin_start": -84.92898,
                        "bin_end": -69.99528999999998,
                        "count": 0
                      },
                      {
                        "bin_start": -69.99528999999998,
                        "bin_end": -55.0616,
                        "count": 1
                      }
                    ]
                  }
                },
                {
                  "name": "time_tf",
                  "dtype": "datetime64[us, Etc/UTC]",
                  "stats": {
                    "unique_count": 4,
                    "nan_count": 0,
                    "min": "2025-04-08 13:46:00+00:00",
                    "max": "2025-04-08 17:41:00+00:00",
                    "histogram": [
                      {
                        "bin_start": 1744119960000000,
                        "bin_end": 1744121370000000,
                        "count": 1
                      },
                      {
                        "bin_start": 1744121370000000,
                        "bin_end": 1744122780000000,
                        "count": 1
                      },
                      {
                        "bin_start": 1744122780000000,
                        "bin_end": 1744124190000000,
                        "count": 0
                      },
                      {
                        "bin_start": 1744124190000000,
                        "bin_end": 1744125600000000,
                        "count": 0
                      },
                      {
                        "bin_start": 1744125600000000,
                        "bin_end": 1744127010000000,
                        "count": 0
                      },
                      {
                        "bin_start": 1744127010000000,
                        "bin_end": 1744128420000000,
                        "count": 0
                      },
                      {
                        "bin_start": 1744128420000000,
                        "bin_end": 1744129830000000,
                        "count": 0
                      },
                      {
                        "bin_start": 1744129830000000,
                        "bin_end": 1744131240000000,
                        "count": 1
                      },
                      {
                        "bin_start": 1744131240000000,
                        "bin_end": 1744132650000000,
                        "count": 0
                      },
                      {
                        "bin_start": 1744132650000000,
                        "bin_end": 1744134060000000,
                        "count": 1
                      }
                    ]
                  }
                },
                {
                  "name": "order_time_x",
                  "dtype": "datetime64[us, Etc/UTC]",
                  "stats": {
                    "unique_count": 4,
                    "nan_count": 0,
                    "min": "2025-04-08 13:40:00+00:00",
                    "max": "2025-04-08 17:35:00+00:00",
                    "histogram": [
                      {
                        "bin_start": 1744119600000000,
                        "bin_end": 1744121010000000,
                        "count": 1
                      },
                      {
                        "bin_start": 1744121010000000,
                        "bin_end": 1744122420000000,
                        "count": 1
                      },
                      {
                        "bin_start": 1744122420000000,
                        "bin_end": 1744123830000000,
                        "count": 0
                      },
                      {
                        "bin_start": 1744123830000000,
                        "bin_end": 1744125240000000,
                        "count": 0
                      },
                      {
                        "bin_start": 1744125240000000,
                        "bin_end": 1744126650000000,
                        "count": 0
                      },
                      {
                        "bin_start": 1744126650000000,
                        "bin_end": 1744128060000000,
                        "count": 0
                      },
                      {
                        "bin_start": 1744128060000000,
                        "bin_end": 1744129470000000,
                        "count": 0
                      },
                      {
                        "bin_start": 1744129470000000,
                        "bin_end": 1744130880000000,
                        "count": 1
                      },
                      {
                        "bin_start": 1744130880000000,
                        "bin_end": 1744132290000000,
                        "count": 0
                      },
                      {
                        "bin_start": 1744132290000000,
                        "bin_end": 1744133700000000,
                        "count": 1
                      }
                    ]
                  }
                },
                {
                  "name": "batchID_y",
                  "dtype": "int32",
                  "stats": {
                    "unique_count": 4,
                    "nan_count": 0,
                    "min": "1122",
                    "max": "1232",
                    "histogram": [
                      {
                        "bin_start": 1122,
                        "bin_end": 1133,
                        "count": 1
                      },
                      {
                        "bin_start": 1133,
                        "bin_end": 1144,
                        "count": 1
                      },
                      {
                        "bin_start": 1144,
                        "bin_end": 1155,
                        "count": 0
                      },
                      {
                        "bin_start": 1155,
                        "bin_end": 1166,
                        "count": 0
                      },
                      {
                        "bin_start": 1166,
                        "bin_end": 1177,
                        "count": 0
                      },
                      {
                        "bin_start": 1177,
                        "bin_end": 1188,
                        "count": 0
                      },
                      {
                        "bin_start": 1188,
                        "bin_end": 1199,
                        "count": 0
                      },
                      {
                        "bin_start": 1199,
                        "bin_end": 1210,
                        "count": 0
                      },
                      {
                        "bin_start": 1210,
                        "bin_end": 1221,
                        "count": 1
                      },
                      {
                        "bin_start": 1221,
                        "bin_end": 1232,
                        "count": 1
                      }
                    ]
                  }
                },
                {
                  "name": "accountID_y",
                  "dtype": "object",
                  "stats": {
                    "unique_count": 1,
                    "nan_count": 0,
                    "categories": [
                      {
                        "name": "101-004-31059296-001",
                        "count": 4
                      }
                    ]
                  }
                },
                {
                  "name": "Strategy_y",
                  "dtype": "object",
                  "stats": {
                    "unique_count": 1,
                    "nan_count": 0,
                    "categories": [
                      {
                        "name": "volume_based",
                        "count": 4
                      }
                    ]
                  }
                },
                {
                  "name": "pl_y",
                  "dtype": "float64",
                  "stats": {
                    "unique_count": 4,
                    "nan_count": 0,
                    "min": "-361.7824",
                    "max": "-204.3769",
                    "histogram": [
                      {
                        "bin_start": -361.7824,
                        "bin_end": -346.04185,
                        "count": 1
                      },
                      {
                        "bin_start": -346.04185,
                        "bin_end": -330.30129999999997,
                        "count": 1
                      },
                      {
                        "bin_start": -330.30129999999997,
                        "bin_end": -314.56075,
                        "count": 0
                      },
                      {
                        "bin_start": -314.56075,
                        "bin_end": -298.8202,
                        "count": 1
                      },
                      {
                        "bin_start": -298.8202,
                        "bin_end": -283.07965,
                        "count": 0
                      },
                      {
                        "bin_start": -283.07965,
                        "bin_end": -267.33910000000003,
                        "count": 0
                      },
                      {
                        "bin_start": -267.33910000000003,
                        "bin_end": -251.59855,
                        "count": 0
                      },
                      {
                        "bin_start": -251.59855,
                        "bin_end": -235.858,
                        "count": 0
                      },
                      {
                        "bin_start": -235.858,
                        "bin_end": -220.11745000000002,
                        "count": 0
                      },
                      {
                        "bin_start": -220.11745000000002,
                        "bin_end": -204.3769,
                        "count": 1
                      }
                    ]
                  }
                },
                {
                  "name": "order_time_y",
                  "dtype": "datetime64[us, Etc/UTC]",
                  "stats": {
                    "unique_count": 4,
                    "nan_count": 0,
                    "min": "2025-04-08 13:40:00+00:00",
                    "max": "2025-04-08 17:35:00+00:00",
                    "histogram": [
                      {
                        "bin_start": 1744119600000000,
                        "bin_end": 1744121010000000,
                        "count": 1
                      },
                      {
                        "bin_start": 1744121010000000,
                        "bin_end": 1744122420000000,
                        "count": 1
                      },
                      {
                        "bin_start": 1744122420000000,
                        "bin_end": 1744123830000000,
                        "count": 0
                      },
                      {
                        "bin_start": 1744123830000000,
                        "bin_end": 1744125240000000,
                        "count": 0
                      },
                      {
                        "bin_start": 1744125240000000,
                        "bin_end": 1744126650000000,
                        "count": 0
                      },
                      {
                        "bin_start": 1744126650000000,
                        "bin_end": 1744128060000000,
                        "count": 0
                      },
                      {
                        "bin_start": 1744128060000000,
                        "bin_end": 1744129470000000,
                        "count": 0
                      },
                      {
                        "bin_start": 1744129470000000,
                        "bin_end": 1744130880000000,
                        "count": 1
                      },
                      {
                        "bin_start": 1744130880000000,
                        "bin_end": 1744132290000000,
                        "count": 0
                      },
                      {
                        "bin_start": 1744132290000000,
                        "bin_end": 1744133700000000,
                        "count": 1
                      }
                    ]
                  }
                },
                {
                  "name": "_deepnote_index_column",
                  "dtype": "int64"
                }
              ],
              "rows": [
                {
                  "batchID_x": 153,
                  "accountID_x": "101-004-31059296-003",
                  "Strategy_x": "volume_based_hedge",
                  "pl_x": -55.0616,
                  "time_tf": "2025-04-08 13:46:00+00:00",
                  "order_time_x": "2025-04-08 13:40:00+00:00",
                  "batchID_y": 1122,
                  "accountID_y": "101-004-31059296-001",
                  "Strategy_y": "volume_based",
                  "pl_y": -298.8719,
                  "order_time_y": "2025-04-08 13:40:00+00:00",
                  "_deepnote_index_column": 7
                },
                {
                  "batchID_x": 165,
                  "accountID_x": "101-004-31059296-003",
                  "Strategy_x": "volume_based_hedge",
                  "pl_x": -204.3985,
                  "time_tf": "2025-04-08 14:11:00+00:00",
                  "order_time_x": "2025-04-08 14:05:00+00:00",
                  "batchID_y": 1134,
                  "accountID_y": "101-004-31059296-001",
                  "Strategy_y": "volume_based",
                  "pl_y": -204.3769,
                  "order_time_y": "2025-04-08 14:05:00+00:00",
                  "_deepnote_index_column": 9
                },
                {
                  "batchID_x": 263,
                  "accountID_x": "101-004-31059296-003",
                  "Strategy_x": "volume_based_hedge",
                  "pl_x": -110.1288,
                  "time_tf": "2025-04-08 16:51:00+00:00",
                  "order_time_x": "2025-04-08 16:45:00+00:00",
                  "batchID_y": 1214,
                  "accountID_y": "101-004-31059296-001",
                  "Strategy_y": "volume_based",
                  "pl_y": -361.7824,
                  "order_time_y": "2025-04-08 16:45:00+00:00",
                  "_deepnote_index_column": 18
                },
                {
                  "batchID_x": 281,
                  "accountID_x": "101-004-31059296-003",
                  "Strategy_x": "volume_based_hedge",
                  "pl_x": -157.2985,
                  "time_tf": "2025-04-08 17:41:00+00:00",
                  "order_time_x": "2025-04-08 17:35:00+00:00",
                  "batchID_y": 1232,
                  "accountID_y": "101-004-31059296-001",
                  "Strategy_y": "volume_based",
                  "pl_y": -338.1336,
                  "order_time_y": "2025-04-08 17:35:00+00:00",
                  "_deepnote_index_column": 21
                }
              ],
              "type": "dataframe"
            },
            "text/plain": "    batchID_x           accountID_x          Strategy_x      pl_x  \\\n7         153  101-004-31059296-003  volume_based_hedge  -55.0616   \n9         165  101-004-31059296-003  volume_based_hedge -204.3985   \n18        263  101-004-31059296-003  volume_based_hedge -110.1288   \n21        281  101-004-31059296-003  volume_based_hedge -157.2985   \n\n                     time_tf              order_time_x  batchID_y  \\\n7  2025-04-08 13:46:00+00:00 2025-04-08 13:40:00+00:00       1122   \n9  2025-04-08 14:11:00+00:00 2025-04-08 14:05:00+00:00       1134   \n18 2025-04-08 16:51:00+00:00 2025-04-08 16:45:00+00:00       1214   \n21 2025-04-08 17:41:00+00:00 2025-04-08 17:35:00+00:00       1232   \n\n             accountID_y    Strategy_y      pl_y              order_time_y  \n7   101-004-31059296-001  volume_based -298.8719 2025-04-08 13:40:00+00:00  \n9   101-004-31059296-001  volume_based -204.3769 2025-04-08 14:05:00+00:00  \n18  101-004-31059296-001  volume_based -361.7824 2025-04-08 16:45:00+00:00  \n21  101-004-31059296-001  volume_based -338.1336 2025-04-08 17:35:00+00:00  ",
            "text/html": "<div>\n<style scoped>\n    .dataframe tbody tr th:only-of-type {\n        vertical-align: middle;\n    }\n\n    .dataframe tbody tr th {\n        vertical-align: top;\n    }\n\n    .dataframe thead th {\n        text-align: right;\n    }\n</style>\n<table border=\"1\" class=\"dataframe\">\n  <thead>\n    <tr style=\"text-align: right;\">\n      <th></th>\n      <th>batchID_x</th>\n      <th>accountID_x</th>\n      <th>Strategy_x</th>\n      <th>pl_x</th>\n      <th>time_tf</th>\n      <th>order_time_x</th>\n      <th>batchID_y</th>\n      <th>accountID_y</th>\n      <th>Strategy_y</th>\n      <th>pl_y</th>\n      <th>order_time_y</th>\n    </tr>\n  </thead>\n  <tbody>\n    <tr>\n      <th>7</th>\n      <td>153</td>\n      <td>101-004-31059296-003</td>\n      <td>volume_based_hedge</td>\n      <td>-55.0616</td>\n      <td>2025-04-08 13:46:00+00:00</td>\n      <td>2025-04-08 13:40:00+00:00</td>\n      <td>1122</td>\n      <td>101-004-31059296-001</td>\n      <td>volume_based</td>\n      <td>-298.8719</td>\n      <td>2025-04-08 13:40:00+00:00</td>\n    </tr>\n    <tr>\n      <th>9</th>\n      <td>165</td>\n      <td>101-004-31059296-003</td>\n      <td>volume_based_hedge</td>\n      <td>-204.3985</td>\n      <td>2025-04-08 14:11:00+00:00</td>\n      <td>2025-04-08 14:05:00+00:00</td>\n      <td>1134</td>\n      <td>101-004-31059296-001</td>\n      <td>volume_based</td>\n      <td>-204.3769</td>\n      <td>2025-04-08 14:05:00+00:00</td>\n    </tr>\n    <tr>\n      <th>18</th>\n      <td>263</td>\n      <td>101-004-31059296-003</td>\n      <td>volume_based_hedge</td>\n      <td>-110.1288</td>\n      <td>2025-04-08 16:51:00+00:00</td>\n      <td>2025-04-08 16:45:00+00:00</td>\n      <td>1214</td>\n      <td>101-004-31059296-001</td>\n      <td>volume_based</td>\n      <td>-361.7824</td>\n      <td>2025-04-08 16:45:00+00:00</td>\n    </tr>\n    <tr>\n      <th>21</th>\n      <td>281</td>\n      <td>101-004-31059296-003</td>\n      <td>volume_based_hedge</td>\n      <td>-157.2985</td>\n      <td>2025-04-08 17:41:00+00:00</td>\n      <td>2025-04-08 17:35:00+00:00</td>\n      <td>1232</td>\n      <td>101-004-31059296-001</td>\n      <td>volume_based</td>\n      <td>-338.1336</td>\n      <td>2025-04-08 17:35:00+00:00</td>\n    </tr>\n  </tbody>\n</table>\n</div>"
          },
          "metadata": {}
        }
      ],
      "outputs_reference": null,
      "content_dependencies": null
    },
    {
      "cell_type": "code",
      "metadata": {
        "source_hash": "82250e40",
        "execution_start": 1744158546342,
        "execution_millis": 15,
        "deepnote_table_state": {
          "sortBy": [
            {
              "id": "batchID_x",
              "type": "asc"
            }
          ],
          "filters": [],
          "pageSize": 100,
          "pageIndex": 0,
          "columnOrder": [
            "batchID_x",
            "accountID_x",
            "Strategy_x",
            "pl_x",
            "time_tf",
            "order_time_x",
            "batchID_y",
            "accountID_y",
            "Strategy_y",
            "pl_y",
            "order_time_y"
          ],
          "hiddenColumnIds": [],
          "columnDisplayNames": [],
          "conditionalFilters": [],
          "cellFormattingRules": [],
          "wrappedTextColumnIds": []
        },
        "execution_context_id": "4871396d-a585-48ac-9423-c662bb426968",
        "deepnote_table_loading": false,
        "cell_id": "ae159965b311400381f7d4e321808cb0",
        "deepnote_cell_type": "code"
      },
      "source": "strategy_agg['pl_x'] = pd.to_numeric(strategy_agg['pl_x'])\nstrategy_agg['pl_y'] = pd.to_numeric(strategy_agg['pl_y'])\nstrategy_agg[(strategy_agg['time_tf'].dt.date == strategy_agg['time_tf'].dt.date.max())\n            ][['Strategy_x','pl_x','pl_y','pl_agg','order_time_x']]",
      "block_group": "1a73492c6bd24d87ba56cba82802309b",
      "execution_count": 262,
      "outputs": [
        {
          "output_type": "execute_result",
          "execution_count": 262,
          "data": {
            "application/vnd.deepnote.dataframe.v3+json": {
              "column_count": 5,
              "row_count": 32,
              "columns": [
                {
                  "name": "Strategy_x",
                  "dtype": "object",
                  "stats": {
                    "unique_count": 1,
                    "nan_count": 1,
                    "categories": [
                      {
                        "name": "volume_based_hedge",
                        "count": 31
                      },
                      {
                        "name": "Missing",
                        "count": 1
                      }
                    ]
                  }
                },
                {
                  "name": "pl_x",
                  "dtype": "float64",
                  "stats": {
                    "unique_count": 32,
                    "nan_count": 0,
                    "min": "-550.8596",
                    "max": "1167.9272",
                    "histogram": [
                      {
                        "bin_start": -550.8596,
                        "bin_end": -378.98091999999997,
                        "count": 8
                      },
                      {
                        "bin_start": -378.98091999999997,
                        "bin_end": -207.10224,
                        "count": 5
                      },
                      {
                        "bin_start": -207.10224,
                        "bin_end": -35.22356000000002,
                        "count": 4
                      },
                      {
                        "bin_start": -35.22356000000002,
                        "bin_end": 136.65512,
                        "count": 6
                      },
                      {
                        "bin_start": 136.65512,
                        "bin_end": 308.53380000000004,
                        "count": 3
                      },
                      {
                        "bin_start": 308.53380000000004,
                        "bin_end": 480.41247999999996,
                        "count": 1
                      },
                      {
                        "bin_start": 480.41247999999996,
                        "bin_end": 652.29116,
                        "count": 0
                      },
                      {
                        "bin_start": 652.29116,
                        "bin_end": 824.16984,
                        "count": 2
                      },
                      {
                        "bin_start": 824.16984,
                        "bin_end": 996.04852,
                        "count": 2
                      },
                      {
                        "bin_start": 996.04852,
                        "bin_end": 1167.9272,
                        "count": 1
                      }
                    ]
                  }
                },
                {
                  "name": "pl_y",
                  "dtype": "float64",
                  "stats": {
                    "unique_count": 23,
                    "nan_count": 9,
                    "min": "-534.7104",
                    "max": "1184.6955",
                    "histogram": [
                      {
                        "bin_start": -534.7104,
                        "bin_end": -362.76981,
                        "count": 7
                      },
                      {
                        "bin_start": -362.76981,
                        "bin_end": -190.82922000000002,
                        "count": 8
                      },
                      {
                        "bin_start": -190.82922000000002,
                        "bin_end": -18.888630000000035,
                        "count": 0
                      },
                      {
                        "bin_start": -18.888630000000035,
                        "bin_end": 153.05196,
                        "count": 1
                      },
                      {
                        "bin_start": 153.05196,
                        "bin_end": 324.99255000000005,
                        "count": 4
                      },
                      {
                        "bin_start": 324.99255000000005,
                        "bin_end": 496.93314,
                        "count": 0
                      },
                      {
                        "bin_start": 496.93314,
                        "bin_end": 668.8737300000001,
                        "count": 0
                      },
                      {
                        "bin_start": 668.8737300000001,
                        "bin_end": 840.8143200000001,
                        "count": 0
                      },
                      {
                        "bin_start": 840.8143200000001,
                        "bin_end": 1012.75491,
                        "count": 1
                      },
                      {
                        "bin_start": 1012.75491,
                        "bin_end": 1184.6955,
                        "count": 2
                      }
                    ]
                  }
                },
                {
                  "name": "pl_agg",
                  "dtype": "float64",
                  "stats": {
                    "unique_count": 23,
                    "nan_count": 9,
                    "min": "-503.55860000000007",
                    "max": "870.1010999999999",
                    "histogram": [
                      {
                        "bin_start": -503.55860000000007,
                        "bin_end": -366.19263000000007,
                        "count": 5
                      },
                      {
                        "bin_start": -366.19263000000007,
                        "bin_end": -228.82666000000006,
                        "count": 7
                      },
                      {
                        "bin_start": -228.82666000000006,
                        "bin_end": -91.46069000000006,
                        "count": 2
                      },
                      {
                        "bin_start": -91.46069000000006,
                        "bin_end": 45.90527999999995,
                        "count": 3
                      },
                      {
                        "bin_start": 45.90527999999995,
                        "bin_end": 183.27125,
                        "count": 0
                      },
                      {
                        "bin_start": 183.27125,
                        "bin_end": 320.63721999999996,
                        "count": 1
                      },
                      {
                        "bin_start": 320.63721999999996,
                        "bin_end": 458.0031899999999,
                        "count": 0
                      },
                      {
                        "bin_start": 458.0031899999999,
                        "bin_end": 595.36916,
                        "count": 2
                      },
                      {
                        "bin_start": 595.36916,
                        "bin_end": 732.73513,
                        "count": 1
                      },
                      {
                        "bin_start": 732.73513,
                        "bin_end": 870.1010999999999,
                        "count": 2
                      }
                    ]
                  }
                },
                {
                  "name": "order_time_x",
                  "dtype": "datetime64[us, Etc/UTC]",
                  "stats": {
                    "unique_count": 32,
                    "nan_count": 0,
                    "min": "2025-04-08 10:15:00+00:00",
                    "max": "2025-04-08 17:45:00+00:00",
                    "histogram": [
                      {
                        "bin_start": 1744107300000000,
                        "bin_end": 1744110000000000,
                        "count": 3
                      },
                      {
                        "bin_start": 1744110000000000,
                        "bin_end": 1744112700000000,
                        "count": 5
                      },
                      {
                        "bin_start": 1744112700000000,
                        "bin_end": 1744115400000000,
                        "count": 1
                      },
                      {
                        "bin_start": 1744115400000000,
                        "bin_end": 1744118100000000,
                        "count": 2
                      },
                      {
                        "bin_start": 1744118100000000,
                        "bin_end": 1744120800000000,
                        "count": 3
                      },
                      {
                        "bin_start": 1744120800000000,
                        "bin_end": 1744123500000000,
                        "count": 4
                      },
                      {
                        "bin_start": 1744123500000000,
                        "bin_end": 1744126200000000,
                        "count": 6
                      },
                      {
                        "bin_start": 1744126200000000,
                        "bin_end": 1744128900000000,
                        "count": 1
                      },
                      {
                        "bin_start": 1744128900000000,
                        "bin_end": 1744131600000000,
                        "count": 4
                      },
                      {
                        "bin_start": 1744131600000000,
                        "bin_end": 1744134300000000,
                        "count": 3
                      }
                    ]
                  }
                },
                {
                  "name": "_deepnote_index_column",
                  "dtype": "int64"
                }
              ],
              "rows": [
                {
                  "Strategy_x": "volume_based_hedge",
                  "pl_x": 889.4796,
                  "pl_y": "nan",
                  "pl_agg": "nan",
                  "order_time_x": "2025-04-08 10:15:00+00:00",
                  "_deepnote_index_column": 0
                },
                {
                  "Strategy_x": "volume_based_hedge",
                  "pl_x": -425.3835,
                  "pl_y": "nan",
                  "pl_agg": "nan",
                  "order_time_x": "2025-04-08 10:30:00+00:00",
                  "_deepnote_index_column": 1
                },
                {
                  "Strategy_x": "volume_based_hedge",
                  "pl_x": -456.8629,
                  "pl_y": "nan",
                  "pl_agg": "nan",
                  "order_time_x": "2025-04-08 10:40:00+00:00",
                  "_deepnote_index_column": 2
                },
                {
                  "Strategy_x": "volume_based_hedge",
                  "pl_x": 31.1602,
                  "pl_y": -519.1095,
                  "pl_agg": -487.94930000000005,
                  "order_time_x": "2025-04-08 11:10:00+00:00",
                  "_deepnote_index_column": 3
                },
                {
                  "Strategy_x": "volume_based_hedge",
                  "pl_x": -298.9971,
                  "pl_y": 1169.0982,
                  "pl_agg": 870.1010999999999,
                  "order_time_x": "2025-04-08 11:15:00+00:00",
                  "_deepnote_index_column": 4
                },
                {
                  "Strategy_x": "volume_based_hedge",
                  "pl_x": -472.2097,
                  "pl_y": 1184.6955,
                  "pl_agg": 712.4858,
                  "order_time_x": "2025-04-08 11:20:00+00:00",
                  "_deepnote_index_column": 5
                },
                {
                  "Strategy_x": "volume_based_hedge",
                  "pl_x": -377.9202,
                  "pl_y": 77.9152,
                  "pl_agg": -300.005,
                  "order_time_x": "2025-04-08 11:25:00+00:00",
                  "_deepnote_index_column": 6
                },
                {
                  "Strategy_x": "volume_based_hedge",
                  "pl_x": 15.5799,
                  "pl_y": "nan",
                  "pl_agg": "nan",
                  "order_time_x": "2025-04-08 11:35:00+00:00",
                  "_deepnote_index_column": 7
                },
                {
                  "Strategy_x": "volume_based_hedge",
                  "pl_x": -361.6876,
                  "pl_y": 871.8033,
                  "pl_agg": 510.11570000000006,
                  "order_time_x": "2025-04-08 11:50:00+00:00",
                  "_deepnote_index_column": 8
                },
                {
                  "Strategy_x": "volume_based_hedge",
                  "pl_x": -251.7712,
                  "pl_y": 186.8545,
                  "pl_agg": -64.91669999999999,
                  "order_time_x": "2025-04-08 12:45:00+00:00",
                  "_deepnote_index_column": 9
                },
                {
                  "Strategy_x": "volume_based_hedge",
                  "pl_x": -31.4554,
                  "pl_y": "nan",
                  "pl_agg": "nan",
                  "order_time_x": "2025-04-08 12:55:00+00:00",
                  "_deepnote_index_column": 10
                },
                {
                  "Strategy_x": "volume_based_hedge",
                  "pl_x": 654.0392,
                  "pl_y": -440.3118,
                  "pl_agg": 213.72740000000005,
                  "order_time_x": "2025-04-08 13:30:00+00:00",
                  "_deepnote_index_column": 11
                },
                {
                  "Strategy_x": "volume_based_hedge",
                  "pl_x": -55.0616,
                  "pl_y": -298.8719,
                  "pl_agg": -353.9335,
                  "order_time_x": "2025-04-08 13:40:00+00:00",
                  "_deepnote_index_column": 12
                },
                {
                  "Strategy_x": "volume_based_hedge",
                  "pl_x": 1167.9272,
                  "pl_y": -392.9173,
                  "pl_agg": 775.0099,
                  "order_time_x": "2025-04-08 13:50:00+00:00",
                  "_deepnote_index_column": 13
                },
                {
                  "Strategy_x": "volume_based_hedge",
                  "pl_x": -204.3985,
                  "pl_y": -204.3769,
                  "pl_agg": -408.7754,
                  "order_time_x": "2025-04-08 14:05:00+00:00",
                  "_deepnote_index_column": 14
                },
                {
                  "Strategy_x": "volume_based_hedge",
                  "pl_x": 31.1228,
                  "pl_y": -282.9016,
                  "pl_agg": -251.77879999999996,
                  "order_time_x": "2025-04-08 14:10:00+00:00",
                  "_deepnote_index_column": 15
                },
                {
                  "Strategy_x": "volume_based_hedge",
                  "pl_x": 327.1515,
                  "pl_y": -424.6928,
                  "pl_agg": -97.54129999999998,
                  "order_time_x": "2025-04-08 14:15:00+00:00",
                  "_deepnote_index_column": 16
                },
                {
                  "Strategy_x": "volume_based_hedge",
                  "pl_x": -534.9553,
                  "pl_y": 186.9305,
                  "pl_agg": -348.02479999999997,
                  "order_time_x": "2025-04-08 14:25:00+00:00",
                  "_deepnote_index_column": 17
                },
                {
                  "Strategy_x": "volume_based_hedge",
                  "pl_x": -362.4305,
                  "pl_y": "nan",
                  "pl_agg": "nan",
                  "order_time_x": "2025-04-08 14:50:00+00:00",
                  "_deepnote_index_column": 18
                },
                {
                  "Strategy_x": "volume_based_hedge",
                  "pl_x": -504.0594,
                  "pl_y": "nan",
                  "pl_agg": "nan",
                  "order_time_x": "2025-04-08 14:55:00+00:00",
                  "_deepnote_index_column": 19
                },
                {
                  "Strategy_x": "volume_based_hedge",
                  "pl_x": 109.1885,
                  "pl_y": -267.8939,
                  "pl_agg": -158.70539999999997,
                  "order_time_x": "2025-04-08 15:00:00+00:00",
                  "_deepnote_index_column": 20
                },
                {
                  "Strategy_x": "volume_based_hedge",
                  "pl_x": 171.6849,
                  "pl_y": -252.1681,
                  "pl_agg": -80.48320000000001,
                  "order_time_x": "2025-04-08 15:05:00+00:00",
                  "_deepnote_index_column": 21
                },
                {
                  "Strategy_x": "None",
                  "pl_x": 764.6344,
                  "pl_y": "nan",
                  "pl_agg": "nan",
                  "order_time_x": "2025-04-08 15:14:00+00:00",
                  "_deepnote_index_column": 22
                },
                {
                  "Strategy_x": "volume_based_hedge",
                  "pl_x": 202.7191,
                  "pl_y": -252.1858,
                  "pl_agg": -49.4667,
                  "order_time_x": "2025-04-08 15:15:00+00:00",
                  "_deepnote_index_column": 23
                },
                {
                  "Strategy_x": "volume_based_hedge",
                  "pl_x": 935.678,
                  "pl_y": -440.9449,
                  "pl_agg": 494.7331,
                  "order_time_x": "2025-04-08 15:50:00+00:00",
                  "_deepnote_index_column": 24
                },
                {
                  "Strategy_x": "volume_based_hedge",
                  "pl_x": -519.1725,
                  "pl_y": "nan",
                  "pl_agg": "nan",
                  "order_time_x": "2025-04-08 16:35:00+00:00",
                  "_deepnote_index_column": 25
                },
                {
                  "Strategy_x": "volume_based_hedge",
                  "pl_x": 31.1518,
                  "pl_y": -534.7104,
                  "pl_agg": -503.55860000000007,
                  "order_time_x": "2025-04-08 16:40:00+00:00",
                  "_deepnote_index_column": 26
                },
                {
                  "Strategy_x": "volume_based_hedge",
                  "pl_x": -110.1288,
                  "pl_y": -361.7824,
                  "pl_agg": -471.9112,
                  "order_time_x": "2025-04-08 16:45:00+00:00",
                  "_deepnote_index_column": 27
                },
                {
                  "Strategy_x": "volume_based_hedge",
                  "pl_x": -511.3103,
                  "pl_y": 233.6494,
                  "pl_agg": -277.66089999999997,
                  "order_time_x": "2025-04-08 16:50:00+00:00",
                  "_deepnote_index_column": 28
                },
                {
                  "Strategy_x": "volume_based_hedge",
                  "pl_x": -550.8596,
                  "pl_y": 264.7012,
                  "pl_agg": -286.15840000000003,
                  "order_time_x": "2025-04-08 17:30:00+00:00",
                  "_deepnote_index_column": 29
                },
                {
                  "Strategy_x": "volume_based_hedge",
                  "pl_x": -157.2985,
                  "pl_y": -338.1336,
                  "pl_agg": -495.4321,
                  "order_time_x": "2025-04-08 17:35:00+00:00",
                  "_deepnote_index_column": 30
                },
                {
                  "Strategy_x": "volume_based_hedge",
                  "pl_x": 264.6463,
                  "pl_y": -503.1821,
                  "pl_agg": -238.5358,
                  "order_time_x": "2025-04-08 17:45:00+00:00",
                  "_deepnote_index_column": 31
                }
              ],
              "type": "dataframe"
            },
            "text/plain": "            Strategy_x       pl_x       pl_y    pl_agg  \\\n0   volume_based_hedge   889.4796        NaN       NaN   \n1   volume_based_hedge  -425.3835        NaN       NaN   \n2   volume_based_hedge  -456.8629        NaN       NaN   \n3   volume_based_hedge    31.1602  -519.1095 -487.9493   \n4   volume_based_hedge  -298.9971  1169.0982  870.1011   \n5   volume_based_hedge  -472.2097  1184.6955  712.4858   \n6   volume_based_hedge  -377.9202    77.9152 -300.0050   \n7   volume_based_hedge    15.5799        NaN       NaN   \n8   volume_based_hedge  -361.6876   871.8033  510.1157   \n9   volume_based_hedge  -251.7712   186.8545  -64.9167   \n10  volume_based_hedge   -31.4554        NaN       NaN   \n11  volume_based_hedge   654.0392  -440.3118  213.7274   \n12  volume_based_hedge   -55.0616  -298.8719 -353.9335   \n13  volume_based_hedge  1167.9272  -392.9173  775.0099   \n14  volume_based_hedge  -204.3985  -204.3769 -408.7754   \n15  volume_based_hedge    31.1228  -282.9016 -251.7788   \n16  volume_based_hedge   327.1515  -424.6928  -97.5413   \n17  volume_based_hedge  -534.9553   186.9305 -348.0248   \n18  volume_based_hedge  -362.4305        NaN       NaN   \n19  volume_based_hedge  -504.0594        NaN       NaN   \n20  volume_based_hedge   109.1885  -267.8939 -158.7054   \n21  volume_based_hedge   171.6849  -252.1681  -80.4832   \n22                None   764.6344        NaN       NaN   \n23  volume_based_hedge   202.7191  -252.1858  -49.4667   \n24  volume_based_hedge   935.6780  -440.9449  494.7331   \n25  volume_based_hedge  -519.1725        NaN       NaN   \n26  volume_based_hedge    31.1518  -534.7104 -503.5586   \n27  volume_based_hedge  -110.1288  -361.7824 -471.9112   \n28  volume_based_hedge  -511.3103   233.6494 -277.6609   \n29  volume_based_hedge  -550.8596   264.7012 -286.1584   \n30  volume_based_hedge  -157.2985  -338.1336 -495.4321   \n31  volume_based_hedge   264.6463  -503.1821 -238.5358   \n\n                order_time_x  \n0  2025-04-08 10:15:00+00:00  \n1  2025-04-08 10:30:00+00:00  \n2  2025-04-08 10:40:00+00:00  \n3  2025-04-08 11:10:00+00:00  \n4  2025-04-08 11:15:00+00:00  \n5  2025-04-08 11:20:00+00:00  \n6  2025-04-08 11:25:00+00:00  \n7  2025-04-08 11:35:00+00:00  \n8  2025-04-08 11:50:00+00:00  \n9  2025-04-08 12:45:00+00:00  \n10 2025-04-08 12:55:00+00:00  \n11 2025-04-08 13:30:00+00:00  \n12 2025-04-08 13:40:00+00:00  \n13 2025-04-08 13:50:00+00:00  \n14 2025-04-08 14:05:00+00:00  \n15 2025-04-08 14:10:00+00:00  \n16 2025-04-08 14:15:00+00:00  \n17 2025-04-08 14:25:00+00:00  \n18 2025-04-08 14:50:00+00:00  \n19 2025-04-08 14:55:00+00:00  \n20 2025-04-08 15:00:00+00:00  \n21 2025-04-08 15:05:00+00:00  \n22 2025-04-08 15:14:00+00:00  \n23 2025-04-08 15:15:00+00:00  \n24 2025-04-08 15:50:00+00:00  \n25 2025-04-08 16:35:00+00:00  \n26 2025-04-08 16:40:00+00:00  \n27 2025-04-08 16:45:00+00:00  \n28 2025-04-08 16:50:00+00:00  \n29 2025-04-08 17:30:00+00:00  \n30 2025-04-08 17:35:00+00:00  \n31 2025-04-08 17:45:00+00:00  ",
            "text/html": "<div>\n<style scoped>\n    .dataframe tbody tr th:only-of-type {\n        vertical-align: middle;\n    }\n\n    .dataframe tbody tr th {\n        vertical-align: top;\n    }\n\n    .dataframe thead th {\n        text-align: right;\n    }\n</style>\n<table border=\"1\" class=\"dataframe\">\n  <thead>\n    <tr style=\"text-align: right;\">\n      <th></th>\n      <th>Strategy_x</th>\n      <th>pl_x</th>\n      <th>pl_y</th>\n      <th>pl_agg</th>\n      <th>order_time_x</th>\n    </tr>\n  </thead>\n  <tbody>\n    <tr>\n      <th>0</th>\n      <td>volume_based_hedge</td>\n      <td>889.4796</td>\n      <td>NaN</td>\n      <td>NaN</td>\n      <td>2025-04-08 10:15:00+00:00</td>\n    </tr>\n    <tr>\n      <th>1</th>\n      <td>volume_based_hedge</td>\n      <td>-425.3835</td>\n      <td>NaN</td>\n      <td>NaN</td>\n      <td>2025-04-08 10:30:00+00:00</td>\n    </tr>\n    <tr>\n      <th>2</th>\n      <td>volume_based_hedge</td>\n      <td>-456.8629</td>\n      <td>NaN</td>\n      <td>NaN</td>\n      <td>2025-04-08 10:40:00+00:00</td>\n    </tr>\n    <tr>\n      <th>3</th>\n      <td>volume_based_hedge</td>\n      <td>31.1602</td>\n      <td>-519.1095</td>\n      <td>-487.9493</td>\n      <td>2025-04-08 11:10:00+00:00</td>\n    </tr>\n    <tr>\n      <th>4</th>\n      <td>volume_based_hedge</td>\n      <td>-298.9971</td>\n      <td>1169.0982</td>\n      <td>870.1011</td>\n      <td>2025-04-08 11:15:00+00:00</td>\n    </tr>\n    <tr>\n      <th>5</th>\n      <td>volume_based_hedge</td>\n      <td>-472.2097</td>\n      <td>1184.6955</td>\n      <td>712.4858</td>\n      <td>2025-04-08 11:20:00+00:00</td>\n    </tr>\n    <tr>\n      <th>6</th>\n      <td>volume_based_hedge</td>\n      <td>-377.9202</td>\n      <td>77.9152</td>\n      <td>-300.0050</td>\n      <td>2025-04-08 11:25:00+00:00</td>\n    </tr>\n    <tr>\n      <th>7</th>\n      <td>volume_based_hedge</td>\n      <td>15.5799</td>\n      <td>NaN</td>\n      <td>NaN</td>\n      <td>2025-04-08 11:35:00+00:00</td>\n    </tr>\n    <tr>\n      <th>8</th>\n      <td>volume_based_hedge</td>\n      <td>-361.6876</td>\n      <td>871.8033</td>\n      <td>510.1157</td>\n      <td>2025-04-08 11:50:00+00:00</td>\n    </tr>\n    <tr>\n      <th>9</th>\n      <td>volume_based_hedge</td>\n      <td>-251.7712</td>\n      <td>186.8545</td>\n      <td>-64.9167</td>\n      <td>2025-04-08 12:45:00+00:00</td>\n    </tr>\n    <tr>\n      <th>10</th>\n      <td>volume_based_hedge</td>\n      <td>-31.4554</td>\n      <td>NaN</td>\n      <td>NaN</td>\n      <td>2025-04-08 12:55:00+00:00</td>\n    </tr>\n    <tr>\n      <th>11</th>\n      <td>volume_based_hedge</td>\n      <td>654.0392</td>\n      <td>-440.3118</td>\n      <td>213.7274</td>\n      <td>2025-04-08 13:30:00+00:00</td>\n    </tr>\n    <tr>\n      <th>12</th>\n      <td>volume_based_hedge</td>\n      <td>-55.0616</td>\n      <td>-298.8719</td>\n      <td>-353.9335</td>\n      <td>2025-04-08 13:40:00+00:00</td>\n    </tr>\n    <tr>\n      <th>13</th>\n      <td>volume_based_hedge</td>\n      <td>1167.9272</td>\n      <td>-392.9173</td>\n      <td>775.0099</td>\n      <td>2025-04-08 13:50:00+00:00</td>\n    </tr>\n    <tr>\n      <th>14</th>\n      <td>volume_based_hedge</td>\n      <td>-204.3985</td>\n      <td>-204.3769</td>\n      <td>-408.7754</td>\n      <td>2025-04-08 14:05:00+00:00</td>\n    </tr>\n    <tr>\n      <th>15</th>\n      <td>volume_based_hedge</td>\n      <td>31.1228</td>\n      <td>-282.9016</td>\n      <td>-251.7788</td>\n      <td>2025-04-08 14:10:00+00:00</td>\n    </tr>\n    <tr>\n      <th>16</th>\n      <td>volume_based_hedge</td>\n      <td>327.1515</td>\n      <td>-424.6928</td>\n      <td>-97.5413</td>\n      <td>2025-04-08 14:15:00+00:00</td>\n    </tr>\n    <tr>\n      <th>17</th>\n      <td>volume_based_hedge</td>\n      <td>-534.9553</td>\n      <td>186.9305</td>\n      <td>-348.0248</td>\n      <td>2025-04-08 14:25:00+00:00</td>\n    </tr>\n    <tr>\n      <th>18</th>\n      <td>volume_based_hedge</td>\n      <td>-362.4305</td>\n      <td>NaN</td>\n      <td>NaN</td>\n      <td>2025-04-08 14:50:00+00:00</td>\n    </tr>\n    <tr>\n      <th>19</th>\n      <td>volume_based_hedge</td>\n      <td>-504.0594</td>\n      <td>NaN</td>\n      <td>NaN</td>\n      <td>2025-04-08 14:55:00+00:00</td>\n    </tr>\n    <tr>\n      <th>20</th>\n      <td>volume_based_hedge</td>\n      <td>109.1885</td>\n      <td>-267.8939</td>\n      <td>-158.7054</td>\n      <td>2025-04-08 15:00:00+00:00</td>\n    </tr>\n    <tr>\n      <th>21</th>\n      <td>volume_based_hedge</td>\n      <td>171.6849</td>\n      <td>-252.1681</td>\n      <td>-80.4832</td>\n      <td>2025-04-08 15:05:00+00:00</td>\n    </tr>\n    <tr>\n      <th>22</th>\n      <td>None</td>\n      <td>764.6344</td>\n      <td>NaN</td>\n      <td>NaN</td>\n      <td>2025-04-08 15:14:00+00:00</td>\n    </tr>\n    <tr>\n      <th>23</th>\n      <td>volume_based_hedge</td>\n      <td>202.7191</td>\n      <td>-252.1858</td>\n      <td>-49.4667</td>\n      <td>2025-04-08 15:15:00+00:00</td>\n    </tr>\n    <tr>\n      <th>24</th>\n      <td>volume_based_hedge</td>\n      <td>935.6780</td>\n      <td>-440.9449</td>\n      <td>494.7331</td>\n      <td>2025-04-08 15:50:00+00:00</td>\n    </tr>\n    <tr>\n      <th>25</th>\n      <td>volume_based_hedge</td>\n      <td>-519.1725</td>\n      <td>NaN</td>\n      <td>NaN</td>\n      <td>2025-04-08 16:35:00+00:00</td>\n    </tr>\n    <tr>\n      <th>26</th>\n      <td>volume_based_hedge</td>\n      <td>31.1518</td>\n      <td>-534.7104</td>\n      <td>-503.5586</td>\n      <td>2025-04-08 16:40:00+00:00</td>\n    </tr>\n    <tr>\n      <th>27</th>\n      <td>volume_based_hedge</td>\n      <td>-110.1288</td>\n      <td>-361.7824</td>\n      <td>-471.9112</td>\n      <td>2025-04-08 16:45:00+00:00</td>\n    </tr>\n    <tr>\n      <th>28</th>\n      <td>volume_based_hedge</td>\n      <td>-511.3103</td>\n      <td>233.6494</td>\n      <td>-277.6609</td>\n      <td>2025-04-08 16:50:00+00:00</td>\n    </tr>\n    <tr>\n      <th>29</th>\n      <td>volume_based_hedge</td>\n      <td>-550.8596</td>\n      <td>264.7012</td>\n      <td>-286.1584</td>\n      <td>2025-04-08 17:30:00+00:00</td>\n    </tr>\n    <tr>\n      <th>30</th>\n      <td>volume_based_hedge</td>\n      <td>-157.2985</td>\n      <td>-338.1336</td>\n      <td>-495.4321</td>\n      <td>2025-04-08 17:35:00+00:00</td>\n    </tr>\n    <tr>\n      <th>31</th>\n      <td>volume_based_hedge</td>\n      <td>264.6463</td>\n      <td>-503.1821</td>\n      <td>-238.5358</td>\n      <td>2025-04-08 17:45:00+00:00</td>\n    </tr>\n  </tbody>\n</table>\n</div>"
          },
          "metadata": {}
        }
      ],
      "outputs_reference": null,
      "content_dependencies": null
    },
    {
      "cell_type": "code",
      "metadata": {
        "source_hash": "d17f032",
        "execution_start": 1744158119666,
        "execution_millis": 1,
        "deepnote_table_state": {
          "sortBy": [],
          "filters": [],
          "pageSize": 100,
          "pageIndex": 0,
          "columnOrder": [
            "Time",
            "Strategy",
            "Type",
            "Quantity",
            "Price",
            "Take_Profit",
            "Stop_Loss",
            "Order_ID",
            "Account_ID"
          ],
          "hiddenColumnIds": [],
          "columnDisplayNames": [],
          "conditionalFilters": [],
          "cellFormattingRules": [],
          "wrappedTextColumnIds": []
        },
        "execution_context_id": "4871396d-a585-48ac-9423-c662bb426968",
        "deepnote_table_loading": false,
        "cell_id": "3159ab563c8143eba93de89c2e11bfae",
        "deepnote_cell_type": "code"
      },
      "source": "orders[(orders['Time'].dt.date == orders['Time'].dt.date.max()) \n        & (orders['Account_ID'] == '101-004-31059296-003')][['Order_ID','Time']].head()",
      "block_group": "dde7889bdcfc4bd48e6d4952f8f2f4e1",
      "execution_count": 252,
      "outputs": [
        {
          "output_type": "execute_result",
          "execution_count": 252,
          "data": {
            "application/vnd.deepnote.dataframe.v3+json": {
              "column_count": 2,
              "row_count": 5,
              "columns": [
                {
                  "name": "Order_ID",
                  "dtype": "int64",
                  "stats": {
                    "unique_count": 5,
                    "nan_count": 0,
                    "min": "64",
                    "max": "87",
                    "histogram": [
                      {
                        "bin_start": 64,
                        "bin_end": 66.3,
                        "count": 1
                      },
                      {
                        "bin_start": 66.3,
                        "bin_end": 68.6,
                        "count": 0
                      },
                      {
                        "bin_start": 68.6,
                        "bin_end": 70.9,
                        "count": 1
                      },
                      {
                        "bin_start": 70.9,
                        "bin_end": 73.2,
                        "count": 0
                      },
                      {
                        "bin_start": 73.2,
                        "bin_end": 75.5,
                        "count": 0
                      },
                      {
                        "bin_start": 75.5,
                        "bin_end": 77.8,
                        "count": 1
                      },
                      {
                        "bin_start": 77.8,
                        "bin_end": 80.1,
                        "count": 0
                      },
                      {
                        "bin_start": 80.1,
                        "bin_end": 82.4,
                        "count": 0
                      },
                      {
                        "bin_start": 82.4,
                        "bin_end": 84.7,
                        "count": 1
                      },
                      {
                        "bin_start": 84.7,
                        "bin_end": 87,
                        "count": 1
                      }
                    ]
                  }
                },
                {
                  "name": "Time",
                  "dtype": "datetime64[ns, UTC]",
                  "stats": {
                    "unique_count": 5,
                    "nan_count": 0,
                    "min": "2025-04-08 10:21:03.117912447+00:00",
                    "max": "2025-04-08 11:21:05.129298655+00:00",
                    "histogram": [
                      {
                        "bin_start": 1744107663117912300,
                        "bin_end": 1744108023319051000,
                        "count": 1
                      },
                      {
                        "bin_start": 1744108023319051000,
                        "bin_end": 1744108383520189700,
                        "count": 0
                      },
                      {
                        "bin_start": 1744108383520189700,
                        "bin_end": 1744108743721328000,
                        "count": 1
                      },
                      {
                        "bin_start": 1744108743721328000,
                        "bin_end": 1744109103922466800,
                        "count": 0
                      },
                      {
                        "bin_start": 1744109103922466800,
                        "bin_end": 1744109464123605500,
                        "count": 1
                      },
                      {
                        "bin_start": 1744109464123605500,
                        "bin_end": 1744109824324744200,
                        "count": 0
                      },
                      {
                        "bin_start": 1744109824324744200,
                        "bin_end": 1744110184525883000,
                        "count": 0
                      },
                      {
                        "bin_start": 1744110184525883000,
                        "bin_end": 1744110544727021300,
                        "count": 0
                      },
                      {
                        "bin_start": 1744110544727021300,
                        "bin_end": 1744110904928160000,
                        "count": 0
                      },
                      {
                        "bin_start": 1744110904928160000,
                        "bin_end": 1744111265129298700,
                        "count": 2
                      }
                    ]
                  }
                },
                {
                  "name": "_deepnote_index_column",
                  "dtype": "int64"
                }
              ],
              "rows": [
                {
                  "Order_ID": 64,
                  "Time": "2025-04-08 10:21:03.117912447+00:00",
                  "_deepnote_index_column": 23
                },
                {
                  "Order_ID": 70,
                  "Time": "2025-04-08 10:36:03.490659841+00:00",
                  "_deepnote_index_column": 24
                },
                {
                  "Order_ID": 76,
                  "Time": "2025-04-08 10:46:03.448784390+00:00",
                  "_deepnote_index_column": 25
                },
                {
                  "Order_ID": 83,
                  "Time": "2025-04-08 11:16:04.942459334+00:00",
                  "_deepnote_index_column": 27
                },
                {
                  "Order_ID": 87,
                  "Time": "2025-04-08 11:21:05.129298655+00:00",
                  "_deepnote_index_column": 29
                }
              ],
              "type": "dataframe"
            },
            "text/plain": "    Order_ID                                Time\n23        64 2025-04-08 10:21:03.117912447+00:00\n24        70 2025-04-08 10:36:03.490659841+00:00\n25        76 2025-04-08 10:46:03.448784390+00:00\n27        83 2025-04-08 11:16:04.942459334+00:00\n29        87 2025-04-08 11:21:05.129298655+00:00",
            "text/html": "<div>\n<style scoped>\n    .dataframe tbody tr th:only-of-type {\n        vertical-align: middle;\n    }\n\n    .dataframe tbody tr th {\n        vertical-align: top;\n    }\n\n    .dataframe thead th {\n        text-align: right;\n    }\n</style>\n<table border=\"1\" class=\"dataframe\">\n  <thead>\n    <tr style=\"text-align: right;\">\n      <th></th>\n      <th>Order_ID</th>\n      <th>Time</th>\n    </tr>\n  </thead>\n  <tbody>\n    <tr>\n      <th>23</th>\n      <td>64</td>\n      <td>2025-04-08 10:21:03.117912447+00:00</td>\n    </tr>\n    <tr>\n      <th>24</th>\n      <td>70</td>\n      <td>2025-04-08 10:36:03.490659841+00:00</td>\n    </tr>\n    <tr>\n      <th>25</th>\n      <td>76</td>\n      <td>2025-04-08 10:46:03.448784390+00:00</td>\n    </tr>\n    <tr>\n      <th>27</th>\n      <td>83</td>\n      <td>2025-04-08 11:16:04.942459334+00:00</td>\n    </tr>\n    <tr>\n      <th>29</th>\n      <td>87</td>\n      <td>2025-04-08 11:21:05.129298655+00:00</td>\n    </tr>\n  </tbody>\n</table>\n</div>"
          },
          "metadata": {}
        }
      ],
      "outputs_reference": null,
      "content_dependencies": null
    },
    {
      "cell_type": "code",
      "metadata": {
        "source_hash": "4f9c9a0f",
        "execution_start": 1744158171996,
        "execution_millis": 0,
        "execution_context_id": "4871396d-a585-48ac-9423-c662bb426968",
        "cell_id": "51b5f1b5f0214e2d8c116535d3882a5f",
        "deepnote_cell_type": "code"
      },
      "source": "strategy_agg[(strategy_agg['time_tf'].dt.date == strategy_agg['time_tf'].dt.date.max())\n            ][['pl_agg']].mean()",
      "block_group": "7e28442e4e974843b8f62f7c6e8d02d0",
      "execution_count": 256,
      "outputs": [
        {
          "output_type": "execute_result",
          "execution_count": 256,
          "data": {
            "text/plain": "pl_agg   -56.463657\ndtype: float64"
          },
          "metadata": {}
        }
      ],
      "outputs_reference": null,
      "content_dependencies": null
    },
    {
      "cell_type": "code",
      "metadata": {
        "cell_id": "b7266e094c7f4a4f8af74237f39574de",
        "deepnote_cell_type": "code"
      },
      "source": "",
      "block_group": "94bcdcfd263a4478b9e24286bc784be6",
      "execution_count": null,
      "outputs": [],
      "outputs_reference": null,
      "content_dependencies": null
    },
    {
      "cell_type": "markdown",
      "source": "<a style='text-decoration:none;line-height:16px;display:flex;color:#5B5B62;padding:10px;justify-content:end;' href='https://deepnote.com?utm_source=created-in-deepnote-cell&projectId=a127aa9e-0a77-4af9-a6ce-85e7a9b74042' target=\"_blank\">\n<img alt='Created in deepnote.com' style='display:inline;max-height:16px;margin:0px;margin-right:7.5px;' src='data:image/svg+xml;base64,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' > </img>\nCreated in <span style='font-weight:600;margin-left:4px;'>Deepnote</span></a>",
      "metadata": {
        "created_in_deepnote_cell": true,
        "deepnote_cell_type": "markdown"
      }
    }
  ],
  "nbformat": 4,
  "nbformat_minor": 0,
  "metadata": {
    "deepnote_persisted_session": {
      "createdAt": "2025-04-08T15:56:20.007Z"
    },
    "deepnote_notebook_id": "77432b1dee9c4e5980e363ebe2995386"
  }
}