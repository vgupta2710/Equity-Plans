{
  "cells": [
    {
      "cell_type": "code",
      "metadata": {
        "source_hash": "74a9bca0",
        "execution_start": 1744132215586,
        "execution_millis": 2,
        "execution_context_id": "4871396d-a585-48ac-9423-c662bb426968",
        "cell_id": "936a9ae588564d0abf5fb76626c620d6",
        "deepnote_cell_type": "code"
      },
      "source": "import os\naccess_token = os.environ[\"ACCESS_TOKEN\"]\naccount_id_demo = os.environ[\"ACCOUNT_DEMO\"]\naccount_id_hedge = os.environ[\"ACCOUNT_HEDGE\"]\nimport oandapyV20\nimport oandapyV20.endpoints.transactions as trans\nimport pandas as pd",
      "block_group": "936a9ae588564d0abf5fb76626c620d6",
      "execution_count": 18,
      "outputs": [],
      "outputs_reference": null,
      "content_dependencies": null
    },
    {
      "cell_type": "code",
      "metadata": {
        "source_hash": "517d3b93",
        "execution_start": 1744155334731,
        "execution_millis": 343,
        "execution_context_id": "4871396d-a585-48ac-9423-c662bb426968",
        "cell_id": "4b7c591013e64d1faf326f5ab951689f",
        "deepnote_cell_type": "code"
      },
      "source": "client = oandapyV20.API(access_token=access_token)\nparam = { \"id\": 900 }\nr = trans.TransactionsSinceID(accountID=account_id_demo,  params=param)\ntrades= client.request(r)\nparam1 = { \"id\": 0 }\nrequest_hedge = trans.TransactionsSinceID(accountID=account_id_hedge,  params=param1)\ntrades_hedge= client.request(request_hedge)",
      "block_group": "da0bcd9836484df49e01f0085a50a6bc",
      "execution_count": 111,
      "outputs": [],
      "outputs_reference": null,
      "content_dependencies": null
    },
    {
      "cell_type": "code",
      "metadata": {
        "source_hash": "d5ef34a1",
        "execution_start": 1744155335126,
        "execution_millis": 0,
        "execution_context_id": "4871396d-a585-48ac-9423-c662bb426968",
        "cell_id": "428356300bb2463d81adc9ea14342c4f",
        "deepnote_cell_type": "code"
      },
      "source": "all_transactions_hedge = pd.DataFrame(trades_hedge['transactions'])\nall_transactions = pd.DataFrame(trades['transactions'])\nall_transactions = pd.concat([all_transactions_hedge,all_transactions])\nall_transactions['time'] = pd.to_datetime(all_transactions['time'])\nall_transactions['date'] = all_transactions['time'].dt.date\nall_transactions = all_transactions[all_transactions['date'] == all_transactions['date'].max()]\nall_transactions['pl'] = pd.to_numeric(all_transactions['pl'])\nprint(all_transactions[all_transactions['reason'].isin(['TRAILING_STOP_LOSS_ORDER', 'TAKE_PROFIT_ORDER'])].groupby(['accountID','reason'])['pl'].sum())\nprint(all_transactions['pl'].sum())",
      "block_group": "169c2c89203341ed8ed14d6bd748c360",
      "execution_count": 112,
      "outputs": [
        {
          "name": "stdout",
          "text": "accountID             reason                  \n101-004-31059296-001  TAKE_PROFIT_ORDER           2353.7937\n                      TRAILING_STOP_LOSS_ORDER   -5911.3750\n101-004-31059296-003  TAKE_PROFIT_ORDER           3757.7192\n                      TRAILING_STOP_LOSS_ORDER   -4347.5184\nName: pl, dtype: float64\n-2733.718300000001\n",
          "output_type": "stream"
        }
      ],
      "outputs_reference": null,
      "content_dependencies": null
    },
    {
      "cell_type": "code",
      "metadata": {
        "source_hash": "1dfe3fda",
        "execution_start": 1744155114652,
        "execution_millis": 2,
        "execution_context_id": "4871396d-a585-48ac-9423-c662bb426968",
        "cell_id": "40aea4369ea241e6bb3cb2b3895c3cbc",
        "deepnote_cell_type": "code"
      },
      "source": "pd.to_numeric(all_transactions['halfSpreadCost']).sum()",
      "block_group": "83be861b503246a9aaa1b6881896c197",
      "execution_count": 80,
      "outputs": [
        {
          "output_type": "execute_result",
          "execution_count": 80,
          "data": {
            "text/plain": "4631.0979"
          },
          "metadata": {}
        }
      ],
      "outputs_reference": null,
      "content_dependencies": null
    },
    {
      "cell_type": "code",
      "metadata": {
        "source_hash": "2a4ea8b",
        "execution_start": 1744155344110,
        "execution_millis": 1,
        "execution_context_id": "4871396d-a585-48ac-9423-c662bb426968",
        "cell_id": "effc39e44b8448d2b166ea4c620b3934",
        "deepnote_cell_type": "code"
      },
      "source": "all_transactions.shape",
      "block_group": "e7c5f8c76ac548c39026e2fe2e2954e6",
      "execution_count": 114,
      "outputs": [
        {
          "output_type": "execute_result",
          "execution_count": 114,
          "data": {
            "text/plain": "(430, 61)"
          },
          "metadata": {}
        }
      ],
      "outputs_reference": null,
      "content_dependencies": null
    },
    {
      "cell_type": "code",
      "metadata": {
        "source_hash": "cd842853",
        "execution_start": 1744155380276,
        "execution_millis": 207,
        "execution_context_id": "4871396d-a585-48ac-9423-c662bb426968",
        "cell_id": "09d17e1da306410b8e9518ff1dbbd2e5",
        "deepnote_cell_type": "code"
      },
      "source": "orders = pd.read_csv('/work/data/orders/all_orders.csv')\norders['Time'] = pd.to_datetime(orders['Time'])\nall_transactions['id'] = pd.to_numeric(all_transactions['id'])\nall_transactions['batchID'] = pd.to_numeric(all_transactions['batchID'])\nall_transactions = pd.merge(all_transactions,orders,left_on='batchID', right_on = 'Order_ID',how='left')",
      "block_group": "b34f708b89b5488795a46ad50d65f92a",
      "execution_count": 116,
      "outputs": [],
      "outputs_reference": null,
      "content_dependencies": null
    },
    {
      "cell_type": "code",
      "metadata": {
        "source_hash": "3477b697",
        "execution_start": 1744155668546,
        "execution_millis": 110,
        "sql_integration_id": "deepnote-dataframe-sql",
        "deepnote_table_state": {
          "sortBy": [
            {
              "id": "batchID",
              "type": "asc"
            }
          ],
          "filters": [],
          "pageSize": 5,
          "pageIndex": 0,
          "columnOrder": [
            "batchID",
            "pl",
            "time",
            "order_time"
          ],
          "hiddenColumnIds": [],
          "columnDisplayNames": [],
          "conditionalFilters": [],
          "cellFormattingRules": [],
          "wrappedTextColumnIds": []
        },
        "execution_context_id": "4871396d-a585-48ac-9423-c662bb426968",
        "deepnote_table_loading": false,
        "deepnote_variable_name": "trans_orders",
        "cell_id": "fe8ba156e9a24f609c2e1b38d47bdbaf",
        "deepnote_cell_type": "sql",
        "deepnote_sql_source": "WITH trading_orders AS (\n    SELECT \n        CAST(all1.batchID AS INTEGER) as batchID,base.accountID,all1.Strategy,\n        base.pl,\n        date_trunc('minute',all1.time) time_tf,\n        date_trunc('minute', all1.time - INTERVAL '6 minutes') AS order_time\n    FROM all_transactions base \n    LEFT JOIN all_transactions order_filled \n        ON CAST(base.orderID AS INTEGER) = order_filled.id\n    LEFT JOIN all_transactions all1 \n        ON order_filled.batchID = all1.id\n    WHERE base.reason IN ('TAKE_PROFIT_ORDER', 'TRAILING_STOP_LOSS_ORDER')\n)\nSELECT * FROM trading_orders\nORDER BY batchID "
      },
      "source": "trans_orders = _dntk.execute_sql(\n  'WITH trading_orders AS (\\n    SELECT \\n        CAST(all1.batchID AS INTEGER) as batchID,base.accountID,all1.Strategy,\\n        base.pl,\\n        date_trunc(\\'minute\\',all1.time) time_tf,\\n        date_trunc(\\'minute\\', all1.time - INTERVAL \\'6 minutes\\') AS order_time\\n    FROM all_transactions base \\n    LEFT JOIN all_transactions order_filled \\n        ON CAST(base.orderID AS INTEGER) = order_filled.id\\n    LEFT JOIN all_transactions all1 \\n        ON order_filled.batchID = all1.id\\n    WHERE base.reason IN (\\'TAKE_PROFIT_ORDER\\', \\'TRAILING_STOP_LOSS_ORDER\\')\\n)\\nSELECT * FROM trading_orders\\nORDER BY batchID ',\n  'SQL_DEEPNOTE_DATAFRAME_SQL',\n  audit_sql_comment='',\n  sql_cache_mode='cache_disabled',\n  return_variable_type='dataframe'\n)\ntrans_orders",
      "block_group": "639cb0aec93f4f93ad715d106663f29a",
      "execution_count": 138,
      "outputs": [
        {
          "output_type": "execute_result",
          "execution_count": 138,
          "data": {
            "application/vnd.deepnote.dataframe.v3+json": {
              "column_count": 6,
              "row_count": 61,
              "columns": [
                {
                  "name": "batchID",
                  "dtype": "int32",
                  "stats": {
                    "unique_count": 61,
                    "nan_count": 0,
                    "min": "64",
                    "max": "1240",
                    "histogram": [
                      {
                        "bin_start": 64,
                        "bin_end": 181.6,
                        "count": 17
                      },
                      {
                        "bin_start": 181.6,
                        "bin_end": 299.2,
                        "count": 15
                      },
                      {
                        "bin_start": 299.2,
                        "bin_end": 416.79999999999995,
                        "count": 0
                      },
                      {
                        "bin_start": 416.79999999999995,
                        "bin_end": 534.4,
                        "count": 0
                      },
                      {
                        "bin_start": 534.4,
                        "bin_end": 652,
                        "count": 0
                      },
                      {
                        "bin_start": 652,
                        "bin_end": 769.5999999999999,
                        "count": 0
                      },
                      {
                        "bin_start": 769.5999999999999,
                        "bin_end": 887.1999999999999,
                        "count": 0
                      },
                      {
                        "bin_start": 887.1999999999999,
                        "bin_end": 1004.8,
                        "count": 0
                      },
                      {
                        "bin_start": 1004.8,
                        "bin_end": 1122.3999999999999,
                        "count": 11
                      },
                      {
                        "bin_start": 1122.3999999999999,
                        "bin_end": 1240,
                        "count": 18
                      }
                    ]
                  }
                },
                {
                  "name": "accountID",
                  "dtype": "object",
                  "stats": {
                    "unique_count": 2,
                    "nan_count": 0,
                    "categories": [
                      {
                        "name": "101-004-31059296-003",
                        "count": 32
                      },
                      {
                        "name": "101-004-31059296-001",
                        "count": 29
                      }
                    ]
                  }
                },
                {
                  "name": "Strategy",
                  "dtype": "object",
                  "stats": {
                    "unique_count": 2,
                    "nan_count": 1,
                    "categories": [
                      {
                        "name": "volume_based_hedge",
                        "count": 31
                      },
                      {
                        "name": "volume_based",
                        "count": 29
                      },
                      {
                        "name": "Missing",
                        "count": 1
                      }
                    ]
                  }
                },
                {
                  "name": "pl",
                  "dtype": "float64",
                  "stats": {
                    "unique_count": 61,
                    "nan_count": 0,
                    "min": "-550.8596",
                    "max": "1184.6955",
                    "histogram": [
                      {
                        "bin_start": -550.8596,
                        "bin_end": -377.30409,
                        "count": 19
                      },
                      {
                        "bin_start": -377.30409,
                        "bin_end": -203.74858,
                        "count": 16
                      },
                      {
                        "bin_start": -203.74858,
                        "bin_end": -30.193070000000034,
                        "count": 4
                      },
                      {
                        "bin_start": -30.193070000000034,
                        "bin_end": 143.36244,
                        "count": 6
                      },
                      {
                        "bin_start": 143.36244,
                        "bin_end": 316.91795,
                        "count": 7
                      },
                      {
                        "bin_start": 316.91795,
                        "bin_end": 490.47345999999993,
                        "count": 1
                      },
                      {
                        "bin_start": 490.47345999999993,
                        "bin_end": 664.0289700000001,
                        "count": 1
                      },
                      {
                        "bin_start": 664.0289700000001,
                        "bin_end": 837.58448,
                        "count": 1
                      },
                      {
                        "bin_start": 837.58448,
                        "bin_end": 1011.1399899999999,
                        "count": 3
                      },
                      {
                        "bin_start": 1011.1399899999999,
                        "bin_end": 1184.6955,
                        "count": 3
                      }
                    ]
                  }
                },
                {
                  "name": "time_tf",
                  "dtype": "datetime64[us, Etc/UTC]",
                  "stats": {
                    "unique_count": 38,
                    "nan_count": 0,
                    "min": "2025-04-08 10:21:00+00:00",
                    "max": "2025-04-08 17:51:00+00:00",
                    "histogram": [
                      {
                        "bin_start": 1744107660000000,
                        "bin_end": 1744110360000000,
                        "count": 3
                      },
                      {
                        "bin_start": 1744110360000000,
                        "bin_end": 1744113060000000,
                        "count": 9
                      },
                      {
                        "bin_start": 1744113060000000,
                        "bin_end": 1744115760000000,
                        "count": 4
                      },
                      {
                        "bin_start": 1744115760000000,
                        "bin_end": 1744118460000000,
                        "count": 4
                      },
                      {
                        "bin_start": 1744118460000000,
                        "bin_end": 1744121160000000,
                        "count": 6
                      },
                      {
                        "bin_start": 1744121160000000,
                        "bin_end": 1744123860000000,
                        "count": 8
                      },
                      {
                        "bin_start": 1744123860000000,
                        "bin_end": 1744126560000000,
                        "count": 10
                      },
                      {
                        "bin_start": 1744126560000000,
                        "bin_end": 1744129260000000,
                        "count": 4
                      },
                      {
                        "bin_start": 1744129260000000,
                        "bin_end": 1744131960000000,
                        "count": 7
                      },
                      {
                        "bin_start": 1744131960000000,
                        "bin_end": 1744134660000000,
                        "count": 6
                      }
                    ]
                  }
                },
                {
                  "name": "order_time",
                  "dtype": "datetime64[us, Etc/UTC]",
                  "stats": {
                    "unique_count": 38,
                    "nan_count": 0,
                    "min": "2025-04-08 10:15:00+00:00",
                    "max": "2025-04-08 17:45:00+00:00",
                    "histogram": [
                      {
                        "bin_start": 1744107300000000,
                        "bin_end": 1744110000000000,
                        "count": 3
                      },
                      {
                        "bin_start": 1744110000000000,
                        "bin_end": 1744112700000000,
                        "count": 9
                      },
                      {
                        "bin_start": 1744112700000000,
                        "bin_end": 1744115400000000,
                        "count": 4
                      },
                      {
                        "bin_start": 1744115400000000,
                        "bin_end": 1744118100000000,
                        "count": 4
                      },
                      {
                        "bin_start": 1744118100000000,
                        "bin_end": 1744120800000000,
                        "count": 6
                      },
                      {
                        "bin_start": 1744120800000000,
                        "bin_end": 1744123500000000,
                        "count": 8
                      },
                      {
                        "bin_start": 1744123500000000,
                        "bin_end": 1744126200000000,
                        "count": 10
                      },
                      {
                        "bin_start": 1744126200000000,
                        "bin_end": 1744128900000000,
                        "count": 4
                      },
                      {
                        "bin_start": 1744128900000000,
                        "bin_end": 1744131600000000,
                        "count": 7
                      },
                      {
                        "bin_start": 1744131600000000,
                        "bin_end": 1744134300000000,
                        "count": 6
                      }
                    ]
                  }
                },
                {
                  "name": "_deepnote_index_column",
                  "dtype": "int64"
                }
              ],
              "rows": [
                {
                  "batchID": 64,
                  "accountID": "101-004-31059296-003",
                  "Strategy": "volume_based_hedge",
                  "pl": 889.4796,
                  "time_tf": "2025-04-08 10:21:00+00:00",
                  "order_time": "2025-04-08 10:15:00+00:00",
                  "_deepnote_index_column": 0
                },
                {
                  "batchID": 70,
                  "accountID": "101-004-31059296-003",
                  "Strategy": "volume_based_hedge",
                  "pl": -425.3835,
                  "time_tf": "2025-04-08 10:36:00+00:00",
                  "order_time": "2025-04-08 10:30:00+00:00",
                  "_deepnote_index_column": 1
                },
                {
                  "batchID": 76,
                  "accountID": "101-004-31059296-003",
                  "Strategy": "volume_based_hedge",
                  "pl": -456.8629,
                  "time_tf": "2025-04-08 10:46:00+00:00",
                  "order_time": "2025-04-08 10:40:00+00:00",
                  "_deepnote_index_column": 2
                },
                {
                  "batchID": 83,
                  "accountID": "101-004-31059296-003",
                  "Strategy": "volume_based_hedge",
                  "pl": 31.1602,
                  "time_tf": "2025-04-08 11:16:00+00:00",
                  "order_time": "2025-04-08 11:10:00+00:00",
                  "_deepnote_index_column": 3
                },
                {
                  "batchID": 87,
                  "accountID": "101-004-31059296-003",
                  "Strategy": "volume_based_hedge",
                  "pl": -298.9971,
                  "time_tf": "2025-04-08 11:21:00+00:00",
                  "order_time": "2025-04-08 11:15:00+00:00",
                  "_deepnote_index_column": 4
                }
              ],
              "type": "dataframe"
            },
            "text/plain": "    batchID             accountID            Strategy        pl  \\\n0        64  101-004-31059296-003  volume_based_hedge  889.4796   \n1        70  101-004-31059296-003  volume_based_hedge -425.3835   \n2        76  101-004-31059296-003  volume_based_hedge -456.8629   \n3        83  101-004-31059296-003  volume_based_hedge   31.1602   \n4        87  101-004-31059296-003  volume_based_hedge -298.9971   \n..      ...                   ...                 ...       ...   \n56     1214  101-004-31059296-001        volume_based -361.7824   \n57     1220  101-004-31059296-001        volume_based  233.6494   \n58     1228  101-004-31059296-001        volume_based  264.7012   \n59     1232  101-004-31059296-001        volume_based -338.1336   \n60     1240  101-004-31059296-001        volume_based -503.1821   \n\n                     time_tf                order_time  \n0  2025-04-08 10:21:00+00:00 2025-04-08 10:15:00+00:00  \n1  2025-04-08 10:36:00+00:00 2025-04-08 10:30:00+00:00  \n2  2025-04-08 10:46:00+00:00 2025-04-08 10:40:00+00:00  \n3  2025-04-08 11:16:00+00:00 2025-04-08 11:10:00+00:00  \n4  2025-04-08 11:21:00+00:00 2025-04-08 11:15:00+00:00  \n..                       ...                       ...  \n56 2025-04-08 16:51:00+00:00 2025-04-08 16:45:00+00:00  \n57 2025-04-08 16:56:00+00:00 2025-04-08 16:50:00+00:00  \n58 2025-04-08 17:36:00+00:00 2025-04-08 17:30:00+00:00  \n59 2025-04-08 17:41:00+00:00 2025-04-08 17:35:00+00:00  \n60 2025-04-08 17:51:00+00:00 2025-04-08 17:45:00+00:00  \n\n[61 rows x 6 columns]",
            "text/html": "<div>\n<style scoped>\n    .dataframe tbody tr th:only-of-type {\n        vertical-align: middle;\n    }\n\n    .dataframe tbody tr th {\n        vertical-align: top;\n    }\n\n    .dataframe thead th {\n        text-align: right;\n    }\n</style>\n<table border=\"1\" class=\"dataframe\">\n  <thead>\n    <tr style=\"text-align: right;\">\n      <th></th>\n      <th>batchID</th>\n      <th>accountID</th>\n      <th>Strategy</th>\n      <th>pl</th>\n      <th>time_tf</th>\n      <th>order_time</th>\n    </tr>\n  </thead>\n  <tbody>\n    <tr>\n      <th>0</th>\n      <td>64</td>\n      <td>101-004-31059296-003</td>\n      <td>volume_based_hedge</td>\n      <td>889.4796</td>\n      <td>2025-04-08 10:21:00+00:00</td>\n      <td>2025-04-08 10:15:00+00:00</td>\n    </tr>\n    <tr>\n      <th>1</th>\n      <td>70</td>\n      <td>101-004-31059296-003</td>\n      <td>volume_based_hedge</td>\n      <td>-425.3835</td>\n      <td>2025-04-08 10:36:00+00:00</td>\n      <td>2025-04-08 10:30:00+00:00</td>\n    </tr>\n    <tr>\n      <th>2</th>\n      <td>76</td>\n      <td>101-004-31059296-003</td>\n      <td>volume_based_hedge</td>\n      <td>-456.8629</td>\n      <td>2025-04-08 10:46:00+00:00</td>\n      <td>2025-04-08 10:40:00+00:00</td>\n    </tr>\n    <tr>\n      <th>3</th>\n      <td>83</td>\n      <td>101-004-31059296-003</td>\n      <td>volume_based_hedge</td>\n      <td>31.1602</td>\n      <td>2025-04-08 11:16:00+00:00</td>\n      <td>2025-04-08 11:10:00+00:00</td>\n    </tr>\n    <tr>\n      <th>4</th>\n      <td>87</td>\n      <td>101-004-31059296-003</td>\n      <td>volume_based_hedge</td>\n      <td>-298.9971</td>\n      <td>2025-04-08 11:21:00+00:00</td>\n      <td>2025-04-08 11:15:00+00:00</td>\n    </tr>\n    <tr>\n      <th>...</th>\n      <td>...</td>\n      <td>...</td>\n      <td>...</td>\n      <td>...</td>\n      <td>...</td>\n      <td>...</td>\n    </tr>\n    <tr>\n      <th>56</th>\n      <td>1214</td>\n      <td>101-004-31059296-001</td>\n      <td>volume_based</td>\n      <td>-361.7824</td>\n      <td>2025-04-08 16:51:00+00:00</td>\n      <td>2025-04-08 16:45:00+00:00</td>\n    </tr>\n    <tr>\n      <th>57</th>\n      <td>1220</td>\n      <td>101-004-31059296-001</td>\n      <td>volume_based</td>\n      <td>233.6494</td>\n      <td>2025-04-08 16:56:00+00:00</td>\n      <td>2025-04-08 16:50:00+00:00</td>\n    </tr>\n    <tr>\n      <th>58</th>\n      <td>1228</td>\n      <td>101-004-31059296-001</td>\n      <td>volume_based</td>\n      <td>264.7012</td>\n      <td>2025-04-08 17:36:00+00:00</td>\n      <td>2025-04-08 17:30:00+00:00</td>\n    </tr>\n    <tr>\n      <th>59</th>\n      <td>1232</td>\n      <td>101-004-31059296-001</td>\n      <td>volume_based</td>\n      <td>-338.1336</td>\n      <td>2025-04-08 17:41:00+00:00</td>\n      <td>2025-04-08 17:35:00+00:00</td>\n    </tr>\n    <tr>\n      <th>60</th>\n      <td>1240</td>\n      <td>101-004-31059296-001</td>\n      <td>volume_based</td>\n      <td>-503.1821</td>\n      <td>2025-04-08 17:51:00+00:00</td>\n      <td>2025-04-08 17:45:00+00:00</td>\n    </tr>\n  </tbody>\n</table>\n<p>61 rows × 6 columns</p>\n</div>"
          },
          "metadata": {}
        }
      ],
      "outputs_reference": null,
      "content_dependencies": null
    },
    {
      "cell_type": "code",
      "metadata": {
        "source_hash": "8cc411ed",
        "execution_start": 1744155531594,
        "execution_millis": 1,
        "deepnote_table_state": {
          "sortBy": [],
          "filters": [],
          "pageSize": 100,
          "pageIndex": 0,
          "columnOrder": [
            "batchID",
            "pl",
            "time",
            "order_time"
          ],
          "hiddenColumnIds": [],
          "columnDisplayNames": [],
          "conditionalFilters": [],
          "cellFormattingRules": [],
          "wrappedTextColumnIds": []
        },
        "execution_context_id": "4871396d-a585-48ac-9423-c662bb426968",
        "deepnote_table_loading": false,
        "cell_id": "20108a0b86604a209ab802917707ba89",
        "deepnote_cell_type": "code"
      },
      "source": "trans_orders.shape",
      "block_group": "3f0ded62d9324fea87eb9fe6c344001e",
      "execution_count": 126,
      "outputs": [
        {
          "output_type": "execute_result",
          "execution_count": 126,
          "data": {
            "text/plain": "(61, 6)"
          },
          "metadata": {}
        }
      ],
      "outputs_reference": null,
      "content_dependencies": null
    },
    {
      "cell_type": "code",
      "metadata": {
        "source_hash": "56e2866c",
        "execution_start": 1744155690756,
        "execution_millis": 0,
        "execution_context_id": "4871396d-a585-48ac-9423-c662bb426968",
        "cell_id": "baae9f4784b54998899239bc58e5e1e0",
        "deepnote_cell_type": "code"
      },
      "source": "pd.merge(    \n    trans_orders[trans_orders['accountID']=='101-004-31059296-003'],\n    trans_orders[trans_orders['accountID']=='101-004-31059296-001'],\n    on = 'time_tf').columns",
      "block_group": "16823fb2ea9f43b2a1aeb9439bcd1814",
      "execution_count": 142,
      "outputs": [
        {
          "output_type": "execute_result",
          "execution_count": 142,
          "data": {
            "text/plain": "Index(['batchID_x', 'accountID_x', 'Strategy_x', 'pl_x', 'time_tf',\n       'order_time_x', 'batchID_y', 'accountID_y', 'Strategy_y', 'pl_y',\n       'order_time_y'],\n      dtype='object')"
          },
          "metadata": {}
        }
      ],
      "outputs_reference": null,
      "content_dependencies": null
    },
    {
      "cell_type": "code",
      "metadata": {
        "cell_id": "e40dbfc910304532983da3a67d72df53",
        "deepnote_cell_type": "code"
      },
      "source": "",
      "block_group": "a2b648e6035f462da36ebdf2576b3993",
      "execution_count": null,
      "outputs": [],
      "outputs_reference": null,
      "content_dependencies": null
    },
    {
      "cell_type": "markdown",
      "source": "<a style='text-decoration:none;line-height:16px;display:flex;color:#5B5B62;padding:10px;justify-content:end;' href='https://deepnote.com?utm_source=created-in-deepnote-cell&projectId=a127aa9e-0a77-4af9-a6ce-85e7a9b74042' target=\"_blank\">\n<img alt='Created in deepnote.com' style='display:inline;max-height:16px;margin:0px;margin-right:7.5px;' src='data:image/svg+xml;base64,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' > </img>\nCreated in <span style='font-weight:600;margin-left:4px;'>Deepnote</span></a>",
      "metadata": {
        "created_in_deepnote_cell": true,
        "deepnote_cell_type": "markdown"
      }
    }
  ],
  "nbformat": 4,
  "nbformat_minor": 0,
  "metadata": {
    "deepnote_persisted_session": {
      "createdAt": "2025-04-08T15:56:20.007Z"
    },
    "deepnote_notebook_id": "77432b1dee9c4e5980e363ebe2995386"
  }
}