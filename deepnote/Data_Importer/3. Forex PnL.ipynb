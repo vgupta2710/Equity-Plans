{
  "cells": [
    {
      "cell_type": "code",
      "metadata": {
        "source_hash": "74a9bca0",
        "execution_start": 1744284120823,
        "execution_millis": 6,
        "execution_context_id": "49d34d6a-478c-4b12-87aa-f8d059b273d2",
        "cell_id": "936a9ae588564d0abf5fb76626c620d6",
        "deepnote_cell_type": "code"
      },
      "source": "import os\naccess_token = os.environ[\"ACCESS_TOKEN\"]\naccount_id_demo = os.environ[\"ACCOUNT_DEMO\"]\naccount_id_hedge = os.environ[\"ACCOUNT_HEDGE\"]\nimport oandapyV20\nimport oandapyV20.endpoints.transactions as trans\nimport pandas as pd",
      "block_group": "936a9ae588564d0abf5fb76626c620d6",
      "execution_count": 3,
      "outputs": [],
      "outputs_reference": null,
      "content_dependencies": null
    },
    {
      "cell_type": "code",
      "metadata": {
        "source_hash": "517d3b93",
        "execution_start": 1744309486285,
        "execution_millis": 356,
        "execution_context_id": "49d34d6a-478c-4b12-87aa-f8d059b273d2",
        "cell_id": "4b7c591013e64d1faf326f5ab951689f",
        "deepnote_cell_type": "code"
      },
      "source": "client = oandapyV20.API(access_token=access_token)\nparam = { \"id\": 900 }\nr = trans.TransactionsSinceID(accountID=account_id_demo,  params=param)\ntrades= client.request(r)\nparam1 = { \"id\": 0 }\nrequest_hedge = trans.TransactionsSinceID(accountID=account_id_hedge,  params=param1)\ntrades_hedge= client.request(request_hedge)",
      "block_group": "da0bcd9836484df49e01f0085a50a6bc",
      "execution_count": 140,
      "outputs": [],
      "outputs_reference": null,
      "content_dependencies": null
    },
    {
      "cell_type": "code",
      "metadata": {
        "source_hash": "d5ef34a1",
        "execution_start": 1744309487310,
        "execution_millis": 19,
        "execution_context_id": "49d34d6a-478c-4b12-87aa-f8d059b273d2",
        "cell_id": "428356300bb2463d81adc9ea14342c4f",
        "deepnote_cell_type": "code"
      },
      "source": "all_transactions_hedge = pd.DataFrame(trades_hedge['transactions'])\nall_transactions = pd.DataFrame(trades['transactions'])\nall_transactions = pd.concat([all_transactions_hedge,all_transactions])\nall_transactions['time'] = pd.to_datetime(all_transactions['time'])\nall_transactions['date'] = all_transactions['time'].dt.date\nall_transactions = all_transactions[all_transactions['date'] == all_transactions['date'].max()]\nall_transactions['pl'] = pd.to_numeric(all_transactions['pl'])\nprint(all_transactions[all_transactions['reason'].isin(['TRAILING_STOP_LOSS_ORDER', 'TAKE_PROFIT_ORDER'])].groupby(['accountID','reason'])['pl'].sum())\nprint(all_transactions['pl'].sum())",
      "block_group": "169c2c89203341ed8ed14d6bd748c360",
      "execution_count": 142,
      "outputs": [
        {
          "name": "stdout",
          "text": "accountID             reason                  \n101-004-31059296-001  TAKE_PROFIT_ORDER           5260.1565\n                      TRAILING_STOP_LOSS_ORDER   -3975.0291\n101-004-31059296-003  TAKE_PROFIT_ORDER           1291.0999\n                      TRAILING_STOP_LOSS_ORDER   -9613.3486\nName: pl, dtype: float64\n-5604.8283\n",
          "output_type": "stream"
        }
      ],
      "outputs_reference": null,
      "content_dependencies": null
    },
    {
      "cell_type": "code",
      "metadata": {
        "source_hash": "1dfe3fda",
        "execution_start": 1744309489578,
        "execution_millis": 1,
        "execution_context_id": "49d34d6a-478c-4b12-87aa-f8d059b273d2",
        "cell_id": "40aea4369ea241e6bb3cb2b3895c3cbc",
        "deepnote_cell_type": "code"
      },
      "source": "pd.to_numeric(all_transactions['halfSpreadCost']).sum()",
      "block_group": "83be861b503246a9aaa1b6881896c197",
      "execution_count": 144,
      "outputs": [
        {
          "output_type": "execute_result",
          "execution_count": 144,
          "data": {
            "text/plain": "4605.7275"
          },
          "metadata": {}
        }
      ],
      "outputs_reference": null,
      "content_dependencies": null
    },
    {
      "cell_type": "code",
      "metadata": {
        "source_hash": "4b8d4925",
        "execution_start": 1744215602266,
        "execution_millis": 2,
        "execution_context_id": "b7df5d30-0bc6-4afe-b439-b958fdc13e7f",
        "cell_id": "d6666b4baaaf4624bc0404d9742eb8bf",
        "deepnote_cell_type": "code"
      },
      "source": "all_transactions_hedge['id'] = pd.to_numeric(all_transactions_hedge['id'])\nall_transactions_hedge[(all_transactions_hedge['id'] >= 165) & (all_transactions_hedge['id'] < 171) ]",
      "block_group": "6ff9e00970cb46278e3a93e7f621c918",
      "execution_count": 49,
      "outputs": [
        {
          "output_type": "execute_result",
          "execution_count": 49,
          "data": {
            "application/vnd.deepnote.dataframe.v3+json": {
              "column_count": 60,
              "row_count": 6,
              "columns": [
                {
                  "name": "id",
                  "dtype": "int64",
                  "stats": {
                    "unique_count": 6,
                    "nan_count": 0,
                    "min": "165",
                    "max": "170",
                    "histogram": [
                      {
                        "bin_start": 165,
                        "bin_end": 165.5,
                        "count": 1
                      },
                      {
                        "bin_start": 165.5,
                        "bin_end": 166,
                        "count": 0
                      },
                      {
                        "bin_start": 166,
                        "bin_end": 166.5,
                        "count": 1
                      },
                      {
                        "bin_start": 166.5,
                        "bin_end": 167,
                        "count": 0
                      },
                      {
                        "bin_start": 167,
                        "bin_end": 167.5,
                        "count": 1
                      },
                      {
                        "bin_start": 167.5,
                        "bin_end": 168,
                        "count": 0
                      },
                      {
                        "bin_start": 168,
                        "bin_end": 168.5,
                        "count": 1
                      },
                      {
                        "bin_start": 168.5,
                        "bin_end": 169,
                        "count": 0
                      },
                      {
                        "bin_start": 169,
                        "bin_end": 169.5,
                        "count": 1
                      },
                      {
                        "bin_start": 169.5,
                        "bin_end": 170,
                        "count": 1
                      }
                    ]
                  }
                },
                {
                  "name": "accountID",
                  "dtype": "object",
                  "stats": {
                    "unique_count": 1,
                    "nan_count": 0,
                    "categories": [
                      {
                        "name": "101-004-31059296-003",
                        "count": 6
                      }
                    ]
                  }
                },
                {
                  "name": "userID",
                  "dtype": "int64",
                  "stats": {
                    "unique_count": 1,
                    "nan_count": 0,
                    "min": "31059296",
                    "max": "31059296",
                    "histogram": [
                      {
                        "bin_start": 31059295.5,
                        "bin_end": 31059295.6,
                        "count": 0
                      },
                      {
                        "bin_start": 31059295.6,
                        "bin_end": 31059295.7,
                        "count": 0
                      },
                      {
                        "bin_start": 31059295.7,
                        "bin_end": 31059295.8,
                        "count": 0
                      },
                      {
                        "bin_start": 31059295.8,
                        "bin_end": 31059295.9,
                        "count": 0
                      },
                      {
                        "bin_start": 31059295.9,
                        "bin_end": 31059296,
                        "count": 0
                      },
                      {
                        "bin_start": 31059296,
                        "bin_end": 31059296.1,
                        "count": 6
                      },
                      {
                        "bin_start": 31059296.1,
                        "bin_end": 31059296.2,
                        "count": 0
                      },
                      {
                        "bin_start": 31059296.2,
                        "bin_end": 31059296.3,
                        "count": 0
                      },
                      {
                        "bin_start": 31059296.3,
                        "bin_end": 31059296.4,
                        "count": 0
                      },
                      {
                        "bin_start": 31059296.4,
                        "bin_end": 31059296.5,
                        "count": 0
                      }
                    ]
                  }
                },
                {
                  "name": "batchID",
                  "dtype": "object",
                  "stats": {
                    "unique_count": 2,
                    "nan_count": 0,
                    "categories": [
                      {
                        "name": "165",
                        "count": 4
                      },
                      {
                        "name": "169",
                        "count": 2
                      }
                    ]
                  }
                },
                {
                  "name": "requestID",
                  "dtype": "object",
                  "stats": {
                    "unique_count": 1,
                    "nan_count": 2,
                    "categories": [
                      {
                        "name": "115401766702038974",
                        "count": 4
                      },
                      {
                        "name": "Missing",
                        "count": 2
                      }
                    ]
                  }
                },
                {
                  "name": "time",
                  "dtype": "object",
                  "stats": {
                    "unique_count": 2,
                    "nan_count": 0,
                    "categories": [
                      {
                        "name": "2025-04-08T14:11:06.723965571Z",
                        "count": 4
                      },
                      {
                        "name": "2025-04-08T14:12:32.787007486Z",
                        "count": 2
                      }
                    ]
                  }
                },
                {
                  "name": "type",
                  "dtype": "object",
                  "stats": {
                    "unique_count": 5,
                    "nan_count": 0,
                    "categories": [
                      {
                        "name": "ORDER_FILL",
                        "count": 2
                      },
                      {
                        "name": "MARKET_ORDER",
                        "count": 1
                      },
                      {
                        "name": "3 others",
                        "count": 3
                      }
                    ]
                  }
                },
                {
                  "name": "divisionID",
                  "dtype": "float64",
                  "stats": {
                    "unique_count": 0,
                    "nan_count": 6,
                    "min": null,
                    "max": null,
                    "histogram": [
                      {
                        "bin_start": 0,
                        "bin_end": 0.1,
                        "count": 0
                      },
                      {
                        "bin_start": 0.1,
                        "bin_end": 0.2,
                        "count": 0
                      },
                      {
                        "bin_start": 0.2,
                        "bin_end": 0.30000000000000004,
                        "count": 0
                      },
                      {
                        "bin_start": 0.30000000000000004,
                        "bin_end": 0.4,
                        "count": 0
                      },
                      {
                        "bin_start": 0.4,
                        "bin_end": 0.5,
                        "count": 0
                      },
                      {
                        "bin_start": 0.5,
                        "bin_end": 0.6000000000000001,
                        "count": 0
                      },
                      {
                        "bin_start": 0.6000000000000001,
                        "bin_end": 0.7000000000000001,
                        "count": 0
                      },
                      {
                        "bin_start": 0.7000000000000001,
                        "bin_end": 0.8,
                        "count": 0
                      },
                      {
                        "bin_start": 0.8,
                        "bin_end": 0.9,
                        "count": 0
                      },
                      {
                        "bin_start": 0.9,
                        "bin_end": 1,
                        "count": 0
                      }
                    ]
                  }
                },
                {
                  "name": "siteID",
                  "dtype": "float64",
                  "stats": {
                    "unique_count": 0,
                    "nan_count": 6,
                    "min": null,
                    "max": null,
                    "histogram": [
                      {
                        "bin_start": 0,
                        "bin_end": 0.1,
                        "count": 0
                      },
                      {
                        "bin_start": 0.1,
                        "bin_end": 0.2,
                        "count": 0
                      },
                      {
                        "bin_start": 0.2,
                        "bin_end": 0.30000000000000004,
                        "count": 0
                      },
                      {
                        "bin_start": 0.30000000000000004,
                        "bin_end": 0.4,
                        "count": 0
                      },
                      {
                        "bin_start": 0.4,
                        "bin_end": 0.5,
                        "count": 0
                      },
                      {
                        "bin_start": 0.5,
                        "bin_end": 0.6000000000000001,
                        "count": 0
                      },
                      {
                        "bin_start": 0.6000000000000001,
                        "bin_end": 0.7000000000000001,
                        "count": 0
                      },
                      {
                        "bin_start": 0.7000000000000001,
                        "bin_end": 0.8,
                        "count": 0
                      },
                      {
                        "bin_start": 0.8,
                        "bin_end": 0.9,
                        "count": 0
                      },
                      {
                        "bin_start": 0.9,
                        "bin_end": 1,
                        "count": 0
                      }
                    ]
                  }
                },
                {
                  "name": "accountUserID",
                  "dtype": "float64",
                  "stats": {
                    "unique_count": 0,
                    "nan_count": 6,
                    "min": null,
                    "max": null,
                    "histogram": [
                      {
                        "bin_start": 0,
                        "bin_end": 0.1,
                        "count": 0
                      },
                      {
                        "bin_start": 0.1,
                        "bin_end": 0.2,
                        "count": 0
                      },
                      {
                        "bin_start": 0.2,
                        "bin_end": 0.30000000000000004,
                        "count": 0
                      },
                      {
                        "bin_start": 0.30000000000000004,
                        "bin_end": 0.4,
                        "count": 0
                      },
                      {
                        "bin_start": 0.4,
                        "bin_end": 0.5,
                        "count": 0
                      },
                      {
                        "bin_start": 0.5,
                        "bin_end": 0.6000000000000001,
                        "count": 0
                      },
                      {
                        "bin_start": 0.6000000000000001,
                        "bin_end": 0.7000000000000001,
                        "count": 0
                      },
                      {
                        "bin_start": 0.7000000000000001,
                        "bin_end": 0.8,
                        "count": 0
                      },
                      {
                        "bin_start": 0.8,
                        "bin_end": 0.9,
                        "count": 0
                      },
                      {
                        "bin_start": 0.9,
                        "bin_end": 1,
                        "count": 0
                      }
                    ]
                  }
                },
                {
                  "name": "accountNumber",
                  "dtype": "float64",
                  "stats": {
                    "unique_count": 0,
                    "nan_count": 6,
                    "min": null,
                    "max": null,
                    "histogram": [
                      {
                        "bin_start": 0,
                        "bin_end": 0.1,
                        "count": 0
                      },
                      {
                        "bin_start": 0.1,
                        "bin_end": 0.2,
                        "count": 0
                      },
                      {
                        "bin_start": 0.2,
                        "bin_end": 0.30000000000000004,
                        "count": 0
                      },
                      {
                        "bin_start": 0.30000000000000004,
                        "bin_end": 0.4,
                        "count": 0
                      },
                      {
                        "bin_start": 0.4,
                        "bin_end": 0.5,
                        "count": 0
                      },
                      {
                        "bin_start": 0.5,
                        "bin_end": 0.6000000000000001,
                        "count": 0
                      },
                      {
                        "bin_start": 0.6000000000000001,
                        "bin_end": 0.7000000000000001,
                        "count": 0
                      },
                      {
                        "bin_start": 0.7000000000000001,
                        "bin_end": 0.8,
                        "count": 0
                      },
                      {
                        "bin_start": 0.8,
                        "bin_end": 0.9,
                        "count": 0
                      },
                      {
                        "bin_start": 0.9,
                        "bin_end": 1,
                        "count": 0
                      }
                    ]
                  }
                },
                {
                  "name": "homeCurrency",
                  "dtype": "object",
                  "stats": {
                    "unique_count": 0,
                    "nan_count": 6,
                    "categories": [
                      {
                        "name": "Missing",
                        "count": 6
                      }
                    ]
                  }
                },
                {
                  "name": "marginRate",
                  "dtype": "object",
                  "stats": {
                    "unique_count": 0,
                    "nan_count": 6,
                    "categories": [
                      {
                        "name": "Missing",
                        "count": 6
                      }
                    ]
                  }
                },
                {
                  "name": "alias",
                  "dtype": "object",
                  "stats": {
                    "unique_count": 0,
                    "nan_count": 6,
                    "categories": [
                      {
                        "name": "Missing",
                        "count": 6
                      }
                    ]
                  }
                },
                {
                  "name": "accountBalance",
                  "dtype": "object",
                  "stats": {
                    "unique_count": 2,
                    "nan_count": 4,
                    "categories": [
                      {
                        "name": "100704.3637",
                        "count": 1
                      },
                      {
                        "name": "100499.9652",
                        "count": 1
                      },
                      {
                        "name": "Missing",
                        "count": 4
                      }
                    ]
                  }
                },
                {
                  "name": "amount",
                  "dtype": "object",
                  "stats": {
                    "unique_count": 0,
                    "nan_count": 6,
                    "categories": [
                      {
                        "name": "Missing",
                        "count": 6
                      }
                    ]
                  }
                },
                {
                  "name": "fundingReason",
                  "dtype": "object",
                  "stats": {
                    "unique_count": 0,
                    "nan_count": 6,
                    "categories": [
                      {
                        "name": "Missing",
                        "count": 6
                      }
                    ]
                  }
                },
                {
                  "name": "instrument",
                  "dtype": "object",
                  "stats": {
                    "unique_count": 1,
                    "nan_count": 3,
                    "categories": [
                      {
                        "name": "EUR_USD",
                        "count": 3
                      },
                      {
                        "name": "Missing",
                        "count": 3
                      }
                    ]
                  }
                },
                {
                  "name": "units",
                  "dtype": "object",
                  "stats": {
                    "unique_count": 2,
                    "nan_count": 3,
                    "categories": [
                      {
                        "name": "-1000000",
                        "count": 2
                      },
                      {
                        "name": "1000000",
                        "count": 1
                      },
                      {
                        "name": "Missing",
                        "count": 3
                      }
                    ]
                  }
                },
                {
                  "name": "price",
                  "dtype": "object",
                  "stats": {
                    "unique_count": 3,
                    "nan_count": 3,
                    "categories": [
                      {
                        "name": "1.09156",
                        "count": 1
                      },
                      {
                        "name": "2 others",
                        "count": 2
                      },
                      {
                        "name": "Missing",
                        "count": 3
                      }
                    ]
                  }
                },
                {
                  "name": "timeInForce",
                  "dtype": "object",
                  "stats": {
                    "unique_count": 2,
                    "nan_count": 3,
                    "categories": [
                      {
                        "name": "GTC",
                        "count": 2
                      },
                      {
                        "name": "FOK",
                        "count": 1
                      },
                      {
                        "name": "Missing",
                        "count": 3
                      }
                    ]
                  }
                },
                {
                  "name": "gtdTime",
                  "dtype": "object",
                  "stats": {
                    "unique_count": 0,
                    "nan_count": 6,
                    "categories": [
                      {
                        "name": "Missing",
                        "count": 6
                      }
                    ]
                  }
                },
                {
                  "name": "triggerCondition",
                  "dtype": "object",
                  "stats": {
                    "unique_count": 1,
                    "nan_count": 4,
                    "categories": [
                      {
                        "name": "DEFAULT",
                        "count": 2
                      },
                      {
                        "name": "Missing",
                        "count": 4
                      }
                    ]
                  }
                },
                {
                  "name": "partialFill",
                  "dtype": "object",
                  "stats": {
                    "unique_count": 0,
                    "nan_count": 6,
                    "categories": [
                      {
                        "name": "Missing",
                        "count": 6
                      }
                    ]
                  }
                },
                {
                  "name": "positionFill",
                  "dtype": "object",
                  "stats": {
                    "unique_count": 1,
                    "nan_count": 5,
                    "categories": [
                      {
                        "name": "DEFAULT",
                        "count": 1
                      },
                      {
                        "name": "Missing",
                        "count": 5
                      }
                    ]
                  }
                },
                {
                  "name": "takeProfitOnFill",
                  "dtype": "object",
                  "stats": {
                    "unique_count": 6,
                    "nan_count": 5,
                    "categories": [
                      {
                        "name": "{'price': '1.09070', 'timeInForce': 'GTC'}",
                        "count": 1
                      },
                      {
                        "name": "Missing",
                        "count": 5
                      }
                    ]
                  }
                },
                {
                  "name": "stopLossOnFill",
                  "dtype": "object",
                  "stats": {
                    "unique_count": 0,
                    "nan_count": 6,
                    "categories": [
                      {
                        "name": "Missing",
                        "count": 6
                      }
                    ]
                  }
                },
                {
                  "name": "reason",
                  "dtype": "object",
                  "stats": {
                    "unique_count": 5,
                    "nan_count": 0,
                    "categories": [
                      {
                        "name": "ON_FILL",
                        "count": 2
                      },
                      {
                        "name": "CLIENT_ORDER",
                        "count": 1
                      },
                      {
                        "name": "3 others",
                        "count": 3
                      }
                    ]
                  }
                },
                {
                  "name": "trailingStopLossOnFill",
                  "dtype": "object",
                  "stats": {
                    "unique_count": 6,
                    "nan_count": 5,
                    "categories": [
                      {
                        "name": "{'distance': '0.00060', 'timeInForce': 'GTC', 'triggerMode': 'TOP_OF_BOOK'}",
                        "count": 1
                      },
                      {
                        "name": "Missing",
                        "count": 5
                      }
                    ]
                  }
                },
                {
                  "name": "orderID",
                  "dtype": "object",
                  "stats": {
                    "unique_count": 3,
                    "nan_count": 3,
                    "categories": [
                      {
                        "name": "165",
                        "count": 1
                      },
                      {
                        "name": "2 others",
                        "count": 2
                      },
                      {
                        "name": "Missing",
                        "count": 3
                      }
                    ]
                  }
                },
                {
                  "name": "requestedUnits",
                  "dtype": "object",
                  "stats": {
                    "unique_count": 2,
                    "nan_count": 4,
                    "categories": [
                      {
                        "name": "-1000000",
                        "count": 1
                      },
                      {
                        "name": "1000000",
                        "count": 1
                      },
                      {
                        "name": "Missing",
                        "count": 4
                      }
                    ]
                  }
                },
                {
                  "name": "pl",
                  "dtype": "object",
                  "stats": {
                    "unique_count": 2,
                    "nan_count": 4,
                    "categories": [
                      {
                        "name": "0.0000",
                        "count": 1
                      },
                      {
                        "name": "-204.3985",
                        "count": 1
                      },
                      {
                        "name": "Missing",
                        "count": 4
                      }
                    ]
                  }
                },
                {
                  "name": "quotePL",
                  "dtype": "object",
                  "stats": {
                    "unique_count": 2,
                    "nan_count": 4,
                    "categories": [
                      {
                        "name": "0",
                        "count": 1
                      },
                      {
                        "name": "-260.00000",
                        "count": 1
                      },
                      {
                        "name": "Missing",
                        "count": 4
                      }
                    ]
                  }
                },
                {
                  "name": "financing",
                  "dtype": "object",
                  "stats": {
                    "unique_count": 1,
                    "nan_count": 4,
                    "categories": [
                      {
                        "name": "0.0000",
                        "count": 2
                      },
                      {
                        "name": "Missing",
                        "count": 4
                      }
                    ]
                  }
                },
                {
                  "name": "baseFinancing",
                  "dtype": "object",
                  "stats": {
                    "unique_count": 2,
                    "nan_count": 4,
                    "categories": [
                      {
                        "name": "0",
                        "count": 1
                      },
                      {
                        "name": "0.00000000000000",
                        "count": 1
                      },
                      {
                        "name": "Missing",
                        "count": 4
                      }
                    ]
                  }
                },
                {
                  "name": "commission",
                  "dtype": "object",
                  "stats": {
                    "unique_count": 1,
                    "nan_count": 4,
                    "categories": [
                      {
                        "name": "0.0000",
                        "count": 2
                      },
                      {
                        "name": "Missing",
                        "count": 4
                      }
                    ]
                  }
                },
                {
                  "name": "gainQuoteHomeConversionFactor",
                  "dtype": "object",
                  "stats": {
                    "unique_count": 2,
                    "nan_count": 4,
                    "categories": [
                      {
                        "name": "0.778389716938",
                        "count": 1
                      },
                      {
                        "name": "0.778325780907",
                        "count": 1
                      },
                      {
                        "name": "Missing",
                        "count": 4
                      }
                    ]
                  }
                },
                {
                  "name": "lossQuoteHomeConversionFactor",
                  "dtype": "object",
                  "stats": {
                    "unique_count": 2,
                    "nan_count": 4,
                    "categories": [
                      {
                        "name": "0.786212729169",
                        "count": 1
                      },
                      {
                        "name": "0.786148150564",
                        "count": 1
                      },
                      {
                        "name": "Missing",
                        "count": 4
                      }
                    ]
                  }
                },
                {
                  "name": "guaranteedExecutionFee",
                  "dtype": "object",
                  "stats": {
                    "unique_count": 1,
                    "nan_count": 4,
                    "categories": [
                      {
                        "name": "0.0000",
                        "count": 2
                      },
                      {
                        "name": "Missing",
                        "count": 4
                      }
                    ]
                  }
                },
                {
                  "name": "quoteGuaranteedExecutionFee",
                  "dtype": "object",
                  "stats": {
                    "unique_count": 1,
                    "nan_count": 4,
                    "categories": [
                      {
                        "name": "0",
                        "count": 2
                      },
                      {
                        "name": "Missing",
                        "count": 4
                      }
                    ]
                  }
                },
                {
                  "name": "halfSpreadCost",
                  "dtype": "object",
                  "stats": {
                    "unique_count": 2,
                    "nan_count": 4,
                    "categories": [
                      {
                        "name": "23.4690",
                        "count": 1
                      },
                      {
                        "name": "35.2007",
                        "count": 1
                      },
                      {
                        "name": "Missing",
                        "count": 4
                      }
                    ]
                  }
                },
                {
                  "name": "fullVWAP",
                  "dtype": "object",
                  "stats": {
                    "unique_count": 2,
                    "nan_count": 4,
                    "categories": [
                      {
                        "name": "1.09156",
                        "count": 1
                      },
                      {
                        "name": "1.09182",
                        "count": 1
                      },
                      {
                        "name": "Missing",
                        "count": 4
                      }
                    ]
                  }
                },
                {
                  "name": "tradeOpened",
                  "dtype": "object",
                  "stats": {
                    "unique_count": 6,
                    "nan_count": 5,
                    "categories": [
                      {
                        "name": "{'price': '1.09156', 'tradeID': '166', 'units': '-1000000', 'guaranteedExecutionFee': '0.0000', 'quoteGuaranteedExecutionFee': '0', 'halfSpreadCost': '23.4690', 'initialMarginRequired': '28465.3333', 'guaranteedExecutionFeeHomeConversionCost': '0.00000000000000'}",
                        "count": 1
                      },
                      {
                        "name": "Missing",
                        "count": 5
                      }
                    ]
                  }
                },
                {
                  "name": "fullPrice",
                  "dtype": "object",
                  "stats": {
                    "unique_count": 6,
                    "nan_count": 4,
                    "categories": [
                      {
                        "name": "{'closeoutBid': '1.09147', 'closeoutAsk': '1.09171', 'timestamp': '2025-04-08T14:11:06.668820381Z', 'bids': [{'price': '1.09156', 'liquidity': '500000'}, {'price': '1.09155', 'liquidity': '2500000'}, {'price': '1.09154', 'liquidity': '2000000'}, {'price': '1.09153', 'liquidity': '5000000'}, {'price': '1.09150', 'liquidity': '10000000'}, {'price': '1.09147', 'liquidity': '10000000'}], 'asks': [{'price': '1.09162', 'liquidity': '500000'}, {'price': '1.09163', 'liquidity': '500000'}, {'price': '1.09164', 'liquidity': '2000000'}, {'price': '1.09165', 'liquidity': '2000000'}, {'price': '1.09166', 'liquidity': '5000000'}, {'price': '1.09168', 'liquidity': '10000000'}, {'price': '1.09171', 'liquidity': '10000000'}]}",
                        "count": 1
                      },
                      {
                        "name": "{'closeoutBid': '1.09164', 'closeoutAsk': '1.09191', 'timestamp': '2025-04-08T14:12:32.787007486Z', 'bids': [{'price': '1.09173', 'liquidity': '500000'}, {'price': '1.09172', 'liquidity': '2500000'}, {'price': '1.09171', 'liquidity': '2000000'}, {'price': '1.09170', 'liquidity': '5000000'}, {'price': '1.09167', 'liquidity': '10000000'}, {'price': '1.09164', 'liquidity': '10000000'}], 'asks': [{'price': '1.09182', 'liquidity': '500000'}, {'price': '1.09183', 'liquidity': '500000'}, {'price': '1.09184', 'liquidity': '2000000'}, {'price': '1.09185', 'liquidity': '2000000'}, {'price': '1.09186', 'liquidity': '5000000'}, {'price': '1.09188', 'liquidity': '10000000'}, {'price': '1.09191', 'liquidity': '10000000'}]}",
                        "count": 1
                      },
                      {
                        "name": "Missing",
                        "count": 4
                      }
                    ]
                  }
                },
                {
                  "name": "homeConversionFactors",
                  "dtype": "object",
                  "stats": {
                    "unique_count": 6,
                    "nan_count": 4,
                    "categories": [
                      {
                        "name": "{'gainQuoteHome': {'factor': '0.77838971693847'}, 'lossQuoteHome': {'factor': '0.78621272916901'}, 'gainBaseHome': {'factor': '0.84969020'}, 'lossBaseHome': {'factor': '0.85822980'}}",
                        "count": 1
                      },
                      {
                        "name": "{'gainQuoteHome': {'factor': '0.77832578090692'}, 'lossQuoteHome': {'factor': '0.78614815056428'}, 'gainBaseHome': {'factor': '0.84976980'}, 'lossBaseHome': {'factor': '0.85831020'}}",
                        "count": 1
                      },
                      {
                        "name": "Missing",
                        "count": 4
                      }
                    ]
                  }
                },
                {
                  "name": "plHomeConversionCost",
                  "dtype": "object",
                  "stats": {
                    "unique_count": 2,
                    "nan_count": 4,
                    "categories": [
                      {
                        "name": "0.00000000000000",
                        "count": 1
                      },
                      {
                        "name": "-1.00497610942040",
                        "count": 1
                      },
                      {
                        "name": "Missing",
                        "count": 4
                      }
                    ]
                  }
                },
                {
                  "name": "baseFinancingHomeConversionCost",
                  "dtype": "object",
                  "stats": {
                    "unique_count": 2,
                    "nan_count": 4,
                    "categories": [
                      {
                        "name": "0.00000000",
                        "count": 1
                      },
                      {
                        "name": "0.00000000000000",
                        "count": 1
                      },
                      {
                        "name": "Missing",
                        "count": 4
                      }
                    ]
                  }
                },
                {
                  "name": "guaranteedExecutionFeeHomeConversionCost",
                  "dtype": "object",
                  "stats": {
                    "unique_count": 1,
                    "nan_count": 4,
                    "categories": [
                      {
                        "name": "0.00000000000000",
                        "count": 2
                      },
                      {
                        "name": "Missing",
                        "count": 4
                      }
                    ]
                  }
                },
                {
                  "name": "homeConversionCost",
                  "dtype": "object",
                  "stats": {
                    "unique_count": 2,
                    "nan_count": 4,
                    "categories": [
                      {
                        "name": "0.00000000000000",
                        "count": 1
                      },
                      {
                        "name": "-1.00497610942040",
                        "count": 1
                      },
                      {
                        "name": "Missing",
                        "count": 4
                      }
                    ]
                  }
                },
                {
                  "name": "tradeID",
                  "dtype": "object",
                  "stats": {
                    "unique_count": 1,
                    "nan_count": 4,
                    "categories": [
                      {
                        "name": "166",
                        "count": 2
                      },
                      {
                        "name": "Missing",
                        "count": 4
                      }
                    ]
                  }
                },
                {
                  "name": "triggerMode",
                  "dtype": "object",
                  "stats": {
                    "unique_count": 1,
                    "nan_count": 5,
                    "categories": [
                      {
                        "name": "TOP_OF_BOOK",
                        "count": 1
                      },
                      {
                        "name": "Missing",
                        "count": 5
                      }
                    ]
                  }
                },
                {
                  "name": "tradesClosed",
                  "dtype": "object",
                  "stats": {
                    "unique_count": 6,
                    "nan_count": 5,
                    "categories": [
                      {
                        "name": "[{'tradeID': '166', 'units': '1000000', 'realizedPL': '-204.3985', 'financing': '0.0000', 'baseFinancing': '0.00000000000000', 'price': '1.09182', 'guaranteedExecutionFee': '0.0000', 'quoteGuaranteedExecutionFee': '0', 'halfSpreadCost': '35.2007', 'plHomeConversionCost': '-1.00497610942040', 'baseFinancingHomeConversionCost': '0.00000000000000', 'guaranteedExecutionFeeHomeConversionCost': '0.00000000000000', 'homeConversionCost': '-1.00497610942040'}]",
                        "count": 1
                      },
                      {
                        "name": "Missing",
                        "count": 5
                      }
                    ]
                  }
                },
                {
                  "name": "closedTradeID",
                  "dtype": "object",
                  "stats": {
                    "unique_count": 1,
                    "nan_count": 5,
                    "categories": [
                      {
                        "name": "166",
                        "count": 1
                      },
                      {
                        "name": "Missing",
                        "count": 5
                      }
                    ]
                  }
                },
                {
                  "name": "tradeCloseTransactionID",
                  "dtype": "object",
                  "stats": {
                    "unique_count": 1,
                    "nan_count": 5,
                    "categories": [
                      {
                        "name": "169",
                        "count": 1
                      },
                      {
                        "name": "Missing",
                        "count": 5
                      }
                    ]
                  }
                },
                {
                  "name": "distance",
                  "dtype": "object",
                  "stats": {
                    "unique_count": 1,
                    "nan_count": 5,
                    "categories": [
                      {
                        "name": "0.00060",
                        "count": 1
                      },
                      {
                        "name": "Missing",
                        "count": 5
                      }
                    ]
                  }
                },
                {
                  "name": "rejectReason",
                  "dtype": "object",
                  "stats": {
                    "unique_count": 0,
                    "nan_count": 6,
                    "categories": [
                      {
                        "name": "Missing",
                        "count": 6
                      }
                    ]
                  }
                },
                {
                  "name": "replacesOrderID",
                  "dtype": "object",
                  "stats": {
                    "unique_count": 0,
                    "nan_count": 6,
                    "categories": [
                      {
                        "name": "Missing",
                        "count": 6
                      }
                    ]
                  }
                },
                {
                  "name": "intendedReplacesOrderID",
                  "dtype": "object",
                  "stats": {
                    "unique_count": 0,
                    "nan_count": 6,
                    "categories": [
                      {
                        "name": "Missing",
                        "count": 6
                      }
                    ]
                  }
                },
                {
                  "name": "replacedByOrderID",
                  "dtype": "object",
                  "stats": {
                    "unique_count": 0,
                    "nan_count": 6,
                    "categories": [
                      {
                        "name": "Missing",
                        "count": 6
                      }
                    ]
                  }
                },
                {
                  "name": "cancellingTransactionID",
                  "dtype": "object",
                  "stats": {
                    "unique_count": 0,
                    "nan_count": 6,
                    "categories": [
                      {
                        "name": "Missing",
                        "count": 6
                      }
                    ]
                  }
                },
                {
                  "name": "_deepnote_index_column",
                  "dtype": "int64"
                }
              ],
              "rows": [
                {
                  "id": 165,
                  "accountID": "101-004-31059296-003",
                  "userID": 31059296,
                  "batchID": "165",
                  "requestID": "115401766702038974",
                  "time": "2025-04-08T14:11:06.723965571Z",
                  "type": "MARKET_ORDER",
                  "divisionID": "nan",
                  "siteID": "nan",
                  "accountUserID": "nan",
                  "accountNumber": "nan",
                  "homeCurrency": "nan",
                  "marginRate": "nan",
                  "alias": "nan",
                  "accountBalance": "nan",
                  "amount": "nan",
                  "fundingReason": "nan",
                  "instrument": "EUR_USD",
                  "units": "-1000000",
                  "price": "nan",
                  "timeInForce": "FOK",
                  "gtdTime": "nan",
                  "triggerCondition": "nan",
                  "partialFill": "nan",
                  "positionFill": "DEFAULT",
                  "takeProfitOnFill": "{'price': '1.09070', 'timeInForce': 'GTC'}",
                  "stopLossOnFill": "nan",
                  "reason": "CLIENT_ORDER",
                  "trailingStopLossOnFill": "{'distance': '0.00060', 'timeInForce': 'GTC', 'triggerMode': 'TOP_OF_BOOK'}",
                  "orderID": "nan",
                  "requestedUnits": "nan",
                  "pl": "nan",
                  "quotePL": "nan",
                  "financing": "nan",
                  "baseFinancing": "nan",
                  "commission": "nan",
                  "gainQuoteHomeConversionFactor": "nan",
                  "lossQuoteHomeConversionFactor": "nan",
                  "guaranteedExecutionFee": "nan",
                  "quoteGuaranteedExecutionFee": "nan",
                  "halfSpreadCost": "nan",
                  "fullVWAP": "nan",
                  "tradeOpened": "nan",
                  "fullPrice": "nan",
                  "homeConversionFactors": "nan",
                  "plHomeConversionCost": "nan",
                  "baseFinancingHomeConversionCost": "nan",
                  "guaranteedExecutionFeeHomeConversionCost": "nan",
                  "homeConversionCost": "nan",
                  "tradeID": "nan",
                  "triggerMode": "nan",
                  "tradesClosed": "nan",
                  "closedTradeID": "nan",
                  "tradeCloseTransactionID": "nan",
                  "distance": "nan",
                  "rejectReason": "nan",
                  "replacesOrderID": "nan",
                  "intendedReplacesOrderID": "nan",
                  "replacedByOrderID": "nan",
                  "cancellingTransactionID": "nan",
                  "_deepnote_index_column": 164
                },
                {
                  "id": 166,
                  "accountID": "101-004-31059296-003",
                  "userID": 31059296,
                  "batchID": "165",
                  "requestID": "115401766702038974",
                  "time": "2025-04-08T14:11:06.723965571Z",
                  "type": "ORDER_FILL",
                  "divisionID": "nan",
                  "siteID": "nan",
                  "accountUserID": "nan",
                  "accountNumber": "nan",
                  "homeCurrency": "nan",
                  "marginRate": "nan",
                  "alias": "nan",
                  "accountBalance": "100704.3637",
                  "amount": "nan",
                  "fundingReason": "nan",
                  "instrument": "EUR_USD",
                  "units": "-1000000",
                  "price": "1.09156",
                  "timeInForce": "nan",
                  "gtdTime": "nan",
                  "triggerCondition": "nan",
                  "partialFill": "nan",
                  "positionFill": "nan",
                  "takeProfitOnFill": "nan",
                  "stopLossOnFill": "nan",
                  "reason": "MARKET_ORDER",
                  "trailingStopLossOnFill": "nan",
                  "orderID": "165",
                  "requestedUnits": "-1000000",
                  "pl": "0.0000",
                  "quotePL": "0",
                  "financing": "0.0000",
                  "baseFinancing": "0",
                  "commission": "0.0000",
                  "gainQuoteHomeConversionFactor": "0.778389716938",
                  "lossQuoteHomeConversionFactor": "0.786212729169",
                  "guaranteedExecutionFee": "0.0000",
                  "quoteGuaranteedExecutionFee": "0",
                  "halfSpreadCost": "23.4690",
                  "fullVWAP": "1.09156",
                  "tradeOpened": "{'price': '1.09156', 'tradeID': '166', 'units': '-1000000', 'guaranteedExecutionFee': '0.0000', 'quoteGuaranteedExecutionFee': '0', 'halfSpreadCost': '23.4690', 'initialMarginRequired': '28465.3333', 'guaranteedExecutionFeeHomeConversionCost': '0.00000000000000'}",
                  "fullPrice": "{'closeoutBid': '1.09147', 'closeoutAsk': '1.09171', 'timestamp': '2025-04-08T14:11:06.668820381Z', 'bids': [{'price': '1.09156', 'liquidity': '500000'}, {'price': '1.09155', 'liquidity': '2500000'}, {'price': '1.09154', 'liquidity': '2000000'}, {'price': '1.09153', 'liquidity': '5000000'}, {'price': '1.09150', 'liquidity': '10000000'}, {'price': '1.09147', 'liquidity': '10000000'}], 'asks': [{'price': '1.09162', 'liquidity': '500000'}, {'price': '1.09163', 'liquidity': '500000'}, {'price': '1.09164', 'liquidity': '2000000'}, {'price': '1.09165', 'liquidity': '2000000'}, {'price': '1.09166', 'liquidity': '5000000'}, {'price': '1.09168', 'liquidity': '10000000'}, {'price': '1.09171', 'liquidity': '10000000'}]}",
                  "homeConversionFactors": "{'gainQuoteHome': {'factor': '0.77838971693847'}, 'lossQuoteHome': {'factor': '0.78621272916901'}, 'gainBaseHome': {'factor': '0.84969020'}, 'lossBaseHome': {'factor': '0.85822980'}}",
                  "plHomeConversionCost": "0.00000000000000",
                  "baseFinancingHomeConversionCost": "0.00000000",
                  "guaranteedExecutionFeeHomeConversionCost": "0.00000000000000",
                  "homeConversionCost": "0.00000000000000",
                  "tradeID": "nan",
                  "triggerMode": "nan",
                  "tradesClosed": "nan",
                  "closedTradeID": "nan",
                  "tradeCloseTransactionID": "nan",
                  "distance": "nan",
                  "rejectReason": "nan",
                  "replacesOrderID": "nan",
                  "intendedReplacesOrderID": "nan",
                  "replacedByOrderID": "nan",
                  "cancellingTransactionID": "nan",
                  "_deepnote_index_column": 165
                },
                {
                  "id": 167,
                  "accountID": "101-004-31059296-003",
                  "userID": 31059296,
                  "batchID": "165",
                  "requestID": "115401766702038974",
                  "time": "2025-04-08T14:11:06.723965571Z",
                  "type": "TAKE_PROFIT_ORDER",
                  "divisionID": "nan",
                  "siteID": "nan",
                  "accountUserID": "nan",
                  "accountNumber": "nan",
                  "homeCurrency": "nan",
                  "marginRate": "nan",
                  "alias": "nan",
                  "accountBalance": "nan",
                  "amount": "nan",
                  "fundingReason": "nan",
                  "instrument": "nan",
                  "units": "nan",
                  "price": "1.09070",
                  "timeInForce": "GTC",
                  "gtdTime": "nan",
                  "triggerCondition": "DEFAULT",
                  "partialFill": "nan",
                  "positionFill": "nan",
                  "takeProfitOnFill": "nan",
                  "stopLossOnFill": "nan",
                  "reason": "ON_FILL",
                  "trailingStopLossOnFill": "nan",
                  "orderID": "nan",
                  "requestedUnits": "nan",
                  "pl": "nan",
                  "quotePL": "nan",
                  "financing": "nan",
                  "baseFinancing": "nan",
                  "commission": "nan",
                  "gainQuoteHomeConversionFactor": "nan",
                  "lossQuoteHomeConversionFactor": "nan",
                  "guaranteedExecutionFee": "nan",
                  "quoteGuaranteedExecutionFee": "nan",
                  "halfSpreadCost": "nan",
                  "fullVWAP": "nan",
                  "tradeOpened": "nan",
                  "fullPrice": "nan",
                  "homeConversionFactors": "nan",
                  "plHomeConversionCost": "nan",
                  "baseFinancingHomeConversionCost": "nan",
                  "guaranteedExecutionFeeHomeConversionCost": "nan",
                  "homeConversionCost": "nan",
                  "tradeID": "166",
                  "triggerMode": "nan",
                  "tradesClosed": "nan",
                  "closedTradeID": "nan",
                  "tradeCloseTransactionID": "nan",
                  "distance": "nan",
                  "rejectReason": "nan",
                  "replacesOrderID": "nan",
                  "intendedReplacesOrderID": "nan",
                  "replacedByOrderID": "nan",
                  "cancellingTransactionID": "nan",
                  "_deepnote_index_column": 166
                },
                {
                  "id": 168,
                  "accountID": "101-004-31059296-003",
                  "userID": 31059296,
                  "batchID": "165",
                  "requestID": "115401766702038974",
                  "time": "2025-04-08T14:11:06.723965571Z",
                  "type": "TRAILING_STOP_LOSS_ORDER",
                  "divisionID": "nan",
                  "siteID": "nan",
                  "accountUserID": "nan",
                  "accountNumber": "nan",
                  "homeCurrency": "nan",
                  "marginRate": "nan",
                  "alias": "nan",
                  "accountBalance": "nan",
                  "amount": "nan",
                  "fundingReason": "nan",
                  "instrument": "nan",
                  "units": "nan",
                  "price": "nan",
                  "timeInForce": "GTC",
                  "gtdTime": "nan",
                  "triggerCondition": "DEFAULT",
                  "partialFill": "nan",
                  "positionFill": "nan",
                  "takeProfitOnFill": "nan",
                  "stopLossOnFill": "nan",
                  "reason": "ON_FILL",
                  "trailingStopLossOnFill": "nan",
                  "orderID": "nan",
                  "requestedUnits": "nan",
                  "pl": "nan",
                  "quotePL": "nan",
                  "financing": "nan",
                  "baseFinancing": "nan",
                  "commission": "nan",
                  "gainQuoteHomeConversionFactor": "nan",
                  "lossQuoteHomeConversionFactor": "nan",
                  "guaranteedExecutionFee": "nan",
                  "quoteGuaranteedExecutionFee": "nan",
                  "halfSpreadCost": "nan",
                  "fullVWAP": "nan",
                  "tradeOpened": "nan",
                  "fullPrice": "nan",
                  "homeConversionFactors": "nan",
                  "plHomeConversionCost": "nan",
                  "baseFinancingHomeConversionCost": "nan",
                  "guaranteedExecutionFeeHomeConversionCost": "nan",
                  "homeConversionCost": "nan",
                  "tradeID": "166",
                  "triggerMode": "TOP_OF_BOOK",
                  "tradesClosed": "nan",
                  "closedTradeID": "nan",
                  "tradeCloseTransactionID": "nan",
                  "distance": "0.00060",
                  "rejectReason": "nan",
                  "replacesOrderID": "nan",
                  "intendedReplacesOrderID": "nan",
                  "replacedByOrderID": "nan",
                  "cancellingTransactionID": "nan",
                  "_deepnote_index_column": 167
                },
                {
                  "id": 169,
                  "accountID": "101-004-31059296-003",
                  "userID": 31059296,
                  "batchID": "169",
                  "requestID": "nan",
                  "time": "2025-04-08T14:12:32.787007486Z",
                  "type": "ORDER_FILL",
                  "divisionID": "nan",
                  "siteID": "nan",
                  "accountUserID": "nan",
                  "accountNumber": "nan",
                  "homeCurrency": "nan",
                  "marginRate": "nan",
                  "alias": "nan",
                  "accountBalance": "100499.9652",
                  "amount": "nan",
                  "fundingReason": "nan",
                  "instrument": "EUR_USD",
                  "units": "1000000",
                  "price": "1.09182",
                  "timeInForce": "nan",
                  "gtdTime": "nan",
                  "triggerCondition": "nan",
                  "partialFill": "nan",
                  "positionFill": "nan",
                  "takeProfitOnFill": "nan",
                  "stopLossOnFill": "nan",
                  "reason": "TRAILING_STOP_LOSS_ORDER",
                  "trailingStopLossOnFill": "nan",
                  "orderID": "168",
                  "requestedUnits": "1000000",
                  "pl": "-204.3985",
                  "quotePL": "-260.00000",
                  "financing": "0.0000",
                  "baseFinancing": "0.00000000000000",
                  "commission": "0.0000",
                  "gainQuoteHomeConversionFactor": "0.778325780907",
                  "lossQuoteHomeConversionFactor": "0.786148150564",
                  "guaranteedExecutionFee": "0.0000",
                  "quoteGuaranteedExecutionFee": "0",
                  "halfSpreadCost": "35.2007",
                  "fullVWAP": "1.09182",
                  "tradeOpened": "nan",
                  "fullPrice": "{'closeoutBid': '1.09164', 'closeoutAsk': '1.09191', 'timestamp': '2025-04-08T14:12:32.787007486Z', 'bids': [{'price': '1.09173', 'liquidity': '500000'}, {'price': '1.09172', 'liquidity': '2500000'}, {'price': '1.09171', 'liquidity': '2000000'}, {'price': '1.09170', 'liquidity': '5000000'}, {'price': '1.09167', 'liquidity': '10000000'}, {'price': '1.09164', 'liquidity': '10000000'}], 'asks': [{'price': '1.09182', 'liquidity': '500000'}, {'price': '1.09183', 'liquidity': '500000'}, {'price': '1.09184', 'liquidity': '2000000'}, {'price': '1.09185', 'liquidity': '2000000'}, {'price': '1.09186', 'liquidity': '5000000'}, {'price': '1.09188', 'liquidity': '10000000'}, {'price': '1.09191', 'liquidity': '10000000'}]}",
                  "homeConversionFactors": "{'gainQuoteHome': {'factor': '0.77832578090692'}, 'lossQuoteHome': {'factor': '0.78614815056428'}, 'gainBaseHome': {'factor': '0.84976980'}, 'lossBaseHome': {'factor': '0.85831020'}}",
                  "plHomeConversionCost": "-1.00497610942040",
                  "baseFinancingHomeConversionCost": "0.00000000000000",
                  "guaranteedExecutionFeeHomeConversionCost": "0.00000000000000",
                  "homeConversionCost": "-1.00497610942040",
                  "tradeID": "nan",
                  "triggerMode": "nan",
                  "tradesClosed": "[{'tradeID': '166', 'units': '1000000', 'realizedPL': '-204.3985', 'financing': '0.0000', 'baseFinancing': '0.00000000000000', 'price': '1.09182', 'guaranteedExecutionFee': '0.0000', 'quoteGuaranteedExecutionFee': '0', 'halfSpreadCost': '35.2007', 'plHomeConversionCost': '-1.00497610942040', 'baseFinancingHomeConversionCost': '0.00000000000000', 'guaranteedExecutionFeeHomeConversionCost': '0.00000000000000', 'homeConversionCost': '-1.00497610942040'}]",
                  "closedTradeID": "nan",
                  "tradeCloseTransactionID": "nan",
                  "distance": "nan",
                  "rejectReason": "nan",
                  "replacesOrderID": "nan",
                  "intendedReplacesOrderID": "nan",
                  "replacedByOrderID": "nan",
                  "cancellingTransactionID": "nan",
                  "_deepnote_index_column": 168
                },
                {
                  "id": 170,
                  "accountID": "101-004-31059296-003",
                  "userID": 31059296,
                  "batchID": "169",
                  "requestID": "nan",
                  "time": "2025-04-08T14:12:32.787007486Z",
                  "type": "ORDER_CANCEL",
                  "divisionID": "nan",
                  "siteID": "nan",
                  "accountUserID": "nan",
                  "accountNumber": "nan",
                  "homeCurrency": "nan",
                  "marginRate": "nan",
                  "alias": "nan",
                  "accountBalance": "nan",
                  "amount": "nan",
                  "fundingReason": "nan",
                  "instrument": "nan",
                  "units": "nan",
                  "price": "nan",
                  "timeInForce": "nan",
                  "gtdTime": "nan",
                  "triggerCondition": "nan",
                  "partialFill": "nan",
                  "positionFill": "nan",
                  "takeProfitOnFill": "nan",
                  "stopLossOnFill": "nan",
                  "reason": "LINKED_TRADE_CLOSED",
                  "trailingStopLossOnFill": "nan",
                  "orderID": "167",
                  "requestedUnits": "nan",
                  "pl": "nan",
                  "quotePL": "nan",
                  "financing": "nan",
                  "baseFinancing": "nan",
                  "commission": "nan",
                  "gainQuoteHomeConversionFactor": "nan",
                  "lossQuoteHomeConversionFactor": "nan",
                  "guaranteedExecutionFee": "nan",
                  "quoteGuaranteedExecutionFee": "nan",
                  "halfSpreadCost": "nan",
                  "fullVWAP": "nan",
                  "tradeOpened": "nan",
                  "fullPrice": "nan",
                  "homeConversionFactors": "nan",
                  "plHomeConversionCost": "nan",
                  "baseFinancingHomeConversionCost": "nan",
                  "guaranteedExecutionFeeHomeConversionCost": "nan",
                  "homeConversionCost": "nan",
                  "tradeID": "nan",
                  "triggerMode": "nan",
                  "tradesClosed": "nan",
                  "closedTradeID": "166",
                  "tradeCloseTransactionID": "169",
                  "distance": "nan",
                  "rejectReason": "nan",
                  "replacesOrderID": "nan",
                  "intendedReplacesOrderID": "nan",
                  "replacedByOrderID": "nan",
                  "cancellingTransactionID": "nan",
                  "_deepnote_index_column": 169
                }
              ],
              "type": "dataframe"
            },
            "text/plain": "      id             accountID    userID batchID           requestID  \\\n164  165  101-004-31059296-003  31059296     165  115401766702038974   \n165  166  101-004-31059296-003  31059296     165  115401766702038974   \n166  167  101-004-31059296-003  31059296     165  115401766702038974   \n167  168  101-004-31059296-003  31059296     165  115401766702038974   \n168  169  101-004-31059296-003  31059296     169                 NaN   \n169  170  101-004-31059296-003  31059296     169                 NaN   \n\n                               time                      type  divisionID  \\\n164  2025-04-08T14:11:06.723965571Z              MARKET_ORDER         NaN   \n165  2025-04-08T14:11:06.723965571Z                ORDER_FILL         NaN   \n166  2025-04-08T14:11:06.723965571Z         TAKE_PROFIT_ORDER         NaN   \n167  2025-04-08T14:11:06.723965571Z  TRAILING_STOP_LOSS_ORDER         NaN   \n168  2025-04-08T14:12:32.787007486Z                ORDER_FILL         NaN   \n169  2025-04-08T14:12:32.787007486Z              ORDER_CANCEL         NaN   \n\n     siteID  accountUserID  ...  triggerMode  \\\n164     NaN            NaN  ...          NaN   \n165     NaN            NaN  ...          NaN   \n166     NaN            NaN  ...          NaN   \n167     NaN            NaN  ...  TOP_OF_BOOK   \n168     NaN            NaN  ...          NaN   \n169     NaN            NaN  ...          NaN   \n\n                                          tradesClosed closedTradeID  \\\n164                                                NaN           NaN   \n165                                                NaN           NaN   \n166                                                NaN           NaN   \n167                                                NaN           NaN   \n168  [{'tradeID': '166', 'units': '1000000', 'reali...           NaN   \n169                                                NaN           166   \n\n    tradeCloseTransactionID distance rejectReason replacesOrderID  \\\n164                     NaN      NaN          NaN             NaN   \n165                     NaN      NaN          NaN             NaN   \n166                     NaN      NaN          NaN             NaN   \n167                     NaN  0.00060          NaN             NaN   \n168                     NaN      NaN          NaN             NaN   \n169                     169      NaN          NaN             NaN   \n\n    intendedReplacesOrderID replacedByOrderID cancellingTransactionID  \n164                     NaN               NaN                     NaN  \n165                     NaN               NaN                     NaN  \n166                     NaN               NaN                     NaN  \n167                     NaN               NaN                     NaN  \n168                     NaN               NaN                     NaN  \n169                     NaN               NaN                     NaN  \n\n[6 rows x 60 columns]",
            "text/html": "<div>\n<style scoped>\n    .dataframe tbody tr th:only-of-type {\n        vertical-align: middle;\n    }\n\n    .dataframe tbody tr th {\n        vertical-align: top;\n    }\n\n    .dataframe thead th {\n        text-align: right;\n    }\n</style>\n<table border=\"1\" class=\"dataframe\">\n  <thead>\n    <tr style=\"text-align: right;\">\n      <th></th>\n      <th>id</th>\n      <th>accountID</th>\n      <th>userID</th>\n      <th>batchID</th>\n      <th>requestID</th>\n      <th>time</th>\n      <th>type</th>\n      <th>divisionID</th>\n      <th>siteID</th>\n      <th>accountUserID</th>\n      <th>...</th>\n      <th>triggerMode</th>\n      <th>tradesClosed</th>\n      <th>closedTradeID</th>\n      <th>tradeCloseTransactionID</th>\n      <th>distance</th>\n      <th>rejectReason</th>\n      <th>replacesOrderID</th>\n      <th>intendedReplacesOrderID</th>\n      <th>replacedByOrderID</th>\n      <th>cancellingTransactionID</th>\n    </tr>\n  </thead>\n  <tbody>\n    <tr>\n      <th>164</th>\n      <td>165</td>\n      <td>101-004-31059296-003</td>\n      <td>31059296</td>\n      <td>165</td>\n      <td>115401766702038974</td>\n      <td>2025-04-08T14:11:06.723965571Z</td>\n      <td>MARKET_ORDER</td>\n      <td>NaN</td>\n      <td>NaN</td>\n      <td>NaN</td>\n      <td>...</td>\n      <td>NaN</td>\n      <td>NaN</td>\n      <td>NaN</td>\n      <td>NaN</td>\n      <td>NaN</td>\n      <td>NaN</td>\n      <td>NaN</td>\n      <td>NaN</td>\n      <td>NaN</td>\n      <td>NaN</td>\n    </tr>\n    <tr>\n      <th>165</th>\n      <td>166</td>\n      <td>101-004-31059296-003</td>\n      <td>31059296</td>\n      <td>165</td>\n      <td>115401766702038974</td>\n      <td>2025-04-08T14:11:06.723965571Z</td>\n      <td>ORDER_FILL</td>\n      <td>NaN</td>\n      <td>NaN</td>\n      <td>NaN</td>\n      <td>...</td>\n      <td>NaN</td>\n      <td>NaN</td>\n      <td>NaN</td>\n      <td>NaN</td>\n      <td>NaN</td>\n      <td>NaN</td>\n      <td>NaN</td>\n      <td>NaN</td>\n      <td>NaN</td>\n      <td>NaN</td>\n    </tr>\n    <tr>\n      <th>166</th>\n      <td>167</td>\n      <td>101-004-31059296-003</td>\n      <td>31059296</td>\n      <td>165</td>\n      <td>115401766702038974</td>\n      <td>2025-04-08T14:11:06.723965571Z</td>\n      <td>TAKE_PROFIT_ORDER</td>\n      <td>NaN</td>\n      <td>NaN</td>\n      <td>NaN</td>\n      <td>...</td>\n      <td>NaN</td>\n      <td>NaN</td>\n      <td>NaN</td>\n      <td>NaN</td>\n      <td>NaN</td>\n      <td>NaN</td>\n      <td>NaN</td>\n      <td>NaN</td>\n      <td>NaN</td>\n      <td>NaN</td>\n    </tr>\n    <tr>\n      <th>167</th>\n      <td>168</td>\n      <td>101-004-31059296-003</td>\n      <td>31059296</td>\n      <td>165</td>\n      <td>115401766702038974</td>\n      <td>2025-04-08T14:11:06.723965571Z</td>\n      <td>TRAILING_STOP_LOSS_ORDER</td>\n      <td>NaN</td>\n      <td>NaN</td>\n      <td>NaN</td>\n      <td>...</td>\n      <td>TOP_OF_BOOK</td>\n      <td>NaN</td>\n      <td>NaN</td>\n      <td>NaN</td>\n      <td>0.00060</td>\n      <td>NaN</td>\n      <td>NaN</td>\n      <td>NaN</td>\n      <td>NaN</td>\n      <td>NaN</td>\n    </tr>\n    <tr>\n      <th>168</th>\n      <td>169</td>\n      <td>101-004-31059296-003</td>\n      <td>31059296</td>\n      <td>169</td>\n      <td>NaN</td>\n      <td>2025-04-08T14:12:32.787007486Z</td>\n      <td>ORDER_FILL</td>\n      <td>NaN</td>\n      <td>NaN</td>\n      <td>NaN</td>\n      <td>...</td>\n      <td>NaN</td>\n      <td>[{'tradeID': '166', 'units': '1000000', 'reali...</td>\n      <td>NaN</td>\n      <td>NaN</td>\n      <td>NaN</td>\n      <td>NaN</td>\n      <td>NaN</td>\n      <td>NaN</td>\n      <td>NaN</td>\n      <td>NaN</td>\n    </tr>\n    <tr>\n      <th>169</th>\n      <td>170</td>\n      <td>101-004-31059296-003</td>\n      <td>31059296</td>\n      <td>169</td>\n      <td>NaN</td>\n      <td>2025-04-08T14:12:32.787007486Z</td>\n      <td>ORDER_CANCEL</td>\n      <td>NaN</td>\n      <td>NaN</td>\n      <td>NaN</td>\n      <td>...</td>\n      <td>NaN</td>\n      <td>NaN</td>\n      <td>166</td>\n      <td>169</td>\n      <td>NaN</td>\n      <td>NaN</td>\n      <td>NaN</td>\n      <td>NaN</td>\n      <td>NaN</td>\n      <td>NaN</td>\n    </tr>\n  </tbody>\n</table>\n<p>6 rows × 60 columns</p>\n</div>"
          },
          "metadata": {}
        }
      ],
      "outputs_reference": null,
      "content_dependencies": null
    },
    {
      "cell_type": "code",
      "metadata": {
        "source_hash": "51f45e2a",
        "execution_start": 1744160430727,
        "execution_millis": 190,
        "execution_context_id": "4871396d-a585-48ac-9423-c662bb426968",
        "cell_id": "09d17e1da306410b8e9518ff1dbbd2e5",
        "deepnote_cell_type": "code"
      },
      "source": "orders = pd.read_csv('/work/data/orders/all_orders.csv')\norders.rename(columns={'Type':'TypeB'},inplace=True)\norders['Time'] = pd.to_datetime(orders['Time'])\nall_transactions['id'] = pd.to_numeric(all_transactions['id'])\nall_transactions['batchID'] = pd.to_numeric(all_transactions['batchID'])\nall_transactions = pd.merge(all_transactions,orders,left_on='batchID', right_on = 'Order_ID',how='left')",
      "block_group": "b34f708b89b5488795a46ad50d65f92a",
      "execution_count": 328,
      "outputs": [],
      "outputs_reference": null,
      "content_dependencies": null
    },
    {
      "cell_type": "code",
      "metadata": {
        "source_hash": "41809972",
        "execution_start": 1744160439189,
        "execution_millis": 78,
        "sql_integration_id": "deepnote-dataframe-sql",
        "deepnote_table_state": {
          "sortBy": [
            {
              "id": "batchID",
              "type": "asc"
            }
          ],
          "filters": [],
          "pageSize": 5,
          "pageIndex": 0,
          "columnOrder": [
            "batchID",
            "pl",
            "time",
            "order_time"
          ],
          "hiddenColumnIds": [],
          "columnDisplayNames": [],
          "conditionalFilters": [],
          "cellFormattingRules": [],
          "wrappedTextColumnIds": []
        },
        "execution_context_id": "4871396d-a585-48ac-9423-c662bb426968",
        "deepnote_table_loading": false,
        "deepnote_variable_name": "trans_orders",
        "cell_id": "fe8ba156e9a24f609c2e1b38d47bdbaf",
        "deepnote_cell_type": "sql",
        "deepnote_sql_source": "WITH trading_orders AS (\n    SELECT \n        CAST(all1.batchID AS INTEGER) as batchID,base.accountID,all1.Strategy,all1.TypeB,\n        base.pl,\n        date_trunc('minute',all1.time) time_tf,\n        date_trunc('minute', all1.time - INTERVAL '6 minutes') AS order_time\n    FROM all_transactions base \n    LEFT JOIN all_transactions order_filled \n        ON CAST(base.orderID AS INTEGER) = order_filled.id\n    LEFT JOIN all_transactions all1 \n        ON order_filled.batchID = all1.id\n    WHERE base.reason IN ('TAKE_PROFIT_ORDER', 'TRAILING_STOP_LOSS_ORDER')\n)\nSELECT * FROM trading_orders\nORDER BY batchID "
      },
      "source": "trans_orders = _dntk.execute_sql(\n  'WITH trading_orders AS (\\n    SELECT \\n        CAST(all1.batchID AS INTEGER) as batchID,base.accountID,all1.Strategy,all1.TypeB,\\n        base.pl,\\n        date_trunc(\\'minute\\',all1.time) time_tf,\\n        date_trunc(\\'minute\\', all1.time - INTERVAL \\'6 minutes\\') AS order_time\\n    FROM all_transactions base \\n    LEFT JOIN all_transactions order_filled \\n        ON CAST(base.orderID AS INTEGER) = order_filled.id\\n    LEFT JOIN all_transactions all1 \\n        ON order_filled.batchID = all1.id\\n    WHERE base.reason IN (\\'TAKE_PROFIT_ORDER\\', \\'TRAILING_STOP_LOSS_ORDER\\')\\n)\\nSELECT * FROM trading_orders\\nORDER BY batchID ',\n  'SQL_DEEPNOTE_DATAFRAME_SQL',\n  audit_sql_comment='',\n  sql_cache_mode='cache_disabled',\n  return_variable_type='dataframe'\n)\ntrans_orders",
      "block_group": "639cb0aec93f4f93ad715d106663f29a",
      "execution_count": 332,
      "outputs": [
        {
          "output_type": "execute_result",
          "execution_count": 332,
          "data": {
            "application/vnd.deepnote.dataframe.v3+json": {
              "column_count": 7,
              "row_count": 61,
              "columns": [
                {
                  "name": "batchID",
                  "dtype": "int32",
                  "stats": {
                    "unique_count": 61,
                    "nan_count": 0,
                    "min": "64",
                    "max": "1240",
                    "histogram": [
                      {
                        "bin_start": 64,
                        "bin_end": 181.6,
                        "count": 17
                      },
                      {
                        "bin_start": 181.6,
                        "bin_end": 299.2,
                        "count": 15
                      },
                      {
                        "bin_start": 299.2,
                        "bin_end": 416.79999999999995,
                        "count": 0
                      },
                      {
                        "bin_start": 416.79999999999995,
                        "bin_end": 534.4,
                        "count": 0
                      },
                      {
                        "bin_start": 534.4,
                        "bin_end": 652,
                        "count": 0
                      },
                      {
                        "bin_start": 652,
                        "bin_end": 769.5999999999999,
                        "count": 0
                      },
                      {
                        "bin_start": 769.5999999999999,
                        "bin_end": 887.1999999999999,
                        "count": 0
                      },
                      {
                        "bin_start": 887.1999999999999,
                        "bin_end": 1004.8,
                        "count": 0
                      },
                      {
                        "bin_start": 1004.8,
                        "bin_end": 1122.3999999999999,
                        "count": 11
                      },
                      {
                        "bin_start": 1122.3999999999999,
                        "bin_end": 1240,
                        "count": 18
                      }
                    ]
                  }
                },
                {
                  "name": "accountID",
                  "dtype": "object",
                  "stats": {
                    "unique_count": 2,
                    "nan_count": 0,
                    "categories": [
                      {
                        "name": "101-004-31059296-003",
                        "count": 32
                      },
                      {
                        "name": "101-004-31059296-001",
                        "count": 29
                      }
                    ]
                  }
                },
                {
                  "name": "Strategy",
                  "dtype": "object",
                  "stats": {
                    "unique_count": 2,
                    "nan_count": 1,
                    "categories": [
                      {
                        "name": "volume_based_hedge",
                        "count": 31
                      },
                      {
                        "name": "volume_based",
                        "count": 29
                      },
                      {
                        "name": "Missing",
                        "count": 1
                      }
                    ]
                  }
                },
                {
                  "name": "TypeB",
                  "dtype": "object",
                  "stats": {
                    "unique_count": 2,
                    "nan_count": 1,
                    "categories": [
                      {
                        "name": "BUY",
                        "count": 31
                      },
                      {
                        "name": "SELL",
                        "count": 29
                      },
                      {
                        "name": "Missing",
                        "count": 1
                      }
                    ]
                  }
                },
                {
                  "name": "pl",
                  "dtype": "float64",
                  "stats": {
                    "unique_count": 61,
                    "nan_count": 0,
                    "min": "-550.8596",
                    "max": "1184.6955",
                    "histogram": [
                      {
                        "bin_start": -550.8596,
                        "bin_end": -377.30409,
                        "count": 19
                      },
                      {
                        "bin_start": -377.30409,
                        "bin_end": -203.74858,
                        "count": 16
                      },
                      {
                        "bin_start": -203.74858,
                        "bin_end": -30.193070000000034,
                        "count": 4
                      },
                      {
                        "bin_start": -30.193070000000034,
                        "bin_end": 143.36244,
                        "count": 6
                      },
                      {
                        "bin_start": 143.36244,
                        "bin_end": 316.91795,
                        "count": 7
                      },
                      {
                        "bin_start": 316.91795,
                        "bin_end": 490.47345999999993,
                        "count": 1
                      },
                      {
                        "bin_start": 490.47345999999993,
                        "bin_end": 664.0289700000001,
                        "count": 1
                      },
                      {
                        "bin_start": 664.0289700000001,
                        "bin_end": 837.58448,
                        "count": 1
                      },
                      {
                        "bin_start": 837.58448,
                        "bin_end": 1011.1399899999999,
                        "count": 3
                      },
                      {
                        "bin_start": 1011.1399899999999,
                        "bin_end": 1184.6955,
                        "count": 3
                      }
                    ]
                  }
                },
                {
                  "name": "time_tf",
                  "dtype": "datetime64[us, Etc/UTC]",
                  "stats": {
                    "unique_count": 38,
                    "nan_count": 0,
                    "min": "2025-04-08 10:21:00+00:00",
                    "max": "2025-04-08 17:51:00+00:00",
                    "histogram": [
                      {
                        "bin_start": 1744107660000000,
                        "bin_end": 1744110360000000,
                        "count": 3
                      },
                      {
                        "bin_start": 1744110360000000,
                        "bin_end": 1744113060000000,
                        "count": 9
                      },
                      {
                        "bin_start": 1744113060000000,
                        "bin_end": 1744115760000000,
                        "count": 4
                      },
                      {
                        "bin_start": 1744115760000000,
                        "bin_end": 1744118460000000,
                        "count": 4
                      },
                      {
                        "bin_start": 1744118460000000,
                        "bin_end": 1744121160000000,
                        "count": 6
                      },
                      {
                        "bin_start": 1744121160000000,
                        "bin_end": 1744123860000000,
                        "count": 8
                      },
                      {
                        "bin_start": 1744123860000000,
                        "bin_end": 1744126560000000,
                        "count": 10
                      },
                      {
                        "bin_start": 1744126560000000,
                        "bin_end": 1744129260000000,
                        "count": 4
                      },
                      {
                        "bin_start": 1744129260000000,
                        "bin_end": 1744131960000000,
                        "count": 7
                      },
                      {
                        "bin_start": 1744131960000000,
                        "bin_end": 1744134660000000,
                        "count": 6
                      }
                    ]
                  }
                },
                {
                  "name": "order_time",
                  "dtype": "datetime64[us, Etc/UTC]",
                  "stats": {
                    "unique_count": 38,
                    "nan_count": 0,
                    "min": "2025-04-08 10:15:00+00:00",
                    "max": "2025-04-08 17:45:00+00:00",
                    "histogram": [
                      {
                        "bin_start": 1744107300000000,
                        "bin_end": 1744110000000000,
                        "count": 3
                      },
                      {
                        "bin_start": 1744110000000000,
                        "bin_end": 1744112700000000,
                        "count": 9
                      },
                      {
                        "bin_start": 1744112700000000,
                        "bin_end": 1744115400000000,
                        "count": 4
                      },
                      {
                        "bin_start": 1744115400000000,
                        "bin_end": 1744118100000000,
                        "count": 4
                      },
                      {
                        "bin_start": 1744118100000000,
                        "bin_end": 1744120800000000,
                        "count": 6
                      },
                      {
                        "bin_start": 1744120800000000,
                        "bin_end": 1744123500000000,
                        "count": 8
                      },
                      {
                        "bin_start": 1744123500000000,
                        "bin_end": 1744126200000000,
                        "count": 10
                      },
                      {
                        "bin_start": 1744126200000000,
                        "bin_end": 1744128900000000,
                        "count": 4
                      },
                      {
                        "bin_start": 1744128900000000,
                        "bin_end": 1744131600000000,
                        "count": 7
                      },
                      {
                        "bin_start": 1744131600000000,
                        "bin_end": 1744134300000000,
                        "count": 6
                      }
                    ]
                  }
                },
                {
                  "name": "_deepnote_index_column",
                  "dtype": "int64"
                }
              ],
              "rows": [
                {
                  "batchID": 64,
                  "accountID": "101-004-31059296-003",
                  "Strategy": "volume_based_hedge",
                  "TypeB": "BUY",
                  "pl": 889.4796,
                  "time_tf": "2025-04-08 10:21:00+00:00",
                  "order_time": "2025-04-08 10:15:00+00:00",
                  "_deepnote_index_column": 0
                },
                {
                  "batchID": 70,
                  "accountID": "101-004-31059296-003",
                  "Strategy": "volume_based_hedge",
                  "TypeB": "BUY",
                  "pl": -425.3835,
                  "time_tf": "2025-04-08 10:36:00+00:00",
                  "order_time": "2025-04-08 10:30:00+00:00",
                  "_deepnote_index_column": 1
                },
                {
                  "batchID": 76,
                  "accountID": "101-004-31059296-003",
                  "Strategy": "volume_based_hedge",
                  "TypeB": "BUY",
                  "pl": -456.8629,
                  "time_tf": "2025-04-08 10:46:00+00:00",
                  "order_time": "2025-04-08 10:40:00+00:00",
                  "_deepnote_index_column": 2
                },
                {
                  "batchID": 83,
                  "accountID": "101-004-31059296-003",
                  "Strategy": "volume_based_hedge",
                  "TypeB": "BUY",
                  "pl": 31.1602,
                  "time_tf": "2025-04-08 11:16:00+00:00",
                  "order_time": "2025-04-08 11:10:00+00:00",
                  "_deepnote_index_column": 3
                },
                {
                  "batchID": 87,
                  "accountID": "101-004-31059296-003",
                  "Strategy": "volume_based_hedge",
                  "TypeB": "BUY",
                  "pl": -298.9971,
                  "time_tf": "2025-04-08 11:21:00+00:00",
                  "order_time": "2025-04-08 11:15:00+00:00",
                  "_deepnote_index_column": 4
                }
              ],
              "type": "dataframe"
            },
            "text/plain": "    batchID             accountID            Strategy TypeB        pl  \\\n0        64  101-004-31059296-003  volume_based_hedge   BUY  889.4796   \n1        70  101-004-31059296-003  volume_based_hedge   BUY -425.3835   \n2        76  101-004-31059296-003  volume_based_hedge   BUY -456.8629   \n3        83  101-004-31059296-003  volume_based_hedge   BUY   31.1602   \n4        87  101-004-31059296-003  volume_based_hedge   BUY -298.9971   \n..      ...                   ...                 ...   ...       ...   \n56     1214  101-004-31059296-001        volume_based   BUY -361.7824   \n57     1220  101-004-31059296-001        volume_based   BUY  233.6494   \n58     1228  101-004-31059296-001        volume_based  SELL  264.7012   \n59     1232  101-004-31059296-001        volume_based  SELL -338.1336   \n60     1240  101-004-31059296-001        volume_based   BUY -503.1821   \n\n                     time_tf                order_time  \n0  2025-04-08 10:21:00+00:00 2025-04-08 10:15:00+00:00  \n1  2025-04-08 10:36:00+00:00 2025-04-08 10:30:00+00:00  \n2  2025-04-08 10:46:00+00:00 2025-04-08 10:40:00+00:00  \n3  2025-04-08 11:16:00+00:00 2025-04-08 11:10:00+00:00  \n4  2025-04-08 11:21:00+00:00 2025-04-08 11:15:00+00:00  \n..                       ...                       ...  \n56 2025-04-08 16:51:00+00:00 2025-04-08 16:45:00+00:00  \n57 2025-04-08 16:56:00+00:00 2025-04-08 16:50:00+00:00  \n58 2025-04-08 17:36:00+00:00 2025-04-08 17:30:00+00:00  \n59 2025-04-08 17:41:00+00:00 2025-04-08 17:35:00+00:00  \n60 2025-04-08 17:51:00+00:00 2025-04-08 17:45:00+00:00  \n\n[61 rows x 7 columns]",
            "text/html": "<div>\n<style scoped>\n    .dataframe tbody tr th:only-of-type {\n        vertical-align: middle;\n    }\n\n    .dataframe tbody tr th {\n        vertical-align: top;\n    }\n\n    .dataframe thead th {\n        text-align: right;\n    }\n</style>\n<table border=\"1\" class=\"dataframe\">\n  <thead>\n    <tr style=\"text-align: right;\">\n      <th></th>\n      <th>batchID</th>\n      <th>accountID</th>\n      <th>Strategy</th>\n      <th>TypeB</th>\n      <th>pl</th>\n      <th>time_tf</th>\n      <th>order_time</th>\n    </tr>\n  </thead>\n  <tbody>\n    <tr>\n      <th>0</th>\n      <td>64</td>\n      <td>101-004-31059296-003</td>\n      <td>volume_based_hedge</td>\n      <td>BUY</td>\n      <td>889.4796</td>\n      <td>2025-04-08 10:21:00+00:00</td>\n      <td>2025-04-08 10:15:00+00:00</td>\n    </tr>\n    <tr>\n      <th>1</th>\n      <td>70</td>\n      <td>101-004-31059296-003</td>\n      <td>volume_based_hedge</td>\n      <td>BUY</td>\n      <td>-425.3835</td>\n      <td>2025-04-08 10:36:00+00:00</td>\n      <td>2025-04-08 10:30:00+00:00</td>\n    </tr>\n    <tr>\n      <th>2</th>\n      <td>76</td>\n      <td>101-004-31059296-003</td>\n      <td>volume_based_hedge</td>\n      <td>BUY</td>\n      <td>-456.8629</td>\n      <td>2025-04-08 10:46:00+00:00</td>\n      <td>2025-04-08 10:40:00+00:00</td>\n    </tr>\n    <tr>\n      <th>3</th>\n      <td>83</td>\n      <td>101-004-31059296-003</td>\n      <td>volume_based_hedge</td>\n      <td>BUY</td>\n      <td>31.1602</td>\n      <td>2025-04-08 11:16:00+00:00</td>\n      <td>2025-04-08 11:10:00+00:00</td>\n    </tr>\n    <tr>\n      <th>4</th>\n      <td>87</td>\n      <td>101-004-31059296-003</td>\n      <td>volume_based_hedge</td>\n      <td>BUY</td>\n      <td>-298.9971</td>\n      <td>2025-04-08 11:21:00+00:00</td>\n      <td>2025-04-08 11:15:00+00:00</td>\n    </tr>\n    <tr>\n      <th>...</th>\n      <td>...</td>\n      <td>...</td>\n      <td>...</td>\n      <td>...</td>\n      <td>...</td>\n      <td>...</td>\n      <td>...</td>\n    </tr>\n    <tr>\n      <th>56</th>\n      <td>1214</td>\n      <td>101-004-31059296-001</td>\n      <td>volume_based</td>\n      <td>BUY</td>\n      <td>-361.7824</td>\n      <td>2025-04-08 16:51:00+00:00</td>\n      <td>2025-04-08 16:45:00+00:00</td>\n    </tr>\n    <tr>\n      <th>57</th>\n      <td>1220</td>\n      <td>101-004-31059296-001</td>\n      <td>volume_based</td>\n      <td>BUY</td>\n      <td>233.6494</td>\n      <td>2025-04-08 16:56:00+00:00</td>\n      <td>2025-04-08 16:50:00+00:00</td>\n    </tr>\n    <tr>\n      <th>58</th>\n      <td>1228</td>\n      <td>101-004-31059296-001</td>\n      <td>volume_based</td>\n      <td>SELL</td>\n      <td>264.7012</td>\n      <td>2025-04-08 17:36:00+00:00</td>\n      <td>2025-04-08 17:30:00+00:00</td>\n    </tr>\n    <tr>\n      <th>59</th>\n      <td>1232</td>\n      <td>101-004-31059296-001</td>\n      <td>volume_based</td>\n      <td>SELL</td>\n      <td>-338.1336</td>\n      <td>2025-04-08 17:41:00+00:00</td>\n      <td>2025-04-08 17:35:00+00:00</td>\n    </tr>\n    <tr>\n      <th>60</th>\n      <td>1240</td>\n      <td>101-004-31059296-001</td>\n      <td>volume_based</td>\n      <td>BUY</td>\n      <td>-503.1821</td>\n      <td>2025-04-08 17:51:00+00:00</td>\n      <td>2025-04-08 17:45:00+00:00</td>\n    </tr>\n  </tbody>\n</table>\n<p>61 rows × 7 columns</p>\n</div>"
          },
          "metadata": {}
        }
      ],
      "outputs_reference": null,
      "content_dependencies": null
    },
    {
      "cell_type": "code",
      "metadata": {
        "source_hash": "a638302c",
        "execution_start": 1744160468866,
        "execution_millis": 1,
        "execution_context_id": "4871396d-a585-48ac-9423-c662bb426968",
        "cell_id": "baae9f4784b54998899239bc58e5e1e0",
        "deepnote_cell_type": "code"
      },
      "source": "strategy_agg=pd.merge(    \n    trans_orders[trans_orders['accountID']=='101-004-31059296-003'],\n    trans_orders[trans_orders['accountID']=='101-004-31059296-001'],\n    on = 'time_tf', how='left')",
      "block_group": "16823fb2ea9f43b2a1aeb9439bcd1814",
      "execution_count": 338,
      "outputs": [],
      "outputs_reference": null,
      "content_dependencies": null
    },
    {
      "cell_type": "code",
      "metadata": {
        "source_hash": "791e876f",
        "execution_start": 1744160654720,
        "execution_millis": 11,
        "execution_context_id": "4871396d-a585-48ac-9423-c662bb426968",
        "cell_id": "e40dbfc910304532983da3a67d72df53",
        "deepnote_cell_type": "code"
      },
      "source": "prediction_actual.head()",
      "block_group": "a2b648e6035f462da36ebdf2576b3993",
      "execution_count": 359,
      "outputs": [
        {
          "output_type": "execute_result",
          "execution_count": 359,
          "data": {
            "application/vnd.deepnote.dataframe.v3+json": {
              "column_count": 8,
              "row_count": 5,
              "columns": [
                {
                  "name": "datetime",
                  "dtype": "object",
                  "stats": {
                    "unique_count": 5,
                    "nan_count": 0,
                    "categories": [
                      {
                        "name": "2025-04-03 06:20:00+00:00",
                        "count": 1
                      },
                      {
                        "name": "2025-04-03 06:25:00+00:00",
                        "count": 1
                      },
                      {
                        "name": "3 others",
                        "count": 3
                      }
                    ]
                  }
                },
                {
                  "name": "upward_move_6",
                  "dtype": "float64",
                  "stats": {
                    "unique_count": 5,
                    "nan_count": 0,
                    "min": "12.299999999997452",
                    "max": "51.79999999999927",
                    "histogram": [
                      {
                        "bin_start": 12.299999999997452,
                        "bin_end": 16.249999999997634,
                        "count": 2
                      },
                      {
                        "bin_start": 16.249999999997634,
                        "bin_end": 20.199999999997814,
                        "count": 0
                      },
                      {
                        "bin_start": 20.199999999997814,
                        "bin_end": 24.149999999997995,
                        "count": 0
                      },
                      {
                        "bin_start": 24.149999999997995,
                        "bin_end": 28.09999999999818,
                        "count": 1
                      },
                      {
                        "bin_start": 28.09999999999818,
                        "bin_end": 32.04999999999836,
                        "count": 0
                      },
                      {
                        "bin_start": 32.04999999999836,
                        "bin_end": 35.99999999999854,
                        "count": 0
                      },
                      {
                        "bin_start": 35.99999999999854,
                        "bin_end": 39.949999999998724,
                        "count": 0
                      },
                      {
                        "bin_start": 39.949999999998724,
                        "bin_end": 43.899999999998904,
                        "count": 1
                      },
                      {
                        "bin_start": 43.899999999998904,
                        "bin_end": 47.84999999999909,
                        "count": 0
                      },
                      {
                        "bin_start": 47.84999999999909,
                        "bin_end": 51.79999999999927,
                        "count": 1
                      }
                    ]
                  }
                },
                {
                  "name": "downward_move_6",
                  "dtype": "float64",
                  "stats": {
                    "unique_count": 5,
                    "nan_count": 0,
                    "min": "0.6000000000003638",
                    "max": "8.300000000001091",
                    "histogram": [
                      {
                        "bin_start": 0.6000000000003638,
                        "bin_end": 1.3700000000004366,
                        "count": 1
                      },
                      {
                        "bin_start": 1.3700000000004366,
                        "bin_end": 2.1400000000005095,
                        "count": 0
                      },
                      {
                        "bin_start": 2.1400000000005095,
                        "bin_end": 2.910000000000582,
                        "count": 0
                      },
                      {
                        "bin_start": 2.910000000000582,
                        "bin_end": 3.6800000000006547,
                        "count": 0
                      },
                      {
                        "bin_start": 3.6800000000006547,
                        "bin_end": 4.450000000000728,
                        "count": 1
                      },
                      {
                        "bin_start": 4.450000000000728,
                        "bin_end": 5.2200000000008,
                        "count": 0
                      },
                      {
                        "bin_start": 5.2200000000008,
                        "bin_end": 5.990000000000873,
                        "count": 0
                      },
                      {
                        "bin_start": 5.990000000000873,
                        "bin_end": 6.760000000000946,
                        "count": 0
                      },
                      {
                        "bin_start": 6.760000000000946,
                        "bin_end": 7.530000000001018,
                        "count": 2
                      },
                      {
                        "bin_start": 7.530000000001018,
                        "bin_end": 8.300000000001091,
                        "count": 1
                      }
                    ]
                  }
                },
                {
                  "name": "upward_move_20",
                  "dtype": "float64",
                  "stats": {
                    "unique_count": 5,
                    "nan_count": 0,
                    "min": "12.299999999997452",
                    "max": "53.09999999999855",
                    "histogram": [
                      {
                        "bin_start": 12.299999999997452,
                        "bin_end": 16.379999999997562,
                        "count": 2
                      },
                      {
                        "bin_start": 16.379999999997562,
                        "bin_end": 20.45999999999767,
                        "count": 0
                      },
                      {
                        "bin_start": 20.45999999999767,
                        "bin_end": 24.539999999997782,
                        "count": 0
                      },
                      {
                        "bin_start": 24.539999999997782,
                        "bin_end": 28.619999999997894,
                        "count": 1
                      },
                      {
                        "bin_start": 28.619999999997894,
                        "bin_end": 32.699999999998006,
                        "count": 0
                      },
                      {
                        "bin_start": 32.699999999998006,
                        "bin_end": 36.77999999999811,
                        "count": 0
                      },
                      {
                        "bin_start": 36.77999999999811,
                        "bin_end": 40.85999999999822,
                        "count": 0
                      },
                      {
                        "bin_start": 40.85999999999822,
                        "bin_end": 44.939999999998335,
                        "count": 1
                      },
                      {
                        "bin_start": 44.939999999998335,
                        "bin_end": 49.01999999999845,
                        "count": 0
                      },
                      {
                        "bin_start": 49.01999999999845,
                        "bin_end": 53.09999999999855,
                        "count": 1
                      }
                    ]
                  }
                },
                {
                  "name": "downward_move_20",
                  "dtype": "float64",
                  "stats": {
                    "unique_count": 5,
                    "nan_count": 0,
                    "min": "0.6000000000003638",
                    "max": "35.20000000000255",
                    "histogram": [
                      {
                        "bin_start": 0.6000000000003638,
                        "bin_end": 4.060000000000582,
                        "count": 1
                      },
                      {
                        "bin_start": 4.060000000000582,
                        "bin_end": 7.520000000000801,
                        "count": 1
                      },
                      {
                        "bin_start": 7.520000000000801,
                        "bin_end": 10.98000000000102,
                        "count": 0
                      },
                      {
                        "bin_start": 10.98000000000102,
                        "bin_end": 14.440000000001238,
                        "count": 0
                      },
                      {
                        "bin_start": 14.440000000001238,
                        "bin_end": 17.900000000001455,
                        "count": 0
                      },
                      {
                        "bin_start": 17.900000000001455,
                        "bin_end": 21.360000000001676,
                        "count": 0
                      },
                      {
                        "bin_start": 21.360000000001676,
                        "bin_end": 24.820000000001894,
                        "count": 1
                      },
                      {
                        "bin_start": 24.820000000001894,
                        "bin_end": 28.28000000000211,
                        "count": 0
                      },
                      {
                        "bin_start": 28.28000000000211,
                        "bin_end": 31.74000000000233,
                        "count": 0
                      },
                      {
                        "bin_start": 31.74000000000233,
                        "bin_end": 35.20000000000255,
                        "count": 2
                      }
                    ]
                  }
                },
                {
                  "name": "bearish_move_flag_20",
                  "dtype": "int64",
                  "stats": {
                    "unique_count": 2,
                    "nan_count": 0,
                    "min": "0",
                    "max": "2",
                    "histogram": [
                      {
                        "bin_start": 0,
                        "bin_end": 0.2,
                        "count": 2
                      },
                      {
                        "bin_start": 0.2,
                        "bin_end": 0.4,
                        "count": 0
                      },
                      {
                        "bin_start": 0.4,
                        "bin_end": 0.6000000000000001,
                        "count": 0
                      },
                      {
                        "bin_start": 0.6000000000000001,
                        "bin_end": 0.8,
                        "count": 0
                      },
                      {
                        "bin_start": 0.8,
                        "bin_end": 1,
                        "count": 0
                      },
                      {
                        "bin_start": 1,
                        "bin_end": 1.2000000000000002,
                        "count": 0
                      },
                      {
                        "bin_start": 1.2000000000000002,
                        "bin_end": 1.4000000000000001,
                        "count": 0
                      },
                      {
                        "bin_start": 1.4000000000000001,
                        "bin_end": 1.6,
                        "count": 0
                      },
                      {
                        "bin_start": 1.6,
                        "bin_end": 1.8,
                        "count": 0
                      },
                      {
                        "bin_start": 1.8,
                        "bin_end": 2,
                        "count": 3
                      }
                    ]
                  }
                },
                {
                  "name": "bearish_move_flag_20.1",
                  "dtype": "int64",
                  "stats": {
                    "unique_count": 2,
                    "nan_count": 0,
                    "min": "0",
                    "max": "2",
                    "histogram": [
                      {
                        "bin_start": 0,
                        "bin_end": 0.2,
                        "count": 2
                      },
                      {
                        "bin_start": 0.2,
                        "bin_end": 0.4,
                        "count": 0
                      },
                      {
                        "bin_start": 0.4,
                        "bin_end": 0.6000000000000001,
                        "count": 0
                      },
                      {
                        "bin_start": 0.6000000000000001,
                        "bin_end": 0.8,
                        "count": 0
                      },
                      {
                        "bin_start": 0.8,
                        "bin_end": 1,
                        "count": 0
                      },
                      {
                        "bin_start": 1,
                        "bin_end": 1.2000000000000002,
                        "count": 0
                      },
                      {
                        "bin_start": 1.2000000000000002,
                        "bin_end": 1.4000000000000001,
                        "count": 0
                      },
                      {
                        "bin_start": 1.4000000000000001,
                        "bin_end": 1.6,
                        "count": 0
                      },
                      {
                        "bin_start": 1.6,
                        "bin_end": 1.8,
                        "count": 0
                      },
                      {
                        "bin_start": 1.8,
                        "bin_end": 2,
                        "count": 3
                      }
                    ]
                  }
                },
                {
                  "name": "y_actual",
                  "dtype": "int64",
                  "stats": {
                    "unique_count": 3,
                    "nan_count": 0,
                    "min": "1",
                    "max": "3",
                    "histogram": [
                      {
                        "bin_start": 1,
                        "bin_end": 1.2,
                        "count": 2
                      },
                      {
                        "bin_start": 1.2,
                        "bin_end": 1.4,
                        "count": 0
                      },
                      {
                        "bin_start": 1.4,
                        "bin_end": 1.6,
                        "count": 0
                      },
                      {
                        "bin_start": 1.6,
                        "bin_end": 1.8,
                        "count": 0
                      },
                      {
                        "bin_start": 1.8,
                        "bin_end": 2,
                        "count": 0
                      },
                      {
                        "bin_start": 2,
                        "bin_end": 2.2,
                        "count": 2
                      },
                      {
                        "bin_start": 2.2,
                        "bin_end": 2.4000000000000004,
                        "count": 0
                      },
                      {
                        "bin_start": 2.4000000000000004,
                        "bin_end": 2.6,
                        "count": 0
                      },
                      {
                        "bin_start": 2.6,
                        "bin_end": 2.8,
                        "count": 0
                      },
                      {
                        "bin_start": 2.8,
                        "bin_end": 3,
                        "count": 1
                      }
                    ]
                  }
                },
                {
                  "name": "_deepnote_index_column",
                  "dtype": "int64"
                }
              ],
              "rows": [
                {
                  "datetime": "2025-04-03 06:20:00+00:00",
                  "upward_move_6": 51.79999999999927,
                  "downward_move_6": 0.6000000000003638,
                  "upward_move_20": 53.09999999999855,
                  "downward_move_20": 0.6000000000003638,
                  "bearish_move_flag_20": 0,
                  "bearish_move_flag_20.1": 0,
                  "y_actual": 1,
                  "_deepnote_index_column": 0
                },
                {
                  "datetime": "2025-04-03 06:25:00+00:00",
                  "upward_move_6": 41.5,
                  "downward_move_6": 6.900000000001455,
                  "upward_move_20": 41.59999999999855,
                  "downward_move_20": 6.900000000001455,
                  "bearish_move_flag_20": 0,
                  "bearish_move_flag_20.1": 0,
                  "y_actual": 1,
                  "_deepnote_index_column": 1
                },
                {
                  "datetime": "2025-04-03 06:30:00+00:00",
                  "upward_move_6": 25.89999999999964,
                  "downward_move_6": 4.100000000000364,
                  "upward_move_20": 25.89999999999964,
                  "downward_move_20": 21.600000000000364,
                  "bearish_move_flag_20": 2,
                  "bearish_move_flag_20.1": 2,
                  "y_actual": 3,
                  "_deepnote_index_column": 2
                },
                {
                  "datetime": "2025-04-03 06:35:00+00:00",
                  "upward_move_6": 12.299999999997452,
                  "downward_move_6": 7.200000000002547,
                  "upward_move_20": 12.299999999997452,
                  "downward_move_20": 35.20000000000255,
                  "bearish_move_flag_20": 2,
                  "bearish_move_flag_20.1": 2,
                  "y_actual": 2,
                  "_deepnote_index_column": 3
                },
                {
                  "datetime": "2025-04-03 06:40:00+00:00",
                  "upward_move_6": 12.599999999998545,
                  "downward_move_6": 8.300000000001091,
                  "upward_move_20": 16.299999999999272,
                  "downward_move_20": 34.900000000001455,
                  "bearish_move_flag_20": 2,
                  "bearish_move_flag_20.1": 2,
                  "y_actual": 2,
                  "_deepnote_index_column": 4
                }
              ],
              "type": "dataframe"
            },
            "text/plain": "                    datetime  upward_move_6  downward_move_6  upward_move_20  \\\n0  2025-04-03 06:20:00+00:00           51.8              0.6            53.1   \n1  2025-04-03 06:25:00+00:00           41.5              6.9            41.6   \n2  2025-04-03 06:30:00+00:00           25.9              4.1            25.9   \n3  2025-04-03 06:35:00+00:00           12.3              7.2            12.3   \n4  2025-04-03 06:40:00+00:00           12.6              8.3            16.3   \n\n   downward_move_20  bearish_move_flag_20  bearish_move_flag_20.1  y_actual  \n0               0.6                     0                       0         1  \n1               6.9                     0                       0         1  \n2              21.6                     2                       2         3  \n3              35.2                     2                       2         2  \n4              34.9                     2                       2         2  ",
            "text/html": "<div>\n<style scoped>\n    .dataframe tbody tr th:only-of-type {\n        vertical-align: middle;\n    }\n\n    .dataframe tbody tr th {\n        vertical-align: top;\n    }\n\n    .dataframe thead th {\n        text-align: right;\n    }\n</style>\n<table border=\"1\" class=\"dataframe\">\n  <thead>\n    <tr style=\"text-align: right;\">\n      <th></th>\n      <th>datetime</th>\n      <th>upward_move_6</th>\n      <th>downward_move_6</th>\n      <th>upward_move_20</th>\n      <th>downward_move_20</th>\n      <th>bearish_move_flag_20</th>\n      <th>bearish_move_flag_20.1</th>\n      <th>y_actual</th>\n    </tr>\n  </thead>\n  <tbody>\n    <tr>\n      <th>0</th>\n      <td>2025-04-03 06:20:00+00:00</td>\n      <td>51.8</td>\n      <td>0.6</td>\n      <td>53.1</td>\n      <td>0.6</td>\n      <td>0</td>\n      <td>0</td>\n      <td>1</td>\n    </tr>\n    <tr>\n      <th>1</th>\n      <td>2025-04-03 06:25:00+00:00</td>\n      <td>41.5</td>\n      <td>6.9</td>\n      <td>41.6</td>\n      <td>6.9</td>\n      <td>0</td>\n      <td>0</td>\n      <td>1</td>\n    </tr>\n    <tr>\n      <th>2</th>\n      <td>2025-04-03 06:30:00+00:00</td>\n      <td>25.9</td>\n      <td>4.1</td>\n      <td>25.9</td>\n      <td>21.6</td>\n      <td>2</td>\n      <td>2</td>\n      <td>3</td>\n    </tr>\n    <tr>\n      <th>3</th>\n      <td>2025-04-03 06:35:00+00:00</td>\n      <td>12.3</td>\n      <td>7.2</td>\n      <td>12.3</td>\n      <td>35.2</td>\n      <td>2</td>\n      <td>2</td>\n      <td>2</td>\n    </tr>\n    <tr>\n      <th>4</th>\n      <td>2025-04-03 06:40:00+00:00</td>\n      <td>12.6</td>\n      <td>8.3</td>\n      <td>16.3</td>\n      <td>34.9</td>\n      <td>2</td>\n      <td>2</td>\n      <td>2</td>\n    </tr>\n  </tbody>\n</table>\n</div>"
          },
          "metadata": {}
        }
      ],
      "outputs_reference": null,
      "content_dependencies": null
    },
    {
      "cell_type": "code",
      "metadata": {
        "source_hash": "cf1d2495",
        "execution_start": 1744160523046,
        "execution_millis": 0,
        "deepnote_table_state": {
          "sortBy": [
            {
              "id": "batchID_x",
              "type": "asc"
            }
          ],
          "filters": [],
          "pageSize": 100,
          "pageIndex": 0,
          "columnOrder": [
            "batchID_x",
            "accountID_x",
            "Strategy_x",
            "pl_x",
            "time_tf",
            "order_time_x",
            "batchID_y",
            "accountID_y",
            "Strategy_y",
            "pl_y",
            "order_time_y"
          ],
          "hiddenColumnIds": [],
          "columnDisplayNames": [],
          "conditionalFilters": [],
          "cellFormattingRules": [],
          "wrappedTextColumnIds": []
        },
        "execution_context_id": "4871396d-a585-48ac-9423-c662bb426968",
        "deepnote_table_loading": false,
        "cell_id": "ae159965b311400381f7d4e321808cb0",
        "deepnote_cell_type": "code"
      },
      "source": "strategy_agg['pl_x'] = pd.to_numeric(strategy_agg['pl_x'])\nstrategy_agg['pl_y'] = pd.to_numeric(strategy_agg['pl_y'])\nstrategy_agg['pl_agg'] = strategy_agg['pl_x'] + strategy_agg['pl_y']\nstrategy_agg = strategy_agg[(strategy_agg['time_tf'].dt.date == strategy_agg['time_tf'].dt.date.max())\n            ][['Strategy_x','pl_x','pl_y','pl_agg','order_time_x','TypeB_x']]",
      "block_group": "1a73492c6bd24d87ba56cba82802309b",
      "execution_count": 348,
      "outputs": [],
      "outputs_reference": null,
      "content_dependencies": null
    },
    {
      "cell_type": "code",
      "metadata": {
        "source_hash": "ab2d0f0b",
        "execution_start": 1744161350176,
        "execution_millis": 260,
        "execution_context_id": "4871396d-a585-48ac-9423-c662bb426968",
        "cell_id": "bb04914e560848e79c08b8618c19e921",
        "deepnote_cell_type": "code"
      },
      "source": "prediction_actual = pd.read_csv('/work/data/predictions/predictions_actuals.csv')\nstrategy_agg['order_time_x'] = pd.to_datetime(strategy_agg['order_time_x'])\nprediction_actual['datetime'] = pd.to_datetime(prediction_actual['datetime'])\nstrategy_w_predictions = pd.merge(strategy_agg,prediction_actual,left_on='order_time_x',right_on = 'datetime')",
      "block_group": "8d974788df564519a8e569598095d894",
      "execution_count": 369,
      "outputs": [],
      "outputs_reference": null,
      "content_dependencies": null
    },
    {
      "cell_type": "code",
      "metadata": {
        "source_hash": "c6a36ef2",
        "execution_start": 1744160634906,
        "execution_millis": 0,
        "deepnote_table_state": {
          "sortBy": [],
          "filters": [],
          "pageSize": 100,
          "pageIndex": 0,
          "columnOrder": [
            "Time",
            "Strategy",
            "Type",
            "Quantity",
            "Price",
            "Take_Profit",
            "Stop_Loss",
            "Order_ID",
            "Account_ID"
          ],
          "hiddenColumnIds": [],
          "columnDisplayNames": [],
          "conditionalFilters": [],
          "cellFormattingRules": [],
          "wrappedTextColumnIds": []
        },
        "execution_context_id": "4871396d-a585-48ac-9423-c662bb426968",
        "deepnote_table_loading": false,
        "cell_id": "3159ab563c8143eba93de89c2e11bfae",
        "deepnote_cell_type": "code"
      },
      "source": "orders[(orders['Time'].dt.date == orders['Time'].dt.date.max()) \n        & (orders['Account_ID'] == '101-004-31059296-003')][['Order_ID','datetime']].head()",
      "block_group": "dde7889bdcfc4bd48e6d4952f8f2f4e1",
      "execution_count": 354,
      "outputs": [
        {
          "output_type": "error",
          "ename": "KeyError",
          "evalue": "\"['datetime'] not in index\"",
          "traceback": [
            "\u001b[0;31m---------------------------------------------------------------------------\u001b[0m",
            "\u001b[0;31mKeyError\u001b[0m                                  Traceback (most recent call last)",
            "Cell \u001b[0;32mIn[354], line 6\u001b[0m\n\u001b[1;32m      3\u001b[0m \u001b[38;5;28;01melse\u001b[39;00m:\n\u001b[1;32m      4\u001b[0m   _deepnote_current_table_attrs \u001b[38;5;241m=\u001b[39m \u001b[38;5;124m'\u001b[39m\u001b[38;5;124m{\u001b[39m\u001b[38;5;124m\"\u001b[39m\u001b[38;5;124msortBy\u001b[39m\u001b[38;5;124m\"\u001b[39m\u001b[38;5;124m:[],\u001b[39m\u001b[38;5;124m\"\u001b[39m\u001b[38;5;124mfilters\u001b[39m\u001b[38;5;124m\"\u001b[39m\u001b[38;5;124m:[],\u001b[39m\u001b[38;5;124m\"\u001b[39m\u001b[38;5;124mpageSize\u001b[39m\u001b[38;5;124m\"\u001b[39m\u001b[38;5;124m:100,\u001b[39m\u001b[38;5;124m\"\u001b[39m\u001b[38;5;124mpageIndex\u001b[39m\u001b[38;5;124m\"\u001b[39m\u001b[38;5;124m:0,\u001b[39m\u001b[38;5;124m\"\u001b[39m\u001b[38;5;124mcolumnOrder\u001b[39m\u001b[38;5;124m\"\u001b[39m\u001b[38;5;124m:[\u001b[39m\u001b[38;5;124m\"\u001b[39m\u001b[38;5;124mTime\u001b[39m\u001b[38;5;124m\"\u001b[39m\u001b[38;5;124m,\u001b[39m\u001b[38;5;124m\"\u001b[39m\u001b[38;5;124mStrategy\u001b[39m\u001b[38;5;124m\"\u001b[39m\u001b[38;5;124m,\u001b[39m\u001b[38;5;124m\"\u001b[39m\u001b[38;5;124mType\u001b[39m\u001b[38;5;124m\"\u001b[39m\u001b[38;5;124m,\u001b[39m\u001b[38;5;124m\"\u001b[39m\u001b[38;5;124mQuantity\u001b[39m\u001b[38;5;124m\"\u001b[39m\u001b[38;5;124m,\u001b[39m\u001b[38;5;124m\"\u001b[39m\u001b[38;5;124mPrice\u001b[39m\u001b[38;5;124m\"\u001b[39m\u001b[38;5;124m,\u001b[39m\u001b[38;5;124m\"\u001b[39m\u001b[38;5;124mTake_Profit\u001b[39m\u001b[38;5;124m\"\u001b[39m\u001b[38;5;124m,\u001b[39m\u001b[38;5;124m\"\u001b[39m\u001b[38;5;124mStop_Loss\u001b[39m\u001b[38;5;124m\"\u001b[39m\u001b[38;5;124m,\u001b[39m\u001b[38;5;124m\"\u001b[39m\u001b[38;5;124mOrder_ID\u001b[39m\u001b[38;5;124m\"\u001b[39m\u001b[38;5;124m,\u001b[39m\u001b[38;5;124m\"\u001b[39m\u001b[38;5;124mAccount_ID\u001b[39m\u001b[38;5;124m\"\u001b[39m\u001b[38;5;124m],\u001b[39m\u001b[38;5;124m\"\u001b[39m\u001b[38;5;124mhiddenColumnIds\u001b[39m\u001b[38;5;124m\"\u001b[39m\u001b[38;5;124m:[],\u001b[39m\u001b[38;5;124m\"\u001b[39m\u001b[38;5;124mcolumnDisplayNames\u001b[39m\u001b[38;5;124m\"\u001b[39m\u001b[38;5;124m:[],\u001b[39m\u001b[38;5;124m\"\u001b[39m\u001b[38;5;124mconditionalFilters\u001b[39m\u001b[38;5;124m\"\u001b[39m\u001b[38;5;124m:[],\u001b[39m\u001b[38;5;124m\"\u001b[39m\u001b[38;5;124mcellFormattingRules\u001b[39m\u001b[38;5;124m\"\u001b[39m\u001b[38;5;124m:[],\u001b[39m\u001b[38;5;124m\"\u001b[39m\u001b[38;5;124mwrappedTextColumnIds\u001b[39m\u001b[38;5;124m\"\u001b[39m\u001b[38;5;124m:[]}\u001b[39m\u001b[38;5;124m'\u001b[39m\n\u001b[0;32m----> 6\u001b[0m \u001b[43morders\u001b[49m\u001b[43m[\u001b[49m\u001b[43m(\u001b[49m\u001b[43morders\u001b[49m\u001b[43m[\u001b[49m\u001b[38;5;124;43m'\u001b[39;49m\u001b[38;5;124;43mTime\u001b[39;49m\u001b[38;5;124;43m'\u001b[39;49m\u001b[43m]\u001b[49m\u001b[38;5;241;43m.\u001b[39;49m\u001b[43mdt\u001b[49m\u001b[38;5;241;43m.\u001b[39;49m\u001b[43mdate\u001b[49m\u001b[43m \u001b[49m\u001b[38;5;241;43m==\u001b[39;49m\u001b[43m \u001b[49m\u001b[43morders\u001b[49m\u001b[43m[\u001b[49m\u001b[38;5;124;43m'\u001b[39;49m\u001b[38;5;124;43mTime\u001b[39;49m\u001b[38;5;124;43m'\u001b[39;49m\u001b[43m]\u001b[49m\u001b[38;5;241;43m.\u001b[39;49m\u001b[43mdt\u001b[49m\u001b[38;5;241;43m.\u001b[39;49m\u001b[43mdate\u001b[49m\u001b[38;5;241;43m.\u001b[39;49m\u001b[43mmax\u001b[49m\u001b[43m(\u001b[49m\u001b[43m)\u001b[49m\u001b[43m)\u001b[49m\u001b[43m \u001b[49m\n\u001b[1;32m      7\u001b[0m \u001b[43m        \u001b[49m\u001b[38;5;241;43m&\u001b[39;49m\u001b[43m \u001b[49m\u001b[43m(\u001b[49m\u001b[43morders\u001b[49m\u001b[43m[\u001b[49m\u001b[38;5;124;43m'\u001b[39;49m\u001b[38;5;124;43mAccount_ID\u001b[39;49m\u001b[38;5;124;43m'\u001b[39;49m\u001b[43m]\u001b[49m\u001b[43m \u001b[49m\u001b[38;5;241;43m==\u001b[39;49m\u001b[43m \u001b[49m\u001b[38;5;124;43m'\u001b[39;49m\u001b[38;5;124;43m101-004-31059296-003\u001b[39;49m\u001b[38;5;124;43m'\u001b[39;49m\u001b[43m)\u001b[49m\u001b[43m]\u001b[49m\u001b[43m[\u001b[49m\u001b[43m[\u001b[49m\u001b[38;5;124;43m'\u001b[39;49m\u001b[38;5;124;43mOrder_ID\u001b[39;49m\u001b[38;5;124;43m'\u001b[39;49m\u001b[43m,\u001b[49m\u001b[38;5;124;43m'\u001b[39;49m\u001b[38;5;124;43mdatetime\u001b[39;49m\u001b[38;5;124;43m'\u001b[39;49m\u001b[43m]\u001b[49m\u001b[43m]\u001b[49m\u001b[38;5;241m.\u001b[39mhead()\n",
            "File \u001b[0;32m~/venv/lib/python3.10/site-packages/pandas/core/frame.py:3899\u001b[0m, in \u001b[0;36mDataFrame.__getitem__\u001b[0;34m(self, key)\u001b[0m\n\u001b[1;32m   3897\u001b[0m     \u001b[38;5;28;01mif\u001b[39;00m is_iterator(key):\n\u001b[1;32m   3898\u001b[0m         key \u001b[38;5;241m=\u001b[39m \u001b[38;5;28mlist\u001b[39m(key)\n\u001b[0;32m-> 3899\u001b[0m     indexer \u001b[38;5;241m=\u001b[39m \u001b[38;5;28;43mself\u001b[39;49m\u001b[38;5;241;43m.\u001b[39;49m\u001b[43mcolumns\u001b[49m\u001b[38;5;241;43m.\u001b[39;49m\u001b[43m_get_indexer_strict\u001b[49m\u001b[43m(\u001b[49m\u001b[43mkey\u001b[49m\u001b[43m,\u001b[49m\u001b[43m \u001b[49m\u001b[38;5;124;43m\"\u001b[39;49m\u001b[38;5;124;43mcolumns\u001b[39;49m\u001b[38;5;124;43m\"\u001b[39;49m\u001b[43m)\u001b[49m[\u001b[38;5;241m1\u001b[39m]\n\u001b[1;32m   3901\u001b[0m \u001b[38;5;66;03m# take() does not accept boolean indexers\u001b[39;00m\n\u001b[1;32m   3902\u001b[0m \u001b[38;5;28;01mif\u001b[39;00m \u001b[38;5;28mgetattr\u001b[39m(indexer, \u001b[38;5;124m\"\u001b[39m\u001b[38;5;124mdtype\u001b[39m\u001b[38;5;124m\"\u001b[39m, \u001b[38;5;28;01mNone\u001b[39;00m) \u001b[38;5;241m==\u001b[39m \u001b[38;5;28mbool\u001b[39m:\n",
            "File \u001b[0;32m~/venv/lib/python3.10/site-packages/pandas/core/indexes/base.py:6115\u001b[0m, in \u001b[0;36mIndex._get_indexer_strict\u001b[0;34m(self, key, axis_name)\u001b[0m\n\u001b[1;32m   6112\u001b[0m \u001b[38;5;28;01melse\u001b[39;00m:\n\u001b[1;32m   6113\u001b[0m     keyarr, indexer, new_indexer \u001b[38;5;241m=\u001b[39m \u001b[38;5;28mself\u001b[39m\u001b[38;5;241m.\u001b[39m_reindex_non_unique(keyarr)\n\u001b[0;32m-> 6115\u001b[0m \u001b[38;5;28;43mself\u001b[39;49m\u001b[38;5;241;43m.\u001b[39;49m\u001b[43m_raise_if_missing\u001b[49m\u001b[43m(\u001b[49m\u001b[43mkeyarr\u001b[49m\u001b[43m,\u001b[49m\u001b[43m \u001b[49m\u001b[43mindexer\u001b[49m\u001b[43m,\u001b[49m\u001b[43m \u001b[49m\u001b[43maxis_name\u001b[49m\u001b[43m)\u001b[49m\n\u001b[1;32m   6117\u001b[0m keyarr \u001b[38;5;241m=\u001b[39m \u001b[38;5;28mself\u001b[39m\u001b[38;5;241m.\u001b[39mtake(indexer)\n\u001b[1;32m   6118\u001b[0m \u001b[38;5;28;01mif\u001b[39;00m \u001b[38;5;28misinstance\u001b[39m(key, Index):\n\u001b[1;32m   6119\u001b[0m     \u001b[38;5;66;03m# GH 42790 - Preserve name from an Index\u001b[39;00m\n",
            "File \u001b[0;32m~/venv/lib/python3.10/site-packages/pandas/core/indexes/base.py:6179\u001b[0m, in \u001b[0;36mIndex._raise_if_missing\u001b[0;34m(self, key, indexer, axis_name)\u001b[0m\n\u001b[1;32m   6176\u001b[0m     \u001b[38;5;28;01mraise\u001b[39;00m \u001b[38;5;167;01mKeyError\u001b[39;00m(\u001b[38;5;124mf\u001b[39m\u001b[38;5;124m\"\u001b[39m\u001b[38;5;124mNone of [\u001b[39m\u001b[38;5;132;01m{\u001b[39;00mkey\u001b[38;5;132;01m}\u001b[39;00m\u001b[38;5;124m] are in the [\u001b[39m\u001b[38;5;132;01m{\u001b[39;00maxis_name\u001b[38;5;132;01m}\u001b[39;00m\u001b[38;5;124m]\u001b[39m\u001b[38;5;124m\"\u001b[39m)\n\u001b[1;32m   6178\u001b[0m not_found \u001b[38;5;241m=\u001b[39m \u001b[38;5;28mlist\u001b[39m(ensure_index(key)[missing_mask\u001b[38;5;241m.\u001b[39mnonzero()[\u001b[38;5;241m0\u001b[39m]]\u001b[38;5;241m.\u001b[39munique())\n\u001b[0;32m-> 6179\u001b[0m \u001b[38;5;28;01mraise\u001b[39;00m \u001b[38;5;167;01mKeyError\u001b[39;00m(\u001b[38;5;124mf\u001b[39m\u001b[38;5;124m\"\u001b[39m\u001b[38;5;132;01m{\u001b[39;00mnot_found\u001b[38;5;132;01m}\u001b[39;00m\u001b[38;5;124m not in index\u001b[39m\u001b[38;5;124m\"\u001b[39m)\n",
            "\u001b[0;31mKeyError\u001b[0m: \"['datetime'] not in index\""
          ]
        }
      ],
      "outputs_reference": null,
      "content_dependencies": null
    },
    {
      "cell_type": "code",
      "metadata": {
        "source_hash": "a9f40c36",
        "execution_start": 1744161393886,
        "execution_millis": 183,
        "execution_context_id": "4871396d-a585-48ac-9423-c662bb426968",
        "cell_id": "51b5f1b5f0214e2d8c116535d3882a5f",
        "deepnote_cell_type": "code"
      },
      "source": "strategy_w_predictions.to_csv('/work/strategy.csv')",
      "block_group": "7e28442e4e974843b8f62f7c6e8d02d0",
      "execution_count": 371,
      "outputs": [],
      "outputs_reference": null,
      "content_dependencies": null
    },
    {
      "cell_type": "code",
      "metadata": {
        "source_hash": "a68640af",
        "execution_start": 1744162873946,
        "execution_millis": 342,
        "execution_context_id": "4871396d-a585-48ac-9423-c662bb426968",
        "cell_id": "ce79859d31c34111b42c6770cf4ff2b0",
        "deepnote_cell_type": "code"
      },
      "source": "from Moduled_functions import get_data\naccess_token = os.environ[\"ACCESS_TOKEN\"]\naccount_id_demo = os.environ[\"ACCOUNT_DEMO\"]\n\nbase_data, current_price = get_data(100, access_token) \nprint(f\"Max available data {base_data['datetime'].max()}\")",
      "block_group": "97adb50e3105417591798ead7725e890",
      "execution_count": 387,
      "outputs": [
        {
          "name": "stdout",
          "text": "Max available data 2025-04-09 01:35:00+00:00\n",
          "output_type": "stream"
        }
      ],
      "outputs_reference": null,
      "content_dependencies": null
    },
    {
      "cell_type": "code",
      "metadata": {
        "source_hash": "69948e06",
        "execution_start": 1744162347719,
        "execution_millis": 316747,
        "sql_integration_id": "",
        "execution_context_id": "4871396d-a585-48ac-9423-c662bb426968",
        "deepnote_variable_name": "",
        "cell_id": "323e76a156454b929931ca64fe05eced",
        "deepnote_cell_type": "code"
      },
      "source": "import schedule\nimport time\nfrom datetime import datetime, timedelta\nfrom Moduled_functions import get_data\naccess_token = os.environ[\"ACCESS_TOKEN\"]\naccount_id_demo = os.environ[\"ACCOUNT_DEMO\"]\n\ndef job():\n    from Moduled_functions import get_data\n    access_token = os.environ[\"ACCESS_TOKEN\"]\n    account_id_demo = os.environ[\"ACCOUNT_DEMO\"]\n\n    base_data, current_price = get_data(100, access_token) \n    print(f\"Max available data {base_data['datetime'].max()}\")\n    print(f\"Running task at {datetime.now().strftime('%Y-%m-%d %H:%M:%S')}\")\n\ndef schedule_next_runs():\n    now = datetime.now()\n    \n    # Calculate next XX:00:30 and XX:05:30 times\n    current_minute = now.minute\n    current_second = now.second\n    \n    # For XX:00:30\n    if current_minute % 5 == 0 and current_second < 30:\n        wait_seconds = 30 - current_second\n    else:\n        minutes_until_next = 5 - (current_minute % 5)\n        wait_seconds = minutes_until_next * 60 + (30 - current_second)\n        if wait_seconds < 0:\n            wait_seconds += 300  # Add 5 minutes if we're past the target second\n    \n    print(f\"Next run scheduled in {wait_seconds} seconds\")\n    return wait_seconds\n\n# Run the scheduler\nprint(\"Scheduler started. Press Ctrl+C to exit.\")\ntry:\n    while True:\n        wait_time = schedule_next_runs()\n        time.sleep(wait_time)\n        job()\n        time.sleep(1)  # Small delay to prevent tight loop\nexcept KeyboardInterrupt:\n    print(\"\\nScheduler stopped.\")",
      "block_group": "e0e9ed63fa6441c68b0a844d58f367ea",
      "execution_count": 377,
      "outputs": [
        {
          "name": "stdout",
          "text": "Scheduler started. Press Ctrl+C to exit.\nNext run scheduled in 183 seconds\nRunning task at 2025-04-09 01:35:30\nNext run scheduled in 299 seconds\n\nScheduler stopped.\n",
          "output_type": "stream"
        }
      ],
      "outputs_reference": null,
      "content_dependencies": null
    },
    {
      "cell_type": "markdown",
      "metadata": {
        "cell_id": "0554c9fcb73d4b50a3ea18c7618c02c9",
        "deepnote_cell_type": "text-cell-p"
      },
      "source": "This scheduler will run every 5 minutes (at XX:00:30 and XX:05:30) and execute the defined job. The job currently just prints the current timestamp, but you can modify the job() function to include any tasks you want to run at these intervals. The scheduler will continue running until interrupted with Ctrl+C.",
      "block_group": "6bcb102f28d247c6ba89cda60fba8ef5"
    },
    {
      "cell_type": "markdown",
      "source": "<a style='text-decoration:none;line-height:16px;display:flex;color:#5B5B62;padding:10px;justify-content:end;' href='https://deepnote.com?utm_source=created-in-deepnote-cell&projectId=a127aa9e-0a77-4af9-a6ce-85e7a9b74042' target=\"_blank\">\n<img alt='Created in deepnote.com' style='display:inline;max-height:16px;margin:0px;margin-right:7.5px;' src='data:image/svg+xml;base64,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' > </img>\nCreated in <span style='font-weight:600;margin-left:4px;'>Deepnote</span></a>",
      "metadata": {
        "created_in_deepnote_cell": true,
        "deepnote_cell_type": "markdown"
      }
    }
  ],
  "nbformat": 4,
  "nbformat_minor": 0,
  "metadata": {
    "deepnote_persisted_session": {
      "createdAt": "2025-04-10T11:10:41.126Z"
    },
    "deepnote_notebook_id": "77432b1dee9c4e5980e363ebe2995386"
  }
}