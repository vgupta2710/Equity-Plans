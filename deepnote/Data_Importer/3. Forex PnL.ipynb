{
  "cells": [
    {
      "cell_type": "code",
      "metadata": {
        "source_hash": "74a9bca0",
        "execution_start": 1744132215586,
        "execution_millis": 2,
        "execution_context_id": "4871396d-a585-48ac-9423-c662bb426968",
        "cell_id": "936a9ae588564d0abf5fb76626c620d6",
        "deepnote_cell_type": "code"
      },
      "source": "import os\naccess_token = os.environ[\"ACCESS_TOKEN\"]\naccount_id_demo = os.environ[\"ACCOUNT_DEMO\"]\naccount_id_hedge = os.environ[\"ACCOUNT_HEDGE\"]\nimport oandapyV20\nimport oandapyV20.endpoints.transactions as trans\nimport pandas as pd",
      "block_group": "936a9ae588564d0abf5fb76626c620d6",
      "execution_count": 18,
      "outputs": [],
      "outputs_reference": null,
      "content_dependencies": null
    },
    {
      "cell_type": "code",
      "metadata": {
        "source_hash": "517d3b93",
        "execution_start": 1744155334731,
        "execution_millis": 343,
        "execution_context_id": "4871396d-a585-48ac-9423-c662bb426968",
        "cell_id": "4b7c591013e64d1faf326f5ab951689f",
        "deepnote_cell_type": "code"
      },
      "source": "client = oandapyV20.API(access_token=access_token)\nparam = { \"id\": 900 }\nr = trans.TransactionsSinceID(accountID=account_id_demo,  params=param)\ntrades= client.request(r)\nparam1 = { \"id\": 0 }\nrequest_hedge = trans.TransactionsSinceID(accountID=account_id_hedge,  params=param1)\ntrades_hedge= client.request(request_hedge)",
      "block_group": "da0bcd9836484df49e01f0085a50a6bc",
      "execution_count": 111,
      "outputs": [],
      "outputs_reference": null,
      "content_dependencies": null
    },
    {
      "cell_type": "code",
      "metadata": {
        "source_hash": "d5ef34a1",
        "execution_start": 1744155335126,
        "execution_millis": 0,
        "execution_context_id": "4871396d-a585-48ac-9423-c662bb426968",
        "cell_id": "428356300bb2463d81adc9ea14342c4f",
        "deepnote_cell_type": "code"
      },
      "source": "all_transactions_hedge = pd.DataFrame(trades_hedge['transactions'])\nall_transactions = pd.DataFrame(trades['transactions'])\nall_transactions = pd.concat([all_transactions_hedge,all_transactions])\nall_transactions['time'] = pd.to_datetime(all_transactions['time'])\nall_transactions['date'] = all_transactions['time'].dt.date\nall_transactions = all_transactions[all_transactions['date'] == all_transactions['date'].max()]\nall_transactions['pl'] = pd.to_numeric(all_transactions['pl'])\nprint(all_transactions[all_transactions['reason'].isin(['TRAILING_STOP_LOSS_ORDER', 'TAKE_PROFIT_ORDER'])].groupby(['accountID','reason'])['pl'].sum())\nprint(all_transactions['pl'].sum())",
      "block_group": "169c2c89203341ed8ed14d6bd748c360",
      "execution_count": 112,
      "outputs": [
        {
          "name": "stdout",
          "text": "accountID             reason                  \n101-004-31059296-001  TAKE_PROFIT_ORDER           2353.7937\n                      TRAILING_STOP_LOSS_ORDER   -5911.3750\n101-004-31059296-003  TAKE_PROFIT_ORDER           3757.7192\n                      TRAILING_STOP_LOSS_ORDER   -4347.5184\nName: pl, dtype: float64\n-2733.718300000001\n",
          "output_type": "stream"
        }
      ],
      "outputs_reference": null,
      "content_dependencies": null
    },
    {
      "cell_type": "code",
      "metadata": {
        "source_hash": "1dfe3fda",
        "execution_start": 1744155114652,
        "execution_millis": 2,
        "execution_context_id": "4871396d-a585-48ac-9423-c662bb426968",
        "cell_id": "40aea4369ea241e6bb3cb2b3895c3cbc",
        "deepnote_cell_type": "code"
      },
      "source": "pd.to_numeric(all_transactions['halfSpreadCost']).sum()",
      "block_group": "83be861b503246a9aaa1b6881896c197",
      "execution_count": 80,
      "outputs": [
        {
          "output_type": "execute_result",
          "execution_count": 80,
          "data": {
            "text/plain": "4631.0979"
          },
          "metadata": {}
        }
      ],
      "outputs_reference": null,
      "content_dependencies": null
    },
    {
      "cell_type": "code",
      "metadata": {
        "source_hash": "2a4ea8b",
        "execution_start": 1744155344110,
        "execution_millis": 1,
        "execution_context_id": "4871396d-a585-48ac-9423-c662bb426968",
        "cell_id": "effc39e44b8448d2b166ea4c620b3934",
        "deepnote_cell_type": "code"
      },
      "source": "all_transactions.shape",
      "block_group": "e7c5f8c76ac548c39026e2fe2e2954e6",
      "execution_count": 114,
      "outputs": [
        {
          "output_type": "execute_result",
          "execution_count": 114,
          "data": {
            "text/plain": "(430, 61)"
          },
          "metadata": {}
        }
      ],
      "outputs_reference": null,
      "content_dependencies": null
    },
    {
      "cell_type": "code",
      "metadata": {
        "source_hash": "cd842853",
        "execution_start": 1744155380276,
        "execution_millis": 207,
        "execution_context_id": "4871396d-a585-48ac-9423-c662bb426968",
        "cell_id": "09d17e1da306410b8e9518ff1dbbd2e5",
        "deepnote_cell_type": "code"
      },
      "source": "orders = pd.read_csv('/work/data/orders/all_orders.csv')\norders['Time'] = pd.to_datetime(orders['Time'])\nall_transactions['id'] = pd.to_numeric(all_transactions['id'])\nall_transactions['batchID'] = pd.to_numeric(all_transactions['batchID'])\nall_transactions = pd.merge(all_transactions,orders,left_on='batchID', right_on = 'Order_ID',how='left')",
      "block_group": "b34f708b89b5488795a46ad50d65f92a",
      "execution_count": 116,
      "outputs": [],
      "outputs_reference": null,
      "content_dependencies": null
    },
    {
      "cell_type": "code",
      "metadata": {
        "source_hash": "3477b697",
        "execution_start": 1744155668546,
        "execution_millis": 110,
        "sql_integration_id": "deepnote-dataframe-sql",
        "deepnote_table_state": {
          "sortBy": [
            {
              "id": "batchID",
              "type": "asc"
            }
          ],
          "filters": [],
          "pageSize": 5,
          "pageIndex": 0,
          "columnOrder": [
            "batchID",
            "pl",
            "time",
            "order_time"
          ],
          "hiddenColumnIds": [],
          "columnDisplayNames": [],
          "conditionalFilters": [],
          "cellFormattingRules": [],
          "wrappedTextColumnIds": []
        },
        "execution_context_id": "4871396d-a585-48ac-9423-c662bb426968",
        "deepnote_table_loading": false,
        "deepnote_variable_name": "trans_orders",
        "cell_id": "fe8ba156e9a24f609c2e1b38d47bdbaf",
        "deepnote_cell_type": "sql",
        "deepnote_sql_source": "WITH trading_orders AS (\n    SELECT \n        CAST(all1.batchID AS INTEGER) as batchID,base.accountID,all1.Strategy,\n        base.pl,\n        date_trunc('minute',all1.time) time_tf,\n        date_trunc('minute', all1.time - INTERVAL '6 minutes') AS order_time\n    FROM all_transactions base \n    LEFT JOIN all_transactions order_filled \n        ON CAST(base.orderID AS INTEGER) = order_filled.id\n    LEFT JOIN all_transactions all1 \n        ON order_filled.batchID = all1.id\n    WHERE base.reason IN ('TAKE_PROFIT_ORDER', 'TRAILING_STOP_LOSS_ORDER')\n)\nSELECT * FROM trading_orders\nORDER BY batchID "
      },
      "source": "trans_orders = _dntk.execute_sql(\n  'WITH trading_orders AS (\\n    SELECT \\n        CAST(all1.batchID AS INTEGER) as batchID,base.accountID,all1.Strategy,\\n        base.pl,\\n        date_trunc(\\'minute\\',all1.time) time_tf,\\n        date_trunc(\\'minute\\', all1.time - INTERVAL \\'6 minutes\\') AS order_time\\n    FROM all_transactions base \\n    LEFT JOIN all_transactions order_filled \\n        ON CAST(base.orderID AS INTEGER) = order_filled.id\\n    LEFT JOIN all_transactions all1 \\n        ON order_filled.batchID = all1.id\\n    WHERE base.reason IN (\\'TAKE_PROFIT_ORDER\\', \\'TRAILING_STOP_LOSS_ORDER\\')\\n)\\nSELECT * FROM trading_orders\\nORDER BY batchID ',\n  'SQL_DEEPNOTE_DATAFRAME_SQL',\n  audit_sql_comment='',\n  sql_cache_mode='cache_disabled',\n  return_variable_type='dataframe'\n)\ntrans_orders",
      "block_group": "639cb0aec93f4f93ad715d106663f29a",
      "execution_count": 138,
      "outputs": [
        {
          "output_type": "execute_result",
          "execution_count": 138,
          "data": {
            "application/vnd.deepnote.dataframe.v3+json": {
              "column_count": 6,
              "row_count": 61,
              "columns": [
                {
                  "name": "batchID",
                  "dtype": "int32",
                  "stats": {
                    "unique_count": 61,
                    "nan_count": 0,
                    "min": "64",
                    "max": "1240",
                    "histogram": [
                      {
                        "bin_start": 64,
                        "bin_end": 181.6,
                        "count": 17
                      },
                      {
                        "bin_start": 181.6,
                        "bin_end": 299.2,
                        "count": 15
                      },
                      {
                        "bin_start": 299.2,
                        "bin_end": 416.79999999999995,
                        "count": 0
                      },
                      {
                        "bin_start": 416.79999999999995,
                        "bin_end": 534.4,
                        "count": 0
                      },
                      {
                        "bin_start": 534.4,
                        "bin_end": 652,
                        "count": 0
                      },
                      {
                        "bin_start": 652,
                        "bin_end": 769.5999999999999,
                        "count": 0
                      },
                      {
                        "bin_start": 769.5999999999999,
                        "bin_end": 887.1999999999999,
                        "count": 0
                      },
                      {
                        "bin_start": 887.1999999999999,
                        "bin_end": 1004.8,
                        "count": 0
                      },
                      {
                        "bin_start": 1004.8,
                        "bin_end": 1122.3999999999999,
                        "count": 11
                      },
                      {
                        "bin_start": 1122.3999999999999,
                        "bin_end": 1240,
                        "count": 18
                      }
                    ]
                  }
                },
                {
                  "name": "accountID",
                  "dtype": "object",
                  "stats": {
                    "unique_count": 2,
                    "nan_count": 0,
                    "categories": [
                      {
                        "name": "101-004-31059296-003",
                        "count": 32
                      },
                      {
                        "name": "101-004-31059296-001",
                        "count": 29
                      }
                    ]
                  }
                },
                {
                  "name": "Strategy",
                  "dtype": "object",
                  "stats": {
                    "unique_count": 2,
                    "nan_count": 1,
                    "categories": [
                      {
                        "name": "volume_based_hedge",
                        "count": 31
                      },
                      {
                        "name": "volume_based",
                        "count": 29
                      },
                      {
                        "name": "Missing",
                        "count": 1
                      }
                    ]
                  }
                },
                {
                  "name": "pl",
                  "dtype": "float64",
                  "stats": {
                    "unique_count": 61,
                    "nan_count": 0,
                    "min": "-550.8596",
                    "max": "1184.6955",
                    "histogram": [
                      {
                        "bin_start": -550.8596,
                        "bin_end": -377.30409,
                        "count": 19
                      },
                      {
                        "bin_start": -377.30409,
                        "bin_end": -203.74858,
                        "count": 16
                      },
                      {
                        "bin_start": -203.74858,
                        "bin_end": -30.193070000000034,
                        "count": 4
                      },
                      {
                        "bin_start": -30.193070000000034,
                        "bin_end": 143.36244,
                        "count": 6
                      },
                      {
                        "bin_start": 143.36244,
                        "bin_end": 316.91795,
                        "count": 7
                      },
                      {
                        "bin_start": 316.91795,
                        "bin_end": 490.47345999999993,
                        "count": 1
                      },
                      {
                        "bin_start": 490.47345999999993,
                        "bin_end": 664.0289700000001,
                        "count": 1
                      },
                      {
                        "bin_start": 664.0289700000001,
                        "bin_end": 837.58448,
                        "count": 1
                      },
                      {
                        "bin_start": 837.58448,
                        "bin_end": 1011.1399899999999,
                        "count": 3
                      },
                      {
                        "bin_start": 1011.1399899999999,
                        "bin_end": 1184.6955,
                        "count": 3
                      }
                    ]
                  }
                },
                {
                  "name": "time_tf",
                  "dtype": "datetime64[us, Etc/UTC]",
                  "stats": {
                    "unique_count": 38,
                    "nan_count": 0,
                    "min": "2025-04-08 10:21:00+00:00",
                    "max": "2025-04-08 17:51:00+00:00",
                    "histogram": [
                      {
                        "bin_start": 1744107660000000,
                        "bin_end": 1744110360000000,
                        "count": 3
                      },
                      {
                        "bin_start": 1744110360000000,
                        "bin_end": 1744113060000000,
                        "count": 9
                      },
                      {
                        "bin_start": 1744113060000000,
                        "bin_end": 1744115760000000,
                        "count": 4
                      },
                      {
                        "bin_start": 1744115760000000,
                        "bin_end": 1744118460000000,
                        "count": 4
                      },
                      {
                        "bin_start": 1744118460000000,
                        "bin_end": 1744121160000000,
                        "count": 6
                      },
                      {
                        "bin_start": 1744121160000000,
                        "bin_end": 1744123860000000,
                        "count": 8
                      },
                      {
                        "bin_start": 1744123860000000,
                        "bin_end": 1744126560000000,
                        "count": 10
                      },
                      {
                        "bin_start": 1744126560000000,
                        "bin_end": 1744129260000000,
                        "count": 4
                      },
                      {
                        "bin_start": 1744129260000000,
                        "bin_end": 1744131960000000,
                        "count": 7
                      },
                      {
                        "bin_start": 1744131960000000,
                        "bin_end": 1744134660000000,
                        "count": 6
                      }
                    ]
                  }
                },
                {
                  "name": "order_time",
                  "dtype": "datetime64[us, Etc/UTC]",
                  "stats": {
                    "unique_count": 38,
                    "nan_count": 0,
                    "min": "2025-04-08 10:15:00+00:00",
                    "max": "2025-04-08 17:45:00+00:00",
                    "histogram": [
                      {
                        "bin_start": 1744107300000000,
                        "bin_end": 1744110000000000,
                        "count": 3
                      },
                      {
                        "bin_start": 1744110000000000,
                        "bin_end": 1744112700000000,
                        "count": 9
                      },
                      {
                        "bin_start": 1744112700000000,
                        "bin_end": 1744115400000000,
                        "count": 4
                      },
                      {
                        "bin_start": 1744115400000000,
                        "bin_end": 1744118100000000,
                        "count": 4
                      },
                      {
                        "bin_start": 1744118100000000,
                        "bin_end": 1744120800000000,
                        "count": 6
                      },
                      {
                        "bin_start": 1744120800000000,
                        "bin_end": 1744123500000000,
                        "count": 8
                      },
                      {
                        "bin_start": 1744123500000000,
                        "bin_end": 1744126200000000,
                        "count": 10
                      },
                      {
                        "bin_start": 1744126200000000,
                        "bin_end": 1744128900000000,
                        "count": 4
                      },
                      {
                        "bin_start": 1744128900000000,
                        "bin_end": 1744131600000000,
                        "count": 7
                      },
                      {
                        "bin_start": 1744131600000000,
                        "bin_end": 1744134300000000,
                        "count": 6
                      }
                    ]
                  }
                },
                {
                  "name": "_deepnote_index_column",
                  "dtype": "int64"
                }
              ],
              "rows": [
                {
                  "batchID": 64,
                  "accountID": "101-004-31059296-003",
                  "Strategy": "volume_based_hedge",
                  "pl": 889.4796,
                  "time_tf": "2025-04-08 10:21:00+00:00",
                  "order_time": "2025-04-08 10:15:00+00:00",
                  "_deepnote_index_column": 0
                },
                {
                  "batchID": 70,
                  "accountID": "101-004-31059296-003",
                  "Strategy": "volume_based_hedge",
                  "pl": -425.3835,
                  "time_tf": "2025-04-08 10:36:00+00:00",
                  "order_time": "2025-04-08 10:30:00+00:00",
                  "_deepnote_index_column": 1
                },
                {
                  "batchID": 76,
                  "accountID": "101-004-31059296-003",
                  "Strategy": "volume_based_hedge",
                  "pl": -456.8629,
                  "time_tf": "2025-04-08 10:46:00+00:00",
                  "order_time": "2025-04-08 10:40:00+00:00",
                  "_deepnote_index_column": 2
                },
                {
                  "batchID": 83,
                  "accountID": "101-004-31059296-003",
                  "Strategy": "volume_based_hedge",
                  "pl": 31.1602,
                  "time_tf": "2025-04-08 11:16:00+00:00",
                  "order_time": "2025-04-08 11:10:00+00:00",
                  "_deepnote_index_column": 3
                },
                {
                  "batchID": 87,
                  "accountID": "101-004-31059296-003",
                  "Strategy": "volume_based_hedge",
                  "pl": -298.9971,
                  "time_tf": "2025-04-08 11:21:00+00:00",
                  "order_time": "2025-04-08 11:15:00+00:00",
                  "_deepnote_index_column": 4
                }
              ],
              "type": "dataframe"
            },
            "text/plain": "    batchID             accountID            Strategy        pl  \\\n0        64  101-004-31059296-003  volume_based_hedge  889.4796   \n1        70  101-004-31059296-003  volume_based_hedge -425.3835   \n2        76  101-004-31059296-003  volume_based_hedge -456.8629   \n3        83  101-004-31059296-003  volume_based_hedge   31.1602   \n4        87  101-004-31059296-003  volume_based_hedge -298.9971   \n..      ...                   ...                 ...       ...   \n56     1214  101-004-31059296-001        volume_based -361.7824   \n57     1220  101-004-31059296-001        volume_based  233.6494   \n58     1228  101-004-31059296-001        volume_based  264.7012   \n59     1232  101-004-31059296-001        volume_based -338.1336   \n60     1240  101-004-31059296-001        volume_based -503.1821   \n\n                     time_tf                order_time  \n0  2025-04-08 10:21:00+00:00 2025-04-08 10:15:00+00:00  \n1  2025-04-08 10:36:00+00:00 2025-04-08 10:30:00+00:00  \n2  2025-04-08 10:46:00+00:00 2025-04-08 10:40:00+00:00  \n3  2025-04-08 11:16:00+00:00 2025-04-08 11:10:00+00:00  \n4  2025-04-08 11:21:00+00:00 2025-04-08 11:15:00+00:00  \n..                       ...                       ...  \n56 2025-04-08 16:51:00+00:00 2025-04-08 16:45:00+00:00  \n57 2025-04-08 16:56:00+00:00 2025-04-08 16:50:00+00:00  \n58 2025-04-08 17:36:00+00:00 2025-04-08 17:30:00+00:00  \n59 2025-04-08 17:41:00+00:00 2025-04-08 17:35:00+00:00  \n60 2025-04-08 17:51:00+00:00 2025-04-08 17:45:00+00:00  \n\n[61 rows x 6 columns]",
            "text/html": "<div>\n<style scoped>\n    .dataframe tbody tr th:only-of-type {\n        vertical-align: middle;\n    }\n\n    .dataframe tbody tr th {\n        vertical-align: top;\n    }\n\n    .dataframe thead th {\n        text-align: right;\n    }\n</style>\n<table border=\"1\" class=\"dataframe\">\n  <thead>\n    <tr style=\"text-align: right;\">\n      <th></th>\n      <th>batchID</th>\n      <th>accountID</th>\n      <th>Strategy</th>\n      <th>pl</th>\n      <th>time_tf</th>\n      <th>order_time</th>\n    </tr>\n  </thead>\n  <tbody>\n    <tr>\n      <th>0</th>\n      <td>64</td>\n      <td>101-004-31059296-003</td>\n      <td>volume_based_hedge</td>\n      <td>889.4796</td>\n      <td>2025-04-08 10:21:00+00:00</td>\n      <td>2025-04-08 10:15:00+00:00</td>\n    </tr>\n    <tr>\n      <th>1</th>\n      <td>70</td>\n      <td>101-004-31059296-003</td>\n      <td>volume_based_hedge</td>\n      <td>-425.3835</td>\n      <td>2025-04-08 10:36:00+00:00</td>\n      <td>2025-04-08 10:30:00+00:00</td>\n    </tr>\n    <tr>\n      <th>2</th>\n      <td>76</td>\n      <td>101-004-31059296-003</td>\n      <td>volume_based_hedge</td>\n      <td>-456.8629</td>\n      <td>2025-04-08 10:46:00+00:00</td>\n      <td>2025-04-08 10:40:00+00:00</td>\n    </tr>\n    <tr>\n      <th>3</th>\n      <td>83</td>\n      <td>101-004-31059296-003</td>\n      <td>volume_based_hedge</td>\n      <td>31.1602</td>\n      <td>2025-04-08 11:16:00+00:00</td>\n      <td>2025-04-08 11:10:00+00:00</td>\n    </tr>\n    <tr>\n      <th>4</th>\n      <td>87</td>\n      <td>101-004-31059296-003</td>\n      <td>volume_based_hedge</td>\n      <td>-298.9971</td>\n      <td>2025-04-08 11:21:00+00:00</td>\n      <td>2025-04-08 11:15:00+00:00</td>\n    </tr>\n    <tr>\n      <th>...</th>\n      <td>...</td>\n      <td>...</td>\n      <td>...</td>\n      <td>...</td>\n      <td>...</td>\n      <td>...</td>\n    </tr>\n    <tr>\n      <th>56</th>\n      <td>1214</td>\n      <td>101-004-31059296-001</td>\n      <td>volume_based</td>\n      <td>-361.7824</td>\n      <td>2025-04-08 16:51:00+00:00</td>\n      <td>2025-04-08 16:45:00+00:00</td>\n    </tr>\n    <tr>\n      <th>57</th>\n      <td>1220</td>\n      <td>101-004-31059296-001</td>\n      <td>volume_based</td>\n      <td>233.6494</td>\n      <td>2025-04-08 16:56:00+00:00</td>\n      <td>2025-04-08 16:50:00+00:00</td>\n    </tr>\n    <tr>\n      <th>58</th>\n      <td>1228</td>\n      <td>101-004-31059296-001</td>\n      <td>volume_based</td>\n      <td>264.7012</td>\n      <td>2025-04-08 17:36:00+00:00</td>\n      <td>2025-04-08 17:30:00+00:00</td>\n    </tr>\n    <tr>\n      <th>59</th>\n      <td>1232</td>\n      <td>101-004-31059296-001</td>\n      <td>volume_based</td>\n      <td>-338.1336</td>\n      <td>2025-04-08 17:41:00+00:00</td>\n      <td>2025-04-08 17:35:00+00:00</td>\n    </tr>\n    <tr>\n      <th>60</th>\n      <td>1240</td>\n      <td>101-004-31059296-001</td>\n      <td>volume_based</td>\n      <td>-503.1821</td>\n      <td>2025-04-08 17:51:00+00:00</td>\n      <td>2025-04-08 17:45:00+00:00</td>\n    </tr>\n  </tbody>\n</table>\n<p>61 rows × 6 columns</p>\n</div>"
          },
          "metadata": {}
        }
      ],
      "outputs_reference": null,
      "content_dependencies": null
    },
    {
      "cell_type": "code",
      "metadata": {
        "source_hash": "8cc411ed",
        "execution_start": 1744155531594,
        "execution_millis": 1,
        "deepnote_table_state": {
          "sortBy": [],
          "filters": [],
          "pageSize": 100,
          "pageIndex": 0,
          "columnOrder": [
            "batchID",
            "pl",
            "time",
            "order_time"
          ],
          "hiddenColumnIds": [],
          "columnDisplayNames": [],
          "conditionalFilters": [],
          "cellFormattingRules": [],
          "wrappedTextColumnIds": []
        },
        "execution_context_id": "4871396d-a585-48ac-9423-c662bb426968",
        "deepnote_table_loading": false,
        "cell_id": "20108a0b86604a209ab802917707ba89",
        "deepnote_cell_type": "code"
      },
      "source": "trans_orders.shape",
      "block_group": "3f0ded62d9324fea87eb9fe6c344001e",
      "execution_count": 126,
      "outputs": [
        {
          "output_type": "execute_result",
          "execution_count": 126,
          "data": {
            "text/plain": "(61, 6)"
          },
          "metadata": {}
        }
      ],
      "outputs_reference": null,
      "content_dependencies": null
    },
    {
      "cell_type": "code",
      "metadata": {
        "source_hash": "cd95a79f",
        "execution_start": 1744155976980,
        "execution_millis": 2,
        "execution_context_id": "4871396d-a585-48ac-9423-c662bb426968",
        "cell_id": "baae9f4784b54998899239bc58e5e1e0",
        "deepnote_cell_type": "code"
      },
      "source": "strategy_agg=pd.merge(    \n    trans_orders[trans_orders['accountID']=='101-004-31059296-003'],\n    trans_orders[trans_orders['accountID']=='101-004-31059296-001'],\n    on = 'time_tf')",
      "block_group": "16823fb2ea9f43b2a1aeb9439bcd1814",
      "execution_count": 146,
      "outputs": [],
      "outputs_reference": null,
      "content_dependencies": null
    },
    {
      "cell_type": "code",
      "metadata": {
        "source_hash": "2f720232",
        "execution_start": 1744156034557,
        "execution_millis": 8,
        "execution_context_id": "4871396d-a585-48ac-9423-c662bb426968",
        "cell_id": "e40dbfc910304532983da3a67d72df53",
        "deepnote_cell_type": "code"
      },
      "source": "strategy_agg[(strategy_agg['pl_x']< -0) & (strategy_agg['pl_y']< -0)]",
      "block_group": "a2b648e6035f462da36ebdf2576b3993",
      "execution_count": 152,
      "outputs": [
        {
          "output_type": "execute_result",
          "execution_count": 152,
          "data": {
            "application/vnd.deepnote.dataframe.v3+json": {
              "column_count": 11,
              "row_count": 4,
              "columns": [
                {
                  "name": "batchID_x",
                  "dtype": "int32",
                  "stats": {
                    "unique_count": 4,
                    "nan_count": 0,
                    "min": "153",
                    "max": "281",
                    "histogram": [
                      {
                        "bin_start": 153,
                        "bin_end": 165.8,
                        "count": 2
                      },
                      {
                        "bin_start": 165.8,
                        "bin_end": 178.6,
                        "count": 0
                      },
                      {
                        "bin_start": 178.6,
                        "bin_end": 191.4,
                        "count": 0
                      },
                      {
                        "bin_start": 191.4,
                        "bin_end": 204.2,
                        "count": 0
                      },
                      {
                        "bin_start": 204.2,
                        "bin_end": 217,
                        "count": 0
                      },
                      {
                        "bin_start": 217,
                        "bin_end": 229.8,
                        "count": 0
                      },
                      {
                        "bin_start": 229.8,
                        "bin_end": 242.60000000000002,
                        "count": 0
                      },
                      {
                        "bin_start": 242.60000000000002,
                        "bin_end": 255.4,
                        "count": 0
                      },
                      {
                        "bin_start": 255.4,
                        "bin_end": 268.2,
                        "count": 1
                      },
                      {
                        "bin_start": 268.2,
                        "bin_end": 281,
                        "count": 1
                      }
                    ]
                  }
                },
                {
                  "name": "accountID_x",
                  "dtype": "object",
                  "stats": {
                    "unique_count": 1,
                    "nan_count": 0,
                    "categories": [
                      {
                        "name": "101-004-31059296-003",
                        "count": 4
                      }
                    ]
                  }
                },
                {
                  "name": "Strategy_x",
                  "dtype": "object",
                  "stats": {
                    "unique_count": 1,
                    "nan_count": 0,
                    "categories": [
                      {
                        "name": "volume_based_hedge",
                        "count": 4
                      }
                    ]
                  }
                },
                {
                  "name": "pl_x",
                  "dtype": "float64",
                  "stats": {
                    "unique_count": 4,
                    "nan_count": 0,
                    "min": "-204.3985",
                    "max": "-55.0616",
                    "histogram": [
                      {
                        "bin_start": -204.3985,
                        "bin_end": -189.46481,
                        "count": 1
                      },
                      {
                        "bin_start": -189.46481,
                        "bin_end": -174.53112000000002,
                        "count": 0
                      },
                      {
                        "bin_start": -174.53112000000002,
                        "bin_end": -159.59743,
                        "count": 0
                      },
                      {
                        "bin_start": -159.59743,
                        "bin_end": -144.66374000000002,
                        "count": 1
                      },
                      {
                        "bin_start": -144.66374000000002,
                        "bin_end": -129.73005,
                        "count": 0
                      },
                      {
                        "bin_start": -129.73005,
                        "bin_end": -114.79635999999999,
                        "count": 0
                      },
                      {
                        "bin_start": -114.79635999999999,
                        "bin_end": -99.86267,
                        "count": 1
                      },
                      {
                        "bin_start": -99.86267,
                        "bin_end": -84.92898,
                        "count": 0
                      },
                      {
                        "bin_start": -84.92898,
                        "bin_end": -69.99528999999998,
                        "count": 0
                      },
                      {
                        "bin_start": -69.99528999999998,
                        "bin_end": -55.0616,
                        "count": 1
                      }
                    ]
                  }
                },
                {
                  "name": "time_tf",
                  "dtype": "datetime64[us, Etc/UTC]",
                  "stats": {
                    "unique_count": 4,
                    "nan_count": 0,
                    "min": "2025-04-08 13:46:00+00:00",
                    "max": "2025-04-08 17:41:00+00:00",
                    "histogram": [
                      {
                        "bin_start": 1744119960000000,
                        "bin_end": 1744121370000000,
                        "count": 1
                      },
                      {
                        "bin_start": 1744121370000000,
                        "bin_end": 1744122780000000,
                        "count": 1
                      },
                      {
                        "bin_start": 1744122780000000,
                        "bin_end": 1744124190000000,
                        "count": 0
                      },
                      {
                        "bin_start": 1744124190000000,
                        "bin_end": 1744125600000000,
                        "count": 0
                      },
                      {
                        "bin_start": 1744125600000000,
                        "bin_end": 1744127010000000,
                        "count": 0
                      },
                      {
                        "bin_start": 1744127010000000,
                        "bin_end": 1744128420000000,
                        "count": 0
                      },
                      {
                        "bin_start": 1744128420000000,
                        "bin_end": 1744129830000000,
                        "count": 0
                      },
                      {
                        "bin_start": 1744129830000000,
                        "bin_end": 1744131240000000,
                        "count": 1
                      },
                      {
                        "bin_start": 1744131240000000,
                        "bin_end": 1744132650000000,
                        "count": 0
                      },
                      {
                        "bin_start": 1744132650000000,
                        "bin_end": 1744134060000000,
                        "count": 1
                      }
                    ]
                  }
                },
                {
                  "name": "order_time_x",
                  "dtype": "datetime64[us, Etc/UTC]",
                  "stats": {
                    "unique_count": 4,
                    "nan_count": 0,
                    "min": "2025-04-08 13:40:00+00:00",
                    "max": "2025-04-08 17:35:00+00:00",
                    "histogram": [
                      {
                        "bin_start": 1744119600000000,
                        "bin_end": 1744121010000000,
                        "count": 1
                      },
                      {
                        "bin_start": 1744121010000000,
                        "bin_end": 1744122420000000,
                        "count": 1
                      },
                      {
                        "bin_start": 1744122420000000,
                        "bin_end": 1744123830000000,
                        "count": 0
                      },
                      {
                        "bin_start": 1744123830000000,
                        "bin_end": 1744125240000000,
                        "count": 0
                      },
                      {
                        "bin_start": 1744125240000000,
                        "bin_end": 1744126650000000,
                        "count": 0
                      },
                      {
                        "bin_start": 1744126650000000,
                        "bin_end": 1744128060000000,
                        "count": 0
                      },
                      {
                        "bin_start": 1744128060000000,
                        "bin_end": 1744129470000000,
                        "count": 0
                      },
                      {
                        "bin_start": 1744129470000000,
                        "bin_end": 1744130880000000,
                        "count": 1
                      },
                      {
                        "bin_start": 1744130880000000,
                        "bin_end": 1744132290000000,
                        "count": 0
                      },
                      {
                        "bin_start": 1744132290000000,
                        "bin_end": 1744133700000000,
                        "count": 1
                      }
                    ]
                  }
                },
                {
                  "name": "batchID_y",
                  "dtype": "int32",
                  "stats": {
                    "unique_count": 4,
                    "nan_count": 0,
                    "min": "1122",
                    "max": "1232",
                    "histogram": [
                      {
                        "bin_start": 1122,
                        "bin_end": 1133,
                        "count": 1
                      },
                      {
                        "bin_start": 1133,
                        "bin_end": 1144,
                        "count": 1
                      },
                      {
                        "bin_start": 1144,
                        "bin_end": 1155,
                        "count": 0
                      },
                      {
                        "bin_start": 1155,
                        "bin_end": 1166,
                        "count": 0
                      },
                      {
                        "bin_start": 1166,
                        "bin_end": 1177,
                        "count": 0
                      },
                      {
                        "bin_start": 1177,
                        "bin_end": 1188,
                        "count": 0
                      },
                      {
                        "bin_start": 1188,
                        "bin_end": 1199,
                        "count": 0
                      },
                      {
                        "bin_start": 1199,
                        "bin_end": 1210,
                        "count": 0
                      },
                      {
                        "bin_start": 1210,
                        "bin_end": 1221,
                        "count": 1
                      },
                      {
                        "bin_start": 1221,
                        "bin_end": 1232,
                        "count": 1
                      }
                    ]
                  }
                },
                {
                  "name": "accountID_y",
                  "dtype": "object",
                  "stats": {
                    "unique_count": 1,
                    "nan_count": 0,
                    "categories": [
                      {
                        "name": "101-004-31059296-001",
                        "count": 4
                      }
                    ]
                  }
                },
                {
                  "name": "Strategy_y",
                  "dtype": "object",
                  "stats": {
                    "unique_count": 1,
                    "nan_count": 0,
                    "categories": [
                      {
                        "name": "volume_based",
                        "count": 4
                      }
                    ]
                  }
                },
                {
                  "name": "pl_y",
                  "dtype": "float64",
                  "stats": {
                    "unique_count": 4,
                    "nan_count": 0,
                    "min": "-361.7824",
                    "max": "-204.3769",
                    "histogram": [
                      {
                        "bin_start": -361.7824,
                        "bin_end": -346.04185,
                        "count": 1
                      },
                      {
                        "bin_start": -346.04185,
                        "bin_end": -330.30129999999997,
                        "count": 1
                      },
                      {
                        "bin_start": -330.30129999999997,
                        "bin_end": -314.56075,
                        "count": 0
                      },
                      {
                        "bin_start": -314.56075,
                        "bin_end": -298.8202,
                        "count": 1
                      },
                      {
                        "bin_start": -298.8202,
                        "bin_end": -283.07965,
                        "count": 0
                      },
                      {
                        "bin_start": -283.07965,
                        "bin_end": -267.33910000000003,
                        "count": 0
                      },
                      {
                        "bin_start": -267.33910000000003,
                        "bin_end": -251.59855,
                        "count": 0
                      },
                      {
                        "bin_start": -251.59855,
                        "bin_end": -235.858,
                        "count": 0
                      },
                      {
                        "bin_start": -235.858,
                        "bin_end": -220.11745000000002,
                        "count": 0
                      },
                      {
                        "bin_start": -220.11745000000002,
                        "bin_end": -204.3769,
                        "count": 1
                      }
                    ]
                  }
                },
                {
                  "name": "order_time_y",
                  "dtype": "datetime64[us, Etc/UTC]",
                  "stats": {
                    "unique_count": 4,
                    "nan_count": 0,
                    "min": "2025-04-08 13:40:00+00:00",
                    "max": "2025-04-08 17:35:00+00:00",
                    "histogram": [
                      {
                        "bin_start": 1744119600000000,
                        "bin_end": 1744121010000000,
                        "count": 1
                      },
                      {
                        "bin_start": 1744121010000000,
                        "bin_end": 1744122420000000,
                        "count": 1
                      },
                      {
                        "bin_start": 1744122420000000,
                        "bin_end": 1744123830000000,
                        "count": 0
                      },
                      {
                        "bin_start": 1744123830000000,
                        "bin_end": 1744125240000000,
                        "count": 0
                      },
                      {
                        "bin_start": 1744125240000000,
                        "bin_end": 1744126650000000,
                        "count": 0
                      },
                      {
                        "bin_start": 1744126650000000,
                        "bin_end": 1744128060000000,
                        "count": 0
                      },
                      {
                        "bin_start": 1744128060000000,
                        "bin_end": 1744129470000000,
                        "count": 0
                      },
                      {
                        "bin_start": 1744129470000000,
                        "bin_end": 1744130880000000,
                        "count": 1
                      },
                      {
                        "bin_start": 1744130880000000,
                        "bin_end": 1744132290000000,
                        "count": 0
                      },
                      {
                        "bin_start": 1744132290000000,
                        "bin_end": 1744133700000000,
                        "count": 1
                      }
                    ]
                  }
                },
                {
                  "name": "_deepnote_index_column",
                  "dtype": "int64"
                }
              ],
              "rows": [
                {
                  "batchID_x": 153,
                  "accountID_x": "101-004-31059296-003",
                  "Strategy_x": "volume_based_hedge",
                  "pl_x": -55.0616,
                  "time_tf": "2025-04-08 13:46:00+00:00",
                  "order_time_x": "2025-04-08 13:40:00+00:00",
                  "batchID_y": 1122,
                  "accountID_y": "101-004-31059296-001",
                  "Strategy_y": "volume_based",
                  "pl_y": -298.8719,
                  "order_time_y": "2025-04-08 13:40:00+00:00",
                  "_deepnote_index_column": 7
                },
                {
                  "batchID_x": 165,
                  "accountID_x": "101-004-31059296-003",
                  "Strategy_x": "volume_based_hedge",
                  "pl_x": -204.3985,
                  "time_tf": "2025-04-08 14:11:00+00:00",
                  "order_time_x": "2025-04-08 14:05:00+00:00",
                  "batchID_y": 1134,
                  "accountID_y": "101-004-31059296-001",
                  "Strategy_y": "volume_based",
                  "pl_y": -204.3769,
                  "order_time_y": "2025-04-08 14:05:00+00:00",
                  "_deepnote_index_column": 9
                },
                {
                  "batchID_x": 263,
                  "accountID_x": "101-004-31059296-003",
                  "Strategy_x": "volume_based_hedge",
                  "pl_x": -110.1288,
                  "time_tf": "2025-04-08 16:51:00+00:00",
                  "order_time_x": "2025-04-08 16:45:00+00:00",
                  "batchID_y": 1214,
                  "accountID_y": "101-004-31059296-001",
                  "Strategy_y": "volume_based",
                  "pl_y": -361.7824,
                  "order_time_y": "2025-04-08 16:45:00+00:00",
                  "_deepnote_index_column": 18
                },
                {
                  "batchID_x": 281,
                  "accountID_x": "101-004-31059296-003",
                  "Strategy_x": "volume_based_hedge",
                  "pl_x": -157.2985,
                  "time_tf": "2025-04-08 17:41:00+00:00",
                  "order_time_x": "2025-04-08 17:35:00+00:00",
                  "batchID_y": 1232,
                  "accountID_y": "101-004-31059296-001",
                  "Strategy_y": "volume_based",
                  "pl_y": -338.1336,
                  "order_time_y": "2025-04-08 17:35:00+00:00",
                  "_deepnote_index_column": 21
                }
              ],
              "type": "dataframe"
            },
            "text/plain": "    batchID_x           accountID_x          Strategy_x      pl_x  \\\n7         153  101-004-31059296-003  volume_based_hedge  -55.0616   \n9         165  101-004-31059296-003  volume_based_hedge -204.3985   \n18        263  101-004-31059296-003  volume_based_hedge -110.1288   \n21        281  101-004-31059296-003  volume_based_hedge -157.2985   \n\n                     time_tf              order_time_x  batchID_y  \\\n7  2025-04-08 13:46:00+00:00 2025-04-08 13:40:00+00:00       1122   \n9  2025-04-08 14:11:00+00:00 2025-04-08 14:05:00+00:00       1134   \n18 2025-04-08 16:51:00+00:00 2025-04-08 16:45:00+00:00       1214   \n21 2025-04-08 17:41:00+00:00 2025-04-08 17:35:00+00:00       1232   \n\n             accountID_y    Strategy_y      pl_y              order_time_y  \n7   101-004-31059296-001  volume_based -298.8719 2025-04-08 13:40:00+00:00  \n9   101-004-31059296-001  volume_based -204.3769 2025-04-08 14:05:00+00:00  \n18  101-004-31059296-001  volume_based -361.7824 2025-04-08 16:45:00+00:00  \n21  101-004-31059296-001  volume_based -338.1336 2025-04-08 17:35:00+00:00  ",
            "text/html": "<div>\n<style scoped>\n    .dataframe tbody tr th:only-of-type {\n        vertical-align: middle;\n    }\n\n    .dataframe tbody tr th {\n        vertical-align: top;\n    }\n\n    .dataframe thead th {\n        text-align: right;\n    }\n</style>\n<table border=\"1\" class=\"dataframe\">\n  <thead>\n    <tr style=\"text-align: right;\">\n      <th></th>\n      <th>batchID_x</th>\n      <th>accountID_x</th>\n      <th>Strategy_x</th>\n      <th>pl_x</th>\n      <th>time_tf</th>\n      <th>order_time_x</th>\n      <th>batchID_y</th>\n      <th>accountID_y</th>\n      <th>Strategy_y</th>\n      <th>pl_y</th>\n      <th>order_time_y</th>\n    </tr>\n  </thead>\n  <tbody>\n    <tr>\n      <th>7</th>\n      <td>153</td>\n      <td>101-004-31059296-003</td>\n      <td>volume_based_hedge</td>\n      <td>-55.0616</td>\n      <td>2025-04-08 13:46:00+00:00</td>\n      <td>2025-04-08 13:40:00+00:00</td>\n      <td>1122</td>\n      <td>101-004-31059296-001</td>\n      <td>volume_based</td>\n      <td>-298.8719</td>\n      <td>2025-04-08 13:40:00+00:00</td>\n    </tr>\n    <tr>\n      <th>9</th>\n      <td>165</td>\n      <td>101-004-31059296-003</td>\n      <td>volume_based_hedge</td>\n      <td>-204.3985</td>\n      <td>2025-04-08 14:11:00+00:00</td>\n      <td>2025-04-08 14:05:00+00:00</td>\n      <td>1134</td>\n      <td>101-004-31059296-001</td>\n      <td>volume_based</td>\n      <td>-204.3769</td>\n      <td>2025-04-08 14:05:00+00:00</td>\n    </tr>\n    <tr>\n      <th>18</th>\n      <td>263</td>\n      <td>101-004-31059296-003</td>\n      <td>volume_based_hedge</td>\n      <td>-110.1288</td>\n      <td>2025-04-08 16:51:00+00:00</td>\n      <td>2025-04-08 16:45:00+00:00</td>\n      <td>1214</td>\n      <td>101-004-31059296-001</td>\n      <td>volume_based</td>\n      <td>-361.7824</td>\n      <td>2025-04-08 16:45:00+00:00</td>\n    </tr>\n    <tr>\n      <th>21</th>\n      <td>281</td>\n      <td>101-004-31059296-003</td>\n      <td>volume_based_hedge</td>\n      <td>-157.2985</td>\n      <td>2025-04-08 17:41:00+00:00</td>\n      <td>2025-04-08 17:35:00+00:00</td>\n      <td>1232</td>\n      <td>101-004-31059296-001</td>\n      <td>volume_based</td>\n      <td>-338.1336</td>\n      <td>2025-04-08 17:35:00+00:00</td>\n    </tr>\n  </tbody>\n</table>\n</div>"
          },
          "metadata": {}
        }
      ],
      "outputs_reference": null,
      "content_dependencies": null
    },
    {
      "cell_type": "code",
      "metadata": {
        "source_hash": "cce5c3df",
        "execution_start": 1744156453519,
        "execution_millis": 2,
        "deepnote_table_state": {
          "sortBy": [
            {
              "id": "time_tf",
              "type": "asc"
            }
          ],
          "filters": [],
          "pageSize": 100,
          "pageIndex": 0,
          "columnOrder": [
            "batchID_x",
            "accountID_x",
            "Strategy_x",
            "pl_x",
            "time_tf",
            "order_time_x",
            "batchID_y",
            "accountID_y",
            "Strategy_y",
            "pl_y",
            "order_time_y"
          ],
          "hiddenColumnIds": [],
          "columnDisplayNames": [],
          "conditionalFilters": [],
          "cellFormattingRules": [],
          "wrappedTextColumnIds": []
        },
        "execution_context_id": "4871396d-a585-48ac-9423-c662bb426968",
        "deepnote_table_loading": false,
        "cell_id": "ae159965b311400381f7d4e321808cb0",
        "deepnote_cell_type": "code"
      },
      "source": "strategy_agg[strategy_agg['time_tf'].dt.date == strategy_agg['time_tf'].dt.date.max()]",
      "block_group": "1a73492c6bd24d87ba56cba82802309b",
      "execution_count": 192,
      "outputs": [
        {
          "output_type": "execute_result",
          "execution_count": 194,
          "data": {
            "application/vnd.deepnote.dataframe.v3+json": {
              "column_count": 11,
              "row_count": 23,
              "columns": [
                {
                  "name": "batchID_x",
                  "dtype": "int32",
                  "stats": {
                    "unique_count": 23,
                    "nan_count": 0,
                    "min": "83",
                    "max": "287",
                    "histogram": [
                      {
                        "bin_start": 83,
                        "bin_end": 103.4,
                        "count": 4
                      },
                      {
                        "bin_start": 103.4,
                        "bin_end": 123.8,
                        "count": 1
                      },
                      {
                        "bin_start": 123.8,
                        "bin_end": 144.2,
                        "count": 1
                      },
                      {
                        "bin_start": 144.2,
                        "bin_end": 164.6,
                        "count": 3
                      },
                      {
                        "bin_start": 164.6,
                        "bin_end": 185,
                        "count": 4
                      },
                      {
                        "bin_start": 185,
                        "bin_end": 205.39999999999998,
                        "count": 2
                      },
                      {
                        "bin_start": 205.39999999999998,
                        "bin_end": 225.79999999999998,
                        "count": 1
                      },
                      {
                        "bin_start": 225.79999999999998,
                        "bin_end": 246.2,
                        "count": 1
                      },
                      {
                        "bin_start": 246.2,
                        "bin_end": 266.6,
                        "count": 2
                      },
                      {
                        "bin_start": 266.6,
                        "bin_end": 287,
                        "count": 4
                      }
                    ]
                  }
                },
                {
                  "name": "accountID_x",
                  "dtype": "object",
                  "stats": {
                    "unique_count": 1,
                    "nan_count": 0,
                    "categories": [
                      {
                        "name": "101-004-31059296-003",
                        "count": 23
                      }
                    ]
                  }
                },
                {
                  "name": "Strategy_x",
                  "dtype": "object",
                  "stats": {
                    "unique_count": 1,
                    "nan_count": 0,
                    "categories": [
                      {
                        "name": "volume_based_hedge",
                        "count": 23
                      }
                    ]
                  }
                },
                {
                  "name": "pl_x",
                  "dtype": "float64",
                  "stats": {
                    "unique_count": 23,
                    "nan_count": 0,
                    "min": "-550.8596",
                    "max": "1167.9272",
                    "histogram": [
                      {
                        "bin_start": -550.8596,
                        "bin_end": -378.98091999999997,
                        "count": 4
                      },
                      {
                        "bin_start": -378.98091999999997,
                        "bin_end": -207.10224,
                        "count": 4
                      },
                      {
                        "bin_start": -207.10224,
                        "bin_end": -35.22356000000002,
                        "count": 4
                      },
                      {
                        "bin_start": -35.22356000000002,
                        "bin_end": 136.65512,
                        "count": 4
                      },
                      {
                        "bin_start": 136.65512,
                        "bin_end": 308.53380000000004,
                        "count": 3
                      },
                      {
                        "bin_start": 308.53380000000004,
                        "bin_end": 480.41247999999996,
                        "count": 1
                      },
                      {
                        "bin_start": 480.41247999999996,
                        "bin_end": 652.29116,
                        "count": 0
                      },
                      {
                        "bin_start": 652.29116,
                        "bin_end": 824.16984,
                        "count": 1
                      },
                      {
                        "bin_start": 824.16984,
                        "bin_end": 996.04852,
                        "count": 1
                      },
                      {
                        "bin_start": 996.04852,
                        "bin_end": 1167.9272,
                        "count": 1
                      }
                    ]
                  }
                },
                {
                  "name": "time_tf",
                  "dtype": "datetime64[us, Etc/UTC]",
                  "stats": {
                    "unique_count": 23,
                    "nan_count": 0,
                    "min": "2025-04-08 11:16:00+00:00",
                    "max": "2025-04-08 17:51:00+00:00",
                    "histogram": [
                      {
                        "bin_start": 1744110960000000,
                        "bin_end": 1744113330000000,
                        "count": 4
                      },
                      {
                        "bin_start": 1744113330000000,
                        "bin_end": 1744115700000000,
                        "count": 1
                      },
                      {
                        "bin_start": 1744115700000000,
                        "bin_end": 1744118070000000,
                        "count": 1
                      },
                      {
                        "bin_start": 1744118070000000,
                        "bin_end": 1744120440000000,
                        "count": 2
                      },
                      {
                        "bin_start": 1744120440000000,
                        "bin_end": 1744122810000000,
                        "count": 5
                      },
                      {
                        "bin_start": 1744122810000000,
                        "bin_end": 1744125180000000,
                        "count": 2
                      },
                      {
                        "bin_start": 1744125180000000,
                        "bin_end": 1744127550000000,
                        "count": 1
                      },
                      {
                        "bin_start": 1744127550000000,
                        "bin_end": 1744129920000000,
                        "count": 1
                      },
                      {
                        "bin_start": 1744129920000000,
                        "bin_end": 1744132290000000,
                        "count": 3
                      },
                      {
                        "bin_start": 1744132290000000,
                        "bin_end": 1744134660000000,
                        "count": 3
                      }
                    ]
                  }
                },
                {
                  "name": "order_time_x",
                  "dtype": "datetime64[us, Etc/UTC]",
                  "stats": {
                    "unique_count": 23,
                    "nan_count": 0,
                    "min": "2025-04-08 11:10:00+00:00",
                    "max": "2025-04-08 17:45:00+00:00",
                    "histogram": [
                      {
                        "bin_start": 1744110600000000,
                        "bin_end": 1744112970000000,
                        "count": 4
                      },
                      {
                        "bin_start": 1744112970000000,
                        "bin_end": 1744115340000000,
                        "count": 1
                      },
                      {
                        "bin_start": 1744115340000000,
                        "bin_end": 1744117710000000,
                        "count": 1
                      },
                      {
                        "bin_start": 1744117710000000,
                        "bin_end": 1744120080000000,
                        "count": 2
                      },
                      {
                        "bin_start": 1744120080000000,
                        "bin_end": 1744122450000000,
                        "count": 5
                      },
                      {
                        "bin_start": 1744122450000000,
                        "bin_end": 1744124820000000,
                        "count": 2
                      },
                      {
                        "bin_start": 1744124820000000,
                        "bin_end": 1744127190000000,
                        "count": 1
                      },
                      {
                        "bin_start": 1744127190000000,
                        "bin_end": 1744129560000000,
                        "count": 1
                      },
                      {
                        "bin_start": 1744129560000000,
                        "bin_end": 1744131930000000,
                        "count": 3
                      },
                      {
                        "bin_start": 1744131930000000,
                        "bin_end": 1744134300000000,
                        "count": 3
                      }
                    ]
                  }
                },
                {
                  "name": "batchID_y",
                  "dtype": "int32",
                  "stats": {
                    "unique_count": 23,
                    "nan_count": 0,
                    "min": "1049",
                    "max": "1240",
                    "histogram": [
                      {
                        "bin_start": 1049,
                        "bin_end": 1068.1,
                        "count": 4
                      },
                      {
                        "bin_start": 1068.1,
                        "bin_end": 1087.2,
                        "count": 1
                      },
                      {
                        "bin_start": 1087.2,
                        "bin_end": 1106.3,
                        "count": 1
                      },
                      {
                        "bin_start": 1106.3,
                        "bin_end": 1125.4,
                        "count": 2
                      },
                      {
                        "bin_start": 1125.4,
                        "bin_end": 1144.5,
                        "count": 3
                      },
                      {
                        "bin_start": 1144.5,
                        "bin_end": 1163.6,
                        "count": 2
                      },
                      {
                        "bin_start": 1163.6,
                        "bin_end": 1182.7,
                        "count": 2
                      },
                      {
                        "bin_start": 1182.7,
                        "bin_end": 1201.8,
                        "count": 1
                      },
                      {
                        "bin_start": 1201.8,
                        "bin_end": 1220.9,
                        "count": 4
                      },
                      {
                        "bin_start": 1220.9,
                        "bin_end": 1240,
                        "count": 3
                      }
                    ]
                  }
                },
                {
                  "name": "accountID_y",
                  "dtype": "object",
                  "stats": {
                    "unique_count": 1,
                    "nan_count": 0,
                    "categories": [
                      {
                        "name": "101-004-31059296-001",
                        "count": 23
                      }
                    ]
                  }
                },
                {
                  "name": "Strategy_y",
                  "dtype": "object",
                  "stats": {
                    "unique_count": 1,
                    "nan_count": 0,
                    "categories": [
                      {
                        "name": "volume_based",
                        "count": 23
                      }
                    ]
                  }
                },
                {
                  "name": "pl_y",
                  "dtype": "float64",
                  "stats": {
                    "unique_count": 23,
                    "nan_count": 0,
                    "min": "-534.7104",
                    "max": "1184.6955",
                    "histogram": [
                      {
                        "bin_start": -534.7104,
                        "bin_end": -362.76981,
                        "count": 7
                      },
                      {
                        "bin_start": -362.76981,
                        "bin_end": -190.82922000000002,
                        "count": 8
                      },
                      {
                        "bin_start": -190.82922000000002,
                        "bin_end": -18.888630000000035,
                        "count": 0
                      },
                      {
                        "bin_start": -18.888630000000035,
                        "bin_end": 153.05196,
                        "count": 1
                      },
                      {
                        "bin_start": 153.05196,
                        "bin_end": 324.99255000000005,
                        "count": 4
                      },
                      {
                        "bin_start": 324.99255000000005,
                        "bin_end": 496.93314,
                        "count": 0
                      },
                      {
                        "bin_start": 496.93314,
                        "bin_end": 668.8737300000001,
                        "count": 0
                      },
                      {
                        "bin_start": 668.8737300000001,
                        "bin_end": 840.8143200000001,
                        "count": 0
                      },
                      {
                        "bin_start": 840.8143200000001,
                        "bin_end": 1012.75491,
                        "count": 1
                      },
                      {
                        "bin_start": 1012.75491,
                        "bin_end": 1184.6955,
                        "count": 2
                      }
                    ]
                  }
                },
                {
                  "name": "order_time_y",
                  "dtype": "datetime64[us, Etc/UTC]",
                  "stats": {
                    "unique_count": 23,
                    "nan_count": 0,
                    "min": "2025-04-08 11:10:00+00:00",
                    "max": "2025-04-08 17:45:00+00:00",
                    "histogram": [
                      {
                        "bin_start": 1744110600000000,
                        "bin_end": 1744112970000000,
                        "count": 4
                      },
                      {
                        "bin_start": 1744112970000000,
                        "bin_end": 1744115340000000,
                        "count": 1
                      },
                      {
                        "bin_start": 1744115340000000,
                        "bin_end": 1744117710000000,
                        "count": 1
                      },
                      {
                        "bin_start": 1744117710000000,
                        "bin_end": 1744120080000000,
                        "count": 2
                      },
                      {
                        "bin_start": 1744120080000000,
                        "bin_end": 1744122450000000,
                        "count": 5
                      },
                      {
                        "bin_start": 1744122450000000,
                        "bin_end": 1744124820000000,
                        "count": 2
                      },
                      {
                        "bin_start": 1744124820000000,
                        "bin_end": 1744127190000000,
                        "count": 1
                      },
                      {
                        "bin_start": 1744127190000000,
                        "bin_end": 1744129560000000,
                        "count": 1
                      },
                      {
                        "bin_start": 1744129560000000,
                        "bin_end": 1744131930000000,
                        "count": 3
                      },
                      {
                        "bin_start": 1744131930000000,
                        "bin_end": 1744134300000000,
                        "count": 3
                      }
                    ]
                  }
                },
                {
                  "name": "_deepnote_index_column",
                  "dtype": "int64"
                }
              ],
              "rows": [
                {
                  "batchID_x": 83,
                  "accountID_x": "101-004-31059296-003",
                  "Strategy_x": "volume_based_hedge",
                  "pl_x": 31.1602,
                  "time_tf": "2025-04-08 11:16:00+00:00",
                  "order_time_x": "2025-04-08 11:10:00+00:00",
                  "batchID_y": 1049,
                  "accountID_y": "101-004-31059296-001",
                  "Strategy_y": "volume_based",
                  "pl_y": -519.1095,
                  "order_time_y": "2025-04-08 11:10:00+00:00",
                  "_deepnote_index_column": 0
                },
                {
                  "batchID_x": 87,
                  "accountID_x": "101-004-31059296-003",
                  "Strategy_x": "volume_based_hedge",
                  "pl_x": -298.9971,
                  "time_tf": "2025-04-08 11:21:00+00:00",
                  "order_time_x": "2025-04-08 11:15:00+00:00",
                  "batchID_y": 1055,
                  "accountID_y": "101-004-31059296-001",
                  "Strategy_y": "volume_based",
                  "pl_y": 1169.0982,
                  "order_time_y": "2025-04-08 11:15:00+00:00",
                  "_deepnote_index_column": 1
                },
                {
                  "batchID_x": 91,
                  "accountID_x": "101-004-31059296-003",
                  "Strategy_x": "volume_based_hedge",
                  "pl_x": -472.2097,
                  "time_tf": "2025-04-08 11:26:00+00:00",
                  "order_time_x": "2025-04-08 11:20:00+00:00",
                  "batchID_y": 1059,
                  "accountID_y": "101-004-31059296-001",
                  "Strategy_y": "volume_based",
                  "pl_y": 1184.6955,
                  "order_time_y": "2025-04-08 11:20:00+00:00",
                  "_deepnote_index_column": 2
                },
                {
                  "batchID_x": 101,
                  "accountID_x": "101-004-31059296-003",
                  "Strategy_x": "volume_based_hedge",
                  "pl_x": -377.9202,
                  "time_tf": "2025-04-08 11:31:00+00:00",
                  "order_time_x": "2025-04-08 11:25:00+00:00",
                  "batchID_y": 1063,
                  "accountID_y": "101-004-31059296-001",
                  "Strategy_y": "volume_based",
                  "pl_y": 77.9152,
                  "order_time_y": "2025-04-08 11:25:00+00:00",
                  "_deepnote_index_column": 3
                },
                {
                  "batchID_x": 113,
                  "accountID_x": "101-004-31059296-003",
                  "Strategy_x": "volume_based_hedge",
                  "pl_x": -361.6876,
                  "time_tf": "2025-04-08 11:56:00+00:00",
                  "order_time_x": "2025-04-08 11:50:00+00:00",
                  "batchID_y": 1076,
                  "accountID_y": "101-004-31059296-001",
                  "Strategy_y": "volume_based",
                  "pl_y": 871.8033,
                  "order_time_y": "2025-04-08 11:50:00+00:00",
                  "_deepnote_index_column": 4
                },
                {
                  "batchID_x": 135,
                  "accountID_x": "101-004-31059296-003",
                  "Strategy_x": "volume_based_hedge",
                  "pl_x": -251.7712,
                  "time_tf": "2025-04-08 12:51:00+00:00",
                  "order_time_x": "2025-04-08 12:45:00+00:00",
                  "batchID_y": 1106,
                  "accountID_y": "101-004-31059296-001",
                  "Strategy_y": "volume_based",
                  "pl_y": 186.8545,
                  "order_time_y": "2025-04-08 12:45:00+00:00",
                  "_deepnote_index_column": 5
                },
                {
                  "batchID_x": 147,
                  "accountID_x": "101-004-31059296-003",
                  "Strategy_x": "volume_based_hedge",
                  "pl_x": 654.0392,
                  "time_tf": "2025-04-08 13:36:00+00:00",
                  "order_time_x": "2025-04-08 13:30:00+00:00",
                  "batchID_y": 1116,
                  "accountID_y": "101-004-31059296-001",
                  "Strategy_y": "volume_based",
                  "pl_y": -440.3118,
                  "order_time_y": "2025-04-08 13:30:00+00:00",
                  "_deepnote_index_column": 6
                },
                {
                  "batchID_x": 153,
                  "accountID_x": "101-004-31059296-003",
                  "Strategy_x": "volume_based_hedge",
                  "pl_x": -55.0616,
                  "time_tf": "2025-04-08 13:46:00+00:00",
                  "order_time_x": "2025-04-08 13:40:00+00:00",
                  "batchID_y": 1122,
                  "accountID_y": "101-004-31059296-001",
                  "Strategy_y": "volume_based",
                  "pl_y": -298.8719,
                  "order_time_y": "2025-04-08 13:40:00+00:00",
                  "_deepnote_index_column": 7
                },
                {
                  "batchID_x": 159,
                  "accountID_x": "101-004-31059296-003",
                  "Strategy_x": "volume_based_hedge",
                  "pl_x": 1167.9272,
                  "time_tf": "2025-04-08 13:56:00+00:00",
                  "order_time_x": "2025-04-08 13:50:00+00:00",
                  "batchID_y": 1128,
                  "accountID_y": "101-004-31059296-001",
                  "Strategy_y": "volume_based",
                  "pl_y": -392.9173,
                  "order_time_y": "2025-04-08 13:50:00+00:00",
                  "_deepnote_index_column": 8
                },
                {
                  "batchID_x": 165,
                  "accountID_x": "101-004-31059296-003",
                  "Strategy_x": "volume_based_hedge",
                  "pl_x": -204.3985,
                  "time_tf": "2025-04-08 14:11:00+00:00",
                  "order_time_x": "2025-04-08 14:05:00+00:00",
                  "batchID_y": 1134,
                  "accountID_y": "101-004-31059296-001",
                  "Strategy_y": "volume_based",
                  "pl_y": -204.3769,
                  "order_time_y": "2025-04-08 14:05:00+00:00",
                  "_deepnote_index_column": 9
                },
                {
                  "batchID_x": 171,
                  "accountID_x": "101-004-31059296-003",
                  "Strategy_x": "volume_based_hedge",
                  "pl_x": 31.1228,
                  "time_tf": "2025-04-08 14:16:00+00:00",
                  "order_time_x": "2025-04-08 14:10:00+00:00",
                  "batchID_y": 1140,
                  "accountID_y": "101-004-31059296-001",
                  "Strategy_y": "volume_based",
                  "pl_y": -282.9016,
                  "order_time_y": "2025-04-08 14:10:00+00:00",
                  "_deepnote_index_column": 10
                },
                {
                  "batchID_x": 177,
                  "accountID_x": "101-004-31059296-003",
                  "Strategy_x": "volume_based_hedge",
                  "pl_x": 327.1515,
                  "time_tf": "2025-04-08 14:21:00+00:00",
                  "order_time_x": "2025-04-08 14:15:00+00:00",
                  "batchID_y": 1146,
                  "accountID_y": "101-004-31059296-001",
                  "Strategy_y": "volume_based",
                  "pl_y": -424.6928,
                  "order_time_y": "2025-04-08 14:15:00+00:00",
                  "_deepnote_index_column": 11
                },
                {
                  "batchID_x": 183,
                  "accountID_x": "101-004-31059296-003",
                  "Strategy_x": "volume_based_hedge",
                  "pl_x": -534.9553,
                  "time_tf": "2025-04-08 14:31:00+00:00",
                  "order_time_x": "2025-04-08 14:25:00+00:00",
                  "batchID_y": 1152,
                  "accountID_y": "101-004-31059296-001",
                  "Strategy_y": "volume_based",
                  "pl_y": 186.9305,
                  "order_time_y": "2025-04-08 14:25:00+00:00",
                  "_deepnote_index_column": 12
                },
                {
                  "batchID_x": 201,
                  "accountID_x": "101-004-31059296-003",
                  "Strategy_x": "volume_based_hedge",
                  "pl_x": 109.1885,
                  "time_tf": "2025-04-08 15:06:00+00:00",
                  "order_time_x": "2025-04-08 15:00:00+00:00",
                  "batchID_y": 1166,
                  "accountID_y": "101-004-31059296-001",
                  "Strategy_y": "volume_based",
                  "pl_y": -267.8939,
                  "order_time_y": "2025-04-08 15:00:00+00:00",
                  "_deepnote_index_column": 13
                },
                {
                  "batchID_x": 205,
                  "accountID_x": "101-004-31059296-003",
                  "Strategy_x": "volume_based_hedge",
                  "pl_x": 171.6849,
                  "time_tf": "2025-04-08 15:11:00+00:00",
                  "order_time_x": "2025-04-08 15:05:00+00:00",
                  "batchID_y": 1172,
                  "accountID_y": "101-004-31059296-001",
                  "Strategy_y": "volume_based",
                  "pl_y": -252.1681,
                  "order_time_y": "2025-04-08 15:05:00+00:00",
                  "_deepnote_index_column": 14
                },
                {
                  "batchID_x": 221,
                  "accountID_x": "101-004-31059296-003",
                  "Strategy_x": "volume_based_hedge",
                  "pl_x": 202.7191,
                  "time_tf": "2025-04-08 15:21:00+00:00",
                  "order_time_x": "2025-04-08 15:15:00+00:00",
                  "batchID_y": 1184,
                  "accountID_y": "101-004-31059296-001",
                  "Strategy_y": "volume_based",
                  "pl_y": -252.1858,
                  "order_time_y": "2025-04-08 15:15:00+00:00",
                  "_deepnote_index_column": 15
                },
                {
                  "batchID_x": 237,
                  "accountID_x": "101-004-31059296-003",
                  "Strategy_x": "volume_based_hedge",
                  "pl_x": 935.678,
                  "time_tf": "2025-04-08 15:56:00+00:00",
                  "order_time_x": "2025-04-08 15:50:00+00:00",
                  "batchID_y": 1202,
                  "accountID_y": "101-004-31059296-001",
                  "Strategy_y": "volume_based",
                  "pl_y": -440.9449,
                  "order_time_y": "2025-04-08 15:50:00+00:00",
                  "_deepnote_index_column": 16
                },
                {
                  "batchID_x": 257,
                  "accountID_x": "101-004-31059296-003",
                  "Strategy_x": "volume_based_hedge",
                  "pl_x": 31.1518,
                  "time_tf": "2025-04-08 16:46:00+00:00",
                  "order_time_x": "2025-04-08 16:40:00+00:00",
                  "batchID_y": 1208,
                  "accountID_y": "101-004-31059296-001",
                  "Strategy_y": "volume_based",
                  "pl_y": -534.7104,
                  "order_time_y": "2025-04-08 16:40:00+00:00",
                  "_deepnote_index_column": 17
                },
                {
                  "batchID_x": 263,
                  "accountID_x": "101-004-31059296-003",
                  "Strategy_x": "volume_based_hedge",
                  "pl_x": -110.1288,
                  "time_tf": "2025-04-08 16:51:00+00:00",
                  "order_time_x": "2025-04-08 16:45:00+00:00",
                  "batchID_y": 1214,
                  "accountID_y": "101-004-31059296-001",
                  "Strategy_y": "volume_based",
                  "pl_y": -361.7824,
                  "order_time_y": "2025-04-08 16:45:00+00:00",
                  "_deepnote_index_column": 18
                },
                {
                  "batchID_x": 267,
                  "accountID_x": "101-004-31059296-003",
                  "Strategy_x": "volume_based_hedge",
                  "pl_x": -511.3103,
                  "time_tf": "2025-04-08 16:56:00+00:00",
                  "order_time_x": "2025-04-08 16:50:00+00:00",
                  "batchID_y": 1220,
                  "accountID_y": "101-004-31059296-001",
                  "Strategy_y": "volume_based",
                  "pl_y": 233.6494,
                  "order_time_y": "2025-04-08 16:50:00+00:00",
                  "_deepnote_index_column": 19
                },
                {
                  "batchID_x": 275,
                  "accountID_x": "101-004-31059296-003",
                  "Strategy_x": "volume_based_hedge",
                  "pl_x": -550.8596,
                  "time_tf": "2025-04-08 17:36:00+00:00",
                  "order_time_x": "2025-04-08 17:30:00+00:00",
                  "batchID_y": 1228,
                  "accountID_y": "101-004-31059296-001",
                  "Strategy_y": "volume_based",
                  "pl_y": 264.7012,
                  "order_time_y": "2025-04-08 17:30:00+00:00",
                  "_deepnote_index_column": 20
                },
                {
                  "batchID_x": 281,
                  "accountID_x": "101-004-31059296-003",
                  "Strategy_x": "volume_based_hedge",
                  "pl_x": -157.2985,
                  "time_tf": "2025-04-08 17:41:00+00:00",
                  "order_time_x": "2025-04-08 17:35:00+00:00",
                  "batchID_y": 1232,
                  "accountID_y": "101-004-31059296-001",
                  "Strategy_y": "volume_based",
                  "pl_y": -338.1336,
                  "order_time_y": "2025-04-08 17:35:00+00:00",
                  "_deepnote_index_column": 21
                },
                {
                  "batchID_x": 287,
                  "accountID_x": "101-004-31059296-003",
                  "Strategy_x": "volume_based_hedge",
                  "pl_x": 264.6463,
                  "time_tf": "2025-04-08 17:51:00+00:00",
                  "order_time_x": "2025-04-08 17:45:00+00:00",
                  "batchID_y": 1240,
                  "accountID_y": "101-004-31059296-001",
                  "Strategy_y": "volume_based",
                  "pl_y": -503.1821,
                  "order_time_y": "2025-04-08 17:45:00+00:00",
                  "_deepnote_index_column": 22
                }
              ],
              "type": "dataframe"
            },
            "text/plain": "    batchID_x           accountID_x          Strategy_x       pl_x  \\\n0          83  101-004-31059296-003  volume_based_hedge    31.1602   \n1          87  101-004-31059296-003  volume_based_hedge  -298.9971   \n2          91  101-004-31059296-003  volume_based_hedge  -472.2097   \n3         101  101-004-31059296-003  volume_based_hedge  -377.9202   \n4         113  101-004-31059296-003  volume_based_hedge  -361.6876   \n5         135  101-004-31059296-003  volume_based_hedge  -251.7712   \n6         147  101-004-31059296-003  volume_based_hedge   654.0392   \n7         153  101-004-31059296-003  volume_based_hedge   -55.0616   \n8         159  101-004-31059296-003  volume_based_hedge  1167.9272   \n9         165  101-004-31059296-003  volume_based_hedge  -204.3985   \n10        171  101-004-31059296-003  volume_based_hedge    31.1228   \n11        177  101-004-31059296-003  volume_based_hedge   327.1515   \n12        183  101-004-31059296-003  volume_based_hedge  -534.9553   \n13        201  101-004-31059296-003  volume_based_hedge   109.1885   \n14        205  101-004-31059296-003  volume_based_hedge   171.6849   \n15        221  101-004-31059296-003  volume_based_hedge   202.7191   \n16        237  101-004-31059296-003  volume_based_hedge   935.6780   \n17        257  101-004-31059296-003  volume_based_hedge    31.1518   \n18        263  101-004-31059296-003  volume_based_hedge  -110.1288   \n19        267  101-004-31059296-003  volume_based_hedge  -511.3103   \n20        275  101-004-31059296-003  volume_based_hedge  -550.8596   \n21        281  101-004-31059296-003  volume_based_hedge  -157.2985   \n22        287  101-004-31059296-003  volume_based_hedge   264.6463   \n\n                     time_tf              order_time_x  batchID_y  \\\n0  2025-04-08 11:16:00+00:00 2025-04-08 11:10:00+00:00       1049   \n1  2025-04-08 11:21:00+00:00 2025-04-08 11:15:00+00:00       1055   \n2  2025-04-08 11:26:00+00:00 2025-04-08 11:20:00+00:00       1059   \n3  2025-04-08 11:31:00+00:00 2025-04-08 11:25:00+00:00       1063   \n4  2025-04-08 11:56:00+00:00 2025-04-08 11:50:00+00:00       1076   \n5  2025-04-08 12:51:00+00:00 2025-04-08 12:45:00+00:00       1106   \n6  2025-04-08 13:36:00+00:00 2025-04-08 13:30:00+00:00       1116   \n7  2025-04-08 13:46:00+00:00 2025-04-08 13:40:00+00:00       1122   \n8  2025-04-08 13:56:00+00:00 2025-04-08 13:50:00+00:00       1128   \n9  2025-04-08 14:11:00+00:00 2025-04-08 14:05:00+00:00       1134   \n10 2025-04-08 14:16:00+00:00 2025-04-08 14:10:00+00:00       1140   \n11 2025-04-08 14:21:00+00:00 2025-04-08 14:15:00+00:00       1146   \n12 2025-04-08 14:31:00+00:00 2025-04-08 14:25:00+00:00       1152   \n13 2025-04-08 15:06:00+00:00 2025-04-08 15:00:00+00:00       1166   \n14 2025-04-08 15:11:00+00:00 2025-04-08 15:05:00+00:00       1172   \n15 2025-04-08 15:21:00+00:00 2025-04-08 15:15:00+00:00       1184   \n16 2025-04-08 15:56:00+00:00 2025-04-08 15:50:00+00:00       1202   \n17 2025-04-08 16:46:00+00:00 2025-04-08 16:40:00+00:00       1208   \n18 2025-04-08 16:51:00+00:00 2025-04-08 16:45:00+00:00       1214   \n19 2025-04-08 16:56:00+00:00 2025-04-08 16:50:00+00:00       1220   \n20 2025-04-08 17:36:00+00:00 2025-04-08 17:30:00+00:00       1228   \n21 2025-04-08 17:41:00+00:00 2025-04-08 17:35:00+00:00       1232   \n22 2025-04-08 17:51:00+00:00 2025-04-08 17:45:00+00:00       1240   \n\n             accountID_y    Strategy_y       pl_y              order_time_y  \n0   101-004-31059296-001  volume_based  -519.1095 2025-04-08 11:10:00+00:00  \n1   101-004-31059296-001  volume_based  1169.0982 2025-04-08 11:15:00+00:00  \n2   101-004-31059296-001  volume_based  1184.6955 2025-04-08 11:20:00+00:00  \n3   101-004-31059296-001  volume_based    77.9152 2025-04-08 11:25:00+00:00  \n4   101-004-31059296-001  volume_based   871.8033 2025-04-08 11:50:00+00:00  \n5   101-004-31059296-001  volume_based   186.8545 2025-04-08 12:45:00+00:00  \n6   101-004-31059296-001  volume_based  -440.3118 2025-04-08 13:30:00+00:00  \n7   101-004-31059296-001  volume_based  -298.8719 2025-04-08 13:40:00+00:00  \n8   101-004-31059296-001  volume_based  -392.9173 2025-04-08 13:50:00+00:00  \n9   101-004-31059296-001  volume_based  -204.3769 2025-04-08 14:05:00+00:00  \n10  101-004-31059296-001  volume_based  -282.9016 2025-04-08 14:10:00+00:00  \n11  101-004-31059296-001  volume_based  -424.6928 2025-04-08 14:15:00+00:00  \n12  101-004-31059296-001  volume_based   186.9305 2025-04-08 14:25:00+00:00  \n13  101-004-31059296-001  volume_based  -267.8939 2025-04-08 15:00:00+00:00  \n14  101-004-31059296-001  volume_based  -252.1681 2025-04-08 15:05:00+00:00  \n15  101-004-31059296-001  volume_based  -252.1858 2025-04-08 15:15:00+00:00  \n16  101-004-31059296-001  volume_based  -440.9449 2025-04-08 15:50:00+00:00  \n17  101-004-31059296-001  volume_based  -534.7104 2025-04-08 16:40:00+00:00  \n18  101-004-31059296-001  volume_based  -361.7824 2025-04-08 16:45:00+00:00  \n19  101-004-31059296-001  volume_based   233.6494 2025-04-08 16:50:00+00:00  \n20  101-004-31059296-001  volume_based   264.7012 2025-04-08 17:30:00+00:00  \n21  101-004-31059296-001  volume_based  -338.1336 2025-04-08 17:35:00+00:00  \n22  101-004-31059296-001  volume_based  -503.1821 2025-04-08 17:45:00+00:00  ",
            "text/html": "<div>\n<style scoped>\n    .dataframe tbody tr th:only-of-type {\n        vertical-align: middle;\n    }\n\n    .dataframe tbody tr th {\n        vertical-align: top;\n    }\n\n    .dataframe thead th {\n        text-align: right;\n    }\n</style>\n<table border=\"1\" class=\"dataframe\">\n  <thead>\n    <tr style=\"text-align: right;\">\n      <th></th>\n      <th>batchID_x</th>\n      <th>accountID_x</th>\n      <th>Strategy_x</th>\n      <th>pl_x</th>\n      <th>time_tf</th>\n      <th>order_time_x</th>\n      <th>batchID_y</th>\n      <th>accountID_y</th>\n      <th>Strategy_y</th>\n      <th>pl_y</th>\n      <th>order_time_y</th>\n    </tr>\n  </thead>\n  <tbody>\n    <tr>\n      <th>0</th>\n      <td>83</td>\n      <td>101-004-31059296-003</td>\n      <td>volume_based_hedge</td>\n      <td>31.1602</td>\n      <td>2025-04-08 11:16:00+00:00</td>\n      <td>2025-04-08 11:10:00+00:00</td>\n      <td>1049</td>\n      <td>101-004-31059296-001</td>\n      <td>volume_based</td>\n      <td>-519.1095</td>\n      <td>2025-04-08 11:10:00+00:00</td>\n    </tr>\n    <tr>\n      <th>1</th>\n      <td>87</td>\n      <td>101-004-31059296-003</td>\n      <td>volume_based_hedge</td>\n      <td>-298.9971</td>\n      <td>2025-04-08 11:21:00+00:00</td>\n      <td>2025-04-08 11:15:00+00:00</td>\n      <td>1055</td>\n      <td>101-004-31059296-001</td>\n      <td>volume_based</td>\n      <td>1169.0982</td>\n      <td>2025-04-08 11:15:00+00:00</td>\n    </tr>\n    <tr>\n      <th>2</th>\n      <td>91</td>\n      <td>101-004-31059296-003</td>\n      <td>volume_based_hedge</td>\n      <td>-472.2097</td>\n      <td>2025-04-08 11:26:00+00:00</td>\n      <td>2025-04-08 11:20:00+00:00</td>\n      <td>1059</td>\n      <td>101-004-31059296-001</td>\n      <td>volume_based</td>\n      <td>1184.6955</td>\n      <td>2025-04-08 11:20:00+00:00</td>\n    </tr>\n    <tr>\n      <th>3</th>\n      <td>101</td>\n      <td>101-004-31059296-003</td>\n      <td>volume_based_hedge</td>\n      <td>-377.9202</td>\n      <td>2025-04-08 11:31:00+00:00</td>\n      <td>2025-04-08 11:25:00+00:00</td>\n      <td>1063</td>\n      <td>101-004-31059296-001</td>\n      <td>volume_based</td>\n      <td>77.9152</td>\n      <td>2025-04-08 11:25:00+00:00</td>\n    </tr>\n    <tr>\n      <th>4</th>\n      <td>113</td>\n      <td>101-004-31059296-003</td>\n      <td>volume_based_hedge</td>\n      <td>-361.6876</td>\n      <td>2025-04-08 11:56:00+00:00</td>\n      <td>2025-04-08 11:50:00+00:00</td>\n      <td>1076</td>\n      <td>101-004-31059296-001</td>\n      <td>volume_based</td>\n      <td>871.8033</td>\n      <td>2025-04-08 11:50:00+00:00</td>\n    </tr>\n    <tr>\n      <th>5</th>\n      <td>135</td>\n      <td>101-004-31059296-003</td>\n      <td>volume_based_hedge</td>\n      <td>-251.7712</td>\n      <td>2025-04-08 12:51:00+00:00</td>\n      <td>2025-04-08 12:45:00+00:00</td>\n      <td>1106</td>\n      <td>101-004-31059296-001</td>\n      <td>volume_based</td>\n      <td>186.8545</td>\n      <td>2025-04-08 12:45:00+00:00</td>\n    </tr>\n    <tr>\n      <th>6</th>\n      <td>147</td>\n      <td>101-004-31059296-003</td>\n      <td>volume_based_hedge</td>\n      <td>654.0392</td>\n      <td>2025-04-08 13:36:00+00:00</td>\n      <td>2025-04-08 13:30:00+00:00</td>\n      <td>1116</td>\n      <td>101-004-31059296-001</td>\n      <td>volume_based</td>\n      <td>-440.3118</td>\n      <td>2025-04-08 13:30:00+00:00</td>\n    </tr>\n    <tr>\n      <th>7</th>\n      <td>153</td>\n      <td>101-004-31059296-003</td>\n      <td>volume_based_hedge</td>\n      <td>-55.0616</td>\n      <td>2025-04-08 13:46:00+00:00</td>\n      <td>2025-04-08 13:40:00+00:00</td>\n      <td>1122</td>\n      <td>101-004-31059296-001</td>\n      <td>volume_based</td>\n      <td>-298.8719</td>\n      <td>2025-04-08 13:40:00+00:00</td>\n    </tr>\n    <tr>\n      <th>8</th>\n      <td>159</td>\n      <td>101-004-31059296-003</td>\n      <td>volume_based_hedge</td>\n      <td>1167.9272</td>\n      <td>2025-04-08 13:56:00+00:00</td>\n      <td>2025-04-08 13:50:00+00:00</td>\n      <td>1128</td>\n      <td>101-004-31059296-001</td>\n      <td>volume_based</td>\n      <td>-392.9173</td>\n      <td>2025-04-08 13:50:00+00:00</td>\n    </tr>\n    <tr>\n      <th>9</th>\n      <td>165</td>\n      <td>101-004-31059296-003</td>\n      <td>volume_based_hedge</td>\n      <td>-204.3985</td>\n      <td>2025-04-08 14:11:00+00:00</td>\n      <td>2025-04-08 14:05:00+00:00</td>\n      <td>1134</td>\n      <td>101-004-31059296-001</td>\n      <td>volume_based</td>\n      <td>-204.3769</td>\n      <td>2025-04-08 14:05:00+00:00</td>\n    </tr>\n    <tr>\n      <th>10</th>\n      <td>171</td>\n      <td>101-004-31059296-003</td>\n      <td>volume_based_hedge</td>\n      <td>31.1228</td>\n      <td>2025-04-08 14:16:00+00:00</td>\n      <td>2025-04-08 14:10:00+00:00</td>\n      <td>1140</td>\n      <td>101-004-31059296-001</td>\n      <td>volume_based</td>\n      <td>-282.9016</td>\n      <td>2025-04-08 14:10:00+00:00</td>\n    </tr>\n    <tr>\n      <th>11</th>\n      <td>177</td>\n      <td>101-004-31059296-003</td>\n      <td>volume_based_hedge</td>\n      <td>327.1515</td>\n      <td>2025-04-08 14:21:00+00:00</td>\n      <td>2025-04-08 14:15:00+00:00</td>\n      <td>1146</td>\n      <td>101-004-31059296-001</td>\n      <td>volume_based</td>\n      <td>-424.6928</td>\n      <td>2025-04-08 14:15:00+00:00</td>\n    </tr>\n    <tr>\n      <th>12</th>\n      <td>183</td>\n      <td>101-004-31059296-003</td>\n      <td>volume_based_hedge</td>\n      <td>-534.9553</td>\n      <td>2025-04-08 14:31:00+00:00</td>\n      <td>2025-04-08 14:25:00+00:00</td>\n      <td>1152</td>\n      <td>101-004-31059296-001</td>\n      <td>volume_based</td>\n      <td>186.9305</td>\n      <td>2025-04-08 14:25:00+00:00</td>\n    </tr>\n    <tr>\n      <th>13</th>\n      <td>201</td>\n      <td>101-004-31059296-003</td>\n      <td>volume_based_hedge</td>\n      <td>109.1885</td>\n      <td>2025-04-08 15:06:00+00:00</td>\n      <td>2025-04-08 15:00:00+00:00</td>\n      <td>1166</td>\n      <td>101-004-31059296-001</td>\n      <td>volume_based</td>\n      <td>-267.8939</td>\n      <td>2025-04-08 15:00:00+00:00</td>\n    </tr>\n    <tr>\n      <th>14</th>\n      <td>205</td>\n      <td>101-004-31059296-003</td>\n      <td>volume_based_hedge</td>\n      <td>171.6849</td>\n      <td>2025-04-08 15:11:00+00:00</td>\n      <td>2025-04-08 15:05:00+00:00</td>\n      <td>1172</td>\n      <td>101-004-31059296-001</td>\n      <td>volume_based</td>\n      <td>-252.1681</td>\n      <td>2025-04-08 15:05:00+00:00</td>\n    </tr>\n    <tr>\n      <th>15</th>\n      <td>221</td>\n      <td>101-004-31059296-003</td>\n      <td>volume_based_hedge</td>\n      <td>202.7191</td>\n      <td>2025-04-08 15:21:00+00:00</td>\n      <td>2025-04-08 15:15:00+00:00</td>\n      <td>1184</td>\n      <td>101-004-31059296-001</td>\n      <td>volume_based</td>\n      <td>-252.1858</td>\n      <td>2025-04-08 15:15:00+00:00</td>\n    </tr>\n    <tr>\n      <th>16</th>\n      <td>237</td>\n      <td>101-004-31059296-003</td>\n      <td>volume_based_hedge</td>\n      <td>935.6780</td>\n      <td>2025-04-08 15:56:00+00:00</td>\n      <td>2025-04-08 15:50:00+00:00</td>\n      <td>1202</td>\n      <td>101-004-31059296-001</td>\n      <td>volume_based</td>\n      <td>-440.9449</td>\n      <td>2025-04-08 15:50:00+00:00</td>\n    </tr>\n    <tr>\n      <th>17</th>\n      <td>257</td>\n      <td>101-004-31059296-003</td>\n      <td>volume_based_hedge</td>\n      <td>31.1518</td>\n      <td>2025-04-08 16:46:00+00:00</td>\n      <td>2025-04-08 16:40:00+00:00</td>\n      <td>1208</td>\n      <td>101-004-31059296-001</td>\n      <td>volume_based</td>\n      <td>-534.7104</td>\n      <td>2025-04-08 16:40:00+00:00</td>\n    </tr>\n    <tr>\n      <th>18</th>\n      <td>263</td>\n      <td>101-004-31059296-003</td>\n      <td>volume_based_hedge</td>\n      <td>-110.1288</td>\n      <td>2025-04-08 16:51:00+00:00</td>\n      <td>2025-04-08 16:45:00+00:00</td>\n      <td>1214</td>\n      <td>101-004-31059296-001</td>\n      <td>volume_based</td>\n      <td>-361.7824</td>\n      <td>2025-04-08 16:45:00+00:00</td>\n    </tr>\n    <tr>\n      <th>19</th>\n      <td>267</td>\n      <td>101-004-31059296-003</td>\n      <td>volume_based_hedge</td>\n      <td>-511.3103</td>\n      <td>2025-04-08 16:56:00+00:00</td>\n      <td>2025-04-08 16:50:00+00:00</td>\n      <td>1220</td>\n      <td>101-004-31059296-001</td>\n      <td>volume_based</td>\n      <td>233.6494</td>\n      <td>2025-04-08 16:50:00+00:00</td>\n    </tr>\n    <tr>\n      <th>20</th>\n      <td>275</td>\n      <td>101-004-31059296-003</td>\n      <td>volume_based_hedge</td>\n      <td>-550.8596</td>\n      <td>2025-04-08 17:36:00+00:00</td>\n      <td>2025-04-08 17:30:00+00:00</td>\n      <td>1228</td>\n      <td>101-004-31059296-001</td>\n      <td>volume_based</td>\n      <td>264.7012</td>\n      <td>2025-04-08 17:30:00+00:00</td>\n    </tr>\n    <tr>\n      <th>21</th>\n      <td>281</td>\n      <td>101-004-31059296-003</td>\n      <td>volume_based_hedge</td>\n      <td>-157.2985</td>\n      <td>2025-04-08 17:41:00+00:00</td>\n      <td>2025-04-08 17:35:00+00:00</td>\n      <td>1232</td>\n      <td>101-004-31059296-001</td>\n      <td>volume_based</td>\n      <td>-338.1336</td>\n      <td>2025-04-08 17:35:00+00:00</td>\n    </tr>\n    <tr>\n      <th>22</th>\n      <td>287</td>\n      <td>101-004-31059296-003</td>\n      <td>volume_based_hedge</td>\n      <td>264.6463</td>\n      <td>2025-04-08 17:51:00+00:00</td>\n      <td>2025-04-08 17:45:00+00:00</td>\n      <td>1240</td>\n      <td>101-004-31059296-001</td>\n      <td>volume_based</td>\n      <td>-503.1821</td>\n      <td>2025-04-08 17:45:00+00:00</td>\n    </tr>\n  </tbody>\n</table>\n</div>"
          },
          "metadata": {}
        }
      ],
      "outputs_reference": null,
      "content_dependencies": null
    },
    {
      "cell_type": "code",
      "metadata": {
        "source_hash": "ba38e7c",
        "execution_start": 1744156521126,
        "execution_millis": 0,
        "deepnote_table_state": {
          "sortBy": [],
          "filters": [],
          "pageSize": 100,
          "pageIndex": 0,
          "columnOrder": [
            "Time",
            "Strategy",
            "Type",
            "Quantity",
            "Price",
            "Take_Profit",
            "Stop_Loss",
            "Order_ID",
            "Account_ID"
          ],
          "hiddenColumnIds": [],
          "columnDisplayNames": [],
          "conditionalFilters": [],
          "cellFormattingRules": [],
          "wrappedTextColumnIds": []
        },
        "execution_context_id": "4871396d-a585-48ac-9423-c662bb426968",
        "deepnote_table_loading": false,
        "cell_id": "3159ab563c8143eba93de89c2e11bfae",
        "deepnote_cell_type": "code"
      },
      "source": "orders['time'].dt.date = orders['time'].dt.date.max()",
      "block_group": "dde7889bdcfc4bd48e6d4952f8f2f4e1",
      "execution_count": 194,
      "outputs": [
        {
          "output_type": "execute_result",
          "execution_count": 196,
          "data": {
            "application/vnd.deepnote.dataframe.v3+json": {
              "column_count": 9,
              "row_count": 97,
              "columns": [
                {
                  "name": "Time",
                  "dtype": "datetime64[ns, UTC]",
                  "stats": {
                    "unique_count": 97,
                    "nan_count": 0,
                    "min": "2025-04-05 19:19:40.164025485+00:00",
                    "max": "2025-04-08 17:51:05.571540911+00:00",
                    "histogram": [
                      {
                        "bin_start": 1743880780164025600,
                        "bin_end": 1743906168704777200,
                        "count": 6
                      },
                      {
                        "bin_start": 1743906168704777200,
                        "bin_end": 1743931557245528600,
                        "count": 0
                      },
                      {
                        "bin_start": 1743931557245528600,
                        "bin_end": 1743956945786280200,
                        "count": 0
                      },
                      {
                        "bin_start": 1743956945786280200,
                        "bin_end": 1743982334327031800,
                        "count": 0
                      },
                      {
                        "bin_start": 1743982334327031800,
                        "bin_end": 1744007722867783200,
                        "count": 3
                      },
                      {
                        "bin_start": 1744007722867783200,
                        "bin_end": 1744033111408534800,
                        "count": 6
                      },
                      {
                        "bin_start": 1744033111408534800,
                        "bin_end": 1744058499949286400,
                        "count": 8
                      },
                      {
                        "bin_start": 1744058499949286400,
                        "bin_end": 1744083888490038000,
                        "count": 0
                      },
                      {
                        "bin_start": 1744083888490038000,
                        "bin_end": 1744109277030789400,
                        "count": 3
                      },
                      {
                        "bin_start": 1744109277030789400,
                        "bin_end": 1744134665571541000,
                        "count": 71
                      }
                    ]
                  }
                },
                {
                  "name": "Strategy",
                  "dtype": "object",
                  "stats": {
                    "unique_count": 3,
                    "nan_count": 0,
                    "categories": [
                      {
                        "name": "volume_based_hedge",
                        "count": 49
                      },
                      {
                        "name": "volume_based",
                        "count": 45
                      },
                      {
                        "name": "ema_slope",
                        "count": 3
                      }
                    ]
                  }
                },
                {
                  "name": "Type",
                  "dtype": "object",
                  "stats": {
                    "unique_count": 2,
                    "nan_count": 0,
                    "categories": [
                      {
                        "name": "BUY",
                        "count": 49
                      },
                      {
                        "name": "SELL",
                        "count": 48
                      }
                    ]
                  }
                },
                {
                  "name": "Quantity",
                  "dtype": "int64",
                  "stats": {
                    "unique_count": 2,
                    "nan_count": 0,
                    "min": "-1000000",
                    "max": "1000000",
                    "histogram": [
                      {
                        "bin_start": -1000000,
                        "bin_end": -800000,
                        "count": 48
                      },
                      {
                        "bin_start": -800000,
                        "bin_end": -600000,
                        "count": 0
                      },
                      {
                        "bin_start": -600000,
                        "bin_end": -400000,
                        "count": 0
                      },
                      {
                        "bin_start": -400000,
                        "bin_end": -200000,
                        "count": 0
                      },
                      {
                        "bin_start": -200000,
                        "bin_end": 0,
                        "count": 0
                      },
                      {
                        "bin_start": 0,
                        "bin_end": 200000,
                        "count": 0
                      },
                      {
                        "bin_start": 200000,
                        "bin_end": 400000,
                        "count": 0
                      },
                      {
                        "bin_start": 400000,
                        "bin_end": 600000,
                        "count": 0
                      },
                      {
                        "bin_start": 600000,
                        "bin_end": 800000,
                        "count": 0
                      },
                      {
                        "bin_start": 800000,
                        "bin_end": 1000000,
                        "count": 49
                      }
                    ]
                  }
                },
                {
                  "name": "Price",
                  "dtype": "float64",
                  "stats": {
                    "unique_count": 50,
                    "nan_count": 0,
                    "min": "1.08986",
                    "max": "1.09718",
                    "histogram": [
                      {
                        "bin_start": 1.08986,
                        "bin_end": 1.090592,
                        "count": 6
                      },
                      {
                        "bin_start": 1.090592,
                        "bin_end": 1.091324,
                        "count": 14
                      },
                      {
                        "bin_start": 1.091324,
                        "bin_end": 1.0920560000000001,
                        "count": 10
                      },
                      {
                        "bin_start": 1.0920560000000001,
                        "bin_end": 1.092788,
                        "count": 12
                      },
                      {
                        "bin_start": 1.092788,
                        "bin_end": 1.09352,
                        "count": 10
                      },
                      {
                        "bin_start": 1.09352,
                        "bin_end": 1.094252,
                        "count": 19
                      },
                      {
                        "bin_start": 1.094252,
                        "bin_end": 1.094984,
                        "count": 7
                      },
                      {
                        "bin_start": 1.094984,
                        "bin_end": 1.0957160000000001,
                        "count": 4
                      },
                      {
                        "bin_start": 1.0957160000000001,
                        "bin_end": 1.096448,
                        "count": 9
                      },
                      {
                        "bin_start": 1.096448,
                        "bin_end": 1.09718,
                        "count": 6
                      }
                    ]
                  }
                },
                {
                  "name": "Take_Profit",
                  "dtype": "float64",
                  "stats": {
                    "unique_count": 92,
                    "nan_count": 0,
                    "min": "1.08822521",
                    "max": "1.09882577",
                    "histogram": [
                      {
                        "bin_start": 1.08822521,
                        "bin_end": 1.089285266,
                        "count": 7
                      },
                      {
                        "bin_start": 1.089285266,
                        "bin_end": 1.0903453220000001,
                        "count": 7
                      },
                      {
                        "bin_start": 1.0903453220000001,
                        "bin_end": 1.091405378,
                        "count": 8
                      },
                      {
                        "bin_start": 1.091405378,
                        "bin_end": 1.092465434,
                        "count": 11
                      },
                      {
                        "bin_start": 1.092465434,
                        "bin_end": 1.09352549,
                        "count": 18
                      },
                      {
                        "bin_start": 1.09352549,
                        "bin_end": 1.094585546,
                        "count": 11
                      },
                      {
                        "bin_start": 1.094585546,
                        "bin_end": 1.095645602,
                        "count": 16
                      },
                      {
                        "bin_start": 1.095645602,
                        "bin_end": 1.0967056579999999,
                        "count": 11
                      },
                      {
                        "bin_start": 1.0967056579999999,
                        "bin_end": 1.097765714,
                        "count": 3
                      },
                      {
                        "bin_start": 1.097765714,
                        "bin_end": 1.09882577,
                        "count": 5
                      }
                    ]
                  }
                },
                {
                  "name": "Stop_Loss",
                  "dtype": "float64",
                  "stats": {
                    "unique_count": 4,
                    "nan_count": 0,
                    "min": "0.0005",
                    "max": "0.00075",
                    "histogram": [
                      {
                        "bin_start": 0.0005,
                        "bin_end": 0.000525,
                        "count": 9
                      },
                      {
                        "bin_start": 0.000525,
                        "bin_end": 0.00055,
                        "count": 6
                      },
                      {
                        "bin_start": 0.00055,
                        "bin_end": 0.000575,
                        "count": 0
                      },
                      {
                        "bin_start": 0.000575,
                        "bin_end": 0.0006000000000000001,
                        "count": 78
                      },
                      {
                        "bin_start": 0.0006000000000000001,
                        "bin_end": 0.000625,
                        "count": 0
                      },
                      {
                        "bin_start": 0.000625,
                        "bin_end": 0.00065,
                        "count": 0
                      },
                      {
                        "bin_start": 0.00065,
                        "bin_end": 0.000675,
                        "count": 0
                      },
                      {
                        "bin_start": 0.000675,
                        "bin_end": 0.0007,
                        "count": 0
                      },
                      {
                        "bin_start": 0.0007,
                        "bin_end": 0.0007250000000000001,
                        "count": 0
                      },
                      {
                        "bin_start": 0.0007250000000000001,
                        "bin_end": 0.00075,
                        "count": 4
                      }
                    ]
                  }
                },
                {
                  "name": "Order_ID",
                  "dtype": "int64",
                  "stats": {
                    "unique_count": 97,
                    "nan_count": 0,
                    "min": "7",
                    "max": "1240",
                    "histogram": [
                      {
                        "bin_start": 7,
                        "bin_end": 130.3,
                        "count": 21
                      },
                      {
                        "bin_start": 130.3,
                        "bin_end": 253.6,
                        "count": 22
                      },
                      {
                        "bin_start": 253.6,
                        "bin_end": 376.9,
                        "count": 6
                      },
                      {
                        "bin_start": 376.9,
                        "bin_end": 500.2,
                        "count": 0
                      },
                      {
                        "bin_start": 500.2,
                        "bin_end": 623.5,
                        "count": 0
                      },
                      {
                        "bin_start": 623.5,
                        "bin_end": 746.8,
                        "count": 0
                      },
                      {
                        "bin_start": 746.8,
                        "bin_end": 870.1,
                        "count": 0
                      },
                      {
                        "bin_start": 870.1,
                        "bin_end": 993.4,
                        "count": 7
                      },
                      {
                        "bin_start": 993.4,
                        "bin_end": 1116.7,
                        "count": 20
                      },
                      {
                        "bin_start": 1116.7,
                        "bin_end": 1240,
                        "count": 21
                      }
                    ]
                  }
                },
                {
                  "name": "Account_ID",
                  "dtype": "object",
                  "stats": {
                    "unique_count": 2,
                    "nan_count": 4,
                    "categories": [
                      {
                        "name": "101-004-31059296-003",
                        "count": 48
                      },
                      {
                        "name": "101-004-31059296-001",
                        "count": 45
                      },
                      {
                        "name": "Missing",
                        "count": 4
                      }
                    ]
                  }
                },
                {
                  "name": "_deepnote_index_column",
                  "dtype": "int64"
                }
              ],
              "rows": [
                {
                  "Time": "2025-04-05 19:19:40.164025485+00:00",
                  "Strategy": "volume_based",
                  "Type": "SELL",
                  "Quantity": -1000000,
                  "Price": 1.09632,
                  "Take_Profit": 1.0946755199999998,
                  "Stop_Loss": 0.00054816,
                  "Order_ID": 971,
                  "Account_ID": "nan",
                  "_deepnote_index_column": 0
                },
                {
                  "Time": "2025-04-06 01:00:05.117322734+00:00",
                  "Strategy": "volume_based",
                  "Type": "SELL",
                  "Quantity": -1000000,
                  "Price": 1.09632,
                  "Take_Profit": 1.0946755199999998,
                  "Stop_Loss": 0.00054816,
                  "Order_ID": 973,
                  "Account_ID": "nan",
                  "_deepnote_index_column": 1
                },
                {
                  "Time": "2025-04-06 01:02:30.838158175+00:00",
                  "Strategy": "volume_based",
                  "Type": "SELL",
                  "Quantity": -1000000,
                  "Price": 1.09632,
                  "Take_Profit": 1.0946755199999998,
                  "Stop_Loss": 0.00054816,
                  "Order_ID": 975,
                  "Account_ID": "nan",
                  "_deepnote_index_column": 2
                },
                {
                  "Time": "2025-04-06 01:02:33.098770020+00:00",
                  "Strategy": "volume_based_hedge",
                  "Type": "BUY",
                  "Quantity": 1000000,
                  "Price": 1.09632,
                  "Take_Profit": 1.09796448,
                  "Stop_Loss": 0.00054816,
                  "Order_ID": 7,
                  "Account_ID": "nan",
                  "_deepnote_index_column": 3
                },
                {
                  "Time": "2025-04-06 01:24:19.140515970+00:00",
                  "Strategy": "volume_based",
                  "Type": "SELL",
                  "Quantity": -1000000,
                  "Price": 1.09632,
                  "Take_Profit": 1.0946755199999998,
                  "Stop_Loss": 0.00054816,
                  "Order_ID": 977,
                  "Account_ID": "101-004-31059296-001",
                  "_deepnote_index_column": 4
                },
                {
                  "Time": "2025-04-06 01:24:21.678028091+00:00",
                  "Strategy": "volume_based_hedge",
                  "Type": "BUY",
                  "Quantity": 1000000,
                  "Price": 1.09632,
                  "Take_Profit": 1.09796448,
                  "Stop_Loss": 0.00054816,
                  "Order_ID": 9,
                  "Account_ID": "101-004-31059296-003",
                  "_deepnote_index_column": 5
                },
                {
                  "Time": "2025-04-07 03:31:03.562782522+00:00",
                  "Strategy": "ema_slope",
                  "Type": "BUY",
                  "Quantity": 1000000,
                  "Price": 1.09374,
                  "Take_Profit": 1.09538061,
                  "Stop_Loss": 0.0005,
                  "Order_ID": 979,
                  "Account_ID": "101-004-31059296-001",
                  "_deepnote_index_column": 6
                },
                {
                  "Time": "2025-04-07 03:41:03.352983742+00:00",
                  "Strategy": "ema_slope",
                  "Type": "BUY",
                  "Quantity": 1000000,
                  "Price": 1.09448,
                  "Take_Profit": 1.09612172,
                  "Stop_Loss": 0.0005,
                  "Order_ID": 983,
                  "Account_ID": "101-004-31059296-001",
                  "_deepnote_index_column": 7
                },
                {
                  "Time": "2025-04-07 04:16:02.796804889+00:00",
                  "Strategy": "ema_slope",
                  "Type": "SELL",
                  "Quantity": -1000000,
                  "Price": 1.09611,
                  "Take_Profit": 1.095561945,
                  "Stop_Loss": 0.0005,
                  "Order_ID": 991,
                  "Account_ID": "101-004-31059296-001",
                  "_deepnote_index_column": 8
                },
                {
                  "Time": "2025-04-07 11:46:03.213605545+00:00",
                  "Strategy": "volume_based",
                  "Type": "SELL",
                  "Quantity": -1000000,
                  "Price": 1.0946,
                  "Take_Profit": 1.0940527,
                  "Stop_Loss": 0.0005,
                  "Order_ID": 997,
                  "Account_ID": "101-004-31059296-001",
                  "_deepnote_index_column": 9
                },
                {
                  "Time": "2025-04-07 11:46:05.797701276+00:00",
                  "Strategy": "volume_based_hedge",
                  "Type": "BUY",
                  "Quantity": 1000000,
                  "Price": 1.0946,
                  "Take_Profit": 1.0962419,
                  "Stop_Loss": 0.0005,
                  "Order_ID": 16,
                  "Account_ID": "101-004-31059296-003",
                  "_deepnote_index_column": 10
                },
                {
                  "Time": "2025-04-07 12:01:02.825442962+00:00",
                  "Strategy": "volume_based",
                  "Type": "BUY",
                  "Quantity": 1000000,
                  "Price": 1.09696,
                  "Take_Profit": 1.09860544,
                  "Stop_Loss": 0.0005,
                  "Order_ID": 1003,
                  "Account_ID": "101-004-31059296-001",
                  "_deepnote_index_column": 11
                },
                {
                  "Time": "2025-04-07 12:01:05.376710107+00:00",
                  "Strategy": "volume_based_hedge",
                  "Type": "SELL",
                  "Quantity": -1000000,
                  "Price": 1.09696,
                  "Take_Profit": 1.09641152,
                  "Stop_Loss": 0.0005,
                  "Order_ID": 22,
                  "Account_ID": "101-004-31059296-003",
                  "_deepnote_index_column": 12
                },
                {
                  "Time": "2025-04-07 12:46:02.711416946+00:00",
                  "Strategy": "volume_based",
                  "Type": "SELL",
                  "Quantity": -1000000,
                  "Price": 1.09718,
                  "Take_Profit": 1.09663141,
                  "Stop_Loss": 0.0005,
                  "Order_ID": 1009,
                  "Account_ID": "101-004-31059296-001",
                  "_deepnote_index_column": 13
                },
                {
                  "Time": "2025-04-07 12:46:05.416682317+00:00",
                  "Strategy": "volume_based_hedge",
                  "Type": "BUY",
                  "Quantity": 1000000,
                  "Price": 1.09718,
                  "Take_Profit": 1.09882577,
                  "Stop_Loss": 0.0005,
                  "Order_ID": 28,
                  "Account_ID": "101-004-31059296-003",
                  "_deepnote_index_column": 14
                },
                {
                  "Time": "2025-04-07 15:11:03.549684007+00:00",
                  "Strategy": "volume_based",
                  "Type": "SELL",
                  "Quantity": -1000000,
                  "Price": 1.0911,
                  "Take_Profit": 1.090281675,
                  "Stop_Loss": 0.00075,
                  "Order_ID": 1015,
                  "Account_ID": "101-004-31059296-001",
                  "_deepnote_index_column": 15
                },
                {
                  "Time": "2025-04-07 15:11:05.995824416+00:00",
                  "Strategy": "volume_based_hedge",
                  "Type": "BUY",
                  "Quantity": 1000000,
                  "Price": 1.0911,
                  "Take_Profit": 1.09273665,
                  "Stop_Loss": 0.00075,
                  "Order_ID": 34,
                  "Account_ID": "101-004-31059296-003",
                  "_deepnote_index_column": 16
                },
                {
                  "Time": "2025-04-07 15:21:04.772366136+00:00",
                  "Strategy": "volume_based",
                  "Type": "BUY",
                  "Quantity": 1000000,
                  "Price": 1.09191,
                  "Take_Profit": 1.093547865,
                  "Stop_Loss": 0.00075,
                  "Order_ID": 1021,
                  "Account_ID": "101-004-31059296-001",
                  "_deepnote_index_column": 17
                },
                {
                  "Time": "2025-04-07 15:21:07.019190765+00:00",
                  "Strategy": "volume_based_hedge",
                  "Type": "SELL",
                  "Quantity": -1000000,
                  "Price": 1.09191,
                  "Take_Profit": 1.0910910674999998,
                  "Stop_Loss": 0.00075,
                  "Order_ID": 40,
                  "Account_ID": "101-004-31059296-003",
                  "_deepnote_index_column": 18
                },
                {
                  "Time": "2025-04-07 18:31:03.134637963+00:00",
                  "Strategy": "volume_based",
                  "Type": "BUY",
                  "Quantity": 1000000,
                  "Price": 1.09276,
                  "Take_Profit": 1.09439914,
                  "Stop_Loss": 0.0006,
                  "Order_ID": 1033,
                  "Account_ID": "101-004-31059296-001",
                  "_deepnote_index_column": 19
                },
                {
                  "Time": "2025-04-07 18:31:05.678977797+00:00",
                  "Strategy": "volume_based_hedge",
                  "Type": "SELL",
                  "Quantity": -1000000,
                  "Price": 1.09276,
                  "Take_Profit": 1.092104344,
                  "Stop_Loss": 0.0006,
                  "Order_ID": 52,
                  "Account_ID": "101-004-31059296-003",
                  "_deepnote_index_column": 20
                },
                {
                  "Time": "2025-04-07 18:46:02.410408206+00:00",
                  "Strategy": "volume_based",
                  "Type": "SELL",
                  "Quantity": -1000000,
                  "Price": 1.09332,
                  "Take_Profit": 1.092664008,
                  "Stop_Loss": 0.0006,
                  "Order_ID": 1039,
                  "Account_ID": "101-004-31059296-001",
                  "_deepnote_index_column": 21
                },
                {
                  "Time": "2025-04-07 18:46:04.888305222+00:00",
                  "Strategy": "volume_based_hedge",
                  "Type": "BUY",
                  "Quantity": 1000000,
                  "Price": 1.09332,
                  "Take_Profit": 1.09495998,
                  "Stop_Loss": 0.0006,
                  "Order_ID": 58,
                  "Account_ID": "101-004-31059296-003",
                  "_deepnote_index_column": 22
                },
                {
                  "Time": "2025-04-08 10:21:03.117912447+00:00",
                  "Strategy": "volume_based_hedge",
                  "Type": "BUY",
                  "Quantity": 1000000,
                  "Price": 1.09172,
                  "Take_Profit": 1.0933575800000002,
                  "Stop_Loss": 0.0006,
                  "Order_ID": 64,
                  "Account_ID": "101-004-31059296-003",
                  "_deepnote_index_column": 23
                },
                {
                  "Time": "2025-04-08 10:36:03.490659841+00:00",
                  "Strategy": "volume_based_hedge",
                  "Type": "BUY",
                  "Quantity": 1000000,
                  "Price": 1.09327,
                  "Take_Profit": 1.094909905,
                  "Stop_Loss": 0.0006,
                  "Order_ID": 70,
                  "Account_ID": "101-004-31059296-003",
                  "_deepnote_index_column": 24
                },
                {
                  "Time": "2025-04-08 10:46:03.448784390+00:00",
                  "Strategy": "volume_based_hedge",
                  "Type": "BUY",
                  "Quantity": 1000000,
                  "Price": 1.09335,
                  "Take_Profit": 1.0949900250000002,
                  "Stop_Loss": 0.0006,
                  "Order_ID": 76,
                  "Account_ID": "101-004-31059296-003",
                  "_deepnote_index_column": 25
                },
                {
                  "Time": "2025-04-08 11:16:02.490002941+00:00",
                  "Strategy": "volume_based",
                  "Type": "SELL",
                  "Quantity": -1000000,
                  "Price": 1.09387,
                  "Take_Profit": 1.092229195,
                  "Stop_Loss": 0.0006,
                  "Order_ID": 1049,
                  "Account_ID": "101-004-31059296-001",
                  "_deepnote_index_column": 26
                },
                {
                  "Time": "2025-04-08 11:16:04.942459334+00:00",
                  "Strategy": "volume_based_hedge",
                  "Type": "BUY",
                  "Quantity": 1000000,
                  "Price": 1.09387,
                  "Take_Profit": 1.095510805,
                  "Stop_Loss": 0.0006,
                  "Order_ID": 83,
                  "Account_ID": "101-004-31059296-003",
                  "_deepnote_index_column": 27
                },
                {
                  "Time": "2025-04-08 11:21:02.996690066+00:00",
                  "Strategy": "volume_based",
                  "Type": "SELL",
                  "Quantity": -1000000,
                  "Price": 1.09424,
                  "Take_Profit": 1.09259864,
                  "Stop_Loss": 0.0006,
                  "Order_ID": 1055,
                  "Account_ID": "101-004-31059296-001",
                  "_deepnote_index_column": 28
                },
                {
                  "Time": "2025-04-08 11:21:05.129298655+00:00",
                  "Strategy": "volume_based_hedge",
                  "Type": "BUY",
                  "Quantity": 1000000,
                  "Price": 1.09424,
                  "Take_Profit": 1.09588136,
                  "Stop_Loss": 0.0006,
                  "Order_ID": 87,
                  "Account_ID": "101-004-31059296-003",
                  "_deepnote_index_column": 29
                },
                {
                  "Time": "2025-04-08 11:26:02.766602671+00:00",
                  "Strategy": "volume_based",
                  "Type": "SELL",
                  "Quantity": -1000000,
                  "Price": 1.09418,
                  "Take_Profit": 1.09253873,
                  "Stop_Loss": 0.0006,
                  "Order_ID": 1059,
                  "Account_ID": "101-004-31059296-001",
                  "_deepnote_index_column": 30
                },
                {
                  "Time": "2025-04-08 11:26:05.069808185+00:00",
                  "Strategy": "volume_based_hedge",
                  "Type": "BUY",
                  "Quantity": 1000000,
                  "Price": 1.09418,
                  "Take_Profit": 1.09582127,
                  "Stop_Loss": 0.0006,
                  "Order_ID": 91,
                  "Account_ID": "101-004-31059296-003",
                  "_deepnote_index_column": 31
                },
                {
                  "Time": "2025-04-08 11:31:03.095238270+00:00",
                  "Strategy": "volume_based",
                  "Type": "SELL",
                  "Quantity": -1000000,
                  "Price": 1.09354,
                  "Take_Profit": 1.09189969,
                  "Stop_Loss": 0.0006,
                  "Order_ID": 1063,
                  "Account_ID": "101-004-31059296-001",
                  "_deepnote_index_column": 32
                },
                {
                  "Time": "2025-04-08 11:31:05.647641178+00:00",
                  "Strategy": "volume_based_hedge",
                  "Type": "BUY",
                  "Quantity": 1000000,
                  "Price": 1.09354,
                  "Take_Profit": 1.09518031,
                  "Stop_Loss": 0.0006,
                  "Order_ID": 101,
                  "Account_ID": "101-004-31059296-003",
                  "_deepnote_index_column": 33
                },
                {
                  "Time": "2025-04-08 11:41:03.133728816+00:00",
                  "Strategy": "volume_based",
                  "Type": "SELL",
                  "Quantity": -1000000,
                  "Price": 1.09273,
                  "Take_Profit": 1.091090905,
                  "Stop_Loss": 0.0006,
                  "Order_ID": 1067,
                  "Account_ID": "101-004-31059296-001",
                  "_deepnote_index_column": 34
                },
                {
                  "Time": "2025-04-08 11:41:05.495272187+00:00",
                  "Strategy": "volume_based_hedge",
                  "Type": "BUY",
                  "Quantity": 1000000,
                  "Price": 1.09273,
                  "Take_Profit": 1.094369095,
                  "Stop_Loss": 0.0006,
                  "Order_ID": 107,
                  "Account_ID": "101-004-31059296-003",
                  "_deepnote_index_column": 35
                },
                {
                  "Time": "2025-04-08 11:56:03.248336381+00:00",
                  "Strategy": "volume_based",
                  "Type": "BUY",
                  "Quantity": 1000000,
                  "Price": 1.09379,
                  "Take_Profit": 1.0954306850000002,
                  "Stop_Loss": 0.0006,
                  "Order_ID": 1076,
                  "Account_ID": "101-004-31059296-001",
                  "_deepnote_index_column": 36
                },
                {
                  "Time": "2025-04-08 11:56:05.684102063+00:00",
                  "Strategy": "volume_based_hedge",
                  "Type": "SELL",
                  "Quantity": -1000000,
                  "Price": 1.09379,
                  "Take_Profit": 1.092149315,
                  "Stop_Loss": 0.0006,
                  "Order_ID": 113,
                  "Account_ID": "101-004-31059296-003",
                  "_deepnote_index_column": 37
                },
                {
                  "Time": "2025-04-08 12:16:02.599900897+00:00",
                  "Strategy": "volume_based",
                  "Type": "BUY",
                  "Quantity": 1000000,
                  "Price": 1.09512,
                  "Take_Profit": 1.09676268,
                  "Stop_Loss": 0.0006,
                  "Order_ID": 1084,
                  "Account_ID": "101-004-31059296-001",
                  "_deepnote_index_column": 38
                },
                {
                  "Time": "2025-04-08 12:16:05.074576928+00:00",
                  "Strategy": "volume_based_hedge",
                  "Type": "SELL",
                  "Quantity": -1000000,
                  "Price": 1.09512,
                  "Take_Profit": 1.09347732,
                  "Stop_Loss": 0.0006,
                  "Order_ID": 119,
                  "Account_ID": "101-004-31059296-003",
                  "_deepnote_index_column": 39
                },
                {
                  "Time": "2025-04-08 12:26:03.391295197+00:00",
                  "Strategy": "volume_based",
                  "Type": "SELL",
                  "Quantity": -1000000,
                  "Price": 1.09462,
                  "Take_Profit": 1.09297807,
                  "Stop_Loss": 0.0006,
                  "Order_ID": 1090,
                  "Account_ID": "101-004-31059296-001",
                  "_deepnote_index_column": 40
                },
                {
                  "Time": "2025-04-08 12:26:05.744385388+00:00",
                  "Strategy": "volume_based_hedge",
                  "Type": "BUY",
                  "Quantity": 1000000,
                  "Price": 1.09462,
                  "Take_Profit": 1.09626193,
                  "Stop_Loss": 0.0006,
                  "Order_ID": 123,
                  "Account_ID": "101-004-31059296-003",
                  "_deepnote_index_column": 41
                },
                {
                  "Time": "2025-04-08 12:41:03.068256130+00:00",
                  "Strategy": "volume_based",
                  "Type": "BUY",
                  "Quantity": 1000000,
                  "Price": 1.09669,
                  "Take_Profit": 1.098335035,
                  "Stop_Loss": 0.0006,
                  "Order_ID": 1096,
                  "Account_ID": "101-004-31059296-001",
                  "_deepnote_index_column": 42
                },
                {
                  "Time": "2025-04-08 12:41:05.538691345+00:00",
                  "Strategy": "volume_based_hedge",
                  "Type": "SELL",
                  "Quantity": -1000000,
                  "Price": 1.09669,
                  "Take_Profit": 1.095044965,
                  "Stop_Loss": 0.0006,
                  "Order_ID": 127,
                  "Account_ID": "101-004-31059296-003",
                  "_deepnote_index_column": 43
                },
                {
                  "Time": "2025-04-08 12:46:03.362745592+00:00",
                  "Strategy": "volume_based",
                  "Type": "SELL",
                  "Quantity": -1000000,
                  "Price": 1.09586,
                  "Take_Profit": 1.09421621,
                  "Stop_Loss": 0.0006,
                  "Order_ID": 1102,
                  "Account_ID": "101-004-31059296-001",
                  "_deepnote_index_column": 44
                },
                {
                  "Time": "2025-04-08 12:46:05.569237015+00:00",
                  "Strategy": "volume_based_hedge",
                  "Type": "BUY",
                  "Quantity": 1000000,
                  "Price": 1.09586,
                  "Take_Profit": 1.0975037900000002,
                  "Stop_Loss": 0.0006,
                  "Order_ID": 131,
                  "Account_ID": "101-004-31059296-003",
                  "_deepnote_index_column": 45
                },
                {
                  "Time": "2025-04-08 12:51:02.978899523+00:00",
                  "Strategy": "volume_based",
                  "Type": "SELL",
                  "Quantity": -1000000,
                  "Price": 1.09553,
                  "Take_Profit": 1.0938867049999998,
                  "Stop_Loss": 0.0006,
                  "Order_ID": 1106,
                  "Account_ID": "101-004-31059296-001",
                  "_deepnote_index_column": 46
                },
                {
                  "Time": "2025-04-08 12:51:05.357344173+00:00",
                  "Strategy": "volume_based_hedge",
                  "Type": "BUY",
                  "Quantity": 1000000,
                  "Price": 1.09553,
                  "Take_Profit": 1.097173295,
                  "Stop_Loss": 0.0006,
                  "Order_ID": 135,
                  "Account_ID": "101-004-31059296-003",
                  "_deepnote_index_column": 47
                },
                {
                  "Time": "2025-04-08 13:01:02.630041115+00:00",
                  "Strategy": "volume_based",
                  "Type": "BUY",
                  "Quantity": 1000000,
                  "Price": 1.09484,
                  "Take_Profit": 1.0964822600000002,
                  "Stop_Loss": 0.0006,
                  "Order_ID": 1110,
                  "Account_ID": "101-004-31059296-001",
                  "_deepnote_index_column": 48
                },
                {
                  "Time": "2025-04-08 13:01:04.996788477+00:00",
                  "Strategy": "volume_based_hedge",
                  "Type": "SELL",
                  "Quantity": -1000000,
                  "Price": 1.09484,
                  "Take_Profit": 1.09319774,
                  "Stop_Loss": 0.0006,
                  "Order_ID": 141,
                  "Account_ID": "101-004-31059296-003",
                  "_deepnote_index_column": 49
                },
                {
                  "Time": "2025-04-08 13:36:03.510731537+00:00",
                  "Strategy": "volume_based",
                  "Type": "BUY",
                  "Quantity": 1000000,
                  "Price": 1.09414,
                  "Take_Profit": 1.09578121,
                  "Stop_Loss": 0.0006,
                  "Order_ID": 1116,
                  "Account_ID": "101-004-31059296-001",
                  "_deepnote_index_column": 50
                },
                {
                  "Time": "2025-04-08 13:36:05.754633928+00:00",
                  "Strategy": "volume_based_hedge",
                  "Type": "SELL",
                  "Quantity": -1000000,
                  "Price": 1.09414,
                  "Take_Profit": 1.09249879,
                  "Stop_Loss": 0.0006,
                  "Order_ID": 147,
                  "Account_ID": "101-004-31059296-003",
                  "_deepnote_index_column": 51
                },
                {
                  "Time": "2025-04-08 13:46:02.917897897+00:00",
                  "Strategy": "volume_based",
                  "Type": "SELL",
                  "Quantity": -1000000,
                  "Price": 1.093,
                  "Take_Profit": 1.0913605,
                  "Stop_Loss": 0.0006,
                  "Order_ID": 1122,
                  "Account_ID": "101-004-31059296-001",
                  "_deepnote_index_column": 52
                },
                {
                  "Time": "2025-04-08 13:46:05.311970004+00:00",
                  "Strategy": "volume_based_hedge",
                  "Type": "BUY",
                  "Quantity": 1000000,
                  "Price": 1.093,
                  "Take_Profit": 1.0946395,
                  "Stop_Loss": 0.0006,
                  "Order_ID": 153,
                  "Account_ID": "101-004-31059296-003",
                  "_deepnote_index_column": 53
                },
                {
                  "Time": "2025-04-08 13:56:03.255594906+00:00",
                  "Strategy": "volume_based",
                  "Type": "BUY",
                  "Quantity": 1000000,
                  "Price": 1.09406,
                  "Take_Profit": 1.0957010900000002,
                  "Stop_Loss": 0.0006,
                  "Order_ID": 1128,
                  "Account_ID": "101-004-31059296-001",
                  "_deepnote_index_column": 54
                },
                {
                  "Time": "2025-04-08 13:56:05.584479434+00:00",
                  "Strategy": "volume_based_hedge",
                  "Type": "SELL",
                  "Quantity": -1000000,
                  "Price": 1.09406,
                  "Take_Profit": 1.09241891,
                  "Stop_Loss": 0.0006,
                  "Order_ID": 159,
                  "Account_ID": "101-004-31059296-003",
                  "_deepnote_index_column": 55
                },
                {
                  "Time": "2025-04-08 14:11:03.894784310+00:00",
                  "Strategy": "volume_based",
                  "Type": "BUY",
                  "Quantity": 1000000,
                  "Price": 1.09234,
                  "Take_Profit": 1.09397851,
                  "Stop_Loss": 0.0006,
                  "Order_ID": 1134,
                  "Account_ID": "101-004-31059296-001",
                  "_deepnote_index_column": 56
                },
                {
                  "Time": "2025-04-08 14:11:06.723965571+00:00",
                  "Strategy": "volume_based_hedge",
                  "Type": "SELL",
                  "Quantity": -1000000,
                  "Price": 1.09234,
                  "Take_Profit": 1.09070149,
                  "Stop_Loss": 0.0006,
                  "Order_ID": 165,
                  "Account_ID": "101-004-31059296-003",
                  "_deepnote_index_column": 57
                },
                {
                  "Time": "2025-04-08 14:16:02.372219239+00:00",
                  "Strategy": "volume_based",
                  "Type": "SELL",
                  "Quantity": -1000000,
                  "Price": 1.09214,
                  "Take_Profit": 1.0905017900000002,
                  "Stop_Loss": 0.0006,
                  "Order_ID": 1140,
                  "Account_ID": "101-004-31059296-001",
                  "_deepnote_index_column": 58
                },
                {
                  "Time": "2025-04-08 14:16:04.769787917+00:00",
                  "Strategy": "volume_based_hedge",
                  "Type": "BUY",
                  "Quantity": 1000000,
                  "Price": 1.09214,
                  "Take_Profit": 1.0937782100000002,
                  "Stop_Loss": 0.0006,
                  "Order_ID": 171,
                  "Account_ID": "101-004-31059296-003",
                  "_deepnote_index_column": 59
                },
                {
                  "Time": "2025-04-08 14:21:02.132526021+00:00",
                  "Strategy": "volume_based",
                  "Type": "BUY",
                  "Quantity": 1000000,
                  "Price": 1.09175,
                  "Take_Profit": 1.093387625,
                  "Stop_Loss": 0.0006,
                  "Order_ID": 1146,
                  "Account_ID": "101-004-31059296-001",
                  "_deepnote_index_column": 60
                },
                {
                  "Time": "2025-04-08 14:21:04.427896470+00:00",
                  "Strategy": "volume_based_hedge",
                  "Type": "SELL",
                  "Quantity": -1000000,
                  "Price": 1.09175,
                  "Take_Profit": 1.090112375,
                  "Stop_Loss": 0.0006,
                  "Order_ID": 177,
                  "Account_ID": "101-004-31059296-003",
                  "_deepnote_index_column": 61
                },
                {
                  "Time": "2025-04-08 14:31:03.463843179+00:00",
                  "Strategy": "volume_based",
                  "Type": "BUY",
                  "Quantity": 1000000,
                  "Price": 1.09055,
                  "Take_Profit": 1.092185825,
                  "Stop_Loss": 0.0006,
                  "Order_ID": 1152,
                  "Account_ID": "101-004-31059296-001",
                  "_deepnote_index_column": 62
                },
                {
                  "Time": "2025-04-08 14:31:06.155051729+00:00",
                  "Strategy": "volume_based_hedge",
                  "Type": "SELL",
                  "Quantity": -1000000,
                  "Price": 1.09055,
                  "Take_Profit": 1.088914175,
                  "Stop_Loss": 0.0006,
                  "Order_ID": 183,
                  "Account_ID": "101-004-31059296-003",
                  "_deepnote_index_column": 63
                },
                {
                  "Time": "2025-04-08 14:56:03.180436767+00:00",
                  "Strategy": "volume_based",
                  "Type": "SELL",
                  "Quantity": -1000000,
                  "Price": 1.09106,
                  "Take_Profit": 1.08942341,
                  "Stop_Loss": 0.0006,
                  "Order_ID": 1158,
                  "Account_ID": "101-004-31059296-001",
                  "_deepnote_index_column": 64
                },
                {
                  "Time": "2025-04-08 14:56:05.986061997+00:00",
                  "Strategy": "volume_based_hedge",
                  "Type": "BUY",
                  "Quantity": 1000000,
                  "Price": 1.09106,
                  "Take_Profit": 1.09269659,
                  "Stop_Loss": 0.0006,
                  "Order_ID": 189,
                  "Account_ID": "101-004-31059296-003",
                  "_deepnote_index_column": 65
                },
                {
                  "Time": "2025-04-08 15:01:02.671064752+00:00",
                  "Strategy": "volume_based",
                  "Type": "BUY",
                  "Quantity": 1000000,
                  "Price": 1.09103,
                  "Take_Profit": 1.092666545,
                  "Stop_Loss": 0.0006,
                  "Order_ID": 1162,
                  "Account_ID": "101-004-31059296-001",
                  "_deepnote_index_column": 66
                },
                {
                  "Time": "2025-04-08 15:01:04.999097689+00:00",
                  "Strategy": "volume_based_hedge",
                  "Type": "SELL",
                  "Quantity": -1000000,
                  "Price": 1.09103,
                  "Take_Profit": 1.089393455,
                  "Stop_Loss": 0.0006,
                  "Order_ID": 195,
                  "Account_ID": "101-004-31059296-003",
                  "_deepnote_index_column": 67
                },
                {
                  "Time": "2025-04-08 15:06:03.393316769+00:00",
                  "Strategy": "volume_based",
                  "Type": "BUY",
                  "Quantity": 1000000,
                  "Price": 1.09089,
                  "Take_Profit": 1.092526335,
                  "Stop_Loss": 0.0006,
                  "Order_ID": 1166,
                  "Account_ID": "101-004-31059296-001",
                  "_deepnote_index_column": 68
                },
                {
                  "Time": "2025-04-08 15:06:05.725538601+00:00",
                  "Strategy": "volume_based_hedge",
                  "Type": "SELL",
                  "Quantity": -1000000,
                  "Price": 1.09089,
                  "Take_Profit": 1.089253665,
                  "Stop_Loss": 0.0006,
                  "Order_ID": 201,
                  "Account_ID": "101-004-31059296-003",
                  "_deepnote_index_column": 69
                },
                {
                  "Time": "2025-04-08 15:11:02.558261298+00:00",
                  "Strategy": "volume_based",
                  "Type": "BUY",
                  "Quantity": 1000000,
                  "Price": 1.09081,
                  "Take_Profit": 1.092446215,
                  "Stop_Loss": 0.0006,
                  "Order_ID": 1172,
                  "Account_ID": "101-004-31059296-001",
                  "_deepnote_index_column": 70
                },
                {
                  "Time": "2025-04-08 15:11:05.039234153+00:00",
                  "Strategy": "volume_based_hedge",
                  "Type": "SELL",
                  "Quantity": -1000000,
                  "Price": 1.09081,
                  "Take_Profit": 1.089173785,
                  "Stop_Loss": 0.0006,
                  "Order_ID": 205,
                  "Account_ID": "101-004-31059296-003",
                  "_deepnote_index_column": 71
                },
                {
                  "Time": "2025-04-08 15:16:02.736171356+00:00",
                  "Strategy": "volume_based",
                  "Type": "SELL",
                  "Quantity": -1000000,
                  "Price": 1.08986,
                  "Take_Profit": 1.08822521,
                  "Stop_Loss": 0.0006,
                  "Order_ID": 1178,
                  "Account_ID": "101-004-31059296-001",
                  "_deepnote_index_column": 72
                },
                {
                  "Time": "2025-04-08 15:16:04.984006112+00:00",
                  "Strategy": "volume_based_hedge",
                  "Type": "BUY",
                  "Quantity": 1000000,
                  "Price": 1.08986,
                  "Take_Profit": 1.09149479,
                  "Stop_Loss": 0.0006,
                  "Order_ID": 215,
                  "Account_ID": "101-004-31059296-003",
                  "_deepnote_index_column": 73
                },
                {
                  "Time": "2025-04-08 15:21:03.195136466+00:00",
                  "Strategy": "volume_based",
                  "Type": "SELL",
                  "Quantity": -1000000,
                  "Price": 1.09024,
                  "Take_Profit": 1.0886046400000002,
                  "Stop_Loss": 0.0006,
                  "Order_ID": 1184,
                  "Account_ID": "101-004-31059296-001",
                  "_deepnote_index_column": 74
                },
                {
                  "Time": "2025-04-08 15:21:05.554091974+00:00",
                  "Strategy": "volume_based_hedge",
                  "Type": "BUY",
                  "Quantity": 1000000,
                  "Price": 1.09024,
                  "Take_Profit": 1.0918753600000002,
                  "Stop_Loss": 0.0006,
                  "Order_ID": 221,
                  "Account_ID": "101-004-31059296-003",
                  "_deepnote_index_column": 75
                },
                {
                  "Time": "2025-04-08 15:46:02.802291861+00:00",
                  "Strategy": "volume_based",
                  "Type": "SELL",
                  "Quantity": -1000000,
                  "Price": 1.09084,
                  "Take_Profit": 1.08920374,
                  "Stop_Loss": 0.0006,
                  "Order_ID": 1190,
                  "Account_ID": "101-004-31059296-001",
                  "_deepnote_index_column": 76
                },
                {
                  "Time": "2025-04-08 15:46:05.285787883+00:00",
                  "Strategy": "volume_based_hedge",
                  "Type": "BUY",
                  "Quantity": 1000000,
                  "Price": 1.09084,
                  "Take_Profit": 1.0924762600000002,
                  "Stop_Loss": 0.0006,
                  "Order_ID": 229,
                  "Account_ID": "101-004-31059296-003",
                  "_deepnote_index_column": 77
                },
                {
                  "Time": "2025-04-08 15:51:03.738782116+00:00",
                  "Strategy": "volume_based",
                  "Type": "BUY",
                  "Quantity": 1000000,
                  "Price": 1.09157,
                  "Take_Profit": 1.093207355,
                  "Stop_Loss": 0.0006,
                  "Order_ID": 1196,
                  "Account_ID": "101-004-31059296-001",
                  "_deepnote_index_column": 78
                },
                {
                  "Time": "2025-04-08 15:51:06.231100649+00:00",
                  "Strategy": "volume_based_hedge",
                  "Type": "SELL",
                  "Quantity": -1000000,
                  "Price": 1.09157,
                  "Take_Profit": 1.089932645,
                  "Stop_Loss": 0.0006,
                  "Order_ID": 233,
                  "Account_ID": "101-004-31059296-003",
                  "_deepnote_index_column": 79
                },
                {
                  "Time": "2025-04-08 15:56:02.638544375+00:00",
                  "Strategy": "volume_based",
                  "Type": "BUY",
                  "Quantity": 1000000,
                  "Price": 1.09178,
                  "Take_Profit": 1.09341767,
                  "Stop_Loss": 0.0006,
                  "Order_ID": 1202,
                  "Account_ID": "101-004-31059296-001",
                  "_deepnote_index_column": 80
                },
                {
                  "Time": "2025-04-08 15:56:04.891743596+00:00",
                  "Strategy": "volume_based_hedge",
                  "Type": "SELL",
                  "Quantity": -1000000,
                  "Price": 1.09178,
                  "Take_Profit": 1.09014233,
                  "Stop_Loss": 0.0006,
                  "Order_ID": 237,
                  "Account_ID": "101-004-31059296-003",
                  "_deepnote_index_column": 81
                },
                {
                  "Time": "2025-04-08 16:11:02.562616092+00:00",
                  "Strategy": "volume_based_hedge",
                  "Type": "SELL",
                  "Quantity": -1000000,
                  "Price": 1.09086,
                  "Take_Profit": 1.08922371,
                  "Stop_Loss": 0.0006,
                  "Order_ID": 243,
                  "Account_ID": "101-004-31059296-003",
                  "_deepnote_index_column": 82
                },
                {
                  "Time": "2025-04-08 16:21:03.202235397+00:00",
                  "Strategy": "volume_based_hedge",
                  "Type": "BUY",
                  "Quantity": 1000000,
                  "Price": 1.09084,
                  "Take_Profit": 1.0924762600000002,
                  "Stop_Loss": 0.0006,
                  "Order_ID": 247,
                  "Account_ID": "101-004-31059296-003",
                  "_deepnote_index_column": 83
                },
                {
                  "Time": "2025-04-08 16:41:03.003971668+00:00",
                  "Strategy": "volume_based_hedge",
                  "Type": "SELL",
                  "Quantity": -1000000,
                  "Price": 1.09162,
                  "Take_Profit": 1.08998257,
                  "Stop_Loss": 0.0006,
                  "Order_ID": 251,
                  "Account_ID": "101-004-31059296-003",
                  "_deepnote_index_column": 84
                },
                {
                  "Time": "2025-04-08 16:46:03.102750958+00:00",
                  "Strategy": "volume_based_hedge",
                  "Type": "BUY",
                  "Quantity": 1000000,
                  "Price": 1.09211,
                  "Take_Profit": 1.093748165,
                  "Stop_Loss": 0.0006,
                  "Order_ID": 257,
                  "Account_ID": "101-004-31059296-003",
                  "_deepnote_index_column": 85
                },
                {
                  "Time": "2025-04-08 16:46:05.740907415+00:00",
                  "Strategy": "volume_based",
                  "Type": "SELL",
                  "Quantity": -1000000,
                  "Price": 1.09211,
                  "Take_Profit": 1.090471835,
                  "Stop_Loss": 0.0006,
                  "Order_ID": 1208,
                  "Account_ID": "101-004-31059296-001",
                  "_deepnote_index_column": 86
                },
                {
                  "Time": "2025-04-08 16:51:03.306375651+00:00",
                  "Strategy": "volume_based_hedge",
                  "Type": "SELL",
                  "Quantity": -1000000,
                  "Price": 1.0929,
                  "Take_Profit": 1.09126065,
                  "Stop_Loss": 0.0006,
                  "Order_ID": 263,
                  "Account_ID": "101-004-31059296-003",
                  "_deepnote_index_column": 87
                },
                {
                  "Time": "2025-04-08 16:51:05.947268138+00:00",
                  "Strategy": "volume_based",
                  "Type": "BUY",
                  "Quantity": 1000000,
                  "Price": 1.0929,
                  "Take_Profit": 1.09453935,
                  "Stop_Loss": 0.0006,
                  "Order_ID": 1214,
                  "Account_ID": "101-004-31059296-001",
                  "_deepnote_index_column": 88
                },
                {
                  "Time": "2025-04-08 16:56:02.205260921+00:00",
                  "Strategy": "volume_based_hedge",
                  "Type": "SELL",
                  "Quantity": -1000000,
                  "Price": 1.0925,
                  "Take_Profit": 1.09086125,
                  "Stop_Loss": 0.0006,
                  "Order_ID": 267,
                  "Account_ID": "101-004-31059296-003",
                  "_deepnote_index_column": 89
                },
                {
                  "Time": "2025-04-08 16:56:04.836491276+00:00",
                  "Strategy": "volume_based",
                  "Type": "BUY",
                  "Quantity": 1000000,
                  "Price": 1.0925,
                  "Take_Profit": 1.0941387500000002,
                  "Stop_Loss": 0.0006,
                  "Order_ID": 1220,
                  "Account_ID": "101-004-31059296-001",
                  "_deepnote_index_column": 90
                },
                {
                  "Time": "2025-04-08 17:36:02.790809521+00:00",
                  "Strategy": "volume_based_hedge",
                  "Type": "BUY",
                  "Quantity": 1000000,
                  "Price": 1.09416,
                  "Take_Profit": 1.09580124,
                  "Stop_Loss": 0.0006,
                  "Order_ID": 275,
                  "Account_ID": "101-004-31059296-003",
                  "_deepnote_index_column": 91
                },
                {
                  "Time": "2025-04-08 17:36:05.672488782+00:00",
                  "Strategy": "volume_based",
                  "Type": "SELL",
                  "Quantity": -1000000,
                  "Price": 1.09416,
                  "Take_Profit": 1.09251876,
                  "Stop_Loss": 0.0006,
                  "Order_ID": 1228,
                  "Account_ID": "101-004-31059296-001",
                  "_deepnote_index_column": 92
                },
                {
                  "Time": "2025-04-08 17:41:03.183285087+00:00",
                  "Strategy": "volume_based_hedge",
                  "Type": "BUY",
                  "Quantity": 1000000,
                  "Price": 1.09307,
                  "Take_Profit": 1.094709605,
                  "Stop_Loss": 0.0006,
                  "Order_ID": 281,
                  "Account_ID": "101-004-31059296-003",
                  "_deepnote_index_column": 93
                },
                {
                  "Time": "2025-04-08 17:41:05.774516244+00:00",
                  "Strategy": "volume_based",
                  "Type": "SELL",
                  "Quantity": -1000000,
                  "Price": 1.09307,
                  "Take_Profit": 1.091430395,
                  "Stop_Loss": 0.0006,
                  "Order_ID": 1232,
                  "Account_ID": "101-004-31059296-001",
                  "_deepnote_index_column": 94
                },
                {
                  "Time": "2025-04-08 17:51:02.767695967+00:00",
                  "Strategy": "volume_based_hedge",
                  "Type": "SELL",
                  "Quantity": -1000000,
                  "Price": 1.09394,
                  "Take_Profit": 1.09229909,
                  "Stop_Loss": 0.0006,
                  "Order_ID": 287,
                  "Account_ID": "101-004-31059296-003",
                  "_deepnote_index_column": 95
                },
                {
                  "Time": "2025-04-08 17:51:05.571540911+00:00",
                  "Strategy": "volume_based",
                  "Type": "BUY",
                  "Quantity": 1000000,
                  "Price": 1.09394,
                  "Take_Profit": 1.09558091,
                  "Stop_Loss": 0.0006,
                  "Order_ID": 1240,
                  "Account_ID": "101-004-31059296-001",
                  "_deepnote_index_column": 96
                }
              ],
              "type": "dataframe"
            },
            "text/plain": "                                  Time            Strategy  Type  Quantity  \\\n0  2025-04-05 19:19:40.164025485+00:00        volume_based  SELL  -1000000   \n1  2025-04-06 01:00:05.117322734+00:00        volume_based  SELL  -1000000   \n2  2025-04-06 01:02:30.838158175+00:00        volume_based  SELL  -1000000   \n3  2025-04-06 01:02:33.098770020+00:00  volume_based_hedge   BUY   1000000   \n4  2025-04-06 01:24:19.140515970+00:00        volume_based  SELL  -1000000   \n..                                 ...                 ...   ...       ...   \n92 2025-04-08 17:36:05.672488782+00:00        volume_based  SELL  -1000000   \n93 2025-04-08 17:41:03.183285087+00:00  volume_based_hedge   BUY   1000000   \n94 2025-04-08 17:41:05.774516244+00:00        volume_based  SELL  -1000000   \n95 2025-04-08 17:51:02.767695967+00:00  volume_based_hedge  SELL  -1000000   \n96 2025-04-08 17:51:05.571540911+00:00        volume_based   BUY   1000000   \n\n      Price  Take_Profit  Stop_Loss  Order_ID            Account_ID  \n0   1.09632     1.094676   0.000548       971                   NaN  \n1   1.09632     1.094676   0.000548       973                   NaN  \n2   1.09632     1.094676   0.000548       975                   NaN  \n3   1.09632     1.097964   0.000548         7                   NaN  \n4   1.09632     1.094676   0.000548       977  101-004-31059296-001  \n..      ...          ...        ...       ...                   ...  \n92  1.09416     1.092519   0.000600      1228  101-004-31059296-001  \n93  1.09307     1.094710   0.000600       281  101-004-31059296-003  \n94  1.09307     1.091430   0.000600      1232  101-004-31059296-001  \n95  1.09394     1.092299   0.000600       287  101-004-31059296-003  \n96  1.09394     1.095581   0.000600      1240  101-004-31059296-001  \n\n[97 rows x 9 columns]",
            "text/html": "<div>\n<style scoped>\n    .dataframe tbody tr th:only-of-type {\n        vertical-align: middle;\n    }\n\n    .dataframe tbody tr th {\n        vertical-align: top;\n    }\n\n    .dataframe thead th {\n        text-align: right;\n    }\n</style>\n<table border=\"1\" class=\"dataframe\">\n  <thead>\n    <tr style=\"text-align: right;\">\n      <th></th>\n      <th>Time</th>\n      <th>Strategy</th>\n      <th>Type</th>\n      <th>Quantity</th>\n      <th>Price</th>\n      <th>Take_Profit</th>\n      <th>Stop_Loss</th>\n      <th>Order_ID</th>\n      <th>Account_ID</th>\n    </tr>\n  </thead>\n  <tbody>\n    <tr>\n      <th>0</th>\n      <td>2025-04-05 19:19:40.164025485+00:00</td>\n      <td>volume_based</td>\n      <td>SELL</td>\n      <td>-1000000</td>\n      <td>1.09632</td>\n      <td>1.094676</td>\n      <td>0.000548</td>\n      <td>971</td>\n      <td>NaN</td>\n    </tr>\n    <tr>\n      <th>1</th>\n      <td>2025-04-06 01:00:05.117322734+00:00</td>\n      <td>volume_based</td>\n      <td>SELL</td>\n      <td>-1000000</td>\n      <td>1.09632</td>\n      <td>1.094676</td>\n      <td>0.000548</td>\n      <td>973</td>\n      <td>NaN</td>\n    </tr>\n    <tr>\n      <th>2</th>\n      <td>2025-04-06 01:02:30.838158175+00:00</td>\n      <td>volume_based</td>\n      <td>SELL</td>\n      <td>-1000000</td>\n      <td>1.09632</td>\n      <td>1.094676</td>\n      <td>0.000548</td>\n      <td>975</td>\n      <td>NaN</td>\n    </tr>\n    <tr>\n      <th>3</th>\n      <td>2025-04-06 01:02:33.098770020+00:00</td>\n      <td>volume_based_hedge</td>\n      <td>BUY</td>\n      <td>1000000</td>\n      <td>1.09632</td>\n      <td>1.097964</td>\n      <td>0.000548</td>\n      <td>7</td>\n      <td>NaN</td>\n    </tr>\n    <tr>\n      <th>4</th>\n      <td>2025-04-06 01:24:19.140515970+00:00</td>\n      <td>volume_based</td>\n      <td>SELL</td>\n      <td>-1000000</td>\n      <td>1.09632</td>\n      <td>1.094676</td>\n      <td>0.000548</td>\n      <td>977</td>\n      <td>101-004-31059296-001</td>\n    </tr>\n    <tr>\n      <th>...</th>\n      <td>...</td>\n      <td>...</td>\n      <td>...</td>\n      <td>...</td>\n      <td>...</td>\n      <td>...</td>\n      <td>...</td>\n      <td>...</td>\n      <td>...</td>\n    </tr>\n    <tr>\n      <th>92</th>\n      <td>2025-04-08 17:36:05.672488782+00:00</td>\n      <td>volume_based</td>\n      <td>SELL</td>\n      <td>-1000000</td>\n      <td>1.09416</td>\n      <td>1.092519</td>\n      <td>0.000600</td>\n      <td>1228</td>\n      <td>101-004-31059296-001</td>\n    </tr>\n    <tr>\n      <th>93</th>\n      <td>2025-04-08 17:41:03.183285087+00:00</td>\n      <td>volume_based_hedge</td>\n      <td>BUY</td>\n      <td>1000000</td>\n      <td>1.09307</td>\n      <td>1.094710</td>\n      <td>0.000600</td>\n      <td>281</td>\n      <td>101-004-31059296-003</td>\n    </tr>\n    <tr>\n      <th>94</th>\n      <td>2025-04-08 17:41:05.774516244+00:00</td>\n      <td>volume_based</td>\n      <td>SELL</td>\n      <td>-1000000</td>\n      <td>1.09307</td>\n      <td>1.091430</td>\n      <td>0.000600</td>\n      <td>1232</td>\n      <td>101-004-31059296-001</td>\n    </tr>\n    <tr>\n      <th>95</th>\n      <td>2025-04-08 17:51:02.767695967+00:00</td>\n      <td>volume_based_hedge</td>\n      <td>SELL</td>\n      <td>-1000000</td>\n      <td>1.09394</td>\n      <td>1.092299</td>\n      <td>0.000600</td>\n      <td>287</td>\n      <td>101-004-31059296-003</td>\n    </tr>\n    <tr>\n      <th>96</th>\n      <td>2025-04-08 17:51:05.571540911+00:00</td>\n      <td>volume_based</td>\n      <td>BUY</td>\n      <td>1000000</td>\n      <td>1.09394</td>\n      <td>1.095581</td>\n      <td>0.000600</td>\n      <td>1240</td>\n      <td>101-004-31059296-001</td>\n    </tr>\n  </tbody>\n</table>\n<p>97 rows × 9 columns</p>\n</div>"
          },
          "metadata": {}
        }
      ],
      "outputs_reference": null,
      "content_dependencies": null
    },
    {
      "cell_type": "code",
      "metadata": {
        "source_hash": "348d1443",
        "execution_start": 1744156258758,
        "execution_millis": 2,
        "execution_context_id": "4871396d-a585-48ac-9423-c662bb426968",
        "cell_id": "24490386f06549ebbc0b060d84061a2a",
        "deepnote_cell_type": "code"
      },
      "source": "trans_orders['accountID'].value_counts()",
      "block_group": "30aafffa3b82465882bf90094038c21a",
      "execution_count": 166,
      "outputs": [
        {
          "output_type": "execute_result",
          "execution_count": 166,
          "data": {
            "text/plain": "accountID\n101-004-31059296-003    32\n101-004-31059296-001    29\nName: count, dtype: int64"
          },
          "metadata": {}
        }
      ],
      "outputs_reference": null,
      "content_dependencies": null
    },
    {
      "cell_type": "code",
      "metadata": {
        "cell_id": "a09223ae02fb4b998389974bb9f09993",
        "deepnote_cell_type": "code"
      },
      "source": "",
      "block_group": "fe016bc223394a67afa282a41e9d8090",
      "execution_count": null,
      "outputs": [],
      "outputs_reference": null,
      "content_dependencies": null
    },
    {
      "cell_type": "markdown",
      "source": "<a style='text-decoration:none;line-height:16px;display:flex;color:#5B5B62;padding:10px;justify-content:end;' href='https://deepnote.com?utm_source=created-in-deepnote-cell&projectId=a127aa9e-0a77-4af9-a6ce-85e7a9b74042' target=\"_blank\">\n<img alt='Created in deepnote.com' style='display:inline;max-height:16px;margin:0px;margin-right:7.5px;' src='data:image/svg+xml;base64,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' > </img>\nCreated in <span style='font-weight:600;margin-left:4px;'>Deepnote</span></a>",
      "metadata": {
        "created_in_deepnote_cell": true,
        "deepnote_cell_type": "markdown"
      }
    }
  ],
  "nbformat": 4,
  "nbformat_minor": 0,
  "metadata": {
    "deepnote_persisted_session": {
      "createdAt": "2025-04-08T15:56:20.007Z"
    },
    "deepnote_notebook_id": "77432b1dee9c4e5980e363ebe2995386"
  }
}