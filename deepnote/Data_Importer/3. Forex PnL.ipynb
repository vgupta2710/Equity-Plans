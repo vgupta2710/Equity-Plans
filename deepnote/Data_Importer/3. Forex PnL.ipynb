{
  "cells": [
    {
      "cell_type": "code",
      "metadata": {
        "source_hash": "74a9bca0",
        "execution_start": 1744132215586,
        "execution_millis": 2,
        "execution_context_id": "4871396d-a585-48ac-9423-c662bb426968",
        "cell_id": "936a9ae588564d0abf5fb76626c620d6",
        "deepnote_cell_type": "code"
      },
      "source": "import os\naccess_token = os.environ[\"ACCESS_TOKEN\"]\naccount_id_demo = os.environ[\"ACCOUNT_DEMO\"]\naccount_id_hedge = os.environ[\"ACCOUNT_HEDGE\"]\nimport oandapyV20\nimport oandapyV20.endpoints.transactions as trans\nimport pandas as pd",
      "block_group": "936a9ae588564d0abf5fb76626c620d6",
      "execution_count": 18,
      "outputs": [],
      "outputs_reference": null,
      "content_dependencies": null
    },
    {
      "cell_type": "code",
      "metadata": {
        "source_hash": "517d3b93",
        "execution_start": 1744160427216,
        "execution_millis": 272,
        "execution_context_id": "4871396d-a585-48ac-9423-c662bb426968",
        "cell_id": "4b7c591013e64d1faf326f5ab951689f",
        "deepnote_cell_type": "code"
      },
      "source": "client = oandapyV20.API(access_token=access_token)\nparam = { \"id\": 900 }\nr = trans.TransactionsSinceID(accountID=account_id_demo,  params=param)\ntrades= client.request(r)\nparam1 = { \"id\": 0 }\nrequest_hedge = trans.TransactionsSinceID(accountID=account_id_hedge,  params=param1)\ntrades_hedge= client.request(request_hedge)",
      "block_group": "da0bcd9836484df49e01f0085a50a6bc",
      "execution_count": 325,
      "outputs": [],
      "outputs_reference": null,
      "content_dependencies": null
    },
    {
      "cell_type": "code",
      "metadata": {
        "source_hash": "d5ef34a1",
        "execution_start": 1744160427536,
        "execution_millis": 0,
        "execution_context_id": "4871396d-a585-48ac-9423-c662bb426968",
        "cell_id": "428356300bb2463d81adc9ea14342c4f",
        "deepnote_cell_type": "code"
      },
      "source": "all_transactions_hedge = pd.DataFrame(trades_hedge['transactions'])\nall_transactions = pd.DataFrame(trades['transactions'])\nall_transactions = pd.concat([all_transactions_hedge,all_transactions])\nall_transactions['time'] = pd.to_datetime(all_transactions['time'])\nall_transactions['date'] = all_transactions['time'].dt.date\nall_transactions = all_transactions[all_transactions['date'] == all_transactions['date'].max()]\nall_transactions['pl'] = pd.to_numeric(all_transactions['pl'])\nprint(all_transactions[all_transactions['reason'].isin(['TRAILING_STOP_LOSS_ORDER', 'TAKE_PROFIT_ORDER'])].groupby(['accountID','reason'])['pl'].sum())\nprint(all_transactions['pl'].sum())",
      "block_group": "169c2c89203341ed8ed14d6bd748c360",
      "execution_count": 326,
      "outputs": [
        {
          "name": "stdout",
          "text": "accountID             reason                  \n101-004-31059296-001  TAKE_PROFIT_ORDER           2353.7937\n                      TRAILING_STOP_LOSS_ORDER   -5911.3750\n101-004-31059296-003  TAKE_PROFIT_ORDER           3757.7192\n                      TRAILING_STOP_LOSS_ORDER   -4347.5184\nName: pl, dtype: float64\n-2733.718300000001\n",
          "output_type": "stream"
        }
      ],
      "outputs_reference": null,
      "content_dependencies": null
    },
    {
      "cell_type": "code",
      "metadata": {
        "source_hash": "1dfe3fda",
        "execution_start": 1744155114652,
        "execution_millis": 2,
        "execution_context_id": "4871396d-a585-48ac-9423-c662bb426968",
        "cell_id": "40aea4369ea241e6bb3cb2b3895c3cbc",
        "deepnote_cell_type": "code"
      },
      "source": "pd.to_numeric(all_transactions['halfSpreadCost']).sum()",
      "block_group": "83be861b503246a9aaa1b6881896c197",
      "execution_count": 80,
      "outputs": [
        {
          "output_type": "execute_result",
          "execution_count": 80,
          "data": {
            "text/plain": "4631.0979"
          },
          "metadata": {}
        }
      ],
      "outputs_reference": null,
      "content_dependencies": null
    },
    {
      "cell_type": "code",
      "metadata": {
        "source_hash": "51f45e2a",
        "execution_start": 1744160430727,
        "execution_millis": 190,
        "execution_context_id": "4871396d-a585-48ac-9423-c662bb426968",
        "cell_id": "09d17e1da306410b8e9518ff1dbbd2e5",
        "deepnote_cell_type": "code"
      },
      "source": "orders = pd.read_csv('/work/data/orders/all_orders.csv')\norders.rename(columns={'Type':'TypeB'},inplace=True)\norders['Time'] = pd.to_datetime(orders['Time'])\nall_transactions['id'] = pd.to_numeric(all_transactions['id'])\nall_transactions['batchID'] = pd.to_numeric(all_transactions['batchID'])\nall_transactions = pd.merge(all_transactions,orders,left_on='batchID', right_on = 'Order_ID',how='left')",
      "block_group": "b34f708b89b5488795a46ad50d65f92a",
      "execution_count": 328,
      "outputs": [],
      "outputs_reference": null,
      "content_dependencies": null
    },
    {
      "cell_type": "code",
      "metadata": {
        "source_hash": "41809972",
        "execution_start": 1744160439189,
        "execution_millis": 78,
        "sql_integration_id": "deepnote-dataframe-sql",
        "deepnote_table_state": {
          "sortBy": [
            {
              "id": "batchID",
              "type": "asc"
            }
          ],
          "filters": [],
          "pageSize": 5,
          "pageIndex": 0,
          "columnOrder": [
            "batchID",
            "pl",
            "time",
            "order_time"
          ],
          "hiddenColumnIds": [],
          "columnDisplayNames": [],
          "conditionalFilters": [],
          "cellFormattingRules": [],
          "wrappedTextColumnIds": []
        },
        "execution_context_id": "4871396d-a585-48ac-9423-c662bb426968",
        "deepnote_table_loading": false,
        "deepnote_variable_name": "trans_orders",
        "cell_id": "fe8ba156e9a24f609c2e1b38d47bdbaf",
        "deepnote_cell_type": "sql",
        "deepnote_sql_source": "WITH trading_orders AS (\n    SELECT \n        CAST(all1.batchID AS INTEGER) as batchID,base.accountID,all1.Strategy,all1.TypeB,\n        base.pl,\n        date_trunc('minute',all1.time) time_tf,\n        date_trunc('minute', all1.time - INTERVAL '6 minutes') AS order_time\n    FROM all_transactions base \n    LEFT JOIN all_transactions order_filled \n        ON CAST(base.orderID AS INTEGER) = order_filled.id\n    LEFT JOIN all_transactions all1 \n        ON order_filled.batchID = all1.id\n    WHERE base.reason IN ('TAKE_PROFIT_ORDER', 'TRAILING_STOP_LOSS_ORDER')\n)\nSELECT * FROM trading_orders\nORDER BY batchID "
      },
      "source": "trans_orders = _dntk.execute_sql(\n  'WITH trading_orders AS (\\n    SELECT \\n        CAST(all1.batchID AS INTEGER) as batchID,base.accountID,all1.Strategy,all1.TypeB,\\n        base.pl,\\n        date_trunc(\\'minute\\',all1.time) time_tf,\\n        date_trunc(\\'minute\\', all1.time - INTERVAL \\'6 minutes\\') AS order_time\\n    FROM all_transactions base \\n    LEFT JOIN all_transactions order_filled \\n        ON CAST(base.orderID AS INTEGER) = order_filled.id\\n    LEFT JOIN all_transactions all1 \\n        ON order_filled.batchID = all1.id\\n    WHERE base.reason IN (\\'TAKE_PROFIT_ORDER\\', \\'TRAILING_STOP_LOSS_ORDER\\')\\n)\\nSELECT * FROM trading_orders\\nORDER BY batchID ',\n  'SQL_DEEPNOTE_DATAFRAME_SQL',\n  audit_sql_comment='',\n  sql_cache_mode='cache_disabled',\n  return_variable_type='dataframe'\n)\ntrans_orders",
      "block_group": "639cb0aec93f4f93ad715d106663f29a",
      "execution_count": 332,
      "outputs": [
        {
          "output_type": "execute_result",
          "execution_count": 332,
          "data": {
            "application/vnd.deepnote.dataframe.v3+json": {
              "column_count": 7,
              "row_count": 61,
              "columns": [
                {
                  "name": "batchID",
                  "dtype": "int32",
                  "stats": {
                    "unique_count": 61,
                    "nan_count": 0,
                    "min": "64",
                    "max": "1240",
                    "histogram": [
                      {
                        "bin_start": 64,
                        "bin_end": 181.6,
                        "count": 17
                      },
                      {
                        "bin_start": 181.6,
                        "bin_end": 299.2,
                        "count": 15
                      },
                      {
                        "bin_start": 299.2,
                        "bin_end": 416.79999999999995,
                        "count": 0
                      },
                      {
                        "bin_start": 416.79999999999995,
                        "bin_end": 534.4,
                        "count": 0
                      },
                      {
                        "bin_start": 534.4,
                        "bin_end": 652,
                        "count": 0
                      },
                      {
                        "bin_start": 652,
                        "bin_end": 769.5999999999999,
                        "count": 0
                      },
                      {
                        "bin_start": 769.5999999999999,
                        "bin_end": 887.1999999999999,
                        "count": 0
                      },
                      {
                        "bin_start": 887.1999999999999,
                        "bin_end": 1004.8,
                        "count": 0
                      },
                      {
                        "bin_start": 1004.8,
                        "bin_end": 1122.3999999999999,
                        "count": 11
                      },
                      {
                        "bin_start": 1122.3999999999999,
                        "bin_end": 1240,
                        "count": 18
                      }
                    ]
                  }
                },
                {
                  "name": "accountID",
                  "dtype": "object",
                  "stats": {
                    "unique_count": 2,
                    "nan_count": 0,
                    "categories": [
                      {
                        "name": "101-004-31059296-003",
                        "count": 32
                      },
                      {
                        "name": "101-004-31059296-001",
                        "count": 29
                      }
                    ]
                  }
                },
                {
                  "name": "Strategy",
                  "dtype": "object",
                  "stats": {
                    "unique_count": 2,
                    "nan_count": 1,
                    "categories": [
                      {
                        "name": "volume_based_hedge",
                        "count": 31
                      },
                      {
                        "name": "volume_based",
                        "count": 29
                      },
                      {
                        "name": "Missing",
                        "count": 1
                      }
                    ]
                  }
                },
                {
                  "name": "TypeB",
                  "dtype": "object",
                  "stats": {
                    "unique_count": 2,
                    "nan_count": 1,
                    "categories": [
                      {
                        "name": "BUY",
                        "count": 31
                      },
                      {
                        "name": "SELL",
                        "count": 29
                      },
                      {
                        "name": "Missing",
                        "count": 1
                      }
                    ]
                  }
                },
                {
                  "name": "pl",
                  "dtype": "float64",
                  "stats": {
                    "unique_count": 61,
                    "nan_count": 0,
                    "min": "-550.8596",
                    "max": "1184.6955",
                    "histogram": [
                      {
                        "bin_start": -550.8596,
                        "bin_end": -377.30409,
                        "count": 19
                      },
                      {
                        "bin_start": -377.30409,
                        "bin_end": -203.74858,
                        "count": 16
                      },
                      {
                        "bin_start": -203.74858,
                        "bin_end": -30.193070000000034,
                        "count": 4
                      },
                      {
                        "bin_start": -30.193070000000034,
                        "bin_end": 143.36244,
                        "count": 6
                      },
                      {
                        "bin_start": 143.36244,
                        "bin_end": 316.91795,
                        "count": 7
                      },
                      {
                        "bin_start": 316.91795,
                        "bin_end": 490.47345999999993,
                        "count": 1
                      },
                      {
                        "bin_start": 490.47345999999993,
                        "bin_end": 664.0289700000001,
                        "count": 1
                      },
                      {
                        "bin_start": 664.0289700000001,
                        "bin_end": 837.58448,
                        "count": 1
                      },
                      {
                        "bin_start": 837.58448,
                        "bin_end": 1011.1399899999999,
                        "count": 3
                      },
                      {
                        "bin_start": 1011.1399899999999,
                        "bin_end": 1184.6955,
                        "count": 3
                      }
                    ]
                  }
                },
                {
                  "name": "time_tf",
                  "dtype": "datetime64[us, Etc/UTC]",
                  "stats": {
                    "unique_count": 38,
                    "nan_count": 0,
                    "min": "2025-04-08 10:21:00+00:00",
                    "max": "2025-04-08 17:51:00+00:00",
                    "histogram": [
                      {
                        "bin_start": 1744107660000000,
                        "bin_end": 1744110360000000,
                        "count": 3
                      },
                      {
                        "bin_start": 1744110360000000,
                        "bin_end": 1744113060000000,
                        "count": 9
                      },
                      {
                        "bin_start": 1744113060000000,
                        "bin_end": 1744115760000000,
                        "count": 4
                      },
                      {
                        "bin_start": 1744115760000000,
                        "bin_end": 1744118460000000,
                        "count": 4
                      },
                      {
                        "bin_start": 1744118460000000,
                        "bin_end": 1744121160000000,
                        "count": 6
                      },
                      {
                        "bin_start": 1744121160000000,
                        "bin_end": 1744123860000000,
                        "count": 8
                      },
                      {
                        "bin_start": 1744123860000000,
                        "bin_end": 1744126560000000,
                        "count": 10
                      },
                      {
                        "bin_start": 1744126560000000,
                        "bin_end": 1744129260000000,
                        "count": 4
                      },
                      {
                        "bin_start": 1744129260000000,
                        "bin_end": 1744131960000000,
                        "count": 7
                      },
                      {
                        "bin_start": 1744131960000000,
                        "bin_end": 1744134660000000,
                        "count": 6
                      }
                    ]
                  }
                },
                {
                  "name": "order_time",
                  "dtype": "datetime64[us, Etc/UTC]",
                  "stats": {
                    "unique_count": 38,
                    "nan_count": 0,
                    "min": "2025-04-08 10:15:00+00:00",
                    "max": "2025-04-08 17:45:00+00:00",
                    "histogram": [
                      {
                        "bin_start": 1744107300000000,
                        "bin_end": 1744110000000000,
                        "count": 3
                      },
                      {
                        "bin_start": 1744110000000000,
                        "bin_end": 1744112700000000,
                        "count": 9
                      },
                      {
                        "bin_start": 1744112700000000,
                        "bin_end": 1744115400000000,
                        "count": 4
                      },
                      {
                        "bin_start": 1744115400000000,
                        "bin_end": 1744118100000000,
                        "count": 4
                      },
                      {
                        "bin_start": 1744118100000000,
                        "bin_end": 1744120800000000,
                        "count": 6
                      },
                      {
                        "bin_start": 1744120800000000,
                        "bin_end": 1744123500000000,
                        "count": 8
                      },
                      {
                        "bin_start": 1744123500000000,
                        "bin_end": 1744126200000000,
                        "count": 10
                      },
                      {
                        "bin_start": 1744126200000000,
                        "bin_end": 1744128900000000,
                        "count": 4
                      },
                      {
                        "bin_start": 1744128900000000,
                        "bin_end": 1744131600000000,
                        "count": 7
                      },
                      {
                        "bin_start": 1744131600000000,
                        "bin_end": 1744134300000000,
                        "count": 6
                      }
                    ]
                  }
                },
                {
                  "name": "_deepnote_index_column",
                  "dtype": "int64"
                }
              ],
              "rows": [
                {
                  "batchID": 64,
                  "accountID": "101-004-31059296-003",
                  "Strategy": "volume_based_hedge",
                  "TypeB": "BUY",
                  "pl": 889.4796,
                  "time_tf": "2025-04-08 10:21:00+00:00",
                  "order_time": "2025-04-08 10:15:00+00:00",
                  "_deepnote_index_column": 0
                },
                {
                  "batchID": 70,
                  "accountID": "101-004-31059296-003",
                  "Strategy": "volume_based_hedge",
                  "TypeB": "BUY",
                  "pl": -425.3835,
                  "time_tf": "2025-04-08 10:36:00+00:00",
                  "order_time": "2025-04-08 10:30:00+00:00",
                  "_deepnote_index_column": 1
                },
                {
                  "batchID": 76,
                  "accountID": "101-004-31059296-003",
                  "Strategy": "volume_based_hedge",
                  "TypeB": "BUY",
                  "pl": -456.8629,
                  "time_tf": "2025-04-08 10:46:00+00:00",
                  "order_time": "2025-04-08 10:40:00+00:00",
                  "_deepnote_index_column": 2
                },
                {
                  "batchID": 83,
                  "accountID": "101-004-31059296-003",
                  "Strategy": "volume_based_hedge",
                  "TypeB": "BUY",
                  "pl": 31.1602,
                  "time_tf": "2025-04-08 11:16:00+00:00",
                  "order_time": "2025-04-08 11:10:00+00:00",
                  "_deepnote_index_column": 3
                },
                {
                  "batchID": 87,
                  "accountID": "101-004-31059296-003",
                  "Strategy": "volume_based_hedge",
                  "TypeB": "BUY",
                  "pl": -298.9971,
                  "time_tf": "2025-04-08 11:21:00+00:00",
                  "order_time": "2025-04-08 11:15:00+00:00",
                  "_deepnote_index_column": 4
                }
              ],
              "type": "dataframe"
            },
            "text/plain": "    batchID             accountID            Strategy TypeB        pl  \\\n0        64  101-004-31059296-003  volume_based_hedge   BUY  889.4796   \n1        70  101-004-31059296-003  volume_based_hedge   BUY -425.3835   \n2        76  101-004-31059296-003  volume_based_hedge   BUY -456.8629   \n3        83  101-004-31059296-003  volume_based_hedge   BUY   31.1602   \n4        87  101-004-31059296-003  volume_based_hedge   BUY -298.9971   \n..      ...                   ...                 ...   ...       ...   \n56     1214  101-004-31059296-001        volume_based   BUY -361.7824   \n57     1220  101-004-31059296-001        volume_based   BUY  233.6494   \n58     1228  101-004-31059296-001        volume_based  SELL  264.7012   \n59     1232  101-004-31059296-001        volume_based  SELL -338.1336   \n60     1240  101-004-31059296-001        volume_based   BUY -503.1821   \n\n                     time_tf                order_time  \n0  2025-04-08 10:21:00+00:00 2025-04-08 10:15:00+00:00  \n1  2025-04-08 10:36:00+00:00 2025-04-08 10:30:00+00:00  \n2  2025-04-08 10:46:00+00:00 2025-04-08 10:40:00+00:00  \n3  2025-04-08 11:16:00+00:00 2025-04-08 11:10:00+00:00  \n4  2025-04-08 11:21:00+00:00 2025-04-08 11:15:00+00:00  \n..                       ...                       ...  \n56 2025-04-08 16:51:00+00:00 2025-04-08 16:45:00+00:00  \n57 2025-04-08 16:56:00+00:00 2025-04-08 16:50:00+00:00  \n58 2025-04-08 17:36:00+00:00 2025-04-08 17:30:00+00:00  \n59 2025-04-08 17:41:00+00:00 2025-04-08 17:35:00+00:00  \n60 2025-04-08 17:51:00+00:00 2025-04-08 17:45:00+00:00  \n\n[61 rows x 7 columns]",
            "text/html": "<div>\n<style scoped>\n    .dataframe tbody tr th:only-of-type {\n        vertical-align: middle;\n    }\n\n    .dataframe tbody tr th {\n        vertical-align: top;\n    }\n\n    .dataframe thead th {\n        text-align: right;\n    }\n</style>\n<table border=\"1\" class=\"dataframe\">\n  <thead>\n    <tr style=\"text-align: right;\">\n      <th></th>\n      <th>batchID</th>\n      <th>accountID</th>\n      <th>Strategy</th>\n      <th>TypeB</th>\n      <th>pl</th>\n      <th>time_tf</th>\n      <th>order_time</th>\n    </tr>\n  </thead>\n  <tbody>\n    <tr>\n      <th>0</th>\n      <td>64</td>\n      <td>101-004-31059296-003</td>\n      <td>volume_based_hedge</td>\n      <td>BUY</td>\n      <td>889.4796</td>\n      <td>2025-04-08 10:21:00+00:00</td>\n      <td>2025-04-08 10:15:00+00:00</td>\n    </tr>\n    <tr>\n      <th>1</th>\n      <td>70</td>\n      <td>101-004-31059296-003</td>\n      <td>volume_based_hedge</td>\n      <td>BUY</td>\n      <td>-425.3835</td>\n      <td>2025-04-08 10:36:00+00:00</td>\n      <td>2025-04-08 10:30:00+00:00</td>\n    </tr>\n    <tr>\n      <th>2</th>\n      <td>76</td>\n      <td>101-004-31059296-003</td>\n      <td>volume_based_hedge</td>\n      <td>BUY</td>\n      <td>-456.8629</td>\n      <td>2025-04-08 10:46:00+00:00</td>\n      <td>2025-04-08 10:40:00+00:00</td>\n    </tr>\n    <tr>\n      <th>3</th>\n      <td>83</td>\n      <td>101-004-31059296-003</td>\n      <td>volume_based_hedge</td>\n      <td>BUY</td>\n      <td>31.1602</td>\n      <td>2025-04-08 11:16:00+00:00</td>\n      <td>2025-04-08 11:10:00+00:00</td>\n    </tr>\n    <tr>\n      <th>4</th>\n      <td>87</td>\n      <td>101-004-31059296-003</td>\n      <td>volume_based_hedge</td>\n      <td>BUY</td>\n      <td>-298.9971</td>\n      <td>2025-04-08 11:21:00+00:00</td>\n      <td>2025-04-08 11:15:00+00:00</td>\n    </tr>\n    <tr>\n      <th>...</th>\n      <td>...</td>\n      <td>...</td>\n      <td>...</td>\n      <td>...</td>\n      <td>...</td>\n      <td>...</td>\n      <td>...</td>\n    </tr>\n    <tr>\n      <th>56</th>\n      <td>1214</td>\n      <td>101-004-31059296-001</td>\n      <td>volume_based</td>\n      <td>BUY</td>\n      <td>-361.7824</td>\n      <td>2025-04-08 16:51:00+00:00</td>\n      <td>2025-04-08 16:45:00+00:00</td>\n    </tr>\n    <tr>\n      <th>57</th>\n      <td>1220</td>\n      <td>101-004-31059296-001</td>\n      <td>volume_based</td>\n      <td>BUY</td>\n      <td>233.6494</td>\n      <td>2025-04-08 16:56:00+00:00</td>\n      <td>2025-04-08 16:50:00+00:00</td>\n    </tr>\n    <tr>\n      <th>58</th>\n      <td>1228</td>\n      <td>101-004-31059296-001</td>\n      <td>volume_based</td>\n      <td>SELL</td>\n      <td>264.7012</td>\n      <td>2025-04-08 17:36:00+00:00</td>\n      <td>2025-04-08 17:30:00+00:00</td>\n    </tr>\n    <tr>\n      <th>59</th>\n      <td>1232</td>\n      <td>101-004-31059296-001</td>\n      <td>volume_based</td>\n      <td>SELL</td>\n      <td>-338.1336</td>\n      <td>2025-04-08 17:41:00+00:00</td>\n      <td>2025-04-08 17:35:00+00:00</td>\n    </tr>\n    <tr>\n      <th>60</th>\n      <td>1240</td>\n      <td>101-004-31059296-001</td>\n      <td>volume_based</td>\n      <td>BUY</td>\n      <td>-503.1821</td>\n      <td>2025-04-08 17:51:00+00:00</td>\n      <td>2025-04-08 17:45:00+00:00</td>\n    </tr>\n  </tbody>\n</table>\n<p>61 rows × 7 columns</p>\n</div>"
          },
          "metadata": {}
        }
      ],
      "outputs_reference": null,
      "content_dependencies": null
    },
    {
      "cell_type": "code",
      "metadata": {
        "source_hash": "a638302c",
        "execution_start": 1744160468866,
        "execution_millis": 1,
        "execution_context_id": "4871396d-a585-48ac-9423-c662bb426968",
        "cell_id": "baae9f4784b54998899239bc58e5e1e0",
        "deepnote_cell_type": "code"
      },
      "source": "strategy_agg=pd.merge(    \n    trans_orders[trans_orders['accountID']=='101-004-31059296-003'],\n    trans_orders[trans_orders['accountID']=='101-004-31059296-001'],\n    on = 'time_tf', how='left')",
      "block_group": "16823fb2ea9f43b2a1aeb9439bcd1814",
      "execution_count": 338,
      "outputs": [],
      "outputs_reference": null,
      "content_dependencies": null
    },
    {
      "cell_type": "code",
      "metadata": {
        "source_hash": "791e876f",
        "execution_start": 1744160654720,
        "execution_millis": 11,
        "execution_context_id": "4871396d-a585-48ac-9423-c662bb426968",
        "cell_id": "e40dbfc910304532983da3a67d72df53",
        "deepnote_cell_type": "code"
      },
      "source": "prediction_actual.head()",
      "block_group": "a2b648e6035f462da36ebdf2576b3993",
      "execution_count": 359,
      "outputs": [
        {
          "output_type": "execute_result",
          "execution_count": 359,
          "data": {
            "application/vnd.deepnote.dataframe.v3+json": {
              "column_count": 8,
              "row_count": 5,
              "columns": [
                {
                  "name": "datetime",
                  "dtype": "object",
                  "stats": {
                    "unique_count": 5,
                    "nan_count": 0,
                    "categories": [
                      {
                        "name": "2025-04-03 06:20:00+00:00",
                        "count": 1
                      },
                      {
                        "name": "2025-04-03 06:25:00+00:00",
                        "count": 1
                      },
                      {
                        "name": "3 others",
                        "count": 3
                      }
                    ]
                  }
                },
                {
                  "name": "upward_move_6",
                  "dtype": "float64",
                  "stats": {
                    "unique_count": 5,
                    "nan_count": 0,
                    "min": "12.299999999997452",
                    "max": "51.79999999999927",
                    "histogram": [
                      {
                        "bin_start": 12.299999999997452,
                        "bin_end": 16.249999999997634,
                        "count": 2
                      },
                      {
                        "bin_start": 16.249999999997634,
                        "bin_end": 20.199999999997814,
                        "count": 0
                      },
                      {
                        "bin_start": 20.199999999997814,
                        "bin_end": 24.149999999997995,
                        "count": 0
                      },
                      {
                        "bin_start": 24.149999999997995,
                        "bin_end": 28.09999999999818,
                        "count": 1
                      },
                      {
                        "bin_start": 28.09999999999818,
                        "bin_end": 32.04999999999836,
                        "count": 0
                      },
                      {
                        "bin_start": 32.04999999999836,
                        "bin_end": 35.99999999999854,
                        "count": 0
                      },
                      {
                        "bin_start": 35.99999999999854,
                        "bin_end": 39.949999999998724,
                        "count": 0
                      },
                      {
                        "bin_start": 39.949999999998724,
                        "bin_end": 43.899999999998904,
                        "count": 1
                      },
                      {
                        "bin_start": 43.899999999998904,
                        "bin_end": 47.84999999999909,
                        "count": 0
                      },
                      {
                        "bin_start": 47.84999999999909,
                        "bin_end": 51.79999999999927,
                        "count": 1
                      }
                    ]
                  }
                },
                {
                  "name": "downward_move_6",
                  "dtype": "float64",
                  "stats": {
                    "unique_count": 5,
                    "nan_count": 0,
                    "min": "0.6000000000003638",
                    "max": "8.300000000001091",
                    "histogram": [
                      {
                        "bin_start": 0.6000000000003638,
                        "bin_end": 1.3700000000004366,
                        "count": 1
                      },
                      {
                        "bin_start": 1.3700000000004366,
                        "bin_end": 2.1400000000005095,
                        "count": 0
                      },
                      {
                        "bin_start": 2.1400000000005095,
                        "bin_end": 2.910000000000582,
                        "count": 0
                      },
                      {
                        "bin_start": 2.910000000000582,
                        "bin_end": 3.6800000000006547,
                        "count": 0
                      },
                      {
                        "bin_start": 3.6800000000006547,
                        "bin_end": 4.450000000000728,
                        "count": 1
                      },
                      {
                        "bin_start": 4.450000000000728,
                        "bin_end": 5.2200000000008,
                        "count": 0
                      },
                      {
                        "bin_start": 5.2200000000008,
                        "bin_end": 5.990000000000873,
                        "count": 0
                      },
                      {
                        "bin_start": 5.990000000000873,
                        "bin_end": 6.760000000000946,
                        "count": 0
                      },
                      {
                        "bin_start": 6.760000000000946,
                        "bin_end": 7.530000000001018,
                        "count": 2
                      },
                      {
                        "bin_start": 7.530000000001018,
                        "bin_end": 8.300000000001091,
                        "count": 1
                      }
                    ]
                  }
                },
                {
                  "name": "upward_move_20",
                  "dtype": "float64",
                  "stats": {
                    "unique_count": 5,
                    "nan_count": 0,
                    "min": "12.299999999997452",
                    "max": "53.09999999999855",
                    "histogram": [
                      {
                        "bin_start": 12.299999999997452,
                        "bin_end": 16.379999999997562,
                        "count": 2
                      },
                      {
                        "bin_start": 16.379999999997562,
                        "bin_end": 20.45999999999767,
                        "count": 0
                      },
                      {
                        "bin_start": 20.45999999999767,
                        "bin_end": 24.539999999997782,
                        "count": 0
                      },
                      {
                        "bin_start": 24.539999999997782,
                        "bin_end": 28.619999999997894,
                        "count": 1
                      },
                      {
                        "bin_start": 28.619999999997894,
                        "bin_end": 32.699999999998006,
                        "count": 0
                      },
                      {
                        "bin_start": 32.699999999998006,
                        "bin_end": 36.77999999999811,
                        "count": 0
                      },
                      {
                        "bin_start": 36.77999999999811,
                        "bin_end": 40.85999999999822,
                        "count": 0
                      },
                      {
                        "bin_start": 40.85999999999822,
                        "bin_end": 44.939999999998335,
                        "count": 1
                      },
                      {
                        "bin_start": 44.939999999998335,
                        "bin_end": 49.01999999999845,
                        "count": 0
                      },
                      {
                        "bin_start": 49.01999999999845,
                        "bin_end": 53.09999999999855,
                        "count": 1
                      }
                    ]
                  }
                },
                {
                  "name": "downward_move_20",
                  "dtype": "float64",
                  "stats": {
                    "unique_count": 5,
                    "nan_count": 0,
                    "min": "0.6000000000003638",
                    "max": "35.20000000000255",
                    "histogram": [
                      {
                        "bin_start": 0.6000000000003638,
                        "bin_end": 4.060000000000582,
                        "count": 1
                      },
                      {
                        "bin_start": 4.060000000000582,
                        "bin_end": 7.520000000000801,
                        "count": 1
                      },
                      {
                        "bin_start": 7.520000000000801,
                        "bin_end": 10.98000000000102,
                        "count": 0
                      },
                      {
                        "bin_start": 10.98000000000102,
                        "bin_end": 14.440000000001238,
                        "count": 0
                      },
                      {
                        "bin_start": 14.440000000001238,
                        "bin_end": 17.900000000001455,
                        "count": 0
                      },
                      {
                        "bin_start": 17.900000000001455,
                        "bin_end": 21.360000000001676,
                        "count": 0
                      },
                      {
                        "bin_start": 21.360000000001676,
                        "bin_end": 24.820000000001894,
                        "count": 1
                      },
                      {
                        "bin_start": 24.820000000001894,
                        "bin_end": 28.28000000000211,
                        "count": 0
                      },
                      {
                        "bin_start": 28.28000000000211,
                        "bin_end": 31.74000000000233,
                        "count": 0
                      },
                      {
                        "bin_start": 31.74000000000233,
                        "bin_end": 35.20000000000255,
                        "count": 2
                      }
                    ]
                  }
                },
                {
                  "name": "bearish_move_flag_20",
                  "dtype": "int64",
                  "stats": {
                    "unique_count": 2,
                    "nan_count": 0,
                    "min": "0",
                    "max": "2",
                    "histogram": [
                      {
                        "bin_start": 0,
                        "bin_end": 0.2,
                        "count": 2
                      },
                      {
                        "bin_start": 0.2,
                        "bin_end": 0.4,
                        "count": 0
                      },
                      {
                        "bin_start": 0.4,
                        "bin_end": 0.6000000000000001,
                        "count": 0
                      },
                      {
                        "bin_start": 0.6000000000000001,
                        "bin_end": 0.8,
                        "count": 0
                      },
                      {
                        "bin_start": 0.8,
                        "bin_end": 1,
                        "count": 0
                      },
                      {
                        "bin_start": 1,
                        "bin_end": 1.2000000000000002,
                        "count": 0
                      },
                      {
                        "bin_start": 1.2000000000000002,
                        "bin_end": 1.4000000000000001,
                        "count": 0
                      },
                      {
                        "bin_start": 1.4000000000000001,
                        "bin_end": 1.6,
                        "count": 0
                      },
                      {
                        "bin_start": 1.6,
                        "bin_end": 1.8,
                        "count": 0
                      },
                      {
                        "bin_start": 1.8,
                        "bin_end": 2,
                        "count": 3
                      }
                    ]
                  }
                },
                {
                  "name": "bearish_move_flag_20.1",
                  "dtype": "int64",
                  "stats": {
                    "unique_count": 2,
                    "nan_count": 0,
                    "min": "0",
                    "max": "2",
                    "histogram": [
                      {
                        "bin_start": 0,
                        "bin_end": 0.2,
                        "count": 2
                      },
                      {
                        "bin_start": 0.2,
                        "bin_end": 0.4,
                        "count": 0
                      },
                      {
                        "bin_start": 0.4,
                        "bin_end": 0.6000000000000001,
                        "count": 0
                      },
                      {
                        "bin_start": 0.6000000000000001,
                        "bin_end": 0.8,
                        "count": 0
                      },
                      {
                        "bin_start": 0.8,
                        "bin_end": 1,
                        "count": 0
                      },
                      {
                        "bin_start": 1,
                        "bin_end": 1.2000000000000002,
                        "count": 0
                      },
                      {
                        "bin_start": 1.2000000000000002,
                        "bin_end": 1.4000000000000001,
                        "count": 0
                      },
                      {
                        "bin_start": 1.4000000000000001,
                        "bin_end": 1.6,
                        "count": 0
                      },
                      {
                        "bin_start": 1.6,
                        "bin_end": 1.8,
                        "count": 0
                      },
                      {
                        "bin_start": 1.8,
                        "bin_end": 2,
                        "count": 3
                      }
                    ]
                  }
                },
                {
                  "name": "y_actual",
                  "dtype": "int64",
                  "stats": {
                    "unique_count": 3,
                    "nan_count": 0,
                    "min": "1",
                    "max": "3",
                    "histogram": [
                      {
                        "bin_start": 1,
                        "bin_end": 1.2,
                        "count": 2
                      },
                      {
                        "bin_start": 1.2,
                        "bin_end": 1.4,
                        "count": 0
                      },
                      {
                        "bin_start": 1.4,
                        "bin_end": 1.6,
                        "count": 0
                      },
                      {
                        "bin_start": 1.6,
                        "bin_end": 1.8,
                        "count": 0
                      },
                      {
                        "bin_start": 1.8,
                        "bin_end": 2,
                        "count": 0
                      },
                      {
                        "bin_start": 2,
                        "bin_end": 2.2,
                        "count": 2
                      },
                      {
                        "bin_start": 2.2,
                        "bin_end": 2.4000000000000004,
                        "count": 0
                      },
                      {
                        "bin_start": 2.4000000000000004,
                        "bin_end": 2.6,
                        "count": 0
                      },
                      {
                        "bin_start": 2.6,
                        "bin_end": 2.8,
                        "count": 0
                      },
                      {
                        "bin_start": 2.8,
                        "bin_end": 3,
                        "count": 1
                      }
                    ]
                  }
                },
                {
                  "name": "_deepnote_index_column",
                  "dtype": "int64"
                }
              ],
              "rows": [
                {
                  "datetime": "2025-04-03 06:20:00+00:00",
                  "upward_move_6": 51.79999999999927,
                  "downward_move_6": 0.6000000000003638,
                  "upward_move_20": 53.09999999999855,
                  "downward_move_20": 0.6000000000003638,
                  "bearish_move_flag_20": 0,
                  "bearish_move_flag_20.1": 0,
                  "y_actual": 1,
                  "_deepnote_index_column": 0
                },
                {
                  "datetime": "2025-04-03 06:25:00+00:00",
                  "upward_move_6": 41.5,
                  "downward_move_6": 6.900000000001455,
                  "upward_move_20": 41.59999999999855,
                  "downward_move_20": 6.900000000001455,
                  "bearish_move_flag_20": 0,
                  "bearish_move_flag_20.1": 0,
                  "y_actual": 1,
                  "_deepnote_index_column": 1
                },
                {
                  "datetime": "2025-04-03 06:30:00+00:00",
                  "upward_move_6": 25.89999999999964,
                  "downward_move_6": 4.100000000000364,
                  "upward_move_20": 25.89999999999964,
                  "downward_move_20": 21.600000000000364,
                  "bearish_move_flag_20": 2,
                  "bearish_move_flag_20.1": 2,
                  "y_actual": 3,
                  "_deepnote_index_column": 2
                },
                {
                  "datetime": "2025-04-03 06:35:00+00:00",
                  "upward_move_6": 12.299999999997452,
                  "downward_move_6": 7.200000000002547,
                  "upward_move_20": 12.299999999997452,
                  "downward_move_20": 35.20000000000255,
                  "bearish_move_flag_20": 2,
                  "bearish_move_flag_20.1": 2,
                  "y_actual": 2,
                  "_deepnote_index_column": 3
                },
                {
                  "datetime": "2025-04-03 06:40:00+00:00",
                  "upward_move_6": 12.599999999998545,
                  "downward_move_6": 8.300000000001091,
                  "upward_move_20": 16.299999999999272,
                  "downward_move_20": 34.900000000001455,
                  "bearish_move_flag_20": 2,
                  "bearish_move_flag_20.1": 2,
                  "y_actual": 2,
                  "_deepnote_index_column": 4
                }
              ],
              "type": "dataframe"
            },
            "text/plain": "                    datetime  upward_move_6  downward_move_6  upward_move_20  \\\n0  2025-04-03 06:20:00+00:00           51.8              0.6            53.1   \n1  2025-04-03 06:25:00+00:00           41.5              6.9            41.6   \n2  2025-04-03 06:30:00+00:00           25.9              4.1            25.9   \n3  2025-04-03 06:35:00+00:00           12.3              7.2            12.3   \n4  2025-04-03 06:40:00+00:00           12.6              8.3            16.3   \n\n   downward_move_20  bearish_move_flag_20  bearish_move_flag_20.1  y_actual  \n0               0.6                     0                       0         1  \n1               6.9                     0                       0         1  \n2              21.6                     2                       2         3  \n3              35.2                     2                       2         2  \n4              34.9                     2                       2         2  ",
            "text/html": "<div>\n<style scoped>\n    .dataframe tbody tr th:only-of-type {\n        vertical-align: middle;\n    }\n\n    .dataframe tbody tr th {\n        vertical-align: top;\n    }\n\n    .dataframe thead th {\n        text-align: right;\n    }\n</style>\n<table border=\"1\" class=\"dataframe\">\n  <thead>\n    <tr style=\"text-align: right;\">\n      <th></th>\n      <th>datetime</th>\n      <th>upward_move_6</th>\n      <th>downward_move_6</th>\n      <th>upward_move_20</th>\n      <th>downward_move_20</th>\n      <th>bearish_move_flag_20</th>\n      <th>bearish_move_flag_20.1</th>\n      <th>y_actual</th>\n    </tr>\n  </thead>\n  <tbody>\n    <tr>\n      <th>0</th>\n      <td>2025-04-03 06:20:00+00:00</td>\n      <td>51.8</td>\n      <td>0.6</td>\n      <td>53.1</td>\n      <td>0.6</td>\n      <td>0</td>\n      <td>0</td>\n      <td>1</td>\n    </tr>\n    <tr>\n      <th>1</th>\n      <td>2025-04-03 06:25:00+00:00</td>\n      <td>41.5</td>\n      <td>6.9</td>\n      <td>41.6</td>\n      <td>6.9</td>\n      <td>0</td>\n      <td>0</td>\n      <td>1</td>\n    </tr>\n    <tr>\n      <th>2</th>\n      <td>2025-04-03 06:30:00+00:00</td>\n      <td>25.9</td>\n      <td>4.1</td>\n      <td>25.9</td>\n      <td>21.6</td>\n      <td>2</td>\n      <td>2</td>\n      <td>3</td>\n    </tr>\n    <tr>\n      <th>3</th>\n      <td>2025-04-03 06:35:00+00:00</td>\n      <td>12.3</td>\n      <td>7.2</td>\n      <td>12.3</td>\n      <td>35.2</td>\n      <td>2</td>\n      <td>2</td>\n      <td>2</td>\n    </tr>\n    <tr>\n      <th>4</th>\n      <td>2025-04-03 06:40:00+00:00</td>\n      <td>12.6</td>\n      <td>8.3</td>\n      <td>16.3</td>\n      <td>34.9</td>\n      <td>2</td>\n      <td>2</td>\n      <td>2</td>\n    </tr>\n  </tbody>\n</table>\n</div>"
          },
          "metadata": {}
        }
      ],
      "outputs_reference": null,
      "content_dependencies": null
    },
    {
      "cell_type": "code",
      "metadata": {
        "source_hash": "cf1d2495",
        "execution_start": 1744160523046,
        "execution_millis": 0,
        "deepnote_table_state": {
          "sortBy": [
            {
              "id": "batchID_x",
              "type": "asc"
            }
          ],
          "filters": [],
          "pageSize": 100,
          "pageIndex": 0,
          "columnOrder": [
            "batchID_x",
            "accountID_x",
            "Strategy_x",
            "pl_x",
            "time_tf",
            "order_time_x",
            "batchID_y",
            "accountID_y",
            "Strategy_y",
            "pl_y",
            "order_time_y"
          ],
          "hiddenColumnIds": [],
          "columnDisplayNames": [],
          "conditionalFilters": [],
          "cellFormattingRules": [],
          "wrappedTextColumnIds": []
        },
        "execution_context_id": "4871396d-a585-48ac-9423-c662bb426968",
        "deepnote_table_loading": false,
        "cell_id": "ae159965b311400381f7d4e321808cb0",
        "deepnote_cell_type": "code"
      },
      "source": "strategy_agg['pl_x'] = pd.to_numeric(strategy_agg['pl_x'])\nstrategy_agg['pl_y'] = pd.to_numeric(strategy_agg['pl_y'])\nstrategy_agg['pl_agg'] = strategy_agg['pl_x'] + strategy_agg['pl_y']\nstrategy_agg = strategy_agg[(strategy_agg['time_tf'].dt.date == strategy_agg['time_tf'].dt.date.max())\n            ][['Strategy_x','pl_x','pl_y','pl_agg','order_time_x','TypeB_x']]",
      "block_group": "1a73492c6bd24d87ba56cba82802309b",
      "execution_count": 348,
      "outputs": [],
      "outputs_reference": null,
      "content_dependencies": null
    },
    {
      "cell_type": "code",
      "metadata": {
        "source_hash": "688539c2",
        "execution_start": 1744160726706,
        "execution_millis": 272,
        "execution_context_id": "4871396d-a585-48ac-9423-c662bb426968",
        "cell_id": "bb04914e560848e79c08b8618c19e921",
        "deepnote_cell_type": "code"
      },
      "source": "prediction_actual = pd.read_csv('/work/data/predictions/predictions_actuals.csv')\nstrategy_agg['order_time_x'] = pd.to_datetime(strategy_agg['order_time_x'])\nprediction_actual['datetime'] = pd.to_datetime(prediction_actual['datetime'])\npd.merge(strategy_agg,prediction_actual,left_on='order_time_x',right_on = 'datetime')",
      "block_group": "8d974788df564519a8e569598095d894",
      "execution_count": 365,
      "outputs": [
        {
          "output_type": "execute_result",
          "execution_count": 365,
          "data": {
            "application/vnd.deepnote.dataframe.v3+json": {
              "column_count": 14,
              "row_count": 31,
              "columns": [
                {
                  "name": "Strategy_x",
                  "dtype": "object",
                  "stats": {
                    "unique_count": 1,
                    "nan_count": 0,
                    "categories": [
                      {
                        "name": "volume_based_hedge",
                        "count": 31
                      }
                    ]
                  }
                },
                {
                  "name": "pl_x",
                  "dtype": "float64",
                  "stats": {
                    "unique_count": 31,
                    "nan_count": 0,
                    "min": "-550.8596",
                    "max": "1167.9272",
                    "histogram": [
                      {
                        "bin_start": -550.8596,
                        "bin_end": -378.98091999999997,
                        "count": 8
                      },
                      {
                        "bin_start": -378.98091999999997,
                        "bin_end": -207.10224,
                        "count": 5
                      },
                      {
                        "bin_start": -207.10224,
                        "bin_end": -35.22356000000002,
                        "count": 4
                      },
                      {
                        "bin_start": -35.22356000000002,
                        "bin_end": 136.65512,
                        "count": 6
                      },
                      {
                        "bin_start": 136.65512,
                        "bin_end": 308.53380000000004,
                        "count": 3
                      },
                      {
                        "bin_start": 308.53380000000004,
                        "bin_end": 480.41247999999996,
                        "count": 1
                      },
                      {
                        "bin_start": 480.41247999999996,
                        "bin_end": 652.29116,
                        "count": 0
                      },
                      {
                        "bin_start": 652.29116,
                        "bin_end": 824.16984,
                        "count": 1
                      },
                      {
                        "bin_start": 824.16984,
                        "bin_end": 996.04852,
                        "count": 2
                      },
                      {
                        "bin_start": 996.04852,
                        "bin_end": 1167.9272,
                        "count": 1
                      }
                    ]
                  }
                },
                {
                  "name": "pl_y",
                  "dtype": "float64",
                  "stats": {
                    "unique_count": 23,
                    "nan_count": 8,
                    "min": "-534.7104",
                    "max": "1184.6955",
                    "histogram": [
                      {
                        "bin_start": -534.7104,
                        "bin_end": -362.76981,
                        "count": 7
                      },
                      {
                        "bin_start": -362.76981,
                        "bin_end": -190.82922000000002,
                        "count": 8
                      },
                      {
                        "bin_start": -190.82922000000002,
                        "bin_end": -18.888630000000035,
                        "count": 0
                      },
                      {
                        "bin_start": -18.888630000000035,
                        "bin_end": 153.05196,
                        "count": 1
                      },
                      {
                        "bin_start": 153.05196,
                        "bin_end": 324.99255000000005,
                        "count": 4
                      },
                      {
                        "bin_start": 324.99255000000005,
                        "bin_end": 496.93314,
                        "count": 0
                      },
                      {
                        "bin_start": 496.93314,
                        "bin_end": 668.8737300000001,
                        "count": 0
                      },
                      {
                        "bin_start": 668.8737300000001,
                        "bin_end": 840.8143200000001,
                        "count": 0
                      },
                      {
                        "bin_start": 840.8143200000001,
                        "bin_end": 1012.75491,
                        "count": 1
                      },
                      {
                        "bin_start": 1012.75491,
                        "bin_end": 1184.6955,
                        "count": 2
                      }
                    ]
                  }
                },
                {
                  "name": "pl_agg",
                  "dtype": "float64",
                  "stats": {
                    "unique_count": 23,
                    "nan_count": 8,
                    "min": "-503.55860000000007",
                    "max": "870.1010999999999",
                    "histogram": [
                      {
                        "bin_start": -503.55860000000007,
                        "bin_end": -366.19263000000007,
                        "count": 5
                      },
                      {
                        "bin_start": -366.19263000000007,
                        "bin_end": -228.82666000000006,
                        "count": 7
                      },
                      {
                        "bin_start": -228.82666000000006,
                        "bin_end": -91.46069000000006,
                        "count": 2
                      },
                      {
                        "bin_start": -91.46069000000006,
                        "bin_end": 45.90527999999995,
                        "count": 3
                      },
                      {
                        "bin_start": 45.90527999999995,
                        "bin_end": 183.27125,
                        "count": 0
                      },
                      {
                        "bin_start": 183.27125,
                        "bin_end": 320.63721999999996,
                        "count": 1
                      },
                      {
                        "bin_start": 320.63721999999996,
                        "bin_end": 458.0031899999999,
                        "count": 0
                      },
                      {
                        "bin_start": 458.0031899999999,
                        "bin_end": 595.36916,
                        "count": 2
                      },
                      {
                        "bin_start": 595.36916,
                        "bin_end": 732.73513,
                        "count": 1
                      },
                      {
                        "bin_start": 732.73513,
                        "bin_end": 870.1010999999999,
                        "count": 2
                      }
                    ]
                  }
                },
                {
                  "name": "order_time_x",
                  "dtype": "datetime64[us, Etc/UTC]",
                  "stats": {
                    "unique_count": 31,
                    "nan_count": 0,
                    "min": "2025-04-08 10:15:00+00:00",
                    "max": "2025-04-08 17:45:00+00:00",
                    "histogram": [
                      {
                        "bin_start": 1744107300000000,
                        "bin_end": 1744110000000000,
                        "count": 3
                      },
                      {
                        "bin_start": 1744110000000000,
                        "bin_end": 1744112700000000,
                        "count": 5
                      },
                      {
                        "bin_start": 1744112700000000,
                        "bin_end": 1744115400000000,
                        "count": 1
                      },
                      {
                        "bin_start": 1744115400000000,
                        "bin_end": 1744118100000000,
                        "count": 2
                      },
                      {
                        "bin_start": 1744118100000000,
                        "bin_end": 1744120800000000,
                        "count": 3
                      },
                      {
                        "bin_start": 1744120800000000,
                        "bin_end": 1744123500000000,
                        "count": 4
                      },
                      {
                        "bin_start": 1744123500000000,
                        "bin_end": 1744126200000000,
                        "count": 5
                      },
                      {
                        "bin_start": 1744126200000000,
                        "bin_end": 1744128900000000,
                        "count": 1
                      },
                      {
                        "bin_start": 1744128900000000,
                        "bin_end": 1744131600000000,
                        "count": 4
                      },
                      {
                        "bin_start": 1744131600000000,
                        "bin_end": 1744134300000000,
                        "count": 3
                      }
                    ]
                  }
                },
                {
                  "name": "TypeB_x",
                  "dtype": "object",
                  "stats": {
                    "unique_count": 2,
                    "nan_count": 0,
                    "categories": [
                      {
                        "name": "BUY",
                        "count": 16
                      },
                      {
                        "name": "SELL",
                        "count": 15
                      }
                    ]
                  }
                },
                {
                  "name": "datetime",
                  "dtype": "datetime64[ns, UTC]",
                  "stats": {
                    "unique_count": 31,
                    "nan_count": 0,
                    "min": "2025-04-08 10:15:00+00:00",
                    "max": "2025-04-08 17:45:00+00:00",
                    "histogram": [
                      {
                        "bin_start": 1744107300000000000,
                        "bin_end": 1744110000000000000,
                        "count": 3
                      },
                      {
                        "bin_start": 1744110000000000000,
                        "bin_end": 1744112700000000000,
                        "count": 5
                      },
                      {
                        "bin_start": 1744112700000000000,
                        "bin_end": 1744115400000000000,
                        "count": 1
                      },
                      {
                        "bin_start": 1744115400000000000,
                        "bin_end": 1744118100000000000,
                        "count": 2
                      },
                      {
                        "bin_start": 1744118100000000000,
                        "bin_end": 1744120800000000000,
                        "count": 3
                      },
                      {
                        "bin_start": 1744120800000000000,
                        "bin_end": 1744123500000000000,
                        "count": 4
                      },
                      {
                        "bin_start": 1744123500000000000,
                        "bin_end": 1744126200000000000,
                        "count": 5
                      },
                      {
                        "bin_start": 1744126200000000000,
                        "bin_end": 1744128900000000000,
                        "count": 1
                      },
                      {
                        "bin_start": 1744128900000000000,
                        "bin_end": 1744131600000000000,
                        "count": 4
                      },
                      {
                        "bin_start": 1744131600000000000,
                        "bin_end": 1744134300000000000,
                        "count": 3
                      }
                    ]
                  }
                },
                {
                  "name": "upward_move_6",
                  "dtype": "float64",
                  "stats": {
                    "unique_count": 30,
                    "nan_count": 0,
                    "min": "0.0",
                    "max": "27.599999999998545",
                    "histogram": [
                      {
                        "bin_start": 0,
                        "bin_end": 2.7599999999998546,
                        "count": 9
                      },
                      {
                        "bin_start": 2.7599999999998546,
                        "bin_end": 5.519999999999709,
                        "count": 2
                      },
                      {
                        "bin_start": 5.519999999999709,
                        "bin_end": 8.279999999999564,
                        "count": 6
                      },
                      {
                        "bin_start": 8.279999999999564,
                        "bin_end": 11.039999999999418,
                        "count": 2
                      },
                      {
                        "bin_start": 11.039999999999418,
                        "bin_end": 13.799999999999272,
                        "count": 4
                      },
                      {
                        "bin_start": 13.799999999999272,
                        "bin_end": 16.55999999999913,
                        "count": 0
                      },
                      {
                        "bin_start": 16.55999999999913,
                        "bin_end": 19.31999999999898,
                        "count": 2
                      },
                      {
                        "bin_start": 19.31999999999898,
                        "bin_end": 22.079999999998837,
                        "count": 1
                      },
                      {
                        "bin_start": 22.079999999998837,
                        "bin_end": 24.839999999998692,
                        "count": 3
                      },
                      {
                        "bin_start": 24.839999999998692,
                        "bin_end": 27.599999999998545,
                        "count": 2
                      }
                    ]
                  }
                },
                {
                  "name": "downward_move_6",
                  "dtype": "float64",
                  "stats": {
                    "unique_count": 30,
                    "nan_count": 0,
                    "min": "0.1000000000021827",
                    "max": "39.0",
                    "histogram": [
                      {
                        "bin_start": 0.1000000000021827,
                        "bin_end": 3.9900000000019644,
                        "count": 6
                      },
                      {
                        "bin_start": 3.9900000000019644,
                        "bin_end": 7.880000000001746,
                        "count": 3
                      },
                      {
                        "bin_start": 7.880000000001746,
                        "bin_end": 11.770000000001527,
                        "count": 5
                      },
                      {
                        "bin_start": 11.770000000001527,
                        "bin_end": 15.66000000000131,
                        "count": 6
                      },
                      {
                        "bin_start": 15.66000000000131,
                        "bin_end": 19.55000000000109,
                        "count": 6
                      },
                      {
                        "bin_start": 19.55000000000109,
                        "bin_end": 23.44000000000087,
                        "count": 0
                      },
                      {
                        "bin_start": 23.44000000000087,
                        "bin_end": 27.330000000000656,
                        "count": 1
                      },
                      {
                        "bin_start": 27.330000000000656,
                        "bin_end": 31.220000000000436,
                        "count": 1
                      },
                      {
                        "bin_start": 31.220000000000436,
                        "bin_end": 35.11000000000022,
                        "count": 2
                      },
                      {
                        "bin_start": 35.11000000000022,
                        "bin_end": 39,
                        "count": 1
                      }
                    ]
                  }
                },
                {
                  "name": "upward_move_20",
                  "dtype": "float64",
                  "stats": {
                    "unique_count": 31,
                    "nan_count": 0,
                    "min": "0.1000000000003638",
                    "max": "47.400000000001455",
                    "histogram": [
                      {
                        "bin_start": 0.1000000000003638,
                        "bin_end": 4.830000000000473,
                        "count": 6
                      },
                      {
                        "bin_start": 4.830000000000473,
                        "bin_end": 9.560000000000581,
                        "count": 3
                      },
                      {
                        "bin_start": 9.560000000000581,
                        "bin_end": 14.29000000000069,
                        "count": 3
                      },
                      {
                        "bin_start": 14.29000000000069,
                        "bin_end": 19.0200000000008,
                        "count": 0
                      },
                      {
                        "bin_start": 19.0200000000008,
                        "bin_end": 23.75000000000091,
                        "count": 2
                      },
                      {
                        "bin_start": 23.75000000000091,
                        "bin_end": 28.480000000001017,
                        "count": 4
                      },
                      {
                        "bin_start": 28.480000000001017,
                        "bin_end": 33.21000000000112,
                        "count": 7
                      },
                      {
                        "bin_start": 33.21000000000112,
                        "bin_end": 37.940000000001234,
                        "count": 2
                      },
                      {
                        "bin_start": 37.940000000001234,
                        "bin_end": 42.670000000001345,
                        "count": 2
                      },
                      {
                        "bin_start": 42.670000000001345,
                        "bin_end": 47.400000000001455,
                        "count": 2
                      }
                    ]
                  }
                },
                {
                  "name": "downward_move_20",
                  "dtype": "float64",
                  "stats": {
                    "unique_count": 30,
                    "nan_count": 0,
                    "min": "0.1000000000021827",
                    "max": "60.20000000000255",
                    "histogram": [
                      {
                        "bin_start": 0.1000000000021827,
                        "bin_end": 6.110000000002219,
                        "count": 9
                      },
                      {
                        "bin_start": 6.110000000002219,
                        "bin_end": 12.120000000002255,
                        "count": 5
                      },
                      {
                        "bin_start": 12.120000000002255,
                        "bin_end": 18.13000000000229,
                        "count": 8
                      },
                      {
                        "bin_start": 18.13000000000229,
                        "bin_end": 24.140000000002328,
                        "count": 1
                      },
                      {
                        "bin_start": 24.140000000002328,
                        "bin_end": 30.150000000002365,
                        "count": 1
                      },
                      {
                        "bin_start": 30.150000000002365,
                        "bin_end": 36.1600000000024,
                        "count": 2
                      },
                      {
                        "bin_start": 36.1600000000024,
                        "bin_end": 42.17000000000244,
                        "count": 1
                      },
                      {
                        "bin_start": 42.17000000000244,
                        "bin_end": 48.18000000000247,
                        "count": 0
                      },
                      {
                        "bin_start": 48.18000000000247,
                        "bin_end": 54.190000000002506,
                        "count": 3
                      },
                      {
                        "bin_start": 54.190000000002506,
                        "bin_end": 60.20000000000255,
                        "count": 1
                      }
                    ]
                  }
                },
                {
                  "name": "bearish_move_flag_20",
                  "dtype": "int64",
                  "stats": {
                    "unique_count": 2,
                    "nan_count": 0,
                    "min": "0",
                    "max": "2",
                    "histogram": [
                      {
                        "bin_start": 0,
                        "bin_end": 0.2,
                        "count": 19
                      },
                      {
                        "bin_start": 0.2,
                        "bin_end": 0.4,
                        "count": 0
                      },
                      {
                        "bin_start": 0.4,
                        "bin_end": 0.6000000000000001,
                        "count": 0
                      },
                      {
                        "bin_start": 0.6000000000000001,
                        "bin_end": 0.8,
                        "count": 0
                      },
                      {
                        "bin_start": 0.8,
                        "bin_end": 1,
                        "count": 0
                      },
                      {
                        "bin_start": 1,
                        "bin_end": 1.2000000000000002,
                        "count": 0
                      },
                      {
                        "bin_start": 1.2000000000000002,
                        "bin_end": 1.4000000000000001,
                        "count": 0
                      },
                      {
                        "bin_start": 1.4000000000000001,
                        "bin_end": 1.6,
                        "count": 0
                      },
                      {
                        "bin_start": 1.6,
                        "bin_end": 1.8,
                        "count": 0
                      },
                      {
                        "bin_start": 1.8,
                        "bin_end": 2,
                        "count": 12
                      }
                    ]
                  }
                },
                {
                  "name": "bearish_move_flag_20.1",
                  "dtype": "int64",
                  "stats": {
                    "unique_count": 2,
                    "nan_count": 0,
                    "min": "0",
                    "max": "2",
                    "histogram": [
                      {
                        "bin_start": 0,
                        "bin_end": 0.2,
                        "count": 19
                      },
                      {
                        "bin_start": 0.2,
                        "bin_end": 0.4,
                        "count": 0
                      },
                      {
                        "bin_start": 0.4,
                        "bin_end": 0.6000000000000001,
                        "count": 0
                      },
                      {
                        "bin_start": 0.6000000000000001,
                        "bin_end": 0.8,
                        "count": 0
                      },
                      {
                        "bin_start": 0.8,
                        "bin_end": 1,
                        "count": 0
                      },
                      {
                        "bin_start": 1,
                        "bin_end": 1.2000000000000002,
                        "count": 0
                      },
                      {
                        "bin_start": 1.2000000000000002,
                        "bin_end": 1.4000000000000001,
                        "count": 0
                      },
                      {
                        "bin_start": 1.4000000000000001,
                        "bin_end": 1.6,
                        "count": 0
                      },
                      {
                        "bin_start": 1.6,
                        "bin_end": 1.8,
                        "count": 0
                      },
                      {
                        "bin_start": 1.8,
                        "bin_end": 2,
                        "count": 12
                      }
                    ]
                  }
                },
                {
                  "name": "y_actual",
                  "dtype": "int64",
                  "stats": {
                    "unique_count": 4,
                    "nan_count": 0,
                    "min": "0",
                    "max": "3",
                    "histogram": [
                      {
                        "bin_start": 0,
                        "bin_end": 0.3,
                        "count": 3
                      },
                      {
                        "bin_start": 0.3,
                        "bin_end": 0.6,
                        "count": 0
                      },
                      {
                        "bin_start": 0.6,
                        "bin_end": 0.8999999999999999,
                        "count": 0
                      },
                      {
                        "bin_start": 0.8999999999999999,
                        "bin_end": 1.2,
                        "count": 16
                      },
                      {
                        "bin_start": 1.2,
                        "bin_end": 1.5,
                        "count": 0
                      },
                      {
                        "bin_start": 1.5,
                        "bin_end": 1.7999999999999998,
                        "count": 0
                      },
                      {
                        "bin_start": 1.7999999999999998,
                        "bin_end": 2.1,
                        "count": 9
                      },
                      {
                        "bin_start": 2.1,
                        "bin_end": 2.4,
                        "count": 0
                      },
                      {
                        "bin_start": 2.4,
                        "bin_end": 2.6999999999999997,
                        "count": 0
                      },
                      {
                        "bin_start": 2.6999999999999997,
                        "bin_end": 3,
                        "count": 3
                      }
                    ]
                  }
                },
                {
                  "name": "_deepnote_index_column",
                  "dtype": "int64"
                }
              ],
              "rows": [
                {
                  "Strategy_x": "volume_based_hedge",
                  "pl_x": 889.4796,
                  "pl_y": "nan",
                  "pl_agg": "nan",
                  "order_time_x": "2025-04-08 10:15:00+00:00",
                  "TypeB_x": "BUY",
                  "datetime": "2025-04-08 10:15:00+00:00",
                  "upward_move_6": 22.100000000000364,
                  "downward_move_6": 0.1000000000021827,
                  "upward_move_20": 27.69999999999891,
                  "downward_move_20": 0.1000000000021827,
                  "bearish_move_flag_20": 0,
                  "bearish_move_flag_20.1": 0,
                  "y_actual": 1,
                  "_deepnote_index_column": 0
                },
                {
                  "Strategy_x": "volume_based_hedge",
                  "pl_x": -425.3835,
                  "pl_y": "nan",
                  "pl_agg": "nan",
                  "order_time_x": "2025-04-08 10:30:00+00:00",
                  "TypeB_x": "BUY",
                  "datetime": "2025-04-08 10:30:00+00:00",
                  "upward_move_6": 6.600000000000364,
                  "downward_move_6": 10.399999999999636,
                  "upward_move_20": 22.600000000000364,
                  "downward_move_20": 10.399999999999636,
                  "bearish_move_flag_20": 0,
                  "bearish_move_flag_20.1": 0,
                  "y_actual": 1,
                  "_deepnote_index_column": 1
                },
                {
                  "Strategy_x": "volume_based_hedge",
                  "pl_x": -456.8629,
                  "pl_y": "nan",
                  "pl_agg": "nan",
                  "order_time_x": "2025-04-08 10:40:00+00:00",
                  "TypeB_x": "BUY",
                  "datetime": "2025-04-08 10:40:00+00:00",
                  "upward_move_6": 6,
                  "downward_move_6": 11.199999999998909,
                  "upward_move_20": 21.80000000000109,
                  "downward_move_20": 11.199999999998909,
                  "bearish_move_flag_20": 0,
                  "bearish_move_flag_20.1": 0,
                  "y_actual": 1,
                  "_deepnote_index_column": 2
                },
                {
                  "Strategy_x": "volume_based_hedge",
                  "pl_x": 31.1602,
                  "pl_y": -519.1095,
                  "pl_agg": -487.94930000000005,
                  "order_time_x": "2025-04-08 11:10:00+00:00",
                  "TypeB_x": "BUY",
                  "datetime": "2025-04-08 11:10:00+00:00",
                  "upward_move_6": 6.199999999998909,
                  "downward_move_6": 13.600000000000364,
                  "upward_move_20": 30,
                  "downward_move_20": 13.600000000000364,
                  "bearish_move_flag_20": 0,
                  "bearish_move_flag_20.1": 0,
                  "y_actual": 1,
                  "_deepnote_index_column": 3
                },
                {
                  "Strategy_x": "volume_based_hedge",
                  "pl_x": -298.9971,
                  "pl_y": 1169.0982,
                  "pl_agg": 870.1010999999999,
                  "order_time_x": "2025-04-08 11:15:00+00:00",
                  "TypeB_x": "BUY",
                  "datetime": "2025-04-08 11:15:00+00:00",
                  "upward_move_6": 2.1999999999989086,
                  "downward_move_6": 17.600000000000364,
                  "upward_move_20": 26,
                  "downward_move_20": 17.600000000000364,
                  "bearish_move_flag_20": 2,
                  "bearish_move_flag_20.1": 2,
                  "y_actual": 3,
                  "_deepnote_index_column": 4
                },
                {
                  "Strategy_x": "volume_based_hedge",
                  "pl_x": -472.2097,
                  "pl_y": 1184.6955,
                  "pl_agg": 712.4858,
                  "order_time_x": "2025-04-08 11:20:00+00:00",
                  "TypeB_x": "BUY",
                  "datetime": "2025-04-08 11:20:00+00:00",
                  "upward_move_6": 0.3999999999996362,
                  "downward_move_6": 17,
                  "upward_move_20": 26.600000000000364,
                  "downward_move_20": 17,
                  "bearish_move_flag_20": 2,
                  "bearish_move_flag_20.1": 2,
                  "y_actual": 3,
                  "_deepnote_index_column": 5
                },
                {
                  "Strategy_x": "volume_based_hedge",
                  "pl_x": -377.9202,
                  "pl_y": 77.9152,
                  "pl_agg": -300.005,
                  "order_time_x": "2025-04-08 11:25:00+00:00",
                  "TypeB_x": "BUY",
                  "datetime": "2025-04-08 11:25:00+00:00",
                  "upward_move_6": 6.799999999999272,
                  "downward_move_6": 10.600000000000364,
                  "upward_move_20": 33,
                  "downward_move_20": 10.600000000000364,
                  "bearish_move_flag_20": 0,
                  "bearish_move_flag_20.1": 0,
                  "y_actual": 1,
                  "_deepnote_index_column": 6
                },
                {
                  "Strategy_x": "volume_based_hedge",
                  "pl_x": 15.5799,
                  "pl_y": "nan",
                  "pl_agg": "nan",
                  "order_time_x": "2025-04-08 11:35:00+00:00",
                  "TypeB_x": "BUY",
                  "datetime": "2025-04-08 11:35:00+00:00",
                  "upward_move_6": 23.69999999999891,
                  "downward_move_6": 2.200000000000728,
                  "upward_move_20": 41.39999999999964,
                  "downward_move_20": 2.200000000000728,
                  "bearish_move_flag_20": 0,
                  "bearish_move_flag_20.1": 0,
                  "y_actual": 1,
                  "_deepnote_index_column": 7
                },
                {
                  "Strategy_x": "volume_based_hedge",
                  "pl_x": -361.6876,
                  "pl_y": 871.8033,
                  "pl_agg": 510.11570000000006,
                  "order_time_x": "2025-04-08 11:50:00+00:00",
                  "TypeB_x": "SELL",
                  "datetime": "2025-04-08 11:50:00+00:00",
                  "upward_move_6": 17.400000000001455,
                  "downward_move_6": 4.099999999998545,
                  "upward_move_20": 30.80000000000109,
                  "downward_move_20": 4.099999999998545,
                  "bearish_move_flag_20": 0,
                  "bearish_move_flag_20.1": 0,
                  "y_actual": 1,
                  "_deepnote_index_column": 8
                },
                {
                  "Strategy_x": "volume_based_hedge",
                  "pl_x": -251.7712,
                  "pl_y": 186.8545,
                  "pl_agg": -64.91669999999999,
                  "order_time_x": "2025-04-08 12:45:00+00:00",
                  "TypeB_x": "BUY",
                  "datetime": "2025-04-08 12:45:00+00:00",
                  "upward_move_6": 0.5999999999985448,
                  "downward_move_6": 16,
                  "upward_move_20": 0.5999999999985448,
                  "downward_move_20": 53.79999999999927,
                  "bearish_move_flag_20": 2,
                  "bearish_move_flag_20.1": 2,
                  "y_actual": 2,
                  "_deepnote_index_column": 9
                },
                {
                  "Strategy_x": "volume_based_hedge",
                  "pl_x": -31.4554,
                  "pl_y": "nan",
                  "pl_agg": "nan",
                  "order_time_x": "2025-04-08 12:55:00+00:00",
                  "TypeB_x": "SELL",
                  "datetime": "2025-04-08 12:55:00+00:00",
                  "upward_move_6": 6.899999999997817,
                  "downward_move_6": 9.100000000002185,
                  "upward_move_20": 7.299999999997453,
                  "downward_move_20": 60.20000000000255,
                  "bearish_move_flag_20": 2,
                  "bearish_move_flag_20.1": 2,
                  "y_actual": 2,
                  "_deepnote_index_column": 10
                },
                {
                  "Strategy_x": "volume_based_hedge",
                  "pl_x": 654.0392,
                  "pl_y": -440.3118,
                  "pl_agg": 213.72740000000005,
                  "order_time_x": "2025-04-08 13:30:00+00:00",
                  "TypeB_x": "SELL",
                  "datetime": "2025-04-08 13:30:00+00:00",
                  "upward_move_6": 2.5,
                  "downward_move_6": 24.50000000000182,
                  "upward_move_20": 2.5,
                  "downward_move_20": 53.20000000000073,
                  "bearish_move_flag_20": 2,
                  "bearish_move_flag_20.1": 2,
                  "y_actual": 2,
                  "_deepnote_index_column": 11
                },
                {
                  "Strategy_x": "volume_based_hedge",
                  "pl_x": -55.0616,
                  "pl_y": -298.8719,
                  "pl_agg": -353.9335,
                  "order_time_x": "2025-04-08 13:40:00+00:00",
                  "TypeB_x": "BUY",
                  "datetime": "2025-04-08 13:40:00+00:00",
                  "upward_move_6": 13.399999999999636,
                  "downward_move_6": 18.100000000000364,
                  "upward_move_20": 13.399999999999636,
                  "downward_move_20": 41.70000000000073,
                  "bearish_move_flag_20": 2,
                  "bearish_move_flag_20.1": 2,
                  "y_actual": 2,
                  "_deepnote_index_column": 12
                },
                {
                  "Strategy_x": "volume_based_hedge",
                  "pl_x": 1167.9272,
                  "pl_y": -392.9173,
                  "pl_agg": 775.0099,
                  "order_time_x": "2025-04-08 13:50:00+00:00",
                  "TypeB_x": "SELL",
                  "datetime": "2025-04-08 13:50:00+00:00",
                  "upward_move_6": 2.7999999999992724,
                  "downward_move_6": 39,
                  "upward_move_20": 2.7999999999992724,
                  "downward_move_20": 52.30000000000109,
                  "bearish_move_flag_20": 2,
                  "bearish_move_flag_20.1": 2,
                  "y_actual": 2,
                  "_deepnote_index_column": 13
                },
                {
                  "Strategy_x": "volume_based_hedge",
                  "pl_x": -204.3985,
                  "pl_y": -204.3769,
                  "pl_agg": -408.7754,
                  "order_time_x": "2025-04-08 14:05:00+00:00",
                  "TypeB_x": "SELL",
                  "datetime": "2025-04-08 14:05:00+00:00",
                  "upward_move_6": 0.6000000000003638,
                  "downward_move_6": 35.100000000000364,
                  "upward_move_20": 0.6000000000003638,
                  "downward_move_20": 35.100000000000364,
                  "bearish_move_flag_20": 2,
                  "bearish_move_flag_20.1": 2,
                  "y_actual": 2,
                  "_deepnote_index_column": 14
                },
                {
                  "Strategy_x": "volume_based_hedge",
                  "pl_x": 31.1228,
                  "pl_y": -282.9016,
                  "pl_agg": -251.77879999999996,
                  "order_time_x": "2025-04-08 14:10:00+00:00",
                  "TypeB_x": "BUY",
                  "datetime": "2025-04-08 14:10:00+00:00",
                  "upward_move_6": 0.1000000000003638,
                  "downward_move_6": 33.100000000000364,
                  "upward_move_20": 0.1000000000003638,
                  "downward_move_20": 33.100000000000364,
                  "bearish_move_flag_20": 2,
                  "bearish_move_flag_20.1": 2,
                  "y_actual": 2,
                  "_deepnote_index_column": 15
                },
                {
                  "Strategy_x": "volume_based_hedge",
                  "pl_x": 327.1515,
                  "pl_y": -424.6928,
                  "pl_agg": -97.54129999999998,
                  "order_time_x": "2025-04-08 14:15:00+00:00",
                  "TypeB_x": "SELL",
                  "datetime": "2025-04-08 14:15:00+00:00",
                  "upward_move_6": 0.3000000000010914,
                  "downward_move_6": 29,
                  "upward_move_20": 2.100000000000364,
                  "downward_move_20": 29,
                  "bearish_move_flag_20": 2,
                  "bearish_move_flag_20.1": 2,
                  "y_actual": 2,
                  "_deepnote_index_column": 16
                },
                {
                  "Strategy_x": "volume_based_hedge",
                  "pl_x": -534.9553,
                  "pl_y": 186.9305,
                  "pl_agg": -348.02479999999997,
                  "order_time_x": "2025-04-08 14:25:00+00:00",
                  "TypeB_x": "SELL",
                  "datetime": "2025-04-08 14:25:00+00:00",
                  "upward_move_6": 10.200000000000728,
                  "downward_move_6": 17.100000000000364,
                  "upward_move_20": 14,
                  "downward_move_20": 17.100000000000364,
                  "bearish_move_flag_20": 2,
                  "bearish_move_flag_20.1": 2,
                  "y_actual": 2,
                  "_deepnote_index_column": 17
                },
                {
                  "Strategy_x": "volume_based_hedge",
                  "pl_x": -362.4305,
                  "pl_y": "nan",
                  "pl_agg": "nan",
                  "order_time_x": "2025-04-08 14:50:00+00:00",
                  "TypeB_x": "BUY",
                  "datetime": "2025-04-08 14:50:00+00:00",
                  "upward_move_6": 5.399999999997817,
                  "downward_move_6": 14.700000000000728,
                  "upward_move_20": 8.799999999999272,
                  "downward_move_20": 14.700000000000728,
                  "bearish_move_flag_20": 0,
                  "bearish_move_flag_20.1": 0,
                  "y_actual": 0,
                  "_deepnote_index_column": 18
                },
                {
                  "Strategy_x": "volume_based_hedge",
                  "pl_x": -504.0594,
                  "pl_y": "nan",
                  "pl_agg": "nan",
                  "order_time_x": "2025-04-08 14:55:00+00:00",
                  "TypeB_x": "SELL",
                  "datetime": "2025-04-08 14:55:00+00:00",
                  "upward_move_6": 6.599999999998545,
                  "downward_move_6": 14.300000000001091,
                  "upward_move_20": 9.199999999998909,
                  "downward_move_20": 14.300000000001091,
                  "bearish_move_flag_20": 0,
                  "bearish_move_flag_20.1": 0,
                  "y_actual": 0,
                  "_deepnote_index_column": 19
                },
                {
                  "Strategy_x": "volume_based_hedge",
                  "pl_x": 109.1885,
                  "pl_y": -267.8939,
                  "pl_agg": -158.70539999999997,
                  "order_time_x": "2025-04-08 15:00:00+00:00",
                  "TypeB_x": "SELL",
                  "datetime": "2025-04-08 15:00:00+00:00",
                  "upward_move_6": 10.600000000000364,
                  "downward_move_6": 12.899999999999636,
                  "upward_move_20": 14.200000000000728,
                  "downward_move_20": 12.899999999999636,
                  "bearish_move_flag_20": 0,
                  "bearish_move_flag_20.1": 0,
                  "y_actual": 0,
                  "_deepnote_index_column": 20
                },
                {
                  "Strategy_x": "volume_based_hedge",
                  "pl_x": 171.6849,
                  "pl_y": -252.1681,
                  "pl_agg": -80.48320000000001,
                  "order_time_x": "2025-04-08 15:05:00+00:00",
                  "TypeB_x": "SELL",
                  "datetime": "2025-04-08 15:05:00+00:00",
                  "upward_move_6": 11.399999999999636,
                  "downward_move_6": 12.100000000000364,
                  "upward_move_20": 24.200000000000728,
                  "downward_move_20": 12.100000000000364,
                  "bearish_move_flag_20": 0,
                  "bearish_move_flag_20.1": 0,
                  "y_actual": 1,
                  "_deepnote_index_column": 21
                },
                {
                  "Strategy_x": "volume_based_hedge",
                  "pl_x": 202.7191,
                  "pl_y": -252.1858,
                  "pl_agg": -49.4667,
                  "order_time_x": "2025-04-08 15:15:00+00:00",
                  "TypeB_x": "BUY",
                  "datetime": "2025-04-08 15:15:00+00:00",
                  "upward_move_6": 17.19999999999891,
                  "downward_move_6": 0.6000000000003638,
                  "upward_move_20": 30.19999999999891,
                  "downward_move_20": 3.600000000000364,
                  "bearish_move_flag_20": 0,
                  "bearish_move_flag_20.1": 0,
                  "y_actual": 1,
                  "_deepnote_index_column": 22
                },
                {
                  "Strategy_x": "volume_based_hedge",
                  "pl_x": 935.678,
                  "pl_y": -440.9449,
                  "pl_agg": 494.7331,
                  "order_time_x": "2025-04-08 15:50:00+00:00",
                  "TypeB_x": "SELL",
                  "datetime": "2025-04-08 15:50:00+00:00",
                  "upward_move_6": 0,
                  "downward_move_6": 19.19999999999891,
                  "upward_move_20": 31,
                  "downward_move_20": 19.19999999999891,
                  "bearish_move_flag_20": 2,
                  "bearish_move_flag_20.1": 2,
                  "y_actual": 3,
                  "_deepnote_index_column": 23
                },
                {
                  "Strategy_x": "volume_based_hedge",
                  "pl_x": -519.1725,
                  "pl_y": "nan",
                  "pl_agg": "nan",
                  "order_time_x": "2025-04-08 16:35:00+00:00",
                  "TypeB_x": "SELL",
                  "datetime": "2025-04-08 16:35:00+00:00",
                  "upward_move_6": 27,
                  "downward_move_6": 0.5,
                  "upward_move_20": 34.89999999999964,
                  "downward_move_20": 0.5,
                  "bearish_move_flag_20": 0,
                  "bearish_move_flag_20.1": 0,
                  "y_actual": 1,
                  "_deepnote_index_column": 24
                },
                {
                  "Strategy_x": "volume_based_hedge",
                  "pl_x": 31.1518,
                  "pl_y": -534.7104,
                  "pl_agg": -503.55860000000007,
                  "order_time_x": "2025-04-08 16:40:00+00:00",
                  "TypeB_x": "BUY",
                  "datetime": "2025-04-08 16:40:00+00:00",
                  "upward_move_6": 27.599999999998545,
                  "downward_move_6": 0.2000000000007276,
                  "upward_move_20": 35,
                  "downward_move_20": 0.2000000000007276,
                  "bearish_move_flag_20": 0,
                  "bearish_move_flag_20.1": 0,
                  "y_actual": 1,
                  "_deepnote_index_column": 25
                },
                {
                  "Strategy_x": "volume_based_hedge",
                  "pl_x": -110.1288,
                  "pl_y": -361.7824,
                  "pl_agg": -471.9112,
                  "order_time_x": "2025-04-08 16:45:00+00:00",
                  "TypeB_x": "SELL",
                  "datetime": "2025-04-08 16:45:00+00:00",
                  "upward_move_6": 19.89999999999964,
                  "downward_move_6": 4.100000000000364,
                  "upward_move_20": 28.89999999999964,
                  "downward_move_20": 4.100000000000364,
                  "bearish_move_flag_20": 0,
                  "bearish_move_flag_20.1": 0,
                  "y_actual": 1,
                  "_deepnote_index_column": 26
                },
                {
                  "Strategy_x": "volume_based_hedge",
                  "pl_x": -511.3103,
                  "pl_y": 233.6494,
                  "pl_agg": -277.66089999999997,
                  "order_time_x": "2025-04-08 16:50:00+00:00",
                  "TypeB_x": "SELL",
                  "datetime": "2025-04-08 16:50:00+00:00",
                  "upward_move_6": 23.799999999999272,
                  "downward_move_6": 0.2000000000007276,
                  "upward_move_20": 44.39999999999964,
                  "downward_move_20": 0.2000000000007276,
                  "bearish_move_flag_20": 0,
                  "bearish_move_flag_20.1": 0,
                  "y_actual": 1,
                  "_deepnote_index_column": 27
                },
                {
                  "Strategy_x": "volume_based_hedge",
                  "pl_x": -550.8596,
                  "pl_y": 264.7012,
                  "pl_agg": -286.15840000000003,
                  "order_time_x": "2025-04-08 17:30:00+00:00",
                  "TypeB_x": "BUY",
                  "datetime": "2025-04-08 17:30:00+00:00",
                  "upward_move_6": 0.8000000000010914,
                  "downward_move_6": 15.199999999998909,
                  "upward_move_20": 32.20000000000073,
                  "downward_move_20": 15.199999999998909,
                  "bearish_move_flag_20": 0,
                  "bearish_move_flag_20.1": 0,
                  "y_actual": 1,
                  "_deepnote_index_column": 28
                },
                {
                  "Strategy_x": "volume_based_hedge",
                  "pl_x": -157.2985,
                  "pl_y": -338.1336,
                  "pl_agg": -495.4321,
                  "order_time_x": "2025-04-08 17:35:00+00:00",
                  "TypeB_x": "BUY",
                  "datetime": "2025-04-08 17:35:00+00:00",
                  "upward_move_6": 11.600000000000364,
                  "downward_move_6": 4.399999999999636,
                  "upward_move_20": 47.400000000001455,
                  "downward_move_20": 4.399999999999636,
                  "bearish_move_flag_20": 0,
                  "bearish_move_flag_20.1": 0,
                  "y_actual": 1,
                  "_deepnote_index_column": 29
                },
                {
                  "Strategy_x": "volume_based_hedge",
                  "pl_x": 264.6463,
                  "pl_y": -503.1821,
                  "pl_agg": -238.5358,
                  "order_time_x": "2025-04-08 17:45:00+00:00",
                  "TypeB_x": "SELL",
                  "datetime": "2025-04-08 17:45:00+00:00",
                  "upward_move_6": 11.600000000000364,
                  "downward_move_6": 9.799999999999272,
                  "upward_move_20": 38.60000000000218,
                  "downward_move_20": 9.799999999999272,
                  "bearish_move_flag_20": 0,
                  "bearish_move_flag_20.1": 0,
                  "y_actual": 1,
                  "_deepnote_index_column": 30
                }
              ],
              "type": "dataframe"
            },
            "text/plain": "            Strategy_x       pl_x       pl_y    pl_agg  \\\n0   volume_based_hedge   889.4796        NaN       NaN   \n1   volume_based_hedge  -425.3835        NaN       NaN   \n2   volume_based_hedge  -456.8629        NaN       NaN   \n3   volume_based_hedge    31.1602  -519.1095 -487.9493   \n4   volume_based_hedge  -298.9971  1169.0982  870.1011   \n5   volume_based_hedge  -472.2097  1184.6955  712.4858   \n6   volume_based_hedge  -377.9202    77.9152 -300.0050   \n7   volume_based_hedge    15.5799        NaN       NaN   \n8   volume_based_hedge  -361.6876   871.8033  510.1157   \n9   volume_based_hedge  -251.7712   186.8545  -64.9167   \n10  volume_based_hedge   -31.4554        NaN       NaN   \n11  volume_based_hedge   654.0392  -440.3118  213.7274   \n12  volume_based_hedge   -55.0616  -298.8719 -353.9335   \n13  volume_based_hedge  1167.9272  -392.9173  775.0099   \n14  volume_based_hedge  -204.3985  -204.3769 -408.7754   \n15  volume_based_hedge    31.1228  -282.9016 -251.7788   \n16  volume_based_hedge   327.1515  -424.6928  -97.5413   \n17  volume_based_hedge  -534.9553   186.9305 -348.0248   \n18  volume_based_hedge  -362.4305        NaN       NaN   \n19  volume_based_hedge  -504.0594        NaN       NaN   \n20  volume_based_hedge   109.1885  -267.8939 -158.7054   \n21  volume_based_hedge   171.6849  -252.1681  -80.4832   \n22  volume_based_hedge   202.7191  -252.1858  -49.4667   \n23  volume_based_hedge   935.6780  -440.9449  494.7331   \n24  volume_based_hedge  -519.1725        NaN       NaN   \n25  volume_based_hedge    31.1518  -534.7104 -503.5586   \n26  volume_based_hedge  -110.1288  -361.7824 -471.9112   \n27  volume_based_hedge  -511.3103   233.6494 -277.6609   \n28  volume_based_hedge  -550.8596   264.7012 -286.1584   \n29  volume_based_hedge  -157.2985  -338.1336 -495.4321   \n30  volume_based_hedge   264.6463  -503.1821 -238.5358   \n\n                order_time_x TypeB_x                  datetime  upward_move_6  \\\n0  2025-04-08 10:15:00+00:00     BUY 2025-04-08 10:15:00+00:00           22.1   \n1  2025-04-08 10:30:00+00:00     BUY 2025-04-08 10:30:00+00:00            6.6   \n2  2025-04-08 10:40:00+00:00     BUY 2025-04-08 10:40:00+00:00            6.0   \n3  2025-04-08 11:10:00+00:00     BUY 2025-04-08 11:10:00+00:00            6.2   \n4  2025-04-08 11:15:00+00:00     BUY 2025-04-08 11:15:00+00:00            2.2   \n5  2025-04-08 11:20:00+00:00     BUY 2025-04-08 11:20:00+00:00            0.4   \n6  2025-04-08 11:25:00+00:00     BUY 2025-04-08 11:25:00+00:00            6.8   \n7  2025-04-08 11:35:00+00:00     BUY 2025-04-08 11:35:00+00:00           23.7   \n8  2025-04-08 11:50:00+00:00    SELL 2025-04-08 11:50:00+00:00           17.4   \n9  2025-04-08 12:45:00+00:00     BUY 2025-04-08 12:45:00+00:00            0.6   \n10 2025-04-08 12:55:00+00:00    SELL 2025-04-08 12:55:00+00:00            6.9   \n11 2025-04-08 13:30:00+00:00    SELL 2025-04-08 13:30:00+00:00            2.5   \n12 2025-04-08 13:40:00+00:00     BUY 2025-04-08 13:40:00+00:00           13.4   \n13 2025-04-08 13:50:00+00:00    SELL 2025-04-08 13:50:00+00:00            2.8   \n14 2025-04-08 14:05:00+00:00    SELL 2025-04-08 14:05:00+00:00            0.6   \n15 2025-04-08 14:10:00+00:00     BUY 2025-04-08 14:10:00+00:00            0.1   \n16 2025-04-08 14:15:00+00:00    SELL 2025-04-08 14:15:00+00:00            0.3   \n17 2025-04-08 14:25:00+00:00    SELL 2025-04-08 14:25:00+00:00           10.2   \n18 2025-04-08 14:50:00+00:00     BUY 2025-04-08 14:50:00+00:00            5.4   \n19 2025-04-08 14:55:00+00:00    SELL 2025-04-08 14:55:00+00:00            6.6   \n20 2025-04-08 15:00:00+00:00    SELL 2025-04-08 15:00:00+00:00           10.6   \n21 2025-04-08 15:05:00+00:00    SELL 2025-04-08 15:05:00+00:00           11.4   \n22 2025-04-08 15:15:00+00:00     BUY 2025-04-08 15:15:00+00:00           17.2   \n23 2025-04-08 15:50:00+00:00    SELL 2025-04-08 15:50:00+00:00            0.0   \n24 2025-04-08 16:35:00+00:00    SELL 2025-04-08 16:35:00+00:00           27.0   \n25 2025-04-08 16:40:00+00:00     BUY 2025-04-08 16:40:00+00:00           27.6   \n26 2025-04-08 16:45:00+00:00    SELL 2025-04-08 16:45:00+00:00           19.9   \n27 2025-04-08 16:50:00+00:00    SELL 2025-04-08 16:50:00+00:00           23.8   \n28 2025-04-08 17:30:00+00:00     BUY 2025-04-08 17:30:00+00:00            0.8   \n29 2025-04-08 17:35:00+00:00     BUY 2025-04-08 17:35:00+00:00           11.6   \n30 2025-04-08 17:45:00+00:00    SELL 2025-04-08 17:45:00+00:00           11.6   \n\n    downward_move_6  upward_move_20  downward_move_20  bearish_move_flag_20  \\\n0               0.1            27.7               0.1                     0   \n1              10.4            22.6              10.4                     0   \n2              11.2            21.8              11.2                     0   \n3              13.6            30.0              13.6                     0   \n4              17.6            26.0              17.6                     2   \n5              17.0            26.6              17.0                     2   \n6              10.6            33.0              10.6                     0   \n7               2.2            41.4               2.2                     0   \n8               4.1            30.8               4.1                     0   \n9              16.0             0.6              53.8                     2   \n10              9.1             7.3              60.2                     2   \n11             24.5             2.5              53.2                     2   \n12             18.1            13.4              41.7                     2   \n13             39.0             2.8              52.3                     2   \n14             35.1             0.6              35.1                     2   \n15             33.1             0.1              33.1                     2   \n16             29.0             2.1              29.0                     2   \n17             17.1            14.0              17.1                     2   \n18             14.7             8.8              14.7                     0   \n19             14.3             9.2              14.3                     0   \n20             12.9            14.2              12.9                     0   \n21             12.1            24.2              12.1                     0   \n22              0.6            30.2               3.6                     0   \n23             19.2            31.0              19.2                     2   \n24              0.5            34.9               0.5                     0   \n25              0.2            35.0               0.2                     0   \n26              4.1            28.9               4.1                     0   \n27              0.2            44.4               0.2                     0   \n28             15.2            32.2              15.2                     0   \n29              4.4            47.4               4.4                     0   \n30              9.8            38.6               9.8                     0   \n\n    bearish_move_flag_20.1  y_actual  \n0                        0         1  \n1                        0         1  \n2                        0         1  \n3                        0         1  \n4                        2         3  \n5                        2         3  \n6                        0         1  \n7                        0         1  \n8                        0         1  \n9                        2         2  \n10                       2         2  \n11                       2         2  \n12                       2         2  \n13                       2         2  \n14                       2         2  \n15                       2         2  \n16                       2         2  \n17                       2         2  \n18                       0         0  \n19                       0         0  \n20                       0         0  \n21                       0         1  \n22                       0         1  \n23                       2         3  \n24                       0         1  \n25                       0         1  \n26                       0         1  \n27                       0         1  \n28                       0         1  \n29                       0         1  \n30                       0         1  ",
            "text/html": "<div>\n<style scoped>\n    .dataframe tbody tr th:only-of-type {\n        vertical-align: middle;\n    }\n\n    .dataframe tbody tr th {\n        vertical-align: top;\n    }\n\n    .dataframe thead th {\n        text-align: right;\n    }\n</style>\n<table border=\"1\" class=\"dataframe\">\n  <thead>\n    <tr style=\"text-align: right;\">\n      <th></th>\n      <th>Strategy_x</th>\n      <th>pl_x</th>\n      <th>pl_y</th>\n      <th>pl_agg</th>\n      <th>order_time_x</th>\n      <th>TypeB_x</th>\n      <th>datetime</th>\n      <th>upward_move_6</th>\n      <th>downward_move_6</th>\n      <th>upward_move_20</th>\n      <th>downward_move_20</th>\n      <th>bearish_move_flag_20</th>\n      <th>bearish_move_flag_20.1</th>\n      <th>y_actual</th>\n    </tr>\n  </thead>\n  <tbody>\n    <tr>\n      <th>0</th>\n      <td>volume_based_hedge</td>\n      <td>889.4796</td>\n      <td>NaN</td>\n      <td>NaN</td>\n      <td>2025-04-08 10:15:00+00:00</td>\n      <td>BUY</td>\n      <td>2025-04-08 10:15:00+00:00</td>\n      <td>22.1</td>\n      <td>0.1</td>\n      <td>27.7</td>\n      <td>0.1</td>\n      <td>0</td>\n      <td>0</td>\n      <td>1</td>\n    </tr>\n    <tr>\n      <th>1</th>\n      <td>volume_based_hedge</td>\n      <td>-425.3835</td>\n      <td>NaN</td>\n      <td>NaN</td>\n      <td>2025-04-08 10:30:00+00:00</td>\n      <td>BUY</td>\n      <td>2025-04-08 10:30:00+00:00</td>\n      <td>6.6</td>\n      <td>10.4</td>\n      <td>22.6</td>\n      <td>10.4</td>\n      <td>0</td>\n      <td>0</td>\n      <td>1</td>\n    </tr>\n    <tr>\n      <th>2</th>\n      <td>volume_based_hedge</td>\n      <td>-456.8629</td>\n      <td>NaN</td>\n      <td>NaN</td>\n      <td>2025-04-08 10:40:00+00:00</td>\n      <td>BUY</td>\n      <td>2025-04-08 10:40:00+00:00</td>\n      <td>6.0</td>\n      <td>11.2</td>\n      <td>21.8</td>\n      <td>11.2</td>\n      <td>0</td>\n      <td>0</td>\n      <td>1</td>\n    </tr>\n    <tr>\n      <th>3</th>\n      <td>volume_based_hedge</td>\n      <td>31.1602</td>\n      <td>-519.1095</td>\n      <td>-487.9493</td>\n      <td>2025-04-08 11:10:00+00:00</td>\n      <td>BUY</td>\n      <td>2025-04-08 11:10:00+00:00</td>\n      <td>6.2</td>\n      <td>13.6</td>\n      <td>30.0</td>\n      <td>13.6</td>\n      <td>0</td>\n      <td>0</td>\n      <td>1</td>\n    </tr>\n    <tr>\n      <th>4</th>\n      <td>volume_based_hedge</td>\n      <td>-298.9971</td>\n      <td>1169.0982</td>\n      <td>870.1011</td>\n      <td>2025-04-08 11:15:00+00:00</td>\n      <td>BUY</td>\n      <td>2025-04-08 11:15:00+00:00</td>\n      <td>2.2</td>\n      <td>17.6</td>\n      <td>26.0</td>\n      <td>17.6</td>\n      <td>2</td>\n      <td>2</td>\n      <td>3</td>\n    </tr>\n    <tr>\n      <th>5</th>\n      <td>volume_based_hedge</td>\n      <td>-472.2097</td>\n      <td>1184.6955</td>\n      <td>712.4858</td>\n      <td>2025-04-08 11:20:00+00:00</td>\n      <td>BUY</td>\n      <td>2025-04-08 11:20:00+00:00</td>\n      <td>0.4</td>\n      <td>17.0</td>\n      <td>26.6</td>\n      <td>17.0</td>\n      <td>2</td>\n      <td>2</td>\n      <td>3</td>\n    </tr>\n    <tr>\n      <th>6</th>\n      <td>volume_based_hedge</td>\n      <td>-377.9202</td>\n      <td>77.9152</td>\n      <td>-300.0050</td>\n      <td>2025-04-08 11:25:00+00:00</td>\n      <td>BUY</td>\n      <td>2025-04-08 11:25:00+00:00</td>\n      <td>6.8</td>\n      <td>10.6</td>\n      <td>33.0</td>\n      <td>10.6</td>\n      <td>0</td>\n      <td>0</td>\n      <td>1</td>\n    </tr>\n    <tr>\n      <th>7</th>\n      <td>volume_based_hedge</td>\n      <td>15.5799</td>\n      <td>NaN</td>\n      <td>NaN</td>\n      <td>2025-04-08 11:35:00+00:00</td>\n      <td>BUY</td>\n      <td>2025-04-08 11:35:00+00:00</td>\n      <td>23.7</td>\n      <td>2.2</td>\n      <td>41.4</td>\n      <td>2.2</td>\n      <td>0</td>\n      <td>0</td>\n      <td>1</td>\n    </tr>\n    <tr>\n      <th>8</th>\n      <td>volume_based_hedge</td>\n      <td>-361.6876</td>\n      <td>871.8033</td>\n      <td>510.1157</td>\n      <td>2025-04-08 11:50:00+00:00</td>\n      <td>SELL</td>\n      <td>2025-04-08 11:50:00+00:00</td>\n      <td>17.4</td>\n      <td>4.1</td>\n      <td>30.8</td>\n      <td>4.1</td>\n      <td>0</td>\n      <td>0</td>\n      <td>1</td>\n    </tr>\n    <tr>\n      <th>9</th>\n      <td>volume_based_hedge</td>\n      <td>-251.7712</td>\n      <td>186.8545</td>\n      <td>-64.9167</td>\n      <td>2025-04-08 12:45:00+00:00</td>\n      <td>BUY</td>\n      <td>2025-04-08 12:45:00+00:00</td>\n      <td>0.6</td>\n      <td>16.0</td>\n      <td>0.6</td>\n      <td>53.8</td>\n      <td>2</td>\n      <td>2</td>\n      <td>2</td>\n    </tr>\n    <tr>\n      <th>10</th>\n      <td>volume_based_hedge</td>\n      <td>-31.4554</td>\n      <td>NaN</td>\n      <td>NaN</td>\n      <td>2025-04-08 12:55:00+00:00</td>\n      <td>SELL</td>\n      <td>2025-04-08 12:55:00+00:00</td>\n      <td>6.9</td>\n      <td>9.1</td>\n      <td>7.3</td>\n      <td>60.2</td>\n      <td>2</td>\n      <td>2</td>\n      <td>2</td>\n    </tr>\n    <tr>\n      <th>11</th>\n      <td>volume_based_hedge</td>\n      <td>654.0392</td>\n      <td>-440.3118</td>\n      <td>213.7274</td>\n      <td>2025-04-08 13:30:00+00:00</td>\n      <td>SELL</td>\n      <td>2025-04-08 13:30:00+00:00</td>\n      <td>2.5</td>\n      <td>24.5</td>\n      <td>2.5</td>\n      <td>53.2</td>\n      <td>2</td>\n      <td>2</td>\n      <td>2</td>\n    </tr>\n    <tr>\n      <th>12</th>\n      <td>volume_based_hedge</td>\n      <td>-55.0616</td>\n      <td>-298.8719</td>\n      <td>-353.9335</td>\n      <td>2025-04-08 13:40:00+00:00</td>\n      <td>BUY</td>\n      <td>2025-04-08 13:40:00+00:00</td>\n      <td>13.4</td>\n      <td>18.1</td>\n      <td>13.4</td>\n      <td>41.7</td>\n      <td>2</td>\n      <td>2</td>\n      <td>2</td>\n    </tr>\n    <tr>\n      <th>13</th>\n      <td>volume_based_hedge</td>\n      <td>1167.9272</td>\n      <td>-392.9173</td>\n      <td>775.0099</td>\n      <td>2025-04-08 13:50:00+00:00</td>\n      <td>SELL</td>\n      <td>2025-04-08 13:50:00+00:00</td>\n      <td>2.8</td>\n      <td>39.0</td>\n      <td>2.8</td>\n      <td>52.3</td>\n      <td>2</td>\n      <td>2</td>\n      <td>2</td>\n    </tr>\n    <tr>\n      <th>14</th>\n      <td>volume_based_hedge</td>\n      <td>-204.3985</td>\n      <td>-204.3769</td>\n      <td>-408.7754</td>\n      <td>2025-04-08 14:05:00+00:00</td>\n      <td>SELL</td>\n      <td>2025-04-08 14:05:00+00:00</td>\n      <td>0.6</td>\n      <td>35.1</td>\n      <td>0.6</td>\n      <td>35.1</td>\n      <td>2</td>\n      <td>2</td>\n      <td>2</td>\n    </tr>\n    <tr>\n      <th>15</th>\n      <td>volume_based_hedge</td>\n      <td>31.1228</td>\n      <td>-282.9016</td>\n      <td>-251.7788</td>\n      <td>2025-04-08 14:10:00+00:00</td>\n      <td>BUY</td>\n      <td>2025-04-08 14:10:00+00:00</td>\n      <td>0.1</td>\n      <td>33.1</td>\n      <td>0.1</td>\n      <td>33.1</td>\n      <td>2</td>\n      <td>2</td>\n      <td>2</td>\n    </tr>\n    <tr>\n      <th>16</th>\n      <td>volume_based_hedge</td>\n      <td>327.1515</td>\n      <td>-424.6928</td>\n      <td>-97.5413</td>\n      <td>2025-04-08 14:15:00+00:00</td>\n      <td>SELL</td>\n      <td>2025-04-08 14:15:00+00:00</td>\n      <td>0.3</td>\n      <td>29.0</td>\n      <td>2.1</td>\n      <td>29.0</td>\n      <td>2</td>\n      <td>2</td>\n      <td>2</td>\n    </tr>\n    <tr>\n      <th>17</th>\n      <td>volume_based_hedge</td>\n      <td>-534.9553</td>\n      <td>186.9305</td>\n      <td>-348.0248</td>\n      <td>2025-04-08 14:25:00+00:00</td>\n      <td>SELL</td>\n      <td>2025-04-08 14:25:00+00:00</td>\n      <td>10.2</td>\n      <td>17.1</td>\n      <td>14.0</td>\n      <td>17.1</td>\n      <td>2</td>\n      <td>2</td>\n      <td>2</td>\n    </tr>\n    <tr>\n      <th>18</th>\n      <td>volume_based_hedge</td>\n      <td>-362.4305</td>\n      <td>NaN</td>\n      <td>NaN</td>\n      <td>2025-04-08 14:50:00+00:00</td>\n      <td>BUY</td>\n      <td>2025-04-08 14:50:00+00:00</td>\n      <td>5.4</td>\n      <td>14.7</td>\n      <td>8.8</td>\n      <td>14.7</td>\n      <td>0</td>\n      <td>0</td>\n      <td>0</td>\n    </tr>\n    <tr>\n      <th>19</th>\n      <td>volume_based_hedge</td>\n      <td>-504.0594</td>\n      <td>NaN</td>\n      <td>NaN</td>\n      <td>2025-04-08 14:55:00+00:00</td>\n      <td>SELL</td>\n      <td>2025-04-08 14:55:00+00:00</td>\n      <td>6.6</td>\n      <td>14.3</td>\n      <td>9.2</td>\n      <td>14.3</td>\n      <td>0</td>\n      <td>0</td>\n      <td>0</td>\n    </tr>\n    <tr>\n      <th>20</th>\n      <td>volume_based_hedge</td>\n      <td>109.1885</td>\n      <td>-267.8939</td>\n      <td>-158.7054</td>\n      <td>2025-04-08 15:00:00+00:00</td>\n      <td>SELL</td>\n      <td>2025-04-08 15:00:00+00:00</td>\n      <td>10.6</td>\n      <td>12.9</td>\n      <td>14.2</td>\n      <td>12.9</td>\n      <td>0</td>\n      <td>0</td>\n      <td>0</td>\n    </tr>\n    <tr>\n      <th>21</th>\n      <td>volume_based_hedge</td>\n      <td>171.6849</td>\n      <td>-252.1681</td>\n      <td>-80.4832</td>\n      <td>2025-04-08 15:05:00+00:00</td>\n      <td>SELL</td>\n      <td>2025-04-08 15:05:00+00:00</td>\n      <td>11.4</td>\n      <td>12.1</td>\n      <td>24.2</td>\n      <td>12.1</td>\n      <td>0</td>\n      <td>0</td>\n      <td>1</td>\n    </tr>\n    <tr>\n      <th>22</th>\n      <td>volume_based_hedge</td>\n      <td>202.7191</td>\n      <td>-252.1858</td>\n      <td>-49.4667</td>\n      <td>2025-04-08 15:15:00+00:00</td>\n      <td>BUY</td>\n      <td>2025-04-08 15:15:00+00:00</td>\n      <td>17.2</td>\n      <td>0.6</td>\n      <td>30.2</td>\n      <td>3.6</td>\n      <td>0</td>\n      <td>0</td>\n      <td>1</td>\n    </tr>\n    <tr>\n      <th>23</th>\n      <td>volume_based_hedge</td>\n      <td>935.6780</td>\n      <td>-440.9449</td>\n      <td>494.7331</td>\n      <td>2025-04-08 15:50:00+00:00</td>\n      <td>SELL</td>\n      <td>2025-04-08 15:50:00+00:00</td>\n      <td>0.0</td>\n      <td>19.2</td>\n      <td>31.0</td>\n      <td>19.2</td>\n      <td>2</td>\n      <td>2</td>\n      <td>3</td>\n    </tr>\n    <tr>\n      <th>24</th>\n      <td>volume_based_hedge</td>\n      <td>-519.1725</td>\n      <td>NaN</td>\n      <td>NaN</td>\n      <td>2025-04-08 16:35:00+00:00</td>\n      <td>SELL</td>\n      <td>2025-04-08 16:35:00+00:00</td>\n      <td>27.0</td>\n      <td>0.5</td>\n      <td>34.9</td>\n      <td>0.5</td>\n      <td>0</td>\n      <td>0</td>\n      <td>1</td>\n    </tr>\n    <tr>\n      <th>25</th>\n      <td>volume_based_hedge</td>\n      <td>31.1518</td>\n      <td>-534.7104</td>\n      <td>-503.5586</td>\n      <td>2025-04-08 16:40:00+00:00</td>\n      <td>BUY</td>\n      <td>2025-04-08 16:40:00+00:00</td>\n      <td>27.6</td>\n      <td>0.2</td>\n      <td>35.0</td>\n      <td>0.2</td>\n      <td>0</td>\n      <td>0</td>\n      <td>1</td>\n    </tr>\n    <tr>\n      <th>26</th>\n      <td>volume_based_hedge</td>\n      <td>-110.1288</td>\n      <td>-361.7824</td>\n      <td>-471.9112</td>\n      <td>2025-04-08 16:45:00+00:00</td>\n      <td>SELL</td>\n      <td>2025-04-08 16:45:00+00:00</td>\n      <td>19.9</td>\n      <td>4.1</td>\n      <td>28.9</td>\n      <td>4.1</td>\n      <td>0</td>\n      <td>0</td>\n      <td>1</td>\n    </tr>\n    <tr>\n      <th>27</th>\n      <td>volume_based_hedge</td>\n      <td>-511.3103</td>\n      <td>233.6494</td>\n      <td>-277.6609</td>\n      <td>2025-04-08 16:50:00+00:00</td>\n      <td>SELL</td>\n      <td>2025-04-08 16:50:00+00:00</td>\n      <td>23.8</td>\n      <td>0.2</td>\n      <td>44.4</td>\n      <td>0.2</td>\n      <td>0</td>\n      <td>0</td>\n      <td>1</td>\n    </tr>\n    <tr>\n      <th>28</th>\n      <td>volume_based_hedge</td>\n      <td>-550.8596</td>\n      <td>264.7012</td>\n      <td>-286.1584</td>\n      <td>2025-04-08 17:30:00+00:00</td>\n      <td>BUY</td>\n      <td>2025-04-08 17:30:00+00:00</td>\n      <td>0.8</td>\n      <td>15.2</td>\n      <td>32.2</td>\n      <td>15.2</td>\n      <td>0</td>\n      <td>0</td>\n      <td>1</td>\n    </tr>\n    <tr>\n      <th>29</th>\n      <td>volume_based_hedge</td>\n      <td>-157.2985</td>\n      <td>-338.1336</td>\n      <td>-495.4321</td>\n      <td>2025-04-08 17:35:00+00:00</td>\n      <td>BUY</td>\n      <td>2025-04-08 17:35:00+00:00</td>\n      <td>11.6</td>\n      <td>4.4</td>\n      <td>47.4</td>\n      <td>4.4</td>\n      <td>0</td>\n      <td>0</td>\n      <td>1</td>\n    </tr>\n    <tr>\n      <th>30</th>\n      <td>volume_based_hedge</td>\n      <td>264.6463</td>\n      <td>-503.1821</td>\n      <td>-238.5358</td>\n      <td>2025-04-08 17:45:00+00:00</td>\n      <td>SELL</td>\n      <td>2025-04-08 17:45:00+00:00</td>\n      <td>11.6</td>\n      <td>9.8</td>\n      <td>38.6</td>\n      <td>9.8</td>\n      <td>0</td>\n      <td>0</td>\n      <td>1</td>\n    </tr>\n  </tbody>\n</table>\n</div>"
          },
          "metadata": {}
        }
      ],
      "outputs_reference": null,
      "content_dependencies": null
    },
    {
      "cell_type": "code",
      "metadata": {
        "source_hash": "c6a36ef2",
        "execution_start": 1744160634906,
        "execution_millis": 0,
        "deepnote_table_state": {
          "sortBy": [],
          "filters": [],
          "pageSize": 100,
          "pageIndex": 0,
          "columnOrder": [
            "Time",
            "Strategy",
            "Type",
            "Quantity",
            "Price",
            "Take_Profit",
            "Stop_Loss",
            "Order_ID",
            "Account_ID"
          ],
          "hiddenColumnIds": [],
          "columnDisplayNames": [],
          "conditionalFilters": [],
          "cellFormattingRules": [],
          "wrappedTextColumnIds": []
        },
        "execution_context_id": "4871396d-a585-48ac-9423-c662bb426968",
        "deepnote_table_loading": false,
        "cell_id": "3159ab563c8143eba93de89c2e11bfae",
        "deepnote_cell_type": "code"
      },
      "source": "orders[(orders['Time'].dt.date == orders['Time'].dt.date.max()) \n        & (orders['Account_ID'] == '101-004-31059296-003')][['Order_ID','datetime']].head()",
      "block_group": "dde7889bdcfc4bd48e6d4952f8f2f4e1",
      "execution_count": 354,
      "outputs": [
        {
          "output_type": "error",
          "ename": "KeyError",
          "evalue": "\"['datetime'] not in index\"",
          "traceback": [
            "\u001b[0;31m---------------------------------------------------------------------------\u001b[0m",
            "\u001b[0;31mKeyError\u001b[0m                                  Traceback (most recent call last)",
            "Cell \u001b[0;32mIn[354], line 6\u001b[0m\n\u001b[1;32m      3\u001b[0m \u001b[38;5;28;01melse\u001b[39;00m:\n\u001b[1;32m      4\u001b[0m   _deepnote_current_table_attrs \u001b[38;5;241m=\u001b[39m \u001b[38;5;124m'\u001b[39m\u001b[38;5;124m{\u001b[39m\u001b[38;5;124m\"\u001b[39m\u001b[38;5;124msortBy\u001b[39m\u001b[38;5;124m\"\u001b[39m\u001b[38;5;124m:[],\u001b[39m\u001b[38;5;124m\"\u001b[39m\u001b[38;5;124mfilters\u001b[39m\u001b[38;5;124m\"\u001b[39m\u001b[38;5;124m:[],\u001b[39m\u001b[38;5;124m\"\u001b[39m\u001b[38;5;124mpageSize\u001b[39m\u001b[38;5;124m\"\u001b[39m\u001b[38;5;124m:100,\u001b[39m\u001b[38;5;124m\"\u001b[39m\u001b[38;5;124mpageIndex\u001b[39m\u001b[38;5;124m\"\u001b[39m\u001b[38;5;124m:0,\u001b[39m\u001b[38;5;124m\"\u001b[39m\u001b[38;5;124mcolumnOrder\u001b[39m\u001b[38;5;124m\"\u001b[39m\u001b[38;5;124m:[\u001b[39m\u001b[38;5;124m\"\u001b[39m\u001b[38;5;124mTime\u001b[39m\u001b[38;5;124m\"\u001b[39m\u001b[38;5;124m,\u001b[39m\u001b[38;5;124m\"\u001b[39m\u001b[38;5;124mStrategy\u001b[39m\u001b[38;5;124m\"\u001b[39m\u001b[38;5;124m,\u001b[39m\u001b[38;5;124m\"\u001b[39m\u001b[38;5;124mType\u001b[39m\u001b[38;5;124m\"\u001b[39m\u001b[38;5;124m,\u001b[39m\u001b[38;5;124m\"\u001b[39m\u001b[38;5;124mQuantity\u001b[39m\u001b[38;5;124m\"\u001b[39m\u001b[38;5;124m,\u001b[39m\u001b[38;5;124m\"\u001b[39m\u001b[38;5;124mPrice\u001b[39m\u001b[38;5;124m\"\u001b[39m\u001b[38;5;124m,\u001b[39m\u001b[38;5;124m\"\u001b[39m\u001b[38;5;124mTake_Profit\u001b[39m\u001b[38;5;124m\"\u001b[39m\u001b[38;5;124m,\u001b[39m\u001b[38;5;124m\"\u001b[39m\u001b[38;5;124mStop_Loss\u001b[39m\u001b[38;5;124m\"\u001b[39m\u001b[38;5;124m,\u001b[39m\u001b[38;5;124m\"\u001b[39m\u001b[38;5;124mOrder_ID\u001b[39m\u001b[38;5;124m\"\u001b[39m\u001b[38;5;124m,\u001b[39m\u001b[38;5;124m\"\u001b[39m\u001b[38;5;124mAccount_ID\u001b[39m\u001b[38;5;124m\"\u001b[39m\u001b[38;5;124m],\u001b[39m\u001b[38;5;124m\"\u001b[39m\u001b[38;5;124mhiddenColumnIds\u001b[39m\u001b[38;5;124m\"\u001b[39m\u001b[38;5;124m:[],\u001b[39m\u001b[38;5;124m\"\u001b[39m\u001b[38;5;124mcolumnDisplayNames\u001b[39m\u001b[38;5;124m\"\u001b[39m\u001b[38;5;124m:[],\u001b[39m\u001b[38;5;124m\"\u001b[39m\u001b[38;5;124mconditionalFilters\u001b[39m\u001b[38;5;124m\"\u001b[39m\u001b[38;5;124m:[],\u001b[39m\u001b[38;5;124m\"\u001b[39m\u001b[38;5;124mcellFormattingRules\u001b[39m\u001b[38;5;124m\"\u001b[39m\u001b[38;5;124m:[],\u001b[39m\u001b[38;5;124m\"\u001b[39m\u001b[38;5;124mwrappedTextColumnIds\u001b[39m\u001b[38;5;124m\"\u001b[39m\u001b[38;5;124m:[]}\u001b[39m\u001b[38;5;124m'\u001b[39m\n\u001b[0;32m----> 6\u001b[0m \u001b[43morders\u001b[49m\u001b[43m[\u001b[49m\u001b[43m(\u001b[49m\u001b[43morders\u001b[49m\u001b[43m[\u001b[49m\u001b[38;5;124;43m'\u001b[39;49m\u001b[38;5;124;43mTime\u001b[39;49m\u001b[38;5;124;43m'\u001b[39;49m\u001b[43m]\u001b[49m\u001b[38;5;241;43m.\u001b[39;49m\u001b[43mdt\u001b[49m\u001b[38;5;241;43m.\u001b[39;49m\u001b[43mdate\u001b[49m\u001b[43m \u001b[49m\u001b[38;5;241;43m==\u001b[39;49m\u001b[43m \u001b[49m\u001b[43morders\u001b[49m\u001b[43m[\u001b[49m\u001b[38;5;124;43m'\u001b[39;49m\u001b[38;5;124;43mTime\u001b[39;49m\u001b[38;5;124;43m'\u001b[39;49m\u001b[43m]\u001b[49m\u001b[38;5;241;43m.\u001b[39;49m\u001b[43mdt\u001b[49m\u001b[38;5;241;43m.\u001b[39;49m\u001b[43mdate\u001b[49m\u001b[38;5;241;43m.\u001b[39;49m\u001b[43mmax\u001b[49m\u001b[43m(\u001b[49m\u001b[43m)\u001b[49m\u001b[43m)\u001b[49m\u001b[43m \u001b[49m\n\u001b[1;32m      7\u001b[0m \u001b[43m        \u001b[49m\u001b[38;5;241;43m&\u001b[39;49m\u001b[43m \u001b[49m\u001b[43m(\u001b[49m\u001b[43morders\u001b[49m\u001b[43m[\u001b[49m\u001b[38;5;124;43m'\u001b[39;49m\u001b[38;5;124;43mAccount_ID\u001b[39;49m\u001b[38;5;124;43m'\u001b[39;49m\u001b[43m]\u001b[49m\u001b[43m \u001b[49m\u001b[38;5;241;43m==\u001b[39;49m\u001b[43m \u001b[49m\u001b[38;5;124;43m'\u001b[39;49m\u001b[38;5;124;43m101-004-31059296-003\u001b[39;49m\u001b[38;5;124;43m'\u001b[39;49m\u001b[43m)\u001b[49m\u001b[43m]\u001b[49m\u001b[43m[\u001b[49m\u001b[43m[\u001b[49m\u001b[38;5;124;43m'\u001b[39;49m\u001b[38;5;124;43mOrder_ID\u001b[39;49m\u001b[38;5;124;43m'\u001b[39;49m\u001b[43m,\u001b[49m\u001b[38;5;124;43m'\u001b[39;49m\u001b[38;5;124;43mdatetime\u001b[39;49m\u001b[38;5;124;43m'\u001b[39;49m\u001b[43m]\u001b[49m\u001b[43m]\u001b[49m\u001b[38;5;241m.\u001b[39mhead()\n",
            "File \u001b[0;32m~/venv/lib/python3.10/site-packages/pandas/core/frame.py:3899\u001b[0m, in \u001b[0;36mDataFrame.__getitem__\u001b[0;34m(self, key)\u001b[0m\n\u001b[1;32m   3897\u001b[0m     \u001b[38;5;28;01mif\u001b[39;00m is_iterator(key):\n\u001b[1;32m   3898\u001b[0m         key \u001b[38;5;241m=\u001b[39m \u001b[38;5;28mlist\u001b[39m(key)\n\u001b[0;32m-> 3899\u001b[0m     indexer \u001b[38;5;241m=\u001b[39m \u001b[38;5;28;43mself\u001b[39;49m\u001b[38;5;241;43m.\u001b[39;49m\u001b[43mcolumns\u001b[49m\u001b[38;5;241;43m.\u001b[39;49m\u001b[43m_get_indexer_strict\u001b[49m\u001b[43m(\u001b[49m\u001b[43mkey\u001b[49m\u001b[43m,\u001b[49m\u001b[43m \u001b[49m\u001b[38;5;124;43m\"\u001b[39;49m\u001b[38;5;124;43mcolumns\u001b[39;49m\u001b[38;5;124;43m\"\u001b[39;49m\u001b[43m)\u001b[49m[\u001b[38;5;241m1\u001b[39m]\n\u001b[1;32m   3901\u001b[0m \u001b[38;5;66;03m# take() does not accept boolean indexers\u001b[39;00m\n\u001b[1;32m   3902\u001b[0m \u001b[38;5;28;01mif\u001b[39;00m \u001b[38;5;28mgetattr\u001b[39m(indexer, \u001b[38;5;124m\"\u001b[39m\u001b[38;5;124mdtype\u001b[39m\u001b[38;5;124m\"\u001b[39m, \u001b[38;5;28;01mNone\u001b[39;00m) \u001b[38;5;241m==\u001b[39m \u001b[38;5;28mbool\u001b[39m:\n",
            "File \u001b[0;32m~/venv/lib/python3.10/site-packages/pandas/core/indexes/base.py:6115\u001b[0m, in \u001b[0;36mIndex._get_indexer_strict\u001b[0;34m(self, key, axis_name)\u001b[0m\n\u001b[1;32m   6112\u001b[0m \u001b[38;5;28;01melse\u001b[39;00m:\n\u001b[1;32m   6113\u001b[0m     keyarr, indexer, new_indexer \u001b[38;5;241m=\u001b[39m \u001b[38;5;28mself\u001b[39m\u001b[38;5;241m.\u001b[39m_reindex_non_unique(keyarr)\n\u001b[0;32m-> 6115\u001b[0m \u001b[38;5;28;43mself\u001b[39;49m\u001b[38;5;241;43m.\u001b[39;49m\u001b[43m_raise_if_missing\u001b[49m\u001b[43m(\u001b[49m\u001b[43mkeyarr\u001b[49m\u001b[43m,\u001b[49m\u001b[43m \u001b[49m\u001b[43mindexer\u001b[49m\u001b[43m,\u001b[49m\u001b[43m \u001b[49m\u001b[43maxis_name\u001b[49m\u001b[43m)\u001b[49m\n\u001b[1;32m   6117\u001b[0m keyarr \u001b[38;5;241m=\u001b[39m \u001b[38;5;28mself\u001b[39m\u001b[38;5;241m.\u001b[39mtake(indexer)\n\u001b[1;32m   6118\u001b[0m \u001b[38;5;28;01mif\u001b[39;00m \u001b[38;5;28misinstance\u001b[39m(key, Index):\n\u001b[1;32m   6119\u001b[0m     \u001b[38;5;66;03m# GH 42790 - Preserve name from an Index\u001b[39;00m\n",
            "File \u001b[0;32m~/venv/lib/python3.10/site-packages/pandas/core/indexes/base.py:6179\u001b[0m, in \u001b[0;36mIndex._raise_if_missing\u001b[0;34m(self, key, indexer, axis_name)\u001b[0m\n\u001b[1;32m   6176\u001b[0m     \u001b[38;5;28;01mraise\u001b[39;00m \u001b[38;5;167;01mKeyError\u001b[39;00m(\u001b[38;5;124mf\u001b[39m\u001b[38;5;124m\"\u001b[39m\u001b[38;5;124mNone of [\u001b[39m\u001b[38;5;132;01m{\u001b[39;00mkey\u001b[38;5;132;01m}\u001b[39;00m\u001b[38;5;124m] are in the [\u001b[39m\u001b[38;5;132;01m{\u001b[39;00maxis_name\u001b[38;5;132;01m}\u001b[39;00m\u001b[38;5;124m]\u001b[39m\u001b[38;5;124m\"\u001b[39m)\n\u001b[1;32m   6178\u001b[0m not_found \u001b[38;5;241m=\u001b[39m \u001b[38;5;28mlist\u001b[39m(ensure_index(key)[missing_mask\u001b[38;5;241m.\u001b[39mnonzero()[\u001b[38;5;241m0\u001b[39m]]\u001b[38;5;241m.\u001b[39munique())\n\u001b[0;32m-> 6179\u001b[0m \u001b[38;5;28;01mraise\u001b[39;00m \u001b[38;5;167;01mKeyError\u001b[39;00m(\u001b[38;5;124mf\u001b[39m\u001b[38;5;124m\"\u001b[39m\u001b[38;5;132;01m{\u001b[39;00mnot_found\u001b[38;5;132;01m}\u001b[39;00m\u001b[38;5;124m not in index\u001b[39m\u001b[38;5;124m\"\u001b[39m)\n",
            "\u001b[0;31mKeyError\u001b[0m: \"['datetime'] not in index\""
          ]
        }
      ],
      "outputs_reference": null,
      "content_dependencies": null
    },
    {
      "cell_type": "code",
      "metadata": {
        "source_hash": "4f9c9a0f",
        "execution_start": 1744158171996,
        "execution_millis": 0,
        "execution_context_id": "4871396d-a585-48ac-9423-c662bb426968",
        "cell_id": "51b5f1b5f0214e2d8c116535d3882a5f",
        "deepnote_cell_type": "code"
      },
      "source": "strategy_agg[(strategy_agg['time_tf'].dt.date == strategy_agg['time_tf'].dt.date.max())\n            ][['pl_agg']].mean()",
      "block_group": "7e28442e4e974843b8f62f7c6e8d02d0",
      "execution_count": 256,
      "outputs": [
        {
          "output_type": "execute_result",
          "execution_count": 256,
          "data": {
            "text/plain": "pl_agg   -56.463657\ndtype: float64"
          },
          "metadata": {}
        }
      ],
      "outputs_reference": null,
      "content_dependencies": null
    },
    {
      "cell_type": "code",
      "metadata": {
        "cell_id": "b7266e094c7f4a4f8af74237f39574de",
        "deepnote_cell_type": "code"
      },
      "source": "",
      "block_group": "94bcdcfd263a4478b9e24286bc784be6",
      "execution_count": null,
      "outputs": [],
      "outputs_reference": null,
      "content_dependencies": null
    },
    {
      "cell_type": "markdown",
      "source": "<a style='text-decoration:none;line-height:16px;display:flex;color:#5B5B62;padding:10px;justify-content:end;' href='https://deepnote.com?utm_source=created-in-deepnote-cell&projectId=a127aa9e-0a77-4af9-a6ce-85e7a9b74042' target=\"_blank\">\n<img alt='Created in deepnote.com' style='display:inline;max-height:16px;margin:0px;margin-right:7.5px;' src='data:image/svg+xml;base64,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' > </img>\nCreated in <span style='font-weight:600;margin-left:4px;'>Deepnote</span></a>",
      "metadata": {
        "created_in_deepnote_cell": true,
        "deepnote_cell_type": "markdown"
      }
    }
  ],
  "nbformat": 4,
  "nbformat_minor": 0,
  "metadata": {
    "deepnote_persisted_session": {
      "createdAt": "2025-04-08T15:56:20.007Z"
    },
    "deepnote_notebook_id": "77432b1dee9c4e5980e363ebe2995386"
  }
}