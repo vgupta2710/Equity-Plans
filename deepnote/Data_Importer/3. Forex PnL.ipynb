{
  "cells": [
    {
      "cell_type": "code",
      "metadata": {
        "source_hash": "74a9bca0",
        "execution_start": 1744070404684,
        "execution_millis": 0,
        "execution_context_id": "1b2ca2f9-843a-44eb-8ffb-80fd8105676c",
        "cell_id": "936a9ae588564d0abf5fb76626c620d6",
        "deepnote_cell_type": "code"
      },
      "source": "import os\naccess_token = os.environ[\"ACCESS_TOKEN\"]\naccount_id_demo = os.environ[\"ACCOUNT_DEMO\"]\naccount_id_hedge = os.environ[\"ACCOUNT_HEDGE\"]\nimport oandapyV20\nimport oandapyV20.endpoints.transactions as trans\nimport pandas as pd",
      "block_group": "936a9ae588564d0abf5fb76626c620d6",
      "execution_count": 61,
      "outputs": [],
      "outputs_reference": null,
      "content_dependencies": null
    },
    {
      "cell_type": "code",
      "metadata": {
        "source_hash": "8d381a14",
        "execution_start": 1744070405295,
        "execution_millis": 2753,
        "execution_context_id": "1b2ca2f9-843a-44eb-8ffb-80fd8105676c",
        "cell_id": "4b7c591013e64d1faf326f5ab951689f",
        "deepnote_cell_type": "code"
      },
      "source": "client = oandapyV20.API(access_token=access_token)\nparam = { \"id\": 900 }\nr = trans.TransactionsSinceID(accountID=account_id_demo,  params=param)\ntrades= client.request(r)",
      "block_group": "da0bcd9836484df49e01f0085a50a6bc",
      "execution_count": 63,
      "outputs": [],
      "outputs_reference": null,
      "content_dependencies": null
    },
    {
      "cell_type": "code",
      "metadata": {
        "source_hash": "1709abd5",
        "execution_start": 1744070761874,
        "execution_millis": 97,
        "execution_context_id": "1b2ca2f9-843a-44eb-8ffb-80fd8105676c",
        "cell_id": "03ca7f237fb14bfc9f56da1baefbcd24",
        "deepnote_cell_type": "code"
      },
      "source": "param1 = { \"id\": 0 }\nrequest_hedge = trans.TransactionsSinceID(accountID=account_id_hedge,  params=param1)\ntrades_hedge= client.request(request_hedge)\nall_transactions_hedge = pd.DataFrame(trades_hedge['transactions'])\nall_transactions_hedge ['time'] = pd.to_datetime(all_transactions_hedge ['time'])\nall_transactions_hedge",
      "block_group": "dfb94ba9a51c41b39974bcf40ebf725b",
      "execution_count": 96,
      "outputs": [
        {
          "output_type": "execute_result",
          "execution_count": 96,
          "data": {
            "application/vnd.deepnote.dataframe.v3+json": {
              "column_count": 56,
              "row_count": 63,
              "columns": [
                {
                  "name": "id",
                  "dtype": "object",
                  "stats": {
                    "unique_count": 63,
                    "nan_count": 0,
                    "categories": [
                      {
                        "name": "1",
                        "count": 1
                      },
                      {
                        "name": "2",
                        "count": 1
                      },
                      {
                        "name": "61 others",
                        "count": 61
                      }
                    ]
                  }
                },
                {
                  "name": "accountID",
                  "dtype": "object",
                  "stats": {
                    "unique_count": 1,
                    "nan_count": 0,
                    "categories": [
                      {
                        "name": "101-004-31059296-003",
                        "count": 63
                      }
                    ]
                  }
                },
                {
                  "name": "userID",
                  "dtype": "int64",
                  "stats": {
                    "unique_count": 1,
                    "nan_count": 0,
                    "min": "31059296",
                    "max": "31059296",
                    "histogram": [
                      {
                        "bin_start": 31059295.5,
                        "bin_end": 31059295.6,
                        "count": 0
                      },
                      {
                        "bin_start": 31059295.6,
                        "bin_end": 31059295.7,
                        "count": 0
                      },
                      {
                        "bin_start": 31059295.7,
                        "bin_end": 31059295.8,
                        "count": 0
                      },
                      {
                        "bin_start": 31059295.8,
                        "bin_end": 31059295.9,
                        "count": 0
                      },
                      {
                        "bin_start": 31059295.9,
                        "bin_end": 31059296,
                        "count": 0
                      },
                      {
                        "bin_start": 31059296,
                        "bin_end": 31059296.1,
                        "count": 63
                      },
                      {
                        "bin_start": 31059296.1,
                        "bin_end": 31059296.2,
                        "count": 0
                      },
                      {
                        "bin_start": 31059296.2,
                        "bin_end": 31059296.3,
                        "count": 0
                      },
                      {
                        "bin_start": 31059296.3,
                        "bin_end": 31059296.4,
                        "count": 0
                      },
                      {
                        "bin_start": 31059296.4,
                        "bin_end": 31059296.5,
                        "count": 0
                      }
                    ]
                  }
                },
                {
                  "name": "batchID",
                  "dtype": "object",
                  "stats": {
                    "unique_count": 28,
                    "nan_count": 0,
                    "categories": [
                      {
                        "name": "16",
                        "count": 4
                      },
                      {
                        "name": "22",
                        "count": 4
                      },
                      {
                        "name": "26 others",
                        "count": 55
                      }
                    ]
                  }
                },
                {
                  "name": "requestID",
                  "dtype": "object",
                  "stats": {
                    "unique_count": 19,
                    "nan_count": 19,
                    "categories": [
                      {
                        "name": "115401367817111343",
                        "count": 4
                      },
                      {
                        "name": "18 others",
                        "count": 40
                      },
                      {
                        "name": "Missing",
                        "count": 19
                      }
                    ]
                  }
                },
                {
                  "name": "time",
                  "dtype": "datetime64[ns, UTC]",
                  "stats": {
                    "unique_count": 28,
                    "nan_count": 0,
                    "min": "2025-04-04 11:27:44.777790339+00:00",
                    "max": "2025-04-07 18:49:38.898070989+00:00",
                    "histogram": [
                      {
                        "bin_start": 1743766064777790500,
                        "bin_end": 1743794636189818600,
                        "count": 3
                      },
                      {
                        "bin_start": 1743794636189818600,
                        "bin_end": 1743823207601846500,
                        "count": 3
                      },
                      {
                        "bin_start": 1743823207601846500,
                        "bin_end": 1743851779013874700,
                        "count": 0
                      },
                      {
                        "bin_start": 1743851779013874700,
                        "bin_end": 1743880350425902600,
                        "count": 0
                      },
                      {
                        "bin_start": 1743880350425902600,
                        "bin_end": 1743908921837930800,
                        "count": 4
                      },
                      {
                        "bin_start": 1743908921837930800,
                        "bin_end": 1743937493249959000,
                        "count": 0
                      },
                      {
                        "bin_start": 1743937493249959000,
                        "bin_end": 1743966064661986800,
                        "count": 0
                      },
                      {
                        "bin_start": 1743966064661986800,
                        "bin_end": 1743994636074015000,
                        "count": 5
                      },
                      {
                        "bin_start": 1743994636074015000,
                        "bin_end": 1744023207486043000,
                        "count": 0
                      },
                      {
                        "bin_start": 1744023207486043000,
                        "bin_end": 1744051778898071000,
                        "count": 48
                      }
                    ]
                  }
                },
                {
                  "name": "type",
                  "dtype": "object",
                  "stats": {
                    "unique_count": 11,
                    "nan_count": 0,
                    "categories": [
                      {
                        "name": "ORDER_FILL",
                        "count": 16
                      },
                      {
                        "name": "ORDER_CANCEL",
                        "count": 11
                      },
                      {
                        "name": "9 others",
                        "count": 36
                      }
                    ]
                  }
                },
                {
                  "name": "divisionID",
                  "dtype": "float64",
                  "stats": {
                    "unique_count": 1,
                    "nan_count": 62,
                    "min": "4.0",
                    "max": "4.0",
                    "histogram": [
                      {
                        "bin_start": 3.5,
                        "bin_end": 3.6,
                        "count": 0
                      },
                      {
                        "bin_start": 3.6,
                        "bin_end": 3.7,
                        "count": 0
                      },
                      {
                        "bin_start": 3.7,
                        "bin_end": 3.8,
                        "count": 0
                      },
                      {
                        "bin_start": 3.8,
                        "bin_end": 3.9,
                        "count": 0
                      },
                      {
                        "bin_start": 3.9,
                        "bin_end": 4,
                        "count": 0
                      },
                      {
                        "bin_start": 4,
                        "bin_end": 4.1,
                        "count": 1
                      },
                      {
                        "bin_start": 4.1,
                        "bin_end": 4.2,
                        "count": 0
                      },
                      {
                        "bin_start": 4.2,
                        "bin_end": 4.3,
                        "count": 0
                      },
                      {
                        "bin_start": 4.3,
                        "bin_end": 4.4,
                        "count": 0
                      },
                      {
                        "bin_start": 4.4,
                        "bin_end": 4.5,
                        "count": 0
                      }
                    ]
                  }
                },
                {
                  "name": "siteID",
                  "dtype": "float64",
                  "stats": {
                    "unique_count": 1,
                    "nan_count": 62,
                    "min": "101.0",
                    "max": "101.0",
                    "histogram": [
                      {
                        "bin_start": 100.5,
                        "bin_end": 100.6,
                        "count": 0
                      },
                      {
                        "bin_start": 100.6,
                        "bin_end": 100.7,
                        "count": 0
                      },
                      {
                        "bin_start": 100.7,
                        "bin_end": 100.8,
                        "count": 0
                      },
                      {
                        "bin_start": 100.8,
                        "bin_end": 100.9,
                        "count": 0
                      },
                      {
                        "bin_start": 100.9,
                        "bin_end": 101,
                        "count": 0
                      },
                      {
                        "bin_start": 101,
                        "bin_end": 101.1,
                        "count": 1
                      },
                      {
                        "bin_start": 101.1,
                        "bin_end": 101.2,
                        "count": 0
                      },
                      {
                        "bin_start": 101.2,
                        "bin_end": 101.3,
                        "count": 0
                      },
                      {
                        "bin_start": 101.3,
                        "bin_end": 101.4,
                        "count": 0
                      },
                      {
                        "bin_start": 101.4,
                        "bin_end": 101.5,
                        "count": 0
                      }
                    ]
                  }
                },
                {
                  "name": "accountUserID",
                  "dtype": "float64",
                  "stats": {
                    "unique_count": 1,
                    "nan_count": 62,
                    "min": "31059296.0",
                    "max": "31059296.0",
                    "histogram": [
                      {
                        "bin_start": 31059295.5,
                        "bin_end": 31059295.6,
                        "count": 0
                      },
                      {
                        "bin_start": 31059295.6,
                        "bin_end": 31059295.7,
                        "count": 0
                      },
                      {
                        "bin_start": 31059295.7,
                        "bin_end": 31059295.8,
                        "count": 0
                      },
                      {
                        "bin_start": 31059295.8,
                        "bin_end": 31059295.9,
                        "count": 0
                      },
                      {
                        "bin_start": 31059295.9,
                        "bin_end": 31059296,
                        "count": 0
                      },
                      {
                        "bin_start": 31059296,
                        "bin_end": 31059296.1,
                        "count": 1
                      },
                      {
                        "bin_start": 31059296.1,
                        "bin_end": 31059296.2,
                        "count": 0
                      },
                      {
                        "bin_start": 31059296.2,
                        "bin_end": 31059296.3,
                        "count": 0
                      },
                      {
                        "bin_start": 31059296.3,
                        "bin_end": 31059296.4,
                        "count": 0
                      },
                      {
                        "bin_start": 31059296.4,
                        "bin_end": 31059296.5,
                        "count": 0
                      }
                    ]
                  }
                },
                {
                  "name": "accountNumber",
                  "dtype": "float64",
                  "stats": {
                    "unique_count": 1,
                    "nan_count": 62,
                    "min": "3.0",
                    "max": "3.0",
                    "histogram": [
                      {
                        "bin_start": 2.5,
                        "bin_end": 2.6,
                        "count": 0
                      },
                      {
                        "bin_start": 2.6,
                        "bin_end": 2.7,
                        "count": 0
                      },
                      {
                        "bin_start": 2.7,
                        "bin_end": 2.8,
                        "count": 0
                      },
                      {
                        "bin_start": 2.8,
                        "bin_end": 2.9,
                        "count": 0
                      },
                      {
                        "bin_start": 2.9,
                        "bin_end": 3,
                        "count": 0
                      },
                      {
                        "bin_start": 3,
                        "bin_end": 3.1,
                        "count": 1
                      },
                      {
                        "bin_start": 3.1,
                        "bin_end": 3.2,
                        "count": 0
                      },
                      {
                        "bin_start": 3.2,
                        "bin_end": 3.3,
                        "count": 0
                      },
                      {
                        "bin_start": 3.3,
                        "bin_end": 3.4,
                        "count": 0
                      },
                      {
                        "bin_start": 3.4,
                        "bin_end": 3.5,
                        "count": 0
                      }
                    ]
                  }
                },
                {
                  "name": "homeCurrency",
                  "dtype": "object",
                  "stats": {
                    "unique_count": 1,
                    "nan_count": 62,
                    "categories": [
                      {
                        "name": "GBP",
                        "count": 1
                      },
                      {
                        "name": "Missing",
                        "count": 62
                      }
                    ]
                  }
                },
                {
                  "name": "marginRate",
                  "dtype": "object",
                  "stats": {
                    "unique_count": 1,
                    "nan_count": 62,
                    "categories": [
                      {
                        "name": "0.03333333333333",
                        "count": 1
                      },
                      {
                        "name": "Missing",
                        "count": 62
                      }
                    ]
                  }
                },
                {
                  "name": "alias",
                  "dtype": "object",
                  "stats": {
                    "unique_count": 1,
                    "nan_count": 62,
                    "categories": [
                      {
                        "name": "Hedging VG",
                        "count": 1
                      },
                      {
                        "name": "Missing",
                        "count": 62
                      }
                    ]
                  }
                },
                {
                  "name": "accountBalance",
                  "dtype": "object",
                  "stats": {
                    "unique_count": 9,
                    "nan_count": 46,
                    "categories": [
                      {
                        "name": "100000.0000",
                        "count": 2
                      },
                      {
                        "name": "8 others",
                        "count": 15
                      },
                      {
                        "name": "Missing",
                        "count": 46
                      }
                    ]
                  }
                },
                {
                  "name": "amount",
                  "dtype": "object",
                  "stats": {
                    "unique_count": 1,
                    "nan_count": 62,
                    "categories": [
                      {
                        "name": "100000",
                        "count": 1
                      },
                      {
                        "name": "Missing",
                        "count": 62
                      }
                    ]
                  }
                },
                {
                  "name": "fundingReason",
                  "dtype": "object",
                  "stats": {
                    "unique_count": 1,
                    "nan_count": 62,
                    "categories": [
                      {
                        "name": "ADJUSTMENT",
                        "count": 1
                      },
                      {
                        "name": "Missing",
                        "count": 62
                      }
                    ]
                  }
                },
                {
                  "name": "instrument",
                  "dtype": "object",
                  "stats": {
                    "unique_count": 1,
                    "nan_count": 30,
                    "categories": [
                      {
                        "name": "EUR_USD",
                        "count": 33
                      },
                      {
                        "name": "Missing",
                        "count": 30
                      }
                    ]
                  }
                },
                {
                  "name": "units",
                  "dtype": "object",
                  "stats": {
                    "unique_count": 4,
                    "nan_count": 30,
                    "categories": [
                      {
                        "name": "-1000000",
                        "count": 16
                      },
                      {
                        "name": "3 others",
                        "count": 17
                      },
                      {
                        "name": "Missing",
                        "count": 30
                      }
                    ]
                  }
                },
                {
                  "name": "price",
                  "dtype": "object",
                  "stats": {
                    "unique_count": 24,
                    "nan_count": 37,
                    "categories": [
                      {
                        "name": "1.09639",
                        "count": 2
                      },
                      {
                        "name": "23 others",
                        "count": 24
                      },
                      {
                        "name": "Missing",
                        "count": 37
                      }
                    ]
                  }
                },
                {
                  "name": "timeInForce",
                  "dtype": "object",
                  "stats": {
                    "unique_count": 3,
                    "nan_count": 30,
                    "categories": [
                      {
                        "name": "FOK",
                        "count": 16
                      },
                      {
                        "name": "2 others",
                        "count": 17
                      },
                      {
                        "name": "Missing",
                        "count": 30
                      }
                    ]
                  }
                },
                {
                  "name": "gtdTime",
                  "dtype": "object",
                  "stats": {
                    "unique_count": 1,
                    "nan_count": 62,
                    "categories": [
                      {
                        "name": "2025-04-11T21:22:03.000000000Z",
                        "count": 1
                      },
                      {
                        "name": "Missing",
                        "count": 62
                      }
                    ]
                  }
                },
                {
                  "name": "triggerCondition",
                  "dtype": "object",
                  "stats": {
                    "unique_count": 1,
                    "nan_count": 46,
                    "categories": [
                      {
                        "name": "DEFAULT",
                        "count": 17
                      },
                      {
                        "name": "Missing",
                        "count": 46
                      }
                    ]
                  }
                },
                {
                  "name": "partialFill",
                  "dtype": "object",
                  "stats": {
                    "unique_count": 1,
                    "nan_count": 62,
                    "categories": [
                      {
                        "name": "DEFAULT",
                        "count": 1
                      },
                      {
                        "name": "Missing",
                        "count": 62
                      }
                    ]
                  }
                },
                {
                  "name": "positionFill",
                  "dtype": "object",
                  "stats": {
                    "unique_count": 1,
                    "nan_count": 46,
                    "categories": [
                      {
                        "name": "DEFAULT",
                        "count": 17
                      },
                      {
                        "name": "Missing",
                        "count": 46
                      }
                    ]
                  }
                },
                {
                  "name": "takeProfitOnFill",
                  "dtype": "object",
                  "stats": {
                    "unique_count": 63,
                    "nan_count": 46,
                    "categories": [
                      {
                        "name": "{'price': '1.09796', 'timeInForce': 'GTC'}",
                        "count": 2
                      },
                      {
                        "name": "15 others",
                        "count": 15
                      },
                      {
                        "name": "Missing",
                        "count": 46
                      }
                    ]
                  }
                },
                {
                  "name": "stopLossOnFill",
                  "dtype": "object",
                  "stats": {
                    "unique_count": 63,
                    "nan_count": 62,
                    "categories": [
                      {
                        "name": "{'price': '1.09659', 'timeInForce': 'GTC', 'triggerMode': 'TOP_OF_BOOK'}",
                        "count": 1
                      },
                      {
                        "name": "Missing",
                        "count": 62
                      }
                    ]
                  }
                },
                {
                  "name": "reason",
                  "dtype": "object",
                  "stats": {
                    "unique_count": 9,
                    "nan_count": 3,
                    "categories": [
                      {
                        "name": "CLIENT_ORDER",
                        "count": 17
                      },
                      {
                        "name": "8 others",
                        "count": 43
                      },
                      {
                        "name": "Missing",
                        "count": 3
                      }
                    ]
                  }
                },
                {
                  "name": "trailingStopLossOnFill",
                  "dtype": "object",
                  "stats": {
                    "unique_count": 63,
                    "nan_count": 47,
                    "categories": [
                      {
                        "name": "{'distance': '0.0003', 'timeInForce': 'GTC', 'triggerMode': 'TOP_OF_BOOK'}",
                        "count": 6
                      },
                      {
                        "name": "4 others",
                        "count": 10
                      },
                      {
                        "name": "Missing",
                        "count": 47
                      }
                    ]
                  }
                },
                {
                  "name": "orderID",
                  "dtype": "object",
                  "stats": {
                    "unique_count": 27,
                    "nan_count": 36,
                    "categories": [
                      {
                        "name": "5",
                        "count": 1
                      },
                      {
                        "name": "26 others",
                        "count": 26
                      },
                      {
                        "name": "Missing",
                        "count": 36
                      }
                    ]
                  }
                },
                {
                  "name": "requestedUnits",
                  "dtype": "object",
                  "stats": {
                    "unique_count": 4,
                    "nan_count": 47,
                    "categories": [
                      {
                        "name": "1000000",
                        "count": 7
                      },
                      {
                        "name": "3 others",
                        "count": 9
                      },
                      {
                        "name": "Missing",
                        "count": 47
                      }
                    ]
                  }
                },
                {
                  "name": "pl",
                  "dtype": "object",
                  "stats": {
                    "unique_count": 9,
                    "nan_count": 47,
                    "categories": [
                      {
                        "name": "0.0000",
                        "count": 8
                      },
                      {
                        "name": "8 others",
                        "count": 8
                      },
                      {
                        "name": "Missing",
                        "count": 47
                      }
                    ]
                  }
                },
                {
                  "name": "quotePL",
                  "dtype": "object",
                  "stats": {
                    "unique_count": 9,
                    "nan_count": 47,
                    "categories": [
                      {
                        "name": "0",
                        "count": 8
                      },
                      {
                        "name": "8 others",
                        "count": 8
                      },
                      {
                        "name": "Missing",
                        "count": 47
                      }
                    ]
                  }
                },
                {
                  "name": "financing",
                  "dtype": "object",
                  "stats": {
                    "unique_count": 1,
                    "nan_count": 47,
                    "categories": [
                      {
                        "name": "0.0000",
                        "count": 16
                      },
                      {
                        "name": "Missing",
                        "count": 47
                      }
                    ]
                  }
                },
                {
                  "name": "baseFinancing",
                  "dtype": "object",
                  "stats": {
                    "unique_count": 2,
                    "nan_count": 47,
                    "categories": [
                      {
                        "name": "0",
                        "count": 8
                      },
                      {
                        "name": "0.00000000000000",
                        "count": 8
                      },
                      {
                        "name": "Missing",
                        "count": 47
                      }
                    ]
                  }
                },
                {
                  "name": "commission",
                  "dtype": "object",
                  "stats": {
                    "unique_count": 1,
                    "nan_count": 47,
                    "categories": [
                      {
                        "name": "0.0000",
                        "count": 16
                      },
                      {
                        "name": "Missing",
                        "count": 47
                      }
                    ]
                  }
                },
                {
                  "name": "gainQuoteHomeConversionFactor",
                  "dtype": "object",
                  "stats": {
                    "unique_count": 16,
                    "nan_count": 47,
                    "categories": [
                      {
                        "name": "0.773323083994",
                        "count": 1
                      },
                      {
                        "name": "15 others",
                        "count": 15
                      },
                      {
                        "name": "Missing",
                        "count": 47
                      }
                    ]
                  }
                },
                {
                  "name": "lossQuoteHomeConversionFactor",
                  "dtype": "object",
                  "stats": {
                    "unique_count": 16,
                    "nan_count": 47,
                    "categories": [
                      {
                        "name": "0.781095175291",
                        "count": 1
                      },
                      {
                        "name": "15 others",
                        "count": 15
                      },
                      {
                        "name": "Missing",
                        "count": 47
                      }
                    ]
                  }
                },
                {
                  "name": "guaranteedExecutionFee",
                  "dtype": "object",
                  "stats": {
                    "unique_count": 1,
                    "nan_count": 47,
                    "categories": [
                      {
                        "name": "0.0000",
                        "count": 16
                      },
                      {
                        "name": "Missing",
                        "count": 47
                      }
                    ]
                  }
                },
                {
                  "name": "quoteGuaranteedExecutionFee",
                  "dtype": "object",
                  "stats": {
                    "unique_count": 1,
                    "nan_count": 47,
                    "categories": [
                      {
                        "name": "0",
                        "count": 16
                      },
                      {
                        "name": "Missing",
                        "count": 47
                      }
                    ]
                  }
                },
                {
                  "name": "halfSpreadCost",
                  "dtype": "object",
                  "stats": {
                    "unique_count": 15,
                    "nan_count": 47,
                    "categories": [
                      {
                        "name": "0.0001",
                        "count": 2
                      },
                      {
                        "name": "14 others",
                        "count": 14
                      },
                      {
                        "name": "Missing",
                        "count": 47
                      }
                    ]
                  }
                },
                {
                  "name": "fullVWAP",
                  "dtype": "object",
                  "stats": {
                    "unique_count": 16,
                    "nan_count": 47,
                    "categories": [
                      {
                        "name": "1.09639",
                        "count": 1
                      },
                      {
                        "name": "15 others",
                        "count": 15
                      },
                      {
                        "name": "Missing",
                        "count": 47
                      }
                    ]
                  }
                },
                {
                  "name": "tradeOpened",
                  "dtype": "object",
                  "stats": {
                    "unique_count": 63,
                    "nan_count": 55,
                    "categories": [
                      {
                        "name": "{'price': '1.09639', 'tradeID': '11', 'units': '-1', 'guaranteedExecutionFee': '0.0000', 'quoteGuaranteedExecutionFee': '0', 'halfSpreadCost': '0.0001', 'initialMarginRequired': '0.0284', 'guaranteedExecutionFeeHomeConversionCost': '0.00000000000000'}",
                        "count": 1
                      },
                      {
                        "name": "7 others",
                        "count": 7
                      },
                      {
                        "name": "Missing",
                        "count": 55
                      }
                    ]
                  }
                },
                {
                  "name": "fullPrice",
                  "dtype": "object",
                  "stats": {
                    "unique_count": 63,
                    "nan_count": 47,
                    "categories": [
                      {
                        "name": "{'closeoutBid': '1.09630', 'closeoutAsk': '1.09667', 'timestamp': '2025-04-06T22:16:18.658134366Z', 'bids': [{'price': '1.09639', 'liquidity': '500000'}, {'price': '1.09638', 'liquidity': '2500000'}, {'price': '1.09637', 'liquidity': '2000000'}, {'price': '1.09636', 'liquidity': '5000000'}, {'price': '1.09633', 'liquidity': '10000000'}, {'price': '1.09630', 'liquidity': '10000000'}], 'asks': [{'price': '1.09658', 'liquidity': '500000'}, {'price': '1.09659', 'liquidity': '500000'}, {'price': '1.09660', 'liquidity': '2000000'}, {'price': '1.09661', 'liquidity': '2000000'}, {'price': '1.09662', 'liquidity': '5000000'}, {'price': '1.09664', 'liquidity': '10000000'}, {'price': '1.09667', 'liquidity': '10000000'}]}",
                        "count": 1
                      },
                      {
                        "name": "15 others",
                        "count": 15
                      },
                      {
                        "name": "Missing",
                        "count": 47
                      }
                    ]
                  }
                },
                {
                  "name": "homeConversionFactors",
                  "dtype": "object",
                  "stats": {
                    "unique_count": 63,
                    "nan_count": 47,
                    "categories": [
                      {
                        "name": "{'gainQuoteHome': {'factor': '0.77332308399434'}, 'lossQuoteHome': {'factor': '0.78109517529076'}, 'gainBaseHome': {'factor': '0.84783950'}, 'lossBaseHome': {'factor': '0.85636050'}}",
                        "count": 1
                      },
                      {
                        "name": "15 others",
                        "count": 15
                      },
                      {
                        "name": "Missing",
                        "count": 47
                      }
                    ]
                  }
                },
                {
                  "name": "plHomeConversionCost",
                  "dtype": "object",
                  "stats": {
                    "unique_count": 9,
                    "nan_count": 47,
                    "categories": [
                      {
                        "name": "0.00000000000000",
                        "count": 8
                      },
                      {
                        "name": "8 others",
                        "count": 8
                      },
                      {
                        "name": "Missing",
                        "count": 47
                      }
                    ]
                  }
                },
                {
                  "name": "baseFinancingHomeConversionCost",
                  "dtype": "object",
                  "stats": {
                    "unique_count": 2,
                    "nan_count": 47,
                    "categories": [
                      {
                        "name": "0.00000000",
                        "count": 8
                      },
                      {
                        "name": "0.00000000000000",
                        "count": 8
                      },
                      {
                        "name": "Missing",
                        "count": 47
                      }
                    ]
                  }
                },
                {
                  "name": "guaranteedExecutionFeeHomeConversionCost",
                  "dtype": "object",
                  "stats": {
                    "unique_count": 1,
                    "nan_count": 47,
                    "categories": [
                      {
                        "name": "0.00000000000000",
                        "count": 16
                      },
                      {
                        "name": "Missing",
                        "count": 47
                      }
                    ]
                  }
                },
                {
                  "name": "homeConversionCost",
                  "dtype": "object",
                  "stats": {
                    "unique_count": 9,
                    "nan_count": 47,
                    "categories": [
                      {
                        "name": "0.00000000000000",
                        "count": 8
                      },
                      {
                        "name": "8 others",
                        "count": 8
                      },
                      {
                        "name": "Missing",
                        "count": 47
                      }
                    ]
                  }
                },
                {
                  "name": "tradeID",
                  "dtype": "object",
                  "stats": {
                    "unique_count": 8,
                    "nan_count": 47,
                    "categories": [
                      {
                        "name": "11",
                        "count": 2
                      },
                      {
                        "name": "7 others",
                        "count": 14
                      },
                      {
                        "name": "Missing",
                        "count": 47
                      }
                    ]
                  }
                },
                {
                  "name": "triggerMode",
                  "dtype": "object",
                  "stats": {
                    "unique_count": 1,
                    "nan_count": 55,
                    "categories": [
                      {
                        "name": "TOP_OF_BOOK",
                        "count": 8
                      },
                      {
                        "name": "Missing",
                        "count": 55
                      }
                    ]
                  }
                },
                {
                  "name": "tradesClosed",
                  "dtype": "object",
                  "stats": {
                    "unique_count": 63,
                    "nan_count": 55,
                    "categories": [
                      {
                        "name": "[{'tradeID': '11', 'units': '1', 'realizedPL': '-0.0002', 'financing': '0.0000', 'baseFinancing': '0.00000000000000', 'price': '1.09659', 'guaranteedExecutionFee': '0.0000', 'quoteGuaranteedExecutionFee': '0', 'halfSpreadCost': '0.0001', 'plHomeConversionCost': '-0.00000076088810', 'baseFinancingHomeConversionCost': '0.00000000000000', 'guaranteedExecutionFeeHomeConversionCost': '0.00000000000000', 'homeConversionCost': '-0.00000076088810'}]",
                        "count": 1
                      },
                      {
                        "name": "7 others",
                        "count": 7
                      },
                      {
                        "name": "Missing",
                        "count": 55
                      }
                    ]
                  }
                },
                {
                  "name": "closedTradeID",
                  "dtype": "object",
                  "stats": {
                    "unique_count": 8,
                    "nan_count": 55,
                    "categories": [
                      {
                        "name": "11",
                        "count": 1
                      },
                      {
                        "name": "7 others",
                        "count": 7
                      },
                      {
                        "name": "Missing",
                        "count": 55
                      }
                    ]
                  }
                },
                {
                  "name": "tradeCloseTransactionID",
                  "dtype": "object",
                  "stats": {
                    "unique_count": 8,
                    "nan_count": 55,
                    "categories": [
                      {
                        "name": "14",
                        "count": 1
                      },
                      {
                        "name": "7 others",
                        "count": 7
                      },
                      {
                        "name": "Missing",
                        "count": 55
                      }
                    ]
                  }
                },
                {
                  "name": "distance",
                  "dtype": "object",
                  "stats": {
                    "unique_count": 3,
                    "nan_count": 56,
                    "categories": [
                      {
                        "name": "0.00050",
                        "count": 3
                      },
                      {
                        "name": "2 others",
                        "count": 4
                      },
                      {
                        "name": "Missing",
                        "count": 56
                      }
                    ]
                  }
                },
                {
                  "name": "rejectReason",
                  "dtype": "object",
                  "stats": {
                    "unique_count": 1,
                    "nan_count": 57,
                    "categories": [
                      {
                        "name": "TRAILING_STOP_LOSS_ON_FILL_PRICE_DISTANCE_MINIMUM_NOT_MET",
                        "count": 6
                      },
                      {
                        "name": "Missing",
                        "count": 57
                      }
                    ]
                  }
                },
                {
                  "name": "_deepnote_index_column",
                  "dtype": "int64"
                }
              ],
              "rows": [
                {
                  "id": "61",
                  "accountID": "101-004-31059296-003",
                  "userID": 31059296,
                  "batchID": "58",
                  "requestID": "61358277983645742",
                  "time": "2025-04-07 18:46:04.888305222+00:00",
                  "type": "TRAILING_STOP_LOSS_ORDER",
                  "divisionID": "nan",
                  "siteID": "nan",
                  "accountUserID": "nan",
                  "accountNumber": "nan",
                  "homeCurrency": "nan",
                  "marginRate": "nan",
                  "alias": "nan",
                  "accountBalance": "nan",
                  "amount": "nan",
                  "fundingReason": "nan",
                  "instrument": "nan",
                  "units": "nan",
                  "price": "nan",
                  "timeInForce": "GTC",
                  "gtdTime": "nan",
                  "triggerCondition": "DEFAULT",
                  "partialFill": "nan",
                  "positionFill": "nan",
                  "takeProfitOnFill": "nan",
                  "stopLossOnFill": "nan",
                  "reason": "ON_FILL",
                  "trailingStopLossOnFill": "nan",
                  "orderID": "nan",
                  "requestedUnits": "nan",
                  "pl": "nan",
                  "quotePL": "nan",
                  "financing": "nan",
                  "baseFinancing": "nan",
                  "commission": "nan",
                  "gainQuoteHomeConversionFactor": "nan",
                  "lossQuoteHomeConversionFactor": "nan",
                  "guaranteedExecutionFee": "nan",
                  "quoteGuaranteedExecutionFee": "nan",
                  "halfSpreadCost": "nan",
                  "fullVWAP": "nan",
                  "tradeOpened": "nan",
                  "fullPrice": "nan",
                  "homeConversionFactors": "nan",
                  "plHomeConversionCost": "nan",
                  "baseFinancingHomeConversionCost": "nan",
                  "guaranteedExecutionFeeHomeConversionCost": "nan",
                  "homeConversionCost": "nan",
                  "tradeID": "59",
                  "triggerMode": "TOP_OF_BOOK",
                  "tradesClosed": "nan",
                  "closedTradeID": "nan",
                  "tradeCloseTransactionID": "nan",
                  "distance": "0.00060",
                  "rejectReason": "nan",
                  "_deepnote_index_column": 60
                },
                {
                  "id": "62",
                  "accountID": "101-004-31059296-003",
                  "userID": 31059296,
                  "batchID": "62",
                  "requestID": "nan",
                  "time": "2025-04-07 18:49:38.898070989+00:00",
                  "type": "ORDER_FILL",
                  "divisionID": "nan",
                  "siteID": "nan",
                  "accountUserID": "nan",
                  "accountNumber": "nan",
                  "homeCurrency": "nan",
                  "marginRate": "nan",
                  "alias": "nan",
                  "accountBalance": "100714.6335",
                  "amount": "nan",
                  "fundingReason": "nan",
                  "instrument": "EUR_USD",
                  "units": "-1000000",
                  "price": "1.09260",
                  "timeInForce": "nan",
                  "gtdTime": "nan",
                  "triggerCondition": "nan",
                  "partialFill": "nan",
                  "positionFill": "nan",
                  "takeProfitOnFill": "nan",
                  "stopLossOnFill": "nan",
                  "reason": "TRAILING_STOP_LOSS_ORDER",
                  "trailingStopLossOnFill": "nan",
                  "orderID": "61",
                  "requestedUnits": "-1000000",
                  "pl": "-330.8953",
                  "quotePL": "-420.00000",
                  "financing": "0.0000",
                  "baseFinancing": "0.00000000000000",
                  "commission": "0.0000",
                  "gainQuoteHomeConversionFactor": "0.78000674656",
                  "lossQuoteHomeConversionFactor": "0.787846010345",
                  "guaranteedExecutionFee": "0.0000",
                  "quoteGuaranteedExecutionFee": "0",
                  "halfSpreadCost": "43.1160",
                  "fullVWAP": "1.09260",
                  "tradeOpened": "nan",
                  "fullPrice": "{'closeoutBid': '1.09252', 'closeoutAsk': '1.09279', 'timestamp': '2025-04-07T18:49:38.898070989Z', 'bids': [{'price': '1.09261', 'liquidity': '500000'}, {'price': '1.09260', 'liquidity': '2500000'}, {'price': '1.09259', 'liquidity': '2000000'}, {'price': '1.09258', 'liquidity': '5000000'}, {'price': '1.09255', 'liquidity': '10000000'}, {'price': '1.09252', 'liquidity': '10000000'}], 'asks': [{'price': '1.09270', 'liquidity': '500000'}, {'price': '1.09271', 'liquidity': '500000'}, {'price': '1.09272', 'liquidity': '2000000'}, {'price': '1.09273', 'liquidity': '2000000'}, {'price': '1.09274', 'liquidity': '5000000'}, {'price': '1.09276', 'liquidity': '10000000'}, {'price': '1.09279', 'liquidity': '10000000'}]}",
                  "homeConversionFactors": "{'gainQuoteHome': {'factor': '0.78000674656028'}, 'lossQuoteHome': {'factor': '0.78784601034480'}, 'gainBaseHome': {'factor': '0.85229710'}, 'lossBaseHome': {'factor': '0.86086290'}}",
                  "plHomeConversionCost": "-1.62043469110320",
                  "baseFinancingHomeConversionCost": "0.00000000000000",
                  "guaranteedExecutionFeeHomeConversionCost": "0.00000000000000",
                  "homeConversionCost": "-1.62043469110320",
                  "tradeID": "nan",
                  "triggerMode": "nan",
                  "tradesClosed": "[{'tradeID': '59', 'units': '-1000000', 'realizedPL': '-330.8953', 'financing': '0.0000', 'baseFinancing': '0.00000000000000', 'price': '1.09260', 'guaranteedExecutionFee': '0.0000', 'quoteGuaranteedExecutionFee': '0', 'halfSpreadCost': '43.1160', 'plHomeConversionCost': '-1.62043469110320', 'baseFinancingHomeConversionCost': '0.00000000000000', 'guaranteedExecutionFeeHomeConversionCost': '0.00000000000000', 'homeConversionCost': '-1.62043469110320'}]",
                  "closedTradeID": "nan",
                  "tradeCloseTransactionID": "nan",
                  "distance": "nan",
                  "rejectReason": "nan",
                  "_deepnote_index_column": 61
                },
                {
                  "id": "63",
                  "accountID": "101-004-31059296-003",
                  "userID": 31059296,
                  "batchID": "62",
                  "requestID": "nan",
                  "time": "2025-04-07 18:49:38.898070989+00:00",
                  "type": "ORDER_CANCEL",
                  "divisionID": "nan",
                  "siteID": "nan",
                  "accountUserID": "nan",
                  "accountNumber": "nan",
                  "homeCurrency": "nan",
                  "marginRate": "nan",
                  "alias": "nan",
                  "accountBalance": "nan",
                  "amount": "nan",
                  "fundingReason": "nan",
                  "instrument": "nan",
                  "units": "nan",
                  "price": "nan",
                  "timeInForce": "nan",
                  "gtdTime": "nan",
                  "triggerCondition": "nan",
                  "partialFill": "nan",
                  "positionFill": "nan",
                  "takeProfitOnFill": "nan",
                  "stopLossOnFill": "nan",
                  "reason": "LINKED_TRADE_CLOSED",
                  "trailingStopLossOnFill": "nan",
                  "orderID": "60",
                  "requestedUnits": "nan",
                  "pl": "nan",
                  "quotePL": "nan",
                  "financing": "nan",
                  "baseFinancing": "nan",
                  "commission": "nan",
                  "gainQuoteHomeConversionFactor": "nan",
                  "lossQuoteHomeConversionFactor": "nan",
                  "guaranteedExecutionFee": "nan",
                  "quoteGuaranteedExecutionFee": "nan",
                  "halfSpreadCost": "nan",
                  "fullVWAP": "nan",
                  "tradeOpened": "nan",
                  "fullPrice": "nan",
                  "homeConversionFactors": "nan",
                  "plHomeConversionCost": "nan",
                  "baseFinancingHomeConversionCost": "nan",
                  "guaranteedExecutionFeeHomeConversionCost": "nan",
                  "homeConversionCost": "nan",
                  "tradeID": "nan",
                  "triggerMode": "nan",
                  "tradesClosed": "nan",
                  "closedTradeID": "59",
                  "tradeCloseTransactionID": "62",
                  "distance": "nan",
                  "rejectReason": "nan",
                  "_deepnote_index_column": 62
                }
              ],
              "type": "dataframe"
            },
            "text/plain": "    id             accountID    userID batchID            requestID  \\\n0    1  101-004-31059296-003  31059296       1  1682652946359240083   \n1    2  101-004-31059296-003  31059296       1  1682652946359240083   \n2    3  101-004-31059296-003  31059296       3  1718681743386592802   \n3    4  101-004-31059296-003  31059296       4    61357230115111042   \n4    5  101-004-31059296-003  31059296       5    79371629377737404   \n..  ..                   ...       ...     ...                  ...   \n58  59  101-004-31059296-003  31059296      58    61358277983645742   \n59  60  101-004-31059296-003  31059296      58    61358277983645742   \n60  61  101-004-31059296-003  31059296      58    61358277983645742   \n61  62  101-004-31059296-003  31059296      62                  NaN   \n62  63  101-004-31059296-003  31059296      62                  NaN   \n\n                                  time                      type  divisionID  \\\n0  2025-04-04 11:27:44.777790339+00:00                    CREATE         4.0   \n1  2025-04-04 11:27:44.777790339+00:00          CLIENT_CONFIGURE         NaN   \n2  2025-04-04 11:27:46.532682976+00:00            TRANSFER_FUNDS         NaN   \n3  2025-04-04 21:22:13.497057574+00:00               LIMIT_ORDER         NaN   \n4  2025-04-04 21:25:13.666076581+00:00              MARKET_ORDER         NaN   \n..                                 ...                       ...         ...   \n58 2025-04-07 18:46:04.888305222+00:00                ORDER_FILL         NaN   \n59 2025-04-07 18:46:04.888305222+00:00         TAKE_PROFIT_ORDER         NaN   \n60 2025-04-07 18:46:04.888305222+00:00  TRAILING_STOP_LOSS_ORDER         NaN   \n61 2025-04-07 18:49:38.898070989+00:00                ORDER_FILL         NaN   \n62 2025-04-07 18:49:38.898070989+00:00              ORDER_CANCEL         NaN   \n\n    siteID  accountUserID  ...  baseFinancingHomeConversionCost  \\\n0    101.0     31059296.0  ...                              NaN   \n1      NaN            NaN  ...                              NaN   \n2      NaN            NaN  ...                              NaN   \n3      NaN            NaN  ...                              NaN   \n4      NaN            NaN  ...                              NaN   \n..     ...            ...  ...                              ...   \n58     NaN            NaN  ...                       0.00000000   \n59     NaN            NaN  ...                              NaN   \n60     NaN            NaN  ...                              NaN   \n61     NaN            NaN  ...                 0.00000000000000   \n62     NaN            NaN  ...                              NaN   \n\n   guaranteedExecutionFeeHomeConversionCost homeConversionCost tradeID  \\\n0                                       NaN                NaN     NaN   \n1                                       NaN                NaN     NaN   \n2                                       NaN                NaN     NaN   \n3                                       NaN                NaN     NaN   \n4                                       NaN                NaN     NaN   \n..                                      ...                ...     ...   \n58                         0.00000000000000   0.00000000000000     NaN   \n59                                      NaN                NaN      59   \n60                                      NaN                NaN      59   \n61                         0.00000000000000  -1.62043469110320     NaN   \n62                                      NaN                NaN     NaN   \n\n    triggerMode                                       tradesClosed  \\\n0           NaN                                                NaN   \n1           NaN                                                NaN   \n2           NaN                                                NaN   \n3           NaN                                                NaN   \n4           NaN                                                NaN   \n..          ...                                                ...   \n58          NaN                                                NaN   \n59          NaN                                                NaN   \n60  TOP_OF_BOOK                                                NaN   \n61          NaN  [{'tradeID': '59', 'units': '-1000000', 'reali...   \n62          NaN                                                NaN   \n\n   closedTradeID tradeCloseTransactionID distance rejectReason  \n0            NaN                     NaN      NaN          NaN  \n1            NaN                     NaN      NaN          NaN  \n2            NaN                     NaN      NaN          NaN  \n3            NaN                     NaN      NaN          NaN  \n4            NaN                     NaN      NaN          NaN  \n..           ...                     ...      ...          ...  \n58           NaN                     NaN      NaN          NaN  \n59           NaN                     NaN      NaN          NaN  \n60           NaN                     NaN  0.00060          NaN  \n61           NaN                     NaN      NaN          NaN  \n62            59                      62      NaN          NaN  \n\n[63 rows x 56 columns]",
            "text/html": "<div>\n<style scoped>\n    .dataframe tbody tr th:only-of-type {\n        vertical-align: middle;\n    }\n\n    .dataframe tbody tr th {\n        vertical-align: top;\n    }\n\n    .dataframe thead th {\n        text-align: right;\n    }\n</style>\n<table border=\"1\" class=\"dataframe\">\n  <thead>\n    <tr style=\"text-align: right;\">\n      <th></th>\n      <th>id</th>\n      <th>accountID</th>\n      <th>userID</th>\n      <th>batchID</th>\n      <th>requestID</th>\n      <th>time</th>\n      <th>type</th>\n      <th>divisionID</th>\n      <th>siteID</th>\n      <th>accountUserID</th>\n      <th>...</th>\n      <th>baseFinancingHomeConversionCost</th>\n      <th>guaranteedExecutionFeeHomeConversionCost</th>\n      <th>homeConversionCost</th>\n      <th>tradeID</th>\n      <th>triggerMode</th>\n      <th>tradesClosed</th>\n      <th>closedTradeID</th>\n      <th>tradeCloseTransactionID</th>\n      <th>distance</th>\n      <th>rejectReason</th>\n    </tr>\n  </thead>\n  <tbody>\n    <tr>\n      <th>0</th>\n      <td>1</td>\n      <td>101-004-31059296-003</td>\n      <td>31059296</td>\n      <td>1</td>\n      <td>1682652946359240083</td>\n      <td>2025-04-04 11:27:44.777790339+00:00</td>\n      <td>CREATE</td>\n      <td>4.0</td>\n      <td>101.0</td>\n      <td>31059296.0</td>\n      <td>...</td>\n      <td>NaN</td>\n      <td>NaN</td>\n      <td>NaN</td>\n      <td>NaN</td>\n      <td>NaN</td>\n      <td>NaN</td>\n      <td>NaN</td>\n      <td>NaN</td>\n      <td>NaN</td>\n      <td>NaN</td>\n    </tr>\n    <tr>\n      <th>1</th>\n      <td>2</td>\n      <td>101-004-31059296-003</td>\n      <td>31059296</td>\n      <td>1</td>\n      <td>1682652946359240083</td>\n      <td>2025-04-04 11:27:44.777790339+00:00</td>\n      <td>CLIENT_CONFIGURE</td>\n      <td>NaN</td>\n      <td>NaN</td>\n      <td>NaN</td>\n      <td>...</td>\n      <td>NaN</td>\n      <td>NaN</td>\n      <td>NaN</td>\n      <td>NaN</td>\n      <td>NaN</td>\n      <td>NaN</td>\n      <td>NaN</td>\n      <td>NaN</td>\n      <td>NaN</td>\n      <td>NaN</td>\n    </tr>\n    <tr>\n      <th>2</th>\n      <td>3</td>\n      <td>101-004-31059296-003</td>\n      <td>31059296</td>\n      <td>3</td>\n      <td>1718681743386592802</td>\n      <td>2025-04-04 11:27:46.532682976+00:00</td>\n      <td>TRANSFER_FUNDS</td>\n      <td>NaN</td>\n      <td>NaN</td>\n      <td>NaN</td>\n      <td>...</td>\n      <td>NaN</td>\n      <td>NaN</td>\n      <td>NaN</td>\n      <td>NaN</td>\n      <td>NaN</td>\n      <td>NaN</td>\n      <td>NaN</td>\n      <td>NaN</td>\n      <td>NaN</td>\n      <td>NaN</td>\n    </tr>\n    <tr>\n      <th>3</th>\n      <td>4</td>\n      <td>101-004-31059296-003</td>\n      <td>31059296</td>\n      <td>4</td>\n      <td>61357230115111042</td>\n      <td>2025-04-04 21:22:13.497057574+00:00</td>\n      <td>LIMIT_ORDER</td>\n      <td>NaN</td>\n      <td>NaN</td>\n      <td>NaN</td>\n      <td>...</td>\n      <td>NaN</td>\n      <td>NaN</td>\n      <td>NaN</td>\n      <td>NaN</td>\n      <td>NaN</td>\n      <td>NaN</td>\n      <td>NaN</td>\n      <td>NaN</td>\n      <td>NaN</td>\n      <td>NaN</td>\n    </tr>\n    <tr>\n      <th>4</th>\n      <td>5</td>\n      <td>101-004-31059296-003</td>\n      <td>31059296</td>\n      <td>5</td>\n      <td>79371629377737404</td>\n      <td>2025-04-04 21:25:13.666076581+00:00</td>\n      <td>MARKET_ORDER</td>\n      <td>NaN</td>\n      <td>NaN</td>\n      <td>NaN</td>\n      <td>...</td>\n      <td>NaN</td>\n      <td>NaN</td>\n      <td>NaN</td>\n      <td>NaN</td>\n      <td>NaN</td>\n      <td>NaN</td>\n      <td>NaN</td>\n      <td>NaN</td>\n      <td>NaN</td>\n      <td>NaN</td>\n    </tr>\n    <tr>\n      <th>...</th>\n      <td>...</td>\n      <td>...</td>\n      <td>...</td>\n      <td>...</td>\n      <td>...</td>\n      <td>...</td>\n      <td>...</td>\n      <td>...</td>\n      <td>...</td>\n      <td>...</td>\n      <td>...</td>\n      <td>...</td>\n      <td>...</td>\n      <td>...</td>\n      <td>...</td>\n      <td>...</td>\n      <td>...</td>\n      <td>...</td>\n      <td>...</td>\n      <td>...</td>\n      <td>...</td>\n    </tr>\n    <tr>\n      <th>58</th>\n      <td>59</td>\n      <td>101-004-31059296-003</td>\n      <td>31059296</td>\n      <td>58</td>\n      <td>61358277983645742</td>\n      <td>2025-04-07 18:46:04.888305222+00:00</td>\n      <td>ORDER_FILL</td>\n      <td>NaN</td>\n      <td>NaN</td>\n      <td>NaN</td>\n      <td>...</td>\n      <td>0.00000000</td>\n      <td>0.00000000000000</td>\n      <td>0.00000000000000</td>\n      <td>NaN</td>\n      <td>NaN</td>\n      <td>NaN</td>\n      <td>NaN</td>\n      <td>NaN</td>\n      <td>NaN</td>\n      <td>NaN</td>\n    </tr>\n    <tr>\n      <th>59</th>\n      <td>60</td>\n      <td>101-004-31059296-003</td>\n      <td>31059296</td>\n      <td>58</td>\n      <td>61358277983645742</td>\n      <td>2025-04-07 18:46:04.888305222+00:00</td>\n      <td>TAKE_PROFIT_ORDER</td>\n      <td>NaN</td>\n      <td>NaN</td>\n      <td>NaN</td>\n      <td>...</td>\n      <td>NaN</td>\n      <td>NaN</td>\n      <td>NaN</td>\n      <td>59</td>\n      <td>NaN</td>\n      <td>NaN</td>\n      <td>NaN</td>\n      <td>NaN</td>\n      <td>NaN</td>\n      <td>NaN</td>\n    </tr>\n    <tr>\n      <th>60</th>\n      <td>61</td>\n      <td>101-004-31059296-003</td>\n      <td>31059296</td>\n      <td>58</td>\n      <td>61358277983645742</td>\n      <td>2025-04-07 18:46:04.888305222+00:00</td>\n      <td>TRAILING_STOP_LOSS_ORDER</td>\n      <td>NaN</td>\n      <td>NaN</td>\n      <td>NaN</td>\n      <td>...</td>\n      <td>NaN</td>\n      <td>NaN</td>\n      <td>NaN</td>\n      <td>59</td>\n      <td>TOP_OF_BOOK</td>\n      <td>NaN</td>\n      <td>NaN</td>\n      <td>NaN</td>\n      <td>0.00060</td>\n      <td>NaN</td>\n    </tr>\n    <tr>\n      <th>61</th>\n      <td>62</td>\n      <td>101-004-31059296-003</td>\n      <td>31059296</td>\n      <td>62</td>\n      <td>NaN</td>\n      <td>2025-04-07 18:49:38.898070989+00:00</td>\n      <td>ORDER_FILL</td>\n      <td>NaN</td>\n      <td>NaN</td>\n      <td>NaN</td>\n      <td>...</td>\n      <td>0.00000000000000</td>\n      <td>0.00000000000000</td>\n      <td>-1.62043469110320</td>\n      <td>NaN</td>\n      <td>NaN</td>\n      <td>[{'tradeID': '59', 'units': '-1000000', 'reali...</td>\n      <td>NaN</td>\n      <td>NaN</td>\n      <td>NaN</td>\n      <td>NaN</td>\n    </tr>\n    <tr>\n      <th>62</th>\n      <td>63</td>\n      <td>101-004-31059296-003</td>\n      <td>31059296</td>\n      <td>62</td>\n      <td>NaN</td>\n      <td>2025-04-07 18:49:38.898070989+00:00</td>\n      <td>ORDER_CANCEL</td>\n      <td>NaN</td>\n      <td>NaN</td>\n      <td>NaN</td>\n      <td>...</td>\n      <td>NaN</td>\n      <td>NaN</td>\n      <td>NaN</td>\n      <td>NaN</td>\n      <td>NaN</td>\n      <td>NaN</td>\n      <td>59</td>\n      <td>62</td>\n      <td>NaN</td>\n      <td>NaN</td>\n    </tr>\n  </tbody>\n</table>\n<p>63 rows × 56 columns</p>\n</div>"
          },
          "metadata": {}
        }
      ],
      "outputs_reference": null,
      "content_dependencies": null
    },
    {
      "cell_type": "code",
      "metadata": {
        "source_hash": "6d3da74",
        "execution_start": 1744070874984,
        "execution_millis": 0,
        "execution_context_id": "1b2ca2f9-843a-44eb-8ffb-80fd8105676c",
        "cell_id": "428356300bb2463d81adc9ea14342c4f",
        "deepnote_cell_type": "code"
      },
      "source": "all_transactions = pd.concat([all_transactions_hedge,all_transactions])\nall_transactions['accountID'].unique()",
      "block_group": "169c2c89203341ed8ed14d6bd748c360",
      "execution_count": 114,
      "outputs": [
        {
          "output_type": "execute_result",
          "execution_count": 114,
          "data": {
            "text/plain": "array(['101-004-31059296-003', '101-004-31059296-001'], dtype=object)"
          },
          "metadata": {}
        }
      ],
      "outputs_reference": null,
      "content_dependencies": null
    },
    {
      "cell_type": "code",
      "metadata": {
        "source_hash": "bd52c1b6",
        "execution_start": 1744070778823,
        "execution_millis": 4,
        "deepnote_table_state": {
          "sortBy": [],
          "filters": [],
          "pageSize": 10,
          "pageIndex": 13,
          "columnOrder": [
            "id",
            "accountID",
            "userID",
            "batchID",
            "requestID",
            "time",
            "type",
            "instrument",
            "units",
            "timeInForce",
            "positionFill",
            "takeProfitOnFill",
            "trailingStopLossOnFill",
            "reason",
            "orderID",
            "requestedUnits",
            "price",
            "pl",
            "quotePL",
            "financing",
            "baseFinancing",
            "commission",
            "accountBalance",
            "gainQuoteHomeConversionFactor",
            "lossQuoteHomeConversionFactor",
            "guaranteedExecutionFee",
            "quoteGuaranteedExecutionFee",
            "halfSpreadCost",
            "fullVWAP",
            "tradeOpened",
            "fullPrice",
            "homeConversionFactors",
            "plHomeConversionCost",
            "baseFinancingHomeConversionCost",
            "guaranteedExecutionFeeHomeConversionCost",
            "homeConversionCost",
            "tradeID",
            "triggerCondition",
            "triggerMode",
            "distance",
            "tradesClosed",
            "closedTradeID",
            "tradeCloseTransactionID",
            "rejectReason"
          ],
          "hiddenColumnIds": [],
          "columnDisplayNames": [],
          "conditionalFilters": [],
          "cellFormattingRules": [],
          "wrappedTextColumnIds": []
        },
        "execution_context_id": "1b2ca2f9-843a-44eb-8ffb-80fd8105676c",
        "deepnote_table_loading": false,
        "cell_id": "ff4993be92434f439bbd56a1148913fd",
        "deepnote_cell_type": "code"
      },
      "source": "all_transactions = pd.DataFrame(trades['transactions'])\nall_transactions['time'] = pd.to_datetime(all_transactions['time'])",
      "block_group": "30b944d6ed164acdac82227c02d89c94",
      "execution_count": 102,
      "outputs": [],
      "outputs_reference": null,
      "content_dependencies": null
    },
    {
      "cell_type": "code",
      "metadata": {
        "source_hash": "af19407e",
        "execution_start": 1743722164511,
        "execution_millis": 206,
        "execution_context_id": "306557ef-a753-4ae1-a005-4a468b58fac6",
        "cell_id": "09d17e1da306410b8e9518ff1dbbd2e5",
        "deepnote_cell_type": "code"
      },
      "source": "orders = pd.read_csv('')\norders['Time'] = pd.to_datetime(orders['Time'])",
      "block_group": "b34f708b89b5488795a46ad50d65f92a",
      "execution_count": 5,
      "outputs": [],
      "outputs_reference": null,
      "content_dependencies": null
    },
    {
      "cell_type": "code",
      "metadata": {
        "source_hash": "dbbb5691",
        "execution_start": 1743722164765,
        "execution_millis": 18,
        "execution_context_id": "306557ef-a753-4ae1-a005-4a468b58fac6",
        "cell_id": "1788618855c9485d923bc5a7ee959702",
        "deepnote_cell_type": "code"
      },
      "source": "all_transactions['id'] = pd.to_numeric(all_transactions['id'])\nall_transactions[all_transactions['id'].isin(orders['Order_ID'])].head(2)",
      "block_group": "0a4dc0305ca54078b57dd57f8113e71f",
      "execution_count": 6,
      "outputs": [
        {
          "output_type": "execute_result",
          "execution_count": 6,
          "data": {
            "application/vnd.deepnote.dataframe.v3+json": {
              "column_count": 65,
              "row_count": 2,
              "columns": [
                {
                  "name": "id",
                  "dtype": "int64",
                  "stats": {
                    "unique_count": 2,
                    "nan_count": 0,
                    "min": "152",
                    "max": "154",
                    "histogram": [
                      {
                        "bin_start": 152,
                        "bin_end": 152.2,
                        "count": 1
                      },
                      {
                        "bin_start": 152.2,
                        "bin_end": 152.4,
                        "count": 0
                      },
                      {
                        "bin_start": 152.4,
                        "bin_end": 152.6,
                        "count": 0
                      },
                      {
                        "bin_start": 152.6,
                        "bin_end": 152.8,
                        "count": 0
                      },
                      {
                        "bin_start": 152.8,
                        "bin_end": 153,
                        "count": 0
                      },
                      {
                        "bin_start": 153,
                        "bin_end": 153.2,
                        "count": 0
                      },
                      {
                        "bin_start": 153.2,
                        "bin_end": 153.4,
                        "count": 0
                      },
                      {
                        "bin_start": 153.4,
                        "bin_end": 153.6,
                        "count": 0
                      },
                      {
                        "bin_start": 153.6,
                        "bin_end": 153.8,
                        "count": 0
                      },
                      {
                        "bin_start": 153.8,
                        "bin_end": 154,
                        "count": 1
                      }
                    ]
                  }
                },
                {
                  "name": "accountID",
                  "dtype": "object",
                  "stats": {
                    "unique_count": 1,
                    "nan_count": 0,
                    "categories": [
                      {
                        "name": "101-004-31059296-001",
                        "count": 2
                      }
                    ]
                  }
                },
                {
                  "name": "userID",
                  "dtype": "int64",
                  "stats": {
                    "unique_count": 1,
                    "nan_count": 0,
                    "min": "31059296",
                    "max": "31059296",
                    "histogram": [
                      {
                        "bin_start": 31059295.5,
                        "bin_end": 31059295.6,
                        "count": 0
                      },
                      {
                        "bin_start": 31059295.6,
                        "bin_end": 31059295.7,
                        "count": 0
                      },
                      {
                        "bin_start": 31059295.7,
                        "bin_end": 31059295.8,
                        "count": 0
                      },
                      {
                        "bin_start": 31059295.8,
                        "bin_end": 31059295.9,
                        "count": 0
                      },
                      {
                        "bin_start": 31059295.9,
                        "bin_end": 31059296,
                        "count": 0
                      },
                      {
                        "bin_start": 31059296,
                        "bin_end": 31059296.1,
                        "count": 2
                      },
                      {
                        "bin_start": 31059296.1,
                        "bin_end": 31059296.2,
                        "count": 0
                      },
                      {
                        "bin_start": 31059296.2,
                        "bin_end": 31059296.3,
                        "count": 0
                      },
                      {
                        "bin_start": 31059296.3,
                        "bin_end": 31059296.4,
                        "count": 0
                      },
                      {
                        "bin_start": 31059296.4,
                        "bin_end": 31059296.5,
                        "count": 0
                      }
                    ]
                  }
                },
                {
                  "name": "batchID",
                  "dtype": "object",
                  "stats": {
                    "unique_count": 2,
                    "nan_count": 0,
                    "categories": [
                      {
                        "name": "152",
                        "count": 1
                      },
                      {
                        "name": "154",
                        "count": 1
                      }
                    ]
                  }
                },
                {
                  "name": "requestID",
                  "dtype": "object",
                  "stats": {
                    "unique_count": 2,
                    "nan_count": 0,
                    "categories": [
                      {
                        "name": "115394447449742676",
                        "count": 1
                      },
                      {
                        "name": "61351307288090414",
                        "count": 1
                      }
                    ]
                  }
                },
                {
                  "name": "time",
                  "dtype": "datetime64[ns, UTC]",
                  "stats": {
                    "unique_count": 2,
                    "nan_count": 0,
                    "min": "2025-03-19 09:27:01.537154565+00:00",
                    "max": "2025-03-19 13:07:01.312072734+00:00",
                    "histogram": [
                      {
                        "bin_start": 1742376421537154600,
                        "bin_end": 1742377741514646300,
                        "count": 1
                      },
                      {
                        "bin_start": 1742377741514646300,
                        "bin_end": 1742379061492138200,
                        "count": 0
                      },
                      {
                        "bin_start": 1742379061492138200,
                        "bin_end": 1742380381469630000,
                        "count": 0
                      },
                      {
                        "bin_start": 1742380381469630000,
                        "bin_end": 1742381701447122000,
                        "count": 0
                      },
                      {
                        "bin_start": 1742381701447122000,
                        "bin_end": 1742383021424613600,
                        "count": 0
                      },
                      {
                        "bin_start": 1742383021424613600,
                        "bin_end": 1742384341402105300,
                        "count": 0
                      },
                      {
                        "bin_start": 1742384341402105300,
                        "bin_end": 1742385661379597300,
                        "count": 0
                      },
                      {
                        "bin_start": 1742385661379597300,
                        "bin_end": 1742386981357089000,
                        "count": 0
                      },
                      {
                        "bin_start": 1742386981357089000,
                        "bin_end": 1742388301334581000,
                        "count": 0
                      },
                      {
                        "bin_start": 1742388301334581000,
                        "bin_end": 1742389621312072700,
                        "count": 1
                      }
                    ]
                  }
                },
                {
                  "name": "type",
                  "dtype": "object",
                  "stats": {
                    "unique_count": 1,
                    "nan_count": 0,
                    "categories": [
                      {
                        "name": "MARKET_ORDER",
                        "count": 2
                      }
                    ]
                  }
                },
                {
                  "name": "divisionID",
                  "dtype": "float64",
                  "stats": {
                    "unique_count": 0,
                    "nan_count": 2,
                    "min": null,
                    "max": null,
                    "histogram": [
                      {
                        "bin_start": 0,
                        "bin_end": 0.1,
                        "count": 0
                      },
                      {
                        "bin_start": 0.1,
                        "bin_end": 0.2,
                        "count": 0
                      },
                      {
                        "bin_start": 0.2,
                        "bin_end": 0.30000000000000004,
                        "count": 0
                      },
                      {
                        "bin_start": 0.30000000000000004,
                        "bin_end": 0.4,
                        "count": 0
                      },
                      {
                        "bin_start": 0.4,
                        "bin_end": 0.5,
                        "count": 0
                      },
                      {
                        "bin_start": 0.5,
                        "bin_end": 0.6000000000000001,
                        "count": 0
                      },
                      {
                        "bin_start": 0.6000000000000001,
                        "bin_end": 0.7000000000000001,
                        "count": 0
                      },
                      {
                        "bin_start": 0.7000000000000001,
                        "bin_end": 0.8,
                        "count": 0
                      },
                      {
                        "bin_start": 0.8,
                        "bin_end": 0.9,
                        "count": 0
                      },
                      {
                        "bin_start": 0.9,
                        "bin_end": 1,
                        "count": 0
                      }
                    ]
                  }
                },
                {
                  "name": "siteID",
                  "dtype": "float64",
                  "stats": {
                    "unique_count": 0,
                    "nan_count": 2,
                    "min": null,
                    "max": null,
                    "histogram": [
                      {
                        "bin_start": 0,
                        "bin_end": 0.1,
                        "count": 0
                      },
                      {
                        "bin_start": 0.1,
                        "bin_end": 0.2,
                        "count": 0
                      },
                      {
                        "bin_start": 0.2,
                        "bin_end": 0.30000000000000004,
                        "count": 0
                      },
                      {
                        "bin_start": 0.30000000000000004,
                        "bin_end": 0.4,
                        "count": 0
                      },
                      {
                        "bin_start": 0.4,
                        "bin_end": 0.5,
                        "count": 0
                      },
                      {
                        "bin_start": 0.5,
                        "bin_end": 0.6000000000000001,
                        "count": 0
                      },
                      {
                        "bin_start": 0.6000000000000001,
                        "bin_end": 0.7000000000000001,
                        "count": 0
                      },
                      {
                        "bin_start": 0.7000000000000001,
                        "bin_end": 0.8,
                        "count": 0
                      },
                      {
                        "bin_start": 0.8,
                        "bin_end": 0.9,
                        "count": 0
                      },
                      {
                        "bin_start": 0.9,
                        "bin_end": 1,
                        "count": 0
                      }
                    ]
                  }
                },
                {
                  "name": "accountUserID",
                  "dtype": "float64",
                  "stats": {
                    "unique_count": 0,
                    "nan_count": 2,
                    "min": null,
                    "max": null,
                    "histogram": [
                      {
                        "bin_start": 0,
                        "bin_end": 0.1,
                        "count": 0
                      },
                      {
                        "bin_start": 0.1,
                        "bin_end": 0.2,
                        "count": 0
                      },
                      {
                        "bin_start": 0.2,
                        "bin_end": 0.30000000000000004,
                        "count": 0
                      },
                      {
                        "bin_start": 0.30000000000000004,
                        "bin_end": 0.4,
                        "count": 0
                      },
                      {
                        "bin_start": 0.4,
                        "bin_end": 0.5,
                        "count": 0
                      },
                      {
                        "bin_start": 0.5,
                        "bin_end": 0.6000000000000001,
                        "count": 0
                      },
                      {
                        "bin_start": 0.6000000000000001,
                        "bin_end": 0.7000000000000001,
                        "count": 0
                      },
                      {
                        "bin_start": 0.7000000000000001,
                        "bin_end": 0.8,
                        "count": 0
                      },
                      {
                        "bin_start": 0.8,
                        "bin_end": 0.9,
                        "count": 0
                      },
                      {
                        "bin_start": 0.9,
                        "bin_end": 1,
                        "count": 0
                      }
                    ]
                  }
                },
                {
                  "name": "accountNumber",
                  "dtype": "float64",
                  "stats": {
                    "unique_count": 0,
                    "nan_count": 2,
                    "min": null,
                    "max": null,
                    "histogram": [
                      {
                        "bin_start": 0,
                        "bin_end": 0.1,
                        "count": 0
                      },
                      {
                        "bin_start": 0.1,
                        "bin_end": 0.2,
                        "count": 0
                      },
                      {
                        "bin_start": 0.2,
                        "bin_end": 0.30000000000000004,
                        "count": 0
                      },
                      {
                        "bin_start": 0.30000000000000004,
                        "bin_end": 0.4,
                        "count": 0
                      },
                      {
                        "bin_start": 0.4,
                        "bin_end": 0.5,
                        "count": 0
                      },
                      {
                        "bin_start": 0.5,
                        "bin_end": 0.6000000000000001,
                        "count": 0
                      },
                      {
                        "bin_start": 0.6000000000000001,
                        "bin_end": 0.7000000000000001,
                        "count": 0
                      },
                      {
                        "bin_start": 0.7000000000000001,
                        "bin_end": 0.8,
                        "count": 0
                      },
                      {
                        "bin_start": 0.8,
                        "bin_end": 0.9,
                        "count": 0
                      },
                      {
                        "bin_start": 0.9,
                        "bin_end": 1,
                        "count": 0
                      }
                    ]
                  }
                },
                {
                  "name": "homeCurrency",
                  "dtype": "object",
                  "stats": {
                    "unique_count": 0,
                    "nan_count": 2,
                    "categories": [
                      {
                        "name": "Missing",
                        "count": 2
                      }
                    ]
                  }
                },
                {
                  "name": "marginRate",
                  "dtype": "object",
                  "stats": {
                    "unique_count": 0,
                    "nan_count": 2,
                    "categories": [
                      {
                        "name": "Missing",
                        "count": 2
                      }
                    ]
                  }
                },
                {
                  "name": "alias",
                  "dtype": "object",
                  "stats": {
                    "unique_count": 0,
                    "nan_count": 2,
                    "categories": [
                      {
                        "name": "Missing",
                        "count": 2
                      }
                    ]
                  }
                },
                {
                  "name": "accountBalance",
                  "dtype": "object",
                  "stats": {
                    "unique_count": 0,
                    "nan_count": 2,
                    "categories": [
                      {
                        "name": "Missing",
                        "count": 2
                      }
                    ]
                  }
                },
                {
                  "name": "amount",
                  "dtype": "object",
                  "stats": {
                    "unique_count": 0,
                    "nan_count": 2,
                    "categories": [
                      {
                        "name": "Missing",
                        "count": 2
                      }
                    ]
                  }
                },
                {
                  "name": "fundingReason",
                  "dtype": "object",
                  "stats": {
                    "unique_count": 0,
                    "nan_count": 2,
                    "categories": [
                      {
                        "name": "Missing",
                        "count": 2
                      }
                    ]
                  }
                },
                {
                  "name": "instrument",
                  "dtype": "object",
                  "stats": {
                    "unique_count": 1,
                    "nan_count": 0,
                    "categories": [
                      {
                        "name": "EUR_USD",
                        "count": 2
                      }
                    ]
                  }
                },
                {
                  "name": "units",
                  "dtype": "object",
                  "stats": {
                    "unique_count": 1,
                    "nan_count": 0,
                    "categories": [
                      {
                        "name": "-100",
                        "count": 2
                      }
                    ]
                  }
                },
                {
                  "name": "timeInForce",
                  "dtype": "object",
                  "stats": {
                    "unique_count": 1,
                    "nan_count": 0,
                    "categories": [
                      {
                        "name": "FOK",
                        "count": 2
                      }
                    ]
                  }
                },
                {
                  "name": "positionFill",
                  "dtype": "object",
                  "stats": {
                    "unique_count": 1,
                    "nan_count": 0,
                    "categories": [
                      {
                        "name": "DEFAULT",
                        "count": 2
                      }
                    ]
                  }
                },
                {
                  "name": "takeProfitOnFill",
                  "dtype": "object",
                  "stats": {
                    "unique_count": 2,
                    "nan_count": 0,
                    "categories": [
                      {
                        "name": "{'price': '1.08800', 'timeInForce': 'GTC'}",
                        "count": 1
                      },
                      {
                        "name": "{'price': '1.08850', 'timeInForce': 'GTC'}",
                        "count": 1
                      }
                    ]
                  }
                },
                {
                  "name": "stopLossOnFill",
                  "dtype": "object",
                  "stats": {
                    "unique_count": 2,
                    "nan_count": 0,
                    "categories": [
                      {
                        "name": "{'price': '1.09020', 'timeInForce': 'GTC', 'triggerMode': 'TOP_OF_BOOK'}",
                        "count": 1
                      },
                      {
                        "name": "{'price': '1.09070', 'timeInForce': 'GTC', 'triggerMode': 'TOP_OF_BOOK'}",
                        "count": 1
                      }
                    ]
                  }
                },
                {
                  "name": "reason",
                  "dtype": "object",
                  "stats": {
                    "unique_count": 1,
                    "nan_count": 0,
                    "categories": [
                      {
                        "name": "CLIENT_ORDER",
                        "count": 2
                      }
                    ]
                  }
                },
                {
                  "name": "orderID",
                  "dtype": "object",
                  "stats": {
                    "unique_count": 0,
                    "nan_count": 2,
                    "categories": [
                      {
                        "name": "Missing",
                        "count": 2
                      }
                    ]
                  }
                },
                {
                  "name": "requestedUnits",
                  "dtype": "object",
                  "stats": {
                    "unique_count": 0,
                    "nan_count": 2,
                    "categories": [
                      {
                        "name": "Missing",
                        "count": 2
                      }
                    ]
                  }
                },
                {
                  "name": "price",
                  "dtype": "object",
                  "stats": {
                    "unique_count": 0,
                    "nan_count": 2,
                    "categories": [
                      {
                        "name": "Missing",
                        "count": 2
                      }
                    ]
                  }
                },
                {
                  "name": "pl",
                  "dtype": "object",
                  "stats": {
                    "unique_count": 0,
                    "nan_count": 2,
                    "categories": [
                      {
                        "name": "Missing",
                        "count": 2
                      }
                    ]
                  }
                },
                {
                  "name": "quotePL",
                  "dtype": "object",
                  "stats": {
                    "unique_count": 0,
                    "nan_count": 2,
                    "categories": [
                      {
                        "name": "Missing",
                        "count": 2
                      }
                    ]
                  }
                },
                {
                  "name": "financing",
                  "dtype": "object",
                  "stats": {
                    "unique_count": 0,
                    "nan_count": 2,
                    "categories": [
                      {
                        "name": "Missing",
                        "count": 2
                      }
                    ]
                  }
                },
                {
                  "name": "baseFinancing",
                  "dtype": "object",
                  "stats": {
                    "unique_count": 0,
                    "nan_count": 2,
                    "categories": [
                      {
                        "name": "Missing",
                        "count": 2
                      }
                    ]
                  }
                },
                {
                  "name": "commission",
                  "dtype": "object",
                  "stats": {
                    "unique_count": 0,
                    "nan_count": 2,
                    "categories": [
                      {
                        "name": "Missing",
                        "count": 2
                      }
                    ]
                  }
                },
                {
                  "name": "gainQuoteHomeConversionFactor",
                  "dtype": "object",
                  "stats": {
                    "unique_count": 0,
                    "nan_count": 2,
                    "categories": [
                      {
                        "name": "Missing",
                        "count": 2
                      }
                    ]
                  }
                },
                {
                  "name": "lossQuoteHomeConversionFactor",
                  "dtype": "object",
                  "stats": {
                    "unique_count": 0,
                    "nan_count": 2,
                    "categories": [
                      {
                        "name": "Missing",
                        "count": 2
                      }
                    ]
                  }
                },
                {
                  "name": "guaranteedExecutionFee",
                  "dtype": "object",
                  "stats": {
                    "unique_count": 0,
                    "nan_count": 2,
                    "categories": [
                      {
                        "name": "Missing",
                        "count": 2
                      }
                    ]
                  }
                },
                {
                  "name": "quoteGuaranteedExecutionFee",
                  "dtype": "object",
                  "stats": {
                    "unique_count": 0,
                    "nan_count": 2,
                    "categories": [
                      {
                        "name": "Missing",
                        "count": 2
                      }
                    ]
                  }
                },
                {
                  "name": "halfSpreadCost",
                  "dtype": "object",
                  "stats": {
                    "unique_count": 0,
                    "nan_count": 2,
                    "categories": [
                      {
                        "name": "Missing",
                        "count": 2
                      }
                    ]
                  }
                },
                {
                  "name": "fullVWAP",
                  "dtype": "object",
                  "stats": {
                    "unique_count": 0,
                    "nan_count": 2,
                    "categories": [
                      {
                        "name": "Missing",
                        "count": 2
                      }
                    ]
                  }
                },
                {
                  "name": "tradeOpened",
                  "dtype": "object",
                  "stats": {
                    "unique_count": 0,
                    "nan_count": 2,
                    "categories": [
                      {
                        "name": "Missing",
                        "count": 2
                      }
                    ]
                  }
                },
                {
                  "name": "fullPrice",
                  "dtype": "object",
                  "stats": {
                    "unique_count": 0,
                    "nan_count": 2,
                    "categories": [
                      {
                        "name": "Missing",
                        "count": 2
                      }
                    ]
                  }
                },
                {
                  "name": "homeConversionFactors",
                  "dtype": "object",
                  "stats": {
                    "unique_count": 0,
                    "nan_count": 2,
                    "categories": [
                      {
                        "name": "Missing",
                        "count": 2
                      }
                    ]
                  }
                },
                {
                  "name": "plHomeConversionCost",
                  "dtype": "object",
                  "stats": {
                    "unique_count": 0,
                    "nan_count": 2,
                    "categories": [
                      {
                        "name": "Missing",
                        "count": 2
                      }
                    ]
                  }
                },
                {
                  "name": "baseFinancingHomeConversionCost",
                  "dtype": "object",
                  "stats": {
                    "unique_count": 0,
                    "nan_count": 2,
                    "categories": [
                      {
                        "name": "Missing",
                        "count": 2
                      }
                    ]
                  }
                },
                {
                  "name": "guaranteedExecutionFeeHomeConversionCost",
                  "dtype": "object",
                  "stats": {
                    "unique_count": 0,
                    "nan_count": 2,
                    "categories": [
                      {
                        "name": "Missing",
                        "count": 2
                      }
                    ]
                  }
                },
                {
                  "name": "homeConversionCost",
                  "dtype": "object",
                  "stats": {
                    "unique_count": 0,
                    "nan_count": 2,
                    "categories": [
                      {
                        "name": "Missing",
                        "count": 2
                      }
                    ]
                  }
                },
                {
                  "name": "tradeID",
                  "dtype": "object",
                  "stats": {
                    "unique_count": 0,
                    "nan_count": 2,
                    "categories": [
                      {
                        "name": "Missing",
                        "count": 2
                      }
                    ]
                  }
                },
                {
                  "name": "triggerCondition",
                  "dtype": "object",
                  "stats": {
                    "unique_count": 0,
                    "nan_count": 2,
                    "categories": [
                      {
                        "name": "Missing",
                        "count": 2
                      }
                    ]
                  }
                },
                {
                  "name": "triggerMode",
                  "dtype": "object",
                  "stats": {
                    "unique_count": 0,
                    "nan_count": 2,
                    "categories": [
                      {
                        "name": "Missing",
                        "count": 2
                      }
                    ]
                  }
                },
                {
                  "name": "replacedByOrderID",
                  "dtype": "object",
                  "stats": {
                    "unique_count": 0,
                    "nan_count": 2,
                    "categories": [
                      {
                        "name": "Missing",
                        "count": 2
                      }
                    ]
                  }
                },
                {
                  "name": "replacesOrderID",
                  "dtype": "object",
                  "stats": {
                    "unique_count": 0,
                    "nan_count": 2,
                    "categories": [
                      {
                        "name": "Missing",
                        "count": 2
                      }
                    ]
                  }
                },
                {
                  "name": "cancellingTransactionID",
                  "dtype": "object",
                  "stats": {
                    "unique_count": 0,
                    "nan_count": 2,
                    "categories": [
                      {
                        "name": "Missing",
                        "count": 2
                      }
                    ]
                  }
                },
                {
                  "name": "tradesClosed",
                  "dtype": "object",
                  "stats": {
                    "unique_count": 0,
                    "nan_count": 2,
                    "categories": [
                      {
                        "name": "Missing",
                        "count": 2
                      }
                    ]
                  }
                },
                {
                  "name": "closedTradeID",
                  "dtype": "object",
                  "stats": {
                    "unique_count": 0,
                    "nan_count": 2,
                    "categories": [
                      {
                        "name": "Missing",
                        "count": 2
                      }
                    ]
                  }
                },
                {
                  "name": "tradeCloseTransactionID",
                  "dtype": "object",
                  "stats": {
                    "unique_count": 0,
                    "nan_count": 2,
                    "categories": [
                      {
                        "name": "Missing",
                        "count": 2
                      }
                    ]
                  }
                },
                {
                  "name": "partialFill",
                  "dtype": "object",
                  "stats": {
                    "unique_count": 0,
                    "nan_count": 2,
                    "categories": [
                      {
                        "name": "Missing",
                        "count": 2
                      }
                    ]
                  }
                },
                {
                  "name": "rejectReason",
                  "dtype": "object",
                  "stats": {
                    "unique_count": 0,
                    "nan_count": 2,
                    "categories": [
                      {
                        "name": "Missing",
                        "count": 2
                      }
                    ]
                  }
                },
                {
                  "name": "gtdTime",
                  "dtype": "object",
                  "stats": {
                    "unique_count": 0,
                    "nan_count": 2,
                    "categories": [
                      {
                        "name": "Missing",
                        "count": 2
                      }
                    ]
                  }
                },
                {
                  "name": "guaranteedStopLossOnFill",
                  "dtype": "object",
                  "stats": {
                    "unique_count": 0,
                    "nan_count": 2,
                    "categories": [
                      {
                        "name": "Missing",
                        "count": 2
                      }
                    ]
                  }
                },
                {
                  "name": "guaranteedExecutionPremium",
                  "dtype": "object",
                  "stats": {
                    "unique_count": 0,
                    "nan_count": 2,
                    "categories": [
                      {
                        "name": "Missing",
                        "count": 2
                      }
                    ]
                  }
                },
                {
                  "name": "longPositionCloseout",
                  "dtype": "object",
                  "stats": {
                    "unique_count": 0,
                    "nan_count": 2,
                    "categories": [
                      {
                        "name": "Missing",
                        "count": 2
                      }
                    ]
                  }
                },
                {
                  "name": "positionFinancings",
                  "dtype": "object",
                  "stats": {
                    "unique_count": 0,
                    "nan_count": 2,
                    "categories": [
                      {
                        "name": "Missing",
                        "count": 2
                      }
                    ]
                  }
                },
                {
                  "name": "baseHomeConversionCost",
                  "dtype": "object",
                  "stats": {
                    "unique_count": 0,
                    "nan_count": 2,
                    "categories": [
                      {
                        "name": "Missing",
                        "count": 2
                      }
                    ]
                  }
                },
                {
                  "name": "tradeReduced",
                  "dtype": "object",
                  "stats": {
                    "unique_count": 0,
                    "nan_count": 2,
                    "categories": [
                      {
                        "name": "Missing",
                        "count": 2
                      }
                    ]
                  }
                },
                {
                  "name": "distance",
                  "dtype": "object",
                  "stats": {
                    "unique_count": 0,
                    "nan_count": 2,
                    "categories": [
                      {
                        "name": "Missing",
                        "count": 2
                      }
                    ]
                  }
                },
                {
                  "name": "trailingStopLossOnFill",
                  "dtype": "object",
                  "stats": {
                    "unique_count": 0,
                    "nan_count": 2,
                    "categories": [
                      {
                        "name": "Missing",
                        "count": 2
                      }
                    ]
                  }
                },
                {
                  "name": "_deepnote_index_column",
                  "dtype": "int64"
                }
              ],
              "rows": [
                {
                  "id": 152,
                  "accountID": "101-004-31059296-001",
                  "userID": 31059296,
                  "batchID": "152",
                  "requestID": "115394447449742676",
                  "time": "2025-03-19 09:27:01.537154565+00:00",
                  "type": "MARKET_ORDER",
                  "divisionID": "nan",
                  "siteID": "nan",
                  "accountUserID": "nan",
                  "accountNumber": "nan",
                  "homeCurrency": "nan",
                  "marginRate": "nan",
                  "alias": "nan",
                  "accountBalance": "nan",
                  "amount": "nan",
                  "fundingReason": "nan",
                  "instrument": "EUR_USD",
                  "units": "-100",
                  "timeInForce": "FOK",
                  "positionFill": "DEFAULT",
                  "takeProfitOnFill": "{'price': '1.08800', 'timeInForce': 'GTC'}",
                  "stopLossOnFill": "{'price': '1.09020', 'timeInForce': 'GTC', 'triggerMode': 'TOP_OF_BOOK'}",
                  "reason": "CLIENT_ORDER",
                  "orderID": "nan",
                  "requestedUnits": "nan",
                  "price": "nan",
                  "pl": "nan",
                  "quotePL": "nan",
                  "financing": "nan",
                  "baseFinancing": "nan",
                  "commission": "nan",
                  "gainQuoteHomeConversionFactor": "nan",
                  "lossQuoteHomeConversionFactor": "nan",
                  "guaranteedExecutionFee": "nan",
                  "quoteGuaranteedExecutionFee": "nan",
                  "halfSpreadCost": "nan",
                  "fullVWAP": "nan",
                  "tradeOpened": "nan",
                  "fullPrice": "nan",
                  "homeConversionFactors": "nan",
                  "plHomeConversionCost": "nan",
                  "baseFinancingHomeConversionCost": "nan",
                  "guaranteedExecutionFeeHomeConversionCost": "nan",
                  "homeConversionCost": "nan",
                  "tradeID": "nan",
                  "triggerCondition": "nan",
                  "triggerMode": "nan",
                  "replacedByOrderID": "nan",
                  "replacesOrderID": "nan",
                  "cancellingTransactionID": "nan",
                  "tradesClosed": "nan",
                  "closedTradeID": "nan",
                  "tradeCloseTransactionID": "nan",
                  "partialFill": "nan",
                  "rejectReason": "nan",
                  "gtdTime": "nan",
                  "guaranteedStopLossOnFill": "nan",
                  "guaranteedExecutionPremium": "nan",
                  "longPositionCloseout": "nan",
                  "positionFinancings": "nan",
                  "baseHomeConversionCost": "nan",
                  "tradeReduced": "nan",
                  "distance": "nan",
                  "trailingStopLossOnFill": "nan",
                  "_deepnote_index_column": 151
                },
                {
                  "id": 154,
                  "accountID": "101-004-31059296-001",
                  "userID": 31059296,
                  "batchID": "154",
                  "requestID": "61351307288090414",
                  "time": "2025-03-19 13:07:01.312072734+00:00",
                  "type": "MARKET_ORDER",
                  "divisionID": "nan",
                  "siteID": "nan",
                  "accountUserID": "nan",
                  "accountNumber": "nan",
                  "homeCurrency": "nan",
                  "marginRate": "nan",
                  "alias": "nan",
                  "accountBalance": "nan",
                  "amount": "nan",
                  "fundingReason": "nan",
                  "instrument": "EUR_USD",
                  "units": "-100",
                  "timeInForce": "FOK",
                  "positionFill": "DEFAULT",
                  "takeProfitOnFill": "{'price': '1.08850', 'timeInForce': 'GTC'}",
                  "stopLossOnFill": "{'price': '1.09070', 'timeInForce': 'GTC', 'triggerMode': 'TOP_OF_BOOK'}",
                  "reason": "CLIENT_ORDER",
                  "orderID": "nan",
                  "requestedUnits": "nan",
                  "price": "nan",
                  "pl": "nan",
                  "quotePL": "nan",
                  "financing": "nan",
                  "baseFinancing": "nan",
                  "commission": "nan",
                  "gainQuoteHomeConversionFactor": "nan",
                  "lossQuoteHomeConversionFactor": "nan",
                  "guaranteedExecutionFee": "nan",
                  "quoteGuaranteedExecutionFee": "nan",
                  "halfSpreadCost": "nan",
                  "fullVWAP": "nan",
                  "tradeOpened": "nan",
                  "fullPrice": "nan",
                  "homeConversionFactors": "nan",
                  "plHomeConversionCost": "nan",
                  "baseFinancingHomeConversionCost": "nan",
                  "guaranteedExecutionFeeHomeConversionCost": "nan",
                  "homeConversionCost": "nan",
                  "tradeID": "nan",
                  "triggerCondition": "nan",
                  "triggerMode": "nan",
                  "replacedByOrderID": "nan",
                  "replacesOrderID": "nan",
                  "cancellingTransactionID": "nan",
                  "tradesClosed": "nan",
                  "closedTradeID": "nan",
                  "tradeCloseTransactionID": "nan",
                  "partialFill": "nan",
                  "rejectReason": "nan",
                  "gtdTime": "nan",
                  "guaranteedStopLossOnFill": "nan",
                  "guaranteedExecutionPremium": "nan",
                  "longPositionCloseout": "nan",
                  "positionFinancings": "nan",
                  "baseHomeConversionCost": "nan",
                  "tradeReduced": "nan",
                  "distance": "nan",
                  "trailingStopLossOnFill": "nan",
                  "_deepnote_index_column": 153
                }
              ],
              "type": "dataframe"
            },
            "text/plain": "      id             accountID    userID batchID           requestID  \\\n151  152  101-004-31059296-001  31059296     152  115394447449742676   \n153  154  101-004-31059296-001  31059296     154   61351307288090414   \n\n                                   time          type  divisionID  siteID  \\\n151 2025-03-19 09:27:01.537154565+00:00  MARKET_ORDER         NaN     NaN   \n153 2025-03-19 13:07:01.312072734+00:00  MARKET_ORDER         NaN     NaN   \n\n     accountUserID  ...  rejectReason gtdTime guaranteedStopLossOnFill  \\\n151            NaN  ...           NaN     NaN                      NaN   \n153            NaN  ...           NaN     NaN                      NaN   \n\n    guaranteedExecutionPremium longPositionCloseout positionFinancings  \\\n151                        NaN                  NaN                NaN   \n153                        NaN                  NaN                NaN   \n\n    baseHomeConversionCost tradeReduced distance trailingStopLossOnFill  \n151                    NaN          NaN      NaN                    NaN  \n153                    NaN          NaN      NaN                    NaN  \n\n[2 rows x 65 columns]",
            "text/html": "<div>\n<style scoped>\n    .dataframe tbody tr th:only-of-type {\n        vertical-align: middle;\n    }\n\n    .dataframe tbody tr th {\n        vertical-align: top;\n    }\n\n    .dataframe thead th {\n        text-align: right;\n    }\n</style>\n<table border=\"1\" class=\"dataframe\">\n  <thead>\n    <tr style=\"text-align: right;\">\n      <th></th>\n      <th>id</th>\n      <th>accountID</th>\n      <th>userID</th>\n      <th>batchID</th>\n      <th>requestID</th>\n      <th>time</th>\n      <th>type</th>\n      <th>divisionID</th>\n      <th>siteID</th>\n      <th>accountUserID</th>\n      <th>...</th>\n      <th>rejectReason</th>\n      <th>gtdTime</th>\n      <th>guaranteedStopLossOnFill</th>\n      <th>guaranteedExecutionPremium</th>\n      <th>longPositionCloseout</th>\n      <th>positionFinancings</th>\n      <th>baseHomeConversionCost</th>\n      <th>tradeReduced</th>\n      <th>distance</th>\n      <th>trailingStopLossOnFill</th>\n    </tr>\n  </thead>\n  <tbody>\n    <tr>\n      <th>151</th>\n      <td>152</td>\n      <td>101-004-31059296-001</td>\n      <td>31059296</td>\n      <td>152</td>\n      <td>115394447449742676</td>\n      <td>2025-03-19 09:27:01.537154565+00:00</td>\n      <td>MARKET_ORDER</td>\n      <td>NaN</td>\n      <td>NaN</td>\n      <td>NaN</td>\n      <td>...</td>\n      <td>NaN</td>\n      <td>NaN</td>\n      <td>NaN</td>\n      <td>NaN</td>\n      <td>NaN</td>\n      <td>NaN</td>\n      <td>NaN</td>\n      <td>NaN</td>\n      <td>NaN</td>\n      <td>NaN</td>\n    </tr>\n    <tr>\n      <th>153</th>\n      <td>154</td>\n      <td>101-004-31059296-001</td>\n      <td>31059296</td>\n      <td>154</td>\n      <td>61351307288090414</td>\n      <td>2025-03-19 13:07:01.312072734+00:00</td>\n      <td>MARKET_ORDER</td>\n      <td>NaN</td>\n      <td>NaN</td>\n      <td>NaN</td>\n      <td>...</td>\n      <td>NaN</td>\n      <td>NaN</td>\n      <td>NaN</td>\n      <td>NaN</td>\n      <td>NaN</td>\n      <td>NaN</td>\n      <td>NaN</td>\n      <td>NaN</td>\n      <td>NaN</td>\n      <td>NaN</td>\n    </tr>\n  </tbody>\n</table>\n<p>2 rows × 65 columns</p>\n</div>"
          },
          "metadata": {}
        }
      ],
      "outputs_reference": null,
      "content_dependencies": null
    },
    {
      "cell_type": "code",
      "metadata": {
        "source_hash": "4472f99",
        "execution_start": 1744070786310,
        "execution_millis": 0,
        "execution_context_id": "1b2ca2f9-843a-44eb-8ffb-80fd8105676c",
        "cell_id": "dae2428cdb3e424c8eb316fdb0a32758",
        "deepnote_cell_type": "code"
      },
      "source": "all_transactions['pl'] = pd.to_numeric(all_transactions['pl'])\nall_transactions[all_transactions['reason'].isin(['TRAILING_STOP_LOSS_ORDER', 'TAKE_PROFIT_ORDER'])].groupby('reason')['pl'].sum()",
      "block_group": "e79567ba9fca48348314a51c898edb07",
      "execution_count": 104,
      "outputs": [
        {
          "output_type": "execute_result",
          "execution_count": 104,
          "data": {
            "text/plain": "reason\nTAKE_PROFIT_ORDER           3577.3055\nTRAILING_STOP_LOSS_ORDER   -4326.9194\nName: pl, dtype: float64"
          },
          "metadata": {}
        }
      ],
      "outputs_reference": null,
      "content_dependencies": null
    },
    {
      "cell_type": "code",
      "metadata": {
        "source_hash": "221322df",
        "execution_start": 1744028468442,
        "execution_millis": 1,
        "deepnote_table_state": {
          "sortBy": [],
          "filters": [],
          "pageSize": 100,
          "pageIndex": 0,
          "columnOrder": [
            "id",
            "type",
            "reason",
            "batchID",
            "orderID",
            "tradeID",
            "pl",
            "time"
          ],
          "hiddenColumnIds": [],
          "columnDisplayNames": [],
          "conditionalFilters": [],
          "cellFormattingRules": [],
          "wrappedTextColumnIds": []
        },
        "execution_context_id": "1b2ca2f9-843a-44eb-8ffb-80fd8105676c",
        "deepnote_table_loading": false,
        "cell_id": "deac337c039242c5ad4afdad75864f3a",
        "deepnote_cell_type": "code"
      },
      "source": "all_transactions[['id','type','reason','batchID','orderID','tradeID','pl','time']].head(2)",
      "block_group": "27488af6ccb74190b6f36b16fac48add",
      "execution_count": 41,
      "outputs": [
        {
          "output_type": "execute_result",
          "execution_count": 41,
          "data": {
            "application/vnd.deepnote.dataframe.v3+json": {
              "column_count": 8,
              "row_count": 2,
              "columns": [
                {
                  "name": "id",
                  "dtype": "object",
                  "stats": {
                    "unique_count": 2,
                    "nan_count": 0,
                    "categories": [
                      {
                        "name": "1",
                        "count": 1
                      },
                      {
                        "name": "2",
                        "count": 1
                      }
                    ]
                  }
                },
                {
                  "name": "type",
                  "dtype": "object",
                  "stats": {
                    "unique_count": 2,
                    "nan_count": 0,
                    "categories": [
                      {
                        "name": "CREATE",
                        "count": 1
                      },
                      {
                        "name": "CLIENT_CONFIGURE",
                        "count": 1
                      }
                    ]
                  }
                },
                {
                  "name": "reason",
                  "dtype": "object",
                  "stats": {
                    "unique_count": 0,
                    "nan_count": 2,
                    "categories": [
                      {
                        "name": "Missing",
                        "count": 2
                      }
                    ]
                  }
                },
                {
                  "name": "batchID",
                  "dtype": "object",
                  "stats": {
                    "unique_count": 1,
                    "nan_count": 0,
                    "categories": [
                      {
                        "name": "1",
                        "count": 2
                      }
                    ]
                  }
                },
                {
                  "name": "orderID",
                  "dtype": "object",
                  "stats": {
                    "unique_count": 0,
                    "nan_count": 2,
                    "categories": [
                      {
                        "name": "Missing",
                        "count": 2
                      }
                    ]
                  }
                },
                {
                  "name": "tradeID",
                  "dtype": "object",
                  "stats": {
                    "unique_count": 0,
                    "nan_count": 2,
                    "categories": [
                      {
                        "name": "Missing",
                        "count": 2
                      }
                    ]
                  }
                },
                {
                  "name": "pl",
                  "dtype": "float64",
                  "stats": {
                    "unique_count": 0,
                    "nan_count": 2,
                    "min": null,
                    "max": null,
                    "histogram": [
                      {
                        "bin_start": 0,
                        "bin_end": 0.1,
                        "count": 0
                      },
                      {
                        "bin_start": 0.1,
                        "bin_end": 0.2,
                        "count": 0
                      },
                      {
                        "bin_start": 0.2,
                        "bin_end": 0.30000000000000004,
                        "count": 0
                      },
                      {
                        "bin_start": 0.30000000000000004,
                        "bin_end": 0.4,
                        "count": 0
                      },
                      {
                        "bin_start": 0.4,
                        "bin_end": 0.5,
                        "count": 0
                      },
                      {
                        "bin_start": 0.5,
                        "bin_end": 0.6000000000000001,
                        "count": 0
                      },
                      {
                        "bin_start": 0.6000000000000001,
                        "bin_end": 0.7000000000000001,
                        "count": 0
                      },
                      {
                        "bin_start": 0.7000000000000001,
                        "bin_end": 0.8,
                        "count": 0
                      },
                      {
                        "bin_start": 0.8,
                        "bin_end": 0.9,
                        "count": 0
                      },
                      {
                        "bin_start": 0.9,
                        "bin_end": 1,
                        "count": 0
                      }
                    ]
                  }
                },
                {
                  "name": "time",
                  "dtype": "datetime64[ns, UTC]",
                  "stats": {
                    "unique_count": 1,
                    "nan_count": 0,
                    "min": "2025-04-04 11:27:44.777790339+00:00",
                    "max": "2025-04-04 11:27:44.777790339+00:00",
                    "histogram": null
                  }
                },
                {
                  "name": "_deepnote_index_column",
                  "dtype": "int64"
                }
              ],
              "rows": [
                {
                  "id": "1",
                  "type": "CREATE",
                  "reason": "nan",
                  "batchID": "1",
                  "orderID": "nan",
                  "tradeID": "nan",
                  "pl": "nan",
                  "time": "2025-04-04 11:27:44.777790339+00:00",
                  "_deepnote_index_column": 0
                },
                {
                  "id": "2",
                  "type": "CLIENT_CONFIGURE",
                  "reason": "nan",
                  "batchID": "1",
                  "orderID": "nan",
                  "tradeID": "nan",
                  "pl": "nan",
                  "time": "2025-04-04 11:27:44.777790339+00:00",
                  "_deepnote_index_column": 1
                }
              ],
              "type": "dataframe"
            },
            "text/plain": "  id              type reason batchID orderID tradeID  pl  \\\n0  1            CREATE    NaN       1     NaN     NaN NaN   \n1  2  CLIENT_CONFIGURE    NaN       1     NaN     NaN NaN   \n\n                                 time  \n0 2025-04-04 11:27:44.777790339+00:00  \n1 2025-04-04 11:27:44.777790339+00:00  ",
            "text/html": "<div>\n<style scoped>\n    .dataframe tbody tr th:only-of-type {\n        vertical-align: middle;\n    }\n\n    .dataframe tbody tr th {\n        vertical-align: top;\n    }\n\n    .dataframe thead th {\n        text-align: right;\n    }\n</style>\n<table border=\"1\" class=\"dataframe\">\n  <thead>\n    <tr style=\"text-align: right;\">\n      <th></th>\n      <th>id</th>\n      <th>type</th>\n      <th>reason</th>\n      <th>batchID</th>\n      <th>orderID</th>\n      <th>tradeID</th>\n      <th>pl</th>\n      <th>time</th>\n    </tr>\n  </thead>\n  <tbody>\n    <tr>\n      <th>0</th>\n      <td>1</td>\n      <td>CREATE</td>\n      <td>NaN</td>\n      <td>1</td>\n      <td>NaN</td>\n      <td>NaN</td>\n      <td>NaN</td>\n      <td>2025-04-04 11:27:44.777790339+00:00</td>\n    </tr>\n    <tr>\n      <th>1</th>\n      <td>2</td>\n      <td>CLIENT_CONFIGURE</td>\n      <td>NaN</td>\n      <td>1</td>\n      <td>NaN</td>\n      <td>NaN</td>\n      <td>NaN</td>\n      <td>2025-04-04 11:27:44.777790339+00:00</td>\n    </tr>\n  </tbody>\n</table>\n</div>"
          },
          "metadata": {}
        }
      ],
      "outputs_reference": null,
      "content_dependencies": null
    },
    {
      "cell_type": "code",
      "metadata": {
        "source_hash": "7f8159eb",
        "execution_start": 1743722167369,
        "execution_millis": 1166,
        "sql_integration_id": "deepnote-dataframe-sql",
        "deepnote_table_state": {
          "sortBy": [
            {
              "id": "batchID",
              "type": "asc"
            }
          ],
          "filters": [],
          "pageSize": 5,
          "pageIndex": 0,
          "columnOrder": [
            "batchID",
            "pl",
            "time",
            "order_time"
          ],
          "hiddenColumnIds": [],
          "columnDisplayNames": [],
          "conditionalFilters": [],
          "cellFormattingRules": [],
          "wrappedTextColumnIds": []
        },
        "execution_context_id": "306557ef-a753-4ae1-a005-4a468b58fac6",
        "deepnote_table_loading": false,
        "deepnote_variable_name": "trans_orders",
        "cell_id": "fe8ba156e9a24f609c2e1b38d47bdbaf",
        "deepnote_cell_type": "sql",
        "deepnote_sql_source": "WITH trading_orders AS (\n    SELECT \n        CAST(all1.batchID AS INTEGER) as batchID,\n        base.pl,\n        all1.time,\n        date_trunc('minute', all1.time - INTERVAL '7 minutes') AS order_time\n    FROM all_transactions base \n    LEFT JOIN all_transactions order_filled \n        ON CAST(base.orderID AS INTEGER) = order_filled.id\n    LEFT JOIN all_transactions all1 \n        ON order_filled.batchID = all1.id\n    WHERE base.reason IN ('TAKE_PROFIT_ORDER', 'STOP_LOSS_ORDER')\n)\nSELECT * FROM trading_orders\nORDER BY batchID "
      },
      "source": "trans_orders = _dntk.execute_sql(\n  'WITH trading_orders AS (\\n    SELECT \\n        CAST(all1.batchID AS INTEGER) as batchID,\\n        base.pl,\\n        all1.time,\\n        date_trunc(\\'minute\\', all1.time - INTERVAL \\'7 minutes\\') AS order_time\\n    FROM all_transactions base \\n    LEFT JOIN all_transactions order_filled \\n        ON CAST(base.orderID AS INTEGER) = order_filled.id\\n    LEFT JOIN all_transactions all1 \\n        ON order_filled.batchID = all1.id\\n    WHERE base.reason IN (\\'TAKE_PROFIT_ORDER\\', \\'STOP_LOSS_ORDER\\')\\n)\\nSELECT * FROM trading_orders\\nORDER BY batchID ',\n  'SQL_DEEPNOTE_DATAFRAME_SQL',\n  audit_sql_comment='',\n  sql_cache_mode='cache_disabled',\n  return_variable_type='dataframe'\n)\ntrans_orders",
      "block_group": "639cb0aec93f4f93ad715d106663f29a",
      "execution_count": 11,
      "outputs": [
        {
          "output_type": "execute_result",
          "execution_count": 11,
          "data": {
            "application/vnd.deepnote.dataframe.v3+json": {
              "column_count": 4,
              "row_count": 103,
              "columns": [
                {
                  "name": "batchID",
                  "dtype": "int32",
                  "stats": {
                    "unique_count": 103,
                    "nan_count": 0,
                    "min": "4",
                    "max": "923",
                    "histogram": [
                      {
                        "bin_start": 4,
                        "bin_end": 95.9,
                        "count": 11
                      },
                      {
                        "bin_start": 95.9,
                        "bin_end": 187.8,
                        "count": 12
                      },
                      {
                        "bin_start": 187.8,
                        "bin_end": 279.70000000000005,
                        "count": 15
                      },
                      {
                        "bin_start": 279.70000000000005,
                        "bin_end": 371.6,
                        "count": 10
                      },
                      {
                        "bin_start": 371.6,
                        "bin_end": 463.5,
                        "count": 12
                      },
                      {
                        "bin_start": 463.5,
                        "bin_end": 555.4000000000001,
                        "count": 13
                      },
                      {
                        "bin_start": 555.4000000000001,
                        "bin_end": 647.3000000000001,
                        "count": 11
                      },
                      {
                        "bin_start": 647.3000000000001,
                        "bin_end": 739.2,
                        "count": 13
                      },
                      {
                        "bin_start": 739.2,
                        "bin_end": 831.1,
                        "count": 2
                      },
                      {
                        "bin_start": 831.1,
                        "bin_end": 923,
                        "count": 4
                      }
                    ]
                  }
                },
                {
                  "name": "pl",
                  "dtype": "float64",
                  "stats": {
                    "unique_count": 103,
                    "nan_count": 0,
                    "min": "-1677.5824",
                    "max": "1506.7139",
                    "histogram": [
                      {
                        "bin_start": -1677.5824,
                        "bin_end": -1359.1527700000001,
                        "count": 2
                      },
                      {
                        "bin_start": -1359.1527700000001,
                        "bin_end": -1040.72314,
                        "count": 1
                      },
                      {
                        "bin_start": -1040.72314,
                        "bin_end": -722.2935100000001,
                        "count": 1
                      },
                      {
                        "bin_start": -722.2935100000001,
                        "bin_end": -403.8638800000001,
                        "count": 20
                      },
                      {
                        "bin_start": -403.8638800000001,
                        "bin_end": -85.43425000000002,
                        "count": 16
                      },
                      {
                        "bin_start": -85.43425000000002,
                        "bin_end": 232.99537999999984,
                        "count": 44
                      },
                      {
                        "bin_start": 232.99537999999984,
                        "bin_end": 551.4250099999997,
                        "count": 0
                      },
                      {
                        "bin_start": 551.4250099999997,
                        "bin_end": 869.8546399999998,
                        "count": 2
                      },
                      {
                        "bin_start": 869.8546399999998,
                        "bin_end": 1188.2842699999999,
                        "count": 7
                      },
                      {
                        "bin_start": 1188.2842699999999,
                        "bin_end": 1506.7139,
                        "count": 10
                      }
                    ]
                  }
                },
                {
                  "name": "time",
                  "dtype": "datetime64[us, Etc/UTC]",
                  "stats": {
                    "unique_count": 103,
                    "nan_count": 0,
                    "min": "2025-02-12 15:55:23.415344+00:00",
                    "max": "2025-04-03 19:11:01.256479+00:00",
                    "histogram": [
                      {
                        "bin_start": 1739375723415344,
                        "bin_end": 1739808897199457.5,
                        "count": 2
                      },
                      {
                        "bin_start": 1739808897199457.5,
                        "bin_end": 1740242070983571,
                        "count": 0
                      },
                      {
                        "bin_start": 1740242070983571,
                        "bin_end": 1740675244767684.5,
                        "count": 3
                      },
                      {
                        "bin_start": 1740675244767684.5,
                        "bin_end": 1741108418551798,
                        "count": 1
                      },
                      {
                        "bin_start": 1741108418551798,
                        "bin_end": 1741541592335911.5,
                        "count": 0
                      },
                      {
                        "bin_start": 1741541592335911.5,
                        "bin_end": 1741974766120025,
                        "count": 0
                      },
                      {
                        "bin_start": 1741974766120025,
                        "bin_end": 1742407939904138.5,
                        "count": 21
                      },
                      {
                        "bin_start": 1742407939904138.5,
                        "bin_end": 1742841113688252,
                        "count": 17
                      },
                      {
                        "bin_start": 1742841113688252,
                        "bin_end": 1743274287472365.5,
                        "count": 13
                      },
                      {
                        "bin_start": 1743274287472365.5,
                        "bin_end": 1743707461256479,
                        "count": 46
                      }
                    ]
                  }
                },
                {
                  "name": "order_time",
                  "dtype": "datetime64[us, Etc/UTC]",
                  "stats": {
                    "unique_count": 101,
                    "nan_count": 0,
                    "min": "2025-02-12 15:48:00+00:00",
                    "max": "2025-04-03 19:04:00+00:00",
                    "histogram": [
                      {
                        "bin_start": 1739375280000000,
                        "bin_end": 1739808456000000,
                        "count": 2
                      },
                      {
                        "bin_start": 1739808456000000,
                        "bin_end": 1740241632000000,
                        "count": 0
                      },
                      {
                        "bin_start": 1740241632000000,
                        "bin_end": 1740674808000000,
                        "count": 3
                      },
                      {
                        "bin_start": 1740674808000000,
                        "bin_end": 1741107984000000,
                        "count": 1
                      },
                      {
                        "bin_start": 1741107984000000,
                        "bin_end": 1741541160000000,
                        "count": 0
                      },
                      {
                        "bin_start": 1741541160000000,
                        "bin_end": 1741974336000000,
                        "count": 0
                      },
                      {
                        "bin_start": 1741974336000000,
                        "bin_end": 1742407512000000,
                        "count": 21
                      },
                      {
                        "bin_start": 1742407512000000,
                        "bin_end": 1742840688000000,
                        "count": 17
                      },
                      {
                        "bin_start": 1742840688000000,
                        "bin_end": 1743273864000000,
                        "count": 13
                      },
                      {
                        "bin_start": 1743273864000000,
                        "bin_end": 1743707040000000,
                        "count": 46
                      }
                    ]
                  }
                },
                {
                  "name": "_deepnote_index_column",
                  "dtype": "int64"
                }
              ],
              "rows": [
                {
                  "batchID": 4,
                  "pl": -2.0423,
                  "time": "2025-02-12 15:55:23.415344+00:00",
                  "order_time": "2025-02-12 15:48:00+00:00",
                  "_deepnote_index_column": 0
                },
                {
                  "batchID": 18,
                  "pl": -2.7433,
                  "time": "2025-02-13 02:15:20.220511+00:00",
                  "order_time": "2025-02-13 02:08:00+00:00",
                  "_deepnote_index_column": 1
                },
                {
                  "batchID": 22,
                  "pl": -0.0079,
                  "time": "2025-02-27 01:19:36.388815+00:00",
                  "order_time": "2025-02-27 01:12:00+00:00",
                  "_deepnote_index_column": 2
                },
                {
                  "batchID": 26,
                  "pl": -0.0167,
                  "time": "2025-02-27 01:25:41.603451+00:00",
                  "order_time": "2025-02-27 01:18:00+00:00",
                  "_deepnote_index_column": 3
                },
                {
                  "batchID": 38,
                  "pl": -0.0159,
                  "time": "2025-02-27 12:47:18.701539+00:00",
                  "order_time": "2025-02-27 12:40:00+00:00",
                  "_deepnote_index_column": 4
                }
              ],
              "type": "dataframe"
            },
            "text/plain": "     batchID         pl                             time  \\\n0          4    -2.0423 2025-02-12 15:55:23.415344+00:00   \n1         18    -2.7433 2025-02-13 02:15:20.220511+00:00   \n2         22    -0.0079 2025-02-27 01:19:36.388815+00:00   \n3         26    -0.0167 2025-02-27 01:25:41.603451+00:00   \n4         38    -0.0159 2025-02-27 12:47:18.701539+00:00   \n..       ...        ...                              ...   \n98       801     0.0006 2025-04-02 22:27:27.901929+00:00   \n99       832     0.0003 2025-04-02 22:42:22.780999+00:00   \n100      841     0.0001 2025-04-02 22:45:55.021637+00:00   \n101      919  1292.8004 2025-04-03 18:56:01.961608+00:00   \n102      923  1216.8928 2025-04-03 19:11:01.256479+00:00   \n\n                   order_time  \n0   2025-02-12 15:48:00+00:00  \n1   2025-02-13 02:08:00+00:00  \n2   2025-02-27 01:12:00+00:00  \n3   2025-02-27 01:18:00+00:00  \n4   2025-02-27 12:40:00+00:00  \n..                        ...  \n98  2025-04-02 22:20:00+00:00  \n99  2025-04-02 22:35:00+00:00  \n100 2025-04-02 22:38:00+00:00  \n101 2025-04-03 18:49:00+00:00  \n102 2025-04-03 19:04:00+00:00  \n\n[103 rows x 4 columns]",
            "text/html": "<div>\n<style scoped>\n    .dataframe tbody tr th:only-of-type {\n        vertical-align: middle;\n    }\n\n    .dataframe tbody tr th {\n        vertical-align: top;\n    }\n\n    .dataframe thead th {\n        text-align: right;\n    }\n</style>\n<table border=\"1\" class=\"dataframe\">\n  <thead>\n    <tr style=\"text-align: right;\">\n      <th></th>\n      <th>batchID</th>\n      <th>pl</th>\n      <th>time</th>\n      <th>order_time</th>\n    </tr>\n  </thead>\n  <tbody>\n    <tr>\n      <th>0</th>\n      <td>4</td>\n      <td>-2.0423</td>\n      <td>2025-02-12 15:55:23.415344+00:00</td>\n      <td>2025-02-12 15:48:00+00:00</td>\n    </tr>\n    <tr>\n      <th>1</th>\n      <td>18</td>\n      <td>-2.7433</td>\n      <td>2025-02-13 02:15:20.220511+00:00</td>\n      <td>2025-02-13 02:08:00+00:00</td>\n    </tr>\n    <tr>\n      <th>2</th>\n      <td>22</td>\n      <td>-0.0079</td>\n      <td>2025-02-27 01:19:36.388815+00:00</td>\n      <td>2025-02-27 01:12:00+00:00</td>\n    </tr>\n    <tr>\n      <th>3</th>\n      <td>26</td>\n      <td>-0.0167</td>\n      <td>2025-02-27 01:25:41.603451+00:00</td>\n      <td>2025-02-27 01:18:00+00:00</td>\n    </tr>\n    <tr>\n      <th>4</th>\n      <td>38</td>\n      <td>-0.0159</td>\n      <td>2025-02-27 12:47:18.701539+00:00</td>\n      <td>2025-02-27 12:40:00+00:00</td>\n    </tr>\n    <tr>\n      <th>...</th>\n      <td>...</td>\n      <td>...</td>\n      <td>...</td>\n      <td>...</td>\n    </tr>\n    <tr>\n      <th>98</th>\n      <td>801</td>\n      <td>0.0006</td>\n      <td>2025-04-02 22:27:27.901929+00:00</td>\n      <td>2025-04-02 22:20:00+00:00</td>\n    </tr>\n    <tr>\n      <th>99</th>\n      <td>832</td>\n      <td>0.0003</td>\n      <td>2025-04-02 22:42:22.780999+00:00</td>\n      <td>2025-04-02 22:35:00+00:00</td>\n    </tr>\n    <tr>\n      <th>100</th>\n      <td>841</td>\n      <td>0.0001</td>\n      <td>2025-04-02 22:45:55.021637+00:00</td>\n      <td>2025-04-02 22:38:00+00:00</td>\n    </tr>\n    <tr>\n      <th>101</th>\n      <td>919</td>\n      <td>1292.8004</td>\n      <td>2025-04-03 18:56:01.961608+00:00</td>\n      <td>2025-04-03 18:49:00+00:00</td>\n    </tr>\n    <tr>\n      <th>102</th>\n      <td>923</td>\n      <td>1216.8928</td>\n      <td>2025-04-03 19:11:01.256479+00:00</td>\n      <td>2025-04-03 19:04:00+00:00</td>\n    </tr>\n  </tbody>\n</table>\n<p>103 rows × 4 columns</p>\n</div>"
          },
          "metadata": {}
        }
      ],
      "outputs_reference": null,
      "content_dependencies": null
    },
    {
      "cell_type": "code",
      "metadata": {
        "source_hash": "f7b4ef02",
        "execution_start": 1744070912499,
        "execution_millis": 1,
        "execution_context_id": "1b2ca2f9-843a-44eb-8ffb-80fd8105676c",
        "cell_id": "5a8128d543b847a2a0e26d05ab5ff405",
        "deepnote_cell_type": "code"
      },
      "source": "all_transactions['date'] = all_transactions['time'].dt.date\nall_transactions = all_transactions[all_transactions['date'] == all_transactions['date'].max()]\nall_transactions['pl'] = pd.to_numeric(all_transactions['pl'])\nall_transactions[all_transactions['reason'].isin(['TRAILING_STOP_LOSS_ORDER', 'TAKE_PROFIT_ORDER'])].groupby('reason')['pl'].sum()",
      "block_group": "a1631987ca4d4a7b9cb2a7da7bef9c03",
      "execution_count": 120,
      "outputs": [
        {
          "name": "stderr",
          "text": "/tmp/ipykernel_416/1003399321.py:3: SettingWithCopyWarning: \nA value is trying to be set on a copy of a slice from a DataFrame.\nTry using .loc[row_indexer,col_indexer] = value instead\n\nSee the caveats in the documentation: https://pandas.pydata.org/pandas-docs/stable/user_guide/indexing.html#returning-a-view-versus-a-copy\n  all_transactions['pl'] = pd.to_numeric(all_transactions['pl'])\n",
          "output_type": "stream"
        },
        {
          "output_type": "execute_result",
          "execution_count": 120,
          "data": {
            "text/plain": "reason\nTAKE_PROFIT_ORDER           2526.4838\nTRAILING_STOP_LOSS_ORDER   -2885.3046\nName: pl, dtype: float64"
          },
          "metadata": {}
        }
      ],
      "outputs_reference": null,
      "content_dependencies": null
    },
    {
      "cell_type": "code",
      "metadata": {
        "source_hash": "390a5c97",
        "execution_start": 1744070921274,
        "execution_millis": 0,
        "execution_context_id": "1b2ca2f9-843a-44eb-8ffb-80fd8105676c",
        "cell_id": "baa8fe0e4f2846f5846eeb7124639fde",
        "deepnote_cell_type": "code"
      },
      "source": "print(all_transactions[all_transactions['reason'].isin(['TRAILING_STOP_LOSS_ORDER', 'TAKE_PROFIT_ORDER'])].groupby('reason')['pl'].sum())\nprint(all_transactions[all_transactions['reason'].isin(['TRAILING_STOP_LOSS_ORDER', 'TAKE_PROFIT_ORDER'])].groupby('reason')['pl'].count())",
      "block_group": "7195981fa80845cea91f7e1a631d10b4",
      "execution_count": 122,
      "outputs": [
        {
          "name": "stdout",
          "text": "reason\nTAKE_PROFIT_ORDER           2526.4838\nTRAILING_STOP_LOSS_ORDER   -2885.3046\nName: pl, dtype: float64\nreason\nTAKE_PROFIT_ORDER            4\nTRAILING_STOP_LOSS_ORDER    13\nName: pl, dtype: int64\n",
          "output_type": "stream"
        }
      ],
      "outputs_reference": null,
      "content_dependencies": null
    },
    {
      "cell_type": "code",
      "metadata": {
        "source_hash": "f66af09",
        "execution_start": 1744070931792,
        "execution_millis": 1,
        "execution_context_id": "1b2ca2f9-843a-44eb-8ffb-80fd8105676c",
        "cell_id": "33cd0e2c24704f37a0d180907a98825e",
        "deepnote_cell_type": "code"
      },
      "source": "total_pl=all_transactions[all_transactions['reason'].isin(['TRAILING_STOP_LOSS_ORDER', 'TAKE_PROFIT_ORDER'])].groupby('reason')['pl'].sum()",
      "block_group": "1f9d65ba354d4c5cb38a6817d8a6eb02",
      "execution_count": 124,
      "outputs": [],
      "outputs_reference": null,
      "content_dependencies": null
    },
    {
      "cell_type": "code",
      "metadata": {
        "source_hash": "f19eda00",
        "execution_start": 1744070932193,
        "execution_millis": 0,
        "execution_context_id": "1b2ca2f9-843a-44eb-8ffb-80fd8105676c",
        "cell_id": "83f73c3a213d4a55ab993c70f16a3733",
        "deepnote_cell_type": "code"
      },
      "source": "total_pl['TRAILING_STOP_LOSS_ORDER'] + total_pl['TAKE_PROFIT_ORDER']",
      "block_group": "69dc3970ddf9493099febda52917da83",
      "execution_count": 126,
      "outputs": [
        {
          "output_type": "execute_result",
          "execution_count": 126,
          "data": {
            "text/plain": "-358.82079999999996"
          },
          "metadata": {}
        }
      ],
      "outputs_reference": null,
      "content_dependencies": null
    },
    {
      "cell_type": "code",
      "metadata": {
        "source_hash": "1dfe3fda",
        "execution_start": 1744070935360,
        "execution_millis": 1,
        "execution_context_id": "1b2ca2f9-843a-44eb-8ffb-80fd8105676c",
        "cell_id": "2dbbd32ed9314e64b13c24a831684b36",
        "deepnote_cell_type": "code"
      },
      "source": "pd.to_numeric(all_transactions['halfSpreadCost']).sum()",
      "block_group": "fc4502b53fa744aab63887bd4ecf387a",
      "execution_count": 128,
      "outputs": [
        {
          "output_type": "execute_result",
          "execution_count": 128,
          "data": {
            "text/plain": "1284.5762"
          },
          "metadata": {}
        }
      ],
      "outputs_reference": null,
      "content_dependencies": null
    },
    {
      "cell_type": "code",
      "metadata": {
        "cell_id": "0dc4457ff6d04cc28eb6008cd9d7ddea",
        "deepnote_cell_type": "code"
      },
      "source": "",
      "block_group": "548336e4cc8841179ad038bdb0b41aec",
      "execution_count": null,
      "outputs": [],
      "outputs_reference": null,
      "content_dependencies": null
    },
    {
      "cell_type": "markdown",
      "source": "<a style='text-decoration:none;line-height:16px;display:flex;color:#5B5B62;padding:10px;justify-content:end;' href='https://deepnote.com?utm_source=created-in-deepnote-cell&projectId=a127aa9e-0a77-4af9-a6ce-85e7a9b74042' target=\"_blank\">\n<img alt='Created in deepnote.com' style='display:inline;max-height:16px;margin:0px;margin-right:7.5px;' src='data:image/svg+xml;base64,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' > </img>\nCreated in <span style='font-weight:600;margin-left:4px;'>Deepnote</span></a>",
      "metadata": {
        "created_in_deepnote_cell": true,
        "deepnote_cell_type": "markdown"
      }
    }
  ],
  "nbformat": 4,
  "nbformat_minor": 0,
  "metadata": {
    "deepnote_persisted_session": {
      "createdAt": "2025-04-04T21:15:34.668Z"
    },
    "deepnote_notebook_id": "77432b1dee9c4e5980e363ebe2995386"
  }
}