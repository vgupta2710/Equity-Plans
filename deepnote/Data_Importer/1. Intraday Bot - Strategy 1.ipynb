{
  "cells": [
    {
      "cell_type": "code",
      "metadata": {
        "source_hash": "8b85f123",
        "execution_start": 1743634350677,
        "execution_millis": 4797,
        "deepnote_table_state": {
          "sortBy": [],
          "filters": [],
          "pageSize": 10,
          "pageIndex": 49,
          "columnOrder": [
            "datetime",
            "Open",
            "High",
            "Low",
            "Close",
            "volume"
          ],
          "hiddenColumnIds": [],
          "columnDisplayNames": [],
          "conditionalFilters": [],
          "cellFormattingRules": [],
          "wrappedTextColumnIds": []
        },
        "execution_context_id": "b29a4430-2bb2-4b4e-bb8f-4dc603db1b85",
        "deepnote_table_loading": false,
        "cell_id": "98a0e9847b204ce09a67b6f1cd6f4f54",
        "deepnote_cell_type": "code"
      },
      "source": "import os\nos.environ['TF_CPP_MIN_LOG_LEVEL'] = '3'  # Suppress TensorFlow logging\nimport warnings\nwarnings.filterwarnings('ignore')  # Suppress general warnings\n\nfrom Moduled_functions import get_data\nfrom Moduled_functions import tranformation\nfrom Moduled_functions import calculate_ema_slope\nfrom Moduled_functions import place_order\nfrom m_email import send_email\nimport pandas as pd\nfrom keras.models import load_model\nfrom sklearn.preprocessing import StandardScaler\nfrom datetime import datetime\nimport time\nfrom datetime import datetime\nimport schedule\nimport numpy as np\nimport requests\n\n# Suppress specific TensorFlow warnings\nimport tensorflow as tf\ntf.compat.v1.logging.set_verbosity(tf.compat.v1.logging.ERROR)\n\naccess_token = os.environ[\"ACCESS_TOKEN\"]\naccount_id_demo = os.environ[\"ACCOUNT_DEMO\"]\nbearish_model = load_model('/work/Trained_Models/FX_Bearish_model_2025-02-19.keras')\nbullish_model = load_model('/work/Trained_Models/FX_Bullish_model_2025-02-21.keras')",
      "block_group": "98a0e9847b204ce09a67b6f1cd6f4f54",
      "execution_count": 1,
      "outputs": [],
      "outputs_reference": null,
      "content_dependencies": null
    },
    {
      "cell_type": "code",
      "metadata": {
        "source_hash": "69c763a8",
        "execution_start": 1742565733324,
        "execution_millis": 2,
        "deepnote_input_label": "Bullish_Input",
        "deepnote_slider_step": 0.05,
        "execution_context_id": "963bda51-69a4-41d1-9bcb-7b9ce3e5f8ee",
        "deepnote_variable_name": "Bullish_Input",
        "deepnote_variable_value": "0.5",
        "deepnote_slider_max_value": 1,
        "deepnote_slider_min_value": 0,
        "cell_id": "22568564e29741ddbbd91877d46aec07",
        "deepnote_cell_type": "input-slider"
      },
      "source": "Bullish_Input = 0.5",
      "block_group": "db337cb19e1c41b5b7b0857318ab87c2",
      "execution_count": 10,
      "outputs": [],
      "outputs_reference": null
    },
    {
      "cell_type": "code",
      "metadata": {
        "allow_embed": false,
        "source_hash": "8e6db91f",
        "execution_start": 1742565757582,
        "execution_millis": 1,
        "deepnote_input_label": "Bearish_Input",
        "deepnote_slider_step": 0.05,
        "execution_context_id": "963bda51-69a4-41d1-9bcb-7b9ce3e5f8ee",
        "deepnote_variable_name": "Bearish_Input",
        "deepnote_variable_value": "0.5",
        "deepnote_slider_max_value": 1,
        "deepnote_slider_min_value": 0,
        "cell_id": "c4d70cd13e594da6a18395e4c30d3dfd",
        "deepnote_cell_type": "input-slider"
      },
      "source": "Bearish_Input = 0.5",
      "block_group": "db337cb19e1c41b5b7b0857318ab87c2",
      "execution_count": 12,
      "outputs": [],
      "outputs_reference": null
    },
    {
      "cell_type": "code",
      "metadata": {
        "allow_embed": false,
        "source_hash": "8ef7a4d1",
        "execution_start": 1742565809230,
        "execution_millis": 2,
        "deepnote_input_label": "Volume_Input",
        "deepnote_slider_step": 100,
        "execution_context_id": "963bda51-69a4-41d1-9bcb-7b9ce3e5f8ee",
        "deepnote_variable_name": "Volume_Input",
        "deepnote_variable_value": "300",
        "deepnote_slider_max_value": 1000,
        "deepnote_slider_min_value": 100,
        "cell_id": "e329bf2f46454f138c96c3e465234d87",
        "deepnote_cell_type": "input-slider"
      },
      "source": "Volume_Input = 300",
      "block_group": "db337cb19e1c41b5b7b0857318ab87c2",
      "execution_count": 18,
      "outputs": [],
      "outputs_reference": null
    },
    {
      "cell_type": "code",
      "metadata": {
        "allow_embed": false,
        "source_hash": "27def58e",
        "execution_start": 1742565984302,
        "execution_millis": 1,
        "deepnote_input_label": "",
        "deepnote_slider_step": 0.05,
        "execution_context_id": "963bda51-69a4-41d1-9bcb-7b9ce3e5f8ee",
        "deepnote_variable_name": "Move_TopBottom",
        "deepnote_variable_value": "0.3",
        "deepnote_slider_max_value": 1,
        "deepnote_slider_min_value": 0,
        "deepnote_to_be_reexecuted": true,
        "cell_id": "c624d79fb85140ed9ada1d64202e8cdf",
        "deepnote_cell_type": "input-slider"
      },
      "source": "Move_TopBottom = 0.3",
      "block_group": "db337cb19e1c41b5b7b0857318ab87c2",
      "execution_count": 20,
      "outputs": [],
      "outputs_reference": null
    },
    {
      "cell_type": "code",
      "metadata": {
        "source_hash": "2b488b5b",
        "execution_start": 1743634357038,
        "execution_millis": 2,
        "sql_integration_id": "",
        "execution_context_id": "b29a4430-2bb2-4b4e-bb8f-4dc603db1b85",
        "deepnote_variable_name": "",
        "cell_id": "94ad01a1767649f988d97085984e7dbe",
        "deepnote_cell_type": "code"
      },
      "source": "def job():\n    try:\n        # Get the data using get_data function\n        base_data,current_price = get_data(100, access_token)\n        \n        # Transform the data\n        base_data = tranformation(base_data, 0.0015)\n        \n        # Calculate EMA slopes\n        base_data['EMA_slope'] = calculate_ema_slope(base_data, 'Open', 9)\n        base_data['EMA_slope_15'] = calculate_ema_slope(base_data, 'Open', 15)\n        base_data['EMA_slope_60'] = calculate_ema_slope(base_data, 'Open', 60)\n        \n        # Calculate deviation\n        base_data['deviation_'] = base_data['bullish_move_flag_20'] + base_data['bearish_move_flag_20']\n        X = base_data.iloc[:,9:69]\n        y = base_data['deviation_']\n        \n        # Normalize the data\n        scaler = StandardScaler()\n        scaler.fit(X)\n        X_normalized = pd.DataFrame(scaler.transform(X)).round(1)\n        \n        # Get predictions\n        y_pred_bearish = bearish_model.predict(X_normalized, verbose=0)\n        y_pred_bearish = pd.DataFrame(y_pred_bearish)\n        \n        y_pred_bullish = bullish_model.predict(X_normalized, verbose=0)\n        y_pred_bullish = pd.DataFrame(y_pred_bullish)\n        \n        # Combine results\n        result_combined = pd.concat([y_pred_bearish, y_pred_bullish, y], axis=1)\n        result_combined.columns = ['bearish_0','bearish_1','bearish_2','bearish_3',\n                                 'bullish_0','bullish_1','bullish_2','bullish_3','y_true']\n        \n        base_data = pd.concat([base_data, result_combined], axis=1)\n\n        # Generate flags\n        ## bearish indicator\n        base_data['bearish_flag']  = base_data.apply(lambda x:2 if x['volume_mean_5'] >450 ##433 \n                                                                and x['volume_mean_5'] <750\n                                                                and x['bearish_2'] > 0.50 \n                                                                and x['bearish_2'] < 0.65 \n                                                                #and x['bullish_1'] > 0.509 \n                                                                #and x['bullish_1'] < 0.609\n                                                                and x['move_from_top'] > 0.08\n                                                                and x['move_from_top'] < 0.25\n                                                                and x['volume'] > 450 ##410 \n                                                                and x['volume'] <700\n                                                                and x['volume_mean_3'] > 500\n                                                                and x['volume_mean_3'] <750 else 0, axis=1)\n        ## bullish indicator\n        base_data['bullish_flag'] = base_data.apply(lambda x:1 if x['volume'] >= 450\n                                                                and x['volume'] <= 700\n                                                                and x['volume_mean_3'] >= 600\n                                                                and x['volume_mean_3'] <= 700\n                                                                and x['volume_mean_5'] >= 500\n                                                                and x['volume_mean_5'] <= 700\n                                                                and x['bullish_1'] >= 0.52\n                                                                and x['bullish_1'] <= 0.60\n                                                                and x['move_from_bottom'] >= 0.12\n                                                                and x['move_from_bottom'] <= 0.20 else 0, axis=1)\n        \n        # Add timestamp column\n        current_time = datetime.now().strftime('%Y-%m-%d %H:%M:%S')\n        base_data['timestamp'] = current_time\n        \n        # Read existing history\n        try:\n            existing_data = pd.read_csv('base_data_history.csv')\n            existing_data['datetime'] = pd.to_datetime(existing_data['datetime'])\n            base_data['datetime'] = pd.to_datetime(base_data['datetime'])\n            \n            # Fields to update\n            update_fields = ['max_high_6', 'min_low_6', 'max_high_20', 'min_low_20',\n                           'upward_move_6', 'downward_move_6', 'upward_move_20',\n                           'downward_move_20', 'bullish_move_20', 'bearish_move_20',\n                           'bullish_move_flag_20', 'bearish_move_flag_20', 'y_true']\n            \n            # Update existing records\n            for datetime_val in base_data['datetime']:\n                if datetime_val in existing_data['datetime'].values:\n                    # Update fields for matching records\n                    mask = existing_data['datetime'] == datetime_val\n                    existing_data.loc[mask, update_fields] = base_data[\n                        base_data['datetime'] == datetime_val\n                    ][update_fields].values\n            \n            # Add new records\n            new_records = base_data[~base_data['datetime'].isin(existing_data['datetime'])]\n            if not new_records.empty:\n                updated_data = pd.concat([existing_data, new_records])\n                updated_data = updated_data.sort_values('datetime')\n            else:\n                updated_data = existing_data\n                \n        except FileNotFoundError:\n            updated_data = base_data\n            \n        updated_data.to_csv('base_data_history.csv', index=False)\n        \n        # Check for trading signals and place orders (rest of the existing code)\n        if (base_data['bullish_flag'].iloc[-1] == 1) & (base_data['bearish_flag'].iloc[-1] != 2):\n            take_profit = current_price * 1.0015  # 0.15% above\n            #stop_loss = current_price * 0.9995    # 0.05% below\n            stop_loss = current_price * 0.0005\n            qty = '1000000'\n            order = place_order(str(current_price),str(round(stop_loss,5)),str(round(take_profit,5)),qty,access_token,account_id_demo)\n            order_id = order['orderCreateTransaction'].get('id')\n            order_time = order['orderCreateTransaction'].get('time')\n    \n            message = f\"Bullish Order Eligible at this moment. \\nOrder placed with order no: {order_id}\"\n            print(message)\n            output =requests.get(f'https://api.day.app/iFbt9PqBdm6d2YvUT4irnN/Bullish Order Placed/{message}')\n            #send_email(str(message))\n\n            # Save order details to Excel\n            order_data = pd.DataFrame({\n                'Time': [order_time],\n                'Type': ['BUY'],\n                'Quantity': [qty],\n                'Price': [current_price],\n                'Take_Profit': [take_profit],\n                'Stop_Loss': [stop_loss],\n                'Order_ID': [order_id]\n            })\n            \n            try:\n                existing_orders = pd.read_csv('order_history.csv')\n                updated_orders = pd.concat([existing_orders, order_data])\n            except FileNotFoundError:\n                updated_orders = order_data\n\n            updated_orders.to_csv('order_history.csv', index=False)\n            \n        elif (base_data['bearish_flag'].iloc[-1] == 2) & (base_data['bullish_flag'].iloc[-1] != 1):\n            take_profit = current_price * 0.9985  # 0.15% below\n            #stop_loss = current_price * 1.0005    # 0.05% above\n            stop_loss = current_price * 0.0005\n            qty = '-1000000'\n            order = place_order(str(current_price),str(round(stop_loss,5)),str(round(take_profit,5)),qty,access_token,account_id_demo)\n            order_id = order['orderCreateTransaction'].get('id')\n            order_time = order['orderCreateTransaction'].get('time')\n    \n            message = f\"Bearish Order Eligible at this moment. \\nOrder placed with order no: {order_id}\"\n            print(message)\n            output =requests.get(f'https://api.day.app/iFbt9PqBdm6d2YvUT4irnN/Bearish Order Placed/{message}')\n            #send_email(str(message))\n\n            # Save order details to Excel\n            order_data = pd.DataFrame({\n                'Time': [order_time],\n                'Type': ['SELL'],\n                'Quantity': [qty],\n                'Price': [current_price],\n                'Take_Profit': [take_profit],\n                'Stop_Loss': [stop_loss],\n                'Order_ID': [order_id]\n            })\n            \n            try:\n                existing_orders = pd.read_csv('order_history.csv')\n                updated_orders = pd.concat([existing_orders, order_data])\n            except FileNotFoundError:\n                updated_orders = order_data\n\n            updated_orders.to_csv('order_history.csv', index=False)\n\n        print(f\"Check completed at {current_time}\")\n        \n    except Exception as e:\n        print(f\"Error occurred: {str(e)}\")",
      "block_group": "316d45da80e544a8ad6a092d73b145dc",
      "execution_count": 3,
      "outputs": [],
      "outputs_reference": null,
      "content_dependencies": null
    },
    {
      "cell_type": "code",
      "metadata": {
        "source_hash": "5d116ed6",
        "execution_start": 1743634358675,
        "execution_millis": 2,
        "sql_integration_id": "",
        "execution_context_id": "b29a4430-2bb2-4b4e-bb8f-4dc603db1b85",
        "deepnote_variable_name": "",
        "cell_id": "cafb3407b75840b6ba00c630ce56a380",
        "deepnote_cell_type": "code"
      },
      "source": "    ",
      "block_group": "80372072340d44078422341fcc0928ba",
      "execution_count": 5,
      "outputs": [],
      "outputs_reference": null,
      "content_dependencies": null
    },
    {
      "cell_type": "code",
      "metadata": {
        "source_hash": "9db07433",
        "is_code_hidden": false,
        "execution_start": 1743634360960,
        "execution_millis": 166973660,
        "is_output_hidden": false,
        "execution_context_id": "b29a4430-2bb2-4b4e-bb8f-4dc603db1b85",
        "deepnote_app_is_code_hidden": true,
        "deepnote_app_is_output_hidden": true,
        "cell_id": "79bc6dd4c1624ef682e000ca7d66858a",
        "deepnote_cell_type": "code"
      },
      "source": "# Set up the schedule to run at specified intervals\nfor minute in [1, 6, 11, 16, 21, 26, 31, 36, 41, 46, 51, 56]:\n    schedule.every().hour.at(f\":{minute:02d}\").do(job)\nprint(\"Starting the trading bot...\")\nwhile True:\n    schedule.run_pending()\n    time.sleep(1)",
      "block_group": "7d574839f7054a86921b7e3d1b209eeb",
      "execution_count": 7,
      "outputs": [
        {
          "name": "stdout",
          "text": "Starting the trading bot...\nCheck completed at 2025-04-02 22:56:00\nCheck completed at 2025-04-02 23:01:00\nCheck completed at 2025-04-02 23:06:00\nCheck completed at 2025-04-02 23:11:00\nCheck completed at 2025-04-02 23:16:00\nCheck completed at 2025-04-02 23:21:00\nCheck completed at 2025-04-02 23:26:01\nCheck completed at 2025-04-02 23:31:00\nCheck completed at 2025-04-02 23:36:01\nCheck completed at 2025-04-02 23:41:00\nCheck completed at 2025-04-02 23:46:00\nCheck completed at 2025-04-02 23:51:01\nCheck completed at 2025-04-02 23:56:00\nCheck completed at 2025-04-03 00:01:01\nCheck completed at 2025-04-03 00:06:00\nCheck completed at 2025-04-03 00:11:00\nCheck completed at 2025-04-03 00:16:00\nCheck completed at 2025-04-03 00:21:00\nCheck completed at 2025-04-03 00:26:00\nCheck completed at 2025-04-03 00:31:01\nCheck completed at 2025-04-03 00:36:00\nCheck completed at 2025-04-03 00:41:00\nCheck completed at 2025-04-03 00:46:01\nCheck completed at 2025-04-03 00:51:00\nCheck completed at 2025-04-03 00:56:01\nCheck completed at 2025-04-03 01:01:00\nCheck completed at 2025-04-03 01:06:00\nCheck completed at 2025-04-03 01:11:00\nCheck completed at 2025-04-03 01:16:00\nCheck completed at 2025-04-03 01:21:01\nCheck completed at 2025-04-03 01:26:00\nCheck completed at 2025-04-03 01:31:01\nCheck completed at 2025-04-03 01:36:00\nCheck completed at 2025-04-03 01:41:00\nCheck completed at 2025-04-03 01:46:00\nCheck completed at 2025-04-03 01:51:00\nCheck completed at 2025-04-03 01:56:00\nCheck completed at 2025-04-03 02:01:00\nCheck completed at 2025-04-03 02:06:00\nCheck completed at 2025-04-03 02:11:01\nCheck completed at 2025-04-03 02:16:00\nCheck completed at 2025-04-03 02:21:01\nCheck completed at 2025-04-03 02:26:01\nCheck completed at 2025-04-03 02:31:00\nCheck completed at 2025-04-03 02:36:01\nCheck completed at 2025-04-03 02:41:00\nCheck completed at 2025-04-03 02:46:01\nCheck completed at 2025-04-03 02:51:00\nCheck completed at 2025-04-03 02:56:01\nCheck completed at 2025-04-03 03:01:00\nCheck completed at 2025-04-03 03:06:00\nBearish Order Eligible at this moment. \nOrder placed with order no: 855\nCheck completed at 2025-04-03 03:11:00\nBearish Order Eligible at this moment. \nOrder placed with order no: 859\nCheck completed at 2025-04-03 03:16:00\nCheck completed at 2025-04-03 03:21:00\nCheck completed at 2025-04-03 03:26:00\nCheck completed at 2025-04-03 03:31:00\nCheck completed at 2025-04-03 03:36:00\nBearish Order Eligible at this moment. \nOrder placed with order no: 867\nCheck completed at 2025-04-03 03:41:00\nBearish Order Eligible at this moment. \nOrder placed with order no: 871\nCheck completed at 2025-04-03 03:46:00\nBearish Order Eligible at this moment. \nOrder placed with order no: 879\nCheck completed at 2025-04-03 03:51:00\nBearish Order Eligible at this moment. \nOrder placed with order no: 883\nCheck completed at 2025-04-03 03:56:00\nBearish Order Eligible at this moment. \nOrder placed with order no: 887\nCheck completed at 2025-04-03 04:01:00\nCheck completed at 2025-04-03 04:06:00\nBearish Order Eligible at this moment. \nOrder placed with order no: 891\nCheck completed at 2025-04-03 04:11:00\nBearish Order Eligible at this moment. \nOrder placed with order no: 893\nCheck completed at 2025-04-03 04:16:00\nCheck completed at 2025-04-03 04:21:00\nCheck completed at 2025-04-03 04:26:01\nCheck completed at 2025-04-03 04:31:00\nCheck completed at 2025-04-03 04:36:01\nBearish Order Eligible at this moment. \nOrder placed with order no: 901\nCheck completed at 2025-04-03 04:41:00\nCheck completed at 2025-04-03 04:46:00\nCheck completed at 2025-04-03 04:51:00\nCheck completed at 2025-04-03 04:56:00\nCheck completed at 2025-04-03 05:01:00\nCheck completed at 2025-04-03 05:06:00\nBearish Order Eligible at this moment. \nOrder placed with order no: 907\nCheck completed at 2025-04-03 05:11:00\nCheck completed at 2025-04-03 05:16:01\nCheck completed at 2025-04-03 05:21:00\nCheck completed at 2025-04-03 05:26:00\nCheck completed at 2025-04-03 05:31:01\nCheck completed at 2025-04-03 05:36:00\nCheck completed at 2025-04-03 05:41:00\nCheck completed at 2025-04-03 05:46:00\nCheck completed at 2025-04-03 05:51:00\nCheck completed at 2025-04-03 05:56:00\nCheck completed at 2025-04-03 06:01:01\nCheck completed at 2025-04-03 06:06:00\nCheck completed at 2025-04-03 06:11:01\nCheck completed at 2025-04-03 06:16:00\nCheck completed at 2025-04-03 06:21:01\nCheck completed at 2025-04-03 06:26:01\nCheck completed at 2025-04-03 06:31:00\nCheck completed at 2025-04-03 06:36:01\nCheck completed at 2025-04-03 06:41:00\nCheck completed at 2025-04-03 06:46:01\nCheck completed at 2025-04-03 06:51:00\nCheck completed at 2025-04-03 06:56:01\nCheck completed at 2025-04-03 07:01:00\nCheck completed at 2025-04-03 07:06:00\nCheck completed at 2025-04-03 07:11:00\nCheck completed at 2025-04-03 07:16:00\nCheck completed at 2025-04-03 07:21:00\nCheck completed at 2025-04-03 07:26:00\nCheck completed at 2025-04-03 07:31:01\nCheck completed at 2025-04-03 07:36:00\nCheck completed at 2025-04-03 07:41:00\nCheck completed at 2025-04-03 07:46:00\nCheck completed at 2025-04-03 07:51:00\nCheck completed at 2025-04-03 07:56:01\nCheck completed at 2025-04-03 08:01:00\nCheck completed at 2025-04-03 08:06:00\nCheck completed at 2025-04-03 08:11:00\nCheck completed at 2025-04-03 08:16:00\nCheck completed at 2025-04-03 08:21:00\nCheck completed at 2025-04-03 08:26:00\nCheck completed at 2025-04-03 08:31:00\nCheck completed at 2025-04-03 08:36:00\nCheck completed at 2025-04-03 08:41:01\nCheck completed at 2025-04-03 08:46:00\nCheck completed at 2025-04-03 08:51:00\nCheck completed at 2025-04-03 08:56:00\nCheck completed at 2025-04-03 09:01:00\nCheck completed at 2025-04-03 09:06:00\nCheck completed at 2025-04-03 09:11:00\nCheck completed at 2025-04-03 09:16:00\nCheck completed at 2025-04-03 09:21:00\nCheck completed at 2025-04-03 09:26:01\nCheck completed at 2025-04-03 09:31:00\nCheck completed at 2025-04-03 09:36:01\nCheck completed at 2025-04-03 09:41:00\nCheck completed at 2025-04-03 09:46:00\nCheck completed at 2025-04-03 09:51:00\nCheck completed at 2025-04-03 09:56:00\nCheck completed at 2025-04-03 10:01:01\nCheck completed at 2025-04-03 10:06:00\nCheck completed at 2025-04-03 10:11:00\nCheck completed at 2025-04-03 10:16:00\nCheck completed at 2025-04-03 10:21:00\nCheck completed at 2025-04-03 10:26:00\nCheck completed at 2025-04-03 10:31:01\nCheck completed at 2025-04-03 10:36:00\nCheck completed at 2025-04-03 10:41:00\nCheck completed at 2025-04-03 10:46:00\nCheck completed at 2025-04-03 10:51:01\nCheck completed at 2025-04-03 10:56:00\nCheck completed at 2025-04-03 11:01:00\nCheck completed at 2025-04-03 11:06:00\nCheck completed at 2025-04-03 11:11:01\nCheck completed at 2025-04-03 11:16:00\nCheck completed at 2025-04-03 11:21:01\nCheck completed at 2025-04-03 11:26:00\nCheck completed at 2025-04-03 11:31:01\nCheck completed at 2025-04-03 11:36:00\nCheck completed at 2025-04-03 11:41:01\nCheck completed at 2025-04-03 11:46:00\nCheck completed at 2025-04-03 11:51:00\nCheck completed at 2025-04-03 11:56:00\nCheck completed at 2025-04-03 12:01:00\nCheck completed at 2025-04-03 12:06:00\nCheck completed at 2025-04-03 12:11:01\nCheck completed at 2025-04-03 12:16:00\nCheck completed at 2025-04-03 12:21:01\nCheck completed at 2025-04-03 12:26:00\nCheck completed at 2025-04-03 12:31:01\nCheck completed at 2025-04-03 12:36:00\nCheck completed at 2025-04-03 12:41:00\nCheck completed at 2025-04-03 12:46:00\nCheck completed at 2025-04-03 12:51:01\nCheck completed at 2025-04-03 12:56:00\nCheck completed at 2025-04-03 13:01:00\nCheck completed at 2025-04-03 13:06:00\nCheck completed at 2025-04-03 13:11:00\nCheck completed at 2025-04-03 13:16:00\nCheck completed at 2025-04-03 13:21:00\nCheck completed at 2025-04-03 13:26:00\nCheck completed at 2025-04-03 13:31:00\nCheck completed at 2025-04-03 13:36:00\nCheck completed at 2025-04-03 13:41:01\nCheck completed at 2025-04-03 13:46:00\nCheck completed at 2025-04-03 13:51:01\nCheck completed at 2025-04-03 13:56:00\nCheck completed at 2025-04-03 14:01:01\nCheck completed at 2025-04-03 14:06:00\nCheck completed at 2025-04-03 14:11:01\nCheck completed at 2025-04-03 14:16:00\nCheck completed at 2025-04-03 14:21:00\nCheck completed at 2025-04-03 14:26:00\nCheck completed at 2025-04-03 14:31:01\nCheck completed at 2025-04-03 14:36:00\nCheck completed at 2025-04-03 14:41:01\nCheck completed at 2025-04-03 14:46:00\nCheck completed at 2025-04-03 14:51:01\nCheck completed at 2025-04-03 14:56:00\nCheck completed at 2025-04-03 15:01:01\nCheck completed at 2025-04-03 15:06:00\nCheck completed at 2025-04-03 15:11:00\nCheck completed at 2025-04-03 15:16:00\nCheck completed at 2025-04-03 15:21:00\nCheck completed at 2025-04-03 15:26:00\nCheck completed at 2025-04-03 15:31:00\nCheck completed at 2025-04-03 15:36:01\nCheck completed at 2025-04-03 15:41:00\nCheck completed at 2025-04-03 15:46:01\nCheck completed at 2025-04-03 15:51:00\nCheck completed at 2025-04-03 15:56:00\nCheck completed at 2025-04-03 16:01:00\nCheck completed at 2025-04-03 16:06:00\nCheck completed at 2025-04-03 16:11:00\nCheck completed at 2025-04-03 16:16:00\nCheck completed at 2025-04-03 16:21:00\nCheck completed at 2025-04-03 16:26:00\nCheck completed at 2025-04-03 16:31:00\nCheck completed at 2025-04-03 16:36:01\nCheck completed at 2025-04-03 16:41:00\nCheck completed at 2025-04-03 16:46:01\nCheck completed at 2025-04-03 16:51:00\nCheck completed at 2025-04-03 16:56:00\nCheck completed at 2025-04-03 17:01:00\nCheck completed at 2025-04-03 17:06:01\nCheck completed at 2025-04-03 17:11:00\nCheck completed at 2025-04-03 17:16:01\nCheck completed at 2025-04-03 17:21:00\nCheck completed at 2025-04-03 17:26:01\nCheck completed at 2025-04-03 17:31:00\nCheck completed at 2025-04-03 17:36:01\nCheck completed at 2025-04-03 17:41:01\nCheck completed at 2025-04-03 17:46:00\nCheck completed at 2025-04-03 17:51:01\nCheck completed at 2025-04-03 17:56:00\nCheck completed at 2025-04-03 18:01:00\nCheck completed at 2025-04-03 18:06:00\nCheck completed at 2025-04-03 18:11:01\nCheck completed at 2025-04-03 18:16:00\nBullish Order Eligible at this moment. \nOrder placed with order no: 913\nCheck completed at 2025-04-03 18:21:01\nCheck completed at 2025-04-03 18:26:00\nCheck completed at 2025-04-03 18:31:00\nCheck completed at 2025-04-03 18:36:00\nCheck completed at 2025-04-03 18:41:00\nCheck completed at 2025-04-03 18:46:00\nCheck completed at 2025-04-03 18:51:01\nBearish Order Eligible at this moment. \nOrder placed with order no: 919\nCheck completed at 2025-04-03 18:56:00\nCheck completed at 2025-04-03 19:01:01\nCheck completed at 2025-04-03 19:06:00\nBearish Order Eligible at this moment. \nOrder placed with order no: 923\nCheck completed at 2025-04-03 19:11:00\nCheck completed at 2025-04-03 19:16:00\nCheck completed at 2025-04-03 19:21:00\nCheck completed at 2025-04-03 19:26:00\nCheck completed at 2025-04-03 19:31:01\nCheck completed at 2025-04-03 19:36:00\nCheck completed at 2025-04-03 19:41:01\nCheck completed at 2025-04-03 19:46:00\nCheck completed at 2025-04-03 19:51:00\nBearish Order Eligible at this moment. \nOrder placed with order no: 931\nCheck completed at 2025-04-03 19:56:01\nCheck completed at 2025-04-03 20:01:00\nCheck completed at 2025-04-03 20:06:01\nCheck completed at 2025-04-03 20:11:00\nCheck completed at 2025-04-03 20:16:01\nCheck completed at 2025-04-03 20:21:00\nCheck completed at 2025-04-03 20:26:00\nCheck completed at 2025-04-03 20:31:01\nCheck completed at 2025-04-03 20:36:00\nCheck completed at 2025-04-03 20:41:00\nCheck completed at 2025-04-03 20:46:00\nCheck completed at 2025-04-03 20:51:00\nCheck completed at 2025-04-03 20:56:01\nCheck completed at 2025-04-03 21:01:00\nCheck completed at 2025-04-03 21:06:00\nCheck completed at 2025-04-03 21:11:00\nCheck completed at 2025-04-03 21:16:00\nCheck completed at 2025-04-03 21:21:01\nCheck completed at 2025-04-03 21:26:00\nCheck completed at 2025-04-03 21:31:01\nCheck completed at 2025-04-03 21:36:00\nCheck completed at 2025-04-03 21:41:01\nCheck completed at 2025-04-03 21:46:00\nCheck completed at 2025-04-03 21:51:00\nCheck completed at 2025-04-03 21:56:00\nCheck completed at 2025-04-03 22:01:01\nCheck completed at 2025-04-03 22:06:00\nCheck completed at 2025-04-03 22:11:01\nCheck completed at 2025-04-03 22:16:00\nCheck completed at 2025-04-03 22:21:01\nCheck completed at 2025-04-03 22:26:00\nCheck completed at 2025-04-03 22:31:00\nCheck completed at 2025-04-03 22:36:01\nCheck completed at 2025-04-03 22:41:00\nCheck completed at 2025-04-03 22:46:00\nCheck completed at 2025-04-03 22:51:01\nCheck completed at 2025-04-03 22:56:00\nCheck completed at 2025-04-03 23:01:00\nCheck completed at 2025-04-03 23:06:00\nCheck completed at 2025-04-03 23:11:01\nCheck completed at 2025-04-03 23:16:00\nCheck completed at 2025-04-03 23:21:00\nCheck completed at 2025-04-03 23:26:00\nCheck completed at 2025-04-03 23:31:00\nCheck completed at 2025-04-03 23:36:01\nCheck completed at 2025-04-03 23:41:00\nCheck completed at 2025-04-03 23:46:00\nCheck completed at 2025-04-03 23:51:01\nCheck completed at 2025-04-03 23:56:00\nCheck completed at 2025-04-04 00:01:00\nCheck completed at 2025-04-04 00:06:00\nCheck completed at 2025-04-04 00:11:01\nCheck completed at 2025-04-04 00:16:00\nCheck completed at 2025-04-04 00:21:00\nCheck completed at 2025-04-04 00:26:00\nCheck completed at 2025-04-04 00:31:01\nCheck completed at 2025-04-04 00:36:00\nCheck completed at 2025-04-04 00:41:01\nCheck completed at 2025-04-04 00:46:00\nCheck completed at 2025-04-04 00:51:00\nCheck completed at 2025-04-04 00:56:01\nCheck completed at 2025-04-04 01:01:00\nCheck completed at 2025-04-04 01:06:00\nCheck completed at 2025-04-04 01:11:00\nCheck completed at 2025-04-04 01:16:00\nCheck completed at 2025-04-04 01:21:00\nCheck completed at 2025-04-04 01:26:01\nCheck completed at 2025-04-04 01:31:01\nCheck completed at 2025-04-04 01:36:00\nCheck completed at 2025-04-04 01:41:01\nCheck completed at 2025-04-04 01:46:00\nCheck completed at 2025-04-04 01:51:00\nCheck completed at 2025-04-04 01:56:01\nCheck completed at 2025-04-04 02:01:01\nCheck completed at 2025-04-04 02:06:00\nCheck completed at 2025-04-04 02:11:00\nCheck completed at 2025-04-04 02:16:00\nCheck completed at 2025-04-04 02:21:00\nCheck completed at 2025-04-04 02:26:00\nCheck completed at 2025-04-04 02:31:01\nCheck completed at 2025-04-04 02:36:00\nCheck completed at 2025-04-04 02:41:00\nCheck completed at 2025-04-04 02:46:00\nCheck completed at 2025-04-04 02:51:01\nCheck completed at 2025-04-04 02:56:00\nCheck completed at 2025-04-04 03:01:01\nCheck completed at 2025-04-04 03:06:00\nCheck completed at 2025-04-04 03:11:00\nCheck completed at 2025-04-04 03:16:01\nCheck completed at 2025-04-04 03:21:00\nCheck completed at 2025-04-04 03:26:00\nCheck completed at 2025-04-04 03:31:00\nCheck completed at 2025-04-04 03:36:00\nCheck completed at 2025-04-04 03:41:00\nCheck completed at 2025-04-04 03:46:00\nCheck completed at 2025-04-04 03:51:01\nCheck completed at 2025-04-04 03:56:00\nCheck completed at 2025-04-04 04:01:00\nCheck completed at 2025-04-04 04:06:01\nCheck completed at 2025-04-04 04:11:00\nCheck completed at 2025-04-04 04:16:01\nCheck completed at 2025-04-04 04:21:00\nCheck completed at 2025-04-04 04:26:01\nCheck completed at 2025-04-04 04:31:00\nCheck completed at 2025-04-04 04:36:01\nCheck completed at 2025-04-04 04:41:00\nCheck completed at 2025-04-04 04:46:01\nCheck completed at 2025-04-04 04:51:00\nCheck completed at 2025-04-04 04:56:00\nCheck completed at 2025-04-04 05:01:01\nCheck completed at 2025-04-04 05:06:00\nCheck completed at 2025-04-04 05:11:01\nCheck completed at 2025-04-04 05:16:00\nCheck completed at 2025-04-04 05:21:00\nCheck completed at 2025-04-04 05:26:00\nCheck completed at 2025-04-04 05:31:00\nCheck completed at 2025-04-04 05:36:00\nCheck completed at 2025-04-04 05:41:00\nCheck completed at 2025-04-04 05:46:00\nCheck completed at 2025-04-04 05:51:00\nCheck completed at 2025-04-04 05:56:00\nCheck completed at 2025-04-04 06:01:00\nCheck completed at 2025-04-04 06:06:00\nCheck completed at 2025-04-04 06:11:00\nCheck completed at 2025-04-04 06:16:00\nCheck completed at 2025-04-04 06:21:00\nCheck completed at 2025-04-04 06:26:00\nCheck completed at 2025-04-04 06:31:01\nCheck completed at 2025-04-04 06:36:00\nCheck completed at 2025-04-04 06:41:00\nCheck completed at 2025-04-04 06:46:01\nCheck completed at 2025-04-04 06:51:00\nCheck completed at 2025-04-04 06:56:01\nCheck completed at 2025-04-04 07:01:00\nCheck completed at 2025-04-04 07:06:00\nCheck completed at 2025-04-04 07:11:01\nCheck completed at 2025-04-04 07:16:00\nCheck completed at 2025-04-04 07:21:00\nCheck completed at 2025-04-04 07:26:00\nCheck completed at 2025-04-04 07:31:00\nCheck completed at 2025-04-04 07:36:00\nCheck completed at 2025-04-04 07:41:01\nCheck completed at 2025-04-04 07:46:00\nCheck completed at 2025-04-04 07:51:01\nCheck completed at 2025-04-04 07:56:00\nCheck completed at 2025-04-04 08:01:00\nCheck completed at 2025-04-04 08:06:01\nCheck completed at 2025-04-04 08:11:01\nCheck completed at 2025-04-04 08:16:00\nCheck completed at 2025-04-04 08:21:00\nCheck completed at 2025-04-04 08:26:00\nCheck completed at 2025-04-04 08:31:01\nCheck completed at 2025-04-04 08:36:00\nCheck completed at 2025-04-04 08:41:00\nCheck completed at 2025-04-04 08:46:01\nCheck completed at 2025-04-04 08:51:00\nCheck completed at 2025-04-04 08:56:01\nCheck completed at 2025-04-04 09:01:00\nCheck completed at 2025-04-04 09:06:00\nCheck completed at 2025-04-04 09:11:00\nCheck completed at 2025-04-04 09:16:00\nCheck completed at 2025-04-04 09:21:00\nCheck completed at 2025-04-04 09:26:00\nCheck completed at 2025-04-04 09:31:00\nCheck completed at 2025-04-04 09:36:00\nCheck completed at 2025-04-04 09:41:01\nCheck completed at 2025-04-04 09:46:00\nCheck completed at 2025-04-04 09:51:00\nCheck completed at 2025-04-04 09:56:01\nCheck completed at 2025-04-04 10:01:00\nCheck completed at 2025-04-04 10:06:01\nCheck completed at 2025-04-04 10:11:00\nCheck completed at 2025-04-04 10:16:00\nCheck completed at 2025-04-04 10:21:00\nCheck completed at 2025-04-04 10:26:01\nCheck completed at 2025-04-04 10:31:00\nCheck completed at 2025-04-04 10:36:00\nCheck completed at 2025-04-04 10:41:00\nCheck completed at 2025-04-04 10:46:01\nCheck completed at 2025-04-04 10:51:00\nCheck completed at 2025-04-04 10:56:01\nCheck completed at 2025-04-04 11:01:00\nCheck completed at 2025-04-04 11:06:01\nCheck completed at 2025-04-04 11:11:00\nCheck completed at 2025-04-04 11:16:01\nCheck completed at 2025-04-04 11:21:00\nCheck completed at 2025-04-04 11:26:00\nCheck completed at 2025-04-04 11:31:00\nCheck completed at 2025-04-04 11:36:00\nCheck completed at 2025-04-04 11:41:00\nCheck completed at 2025-04-04 11:46:00\nCheck completed at 2025-04-04 11:51:00\nCheck completed at 2025-04-04 11:56:01\nCheck completed at 2025-04-04 12:01:00\nCheck completed at 2025-04-04 12:06:01\nCheck completed at 2025-04-04 12:11:00\nCheck completed at 2025-04-04 12:16:01\nCheck completed at 2025-04-04 12:21:00\nCheck completed at 2025-04-04 12:26:01\nCheck completed at 2025-04-04 12:31:00\nCheck completed at 2025-04-04 12:36:00\nCheck completed at 2025-04-04 12:41:01\nCheck completed at 2025-04-04 12:46:00\nCheck completed at 2025-04-04 12:51:00\nCheck completed at 2025-04-04 12:56:00\nCheck completed at 2025-04-04 13:01:01\nCheck completed at 2025-04-04 13:06:00\nCheck completed at 2025-04-04 13:11:00\nCheck completed at 2025-04-04 13:16:00\nCheck completed at 2025-04-04 13:21:01\nCheck completed at 2025-04-04 13:26:00\nCheck completed at 2025-04-04 13:31:00\nCheck completed at 2025-04-04 13:36:01\nCheck completed at 2025-04-04 13:41:00\nCheck completed at 2025-04-04 13:46:01\nCheck completed at 2025-04-04 13:51:00\nCheck completed at 2025-04-04 13:56:01\nCheck completed at 2025-04-04 14:01:00\nCheck completed at 2025-04-04 14:06:00\nCheck completed at 2025-04-04 14:11:00\nCheck completed at 2025-04-04 14:16:00\nCheck completed at 2025-04-04 14:21:00\nCheck completed at 2025-04-04 14:26:00\nCheck completed at 2025-04-04 14:31:00\nCheck completed at 2025-04-04 14:36:00\nCheck completed at 2025-04-04 14:41:00\nCheck completed at 2025-04-04 14:46:01\nCheck completed at 2025-04-04 14:51:00\nCheck completed at 2025-04-04 14:56:01\nCheck completed at 2025-04-04 15:01:00\nCheck completed at 2025-04-04 15:06:01\nCheck completed at 2025-04-04 15:11:00\nCheck completed at 2025-04-04 15:16:01\nCheck completed at 2025-04-04 15:21:00\nCheck completed at 2025-04-04 15:26:00\nCheck completed at 2025-04-04 15:31:00\nCheck completed at 2025-04-04 15:36:01\nCheck completed at 2025-04-04 15:41:00\nCheck completed at 2025-04-04 15:46:00\nCheck completed at 2025-04-04 15:51:00\nCheck completed at 2025-04-04 15:56:00\nCheck completed at 2025-04-04 16:01:00\nCheck completed at 2025-04-04 16:06:00\nCheck completed at 2025-04-04 16:11:01\nCheck completed at 2025-04-04 16:16:00\nCheck completed at 2025-04-04 16:21:01\nCheck completed at 2025-04-04 16:26:00\nCheck completed at 2025-04-04 16:31:01\nCheck completed at 2025-04-04 16:36:00\nCheck completed at 2025-04-04 16:41:00\nCheck completed at 2025-04-04 16:46:00\nCheck completed at 2025-04-04 16:51:00\nCheck completed at 2025-04-04 16:56:00\nCheck completed at 2025-04-04 17:01:00\nCheck completed at 2025-04-04 17:06:00\nCheck completed at 2025-04-04 17:11:00\nCheck completed at 2025-04-04 17:16:01\nCheck completed at 2025-04-04 17:21:00\nCheck completed at 2025-04-04 17:26:00\nCheck completed at 2025-04-04 17:31:00\nCheck completed at 2025-04-04 17:36:00\nCheck completed at 2025-04-04 17:41:00\nCheck completed at 2025-04-04 17:46:01\nCheck completed at 2025-04-04 17:51:00\nCheck completed at 2025-04-04 17:56:00\nCheck completed at 2025-04-04 18:01:00\nCheck completed at 2025-04-04 18:06:00\nCheck completed at 2025-04-04 18:11:00\nCheck completed at 2025-04-04 18:16:00\nCheck completed at 2025-04-04 18:21:01\nCheck completed at 2025-04-04 18:26:00\nCheck completed at 2025-04-04 18:31:00\nCheck completed at 2025-04-04 18:36:00\nCheck completed at 2025-04-04 18:41:01\nCheck completed at 2025-04-04 18:46:00\nCheck completed at 2025-04-04 18:51:00\nCheck completed at 2025-04-04 18:56:00\nCheck completed at 2025-04-04 19:01:00\nCheck completed at 2025-04-04 19:06:01\nCheck completed at 2025-04-04 19:11:00\nCheck completed at 2025-04-04 19:16:00\nCheck completed at 2025-04-04 19:21:00\nCheck completed at 2025-04-04 19:26:00\nCheck completed at 2025-04-04 19:31:00\nCheck completed at 2025-04-04 19:36:00\nCheck completed at 2025-04-04 19:41:00\nCheck completed at 2025-04-04 19:46:00\nCheck completed at 2025-04-04 19:51:00\nCheck completed at 2025-04-04 19:56:00\nCheck completed at 2025-04-04 20:01:00\nCheck completed at 2025-04-04 20:06:00\nCheck completed at 2025-04-04 20:11:00\nCheck completed at 2025-04-04 20:16:00\nCheck completed at 2025-04-04 20:21:00\nCheck completed at 2025-04-04 20:26:01\nCheck completed at 2025-04-04 20:31:00\nCheck completed at 2025-04-04 20:36:01\nBearish Order Eligible at this moment. \nOrder placed with order no: 943\nCheck completed at 2025-04-04 20:41:00\nBearish Order Eligible at this moment. \nOrder placed with order no: 949\nCheck completed at 2025-04-04 20:46:01\nCheck completed at 2025-04-04 20:51:01\nBearish Order Eligible at this moment. \nOrder placed with order no: 955\nCheck completed at 2025-04-04 20:56:00\nBearish Order Eligible at this moment. \nOrder placed with order no: 961\nCheck completed at 2025-04-04 21:01:00\nBearish Order Eligible at this moment. \nOrder placed with order no: 963\nCheck completed at 2025-04-04 21:06:00\nBearish Order Eligible at this moment. \nOrder placed with order no: 965\nCheck completed at 2025-04-04 21:11:00\n",
          "output_type": "stream"
        },
        {
          "output_type": "error",
          "ename": "KeyboardInterrupt",
          "evalue": "",
          "traceback": [
            "\u001b[0;31m---------------------------------------------------------------------------\u001b[0m",
            "\u001b[0;31mKeyboardInterrupt\u001b[0m                         Traceback (most recent call last)",
            "Cell \u001b[0;32mIn[7], line 4\u001b[0m\n\u001b[1;32m      2\u001b[0m \u001b[38;5;28;01mwhile\u001b[39;00m \u001b[38;5;28;01mTrue\u001b[39;00m:\n\u001b[1;32m      3\u001b[0m     schedule\u001b[38;5;241m.\u001b[39mrun_pending()\n\u001b[0;32m----> 4\u001b[0m     \u001b[43mtime\u001b[49m\u001b[38;5;241;43m.\u001b[39;49m\u001b[43msleep\u001b[49m\u001b[43m(\u001b[49m\u001b[38;5;241;43m1\u001b[39;49m\u001b[43m)\u001b[49m\n",
            "\u001b[0;31mKeyboardInterrupt\u001b[0m: "
          ]
        }
      ],
      "outputs_reference": null,
      "content_dependencies": null
    },
    {
      "cell_type": "markdown",
      "metadata": {
        "formattedRanges": [],
        "cell_id": "f62d401511d343b7875a0aa6b96bc60b",
        "deepnote_cell_type": "text-cell-h1"
      },
      "source": "# Future set up blocks",
      "block_group": "43ac2d230c1141bda2dade84e849bfd8"
    },
    {
      "cell_type": "code",
      "metadata": {
        "cell_id": "b3cb34d65cc9413cbb327435e4c77c26",
        "deepnote_cell_type": "code"
      },
      "source": "base_data['bullish_flag'] = base_data.apply(lambda x: 1 if x['bullish_1']>0.6\n                                        and x['bearish_2'] < 0.6\n                                        and x['volume'] > 300 \n                                        and x['volume'] < 800\n                                        and x['EMA_slope']>1 \n                                        and x['EMA_slope']<4 \n                                        and x['EMA_slope_60']>0\n                                        and x['move_from_bottom'] < 0.26\n                                        else 0, axis=1)\n\nbase_data['bearish_flag'] = base_data.apply(lambda x: 2 if x['bearish_2']>0.6 \n                                        and x['bullish_1'] < 0.6\n                                        and x['volume'] > 300\n                                        and x['volume'] < 800\n                                        and x['bearish_2'] >  x['bullish_1']\n                                        and x['EMA_slope'] < -1\n                                        and x['EMA_slope']>-4 \n                                        and x['EMA_slope_60']<0\n                                        and x['move_from_top'] < 0.26\n                                        else 0, axis=1)",
      "block_group": "aabb9876577449288ed5d7623549c41f",
      "execution_count": null,
      "outputs": [],
      "outputs_reference": null,
      "content_dependencies": null
    },
    {
      "cell_type": "markdown",
      "source": "<a style='text-decoration:none;line-height:16px;display:flex;color:#5B5B62;padding:10px;justify-content:end;' href='https://deepnote.com?utm_source=created-in-deepnote-cell&projectId=a127aa9e-0a77-4af9-a6ce-85e7a9b74042' target=\"_blank\">\n<img alt='Created in deepnote.com' style='display:inline;max-height:16px;margin:0px;margin-right:7.5px;' src='data:image/svg+xml;base64,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' > </img>\nCreated in <span style='font-weight:600;margin-left:4px;'>Deepnote</span></a>",
      "metadata": {
        "created_in_deepnote_cell": true,
        "deepnote_cell_type": "markdown"
      }
    }
  ],
  "nbformat": 4,
  "nbformat_minor": 0,
  "metadata": {
    "deepnote_persisted_session": {
      "createdAt": "2025-04-04T21:15:35.110Z"
    },
    "deepnote_notebook_id": "46752c9e9dd845848bc4b05645c50f58"
  }
}