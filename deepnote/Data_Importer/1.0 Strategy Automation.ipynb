{
  "cells": [
    {
      "cell_type": "code",
      "metadata": {
        "source_hash": "600e154c",
        "execution_start": 1743981598151,
        "execution_millis": 4020,
        "execution_context_id": "877e3c38-7686-489a-933d-a9bb8bf843fc",
        "cell_id": "051f8377b8c247a4941c80e87efdd609",
        "deepnote_cell_type": "code"
      },
      "source": "from Moduled_functions import get_data\nfrom Moduled_functions import tranformation\nfrom Moduled_functions import calculate_ema_slope\nfrom Moduled_functions import place_order\nfrom m_email import send_email\nimport pandas as pd\nfrom keras.models import load_model\nfrom sklearn.preprocessing import StandardScaler\nimport schedule\nimport time\nfrom datetime import datetime\nimport os\naccess_token = os.environ[\"ACCESS_TOKEN\"]\n\nbearish_model = load_model('/work/Trained_Models/FX_Bearish_model_2025-02-19.keras')\nbullish_model = load_model('/work/Trained_Models/FX_Bullish_model_2025-02-21.keras')",
      "block_group": "e011e7f7e67449c1b21244e5d1d0acb8",
      "execution_count": 1,
      "outputs": [
        {
          "name": "stderr",
          "text": "2025-04-06 23:19:59.121956: I tensorflow/core/util/port.cc:113] oneDNN custom operations are on. You may see slightly different numerical results due to floating-point round-off errors from different computation orders. To turn them off, set the environment variable `TF_ENABLE_ONEDNN_OPTS=0`.\n2025-04-06 23:19:59.125396: I external/local_tsl/tsl/cuda/cudart_stub.cc:31] Could not find cuda drivers on your machine, GPU will not be used.\n2025-04-06 23:19:59.158354: E external/local_xla/xla/stream_executor/cuda/cuda_dnn.cc:9261] Unable to register cuDNN factory: Attempting to register factory for plugin cuDNN when one has already been registered\n2025-04-06 23:19:59.158743: E external/local_xla/xla/stream_executor/cuda/cuda_fft.cc:607] Unable to register cuFFT factory: Attempting to register factory for plugin cuFFT when one has already been registered\n2025-04-06 23:19:59.159602: E external/local_xla/xla/stream_executor/cuda/cuda_blas.cc:1515] Unable to register cuBLAS factory: Attempting to register factory for plugin cuBLAS when one has already been registered\n2025-04-06 23:19:59.164809: I external/local_tsl/tsl/cuda/cudart_stub.cc:31] Could not find cuda drivers on your machine, GPU will not be used.\n2025-04-06 23:19:59.165326: I tensorflow/core/platform/cpu_feature_guard.cc:182] This TensorFlow binary is optimized to use available CPU instructions in performance-critical operations.\nTo enable the following instructions: AVX2 AVX512F AVX512_VNNI FMA, in other operations, rebuild TensorFlow with the appropriate compiler flags.\n2025-04-06 23:20:00.048849: W tensorflow/compiler/tf2tensorrt/utils/py_utils.cc:38] TF-TRT Warning: Could not find TensorRT\n",
          "output_type": "stream"
        }
      ],
      "outputs_reference": null,
      "content_dependencies": null
    },
    {
      "cell_type": "code",
      "metadata": {
        "source_hash": "c4a0e5a6",
        "is_code_hidden": true,
        "execution_start": 1743981602235,
        "execution_millis": 344,
        "is_output_hidden": true,
        "execution_context_id": "877e3c38-7686-489a-933d-a9bb8bf843fc",
        "deepnote_app_is_code_hidden": true,
        "deepnote_app_is_output_hidden": true,
        "cell_id": "00f21d7de5bc487fb721a1659115a7bc",
        "deepnote_cell_type": "code"
      },
      "source": "import os\n\n# Create directory structure\ndef create_directory_structure():\n    directories = [\n        'data',\n        'data/raw',\n        'data/processed',\n        'data/signals',\n        'data/orders',\n        'data/predictions',\n        'logs',\n        'config'\n    ]\n    \n    for directory in directories:\n        os.makedirs(directory, exist_ok=True)\n        print(f\"Created directory: {directory}\")\n\ncreate_directory_structure()",
      "block_group": "00f21d7de5bc487fb721a1659115a7bc",
      "execution_count": 2,
      "outputs": [
        {
          "name": "stdout",
          "text": "Created directory: data\nCreated directory: data/raw\nCreated directory: data/processed\nCreated directory: data/signals\nCreated directory: data/orders\nCreated directory: data/predictions\nCreated directory: logs\nCreated directory: config\n",
          "output_type": "stream"
        }
      ],
      "outputs_reference": null,
      "content_dependencies": null
    },
    {
      "cell_type": "code",
      "metadata": {
        "source_hash": "f2248899",
        "is_code_hidden": false,
        "execution_start": 1743981608138,
        "execution_millis": 174,
        "execution_context_id": "877e3c38-7686-489a-933d-a9bb8bf843fc",
        "deepnote_app_is_code_hidden": true,
        "cell_id": "adb1ed85b389463e88051db3f863e8a1",
        "deepnote_cell_type": "code"
      },
      "source": "# Combined trading system framework\nimport pandas as pd\nimport numpy as np\nfrom datetime import datetime\nimport requests\nfrom abc import ABC, abstractmethod\nimport logging\nimport json\nfrom Moduled_functions import get_data\n\n# Configure logging\nlogging.basicConfig(\n    filename='logs/trading_system.log',\n    level=logging.INFO,\n    format='%(asctime)s - %(name)s - %(levelname)s - %(message)s'\n)\nlogger = logging.getLogger('TradingSystem')\nclass BaseStrategy(ABC):\n    def __init__(self, name):\n        self.name = name\n        self.signals_path = f'data/signals/signals_{name}.csv'\n        self.trades_path = f'data/orders/trades_{name}.csv'\n        self.config_path = f'config/strategy_{name}.json'\n        self.load_config()\n    \n    def load_config(self):\n        \"\"\"Load strategy configuration\"\"\"\n        try:\n            with open(self.config_path, 'r') as f:\n                self.config = json.load(f)\n        except FileNotFoundError:\n            self.config = self.get_default_config()\n            self.save_config()\n    \n    def save_config(self):\n        \"\"\"Save strategy configuration\"\"\"\n        with open(self.config_path, 'w') as f:\n            json.dump(self.config, f, indent=4)\n    \n    @abstractmethod\n    def get_default_config(self):\n        \"\"\"Get default strategy configuration\"\"\"\n        pass\n    \n    @abstractmethod\n    def generate_signals(self, data):\n        \"\"\"Generate trading signals based on strategy logic\"\"\"\n        pass\n    \n    @abstractmethod\n    def get_order_parameters(self, current_price, signal):\n        \"\"\"Get order parameters based on strategy signal\"\"\"\n        pass\n    \n    def save_signals(self, signals_data):\n        \"\"\"Save strategy signals to history\"\"\"\n        try:\n            if os.path.exists(self.signals_path):\n                existing_signals = pd.read_csv(self.signals_path)\n                signals_data = signals_data.iloc[-1:]\n                updated_signals = pd.concat([existing_signals, signals_data])\n            else:\n                updated_signals = signals_data\n            updated_signals.to_csv(self.signals_path, index=False)\n            logger.info(f\"Signals saved for strategy {self.name}\")\n        except Exception as e:\n            logger.error(f\"Error saving signals for strategy {self.name}: {str(e)}\")\n    \n    def save_trade(self, trade_data):\n        \"\"\"Save trade details to history\"\"\"\n        try:\n            if os.path.exists(self.trades_path):\n                existing_trades = pd.read_csv(self.trades_path)\n                updated_trades = pd.concat([existing_trades, trade_data])\n            else:\n                updated_trades = trade_data\n            updated_trades.to_csv(self.trades_path, index=False)\n            logger.info(f\"Trade saved for strategy {self.name}\")\n        except Exception as e:\n            logger.error(f\"Error saving trade for strategy {self.name}: {str(e)}\")\n\nclass StrategyRegistry:\n    _strategies = {}\n    \n    @classmethod\n    def register(cls, strategy_instance):\n        \"\"\"Register a new strategy\"\"\"\n        cls._strategies[strategy_instance.name] = strategy_instance\n        logger.info(f\"Strategy registered: {strategy_instance.name}\")\n    \n    @classmethod\n    def get_strategy(cls, name):\n        \"\"\"Get a registered strategy by name\"\"\"\n        return cls._strategies.get(name)\n    \n    @classmethod\n    def get_all_strategies(cls):\n        \"\"\"Get all registered strategies\"\"\"\n        return cls._strategies",
      "block_group": "d004a156fdd64a0a98947cf34419eae7",
      "execution_count": 4,
      "outputs": [],
      "outputs_reference": null,
      "content_dependencies": null
    },
    {
      "cell_type": "code",
      "metadata": {
        "source_hash": "ade30329",
        "is_code_hidden": false,
        "execution_start": 1743981614410,
        "execution_millis": 1,
        "execution_context_id": "877e3c38-7686-489a-933d-a9bb8bf843fc",
        "deepnote_app_is_code_hidden": true,
        "cell_id": "504fb6ab52404f93a5301b732be9f788",
        "deepnote_cell_type": "code"
      },
      "source": "class DataHandler:\n    def __init__(self):\n        self.scaler = None\n        self.raw_data_path = 'data/raw/base_data.csv'\n        self.processed_data_path = 'data/processed/transformed_data.csv'\n    \n    def get_and_prepare_data(self, lookback, access_token):\n        from Moduled_functions import tranformation\n        \"\"\"Get and prepare the base data\"\"\"\n        try:\n            base_data, current_price = get_data(lookback, access_token)\n            #base_data_append=base_data.iloc[-1:]\n\n        # Read existing history\n            try:\n                existing_data = pd.read_csv(self.raw_data_path)\n                existing_data['datetime'] = pd.to_datetime(existing_data['datetime'])\n                base_data['datetime'] = pd.to_datetime(base_data['datetime'])\n                \n                \n                # Add new records\n                new_records = base_data[~base_data['datetime'].isin(existing_data['datetime'])]\n                if not new_records.empty:\n                    updated_data = pd.concat([existing_data, new_records])\n                    updated_data = updated_data.sort_values('datetime')\n                else:\n                    updated_data = existing_data\n            except FileNotFoundError:\n                updated_data = base_data\n\n            updated_data.to_csv(self.raw_data_path, index=False)\n            logger.info(f\"Raw data saved to {self.raw_data_path}\")\n            \n            base_data = tranformation(base_data, 0.0015)            \n            return base_data, current_price\n        except Exception as e:\n            logger.error(f\"Error in get_and_prepare_data: {str(e)}\")\n            raise\n    \n    def calculate_technical_indicators(self, data):\n        \"\"\"Calculate technical indicators\"\"\"\n        try:\n            data['EMA_slope'] = calculate_ema_slope(data, 'Open', 9)\n            data['EMA_slope_15'] = calculate_ema_slope(data, 'Open', 15)\n            data['EMA_slope_60'] = calculate_ema_slope(data, 'Open', 60)\n            data['deviation_'] = data['bullish_move_flag_20'] + data['bearish_move_flag_20']\n            \n            try:\n                # Read existing history\n                existing_data = pd.read_csv(self.processed_data_path)\n                existing_data['datetime'] = pd.to_datetime(existing_data['datetime'])\n                data['datetime'] = pd.to_datetime(data['datetime'])\n                # Add new records\n                new_records = data[~data['datetime'].isin(existing_data['datetime'])]\n                if not new_records.empty:\n                    data = pd.concat([existing_data, new_records])\n                    data = data.sort_values('datetime')\n                else:\n                    data = existing_data\n            except FileNotFoundError:\n                data.to_csv(self.processed_data_path, index=False)\n\n            data.to_csv(self.processed_data_path, index=False)\n\n            logger.info(f\"Processed data saved to {self.processed_data_path}\")\n            return data\n        except Exception as e:\n            logger.error(f\"Error in calculate_technical_indicators: {str(e)}\")\n            raise\n    \n    def normalize_features(self, data):\n        \"\"\"Normalize the feature data\"\"\"\n        try:\n            X = data.iloc[:,9:69]\n            y = data['deviation_']\n            \n            if self.scaler is None:\n                self.scaler = StandardScaler()\n                self.scaler.fit(X)\n            \n            X_normalized = pd.DataFrame(self.scaler.transform(X)).round(1)\n            return X_normalized, y\n        except Exception as e:\n            logger.error(f\"Error in normalize_features: {str(e)}\")\n            raise\nclass OrderManager:\n    def __init__(self, access_token):\n        self.access_token = access_token\n        #self.account_id = account_id\n        self.orders_path = 'data/orders/all_orders.csv'\n    \n    def place_order(self, current_price, stop_loss, take_profit, quantity,account_id):\n        \"\"\"Place an order\"\"\"\n        try:\n            order = place_order(\n                str(current_price),\n                str(round(stop_loss, 5)),\n                str(round(take_profit, 5)),\n                quantity,\n                self.access_token,\n                account_id\n            )\n            logger.info(f\"Order placed: {order['orderCreateTransaction'].get('id')}\")\n            return order\n        except Exception as e:\n            logger.error(f\"Error placing order: {str(e)}\")\n            raise\n    \n    def save_order(self, order_data):\n        \"\"\"Save order details to history\"\"\"\n        try:\n            if os.path.exists(self.orders_path):\n                existing_orders = pd.read_csv(self.orders_path)\n                updated_orders = pd.concat([existing_orders, order_data])\n            else:\n                updated_orders = order_data\n            updated_orders.to_csv(self.orders_path, index=False)\n            logger.info(\"Order saved to history\")\n        except Exception as e:\n            logger.error(f\"Error saving order: {str(e)}\")",
      "block_group": "98e7de400ce44087bb93324ee96e7f8e",
      "execution_count": 8,
      "outputs": [],
      "outputs_reference": null,
      "content_dependencies": null
    },
    {
      "cell_type": "code",
      "metadata": {
        "source_hash": "a95e0e65",
        "is_code_hidden": false,
        "execution_start": 1743981619476,
        "execution_millis": 0,
        "execution_context_id": "877e3c38-7686-489a-933d-a9bb8bf843fc",
        "deepnote_app_is_code_hidden": true,
        "cell_id": "eb4c0d0fba4740ee82a9e6bcc4475405",
        "deepnote_cell_type": "code"
      },
      "source": "# Let's modify the TradingSystem class to properly merge the prediction data with the base data\nclass TradingSystem:\n    def __init__(self, access_token, bearish_model, bullish_model):\n        self.data_handler = DataHandler()\n        self.order_manager = OrderManager(access_token)\n        self.predictions_data_path = 'data/predictions/predictions_data.csv'\n        \n    def execute(self, lookback=100):\n        try:\n            # Get and prepare data\n            base_data, current_price = self.data_handler.get_and_prepare_data(lookback, self.order_manager.access_token)\n            base_data = self.data_handler.calculate_technical_indicators(base_data)\n            X_normalized, y = self.data_handler.normalize_features(base_data)\n            \n            # Generate predictions\n            y_pred_bearish = bearish_model.predict(X_normalized, verbose=0)\n            #y_pred_bearish = pd.DataFrame(y_pred_bearish)\n            y_pred_bullish = bullish_model.predict(X_normalized, verbose=0)\n            #y_pred_bullish = pd.DataFrame(y_pred_bullish)\n            \n            # Combine results with datetime from base_data\n            result_combined = pd.concat([\n                base_data['datetime'].reset_index(drop=True),\n                pd.DataFrame(y_pred_bearish, columns=['bearish_0', 'bearish_1', 'bearish_2', 'bearish_3']),\n                pd.DataFrame(y_pred_bullish, columns=['bullish_0', 'bullish_1', 'bullish_2', 'bullish_3']),\n                pd.Series(y, name='y_true')\n            ], axis=1)\n            \n            try:\n                # Read existing predictions history\n                existing_preds = pd.read_csv(self.predictions_data_path)\n                existing_preds['datetime'] = pd.to_datetime(existing_preds['datetime'])\n                result_combined['datetime'] = pd.to_datetime(result_combined['datetime'])\n                \n                # Add new predictions\n                new_preds = result_combined[~result_combined['datetime'].isin(existing_preds['datetime'])]\n                if not new_preds.empty:\n                    updated_preds = pd.concat([existing_preds, new_preds])\n                    updated_preds = updated_preds.sort_values('datetime').reset_index(drop=True)\n                else:\n                    updated_preds = existing_preds\n            except FileNotFoundError:\n                updated_preds = result_combined\n            \n            updated_preds.to_csv(self.predictions_data_path, index=False)\n            \n            # Merge predictions with base data\n            base_data['datetime'] = pd.to_datetime(base_data['datetime'])\n            data_with_predictions = pd.merge(base_data, updated_preds, on='datetime', how='inner')\n            \n            # Process each strategy\n            for strategy in StrategyRegistry.get_all_strategies().values():\n                self._process_strategy(strategy, data_with_predictions, current_price)\n            \n            logger.info(f\"Execution completed at {datetime.now()}\")\n            \n        except Exception as e:\n            logger.error(f\"Error in execute: {str(e)}\")\n            raise\n    \n    def _process_strategy(self, strategy, data, current_price):\n        try:\n            # Generate signals\n            signals = strategy.generate_signals(data)\n            signals['timestamp'] = datetime.now().strftime('%Y-%m-%d %H:%M:%S')\n            strategy.save_signals(signals)\n            \n            # Check signals and execute trades\n            if not signals.empty:\n                latest_bearish = signals['bearish_flag'].iloc[-1]\n                latest_bullish = signals['bullish_flag'].iloc[-1]\n                \n                if latest_bullish == 1 and latest_bearish != 2:\n                    self._execute_trade(strategy, 1, current_price)\n                elif latest_bearish == 2 and latest_bullish != 1:\n                    self._execute_trade(strategy, 2, current_price)\n                    \n        except Exception as e:\n            logger.error(f\"Error processing strategy {strategy.name}: {str(e)}\")\n    \n    def _execute_trade(self, strategy, signal, current_price):\n        try:\n            order_params = strategy.get_order_parameters(current_price, signal)\n            if not order_params:\n                return\n            \n            order = self.order_manager.place_order(\n                current_price,\n                order_params['stop_loss'],\n                order_params['take_profit'],\n                order_params['quantity'],\n                order_params['account_id']\n            )\n            \n            order_id = order['orderCreateTransaction'].get('id')\n            order_time = order['orderCreateTransaction'].get('time')\n            account_id = order['orderCreateTransaction'].get('accountID')\n            \n            # Save trade details\n            trade_data = pd.DataFrame({\n                'Time': [order_time],\n                'Strategy': [strategy.name],\n                'Type': [order_params['type']],\n                'Quantity': [order_params['quantity']],\n                'Price': [current_price],\n                'Take_Profit': [order_params['take_profit']],\n                'Stop_Loss': [order_params['stop_loss']],\n                'Order_ID': [order_id],\n                'Account_ID': [account_id],\n            })\n            \n            strategy.save_trade(trade_data)\n            self.order_manager.save_order(trade_data)\n            \n            # Send notification\n            message = f\"{strategy.name} {order_params['type']} Order placed with order no: {order_id}\"\n            requests.get(f'https://api.day.app/iFbt9PqBdm6d2YvUT4irnN/{order_params[\"type\"]} Order Placed/{message}')\n            logger.info(message)\n            \n        except Exception as e:\n            logger.error(f\"Error executing trade for strategy {strategy.name}: {str(e)}\")\n\nprint(\"Trading system framework initialized with directory structure\")",
      "block_group": "dc265a2ae0a043018ce77028bce37b98",
      "execution_count": 10,
      "outputs": [
        {
          "name": "stdout",
          "text": "Trading system framework initialized with directory structure\n",
          "output_type": "stream"
        }
      ],
      "outputs_reference": null,
      "content_dependencies": null
    },
    {
      "cell_type": "code",
      "metadata": {
        "source_hash": "aa20c060",
        "is_code_hidden": true,
        "execution_start": 1743981628465,
        "execution_millis": 0,
        "execution_context_id": "877e3c38-7686-489a-933d-a9bb8bf843fc",
        "deepnote_app_is_code_hidden": true,
        "cell_id": "8e1f6e96a5094d3992fb9e5d9fa5839b",
        "deepnote_cell_type": "code"
      },
      "source": "# Add the missing get_order_parameters method to all strategy classes\nclass VolumeBasedStrategy(BaseStrategy):\n    def __init__(self):\n        super().__init__('volume_based')\n    \n    def get_default_config(self):\n        return {\n            'ema_slope_threshold': 450,\n            'ema_slope_15_threshold_max': 750,\n            'ema_slope_15_threshold_min': -750,\n            'ema_slope_60_threshold': 0.50,\n            'bearish_threshold_min': 0.5,\n            'bearish_threshold_max': 0.65,\n            'volume_threshold': 500,\n            'take_profit_multiplier': 1.0015,\n            'stop_loss_multiplier': 0.0005,\n            'quantity': '1000000',\n            'account_id': account_id\n        }\n    \n    def generate_signals(self, data):\n        config = self.config\n        \n        bearish_signals = data.apply(lambda x: 2 if (\n            x['bearish_2'] > config['bearish_threshold_min'] and\n            (x['EMA_slope_15'] > config['ema_slope_15_threshold_max'] or\n             x['EMA_slope_15'] < config['ema_slope_15_threshold_min']) and\n            x['volume'] > config['volume_threshold']\n        ) else 0, axis=1)\n\n        bullish_signals = data.apply(lambda x: 1 if (\n            x['bullish_1'] > config['bearish_threshold_min'] and\n            (x['EMA_slope_15'] > config['ema_slope_15_threshold_max'] or\n             x['EMA_slope_15'] < config['ema_slope_15_threshold_min']) and\n            x['volume'] > config['volume_threshold']\n        ) else 0, axis=1)\n        \n        signals = pd.DataFrame({\n            'datetime': data['datetime'],\n            'bearish_flag': bearish_signals,\n            'bullish_flag': bullish_signals\n        })\n        \n        return signals\n    \n    def get_order_parameters(self, current_price, signal):\n        config = self.config\n        \n        if signal == 1:  # Bullish\n            return {\n                'take_profit': current_price * config['take_profit_multiplier'],\n                'stop_loss': config['stop_loss_multiplier'],\n                'quantity': config['quantity'],\n                'type': 'BUY',\n                'account_id': config['account_id']\n            }\n        elif signal == 2:  # Bearish\n            return {\n                'take_profit': current_price * (1 - config['stop_loss_multiplier']),\n                'stop_loss': config['stop_loss_multiplier'],\n                'quantity': f\"-{config['quantity']}\",\n                'type': 'SELL',\n                'account_id': config['account_id']\n            }\n        return None\n\nclass VolumeBasedStrategyHedge(BaseStrategy):\n    def __init__(self):\n        super().__init__('volume_based_hedge')\n    \n    def get_default_config(self):\n        return {\n            'ema_slope_threshold': 450,\n            'ema_slope_15_threshold_max': 750,\n            'ema_slope_15_threshold_min': -750,\n            'ema_slope_60_threshold': 0.50,\n            'bearish_threshold_min': 0.5,\n            'bearish_threshold_max': 0.65,\n            'volume_threshold': 500,\n            'take_profit_multiplier': 1.0015,\n            'stop_loss_multiplier': 0.0005,\n            'quantity': '1000000',\n            'account_id': account_id\n        }\n    \n    def generate_signals(self, data):\n        config = self.config\n        \n        bearish_signals = data.apply(lambda x: 2 if (\n            x['bearish_2'] > config['bearish_threshold_min'] and\n            (x['EMA_slope_15'] > config['ema_slope_15_threshold_max'] or\n             x['EMA_slope_15'] < config['ema_slope_15_threshold_min']) and\n            x['volume'] > config['volume_threshold']\n        ) else 0, axis=1)\n\n        bullish_signals = data.apply(lambda x: 1 if (\n            x['bullish_1'] > config['bearish_threshold_min'] and\n            (x['EMA_slope_15'] > config['ema_slope_15_threshold_max'] or\n             x['EMA_slope_15'] < config['ema_slope_15_threshold_min']) and\n            x['volume'] > config['volume_threshold']\n        ) else 0, axis=1)\n\n        signals = pd.DataFrame({\n            'datetime': data['datetime'],\n            'bearish_flag': bearish_signals,\n            'bullish_flag': bullish_signals\n        })\n        \n        return signals\n    \n    def get_order_parameters(self, current_price, signal):\n        config = self.config\n        \n        if signal == 2:  # Bearish\n            return {\n                'take_profit': current_price * config['take_profit_multiplier'],\n                'stop_loss': config['stop_loss_multiplier'],\n                'quantity': config['quantity'],\n                'type': 'BUY',\n                'account_id': config['account_id']\n            }\n        elif signal == 1:  # Bullish\n            return {\n                'take_profit': current_price * (1 - config['stop_loss_multiplier']),\n                'stop_loss': config['stop_loss_multiplier'],\n                'quantity': f\"-{config['quantity']}\",\n                'type': 'SELL',\n                'account_id': config['account_id']\n            }\n        return None\n\nclass EMASlopeStrategy(BaseStrategy):\n    def __init__(self):\n        super().__init__('ema_slope')\n    \n    def get_default_config(self):\n        return {\n            'ema_slope_threshold': -0.0002,\n            'ema_slope_15_threshold': -0.0001,\n            'ema_slope_60_threshold': 0,\n            'volume_mean_5_min': 450,\n            'volume_mean_5_max': 700,\n            'bearish_threshold_min': 0.5,\n            'bearish_threshold_max': 0.65,\n            'move_from_top_min': 0.08,\n            'move_from_top_max': 0.25,\n            'move_from_bottom_min': 0.08,\n            'move_from_bottom_max': 0.25,\n            'volume_min': 450,\n            'volume_max': 700,\n            'volume_mean_3_min': 500,\n            'volume_mean_3_max': 750,\n            'take_profit_multiplier': 1.002,\n            'stop_loss_multiplier': 0.001,\n            'quantity': '500000',\n            'account_id': account_id\n        }\n    \n    def generate_signals(self, data):\n        config = self.config\n        \n        bearish_signals = data.apply(lambda x: 2 if (\n            x['volume_mean_5'] > config['volume_mean_5_min'] and\n            x['volume_mean_5'] < config['volume_mean_5_max'] and\n            x['bearish_2'] > config['bearish_threshold_min'] and\n            x['bearish_2'] < config['bearish_threshold_max'] and\n            x['move_from_top'] > config['move_from_top_min'] and\n            x['move_from_top'] < config['move_from_top_max'] and\n            x['volume'] > config['volume_min'] and\n            x['volume'] < config['volume_max'] and\n            x['volume_mean_3'] > config['volume_mean_3_min'] and\n            x['volume_mean_3'] < config['volume_mean_3_max']\n        ) else 0, axis=1)\n\n        bullish_signals = data.apply(lambda x: 1 if (\n            x['volume'] >= config['volume_min'] and\n            x['volume'] <= config['volume_max'] and\n            x['volume_mean_3'] >= config['volume_mean_3_min'] and\n            x['volume_mean_3'] <= config['volume_mean_3_max'] and\n            x['volume_mean_5'] >= config['volume_mean_5_min'] and\n            x['volume_mean_5'] <= config['volume_mean_5_max'] and\n            x['bullish_1'] >= config['bearish_threshold_min'] and\n            x['bullish_1'] <= config['bearish_threshold_max'] and\n            x['move_from_bottom'] >= config['move_from_bottom_min'] and\n            x['move_from_bottom'] <= config['move_from_bottom_max']\n        ) else 0, axis=1)\n\n        signals = pd.DataFrame({\n            'datetime': data['datetime'],\n            'bearish_flag': bearish_signals,\n            'bullish_flag': bullish_signals\n        })\n        \n        return signals\n    \n    def get_order_parameters(self, current_price, signal):\n        config = self.config\n        \n        if signal == 1:  # Bullish\n            return {\n                'take_profit': current_price * config['take_profit_multiplier'],\n                'stop_loss': config['stop_loss_multiplier'],\n                'quantity': config['quantity'],\n                'type': 'BUY',\n                'account_id': config['account_id']\n            }\n        elif signal == 2:  # Bearish\n            return {\n                'take_profit': current_price * (1 - config['stop_loss_multiplier']),\n                'stop_loss': config['stop_loss_multiplier'],\n                'quantity': f\"-{config['quantity']}\",\n                'type': 'SELL',\n                'account_id': config['account_id']\n            }\n        return None",
      "block_group": "86288f70820f4128b1cfc4b18c880480",
      "execution_count": 12,
      "outputs": [],
      "outputs_reference": null,
      "content_dependencies": null
    },
    {
      "cell_type": "code",
      "metadata": {
        "source_hash": "216eebd8",
        "execution_start": 1743981631602,
        "execution_millis": 498,
        "execution_context_id": "877e3c38-7686-489a-933d-a9bb8bf843fc",
        "cell_id": "52b1e082631d41fca8a8dd78f26dad73",
        "deepnote_cell_type": "code"
      },
      "source": "# Initialize the system\ntrading_system = TradingSystem(access_token, bearish_model, bullish_model)\n\n# Register strategies\nvolume_strategy = VolumeBasedStrategy()\nvolume_strategy_hedge = VolumeBasedStrategyHedge()\nema_strategy = EMASlopeStrategy()\n\nStrategyRegistry.register(volume_strategy)\nStrategyRegistry.register(volume_strategy_hedge)\nStrategyRegistry.register(ema_strategy)",
      "block_group": "ad04ba6aad8847a2bbc3cc519f349dab",
      "execution_count": 14,
      "outputs": [],
      "outputs_reference": null,
      "content_dependencies": null
    },
    {
      "cell_type": "code",
      "metadata": {
        "source_hash": "1c5085c4",
        "is_code_hidden": true,
        "execution_start": 1743981635155,
        "execution_millis": 4,
        "execution_context_id": "877e3c38-7686-489a-933d-a9bb8bf843fc",
        "deepnote_app_is_code_hidden": true,
        "cell_id": "6437b2eff5874155af722cb26f1d337c",
        "deepnote_cell_type": "code"
      },
      "source": "import os\n\n# Check if logs directory exists and create if not\nlog_dir = 'logs'\nif not os.path.exists(log_dir):\n    os.makedirs(log_dir)\n\n# Test if log file is being written\nimport logging\n\n# Configure logging with both file and console handlers\nlogger = logging.getLogger('TradingSystem')\nlogger.setLevel(logging.INFO)\n\n# Clear any existing handlers\nlogger.handlers = []\n\n# Create file handler\nfile_handler = logging.FileHandler('logs/trading_system.log')\nfile_handler.setLevel(logging.INFO)\nfile_formatter = logging.Formatter('%(asctime)s - %(name)s - %(levelname)s - %(message)s')\nfile_handler.setFormatter(file_formatter)\n\n# Create console handler\nconsole_handler = logging.StreamHandler()\nconsole_handler.setLevel(logging.INFO)\nconsole_formatter = logging.Formatter('%(asctime)s - %(levelname)s - %(message)s')\nconsole_handler.setFormatter(console_formatter)\n\n# Add both handlers to logger\nlogger.addHandler(file_handler)\nlogger.addHandler(console_handler)\n\n# Test logging\nlogger.info(\"Test log message - checking if logging is working\")\n\n# Read and display the last few lines of the log file\ntry:\n    with open('logs/trading_system.log', 'r') as f:\n        last_lines = f.readlines()[-5:]  # Get last 5 lines\n        print(\"\\nLast few lines from log file:\")\n        for line in last_lines:\n            print(line.strip())\nexcept FileNotFoundError:\n    print(\"Log file not found!\")\nexcept Exception as e:\n    print(f\"Error reading log file: {str(e)}\")",
      "block_group": "7721ec0d405c4fb48da03c0d4d969f38",
      "execution_count": 16,
      "outputs": [
        {
          "name": "stderr",
          "text": "2025-04-06 23:20:35,154 - INFO - Test log message - checking if logging is working\n\nLast few lines from log file:\n2025-04-06 23:20:32,095 - TradingSystem - INFO - Strategy registered: volume_based\n2025-04-06 23:20:32,096 - TradingSystem - INFO - Strategy registered: volume_based_hedge\n2025-04-06 23:20:32,096 - TradingSystem - INFO - Strategy registered: ema_slope\n2025-04-06 23:20:35,154 - TradingSystem - INFO - Test log message - checking if logging is working\n2025-04-06 23:20:35,154 - TradingSystem - INFO - Test log message - checking if logging is working\n",
          "output_type": "stream"
        }
      ],
      "outputs_reference": null,
      "content_dependencies": null
    },
    {
      "cell_type": "code",
      "metadata": {
        "source_hash": "6d0ee7c5",
        "execution_start": 1743981638771,
        "execution_millis": 1,
        "execution_context_id": "877e3c38-7686-489a-933d-a9bb8bf843fc",
        "cell_id": "8d39940b102940aeb0c3f0af5595cba2",
        "deepnote_cell_type": "code"
      },
      "source": "def job():\n    trading_system.execute(lookback=100)",
      "block_group": "e7eb13f062ac44c891b1a1eef3ec8e2b",
      "execution_count": 18,
      "outputs": [],
      "outputs_reference": null,
      "content_dependencies": null
    },
    {
      "cell_type": "code",
      "metadata": {
        "source_hash": "5d116ed6",
        "execution_start": 1743981640314,
        "execution_millis": 0,
        "execution_context_id": "877e3c38-7686-489a-933d-a9bb8bf843fc",
        "cell_id": "e38c3775cbce4c98bd5308a3decf99f0",
        "deepnote_cell_type": "code"
      },
      "source": "# Set up the schedule to run at specified intervals\nfor minute in [1, 6, 11, 16, 21, 26, 31, 36, 41, 46, 51, 56]:\n    schedule.every().hour.at(f\":{minute:02d}\").do(job)",
      "block_group": "f26de8f42aeb4038a9c514548e1604a1",
      "execution_count": 20,
      "outputs": [],
      "outputs_reference": null,
      "content_dependencies": null
    },
    {
      "cell_type": "code",
      "metadata": {
        "source_hash": "9db07433",
        "execution_start": 1743981723657,
        "execution_millis": 137117,
        "execution_context_id": "877e3c38-7686-489a-933d-a9bb8bf843fc",
        "cell_id": "e2b75dd7944840a6aec43f6b1881fad2",
        "deepnote_cell_type": "code"
      },
      "source": "print(\"Starting the trading bot...\")\nwhile True:\n    schedule.run_pending()\n    time.sleep(1)",
      "block_group": "3472ca3e039440d184c51551be756c4a",
      "execution_count": null,
      "outputs": [
        {
          "name": "stdout",
          "text": "Starting the trading bot...\n2025-04-06 23:22:04,292 - INFO - Raw data saved to data/raw/base_data.csv\n2025-04-06 23:22:04,880 - INFO - Processed data saved to data/processed/transformed_data.csv\n2025-04-06 23:22:05,714 - INFO - Signals saved for strategy volume_based\n2025-04-06 23:22:06,145 - INFO - Signals saved for strategy volume_based_hedge\n2025-04-06 23:22:06,606 - INFO - Signals saved for strategy ema_slope\n2025-04-06 23:22:06,607 - INFO - Execution completed at 2025-04-06 23:22:06.607433\n",
          "output_type": "stream"
        }
      ],
      "outputs_reference": null,
      "content_dependencies": null
    },
    {
      "cell_type": "code",
      "metadata": {
        "source_hash": "72be2955",
        "execution_start": 1743981645413,
        "execution_millis": 237,
        "execution_context_id": "877e3c38-7686-489a-933d-a9bb8bf843fc",
        "cell_id": "ab0d163f93ba496283c048ed0111ca58",
        "deepnote_cell_type": "code"
      },
      "source": "pp = pd.read_csv('/work/data/predictions/predictions_data.csv')",
      "block_group": "318580d5fc1a4853900a9dfb915cf419",
      "execution_count": 22,
      "outputs": [],
      "outputs_reference": null,
      "content_dependencies": null
    },
    {
      "cell_type": "code",
      "metadata": {
        "source_hash": "ea22fc4d",
        "execution_start": 1743981661408,
        "execution_millis": 1,
        "deepnote_table_state": {
          "sortBy": [],
          "filters": [],
          "pageSize": 10,
          "pageIndex": 51,
          "columnOrder": [
            "datetime",
            "bearish_0",
            "bearish_1",
            "bearish_2",
            "bearish_3",
            "bullish_0",
            "bullish_1",
            "bullish_2",
            "bullish_3",
            "y_true"
          ],
          "hiddenColumnIds": [],
          "columnDisplayNames": [],
          "conditionalFilters": [],
          "cellFormattingRules": [],
          "wrappedTextColumnIds": []
        },
        "execution_context_id": "877e3c38-7686-489a-933d-a9bb8bf843fc",
        "deepnote_table_loading": false,
        "cell_id": "f5195ca0e2144124b1df86b3a24e9a5d",
        "deepnote_cell_type": "code"
      },
      "source": "pp = pp.iloc[:-12]",
      "block_group": "b36ed0f6aca449d8be77be6caec75276",
      "execution_count": 26,
      "outputs": [],
      "outputs_reference": null,
      "content_dependencies": null
    },
    {
      "cell_type": "code",
      "metadata": {
        "source_hash": "14b36613",
        "execution_start": 1743981663564,
        "execution_millis": 431,
        "execution_context_id": "877e3c38-7686-489a-933d-a9bb8bf843fc",
        "cell_id": "74aa9596445b45c1b02a6ce210e5769f",
        "deepnote_cell_type": "code"
      },
      "source": "pp.to_csv('/work/data/predictions/predictions_data.csv',index=False)",
      "block_group": "fcb8d356bde144568b12cc1d6695a221",
      "execution_count": 28,
      "outputs": [],
      "outputs_reference": null,
      "content_dependencies": null
    },
    {
      "cell_type": "code",
      "metadata": {
        "source_hash": "5a1db732",
        "execution_start": 1743981667918,
        "execution_millis": 1062,
        "execution_context_id": "877e3c38-7686-489a-933d-a9bb8bf843fc",
        "cell_id": "be846b74600446079d58b04e31e9a14f",
        "deepnote_cell_type": "code"
      },
      "source": "data_handler = DataHandler()\nbase_data, current_price = data_handler.get_and_prepare_data(100, access_token)\nbase_data = data_handler.calculate_technical_indicators(base_data)\nX_normalized, y = data_handler.normalize_features(base_data)\n",
      "block_group": "c5cac4cc13134c149776999bef9e4279",
      "execution_count": 30,
      "outputs": [
        {
          "name": "stderr",
          "text": "2025-04-06 23:21:08,361 - INFO - Raw data saved to data/raw/base_data.csv\n2025-04-06 23:21:08,972 - INFO - Processed data saved to data/processed/transformed_data.csv\n",
          "output_type": "stream"
        }
      ],
      "outputs_reference": null,
      "content_dependencies": null
    },
    {
      "cell_type": "code",
      "metadata": {
        "source_hash": "305c5e5f",
        "execution_start": 1743981708801,
        "execution_millis": 129,
        "execution_context_id": "877e3c38-7686-489a-933d-a9bb8bf843fc",
        "cell_id": "426c675df1b349e9be6f4e463b0a50ea",
        "deepnote_cell_type": "code"
      },
      "source": "# Generate predictions\ny_pred_bearish = bearish_model.predict(X_normalized, verbose=0)\n#y_pred_bearish = pd.DataFrame(y_pred_bearish)\ny_pred_bullish = bullish_model.predict(X_normalized, verbose=0)\n#y_pred_bullish = pd.DataFrame(y_pred_bullish)\n\n# Combine results with datetime from base_data\nresult_combined = pd.concat([\n    base_data['datetime'].reset_index(drop=True),\n    pd.DataFrame(y_pred_bearish, columns=['bearish_0', 'bearish_1', 'bearish_2', 'bearish_3']),\n    pd.DataFrame(y_pred_bullish, columns=['bullish_0', 'bullish_1', 'bullish_2', 'bullish_3'])\n], axis=1)",
      "block_group": "2186265d682d4f53af20bd025b76d6e0",
      "execution_count": 36,
      "outputs": [],
      "outputs_reference": null,
      "content_dependencies": null
    },
    {
      "cell_type": "code",
      "metadata": {
        "source_hash": "de632dbc",
        "execution_start": 1743981711925,
        "execution_millis": 1,
        "deepnote_table_state": {
          "sortBy": [],
          "filters": [],
          "pageSize": 10,
          "pageIndex": 52,
          "columnOrder": [
            "datetime",
            "bearish_0",
            "bearish_1",
            "bearish_2",
            "bearish_3",
            "bullish_0",
            "bullish_1",
            "bullish_2",
            "bullish_3",
            "y_true"
          ],
          "hiddenColumnIds": [],
          "columnDisplayNames": [],
          "conditionalFilters": [],
          "cellFormattingRules": [],
          "wrappedTextColumnIds": []
        },
        "execution_context_id": "877e3c38-7686-489a-933d-a9bb8bf843fc",
        "deepnote_table_loading": false,
        "cell_id": "24389c3519ed4d91ad1f1c92f0de42e5",
        "deepnote_cell_type": "code"
      },
      "source": "result_combined",
      "block_group": "8f7aa158fcb44aa0b98056391163c545",
      "execution_count": 38,
      "outputs": [
        {
          "output_type": "execute_result",
          "execution_count": 38,
          "data": {
            "application/vnd.deepnote.dataframe.v3+json": {
              "column_count": 9,
              "row_count": 528,
              "columns": [
                {
                  "name": "datetime",
                  "dtype": "datetime64[ns, UTC]",
                  "stats": {
                    "unique_count": 528,
                    "nan_count": 0,
                    "min": "2025-04-03 03:20:00+00:00",
                    "max": "2025-04-06 23:15:00+00:00",
                    "histogram": [
                      {
                        "bin_start": 1743650400000000000,
                        "bin_end": 1743683490000000000,
                        "count": 111
                      },
                      {
                        "bin_start": 1743683490000000000,
                        "bin_end": 1743716580000000000,
                        "count": 110
                      },
                      {
                        "bin_start": 1743716580000000000,
                        "bin_end": 1743749670000000000,
                        "count": 110
                      },
                      {
                        "bin_start": 1743749670000000000,
                        "bin_end": 1743782760000000000,
                        "count": 111
                      },
                      {
                        "bin_start": 1743782760000000000,
                        "bin_end": 1743815850000000000,
                        "count": 58
                      },
                      {
                        "bin_start": 1743815850000000000,
                        "bin_end": 1743848940000000000,
                        "count": 0
                      },
                      {
                        "bin_start": 1743848940000000000,
                        "bin_end": 1743882030000000000,
                        "count": 0
                      },
                      {
                        "bin_start": 1743882030000000000,
                        "bin_end": 1743915120000000000,
                        "count": 0
                      },
                      {
                        "bin_start": 1743915120000000000,
                        "bin_end": 1743948210000000000,
                        "count": 0
                      },
                      {
                        "bin_start": 1743948210000000000,
                        "bin_end": 1743981300000000000,
                        "count": 28
                      }
                    ]
                  }
                },
                {
                  "name": "bearish_0",
                  "dtype": "float32",
                  "stats": {
                    "unique_count": 465,
                    "nan_count": 0,
                    "min": "0.28888756036758423",
                    "max": "0.6057644486427307",
                    "histogram": [
                      {
                        "bin_start": 0.28888756036758423,
                        "bin_end": 0.3205752372741699,
                        "count": 22
                      },
                      {
                        "bin_start": 0.3205752372741699,
                        "bin_end": 0.352262943983078,
                        "count": 27
                      },
                      {
                        "bin_start": 0.352262943983078,
                        "bin_end": 0.3839506208896637,
                        "count": 44
                      },
                      {
                        "bin_start": 0.3839506208896637,
                        "bin_end": 0.4156383275985718,
                        "count": 40
                      },
                      {
                        "bin_start": 0.4156383275985718,
                        "bin_end": 0.44732600450515747,
                        "count": 57
                      },
                      {
                        "bin_start": 0.44732600450515747,
                        "bin_end": 0.47901368141174316,
                        "count": 59
                      },
                      {
                        "bin_start": 0.47901368141174316,
                        "bin_end": 0.5107013583183289,
                        "count": 42
                      },
                      {
                        "bin_start": 0.5107013583183289,
                        "bin_end": 0.5423890948295593,
                        "count": 48
                      },
                      {
                        "bin_start": 0.5423890948295593,
                        "bin_end": 0.574076771736145,
                        "count": 54
                      },
                      {
                        "bin_start": 0.574076771736145,
                        "bin_end": 0.6057644486427307,
                        "count": 135
                      }
                    ]
                  }
                },
                {
                  "name": "bearish_1",
                  "dtype": "float32",
                  "stats": {
                    "unique_count": 465,
                    "nan_count": 0,
                    "min": "9.495254582603252e-11",
                    "max": "1.0309043202427759e-10",
                    "histogram": [
                      {
                        "bin_start": 9.495254582603252e-11,
                        "bin_end": 9.576633236418886e-11,
                        "count": 3
                      },
                      {
                        "bin_start": 9.576633236418886e-11,
                        "bin_end": 9.65801258412391e-11,
                        "count": 5
                      },
                      {
                        "bin_start": 9.65801258412391e-11,
                        "bin_end": 9.739391237939543e-11,
                        "count": 13
                      },
                      {
                        "bin_start": 9.739391237939543e-11,
                        "bin_end": 9.820769891755177e-11,
                        "count": 12
                      },
                      {
                        "bin_start": 9.820769891755177e-11,
                        "bin_end": 9.90214854557081e-11,
                        "count": 13
                      },
                      {
                        "bin_start": 9.90214854557081e-11,
                        "bin_end": 9.983527893275834e-11,
                        "count": 10
                      },
                      {
                        "bin_start": 9.983527893275834e-11,
                        "bin_end": 1.0064906547091468e-10,
                        "count": 118
                      },
                      {
                        "bin_start": 1.0064906547091468e-10,
                        "bin_end": 1.0146285200907101e-10,
                        "count": 68
                      },
                      {
                        "bin_start": 1.0146285200907101e-10,
                        "bin_end": 1.0227664548612125e-10,
                        "count": 82
                      },
                      {
                        "bin_start": 1.0227664548612125e-10,
                        "bin_end": 1.0309043202427759e-10,
                        "count": 204
                      }
                    ]
                  }
                },
                {
                  "name": "bearish_2",
                  "dtype": "float32",
                  "stats": {
                    "unique_count": 465,
                    "nan_count": 0,
                    "min": "0.3942354917526245",
                    "max": "0.7111124396324158",
                    "histogram": [
                      {
                        "bin_start": 0.3942354917526245,
                        "bin_end": 0.4259231984615326,
                        "count": 135
                      },
                      {
                        "bin_start": 0.4259231984615326,
                        "bin_end": 0.4576108753681183,
                        "count": 54
                      },
                      {
                        "bin_start": 0.4576108753681183,
                        "bin_end": 0.48929858207702637,
                        "count": 48
                      },
                      {
                        "bin_start": 0.48929858207702637,
                        "bin_end": 0.5209862589836121,
                        "count": 42
                      },
                      {
                        "bin_start": 0.5209862589836121,
                        "bin_end": 0.5526739358901978,
                        "count": 59
                      },
                      {
                        "bin_start": 0.5526739358901978,
                        "bin_end": 0.5843616724014282,
                        "count": 57
                      },
                      {
                        "bin_start": 0.5843616724014282,
                        "bin_end": 0.6160493493080139,
                        "count": 40
                      },
                      {
                        "bin_start": 0.6160493493080139,
                        "bin_end": 0.6477370262145996,
                        "count": 44
                      },
                      {
                        "bin_start": 0.6477370262145996,
                        "bin_end": 0.6794247627258301,
                        "count": 27
                      },
                      {
                        "bin_start": 0.6794247627258301,
                        "bin_end": 0.7111124396324158,
                        "count": 22
                      }
                    ]
                  }
                },
                {
                  "name": "bearish_3",
                  "dtype": "float32",
                  "stats": {
                    "unique_count": 465,
                    "nan_count": 0,
                    "min": "9.495254582603252e-11",
                    "max": "1.0309043202427759e-10",
                    "histogram": [
                      {
                        "bin_start": 9.495254582603252e-11,
                        "bin_end": 9.576633236418886e-11,
                        "count": 3
                      },
                      {
                        "bin_start": 9.576633236418886e-11,
                        "bin_end": 9.65801258412391e-11,
                        "count": 5
                      },
                      {
                        "bin_start": 9.65801258412391e-11,
                        "bin_end": 9.739391237939543e-11,
                        "count": 13
                      },
                      {
                        "bin_start": 9.739391237939543e-11,
                        "bin_end": 9.820769891755177e-11,
                        "count": 12
                      },
                      {
                        "bin_start": 9.820769891755177e-11,
                        "bin_end": 9.90214854557081e-11,
                        "count": 13
                      },
                      {
                        "bin_start": 9.90214854557081e-11,
                        "bin_end": 9.983527893275834e-11,
                        "count": 10
                      },
                      {
                        "bin_start": 9.983527893275834e-11,
                        "bin_end": 1.0064906547091468e-10,
                        "count": 118
                      },
                      {
                        "bin_start": 1.0064906547091468e-10,
                        "bin_end": 1.0146285200907101e-10,
                        "count": 68
                      },
                      {
                        "bin_start": 1.0146285200907101e-10,
                        "bin_end": 1.0227664548612125e-10,
                        "count": 82
                      },
                      {
                        "bin_start": 1.0227664548612125e-10,
                        "bin_end": 1.0309043202427759e-10,
                        "count": 204
                      }
                    ]
                  }
                },
                {
                  "name": "bullish_0",
                  "dtype": "float32",
                  "stats": {
                    "unique_count": 469,
                    "nan_count": 0,
                    "min": "0.26026374101638794",
                    "max": "0.6581428647041321",
                    "histogram": [
                      {
                        "bin_start": 0.26026374101638794,
                        "bin_end": 0.30005165934562683,
                        "count": 7
                      },
                      {
                        "bin_start": 0.30005165934562683,
                        "bin_end": 0.3398395776748657,
                        "count": 21
                      },
                      {
                        "bin_start": 0.3398395776748657,
                        "bin_end": 0.3796274662017822,
                        "count": 45
                      },
                      {
                        "bin_start": 0.3796274662017822,
                        "bin_end": 0.4194153845310211,
                        "count": 71
                      },
                      {
                        "bin_start": 0.4194153845310211,
                        "bin_end": 0.45920330286026,
                        "count": 85
                      },
                      {
                        "bin_start": 0.45920330286026,
                        "bin_end": 0.4989912211894989,
                        "count": 53
                      },
                      {
                        "bin_start": 0.4989912211894989,
                        "bin_end": 0.5387791395187378,
                        "count": 46
                      },
                      {
                        "bin_start": 0.5387791395187378,
                        "bin_end": 0.5785670280456543,
                        "count": 55
                      },
                      {
                        "bin_start": 0.5785670280456543,
                        "bin_end": 0.6183549761772156,
                        "count": 60
                      },
                      {
                        "bin_start": 0.6183549761772156,
                        "bin_end": 0.6581428647041321,
                        "count": 85
                      }
                    ]
                  }
                },
                {
                  "name": "bullish_1",
                  "dtype": "float32",
                  "stats": {
                    "unique_count": 469,
                    "nan_count": 0,
                    "min": "0.3418571352958679",
                    "max": "0.7397362589836121",
                    "histogram": [
                      {
                        "bin_start": 0.3418571352958679,
                        "bin_end": 0.3816450536251068,
                        "count": 85
                      },
                      {
                        "bin_start": 0.3816450536251068,
                        "bin_end": 0.4214329719543457,
                        "count": 60
                      },
                      {
                        "bin_start": 0.4214329719543457,
                        "bin_end": 0.4612208604812622,
                        "count": 55
                      },
                      {
                        "bin_start": 0.4612208604812622,
                        "bin_end": 0.5010088086128235,
                        "count": 46
                      },
                      {
                        "bin_start": 0.5010088086128235,
                        "bin_end": 0.54079669713974,
                        "count": 53
                      },
                      {
                        "bin_start": 0.54079669713974,
                        "bin_end": 0.5805845856666565,
                        "count": 85
                      },
                      {
                        "bin_start": 0.5805845856666565,
                        "bin_end": 0.6203725337982178,
                        "count": 71
                      },
                      {
                        "bin_start": 0.6203725337982178,
                        "bin_end": 0.6601604223251343,
                        "count": 45
                      },
                      {
                        "bin_start": 0.6601604223251343,
                        "bin_end": 0.6999483704566956,
                        "count": 21
                      },
                      {
                        "bin_start": 0.6999483704566956,
                        "bin_end": 0.7397362589836121,
                        "count": 7
                      }
                    ]
                  }
                },
                {
                  "name": "bullish_2",
                  "dtype": "float32",
                  "stats": {
                    "unique_count": 469,
                    "nan_count": 0,
                    "min": "1.1534560112602676e-10",
                    "max": "1.2953363381917882e-10",
                    "histogram": [
                      {
                        "bin_start": 1.1534560112602676e-10,
                        "bin_end": 1.1676440370145258e-10,
                        "count": 1
                      },
                      {
                        "bin_start": 1.1676440370145258e-10,
                        "bin_end": 1.181832132157723e-10,
                        "count": 1
                      },
                      {
                        "bin_start": 1.181832132157723e-10,
                        "bin_end": 1.196020088523042e-10,
                        "count": 4
                      },
                      {
                        "bin_start": 1.196020088523042e-10,
                        "bin_end": 1.2102081836662393e-10,
                        "count": 2
                      },
                      {
                        "bin_start": 1.2102081836662393e-10,
                        "bin_end": 1.2243961400315584e-10,
                        "count": 67
                      },
                      {
                        "bin_start": 1.2243961400315584e-10,
                        "bin_end": 1.2385842351747556e-10,
                        "count": 23
                      },
                      {
                        "bin_start": 1.2385842351747556e-10,
                        "bin_end": 1.2527721915400747e-10,
                        "count": 32
                      },
                      {
                        "bin_start": 1.2527721915400747e-10,
                        "bin_end": 1.266960286683272e-10,
                        "count": 70
                      },
                      {
                        "bin_start": 1.266960286683272e-10,
                        "bin_end": 1.281148243048591e-10,
                        "count": 104
                      },
                      {
                        "bin_start": 1.281148243048591e-10,
                        "bin_end": 1.2953363381917882e-10,
                        "count": 224
                      }
                    ]
                  }
                },
                {
                  "name": "bullish_3",
                  "dtype": "float32",
                  "stats": {
                    "unique_count": 469,
                    "nan_count": 0,
                    "min": "1.1540589317515781e-10",
                    "max": "1.2960085782331987e-10",
                    "histogram": [
                      {
                        "bin_start": 1.1540589317515781e-10,
                        "bin_end": 1.1682538270108012e-10,
                        "count": 1
                      },
                      {
                        "bin_start": 1.1682538270108012e-10,
                        "bin_end": 1.1824488610479023e-10,
                        "count": 1
                      },
                      {
                        "bin_start": 1.1824488610479023e-10,
                        "bin_end": 1.1966438950850034e-10,
                        "count": 4
                      },
                      {
                        "bin_start": 1.1966438950850034e-10,
                        "bin_end": 1.2108387903442264e-10,
                        "count": 2
                      },
                      {
                        "bin_start": 1.2108387903442264e-10,
                        "bin_end": 1.2250336856034494e-10,
                        "count": 67
                      },
                      {
                        "bin_start": 1.2250336856034494e-10,
                        "bin_end": 1.2392287196405505e-10,
                        "count": 23
                      },
                      {
                        "bin_start": 1.2392287196405505e-10,
                        "bin_end": 1.2534237536776516e-10,
                        "count": 32
                      },
                      {
                        "bin_start": 1.2534237536776516e-10,
                        "bin_end": 1.2676186489368746e-10,
                        "count": 70
                      },
                      {
                        "bin_start": 1.2676186489368746e-10,
                        "bin_end": 1.2818135441960976e-10,
                        "count": 104
                      },
                      {
                        "bin_start": 1.2818135441960976e-10,
                        "bin_end": 1.2960085782331987e-10,
                        "count": 224
                      }
                    ]
                  }
                },
                {
                  "name": "_deepnote_index_column",
                  "dtype": "int64"
                }
              ],
              "rows": [
                {
                  "datetime": "2025-04-06 22:40:00+00:00",
                  "bearish_0": 0.4253869652748108,
                  "bearish_1": 1.0243631637374406e-10,
                  "bearish_2": 0.5746130347251892,
                  "bearish_3": 1.0243631637374406e-10,
                  "bullish_0": 0.47247835993766785,
                  "bullish_1": 0.527521550655365,
                  "bullish_2": 1.2948808691959357e-10,
                  "bullish_3": 1.295552692903712e-10,
                  "_deepnote_index_column": 520
                },
                {
                  "datetime": "2025-04-06 22:45:00+00:00",
                  "bearish_0": 0.5101091861724854,
                  "bearish_1": 1.0292375285381183e-10,
                  "bearish_2": 0.48989081382751465,
                  "bearish_3": 1.0292375285381183e-10,
                  "bullish_0": 0.4744170308113098,
                  "bullish_1": 0.5255829095840454,
                  "bullish_2": 1.2950035488401568e-10,
                  "bullish_3": 1.2956756501036892e-10,
                  "_deepnote_index_column": 521
                },
                {
                  "datetime": "2025-04-06 22:50:00+00:00",
                  "bearish_0": 0.44681820273399353,
                  "bearish_1": 1.0284149226658101e-10,
                  "bearish_2": 0.5531817674636841,
                  "bearish_3": 1.0284149226658101e-10,
                  "bullish_0": 0.4839077293872833,
                  "bullish_1": 0.5160922408103943,
                  "bullish_2": 1.2953275951854692e-10,
                  "bullish_3": 1.2959996964490017e-10,
                  "_deepnote_index_column": 522
                },
                {
                  "datetime": "2025-04-06 22:55:00+00:00",
                  "bearish_0": 0.48713088035583496,
                  "bearish_1": 1.0308428416427873e-10,
                  "bearish_2": 0.5128691792488098,
                  "bearish_3": 1.0308428416427873e-10,
                  "bullish_0": 0.49389681220054626,
                  "bullish_1": 0.5061032176017761,
                  "bullish_2": 1.2951616168432878e-10,
                  "bullish_3": 1.2958338568846983e-10,
                  "_deepnote_index_column": 523
                },
                {
                  "datetime": "2025-04-06 23:00:00+00:00",
                  "bearish_0": 0.5189141631126404,
                  "bearish_1": 1.0280495899017694e-10,
                  "bearish_2": 0.48108580708503723,
                  "bearish_3": 1.0280495899017694e-10,
                  "bullish_0": 0.464450865983963,
                  "bullish_1": 0.5355491042137146,
                  "bullish_2": 1.2941579752290266e-10,
                  "bullish_3": 1.2948321581607303e-10,
                  "_deepnote_index_column": 524
                },
                {
                  "datetime": "2025-04-06 23:05:00+00:00",
                  "bearish_0": 0.48210451006889343,
                  "bearish_1": 1.0309043202427759e-10,
                  "bearish_2": 0.5178955793380737,
                  "bearish_3": 1.0309043202427759e-10,
                  "bullish_0": 0.46558883786201477,
                  "bullish_1": 0.5344111323356628,
                  "bullish_2": 1.2942784344271985e-10,
                  "bullish_3": 1.2949549765828294e-10,
                  "_deepnote_index_column": 525
                },
                {
                  "datetime": "2025-04-06 23:10:00+00:00",
                  "bearish_0": 0.39077314734458923,
                  "bearish_1": 1.0136552014428091e-10,
                  "bearish_2": 0.6092268824577332,
                  "bearish_3": 1.0136552014428091e-10,
                  "bullish_0": 0.4601815342903137,
                  "bullish_1": 0.5398184657096863,
                  "bullish_2": 1.2936372806304774e-10,
                  "bullish_3": 1.2943086880046195e-10,
                  "_deepnote_index_column": 526
                },
                {
                  "datetime": "2025-04-06 23:15:00+00:00",
                  "bearish_0": 0.47705647349357605,
                  "bearish_1": 1.030861992989962e-10,
                  "bearish_2": 0.5229434967041016,
                  "bearish_3": 1.030861992989962e-10,
                  "bullish_0": 0.38715291023254395,
                  "bullish_1": 0.612847089767456,
                  "bullish_2": 1.2697369544678594e-10,
                  "bullish_3": 1.2703957330550963e-10,
                  "_deepnote_index_column": 527
                }
              ],
              "type": "dataframe"
            },
            "text/plain": "                     datetime  bearish_0     bearish_1  bearish_2  \\\n0   2025-04-03 03:20:00+00:00   0.605764  9.990175e-11   0.394235   \n1   2025-04-03 03:25:00+00:00   0.605764  9.990175e-11   0.394235   \n2   2025-04-03 03:30:00+00:00   0.605764  9.990175e-11   0.394235   \n3   2025-04-03 03:35:00+00:00   0.605764  9.990175e-11   0.394235   \n4   2025-04-03 03:40:00+00:00   0.605764  9.990175e-11   0.394235   \n..                        ...        ...           ...        ...   \n523 2025-04-06 22:55:00+00:00   0.487131  1.030843e-10   0.512869   \n524 2025-04-06 23:00:00+00:00   0.518914  1.028050e-10   0.481086   \n525 2025-04-06 23:05:00+00:00   0.482105  1.030904e-10   0.517896   \n526 2025-04-06 23:10:00+00:00   0.390773  1.013655e-10   0.609227   \n527 2025-04-06 23:15:00+00:00   0.477056  1.030862e-10   0.522943   \n\n        bearish_3  bullish_0  bullish_1     bullish_2     bullish_3  \n0    9.990175e-11   0.658143   0.341857  1.216900e-10  1.217527e-10  \n1    9.990175e-11   0.658143   0.341857  1.216900e-10  1.217527e-10  \n2    9.990175e-11   0.658143   0.341857  1.216900e-10  1.217527e-10  \n3    9.990175e-11   0.658143   0.341857  1.216900e-10  1.217527e-10  \n4    9.990175e-11   0.658143   0.341857  1.216900e-10  1.217527e-10  \n..            ...        ...        ...           ...           ...  \n523  1.030843e-10   0.493897   0.506103  1.295162e-10  1.295834e-10  \n524  1.028050e-10   0.464451   0.535549  1.294158e-10  1.294832e-10  \n525  1.030904e-10   0.465589   0.534411  1.294278e-10  1.294955e-10  \n526  1.013655e-10   0.460182   0.539818  1.293637e-10  1.294309e-10  \n527  1.030862e-10   0.387153   0.612847  1.269737e-10  1.270396e-10  \n\n[528 rows x 9 columns]",
            "text/html": "<div>\n<style scoped>\n    .dataframe tbody tr th:only-of-type {\n        vertical-align: middle;\n    }\n\n    .dataframe tbody tr th {\n        vertical-align: top;\n    }\n\n    .dataframe thead th {\n        text-align: right;\n    }\n</style>\n<table border=\"1\" class=\"dataframe\">\n  <thead>\n    <tr style=\"text-align: right;\">\n      <th></th>\n      <th>datetime</th>\n      <th>bearish_0</th>\n      <th>bearish_1</th>\n      <th>bearish_2</th>\n      <th>bearish_3</th>\n      <th>bullish_0</th>\n      <th>bullish_1</th>\n      <th>bullish_2</th>\n      <th>bullish_3</th>\n    </tr>\n  </thead>\n  <tbody>\n    <tr>\n      <th>0</th>\n      <td>2025-04-03 03:20:00+00:00</td>\n      <td>0.605764</td>\n      <td>9.990175e-11</td>\n      <td>0.394235</td>\n      <td>9.990175e-11</td>\n      <td>0.658143</td>\n      <td>0.341857</td>\n      <td>1.216900e-10</td>\n      <td>1.217527e-10</td>\n    </tr>\n    <tr>\n      <th>1</th>\n      <td>2025-04-03 03:25:00+00:00</td>\n      <td>0.605764</td>\n      <td>9.990175e-11</td>\n      <td>0.394235</td>\n      <td>9.990175e-11</td>\n      <td>0.658143</td>\n      <td>0.341857</td>\n      <td>1.216900e-10</td>\n      <td>1.217527e-10</td>\n    </tr>\n    <tr>\n      <th>2</th>\n      <td>2025-04-03 03:30:00+00:00</td>\n      <td>0.605764</td>\n      <td>9.990175e-11</td>\n      <td>0.394235</td>\n      <td>9.990175e-11</td>\n      <td>0.658143</td>\n      <td>0.341857</td>\n      <td>1.216900e-10</td>\n      <td>1.217527e-10</td>\n    </tr>\n    <tr>\n      <th>3</th>\n      <td>2025-04-03 03:35:00+00:00</td>\n      <td>0.605764</td>\n      <td>9.990175e-11</td>\n      <td>0.394235</td>\n      <td>9.990175e-11</td>\n      <td>0.658143</td>\n      <td>0.341857</td>\n      <td>1.216900e-10</td>\n      <td>1.217527e-10</td>\n    </tr>\n    <tr>\n      <th>4</th>\n      <td>2025-04-03 03:40:00+00:00</td>\n      <td>0.605764</td>\n      <td>9.990175e-11</td>\n      <td>0.394235</td>\n      <td>9.990175e-11</td>\n      <td>0.658143</td>\n      <td>0.341857</td>\n      <td>1.216900e-10</td>\n      <td>1.217527e-10</td>\n    </tr>\n    <tr>\n      <th>...</th>\n      <td>...</td>\n      <td>...</td>\n      <td>...</td>\n      <td>...</td>\n      <td>...</td>\n      <td>...</td>\n      <td>...</td>\n      <td>...</td>\n      <td>...</td>\n    </tr>\n    <tr>\n      <th>523</th>\n      <td>2025-04-06 22:55:00+00:00</td>\n      <td>0.487131</td>\n      <td>1.030843e-10</td>\n      <td>0.512869</td>\n      <td>1.030843e-10</td>\n      <td>0.493897</td>\n      <td>0.506103</td>\n      <td>1.295162e-10</td>\n      <td>1.295834e-10</td>\n    </tr>\n    <tr>\n      <th>524</th>\n      <td>2025-04-06 23:00:00+00:00</td>\n      <td>0.518914</td>\n      <td>1.028050e-10</td>\n      <td>0.481086</td>\n      <td>1.028050e-10</td>\n      <td>0.464451</td>\n      <td>0.535549</td>\n      <td>1.294158e-10</td>\n      <td>1.294832e-10</td>\n    </tr>\n    <tr>\n      <th>525</th>\n      <td>2025-04-06 23:05:00+00:00</td>\n      <td>0.482105</td>\n      <td>1.030904e-10</td>\n      <td>0.517896</td>\n      <td>1.030904e-10</td>\n      <td>0.465589</td>\n      <td>0.534411</td>\n      <td>1.294278e-10</td>\n      <td>1.294955e-10</td>\n    </tr>\n    <tr>\n      <th>526</th>\n      <td>2025-04-06 23:10:00+00:00</td>\n      <td>0.390773</td>\n      <td>1.013655e-10</td>\n      <td>0.609227</td>\n      <td>1.013655e-10</td>\n      <td>0.460182</td>\n      <td>0.539818</td>\n      <td>1.293637e-10</td>\n      <td>1.294309e-10</td>\n    </tr>\n    <tr>\n      <th>527</th>\n      <td>2025-04-06 23:15:00+00:00</td>\n      <td>0.477056</td>\n      <td>1.030862e-10</td>\n      <td>0.522943</td>\n      <td>1.030862e-10</td>\n      <td>0.387153</td>\n      <td>0.612847</td>\n      <td>1.269737e-10</td>\n      <td>1.270396e-10</td>\n    </tr>\n  </tbody>\n</table>\n<p>528 rows × 9 columns</p>\n</div>"
          },
          "metadata": {}
        }
      ],
      "outputs_reference": null,
      "content_dependencies": null
    },
    {
      "cell_type": "code",
      "metadata": {
        "cell_id": "e0bc1aeacb344758b9e335baa1275f46",
        "deepnote_cell_type": "code"
      },
      "source": "",
      "block_group": "8e62b09bac4c42bb935d290d898dc867",
      "execution_count": null,
      "outputs": [],
      "outputs_reference": null,
      "content_dependencies": null
    },
    {
      "cell_type": "markdown",
      "source": "<a style='text-decoration:none;line-height:16px;display:flex;color:#5B5B62;padding:10px;justify-content:end;' href='https://deepnote.com?utm_source=created-in-deepnote-cell&projectId=a127aa9e-0a77-4af9-a6ce-85e7a9b74042' target=\"_blank\">\n<img alt='Created in deepnote.com' style='display:inline;max-height:16px;margin:0px;margin-right:7.5px;' src='data:image/svg+xml;base64,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' > </img>\nCreated in <span style='font-weight:600;margin-left:4px;'>Deepnote</span></a>",
      "metadata": {
        "created_in_deepnote_cell": true,
        "deepnote_cell_type": "markdown"
      }
    }
  ],
  "nbformat": 4,
  "nbformat_minor": 0,
  "metadata": {
    "deepnote_notebook_id": "11990d6ad3584e009dbd2e0e8ac5dabf"
  }
}