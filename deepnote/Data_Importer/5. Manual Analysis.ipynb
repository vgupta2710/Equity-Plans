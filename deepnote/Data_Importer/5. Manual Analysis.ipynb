{
  "cells": [
    {
      "cell_type": "code",
      "metadata": {
        "source_hash": "d1c80eab",
        "execution_start": 1743185895564,
        "execution_millis": 289,
        "execution_context_id": "8e2f0a54-20c5-4172-962a-089e0b96e208",
        "cell_id": "b6d68203ff474d859dd055ebd873a53b",
        "deepnote_cell_type": "code"
      },
      "source": "import pandas as pd\nss = pd.read_csv('/work/base_data_history.csv')",
      "block_group": "e997bd7968be4e53ae0d6aa47ec774af",
      "execution_count": 69,
      "outputs": [],
      "outputs_reference": null,
      "content_dependencies": null
    },
    {
      "cell_type": "code",
      "metadata": {
        "source_hash": "eda8ab5a",
        "execution_start": 1743187737786,
        "execution_millis": 0,
        "sql_integration_id": "",
        "deepnote_table_state": {
          "sortBy": [],
          "filters": [],
          "pageSize": 50,
          "pageIndex": 0,
          "columnOrder": [
            "datetime",
            "move_from_top",
            "y_true",
            "volume_std_5",
            "volume_std_mean",
            "EMA_slope",
            "volume",
            "bearish_2",
            "bullish_1",
            "EMA_slope_60",
            "bearish_2_rolling",
            "bullish_1_rolling",
            "bullish_flag",
            "bearish_flag"
          ],
          "hiddenColumnIds": [],
          "columnDisplayNames": [],
          "conditionalFilters": [],
          "cellFormattingRules": [],
          "wrappedTextColumnIds": []
        },
        "execution_context_id": "8e2f0a54-20c5-4172-962a-089e0b96e208",
        "deepnote_table_loading": false,
        "deepnote_variable_name": "",
        "cell_id": "f0be45a5e504479a9c04110b0c894ab1",
        "deepnote_cell_type": "code"
      },
      "source": "filtered_ss = ss[\n    (ss['bullish_flag'] == 1)  \n    #& (ss['y_true'] == 1)\n][['datetime',  'y_true','bearish_2_rolling' , 'bullish_1_rolling',\n 'bearish_2', 'bullish_1',\n 'volume_std_5', 'volume_std_mean',\n   'EMA_slope', 'volume',  'EMA_slope_60'\n   ,'bullish_flag', 'bearish_flag']]\nfiltered_ss",
      "block_group": "fe0d51d234c84cb6be97981af566d0ac",
      "execution_count": 105,
      "outputs": [
        {
          "output_type": "execute_result",
          "execution_count": 105,
          "data": {
            "application/vnd.deepnote.dataframe.v3+json": {
              "column_count": 13,
              "row_count": 25,
              "columns": [
                {
                  "name": "datetime",
                  "dtype": "object",
                  "stats": {
                    "unique_count": 25,
                    "nan_count": 0,
                    "categories": [
                      {
                        "name": "2025-03-17 08:15:00+00:00",
                        "count": 1
                      },
                      {
                        "name": "2025-03-17 09:45:00+00:00",
                        "count": 1
                      },
                      {
                        "name": "23 others",
                        "count": 23
                      }
                    ]
                  }
                },
                {
                  "name": "y_true",
                  "dtype": "int64",
                  "stats": {
                    "unique_count": 3,
                    "nan_count": 0,
                    "min": "0",
                    "max": "2",
                    "histogram": [
                      {
                        "bin_start": 0,
                        "bin_end": 0.2,
                        "count": 11
                      },
                      {
                        "bin_start": 0.2,
                        "bin_end": 0.4,
                        "count": 0
                      },
                      {
                        "bin_start": 0.4,
                        "bin_end": 0.6000000000000001,
                        "count": 0
                      },
                      {
                        "bin_start": 0.6000000000000001,
                        "bin_end": 0.8,
                        "count": 0
                      },
                      {
                        "bin_start": 0.8,
                        "bin_end": 1,
                        "count": 0
                      },
                      {
                        "bin_start": 1,
                        "bin_end": 1.2000000000000002,
                        "count": 8
                      },
                      {
                        "bin_start": 1.2000000000000002,
                        "bin_end": 1.4000000000000001,
                        "count": 0
                      },
                      {
                        "bin_start": 1.4000000000000001,
                        "bin_end": 1.6,
                        "count": 0
                      },
                      {
                        "bin_start": 1.6,
                        "bin_end": 1.8,
                        "count": 0
                      },
                      {
                        "bin_start": 1.8,
                        "bin_end": 2,
                        "count": 6
                      }
                    ]
                  }
                },
                {
                  "name": "bearish_2_rolling",
                  "dtype": "float64",
                  "stats": {
                    "unique_count": 25,
                    "nan_count": 0,
                    "min": "0.47474733",
                    "max": "0.6501140991846713",
                    "histogram": [
                      {
                        "bin_start": 0.47474733,
                        "bin_end": 0.49228400691846713,
                        "count": 1
                      },
                      {
                        "bin_start": 0.49228400691846713,
                        "bin_end": 0.5098206838369342,
                        "count": 1
                      },
                      {
                        "bin_start": 0.5098206838369342,
                        "bin_end": 0.5273573607554014,
                        "count": 5
                      },
                      {
                        "bin_start": 0.5273573607554014,
                        "bin_end": 0.5448940376738686,
                        "count": 2
                      },
                      {
                        "bin_start": 0.5448940376738686,
                        "bin_end": 0.5624307145923357,
                        "count": 4
                      },
                      {
                        "bin_start": 0.5624307145923357,
                        "bin_end": 0.5799673915108028,
                        "count": 7
                      },
                      {
                        "bin_start": 0.5799673915108028,
                        "bin_end": 0.59750406842927,
                        "count": 1
                      },
                      {
                        "bin_start": 0.59750406842927,
                        "bin_end": 0.6150407453477371,
                        "count": 2
                      },
                      {
                        "bin_start": 0.6150407453477371,
                        "bin_end": 0.6325774222662042,
                        "count": 0
                      },
                      {
                        "bin_start": 0.6325774222662042,
                        "bin_end": 0.6501140991846713,
                        "count": 2
                      }
                    ]
                  }
                },
                {
                  "name": "bullish_1_rolling",
                  "dtype": "float64",
                  "stats": {
                    "unique_count": 25,
                    "nan_count": 0,
                    "min": "0.49882674217224093",
                    "max": "0.6739695668220517",
                    "histogram": [
                      {
                        "bin_start": 0.49882674217224093,
                        "bin_end": 0.516341024637222,
                        "count": 2
                      },
                      {
                        "bin_start": 0.516341024637222,
                        "bin_end": 0.5338553071022031,
                        "count": 4
                      },
                      {
                        "bin_start": 0.5338553071022031,
                        "bin_end": 0.5513695895671842,
                        "count": 6
                      },
                      {
                        "bin_start": 0.5513695895671842,
                        "bin_end": 0.5688838720321652,
                        "count": 3
                      },
                      {
                        "bin_start": 0.5688838720321652,
                        "bin_end": 0.5863981544971463,
                        "count": 3
                      },
                      {
                        "bin_start": 0.5863981544971463,
                        "bin_end": 0.6039124369621274,
                        "count": 4
                      },
                      {
                        "bin_start": 0.6039124369621274,
                        "bin_end": 0.6214267194271085,
                        "count": 1
                      },
                      {
                        "bin_start": 0.6214267194271085,
                        "bin_end": 0.6389410018920896,
                        "count": 1
                      },
                      {
                        "bin_start": 0.6389410018920896,
                        "bin_end": 0.6564552843570706,
                        "count": 0
                      },
                      {
                        "bin_start": 0.6564552843570706,
                        "bin_end": 0.6739695668220517,
                        "count": 1
                      }
                    ]
                  }
                },
                {
                  "name": "bearish_2",
                  "dtype": "float64",
                  "stats": {
                    "unique_count": 25,
                    "nan_count": 0,
                    "min": "0.45579687",
                    "max": "0.5950477",
                    "histogram": [
                      {
                        "bin_start": 0.45579687,
                        "bin_end": 0.469721953,
                        "count": 2
                      },
                      {
                        "bin_start": 0.469721953,
                        "bin_end": 0.48364703600000003,
                        "count": 0
                      },
                      {
                        "bin_start": 0.48364703600000003,
                        "bin_end": 0.497572119,
                        "count": 0
                      },
                      {
                        "bin_start": 0.497572119,
                        "bin_end": 0.511497202,
                        "count": 1
                      },
                      {
                        "bin_start": 0.511497202,
                        "bin_end": 0.525422285,
                        "count": 3
                      },
                      {
                        "bin_start": 0.525422285,
                        "bin_end": 0.539347368,
                        "count": 5
                      },
                      {
                        "bin_start": 0.539347368,
                        "bin_end": 0.553272451,
                        "count": 3
                      },
                      {
                        "bin_start": 0.553272451,
                        "bin_end": 0.567197534,
                        "count": 5
                      },
                      {
                        "bin_start": 0.567197534,
                        "bin_end": 0.581122617,
                        "count": 2
                      },
                      {
                        "bin_start": 0.581122617,
                        "bin_end": 0.5950477,
                        "count": 4
                      }
                    ]
                  }
                },
                {
                  "name": "bullish_1",
                  "dtype": "float64",
                  "stats": {
                    "unique_count": 25,
                    "nan_count": 0,
                    "min": "0.554488",
                    "max": "0.6997002363204956",
                    "histogram": [
                      {
                        "bin_start": 0.554488,
                        "bin_end": 0.5690092236320495,
                        "count": 11
                      },
                      {
                        "bin_start": 0.5690092236320495,
                        "bin_end": 0.5835304472640991,
                        "count": 2
                      },
                      {
                        "bin_start": 0.5835304472640991,
                        "bin_end": 0.5980516708961486,
                        "count": 2
                      },
                      {
                        "bin_start": 0.5980516708961486,
                        "bin_end": 0.6125728945281982,
                        "count": 3
                      },
                      {
                        "bin_start": 0.6125728945281982,
                        "bin_end": 0.6270941181602478,
                        "count": 2
                      },
                      {
                        "bin_start": 0.6270941181602478,
                        "bin_end": 0.6416153417922974,
                        "count": 1
                      },
                      {
                        "bin_start": 0.6416153417922974,
                        "bin_end": 0.656136565424347,
                        "count": 1
                      },
                      {
                        "bin_start": 0.656136565424347,
                        "bin_end": 0.6706577890563965,
                        "count": 1
                      },
                      {
                        "bin_start": 0.6706577890563965,
                        "bin_end": 0.685179012688446,
                        "count": 0
                      },
                      {
                        "bin_start": 0.685179012688446,
                        "bin_end": 0.6997002363204956,
                        "count": 2
                      }
                    ]
                  }
                },
                {
                  "name": "volume_std_5",
                  "dtype": "float64",
                  "stats": {
                    "unique_count": 25,
                    "nan_count": 0,
                    "min": "20.42873792800264",
                    "max": "273.35142216567937",
                    "histogram": [
                      {
                        "bin_start": 20.42873792800264,
                        "bin_end": 45.72100635177031,
                        "count": 3
                      },
                      {
                        "bin_start": 45.72100635177031,
                        "bin_end": 71.01327477553798,
                        "count": 6
                      },
                      {
                        "bin_start": 71.01327477553798,
                        "bin_end": 96.30554319930567,
                        "count": 7
                      },
                      {
                        "bin_start": 96.30554319930567,
                        "bin_end": 121.59781162307334,
                        "count": 2
                      },
                      {
                        "bin_start": 121.59781162307334,
                        "bin_end": 146.890080046841,
                        "count": 1
                      },
                      {
                        "bin_start": 146.890080046841,
                        "bin_end": 172.1823484706087,
                        "count": 1
                      },
                      {
                        "bin_start": 172.1823484706087,
                        "bin_end": 197.47461689437637,
                        "count": 2
                      },
                      {
                        "bin_start": 197.47461689437637,
                        "bin_end": 222.76688531814403,
                        "count": 2
                      },
                      {
                        "bin_start": 222.76688531814403,
                        "bin_end": 248.0591537419117,
                        "count": 0
                      },
                      {
                        "bin_start": 248.0591537419117,
                        "bin_end": 273.35142216567937,
                        "count": 1
                      }
                    ]
                  }
                },
                {
                  "name": "volume_std_mean",
                  "dtype": "float64",
                  "stats": {
                    "unique_count": 17,
                    "nan_count": 0,
                    "min": "80.91284841992554",
                    "max": "110.94756145702311",
                    "histogram": [
                      {
                        "bin_start": 80.91284841992554,
                        "bin_end": 83.9163197236353,
                        "count": 2
                      },
                      {
                        "bin_start": 83.9163197236353,
                        "bin_end": 86.91979102734506,
                        "count": 13
                      },
                      {
                        "bin_start": 86.91979102734506,
                        "bin_end": 89.92326233105481,
                        "count": 1
                      },
                      {
                        "bin_start": 89.92326233105481,
                        "bin_end": 92.92673363476457,
                        "count": 1
                      },
                      {
                        "bin_start": 92.92673363476457,
                        "bin_end": 95.93020493847433,
                        "count": 3
                      },
                      {
                        "bin_start": 95.93020493847433,
                        "bin_end": 98.93367624218408,
                        "count": 1
                      },
                      {
                        "bin_start": 98.93367624218408,
                        "bin_end": 101.93714754589384,
                        "count": 0
                      },
                      {
                        "bin_start": 101.93714754589384,
                        "bin_end": 104.9406188496036,
                        "count": 1
                      },
                      {
                        "bin_start": 104.9406188496036,
                        "bin_end": 107.94409015331335,
                        "count": 0
                      },
                      {
                        "bin_start": 107.94409015331335,
                        "bin_end": 110.94756145702311,
                        "count": 3
                      }
                    ]
                  }
                },
                {
                  "name": "EMA_slope",
                  "dtype": "float64",
                  "stats": {
                    "unique_count": 25,
                    "nan_count": 0,
                    "min": "1.010443623579704",
                    "max": "2.391042909002863",
                    "histogram": [
                      {
                        "bin_start": 1.010443623579704,
                        "bin_end": 1.14850355212202,
                        "count": 6
                      },
                      {
                        "bin_start": 1.14850355212202,
                        "bin_end": 1.2865634806643358,
                        "count": 4
                      },
                      {
                        "bin_start": 1.2865634806643358,
                        "bin_end": 1.4246234092066516,
                        "count": 8
                      },
                      {
                        "bin_start": 1.4246234092066516,
                        "bin_end": 1.5626833377489677,
                        "count": 2
                      },
                      {
                        "bin_start": 1.5626833377489677,
                        "bin_end": 1.7007432662912834,
                        "count": 0
                      },
                      {
                        "bin_start": 1.7007432662912834,
                        "bin_end": 1.8388031948335994,
                        "count": 2
                      },
                      {
                        "bin_start": 1.8388031948335994,
                        "bin_end": 1.9768631233759153,
                        "count": 0
                      },
                      {
                        "bin_start": 1.9768631233759153,
                        "bin_end": 2.114923051918231,
                        "count": 1
                      },
                      {
                        "bin_start": 2.114923051918231,
                        "bin_end": 2.252982980460547,
                        "count": 0
                      },
                      {
                        "bin_start": 2.252982980460547,
                        "bin_end": 2.391042909002863,
                        "count": 2
                      }
                    ]
                  }
                },
                {
                  "name": "volume",
                  "dtype": "int64",
                  "stats": {
                    "unique_count": 24,
                    "nan_count": 0,
                    "min": "341",
                    "max": "1580",
                    "histogram": [
                      {
                        "bin_start": 341,
                        "bin_end": 464.9,
                        "count": 3
                      },
                      {
                        "bin_start": 464.9,
                        "bin_end": 588.8,
                        "count": 11
                      },
                      {
                        "bin_start": 588.8,
                        "bin_end": 712.7,
                        "count": 2
                      },
                      {
                        "bin_start": 712.7,
                        "bin_end": 836.6,
                        "count": 3
                      },
                      {
                        "bin_start": 836.6,
                        "bin_end": 960.5,
                        "count": 3
                      },
                      {
                        "bin_start": 960.5,
                        "bin_end": 1084.4,
                        "count": 2
                      },
                      {
                        "bin_start": 1084.4,
                        "bin_end": 1208.3000000000002,
                        "count": 0
                      },
                      {
                        "bin_start": 1208.3000000000002,
                        "bin_end": 1332.2,
                        "count": 0
                      },
                      {
                        "bin_start": 1332.2,
                        "bin_end": 1456.1000000000001,
                        "count": 0
                      },
                      {
                        "bin_start": 1456.1000000000001,
                        "bin_end": 1580,
                        "count": 1
                      }
                    ]
                  }
                },
                {
                  "name": "EMA_slope_60",
                  "dtype": "float64",
                  "stats": {
                    "unique_count": 25,
                    "nan_count": 0,
                    "min": "0.1098572148457606",
                    "max": "0.6488961648647091",
                    "histogram": [
                      {
                        "bin_start": 0.1098572148457606,
                        "bin_end": 0.16376110984765546,
                        "count": 6
                      },
                      {
                        "bin_start": 0.16376110984765546,
                        "bin_end": 0.21766500484955031,
                        "count": 5
                      },
                      {
                        "bin_start": 0.21766500484955031,
                        "bin_end": 0.27156889985144517,
                        "count": 0
                      },
                      {
                        "bin_start": 0.27156889985144517,
                        "bin_end": 0.32547279485334,
                        "count": 3
                      },
                      {
                        "bin_start": 0.32547279485334,
                        "bin_end": 0.37937668985523487,
                        "count": 2
                      },
                      {
                        "bin_start": 0.37937668985523487,
                        "bin_end": 0.4332805848571297,
                        "count": 0
                      },
                      {
                        "bin_start": 0.4332805848571297,
                        "bin_end": 0.4871844798590246,
                        "count": 3
                      },
                      {
                        "bin_start": 0.4871844798590246,
                        "bin_end": 0.5410883748609194,
                        "count": 3
                      },
                      {
                        "bin_start": 0.5410883748609194,
                        "bin_end": 0.5949922698628143,
                        "count": 2
                      },
                      {
                        "bin_start": 0.5949922698628143,
                        "bin_end": 0.6488961648647091,
                        "count": 1
                      }
                    ]
                  }
                },
                {
                  "name": "bullish_flag",
                  "dtype": "int64",
                  "stats": {
                    "unique_count": 1,
                    "nan_count": 0,
                    "min": "1",
                    "max": "1",
                    "histogram": [
                      {
                        "bin_start": 0.5,
                        "bin_end": 0.6,
                        "count": 0
                      },
                      {
                        "bin_start": 0.6,
                        "bin_end": 0.7,
                        "count": 0
                      },
                      {
                        "bin_start": 0.7,
                        "bin_end": 0.8,
                        "count": 0
                      },
                      {
                        "bin_start": 0.8,
                        "bin_end": 0.9,
                        "count": 0
                      },
                      {
                        "bin_start": 0.9,
                        "bin_end": 1,
                        "count": 0
                      },
                      {
                        "bin_start": 1,
                        "bin_end": 1.1,
                        "count": 25
                      },
                      {
                        "bin_start": 1.1,
                        "bin_end": 1.2000000000000002,
                        "count": 0
                      },
                      {
                        "bin_start": 1.2000000000000002,
                        "bin_end": 1.3,
                        "count": 0
                      },
                      {
                        "bin_start": 1.3,
                        "bin_end": 1.4,
                        "count": 0
                      },
                      {
                        "bin_start": 1.4,
                        "bin_end": 1.5,
                        "count": 0
                      }
                    ]
                  }
                },
                {
                  "name": "bearish_flag",
                  "dtype": "int64",
                  "stats": {
                    "unique_count": 1,
                    "nan_count": 0,
                    "min": "0",
                    "max": "0",
                    "histogram": [
                      {
                        "bin_start": -0.5,
                        "bin_end": -0.4,
                        "count": 0
                      },
                      {
                        "bin_start": -0.4,
                        "bin_end": -0.3,
                        "count": 0
                      },
                      {
                        "bin_start": -0.3,
                        "bin_end": -0.19999999999999996,
                        "count": 0
                      },
                      {
                        "bin_start": -0.19999999999999996,
                        "bin_end": -0.09999999999999998,
                        "count": 0
                      },
                      {
                        "bin_start": -0.09999999999999998,
                        "bin_end": 0,
                        "count": 0
                      },
                      {
                        "bin_start": 0,
                        "bin_end": 0.10000000000000009,
                        "count": 25
                      },
                      {
                        "bin_start": 0.10000000000000009,
                        "bin_end": 0.20000000000000007,
                        "count": 0
                      },
                      {
                        "bin_start": 0.20000000000000007,
                        "bin_end": 0.30000000000000004,
                        "count": 0
                      },
                      {
                        "bin_start": 0.30000000000000004,
                        "bin_end": 0.4,
                        "count": 0
                      },
                      {
                        "bin_start": 0.4,
                        "bin_end": 0.5,
                        "count": 0
                      }
                    ]
                  }
                },
                {
                  "name": "_deepnote_index_column",
                  "dtype": "int64"
                }
              ],
              "rows": [
                {
                  "datetime": "2025-03-17 08:15:00+00:00",
                  "y_true": 1,
                  "bearish_2_rolling": 0.550299,
                  "bullish_1_rolling": 0.59261173,
                  "bearish_2": 0.5775345,
                  "bullish_1": 0.6304276,
                  "volume_std_5": 80.61637550770678,
                  "volume_std_mean": 85.77621363197713,
                  "EMA_slope": 1.4099770832362992,
                  "volume": 736,
                  "EMA_slope_60": 0.1367354964022524,
                  "bullish_flag": 1,
                  "bearish_flag": 0,
                  "_deepnote_index_column": 180
                },
                {
                  "datetime": "2025-03-17 09:45:00+00:00",
                  "y_true": 0,
                  "bearish_2_rolling": 0.5140860966666668,
                  "bullish_1_rolling": 0.5508513566666666,
                  "bearish_2": 0.50655365,
                  "bullish_1": 0.6126367,
                  "volume_std_5": 146.70151101243965,
                  "volume_std_mean": 85.77621363197713,
                  "EMA_slope": 1.7697409486972902,
                  "volume": 547,
                  "EMA_slope_60": 0.4377175698427891,
                  "bullish_flag": 1,
                  "bearish_flag": 0,
                  "_deepnote_index_column": 198
                },
                {
                  "datetime": "2025-03-17 10:00:00+00:00",
                  "y_true": 0,
                  "bearish_2_rolling": 0.5832449366666668,
                  "bullish_1_rolling": 0.5571181333333334,
                  "bearish_2": 0.5950477,
                  "bullish_1": 0.5901342,
                  "volume_std_5": 88.63595959503608,
                  "volume_std_mean": 85.77621363197713,
                  "EMA_slope": 1.9893073657331115,
                  "volume": 853,
                  "EMA_slope_60": 0.5783356174160872,
                  "bullish_flag": 1,
                  "bearish_flag": 0,
                  "_deepnote_index_column": 201
                },
                {
                  "datetime": "2025-03-17 10:05:00+00:00",
                  "y_true": 0,
                  "bearish_2_rolling": 0.5782299166666668,
                  "bullish_1_rolling": 0.5810106666666667,
                  "bearish_2": 0.5545079,
                  "bullish_1": 0.6000518,
                  "volume_std_5": 201.96616878411325,
                  "volume_std_mean": 85.77621363197713,
                  "EMA_slope": 1.171445892587144,
                  "volume": 522,
                  "EMA_slope_60": 0.490521334877485,
                  "bullish_flag": 1,
                  "bearish_flag": 0,
                  "_deepnote_index_column": 202
                },
                {
                  "datetime": "2025-03-17 10:10:00+00:00",
                  "y_true": 0,
                  "bearish_2_rolling": 0.5614176000000001,
                  "bullish_1_rolling": 0.6004421333333334,
                  "bearish_2": 0.5346972,
                  "bullish_1": 0.6111404,
                  "volume_std_5": 205.6720690808543,
                  "volume_std_mean": 85.77621363197713,
                  "EMA_slope": 1.037156714070079,
                  "volume": 476,
                  "EMA_slope_60": 0.4908321107832307,
                  "bullish_flag": 1,
                  "bearish_flag": 0,
                  "_deepnote_index_column": 203
                },
                {
                  "datetime": "2025-03-17 13:00:00+00:00",
                  "y_true": 0,
                  "bearish_2_rolling": 0.5991488466666668,
                  "bullish_1_rolling": 0.6039954833333333,
                  "bearish_2": 0.55053335,
                  "bullish_1": 0.5678797,
                  "volume_std_5": 65.8255269633204,
                  "volume_std_mean": 85.77621363197713,
                  "EMA_slope": 1.0852210783614282,
                  "volume": 1059,
                  "EMA_slope_60": 0.2100617452124424,
                  "bullish_flag": 1,
                  "bearish_flag": 0,
                  "_deepnote_index_column": 237
                },
                {
                  "datetime": "2025-03-17 14:55:00+00:00",
                  "y_true": 0,
                  "bearish_2_rolling": 0.5727187000000001,
                  "bullish_1_rolling": 0.5566486166666667,
                  "bearish_2": 0.5811531,
                  "bullish_1": 0.554488,
                  "volume_std_5": 119.06860767361046,
                  "volume_std_mean": 85.77621363197713,
                  "EMA_slope": 1.010443623579704,
                  "volume": 884,
                  "EMA_slope_60": 0.4629174999827228,
                  "bullish_flag": 1,
                  "bearish_flag": 0,
                  "_deepnote_index_column": 260
                },
                {
                  "datetime": "2025-03-18 07:20:00+00:00",
                  "y_true": 1,
                  "bearish_2_rolling": 0.47474733,
                  "bullish_1_rolling": 0.5190931099999999,
                  "bearish_2": 0.45579687,
                  "bullish_1": 0.61752754,
                  "volume_std_5": 90.57041459548996,
                  "volume_std_mean": 85.77621363197713,
                  "EMA_slope": 1.0369757353673776,
                  "volume": 408,
                  "EMA_slope_60": 0.2829720069785253,
                  "bullish_flag": 1,
                  "bearish_flag": 0,
                  "_deepnote_index_column": 457
                },
                {
                  "datetime": "2025-03-18 07:50:00+00:00",
                  "y_true": 1,
                  "bearish_2_rolling": 0.5003509766666666,
                  "bullish_1_rolling": 0.5322152033333333,
                  "bearish_2": 0.45840585,
                  "bullish_1": 0.5794103,
                  "volume_std_5": 65.68358496102553,
                  "volume_std_mean": 85.77621363197713,
                  "EMA_slope": 1.4076129671720992,
                  "volume": 516,
                  "EMA_slope_60": 0.4856914738575142,
                  "bullish_flag": 1,
                  "bearish_flag": 0,
                  "_deepnote_index_column": 463
                },
                {
                  "datetime": "2025-03-19 18:30:00+00:00",
                  "y_true": 1,
                  "bearish_2_rolling": 0.5776078899701436,
                  "bullish_1_rolling": 0.5401828388373056,
                  "bearish_2": 0.5525641441345215,
                  "bullish_1": 0.5630699992179871,
                  "volume_std_5": 94.59915433025024,
                  "volume_std_mean": 103.31960296674656,
                  "EMA_slope": 1.1436138875342294,
                  "volume": 1580,
                  "EMA_slope_60": 0.1171090625030046,
                  "bullish_flag": 1,
                  "bearish_flag": 0,
                  "_deepnote_index_column": 890
                },
                {
                  "datetime": "2025-03-20 15:30:00+00:00",
                  "y_true": 0,
                  "bearish_2_rolling": 0.5445323586463927,
                  "bullish_1_rolling": 0.5740618507067361,
                  "bearish_2": 0.5160133838653564,
                  "bullish_1": 0.6506137251853943,
                  "volume_std_5": 195.19818988231168,
                  "volume_std_mean": 108.9803144901932,
                  "EMA_slope": 2.391042909002863,
                  "volume": 578,
                  "EMA_slope_60": 0.1783633242666837,
                  "bullish_flag": 1,
                  "bearish_flag": 0,
                  "_deepnote_index_column": 1142
                },
                {
                  "datetime": "2025-03-20 16:20:00+00:00",
                  "y_true": 0,
                  "bearish_2_rolling": 0.5982451438903807,
                  "bullish_1_rolling": 0.565288464228312,
                  "bearish_2": 0.5589556694030762,
                  "bullish_1": 0.5642662048339844,
                  "volume_std_5": 20.42873792800264,
                  "volume_std_mean": 110.94756145702311,
                  "EMA_slope": 1.0115279369565542,
                  "volume": 565,
                  "EMA_slope_60": 0.2778630668490223,
                  "bullish_flag": 1,
                  "bearish_flag": 0,
                  "_deepnote_index_column": 1152
                },
                {
                  "datetime": "2025-03-20 16:25:00+00:00",
                  "y_true": 0,
                  "bearish_2_rolling": 0.5664800604184468,
                  "bullish_1_rolling": 0.5436624288558959,
                  "bearish_2": 0.5543649196624756,
                  "bullish_1": 0.583723783493042,
                  "volume_std_5": 28.448784391095025,
                  "volume_std_mean": 110.88204406549032,
                  "EMA_slope": 1.2892223495673534,
                  "volume": 513,
                  "EMA_slope_60": 0.3474413277599524,
                  "bullish_flag": 1,
                  "bearish_flag": 0,
                  "_deepnote_index_column": 1153
                },
                {
                  "datetime": "2025-03-21 12:00:00+00:00",
                  "y_true": 2,
                  "bearish_2_rolling": 0.5237247745196023,
                  "bullish_1_rolling": 0.5502596894900003,
                  "bearish_2": 0.5296760201454163,
                  "bullish_1": 0.5636484622955322,
                  "volume_std_5": 273.35142216567937,
                  "volume_std_mean": 85.1255188079424,
                  "EMA_slope": 1.7533689618740027,
                  "volume": 1018,
                  "EMA_slope_60": 0.5047909666282067,
                  "bullish_flag": 1,
                  "bearish_flag": 0,
                  "_deepnote_index_column": 1388
                },
                {
                  "datetime": "2025-03-21 12:05:00+00:00",
                  "y_true": 2,
                  "bearish_2_rolling": 0.5500699281692504,
                  "bullish_1_rolling": 0.540055731932322,
                  "bearish_2": 0.5773327350616455,
                  "bullish_1": 0.5583217740058899,
                  "volume_std_5": 176.5852013429571,
                  "volume_std_mean": 84.42873927910951,
                  "EMA_slope": 2.3826951694991294,
                  "volume": 704,
                  "EMA_slope_60": 0.6488961648647091,
                  "bullish_flag": 1,
                  "bearish_flag": 0,
                  "_deepnote_index_column": 1389
                },
                {
                  "datetime": "2025-03-21 12:15:00+00:00",
                  "y_true": 2,
                  "bearish_2_rolling": 0.5633410016695657,
                  "bullish_1_rolling": 0.5217000246047973,
                  "bearish_2": 0.5335956811904907,
                  "bullish_1": 0.5616965889930725,
                  "volume_std_5": 67.67815994346395,
                  "volume_std_mean": 83.27855558039934,
                  "EMA_slope": 1.3369249084789772,
                  "volume": 573,
                  "EMA_slope_60": 0.5828023178873991,
                  "bullish_flag": 1,
                  "bearish_flag": 0,
                  "_deepnote_index_column": 1391
                },
                {
                  "datetime": "2025-03-25 09:20:00+00:00",
                  "y_true": 1,
                  "bearish_2_rolling": 0.5266026854515071,
                  "bullish_1_rolling": 0.49882674217224093,
                  "bearish_2": 0.5425489544868469,
                  "bullish_1": 0.5655115842819214,
                  "volume_std_5": 50.68530358989924,
                  "volume_std_mean": 95.31166291129442,
                  "EMA_slope": 1.382674819276872,
                  "volume": 533,
                  "EMA_slope_60": 0.1098572148457606,
                  "bullish_flag": 1,
                  "bearish_flag": 0,
                  "_deepnote_index_column": 1932
                },
                {
                  "datetime": "2025-03-25 09:25:00+00:00",
                  "y_true": 1,
                  "bearish_2_rolling": 0.5514160990715022,
                  "bullish_1_rolling": 0.5343838632106778,
                  "bearish_2": 0.5645849704742432,
                  "bullish_1": 0.5574405193328857,
                  "volume_std_5": 80.07496487667287,
                  "volume_std_mean": 95.17304152151654,
                  "EMA_slope": 1.546139855421643,
                  "volume": 447,
                  "EMA_slope_60": 0.178386512774523,
                  "bullish_flag": 1,
                  "bearish_flag": 0,
                  "_deepnote_index_column": 1933
                },
                {
                  "datetime": "2025-03-25 14:50:00+00:00",
                  "y_true": 0,
                  "bearish_2_rolling": 0.5400491952896114,
                  "bullish_1_rolling": 0.5295453071594235,
                  "bearish_2": 0.5279660224914551,
                  "bullish_1": 0.5644444227218628,
                  "volume_std_5": 51.393903659220165,
                  "volume_std_mean": 96.90035407512408,
                  "EMA_slope": 1.4247669757533004,
                  "volume": 848,
                  "EMA_slope_60": 0.1615579460194567,
                  "bullish_flag": 1,
                  "bearish_flag": 0,
                  "_deepnote_index_column": 1998
                },
                {
                  "datetime": "2025-03-26 16:35:00+00:00",
                  "y_true": 2,
                  "bearish_2_rolling": 0.5773714979489638,
                  "bullish_1_rolling": 0.5967712004979449,
                  "bearish_2": 0.5571182370185852,
                  "bullish_1": 0.6997002363204956,
                  "volume_std_5": 120.5998894416268,
                  "volume_std_mean": 84.41224171467614,
                  "EMA_slope": 1.2253435011698457,
                  "volume": 500,
                  "EMA_slope_60": 0.1500250882672844,
                  "bullish_flag": 1,
                  "bearish_flag": 0,
                  "_deepnote_index_column": 2307
                },
                {
                  "datetime": "2025-03-27 06:45:00+00:00",
                  "y_true": 2,
                  "bearish_2_rolling": 0.5204507708549493,
                  "bullish_1_rolling": 0.5160024166107174,
                  "bearish_2": 0.5158700942993164,
                  "bullish_1": 0.5733286738395691,
                  "volume_std_5": 85.36002186816195,
                  "volume_std_mean": 85.22101118013663,
                  "EMA_slope": 1.344517926017943,
                  "volume": 341,
                  "EMA_slope_60": 0.2842483308540977,
                  "bullish_flag": 1,
                  "bearish_flag": 0,
                  "_deepnote_index_column": 2477
                },
                {
                  "datetime": "2025-03-27 09:00:00+00:00",
                  "y_true": 2,
                  "bearish_2_rolling": 0.564053277174631,
                  "bullish_1_rolling": 0.5892453988393144,
                  "bearish_2": 0.5227660536766052,
                  "bullish_1": 0.6067735552787781,
                  "volume_std_5": 21.962088546710703,
                  "volume_std_mean": 86.98156459008257,
                  "EMA_slope": 1.3288132956895424,
                  "volume": 772,
                  "EMA_slope_60": 0.1956353974255762,
                  "bullish_flag": 1,
                  "bearish_flag": 0,
                  "_deepnote_index_column": 2504
                },
                {
                  "datetime": "2025-03-27 14:50:00+00:00",
                  "y_true": 1,
                  "bearish_2_rolling": 0.6501140991846713,
                  "bullish_1_rolling": 0.6259056925773617,
                  "bearish_2": 0.5937595963478088,
                  "bullish_1": 0.6604697704315186,
                  "volume_std_5": 51.85878260558168,
                  "volume_std_mean": 90.64950543507256,
                  "EMA_slope": 1.1604366766950989,
                  "volume": 714,
                  "EMA_slope_60": 0.1928030629769637,
                  "bullish_flag": 1,
                  "bearish_flag": 0,
                  "_deepnote_index_column": 2574
                },
                {
                  "datetime": "2025-03-28 12:45:00+00:00",
                  "y_true": 1,
                  "bearish_2_rolling": 0.5256124536196384,
                  "bullish_1_rolling": 0.573649168014526,
                  "bearish_2": 0.5381316542625427,
                  "bullish_1": 0.561699628829956,
                  "volume_std_5": 94.93682109697876,
                  "volume_std_mean": 80.91284841992554,
                  "EMA_slope": 1.394671839012517,
                  "volume": 694,
                  "EMA_slope_60": 0.1478618839064438,
                  "bullish_flag": 1,
                  "bearish_flag": 0,
                  "_deepnote_index_column": 2837
                },
                {
                  "datetime": "2025-03-28 17:35:00+00:00",
                  "y_true": 0,
                  "bearish_2_rolling": 0.640096962451934,
                  "bullish_1_rolling": 0.6739695668220517,
                  "bearish_2": 0.5847722887992859,
                  "bullish_1": 0.6993507742881775,
                  "volume_std_5": 159.22416064571536,
                  "volume_std_mean": 93.24802804611345,
                  "EMA_slope": 1.2169203325338458,
                  "volume": 500,
                  "EMA_slope_60": 0.3342629632552416,
                  "bullish_flag": 1,
                  "bearish_flag": 0,
                  "_deepnote_index_column": 2895
                }
              ],
              "type": "dataframe"
            },
            "text/plain": "                       datetime  y_true  bearish_2_rolling  bullish_1_rolling  \\\n180   2025-03-17 08:15:00+00:00       1           0.550299           0.592612   \n198   2025-03-17 09:45:00+00:00       0           0.514086           0.550851   \n201   2025-03-17 10:00:00+00:00       0           0.583245           0.557118   \n202   2025-03-17 10:05:00+00:00       0           0.578230           0.581011   \n203   2025-03-17 10:10:00+00:00       0           0.561418           0.600442   \n237   2025-03-17 13:00:00+00:00       0           0.599149           0.603995   \n260   2025-03-17 14:55:00+00:00       0           0.572719           0.556649   \n457   2025-03-18 07:20:00+00:00       1           0.474747           0.519093   \n463   2025-03-18 07:50:00+00:00       1           0.500351           0.532215   \n890   2025-03-19 18:30:00+00:00       1           0.577608           0.540183   \n1142  2025-03-20 15:30:00+00:00       0           0.544532           0.574062   \n1152  2025-03-20 16:20:00+00:00       0           0.598245           0.565288   \n1153  2025-03-20 16:25:00+00:00       0           0.566480           0.543662   \n1388  2025-03-21 12:00:00+00:00       2           0.523725           0.550260   \n1389  2025-03-21 12:05:00+00:00       2           0.550070           0.540056   \n1391  2025-03-21 12:15:00+00:00       2           0.563341           0.521700   \n1932  2025-03-25 09:20:00+00:00       1           0.526603           0.498827   \n1933  2025-03-25 09:25:00+00:00       1           0.551416           0.534384   \n1998  2025-03-25 14:50:00+00:00       0           0.540049           0.529545   \n2307  2025-03-26 16:35:00+00:00       2           0.577371           0.596771   \n2477  2025-03-27 06:45:00+00:00       2           0.520451           0.516002   \n2504  2025-03-27 09:00:00+00:00       2           0.564053           0.589245   \n2574  2025-03-27 14:50:00+00:00       1           0.650114           0.625906   \n2837  2025-03-28 12:45:00+00:00       1           0.525612           0.573649   \n2895  2025-03-28 17:35:00+00:00       0           0.640097           0.673970   \n\n      bearish_2  bullish_1  volume_std_5  volume_std_mean  EMA_slope  volume  \\\n180    0.577534   0.630428     80.616376        85.776214   1.409977     736   \n198    0.506554   0.612637    146.701511        85.776214   1.769741     547   \n201    0.595048   0.590134     88.635960        85.776214   1.989307     853   \n202    0.554508   0.600052    201.966169        85.776214   1.171446     522   \n203    0.534697   0.611140    205.672069        85.776214   1.037157     476   \n237    0.550533   0.567880     65.825527        85.776214   1.085221    1059   \n260    0.581153   0.554488    119.068608        85.776214   1.010444     884   \n457    0.455797   0.617528     90.570415        85.776214   1.036976     408   \n463    0.458406   0.579410     65.683585        85.776214   1.407613     516   \n890    0.552564   0.563070     94.599154       103.319603   1.143614    1580   \n1142   0.516013   0.650614    195.198190       108.980314   2.391043     578   \n1152   0.558956   0.564266     20.428738       110.947561   1.011528     565   \n1153   0.554365   0.583724     28.448784       110.882044   1.289222     513   \n1388   0.529676   0.563648    273.351422        85.125519   1.753369    1018   \n1389   0.577333   0.558322    176.585201        84.428739   2.382695     704   \n1391   0.533596   0.561697     67.678160        83.278556   1.336925     573   \n1932   0.542549   0.565512     50.685304        95.311663   1.382675     533   \n1933   0.564585   0.557441     80.074965        95.173042   1.546140     447   \n1998   0.527966   0.564444     51.393904        96.900354   1.424767     848   \n2307   0.557118   0.699700    120.599889        84.412242   1.225344     500   \n2477   0.515870   0.573329     85.360022        85.221011   1.344518     341   \n2504   0.522766   0.606774     21.962089        86.981565   1.328813     772   \n2574   0.593760   0.660470     51.858783        90.649505   1.160437     714   \n2837   0.538132   0.561700     94.936821        80.912848   1.394672     694   \n2895   0.584772   0.699351    159.224161        93.248028   1.216920     500   \n\n      EMA_slope_60  bullish_flag  bearish_flag  \n180       0.136735             1             0  \n198       0.437718             1             0  \n201       0.578336             1             0  \n202       0.490521             1             0  \n203       0.490832             1             0  \n237       0.210062             1             0  \n260       0.462917             1             0  \n457       0.282972             1             0  \n463       0.485691             1             0  \n890       0.117109             1             0  \n1142      0.178363             1             0  \n1152      0.277863             1             0  \n1153      0.347441             1             0  \n1388      0.504791             1             0  \n1389      0.648896             1             0  \n1391      0.582802             1             0  \n1932      0.109857             1             0  \n1933      0.178387             1             0  \n1998      0.161558             1             0  \n2307      0.150025             1             0  \n2477      0.284248             1             0  \n2504      0.195635             1             0  \n2574      0.192803             1             0  \n2837      0.147862             1             0  \n2895      0.334263             1             0  ",
            "text/html": "<div>\n<style scoped>\n    .dataframe tbody tr th:only-of-type {\n        vertical-align: middle;\n    }\n\n    .dataframe tbody tr th {\n        vertical-align: top;\n    }\n\n    .dataframe thead th {\n        text-align: right;\n    }\n</style>\n<table border=\"1\" class=\"dataframe\">\n  <thead>\n    <tr style=\"text-align: right;\">\n      <th></th>\n      <th>datetime</th>\n      <th>y_true</th>\n      <th>bearish_2_rolling</th>\n      <th>bullish_1_rolling</th>\n      <th>bearish_2</th>\n      <th>bullish_1</th>\n      <th>volume_std_5</th>\n      <th>volume_std_mean</th>\n      <th>EMA_slope</th>\n      <th>volume</th>\n      <th>EMA_slope_60</th>\n      <th>bullish_flag</th>\n      <th>bearish_flag</th>\n    </tr>\n  </thead>\n  <tbody>\n    <tr>\n      <th>180</th>\n      <td>2025-03-17 08:15:00+00:00</td>\n      <td>1</td>\n      <td>0.550299</td>\n      <td>0.592612</td>\n      <td>0.577534</td>\n      <td>0.630428</td>\n      <td>80.616376</td>\n      <td>85.776214</td>\n      <td>1.409977</td>\n      <td>736</td>\n      <td>0.136735</td>\n      <td>1</td>\n      <td>0</td>\n    </tr>\n    <tr>\n      <th>198</th>\n      <td>2025-03-17 09:45:00+00:00</td>\n      <td>0</td>\n      <td>0.514086</td>\n      <td>0.550851</td>\n      <td>0.506554</td>\n      <td>0.612637</td>\n      <td>146.701511</td>\n      <td>85.776214</td>\n      <td>1.769741</td>\n      <td>547</td>\n      <td>0.437718</td>\n      <td>1</td>\n      <td>0</td>\n    </tr>\n    <tr>\n      <th>201</th>\n      <td>2025-03-17 10:00:00+00:00</td>\n      <td>0</td>\n      <td>0.583245</td>\n      <td>0.557118</td>\n      <td>0.595048</td>\n      <td>0.590134</td>\n      <td>88.635960</td>\n      <td>85.776214</td>\n      <td>1.989307</td>\n      <td>853</td>\n      <td>0.578336</td>\n      <td>1</td>\n      <td>0</td>\n    </tr>\n    <tr>\n      <th>202</th>\n      <td>2025-03-17 10:05:00+00:00</td>\n      <td>0</td>\n      <td>0.578230</td>\n      <td>0.581011</td>\n      <td>0.554508</td>\n      <td>0.600052</td>\n      <td>201.966169</td>\n      <td>85.776214</td>\n      <td>1.171446</td>\n      <td>522</td>\n      <td>0.490521</td>\n      <td>1</td>\n      <td>0</td>\n    </tr>\n    <tr>\n      <th>203</th>\n      <td>2025-03-17 10:10:00+00:00</td>\n      <td>0</td>\n      <td>0.561418</td>\n      <td>0.600442</td>\n      <td>0.534697</td>\n      <td>0.611140</td>\n      <td>205.672069</td>\n      <td>85.776214</td>\n      <td>1.037157</td>\n      <td>476</td>\n      <td>0.490832</td>\n      <td>1</td>\n      <td>0</td>\n    </tr>\n    <tr>\n      <th>237</th>\n      <td>2025-03-17 13:00:00+00:00</td>\n      <td>0</td>\n      <td>0.599149</td>\n      <td>0.603995</td>\n      <td>0.550533</td>\n      <td>0.567880</td>\n      <td>65.825527</td>\n      <td>85.776214</td>\n      <td>1.085221</td>\n      <td>1059</td>\n      <td>0.210062</td>\n      <td>1</td>\n      <td>0</td>\n    </tr>\n    <tr>\n      <th>260</th>\n      <td>2025-03-17 14:55:00+00:00</td>\n      <td>0</td>\n      <td>0.572719</td>\n      <td>0.556649</td>\n      <td>0.581153</td>\n      <td>0.554488</td>\n      <td>119.068608</td>\n      <td>85.776214</td>\n      <td>1.010444</td>\n      <td>884</td>\n      <td>0.462917</td>\n      <td>1</td>\n      <td>0</td>\n    </tr>\n    <tr>\n      <th>457</th>\n      <td>2025-03-18 07:20:00+00:00</td>\n      <td>1</td>\n      <td>0.474747</td>\n      <td>0.519093</td>\n      <td>0.455797</td>\n      <td>0.617528</td>\n      <td>90.570415</td>\n      <td>85.776214</td>\n      <td>1.036976</td>\n      <td>408</td>\n      <td>0.282972</td>\n      <td>1</td>\n      <td>0</td>\n    </tr>\n    <tr>\n      <th>463</th>\n      <td>2025-03-18 07:50:00+00:00</td>\n      <td>1</td>\n      <td>0.500351</td>\n      <td>0.532215</td>\n      <td>0.458406</td>\n      <td>0.579410</td>\n      <td>65.683585</td>\n      <td>85.776214</td>\n      <td>1.407613</td>\n      <td>516</td>\n      <td>0.485691</td>\n      <td>1</td>\n      <td>0</td>\n    </tr>\n    <tr>\n      <th>890</th>\n      <td>2025-03-19 18:30:00+00:00</td>\n      <td>1</td>\n      <td>0.577608</td>\n      <td>0.540183</td>\n      <td>0.552564</td>\n      <td>0.563070</td>\n      <td>94.599154</td>\n      <td>103.319603</td>\n      <td>1.143614</td>\n      <td>1580</td>\n      <td>0.117109</td>\n      <td>1</td>\n      <td>0</td>\n    </tr>\n    <tr>\n      <th>1142</th>\n      <td>2025-03-20 15:30:00+00:00</td>\n      <td>0</td>\n      <td>0.544532</td>\n      <td>0.574062</td>\n      <td>0.516013</td>\n      <td>0.650614</td>\n      <td>195.198190</td>\n      <td>108.980314</td>\n      <td>2.391043</td>\n      <td>578</td>\n      <td>0.178363</td>\n      <td>1</td>\n      <td>0</td>\n    </tr>\n    <tr>\n      <th>1152</th>\n      <td>2025-03-20 16:20:00+00:00</td>\n      <td>0</td>\n      <td>0.598245</td>\n      <td>0.565288</td>\n      <td>0.558956</td>\n      <td>0.564266</td>\n      <td>20.428738</td>\n      <td>110.947561</td>\n      <td>1.011528</td>\n      <td>565</td>\n      <td>0.277863</td>\n      <td>1</td>\n      <td>0</td>\n    </tr>\n    <tr>\n      <th>1153</th>\n      <td>2025-03-20 16:25:00+00:00</td>\n      <td>0</td>\n      <td>0.566480</td>\n      <td>0.543662</td>\n      <td>0.554365</td>\n      <td>0.583724</td>\n      <td>28.448784</td>\n      <td>110.882044</td>\n      <td>1.289222</td>\n      <td>513</td>\n      <td>0.347441</td>\n      <td>1</td>\n      <td>0</td>\n    </tr>\n    <tr>\n      <th>1388</th>\n      <td>2025-03-21 12:00:00+00:00</td>\n      <td>2</td>\n      <td>0.523725</td>\n      <td>0.550260</td>\n      <td>0.529676</td>\n      <td>0.563648</td>\n      <td>273.351422</td>\n      <td>85.125519</td>\n      <td>1.753369</td>\n      <td>1018</td>\n      <td>0.504791</td>\n      <td>1</td>\n      <td>0</td>\n    </tr>\n    <tr>\n      <th>1389</th>\n      <td>2025-03-21 12:05:00+00:00</td>\n      <td>2</td>\n      <td>0.550070</td>\n      <td>0.540056</td>\n      <td>0.577333</td>\n      <td>0.558322</td>\n      <td>176.585201</td>\n      <td>84.428739</td>\n      <td>2.382695</td>\n      <td>704</td>\n      <td>0.648896</td>\n      <td>1</td>\n      <td>0</td>\n    </tr>\n    <tr>\n      <th>1391</th>\n      <td>2025-03-21 12:15:00+00:00</td>\n      <td>2</td>\n      <td>0.563341</td>\n      <td>0.521700</td>\n      <td>0.533596</td>\n      <td>0.561697</td>\n      <td>67.678160</td>\n      <td>83.278556</td>\n      <td>1.336925</td>\n      <td>573</td>\n      <td>0.582802</td>\n      <td>1</td>\n      <td>0</td>\n    </tr>\n    <tr>\n      <th>1932</th>\n      <td>2025-03-25 09:20:00+00:00</td>\n      <td>1</td>\n      <td>0.526603</td>\n      <td>0.498827</td>\n      <td>0.542549</td>\n      <td>0.565512</td>\n      <td>50.685304</td>\n      <td>95.311663</td>\n      <td>1.382675</td>\n      <td>533</td>\n      <td>0.109857</td>\n      <td>1</td>\n      <td>0</td>\n    </tr>\n    <tr>\n      <th>1933</th>\n      <td>2025-03-25 09:25:00+00:00</td>\n      <td>1</td>\n      <td>0.551416</td>\n      <td>0.534384</td>\n      <td>0.564585</td>\n      <td>0.557441</td>\n      <td>80.074965</td>\n      <td>95.173042</td>\n      <td>1.546140</td>\n      <td>447</td>\n      <td>0.178387</td>\n      <td>1</td>\n      <td>0</td>\n    </tr>\n    <tr>\n      <th>1998</th>\n      <td>2025-03-25 14:50:00+00:00</td>\n      <td>0</td>\n      <td>0.540049</td>\n      <td>0.529545</td>\n      <td>0.527966</td>\n      <td>0.564444</td>\n      <td>51.393904</td>\n      <td>96.900354</td>\n      <td>1.424767</td>\n      <td>848</td>\n      <td>0.161558</td>\n      <td>1</td>\n      <td>0</td>\n    </tr>\n    <tr>\n      <th>2307</th>\n      <td>2025-03-26 16:35:00+00:00</td>\n      <td>2</td>\n      <td>0.577371</td>\n      <td>0.596771</td>\n      <td>0.557118</td>\n      <td>0.699700</td>\n      <td>120.599889</td>\n      <td>84.412242</td>\n      <td>1.225344</td>\n      <td>500</td>\n      <td>0.150025</td>\n      <td>1</td>\n      <td>0</td>\n    </tr>\n    <tr>\n      <th>2477</th>\n      <td>2025-03-27 06:45:00+00:00</td>\n      <td>2</td>\n      <td>0.520451</td>\n      <td>0.516002</td>\n      <td>0.515870</td>\n      <td>0.573329</td>\n      <td>85.360022</td>\n      <td>85.221011</td>\n      <td>1.344518</td>\n      <td>341</td>\n      <td>0.284248</td>\n      <td>1</td>\n      <td>0</td>\n    </tr>\n    <tr>\n      <th>2504</th>\n      <td>2025-03-27 09:00:00+00:00</td>\n      <td>2</td>\n      <td>0.564053</td>\n      <td>0.589245</td>\n      <td>0.522766</td>\n      <td>0.606774</td>\n      <td>21.962089</td>\n      <td>86.981565</td>\n      <td>1.328813</td>\n      <td>772</td>\n      <td>0.195635</td>\n      <td>1</td>\n      <td>0</td>\n    </tr>\n    <tr>\n      <th>2574</th>\n      <td>2025-03-27 14:50:00+00:00</td>\n      <td>1</td>\n      <td>0.650114</td>\n      <td>0.625906</td>\n      <td>0.593760</td>\n      <td>0.660470</td>\n      <td>51.858783</td>\n      <td>90.649505</td>\n      <td>1.160437</td>\n      <td>714</td>\n      <td>0.192803</td>\n      <td>1</td>\n      <td>0</td>\n    </tr>\n    <tr>\n      <th>2837</th>\n      <td>2025-03-28 12:45:00+00:00</td>\n      <td>1</td>\n      <td>0.525612</td>\n      <td>0.573649</td>\n      <td>0.538132</td>\n      <td>0.561700</td>\n      <td>94.936821</td>\n      <td>80.912848</td>\n      <td>1.394672</td>\n      <td>694</td>\n      <td>0.147862</td>\n      <td>1</td>\n      <td>0</td>\n    </tr>\n    <tr>\n      <th>2895</th>\n      <td>2025-03-28 17:35:00+00:00</td>\n      <td>0</td>\n      <td>0.640097</td>\n      <td>0.673970</td>\n      <td>0.584772</td>\n      <td>0.699351</td>\n      <td>159.224161</td>\n      <td>93.248028</td>\n      <td>1.216920</td>\n      <td>500</td>\n      <td>0.334263</td>\n      <td>1</td>\n      <td>0</td>\n    </tr>\n  </tbody>\n</table>\n</div>"
          },
          "metadata": {}
        }
      ],
      "outputs_reference": null,
      "content_dependencies": null
    },
    {
      "cell_type": "code",
      "metadata": {
        "source_hash": "a3e9bdf2",
        "execution_start": 1742865574202,
        "execution_millis": 1,
        "execution_context_id": "4edd767a-85be-4c5a-88ed-35397283a8bf",
        "cell_id": "fc993d8737c9427aa674b7bd7a090d6e",
        "deepnote_cell_type": "code"
      },
      "source": "ss[\n    (ss['bullish_1']>0.55) &\n    (ss['bearish_2'] < 0.5) &\n    (ss['bullish_flag'] !=1) &\n    (ss['EMA_slope']>1) & \n    (ss['EMA_slope']<4) & \n    (ss['EMA_slope_60']>0) &\n    (ss['move_from_bottom'] < 0.26)\n][['datetime'\n    ,'move_from_bottom'\n    ,'EMA_slope'\n    ,'volume'\n    ,'bearish_2'\n    ,'bullish_1'\n    ,'EMA_slope_60'\n    ,'bullish_flag'\n    ,'bearish_flag']].iloc[-30:]",
      "block_group": "153fa5ca4f434332a01a692073cc8671",
      "execution_count": 11,
      "outputs": [
        {
          "output_type": "execute_result",
          "execution_count": 11,
          "data": {
            "application/vnd.deepnote.dataframe.v3+json": {
              "column_count": 9,
              "row_count": 3,
              "columns": [
                {
                  "name": "datetime",
                  "dtype": "object",
                  "stats": {
                    "unique_count": 3,
                    "nan_count": 0,
                    "categories": [
                      {
                        "name": "2025-03-21 11:15:00+00:00",
                        "count": 1
                      },
                      {
                        "name": "2025-03-21 11:50:00+00:00",
                        "count": 1
                      },
                      {
                        "name": "2025-03-24 06:25:00+00:00",
                        "count": 1
                      }
                    ]
                  }
                },
                {
                  "name": "move_from_bottom",
                  "dtype": "float64",
                  "stats": {
                    "unique_count": 3,
                    "nan_count": 0,
                    "min": "0.1844337882700109",
                    "max": "0.228596711157003",
                    "histogram": [
                      {
                        "bin_start": 0.1844337882700109,
                        "bin_end": 0.1888500805587101,
                        "count": 1
                      },
                      {
                        "bin_start": 0.1888500805587101,
                        "bin_end": 0.1932663728474093,
                        "count": 0
                      },
                      {
                        "bin_start": 0.1932663728474093,
                        "bin_end": 0.19768266513610852,
                        "count": 0
                      },
                      {
                        "bin_start": 0.19768266513610852,
                        "bin_end": 0.20209895742480774,
                        "count": 0
                      },
                      {
                        "bin_start": 0.20209895742480774,
                        "bin_end": 0.20651524971350693,
                        "count": 0
                      },
                      {
                        "bin_start": 0.20651524971350693,
                        "bin_end": 0.21093154200220615,
                        "count": 1
                      },
                      {
                        "bin_start": 0.21093154200220615,
                        "bin_end": 0.21534783429090537,
                        "count": 0
                      },
                      {
                        "bin_start": 0.21534783429090537,
                        "bin_end": 0.2197641265796046,
                        "count": 0
                      },
                      {
                        "bin_start": 0.2197641265796046,
                        "bin_end": 0.22418041886830378,
                        "count": 0
                      },
                      {
                        "bin_start": 0.22418041886830378,
                        "bin_end": 0.228596711157003,
                        "count": 1
                      }
                    ]
                  }
                },
                {
                  "name": "EMA_slope",
                  "dtype": "float64",
                  "stats": {
                    "unique_count": 3,
                    "nan_count": 0,
                    "min": "1.3021390029298343",
                    "max": "1.6709207156181949",
                    "histogram": [
                      {
                        "bin_start": 1.3021390029298343,
                        "bin_end": 1.3390171741986703,
                        "count": 1
                      },
                      {
                        "bin_start": 1.3390171741986703,
                        "bin_end": 1.3758953454675065,
                        "count": 0
                      },
                      {
                        "bin_start": 1.3758953454675065,
                        "bin_end": 1.4127735167363424,
                        "count": 0
                      },
                      {
                        "bin_start": 1.4127735167363424,
                        "bin_end": 1.4496516880051786,
                        "count": 0
                      },
                      {
                        "bin_start": 1.4496516880051786,
                        "bin_end": 1.4865298592740146,
                        "count": 0
                      },
                      {
                        "bin_start": 1.4865298592740146,
                        "bin_end": 1.5234080305428508,
                        "count": 0
                      },
                      {
                        "bin_start": 1.5234080305428508,
                        "bin_end": 1.5602862018116868,
                        "count": 1
                      },
                      {
                        "bin_start": 1.5602862018116868,
                        "bin_end": 1.5971643730805227,
                        "count": 0
                      },
                      {
                        "bin_start": 1.5971643730805227,
                        "bin_end": 1.634042544349359,
                        "count": 0
                      },
                      {
                        "bin_start": 1.634042544349359,
                        "bin_end": 1.6709207156181949,
                        "count": 1
                      }
                    ]
                  }
                },
                {
                  "name": "volume",
                  "dtype": "int64",
                  "stats": {
                    "unique_count": 3,
                    "nan_count": 0,
                    "min": "455",
                    "max": "592",
                    "histogram": [
                      {
                        "bin_start": 455,
                        "bin_end": 468.7,
                        "count": 1
                      },
                      {
                        "bin_start": 468.7,
                        "bin_end": 482.4,
                        "count": 1
                      },
                      {
                        "bin_start": 482.4,
                        "bin_end": 496.1,
                        "count": 0
                      },
                      {
                        "bin_start": 496.1,
                        "bin_end": 509.8,
                        "count": 0
                      },
                      {
                        "bin_start": 509.8,
                        "bin_end": 523.5,
                        "count": 0
                      },
                      {
                        "bin_start": 523.5,
                        "bin_end": 537.2,
                        "count": 0
                      },
                      {
                        "bin_start": 537.2,
                        "bin_end": 550.9,
                        "count": 0
                      },
                      {
                        "bin_start": 550.9,
                        "bin_end": 564.6,
                        "count": 0
                      },
                      {
                        "bin_start": 564.6,
                        "bin_end": 578.3,
                        "count": 0
                      },
                      {
                        "bin_start": 578.3,
                        "bin_end": 592,
                        "count": 1
                      }
                    ]
                  }
                },
                {
                  "name": "bearish_2",
                  "dtype": "float64",
                  "stats": {
                    "unique_count": 3,
                    "nan_count": 0,
                    "min": "0.4160108864307403",
                    "max": "0.4982972741127014",
                    "histogram": [
                      {
                        "bin_start": 0.4160108864307403,
                        "bin_end": 0.42423952519893643,
                        "count": 1
                      },
                      {
                        "bin_start": 0.42423952519893643,
                        "bin_end": 0.4324681639671325,
                        "count": 0
                      },
                      {
                        "bin_start": 0.4324681639671325,
                        "bin_end": 0.44069680273532863,
                        "count": 0
                      },
                      {
                        "bin_start": 0.44069680273532863,
                        "bin_end": 0.44892544150352476,
                        "count": 0
                      },
                      {
                        "bin_start": 0.44892544150352476,
                        "bin_end": 0.4571540802717209,
                        "count": 0
                      },
                      {
                        "bin_start": 0.4571540802717209,
                        "bin_end": 0.46538271903991696,
                        "count": 0
                      },
                      {
                        "bin_start": 0.46538271903991696,
                        "bin_end": 0.4736113578081131,
                        "count": 0
                      },
                      {
                        "bin_start": 0.4736113578081131,
                        "bin_end": 0.48183999657630916,
                        "count": 1
                      },
                      {
                        "bin_start": 0.48183999657630916,
                        "bin_end": 0.4900686353445053,
                        "count": 0
                      },
                      {
                        "bin_start": 0.4900686353445053,
                        "bin_end": 0.4982972741127014,
                        "count": 1
                      }
                    ]
                  }
                },
                {
                  "name": "bullish_1",
                  "dtype": "float64",
                  "stats": {
                    "unique_count": 3,
                    "nan_count": 0,
                    "min": "0.5560277700424194",
                    "max": "0.5889336466789246",
                    "histogram": [
                      {
                        "bin_start": 0.5560277700424194,
                        "bin_end": 0.55931835770607,
                        "count": 1
                      },
                      {
                        "bin_start": 0.55931835770607,
                        "bin_end": 0.5626089453697205,
                        "count": 0
                      },
                      {
                        "bin_start": 0.5626089453697205,
                        "bin_end": 0.5658995330333709,
                        "count": 0
                      },
                      {
                        "bin_start": 0.5658995330333709,
                        "bin_end": 0.5691901206970215,
                        "count": 0
                      },
                      {
                        "bin_start": 0.5691901206970215,
                        "bin_end": 0.572480708360672,
                        "count": 0
                      },
                      {
                        "bin_start": 0.572480708360672,
                        "bin_end": 0.5757712960243225,
                        "count": 0
                      },
                      {
                        "bin_start": 0.5757712960243225,
                        "bin_end": 0.5790618836879731,
                        "count": 1
                      },
                      {
                        "bin_start": 0.5790618836879731,
                        "bin_end": 0.5823524713516235,
                        "count": 0
                      },
                      {
                        "bin_start": 0.5823524713516235,
                        "bin_end": 0.585643059015274,
                        "count": 0
                      },
                      {
                        "bin_start": 0.585643059015274,
                        "bin_end": 0.5889336466789246,
                        "count": 1
                      }
                    ]
                  }
                },
                {
                  "name": "EMA_slope_60",
                  "dtype": "float64",
                  "stats": {
                    "unique_count": 3,
                    "nan_count": 0,
                    "min": "0.2915293162022863",
                    "max": "0.416463923664196",
                    "histogram": [
                      {
                        "bin_start": 0.2915293162022863,
                        "bin_end": 0.30402277694847724,
                        "count": 1
                      },
                      {
                        "bin_start": 0.30402277694847724,
                        "bin_end": 0.31651623769466825,
                        "count": 0
                      },
                      {
                        "bin_start": 0.31651623769466825,
                        "bin_end": 0.3290096984408592,
                        "count": 0
                      },
                      {
                        "bin_start": 0.3290096984408592,
                        "bin_end": 0.34150315918705015,
                        "count": 0
                      },
                      {
                        "bin_start": 0.34150315918705015,
                        "bin_end": 0.35399661993324116,
                        "count": 0
                      },
                      {
                        "bin_start": 0.35399661993324116,
                        "bin_end": 0.3664900806794321,
                        "count": 0
                      },
                      {
                        "bin_start": 0.3664900806794321,
                        "bin_end": 0.37898354142562307,
                        "count": 1
                      },
                      {
                        "bin_start": 0.37898354142562307,
                        "bin_end": 0.391477002171814,
                        "count": 0
                      },
                      {
                        "bin_start": 0.391477002171814,
                        "bin_end": 0.40397046291800504,
                        "count": 0
                      },
                      {
                        "bin_start": 0.40397046291800504,
                        "bin_end": 0.416463923664196,
                        "count": 1
                      }
                    ]
                  }
                },
                {
                  "name": "bullish_flag",
                  "dtype": "int64",
                  "stats": {
                    "unique_count": 1,
                    "nan_count": 0,
                    "min": "0",
                    "max": "0",
                    "histogram": [
                      {
                        "bin_start": -0.5,
                        "bin_end": -0.4,
                        "count": 0
                      },
                      {
                        "bin_start": -0.4,
                        "bin_end": -0.3,
                        "count": 0
                      },
                      {
                        "bin_start": -0.3,
                        "bin_end": -0.19999999999999996,
                        "count": 0
                      },
                      {
                        "bin_start": -0.19999999999999996,
                        "bin_end": -0.09999999999999998,
                        "count": 0
                      },
                      {
                        "bin_start": -0.09999999999999998,
                        "bin_end": 0,
                        "count": 0
                      },
                      {
                        "bin_start": 0,
                        "bin_end": 0.10000000000000009,
                        "count": 3
                      },
                      {
                        "bin_start": 0.10000000000000009,
                        "bin_end": 0.20000000000000007,
                        "count": 0
                      },
                      {
                        "bin_start": 0.20000000000000007,
                        "bin_end": 0.30000000000000004,
                        "count": 0
                      },
                      {
                        "bin_start": 0.30000000000000004,
                        "bin_end": 0.4,
                        "count": 0
                      },
                      {
                        "bin_start": 0.4,
                        "bin_end": 0.5,
                        "count": 0
                      }
                    ]
                  }
                },
                {
                  "name": "bearish_flag",
                  "dtype": "int64",
                  "stats": {
                    "unique_count": 1,
                    "nan_count": 0,
                    "min": "0",
                    "max": "0",
                    "histogram": [
                      {
                        "bin_start": -0.5,
                        "bin_end": -0.4,
                        "count": 0
                      },
                      {
                        "bin_start": -0.4,
                        "bin_end": -0.3,
                        "count": 0
                      },
                      {
                        "bin_start": -0.3,
                        "bin_end": -0.19999999999999996,
                        "count": 0
                      },
                      {
                        "bin_start": -0.19999999999999996,
                        "bin_end": -0.09999999999999998,
                        "count": 0
                      },
                      {
                        "bin_start": -0.09999999999999998,
                        "bin_end": 0,
                        "count": 0
                      },
                      {
                        "bin_start": 0,
                        "bin_end": 0.10000000000000009,
                        "count": 3
                      },
                      {
                        "bin_start": 0.10000000000000009,
                        "bin_end": 0.20000000000000007,
                        "count": 0
                      },
                      {
                        "bin_start": 0.20000000000000007,
                        "bin_end": 0.30000000000000004,
                        "count": 0
                      },
                      {
                        "bin_start": 0.30000000000000004,
                        "bin_end": 0.4,
                        "count": 0
                      },
                      {
                        "bin_start": 0.4,
                        "bin_end": 0.5,
                        "count": 0
                      }
                    ]
                  }
                },
                {
                  "name": "_deepnote_index_column",
                  "dtype": "int64"
                }
              ],
              "rows": [
                {
                  "datetime": "2025-03-21 11:15:00+00:00",
                  "move_from_bottom": 0.1844337882700109,
                  "EMA_slope": 1.5446233889051657,
                  "volume": 455,
                  "bearish_2": 0.4742414653301239,
                  "bullish_1": 0.5758847594261169,
                  "EMA_slope_60": 0.2915293162022863,
                  "bullish_flag": 0,
                  "bearish_flag": 0,
                  "_deepnote_index_column": 1379
                },
                {
                  "datetime": "2025-03-21 11:50:00+00:00",
                  "move_from_bottom": 0.228596711157003,
                  "EMA_slope": 1.3021390029298343,
                  "volume": 472,
                  "bearish_2": 0.4982972741127014,
                  "bullish_1": 0.5889336466789246,
                  "EMA_slope_60": 0.3725157120443327,
                  "bullish_flag": 0,
                  "bearish_flag": 0,
                  "_deepnote_index_column": 1386
                },
                {
                  "datetime": "2025-03-24 06:25:00+00:00",
                  "move_from_bottom": 0.2066496918705418,
                  "EMA_slope": 1.6709207156181949,
                  "volume": 592,
                  "bearish_2": 0.4160108864307403,
                  "bullish_1": 0.5560277700424194,
                  "EMA_slope_60": 0.416463923664196,
                  "bullish_flag": 0,
                  "bearish_flag": 0,
                  "_deepnote_index_column": 1609
                }
              ],
              "type": "dataframe"
            },
            "text/plain": "                       datetime  move_from_bottom  EMA_slope  volume  \\\n1379  2025-03-21 11:15:00+00:00          0.184434   1.544623     455   \n1386  2025-03-21 11:50:00+00:00          0.228597   1.302139     472   \n1609  2025-03-24 06:25:00+00:00          0.206650   1.670921     592   \n\n      bearish_2  bullish_1  EMA_slope_60  bullish_flag  bearish_flag  \n1379   0.474241   0.575885      0.291529             0             0  \n1386   0.498297   0.588934      0.372516             0             0  \n1609   0.416011   0.556028      0.416464             0             0  ",
            "text/html": "<div>\n<style scoped>\n    .dataframe tbody tr th:only-of-type {\n        vertical-align: middle;\n    }\n\n    .dataframe tbody tr th {\n        vertical-align: top;\n    }\n\n    .dataframe thead th {\n        text-align: right;\n    }\n</style>\n<table border=\"1\" class=\"dataframe\">\n  <thead>\n    <tr style=\"text-align: right;\">\n      <th></th>\n      <th>datetime</th>\n      <th>move_from_bottom</th>\n      <th>EMA_slope</th>\n      <th>volume</th>\n      <th>bearish_2</th>\n      <th>bullish_1</th>\n      <th>EMA_slope_60</th>\n      <th>bullish_flag</th>\n      <th>bearish_flag</th>\n    </tr>\n  </thead>\n  <tbody>\n    <tr>\n      <th>1379</th>\n      <td>2025-03-21 11:15:00+00:00</td>\n      <td>0.184434</td>\n      <td>1.544623</td>\n      <td>455</td>\n      <td>0.474241</td>\n      <td>0.575885</td>\n      <td>0.291529</td>\n      <td>0</td>\n      <td>0</td>\n    </tr>\n    <tr>\n      <th>1386</th>\n      <td>2025-03-21 11:50:00+00:00</td>\n      <td>0.228597</td>\n      <td>1.302139</td>\n      <td>472</td>\n      <td>0.498297</td>\n      <td>0.588934</td>\n      <td>0.372516</td>\n      <td>0</td>\n      <td>0</td>\n    </tr>\n    <tr>\n      <th>1609</th>\n      <td>2025-03-24 06:25:00+00:00</td>\n      <td>0.206650</td>\n      <td>1.670921</td>\n      <td>592</td>\n      <td>0.416011</td>\n      <td>0.556028</td>\n      <td>0.416464</td>\n      <td>0</td>\n      <td>0</td>\n    </tr>\n  </tbody>\n</table>\n</div>"
          },
          "metadata": {}
        }
      ],
      "outputs_reference": null,
      "content_dependencies": null
    },
    {
      "cell_type": "code",
      "metadata": {
        "source_hash": "20cd0ac5",
        "execution_start": 1743106738495,
        "execution_millis": 0,
        "execution_context_id": "ca2f94c1-f5a2-4271-8220-9af59ef21879",
        "cell_id": "cb67232e50054629ba2e0e0602ea4d71",
        "deepnote_cell_type": "code"
      },
      "source": "ss['bearish_22'] = ss.apply(lambda x:x['bearish_2'] if x['bullish_1']<0.6 else 0,axis=1 )\nss['bullish_22'] = ss.apply(lambda x:x['bullish_1'] if x['bearish_2']<0.6 else 0,axis=1 )",
      "block_group": "62653aafb53a4573922a08a8e05ef873",
      "execution_count": 129,
      "outputs": [],
      "outputs_reference": null,
      "content_dependencies": null
    },
    {
      "cell_type": "code",
      "metadata": {
        "source_hash": "8af1738a",
        "execution_start": 1743185634305,
        "execution_millis": 2,
        "deepnote_table_state": {
          "sortBy": [],
          "filters": [],
          "pageSize": 10,
          "pageIndex": 0,
          "columnOrder": [
            "datetime",
            "move_from_top",
            "y_true",
            "volume_std_5",
            "volume_std_mean",
            "EMA_slope",
            "volume",
            "bearish_2",
            "bullish_1",
            "EMA_slope_60",
            "bullish_flag",
            "bearish_flag"
          ],
          "hiddenColumnIds": [],
          "columnDisplayNames": [],
          "conditionalFilters": [],
          "cellFormattingRules": [],
          "wrappedTextColumnIds": []
        },
        "execution_context_id": "8e2f0a54-20c5-4172-962a-089e0b96e208",
        "deepnote_table_loading": false,
        "cell_id": "f6147150982546719ad40d72b8012d16",
        "deepnote_cell_type": "code"
      },
      "source": "ss[['datetime'\n    ,'move_from_top'\n    ,'y_true', 'volume_std_5','volume_std_mean'\n    ,'EMA_slope'\n    ,'volume'\n    ,'bearish_2', 'bearish_2_rolling'\n    ,'bullish_1' ,'bullish_1_rolling'\n    ,'EMA_slope_60'\n    ,'bullish_flag'\n    ,'bearish_flag']].iloc[-10:]",
      "block_group": "f17c0ca3fc754970b861d05b5d62b41a",
      "execution_count": 55,
      "outputs": [
        {
          "output_type": "execute_result",
          "execution_count": 55,
          "data": {
            "application/vnd.deepnote.dataframe.v3+json": {
              "column_count": 14,
              "row_count": 10,
              "columns": [
                {
                  "name": "datetime",
                  "dtype": "object",
                  "stats": {
                    "unique_count": 10,
                    "nan_count": 0,
                    "categories": [
                      {
                        "name": "2025-03-28 17:10:00+00:00",
                        "count": 1
                      },
                      {
                        "name": "2025-03-28 17:15:00+00:00",
                        "count": 1
                      },
                      {
                        "name": "8 others",
                        "count": 8
                      }
                    ]
                  }
                },
                {
                  "name": "move_from_top",
                  "dtype": "float64",
                  "stats": {
                    "unique_count": 10,
                    "nan_count": 0,
                    "min": "0.1715107701387053",
                    "max": "0.3024491000295226",
                    "histogram": [
                      {
                        "bin_start": 0.1715107701387053,
                        "bin_end": 0.18460460312778704,
                        "count": 3
                      },
                      {
                        "bin_start": 0.18460460312778704,
                        "bin_end": 0.19769843611686877,
                        "count": 0
                      },
                      {
                        "bin_start": 0.19769843611686877,
                        "bin_end": 0.2107922691059505,
                        "count": 0
                      },
                      {
                        "bin_start": 0.2107922691059505,
                        "bin_end": 0.2238861020950322,
                        "count": 2
                      },
                      {
                        "bin_start": 0.2238861020950322,
                        "bin_end": 0.23697993508411394,
                        "count": 0
                      },
                      {
                        "bin_start": 0.23697993508411394,
                        "bin_end": 0.2500737680731957,
                        "count": 1
                      },
                      {
                        "bin_start": 0.2500737680731957,
                        "bin_end": 0.2631676010622774,
                        "count": 1
                      },
                      {
                        "bin_start": 0.2631676010622774,
                        "bin_end": 0.2762614340513591,
                        "count": 2
                      },
                      {
                        "bin_start": 0.2762614340513591,
                        "bin_end": 0.28935526704044084,
                        "count": 0
                      },
                      {
                        "bin_start": 0.28935526704044084,
                        "bin_end": 0.3024491000295226,
                        "count": 1
                      }
                    ]
                  }
                },
                {
                  "name": "y_true",
                  "dtype": "int64",
                  "stats": {
                    "unique_count": 1,
                    "nan_count": 0,
                    "min": "0",
                    "max": "0",
                    "histogram": [
                      {
                        "bin_start": -0.5,
                        "bin_end": -0.4,
                        "count": 0
                      },
                      {
                        "bin_start": -0.4,
                        "bin_end": -0.3,
                        "count": 0
                      },
                      {
                        "bin_start": -0.3,
                        "bin_end": -0.19999999999999996,
                        "count": 0
                      },
                      {
                        "bin_start": -0.19999999999999996,
                        "bin_end": -0.09999999999999998,
                        "count": 0
                      },
                      {
                        "bin_start": -0.09999999999999998,
                        "bin_end": 0,
                        "count": 0
                      },
                      {
                        "bin_start": 0,
                        "bin_end": 0.10000000000000009,
                        "count": 10
                      },
                      {
                        "bin_start": 0.10000000000000009,
                        "bin_end": 0.20000000000000007,
                        "count": 0
                      },
                      {
                        "bin_start": 0.20000000000000007,
                        "bin_end": 0.30000000000000004,
                        "count": 0
                      },
                      {
                        "bin_start": 0.30000000000000004,
                        "bin_end": 0.4,
                        "count": 0
                      },
                      {
                        "bin_start": 0.4,
                        "bin_end": 0.5,
                        "count": 0
                      }
                    ]
                  }
                },
                {
                  "name": "volume_std_5",
                  "dtype": "float64",
                  "stats": {
                    "unique_count": 10,
                    "nan_count": 0,
                    "min": "13.076696830579111",
                    "max": "241.5291562800079",
                    "histogram": [
                      {
                        "bin_start": 13.076696830579111,
                        "bin_end": 35.92194277552199,
                        "count": 1
                      },
                      {
                        "bin_start": 35.92194277552199,
                        "bin_end": 58.767188720464866,
                        "count": 2
                      },
                      {
                        "bin_start": 58.767188720464866,
                        "bin_end": 81.61243466540775,
                        "count": 0
                      },
                      {
                        "bin_start": 81.61243466540775,
                        "bin_end": 104.45768061035062,
                        "count": 0
                      },
                      {
                        "bin_start": 104.45768061035062,
                        "bin_end": 127.3029265552935,
                        "count": 1
                      },
                      {
                        "bin_start": 127.3029265552935,
                        "bin_end": 150.1481725002364,
                        "count": 1
                      },
                      {
                        "bin_start": 150.1481725002364,
                        "bin_end": 172.99341844517926,
                        "count": 3
                      },
                      {
                        "bin_start": 172.99341844517926,
                        "bin_end": 195.83866439012215,
                        "count": 0
                      },
                      {
                        "bin_start": 195.83866439012215,
                        "bin_end": 218.68391033506504,
                        "count": 1
                      },
                      {
                        "bin_start": 218.68391033506504,
                        "bin_end": 241.5291562800079,
                        "count": 1
                      }
                    ]
                  }
                },
                {
                  "name": "volume_std_mean",
                  "dtype": "float64",
                  "stats": {
                    "unique_count": 10,
                    "nan_count": 0,
                    "min": "92.22774887313795",
                    "max": "93.78202248234874",
                    "histogram": [
                      {
                        "bin_start": 92.22774887313795,
                        "bin_end": 92.38317623405904,
                        "count": 1
                      },
                      {
                        "bin_start": 92.38317623405904,
                        "bin_end": 92.53860359498012,
                        "count": 1
                      },
                      {
                        "bin_start": 92.53860359498012,
                        "bin_end": 92.69403095590118,
                        "count": 1
                      },
                      {
                        "bin_start": 92.69403095590118,
                        "bin_end": 92.84945831682226,
                        "count": 1
                      },
                      {
                        "bin_start": 92.84945831682226,
                        "bin_end": 93.00488567774335,
                        "count": 1
                      },
                      {
                        "bin_start": 93.00488567774335,
                        "bin_end": 93.16031303866443,
                        "count": 0
                      },
                      {
                        "bin_start": 93.16031303866443,
                        "bin_end": 93.31574039958551,
                        "count": 1
                      },
                      {
                        "bin_start": 93.31574039958551,
                        "bin_end": 93.47116776050657,
                        "count": 0
                      },
                      {
                        "bin_start": 93.47116776050657,
                        "bin_end": 93.62659512142766,
                        "count": 0
                      },
                      {
                        "bin_start": 93.62659512142766,
                        "bin_end": 93.78202248234874,
                        "count": 4
                      }
                    ]
                  }
                },
                {
                  "name": "EMA_slope",
                  "dtype": "float64",
                  "stats": {
                    "unique_count": 10,
                    "nan_count": 0,
                    "min": "-1.466952475520884",
                    "max": "1.2169203325338458",
                    "histogram": [
                      {
                        "bin_start": -1.466952475520884,
                        "bin_end": -1.198565194715411,
                        "count": 1
                      },
                      {
                        "bin_start": -1.198565194715411,
                        "bin_end": -0.9301779139099381,
                        "count": 1
                      },
                      {
                        "bin_start": -0.9301779139099381,
                        "bin_end": -0.6617906331044652,
                        "count": 0
                      },
                      {
                        "bin_start": -0.6617906331044652,
                        "bin_end": -0.39340335229899215,
                        "count": 4
                      },
                      {
                        "bin_start": -0.39340335229899215,
                        "bin_end": -0.12501607149351912,
                        "count": 0
                      },
                      {
                        "bin_start": -0.12501607149351912,
                        "bin_end": 0.14337120931195368,
                        "count": 0
                      },
                      {
                        "bin_start": 0.14337120931195368,
                        "bin_end": 0.4117584901174267,
                        "count": 0
                      },
                      {
                        "bin_start": 0.4117584901174267,
                        "bin_end": 0.6801457709228997,
                        "count": 1
                      },
                      {
                        "bin_start": 0.6801457709228997,
                        "bin_end": 0.9485330517283725,
                        "count": 1
                      },
                      {
                        "bin_start": 0.9485330517283725,
                        "bin_end": 1.2169203325338458,
                        "count": 2
                      }
                    ]
                  }
                },
                {
                  "name": "volume",
                  "dtype": "int64",
                  "stats": {
                    "unique_count": 10,
                    "nan_count": 0,
                    "min": "259",
                    "max": "787",
                    "histogram": [
                      {
                        "bin_start": 259,
                        "bin_end": 311.8,
                        "count": 3
                      },
                      {
                        "bin_start": 311.8,
                        "bin_end": 364.6,
                        "count": 1
                      },
                      {
                        "bin_start": 364.6,
                        "bin_end": 417.4,
                        "count": 1
                      },
                      {
                        "bin_start": 417.4,
                        "bin_end": 470.2,
                        "count": 0
                      },
                      {
                        "bin_start": 470.2,
                        "bin_end": 523,
                        "count": 1
                      },
                      {
                        "bin_start": 523,
                        "bin_end": 575.8,
                        "count": 2
                      },
                      {
                        "bin_start": 575.8,
                        "bin_end": 628.5999999999999,
                        "count": 0
                      },
                      {
                        "bin_start": 628.5999999999999,
                        "bin_end": 681.4,
                        "count": 0
                      },
                      {
                        "bin_start": 681.4,
                        "bin_end": 734.2,
                        "count": 1
                      },
                      {
                        "bin_start": 734.2,
                        "bin_end": 787,
                        "count": 1
                      }
                    ]
                  }
                },
                {
                  "name": "bearish_2",
                  "dtype": "float64",
                  "stats": {
                    "unique_count": 10,
                    "nan_count": 0,
                    "min": "0.5847722887992859",
                    "max": "0.7318432927131653",
                    "histogram": [
                      {
                        "bin_start": 0.5847722887992859,
                        "bin_end": 0.5994793891906738,
                        "count": 1
                      },
                      {
                        "bin_start": 0.5994793891906738,
                        "bin_end": 0.6141864895820618,
                        "count": 1
                      },
                      {
                        "bin_start": 0.6141864895820618,
                        "bin_end": 0.6288935899734497,
                        "count": 1
                      },
                      {
                        "bin_start": 0.6288935899734497,
                        "bin_end": 0.6436006903648377,
                        "count": 1
                      },
                      {
                        "bin_start": 0.6436006903648377,
                        "bin_end": 0.6583077907562256,
                        "count": 0
                      },
                      {
                        "bin_start": 0.6583077907562256,
                        "bin_end": 0.6730148911476135,
                        "count": 3
                      },
                      {
                        "bin_start": 0.6730148911476135,
                        "bin_end": 0.6877219915390015,
                        "count": 1
                      },
                      {
                        "bin_start": 0.6877219915390015,
                        "bin_end": 0.7024290919303894,
                        "count": 0
                      },
                      {
                        "bin_start": 0.7024290919303894,
                        "bin_end": 0.7171361923217774,
                        "count": 0
                      },
                      {
                        "bin_start": 0.7171361923217774,
                        "bin_end": 0.7318432927131653,
                        "count": 2
                      }
                    ]
                  }
                },
                {
                  "name": "bearish_2_rolling",
                  "dtype": "float64",
                  "stats": {
                    "unique_count": 10,
                    "nan_count": 0,
                    "min": "0.6348975102106723",
                    "max": "0.687918563683827",
                    "histogram": [
                      {
                        "bin_start": 0.6348975102106723,
                        "bin_end": 0.6401996155579878,
                        "count": 3
                      },
                      {
                        "bin_start": 0.6401996155579878,
                        "bin_end": 0.6455017209053032,
                        "count": 0
                      },
                      {
                        "bin_start": 0.6455017209053032,
                        "bin_end": 0.6508038262526187,
                        "count": 0
                      },
                      {
                        "bin_start": 0.6508038262526187,
                        "bin_end": 0.6561059315999341,
                        "count": 1
                      },
                      {
                        "bin_start": 0.6561059315999341,
                        "bin_end": 0.6614080369472497,
                        "count": 2
                      },
                      {
                        "bin_start": 0.6614080369472497,
                        "bin_end": 0.6667101422945652,
                        "count": 0
                      },
                      {
                        "bin_start": 0.6667101422945652,
                        "bin_end": 0.6720122476418806,
                        "count": 1
                      },
                      {
                        "bin_start": 0.6720122476418806,
                        "bin_end": 0.6773143529891961,
                        "count": 2
                      },
                      {
                        "bin_start": 0.6773143529891961,
                        "bin_end": 0.6826164583365115,
                        "count": 0
                      },
                      {
                        "bin_start": 0.6826164583365115,
                        "bin_end": 0.687918563683827,
                        "count": 1
                      }
                    ]
                  }
                },
                {
                  "name": "bullish_1",
                  "dtype": "float64",
                  "stats": {
                    "unique_count": 10,
                    "nan_count": 0,
                    "min": "0.5552824139595032",
                    "max": "0.7191547751426697",
                    "histogram": [
                      {
                        "bin_start": 0.5552824139595032,
                        "bin_end": 0.5716696500778198,
                        "count": 1
                      },
                      {
                        "bin_start": 0.5716696500778198,
                        "bin_end": 0.5880568861961365,
                        "count": 0
                      },
                      {
                        "bin_start": 0.5880568861961365,
                        "bin_end": 0.6044441223144531,
                        "count": 0
                      },
                      {
                        "bin_start": 0.6044441223144531,
                        "bin_end": 0.6208313584327698,
                        "count": 1
                      },
                      {
                        "bin_start": 0.6208313584327698,
                        "bin_end": 0.6372185945510864,
                        "count": 0
                      },
                      {
                        "bin_start": 0.6372185945510864,
                        "bin_end": 0.653605830669403,
                        "count": 2
                      },
                      {
                        "bin_start": 0.653605830669403,
                        "bin_end": 0.6699930667877197,
                        "count": 2
                      },
                      {
                        "bin_start": 0.6699930667877197,
                        "bin_end": 0.6863803029060364,
                        "count": 1
                      },
                      {
                        "bin_start": 0.6863803029060364,
                        "bin_end": 0.7027675390243531,
                        "count": 2
                      },
                      {
                        "bin_start": 0.7027675390243531,
                        "bin_end": 0.7191547751426697,
                        "count": 1
                      }
                    ]
                  }
                },
                {
                  "name": "bullish_1_rolling",
                  "dtype": "float64",
                  "stats": {
                    "unique_count": 10,
                    "nan_count": 0,
                    "min": "0.6187531153360999",
                    "max": "0.6935903827349342",
                    "histogram": [
                      {
                        "bin_start": 0.6187531153360999,
                        "bin_end": 0.6262368420759833,
                        "count": 3
                      },
                      {
                        "bin_start": 0.6262368420759833,
                        "bin_end": 0.6337205688158668,
                        "count": 0
                      },
                      {
                        "bin_start": 0.6337205688158668,
                        "bin_end": 0.6412042955557502,
                        "count": 0
                      },
                      {
                        "bin_start": 0.6412042955557502,
                        "bin_end": 0.6486880222956336,
                        "count": 0
                      },
                      {
                        "bin_start": 0.6486880222956336,
                        "bin_end": 0.656171749035517,
                        "count": 0
                      },
                      {
                        "bin_start": 0.656171749035517,
                        "bin_end": 0.6636554757754005,
                        "count": 0
                      },
                      {
                        "bin_start": 0.6636554757754005,
                        "bin_end": 0.6711392025152839,
                        "count": 1
                      },
                      {
                        "bin_start": 0.6711392025152839,
                        "bin_end": 0.6786229292551673,
                        "count": 2
                      },
                      {
                        "bin_start": 0.6786229292551673,
                        "bin_end": 0.6861066559950508,
                        "count": 2
                      },
                      {
                        "bin_start": 0.6861066559950508,
                        "bin_end": 0.6935903827349342,
                        "count": 2
                      }
                    ]
                  }
                },
                {
                  "name": "EMA_slope_60",
                  "dtype": "float64",
                  "stats": {
                    "unique_count": 10,
                    "nan_count": 0,
                    "min": "-0.0069318571931944",
                    "max": "0.3655924091472116",
                    "histogram": [
                      {
                        "bin_start": -0.0069318571931944,
                        "bin_end": 0.030320569440846195,
                        "count": 2
                      },
                      {
                        "bin_start": 0.030320569440846195,
                        "bin_end": 0.06757299607488679,
                        "count": 0
                      },
                      {
                        "bin_start": 0.06757299607488679,
                        "bin_end": 0.10482542270892738,
                        "count": 1
                      },
                      {
                        "bin_start": 0.10482542270892738,
                        "bin_end": 0.142077849342968,
                        "count": 0
                      },
                      {
                        "bin_start": 0.142077849342968,
                        "bin_end": 0.1793302759770086,
                        "count": 2
                      },
                      {
                        "bin_start": 0.1793302759770086,
                        "bin_end": 0.21658270261104917,
                        "count": 1
                      },
                      {
                        "bin_start": 0.21658270261104917,
                        "bin_end": 0.2538351292450898,
                        "count": 0
                      },
                      {
                        "bin_start": 0.2538351292450898,
                        "bin_end": 0.2910875558791304,
                        "count": 0
                      },
                      {
                        "bin_start": 0.2910875558791304,
                        "bin_end": 0.328339982513171,
                        "count": 2
                      },
                      {
                        "bin_start": 0.328339982513171,
                        "bin_end": 0.3655924091472116,
                        "count": 2
                      }
                    ]
                  }
                },
                {
                  "name": "bullish_flag",
                  "dtype": "int64",
                  "stats": {
                    "unique_count": 2,
                    "nan_count": 0,
                    "min": "0",
                    "max": "1",
                    "histogram": [
                      {
                        "bin_start": 0,
                        "bin_end": 0.1,
                        "count": 9
                      },
                      {
                        "bin_start": 0.1,
                        "bin_end": 0.2,
                        "count": 0
                      },
                      {
                        "bin_start": 0.2,
                        "bin_end": 0.30000000000000004,
                        "count": 0
                      },
                      {
                        "bin_start": 0.30000000000000004,
                        "bin_end": 0.4,
                        "count": 0
                      },
                      {
                        "bin_start": 0.4,
                        "bin_end": 0.5,
                        "count": 0
                      },
                      {
                        "bin_start": 0.5,
                        "bin_end": 0.6000000000000001,
                        "count": 0
                      },
                      {
                        "bin_start": 0.6000000000000001,
                        "bin_end": 0.7000000000000001,
                        "count": 0
                      },
                      {
                        "bin_start": 0.7000000000000001,
                        "bin_end": 0.8,
                        "count": 0
                      },
                      {
                        "bin_start": 0.8,
                        "bin_end": 0.9,
                        "count": 0
                      },
                      {
                        "bin_start": 0.9,
                        "bin_end": 1,
                        "count": 1
                      }
                    ]
                  }
                },
                {
                  "name": "bearish_flag",
                  "dtype": "int64",
                  "stats": {
                    "unique_count": 1,
                    "nan_count": 0,
                    "min": "0",
                    "max": "0",
                    "histogram": [
                      {
                        "bin_start": -0.5,
                        "bin_end": -0.4,
                        "count": 0
                      },
                      {
                        "bin_start": -0.4,
                        "bin_end": -0.3,
                        "count": 0
                      },
                      {
                        "bin_start": -0.3,
                        "bin_end": -0.19999999999999996,
                        "count": 0
                      },
                      {
                        "bin_start": -0.19999999999999996,
                        "bin_end": -0.09999999999999998,
                        "count": 0
                      },
                      {
                        "bin_start": -0.09999999999999998,
                        "bin_end": 0,
                        "count": 0
                      },
                      {
                        "bin_start": 0,
                        "bin_end": 0.10000000000000009,
                        "count": 10
                      },
                      {
                        "bin_start": 0.10000000000000009,
                        "bin_end": 0.20000000000000007,
                        "count": 0
                      },
                      {
                        "bin_start": 0.20000000000000007,
                        "bin_end": 0.30000000000000004,
                        "count": 0
                      },
                      {
                        "bin_start": 0.30000000000000004,
                        "bin_end": 0.4,
                        "count": 0
                      },
                      {
                        "bin_start": 0.4,
                        "bin_end": 0.5,
                        "count": 0
                      }
                    ]
                  }
                },
                {
                  "name": "_deepnote_index_column",
                  "dtype": "int64"
                }
              ],
              "rows": [
                {
                  "datetime": "2025-03-28 17:10:00+00:00",
                  "move_from_top": 0.2213042195338022,
                  "y_true": 0,
                  "volume_std_5": 55.46169849544021,
                  "volume_std_mean": 92.22774887313795,
                  "EMA_slope": -0.4233632430004945,
                  "volume": 536,
                  "bearish_2": 0.6837371587753296,
                  "bearish_2_rolling": 0.6740497946739189,
                  "bullish_1": 0.6378638744354248,
                  "bullish_1_rolling": 0.6791424751281735,
                  "EMA_slope_60": 0.2086200991416262,
                  "bullish_flag": 0,
                  "bearish_flag": 0,
                  "_deepnote_index_column": 2890
                },
                {
                  "datetime": "2025-03-28 17:15:00+00:00",
                  "move_from_top": 0.2692534670994506,
                  "y_true": 0,
                  "volume_std_5": 134.35152895792635,
                  "volume_std_mean": 92.42342807276736,
                  "EMA_slope": -0.5586905944001046,
                  "volume": 707,
                  "bearish_2": 0.6669169068336487,
                  "bearish_2_rolling": 0.670805096626281,
                  "bullish_1": 0.6631130576133728,
                  "bullish_1_rolling": 0.6652836004892981,
                  "EMA_slope_60": 0.1657145196932106,
                  "bullish_flag": 0,
                  "bearish_flag": 0,
                  "_deepnote_index_column": 2891
                },
                {
                  "datetime": "2025-03-28 17:20:00+00:00",
                  "move_from_top": 0.3024491000295226,
                  "y_true": 0,
                  "volume_std_5": 153.352535029582,
                  "volume_std_mean": 92.5855540753103,
                  "EMA_slope": -1.466952475520884,
                  "volume": 401,
                  "bearish_2": 0.6240531206130981,
                  "bearish_2_rolling": 0.6582357287406914,
                  "bullish_1": 0.5552824139595032,
                  "bullish_1_rolling": 0.6187531153360999,
                  "EMA_slope_60": -0.0069318571931944,
                  "bullish_flag": 0,
                  "bearish_flag": 0,
                  "_deepnote_index_column": 2892
                },
                {
                  "datetime": "2025-03-28 17:25:00+00:00",
                  "move_from_top": 0.2637208616110942,
                  "y_true": 0,
                  "volume_std_5": 153.97727104998052,
                  "volume_std_mean": 92.69943737080928,
                  "EMA_slope": -0.9735619804159796,
                  "volume": 524,
                  "bearish_2": 0.6137225031852722,
                  "bearish_2_rolling": 0.6348975102106723,
                  "bullish_1": 0.6417149305343628,
                  "bullish_1_rolling": 0.6200368007024125,
                  "EMA_slope_60": 0.0260823006447026,
                  "bullish_flag": 0,
                  "bearish_flag": 0,
                  "_deepnote_index_column": 2893
                },
                {
                  "datetime": "2025-03-28 17:30:00+00:00",
                  "move_from_top": 0.2581882561227711,
                  "y_true": 0,
                  "volume_std_5": 197.18603736911123,
                  "volume_std_mean": 92.99839551294802,
                  "EMA_slope": -0.4788495843331475,
                  "volume": 787,
                  "bearish_2": 0.7217960953712463,
                  "bearish_2_rolling": 0.6531905730565382,
                  "bullish_1": 0.6808429956436157,
                  "bullish_1_rolling": 0.6259467800458268,
                  "EMA_slope_60": 0.0744074773829197,
                  "bullish_flag": 0,
                  "bearish_flag": 0,
                  "_deepnote_index_column": 2894
                },
                {
                  "datetime": "2025-03-28 17:35:00+00:00",
                  "move_from_top": 0.1770433756270395,
                  "y_true": 0,
                  "volume_std_5": 159.22416064571536,
                  "volume_std_mean": 93.24802804611345,
                  "EMA_slope": 1.2169203325338458,
                  "volume": 500,
                  "bearish_2": 0.5847722887992859,
                  "bearish_2_rolling": 0.640096962451934,
                  "bullish_1": 0.6993507742881775,
                  "bullish_1_rolling": 0.6739695668220517,
                  "EMA_slope_60": 0.3342629632552416,
                  "bullish_flag": 1,
                  "bearish_flag": 0,
                  "_deepnote_index_column": 2895
                },
                {
                  "datetime": "2025-03-28 17:40:00+00:00",
                  "move_from_top": 0.17519917379758,
                  "y_true": 0,
                  "volume_std_5": 241.5291562800079,
                  "volume_std_mean": 93.6780849283748,
                  "EMA_slope": 0.8935362660267856,
                  "volume": 307,
                  "bearish_2": 0.672697901725769,
                  "bearish_2_rolling": 0.6597554286320997,
                  "bullish_1": 0.6622655987739563,
                  "bullish_1_rolling": 0.6808197895685829,
                  "EMA_slope_60": 0.3101887582379277,
                  "bullish_flag": 0,
                  "bearish_flag": 0,
                  "_deepnote_index_column": 2896
                },
                {
                  "datetime": "2025-03-28 17:45:00+00:00",
                  "move_from_top": 0.1715107701387053,
                  "y_true": 0,
                  "volume_std_5": 110.57275131483472,
                  "volume_std_mean": 93.7722178007683,
                  "EMA_slope": 1.114829012823975,
                  "volume": 310,
                  "bearish_2": 0.6592144966125488,
                  "bearish_2_rolling": 0.6388948957125339,
                  "bullish_1": 0.7191547751426697,
                  "bullish_1_rolling": 0.6935903827349342,
                  "EMA_slope_60": 0.3655924091472116,
                  "bullish_flag": 0,
                  "bearish_flag": 0,
                  "_deepnote_index_column": 2897
                },
                {
                  "datetime": "2025-03-28 17:50:00+00:00",
                  "move_from_top": 0.2120832103865599,
                  "y_true": 0,
                  "volume_std_5": 13.076696830579111,
                  "volume_std_mean": 93.71681480627304,
                  "EMA_slope": 0.6518632102579431,
                  "volume": 331,
                  "bearish_2": 0.7318432927131653,
                  "bearish_2_rolling": 0.687918563683827,
                  "bullish_1": 0.6949410438537598,
                  "bullish_1_rolling": 0.6921204725901283,
                  "EMA_slope_60": 0.3142615161468711,
                  "bullish_flag": 0,
                  "bearish_flag": 0,
                  "_deepnote_index_column": 2898
                },
                {
                  "datetime": "2025-03-28 17:55:00+00:00",
                  "move_from_top": 0.2388241369135624,
                  "y_true": 0,
                  "volume_std_5": 37.02701716313183,
                  "volume_std_mean": 93.78202248234874,
                  "EMA_slope": -0.398509431794082,
                  "volume": 259,
                  "bearish_2": 0.6291232109069824,
                  "bearish_2_rolling": 0.6733936667442314,
                  "bullish_1": 0.6124560832977295,
                  "bullish_1_rolling": 0.6755173007647194,
                  "EMA_slope_60": 0.1531381869390315,
                  "bullish_flag": 0,
                  "bearish_flag": 0,
                  "_deepnote_index_column": 2899
                }
              ],
              "type": "dataframe"
            },
            "text/plain": "                       datetime  move_from_top  y_true  volume_std_5  \\\n2890  2025-03-28 17:10:00+00:00       0.221304       0     55.461698   \n2891  2025-03-28 17:15:00+00:00       0.269253       0    134.351529   \n2892  2025-03-28 17:20:00+00:00       0.302449       0    153.352535   \n2893  2025-03-28 17:25:00+00:00       0.263721       0    153.977271   \n2894  2025-03-28 17:30:00+00:00       0.258188       0    197.186037   \n2895  2025-03-28 17:35:00+00:00       0.177043       0    159.224161   \n2896  2025-03-28 17:40:00+00:00       0.175199       0    241.529156   \n2897  2025-03-28 17:45:00+00:00       0.171511       0    110.572751   \n2898  2025-03-28 17:50:00+00:00       0.212083       0     13.076697   \n2899  2025-03-28 17:55:00+00:00       0.238824       0     37.027017   \n\n      volume_std_mean  EMA_slope  volume  bearish_2  bearish_2_rolling  \\\n2890        92.227749  -0.423363     536   0.683737           0.674050   \n2891        92.423428  -0.558691     707   0.666917           0.670805   \n2892        92.585554  -1.466952     401   0.624053           0.658236   \n2893        92.699437  -0.973562     524   0.613723           0.634898   \n2894        92.998396  -0.478850     787   0.721796           0.653191   \n2895        93.248028   1.216920     500   0.584772           0.640097   \n2896        93.678085   0.893536     307   0.672698           0.659755   \n2897        93.772218   1.114829     310   0.659214           0.638895   \n2898        93.716815   0.651863     331   0.731843           0.687919   \n2899        93.782022  -0.398509     259   0.629123           0.673394   \n\n      bullish_1  bullish_1_rolling  EMA_slope_60  bullish_flag  bearish_flag  \n2890   0.637864           0.679142      0.208620             0             0  \n2891   0.663113           0.665284      0.165715             0             0  \n2892   0.555282           0.618753     -0.006932             0             0  \n2893   0.641715           0.620037      0.026082             0             0  \n2894   0.680843           0.625947      0.074407             0             0  \n2895   0.699351           0.673970      0.334263             1             0  \n2896   0.662266           0.680820      0.310189             0             0  \n2897   0.719155           0.693590      0.365592             0             0  \n2898   0.694941           0.692120      0.314262             0             0  \n2899   0.612456           0.675517      0.153138             0             0  ",
            "text/html": "<div>\n<style scoped>\n    .dataframe tbody tr th:only-of-type {\n        vertical-align: middle;\n    }\n\n    .dataframe tbody tr th {\n        vertical-align: top;\n    }\n\n    .dataframe thead th {\n        text-align: right;\n    }\n</style>\n<table border=\"1\" class=\"dataframe\">\n  <thead>\n    <tr style=\"text-align: right;\">\n      <th></th>\n      <th>datetime</th>\n      <th>move_from_top</th>\n      <th>y_true</th>\n      <th>volume_std_5</th>\n      <th>volume_std_mean</th>\n      <th>EMA_slope</th>\n      <th>volume</th>\n      <th>bearish_2</th>\n      <th>bearish_2_rolling</th>\n      <th>bullish_1</th>\n      <th>bullish_1_rolling</th>\n      <th>EMA_slope_60</th>\n      <th>bullish_flag</th>\n      <th>bearish_flag</th>\n    </tr>\n  </thead>\n  <tbody>\n    <tr>\n      <th>2890</th>\n      <td>2025-03-28 17:10:00+00:00</td>\n      <td>0.221304</td>\n      <td>0</td>\n      <td>55.461698</td>\n      <td>92.227749</td>\n      <td>-0.423363</td>\n      <td>536</td>\n      <td>0.683737</td>\n      <td>0.674050</td>\n      <td>0.637864</td>\n      <td>0.679142</td>\n      <td>0.208620</td>\n      <td>0</td>\n      <td>0</td>\n    </tr>\n    <tr>\n      <th>2891</th>\n      <td>2025-03-28 17:15:00+00:00</td>\n      <td>0.269253</td>\n      <td>0</td>\n      <td>134.351529</td>\n      <td>92.423428</td>\n      <td>-0.558691</td>\n      <td>707</td>\n      <td>0.666917</td>\n      <td>0.670805</td>\n      <td>0.663113</td>\n      <td>0.665284</td>\n      <td>0.165715</td>\n      <td>0</td>\n      <td>0</td>\n    </tr>\n    <tr>\n      <th>2892</th>\n      <td>2025-03-28 17:20:00+00:00</td>\n      <td>0.302449</td>\n      <td>0</td>\n      <td>153.352535</td>\n      <td>92.585554</td>\n      <td>-1.466952</td>\n      <td>401</td>\n      <td>0.624053</td>\n      <td>0.658236</td>\n      <td>0.555282</td>\n      <td>0.618753</td>\n      <td>-0.006932</td>\n      <td>0</td>\n      <td>0</td>\n    </tr>\n    <tr>\n      <th>2893</th>\n      <td>2025-03-28 17:25:00+00:00</td>\n      <td>0.263721</td>\n      <td>0</td>\n      <td>153.977271</td>\n      <td>92.699437</td>\n      <td>-0.973562</td>\n      <td>524</td>\n      <td>0.613723</td>\n      <td>0.634898</td>\n      <td>0.641715</td>\n      <td>0.620037</td>\n      <td>0.026082</td>\n      <td>0</td>\n      <td>0</td>\n    </tr>\n    <tr>\n      <th>2894</th>\n      <td>2025-03-28 17:30:00+00:00</td>\n      <td>0.258188</td>\n      <td>0</td>\n      <td>197.186037</td>\n      <td>92.998396</td>\n      <td>-0.478850</td>\n      <td>787</td>\n      <td>0.721796</td>\n      <td>0.653191</td>\n      <td>0.680843</td>\n      <td>0.625947</td>\n      <td>0.074407</td>\n      <td>0</td>\n      <td>0</td>\n    </tr>\n    <tr>\n      <th>2895</th>\n      <td>2025-03-28 17:35:00+00:00</td>\n      <td>0.177043</td>\n      <td>0</td>\n      <td>159.224161</td>\n      <td>93.248028</td>\n      <td>1.216920</td>\n      <td>500</td>\n      <td>0.584772</td>\n      <td>0.640097</td>\n      <td>0.699351</td>\n      <td>0.673970</td>\n      <td>0.334263</td>\n      <td>1</td>\n      <td>0</td>\n    </tr>\n    <tr>\n      <th>2896</th>\n      <td>2025-03-28 17:40:00+00:00</td>\n      <td>0.175199</td>\n      <td>0</td>\n      <td>241.529156</td>\n      <td>93.678085</td>\n      <td>0.893536</td>\n      <td>307</td>\n      <td>0.672698</td>\n      <td>0.659755</td>\n      <td>0.662266</td>\n      <td>0.680820</td>\n      <td>0.310189</td>\n      <td>0</td>\n      <td>0</td>\n    </tr>\n    <tr>\n      <th>2897</th>\n      <td>2025-03-28 17:45:00+00:00</td>\n      <td>0.171511</td>\n      <td>0</td>\n      <td>110.572751</td>\n      <td>93.772218</td>\n      <td>1.114829</td>\n      <td>310</td>\n      <td>0.659214</td>\n      <td>0.638895</td>\n      <td>0.719155</td>\n      <td>0.693590</td>\n      <td>0.365592</td>\n      <td>0</td>\n      <td>0</td>\n    </tr>\n    <tr>\n      <th>2898</th>\n      <td>2025-03-28 17:50:00+00:00</td>\n      <td>0.212083</td>\n      <td>0</td>\n      <td>13.076697</td>\n      <td>93.716815</td>\n      <td>0.651863</td>\n      <td>331</td>\n      <td>0.731843</td>\n      <td>0.687919</td>\n      <td>0.694941</td>\n      <td>0.692120</td>\n      <td>0.314262</td>\n      <td>0</td>\n      <td>0</td>\n    </tr>\n    <tr>\n      <th>2899</th>\n      <td>2025-03-28 17:55:00+00:00</td>\n      <td>0.238824</td>\n      <td>0</td>\n      <td>37.027017</td>\n      <td>93.782022</td>\n      <td>-0.398509</td>\n      <td>259</td>\n      <td>0.629123</td>\n      <td>0.673394</td>\n      <td>0.612456</td>\n      <td>0.675517</td>\n      <td>0.153138</td>\n      <td>0</td>\n      <td>0</td>\n    </tr>\n  </tbody>\n</table>\n</div>"
          },
          "metadata": {}
        }
      ],
      "outputs_reference": null,
      "content_dependencies": null
    },
    {
      "cell_type": "code",
      "metadata": {
        "source_hash": "b9f89085",
        "execution_start": 1743186050574,
        "execution_millis": 1,
        "deepnote_table_state": {
          "sortBy": [],
          "filters": [],
          "pageSize": 10,
          "pageIndex": 1,
          "columnOrder": [
            "datetime",
            "move_from_top",
            "y_true",
            "volume_std_5",
            "volume_std_mean",
            "EMA_slope",
            "volume",
            "bearish_2",
            "bullish_1",
            "EMA_slope_60",
            "bullish_flag",
            "bearish_flag"
          ],
          "hiddenColumnIds": [],
          "columnDisplayNames": [],
          "conditionalFilters": [],
          "cellFormattingRules": [],
          "wrappedTextColumnIds": []
        },
        "execution_context_id": "8e2f0a54-20c5-4172-962a-089e0b96e208",
        "deepnote_table_loading": false,
        "cell_id": "f9c2aedfb3c74b2c8c05d6fea242a050",
        "deepnote_cell_type": "code"
      },
      "source": "ss['bearish_2_rolling']= ss['bearish_2'].rolling(window=3).mean()\nss['bullish_1_rolling'] = ss['bullish_1'].rolling(window=3).mean()",
      "block_group": "ec5a325c7f764c2aa1c8c48f6e144154",
      "execution_count": 87,
      "outputs": [],
      "outputs_reference": null,
      "content_dependencies": null
    },
    {
      "cell_type": "code",
      "metadata": {
        "source_hash": "5977a696",
        "execution_start": 1743127604725,
        "execution_millis": 0,
        "deepnote_table_state": {
          "sortBy": [],
          "filters": [],
          "pageSize": 10,
          "pageIndex": 0,
          "columnOrder": [
            "datetime",
            "y_true",
            "volume_std_5",
            "volume_std_mean",
            "EMA_slope",
            "volume",
            "bearish_2",
            "bullish_1",
            "EMA_slope_60",
            "bullish_flag",
            "bearish_flag"
          ],
          "hiddenColumnIds": [],
          "columnDisplayNames": [],
          "conditionalFilters": [],
          "cellFormattingRules": [],
          "wrappedTextColumnIds": []
        },
        "execution_context_id": "ca2f94c1-f5a2-4271-8220-9af59ef21879",
        "deepnote_table_loading": false,
        "cell_id": "7c533fb35174458fab2eff65abe5de12",
        "deepnote_cell_type": "code"
      },
      "source": "pp = ss[(ss['bearish_2'] > 0.6) & (ss['bearish_flag'] == 2) ][['datetime'\n    #,'move_from_bottom',\n    ,'y_true', 'volume_std_5','volume_std_mean'\n    ,'EMA_slope'\n    ,'volume'\n    ,'bearish_2'\n    ,'bullish_1'\n    ,'EMA_slope_60'\n    ,'bullish_flag'\n    ,'bearish_flag']].iloc[-30:]\n\n#& (ss['bearish_flag'] == 2) & (ss['y_true'] == 2)    ",
      "block_group": "24a20aefcf5649df8de33067aac661bc",
      "execution_count": 193,
      "outputs": [],
      "outputs_reference": null,
      "content_dependencies": null
    },
    {
      "cell_type": "code",
      "metadata": {
        "source_hash": "9a95fd27",
        "execution_start": 1743107293085,
        "execution_millis": 0,
        "deepnote_table_state": {
          "sortBy": [],
          "filters": [],
          "pageSize": 10,
          "pageIndex": 5,
          "columnOrder": [
            "datetime",
            "Open",
            "High",
            "Low",
            "Close",
            "volume",
            "minute",
            "hour",
            "diff",
            "diff_lag_1",
            "diff_lag_2",
            "diff_lag_3",
            "diff_lag_4",
            "diff_lag_5",
            "diff_lag_6",
            "diff_lag_7",
            "diff_lag_8",
            "diff_lag_9",
            "diff_lag_10",
            "diff_lag_11",
            "diff_lag_12",
            "diff_lag_13",
            "diff_lag_14",
            "diff_lag_15",
            "diff_lag_16",
            "diff_lag_17",
            "diff_lag_18",
            "diff_lag_19",
            "diff_lag_20",
            "diff_lag_21",
            "diff_lag_22",
            "diff_lag_23",
            "diff_lag_24",
            "diff_lag_25",
            "diff_lag_26",
            "diff_lag_27",
            "diff_lag_28",
            "diff_lag_29",
            "diff_lag_30",
            "diff_lag_31",
            "diff_lag_32",
            "diff_lag_33",
            "diff_lag_34",
            "diff_lag_35",
            "diff_lag_36",
            "diff_lag_37",
            "diff_lag_38",
            "diff_lag_39",
            "diff_lag_40",
            "diff_lag_41",
            "diff_lag_42",
            "diff_lag_43",
            "diff_lag_44",
            "diff_lag_45",
            "diff_lag_46",
            "diff_lag_47",
            "diff_lag_48",
            "diff_lag_49",
            "diff_lag_50",
            "diff_lag_51",
            "diff_lag_52",
            "diff_lag_53",
            "diff_lag_54",
            "diff_lag_55",
            "diff_lag_56",
            "diff_lag_57",
            "diff_lag_58",
            "diff_lag_59",
            "diff_lag_60",
            "max_high_6",
            "min_low_6",
            "max_high_20",
            "min_low_20",
            "upward_move_6",
            "downward_move_6",
            "upward_move_20",
            "downward_move_20",
            "bullish_move_20",
            "bearish_move_20",
            "bullish_move_flag_20",
            "bearish_move_flag_20",
            "volume_std_5",
            "volume_std_mean",
            "volume_mean_5",
            "volume_mean_3",
            "move_from_top",
            "move_from_bottom",
            "EMA_slope",
            "EMA_slope_15",
            "EMA_slope_60",
            "deviation_",
            "bearish_0",
            "bearish_1",
            "bearish_2",
            "bearish_3",
            "bullish_0",
            "bullish_1",
            "bullish_2",
            "bullish_3",
            "y_true",
            "bullish_flag",
            "bearish_flag",
            "timestamp",
            "bearish_22",
            "bullish_22"
          ],
          "hiddenColumnIds": [],
          "columnDisplayNames": [],
          "conditionalFilters": [],
          "cellFormattingRules": [],
          "wrappedTextColumnIds": []
        },
        "execution_context_id": "ca2f94c1-f5a2-4271-8220-9af59ef21879",
        "deepnote_table_loading": false,
        "cell_id": "6c8229e1fb9c4ddfbfe4cfbe3a27cf1d",
        "deepnote_cell_type": "code"
      },
      "source": "ss[(ss['bearish_2'] > 0.6)  & (ss['bullish_1'] < 0.56) ][['datetime'\n#    ,'move_from_bottom' \n    ,'y_true'\n    ,'EMA_slope'\n    ,'volume'\n    ,'bearish_2'\n    ,'bullish_1'\n    ,'EMA_slope_60'\n    ,'bullish_flag'\n    ,'bearish_flag']].iloc[-30:]",
      "block_group": "d7f92edb40ad43eebd526c11a5b8972f",
      "execution_count": 161,
      "outputs": [
        {
          "output_type": "execute_result",
          "execution_count": 161,
          "data": {
            "application/vnd.deepnote.dataframe.v3+json": {
              "column_count": 9,
              "row_count": 30,
              "columns": [
                {
                  "name": "datetime",
                  "dtype": "object",
                  "stats": {
                    "unique_count": 30,
                    "nan_count": 0,
                    "categories": [
                      {
                        "name": "2025-03-21 15:00:00+00:00",
                        "count": 1
                      },
                      {
                        "name": "2025-03-21 15:35:00+00:00",
                        "count": 1
                      },
                      {
                        "name": "28 others",
                        "count": 28
                      }
                    ]
                  }
                },
                {
                  "name": "y_true",
                  "dtype": "int64",
                  "stats": {
                    "unique_count": 3,
                    "nan_count": 0,
                    "min": "0",
                    "max": "2",
                    "histogram": [
                      {
                        "bin_start": 0,
                        "bin_end": 0.2,
                        "count": 16
                      },
                      {
                        "bin_start": 0.2,
                        "bin_end": 0.4,
                        "count": 0
                      },
                      {
                        "bin_start": 0.4,
                        "bin_end": 0.6000000000000001,
                        "count": 0
                      },
                      {
                        "bin_start": 0.6000000000000001,
                        "bin_end": 0.8,
                        "count": 0
                      },
                      {
                        "bin_start": 0.8,
                        "bin_end": 1,
                        "count": 0
                      },
                      {
                        "bin_start": 1,
                        "bin_end": 1.2000000000000002,
                        "count": 3
                      },
                      {
                        "bin_start": 1.2000000000000002,
                        "bin_end": 1.4000000000000001,
                        "count": 0
                      },
                      {
                        "bin_start": 1.4000000000000001,
                        "bin_end": 1.6,
                        "count": 0
                      },
                      {
                        "bin_start": 1.6,
                        "bin_end": 1.8,
                        "count": 0
                      },
                      {
                        "bin_start": 1.8,
                        "bin_end": 2,
                        "count": 11
                      }
                    ]
                  }
                },
                {
                  "name": "EMA_slope",
                  "dtype": "float64",
                  "stats": {
                    "unique_count": 30,
                    "nan_count": 0,
                    "min": "-1.697209757148812",
                    "max": "2.33403726285178",
                    "histogram": [
                      {
                        "bin_start": -1.697209757148812,
                        "bin_end": -1.2940850551487528,
                        "count": 1
                      },
                      {
                        "bin_start": -1.2940850551487528,
                        "bin_end": -0.8909603531486937,
                        "count": 3
                      },
                      {
                        "bin_start": -0.8909603531486937,
                        "bin_end": -0.4878356511486346,
                        "count": 7
                      },
                      {
                        "bin_start": -0.4878356511486346,
                        "bin_end": -0.08471094914857535,
                        "count": 5
                      },
                      {
                        "bin_start": -0.08471094914857535,
                        "bin_end": 0.3184137528514839,
                        "count": 6
                      },
                      {
                        "bin_start": 0.3184137528514839,
                        "bin_end": 0.7215384548515429,
                        "count": 4
                      },
                      {
                        "bin_start": 0.7215384548515429,
                        "bin_end": 1.1246631568516023,
                        "count": 2
                      },
                      {
                        "bin_start": 1.1246631568516023,
                        "bin_end": 1.5277878588516614,
                        "count": 0
                      },
                      {
                        "bin_start": 1.5277878588516614,
                        "bin_end": 1.9309125608517204,
                        "count": 0
                      },
                      {
                        "bin_start": 1.9309125608517204,
                        "bin_end": 2.33403726285178,
                        "count": 2
                      }
                    ]
                  }
                },
                {
                  "name": "volume",
                  "dtype": "int64",
                  "stats": {
                    "unique_count": 29,
                    "nan_count": 0,
                    "min": "113",
                    "max": "2172",
                    "histogram": [
                      {
                        "bin_start": 113,
                        "bin_end": 318.9,
                        "count": 5
                      },
                      {
                        "bin_start": 318.9,
                        "bin_end": 524.8,
                        "count": 6
                      },
                      {
                        "bin_start": 524.8,
                        "bin_end": 730.7,
                        "count": 10
                      },
                      {
                        "bin_start": 730.7,
                        "bin_end": 936.6,
                        "count": 5
                      },
                      {
                        "bin_start": 936.6,
                        "bin_end": 1142.5,
                        "count": 2
                      },
                      {
                        "bin_start": 1142.5,
                        "bin_end": 1348.4,
                        "count": 0
                      },
                      {
                        "bin_start": 1348.4,
                        "bin_end": 1554.3,
                        "count": 0
                      },
                      {
                        "bin_start": 1554.3,
                        "bin_end": 1760.2,
                        "count": 1
                      },
                      {
                        "bin_start": 1760.2,
                        "bin_end": 1966.1000000000001,
                        "count": 0
                      },
                      {
                        "bin_start": 1966.1000000000001,
                        "bin_end": 2172,
                        "count": 1
                      }
                    ]
                  }
                },
                {
                  "name": "bearish_2",
                  "dtype": "float64",
                  "stats": {
                    "unique_count": 30,
                    "nan_count": 0,
                    "min": "0.6016918420791626",
                    "max": "0.6888553500175476",
                    "histogram": [
                      {
                        "bin_start": 0.6016918420791626,
                        "bin_end": 0.6104081928730011,
                        "count": 5
                      },
                      {
                        "bin_start": 0.6104081928730011,
                        "bin_end": 0.6191245436668396,
                        "count": 7
                      },
                      {
                        "bin_start": 0.6191245436668396,
                        "bin_end": 0.6278408944606781,
                        "count": 3
                      },
                      {
                        "bin_start": 0.6278408944606781,
                        "bin_end": 0.6365572452545166,
                        "count": 3
                      },
                      {
                        "bin_start": 0.6365572452545166,
                        "bin_end": 0.6452735960483551,
                        "count": 4
                      },
                      {
                        "bin_start": 0.6452735960483551,
                        "bin_end": 0.6539899468421936,
                        "count": 1
                      },
                      {
                        "bin_start": 0.6539899468421936,
                        "bin_end": 0.6627062976360321,
                        "count": 0
                      },
                      {
                        "bin_start": 0.6627062976360321,
                        "bin_end": 0.6714226484298706,
                        "count": 2
                      },
                      {
                        "bin_start": 0.6714226484298706,
                        "bin_end": 0.6801389992237091,
                        "count": 0
                      },
                      {
                        "bin_start": 0.6801389992237091,
                        "bin_end": 0.6888553500175476,
                        "count": 5
                      }
                    ]
                  }
                },
                {
                  "name": "bullish_1",
                  "dtype": "float64",
                  "stats": {
                    "unique_count": 30,
                    "nan_count": 0,
                    "min": "0.4835656583309173",
                    "max": "0.5599120259284973",
                    "histogram": [
                      {
                        "bin_start": 0.4835656583309173,
                        "bin_end": 0.4912002950906753,
                        "count": 5
                      },
                      {
                        "bin_start": 0.4912002950906753,
                        "bin_end": 0.4988349318504333,
                        "count": 1
                      },
                      {
                        "bin_start": 0.4988349318504333,
                        "bin_end": 0.5064695686101913,
                        "count": 2
                      },
                      {
                        "bin_start": 0.5064695686101913,
                        "bin_end": 0.5141042053699493,
                        "count": 0
                      },
                      {
                        "bin_start": 0.5141042053699493,
                        "bin_end": 0.5217388421297073,
                        "count": 4
                      },
                      {
                        "bin_start": 0.5217388421297073,
                        "bin_end": 0.5293734788894653,
                        "count": 2
                      },
                      {
                        "bin_start": 0.5293734788894653,
                        "bin_end": 0.5370081156492233,
                        "count": 1
                      },
                      {
                        "bin_start": 0.5370081156492233,
                        "bin_end": 0.5446427524089813,
                        "count": 6
                      },
                      {
                        "bin_start": 0.5446427524089813,
                        "bin_end": 0.5522773891687394,
                        "count": 3
                      },
                      {
                        "bin_start": 0.5522773891687394,
                        "bin_end": 0.5599120259284973,
                        "count": 6
                      }
                    ]
                  }
                },
                {
                  "name": "EMA_slope_60",
                  "dtype": "float64",
                  "stats": {
                    "unique_count": 30,
                    "nan_count": 0,
                    "min": "-0.5652235358065809",
                    "max": "0.6569077712829312",
                    "histogram": [
                      {
                        "bin_start": -0.5652235358065809,
                        "bin_end": -0.4430104050976297,
                        "count": 2
                      },
                      {
                        "bin_start": -0.4430104050976297,
                        "bin_end": -0.3207972743886785,
                        "count": 2
                      },
                      {
                        "bin_start": -0.3207972743886785,
                        "bin_end": -0.19858414367972732,
                        "count": 3
                      },
                      {
                        "bin_start": -0.19858414367972732,
                        "bin_end": -0.07637101297077609,
                        "count": 6
                      },
                      {
                        "bin_start": -0.07637101297077609,
                        "bin_end": 0.04584211773817515,
                        "count": 5
                      },
                      {
                        "bin_start": 0.04584211773817515,
                        "bin_end": 0.16805524844712627,
                        "count": 5
                      },
                      {
                        "bin_start": 0.16805524844712627,
                        "bin_end": 0.2902683791560775,
                        "count": 2
                      },
                      {
                        "bin_start": 0.2902683791560775,
                        "bin_end": 0.41248150986502874,
                        "count": 3
                      },
                      {
                        "bin_start": 0.41248150986502874,
                        "bin_end": 0.5346946405739799,
                        "count": 1
                      },
                      {
                        "bin_start": 0.5346946405739799,
                        "bin_end": 0.6569077712829312,
                        "count": 1
                      }
                    ]
                  }
                },
                {
                  "name": "bullish_flag",
                  "dtype": "int64",
                  "stats": {
                    "unique_count": 1,
                    "nan_count": 0,
                    "min": "0",
                    "max": "0",
                    "histogram": [
                      {
                        "bin_start": -0.5,
                        "bin_end": -0.4,
                        "count": 0
                      },
                      {
                        "bin_start": -0.4,
                        "bin_end": -0.3,
                        "count": 0
                      },
                      {
                        "bin_start": -0.3,
                        "bin_end": -0.19999999999999996,
                        "count": 0
                      },
                      {
                        "bin_start": -0.19999999999999996,
                        "bin_end": -0.09999999999999998,
                        "count": 0
                      },
                      {
                        "bin_start": -0.09999999999999998,
                        "bin_end": 0,
                        "count": 0
                      },
                      {
                        "bin_start": 0,
                        "bin_end": 0.10000000000000009,
                        "count": 30
                      },
                      {
                        "bin_start": 0.10000000000000009,
                        "bin_end": 0.20000000000000007,
                        "count": 0
                      },
                      {
                        "bin_start": 0.20000000000000007,
                        "bin_end": 0.30000000000000004,
                        "count": 0
                      },
                      {
                        "bin_start": 0.30000000000000004,
                        "bin_end": 0.4,
                        "count": 0
                      },
                      {
                        "bin_start": 0.4,
                        "bin_end": 0.5,
                        "count": 0
                      }
                    ]
                  }
                },
                {
                  "name": "bearish_flag",
                  "dtype": "int64",
                  "stats": {
                    "unique_count": 2,
                    "nan_count": 0,
                    "min": "0",
                    "max": "2",
                    "histogram": [
                      {
                        "bin_start": 0,
                        "bin_end": 0.2,
                        "count": 29
                      },
                      {
                        "bin_start": 0.2,
                        "bin_end": 0.4,
                        "count": 0
                      },
                      {
                        "bin_start": 0.4,
                        "bin_end": 0.6000000000000001,
                        "count": 0
                      },
                      {
                        "bin_start": 0.6000000000000001,
                        "bin_end": 0.8,
                        "count": 0
                      },
                      {
                        "bin_start": 0.8,
                        "bin_end": 1,
                        "count": 0
                      },
                      {
                        "bin_start": 1,
                        "bin_end": 1.2000000000000002,
                        "count": 0
                      },
                      {
                        "bin_start": 1.2000000000000002,
                        "bin_end": 1.4000000000000001,
                        "count": 0
                      },
                      {
                        "bin_start": 1.4000000000000001,
                        "bin_end": 1.6,
                        "count": 0
                      },
                      {
                        "bin_start": 1.6,
                        "bin_end": 1.8,
                        "count": 0
                      },
                      {
                        "bin_start": 1.8,
                        "bin_end": 2,
                        "count": 1
                      }
                    ]
                  }
                },
                {
                  "name": "_deepnote_index_column",
                  "dtype": "int64"
                }
              ],
              "rows": [
                {
                  "datetime": "2025-03-26 16:30:00+00:00",
                  "y_true": 2,
                  "EMA_slope": 0.8566793764603062,
                  "volume": 629,
                  "bearish_2": 0.6404529809951782,
                  "bullish_1": 0.5202000141143799,
                  "EMA_slope_60": 0.0635852620034711,
                  "bullish_flag": 0,
                  "bearish_flag": 0,
                  "_deepnote_index_column": 2306
                },
                {
                  "datetime": "2025-03-26 20:25:00+00:00",
                  "y_true": 2,
                  "EMA_slope": 0.4284519259363151,
                  "volume": 113,
                  "bearish_2": 0.6192478537559509,
                  "bullish_1": 0.515130341053009,
                  "EMA_slope_60": -0.277994351923553,
                  "bullish_flag": 0,
                  "bearish_flag": 0,
                  "_deepnote_index_column": 2353
                },
                {
                  "datetime": "2025-03-26 21:20:00+00:00",
                  "y_true": 0,
                  "EMA_slope": -1.697209757148812,
                  "volume": 168,
                  "bearish_2": 0.6329390406608582,
                  "bullish_1": 0.5384600758552551,
                  "EMA_slope_60": -0.452380374290442,
                  "bullish_flag": 0,
                  "bearish_flag": 0,
                  "_deepnote_index_column": 2364
                },
                {
                  "datetime": "2025-03-26 22:35:00+00:00",
                  "y_true": 0,
                  "EMA_slope": -0.730481466409401,
                  "volume": 129,
                  "bearish_2": 0.6016918420791626,
                  "bullish_1": 0.5433474183082581,
                  "EMA_slope_60": -0.5652235358065809,
                  "bullish_flag": 0,
                  "bearish_flag": 0,
                  "_deepnote_index_column": 2379
                },
                {
                  "datetime": "2025-03-27 07:00:00+00:00",
                  "y_true": 0,
                  "EMA_slope": -0.7452068218772183,
                  "volume": 803,
                  "bearish_2": 0.617281436920166,
                  "bullish_1": 0.5430124998092651,
                  "EMA_slope_60": -0.0300252491852006,
                  "bullish_flag": 0,
                  "bearish_flag": 0,
                  "_deepnote_index_column": 2480
                },
                {
                  "datetime": "2025-03-27 13:15:00+00:00",
                  "y_true": 0,
                  "EMA_slope": -1.2465286110073066,
                  "volume": 533,
                  "bearish_2": 0.6187110543251038,
                  "bullish_1": 0.5475456118583679,
                  "EMA_slope_60": 0.0357967812324204,
                  "bullish_flag": 0,
                  "bearish_flag": 0,
                  "_deepnote_index_column": 2555
                },
                {
                  "datetime": "2025-03-27 13:50:00+00:00",
                  "y_true": 1,
                  "EMA_slope": 0.2627068830352073,
                  "volume": 942,
                  "bearish_2": 0.6207305788993835,
                  "bullish_1": 0.5575876832008362,
                  "EMA_slope_60": 0.1953111590464686,
                  "bullish_flag": 0,
                  "bearish_flag": 0,
                  "_deepnote_index_column": 2562
                },
                {
                  "datetime": "2025-03-27 16:20:00+00:00",
                  "y_true": 0,
                  "EMA_slope": -0.3003439225267357,
                  "volume": 667,
                  "bearish_2": 0.6639496684074402,
                  "bullish_1": 0.5373612642288208,
                  "EMA_slope_60": 0.2940180905643501,
                  "bullish_flag": 0,
                  "bearish_flag": 0,
                  "_deepnote_index_column": 2592
                },
                {
                  "datetime": "2025-03-27 17:30:00+00:00",
                  "y_true": 0,
                  "EMA_slope": -0.6228371781871829,
                  "volume": 539,
                  "bearish_2": 0.6821239590644836,
                  "bullish_1": 0.5347351431846619,
                  "EMA_slope_60": 0.1598582704082218,
                  "bullish_flag": 0,
                  "bearish_flag": 0,
                  "_deepnote_index_column": 2606
                },
                {
                  "datetime": "2025-03-27 19:35:00+00:00",
                  "y_true": 0,
                  "EMA_slope": 0.605736734047241,
                  "volume": 129,
                  "bearish_2": 0.684389591217041,
                  "bullish_1": 0.5183917880058289,
                  "EMA_slope_60": 0.1413248928129178,
                  "bullish_flag": 0,
                  "bearish_flag": 0,
                  "_deepnote_index_column": 2631
                }
              ],
              "type": "dataframe"
            },
            "text/plain": "                       datetime  y_true  EMA_slope  volume  bearish_2  \\\n1424  2025-03-21 15:00:00+00:00       2  -0.637774     689   0.684882   \n1431  2025-03-21 15:35:00+00:00       2  -0.037483     387   0.602646   \n1444  2025-03-21 16:40:00+00:00       0   0.840622     498   0.611624   \n1634  2025-03-24 08:30:00+00:00       0   2.236312    1568   0.648857   \n1637  2025-03-24 08:45:00+00:00       2   0.501792     877   0.612879   \n1664  2025-03-24 11:00:00+00:00       2  -0.081013     560   0.611587   \n1761  2025-03-24 19:05:00+00:00       0   0.440226     269   0.611266   \n1943  2025-03-25 10:15:00+00:00       0   2.334037     488   0.605965   \n1964  2025-03-25 12:00:00+00:00       0  -0.715586     665   0.636361   \n2002  2025-03-25 15:10:00+00:00       2   0.240385     611   0.684818   \n2008  2025-03-25 15:40:00+00:00       0  -0.523788     646   0.644011   \n2018  2025-03-25 16:30:00+00:00       0   0.237897     451   0.613972   \n2034  2025-03-25 17:50:00+00:00       0  -0.550586     422   0.637973   \n2237  2025-03-26 10:45:00+00:00       0  -1.009627     372   0.664348   \n2265  2025-03-26 13:05:00+00:00       2  -0.311237     950   0.631340   \n2274  2025-03-26 13:50:00+00:00       1  -0.463524     894   0.607711   \n2276  2025-03-26 14:00:00+00:00       1  -0.300655     811   0.621545   \n2288  2025-03-26 15:00:00+00:00       2   0.138212     599   0.645096   \n2299  2025-03-26 15:55:00+00:00       2  -1.086732    2172   0.688855   \n2303  2025-03-26 16:15:00+00:00       2  -0.256486     802   0.602941   \n2306  2025-03-26 16:30:00+00:00       2   0.856679     629   0.640453   \n2353  2025-03-26 20:25:00+00:00       2   0.428452     113   0.619248   \n2364  2025-03-26 21:20:00+00:00       0  -1.697210     168   0.632939   \n2379  2025-03-26 22:35:00+00:00       0  -0.730481     129   0.601692   \n2480  2025-03-27 07:00:00+00:00       0  -0.745207     803   0.617281   \n2555  2025-03-27 13:15:00+00:00       0  -1.246529     533   0.618711   \n2562  2025-03-27 13:50:00+00:00       1   0.262707     942   0.620731   \n2592  2025-03-27 16:20:00+00:00       0  -0.300344     667   0.663950   \n2606  2025-03-27 17:30:00+00:00       0  -0.622837     539   0.682124   \n2631  2025-03-27 19:35:00+00:00       0   0.605737     129   0.684390   \n\n      bullish_1  EMA_slope_60  bullish_flag  bearish_flag  \n1424   0.522206     -0.311156             0             0  \n1431   0.498023     -0.192070             0             0  \n1444   0.559912     -0.169849             0             0  \n1634   0.486701      0.656908             0             0  \n1637   0.501131      0.373563             0             0  \n1664   0.543573      0.261695             0             0  \n1761   0.500614      0.070157             0             0  \n1943   0.546773      0.527769             0             0  \n1964   0.520600      0.339419             0             0  \n2002   0.485016      0.023133             0             0  \n2008   0.542337     -0.051624             0             0  \n2018   0.526370     -0.083521             0             0  \n2034   0.486588     -0.152217             0             0  \n2237   0.488147     -0.071479             0             2  \n2265   0.552686     -0.173822             0             0  \n2274   0.546154     -0.418599             0             0  \n2276   0.552696     -0.388966             0             0  \n2288   0.559448      0.117464             0             0  \n2299   0.483566     -0.230851             0             0  \n2303   0.554834     -0.166817             0             0  \n2306   0.520200      0.063585             0             0  \n2353   0.515130     -0.277994             0             0  \n2364   0.538460     -0.452380             0             0  \n2379   0.543347     -0.565224             0             0  \n2480   0.543012     -0.030025             0             0  \n2555   0.547546      0.035797             0             0  \n2562   0.557588      0.195311             0             0  \n2592   0.537361      0.294018             0             0  \n2606   0.534735      0.159858             0             0  \n2631   0.518392      0.141325             0             0  ",
            "text/html": "<div>\n<style scoped>\n    .dataframe tbody tr th:only-of-type {\n        vertical-align: middle;\n    }\n\n    .dataframe tbody tr th {\n        vertical-align: top;\n    }\n\n    .dataframe thead th {\n        text-align: right;\n    }\n</style>\n<table border=\"1\" class=\"dataframe\">\n  <thead>\n    <tr style=\"text-align: right;\">\n      <th></th>\n      <th>datetime</th>\n      <th>y_true</th>\n      <th>EMA_slope</th>\n      <th>volume</th>\n      <th>bearish_2</th>\n      <th>bullish_1</th>\n      <th>EMA_slope_60</th>\n      <th>bullish_flag</th>\n      <th>bearish_flag</th>\n    </tr>\n  </thead>\n  <tbody>\n    <tr>\n      <th>1424</th>\n      <td>2025-03-21 15:00:00+00:00</td>\n      <td>2</td>\n      <td>-0.637774</td>\n      <td>689</td>\n      <td>0.684882</td>\n      <td>0.522206</td>\n      <td>-0.311156</td>\n      <td>0</td>\n      <td>0</td>\n    </tr>\n    <tr>\n      <th>1431</th>\n      <td>2025-03-21 15:35:00+00:00</td>\n      <td>2</td>\n      <td>-0.037483</td>\n      <td>387</td>\n      <td>0.602646</td>\n      <td>0.498023</td>\n      <td>-0.192070</td>\n      <td>0</td>\n      <td>0</td>\n    </tr>\n    <tr>\n      <th>1444</th>\n      <td>2025-03-21 16:40:00+00:00</td>\n      <td>0</td>\n      <td>0.840622</td>\n      <td>498</td>\n      <td>0.611624</td>\n      <td>0.559912</td>\n      <td>-0.169849</td>\n      <td>0</td>\n      <td>0</td>\n    </tr>\n    <tr>\n      <th>1634</th>\n      <td>2025-03-24 08:30:00+00:00</td>\n      <td>0</td>\n      <td>2.236312</td>\n      <td>1568</td>\n      <td>0.648857</td>\n      <td>0.486701</td>\n      <td>0.656908</td>\n      <td>0</td>\n      <td>0</td>\n    </tr>\n    <tr>\n      <th>1637</th>\n      <td>2025-03-24 08:45:00+00:00</td>\n      <td>2</td>\n      <td>0.501792</td>\n      <td>877</td>\n      <td>0.612879</td>\n      <td>0.501131</td>\n      <td>0.373563</td>\n      <td>0</td>\n      <td>0</td>\n    </tr>\n    <tr>\n      <th>1664</th>\n      <td>2025-03-24 11:00:00+00:00</td>\n      <td>2</td>\n      <td>-0.081013</td>\n      <td>560</td>\n      <td>0.611587</td>\n      <td>0.543573</td>\n      <td>0.261695</td>\n      <td>0</td>\n      <td>0</td>\n    </tr>\n    <tr>\n      <th>1761</th>\n      <td>2025-03-24 19:05:00+00:00</td>\n      <td>0</td>\n      <td>0.440226</td>\n      <td>269</td>\n      <td>0.611266</td>\n      <td>0.500614</td>\n      <td>0.070157</td>\n      <td>0</td>\n      <td>0</td>\n    </tr>\n    <tr>\n      <th>1943</th>\n      <td>2025-03-25 10:15:00+00:00</td>\n      <td>0</td>\n      <td>2.334037</td>\n      <td>488</td>\n      <td>0.605965</td>\n      <td>0.546773</td>\n      <td>0.527769</td>\n      <td>0</td>\n      <td>0</td>\n    </tr>\n    <tr>\n      <th>1964</th>\n      <td>2025-03-25 12:00:00+00:00</td>\n      <td>0</td>\n      <td>-0.715586</td>\n      <td>665</td>\n      <td>0.636361</td>\n      <td>0.520600</td>\n      <td>0.339419</td>\n      <td>0</td>\n      <td>0</td>\n    </tr>\n    <tr>\n      <th>2002</th>\n      <td>2025-03-25 15:10:00+00:00</td>\n      <td>2</td>\n      <td>0.240385</td>\n      <td>611</td>\n      <td>0.684818</td>\n      <td>0.485016</td>\n      <td>0.023133</td>\n      <td>0</td>\n      <td>0</td>\n    </tr>\n    <tr>\n      <th>2008</th>\n      <td>2025-03-25 15:40:00+00:00</td>\n      <td>0</td>\n      <td>-0.523788</td>\n      <td>646</td>\n      <td>0.644011</td>\n      <td>0.542337</td>\n      <td>-0.051624</td>\n      <td>0</td>\n      <td>0</td>\n    </tr>\n    <tr>\n      <th>2018</th>\n      <td>2025-03-25 16:30:00+00:00</td>\n      <td>0</td>\n      <td>0.237897</td>\n      <td>451</td>\n      <td>0.613972</td>\n      <td>0.526370</td>\n      <td>-0.083521</td>\n      <td>0</td>\n      <td>0</td>\n    </tr>\n    <tr>\n      <th>2034</th>\n      <td>2025-03-25 17:50:00+00:00</td>\n      <td>0</td>\n      <td>-0.550586</td>\n      <td>422</td>\n      <td>0.637973</td>\n      <td>0.486588</td>\n      <td>-0.152217</td>\n      <td>0</td>\n      <td>0</td>\n    </tr>\n    <tr>\n      <th>2237</th>\n      <td>2025-03-26 10:45:00+00:00</td>\n      <td>0</td>\n      <td>-1.009627</td>\n      <td>372</td>\n      <td>0.664348</td>\n      <td>0.488147</td>\n      <td>-0.071479</td>\n      <td>0</td>\n      <td>2</td>\n    </tr>\n    <tr>\n      <th>2265</th>\n      <td>2025-03-26 13:05:00+00:00</td>\n      <td>2</td>\n      <td>-0.311237</td>\n      <td>950</td>\n      <td>0.631340</td>\n      <td>0.552686</td>\n      <td>-0.173822</td>\n      <td>0</td>\n      <td>0</td>\n    </tr>\n    <tr>\n      <th>2274</th>\n      <td>2025-03-26 13:50:00+00:00</td>\n      <td>1</td>\n      <td>-0.463524</td>\n      <td>894</td>\n      <td>0.607711</td>\n      <td>0.546154</td>\n      <td>-0.418599</td>\n      <td>0</td>\n      <td>0</td>\n    </tr>\n    <tr>\n      <th>2276</th>\n      <td>2025-03-26 14:00:00+00:00</td>\n      <td>1</td>\n      <td>-0.300655</td>\n      <td>811</td>\n      <td>0.621545</td>\n      <td>0.552696</td>\n      <td>-0.388966</td>\n      <td>0</td>\n      <td>0</td>\n    </tr>\n    <tr>\n      <th>2288</th>\n      <td>2025-03-26 15:00:00+00:00</td>\n      <td>2</td>\n      <td>0.138212</td>\n      <td>599</td>\n      <td>0.645096</td>\n      <td>0.559448</td>\n      <td>0.117464</td>\n      <td>0</td>\n      <td>0</td>\n    </tr>\n    <tr>\n      <th>2299</th>\n      <td>2025-03-26 15:55:00+00:00</td>\n      <td>2</td>\n      <td>-1.086732</td>\n      <td>2172</td>\n      <td>0.688855</td>\n      <td>0.483566</td>\n      <td>-0.230851</td>\n      <td>0</td>\n      <td>0</td>\n    </tr>\n    <tr>\n      <th>2303</th>\n      <td>2025-03-26 16:15:00+00:00</td>\n      <td>2</td>\n      <td>-0.256486</td>\n      <td>802</td>\n      <td>0.602941</td>\n      <td>0.554834</td>\n      <td>-0.166817</td>\n      <td>0</td>\n      <td>0</td>\n    </tr>\n    <tr>\n      <th>2306</th>\n      <td>2025-03-26 16:30:00+00:00</td>\n      <td>2</td>\n      <td>0.856679</td>\n      <td>629</td>\n      <td>0.640453</td>\n      <td>0.520200</td>\n      <td>0.063585</td>\n      <td>0</td>\n      <td>0</td>\n    </tr>\n    <tr>\n      <th>2353</th>\n      <td>2025-03-26 20:25:00+00:00</td>\n      <td>2</td>\n      <td>0.428452</td>\n      <td>113</td>\n      <td>0.619248</td>\n      <td>0.515130</td>\n      <td>-0.277994</td>\n      <td>0</td>\n      <td>0</td>\n    </tr>\n    <tr>\n      <th>2364</th>\n      <td>2025-03-26 21:20:00+00:00</td>\n      <td>0</td>\n      <td>-1.697210</td>\n      <td>168</td>\n      <td>0.632939</td>\n      <td>0.538460</td>\n      <td>-0.452380</td>\n      <td>0</td>\n      <td>0</td>\n    </tr>\n    <tr>\n      <th>2379</th>\n      <td>2025-03-26 22:35:00+00:00</td>\n      <td>0</td>\n      <td>-0.730481</td>\n      <td>129</td>\n      <td>0.601692</td>\n      <td>0.543347</td>\n      <td>-0.565224</td>\n      <td>0</td>\n      <td>0</td>\n    </tr>\n    <tr>\n      <th>2480</th>\n      <td>2025-03-27 07:00:00+00:00</td>\n      <td>0</td>\n      <td>-0.745207</td>\n      <td>803</td>\n      <td>0.617281</td>\n      <td>0.543012</td>\n      <td>-0.030025</td>\n      <td>0</td>\n      <td>0</td>\n    </tr>\n    <tr>\n      <th>2555</th>\n      <td>2025-03-27 13:15:00+00:00</td>\n      <td>0</td>\n      <td>-1.246529</td>\n      <td>533</td>\n      <td>0.618711</td>\n      <td>0.547546</td>\n      <td>0.035797</td>\n      <td>0</td>\n      <td>0</td>\n    </tr>\n    <tr>\n      <th>2562</th>\n      <td>2025-03-27 13:50:00+00:00</td>\n      <td>1</td>\n      <td>0.262707</td>\n      <td>942</td>\n      <td>0.620731</td>\n      <td>0.557588</td>\n      <td>0.195311</td>\n      <td>0</td>\n      <td>0</td>\n    </tr>\n    <tr>\n      <th>2592</th>\n      <td>2025-03-27 16:20:00+00:00</td>\n      <td>0</td>\n      <td>-0.300344</td>\n      <td>667</td>\n      <td>0.663950</td>\n      <td>0.537361</td>\n      <td>0.294018</td>\n      <td>0</td>\n      <td>0</td>\n    </tr>\n    <tr>\n      <th>2606</th>\n      <td>2025-03-27 17:30:00+00:00</td>\n      <td>0</td>\n      <td>-0.622837</td>\n      <td>539</td>\n      <td>0.682124</td>\n      <td>0.534735</td>\n      <td>0.159858</td>\n      <td>0</td>\n      <td>0</td>\n    </tr>\n    <tr>\n      <th>2631</th>\n      <td>2025-03-27 19:35:00+00:00</td>\n      <td>0</td>\n      <td>0.605737</td>\n      <td>129</td>\n      <td>0.684390</td>\n      <td>0.518392</td>\n      <td>0.141325</td>\n      <td>0</td>\n      <td>0</td>\n    </tr>\n  </tbody>\n</table>\n</div>"
          },
          "metadata": {}
        }
      ],
      "outputs_reference": null,
      "content_dependencies": null
    },
    {
      "cell_type": "code",
      "metadata": {
        "source_hash": "db8f1028",
        "execution_start": 1743106108787,
        "execution_millis": 4,
        "execution_context_id": "ca2f94c1-f5a2-4271-8220-9af59ef21879",
        "cell_id": "2a420ac75a764dec90480d6ffc275d47",
        "deepnote_cell_type": "code"
      },
      "source": "ss[(ss['bearish_22'] > 0.6) & (ss['bearish_flag'] == 2)]",
      "block_group": "539fb1c2f99242fc872abd642c41cfd4",
      "execution_count": 119,
      "outputs": [
        {
          "output_type": "execute_result",
          "execution_count": 119,
          "data": {
            "application/vnd.deepnote.dataframe.v3+json": {
              "column_count": 104,
              "row_count": 12,
              "columns": [
                {
                  "name": "datetime",
                  "dtype": "object",
                  "stats": {
                    "unique_count": 12,
                    "nan_count": 0,
                    "categories": [
                      {
                        "name": "2025-03-17 12:45:00+00:00",
                        "count": 1
                      },
                      {
                        "name": "2025-03-18 15:20:00+00:00",
                        "count": 1
                      },
                      {
                        "name": "10 others",
                        "count": 10
                      }
                    ]
                  }
                },
                {
                  "name": "Open",
                  "dtype": "float64",
                  "stats": {
                    "unique_count": 12,
                    "nan_count": 0,
                    "min": "10758.1",
                    "max": "10902.9",
                    "histogram": [
                      {
                        "bin_start": 10758.1,
                        "bin_end": 10772.58,
                        "count": 1
                      },
                      {
                        "bin_start": 10772.58,
                        "bin_end": 10787.06,
                        "count": 1
                      },
                      {
                        "bin_start": 10787.06,
                        "bin_end": 10801.54,
                        "count": 2
                      },
                      {
                        "bin_start": 10801.54,
                        "bin_end": 10816.02,
                        "count": 0
                      },
                      {
                        "bin_start": 10816.02,
                        "bin_end": 10830.5,
                        "count": 0
                      },
                      {
                        "bin_start": 10830.5,
                        "bin_end": 10844.98,
                        "count": 1
                      },
                      {
                        "bin_start": 10844.98,
                        "bin_end": 10859.46,
                        "count": 0
                      },
                      {
                        "bin_start": 10859.46,
                        "bin_end": 10873.94,
                        "count": 3
                      },
                      {
                        "bin_start": 10873.94,
                        "bin_end": 10888.42,
                        "count": 0
                      },
                      {
                        "bin_start": 10888.42,
                        "bin_end": 10902.9,
                        "count": 4
                      }
                    ]
                  }
                },
                {
                  "name": "High",
                  "dtype": "float64",
                  "stats": {
                    "unique_count": 12,
                    "nan_count": 0,
                    "min": "10764.7",
                    "max": "10904.8",
                    "histogram": [
                      {
                        "bin_start": 10764.7,
                        "bin_end": 10778.710000000001,
                        "count": 1
                      },
                      {
                        "bin_start": 10778.710000000001,
                        "bin_end": 10792.720000000001,
                        "count": 2
                      },
                      {
                        "bin_start": 10792.720000000001,
                        "bin_end": 10806.73,
                        "count": 1
                      },
                      {
                        "bin_start": 10806.73,
                        "bin_end": 10820.74,
                        "count": 0
                      },
                      {
                        "bin_start": 10820.74,
                        "bin_end": 10834.75,
                        "count": 0
                      },
                      {
                        "bin_start": 10834.75,
                        "bin_end": 10848.76,
                        "count": 1
                      },
                      {
                        "bin_start": 10848.76,
                        "bin_end": 10862.77,
                        "count": 0
                      },
                      {
                        "bin_start": 10862.77,
                        "bin_end": 10876.779999999999,
                        "count": 3
                      },
                      {
                        "bin_start": 10876.779999999999,
                        "bin_end": 10890.789999999999,
                        "count": 0
                      },
                      {
                        "bin_start": 10890.789999999999,
                        "bin_end": 10904.8,
                        "count": 4
                      }
                    ]
                  }
                },
                {
                  "name": "Low",
                  "dtype": "float64",
                  "stats": {
                    "unique_count": 12,
                    "nan_count": 0,
                    "min": "10757.2",
                    "max": "10900.0",
                    "histogram": [
                      {
                        "bin_start": 10757.2,
                        "bin_end": 10771.480000000001,
                        "count": 1
                      },
                      {
                        "bin_start": 10771.480000000001,
                        "bin_end": 10785.76,
                        "count": 1
                      },
                      {
                        "bin_start": 10785.76,
                        "bin_end": 10800.04,
                        "count": 2
                      },
                      {
                        "bin_start": 10800.04,
                        "bin_end": 10814.32,
                        "count": 0
                      },
                      {
                        "bin_start": 10814.32,
                        "bin_end": 10828.6,
                        "count": 0
                      },
                      {
                        "bin_start": 10828.6,
                        "bin_end": 10842.880000000001,
                        "count": 1
                      },
                      {
                        "bin_start": 10842.880000000001,
                        "bin_end": 10857.16,
                        "count": 0
                      },
                      {
                        "bin_start": 10857.16,
                        "bin_end": 10871.44,
                        "count": 3
                      },
                      {
                        "bin_start": 10871.44,
                        "bin_end": 10885.72,
                        "count": 0
                      },
                      {
                        "bin_start": 10885.72,
                        "bin_end": 10900,
                        "count": 4
                      }
                    ]
                  }
                },
                {
                  "name": "Close",
                  "dtype": "float64",
                  "stats": {
                    "unique_count": 12,
                    "nan_count": 0,
                    "min": "10764.6",
                    "max": "10904.4",
                    "histogram": [
                      {
                        "bin_start": 10764.6,
                        "bin_end": 10778.58,
                        "count": 1
                      },
                      {
                        "bin_start": 10778.58,
                        "bin_end": 10792.56,
                        "count": 2
                      },
                      {
                        "bin_start": 10792.56,
                        "bin_end": 10806.54,
                        "count": 1
                      },
                      {
                        "bin_start": 10806.54,
                        "bin_end": 10820.52,
                        "count": 0
                      },
                      {
                        "bin_start": 10820.52,
                        "bin_end": 10834.5,
                        "count": 0
                      },
                      {
                        "bin_start": 10834.5,
                        "bin_end": 10848.48,
                        "count": 1
                      },
                      {
                        "bin_start": 10848.48,
                        "bin_end": 10862.46,
                        "count": 0
                      },
                      {
                        "bin_start": 10862.46,
                        "bin_end": 10876.44,
                        "count": 3
                      },
                      {
                        "bin_start": 10876.44,
                        "bin_end": 10890.42,
                        "count": 0
                      },
                      {
                        "bin_start": 10890.42,
                        "bin_end": 10904.4,
                        "count": 4
                      }
                    ]
                  }
                },
                {
                  "name": "volume",
                  "dtype": "int64",
                  "stats": {
                    "unique_count": 12,
                    "nan_count": 0,
                    "min": "372",
                    "max": "1320",
                    "histogram": [
                      {
                        "bin_start": 372,
                        "bin_end": 466.8,
                        "count": 1
                      },
                      {
                        "bin_start": 466.8,
                        "bin_end": 561.6,
                        "count": 1
                      },
                      {
                        "bin_start": 561.6,
                        "bin_end": 656.4,
                        "count": 2
                      },
                      {
                        "bin_start": 656.4,
                        "bin_end": 751.2,
                        "count": 1
                      },
                      {
                        "bin_start": 751.2,
                        "bin_end": 846,
                        "count": 2
                      },
                      {
                        "bin_start": 846,
                        "bin_end": 940.8,
                        "count": 1
                      },
                      {
                        "bin_start": 940.8,
                        "bin_end": 1035.6,
                        "count": 1
                      },
                      {
                        "bin_start": 1035.6,
                        "bin_end": 1130.4,
                        "count": 1
                      },
                      {
                        "bin_start": 1130.4,
                        "bin_end": 1225.1999999999998,
                        "count": 0
                      },
                      {
                        "bin_start": 1225.1999999999998,
                        "bin_end": 1320,
                        "count": 2
                      }
                    ]
                  }
                },
                {
                  "name": "minute",
                  "dtype": "int64",
                  "stats": {
                    "unique_count": 8,
                    "nan_count": 0,
                    "min": "0",
                    "max": "45",
                    "histogram": [
                      {
                        "bin_start": 0,
                        "bin_end": 4.5,
                        "count": 1
                      },
                      {
                        "bin_start": 4.5,
                        "bin_end": 9,
                        "count": 1
                      },
                      {
                        "bin_start": 9,
                        "bin_end": 13.5,
                        "count": 1
                      },
                      {
                        "bin_start": 13.5,
                        "bin_end": 18,
                        "count": 0
                      },
                      {
                        "bin_start": 18,
                        "bin_end": 22.5,
                        "count": 2
                      },
                      {
                        "bin_start": 22.5,
                        "bin_end": 27,
                        "count": 0
                      },
                      {
                        "bin_start": 27,
                        "bin_end": 31.5,
                        "count": 2
                      },
                      {
                        "bin_start": 31.5,
                        "bin_end": 36,
                        "count": 1
                      },
                      {
                        "bin_start": 36,
                        "bin_end": 40.5,
                        "count": 1
                      },
                      {
                        "bin_start": 40.5,
                        "bin_end": 45,
                        "count": 3
                      }
                    ]
                  }
                },
                {
                  "name": "hour",
                  "dtype": "int64",
                  "stats": {
                    "unique_count": 8,
                    "nan_count": 0,
                    "min": "8",
                    "max": "19",
                    "histogram": [
                      {
                        "bin_start": 8,
                        "bin_end": 9.1,
                        "count": 3
                      },
                      {
                        "bin_start": 9.1,
                        "bin_end": 10.2,
                        "count": 2
                      },
                      {
                        "bin_start": 10.2,
                        "bin_end": 11.3,
                        "count": 0
                      },
                      {
                        "bin_start": 11.3,
                        "bin_end": 12.4,
                        "count": 2
                      },
                      {
                        "bin_start": 12.4,
                        "bin_end": 13.5,
                        "count": 2
                      },
                      {
                        "bin_start": 13.5,
                        "bin_end": 14.600000000000001,
                        "count": 0
                      },
                      {
                        "bin_start": 14.600000000000001,
                        "bin_end": 15.700000000000001,
                        "count": 1
                      },
                      {
                        "bin_start": 15.700000000000001,
                        "bin_end": 16.8,
                        "count": 0
                      },
                      {
                        "bin_start": 16.8,
                        "bin_end": 17.9,
                        "count": 1
                      },
                      {
                        "bin_start": 17.9,
                        "bin_end": 19,
                        "count": 1
                      }
                    ]
                  }
                },
                {
                  "name": "diff",
                  "dtype": "float64",
                  "stats": {
                    "unique_count": 12,
                    "nan_count": 0,
                    "min": "-1.8000000000010914",
                    "max": "6.500000000001819",
                    "histogram": [
                      {
                        "bin_start": -1.8000000000010914,
                        "bin_end": -0.9700000000008003,
                        "count": 1
                      },
                      {
                        "bin_start": -0.9700000000008003,
                        "bin_end": -0.14000000000050927,
                        "count": 0
                      },
                      {
                        "bin_start": -0.14000000000050927,
                        "bin_end": 0.6899999999997819,
                        "count": 2
                      },
                      {
                        "bin_start": 0.6899999999997819,
                        "bin_end": 1.5200000000000728,
                        "count": 1
                      },
                      {
                        "bin_start": 1.5200000000000728,
                        "bin_end": 2.350000000000364,
                        "count": 1
                      },
                      {
                        "bin_start": 2.350000000000364,
                        "bin_end": 3.180000000000655,
                        "count": 2
                      },
                      {
                        "bin_start": 3.180000000000655,
                        "bin_end": 4.010000000000946,
                        "count": 2
                      },
                      {
                        "bin_start": 4.010000000000946,
                        "bin_end": 4.840000000001237,
                        "count": 0
                      },
                      {
                        "bin_start": 4.840000000001237,
                        "bin_end": 5.6700000000015285,
                        "count": 1
                      },
                      {
                        "bin_start": 5.6700000000015285,
                        "bin_end": 6.500000000001819,
                        "count": 2
                      }
                    ]
                  }
                },
                {
                  "name": "diff_lag_1",
                  "dtype": "float64",
                  "stats": {
                    "unique_count": 12,
                    "nan_count": 0,
                    "min": "-10.50000000000182",
                    "max": "1.0",
                    "histogram": [
                      {
                        "bin_start": -10.50000000000182,
                        "bin_end": -9.35000000000164,
                        "count": 1
                      },
                      {
                        "bin_start": -9.35000000000164,
                        "bin_end": -8.200000000001456,
                        "count": 0
                      },
                      {
                        "bin_start": -8.200000000001456,
                        "bin_end": -7.050000000001274,
                        "count": 0
                      },
                      {
                        "bin_start": -7.050000000001274,
                        "bin_end": -5.900000000001093,
                        "count": 1
                      },
                      {
                        "bin_start": -5.900000000001093,
                        "bin_end": -4.750000000000911,
                        "count": 1
                      },
                      {
                        "bin_start": -4.750000000000911,
                        "bin_end": -3.600000000000729,
                        "count": 2
                      },
                      {
                        "bin_start": -3.600000000000729,
                        "bin_end": -2.4500000000005464,
                        "count": 2
                      },
                      {
                        "bin_start": -2.4500000000005464,
                        "bin_end": -1.3000000000003649,
                        "count": 1
                      },
                      {
                        "bin_start": -1.3000000000003649,
                        "bin_end": -0.15000000000018332,
                        "count": 3
                      },
                      {
                        "bin_start": -0.15000000000018332,
                        "bin_end": 1,
                        "count": 1
                      }
                    ]
                  }
                },
                {
                  "name": "diff_lag_2",
                  "dtype": "float64",
                  "stats": {
                    "unique_count": 12,
                    "nan_count": 0,
                    "min": "-3.8000000000010914",
                    "max": "3.899999999999636",
                    "histogram": [
                      {
                        "bin_start": -3.8000000000010914,
                        "bin_end": -3.0300000000010185,
                        "count": 4
                      },
                      {
                        "bin_start": -3.0300000000010185,
                        "bin_end": -2.2600000000009457,
                        "count": 1
                      },
                      {
                        "bin_start": -2.2600000000009457,
                        "bin_end": -1.4900000000008733,
                        "count": 3
                      },
                      {
                        "bin_start": -1.4900000000008733,
                        "bin_end": -0.7200000000008004,
                        "count": 0
                      },
                      {
                        "bin_start": -0.7200000000008004,
                        "bin_end": 0.049999999999272404,
                        "count": 1
                      },
                      {
                        "bin_start": 0.049999999999272404,
                        "bin_end": 0.8199999999993448,
                        "count": 0
                      },
                      {
                        "bin_start": 0.8199999999993448,
                        "bin_end": 1.589999999999418,
                        "count": 1
                      },
                      {
                        "bin_start": 1.589999999999418,
                        "bin_end": 2.3599999999994905,
                        "count": 0
                      },
                      {
                        "bin_start": 2.3599999999994905,
                        "bin_end": 3.129999999999563,
                        "count": 1
                      },
                      {
                        "bin_start": 3.129999999999563,
                        "bin_end": 3.899999999999636,
                        "count": 1
                      }
                    ]
                  }
                },
                {
                  "name": "diff_lag_3",
                  "dtype": "float64",
                  "stats": {
                    "unique_count": 12,
                    "nan_count": 0,
                    "min": "-10.399999999999636",
                    "max": "6.300000000001091",
                    "histogram": [
                      {
                        "bin_start": -10.399999999999636,
                        "bin_end": -8.729999999999563,
                        "count": 1
                      },
                      {
                        "bin_start": -8.729999999999563,
                        "bin_end": -7.059999999999491,
                        "count": 0
                      },
                      {
                        "bin_start": -7.059999999999491,
                        "bin_end": -5.389999999999418,
                        "count": 1
                      },
                      {
                        "bin_start": -5.389999999999418,
                        "bin_end": -3.719999999999345,
                        "count": 1
                      },
                      {
                        "bin_start": -3.719999999999345,
                        "bin_end": -2.0499999999992724,
                        "count": 3
                      },
                      {
                        "bin_start": -2.0499999999992724,
                        "bin_end": -0.37999999999919964,
                        "count": 1
                      },
                      {
                        "bin_start": -0.37999999999919964,
                        "bin_end": 1.2900000000008731,
                        "count": 2
                      },
                      {
                        "bin_start": 1.2900000000008731,
                        "bin_end": 2.960000000000946,
                        "count": 2
                      },
                      {
                        "bin_start": 2.960000000000946,
                        "bin_end": 4.630000000001019,
                        "count": 0
                      },
                      {
                        "bin_start": 4.630000000001019,
                        "bin_end": 6.300000000001091,
                        "count": 1
                      }
                    ]
                  }
                },
                {
                  "name": "diff_lag_4",
                  "dtype": "float64",
                  "stats": {
                    "unique_count": 12,
                    "nan_count": 0,
                    "min": "-11.400000000001455",
                    "max": "4.399999999999636",
                    "histogram": [
                      {
                        "bin_start": -11.400000000001455,
                        "bin_end": -9.820000000001347,
                        "count": 1
                      },
                      {
                        "bin_start": -9.820000000001347,
                        "bin_end": -8.240000000001237,
                        "count": 1
                      },
                      {
                        "bin_start": -8.240000000001237,
                        "bin_end": -6.660000000001128,
                        "count": 0
                      },
                      {
                        "bin_start": -6.660000000001128,
                        "bin_end": -5.080000000001019,
                        "count": 1
                      },
                      {
                        "bin_start": -5.080000000001019,
                        "bin_end": -3.5000000000009095,
                        "count": 1
                      },
                      {
                        "bin_start": -3.5000000000009095,
                        "bin_end": -1.920000000000801,
                        "count": 0
                      },
                      {
                        "bin_start": -1.920000000000801,
                        "bin_end": -0.34000000000069086,
                        "count": 1
                      },
                      {
                        "bin_start": -0.34000000000069086,
                        "bin_end": 1.2399999999994176,
                        "count": 5
                      },
                      {
                        "bin_start": 1.2399999999994176,
                        "bin_end": 2.819999999999526,
                        "count": 0
                      },
                      {
                        "bin_start": 2.819999999999526,
                        "bin_end": 4.399999999999636,
                        "count": 2
                      }
                    ]
                  }
                },
                {
                  "name": "diff_lag_5",
                  "dtype": "float64",
                  "stats": {
                    "unique_count": 12,
                    "nan_count": 0,
                    "min": "-10.50000000000182",
                    "max": "4.100000000000364",
                    "histogram": [
                      {
                        "bin_start": -10.50000000000182,
                        "bin_end": -9.040000000001601,
                        "count": 1
                      },
                      {
                        "bin_start": -9.040000000001601,
                        "bin_end": -7.580000000001384,
                        "count": 1
                      },
                      {
                        "bin_start": -7.580000000001384,
                        "bin_end": -6.120000000001165,
                        "count": 0
                      },
                      {
                        "bin_start": -6.120000000001165,
                        "bin_end": -4.660000000000947,
                        "count": 0
                      },
                      {
                        "bin_start": -4.660000000000947,
                        "bin_end": -3.2000000000007285,
                        "count": 2
                      },
                      {
                        "bin_start": -3.2000000000007285,
                        "bin_end": -1.74000000000051,
                        "count": 1
                      },
                      {
                        "bin_start": -1.74000000000051,
                        "bin_end": -0.2800000000002907,
                        "count": 3
                      },
                      {
                        "bin_start": -0.2800000000002907,
                        "bin_end": 1.1799999999999269,
                        "count": 0
                      },
                      {
                        "bin_start": 1.1799999999999269,
                        "bin_end": 2.6400000000001445,
                        "count": 1
                      },
                      {
                        "bin_start": 2.6400000000001445,
                        "bin_end": 4.100000000000364,
                        "count": 3
                      }
                    ]
                  }
                },
                {
                  "name": "diff_lag_6",
                  "dtype": "float64",
                  "stats": {
                    "unique_count": 11,
                    "nan_count": 0,
                    "min": "-5.800000000001091",
                    "max": "2.399999999999636",
                    "histogram": [
                      {
                        "bin_start": -5.800000000001091,
                        "bin_end": -4.980000000001018,
                        "count": 1
                      },
                      {
                        "bin_start": -4.980000000001018,
                        "bin_end": -4.160000000000946,
                        "count": 0
                      },
                      {
                        "bin_start": -4.160000000000946,
                        "bin_end": -3.340000000000873,
                        "count": 2
                      },
                      {
                        "bin_start": -3.340000000000873,
                        "bin_end": -2.5200000000008003,
                        "count": 1
                      },
                      {
                        "bin_start": -2.5200000000008003,
                        "bin_end": -1.7000000000007276,
                        "count": 1
                      },
                      {
                        "bin_start": -1.7000000000007276,
                        "bin_end": -0.8800000000006545,
                        "count": 3
                      },
                      {
                        "bin_start": -0.8800000000006545,
                        "bin_end": -0.060000000000582254,
                        "count": 1
                      },
                      {
                        "bin_start": -0.060000000000582254,
                        "bin_end": 0.7599999999994909,
                        "count": 1
                      },
                      {
                        "bin_start": 0.7599999999994909,
                        "bin_end": 1.579999999999564,
                        "count": 1
                      },
                      {
                        "bin_start": 1.579999999999564,
                        "bin_end": 2.399999999999636,
                        "count": 1
                      }
                    ]
                  }
                },
                {
                  "name": "diff_lag_7",
                  "dtype": "float64",
                  "stats": {
                    "unique_count": 12,
                    "nan_count": 0,
                    "min": "-6.600000000002183",
                    "max": "6.300000000001091",
                    "histogram": [
                      {
                        "bin_start": -6.600000000002183,
                        "bin_end": -5.310000000001855,
                        "count": 1
                      },
                      {
                        "bin_start": -5.310000000001855,
                        "bin_end": -4.020000000001528,
                        "count": 2
                      },
                      {
                        "bin_start": -4.020000000001528,
                        "bin_end": -2.730000000001201,
                        "count": 2
                      },
                      {
                        "bin_start": -2.730000000001201,
                        "bin_end": -1.4400000000008735,
                        "count": 0
                      },
                      {
                        "bin_start": -1.4400000000008735,
                        "bin_end": -0.1500000000005457,
                        "count": 1
                      },
                      {
                        "bin_start": -0.1500000000005457,
                        "bin_end": 1.1399999999997812,
                        "count": 1
                      },
                      {
                        "bin_start": 1.1399999999997812,
                        "bin_end": 2.430000000000108,
                        "count": 2
                      },
                      {
                        "bin_start": 2.430000000000108,
                        "bin_end": 3.720000000000436,
                        "count": 1
                      },
                      {
                        "bin_start": 3.720000000000436,
                        "bin_end": 5.010000000000764,
                        "count": 1
                      },
                      {
                        "bin_start": 5.010000000000764,
                        "bin_end": 6.300000000001091,
                        "count": 1
                      }
                    ]
                  }
                },
                {
                  "name": "diff_lag_8",
                  "dtype": "float64",
                  "stats": {
                    "unique_count": 12,
                    "nan_count": 0,
                    "min": "-5.199999999998909",
                    "max": "2.899999999999636",
                    "histogram": [
                      {
                        "bin_start": -5.199999999998909,
                        "bin_end": -4.389999999999054,
                        "count": 2
                      },
                      {
                        "bin_start": -4.389999999999054,
                        "bin_end": -3.5799999999992,
                        "count": 0
                      },
                      {
                        "bin_start": -3.5799999999992,
                        "bin_end": -2.769999999999345,
                        "count": 1
                      },
                      {
                        "bin_start": -2.769999999999345,
                        "bin_end": -1.9599999999994906,
                        "count": 1
                      },
                      {
                        "bin_start": -1.9599999999994906,
                        "bin_end": -1.1499999999996362,
                        "count": 0
                      },
                      {
                        "bin_start": -1.1499999999996362,
                        "bin_end": -0.33999999999978137,
                        "count": 2
                      },
                      {
                        "bin_start": -0.33999999999978137,
                        "bin_end": 0.4700000000000726,
                        "count": 1
                      },
                      {
                        "bin_start": 0.4700000000000726,
                        "bin_end": 1.2799999999999274,
                        "count": 1
                      },
                      {
                        "bin_start": 1.2799999999999274,
                        "bin_end": 2.0899999999997823,
                        "count": 2
                      },
                      {
                        "bin_start": 2.0899999999997823,
                        "bin_end": 2.899999999999636,
                        "count": 2
                      }
                    ]
                  }
                },
                {
                  "name": "diff_lag_9",
                  "dtype": "float64",
                  "stats": {
                    "unique_count": 12,
                    "nan_count": 0,
                    "min": "-6.500000000001819",
                    "max": "3.5",
                    "histogram": [
                      {
                        "bin_start": -6.500000000001819,
                        "bin_end": -5.500000000001637,
                        "count": 1
                      },
                      {
                        "bin_start": -5.500000000001637,
                        "bin_end": -4.500000000001455,
                        "count": 0
                      },
                      {
                        "bin_start": -4.500000000001455,
                        "bin_end": -3.5000000000012736,
                        "count": 1
                      },
                      {
                        "bin_start": -3.5000000000012736,
                        "bin_end": -2.5000000000010916,
                        "count": 0
                      },
                      {
                        "bin_start": -2.5000000000010916,
                        "bin_end": -1.5000000000009095,
                        "count": 1
                      },
                      {
                        "bin_start": -1.5000000000009095,
                        "bin_end": -0.5000000000007283,
                        "count": 3
                      },
                      {
                        "bin_start": -0.5000000000007283,
                        "bin_end": 0.49999999999945377,
                        "count": 0
                      },
                      {
                        "bin_start": 0.49999999999945377,
                        "bin_end": 1.4999999999996358,
                        "count": 3
                      },
                      {
                        "bin_start": 1.4999999999996358,
                        "bin_end": 2.499999999999817,
                        "count": 1
                      },
                      {
                        "bin_start": 2.499999999999817,
                        "bin_end": 3.5,
                        "count": 2
                      }
                    ]
                  }
                },
                {
                  "name": "diff_lag_10",
                  "dtype": "float64",
                  "stats": {
                    "unique_count": 11,
                    "nan_count": 0,
                    "min": "-2.399999999999636",
                    "max": "17.200000000000728",
                    "histogram": [
                      {
                        "bin_start": -2.399999999999636,
                        "bin_end": -0.4399999999995998,
                        "count": 5
                      },
                      {
                        "bin_start": -0.4399999999995998,
                        "bin_end": 1.5200000000004366,
                        "count": 3
                      },
                      {
                        "bin_start": 1.5200000000004366,
                        "bin_end": 3.480000000000473,
                        "count": 2
                      },
                      {
                        "bin_start": 3.480000000000473,
                        "bin_end": 5.440000000000509,
                        "count": 1
                      },
                      {
                        "bin_start": 5.440000000000509,
                        "bin_end": 7.400000000000546,
                        "count": 0
                      },
                      {
                        "bin_start": 7.400000000000546,
                        "bin_end": 9.360000000000582,
                        "count": 0
                      },
                      {
                        "bin_start": 9.360000000000582,
                        "bin_end": 11.320000000000618,
                        "count": 0
                      },
                      {
                        "bin_start": 11.320000000000618,
                        "bin_end": 13.280000000000655,
                        "count": 0
                      },
                      {
                        "bin_start": 13.280000000000655,
                        "bin_end": 15.240000000000691,
                        "count": 0
                      },
                      {
                        "bin_start": 15.240000000000691,
                        "bin_end": 17.200000000000728,
                        "count": 1
                      }
                    ]
                  }
                },
                {
                  "name": "diff_lag_11",
                  "dtype": "float64",
                  "stats": {
                    "unique_count": 12,
                    "nan_count": 0,
                    "min": "-6.600000000002183",
                    "max": "8.900000000001455",
                    "histogram": [
                      {
                        "bin_start": -6.600000000002183,
                        "bin_end": -5.050000000001819,
                        "count": 1
                      },
                      {
                        "bin_start": -5.050000000001819,
                        "bin_end": -3.5000000000014553,
                        "count": 1
                      },
                      {
                        "bin_start": -3.5000000000014553,
                        "bin_end": -1.9500000000010917,
                        "count": 1
                      },
                      {
                        "bin_start": -1.9500000000010917,
                        "bin_end": -0.4000000000007278,
                        "count": 2
                      },
                      {
                        "bin_start": -0.4000000000007278,
                        "bin_end": 1.1499999999996362,
                        "count": 2
                      },
                      {
                        "bin_start": 1.1499999999996362,
                        "bin_end": 2.6999999999999993,
                        "count": 2
                      },
                      {
                        "bin_start": 2.6999999999999993,
                        "bin_end": 4.250000000000364,
                        "count": 1
                      },
                      {
                        "bin_start": 4.250000000000364,
                        "bin_end": 5.800000000000727,
                        "count": 0
                      },
                      {
                        "bin_start": 5.800000000000727,
                        "bin_end": 7.35000000000109,
                        "count": 1
                      },
                      {
                        "bin_start": 7.35000000000109,
                        "bin_end": 8.900000000001455,
                        "count": 1
                      }
                    ]
                  }
                },
                {
                  "name": "diff_lag_12",
                  "dtype": "float64",
                  "stats": {
                    "unique_count": 12,
                    "nan_count": 0,
                    "min": "-6.999999999998181",
                    "max": "7.900000000001455",
                    "histogram": [
                      {
                        "bin_start": -6.999999999998181,
                        "bin_end": -5.509999999998217,
                        "count": 1
                      },
                      {
                        "bin_start": -5.509999999998217,
                        "bin_end": -4.019999999998253,
                        "count": 1
                      },
                      {
                        "bin_start": -4.019999999998253,
                        "bin_end": -2.5299999999982905,
                        "count": 2
                      },
                      {
                        "bin_start": -2.5299999999982905,
                        "bin_end": -1.0399999999983267,
                        "count": 0
                      },
                      {
                        "bin_start": -1.0399999999983267,
                        "bin_end": 0.4500000000016371,
                        "count": 3
                      },
                      {
                        "bin_start": 0.4500000000016371,
                        "bin_end": 1.9400000000016,
                        "count": 1
                      },
                      {
                        "bin_start": 1.9400000000016,
                        "bin_end": 3.4300000000015647,
                        "count": 1
                      },
                      {
                        "bin_start": 3.4300000000015647,
                        "bin_end": 4.920000000001528,
                        "count": 2
                      },
                      {
                        "bin_start": 4.920000000001528,
                        "bin_end": 6.4100000000014905,
                        "count": 0
                      },
                      {
                        "bin_start": 6.4100000000014905,
                        "bin_end": 7.900000000001455,
                        "count": 1
                      }
                    ]
                  }
                },
                {
                  "name": "diff_lag_13",
                  "dtype": "float64",
                  "stats": {
                    "unique_count": 12,
                    "nan_count": 0,
                    "min": "-3.399999999999636",
                    "max": "3.5",
                    "histogram": [
                      {
                        "bin_start": -3.399999999999636,
                        "bin_end": -2.7099999999996727,
                        "count": 1
                      },
                      {
                        "bin_start": -2.7099999999996727,
                        "bin_end": -2.019999999999709,
                        "count": 0
                      },
                      {
                        "bin_start": -2.019999999999709,
                        "bin_end": -1.3299999999997452,
                        "count": 1
                      },
                      {
                        "bin_start": -1.3299999999997452,
                        "bin_end": -0.6399999999997816,
                        "count": 1
                      },
                      {
                        "bin_start": -0.6399999999997816,
                        "bin_end": 0.0500000000001819,
                        "count": 2
                      },
                      {
                        "bin_start": 0.0500000000001819,
                        "bin_end": 0.7400000000001459,
                        "count": 0
                      },
                      {
                        "bin_start": 0.7400000000001459,
                        "bin_end": 1.430000000000109,
                        "count": 1
                      },
                      {
                        "bin_start": 1.430000000000109,
                        "bin_end": 2.120000000000073,
                        "count": 3
                      },
                      {
                        "bin_start": 2.120000000000073,
                        "bin_end": 2.810000000000037,
                        "count": 1
                      },
                      {
                        "bin_start": 2.810000000000037,
                        "bin_end": 3.5,
                        "count": 2
                      }
                    ]
                  }
                },
                {
                  "name": "diff_lag_14",
                  "dtype": "float64",
                  "stats": {
                    "unique_count": 11,
                    "nan_count": 0,
                    "min": "-12.799999999999272",
                    "max": "3.600000000002183",
                    "histogram": [
                      {
                        "bin_start": -12.799999999999272,
                        "bin_end": -11.159999999999126,
                        "count": 1
                      },
                      {
                        "bin_start": -11.159999999999126,
                        "bin_end": -9.519999999998982,
                        "count": 0
                      },
                      {
                        "bin_start": -9.519999999998982,
                        "bin_end": -7.8799999999988355,
                        "count": 0
                      },
                      {
                        "bin_start": -7.8799999999988355,
                        "bin_end": -6.23999999999869,
                        "count": 0
                      },
                      {
                        "bin_start": -6.23999999999869,
                        "bin_end": -4.599999999998545,
                        "count": 1
                      },
                      {
                        "bin_start": -4.599999999998545,
                        "bin_end": -2.9599999999983986,
                        "count": 1
                      },
                      {
                        "bin_start": -2.9599999999983986,
                        "bin_end": -1.3199999999982541,
                        "count": 2
                      },
                      {
                        "bin_start": -1.3199999999982541,
                        "bin_end": 0.3200000000018921,
                        "count": 3
                      },
                      {
                        "bin_start": 0.3200000000018921,
                        "bin_end": 1.9600000000020383,
                        "count": 2
                      },
                      {
                        "bin_start": 1.9600000000020383,
                        "bin_end": 3.600000000002183,
                        "count": 2
                      }
                    ]
                  }
                },
                {
                  "name": "diff_lag_15",
                  "dtype": "float64",
                  "stats": {
                    "unique_count": 12,
                    "nan_count": 0,
                    "min": "-3.0",
                    "max": "6.900000000001455",
                    "histogram": [
                      {
                        "bin_start": -3,
                        "bin_end": -2.0099999999998546,
                        "count": 2
                      },
                      {
                        "bin_start": -2.0099999999998546,
                        "bin_end": -1.019999999999709,
                        "count": 2
                      },
                      {
                        "bin_start": -1.019999999999709,
                        "bin_end": -0.029999999999563265,
                        "count": 2
                      },
                      {
                        "bin_start": -0.029999999999563265,
                        "bin_end": 0.9600000000005822,
                        "count": 1
                      },
                      {
                        "bin_start": 0.9600000000005822,
                        "bin_end": 1.9500000000007276,
                        "count": 0
                      },
                      {
                        "bin_start": 1.9500000000007276,
                        "bin_end": 2.9400000000008735,
                        "count": 1
                      },
                      {
                        "bin_start": 2.9400000000008735,
                        "bin_end": 3.9300000000010185,
                        "count": 3
                      },
                      {
                        "bin_start": 3.9300000000010185,
                        "bin_end": 4.920000000001164,
                        "count": 0
                      },
                      {
                        "bin_start": 4.920000000001164,
                        "bin_end": 5.910000000001309,
                        "count": 0
                      },
                      {
                        "bin_start": 5.910000000001309,
                        "bin_end": 6.900000000001455,
                        "count": 1
                      }
                    ]
                  }
                },
                {
                  "name": "diff_lag_16",
                  "dtype": "float64",
                  "stats": {
                    "unique_count": 12,
                    "nan_count": 0,
                    "min": "-6.199999999998909",
                    "max": "5.800000000001091",
                    "histogram": [
                      {
                        "bin_start": -6.199999999998909,
                        "bin_end": -4.999999999998908,
                        "count": 1
                      },
                      {
                        "bin_start": -4.999999999998908,
                        "bin_end": -3.7999999999989087,
                        "count": 2
                      },
                      {
                        "bin_start": -3.7999999999989087,
                        "bin_end": -2.599999999998909,
                        "count": 0
                      },
                      {
                        "bin_start": -2.599999999998909,
                        "bin_end": -1.3999999999989088,
                        "count": 3
                      },
                      {
                        "bin_start": -1.3999999999989088,
                        "bin_end": -0.1999999999989086,
                        "count": 0
                      },
                      {
                        "bin_start": -0.1999999999989086,
                        "bin_end": 1.0000000000010907,
                        "count": 1
                      },
                      {
                        "bin_start": 1.0000000000010907,
                        "bin_end": 2.2000000000010917,
                        "count": 2
                      },
                      {
                        "bin_start": 2.2000000000010917,
                        "bin_end": 3.400000000001091,
                        "count": 0
                      },
                      {
                        "bin_start": 3.400000000001091,
                        "bin_end": 4.60000000000109,
                        "count": 2
                      },
                      {
                        "bin_start": 4.60000000000109,
                        "bin_end": 5.800000000001091,
                        "count": 1
                      }
                    ]
                  }
                },
                {
                  "name": "diff_lag_17",
                  "dtype": "float64",
                  "stats": {
                    "unique_count": 11,
                    "nan_count": 0,
                    "min": "-1.6000000000003638",
                    "max": "2.7999999999974534",
                    "histogram": [
                      {
                        "bin_start": -1.6000000000003638,
                        "bin_end": -1.1600000000005821,
                        "count": 1
                      },
                      {
                        "bin_start": -1.1600000000005821,
                        "bin_end": -0.7200000000008003,
                        "count": 0
                      },
                      {
                        "bin_start": -0.7200000000008003,
                        "bin_end": -0.28000000000101855,
                        "count": 2
                      },
                      {
                        "bin_start": -0.28000000000101855,
                        "bin_end": 0.15999999999876313,
                        "count": 1
                      },
                      {
                        "bin_start": 0.15999999999876313,
                        "bin_end": 0.5999999999985448,
                        "count": 0
                      },
                      {
                        "bin_start": 0.5999999999985448,
                        "bin_end": 1.0399999999983267,
                        "count": 4
                      },
                      {
                        "bin_start": 1.0399999999983267,
                        "bin_end": 1.4799999999981082,
                        "count": 0
                      },
                      {
                        "bin_start": 1.4799999999981082,
                        "bin_end": 1.91999999999789,
                        "count": 1
                      },
                      {
                        "bin_start": 1.91999999999789,
                        "bin_end": 2.359999999997672,
                        "count": 1
                      },
                      {
                        "bin_start": 2.359999999997672,
                        "bin_end": 2.7999999999974534,
                        "count": 2
                      }
                    ]
                  }
                },
                {
                  "name": "diff_lag_18",
                  "dtype": "float64",
                  "stats": {
                    "unique_count": 12,
                    "nan_count": 0,
                    "min": "-12.799999999999272",
                    "max": "22.30000000000109",
                    "histogram": [
                      {
                        "bin_start": -12.799999999999272,
                        "bin_end": -9.289999999999235,
                        "count": 1
                      },
                      {
                        "bin_start": -9.289999999999235,
                        "bin_end": -5.7799999999992,
                        "count": 1
                      },
                      {
                        "bin_start": -5.7799999999992,
                        "bin_end": -2.2699999999991647,
                        "count": 2
                      },
                      {
                        "bin_start": -2.2699999999991647,
                        "bin_end": 1.2400000000008724,
                        "count": 5
                      },
                      {
                        "bin_start": 1.2400000000008724,
                        "bin_end": 4.7500000000009095,
                        "count": 2
                      },
                      {
                        "bin_start": 4.7500000000009095,
                        "bin_end": 8.260000000000943,
                        "count": 0
                      },
                      {
                        "bin_start": 8.260000000000943,
                        "bin_end": 11.77000000000098,
                        "count": 0
                      },
                      {
                        "bin_start": 11.77000000000098,
                        "bin_end": 15.280000000001017,
                        "count": 0
                      },
                      {
                        "bin_start": 15.280000000001017,
                        "bin_end": 18.790000000001054,
                        "count": 0
                      },
                      {
                        "bin_start": 18.790000000001054,
                        "bin_end": 22.30000000000109,
                        "count": 1
                      }
                    ]
                  }
                },
                {
                  "name": "diff_lag_19",
                  "dtype": "float64",
                  "stats": {
                    "unique_count": 12,
                    "nan_count": 0,
                    "min": "-2.599999999998545",
                    "max": "8.200000000000728",
                    "histogram": [
                      {
                        "bin_start": -2.599999999998545,
                        "bin_end": -1.5199999999986176,
                        "count": 3
                      },
                      {
                        "bin_start": -1.5199999999986176,
                        "bin_end": -0.4399999999986903,
                        "count": 4
                      },
                      {
                        "bin_start": -0.4399999999986903,
                        "bin_end": 0.6400000000012369,
                        "count": 0
                      },
                      {
                        "bin_start": 0.6400000000012369,
                        "bin_end": 1.7200000000011642,
                        "count": 0
                      },
                      {
                        "bin_start": 1.7200000000011642,
                        "bin_end": 2.8000000000010914,
                        "count": 2
                      },
                      {
                        "bin_start": 2.8000000000010914,
                        "bin_end": 3.8800000000010186,
                        "count": 0
                      },
                      {
                        "bin_start": 3.8800000000010186,
                        "bin_end": 4.960000000000946,
                        "count": 1
                      },
                      {
                        "bin_start": 4.960000000000946,
                        "bin_end": 6.040000000000873,
                        "count": 1
                      },
                      {
                        "bin_start": 6.040000000000873,
                        "bin_end": 7.1200000000008,
                        "count": 0
                      },
                      {
                        "bin_start": 7.1200000000008,
                        "bin_end": 8.200000000000728,
                        "count": 1
                      }
                    ]
                  }
                },
                {
                  "name": "diff_lag_20",
                  "dtype": "float64",
                  "stats": {
                    "unique_count": 12,
                    "nan_count": 0,
                    "min": "-6.999999999998181",
                    "max": "5.299999999999272",
                    "histogram": [
                      {
                        "bin_start": -6.999999999998181,
                        "bin_end": -5.7699999999984355,
                        "count": 2
                      },
                      {
                        "bin_start": -5.7699999999984355,
                        "bin_end": -4.53999999999869,
                        "count": 0
                      },
                      {
                        "bin_start": -4.53999999999869,
                        "bin_end": -3.3099999999989453,
                        "count": 1
                      },
                      {
                        "bin_start": -3.3099999999989453,
                        "bin_end": -2.0799999999992,
                        "count": 2
                      },
                      {
                        "bin_start": -2.0799999999992,
                        "bin_end": -0.8499999999994543,
                        "count": 2
                      },
                      {
                        "bin_start": -0.8499999999994543,
                        "bin_end": 0.38000000000029033,
                        "count": 0
                      },
                      {
                        "bin_start": 0.38000000000029033,
                        "bin_end": 1.6100000000000367,
                        "count": 2
                      },
                      {
                        "bin_start": 1.6100000000000367,
                        "bin_end": 2.8399999999997814,
                        "count": 1
                      },
                      {
                        "bin_start": 2.8399999999997814,
                        "bin_end": 4.069999999999526,
                        "count": 1
                      },
                      {
                        "bin_start": 4.069999999999526,
                        "bin_end": 5.299999999999272,
                        "count": 1
                      }
                    ]
                  }
                },
                {
                  "name": "diff_lag_21",
                  "dtype": "float64",
                  "stats": {
                    "unique_count": 11,
                    "nan_count": 0,
                    "min": "-4.299999999999272",
                    "max": "4.600000000002183",
                    "histogram": [
                      {
                        "bin_start": -4.299999999999272,
                        "bin_end": -3.409999999999127,
                        "count": 3
                      },
                      {
                        "bin_start": -3.409999999999127,
                        "bin_end": -2.5199999999989813,
                        "count": 0
                      },
                      {
                        "bin_start": -2.5199999999989813,
                        "bin_end": -1.6299999999988355,
                        "count": 3
                      },
                      {
                        "bin_start": -1.6299999999988355,
                        "bin_end": -0.7399999999986901,
                        "count": 1
                      },
                      {
                        "bin_start": -0.7399999999986901,
                        "bin_end": 0.1500000000014552,
                        "count": 0
                      },
                      {
                        "bin_start": 0.1500000000014552,
                        "bin_end": 1.0400000000016014,
                        "count": 2
                      },
                      {
                        "bin_start": 1.0400000000016014,
                        "bin_end": 1.9300000000017468,
                        "count": 0
                      },
                      {
                        "bin_start": 1.9300000000017468,
                        "bin_end": 2.820000000001892,
                        "count": 1
                      },
                      {
                        "bin_start": 2.820000000001892,
                        "bin_end": 3.7100000000020383,
                        "count": 1
                      },
                      {
                        "bin_start": 3.7100000000020383,
                        "bin_end": 4.600000000002183,
                        "count": 1
                      }
                    ]
                  }
                },
                {
                  "name": "diff_lag_22",
                  "dtype": "float64",
                  "stats": {
                    "unique_count": 12,
                    "nan_count": 0,
                    "min": "-4.700000000000728",
                    "max": "4.200000000000728",
                    "histogram": [
                      {
                        "bin_start": -4.700000000000728,
                        "bin_end": -3.8100000000005823,
                        "count": 2
                      },
                      {
                        "bin_start": -3.8100000000005823,
                        "bin_end": -2.9200000000004365,
                        "count": 0
                      },
                      {
                        "bin_start": -2.9200000000004365,
                        "bin_end": -2.0300000000002907,
                        "count": 1
                      },
                      {
                        "bin_start": -2.0300000000002907,
                        "bin_end": -1.1400000000001453,
                        "count": 1
                      },
                      {
                        "bin_start": -1.1400000000001453,
                        "bin_end": -0.25,
                        "count": 1
                      },
                      {
                        "bin_start": -0.25,
                        "bin_end": 0.6400000000001462,
                        "count": 1
                      },
                      {
                        "bin_start": 0.6400000000001462,
                        "bin_end": 1.5300000000002916,
                        "count": 0
                      },
                      {
                        "bin_start": 1.5300000000002916,
                        "bin_end": 2.420000000000437,
                        "count": 0
                      },
                      {
                        "bin_start": 2.420000000000437,
                        "bin_end": 3.310000000000583,
                        "count": 3
                      },
                      {
                        "bin_start": 3.310000000000583,
                        "bin_end": 4.200000000000728,
                        "count": 3
                      }
                    ]
                  }
                },
                {
                  "name": "diff_lag_23",
                  "dtype": "float64",
                  "stats": {
                    "unique_count": 12,
                    "nan_count": 0,
                    "min": "-3.2000000000025466",
                    "max": "2.2999999999992724",
                    "histogram": [
                      {
                        "bin_start": -3.2000000000025466,
                        "bin_end": -2.6500000000023647,
                        "count": 2
                      },
                      {
                        "bin_start": -2.6500000000023647,
                        "bin_end": -2.100000000002183,
                        "count": 1
                      },
                      {
                        "bin_start": -2.100000000002183,
                        "bin_end": -1.5500000000020009,
                        "count": 1
                      },
                      {
                        "bin_start": -1.5500000000020009,
                        "bin_end": -1.000000000001819,
                        "count": 1
                      },
                      {
                        "bin_start": -1.000000000001819,
                        "bin_end": -0.4500000000016371,
                        "count": 0
                      },
                      {
                        "bin_start": -0.4500000000016371,
                        "bin_end": 0.09999999999854481,
                        "count": 1
                      },
                      {
                        "bin_start": 0.09999999999854481,
                        "bin_end": 0.6499999999987267,
                        "count": 2
                      },
                      {
                        "bin_start": 0.6499999999987267,
                        "bin_end": 1.1999999999989086,
                        "count": 0
                      },
                      {
                        "bin_start": 1.1999999999989086,
                        "bin_end": 1.7499999999990905,
                        "count": 2
                      },
                      {
                        "bin_start": 1.7499999999990905,
                        "bin_end": 2.2999999999992724,
                        "count": 2
                      }
                    ]
                  }
                },
                {
                  "name": "diff_lag_24",
                  "dtype": "float64",
                  "stats": {
                    "unique_count": 12,
                    "nan_count": 0,
                    "min": "-4.399999999999636",
                    "max": "3.999999999998181",
                    "histogram": [
                      {
                        "bin_start": -4.399999999999636,
                        "bin_end": -3.5599999999998544,
                        "count": 1
                      },
                      {
                        "bin_start": -3.5599999999998544,
                        "bin_end": -2.7200000000000726,
                        "count": 1
                      },
                      {
                        "bin_start": -2.7200000000000726,
                        "bin_end": -1.8800000000002912,
                        "count": 1
                      },
                      {
                        "bin_start": -1.8800000000002912,
                        "bin_end": -1.0400000000005094,
                        "count": 0
                      },
                      {
                        "bin_start": -1.0400000000005094,
                        "bin_end": -0.2000000000007276,
                        "count": 2
                      },
                      {
                        "bin_start": -0.2000000000007276,
                        "bin_end": 0.6399999999990538,
                        "count": 1
                      },
                      {
                        "bin_start": 0.6399999999990538,
                        "bin_end": 1.479999999998836,
                        "count": 2
                      },
                      {
                        "bin_start": 1.479999999998836,
                        "bin_end": 2.3199999999986174,
                        "count": 2
                      },
                      {
                        "bin_start": 2.3199999999986174,
                        "bin_end": 3.1599999999983988,
                        "count": 1
                      },
                      {
                        "bin_start": 3.1599999999983988,
                        "bin_end": 3.999999999998181,
                        "count": 1
                      }
                    ]
                  }
                },
                {
                  "name": "diff_lag_25",
                  "dtype": "float64",
                  "stats": {
                    "unique_count": 12,
                    "nan_count": 0,
                    "min": "-3.200000000000728",
                    "max": "6.19999999999709",
                    "histogram": [
                      {
                        "bin_start": -3.200000000000728,
                        "bin_end": -2.2600000000009466,
                        "count": 1
                      },
                      {
                        "bin_start": -2.2600000000009466,
                        "bin_end": -1.3200000000011647,
                        "count": 2
                      },
                      {
                        "bin_start": -1.3200000000011647,
                        "bin_end": -0.38000000000138323,
                        "count": 1
                      },
                      {
                        "bin_start": -0.38000000000138323,
                        "bin_end": 0.5599999999983987,
                        "count": 2
                      },
                      {
                        "bin_start": 0.5599999999983987,
                        "bin_end": 1.4999999999981806,
                        "count": 3
                      },
                      {
                        "bin_start": 1.4999999999981806,
                        "bin_end": 2.4399999999979616,
                        "count": 2
                      },
                      {
                        "bin_start": 2.4399999999979616,
                        "bin_end": 3.3799999999977435,
                        "count": 0
                      },
                      {
                        "bin_start": 3.3799999999977435,
                        "bin_end": 4.319999999997526,
                        "count": 0
                      },
                      {
                        "bin_start": 4.319999999997526,
                        "bin_end": 5.259999999997307,
                        "count": 0
                      },
                      {
                        "bin_start": 5.259999999997307,
                        "bin_end": 6.19999999999709,
                        "count": 1
                      }
                    ]
                  }
                },
                {
                  "name": "diff_lag_26",
                  "dtype": "float64",
                  "stats": {
                    "unique_count": 12,
                    "nan_count": 0,
                    "min": "-4.599999999998545",
                    "max": "3.399999999999636",
                    "histogram": [
                      {
                        "bin_start": -4.599999999998545,
                        "bin_end": -3.7999999999987266,
                        "count": 1
                      },
                      {
                        "bin_start": -3.7999999999987266,
                        "bin_end": -2.9999999999989084,
                        "count": 3
                      },
                      {
                        "bin_start": -2.9999999999989084,
                        "bin_end": -2.1999999999990907,
                        "count": 1
                      },
                      {
                        "bin_start": -2.1999999999990907,
                        "bin_end": -1.3999999999992725,
                        "count": 2
                      },
                      {
                        "bin_start": -1.3999999999992725,
                        "bin_end": -0.5999999999994543,
                        "count": 1
                      },
                      {
                        "bin_start": -0.5999999999994543,
                        "bin_end": 0.20000000000036344,
                        "count": 1
                      },
                      {
                        "bin_start": 0.20000000000036344,
                        "bin_end": 1.000000000000182,
                        "count": 0
                      },
                      {
                        "bin_start": 1.000000000000182,
                        "bin_end": 1.7999999999999998,
                        "count": 0
                      },
                      {
                        "bin_start": 1.7999999999999998,
                        "bin_end": 2.5999999999998176,
                        "count": 2
                      },
                      {
                        "bin_start": 2.5999999999998176,
                        "bin_end": 3.399999999999636,
                        "count": 1
                      }
                    ]
                  }
                },
                {
                  "name": "diff_lag_27",
                  "dtype": "float64",
                  "stats": {
                    "unique_count": 11,
                    "nan_count": 0,
                    "min": "-3.2999999999992724",
                    "max": "3.3000000000010914",
                    "histogram": [
                      {
                        "bin_start": -3.2999999999992724,
                        "bin_end": -2.639999999999236,
                        "count": 2
                      },
                      {
                        "bin_start": -2.639999999999236,
                        "bin_end": -1.9799999999991997,
                        "count": 0
                      },
                      {
                        "bin_start": -1.9799999999991997,
                        "bin_end": -1.3199999999991634,
                        "count": 1
                      },
                      {
                        "bin_start": -1.3199999999991634,
                        "bin_end": -0.6599999999991271,
                        "count": 0
                      },
                      {
                        "bin_start": -0.6599999999991271,
                        "bin_end": 9.094947017729282e-13,
                        "count": 1
                      },
                      {
                        "bin_start": 9.094947017729282e-13,
                        "bin_end": 0.6600000000009456,
                        "count": 1
                      },
                      {
                        "bin_start": 0.6600000000009456,
                        "bin_end": 1.3200000000009817,
                        "count": 4
                      },
                      {
                        "bin_start": 1.3200000000009817,
                        "bin_end": 1.9800000000010183,
                        "count": 2
                      },
                      {
                        "bin_start": 1.9800000000010183,
                        "bin_end": 2.640000000001055,
                        "count": 0
                      },
                      {
                        "bin_start": 2.640000000001055,
                        "bin_end": 3.3000000000010914,
                        "count": 1
                      }
                    ]
                  }
                },
                {
                  "name": "diff_lag_28",
                  "dtype": "float64",
                  "stats": {
                    "unique_count": 12,
                    "nan_count": 0,
                    "min": "-4.399999999999636",
                    "max": "5.600000000000364",
                    "histogram": [
                      {
                        "bin_start": -4.399999999999636,
                        "bin_end": -3.399999999999636,
                        "count": 1
                      },
                      {
                        "bin_start": -3.399999999999636,
                        "bin_end": -2.399999999999636,
                        "count": 2
                      },
                      {
                        "bin_start": -2.399999999999636,
                        "bin_end": -1.3999999999996362,
                        "count": 3
                      },
                      {
                        "bin_start": -1.3999999999996362,
                        "bin_end": -0.3999999999996362,
                        "count": 0
                      },
                      {
                        "bin_start": -0.3999999999996362,
                        "bin_end": 0.6000000000003638,
                        "count": 1
                      },
                      {
                        "bin_start": 0.6000000000003638,
                        "bin_end": 1.6000000000003638,
                        "count": 0
                      },
                      {
                        "bin_start": 1.6000000000003638,
                        "bin_end": 2.600000000000364,
                        "count": 2
                      },
                      {
                        "bin_start": 2.600000000000364,
                        "bin_end": 3.600000000000364,
                        "count": 0
                      },
                      {
                        "bin_start": 3.600000000000364,
                        "bin_end": 4.600000000000364,
                        "count": 1
                      },
                      {
                        "bin_start": 4.600000000000364,
                        "bin_end": 5.600000000000364,
                        "count": 2
                      }
                    ]
                  }
                },
                {
                  "name": "diff_lag_29",
                  "dtype": "float64",
                  "stats": {
                    "unique_count": 11,
                    "nan_count": 0,
                    "min": "-5.399999999999636",
                    "max": "9.5",
                    "histogram": [
                      {
                        "bin_start": -5.399999999999636,
                        "bin_end": -3.9099999999996724,
                        "count": 2
                      },
                      {
                        "bin_start": -3.9099999999996724,
                        "bin_end": -2.419999999999709,
                        "count": 0
                      },
                      {
                        "bin_start": -2.419999999999709,
                        "bin_end": -0.9299999999997457,
                        "count": 0
                      },
                      {
                        "bin_start": -0.9299999999997457,
                        "bin_end": 0.5600000000002181,
                        "count": 5
                      },
                      {
                        "bin_start": 0.5600000000002181,
                        "bin_end": 2.050000000000182,
                        "count": 0
                      },
                      {
                        "bin_start": 2.050000000000182,
                        "bin_end": 3.540000000000145,
                        "count": 2
                      },
                      {
                        "bin_start": 3.540000000000145,
                        "bin_end": 5.0300000000001095,
                        "count": 1
                      },
                      {
                        "bin_start": 5.0300000000001095,
                        "bin_end": 6.520000000000072,
                        "count": 1
                      },
                      {
                        "bin_start": 6.520000000000072,
                        "bin_end": 8.010000000000035,
                        "count": 0
                      },
                      {
                        "bin_start": 8.010000000000035,
                        "bin_end": 9.5,
                        "count": 1
                      }
                    ]
                  }
                },
                {
                  "name": "diff_lag_30",
                  "dtype": "float64",
                  "stats": {
                    "unique_count": 12,
                    "nan_count": 0,
                    "min": "-7.700000000000728",
                    "max": "3.6999999999989086",
                    "histogram": [
                      {
                        "bin_start": -7.700000000000728,
                        "bin_end": -6.560000000000764,
                        "count": 1
                      },
                      {
                        "bin_start": -6.560000000000764,
                        "bin_end": -5.4200000000008,
                        "count": 0
                      },
                      {
                        "bin_start": -5.4200000000008,
                        "bin_end": -4.280000000000836,
                        "count": 0
                      },
                      {
                        "bin_start": -4.280000000000836,
                        "bin_end": -3.1400000000008728,
                        "count": 2
                      },
                      {
                        "bin_start": -3.1400000000008728,
                        "bin_end": -2.0000000000009095,
                        "count": 1
                      },
                      {
                        "bin_start": -2.0000000000009095,
                        "bin_end": -0.8600000000009453,
                        "count": 2
                      },
                      {
                        "bin_start": -0.8600000000009453,
                        "bin_end": 0.2799999999990188,
                        "count": 1
                      },
                      {
                        "bin_start": 0.2799999999990188,
                        "bin_end": 1.419999999998982,
                        "count": 0
                      },
                      {
                        "bin_start": 1.419999999998982,
                        "bin_end": 2.5599999999989453,
                        "count": 2
                      },
                      {
                        "bin_start": 2.5599999999989453,
                        "bin_end": 3.6999999999989086,
                        "count": 3
                      }
                    ]
                  }
                },
                {
                  "name": "diff_lag_31",
                  "dtype": "float64",
                  "stats": {
                    "unique_count": 12,
                    "nan_count": 0,
                    "min": "-5.399999999999636",
                    "max": "7.199999999998909",
                    "histogram": [
                      {
                        "bin_start": -5.399999999999636,
                        "bin_end": -4.139999999999782,
                        "count": 2
                      },
                      {
                        "bin_start": -4.139999999999782,
                        "bin_end": -2.879999999999927,
                        "count": 0
                      },
                      {
                        "bin_start": -2.879999999999927,
                        "bin_end": -1.6200000000000725,
                        "count": 1
                      },
                      {
                        "bin_start": -1.6200000000000725,
                        "bin_end": -0.3600000000002179,
                        "count": 1
                      },
                      {
                        "bin_start": -0.3600000000002179,
                        "bin_end": 0.8999999999996362,
                        "count": 2
                      },
                      {
                        "bin_start": 0.8999999999996362,
                        "bin_end": 2.159999999999491,
                        "count": 1
                      },
                      {
                        "bin_start": 2.159999999999491,
                        "bin_end": 3.4199999999993462,
                        "count": 2
                      },
                      {
                        "bin_start": 3.4199999999993462,
                        "bin_end": 4.6799999999992,
                        "count": 2
                      },
                      {
                        "bin_start": 4.6799999999992,
                        "bin_end": 5.9399999999990545,
                        "count": 0
                      },
                      {
                        "bin_start": 5.9399999999990545,
                        "bin_end": 7.199999999998909,
                        "count": 1
                      }
                    ]
                  }
                },
                {
                  "name": "diff_lag_32",
                  "dtype": "float64",
                  "stats": {
                    "unique_count": 11,
                    "nan_count": 0,
                    "min": "-10.600000000000364",
                    "max": "9.799999999999272",
                    "histogram": [
                      {
                        "bin_start": -10.600000000000364,
                        "bin_end": -8.5600000000004,
                        "count": 1
                      },
                      {
                        "bin_start": -8.5600000000004,
                        "bin_end": -6.520000000000437,
                        "count": 0
                      },
                      {
                        "bin_start": -6.520000000000437,
                        "bin_end": -4.480000000000473,
                        "count": 0
                      },
                      {
                        "bin_start": -4.480000000000473,
                        "bin_end": -2.4400000000005093,
                        "count": 0
                      },
                      {
                        "bin_start": -2.4400000000005093,
                        "bin_end": -0.4000000000005457,
                        "count": 1
                      },
                      {
                        "bin_start": -0.4000000000005457,
                        "bin_end": 1.639999999999418,
                        "count": 3
                      },
                      {
                        "bin_start": 1.639999999999418,
                        "bin_end": 3.6799999999993815,
                        "count": 5
                      },
                      {
                        "bin_start": 3.6799999999993815,
                        "bin_end": 5.719999999999345,
                        "count": 1
                      },
                      {
                        "bin_start": 5.719999999999345,
                        "bin_end": 7.759999999999309,
                        "count": 0
                      },
                      {
                        "bin_start": 7.759999999999309,
                        "bin_end": 9.799999999999272,
                        "count": 1
                      }
                    ]
                  }
                },
                {
                  "name": "diff_lag_33",
                  "dtype": "float64",
                  "stats": {
                    "unique_count": 12,
                    "nan_count": 0,
                    "min": "-11.799999999999272",
                    "max": "4.000000000001819",
                    "histogram": [
                      {
                        "bin_start": -11.799999999999272,
                        "bin_end": -10.219999999999164,
                        "count": 1
                      },
                      {
                        "bin_start": -10.219999999999164,
                        "bin_end": -8.639999999999054,
                        "count": 0
                      },
                      {
                        "bin_start": -8.639999999999054,
                        "bin_end": -7.059999999998945,
                        "count": 0
                      },
                      {
                        "bin_start": -7.059999999998945,
                        "bin_end": -5.479999999998836,
                        "count": 1
                      },
                      {
                        "bin_start": -5.479999999998836,
                        "bin_end": -3.8999999999987267,
                        "count": 1
                      },
                      {
                        "bin_start": -3.8999999999987267,
                        "bin_end": -2.3199999999986183,
                        "count": 0
                      },
                      {
                        "bin_start": -2.3199999999986183,
                        "bin_end": -0.7399999999985081,
                        "count": 4
                      },
                      {
                        "bin_start": -0.7399999999985081,
                        "bin_end": 0.8400000000016004,
                        "count": 2
                      },
                      {
                        "bin_start": 0.8400000000016004,
                        "bin_end": 2.420000000001709,
                        "count": 2
                      },
                      {
                        "bin_start": 2.420000000001709,
                        "bin_end": 4.000000000001819,
                        "count": 1
                      }
                    ]
                  }
                },
                {
                  "name": "diff_lag_34",
                  "dtype": "float64",
                  "stats": {
                    "unique_count": 12,
                    "nan_count": 0,
                    "min": "-9.100000000000364",
                    "max": "6.200000000000728",
                    "histogram": [
                      {
                        "bin_start": -9.100000000000364,
                        "bin_end": -7.570000000000254,
                        "count": 1
                      },
                      {
                        "bin_start": -7.570000000000254,
                        "bin_end": -6.040000000000146,
                        "count": 2
                      },
                      {
                        "bin_start": -6.040000000000146,
                        "bin_end": -4.510000000000037,
                        "count": 0
                      },
                      {
                        "bin_start": -4.510000000000037,
                        "bin_end": -2.9799999999999276,
                        "count": 2
                      },
                      {
                        "bin_start": -2.9799999999999276,
                        "bin_end": -1.449999999999818,
                        "count": 1
                      },
                      {
                        "bin_start": -1.449999999999818,
                        "bin_end": 0.08000000000028962,
                        "count": 1
                      },
                      {
                        "bin_start": 0.08000000000028962,
                        "bin_end": 1.6100000000003991,
                        "count": 1
                      },
                      {
                        "bin_start": 1.6100000000003991,
                        "bin_end": 3.1400000000005086,
                        "count": 3
                      },
                      {
                        "bin_start": 3.1400000000005086,
                        "bin_end": 4.670000000000618,
                        "count": 0
                      },
                      {
                        "bin_start": 4.670000000000618,
                        "bin_end": 6.200000000000728,
                        "count": 1
                      }
                    ]
                  }
                },
                {
                  "name": "diff_lag_35",
                  "dtype": "float64",
                  "stats": {
                    "unique_count": 11,
                    "nan_count": 0,
                    "min": "-4.799999999999272",
                    "max": "2.5",
                    "histogram": [
                      {
                        "bin_start": -4.799999999999272,
                        "bin_end": -4.069999999999345,
                        "count": 1
                      },
                      {
                        "bin_start": -4.069999999999345,
                        "bin_end": -3.339999999999418,
                        "count": 0
                      },
                      {
                        "bin_start": -3.339999999999418,
                        "bin_end": -2.6099999999994905,
                        "count": 0
                      },
                      {
                        "bin_start": -2.6099999999994905,
                        "bin_end": -1.8799999999995634,
                        "count": 4
                      },
                      {
                        "bin_start": -1.8799999999995634,
                        "bin_end": -1.1499999999996362,
                        "count": 1
                      },
                      {
                        "bin_start": -1.1499999999996362,
                        "bin_end": -0.4199999999997086,
                        "count": 3
                      },
                      {
                        "bin_start": -0.4199999999997086,
                        "bin_end": 0.3100000000002181,
                        "count": 1
                      },
                      {
                        "bin_start": 0.3100000000002181,
                        "bin_end": 1.0400000000001457,
                        "count": 0
                      },
                      {
                        "bin_start": 1.0400000000001457,
                        "bin_end": 1.7700000000000733,
                        "count": 0
                      },
                      {
                        "bin_start": 1.7700000000000733,
                        "bin_end": 2.5,
                        "count": 2
                      }
                    ]
                  }
                },
                {
                  "name": "diff_lag_36",
                  "dtype": "float64",
                  "stats": {
                    "unique_count": 12,
                    "nan_count": 0,
                    "min": "-4.699999999998909",
                    "max": "4.800000000001091",
                    "histogram": [
                      {
                        "bin_start": -4.699999999998909,
                        "bin_end": -3.7499999999989084,
                        "count": 1
                      },
                      {
                        "bin_start": -3.7499999999989084,
                        "bin_end": -2.7999999999989087,
                        "count": 0
                      },
                      {
                        "bin_start": -2.7999999999989087,
                        "bin_end": -1.849999999998909,
                        "count": 3
                      },
                      {
                        "bin_start": -1.849999999998909,
                        "bin_end": -0.8999999999989088,
                        "count": 0
                      },
                      {
                        "bin_start": -0.8999999999989088,
                        "bin_end": 0.050000000001091394,
                        "count": 3
                      },
                      {
                        "bin_start": 0.050000000001091394,
                        "bin_end": 1.0000000000010907,
                        "count": 1
                      },
                      {
                        "bin_start": 1.0000000000010907,
                        "bin_end": 1.9500000000010909,
                        "count": 0
                      },
                      {
                        "bin_start": 1.9500000000010909,
                        "bin_end": 2.900000000001091,
                        "count": 3
                      },
                      {
                        "bin_start": 2.900000000001091,
                        "bin_end": 3.8500000000010903,
                        "count": 0
                      },
                      {
                        "bin_start": 3.8500000000010903,
                        "bin_end": 4.800000000001091,
                        "count": 1
                      }
                    ]
                  }
                },
                {
                  "name": "diff_lag_37",
                  "dtype": "float64",
                  "stats": {
                    "unique_count": 12,
                    "nan_count": 0,
                    "min": "-5.0",
                    "max": "3.499999999998181",
                    "histogram": [
                      {
                        "bin_start": -5,
                        "bin_end": -4.1500000000001815,
                        "count": 1
                      },
                      {
                        "bin_start": -4.1500000000001815,
                        "bin_end": -3.300000000000364,
                        "count": 0
                      },
                      {
                        "bin_start": -3.300000000000364,
                        "bin_end": -2.4500000000005455,
                        "count": 0
                      },
                      {
                        "bin_start": -2.4500000000005455,
                        "bin_end": -1.6000000000007275,
                        "count": 0
                      },
                      {
                        "bin_start": -1.6000000000007275,
                        "bin_end": -0.7500000000009095,
                        "count": 4
                      },
                      {
                        "bin_start": -0.7500000000009095,
                        "bin_end": 0.09999999999890896,
                        "count": 2
                      },
                      {
                        "bin_start": 0.09999999999890896,
                        "bin_end": 0.9499999999987265,
                        "count": 1
                      },
                      {
                        "bin_start": 0.9499999999987265,
                        "bin_end": 1.799999999998545,
                        "count": 2
                      },
                      {
                        "bin_start": 1.799999999998545,
                        "bin_end": 2.6499999999983634,
                        "count": 1
                      },
                      {
                        "bin_start": 2.6499999999983634,
                        "bin_end": 3.499999999998181,
                        "count": 1
                      }
                    ]
                  }
                },
                {
                  "name": "diff_lag_38",
                  "dtype": "float64",
                  "stats": {
                    "unique_count": 10,
                    "nan_count": 0,
                    "min": "-2.2999999999992724",
                    "max": "6.800000000001091",
                    "histogram": [
                      {
                        "bin_start": -2.2999999999992724,
                        "bin_end": -1.389999999999236,
                        "count": 2
                      },
                      {
                        "bin_start": -1.389999999999236,
                        "bin_end": -0.47999999999919973,
                        "count": 2
                      },
                      {
                        "bin_start": -0.47999999999919973,
                        "bin_end": 0.4300000000008364,
                        "count": 2
                      },
                      {
                        "bin_start": 0.4300000000008364,
                        "bin_end": 1.340000000000873,
                        "count": 1
                      },
                      {
                        "bin_start": 1.340000000000873,
                        "bin_end": 2.2500000000009095,
                        "count": 4
                      },
                      {
                        "bin_start": 2.2500000000009095,
                        "bin_end": 3.160000000000945,
                        "count": 0
                      },
                      {
                        "bin_start": 3.160000000000945,
                        "bin_end": 4.070000000000982,
                        "count": 0
                      },
                      {
                        "bin_start": 4.070000000000982,
                        "bin_end": 4.980000000001018,
                        "count": 0
                      },
                      {
                        "bin_start": 4.980000000001018,
                        "bin_end": 5.890000000001054,
                        "count": 0
                      },
                      {
                        "bin_start": 5.890000000001054,
                        "bin_end": 6.800000000001091,
                        "count": 1
                      }
                    ]
                  }
                },
                {
                  "name": "diff_lag_39",
                  "dtype": "float64",
                  "stats": {
                    "unique_count": 12,
                    "nan_count": 0,
                    "min": "-5.0",
                    "max": "3.1999999999989086",
                    "histogram": [
                      {
                        "bin_start": -5,
                        "bin_end": -4.180000000000109,
                        "count": 1
                      },
                      {
                        "bin_start": -4.180000000000109,
                        "bin_end": -3.3600000000002184,
                        "count": 1
                      },
                      {
                        "bin_start": -3.3600000000002184,
                        "bin_end": -2.5400000000003278,
                        "count": 0
                      },
                      {
                        "bin_start": -2.5400000000003278,
                        "bin_end": -1.7200000000004367,
                        "count": 1
                      },
                      {
                        "bin_start": -1.7200000000004367,
                        "bin_end": -0.9000000000005457,
                        "count": 2
                      },
                      {
                        "bin_start": -0.9000000000005457,
                        "bin_end": -0.08000000000065555,
                        "count": 0
                      },
                      {
                        "bin_start": -0.08000000000065555,
                        "bin_end": 0.7399999999992355,
                        "count": 2
                      },
                      {
                        "bin_start": 0.7399999999992355,
                        "bin_end": 1.5599999999991265,
                        "count": 2
                      },
                      {
                        "bin_start": 1.5599999999991265,
                        "bin_end": 2.3799999999990176,
                        "count": 2
                      },
                      {
                        "bin_start": 2.3799999999990176,
                        "bin_end": 3.1999999999989086,
                        "count": 1
                      }
                    ]
                  }
                },
                {
                  "name": "diff_lag_40",
                  "dtype": "float64",
                  "stats": {
                    "unique_count": 10,
                    "nan_count": 0,
                    "min": "-2.0",
                    "max": "4.900000000001455",
                    "histogram": [
                      {
                        "bin_start": -2,
                        "bin_end": -1.3099999999998544,
                        "count": 3
                      },
                      {
                        "bin_start": -1.3099999999998544,
                        "bin_end": -0.619999999999709,
                        "count": 2
                      },
                      {
                        "bin_start": -0.619999999999709,
                        "bin_end": 0.07000000000043638,
                        "count": 2
                      },
                      {
                        "bin_start": 0.07000000000043638,
                        "bin_end": 0.760000000000582,
                        "count": 0
                      },
                      {
                        "bin_start": 0.760000000000582,
                        "bin_end": 1.4500000000007276,
                        "count": 1
                      },
                      {
                        "bin_start": 1.4500000000007276,
                        "bin_end": 2.1400000000008728,
                        "count": 3
                      },
                      {
                        "bin_start": 2.1400000000008728,
                        "bin_end": 2.830000000001019,
                        "count": 0
                      },
                      {
                        "bin_start": 2.830000000001019,
                        "bin_end": 3.520000000001164,
                        "count": 0
                      },
                      {
                        "bin_start": 3.520000000001164,
                        "bin_end": 4.210000000001309,
                        "count": 0
                      },
                      {
                        "bin_start": 4.210000000001309,
                        "bin_end": 4.900000000001455,
                        "count": 1
                      }
                    ]
                  }
                },
                {
                  "name": "diff_lag_41",
                  "dtype": "float64",
                  "stats": {
                    "unique_count": 11,
                    "nan_count": 0,
                    "min": "-1.6999999999989086",
                    "max": "8.200000000000728",
                    "histogram": [
                      {
                        "bin_start": -1.6999999999989086,
                        "bin_end": -0.709999999998945,
                        "count": 1
                      },
                      {
                        "bin_start": -0.709999999998945,
                        "bin_end": 0.28000000000101855,
                        "count": 2
                      },
                      {
                        "bin_start": 0.28000000000101855,
                        "bin_end": 1.270000000000982,
                        "count": 2
                      },
                      {
                        "bin_start": 1.270000000000982,
                        "bin_end": 2.2600000000009457,
                        "count": 1
                      },
                      {
                        "bin_start": 2.2600000000009457,
                        "bin_end": 3.2500000000009095,
                        "count": 4
                      },
                      {
                        "bin_start": 3.2500000000009095,
                        "bin_end": 4.240000000000872,
                        "count": 1
                      },
                      {
                        "bin_start": 4.240000000000872,
                        "bin_end": 5.230000000000836,
                        "count": 0
                      },
                      {
                        "bin_start": 5.230000000000836,
                        "bin_end": 6.2200000000008,
                        "count": 0
                      },
                      {
                        "bin_start": 6.2200000000008,
                        "bin_end": 7.210000000000763,
                        "count": 0
                      },
                      {
                        "bin_start": 7.210000000000763,
                        "bin_end": 8.200000000000728,
                        "count": 1
                      }
                    ]
                  }
                },
                {
                  "name": "diff_lag_42",
                  "dtype": "float64",
                  "stats": {
                    "unique_count": 12,
                    "nan_count": 0,
                    "min": "-6.899999999999636",
                    "max": "3.599999999998545",
                    "histogram": [
                      {
                        "bin_start": -6.899999999999636,
                        "bin_end": -5.8499999999998185,
                        "count": 1
                      },
                      {
                        "bin_start": -5.8499999999998185,
                        "bin_end": -4.8,
                        "count": 0
                      },
                      {
                        "bin_start": -4.8,
                        "bin_end": -3.7500000000001816,
                        "count": 0
                      },
                      {
                        "bin_start": -3.7500000000001816,
                        "bin_end": -2.7000000000003634,
                        "count": 0
                      },
                      {
                        "bin_start": -2.7000000000003634,
                        "bin_end": -1.6500000000005457,
                        "count": 2
                      },
                      {
                        "bin_start": -1.6500000000005457,
                        "bin_end": -0.6000000000007271,
                        "count": 1
                      },
                      {
                        "bin_start": -0.6000000000007271,
                        "bin_end": 0.44999999999909157,
                        "count": 3
                      },
                      {
                        "bin_start": 0.44999999999909157,
                        "bin_end": 1.4999999999989093,
                        "count": 3
                      },
                      {
                        "bin_start": 1.4999999999989093,
                        "bin_end": 2.549999999998727,
                        "count": 1
                      },
                      {
                        "bin_start": 2.549999999998727,
                        "bin_end": 3.599999999998545,
                        "count": 1
                      }
                    ]
                  }
                },
                {
                  "name": "diff_lag_43",
                  "dtype": "float64",
                  "stats": {
                    "unique_count": 12,
                    "nan_count": 0,
                    "min": "-6.200000000000728",
                    "max": "3.0",
                    "histogram": [
                      {
                        "bin_start": -6.200000000000728,
                        "bin_end": -5.280000000000655,
                        "count": 1
                      },
                      {
                        "bin_start": -5.280000000000655,
                        "bin_end": -4.360000000000582,
                        "count": 1
                      },
                      {
                        "bin_start": -4.360000000000582,
                        "bin_end": -3.4400000000005093,
                        "count": 1
                      },
                      {
                        "bin_start": -3.4400000000005093,
                        "bin_end": -2.5200000000004366,
                        "count": 1
                      },
                      {
                        "bin_start": -2.5200000000004366,
                        "bin_end": -1.6000000000003638,
                        "count": 3
                      },
                      {
                        "bin_start": -1.6000000000003638,
                        "bin_end": -0.680000000000291,
                        "count": 1
                      },
                      {
                        "bin_start": -0.680000000000291,
                        "bin_end": 0.23999999999978172,
                        "count": 1
                      },
                      {
                        "bin_start": 0.23999999999978172,
                        "bin_end": 1.1599999999998545,
                        "count": 1
                      },
                      {
                        "bin_start": 1.1599999999998545,
                        "bin_end": 2.0799999999999272,
                        "count": 0
                      },
                      {
                        "bin_start": 2.0799999999999272,
                        "bin_end": 3,
                        "count": 2
                      }
                    ]
                  }
                },
                {
                  "name": "diff_lag_44",
                  "dtype": "float64",
                  "stats": {
                    "unique_count": 12,
                    "nan_count": 0,
                    "min": "-8.399999999999636",
                    "max": "5.200000000000728",
                    "histogram": [
                      {
                        "bin_start": -8.399999999999636,
                        "bin_end": -7.0399999999995995,
                        "count": 1
                      },
                      {
                        "bin_start": -7.0399999999995995,
                        "bin_end": -5.679999999999564,
                        "count": 0
                      },
                      {
                        "bin_start": -5.679999999999564,
                        "bin_end": -4.319999999999528,
                        "count": 2
                      },
                      {
                        "bin_start": -4.319999999999528,
                        "bin_end": -2.959999999999491,
                        "count": 1
                      },
                      {
                        "bin_start": -2.959999999999491,
                        "bin_end": -1.5999999999994543,
                        "count": 1
                      },
                      {
                        "bin_start": -1.5999999999994543,
                        "bin_end": -0.23999999999941934,
                        "count": 2
                      },
                      {
                        "bin_start": -0.23999999999941934,
                        "bin_end": 1.1200000000006174,
                        "count": 3
                      },
                      {
                        "bin_start": 1.1200000000006174,
                        "bin_end": 2.480000000000654,
                        "count": 0
                      },
                      {
                        "bin_start": 2.480000000000654,
                        "bin_end": 3.840000000000691,
                        "count": 1
                      },
                      {
                        "bin_start": 3.840000000000691,
                        "bin_end": 5.200000000000728,
                        "count": 1
                      }
                    ]
                  }
                },
                {
                  "name": "diff_lag_45",
                  "dtype": "float64",
                  "stats": {
                    "unique_count": 12,
                    "nan_count": 0,
                    "min": "-5.999999999998181",
                    "max": "2.599999999998545",
                    "histogram": [
                      {
                        "bin_start": -5.999999999998181,
                        "bin_end": -5.139999999998508,
                        "count": 1
                      },
                      {
                        "bin_start": -5.139999999998508,
                        "bin_end": -4.279999999998836,
                        "count": 1
                      },
                      {
                        "bin_start": -4.279999999998836,
                        "bin_end": -3.4199999999991633,
                        "count": 0
                      },
                      {
                        "bin_start": -3.4199999999991633,
                        "bin_end": -2.5599999999994907,
                        "count": 1
                      },
                      {
                        "bin_start": -2.5599999999994907,
                        "bin_end": -1.699999999999818,
                        "count": 2
                      },
                      {
                        "bin_start": -1.699999999999818,
                        "bin_end": -0.8400000000001455,
                        "count": 0
                      },
                      {
                        "bin_start": -0.8400000000001455,
                        "bin_end": 0.019999999999527063,
                        "count": 1
                      },
                      {
                        "bin_start": 0.019999999999527063,
                        "bin_end": 0.8799999999991996,
                        "count": 2
                      },
                      {
                        "bin_start": 0.8799999999991996,
                        "bin_end": 1.7399999999988722,
                        "count": 2
                      },
                      {
                        "bin_start": 1.7399999999988722,
                        "bin_end": 2.599999999998545,
                        "count": 2
                      }
                    ]
                  }
                },
                {
                  "name": "diff_lag_46",
                  "dtype": "float64",
                  "stats": {
                    "unique_count": 11,
                    "nan_count": 0,
                    "min": "-7.5",
                    "max": "5.799999999997453",
                    "histogram": [
                      {
                        "bin_start": -7.5,
                        "bin_end": -6.170000000000255,
                        "count": 1
                      },
                      {
                        "bin_start": -6.170000000000255,
                        "bin_end": -4.84000000000051,
                        "count": 0
                      },
                      {
                        "bin_start": -4.84000000000051,
                        "bin_end": -3.5100000000007636,
                        "count": 1
                      },
                      {
                        "bin_start": -3.5100000000007636,
                        "bin_end": -2.1800000000010185,
                        "count": 2
                      },
                      {
                        "bin_start": -2.1800000000010185,
                        "bin_end": -0.8500000000012733,
                        "count": 1
                      },
                      {
                        "bin_start": -0.8500000000012733,
                        "bin_end": 0.47999999999847276,
                        "count": 3
                      },
                      {
                        "bin_start": 0.47999999999847276,
                        "bin_end": 1.809999999998217,
                        "count": 1
                      },
                      {
                        "bin_start": 1.809999999998217,
                        "bin_end": 3.139999999997963,
                        "count": 0
                      },
                      {
                        "bin_start": 3.139999999997963,
                        "bin_end": 4.469999999997709,
                        "count": 2
                      },
                      {
                        "bin_start": 4.469999999997709,
                        "bin_end": 5.799999999997453,
                        "count": 1
                      }
                    ]
                  }
                },
                {
                  "name": "diff_lag_47",
                  "dtype": "float64",
                  "stats": {
                    "unique_count": 12,
                    "nan_count": 0,
                    "min": "-2.999999999998181",
                    "max": "3.499999999998181",
                    "histogram": [
                      {
                        "bin_start": -2.999999999998181,
                        "bin_end": -2.349999999998545,
                        "count": 2
                      },
                      {
                        "bin_start": -2.349999999998545,
                        "bin_end": -1.6999999999989086,
                        "count": 2
                      },
                      {
                        "bin_start": -1.6999999999989086,
                        "bin_end": -1.0499999999992724,
                        "count": 0
                      },
                      {
                        "bin_start": -1.0499999999992724,
                        "bin_end": -0.3999999999996362,
                        "count": 1
                      },
                      {
                        "bin_start": -0.3999999999996362,
                        "bin_end": 0.25,
                        "count": 0
                      },
                      {
                        "bin_start": 0.25,
                        "bin_end": 0.8999999999996362,
                        "count": 2
                      },
                      {
                        "bin_start": 0.8999999999996362,
                        "bin_end": 1.5499999999992724,
                        "count": 2
                      },
                      {
                        "bin_start": 1.5499999999992724,
                        "bin_end": 2.1999999999989086,
                        "count": 1
                      },
                      {
                        "bin_start": 2.1999999999989086,
                        "bin_end": 2.849999999998545,
                        "count": 0
                      },
                      {
                        "bin_start": 2.849999999998545,
                        "bin_end": 3.499999999998181,
                        "count": 2
                      }
                    ]
                  }
                },
                {
                  "name": "diff_lag_48",
                  "dtype": "float64",
                  "stats": {
                    "unique_count": 11,
                    "nan_count": 0,
                    "min": "-5.399999999999636",
                    "max": "4.600000000002183",
                    "histogram": [
                      {
                        "bin_start": -5.399999999999636,
                        "bin_end": -4.399999999999454,
                        "count": 2
                      },
                      {
                        "bin_start": -4.399999999999454,
                        "bin_end": -3.3999999999992725,
                        "count": 0
                      },
                      {
                        "bin_start": -3.3999999999992725,
                        "bin_end": -2.399999999999091,
                        "count": 1
                      },
                      {
                        "bin_start": -2.399999999999091,
                        "bin_end": -1.3999999999989088,
                        "count": 3
                      },
                      {
                        "bin_start": -1.3999999999989088,
                        "bin_end": -0.3999999999987267,
                        "count": 2
                      },
                      {
                        "bin_start": -0.3999999999987267,
                        "bin_end": 0.6000000000014545,
                        "count": 2
                      },
                      {
                        "bin_start": 0.6000000000014545,
                        "bin_end": 1.6000000000016366,
                        "count": 0
                      },
                      {
                        "bin_start": 1.6000000000016366,
                        "bin_end": 2.6000000000018186,
                        "count": 1
                      },
                      {
                        "bin_start": 2.6000000000018186,
                        "bin_end": 3.600000000002,
                        "count": 0
                      },
                      {
                        "bin_start": 3.600000000002,
                        "bin_end": 4.600000000002183,
                        "count": 1
                      }
                    ]
                  }
                },
                {
                  "name": "diff_lag_49",
                  "dtype": "float64",
                  "stats": {
                    "unique_count": 11,
                    "nan_count": 0,
                    "min": "-5.999999999998181",
                    "max": "3.599999999998545",
                    "histogram": [
                      {
                        "bin_start": -5.999999999998181,
                        "bin_end": -5.039999999998509,
                        "count": 1
                      },
                      {
                        "bin_start": -5.039999999998509,
                        "bin_end": -4.079999999998836,
                        "count": 0
                      },
                      {
                        "bin_start": -4.079999999998836,
                        "bin_end": -3.1199999999991634,
                        "count": 2
                      },
                      {
                        "bin_start": -3.1199999999991634,
                        "bin_end": -2.1599999999994908,
                        "count": 1
                      },
                      {
                        "bin_start": -2.1599999999994908,
                        "bin_end": -1.199999999999818,
                        "count": 1
                      },
                      {
                        "bin_start": -1.199999999999818,
                        "bin_end": -0.24000000000014587,
                        "count": 1
                      },
                      {
                        "bin_start": -0.24000000000014587,
                        "bin_end": 0.7199999999995272,
                        "count": 0
                      },
                      {
                        "bin_start": 0.7199999999995272,
                        "bin_end": 1.6799999999991995,
                        "count": 3
                      },
                      {
                        "bin_start": 1.6799999999991995,
                        "bin_end": 2.6399999999988726,
                        "count": 1
                      },
                      {
                        "bin_start": 2.6399999999988726,
                        "bin_end": 3.599999999998545,
                        "count": 2
                      }
                    ]
                  }
                },
                {
                  "name": "diff_lag_50",
                  "dtype": "float64",
                  "stats": {
                    "unique_count": 12,
                    "nan_count": 0,
                    "min": "-5.499999999998181",
                    "max": "4.499999999998181",
                    "histogram": [
                      {
                        "bin_start": -5.499999999998181,
                        "bin_end": -4.499999999998545,
                        "count": 1
                      },
                      {
                        "bin_start": -4.499999999998545,
                        "bin_end": -3.4999999999989084,
                        "count": 1
                      },
                      {
                        "bin_start": -3.4999999999989084,
                        "bin_end": -2.4999999999992726,
                        "count": 0
                      },
                      {
                        "bin_start": -2.4999999999992726,
                        "bin_end": -1.4999999999996363,
                        "count": 0
                      },
                      {
                        "bin_start": -1.4999999999996363,
                        "bin_end": -0.5,
                        "count": 3
                      },
                      {
                        "bin_start": -0.5,
                        "bin_end": 0.49999999999963585,
                        "count": 0
                      },
                      {
                        "bin_start": 0.49999999999963585,
                        "bin_end": 1.4999999999992726,
                        "count": 1
                      },
                      {
                        "bin_start": 1.4999999999992726,
                        "bin_end": 2.4999999999989084,
                        "count": 4
                      },
                      {
                        "bin_start": 2.4999999999989084,
                        "bin_end": 3.499999999998545,
                        "count": 0
                      },
                      {
                        "bin_start": 3.499999999998545,
                        "bin_end": 4.499999999998181,
                        "count": 2
                      }
                    ]
                  }
                },
                {
                  "name": "diff_lag_51",
                  "dtype": "float64",
                  "stats": {
                    "unique_count": 12,
                    "nan_count": 0,
                    "min": "-2.899999999997817",
                    "max": "3.0",
                    "histogram": [
                      {
                        "bin_start": -2.899999999997817,
                        "bin_end": -2.3099999999980354,
                        "count": 1
                      },
                      {
                        "bin_start": -2.3099999999980354,
                        "bin_end": -1.7199999999982538,
                        "count": 1
                      },
                      {
                        "bin_start": -1.7199999999982538,
                        "bin_end": -1.1299999999984722,
                        "count": 0
                      },
                      {
                        "bin_start": -1.1299999999984722,
                        "bin_end": -0.5399999999986904,
                        "count": 3
                      },
                      {
                        "bin_start": -0.5399999999986904,
                        "bin_end": 0.050000000001091394,
                        "count": 1
                      },
                      {
                        "bin_start": 0.050000000001091394,
                        "bin_end": 0.6400000000008728,
                        "count": 1
                      },
                      {
                        "bin_start": 0.6400000000008728,
                        "bin_end": 1.230000000000655,
                        "count": 0
                      },
                      {
                        "bin_start": 1.230000000000655,
                        "bin_end": 1.8200000000004364,
                        "count": 0
                      },
                      {
                        "bin_start": 1.8200000000004364,
                        "bin_end": 2.4100000000002177,
                        "count": 2
                      },
                      {
                        "bin_start": 2.4100000000002177,
                        "bin_end": 3,
                        "count": 3
                      }
                    ]
                  }
                },
                {
                  "name": "diff_lag_52",
                  "dtype": "float64",
                  "stats": {
                    "unique_count": 12,
                    "nan_count": 0,
                    "min": "-10.50000000000182",
                    "max": "2.3000000000029104",
                    "histogram": [
                      {
                        "bin_start": -10.50000000000182,
                        "bin_end": -9.220000000001347,
                        "count": 1
                      },
                      {
                        "bin_start": -9.220000000001347,
                        "bin_end": -7.940000000000874,
                        "count": 0
                      },
                      {
                        "bin_start": -7.940000000000874,
                        "bin_end": -6.660000000000402,
                        "count": 0
                      },
                      {
                        "bin_start": -6.660000000000402,
                        "bin_end": -5.379999999999928,
                        "count": 1
                      },
                      {
                        "bin_start": -5.379999999999928,
                        "bin_end": -4.099999999999454,
                        "count": 0
                      },
                      {
                        "bin_start": -4.099999999999454,
                        "bin_end": -2.8199999999989815,
                        "count": 1
                      },
                      {
                        "bin_start": -2.8199999999989815,
                        "bin_end": -1.5399999999985088,
                        "count": 2
                      },
                      {
                        "bin_start": -1.5399999999985088,
                        "bin_end": -0.25999999999803514,
                        "count": 4
                      },
                      {
                        "bin_start": -0.25999999999803514,
                        "bin_end": 1.0200000000024385,
                        "count": 2
                      },
                      {
                        "bin_start": 1.0200000000024385,
                        "bin_end": 2.3000000000029104,
                        "count": 1
                      }
                    ]
                  }
                },
                {
                  "name": "diff_lag_53",
                  "dtype": "float64",
                  "stats": {
                    "unique_count": 12,
                    "nan_count": 0,
                    "min": "-2.0",
                    "max": "2.700000000000728",
                    "histogram": [
                      {
                        "bin_start": -2,
                        "bin_end": -1.5299999999999272,
                        "count": 1
                      },
                      {
                        "bin_start": -1.5299999999999272,
                        "bin_end": -1.0599999999998544,
                        "count": 1
                      },
                      {
                        "bin_start": -1.0599999999998544,
                        "bin_end": -0.5899999999997818,
                        "count": 0
                      },
                      {
                        "bin_start": -0.5899999999997818,
                        "bin_end": -0.119999999999709,
                        "count": 2
                      },
                      {
                        "bin_start": -0.119999999999709,
                        "bin_end": 0.3500000000003638,
                        "count": 2
                      },
                      {
                        "bin_start": 0.3500000000003638,
                        "bin_end": 0.8200000000004364,
                        "count": 2
                      },
                      {
                        "bin_start": 0.8200000000004364,
                        "bin_end": 1.2900000000005094,
                        "count": 1
                      },
                      {
                        "bin_start": 1.2900000000005094,
                        "bin_end": 1.760000000000582,
                        "count": 0
                      },
                      {
                        "bin_start": 1.760000000000582,
                        "bin_end": 2.230000000000655,
                        "count": 0
                      },
                      {
                        "bin_start": 2.230000000000655,
                        "bin_end": 2.700000000000728,
                        "count": 3
                      }
                    ]
                  }
                },
                {
                  "name": "diff_lag_54",
                  "dtype": "float64",
                  "stats": {
                    "unique_count": 12,
                    "nan_count": 0,
                    "min": "-3.5",
                    "max": "6.300000000001091",
                    "histogram": [
                      {
                        "bin_start": -3.5,
                        "bin_end": -2.5199999999998908,
                        "count": 3
                      },
                      {
                        "bin_start": -2.5199999999998908,
                        "bin_end": -1.5399999999997818,
                        "count": 1
                      },
                      {
                        "bin_start": -1.5399999999997818,
                        "bin_end": -0.5599999999996728,
                        "count": 0
                      },
                      {
                        "bin_start": -0.5599999999996728,
                        "bin_end": 0.42000000000043647,
                        "count": 2
                      },
                      {
                        "bin_start": 0.42000000000043647,
                        "bin_end": 1.4000000000005457,
                        "count": 1
                      },
                      {
                        "bin_start": 1.4000000000005457,
                        "bin_end": 2.3800000000006545,
                        "count": 1
                      },
                      {
                        "bin_start": 2.3800000000006545,
                        "bin_end": 3.360000000000764,
                        "count": 2
                      },
                      {
                        "bin_start": 3.360000000000764,
                        "bin_end": 4.340000000000873,
                        "count": 0
                      },
                      {
                        "bin_start": 4.340000000000873,
                        "bin_end": 5.320000000000983,
                        "count": 1
                      },
                      {
                        "bin_start": 5.320000000000983,
                        "bin_end": 6.300000000001091,
                        "count": 1
                      }
                    ]
                  }
                },
                {
                  "name": "diff_lag_55",
                  "dtype": "float64",
                  "stats": {
                    "unique_count": 12,
                    "nan_count": 0,
                    "min": "-5.199999999998909",
                    "max": "5.19999999999709",
                    "histogram": [
                      {
                        "bin_start": -5.199999999998909,
                        "bin_end": -4.159999999999309,
                        "count": 2
                      },
                      {
                        "bin_start": -4.159999999999309,
                        "bin_end": -3.119999999999709,
                        "count": 1
                      },
                      {
                        "bin_start": -3.119999999999709,
                        "bin_end": -2.080000000000109,
                        "count": 0
                      },
                      {
                        "bin_start": -2.080000000000109,
                        "bin_end": -1.040000000000509,
                        "count": 2
                      },
                      {
                        "bin_start": -1.040000000000509,
                        "bin_end": -9.094947017729282e-13,
                        "count": 1
                      },
                      {
                        "bin_start": -9.094947017729282e-13,
                        "bin_end": 1.0399999999986909,
                        "count": 3
                      },
                      {
                        "bin_start": 1.0399999999986909,
                        "bin_end": 2.079999999998291,
                        "count": 1
                      },
                      {
                        "bin_start": 2.079999999998291,
                        "bin_end": 3.1199999999978907,
                        "count": 1
                      },
                      {
                        "bin_start": 3.1199999999978907,
                        "bin_end": 4.15999999999749,
                        "count": 0
                      },
                      {
                        "bin_start": 4.15999999999749,
                        "bin_end": 5.19999999999709,
                        "count": 1
                      }
                    ]
                  }
                },
                {
                  "name": "diff_lag_56",
                  "dtype": "float64",
                  "stats": {
                    "unique_count": 12,
                    "nan_count": 0,
                    "min": "-9.100000000000364",
                    "max": "3.600000000000364",
                    "histogram": [
                      {
                        "bin_start": -9.100000000000364,
                        "bin_end": -7.830000000000291,
                        "count": 1
                      },
                      {
                        "bin_start": -7.830000000000291,
                        "bin_end": -6.560000000000218,
                        "count": 0
                      },
                      {
                        "bin_start": -6.560000000000218,
                        "bin_end": -5.290000000000145,
                        "count": 0
                      },
                      {
                        "bin_start": -5.290000000000145,
                        "bin_end": -4.020000000000072,
                        "count": 1
                      },
                      {
                        "bin_start": -4.020000000000072,
                        "bin_end": -2.75,
                        "count": 1
                      },
                      {
                        "bin_start": -2.75,
                        "bin_end": -1.4799999999999267,
                        "count": 0
                      },
                      {
                        "bin_start": -1.4799999999999267,
                        "bin_end": -0.20999999999985342,
                        "count": 2
                      },
                      {
                        "bin_start": -0.20999999999985342,
                        "bin_end": 1.060000000000219,
                        "count": 4
                      },
                      {
                        "bin_start": 1.060000000000219,
                        "bin_end": 2.3300000000002914,
                        "count": 2
                      },
                      {
                        "bin_start": 2.3300000000002914,
                        "bin_end": 3.600000000000364,
                        "count": 1
                      }
                    ]
                  }
                },
                {
                  "name": "diff_lag_57",
                  "dtype": "float64",
                  "stats": {
                    "unique_count": 12,
                    "nan_count": 0,
                    "min": "-8.100000000000364",
                    "max": "2.2000000000025466",
                    "histogram": [
                      {
                        "bin_start": -8.100000000000364,
                        "bin_end": -7.070000000000073,
                        "count": 1
                      },
                      {
                        "bin_start": -7.070000000000073,
                        "bin_end": -6.0399999999997815,
                        "count": 0
                      },
                      {
                        "bin_start": -6.0399999999997815,
                        "bin_end": -5.00999999999949,
                        "count": 0
                      },
                      {
                        "bin_start": -5.00999999999949,
                        "bin_end": -3.9799999999991993,
                        "count": 1
                      },
                      {
                        "bin_start": -3.9799999999991993,
                        "bin_end": -2.9499999999989086,
                        "count": 0
                      },
                      {
                        "bin_start": -2.9499999999989086,
                        "bin_end": -1.919999999998617,
                        "count": 1
                      },
                      {
                        "bin_start": -1.919999999998617,
                        "bin_end": -0.8899999999983255,
                        "count": 2
                      },
                      {
                        "bin_start": -0.8899999999983255,
                        "bin_end": 0.14000000000196522,
                        "count": 3
                      },
                      {
                        "bin_start": 0.14000000000196522,
                        "bin_end": 1.170000000002256,
                        "count": 2
                      },
                      {
                        "bin_start": 1.170000000002256,
                        "bin_end": 2.2000000000025466,
                        "count": 2
                      }
                    ]
                  }
                },
                {
                  "name": "diff_lag_58",
                  "dtype": "float64",
                  "stats": {
                    "unique_count": 11,
                    "nan_count": 0,
                    "min": "-6.600000000002183",
                    "max": "2.399999999997817",
                    "histogram": [
                      {
                        "bin_start": -6.600000000002183,
                        "bin_end": -5.700000000002182,
                        "count": 1
                      },
                      {
                        "bin_start": -5.700000000002182,
                        "bin_end": -4.800000000002183,
                        "count": 0
                      },
                      {
                        "bin_start": -4.800000000002183,
                        "bin_end": -3.9000000000021826,
                        "count": 0
                      },
                      {
                        "bin_start": -3.9000000000021826,
                        "bin_end": -3.0000000000021827,
                        "count": 1
                      },
                      {
                        "bin_start": -3.0000000000021827,
                        "bin_end": -2.100000000002183,
                        "count": 0
                      },
                      {
                        "bin_start": -2.100000000002183,
                        "bin_end": -1.2000000000021824,
                        "count": 0
                      },
                      {
                        "bin_start": -1.2000000000021824,
                        "bin_end": -0.30000000000218296,
                        "count": 3
                      },
                      {
                        "bin_start": -0.30000000000218296,
                        "bin_end": 0.5999999999978174,
                        "count": 3
                      },
                      {
                        "bin_start": 0.5999999999978174,
                        "bin_end": 1.4999999999978169,
                        "count": 1
                      },
                      {
                        "bin_start": 1.4999999999978169,
                        "bin_end": 2.399999999997817,
                        "count": 3
                      }
                    ]
                  }
                },
                {
                  "name": "diff_lag_59",
                  "dtype": "float64",
                  "stats": {
                    "unique_count": 10,
                    "nan_count": 0,
                    "min": "-3.3000000000010914",
                    "max": "1.7000000000007276",
                    "histogram": [
                      {
                        "bin_start": -3.3000000000010914,
                        "bin_end": -2.8000000000009093,
                        "count": 2
                      },
                      {
                        "bin_start": -2.8000000000009093,
                        "bin_end": -2.3000000000007277,
                        "count": 0
                      },
                      {
                        "bin_start": -2.3000000000007277,
                        "bin_end": -1.8000000000005458,
                        "count": 1
                      },
                      {
                        "bin_start": -1.8000000000005458,
                        "bin_end": -1.300000000000364,
                        "count": 1
                      },
                      {
                        "bin_start": -1.300000000000364,
                        "bin_end": -0.8000000000001819,
                        "count": 3
                      },
                      {
                        "bin_start": -0.8000000000001819,
                        "bin_end": -0.30000000000000027,
                        "count": 1
                      },
                      {
                        "bin_start": -0.30000000000000027,
                        "bin_end": 0.20000000000018137,
                        "count": 1
                      },
                      {
                        "bin_start": 0.20000000000018137,
                        "bin_end": 0.7000000000003634,
                        "count": 1
                      },
                      {
                        "bin_start": 0.7000000000003634,
                        "bin_end": 1.2000000000005455,
                        "count": 0
                      },
                      {
                        "bin_start": 1.2000000000005455,
                        "bin_end": 1.7000000000007276,
                        "count": 2
                      }
                    ]
                  }
                },
                {
                  "name": "diff_lag_60",
                  "dtype": "float64",
                  "stats": {
                    "unique_count": 12,
                    "nan_count": 0,
                    "min": "-4.000000000001819",
                    "max": "6.200000000000728",
                    "histogram": [
                      {
                        "bin_start": -4.000000000001819,
                        "bin_end": -2.9800000000015645,
                        "count": 2
                      },
                      {
                        "bin_start": -2.9800000000015645,
                        "bin_end": -1.9600000000013096,
                        "count": 0
                      },
                      {
                        "bin_start": -1.9600000000013096,
                        "bin_end": -0.9400000000010547,
                        "count": 1
                      },
                      {
                        "bin_start": -0.9400000000010547,
                        "bin_end": 0.07999999999919982,
                        "count": 2
                      },
                      {
                        "bin_start": 0.07999999999919982,
                        "bin_end": 1.0999999999994543,
                        "count": 0
                      },
                      {
                        "bin_start": 1.0999999999994543,
                        "bin_end": 2.1199999999997097,
                        "count": 2
                      },
                      {
                        "bin_start": 2.1199999999997097,
                        "bin_end": 3.139999999999964,
                        "count": 3
                      },
                      {
                        "bin_start": 3.139999999999964,
                        "bin_end": 4.160000000000219,
                        "count": 1
                      },
                      {
                        "bin_start": 4.160000000000219,
                        "bin_end": 5.180000000000474,
                        "count": 0
                      },
                      {
                        "bin_start": 5.180000000000474,
                        "bin_end": 6.200000000000728,
                        "count": 1
                      }
                    ]
                  }
                },
                {
                  "name": "max_high_6",
                  "dtype": "float64",
                  "stats": {
                    "unique_count": 12,
                    "nan_count": 0,
                    "min": "10779.2",
                    "max": "10934.4",
                    "histogram": [
                      {
                        "bin_start": 10779.2,
                        "bin_end": 10794.720000000001,
                        "count": 4
                      },
                      {
                        "bin_start": 10794.720000000001,
                        "bin_end": 10810.24,
                        "count": 0
                      },
                      {
                        "bin_start": 10810.24,
                        "bin_end": 10825.76,
                        "count": 0
                      },
                      {
                        "bin_start": 10825.76,
                        "bin_end": 10841.28,
                        "count": 1
                      },
                      {
                        "bin_start": 10841.28,
                        "bin_end": 10856.8,
                        "count": 0
                      },
                      {
                        "bin_start": 10856.8,
                        "bin_end": 10872.32,
                        "count": 2
                      },
                      {
                        "bin_start": 10872.32,
                        "bin_end": 10887.84,
                        "count": 0
                      },
                      {
                        "bin_start": 10887.84,
                        "bin_end": 10903.36,
                        "count": 2
                      },
                      {
                        "bin_start": 10903.36,
                        "bin_end": 10918.88,
                        "count": 2
                      },
                      {
                        "bin_start": 10918.88,
                        "bin_end": 10934.4,
                        "count": 1
                      }
                    ]
                  }
                },
                {
                  "name": "min_low_6",
                  "dtype": "float64",
                  "stats": {
                    "unique_count": 11,
                    "nan_count": 0,
                    "min": "10763.0",
                    "max": "10904.7",
                    "histogram": [
                      {
                        "bin_start": 10763,
                        "bin_end": 10777.17,
                        "count": 1
                      },
                      {
                        "bin_start": 10777.17,
                        "bin_end": 10791.34,
                        "count": 3
                      },
                      {
                        "bin_start": 10791.34,
                        "bin_end": 10805.51,
                        "count": 0
                      },
                      {
                        "bin_start": 10805.51,
                        "bin_end": 10819.68,
                        "count": 1
                      },
                      {
                        "bin_start": 10819.68,
                        "bin_end": 10833.85,
                        "count": 0
                      },
                      {
                        "bin_start": 10833.85,
                        "bin_end": 10848.02,
                        "count": 1
                      },
                      {
                        "bin_start": 10848.02,
                        "bin_end": 10862.19,
                        "count": 2
                      },
                      {
                        "bin_start": 10862.19,
                        "bin_end": 10876.36,
                        "count": 0
                      },
                      {
                        "bin_start": 10876.36,
                        "bin_end": 10890.53,
                        "count": 0
                      },
                      {
                        "bin_start": 10890.53,
                        "bin_end": 10904.7,
                        "count": 4
                      }
                    ]
                  }
                },
                {
                  "name": "max_high_20",
                  "dtype": "float64",
                  "stats": {
                    "unique_count": 11,
                    "nan_count": 0,
                    "min": "10779.2",
                    "max": "10945.3",
                    "histogram": [
                      {
                        "bin_start": 10779.2,
                        "bin_end": 10795.810000000001,
                        "count": 2
                      },
                      {
                        "bin_start": 10795.810000000001,
                        "bin_end": 10812.42,
                        "count": 2
                      },
                      {
                        "bin_start": 10812.42,
                        "bin_end": 10829.03,
                        "count": 0
                      },
                      {
                        "bin_start": 10829.03,
                        "bin_end": 10845.64,
                        "count": 1
                      },
                      {
                        "bin_start": 10845.64,
                        "bin_end": 10862.25,
                        "count": 0
                      },
                      {
                        "bin_start": 10862.25,
                        "bin_end": 10878.86,
                        "count": 2
                      },
                      {
                        "bin_start": 10878.86,
                        "bin_end": 10895.47,
                        "count": 0
                      },
                      {
                        "bin_start": 10895.47,
                        "bin_end": 10912.08,
                        "count": 3
                      },
                      {
                        "bin_start": 10912.08,
                        "bin_end": 10928.689999999999,
                        "count": 1
                      },
                      {
                        "bin_start": 10928.689999999999,
                        "bin_end": 10945.3,
                        "count": 1
                      }
                    ]
                  }
                },
                {
                  "name": "min_low_20",
                  "dtype": "float64",
                  "stats": {
                    "unique_count": 10,
                    "nan_count": 0,
                    "min": "10761.1",
                    "max": "10904.7",
                    "histogram": [
                      {
                        "bin_start": 10761.1,
                        "bin_end": 10775.460000000001,
                        "count": 2
                      },
                      {
                        "bin_start": 10775.460000000001,
                        "bin_end": 10789.82,
                        "count": 2
                      },
                      {
                        "bin_start": 10789.82,
                        "bin_end": 10804.18,
                        "count": 0
                      },
                      {
                        "bin_start": 10804.18,
                        "bin_end": 10818.54,
                        "count": 1
                      },
                      {
                        "bin_start": 10818.54,
                        "bin_end": 10832.900000000001,
                        "count": 0
                      },
                      {
                        "bin_start": 10832.900000000001,
                        "bin_end": 10847.26,
                        "count": 2
                      },
                      {
                        "bin_start": 10847.26,
                        "bin_end": 10861.62,
                        "count": 0
                      },
                      {
                        "bin_start": 10861.62,
                        "bin_end": 10875.980000000001,
                        "count": 1
                      },
                      {
                        "bin_start": 10875.980000000001,
                        "bin_end": 10890.34,
                        "count": 1
                      },
                      {
                        "bin_start": 10890.34,
                        "bin_end": 10904.7,
                        "count": 3
                      }
                    ]
                  }
                },
                {
                  "name": "upward_move_6",
                  "dtype": "float64",
                  "stats": {
                    "unique_count": 12,
                    "nan_count": 0,
                    "min": "0.6000000000003638",
                    "max": "30.90000000000145",
                    "histogram": [
                      {
                        "bin_start": 0.6000000000003638,
                        "bin_end": 3.6300000000004724,
                        "count": 4
                      },
                      {
                        "bin_start": 3.6300000000004724,
                        "bin_end": 6.660000000000581,
                        "count": 3
                      },
                      {
                        "bin_start": 6.660000000000581,
                        "bin_end": 9.69000000000069,
                        "count": 1
                      },
                      {
                        "bin_start": 9.69000000000069,
                        "bin_end": 12.720000000000798,
                        "count": 1
                      },
                      {
                        "bin_start": 12.720000000000798,
                        "bin_end": 15.750000000000906,
                        "count": 1
                      },
                      {
                        "bin_start": 15.750000000000906,
                        "bin_end": 18.780000000001017,
                        "count": 0
                      },
                      {
                        "bin_start": 18.780000000001017,
                        "bin_end": 21.810000000001125,
                        "count": 0
                      },
                      {
                        "bin_start": 21.810000000001125,
                        "bin_end": 24.840000000001233,
                        "count": 0
                      },
                      {
                        "bin_start": 24.840000000001233,
                        "bin_end": 27.87000000000134,
                        "count": 0
                      },
                      {
                        "bin_start": 27.87000000000134,
                        "bin_end": 30.90000000000145,
                        "count": 2
                      }
                    ]
                  }
                },
                {
                  "name": "downward_move_6",
                  "dtype": "float64",
                  "stats": {
                    "unique_count": 12,
                    "nan_count": 0,
                    "min": "-0.3000000000010914",
                    "max": "28.39999999999964",
                    "histogram": [
                      {
                        "bin_start": -0.3000000000010914,
                        "bin_end": 2.5699999999989815,
                        "count": 4
                      },
                      {
                        "bin_start": 2.5699999999989815,
                        "bin_end": 5.4399999999990545,
                        "count": 5
                      },
                      {
                        "bin_start": 5.4399999999990545,
                        "bin_end": 8.309999999999128,
                        "count": 0
                      },
                      {
                        "bin_start": 8.309999999999128,
                        "bin_end": 11.1799999999992,
                        "count": 0
                      },
                      {
                        "bin_start": 11.1799999999992,
                        "bin_end": 14.049999999999272,
                        "count": 0
                      },
                      {
                        "bin_start": 14.049999999999272,
                        "bin_end": 16.919999999999348,
                        "count": 1
                      },
                      {
                        "bin_start": 16.919999999999348,
                        "bin_end": 19.78999999999942,
                        "count": 0
                      },
                      {
                        "bin_start": 19.78999999999942,
                        "bin_end": 22.659999999999492,
                        "count": 1
                      },
                      {
                        "bin_start": 22.659999999999492,
                        "bin_end": 25.529999999999564,
                        "count": 0
                      },
                      {
                        "bin_start": 25.529999999999564,
                        "bin_end": 28.39999999999964,
                        "count": 1
                      }
                    ]
                  }
                },
                {
                  "name": "upward_move_20",
                  "dtype": "float64",
                  "stats": {
                    "unique_count": 12,
                    "nan_count": 0,
                    "min": "0.6000000000003638",
                    "max": "48.10000000000037",
                    "histogram": [
                      {
                        "bin_start": 0.6000000000003638,
                        "bin_end": 5.350000000000365,
                        "count": 4
                      },
                      {
                        "bin_start": 5.350000000000365,
                        "bin_end": 10.100000000000366,
                        "count": 3
                      },
                      {
                        "bin_start": 10.100000000000366,
                        "bin_end": 14.850000000000367,
                        "count": 2
                      },
                      {
                        "bin_start": 14.850000000000367,
                        "bin_end": 19.600000000000367,
                        "count": 1
                      },
                      {
                        "bin_start": 19.600000000000367,
                        "bin_end": 24.350000000000367,
                        "count": 0
                      },
                      {
                        "bin_start": 24.350000000000367,
                        "bin_end": 29.10000000000037,
                        "count": 0
                      },
                      {
                        "bin_start": 29.10000000000037,
                        "bin_end": 33.85000000000037,
                        "count": 0
                      },
                      {
                        "bin_start": 33.85000000000037,
                        "bin_end": 38.60000000000037,
                        "count": 0
                      },
                      {
                        "bin_start": 38.60000000000037,
                        "bin_end": 43.35000000000037,
                        "count": 1
                      },
                      {
                        "bin_start": 43.35000000000037,
                        "bin_end": 48.10000000000037,
                        "count": 1
                      }
                    ]
                  }
                },
                {
                  "name": "downward_move_20",
                  "dtype": "float64",
                  "stats": {
                    "unique_count": 12,
                    "nan_count": 0,
                    "min": "-0.3000000000010914",
                    "max": "34.30000000000109",
                    "histogram": [
                      {
                        "bin_start": -0.3000000000010914,
                        "bin_end": 3.159999999999127,
                        "count": 3
                      },
                      {
                        "bin_start": 3.159999999999127,
                        "bin_end": 6.6199999999993455,
                        "count": 2
                      },
                      {
                        "bin_start": 6.6199999999993455,
                        "bin_end": 10.079999999999565,
                        "count": 1
                      },
                      {
                        "bin_start": 10.079999999999565,
                        "bin_end": 13.539999999999782,
                        "count": 1
                      },
                      {
                        "bin_start": 13.539999999999782,
                        "bin_end": 17,
                        "count": 1
                      },
                      {
                        "bin_start": 17,
                        "bin_end": 20.46000000000022,
                        "count": 1
                      },
                      {
                        "bin_start": 20.46000000000022,
                        "bin_end": 23.92000000000044,
                        "count": 1
                      },
                      {
                        "bin_start": 23.92000000000044,
                        "bin_end": 27.380000000000656,
                        "count": 0
                      },
                      {
                        "bin_start": 27.380000000000656,
                        "bin_end": 30.840000000000874,
                        "count": 0
                      },
                      {
                        "bin_start": 30.840000000000874,
                        "bin_end": 34.30000000000109,
                        "count": 2
                      }
                    ]
                  }
                },
                {
                  "name": "bullish_move_20",
                  "dtype": "float64",
                  "stats": {
                    "unique_count": 12,
                    "nan_count": 0,
                    "min": "5.521404645345123e-05",
                    "max": "0.0044269371301298",
                    "histogram": [
                      {
                        "bin_start": 0.00005521404645345123,
                        "bin_end": 0.0004923863548210862,
                        "count": 4
                      },
                      {
                        "bin_start": 0.0004923863548210862,
                        "bin_end": 0.0009295586631887211,
                        "count": 3
                      },
                      {
                        "bin_start": 0.0009295586631887211,
                        "bin_end": 0.001366730971556356,
                        "count": 2
                      },
                      {
                        "bin_start": 0.001366730971556356,
                        "bin_end": 0.0018039032799239908,
                        "count": 1
                      },
                      {
                        "bin_start": 0.0018039032799239908,
                        "bin_end": 0.002241075588291626,
                        "count": 0
                      },
                      {
                        "bin_start": 0.002241075588291626,
                        "bin_end": 0.002678247896659261,
                        "count": 0
                      },
                      {
                        "bin_start": 0.002678247896659261,
                        "bin_end": 0.003115420205026896,
                        "count": 0
                      },
                      {
                        "bin_start": 0.003115420205026896,
                        "bin_end": 0.0035525925133945307,
                        "count": 0
                      },
                      {
                        "bin_start": 0.0035525925133945307,
                        "bin_end": 0.003989764821762165,
                        "count": 1
                      },
                      {
                        "bin_start": 0.003989764821762165,
                        "bin_end": 0.0044269371301298,
                        "count": 1
                      }
                    ]
                  }
                },
                {
                  "name": "bearish_move_20",
                  "dtype": "float64",
                  "stats": {
                    "unique_count": 12,
                    "nan_count": 0,
                    "min": "-2.7511830087037472e-05",
                    "max": "0.0031561415938976",
                    "histogram": [
                      {
                        "bin_start": -0.000027511830087037472,
                        "bin_end": 0.00029085351231142623,
                        "count": 3
                      },
                      {
                        "bin_start": 0.00029085351231142623,
                        "bin_end": 0.00060921885470989,
                        "count": 2
                      },
                      {
                        "bin_start": 0.00060921885470989,
                        "bin_end": 0.0009275841971083538,
                        "count": 1
                      },
                      {
                        "bin_start": 0.0009275841971083538,
                        "bin_end": 0.0012459495395068174,
                        "count": 1
                      },
                      {
                        "bin_start": 0.0012459495395068174,
                        "bin_end": 0.001564314881905281,
                        "count": 1
                      },
                      {
                        "bin_start": 0.001564314881905281,
                        "bin_end": 0.001882680224303745,
                        "count": 1
                      },
                      {
                        "bin_start": 0.001882680224303745,
                        "bin_end": 0.0022010455667022086,
                        "count": 1
                      },
                      {
                        "bin_start": 0.0022010455667022086,
                        "bin_end": 0.0025194109091006725,
                        "count": 0
                      },
                      {
                        "bin_start": 0.0025194109091006725,
                        "bin_end": 0.0028377762514991364,
                        "count": 0
                      },
                      {
                        "bin_start": 0.0028377762514991364,
                        "bin_end": 0.0031561415938976,
                        "count": 2
                      }
                    ]
                  }
                },
                {
                  "name": "bullish_move_flag_20",
                  "dtype": "int64",
                  "stats": {
                    "unique_count": 2,
                    "nan_count": 0,
                    "min": "0",
                    "max": "1",
                    "histogram": [
                      {
                        "bin_start": 0,
                        "bin_end": 0.1,
                        "count": 9
                      },
                      {
                        "bin_start": 0.1,
                        "bin_end": 0.2,
                        "count": 0
                      },
                      {
                        "bin_start": 0.2,
                        "bin_end": 0.30000000000000004,
                        "count": 0
                      },
                      {
                        "bin_start": 0.30000000000000004,
                        "bin_end": 0.4,
                        "count": 0
                      },
                      {
                        "bin_start": 0.4,
                        "bin_end": 0.5,
                        "count": 0
                      },
                      {
                        "bin_start": 0.5,
                        "bin_end": 0.6000000000000001,
                        "count": 0
                      },
                      {
                        "bin_start": 0.6000000000000001,
                        "bin_end": 0.7000000000000001,
                        "count": 0
                      },
                      {
                        "bin_start": 0.7000000000000001,
                        "bin_end": 0.8,
                        "count": 0
                      },
                      {
                        "bin_start": 0.8,
                        "bin_end": 0.9,
                        "count": 0
                      },
                      {
                        "bin_start": 0.9,
                        "bin_end": 1,
                        "count": 3
                      }
                    ]
                  }
                },
                {
                  "name": "bearish_move_flag_20",
                  "dtype": "int64",
                  "stats": {
                    "unique_count": 2,
                    "nan_count": 0,
                    "min": "0",
                    "max": "2",
                    "histogram": [
                      {
                        "bin_start": 0,
                        "bin_end": 0.2,
                        "count": 8
                      },
                      {
                        "bin_start": 0.2,
                        "bin_end": 0.4,
                        "count": 0
                      },
                      {
                        "bin_start": 0.4,
                        "bin_end": 0.6000000000000001,
                        "count": 0
                      },
                      {
                        "bin_start": 0.6000000000000001,
                        "bin_end": 0.8,
                        "count": 0
                      },
                      {
                        "bin_start": 0.8,
                        "bin_end": 1,
                        "count": 0
                      },
                      {
                        "bin_start": 1,
                        "bin_end": 1.2000000000000002,
                        "count": 0
                      },
                      {
                        "bin_start": 1.2000000000000002,
                        "bin_end": 1.4000000000000001,
                        "count": 0
                      },
                      {
                        "bin_start": 1.4000000000000001,
                        "bin_end": 1.6,
                        "count": 0
                      },
                      {
                        "bin_start": 1.6,
                        "bin_end": 1.8,
                        "count": 0
                      },
                      {
                        "bin_start": 1.8,
                        "bin_end": 2,
                        "count": 4
                      }
                    ]
                  }
                },
                {
                  "name": "volume_std_5",
                  "dtype": "float64",
                  "stats": {
                    "unique_count": 12,
                    "nan_count": 0,
                    "min": "22.898325994127006",
                    "max": "340.5382993634228",
                    "histogram": [
                      {
                        "bin_start": 22.898325994127006,
                        "bin_end": 54.66232333105659,
                        "count": 3
                      },
                      {
                        "bin_start": 54.66232333105659,
                        "bin_end": 86.42632066798618,
                        "count": 2
                      },
                      {
                        "bin_start": 86.42632066798618,
                        "bin_end": 118.19031800491577,
                        "count": 2
                      },
                      {
                        "bin_start": 118.19031800491577,
                        "bin_end": 149.95431534184536,
                        "count": 1
                      },
                      {
                        "bin_start": 149.95431534184536,
                        "bin_end": 181.7183126787749,
                        "count": 1
                      },
                      {
                        "bin_start": 181.7183126787749,
                        "bin_end": 213.4823100157045,
                        "count": 2
                      },
                      {
                        "bin_start": 213.4823100157045,
                        "bin_end": 245.24630735263412,
                        "count": 0
                      },
                      {
                        "bin_start": 245.24630735263412,
                        "bin_end": 277.01030468956367,
                        "count": 0
                      },
                      {
                        "bin_start": 277.01030468956367,
                        "bin_end": 308.7743020264933,
                        "count": 0
                      },
                      {
                        "bin_start": 308.7743020264933,
                        "bin_end": 340.5382993634228,
                        "count": 1
                      }
                    ]
                  }
                },
                {
                  "name": "volume_std_mean",
                  "dtype": "float64",
                  "stats": {
                    "unique_count": 12,
                    "nan_count": 0,
                    "min": "74.3338013737364",
                    "max": "107.2286203001715",
                    "histogram": [
                      {
                        "bin_start": 74.3338013737364,
                        "bin_end": 77.62328326637991,
                        "count": 1
                      },
                      {
                        "bin_start": 77.62328326637991,
                        "bin_end": 80.91276515902342,
                        "count": 2
                      },
                      {
                        "bin_start": 80.91276515902342,
                        "bin_end": 84.20224705166693,
                        "count": 0
                      },
                      {
                        "bin_start": 84.20224705166693,
                        "bin_end": 87.49172894431044,
                        "count": 2
                      },
                      {
                        "bin_start": 87.49172894431044,
                        "bin_end": 90.78121083695396,
                        "count": 1
                      },
                      {
                        "bin_start": 90.78121083695396,
                        "bin_end": 94.07069272959745,
                        "count": 0
                      },
                      {
                        "bin_start": 94.07069272959745,
                        "bin_end": 97.36017462224098,
                        "count": 2
                      },
                      {
                        "bin_start": 97.36017462224098,
                        "bin_end": 100.64965651488448,
                        "count": 2
                      },
                      {
                        "bin_start": 100.64965651488448,
                        "bin_end": 103.93913840752799,
                        "count": 0
                      },
                      {
                        "bin_start": 103.93913840752799,
                        "bin_end": 107.2286203001715,
                        "count": 2
                      }
                    ]
                  }
                },
                {
                  "name": "volume_mean_5",
                  "dtype": "float64",
                  "stats": {
                    "unique_count": 12,
                    "nan_count": 0,
                    "min": "445.0",
                    "max": "1738.4",
                    "histogram": [
                      {
                        "bin_start": 445,
                        "bin_end": 574.34,
                        "count": 3
                      },
                      {
                        "bin_start": 574.34,
                        "bin_end": 703.6800000000001,
                        "count": 1
                      },
                      {
                        "bin_start": 703.6800000000001,
                        "bin_end": 833.02,
                        "count": 2
                      },
                      {
                        "bin_start": 833.02,
                        "bin_end": 962.36,
                        "count": 2
                      },
                      {
                        "bin_start": 962.36,
                        "bin_end": 1091.7,
                        "count": 1
                      },
                      {
                        "bin_start": 1091.7,
                        "bin_end": 1221.04,
                        "count": 2
                      },
                      {
                        "bin_start": 1221.04,
                        "bin_end": 1350.38,
                        "count": 0
                      },
                      {
                        "bin_start": 1350.38,
                        "bin_end": 1479.72,
                        "count": 0
                      },
                      {
                        "bin_start": 1479.72,
                        "bin_end": 1609.06,
                        "count": 0
                      },
                      {
                        "bin_start": 1609.06,
                        "bin_end": 1738.4,
                        "count": 1
                      }
                    ]
                  }
                },
                {
                  "name": "volume_mean_3",
                  "dtype": "float64",
                  "stats": {
                    "unique_count": 12,
                    "nan_count": 0,
                    "min": "427.3333333333333",
                    "max": "1677.6666666666667",
                    "histogram": [
                      {
                        "bin_start": 427.3333333333333,
                        "bin_end": 552.3666666666667,
                        "count": 3
                      },
                      {
                        "bin_start": 552.3666666666667,
                        "bin_end": 677.4,
                        "count": 0
                      },
                      {
                        "bin_start": 677.4,
                        "bin_end": 802.4333333333334,
                        "count": 4
                      },
                      {
                        "bin_start": 802.4333333333334,
                        "bin_end": 927.4666666666667,
                        "count": 1
                      },
                      {
                        "bin_start": 927.4666666666667,
                        "bin_end": 1052.5,
                        "count": 2
                      },
                      {
                        "bin_start": 1052.5,
                        "bin_end": 1177.5333333333333,
                        "count": 1
                      },
                      {
                        "bin_start": 1177.5333333333333,
                        "bin_end": 1302.5666666666668,
                        "count": 0
                      },
                      {
                        "bin_start": 1302.5666666666668,
                        "bin_end": 1427.6000000000001,
                        "count": 0
                      },
                      {
                        "bin_start": 1427.6000000000001,
                        "bin_end": 1552.6333333333334,
                        "count": 0
                      },
                      {
                        "bin_start": 1552.6333333333334,
                        "bin_end": 1677.6666666666667,
                        "count": 1
                      }
                    ]
                  }
                },
                {
                  "name": "move_from_top",
                  "dtype": "float64",
                  "stats": {
                    "unique_count": 12,
                    "nan_count": 0,
                    "min": "0.1295948310175987",
                    "max": "0.3440209164717211",
                    "histogram": [
                      {
                        "bin_start": 0.1295948310175987,
                        "bin_end": 0.15103743956301094,
                        "count": 2
                      },
                      {
                        "bin_start": 0.15103743956301094,
                        "bin_end": 0.17248004810842318,
                        "count": 0
                      },
                      {
                        "bin_start": 0.17248004810842318,
                        "bin_end": 0.1939226566538354,
                        "count": 1
                      },
                      {
                        "bin_start": 0.1939226566538354,
                        "bin_end": 0.21536526519924765,
                        "count": 0
                      },
                      {
                        "bin_start": 0.21536526519924765,
                        "bin_end": 0.2368078737446599,
                        "count": 4
                      },
                      {
                        "bin_start": 0.2368078737446599,
                        "bin_end": 0.25825048229007214,
                        "count": 2
                      },
                      {
                        "bin_start": 0.25825048229007214,
                        "bin_end": 0.2796930908354844,
                        "count": 0
                      },
                      {
                        "bin_start": 0.2796930908354844,
                        "bin_end": 0.3011356993808966,
                        "count": 0
                      },
                      {
                        "bin_start": 0.3011356993808966,
                        "bin_end": 0.32257830792630887,
                        "count": 0
                      },
                      {
                        "bin_start": 0.32257830792630887,
                        "bin_end": 0.3440209164717211,
                        "count": 3
                      }
                    ]
                  }
                },
                {
                  "name": "move_from_bottom",
                  "dtype": "float64",
                  "stats": {
                    "unique_count": 12,
                    "nan_count": 0,
                    "min": "0.0496844119757811",
                    "max": "0.3340368908873792",
                    "histogram": [
                      {
                        "bin_start": 0.0496844119757811,
                        "bin_end": 0.07811965986694092,
                        "count": 6
                      },
                      {
                        "bin_start": 0.07811965986694092,
                        "bin_end": 0.10655490775810073,
                        "count": 4
                      },
                      {
                        "bin_start": 0.10655490775810073,
                        "bin_end": 0.13499015564926053,
                        "count": 1
                      },
                      {
                        "bin_start": 0.13499015564926053,
                        "bin_end": 0.16342540354042034,
                        "count": 0
                      },
                      {
                        "bin_start": 0.16342540354042034,
                        "bin_end": 0.19186065143158015,
                        "count": 0
                      },
                      {
                        "bin_start": 0.19186065143158015,
                        "bin_end": 0.22029589932273996,
                        "count": 0
                      },
                      {
                        "bin_start": 0.22029589932273996,
                        "bin_end": 0.24873114721389977,
                        "count": 0
                      },
                      {
                        "bin_start": 0.24873114721389977,
                        "bin_end": 0.2771663951050596,
                        "count": 0
                      },
                      {
                        "bin_start": 0.2771663951050596,
                        "bin_end": 0.3056016429962194,
                        "count": 0
                      },
                      {
                        "bin_start": 0.3056016429962194,
                        "bin_end": 0.3340368908873792,
                        "count": 1
                      }
                    ]
                  }
                },
                {
                  "name": "EMA_slope",
                  "dtype": "float64",
                  "stats": {
                    "unique_count": 12,
                    "nan_count": 0,
                    "min": "-2.0003117504493275",
                    "max": "-1.0096268183642678",
                    "histogram": [
                      {
                        "bin_start": -2.0003117504493275,
                        "bin_end": -1.9012432572408215,
                        "count": 2
                      },
                      {
                        "bin_start": -1.9012432572408215,
                        "bin_end": -1.8021747640323156,
                        "count": 0
                      },
                      {
                        "bin_start": -1.8021747640323156,
                        "bin_end": -1.7031062708238096,
                        "count": 2
                      },
                      {
                        "bin_start": -1.7031062708238096,
                        "bin_end": -1.6040377776153036,
                        "count": 1
                      },
                      {
                        "bin_start": -1.6040377776153036,
                        "bin_end": -1.5049692844067977,
                        "count": 2
                      },
                      {
                        "bin_start": -1.5049692844067977,
                        "bin_end": -1.4059007911982917,
                        "count": 1
                      },
                      {
                        "bin_start": -1.4059007911982917,
                        "bin_end": -1.3068322979897857,
                        "count": 0
                      },
                      {
                        "bin_start": -1.3068322979897857,
                        "bin_end": -1.2077638047812798,
                        "count": 2
                      },
                      {
                        "bin_start": -1.2077638047812798,
                        "bin_end": -1.1086953115727738,
                        "count": 1
                      },
                      {
                        "bin_start": -1.1086953115727738,
                        "bin_end": -1.0096268183642678,
                        "count": 1
                      }
                    ]
                  }
                },
                {
                  "name": "EMA_slope_15",
                  "dtype": "float64",
                  "stats": {
                    "unique_count": 12,
                    "nan_count": 0,
                    "min": "-1.5212688100818923",
                    "max": "-0.6854087363990402",
                    "histogram": [
                      {
                        "bin_start": -1.5212688100818923,
                        "bin_end": -1.437682802713607,
                        "count": 1
                      },
                      {
                        "bin_start": -1.437682802713607,
                        "bin_end": -1.3540967953453218,
                        "count": 2
                      },
                      {
                        "bin_start": -1.3540967953453218,
                        "bin_end": -1.2705107879770368,
                        "count": 0
                      },
                      {
                        "bin_start": -1.2705107879770368,
                        "bin_end": -1.1869247806087515,
                        "count": 1
                      },
                      {
                        "bin_start": -1.1869247806087515,
                        "bin_end": -1.1033387732404663,
                        "count": 1
                      },
                      {
                        "bin_start": -1.1033387732404663,
                        "bin_end": -1.019752765872181,
                        "count": 2
                      },
                      {
                        "bin_start": -1.019752765872181,
                        "bin_end": -0.9361667585038959,
                        "count": 2
                      },
                      {
                        "bin_start": -0.9361667585038959,
                        "bin_end": -0.8525807511356106,
                        "count": 2
                      },
                      {
                        "bin_start": -0.8525807511356106,
                        "bin_end": -0.7689947437673254,
                        "count": 0
                      },
                      {
                        "bin_start": -0.7689947437673254,
                        "bin_end": -0.6854087363990402,
                        "count": 1
                      }
                    ]
                  }
                },
                {
                  "name": "EMA_slope_60",
                  "dtype": "float64",
                  "stats": {
                    "unique_count": 12,
                    "nan_count": 0,
                    "min": "-0.8124052877119539",
                    "max": "-0.0431664721891138",
                    "histogram": [
                      {
                        "bin_start": -0.8124052877119539,
                        "bin_end": -0.7354814061596698,
                        "count": 2
                      },
                      {
                        "bin_start": -0.7354814061596698,
                        "bin_end": -0.6585575246073858,
                        "count": 2
                      },
                      {
                        "bin_start": -0.6585575246073858,
                        "bin_end": -0.5816336430551019,
                        "count": 0
                      },
                      {
                        "bin_start": -0.5816336430551019,
                        "bin_end": -0.5047097615028179,
                        "count": 0
                      },
                      {
                        "bin_start": -0.5047097615028179,
                        "bin_end": -0.42778587995053385,
                        "count": 1
                      },
                      {
                        "bin_start": -0.42778587995053385,
                        "bin_end": -0.3508619983982499,
                        "count": 1
                      },
                      {
                        "bin_start": -0.3508619983982499,
                        "bin_end": -0.2739381168459659,
                        "count": 1
                      },
                      {
                        "bin_start": -0.2739381168459659,
                        "bin_end": -0.1970142352936819,
                        "count": 2
                      },
                      {
                        "bin_start": -0.1970142352936819,
                        "bin_end": -0.12009035374139787,
                        "count": 0
                      },
                      {
                        "bin_start": -0.12009035374139787,
                        "bin_end": -0.0431664721891138,
                        "count": 3
                      }
                    ]
                  }
                },
                {
                  "name": "deviation_",
                  "dtype": "int64",
                  "stats": {
                    "unique_count": 2,
                    "nan_count": 0,
                    "min": "0",
                    "max": "1",
                    "histogram": [
                      {
                        "bin_start": 0,
                        "bin_end": 0.1,
                        "count": 11
                      },
                      {
                        "bin_start": 0.1,
                        "bin_end": 0.2,
                        "count": 0
                      },
                      {
                        "bin_start": 0.2,
                        "bin_end": 0.30000000000000004,
                        "count": 0
                      },
                      {
                        "bin_start": 0.30000000000000004,
                        "bin_end": 0.4,
                        "count": 0
                      },
                      {
                        "bin_start": 0.4,
                        "bin_end": 0.5,
                        "count": 0
                      },
                      {
                        "bin_start": 0.5,
                        "bin_end": 0.6000000000000001,
                        "count": 0
                      },
                      {
                        "bin_start": 0.6000000000000001,
                        "bin_end": 0.7000000000000001,
                        "count": 0
                      },
                      {
                        "bin_start": 0.7000000000000001,
                        "bin_end": 0.8,
                        "count": 0
                      },
                      {
                        "bin_start": 0.8,
                        "bin_end": 0.9,
                        "count": 0
                      },
                      {
                        "bin_start": 0.9,
                        "bin_end": 1,
                        "count": 1
                      }
                    ]
                  }
                },
                {
                  "name": "bearish_0",
                  "dtype": "float64",
                  "stats": {
                    "unique_count": 12,
                    "nan_count": 0,
                    "min": "0.3062766790390014",
                    "max": "0.3988868",
                    "histogram": [
                      {
                        "bin_start": 0.3062766790390014,
                        "bin_end": 0.3155376911351013,
                        "count": 1
                      },
                      {
                        "bin_start": 0.3155376911351013,
                        "bin_end": 0.32479870323120114,
                        "count": 0
                      },
                      {
                        "bin_start": 0.32479870323120114,
                        "bin_end": 0.334059715327301,
                        "count": 0
                      },
                      {
                        "bin_start": 0.334059715327301,
                        "bin_end": 0.34332072742340086,
                        "count": 2
                      },
                      {
                        "bin_start": 0.34332072742340086,
                        "bin_end": 0.35258173951950067,
                        "count": 0
                      },
                      {
                        "bin_start": 0.35258173951950067,
                        "bin_end": 0.36184275161560053,
                        "count": 1
                      },
                      {
                        "bin_start": 0.36184275161560053,
                        "bin_end": 0.3711037637117004,
                        "count": 2
                      },
                      {
                        "bin_start": 0.3711037637117004,
                        "bin_end": 0.38036477580780026,
                        "count": 1
                      },
                      {
                        "bin_start": 0.38036477580780026,
                        "bin_end": 0.3896257879039001,
                        "count": 2
                      },
                      {
                        "bin_start": 0.3896257879039001,
                        "bin_end": 0.3988868,
                        "count": 3
                      }
                    ]
                  }
                },
                {
                  "name": "bearish_1",
                  "dtype": "float64",
                  "stats": {
                    "unique_count": 12,
                    "nan_count": 0,
                    "min": "9.642558279621127e-11",
                    "max": "1.0166363e-10",
                    "histogram": [
                      {
                        "bin_start": 9.642558279621127e-11,
                        "bin_end": 9.694938751659015e-11,
                        "count": 1
                      },
                      {
                        "bin_start": 9.694938751659015e-11,
                        "bin_end": 9.747319223696902e-11,
                        "count": 0
                      },
                      {
                        "bin_start": 9.747319223696902e-11,
                        "bin_end": 9.79969969573479e-11,
                        "count": 0
                      },
                      {
                        "bin_start": 9.79969969573479e-11,
                        "bin_end": 9.852080167772676e-11,
                        "count": 0
                      },
                      {
                        "bin_start": 9.852080167772676e-11,
                        "bin_end": 9.904460639810564e-11,
                        "count": 2
                      },
                      {
                        "bin_start": 9.904460639810564e-11,
                        "bin_end": 9.956841111848452e-11,
                        "count": 0
                      },
                      {
                        "bin_start": 9.956841111848452e-11,
                        "bin_end": 1.0009221583886338e-10,
                        "count": 1
                      },
                      {
                        "bin_start": 1.0009221583886338e-10,
                        "bin_end": 1.0061602055924226e-10,
                        "count": 2
                      },
                      {
                        "bin_start": 1.0061602055924226e-10,
                        "bin_end": 1.0113982527962112e-10,
                        "count": 3
                      },
                      {
                        "bin_start": 1.0113982527962112e-10,
                        "bin_end": 1.0166363e-10,
                        "count": 3
                      }
                    ]
                  }
                },
                {
                  "name": "bearish_2",
                  "dtype": "float64",
                  "stats": {
                    "unique_count": 12,
                    "nan_count": 0,
                    "min": "0.6011132",
                    "max": "0.6937233209609985",
                    "histogram": [
                      {
                        "bin_start": 0.6011132,
                        "bin_end": 0.6103742120960999,
                        "count": 3
                      },
                      {
                        "bin_start": 0.6103742120960999,
                        "bin_end": 0.6196352241921997,
                        "count": 2
                      },
                      {
                        "bin_start": 0.6196352241921997,
                        "bin_end": 0.6288962362882996,
                        "count": 1
                      },
                      {
                        "bin_start": 0.6288962362882996,
                        "bin_end": 0.6381572483843995,
                        "count": 2
                      },
                      {
                        "bin_start": 0.6381572483843995,
                        "bin_end": 0.6474182604804992,
                        "count": 1
                      },
                      {
                        "bin_start": 0.6474182604804992,
                        "bin_end": 0.6566792725765991,
                        "count": 0
                      },
                      {
                        "bin_start": 0.6566792725765991,
                        "bin_end": 0.665940284672699,
                        "count": 2
                      },
                      {
                        "bin_start": 0.665940284672699,
                        "bin_end": 0.6752012967687988,
                        "count": 0
                      },
                      {
                        "bin_start": 0.6752012967687988,
                        "bin_end": 0.6844623088648987,
                        "count": 0
                      },
                      {
                        "bin_start": 0.6844623088648987,
                        "bin_end": 0.6937233209609985,
                        "count": 1
                      }
                    ]
                  }
                },
                {
                  "name": "bearish_3",
                  "dtype": "float64",
                  "stats": {
                    "unique_count": 12,
                    "nan_count": 0,
                    "min": "9.642558279621127e-11",
                    "max": "1.0166363e-10",
                    "histogram": [
                      {
                        "bin_start": 9.642558279621127e-11,
                        "bin_end": 9.694938751659015e-11,
                        "count": 1
                      },
                      {
                        "bin_start": 9.694938751659015e-11,
                        "bin_end": 9.747319223696902e-11,
                        "count": 0
                      },
                      {
                        "bin_start": 9.747319223696902e-11,
                        "bin_end": 9.79969969573479e-11,
                        "count": 0
                      },
                      {
                        "bin_start": 9.79969969573479e-11,
                        "bin_end": 9.852080167772676e-11,
                        "count": 0
                      },
                      {
                        "bin_start": 9.852080167772676e-11,
                        "bin_end": 9.904460639810564e-11,
                        "count": 2
                      },
                      {
                        "bin_start": 9.904460639810564e-11,
                        "bin_end": 9.956841111848452e-11,
                        "count": 0
                      },
                      {
                        "bin_start": 9.956841111848452e-11,
                        "bin_end": 1.0009221583886338e-10,
                        "count": 1
                      },
                      {
                        "bin_start": 1.0009221583886338e-10,
                        "bin_end": 1.0061602055924226e-10,
                        "count": 2
                      },
                      {
                        "bin_start": 1.0061602055924226e-10,
                        "bin_end": 1.0113982527962112e-10,
                        "count": 3
                      },
                      {
                        "bin_start": 1.0113982527962112e-10,
                        "bin_end": 1.0166363e-10,
                        "count": 3
                      }
                    ]
                  }
                },
                {
                  "name": "bullish_0",
                  "dtype": "float64",
                  "stats": {
                    "unique_count": 12,
                    "nan_count": 0,
                    "min": "0.413460373878479",
                    "max": "0.5118529796600342",
                    "histogram": [
                      {
                        "bin_start": 0.413460373878479,
                        "bin_end": 0.42329963445663454,
                        "count": 2
                      },
                      {
                        "bin_start": 0.42329963445663454,
                        "bin_end": 0.43313889503479003,
                        "count": 2
                      },
                      {
                        "bin_start": 0.43313889503479003,
                        "bin_end": 0.44297815561294557,
                        "count": 4
                      },
                      {
                        "bin_start": 0.44297815561294557,
                        "bin_end": 0.45281741619110105,
                        "count": 0
                      },
                      {
                        "bin_start": 0.45281741619110105,
                        "bin_end": 0.4626566767692566,
                        "count": 1
                      },
                      {
                        "bin_start": 0.4626566767692566,
                        "bin_end": 0.47249593734741213,
                        "count": 0
                      },
                      {
                        "bin_start": 0.47249593734741213,
                        "bin_end": 0.4823351979255676,
                        "count": 0
                      },
                      {
                        "bin_start": 0.4823351979255676,
                        "bin_end": 0.49217445850372316,
                        "count": 0
                      },
                      {
                        "bin_start": 0.49217445850372316,
                        "bin_end": 0.5020137190818786,
                        "count": 1
                      },
                      {
                        "bin_start": 0.5020137190818786,
                        "bin_end": 0.5118529796600342,
                        "count": 2
                      }
                    ]
                  }
                },
                {
                  "name": "bullish_1",
                  "dtype": "float64",
                  "stats": {
                    "unique_count": 12,
                    "nan_count": 0,
                    "min": "0.4881470501422882",
                    "max": "0.586539626121521",
                    "histogram": [
                      {
                        "bin_start": 0.4881470501422882,
                        "bin_end": 0.49798630774021146,
                        "count": 2
                      },
                      {
                        "bin_start": 0.49798630774021146,
                        "bin_end": 0.5078255653381347,
                        "count": 1
                      },
                      {
                        "bin_start": 0.5078255653381347,
                        "bin_end": 0.5176648229360581,
                        "count": 0
                      },
                      {
                        "bin_start": 0.5176648229360581,
                        "bin_end": 0.5275040805339813,
                        "count": 0
                      },
                      {
                        "bin_start": 0.5275040805339813,
                        "bin_end": 0.5373433381319046,
                        "count": 0
                      },
                      {
                        "bin_start": 0.5373433381319046,
                        "bin_end": 0.5471825957298279,
                        "count": 1
                      },
                      {
                        "bin_start": 0.5471825957298279,
                        "bin_end": 0.5570218533277511,
                        "count": 0
                      },
                      {
                        "bin_start": 0.5570218533277511,
                        "bin_end": 0.5668611109256745,
                        "count": 4
                      },
                      {
                        "bin_start": 0.5668611109256745,
                        "bin_end": 0.5767003685235977,
                        "count": 2
                      },
                      {
                        "bin_start": 0.5767003685235977,
                        "bin_end": 0.586539626121521,
                        "count": 2
                      }
                    ]
                  }
                },
                {
                  "name": "bullish_2",
                  "dtype": "float64",
                  "stats": {
                    "unique_count": 12,
                    "nan_count": 0,
                    "min": "1.2816711580931894e-10",
                    "max": "1.2949726013733454e-10",
                    "histogram": [
                      {
                        "bin_start": 1.2816711580931894e-10,
                        "bin_end": 1.283001302421205e-10,
                        "count": 1
                      },
                      {
                        "bin_start": 1.283001302421205e-10,
                        "bin_end": 1.2843314467492207e-10,
                        "count": 0
                      },
                      {
                        "bin_start": 1.2843314467492207e-10,
                        "bin_end": 1.2856615910772362e-10,
                        "count": 1
                      },
                      {
                        "bin_start": 1.2856615910772362e-10,
                        "bin_end": 1.286991735405252e-10,
                        "count": 1
                      },
                      {
                        "bin_start": 1.286991735405252e-10,
                        "bin_end": 1.2883218797332674e-10,
                        "count": 1
                      },
                      {
                        "bin_start": 1.2883218797332674e-10,
                        "bin_end": 1.289652024061283e-10,
                        "count": 3
                      },
                      {
                        "bin_start": 1.289652024061283e-10,
                        "bin_end": 1.2909821683892986e-10,
                        "count": 1
                      },
                      {
                        "bin_start": 1.2909821683892986e-10,
                        "bin_end": 1.292312312717314e-10,
                        "count": 0
                      },
                      {
                        "bin_start": 1.292312312717314e-10,
                        "bin_end": 1.2936424570453299e-10,
                        "count": 2
                      },
                      {
                        "bin_start": 1.2936424570453299e-10,
                        "bin_end": 1.2949726013733454e-10,
                        "count": 2
                      }
                    ]
                  }
                },
                {
                  "name": "bullish_3",
                  "dtype": "float64",
                  "stats": {
                    "unique_count": 12,
                    "nan_count": 0,
                    "min": "1.28233618168494e-10",
                    "max": "1.2956445638589995e-10",
                    "histogram": [
                      {
                        "bin_start": 1.28233618168494e-10,
                        "bin_end": 1.2836670199023458e-10,
                        "count": 1
                      },
                      {
                        "bin_start": 1.2836670199023458e-10,
                        "bin_end": 1.284997858119752e-10,
                        "count": 0
                      },
                      {
                        "bin_start": 1.284997858119752e-10,
                        "bin_end": 1.2863286963371578e-10,
                        "count": 1
                      },
                      {
                        "bin_start": 1.2863286963371578e-10,
                        "bin_end": 1.2876595345545637e-10,
                        "count": 1
                      },
                      {
                        "bin_start": 1.2876595345545637e-10,
                        "bin_end": 1.2889903727719698e-10,
                        "count": 1
                      },
                      {
                        "bin_start": 1.2889903727719698e-10,
                        "bin_end": 1.2903212109893757e-10,
                        "count": 3
                      },
                      {
                        "bin_start": 1.2903212109893757e-10,
                        "bin_end": 1.2916520492067816e-10,
                        "count": 1
                      },
                      {
                        "bin_start": 1.2916520492067816e-10,
                        "bin_end": 1.2929828874241875e-10,
                        "count": 0
                      },
                      {
                        "bin_start": 1.2929828874241875e-10,
                        "bin_end": 1.2943137256415936e-10,
                        "count": 2
                      },
                      {
                        "bin_start": 1.2943137256415936e-10,
                        "bin_end": 1.2956445638589995e-10,
                        "count": 2
                      }
                    ]
                  }
                },
                {
                  "name": "y_true",
                  "dtype": "int64",
                  "stats": {
                    "unique_count": 3,
                    "nan_count": 0,
                    "min": "0",
                    "max": "2",
                    "histogram": [
                      {
                        "bin_start": 0,
                        "bin_end": 0.2,
                        "count": 5
                      },
                      {
                        "bin_start": 0.2,
                        "bin_end": 0.4,
                        "count": 0
                      },
                      {
                        "bin_start": 0.4,
                        "bin_end": 0.6000000000000001,
                        "count": 0
                      },
                      {
                        "bin_start": 0.6000000000000001,
                        "bin_end": 0.8,
                        "count": 0
                      },
                      {
                        "bin_start": 0.8,
                        "bin_end": 1,
                        "count": 0
                      },
                      {
                        "bin_start": 1,
                        "bin_end": 1.2000000000000002,
                        "count": 3
                      },
                      {
                        "bin_start": 1.2000000000000002,
                        "bin_end": 1.4000000000000001,
                        "count": 0
                      },
                      {
                        "bin_start": 1.4000000000000001,
                        "bin_end": 1.6,
                        "count": 0
                      },
                      {
                        "bin_start": 1.6,
                        "bin_end": 1.8,
                        "count": 0
                      },
                      {
                        "bin_start": 1.8,
                        "bin_end": 2,
                        "count": 4
                      }
                    ]
                  }
                },
                {
                  "name": "bullish_flag",
                  "dtype": "int64",
                  "stats": {
                    "unique_count": 1,
                    "nan_count": 0,
                    "min": "0",
                    "max": "0",
                    "histogram": [
                      {
                        "bin_start": -0.5,
                        "bin_end": -0.4,
                        "count": 0
                      },
                      {
                        "bin_start": -0.4,
                        "bin_end": -0.3,
                        "count": 0
                      },
                      {
                        "bin_start": -0.3,
                        "bin_end": -0.19999999999999996,
                        "count": 0
                      },
                      {
                        "bin_start": -0.19999999999999996,
                        "bin_end": -0.09999999999999998,
                        "count": 0
                      },
                      {
                        "bin_start": -0.09999999999999998,
                        "bin_end": 0,
                        "count": 0
                      },
                      {
                        "bin_start": 0,
                        "bin_end": 0.10000000000000009,
                        "count": 12
                      },
                      {
                        "bin_start": 0.10000000000000009,
                        "bin_end": 0.20000000000000007,
                        "count": 0
                      },
                      {
                        "bin_start": 0.20000000000000007,
                        "bin_end": 0.30000000000000004,
                        "count": 0
                      },
                      {
                        "bin_start": 0.30000000000000004,
                        "bin_end": 0.4,
                        "count": 0
                      },
                      {
                        "bin_start": 0.4,
                        "bin_end": 0.5,
                        "count": 0
                      }
                    ]
                  }
                },
                {
                  "name": "bearish_flag",
                  "dtype": "int64",
                  "stats": {
                    "unique_count": 1,
                    "nan_count": 0,
                    "min": "2",
                    "max": "2",
                    "histogram": [
                      {
                        "bin_start": 1.5,
                        "bin_end": 1.6,
                        "count": 0
                      },
                      {
                        "bin_start": 1.6,
                        "bin_end": 1.7,
                        "count": 0
                      },
                      {
                        "bin_start": 1.7,
                        "bin_end": 1.8,
                        "count": 0
                      },
                      {
                        "bin_start": 1.8,
                        "bin_end": 1.9,
                        "count": 0
                      },
                      {
                        "bin_start": 1.9,
                        "bin_end": 2,
                        "count": 0
                      },
                      {
                        "bin_start": 2,
                        "bin_end": 2.1,
                        "count": 12
                      },
                      {
                        "bin_start": 2.1,
                        "bin_end": 2.2,
                        "count": 0
                      },
                      {
                        "bin_start": 2.2,
                        "bin_end": 2.3,
                        "count": 0
                      },
                      {
                        "bin_start": 2.3,
                        "bin_end": 2.4,
                        "count": 0
                      },
                      {
                        "bin_start": 2.4,
                        "bin_end": 2.5,
                        "count": 0
                      }
                    ]
                  }
                },
                {
                  "name": "timestamp",
                  "dtype": "object",
                  "stats": {
                    "unique_count": 12,
                    "nan_count": 0,
                    "categories": [
                      {
                        "name": "2025-03-18 10:54:52",
                        "count": 1
                      },
                      {
                        "name": "2025-03-18 15:27:00",
                        "count": 1
                      },
                      {
                        "name": "10 others",
                        "count": 10
                      }
                    ]
                  }
                },
                {
                  "name": "bearish_22",
                  "dtype": "float64",
                  "stats": {
                    "unique_count": 12,
                    "nan_count": 0,
                    "min": "0.6011132",
                    "max": "0.6937233209609985",
                    "histogram": [
                      {
                        "bin_start": 0.6011132,
                        "bin_end": 0.6103742120960999,
                        "count": 3
                      },
                      {
                        "bin_start": 0.6103742120960999,
                        "bin_end": 0.6196352241921997,
                        "count": 2
                      },
                      {
                        "bin_start": 0.6196352241921997,
                        "bin_end": 0.6288962362882996,
                        "count": 1
                      },
                      {
                        "bin_start": 0.6288962362882996,
                        "bin_end": 0.6381572483843995,
                        "count": 2
                      },
                      {
                        "bin_start": 0.6381572483843995,
                        "bin_end": 0.6474182604804992,
                        "count": 1
                      },
                      {
                        "bin_start": 0.6474182604804992,
                        "bin_end": 0.6566792725765991,
                        "count": 0
                      },
                      {
                        "bin_start": 0.6566792725765991,
                        "bin_end": 0.665940284672699,
                        "count": 2
                      },
                      {
                        "bin_start": 0.665940284672699,
                        "bin_end": 0.6752012967687988,
                        "count": 0
                      },
                      {
                        "bin_start": 0.6752012967687988,
                        "bin_end": 0.6844623088648987,
                        "count": 0
                      },
                      {
                        "bin_start": 0.6844623088648987,
                        "bin_end": 0.6937233209609985,
                        "count": 1
                      }
                    ]
                  }
                },
                {
                  "name": "_deepnote_index_column",
                  "dtype": "int64"
                }
              ],
              "rows": [
                {
                  "datetime": "2025-03-17 12:45:00+00:00",
                  "Open": 10888.500000000002,
                  "High": 10894.2,
                  "Low": 10888.2,
                  "Close": 10894,
                  "volume": 1320,
                  "minute": 45,
                  "hour": 12,
                  "diff": 5.499999999998181,
                  "diff_lag_1": -3.8000000000010914,
                  "diff_lag_2": -3.500000000001819,
                  "diff_lag_3": -3.600000000000364,
                  "diff_lag_4": 0.7999999999992724,
                  "diff_lag_5": -1.3999999999996362,
                  "diff_lag_6": -3.799999999999272,
                  "diff_lag_7": 1.8000000000010914,
                  "diff_lag_8": 0.499999999998181,
                  "diff_lag_9": -0.7000000000007276,
                  "diff_lag_10": 2.899999999997817,
                  "diff_lag_11": -1.8999999999978168,
                  "diff_lag_12": -2.7999999999992724,
                  "diff_lag_13": -0.2000000000007276,
                  "diff_lag_14": 1.5,
                  "diff_lag_15": -1.5,
                  "diff_lag_16": 0.1000000000003638,
                  "diff_lag_17": -1.6000000000003638,
                  "diff_lag_18": -0.7999999999992724,
                  "diff_lag_19": -2.3000000000010914,
                  "diff_lag_20": -2.400000000001455,
                  "diff_lag_21": 3.200000000000728,
                  "diff_lag_22": 3.200000000000728,
                  "diff_lag_23": -2.2999999999992724,
                  "diff_lag_24": 0.0999999999985448,
                  "diff_lag_25": 1.2999999999992724,
                  "diff_lag_26": -3,
                  "diff_lag_27": 1.4000000000014552,
                  "diff_lag_28": 5.600000000000364,
                  "diff_lag_29": -0.6000000000021828,
                  "diff_lag_30": 1.7999999999992724,
                  "diff_lag_31": 1.9000000000014552,
                  "diff_lag_32": 0.4000000000014552,
                  "diff_lag_33": -2.200000000000728,
                  "diff_lag_34": 6.200000000000728,
                  "diff_lag_35": -2.399999999999636,
                  "diff_lag_36": 2,
                  "diff_lag_37": 1.5,
                  "diff_lag_38": 6.800000000001091,
                  "diff_lag_39": 0.8999999999978172,
                  "diff_lag_40": 1,
                  "diff_lag_41": 2.399999999999636,
                  "diff_lag_42": 3.599999999998545,
                  "diff_lag_43": -6.200000000000728,
                  "diff_lag_44": -1.1000000000003638,
                  "diff_lag_45": 1.1999999999989086,
                  "diff_lag_46": -1,
                  "diff_lag_47": 3.499999999998181,
                  "diff_lag_48": -1.4000000000014552,
                  "diff_lag_49": 3.500000000001819,
                  "diff_lag_50": -1.1999999999989086,
                  "diff_lag_51": -1.000000000001819,
                  "diff_lag_52": -1.1000000000021828,
                  "diff_lag_53": 0.7999999999974534,
                  "diff_lag_54": -1.7999999999992724,
                  "diff_lag_55": 5.19999999999709,
                  "diff_lag_56": 3.600000000000364,
                  "diff_lag_57": -2.100000000000364,
                  "diff_lag_58": -0.2999999999992724,
                  "diff_lag_59": 1.5,
                  "diff_lag_60": 2.600000000002183,
                  "max_high_6": 10905.4,
                  "min_low_6": 10892.8,
                  "max_high_20": 10912,
                  "min_low_20": 10892.8,
                  "upward_move_6": 11.399999999999636,
                  "downward_move_6": 1.2000000000007276,
                  "upward_move_20": 18,
                  "downward_move_20": 1.2000000000007276,
                  "bullish_move_20": 0.0016522856618322,
                  "bearish_move_20": 0.0001101523774555,
                  "bullish_move_flag_20": 1,
                  "bearish_move_flag_20": 0,
                  "volume_std_5": 340.5382993634228,
                  "volume_std_mean": 85.77621363197713,
                  "volume_mean_5": 1738.4,
                  "volume_mean_3": 1677.6666666666667,
                  "move_from_top": 0.2181085043988395,
                  "move_from_bottom": 0.0936278019496694,
                  "EMA_slope": -1.997615081323601,
                  "EMA_slope_15": -1.4246888845245849,
                  "EMA_slope_60": -0.2353170236983714,
                  "deviation_": 1,
                  "bearish_0": 0.3988868,
                  "bearish_1": 1.0166363e-10,
                  "bearish_2": 0.6011132,
                  "bearish_3": 1.0166363e-10,
                  "bullish_0": 0.43260688,
                  "bullish_1": 0.5673931,
                  "bullish_2": 1.2879815e-10,
                  "bullish_3": 1.2886499e-10,
                  "y_true": 1,
                  "bullish_flag": 0,
                  "bearish_flag": 2,
                  "timestamp": "2025-03-18 10:54:52",
                  "bearish_22": 0.6011132,
                  "_deepnote_index_column": 234
                },
                {
                  "datetime": "2025-03-18 15:20:00+00:00",
                  "Open": 10902.9,
                  "High": 10904.8,
                  "Low": 10900,
                  "Close": 10904.4,
                  "volume": 887,
                  "minute": 20,
                  "hour": 15,
                  "diff": 1.500000000001819,
                  "diff_lag_1": -0.499999999998181,
                  "diff_lag_2": -1.7999999999974534,
                  "diff_lag_3": 0,
                  "diff_lag_4": -11.400000000001455,
                  "diff_lag_5": 2.1999999999989086,
                  "diff_lag_6": -2.399999999997817,
                  "diff_lag_7": 0.1999999999989086,
                  "diff_lag_8": -1,
                  "diff_lag_9": 1,
                  "diff_lag_10": -0.8999999999996362,
                  "diff_lag_11": 6.700000000002547,
                  "diff_lag_12": -0.3000000000010914,
                  "diff_lag_13": 1.7999999999974534,
                  "diff_lag_14": -2.6999999999989086,
                  "diff_lag_15": -2.200000000000728,
                  "diff_lag_16": 1.8000000000010914,
                  "diff_lag_17": -0.4000000000014552,
                  "diff_lag_18": -1.1999999999989086,
                  "diff_lag_19": 8.200000000000728,
                  "diff_lag_20": -4.299999999999272,
                  "diff_lag_21": -4,
                  "diff_lag_22": -2.5,
                  "diff_lag_23": -2.100000000000364,
                  "diff_lag_24": 1.2999999999992724,
                  "diff_lag_25": 2,
                  "diff_lag_26": -2,
                  "diff_lag_27": 0.8999999999996362,
                  "diff_lag_28": 5.000000000001819,
                  "diff_lag_29": 3.799999999997453,
                  "diff_lag_30": 3.000000000001819,
                  "diff_lag_31": -1.6999999999989086,
                  "diff_lag_32": 9.799999999999272,
                  "diff_lag_33": -11.799999999999272,
                  "diff_lag_34": -7.000000000001819,
                  "diff_lag_35": -2.399999999999636,
                  "diff_lag_36": -2.1999999999989086,
                  "diff_lag_37": 0.499999999998181,
                  "diff_lag_38": 0,
                  "diff_lag_39": -2.2999999999992724,
                  "diff_lag_40": 4.900000000001455,
                  "diff_lag_41": 0.4000000000014552,
                  "diff_lag_42": -6.899999999999636,
                  "diff_lag_43": -4.000000000001819,
                  "diff_lag_44": -3.499999999998181,
                  "diff_lag_45": -2.600000000000364,
                  "diff_lag_46": -0.1999999999989086,
                  "diff_lag_47": 0.4000000000014552,
                  "diff_lag_48": -0.4000000000014552,
                  "diff_lag_49": -2.599999999998545,
                  "diff_lag_50": 0.999999999998181,
                  "diff_lag_51": -0.6999999999989086,
                  "diff_lag_52": 0.1999999999989086,
                  "diff_lag_53": -0.0999999999985448,
                  "diff_lag_54": -2.7999999999974534,
                  "diff_lag_55": 2.2999999999992724,
                  "diff_lag_56": 0.1999999999989086,
                  "diff_lag_57": 0.2999999999992724,
                  "diff_lag_58": -3.1999999999989086,
                  "diff_lag_59": -3.3000000000010914,
                  "diff_lag_60": -4.000000000001819,
                  "max_high_6": 10934.4,
                  "min_low_6": 10904.7,
                  "max_high_20": 10945.3,
                  "min_low_20": 10904.7,
                  "upward_move_6": 30,
                  "downward_move_6": -0.3000000000010914,
                  "upward_move_20": 40.89999999999964,
                  "downward_move_20": -0.3000000000010914,
                  "bullish_move_20": 0.0037507795018524,
                  "bearish_move_20": -0.000027511830087037472,
                  "bullish_move_flag_20": 1,
                  "bearish_move_flag_20": 0,
                  "volume_std_5": 81.119253776971,
                  "volume_std_mean": 96.73925553548544,
                  "volume_mean_5": 1185.4,
                  "volume_mean_3": 823.3333333333334,
                  "move_from_top": 0.2324857671115121,
                  "move_from_bottom": 0.1118773384197857,
                  "EMA_slope": -1.4491980570146552,
                  "EMA_slope_15": -1.0869121708747116,
                  "EMA_slope_60": -0.5036311144649517,
                  "deviation_": 0,
                  "bearish_0": 0.3651705682277679,
                  "bearish_1": 1.0023095547984083e-10,
                  "bearish_2": 0.6348294019699097,
                  "bearish_3": 1.0023095547984083e-10,
                  "bullish_0": 0.457378625869751,
                  "bullish_1": 0.542621374130249,
                  "bullish_2": 1.293245649458541e-10,
                  "bullish_3": 1.2939167792769268e-10,
                  "y_true": 1,
                  "bullish_flag": 0,
                  "bearish_flag": 2,
                  "timestamp": "2025-03-18 15:27:00",
                  "bearish_22": 0.6348294019699097,
                  "_deepnote_index_column": 553
                },
                {
                  "datetime": "2025-03-19 13:20:00+00:00",
                  "Open": 10897.8,
                  "High": 10898.8,
                  "Low": 10892.8,
                  "Close": 10895.999999999998,
                  "volume": 974,
                  "minute": 20,
                  "hour": 13,
                  "diff": -1.8000000000010914,
                  "diff_lag_1": -1.1999999999989086,
                  "diff_lag_2": 1.2000000000007276,
                  "diff_lag_3": -4.200000000000728,
                  "diff_lag_4": 0.3999999999996362,
                  "diff_lag_5": -8.100000000000364,
                  "diff_lag_6": -1.1999999999989086,
                  "diff_lag_7": -2.999999999998181,
                  "diff_lag_8": 2.899999999999636,
                  "diff_lag_9": 1.2000000000025466,
                  "diff_lag_10": 1.999999999998181,
                  "diff_lag_11": -3.6999999999989086,
                  "diff_lag_12": -3.599999999998545,
                  "diff_lag_13": -0.3000000000010914,
                  "diff_lag_14": 0.5,
                  "diff_lag_15": 0,
                  "diff_lag_16": 5.800000000001091,
                  "diff_lag_17": 0,
                  "diff_lag_18": -0.500000000001819,
                  "diff_lag_19": -0.9000000000014552,
                  "diff_lag_20": 5.299999999999272,
                  "diff_lag_21": 0.5999999999985448,
                  "diff_lag_22": 3.899999999999636,
                  "diff_lag_23": 1.3999999999996362,
                  "diff_lag_24": 2.100000000000364,
                  "diff_lag_25": -1.9000000000014552,
                  "diff_lag_26": 1.899999999999636,
                  "diff_lag_27": -1.6000000000003638,
                  "diff_lag_28": -1.6000000000003638,
                  "diff_lag_29": -0.2000000000007276,
                  "diff_lag_30": -0.5,
                  "diff_lag_31": 7.199999999998909,
                  "diff_lag_32": 0.2000000000007276,
                  "diff_lag_33": -4.900000000001455,
                  "diff_lag_34": -3.100000000000364,
                  "diff_lag_35": -0.7999999999974534,
                  "diff_lag_36": 4.800000000001091,
                  "diff_lag_37": 0,
                  "diff_lag_38": 0.8000000000010914,
                  "diff_lag_39": -3.899999999999636,
                  "diff_lag_40": -2,
                  "diff_lag_41": -1.6999999999989086,
                  "diff_lag_42": 0.1000000000003638,
                  "diff_lag_43": 2.599999999998545,
                  "diff_lag_44": -4.699999999998909,
                  "diff_lag_45": 0.1000000000003638,
                  "diff_lag_46": 5.799999999997453,
                  "diff_lag_47": -0.6000000000021828,
                  "diff_lag_48": 4.600000000002183,
                  "diff_lag_49": -1,
                  "diff_lag_50": -5.499999999998181,
                  "diff_lag_51": 2.600000000002183,
                  "diff_lag_52": -6.600000000000364,
                  "diff_lag_53": 0.3999999999996362,
                  "diff_lag_54": 4.700000000000728,
                  "diff_lag_55": -3.400000000001455,
                  "diff_lag_56": -1,
                  "diff_lag_57": -1.3999999999978172,
                  "diff_lag_58": 2.399999999997817,
                  "diff_lag_59": 0.6000000000021828,
                  "diff_lag_60": 6.200000000000728,
                  "max_high_6": 10903.4,
                  "min_low_6": 10893.1,
                  "max_high_20": 10903.4,
                  "min_low_20": 10881.8,
                  "upward_move_6": 7.400000000001455,
                  "downward_move_6": 2.899999999997817,
                  "upward_move_20": 7.400000000001455,
                  "downward_move_20": 14.199999999998909,
                  "bullish_move_20": 0.000679148311307,
                  "bearish_move_20": 0.0013032305433185,
                  "bullish_move_flag_20": 0,
                  "bearish_move_flag_20": 0,
                  "volume_std_5": 201.7622363079868,
                  "volume_std_mean": 86.6632389495778,
                  "volume_mean_5": 734.6,
                  "volume_mean_3": 748,
                  "move_from_top": 0.2271561515351239,
                  "move_from_bottom": 0.0678973831981455,
                  "EMA_slope": -1.2384775062455446,
                  "EMA_slope_15": -0.9534203560669994,
                  "EMA_slope_60": -0.2890249068404955,
                  "deviation_": 0,
                  "bearish_0": 0.3673448860645294,
                  "bearish_1": 1.0033887609672831e-10,
                  "bearish_2": 0.6326550841331482,
                  "bearish_3": 1.0033887609672831e-10,
                  "bullish_0": 0.5102660655975342,
                  "bullish_1": 0.4897339046001434,
                  "bullish_2": 1.293778556510361e-10,
                  "bullish_3": 1.294449825106625e-10,
                  "y_true": 0,
                  "bullish_flag": 0,
                  "bearish_flag": 2,
                  "timestamp": "2025-03-19 13:27:00",
                  "bearish_22": 0.6326550841331482,
                  "_deepnote_index_column": 828
                },
                {
                  "datetime": "2025-03-19 17:40:00+00:00",
                  "Open": 10865,
                  "High": 10866.2,
                  "Low": 10863,
                  "Close": 10865.3,
                  "volume": 577,
                  "minute": 40,
                  "hour": 17,
                  "diff": 0.2999999999992724,
                  "diff_lag_1": -0.1999999999989086,
                  "diff_lag_2": -0.5999999999985448,
                  "diff_lag_3": -3.200000000000728,
                  "diff_lag_4": -1.7000000000007276,
                  "diff_lag_5": -3.2999999999992724,
                  "diff_lag_6": -3.200000000000728,
                  "diff_lag_7": -4.399999999999636,
                  "diff_lag_8": -3.100000000000364,
                  "diff_lag_9": 2.7999999999974534,
                  "diff_lag_10": -2.399999999999636,
                  "diff_lag_11": 1.1999999999989086,
                  "diff_lag_12": 0.8999999999996362,
                  "diff_lag_13": 2.5,
                  "diff_lag_14": -4.699999999998909,
                  "diff_lag_15": -1,
                  "diff_lag_16": 1.5999999999985448,
                  "diff_lag_17": 1.8000000000010914,
                  "diff_lag_18": 2.100000000000364,
                  "diff_lag_19": 2.3000000000010914,
                  "diff_lag_20": 0.9000000000014552,
                  "diff_lag_21": -2.100000000000364,
                  "diff_lag_22": -4.700000000000728,
                  "diff_lag_23": 2.2999999999992724,
                  "diff_lag_24": -3.100000000000364,
                  "diff_lag_25": 2.100000000000364,
                  "diff_lag_26": -4.599999999998545,
                  "diff_lag_27": 1.1999999999989086,
                  "diff_lag_28": 2.000000000001819,
                  "diff_lag_29": 0,
                  "diff_lag_30": -1.0999999999985448,
                  "diff_lag_31": -0.4000000000014552,
                  "diff_lag_32": 1.8000000000010914,
                  "diff_lag_33": 1.1000000000003638,
                  "diff_lag_34": -9.100000000000364,
                  "diff_lag_35": -4.799999999999272,
                  "diff_lag_36": 1,
                  "diff_lag_37": -1.1999999999989086,
                  "diff_lag_38": -1.1000000000003638,
                  "diff_lag_39": 0.3999999999996362,
                  "diff_lag_40": -1.2999999999992724,
                  "diff_lag_41": 0.7999999999974534,
                  "diff_lag_42": 0.8000000000010914,
                  "diff_lag_43": -2.5,
                  "diff_lag_44": 5.200000000000728,
                  "diff_lag_45": 0.6000000000003638,
                  "diff_lag_46": -3.600000000000364,
                  "diff_lag_47": -1.899999999999636,
                  "diff_lag_48": 2.100000000000364,
                  "diff_lag_49": -3.399999999999636,
                  "diff_lag_50": 4.499999999998181,
                  "diff_lag_51": 0.4000000000014552,
                  "diff_lag_52": -1.8000000000010914,
                  "diff_lag_53": -1.1999999999989086,
                  "diff_lag_54": 1.2000000000007276,
                  "diff_lag_55": -4.200000000000728,
                  "diff_lag_56": 0.3999999999996362,
                  "diff_lag_57": -8.100000000000364,
                  "diff_lag_58": -1.1999999999989086,
                  "diff_lag_59": -2.999999999998181,
                  "diff_lag_60": 2.899999999999636,
                  "max_high_6": 10896.2,
                  "min_low_6": 10862,
                  "max_high_20": 10913.4,
                  "min_low_20": 10862,
                  "upward_move_6": 30.90000000000145,
                  "downward_move_6": 3.2999999999992724,
                  "upward_move_20": 48.10000000000037,
                  "downward_move_20": 3.2999999999992724,
                  "bullish_move_20": 0.0044269371301298,
                  "bearish_move_20": 0.0003037191794059,
                  "bullish_move_flag_20": 1,
                  "bearish_move_flag_20": 0,
                  "volume_std_5": 146.25434466480974,
                  "volume_std_mean": 94.51805669966916,
                  "volume_mean_5": 686.8,
                  "volume_mean_3": 744.6666666666666,
                  "move_from_top": 0.3440209164717211,
                  "move_from_bottom": 0.0515359555318228,
                  "EMA_slope": -1.5497788711054454,
                  "EMA_slope_15": -1.354781091151381,
                  "EMA_slope_60": -0.7237327557086246,
                  "deviation_": 0,
                  "bearish_0": 0.3807591795921325,
                  "bearish_1": 1.00957381343747e-10,
                  "bearish_2": 0.6192408204078674,
                  "bearish_3": 1.00957381343747e-10,
                  "bullish_0": 0.4975560009479522,
                  "bullish_1": 0.5024439096450806,
                  "bullish_2": 1.2949726013733454e-10,
                  "bullish_3": 1.2956445638589995e-10,
                  "y_true": 1,
                  "bullish_flag": 0,
                  "bearish_flag": 2,
                  "timestamp": "2025-03-19 17:47:00",
                  "bearish_22": 0.6192408204078674,
                  "_deepnote_index_column": 880
                },
                {
                  "datetime": "2025-03-19 19:30:00+00:00",
                  "Open": 10888.6,
                  "High": 10896.999999999998,
                  "Low": 10886.8,
                  "Close": 10894.6,
                  "volume": 1242,
                  "minute": 30,
                  "hour": 19,
                  "diff": 6.000000000001819,
                  "diff_lag_1": 1,
                  "diff_lag_2": -2.200000000000728,
                  "diff_lag_3": -10.399999999999636,
                  "diff_lag_4": -9.699999999998909,
                  "diff_lag_5": 3.5,
                  "diff_lag_6": -0.8999999999996362,
                  "diff_lag_7": 3.400000000001455,
                  "diff_lag_8": -2.399999999999636,
                  "diff_lag_9": -6.500000000001819,
                  "diff_lag_10": 17.200000000000728,
                  "diff_lag_11": -0.6000000000003638,
                  "diff_lag_12": 7.900000000001455,
                  "diff_lag_13": -1.8000000000010914,
                  "diff_lag_14": 2.700000000000728,
                  "diff_lag_15": -0.4000000000014552,
                  "diff_lag_16": -3.899999999997817,
                  "diff_lag_17": -0.7000000000007276,
                  "diff_lag_18": 22.30000000000109,
                  "diff_lag_19": 5.100000000000364,
                  "diff_lag_20": 2.100000000000364,
                  "diff_lag_21": -1.7999999999974534,
                  "diff_lag_22": 0.2999999999992724,
                  "diff_lag_23": -0.1999999999989086,
                  "diff_lag_24": -0.5999999999985448,
                  "diff_lag_25": -3.200000000000728,
                  "diff_lag_26": -1.7000000000007276,
                  "diff_lag_27": -3.2999999999992724,
                  "diff_lag_28": -3.200000000000728,
                  "diff_lag_29": -4.399999999999636,
                  "diff_lag_30": -3.100000000000364,
                  "diff_lag_31": 2.7999999999974534,
                  "diff_lag_32": -2.399999999999636,
                  "diff_lag_33": 1.1999999999989086,
                  "diff_lag_34": 0.8999999999996362,
                  "diff_lag_35": 2.5,
                  "diff_lag_36": -4.699999999998909,
                  "diff_lag_37": -1,
                  "diff_lag_38": 1.5999999999985448,
                  "diff_lag_39": 1.8000000000010914,
                  "diff_lag_40": 2.100000000000364,
                  "diff_lag_41": 2.3000000000010914,
                  "diff_lag_42": 0.9000000000014552,
                  "diff_lag_43": -2.100000000000364,
                  "diff_lag_44": -4.700000000000728,
                  "diff_lag_45": 2.2999999999992724,
                  "diff_lag_46": -3.100000000000364,
                  "diff_lag_47": 2.100000000000364,
                  "diff_lag_48": -4.599999999998545,
                  "diff_lag_49": 1.1999999999989086,
                  "diff_lag_50": 2.000000000001819,
                  "diff_lag_51": 0,
                  "diff_lag_52": -1.0999999999985448,
                  "diff_lag_53": -0.4000000000014552,
                  "diff_lag_54": 1.8000000000010914,
                  "diff_lag_55": 1.1000000000003638,
                  "diff_lag_56": -9.100000000000364,
                  "diff_lag_57": -4.799999999999272,
                  "diff_lag_58": 1,
                  "diff_lag_59": -1.1999999999989086,
                  "diff_lag_60": -1.1000000000003638,
                  "max_high_6": 10901.1,
                  "min_low_6": 10892.7,
                  "max_high_20": 10906.1,
                  "min_low_20": 10892.7,
                  "upward_move_6": 6.5,
                  "downward_move_6": 1.899999999999636,
                  "upward_move_20": 11.5,
                  "downward_move_20": 1.899999999999636,
                  "bullish_move_20": 0.0010555688139078,
                  "bearish_move_20": 0.000174398325776,
                  "bullish_move_flag_20": 0,
                  "bearish_move_flag_20": 0,
                  "volume_std_5": 105.7087192871644,
                  "volume_std_mean": 107.2286203001715,
                  "volume_mean_5": 1207.4,
                  "volume_mean_3": 1132.6666666666667,
                  "move_from_top": 0.2437370571957253,
                  "move_from_bottom": 0.3340368908873792,
                  "EMA_slope": -1.782865814275283,
                  "EMA_slope_15": -0.8967949653469987,
                  "EMA_slope_60": -0.0431664721891138,
                  "deviation_": 0,
                  "bearish_0": 0.3062766790390014,
                  "bearish_1": 9.642558279621127e-11,
                  "bearish_2": 0.6937233209609985,
                  "bearish_3": 9.642558279621127e-11,
                  "bullish_0": 0.4404085278511047,
                  "bullish_1": 0.5595914721488953,
                  "bullish_2": 1.2899876999927784e-10,
                  "bullish_3": 1.2906571644766274e-10,
                  "y_true": 0,
                  "bullish_flag": 0,
                  "bearish_flag": 2,
                  "timestamp": "2025-03-19 19:37:00",
                  "bearish_22": 0.6937233209609985,
                  "_deepnote_index_column": 902
                },
                {
                  "datetime": "2025-03-20 08:45:00+00:00",
                  "Open": 10864.7,
                  "High": 10868.6,
                  "Low": 10863.2,
                  "Close": 10867.7,
                  "volume": 1081,
                  "minute": 45,
                  "hour": 8,
                  "diff": 3,
                  "diff_lag_1": -10.50000000000182,
                  "diff_lag_2": 2.399999999999636,
                  "diff_lag_3": 6.300000000001091,
                  "diff_lag_4": -5.199999999998909,
                  "diff_lag_5": -3.600000000000364,
                  "diff_lag_6": -0.499999999998181,
                  "diff_lag_7": -6.600000000002183,
                  "diff_lag_8": -0.6000000000003638,
                  "diff_lag_9": 3.5,
                  "diff_lag_10": 3.600000000002183,
                  "diff_lag_11": 3.8000000000010914,
                  "diff_lag_12": 4.399999999999636,
                  "diff_lag_13": 1,
                  "diff_lag_14": -12.799999999999272,
                  "diff_lag_15": -1.5999999999985448,
                  "diff_lag_16": -6.199999999998909,
                  "diff_lag_17": 0.7999999999992724,
                  "diff_lag_18": -4.600000000000364,
                  "diff_lag_19": -1.1000000000003638,
                  "diff_lag_20": 1.3999999999996362,
                  "diff_lag_21": -2.100000000000364,
                  "diff_lag_22": 3.399999999999636,
                  "diff_lag_23": -3.000000000001819,
                  "diff_lag_24": -4.399999999999636,
                  "diff_lag_25": 6.19999999999709,
                  "diff_lag_26": -3.599999999998545,
                  "diff_lag_27": 0.6000000000003638,
                  "diff_lag_28": -0.2999999999992724,
                  "diff_lag_29": -0.2000000000007276,
                  "diff_lag_30": -4,
                  "diff_lag_31": 0.3000000000010914,
                  "diff_lag_32": 2.399999999999636,
                  "diff_lag_33": -0.2999999999992724,
                  "diff_lag_34": 2.200000000000728,
                  "diff_lag_35": -1.0999999999985448,
                  "diff_lag_36": -0.3999999999996362,
                  "diff_lag_37": 3.499999999998181,
                  "diff_lag_38": -2.2999999999992724,
                  "diff_lag_39": -1.2999999999992724,
                  "diff_lag_40": -0.3999999999996362,
                  "diff_lag_41": -0.6999999999970896,
                  "diff_lag_42": 0,
                  "diff_lag_43": 0.3999999999996362,
                  "diff_lag_44": -1.899999999999636,
                  "diff_lag_45": -5.999999999998181,
                  "diff_lag_46": 1.8000000000010914,
                  "diff_lag_47": -2.899999999997817,
                  "diff_lag_48": -0.3000000000010914,
                  "diff_lag_49": 0.9000000000014552,
                  "diff_lag_50": -3.5,
                  "diff_lag_51": -1.0999999999985448,
                  "diff_lag_52": 1,
                  "diff_lag_53": -0.2999999999992724,
                  "diff_lag_54": -0.3999999999996362,
                  "diff_lag_55": -1.1999999999989086,
                  "diff_lag_56": -0.0999999999985448,
                  "diff_lag_57": 0,
                  "diff_lag_58": 0,
                  "diff_lag_59": 1.7000000000007276,
                  "diff_lag_60": -4,
                  "max_high_6": 10869.8,
                  "min_low_6": 10852.4,
                  "max_high_20": 10869.8,
                  "min_low_20": 10833.4,
                  "upward_move_6": 2.099999999998545,
                  "downward_move_6": 15.300000000001091,
                  "upward_move_20": 2.099999999998545,
                  "downward_move_20": 34.30000000000109,
                  "bullish_move_20": 0.0001932331588099,
                  "bearish_move_20": 0.0031561415938976,
                  "bullish_move_flag_20": 0,
                  "bearish_move_flag_20": 2,
                  "volume_std_5": 93.8314090980877,
                  "volume_std_mean": 100.343182106872,
                  "volume_mean_5": 954.4,
                  "volume_mean_3": 973.3333333333334,
                  "move_from_top": 0.3284705018809175,
                  "move_from_bottom": 0.0496844119757811,
                  "EMA_slope": -2.0003117504493275,
                  "EMA_slope_15": -1.5212688100818923,
                  "EMA_slope_60": -0.8124052877119539,
                  "deviation_": 0,
                  "bearish_0": 0.3967652320861816,
                  "bearish_1": 1.0158845292762564e-10,
                  "bearish_2": 0.6032347679138184,
                  "bearish_3": 1.0158845292762564e-10,
                  "bullish_0": 0.4380383491516113,
                  "bullish_1": 0.5619616508483887,
                  "bullish_2": 1.2894120493545103e-10,
                  "bullish_3": 1.290081097504725e-10,
                  "y_true": 2,
                  "bullish_flag": 0,
                  "bearish_flag": 2,
                  "timestamp": "2025-03-20 08:52:00",
                  "bearish_22": 0.6032347679138184,
                  "_deepnote_index_column": 1061
                },
                {
                  "datetime": "2025-03-20 09:05:00+00:00",
                  "Open": 10863.6,
                  "High": 10868.500000000002,
                  "Low": 10863.6,
                  "Close": 10866.8,
                  "volume": 739,
                  "minute": 5,
                  "hour": 9,
                  "diff": 3.200000000000728,
                  "diff_lag_1": -1.6999999999989086,
                  "diff_lag_2": -3.799999999999272,
                  "diff_lag_3": 1.6000000000003638,
                  "diff_lag_4": 3,
                  "diff_lag_5": -10.50000000000182,
                  "diff_lag_6": 2.399999999999636,
                  "diff_lag_7": 6.300000000001091,
                  "diff_lag_8": -5.199999999998909,
                  "diff_lag_9": -3.600000000000364,
                  "diff_lag_10": -0.499999999998181,
                  "diff_lag_11": -6.600000000002183,
                  "diff_lag_12": -0.6000000000003638,
                  "diff_lag_13": 3.5,
                  "diff_lag_14": 3.600000000002183,
                  "diff_lag_15": 3.8000000000010914,
                  "diff_lag_16": 4.399999999999636,
                  "diff_lag_17": 1,
                  "diff_lag_18": -12.799999999999272,
                  "diff_lag_19": -1.5999999999985448,
                  "diff_lag_20": -6.199999999998909,
                  "diff_lag_21": 0.7999999999992724,
                  "diff_lag_22": -4.600000000000364,
                  "diff_lag_23": -1.1000000000003638,
                  "diff_lag_24": 1.3999999999996362,
                  "diff_lag_25": -2.100000000000364,
                  "diff_lag_26": 3.399999999999636,
                  "diff_lag_27": -3.000000000001819,
                  "diff_lag_28": -4.399999999999636,
                  "diff_lag_29": 6.19999999999709,
                  "diff_lag_30": -3.599999999998545,
                  "diff_lag_31": 0.6000000000003638,
                  "diff_lag_32": -0.2999999999992724,
                  "diff_lag_33": -0.2000000000007276,
                  "diff_lag_34": -4,
                  "diff_lag_35": 0.3000000000010914,
                  "diff_lag_36": 2.399999999999636,
                  "diff_lag_37": -0.2999999999992724,
                  "diff_lag_38": 2.200000000000728,
                  "diff_lag_39": -1.0999999999985448,
                  "diff_lag_40": -0.3999999999996362,
                  "diff_lag_41": 3.499999999998181,
                  "diff_lag_42": -2.2999999999992724,
                  "diff_lag_43": -1.2999999999992724,
                  "diff_lag_44": -0.3999999999996362,
                  "diff_lag_45": -0.6999999999970896,
                  "diff_lag_46": 0,
                  "diff_lag_47": 0.3999999999996362,
                  "diff_lag_48": -1.899999999999636,
                  "diff_lag_49": -5.999999999998181,
                  "diff_lag_50": 1.8000000000010914,
                  "diff_lag_51": -2.899999999997817,
                  "diff_lag_52": -0.3000000000010914,
                  "diff_lag_53": 0.9000000000014552,
                  "diff_lag_54": -3.5,
                  "diff_lag_55": -1.0999999999985448,
                  "diff_lag_56": 1,
                  "diff_lag_57": -0.2999999999992724,
                  "diff_lag_58": -0.3999999999996362,
                  "diff_lag_59": -1.1999999999989086,
                  "diff_lag_60": -0.0999999999985448,
                  "max_high_6": 10867.4,
                  "min_low_6": 10838.4,
                  "max_high_20": 10867.4,
                  "min_low_20": 10833.4,
                  "upward_move_6": 0.6000000000003638,
                  "downward_move_6": 28.39999999999964,
                  "upward_move_20": 0.6000000000003638,
                  "downward_move_20": 33.39999999999964,
                  "bullish_move_20": 0.00005521404645345123,
                  "bearish_move_20": 0.0030735819192402,
                  "bullish_move_flag_20": 0,
                  "bearish_move_flag_20": 2,
                  "volume_std_5": 22.898325994127006,
                  "volume_std_mean": 100.59882329552126,
                  "volume_mean_5": 849.8,
                  "volume_mean_3": 746.3333333333334,
                  "move_from_top": 0.324800440407369,
                  "move_from_bottom": 0.0671665823250955,
                  "EMA_slope": -1.2775676929850306,
                  "EMA_slope_15": -1.1332681672374747,
                  "EMA_slope_60": -0.755184921057662,
                  "deviation_": 0,
                  "bearish_0": 0.3762679696083069,
                  "bearish_1": 1.0075939388398679e-10,
                  "bearish_2": 0.6237320303916931,
                  "bearish_3": 1.0075939388398679e-10,
                  "bullish_0": 0.413460373878479,
                  "bullish_1": 0.586539626121521,
                  "bullish_2": 1.2816711580931894e-10,
                  "bullish_3": 1.28233618168494e-10,
                  "y_true": 2,
                  "bullish_flag": 0,
                  "bearish_flag": 2,
                  "timestamp": "2025-03-20 09:12:01",
                  "bearish_22": 0.6237320303916931,
                  "_deepnote_index_column": 1065
                },
                {
                  "datetime": "2025-03-20 13:00:00+00:00",
                  "Open": 10833.6,
                  "High": 10837.000000000002,
                  "Low": 10832.2,
                  "Close": 10836.4,
                  "volume": 761,
                  "minute": 0,
                  "hour": 13,
                  "diff": 2.7999999999992724,
                  "diff_lag_1": -4,
                  "diff_lag_2": -2.600000000000364,
                  "diff_lag_3": 0.6000000000003638,
                  "diff_lag_4": -0.3000000000010914,
                  "diff_lag_5": 4.100000000000364,
                  "diff_lag_6": -5.800000000001091,
                  "diff_lag_7": -4.800000000001091,
                  "diff_lag_8": -4.699999999998909,
                  "diff_lag_9": 0.8000000000010914,
                  "diff_lag_10": -2.2999999999992724,
                  "diff_lag_11": -0.3999999999996362,
                  "diff_lag_12": 3.600000000002183,
                  "diff_lag_13": 1.6000000000003638,
                  "diff_lag_14": -1,
                  "diff_lag_15": 6.900000000001455,
                  "diff_lag_16": -4.800000000001091,
                  "diff_lag_17": 2.2999999999992724,
                  "diff_lag_18": 2.2000000000025466,
                  "diff_lag_19": -0.7999999999974534,
                  "diff_lag_20": -1.8000000000010914,
                  "diff_lag_21": 4.600000000002183,
                  "diff_lag_22": -1.500000000001819,
                  "diff_lag_23": -3.2000000000025466,
                  "diff_lag_24": -1,
                  "diff_lag_25": -0.8000000000010914,
                  "diff_lag_26": -3.6999999999989086,
                  "diff_lag_27": 1.2999999999992724,
                  "diff_lag_28": 4,
                  "diff_lag_29": 9.5,
                  "diff_lag_30": -7.700000000000728,
                  "diff_lag_31": 4.100000000000364,
                  "diff_lag_32": 4.100000000000364,
                  "diff_lag_33": -6.299999999999272,
                  "diff_lag_34": -6.100000000000364,
                  "diff_lag_35": -2,
                  "diff_lag_36": -2.5,
                  "diff_lag_37": 1.2000000000007276,
                  "diff_lag_38": -0.5999999999985448,
                  "diff_lag_39": 1.5999999999985448,
                  "diff_lag_40": -1.5999999999985448,
                  "diff_lag_41": 8.200000000000728,
                  "diff_lag_42": 2.2000000000025466,
                  "diff_lag_43": -4.900000000001455,
                  "diff_lag_44": -8.399999999999636,
                  "diff_lag_45": -4.900000000001455,
                  "diff_lag_46": -7.5,
                  "diff_lag_47": 3.200000000000728,
                  "diff_lag_48": -1.6999999999989086,
                  "diff_lag_49": -3.799999999999272,
                  "diff_lag_50": 1.6000000000003638,
                  "diff_lag_51": 3,
                  "diff_lag_52": -10.50000000000182,
                  "diff_lag_53": 2.399999999999636,
                  "diff_lag_54": 6.300000000001091,
                  "diff_lag_55": -5.199999999998909,
                  "diff_lag_56": -3.600000000000364,
                  "diff_lag_57": -0.499999999998181,
                  "diff_lag_58": -6.600000000002183,
                  "diff_lag_59": -0.6000000000003638,
                  "diff_lag_60": 3.5,
                  "max_high_6": 10839.2,
                  "min_low_6": 10814.6,
                  "max_high_20": 10839.2,
                  "min_low_20": 10814.6,
                  "upward_move_6": 2.8000000000010914,
                  "downward_move_6": 21.799999999999272,
                  "upward_move_20": 2.8000000000010914,
                  "downward_move_20": 21.799999999999272,
                  "bullish_move_20": 0.0002583883946699,
                  "bearish_move_20": 0.0020117382156435,
                  "bullish_move_flag_20": 0,
                  "bearish_move_flag_20": 2,
                  "volume_std_5": 210.01666600533804,
                  "volume_std_mean": 104.81432845948711,
                  "volume_mean_5": 751.4,
                  "volume_mean_3": 778,
                  "move_from_top": 0.218314464945335,
                  "move_from_bottom": 0.0553658761650033,
                  "EMA_slope": -1.6287898745649727,
                  "EMA_slope_15": -1.2081426748936792,
                  "EMA_slope_60": -0.6708021006361378,
                  "deviation_": 0,
                  "bearish_0": 0.3834556937217712,
                  "bearish_1": 1.0107163023187482e-10,
                  "bearish_2": 0.6165443062782288,
                  "bearish_3": 1.0107163023187482e-10,
                  "bullish_0": 0.4211767017841339,
                  "bullish_1": 0.5788232684135437,
                  "bullish_2": 1.2844507402132166e-10,
                  "bullish_3": 1.2851197883634308e-10,
                  "y_true": 2,
                  "bullish_flag": 0,
                  "bearish_flag": 2,
                  "timestamp": "2025-03-20 13:07:00",
                  "bearish_22": 0.6165443062782288,
                  "_deepnote_index_column": 1112
                },
                {
                  "datetime": "2025-03-26 10:35:00+00:00",
                  "Open": 10789.1,
                  "High": 10793.2,
                  "Low": 10786.8,
                  "Close": 10793,
                  "volume": 507,
                  "minute": 35,
                  "hour": 10,
                  "diff": 3.899999999999636,
                  "diff_lag_1": -6.999999999998181,
                  "diff_lag_2": -3.8000000000010914,
                  "diff_lag_3": -0.5999999999985448,
                  "diff_lag_4": 0.1000000000021827,
                  "diff_lag_5": 3.999999999998181,
                  "diff_lag_6": 1.3999999999978172,
                  "diff_lag_7": -1.1999999999989086,
                  "diff_lag_8": -0.1999999999989086,
                  "diff_lag_9": -2.2999999999992724,
                  "diff_lag_10": -0.3999999999996362,
                  "diff_lag_11": 2.099999999996726,
                  "diff_lag_12": -4.19999999999709,
                  "diff_lag_13": 3.200000000000728,
                  "diff_lag_14": -1.6999999999989086,
                  "diff_lag_15": 2.7999999999974534,
                  "diff_lag_16": -1.6000000000003638,
                  "diff_lag_17": 2.599999999998545,
                  "diff_lag_18": -1.5999999999985448,
                  "diff_lag_19": -1.500000000001819,
                  "diff_lag_20": 3.1999999999989086,
                  "diff_lag_21": 2,
                  "diff_lag_22": 3,
                  "diff_lag_23": 0.3999999999996362,
                  "diff_lag_24": -2.700000000000728,
                  "diff_lag_25": 0.8999999999996362,
                  "diff_lag_26": 2.599999999998545,
                  "diff_lag_27": 3.3000000000010914,
                  "diff_lag_28": -1.7999999999992724,
                  "diff_lag_29": -5.399999999999636,
                  "diff_lag_30": 3.599999999998545,
                  "diff_lag_31": 4.000000000001819,
                  "diff_lag_32": 2.399999999999636,
                  "diff_lag_33": -2.100000000000364,
                  "diff_lag_34": -2,
                  "diff_lag_35": 2.400000000001455,
                  "diff_lag_36": 0,
                  "diff_lag_37": -5,
                  "diff_lag_38": 1.899999999999636,
                  "diff_lag_39": 1.499999999998181,
                  "diff_lag_40": -2,
                  "diff_lag_41": 3,
                  "diff_lag_42": 1,
                  "diff_lag_43": -2.399999999999636,
                  "diff_lag_44": 3.200000000000728,
                  "diff_lag_45": 0.8999999999996362,
                  "diff_lag_46": -3.2999999999992724,
                  "diff_lag_47": 0.9000000000014552,
                  "diff_lag_48": -0.7000000000007276,
                  "diff_lag_49": -1.7999999999974534,
                  "diff_lag_50": 2.3000000000029104,
                  "diff_lag_51": 2.2999999999992724,
                  "diff_lag_52": -3.100000000000364,
                  "diff_lag_53": 0.1999999999989086,
                  "diff_lag_54": -0.2999999999992724,
                  "diff_lag_55": 0.7000000000007276,
                  "diff_lag_56": 1.899999999999636,
                  "diff_lag_57": -1.3999999999996362,
                  "diff_lag_58": 0,
                  "diff_lag_59": -1.1999999999989086,
                  "diff_lag_60": 1.1999999999989086,
                  "max_high_6": 10793.8,
                  "min_low_6": 10788.2,
                  "max_high_20": 10797.9,
                  "min_low_20": 10782.7,
                  "upward_move_6": 0.7999999999992724,
                  "downward_move_6": 4.799999999999272,
                  "upward_move_20": 4.899999999999636,
                  "downward_move_20": 10.299999999999272,
                  "bullish_move_20": 0.0004539979616417,
                  "bearish_move_20": 0.0009543222459,
                  "bullish_move_flag_20": 0,
                  "bearish_move_flag_20": 0,
                  "volume_std_5": 35.92121007613116,
                  "volume_std_mean": 77.7414770509494,
                  "volume_mean_5": 461.2,
                  "volume_mean_3": 483.3333333333333,
                  "move_from_top": 0.1490340556702274,
                  "move_from_bottom": 0.0926509283623144,
                  "EMA_slope": -1.740041903694873,
                  "EMA_slope_15": -1.0278807985614549,
                  "EMA_slope_60": -0.1174873418094648,
                  "deviation_": 0,
                  "bearish_0": 0.337713360786438,
                  "bearish_1": 9.8674089732409e-11,
                  "bearish_2": 0.6622865796089172,
                  "bearish_3": 9.8674089732409e-11,
                  "bullish_0": 0.4289882481098175,
                  "bullish_1": 0.5710117220878601,
                  "bullish_2": 1.2869404153459382e-10,
                  "bullish_3": 1.2876083532731286e-10,
                  "y_true": 0,
                  "bullish_flag": 0,
                  "bearish_flag": 2,
                  "timestamp": "2025-03-26 10:42:01",
                  "bearish_22": 0.6622865796089172,
                  "_deepnote_index_column": 2235
                },
                {
                  "datetime": "2025-03-26 10:45:00+00:00",
                  "Open": 10790.4,
                  "High": 10791.8,
                  "Low": 10788.9,
                  "Close": 10791,
                  "volume": 372,
                  "minute": 45,
                  "hour": 10,
                  "diff": 0.6000000000003638,
                  "diff_lag_1": -2.700000000000728,
                  "diff_lag_2": 3.899999999999636,
                  "diff_lag_3": -6.999999999998181,
                  "diff_lag_4": -3.8000000000010914,
                  "diff_lag_5": -0.5999999999985448,
                  "diff_lag_6": 0.1000000000021827,
                  "diff_lag_7": 3.999999999998181,
                  "diff_lag_8": 1.3999999999978172,
                  "diff_lag_9": -1.1999999999989086,
                  "diff_lag_10": -0.1999999999989086,
                  "diff_lag_11": -2.2999999999992724,
                  "diff_lag_12": -0.3999999999996362,
                  "diff_lag_13": 2.099999999996726,
                  "diff_lag_14": -4.19999999999709,
                  "diff_lag_15": 3.200000000000728,
                  "diff_lag_16": -1.6999999999989086,
                  "diff_lag_17": 2.7999999999974534,
                  "diff_lag_18": -1.6000000000003638,
                  "diff_lag_19": 2.599999999998545,
                  "diff_lag_20": -1.5999999999985448,
                  "diff_lag_21": -1.500000000001819,
                  "diff_lag_22": 3.1999999999989086,
                  "diff_lag_23": 2,
                  "diff_lag_24": 3,
                  "diff_lag_25": 0.3999999999996362,
                  "diff_lag_26": -2.700000000000728,
                  "diff_lag_27": 0.8999999999996362,
                  "diff_lag_28": 2.599999999998545,
                  "diff_lag_29": 3.3000000000010914,
                  "diff_lag_30": -1.7999999999992724,
                  "diff_lag_31": -5.399999999999636,
                  "diff_lag_32": 3.599999999998545,
                  "diff_lag_33": 4.000000000001819,
                  "diff_lag_34": 2.399999999999636,
                  "diff_lag_35": -2.100000000000364,
                  "diff_lag_36": -2,
                  "diff_lag_37": 2.400000000001455,
                  "diff_lag_38": 0,
                  "diff_lag_39": -5,
                  "diff_lag_40": 1.899999999999636,
                  "diff_lag_41": 1.499999999998181,
                  "diff_lag_42": -2,
                  "diff_lag_43": 3,
                  "diff_lag_44": 1,
                  "diff_lag_45": -2.399999999999636,
                  "diff_lag_46": 3.200000000000728,
                  "diff_lag_47": 0.8999999999996362,
                  "diff_lag_48": -3.2999999999992724,
                  "diff_lag_49": 0.9000000000014552,
                  "diff_lag_50": -0.7000000000007276,
                  "diff_lag_51": -1.7999999999974534,
                  "diff_lag_52": 2.3000000000029104,
                  "diff_lag_53": 2.2999999999992724,
                  "diff_lag_54": -3.100000000000364,
                  "diff_lag_55": 0.1999999999989086,
                  "diff_lag_56": -0.2999999999992724,
                  "diff_lag_57": 0.7000000000007276,
                  "diff_lag_58": 1.899999999999636,
                  "diff_lag_59": -1.3999999999996362,
                  "diff_lag_60": 0,
                  "max_high_6": 10794.7,
                  "min_low_6": 10788.2,
                  "max_high_20": 10797.9,
                  "min_low_20": 10782.7,
                  "upward_move_6": 3.700000000000728,
                  "downward_move_6": 2.7999999999992724,
                  "upward_move_20": 6.899999999999636,
                  "downward_move_20": 8.299999999999272,
                  "bullish_move_20": 0.0006394217403391,
                  "bearish_move_20": 0.0007691594847557,
                  "bullish_move_flag_20": 0,
                  "bearish_move_flag_20": 0,
                  "volume_std_5": 70.71303510197819,
                  "volume_std_mean": 77.71221370432033,
                  "volume_mean_5": 445,
                  "volume_mean_3": 427.3333333333333,
                  "move_from_top": 0.1295948310175987,
                  "move_from_bottom": 0.0796901351025947,
                  "EMA_slope": -1.0096268183642678,
                  "EMA_slope_15": -0.6854087363990402,
                  "EMA_slope_60": -0.0714790126658044,
                  "deviation_": 0,
                  "bearish_0": 0.3356522917747497,
                  "bearish_1": 9.854263932629336e-11,
                  "bearish_2": 0.6643477082252502,
                  "bearish_3": 9.854263932629336e-11,
                  "bullish_0": 0.5118529796600342,
                  "bullish_1": 0.4881470501422882,
                  "bullish_2": 1.293568863136585e-10,
                  "bullish_3": 1.294240131732849e-10,
                  "y_true": 0,
                  "bullish_flag": 0,
                  "bearish_flag": 2,
                  "timestamp": "2025-03-26 10:52:00",
                  "bearish_22": 0.6643477082252502,
                  "_deepnote_index_column": 2237
                },
                {
                  "datetime": "2025-03-26 12:10:00+00:00",
                  "Open": 10785.2,
                  "High": 10788.6,
                  "Low": 10782.7,
                  "Close": 10787.2,
                  "volume": 572,
                  "minute": 10,
                  "hour": 12,
                  "diff": 2,
                  "diff_lag_1": -3.200000000000728,
                  "diff_lag_2": -3.2999999999992724,
                  "diff_lag_3": -2.700000000000728,
                  "diff_lag_4": 0.5999999999985448,
                  "diff_lag_5": -0.6000000000003638,
                  "diff_lag_6": -0.8999999999996362,
                  "diff_lag_7": 2.200000000000728,
                  "diff_lag_8": 1.6999999999989086,
                  "diff_lag_9": -1.2000000000007276,
                  "diff_lag_10": 1.5,
                  "diff_lag_11": 0,
                  "diff_lag_12": 2.7999999999992724,
                  "diff_lag_13": -1.1000000000003638,
                  "diff_lag_14": -0.9000000000014552,
                  "diff_lag_15": 3.2000000000025466,
                  "diff_lag_16": -2.400000000001455,
                  "diff_lag_17": 0.6000000000003638,
                  "diff_lag_18": -2.700000000000728,
                  "diff_lag_19": 3.899999999999636,
                  "diff_lag_20": -6.999999999998181,
                  "diff_lag_21": -3.8000000000010914,
                  "diff_lag_22": -0.5999999999985448,
                  "diff_lag_23": 0.1000000000021827,
                  "diff_lag_24": 3.999999999998181,
                  "diff_lag_25": 1.3999999999978172,
                  "diff_lag_26": -1.1999999999989086,
                  "diff_lag_27": -0.1999999999989086,
                  "diff_lag_28": -2.2999999999992724,
                  "diff_lag_29": -0.3999999999996362,
                  "diff_lag_30": 2.099999999996726,
                  "diff_lag_31": -4.19999999999709,
                  "diff_lag_32": 3.200000000000728,
                  "diff_lag_33": -1.6999999999989086,
                  "diff_lag_34": 2.7999999999974534,
                  "diff_lag_35": -1.6000000000003638,
                  "diff_lag_36": 2.599999999998545,
                  "diff_lag_37": -1.5999999999985448,
                  "diff_lag_38": -1.500000000001819,
                  "diff_lag_39": 3.1999999999989086,
                  "diff_lag_40": 2,
                  "diff_lag_41": 3,
                  "diff_lag_42": 0.3999999999996362,
                  "diff_lag_43": -2.700000000000728,
                  "diff_lag_44": 0.8999999999996362,
                  "diff_lag_45": 2.599999999998545,
                  "diff_lag_46": 3.3000000000010914,
                  "diff_lag_47": -1.7999999999992724,
                  "diff_lag_48": -5.399999999999636,
                  "diff_lag_49": 3.599999999998545,
                  "diff_lag_50": 4.000000000001819,
                  "diff_lag_51": 2.399999999999636,
                  "diff_lag_52": -2.100000000000364,
                  "diff_lag_53": -2,
                  "diff_lag_54": 2.400000000001455,
                  "diff_lag_55": 0,
                  "diff_lag_56": -5,
                  "diff_lag_57": 1.899999999999636,
                  "diff_lag_58": 1.499999999998181,
                  "diff_lag_59": -2,
                  "diff_lag_60": 3,
                  "max_high_6": 10792.9,
                  "min_low_6": 10783.7,
                  "max_high_20": 10792.9,
                  "min_low_20": 10767.6,
                  "upward_move_6": 5.699999999998909,
                  "downward_move_6": 3.5,
                  "upward_move_20": 5.699999999998909,
                  "downward_move_20": 19.600000000000364,
                  "bullish_move_20": 0.000528404034411,
                  "bearish_move_20": 0.0018169682586769,
                  "bullish_move_flag_20": 0,
                  "bearish_move_flag_20": 2,
                  "volume_std_5": 34.82814953453044,
                  "volume_std_mean": 74.3338013737364,
                  "volume_mean_5": 491,
                  "volume_mean_3": 544,
                  "move_from_top": 0.1869868276110908,
                  "move_from_bottom": 0.054687355171179,
                  "EMA_slope": -1.5242360566444404,
                  "EMA_slope_15": -0.9925011329160044,
                  "EMA_slope_60": -0.2417880915654677,
                  "deviation_": 0,
                  "bearish_0": 0.3949115574359894,
                  "bearish_1": 1.0152136770136264e-10,
                  "bearish_2": 0.605088472366333,
                  "bearish_3": 1.0152136770136264e-10,
                  "bullish_0": 0.434461385011673,
                  "bullish_1": 0.5655385851860046,
                  "bullish_2": 1.2884890376874123e-10,
                  "bullish_3": 1.2891576695039928e-10,
                  "y_true": 2,
                  "bullish_flag": 0,
                  "bearish_flag": 2,
                  "timestamp": "2025-03-26 12:17:00",
                  "bearish_22": 0.605088472366333,
                  "_deepnote_index_column": 2254
                },
                {
                  "datetime": "2025-03-27 08:30:00+00:00",
                  "Open": 10758.1,
                  "High": 10764.7,
                  "Low": 10757.2,
                  "Close": 10764.6,
                  "volume": 793,
                  "minute": 30,
                  "hour": 8,
                  "diff": 6.500000000001819,
                  "diff_lag_1": -5.100000000000364,
                  "diff_lag_2": -1.5,
                  "diff_lag_3": 1.3999999999996362,
                  "diff_lag_4": 4.399999999999636,
                  "diff_lag_5": -2.000000000001819,
                  "diff_lag_6": -3.8000000000010914,
                  "diff_lag_7": -2.7999999999974534,
                  "diff_lag_8": 2.600000000000364,
                  "diff_lag_9": 1.7999999999974534,
                  "diff_lag_10": -2.399999999999636,
                  "diff_lag_11": 8.900000000001455,
                  "diff_lag_12": -6.999999999998181,
                  "diff_lag_13": -3.399999999999636,
                  "diff_lag_14": -1,
                  "diff_lag_15": -3,
                  "diff_lag_16": 4,
                  "diff_lag_17": 1,
                  "diff_lag_18": -6.499999999998181,
                  "diff_lag_19": -2.599999999998545,
                  "diff_lag_20": -2.200000000000728,
                  "diff_lag_21": -4.299999999999272,
                  "diff_lag_22": 4.200000000000728,
                  "diff_lag_23": 1.3999999999978172,
                  "diff_lag_24": 2.099999999998545,
                  "diff_lag_25": -0.1999999999989086,
                  "diff_lag_26": -0.5999999999985448,
                  "diff_lag_27": 1.7999999999974534,
                  "diff_lag_28": -2.5,
                  "diff_lag_29": 2.600000000000364,
                  "diff_lag_30": 3.6999999999989086,
                  "diff_lag_31": 3.000000000001819,
                  "diff_lag_32": -10.600000000000364,
                  "diff_lag_33": -0.7999999999992724,
                  "diff_lag_34": -0.5999999999985448,
                  "diff_lag_35": -1.1000000000003638,
                  "diff_lag_36": -0.5,
                  "diff_lag_37": -0.7999999999992724,
                  "diff_lag_38": 1.5999999999985448,
                  "diff_lag_39": 0.6999999999989086,
                  "diff_lag_40": -0.9000000000014552,
                  "diff_lag_41": -0.3999999999996362,
                  "diff_lag_42": -1.000000000001819,
                  "diff_lag_43": -0.499999999998181,
                  "diff_lag_44": 0.1999999999989086,
                  "diff_lag_45": -2.099999999998545,
                  "diff_lag_46": 0,
                  "diff_lag_47": -2.999999999998181,
                  "diff_lag_48": -0.3000000000010914,
                  "diff_lag_49": 1.7000000000007276,
                  "diff_lag_50": -0.6000000000021828,
                  "diff_lag_51": 2.7000000000025466,
                  "diff_lag_52": -1.5,
                  "diff_lag_53": 2.700000000000728,
                  "diff_lag_54": 2.499999999998181,
                  "diff_lag_55": -0.7999999999992724,
                  "diff_lag_56": 1.8999999999978168,
                  "diff_lag_57": 2.2000000000025466,
                  "diff_lag_58": -0.499999999998181,
                  "diff_lag_59": 0,
                  "diff_lag_60": 1.1000000000003638,
                  "max_high_6": 10779.2,
                  "min_low_6": 10763,
                  "max_high_20": 10779.2,
                  "min_low_20": 10761.1,
                  "upward_move_6": 14.600000000000364,
                  "downward_move_6": 1.6000000000003638,
                  "upward_move_20": 14.600000000000364,
                  "downward_move_20": 3.5,
                  "bullish_move_20": 0.0013562974936365,
                  "bearish_move_20": 0.0003251398101183,
                  "bullish_move_flag_20": 0,
                  "bearish_move_flag_20": 0,
                  "volume_std_5": 158.03797012110886,
                  "volume_std_mean": 87.65717052732903,
                  "volume_mean_5": 1006.2,
                  "volume_mean_3": 949,
                  "move_from_top": 0.2374151426345561,
                  "move_from_bottom": 0.0975410369076668,
                  "EMA_slope": -1.173386780970759,
                  "EMA_slope_15": -0.8927225875850127,
                  "EMA_slope_60": -0.3856836052073049,
                  "deviation_": 0,
                  "bearish_0": 0.3530094921588897,
                  "bearish_1": 9.958583263580678e-11,
                  "bearish_2": 0.6469905972480774,
                  "bearish_3": 9.958583263580678e-11,
                  "bullish_0": 0.4354900419712066,
                  "bullish_1": 0.5645098686218262,
                  "bullish_2": 1.2887604872169334e-10,
                  "bullish_3": 1.289429257811392e-10,
                  "y_true": 0,
                  "bullish_flag": 0,
                  "bearish_flag": 2,
                  "timestamp": "2025-03-27 08:37:00",
                  "bearish_22": 0.6469905972480774,
                  "_deepnote_index_column": 2498
                }
              ],
              "type": "dataframe"
            },
            "text/plain": "                       datetime     Open     High      Low    Close  volume  \\\n234   2025-03-17 12:45:00+00:00  10888.5  10894.2  10888.2  10894.0    1320   \n553   2025-03-18 15:20:00+00:00  10902.9  10904.8  10900.0  10904.4     887   \n828   2025-03-19 13:20:00+00:00  10897.8  10898.8  10892.8  10896.0     974   \n880   2025-03-19 17:40:00+00:00  10865.0  10866.2  10863.0  10865.3     577   \n902   2025-03-19 19:30:00+00:00  10888.6  10897.0  10886.8  10894.6    1242   \n1061  2025-03-20 08:45:00+00:00  10864.7  10868.6  10863.2  10867.7    1081   \n1065  2025-03-20 09:05:00+00:00  10863.6  10868.5  10863.6  10866.8     739   \n1112  2025-03-20 13:00:00+00:00  10833.6  10837.0  10832.2  10836.4     761   \n2235  2025-03-26 10:35:00+00:00  10789.1  10793.2  10786.8  10793.0     507   \n2237  2025-03-26 10:45:00+00:00  10790.4  10791.8  10788.9  10791.0     372   \n2254  2025-03-26 12:10:00+00:00  10785.2  10788.6  10782.7  10787.2     572   \n2498  2025-03-27 08:30:00+00:00  10758.1  10764.7  10757.2  10764.6     793   \n\n      minute  hour  diff  diff_lag_1  ...     bearish_3  bullish_0  bullish_1  \\\n234       45    12   5.5        -3.8  ...  1.016636e-10   0.432607   0.567393   \n553       20    15   1.5        -0.5  ...  1.002310e-10   0.457379   0.542621   \n828       20    13  -1.8        -1.2  ...  1.003389e-10   0.510266   0.489734   \n880       40    17   0.3        -0.2  ...  1.009574e-10   0.497556   0.502444   \n902       30    19   6.0         1.0  ...  9.642558e-11   0.440409   0.559591   \n1061      45     8   3.0       -10.5  ...  1.015885e-10   0.438038   0.561962   \n1065       5     9   3.2        -1.7  ...  1.007594e-10   0.413460   0.586540   \n1112       0    13   2.8        -4.0  ...  1.010716e-10   0.421177   0.578823   \n2235      35    10   3.9        -7.0  ...  9.867409e-11   0.428988   0.571012   \n2237      45    10   0.6        -2.7  ...  9.854264e-11   0.511853   0.488147   \n2254      10    12   2.0        -3.2  ...  1.015214e-10   0.434461   0.565539   \n2498      30     8   6.5        -5.1  ...  9.958583e-11   0.435490   0.564510   \n\n         bullish_2     bullish_3  y_true  bullish_flag  bearish_flag  \\\n234   1.287981e-10  1.288650e-10       1             0             2   \n553   1.293246e-10  1.293917e-10       1             0             2   \n828   1.293779e-10  1.294450e-10       0             0             2   \n880   1.294973e-10  1.295645e-10       1             0             2   \n902   1.289988e-10  1.290657e-10       0             0             2   \n1061  1.289412e-10  1.290081e-10       2             0             2   \n1065  1.281671e-10  1.282336e-10       2             0             2   \n1112  1.284451e-10  1.285120e-10       2             0             2   \n2235  1.286940e-10  1.287608e-10       0             0             2   \n2237  1.293569e-10  1.294240e-10       0             0             2   \n2254  1.288489e-10  1.289158e-10       2             0             2   \n2498  1.288760e-10  1.289429e-10       0             0             2   \n\n                timestamp  bearish_22  \n234   2025-03-18 10:54:52    0.601113  \n553   2025-03-18 15:27:00    0.634829  \n828   2025-03-19 13:27:00    0.632655  \n880   2025-03-19 17:47:00    0.619241  \n902   2025-03-19 19:37:00    0.693723  \n1061  2025-03-20 08:52:00    0.603235  \n1065  2025-03-20 09:12:01    0.623732  \n1112  2025-03-20 13:07:00    0.616544  \n2235  2025-03-26 10:42:01    0.662287  \n2237  2025-03-26 10:52:00    0.664348  \n2254  2025-03-26 12:17:00    0.605088  \n2498  2025-03-27 08:37:00    0.646991  \n\n[12 rows x 104 columns]",
            "text/html": "<div>\n<style scoped>\n    .dataframe tbody tr th:only-of-type {\n        vertical-align: middle;\n    }\n\n    .dataframe tbody tr th {\n        vertical-align: top;\n    }\n\n    .dataframe thead th {\n        text-align: right;\n    }\n</style>\n<table border=\"1\" class=\"dataframe\">\n  <thead>\n    <tr style=\"text-align: right;\">\n      <th></th>\n      <th>datetime</th>\n      <th>Open</th>\n      <th>High</th>\n      <th>Low</th>\n      <th>Close</th>\n      <th>volume</th>\n      <th>minute</th>\n      <th>hour</th>\n      <th>diff</th>\n      <th>diff_lag_1</th>\n      <th>...</th>\n      <th>bearish_3</th>\n      <th>bullish_0</th>\n      <th>bullish_1</th>\n      <th>bullish_2</th>\n      <th>bullish_3</th>\n      <th>y_true</th>\n      <th>bullish_flag</th>\n      <th>bearish_flag</th>\n      <th>timestamp</th>\n      <th>bearish_22</th>\n    </tr>\n  </thead>\n  <tbody>\n    <tr>\n      <th>234</th>\n      <td>2025-03-17 12:45:00+00:00</td>\n      <td>10888.5</td>\n      <td>10894.2</td>\n      <td>10888.2</td>\n      <td>10894.0</td>\n      <td>1320</td>\n      <td>45</td>\n      <td>12</td>\n      <td>5.5</td>\n      <td>-3.8</td>\n      <td>...</td>\n      <td>1.016636e-10</td>\n      <td>0.432607</td>\n      <td>0.567393</td>\n      <td>1.287981e-10</td>\n      <td>1.288650e-10</td>\n      <td>1</td>\n      <td>0</td>\n      <td>2</td>\n      <td>2025-03-18 10:54:52</td>\n      <td>0.601113</td>\n    </tr>\n    <tr>\n      <th>553</th>\n      <td>2025-03-18 15:20:00+00:00</td>\n      <td>10902.9</td>\n      <td>10904.8</td>\n      <td>10900.0</td>\n      <td>10904.4</td>\n      <td>887</td>\n      <td>20</td>\n      <td>15</td>\n      <td>1.5</td>\n      <td>-0.5</td>\n      <td>...</td>\n      <td>1.002310e-10</td>\n      <td>0.457379</td>\n      <td>0.542621</td>\n      <td>1.293246e-10</td>\n      <td>1.293917e-10</td>\n      <td>1</td>\n      <td>0</td>\n      <td>2</td>\n      <td>2025-03-18 15:27:00</td>\n      <td>0.634829</td>\n    </tr>\n    <tr>\n      <th>828</th>\n      <td>2025-03-19 13:20:00+00:00</td>\n      <td>10897.8</td>\n      <td>10898.8</td>\n      <td>10892.8</td>\n      <td>10896.0</td>\n      <td>974</td>\n      <td>20</td>\n      <td>13</td>\n      <td>-1.8</td>\n      <td>-1.2</td>\n      <td>...</td>\n      <td>1.003389e-10</td>\n      <td>0.510266</td>\n      <td>0.489734</td>\n      <td>1.293779e-10</td>\n      <td>1.294450e-10</td>\n      <td>0</td>\n      <td>0</td>\n      <td>2</td>\n      <td>2025-03-19 13:27:00</td>\n      <td>0.632655</td>\n    </tr>\n    <tr>\n      <th>880</th>\n      <td>2025-03-19 17:40:00+00:00</td>\n      <td>10865.0</td>\n      <td>10866.2</td>\n      <td>10863.0</td>\n      <td>10865.3</td>\n      <td>577</td>\n      <td>40</td>\n      <td>17</td>\n      <td>0.3</td>\n      <td>-0.2</td>\n      <td>...</td>\n      <td>1.009574e-10</td>\n      <td>0.497556</td>\n      <td>0.502444</td>\n      <td>1.294973e-10</td>\n      <td>1.295645e-10</td>\n      <td>1</td>\n      <td>0</td>\n      <td>2</td>\n      <td>2025-03-19 17:47:00</td>\n      <td>0.619241</td>\n    </tr>\n    <tr>\n      <th>902</th>\n      <td>2025-03-19 19:30:00+00:00</td>\n      <td>10888.6</td>\n      <td>10897.0</td>\n      <td>10886.8</td>\n      <td>10894.6</td>\n      <td>1242</td>\n      <td>30</td>\n      <td>19</td>\n      <td>6.0</td>\n      <td>1.0</td>\n      <td>...</td>\n      <td>9.642558e-11</td>\n      <td>0.440409</td>\n      <td>0.559591</td>\n      <td>1.289988e-10</td>\n      <td>1.290657e-10</td>\n      <td>0</td>\n      <td>0</td>\n      <td>2</td>\n      <td>2025-03-19 19:37:00</td>\n      <td>0.693723</td>\n    </tr>\n    <tr>\n      <th>1061</th>\n      <td>2025-03-20 08:45:00+00:00</td>\n      <td>10864.7</td>\n      <td>10868.6</td>\n      <td>10863.2</td>\n      <td>10867.7</td>\n      <td>1081</td>\n      <td>45</td>\n      <td>8</td>\n      <td>3.0</td>\n      <td>-10.5</td>\n      <td>...</td>\n      <td>1.015885e-10</td>\n      <td>0.438038</td>\n      <td>0.561962</td>\n      <td>1.289412e-10</td>\n      <td>1.290081e-10</td>\n      <td>2</td>\n      <td>0</td>\n      <td>2</td>\n      <td>2025-03-20 08:52:00</td>\n      <td>0.603235</td>\n    </tr>\n    <tr>\n      <th>1065</th>\n      <td>2025-03-20 09:05:00+00:00</td>\n      <td>10863.6</td>\n      <td>10868.5</td>\n      <td>10863.6</td>\n      <td>10866.8</td>\n      <td>739</td>\n      <td>5</td>\n      <td>9</td>\n      <td>3.2</td>\n      <td>-1.7</td>\n      <td>...</td>\n      <td>1.007594e-10</td>\n      <td>0.413460</td>\n      <td>0.586540</td>\n      <td>1.281671e-10</td>\n      <td>1.282336e-10</td>\n      <td>2</td>\n      <td>0</td>\n      <td>2</td>\n      <td>2025-03-20 09:12:01</td>\n      <td>0.623732</td>\n    </tr>\n    <tr>\n      <th>1112</th>\n      <td>2025-03-20 13:00:00+00:00</td>\n      <td>10833.6</td>\n      <td>10837.0</td>\n      <td>10832.2</td>\n      <td>10836.4</td>\n      <td>761</td>\n      <td>0</td>\n      <td>13</td>\n      <td>2.8</td>\n      <td>-4.0</td>\n      <td>...</td>\n      <td>1.010716e-10</td>\n      <td>0.421177</td>\n      <td>0.578823</td>\n      <td>1.284451e-10</td>\n      <td>1.285120e-10</td>\n      <td>2</td>\n      <td>0</td>\n      <td>2</td>\n      <td>2025-03-20 13:07:00</td>\n      <td>0.616544</td>\n    </tr>\n    <tr>\n      <th>2235</th>\n      <td>2025-03-26 10:35:00+00:00</td>\n      <td>10789.1</td>\n      <td>10793.2</td>\n      <td>10786.8</td>\n      <td>10793.0</td>\n      <td>507</td>\n      <td>35</td>\n      <td>10</td>\n      <td>3.9</td>\n      <td>-7.0</td>\n      <td>...</td>\n      <td>9.867409e-11</td>\n      <td>0.428988</td>\n      <td>0.571012</td>\n      <td>1.286940e-10</td>\n      <td>1.287608e-10</td>\n      <td>0</td>\n      <td>0</td>\n      <td>2</td>\n      <td>2025-03-26 10:42:01</td>\n      <td>0.662287</td>\n    </tr>\n    <tr>\n      <th>2237</th>\n      <td>2025-03-26 10:45:00+00:00</td>\n      <td>10790.4</td>\n      <td>10791.8</td>\n      <td>10788.9</td>\n      <td>10791.0</td>\n      <td>372</td>\n      <td>45</td>\n      <td>10</td>\n      <td>0.6</td>\n      <td>-2.7</td>\n      <td>...</td>\n      <td>9.854264e-11</td>\n      <td>0.511853</td>\n      <td>0.488147</td>\n      <td>1.293569e-10</td>\n      <td>1.294240e-10</td>\n      <td>0</td>\n      <td>0</td>\n      <td>2</td>\n      <td>2025-03-26 10:52:00</td>\n      <td>0.664348</td>\n    </tr>\n    <tr>\n      <th>2254</th>\n      <td>2025-03-26 12:10:00+00:00</td>\n      <td>10785.2</td>\n      <td>10788.6</td>\n      <td>10782.7</td>\n      <td>10787.2</td>\n      <td>572</td>\n      <td>10</td>\n      <td>12</td>\n      <td>2.0</td>\n      <td>-3.2</td>\n      <td>...</td>\n      <td>1.015214e-10</td>\n      <td>0.434461</td>\n      <td>0.565539</td>\n      <td>1.288489e-10</td>\n      <td>1.289158e-10</td>\n      <td>2</td>\n      <td>0</td>\n      <td>2</td>\n      <td>2025-03-26 12:17:00</td>\n      <td>0.605088</td>\n    </tr>\n    <tr>\n      <th>2498</th>\n      <td>2025-03-27 08:30:00+00:00</td>\n      <td>10758.1</td>\n      <td>10764.7</td>\n      <td>10757.2</td>\n      <td>10764.6</td>\n      <td>793</td>\n      <td>30</td>\n      <td>8</td>\n      <td>6.5</td>\n      <td>-5.1</td>\n      <td>...</td>\n      <td>9.958583e-11</td>\n      <td>0.435490</td>\n      <td>0.564510</td>\n      <td>1.288760e-10</td>\n      <td>1.289429e-10</td>\n      <td>0</td>\n      <td>0</td>\n      <td>2</td>\n      <td>2025-03-27 08:37:00</td>\n      <td>0.646991</td>\n    </tr>\n  </tbody>\n</table>\n<p>12 rows × 104 columns</p>\n</div>"
          },
          "metadata": {}
        }
      ],
      "outputs_reference": null,
      "content_dependencies": null
    },
    {
      "cell_type": "code",
      "metadata": {
        "source_hash": "d9da89e",
        "execution_start": 1743106245318,
        "execution_millis": 1,
        "deepnote_table_state": {
          "sortBy": [],
          "filters": [],
          "pageSize": 50,
          "pageIndex": 0,
          "columnOrder": [
            "datetime",
            "move_from_bottom",
            "EMA_slope",
            "volume",
            "bearish_2",
            "bullish_1",
            "EMA_slope_60",
            "bullish_flag",
            "bearish_flag"
          ],
          "hiddenColumnIds": [],
          "columnDisplayNames": [],
          "conditionalFilters": [],
          "cellFormattingRules": [],
          "wrappedTextColumnIds": []
        },
        "execution_context_id": "ca2f94c1-f5a2-4271-8220-9af59ef21879",
        "deepnote_table_loading": false,
        "cell_id": "33b6692ac8364496854b89a8086f741e",
        "deepnote_cell_type": "code"
      },
      "source": "ss[(ss['bearish_flag'] == 2) | (ss['bullish_flag'] == 1) \n][['datetime',\n  #  'move_from_bottom',\n    'bullish_flag',\n    'bearish_flag','y_true',\n    'bearish_2',\n    'bullish_1',\n    'EMA_slope_60',\n    'volume',\n    'volume_std_5',\n    'volume_std_mean'\n    ]].iloc[-10:]",
      "block_group": "02712fd10adc4847b64a213bbf79631d",
      "execution_count": 127,
      "outputs": [
        {
          "output_type": "execute_result",
          "execution_count": 127,
          "data": {
            "application/vnd.deepnote.dataframe.v3+json": {
              "column_count": 10,
              "row_count": 10,
              "columns": [
                {
                  "name": "datetime",
                  "dtype": "object",
                  "stats": {
                    "unique_count": 10,
                    "nan_count": 0,
                    "categories": [
                      {
                        "name": "2025-03-26 10:35:00+00:00",
                        "count": 1
                      },
                      {
                        "name": "2025-03-26 10:45:00+00:00",
                        "count": 1
                      },
                      {
                        "name": "8 others",
                        "count": 8
                      }
                    ]
                  }
                },
                {
                  "name": "bullish_flag",
                  "dtype": "int64",
                  "stats": {
                    "unique_count": 2,
                    "nan_count": 0,
                    "min": "0",
                    "max": "1",
                    "histogram": [
                      {
                        "bin_start": 0,
                        "bin_end": 0.1,
                        "count": 6
                      },
                      {
                        "bin_start": 0.1,
                        "bin_end": 0.2,
                        "count": 0
                      },
                      {
                        "bin_start": 0.2,
                        "bin_end": 0.30000000000000004,
                        "count": 0
                      },
                      {
                        "bin_start": 0.30000000000000004,
                        "bin_end": 0.4,
                        "count": 0
                      },
                      {
                        "bin_start": 0.4,
                        "bin_end": 0.5,
                        "count": 0
                      },
                      {
                        "bin_start": 0.5,
                        "bin_end": 0.6000000000000001,
                        "count": 0
                      },
                      {
                        "bin_start": 0.6000000000000001,
                        "bin_end": 0.7000000000000001,
                        "count": 0
                      },
                      {
                        "bin_start": 0.7000000000000001,
                        "bin_end": 0.8,
                        "count": 0
                      },
                      {
                        "bin_start": 0.8,
                        "bin_end": 0.9,
                        "count": 0
                      },
                      {
                        "bin_start": 0.9,
                        "bin_end": 1,
                        "count": 4
                      }
                    ]
                  }
                },
                {
                  "name": "bearish_flag",
                  "dtype": "int64",
                  "stats": {
                    "unique_count": 2,
                    "nan_count": 0,
                    "min": "0",
                    "max": "2",
                    "histogram": [
                      {
                        "bin_start": 0,
                        "bin_end": 0.2,
                        "count": 4
                      },
                      {
                        "bin_start": 0.2,
                        "bin_end": 0.4,
                        "count": 0
                      },
                      {
                        "bin_start": 0.4,
                        "bin_end": 0.6000000000000001,
                        "count": 0
                      },
                      {
                        "bin_start": 0.6000000000000001,
                        "bin_end": 0.8,
                        "count": 0
                      },
                      {
                        "bin_start": 0.8,
                        "bin_end": 1,
                        "count": 0
                      },
                      {
                        "bin_start": 1,
                        "bin_end": 1.2000000000000002,
                        "count": 0
                      },
                      {
                        "bin_start": 1.2000000000000002,
                        "bin_end": 1.4000000000000001,
                        "count": 0
                      },
                      {
                        "bin_start": 1.4000000000000001,
                        "bin_end": 1.6,
                        "count": 0
                      },
                      {
                        "bin_start": 1.6,
                        "bin_end": 1.8,
                        "count": 0
                      },
                      {
                        "bin_start": 1.8,
                        "bin_end": 2,
                        "count": 6
                      }
                    ]
                  }
                },
                {
                  "name": "y_true",
                  "dtype": "int64",
                  "stats": {
                    "unique_count": 3,
                    "nan_count": 0,
                    "min": "0",
                    "max": "2",
                    "histogram": [
                      {
                        "bin_start": 0,
                        "bin_end": 0.2,
                        "count": 3
                      },
                      {
                        "bin_start": 0.2,
                        "bin_end": 0.4,
                        "count": 0
                      },
                      {
                        "bin_start": 0.4,
                        "bin_end": 0.6000000000000001,
                        "count": 0
                      },
                      {
                        "bin_start": 0.6000000000000001,
                        "bin_end": 0.8,
                        "count": 0
                      },
                      {
                        "bin_start": 0.8,
                        "bin_end": 1,
                        "count": 0
                      },
                      {
                        "bin_start": 1,
                        "bin_end": 1.2000000000000002,
                        "count": 1
                      },
                      {
                        "bin_start": 1.2000000000000002,
                        "bin_end": 1.4000000000000001,
                        "count": 0
                      },
                      {
                        "bin_start": 1.4000000000000001,
                        "bin_end": 1.6,
                        "count": 0
                      },
                      {
                        "bin_start": 1.6,
                        "bin_end": 1.8,
                        "count": 0
                      },
                      {
                        "bin_start": 1.8,
                        "bin_end": 2,
                        "count": 6
                      }
                    ]
                  }
                },
                {
                  "name": "bearish_2",
                  "dtype": "float64",
                  "stats": {
                    "unique_count": 10,
                    "nan_count": 0,
                    "min": "0.5158700942993164",
                    "max": "0.6643477082252502",
                    "histogram": [
                      {
                        "bin_start": 0.5158700942993164,
                        "bin_end": 0.5307178556919098,
                        "count": 2
                      },
                      {
                        "bin_start": 0.5307178556919098,
                        "bin_end": 0.5455656170845031,
                        "count": 0
                      },
                      {
                        "bin_start": 0.5455656170845031,
                        "bin_end": 0.5604133784770966,
                        "count": 3
                      },
                      {
                        "bin_start": 0.5604133784770966,
                        "bin_end": 0.57526113986969,
                        "count": 0
                      },
                      {
                        "bin_start": 0.57526113986969,
                        "bin_end": 0.5901089012622833,
                        "count": 0
                      },
                      {
                        "bin_start": 0.5901089012622833,
                        "bin_end": 0.6049566626548767,
                        "count": 1
                      },
                      {
                        "bin_start": 0.6049566626548767,
                        "bin_end": 0.61980442404747,
                        "count": 1
                      },
                      {
                        "bin_start": 0.61980442404747,
                        "bin_end": 0.6346521854400635,
                        "count": 0
                      },
                      {
                        "bin_start": 0.6346521854400635,
                        "bin_end": 0.6494999468326569,
                        "count": 1
                      },
                      {
                        "bin_start": 0.6494999468326569,
                        "bin_end": 0.6643477082252502,
                        "count": 2
                      }
                    ]
                  }
                },
                {
                  "name": "bullish_1",
                  "dtype": "float64",
                  "stats": {
                    "unique_count": 10,
                    "nan_count": 0,
                    "min": "0.471800297498703",
                    "max": "0.6997002363204956",
                    "histogram": [
                      {
                        "bin_start": 0.471800297498703,
                        "bin_end": 0.4945902913808823,
                        "count": 2
                      },
                      {
                        "bin_start": 0.4945902913808823,
                        "bin_end": 0.5173802852630616,
                        "count": 0
                      },
                      {
                        "bin_start": 0.5173802852630616,
                        "bin_end": 0.5401702791452407,
                        "count": 0
                      },
                      {
                        "bin_start": 0.5401702791452407,
                        "bin_end": 0.56296027302742,
                        "count": 1
                      },
                      {
                        "bin_start": 0.56296027302742,
                        "bin_end": 0.5857502669095993,
                        "count": 4
                      },
                      {
                        "bin_start": 0.5857502669095993,
                        "bin_end": 0.6085402607917786,
                        "count": 1
                      },
                      {
                        "bin_start": 0.6085402607917786,
                        "bin_end": 0.6313302546739579,
                        "count": 0
                      },
                      {
                        "bin_start": 0.6313302546739579,
                        "bin_end": 0.654120248556137,
                        "count": 0
                      },
                      {
                        "bin_start": 0.654120248556137,
                        "bin_end": 0.6769102424383163,
                        "count": 1
                      },
                      {
                        "bin_start": 0.6769102424383163,
                        "bin_end": 0.6997002363204956,
                        "count": 1
                      }
                    ]
                  }
                },
                {
                  "name": "EMA_slope_60",
                  "dtype": "float64",
                  "stats": {
                    "unique_count": 10,
                    "nan_count": 0,
                    "min": "-0.3856836052073049",
                    "max": "0.2842483308540977",
                    "histogram": [
                      {
                        "bin_start": -0.3856836052073049,
                        "bin_end": -0.3186904116011646,
                        "count": 1
                      },
                      {
                        "bin_start": -0.3186904116011646,
                        "bin_end": -0.25169721799502437,
                        "count": 0
                      },
                      {
                        "bin_start": -0.25169721799502437,
                        "bin_end": -0.1847040243888841,
                        "count": 2
                      },
                      {
                        "bin_start": -0.1847040243888841,
                        "bin_end": -0.11771083078274386,
                        "count": 1
                      },
                      {
                        "bin_start": -0.11771083078274386,
                        "bin_end": -0.0507176371766036,
                        "count": 2
                      },
                      {
                        "bin_start": -0.0507176371766036,
                        "bin_end": 0.016275556429536653,
                        "count": 0
                      },
                      {
                        "bin_start": 0.016275556429536653,
                        "bin_end": 0.08326875003567691,
                        "count": 0
                      },
                      {
                        "bin_start": 0.08326875003567691,
                        "bin_end": 0.15026194364181716,
                        "count": 1
                      },
                      {
                        "bin_start": 0.15026194364181716,
                        "bin_end": 0.21725513724795747,
                        "count": 2
                      },
                      {
                        "bin_start": 0.21725513724795747,
                        "bin_end": 0.2842483308540977,
                        "count": 1
                      }
                    ]
                  }
                },
                {
                  "name": "volume",
                  "dtype": "int64",
                  "stats": {
                    "unique_count": 10,
                    "nan_count": 0,
                    "min": "341",
                    "max": "793",
                    "histogram": [
                      {
                        "bin_start": 341,
                        "bin_end": 386.2,
                        "count": 2
                      },
                      {
                        "bin_start": 386.2,
                        "bin_end": 431.4,
                        "count": 0
                      },
                      {
                        "bin_start": 431.4,
                        "bin_end": 476.6,
                        "count": 1
                      },
                      {
                        "bin_start": 476.6,
                        "bin_end": 521.8,
                        "count": 2
                      },
                      {
                        "bin_start": 521.8,
                        "bin_end": 567,
                        "count": 0
                      },
                      {
                        "bin_start": 567,
                        "bin_end": 612.2,
                        "count": 1
                      },
                      {
                        "bin_start": 612.2,
                        "bin_end": 657.4000000000001,
                        "count": 0
                      },
                      {
                        "bin_start": 657.4000000000001,
                        "bin_end": 702.6,
                        "count": 0
                      },
                      {
                        "bin_start": 702.6,
                        "bin_end": 747.8,
                        "count": 1
                      },
                      {
                        "bin_start": 747.8,
                        "bin_end": 793,
                        "count": 3
                      }
                    ]
                  }
                },
                {
                  "name": "volume_std_5",
                  "dtype": "float64",
                  "stats": {
                    "unique_count": 10,
                    "nan_count": 0,
                    "min": "16.010413278040193",
                    "max": "257.754405070667",
                    "histogram": [
                      {
                        "bin_start": 16.010413278040193,
                        "bin_end": 40.184812457302876,
                        "count": 4
                      },
                      {
                        "bin_start": 40.184812457302876,
                        "bin_end": 64.35921163656556,
                        "count": 1
                      },
                      {
                        "bin_start": 64.35921163656556,
                        "bin_end": 88.53361081582824,
                        "count": 2
                      },
                      {
                        "bin_start": 88.53361081582824,
                        "bin_end": 112.70800999509092,
                        "count": 0
                      },
                      {
                        "bin_start": 112.70800999509092,
                        "bin_end": 136.8824091743536,
                        "count": 1
                      },
                      {
                        "bin_start": 136.8824091743536,
                        "bin_end": 161.0568083536163,
                        "count": 1
                      },
                      {
                        "bin_start": 161.0568083536163,
                        "bin_end": 185.23120753287898,
                        "count": 0
                      },
                      {
                        "bin_start": 185.23120753287898,
                        "bin_end": 209.40560671214166,
                        "count": 0
                      },
                      {
                        "bin_start": 209.40560671214166,
                        "bin_end": 233.58000589140434,
                        "count": 0
                      },
                      {
                        "bin_start": 233.58000589140434,
                        "bin_end": 257.754405070667,
                        "count": 1
                      }
                    ]
                  }
                },
                {
                  "name": "volume_std_mean",
                  "dtype": "float64",
                  "stats": {
                    "unique_count": 10,
                    "nan_count": 0,
                    "min": "74.3338013737364",
                    "max": "90.64950543507256",
                    "histogram": [
                      {
                        "bin_start": 74.3338013737364,
                        "bin_end": 75.96537177987003,
                        "count": 1
                      },
                      {
                        "bin_start": 75.96537177987003,
                        "bin_end": 77.59694218600363,
                        "count": 0
                      },
                      {
                        "bin_start": 77.59694218600363,
                        "bin_end": 79.22851259213725,
                        "count": 2
                      },
                      {
                        "bin_start": 79.22851259213725,
                        "bin_end": 80.86008299827087,
                        "count": 0
                      },
                      {
                        "bin_start": 80.86008299827087,
                        "bin_end": 82.49165340440447,
                        "count": 0
                      },
                      {
                        "bin_start": 82.49165340440447,
                        "bin_end": 84.1232238105381,
                        "count": 0
                      },
                      {
                        "bin_start": 84.1232238105381,
                        "bin_end": 85.75479421667171,
                        "count": 4
                      },
                      {
                        "bin_start": 85.75479421667171,
                        "bin_end": 87.38636462280533,
                        "count": 1
                      },
                      {
                        "bin_start": 87.38636462280533,
                        "bin_end": 89.01793502893894,
                        "count": 1
                      },
                      {
                        "bin_start": 89.01793502893894,
                        "bin_end": 90.64950543507256,
                        "count": 1
                      }
                    ]
                  }
                },
                {
                  "name": "_deepnote_index_column",
                  "dtype": "int64"
                }
              ],
              "rows": [
                {
                  "datetime": "2025-03-26 10:35:00+00:00",
                  "bullish_flag": 0,
                  "bearish_flag": 2,
                  "y_true": 0,
                  "bearish_2": 0.6622865796089172,
                  "bullish_1": 0.5710117220878601,
                  "EMA_slope_60": -0.1174873418094648,
                  "volume": 507,
                  "volume_std_5": 35.92121007613116,
                  "volume_std_mean": 77.7414770509494,
                  "_deepnote_index_column": 2235
                },
                {
                  "datetime": "2025-03-26 10:45:00+00:00",
                  "bullish_flag": 0,
                  "bearish_flag": 2,
                  "y_true": 0,
                  "bearish_2": 0.6643477082252502,
                  "bullish_1": 0.4881470501422882,
                  "EMA_slope_60": -0.0714790126658044,
                  "volume": 372,
                  "volume_std_5": 70.71303510197819,
                  "volume_std_mean": 77.71221370432033,
                  "_deepnote_index_column": 2237
                },
                {
                  "datetime": "2025-03-26 12:10:00+00:00",
                  "bullish_flag": 0,
                  "bearish_flag": 2,
                  "y_true": 2,
                  "bearish_2": 0.605088472366333,
                  "bullish_1": 0.5655385851860046,
                  "EMA_slope_60": -0.2417880915654677,
                  "volume": 572,
                  "volume_std_5": 34.82814953453044,
                  "volume_std_mean": 74.3338013737364,
                  "_deepnote_index_column": 2254
                },
                {
                  "datetime": "2025-03-26 16:35:00+00:00",
                  "bullish_flag": 1,
                  "bearish_flag": 0,
                  "y_true": 2,
                  "bearish_2": 0.5571182370185852,
                  "bullish_1": 0.6997002363204956,
                  "EMA_slope_60": 0.1500250882672844,
                  "volume": 500,
                  "volume_std_5": 120.5998894416268,
                  "volume_std_mean": 84.41224171467614,
                  "_deepnote_index_column": 2307
                },
                {
                  "datetime": "2025-03-27 06:00:00+00:00",
                  "bullish_flag": 0,
                  "bearish_flag": 2,
                  "y_true": 2,
                  "bearish_2": 0.5534942150115967,
                  "bullish_1": 0.5415135622024536,
                  "EMA_slope_60": -0.1304088948018034,
                  "volume": 440,
                  "volume_std_5": 257.754405070667,
                  "volume_std_mean": 84.1341893126813,
                  "_deepnote_index_column": 2468
                },
                {
                  "datetime": "2025-03-27 06:45:00+00:00",
                  "bullish_flag": 1,
                  "bearish_flag": 0,
                  "y_true": 2,
                  "bearish_2": 0.5158700942993164,
                  "bullish_1": 0.5733286738395691,
                  "EMA_slope_60": 0.2842483308540977,
                  "volume": 341,
                  "volume_std_5": 85.36002186816195,
                  "volume_std_mean": 85.22101118013663,
                  "_deepnote_index_column": 2477
                },
                {
                  "datetime": "2025-03-27 07:10:00+00:00",
                  "bullish_flag": 0,
                  "bearish_flag": 2,
                  "y_true": 2,
                  "bearish_2": 0.5544620156288147,
                  "bullish_1": 0.471800297498703,
                  "EMA_slope_60": -0.2047078458344913,
                  "volume": 786,
                  "volume_std_5": 16.010413278040193,
                  "volume_std_mean": 85.16864746309456,
                  "_deepnote_index_column": 2482
                },
                {
                  "datetime": "2025-03-27 08:30:00+00:00",
                  "bullish_flag": 0,
                  "bearish_flag": 2,
                  "y_true": 0,
                  "bearish_2": 0.6469905972480774,
                  "bullish_1": 0.5645098686218262,
                  "EMA_slope_60": -0.3856836052073049,
                  "volume": 793,
                  "volume_std_5": 158.03797012110886,
                  "volume_std_mean": 87.65717052732903,
                  "_deepnote_index_column": 2498
                },
                {
                  "datetime": "2025-03-27 09:00:00+00:00",
                  "bullish_flag": 1,
                  "bearish_flag": 0,
                  "y_true": 2,
                  "bearish_2": 0.5227660536766052,
                  "bullish_1": 0.6067735552787781,
                  "EMA_slope_60": 0.1956353974255762,
                  "volume": 772,
                  "volume_std_5": 21.962088546710703,
                  "volume_std_mean": 86.98156459008257,
                  "_deepnote_index_column": 2504
                },
                {
                  "datetime": "2025-03-27 14:50:00+00:00",
                  "bullish_flag": 1,
                  "bearish_flag": 0,
                  "y_true": 1,
                  "bearish_2": 0.5937595963478088,
                  "bullish_1": 0.6604697704315186,
                  "EMA_slope_60": 0.1928030629769637,
                  "volume": 714,
                  "volume_std_5": 51.85878260558168,
                  "volume_std_mean": 90.64950543507256,
                  "_deepnote_index_column": 2574
                }
              ],
              "type": "dataframe"
            },
            "text/plain": "                       datetime  bullish_flag  bearish_flag  y_true  \\\n2235  2025-03-26 10:35:00+00:00             0             2       0   \n2237  2025-03-26 10:45:00+00:00             0             2       0   \n2254  2025-03-26 12:10:00+00:00             0             2       2   \n2307  2025-03-26 16:35:00+00:00             1             0       2   \n2468  2025-03-27 06:00:00+00:00             0             2       2   \n2477  2025-03-27 06:45:00+00:00             1             0       2   \n2482  2025-03-27 07:10:00+00:00             0             2       2   \n2498  2025-03-27 08:30:00+00:00             0             2       0   \n2504  2025-03-27 09:00:00+00:00             1             0       2   \n2574  2025-03-27 14:50:00+00:00             1             0       1   \n\n      bearish_2  bullish_1  EMA_slope_60  volume  volume_std_5  \\\n2235   0.662287   0.571012     -0.117487     507     35.921210   \n2237   0.664348   0.488147     -0.071479     372     70.713035   \n2254   0.605088   0.565539     -0.241788     572     34.828150   \n2307   0.557118   0.699700      0.150025     500    120.599889   \n2468   0.553494   0.541514     -0.130409     440    257.754405   \n2477   0.515870   0.573329      0.284248     341     85.360022   \n2482   0.554462   0.471800     -0.204708     786     16.010413   \n2498   0.646991   0.564510     -0.385684     793    158.037970   \n2504   0.522766   0.606774      0.195635     772     21.962089   \n2574   0.593760   0.660470      0.192803     714     51.858783   \n\n      volume_std_mean  \n2235        77.741477  \n2237        77.712214  \n2254        74.333801  \n2307        84.412242  \n2468        84.134189  \n2477        85.221011  \n2482        85.168647  \n2498        87.657171  \n2504        86.981565  \n2574        90.649505  ",
            "text/html": "<div>\n<style scoped>\n    .dataframe tbody tr th:only-of-type {\n        vertical-align: middle;\n    }\n\n    .dataframe tbody tr th {\n        vertical-align: top;\n    }\n\n    .dataframe thead th {\n        text-align: right;\n    }\n</style>\n<table border=\"1\" class=\"dataframe\">\n  <thead>\n    <tr style=\"text-align: right;\">\n      <th></th>\n      <th>datetime</th>\n      <th>bullish_flag</th>\n      <th>bearish_flag</th>\n      <th>y_true</th>\n      <th>bearish_2</th>\n      <th>bullish_1</th>\n      <th>EMA_slope_60</th>\n      <th>volume</th>\n      <th>volume_std_5</th>\n      <th>volume_std_mean</th>\n    </tr>\n  </thead>\n  <tbody>\n    <tr>\n      <th>2235</th>\n      <td>2025-03-26 10:35:00+00:00</td>\n      <td>0</td>\n      <td>2</td>\n      <td>0</td>\n      <td>0.662287</td>\n      <td>0.571012</td>\n      <td>-0.117487</td>\n      <td>507</td>\n      <td>35.921210</td>\n      <td>77.741477</td>\n    </tr>\n    <tr>\n      <th>2237</th>\n      <td>2025-03-26 10:45:00+00:00</td>\n      <td>0</td>\n      <td>2</td>\n      <td>0</td>\n      <td>0.664348</td>\n      <td>0.488147</td>\n      <td>-0.071479</td>\n      <td>372</td>\n      <td>70.713035</td>\n      <td>77.712214</td>\n    </tr>\n    <tr>\n      <th>2254</th>\n      <td>2025-03-26 12:10:00+00:00</td>\n      <td>0</td>\n      <td>2</td>\n      <td>2</td>\n      <td>0.605088</td>\n      <td>0.565539</td>\n      <td>-0.241788</td>\n      <td>572</td>\n      <td>34.828150</td>\n      <td>74.333801</td>\n    </tr>\n    <tr>\n      <th>2307</th>\n      <td>2025-03-26 16:35:00+00:00</td>\n      <td>1</td>\n      <td>0</td>\n      <td>2</td>\n      <td>0.557118</td>\n      <td>0.699700</td>\n      <td>0.150025</td>\n      <td>500</td>\n      <td>120.599889</td>\n      <td>84.412242</td>\n    </tr>\n    <tr>\n      <th>2468</th>\n      <td>2025-03-27 06:00:00+00:00</td>\n      <td>0</td>\n      <td>2</td>\n      <td>2</td>\n      <td>0.553494</td>\n      <td>0.541514</td>\n      <td>-0.130409</td>\n      <td>440</td>\n      <td>257.754405</td>\n      <td>84.134189</td>\n    </tr>\n    <tr>\n      <th>2477</th>\n      <td>2025-03-27 06:45:00+00:00</td>\n      <td>1</td>\n      <td>0</td>\n      <td>2</td>\n      <td>0.515870</td>\n      <td>0.573329</td>\n      <td>0.284248</td>\n      <td>341</td>\n      <td>85.360022</td>\n      <td>85.221011</td>\n    </tr>\n    <tr>\n      <th>2482</th>\n      <td>2025-03-27 07:10:00+00:00</td>\n      <td>0</td>\n      <td>2</td>\n      <td>2</td>\n      <td>0.554462</td>\n      <td>0.471800</td>\n      <td>-0.204708</td>\n      <td>786</td>\n      <td>16.010413</td>\n      <td>85.168647</td>\n    </tr>\n    <tr>\n      <th>2498</th>\n      <td>2025-03-27 08:30:00+00:00</td>\n      <td>0</td>\n      <td>2</td>\n      <td>0</td>\n      <td>0.646991</td>\n      <td>0.564510</td>\n      <td>-0.385684</td>\n      <td>793</td>\n      <td>158.037970</td>\n      <td>87.657171</td>\n    </tr>\n    <tr>\n      <th>2504</th>\n      <td>2025-03-27 09:00:00+00:00</td>\n      <td>1</td>\n      <td>0</td>\n      <td>2</td>\n      <td>0.522766</td>\n      <td>0.606774</td>\n      <td>0.195635</td>\n      <td>772</td>\n      <td>21.962089</td>\n      <td>86.981565</td>\n    </tr>\n    <tr>\n      <th>2574</th>\n      <td>2025-03-27 14:50:00+00:00</td>\n      <td>1</td>\n      <td>0</td>\n      <td>1</td>\n      <td>0.593760</td>\n      <td>0.660470</td>\n      <td>0.192803</td>\n      <td>714</td>\n      <td>51.858783</td>\n      <td>90.649505</td>\n    </tr>\n  </tbody>\n</table>\n</div>"
          },
          "metadata": {}
        }
      ],
      "outputs_reference": null,
      "content_dependencies": null
    },
    {
      "cell_type": "code",
      "metadata": {
        "source_hash": "8850d463",
        "execution_start": 1743011230821,
        "execution_millis": 1,
        "execution_context_id": "79ec32d1-97f9-4eb7-bf4a-278321ad9d97",
        "cell_id": "78b775607ece419a8eb2561f45ff2f65",
        "deepnote_cell_type": "code"
      },
      "source": "ss[\n    (ss['bullish_flag'] == 1) #& (ss['bullish_1'] > 0.55) & (ss['bearish_2'] > 0.55)\n][['datetime',\n    'move_from_bottom',\n    'EMA_slope',\n    'volume',\n    'volume_std_5',\n    'bearish_2',\n    'bullish_1',\n    'EMA_slope_60',\n    'bullish_flag',\n    'bearish_flag']].iloc[-10:]",
      "block_group": "5b6182fc77fe40f3b3f7a3fc2dc9cfd4",
      "execution_count": 53,
      "outputs": [
        {
          "output_type": "execute_result",
          "execution_count": 53,
          "data": {
            "application/vnd.deepnote.dataframe.v3+json": {
              "column_count": 10,
              "row_count": 10,
              "columns": [
                {
                  "name": "datetime",
                  "dtype": "object",
                  "stats": {
                    "unique_count": 10,
                    "nan_count": 0,
                    "categories": [
                      {
                        "name": "2025-03-20 15:30:00+00:00",
                        "count": 1
                      },
                      {
                        "name": "2025-03-20 16:20:00+00:00",
                        "count": 1
                      },
                      {
                        "name": "8 others",
                        "count": 8
                      }
                    ]
                  }
                },
                {
                  "name": "move_from_bottom",
                  "dtype": "float64",
                  "stats": {
                    "unique_count": 8,
                    "nan_count": 0,
                    "min": "0.1571309732877335",
                    "max": "0.3409635445464132",
                    "histogram": [
                      {
                        "bin_start": 0.1571309732877335,
                        "bin_end": 0.17551423041360148,
                        "count": 1
                      },
                      {
                        "bin_start": 0.17551423041360148,
                        "bin_end": 0.19389748753946945,
                        "count": 0
                      },
                      {
                        "bin_start": 0.19389748753946945,
                        "bin_end": 0.21228074466533742,
                        "count": 2
                      },
                      {
                        "bin_start": 0.21228074466533742,
                        "bin_end": 0.2306640017912054,
                        "count": 1
                      },
                      {
                        "bin_start": 0.2306640017912054,
                        "bin_end": 0.24904725891707336,
                        "count": 0
                      },
                      {
                        "bin_start": 0.24904725891707336,
                        "bin_end": 0.2674305160429413,
                        "count": 0
                      },
                      {
                        "bin_start": 0.2674305160429413,
                        "bin_end": 0.2858137731688093,
                        "count": 2
                      },
                      {
                        "bin_start": 0.2858137731688093,
                        "bin_end": 0.30419703029467726,
                        "count": 0
                      },
                      {
                        "bin_start": 0.30419703029467726,
                        "bin_end": 0.32258028742054523,
                        "count": 1
                      },
                      {
                        "bin_start": 0.32258028742054523,
                        "bin_end": 0.3409635445464132,
                        "count": 3
                      }
                    ]
                  }
                },
                {
                  "name": "EMA_slope",
                  "dtype": "float64",
                  "stats": {
                    "unique_count": 10,
                    "nan_count": 0,
                    "min": "1.0115279369565542",
                    "max": "2.391042909002863",
                    "histogram": [
                      {
                        "bin_start": 1.0115279369565542,
                        "bin_end": 1.1494794341611851,
                        "count": 1
                      },
                      {
                        "bin_start": 1.1494794341611851,
                        "bin_end": 1.2874309313658159,
                        "count": 1
                      },
                      {
                        "bin_start": 1.2874309313658159,
                        "bin_end": 1.4253824285704468,
                        "count": 4
                      },
                      {
                        "bin_start": 1.4253824285704468,
                        "bin_end": 1.5633339257750776,
                        "count": 1
                      },
                      {
                        "bin_start": 1.5633339257750776,
                        "bin_end": 1.7012854229797085,
                        "count": 0
                      },
                      {
                        "bin_start": 1.7012854229797085,
                        "bin_end": 1.8392369201843395,
                        "count": 1
                      },
                      {
                        "bin_start": 1.8392369201843395,
                        "bin_end": 1.9771884173889704,
                        "count": 0
                      },
                      {
                        "bin_start": 1.9771884173889704,
                        "bin_end": 2.115139914593601,
                        "count": 0
                      },
                      {
                        "bin_start": 2.115139914593601,
                        "bin_end": 2.2530914117982324,
                        "count": 0
                      },
                      {
                        "bin_start": 2.2530914117982324,
                        "bin_end": 2.391042909002863,
                        "count": 2
                      }
                    ]
                  }
                },
                {
                  "name": "volume",
                  "dtype": "int64",
                  "stats": {
                    "unique_count": 10,
                    "nan_count": 0,
                    "min": "447",
                    "max": "1018",
                    "histogram": [
                      {
                        "bin_start": 447,
                        "bin_end": 504.1,
                        "count": 2
                      },
                      {
                        "bin_start": 504.1,
                        "bin_end": 561.2,
                        "count": 2
                      },
                      {
                        "bin_start": 561.2,
                        "bin_end": 618.3,
                        "count": 3
                      },
                      {
                        "bin_start": 618.3,
                        "bin_end": 675.4,
                        "count": 0
                      },
                      {
                        "bin_start": 675.4,
                        "bin_end": 732.5,
                        "count": 1
                      },
                      {
                        "bin_start": 732.5,
                        "bin_end": 789.6,
                        "count": 0
                      },
                      {
                        "bin_start": 789.6,
                        "bin_end": 846.7,
                        "count": 0
                      },
                      {
                        "bin_start": 846.7,
                        "bin_end": 903.8,
                        "count": 1
                      },
                      {
                        "bin_start": 903.8,
                        "bin_end": 960.9,
                        "count": 0
                      },
                      {
                        "bin_start": 960.9,
                        "bin_end": 1018,
                        "count": 1
                      }
                    ]
                  }
                },
                {
                  "name": "volume_std_5",
                  "dtype": "float64",
                  "stats": {
                    "unique_count": 10,
                    "nan_count": 0,
                    "min": "20.42873792800264",
                    "max": "273.35142216567937",
                    "histogram": [
                      {
                        "bin_start": 20.42873792800264,
                        "bin_end": 45.72100635177031,
                        "count": 2
                      },
                      {
                        "bin_start": 45.72100635177031,
                        "bin_end": 71.01327477553798,
                        "count": 3
                      },
                      {
                        "bin_start": 71.01327477553798,
                        "bin_end": 96.30554319930567,
                        "count": 1
                      },
                      {
                        "bin_start": 96.30554319930567,
                        "bin_end": 121.59781162307334,
                        "count": 1
                      },
                      {
                        "bin_start": 121.59781162307334,
                        "bin_end": 146.890080046841,
                        "count": 0
                      },
                      {
                        "bin_start": 146.890080046841,
                        "bin_end": 172.1823484706087,
                        "count": 0
                      },
                      {
                        "bin_start": 172.1823484706087,
                        "bin_end": 197.47461689437637,
                        "count": 2
                      },
                      {
                        "bin_start": 197.47461689437637,
                        "bin_end": 222.76688531814403,
                        "count": 0
                      },
                      {
                        "bin_start": 222.76688531814403,
                        "bin_end": 248.0591537419117,
                        "count": 0
                      },
                      {
                        "bin_start": 248.0591537419117,
                        "bin_end": 273.35142216567937,
                        "count": 1
                      }
                    ]
                  }
                },
                {
                  "name": "bearish_2",
                  "dtype": "float64",
                  "stats": {
                    "unique_count": 10,
                    "nan_count": 0,
                    "min": "0.5160133838653564",
                    "max": "0.5773327350616455",
                    "histogram": [
                      {
                        "bin_start": 0.5160133838653564,
                        "bin_end": 0.5221453189849854,
                        "count": 1
                      },
                      {
                        "bin_start": 0.5221453189849854,
                        "bin_end": 0.5282772541046142,
                        "count": 1
                      },
                      {
                        "bin_start": 0.5282772541046142,
                        "bin_end": 0.5344091892242432,
                        "count": 2
                      },
                      {
                        "bin_start": 0.5344091892242432,
                        "bin_end": 0.540541124343872,
                        "count": 0
                      },
                      {
                        "bin_start": 0.540541124343872,
                        "bin_end": 0.546673059463501,
                        "count": 1
                      },
                      {
                        "bin_start": 0.546673059463501,
                        "bin_end": 0.5528049945831299,
                        "count": 0
                      },
                      {
                        "bin_start": 0.5528049945831299,
                        "bin_end": 0.5589369297027588,
                        "count": 2
                      },
                      {
                        "bin_start": 0.5589369297027588,
                        "bin_end": 0.5650688648223877,
                        "count": 2
                      },
                      {
                        "bin_start": 0.5650688648223877,
                        "bin_end": 0.5712007999420166,
                        "count": 0
                      },
                      {
                        "bin_start": 0.5712007999420166,
                        "bin_end": 0.5773327350616455,
                        "count": 1
                      }
                    ]
                  }
                },
                {
                  "name": "bullish_1",
                  "dtype": "float64",
                  "stats": {
                    "unique_count": 10,
                    "nan_count": 0,
                    "min": "0.5574405193328857",
                    "max": "0.6997002363204956",
                    "histogram": [
                      {
                        "bin_start": 0.5574405193328857,
                        "bin_end": 0.5716664910316467,
                        "count": 7
                      },
                      {
                        "bin_start": 0.5716664910316467,
                        "bin_end": 0.5858924627304077,
                        "count": 1
                      },
                      {
                        "bin_start": 0.5858924627304077,
                        "bin_end": 0.6001184344291687,
                        "count": 0
                      },
                      {
                        "bin_start": 0.6001184344291687,
                        "bin_end": 0.6143444061279297,
                        "count": 0
                      },
                      {
                        "bin_start": 0.6143444061279297,
                        "bin_end": 0.6285703778266907,
                        "count": 0
                      },
                      {
                        "bin_start": 0.6285703778266907,
                        "bin_end": 0.6427963495254516,
                        "count": 0
                      },
                      {
                        "bin_start": 0.6427963495254516,
                        "bin_end": 0.6570223212242127,
                        "count": 1
                      },
                      {
                        "bin_start": 0.6570223212242127,
                        "bin_end": 0.6712482929229736,
                        "count": 0
                      },
                      {
                        "bin_start": 0.6712482929229736,
                        "bin_end": 0.6854742646217347,
                        "count": 0
                      },
                      {
                        "bin_start": 0.6854742646217347,
                        "bin_end": 0.6997002363204956,
                        "count": 1
                      }
                    ]
                  }
                },
                {
                  "name": "EMA_slope_60",
                  "dtype": "float64",
                  "stats": {
                    "unique_count": 10,
                    "nan_count": 0,
                    "min": "0.1098572148457606",
                    "max": "0.6488961648647091",
                    "histogram": [
                      {
                        "bin_start": 0.1098572148457606,
                        "bin_end": 0.16376110984765546,
                        "count": 3
                      },
                      {
                        "bin_start": 0.16376110984765546,
                        "bin_end": 0.21766500484955031,
                        "count": 2
                      },
                      {
                        "bin_start": 0.21766500484955031,
                        "bin_end": 0.27156889985144517,
                        "count": 0
                      },
                      {
                        "bin_start": 0.27156889985144517,
                        "bin_end": 0.32547279485334,
                        "count": 1
                      },
                      {
                        "bin_start": 0.32547279485334,
                        "bin_end": 0.37937668985523487,
                        "count": 1
                      },
                      {
                        "bin_start": 0.37937668985523487,
                        "bin_end": 0.4332805848571297,
                        "count": 0
                      },
                      {
                        "bin_start": 0.4332805848571297,
                        "bin_end": 0.4871844798590246,
                        "count": 0
                      },
                      {
                        "bin_start": 0.4871844798590246,
                        "bin_end": 0.5410883748609194,
                        "count": 1
                      },
                      {
                        "bin_start": 0.5410883748609194,
                        "bin_end": 0.5949922698628143,
                        "count": 1
                      },
                      {
                        "bin_start": 0.5949922698628143,
                        "bin_end": 0.6488961648647091,
                        "count": 1
                      }
                    ]
                  }
                },
                {
                  "name": "bullish_flag",
                  "dtype": "int64",
                  "stats": {
                    "unique_count": 1,
                    "nan_count": 0,
                    "min": "1",
                    "max": "1",
                    "histogram": [
                      {
                        "bin_start": 0.5,
                        "bin_end": 0.6,
                        "count": 0
                      },
                      {
                        "bin_start": 0.6,
                        "bin_end": 0.7,
                        "count": 0
                      },
                      {
                        "bin_start": 0.7,
                        "bin_end": 0.8,
                        "count": 0
                      },
                      {
                        "bin_start": 0.8,
                        "bin_end": 0.9,
                        "count": 0
                      },
                      {
                        "bin_start": 0.9,
                        "bin_end": 1,
                        "count": 0
                      },
                      {
                        "bin_start": 1,
                        "bin_end": 1.1,
                        "count": 10
                      },
                      {
                        "bin_start": 1.1,
                        "bin_end": 1.2000000000000002,
                        "count": 0
                      },
                      {
                        "bin_start": 1.2000000000000002,
                        "bin_end": 1.3,
                        "count": 0
                      },
                      {
                        "bin_start": 1.3,
                        "bin_end": 1.4,
                        "count": 0
                      },
                      {
                        "bin_start": 1.4,
                        "bin_end": 1.5,
                        "count": 0
                      }
                    ]
                  }
                },
                {
                  "name": "bearish_flag",
                  "dtype": "int64",
                  "stats": {
                    "unique_count": 1,
                    "nan_count": 0,
                    "min": "0",
                    "max": "0",
                    "histogram": [
                      {
                        "bin_start": -0.5,
                        "bin_end": -0.4,
                        "count": 0
                      },
                      {
                        "bin_start": -0.4,
                        "bin_end": -0.3,
                        "count": 0
                      },
                      {
                        "bin_start": -0.3,
                        "bin_end": -0.19999999999999996,
                        "count": 0
                      },
                      {
                        "bin_start": -0.19999999999999996,
                        "bin_end": -0.09999999999999998,
                        "count": 0
                      },
                      {
                        "bin_start": -0.09999999999999998,
                        "bin_end": 0,
                        "count": 0
                      },
                      {
                        "bin_start": 0,
                        "bin_end": 0.10000000000000009,
                        "count": 10
                      },
                      {
                        "bin_start": 0.10000000000000009,
                        "bin_end": 0.20000000000000007,
                        "count": 0
                      },
                      {
                        "bin_start": 0.20000000000000007,
                        "bin_end": 0.30000000000000004,
                        "count": 0
                      },
                      {
                        "bin_start": 0.30000000000000004,
                        "bin_end": 0.4,
                        "count": 0
                      },
                      {
                        "bin_start": 0.4,
                        "bin_end": 0.5,
                        "count": 0
                      }
                    ]
                  }
                },
                {
                  "name": "_deepnote_index_column",
                  "dtype": "int64"
                }
              ],
              "rows": [
                {
                  "datetime": "2025-03-20 15:30:00+00:00",
                  "move_from_bottom": 0.2692782972758545,
                  "EMA_slope": 2.391042909002863,
                  "volume": 578,
                  "volume_std_5": 195.19818988231168,
                  "bearish_2": 0.5160133838653564,
                  "bullish_1": 0.6506137251853943,
                  "EMA_slope_60": 0.1783633242666837,
                  "bullish_flag": 1,
                  "bearish_flag": 0,
                  "_deepnote_index_column": 1142
                },
                {
                  "datetime": "2025-03-20 16:20:00+00:00",
                  "move_from_bottom": 0.3409635445464132,
                  "EMA_slope": 1.0115279369565542,
                  "volume": 565,
                  "volume_std_5": 20.42873792800264,
                  "bearish_2": 0.5589556694030762,
                  "bullish_1": 0.5642662048339844,
                  "EMA_slope_60": 0.2778630668490223,
                  "bullish_flag": 1,
                  "bearish_flag": 0,
                  "_deepnote_index_column": 1152
                },
                {
                  "datetime": "2025-03-20 16:25:00+00:00",
                  "move_from_bottom": 0.3409635445464132,
                  "EMA_slope": 1.2892223495673534,
                  "volume": 513,
                  "volume_std_5": 28.448784391095025,
                  "bearish_2": 0.5543649196624756,
                  "bullish_1": 0.583723783493042,
                  "EMA_slope_60": 0.3474413277599524,
                  "bullish_flag": 1,
                  "bearish_flag": 0,
                  "_deepnote_index_column": 1153
                },
                {
                  "datetime": "2025-03-21 12:00:00+00:00",
                  "move_from_bottom": 0.3167820833947177,
                  "EMA_slope": 1.7533689618740027,
                  "volume": 1018,
                  "volume_std_5": 273.35142216567937,
                  "bearish_2": 0.5296760201454163,
                  "bullish_1": 0.5636484622955322,
                  "EMA_slope_60": 0.5047909666282067,
                  "bullish_flag": 1,
                  "bearish_flag": 0,
                  "_deepnote_index_column": 1388
                },
                {
                  "datetime": "2025-03-21 12:05:00+00:00",
                  "move_from_bottom": 0.3369731342184323,
                  "EMA_slope": 2.3826951694991294,
                  "volume": 704,
                  "volume_std_5": 176.5852013429571,
                  "bearish_2": 0.5773327350616455,
                  "bullish_1": 0.5583217740058899,
                  "EMA_slope_60": 0.6488961648647091,
                  "bullish_flag": 1,
                  "bearish_flag": 0,
                  "_deepnote_index_column": 1389
                },
                {
                  "datetime": "2025-03-21 12:15:00+00:00",
                  "move_from_bottom": 0.2818873556018064,
                  "EMA_slope": 1.3369249084789772,
                  "volume": 573,
                  "volume_std_5": 67.67815994346395,
                  "bearish_2": 0.5335956811904907,
                  "bullish_1": 0.5616965889930725,
                  "EMA_slope_60": 0.5828023178873991,
                  "bullish_flag": 1,
                  "bearish_flag": 0,
                  "_deepnote_index_column": 1391
                },
                {
                  "datetime": "2025-03-25 09:20:00+00:00",
                  "move_from_bottom": 0.2111150206485113,
                  "EMA_slope": 1.382674819276872,
                  "volume": 533,
                  "volume_std_5": 50.68530358989924,
                  "bearish_2": 0.5425489544868469,
                  "bullish_1": 0.5655115842819214,
                  "EMA_slope_60": 0.1098572148457606,
                  "bullish_flag": 1,
                  "bearish_flag": 0,
                  "_deepnote_index_column": 1932
                },
                {
                  "datetime": "2025-03-25 09:25:00+00:00",
                  "move_from_bottom": 0.2111150206485113,
                  "EMA_slope": 1.546139855421643,
                  "volume": 447,
                  "volume_std_5": 80.07496487667287,
                  "bearish_2": 0.5645849704742432,
                  "bullish_1": 0.5574405193328857,
                  "EMA_slope_60": 0.178386512774523,
                  "bullish_flag": 1,
                  "bearish_flag": 0,
                  "_deepnote_index_column": 1933
                },
                {
                  "datetime": "2025-03-25 14:50:00+00:00",
                  "move_from_bottom": 0.1571309732877335,
                  "EMA_slope": 1.4247669757533004,
                  "volume": 848,
                  "volume_std_5": 51.393903659220165,
                  "bearish_2": 0.5279660224914551,
                  "bullish_1": 0.5644444227218628,
                  "EMA_slope_60": 0.1615579460194567,
                  "bullish_flag": 1,
                  "bearish_flag": 0,
                  "_deepnote_index_column": 1998
                },
                {
                  "datetime": "2025-03-26 16:35:00+00:00",
                  "move_from_bottom": 0.2205459903256379,
                  "EMA_slope": 1.2253435011698457,
                  "volume": 500,
                  "volume_std_5": 120.5998894416268,
                  "bearish_2": 0.5571182370185852,
                  "bullish_1": 0.6997002363204956,
                  "EMA_slope_60": 0.1500250882672844,
                  "bullish_flag": 1,
                  "bearish_flag": 0,
                  "_deepnote_index_column": 2307
                }
              ],
              "type": "dataframe"
            },
            "text/plain": "                       datetime  move_from_bottom  EMA_slope  volume  \\\n1142  2025-03-20 15:30:00+00:00          0.269278   2.391043     578   \n1152  2025-03-20 16:20:00+00:00          0.340964   1.011528     565   \n1153  2025-03-20 16:25:00+00:00          0.340964   1.289222     513   \n1388  2025-03-21 12:00:00+00:00          0.316782   1.753369    1018   \n1389  2025-03-21 12:05:00+00:00          0.336973   2.382695     704   \n1391  2025-03-21 12:15:00+00:00          0.281887   1.336925     573   \n1932  2025-03-25 09:20:00+00:00          0.211115   1.382675     533   \n1933  2025-03-25 09:25:00+00:00          0.211115   1.546140     447   \n1998  2025-03-25 14:50:00+00:00          0.157131   1.424767     848   \n2307  2025-03-26 16:35:00+00:00          0.220546   1.225344     500   \n\n      volume_std_5  bearish_2  bullish_1  EMA_slope_60  bullish_flag  \\\n1142    195.198190   0.516013   0.650614      0.178363             1   \n1152     20.428738   0.558956   0.564266      0.277863             1   \n1153     28.448784   0.554365   0.583724      0.347441             1   \n1388    273.351422   0.529676   0.563648      0.504791             1   \n1389    176.585201   0.577333   0.558322      0.648896             1   \n1391     67.678160   0.533596   0.561697      0.582802             1   \n1932     50.685304   0.542549   0.565512      0.109857             1   \n1933     80.074965   0.564585   0.557441      0.178387             1   \n1998     51.393904   0.527966   0.564444      0.161558             1   \n2307    120.599889   0.557118   0.699700      0.150025             1   \n\n      bearish_flag  \n1142             0  \n1152             0  \n1153             0  \n1388             0  \n1389             0  \n1391             0  \n1932             0  \n1933             0  \n1998             0  \n2307             0  ",
            "text/html": "<div>\n<style scoped>\n    .dataframe tbody tr th:only-of-type {\n        vertical-align: middle;\n    }\n\n    .dataframe tbody tr th {\n        vertical-align: top;\n    }\n\n    .dataframe thead th {\n        text-align: right;\n    }\n</style>\n<table border=\"1\" class=\"dataframe\">\n  <thead>\n    <tr style=\"text-align: right;\">\n      <th></th>\n      <th>datetime</th>\n      <th>move_from_bottom</th>\n      <th>EMA_slope</th>\n      <th>volume</th>\n      <th>volume_std_5</th>\n      <th>bearish_2</th>\n      <th>bullish_1</th>\n      <th>EMA_slope_60</th>\n      <th>bullish_flag</th>\n      <th>bearish_flag</th>\n    </tr>\n  </thead>\n  <tbody>\n    <tr>\n      <th>1142</th>\n      <td>2025-03-20 15:30:00+00:00</td>\n      <td>0.269278</td>\n      <td>2.391043</td>\n      <td>578</td>\n      <td>195.198190</td>\n      <td>0.516013</td>\n      <td>0.650614</td>\n      <td>0.178363</td>\n      <td>1</td>\n      <td>0</td>\n    </tr>\n    <tr>\n      <th>1152</th>\n      <td>2025-03-20 16:20:00+00:00</td>\n      <td>0.340964</td>\n      <td>1.011528</td>\n      <td>565</td>\n      <td>20.428738</td>\n      <td>0.558956</td>\n      <td>0.564266</td>\n      <td>0.277863</td>\n      <td>1</td>\n      <td>0</td>\n    </tr>\n    <tr>\n      <th>1153</th>\n      <td>2025-03-20 16:25:00+00:00</td>\n      <td>0.340964</td>\n      <td>1.289222</td>\n      <td>513</td>\n      <td>28.448784</td>\n      <td>0.554365</td>\n      <td>0.583724</td>\n      <td>0.347441</td>\n      <td>1</td>\n      <td>0</td>\n    </tr>\n    <tr>\n      <th>1388</th>\n      <td>2025-03-21 12:00:00+00:00</td>\n      <td>0.316782</td>\n      <td>1.753369</td>\n      <td>1018</td>\n      <td>273.351422</td>\n      <td>0.529676</td>\n      <td>0.563648</td>\n      <td>0.504791</td>\n      <td>1</td>\n      <td>0</td>\n    </tr>\n    <tr>\n      <th>1389</th>\n      <td>2025-03-21 12:05:00+00:00</td>\n      <td>0.336973</td>\n      <td>2.382695</td>\n      <td>704</td>\n      <td>176.585201</td>\n      <td>0.577333</td>\n      <td>0.558322</td>\n      <td>0.648896</td>\n      <td>1</td>\n      <td>0</td>\n    </tr>\n    <tr>\n      <th>1391</th>\n      <td>2025-03-21 12:15:00+00:00</td>\n      <td>0.281887</td>\n      <td>1.336925</td>\n      <td>573</td>\n      <td>67.678160</td>\n      <td>0.533596</td>\n      <td>0.561697</td>\n      <td>0.582802</td>\n      <td>1</td>\n      <td>0</td>\n    </tr>\n    <tr>\n      <th>1932</th>\n      <td>2025-03-25 09:20:00+00:00</td>\n      <td>0.211115</td>\n      <td>1.382675</td>\n      <td>533</td>\n      <td>50.685304</td>\n      <td>0.542549</td>\n      <td>0.565512</td>\n      <td>0.109857</td>\n      <td>1</td>\n      <td>0</td>\n    </tr>\n    <tr>\n      <th>1933</th>\n      <td>2025-03-25 09:25:00+00:00</td>\n      <td>0.211115</td>\n      <td>1.546140</td>\n      <td>447</td>\n      <td>80.074965</td>\n      <td>0.564585</td>\n      <td>0.557441</td>\n      <td>0.178387</td>\n      <td>1</td>\n      <td>0</td>\n    </tr>\n    <tr>\n      <th>1998</th>\n      <td>2025-03-25 14:50:00+00:00</td>\n      <td>0.157131</td>\n      <td>1.424767</td>\n      <td>848</td>\n      <td>51.393904</td>\n      <td>0.527966</td>\n      <td>0.564444</td>\n      <td>0.161558</td>\n      <td>1</td>\n      <td>0</td>\n    </tr>\n    <tr>\n      <th>2307</th>\n      <td>2025-03-26 16:35:00+00:00</td>\n      <td>0.220546</td>\n      <td>1.225344</td>\n      <td>500</td>\n      <td>120.599889</td>\n      <td>0.557118</td>\n      <td>0.699700</td>\n      <td>0.150025</td>\n      <td>1</td>\n      <td>0</td>\n    </tr>\n  </tbody>\n</table>\n</div>"
          },
          "metadata": {}
        }
      ],
      "outputs_reference": null,
      "content_dependencies": null
    },
    {
      "cell_type": "code",
      "metadata": {
        "source_hash": "c9977dff",
        "execution_start": 1742939863272,
        "execution_millis": 1,
        "deepnote_table_state": {
          "sortBy": [],
          "filters": [],
          "pageSize": 50,
          "pageIndex": 0,
          "columnOrder": [
            "datetime",
            "y_true",
            "move_from_bottom",
            "EMA_slope",
            "volume",
            "bearish_2",
            "bullish_1",
            "EMA_slope_60"
          ],
          "hiddenColumnIds": [],
          "columnDisplayNames": [],
          "conditionalFilters": [],
          "cellFormattingRules": [],
          "wrappedTextColumnIds": []
        },
        "execution_context_id": "4edd767a-85be-4c5a-88ed-35397283a8bf",
        "deepnote_table_loading": false,
        "cell_id": "4822f4278ab349a19e7a22ec0600e1f7",
        "deepnote_cell_type": "code"
      },
      "source": "ss[((ss['bearish_2']>0.6) \n    & (ss['bullish_1'] < 0.51)\n    & (ss['volume'] > 800)\n    & (ss['bearish_2'] >  ss['bullish_1'])\n    & (ss['EMA_slope'] < -0)\n    & (ss['EMA_slope']>-4) \n    & (ss['EMA_slope_60']<0)\n    & (ss['move_from_top'] < 0.26))][['datetime'\n    ,'move_from_top'\n    ,'EMA_slope'\n    ,'volume'\n    ,'bearish_2'\n    ,'bullish_1'\n    ,'EMA_slope_60','bullish_flag','bearish_flag']].iloc[-30:]",
      "block_group": "db90b2669bab4a17b8dcfb92ed302ff2",
      "execution_count": 264,
      "outputs": [
        {
          "output_type": "execute_result",
          "execution_count": 264,
          "data": {
            "application/vnd.deepnote.dataframe.v3+json": {
              "column_count": 9,
              "row_count": 1,
              "columns": [
                {
                  "name": "datetime",
                  "dtype": "object",
                  "stats": {
                    "unique_count": 1,
                    "nan_count": 0,
                    "categories": [
                      {
                        "name": "2025-03-19 13:20:00+00:00",
                        "count": 1
                      }
                    ]
                  }
                },
                {
                  "name": "move_from_top",
                  "dtype": "float64",
                  "stats": {
                    "unique_count": 1,
                    "nan_count": 0,
                    "min": "0.2271561515351239",
                    "max": "0.2271561515351239",
                    "histogram": [
                      {
                        "bin_start": -0.2728438484648761,
                        "bin_end": -0.17284384846487608,
                        "count": 0
                      },
                      {
                        "bin_start": -0.17284384846487608,
                        "bin_end": -0.07284384846487607,
                        "count": 0
                      },
                      {
                        "bin_start": -0.07284384846487607,
                        "bin_end": 0.027156151535123962,
                        "count": 0
                      },
                      {
                        "bin_start": 0.027156151535123962,
                        "bin_end": 0.12715615153512394,
                        "count": 0
                      },
                      {
                        "bin_start": 0.12715615153512394,
                        "bin_end": 0.22715615153512392,
                        "count": 1
                      },
                      {
                        "bin_start": 0.22715615153512392,
                        "bin_end": 0.327156151535124,
                        "count": 0
                      },
                      {
                        "bin_start": 0.327156151535124,
                        "bin_end": 0.427156151535124,
                        "count": 0
                      },
                      {
                        "bin_start": 0.427156151535124,
                        "bin_end": 0.527156151535124,
                        "count": 0
                      },
                      {
                        "bin_start": 0.527156151535124,
                        "bin_end": 0.6271561515351239,
                        "count": 0
                      },
                      {
                        "bin_start": 0.6271561515351239,
                        "bin_end": 0.7271561515351239,
                        "count": 0
                      }
                    ]
                  }
                },
                {
                  "name": "EMA_slope",
                  "dtype": "float64",
                  "stats": {
                    "unique_count": 1,
                    "nan_count": 0,
                    "min": "-1.2384775062455446",
                    "max": "-1.2384775062455446",
                    "histogram": [
                      {
                        "bin_start": -1.7384775062455446,
                        "bin_end": -1.6384775062455446,
                        "count": 0
                      },
                      {
                        "bin_start": -1.6384775062455446,
                        "bin_end": -1.5384775062455447,
                        "count": 0
                      },
                      {
                        "bin_start": -1.5384775062455447,
                        "bin_end": -1.4384775062455446,
                        "count": 0
                      },
                      {
                        "bin_start": -1.4384775062455446,
                        "bin_end": -1.3384775062455447,
                        "count": 0
                      },
                      {
                        "bin_start": -1.3384775062455447,
                        "bin_end": -1.2384775062455446,
                        "count": 0
                      },
                      {
                        "bin_start": -1.2384775062455446,
                        "bin_end": -1.1384775062455446,
                        "count": 1
                      },
                      {
                        "bin_start": -1.1384775062455446,
                        "bin_end": -1.0384775062455445,
                        "count": 0
                      },
                      {
                        "bin_start": -1.0384775062455445,
                        "bin_end": -0.9384775062455446,
                        "count": 0
                      },
                      {
                        "bin_start": -0.9384775062455446,
                        "bin_end": -0.8384775062455446,
                        "count": 0
                      },
                      {
                        "bin_start": -0.8384775062455446,
                        "bin_end": -0.7384775062455446,
                        "count": 0
                      }
                    ]
                  }
                },
                {
                  "name": "volume",
                  "dtype": "int64",
                  "stats": {
                    "unique_count": 1,
                    "nan_count": 0,
                    "min": "974",
                    "max": "974",
                    "histogram": [
                      {
                        "bin_start": 973.5,
                        "bin_end": 973.6,
                        "count": 0
                      },
                      {
                        "bin_start": 973.6,
                        "bin_end": 973.7,
                        "count": 0
                      },
                      {
                        "bin_start": 973.7,
                        "bin_end": 973.8,
                        "count": 0
                      },
                      {
                        "bin_start": 973.8,
                        "bin_end": 973.9,
                        "count": 0
                      },
                      {
                        "bin_start": 973.9,
                        "bin_end": 974,
                        "count": 0
                      },
                      {
                        "bin_start": 974,
                        "bin_end": 974.1,
                        "count": 1
                      },
                      {
                        "bin_start": 974.1,
                        "bin_end": 974.2,
                        "count": 0
                      },
                      {
                        "bin_start": 974.2,
                        "bin_end": 974.3,
                        "count": 0
                      },
                      {
                        "bin_start": 974.3,
                        "bin_end": 974.4,
                        "count": 0
                      },
                      {
                        "bin_start": 974.4,
                        "bin_end": 974.5,
                        "count": 0
                      }
                    ]
                  }
                },
                {
                  "name": "bearish_2",
                  "dtype": "float64",
                  "stats": {
                    "unique_count": 1,
                    "nan_count": 0,
                    "min": "0.6326550841331482",
                    "max": "0.6326550841331482",
                    "histogram": [
                      {
                        "bin_start": 0.1326550841331482,
                        "bin_end": 0.2326550841331482,
                        "count": 0
                      },
                      {
                        "bin_start": 0.2326550841331482,
                        "bin_end": 0.3326550841331482,
                        "count": 0
                      },
                      {
                        "bin_start": 0.3326550841331482,
                        "bin_end": 0.43265508413314824,
                        "count": 0
                      },
                      {
                        "bin_start": 0.43265508413314824,
                        "bin_end": 0.5326550841331482,
                        "count": 0
                      },
                      {
                        "bin_start": 0.5326550841331482,
                        "bin_end": 0.6326550841331482,
                        "count": 0
                      },
                      {
                        "bin_start": 0.6326550841331482,
                        "bin_end": 0.7326550841331483,
                        "count": 1
                      },
                      {
                        "bin_start": 0.7326550841331483,
                        "bin_end": 0.8326550841331483,
                        "count": 0
                      },
                      {
                        "bin_start": 0.8326550841331483,
                        "bin_end": 0.9326550841331482,
                        "count": 0
                      },
                      {
                        "bin_start": 0.9326550841331482,
                        "bin_end": 1.032655084133148,
                        "count": 0
                      },
                      {
                        "bin_start": 1.032655084133148,
                        "bin_end": 1.1326550841331482,
                        "count": 0
                      }
                    ]
                  }
                },
                {
                  "name": "bullish_1",
                  "dtype": "float64",
                  "stats": {
                    "unique_count": 1,
                    "nan_count": 0,
                    "min": "0.4897339046001434",
                    "max": "0.4897339046001434",
                    "histogram": [
                      {
                        "bin_start": -0.010266095399856623,
                        "bin_end": 0.08973390460014338,
                        "count": 0
                      },
                      {
                        "bin_start": 0.08973390460014338,
                        "bin_end": 0.1897339046001434,
                        "count": 0
                      },
                      {
                        "bin_start": 0.1897339046001434,
                        "bin_end": 0.2897339046001434,
                        "count": 0
                      },
                      {
                        "bin_start": 0.2897339046001434,
                        "bin_end": 0.3897339046001434,
                        "count": 0
                      },
                      {
                        "bin_start": 0.3897339046001434,
                        "bin_end": 0.4897339046001434,
                        "count": 0
                      },
                      {
                        "bin_start": 0.4897339046001434,
                        "bin_end": 0.5897339046001435,
                        "count": 1
                      },
                      {
                        "bin_start": 0.5897339046001435,
                        "bin_end": 0.6897339046001434,
                        "count": 0
                      },
                      {
                        "bin_start": 0.6897339046001434,
                        "bin_end": 0.7897339046001435,
                        "count": 0
                      },
                      {
                        "bin_start": 0.7897339046001435,
                        "bin_end": 0.8897339046001433,
                        "count": 0
                      },
                      {
                        "bin_start": 0.8897339046001433,
                        "bin_end": 0.9897339046001434,
                        "count": 0
                      }
                    ]
                  }
                },
                {
                  "name": "EMA_slope_60",
                  "dtype": "float64",
                  "stats": {
                    "unique_count": 1,
                    "nan_count": 0,
                    "min": "-0.2890249068404955",
                    "max": "-0.2890249068404955",
                    "histogram": [
                      {
                        "bin_start": -0.7890249068404955,
                        "bin_end": -0.6890249068404956,
                        "count": 0
                      },
                      {
                        "bin_start": -0.6890249068404956,
                        "bin_end": -0.5890249068404956,
                        "count": 0
                      },
                      {
                        "bin_start": -0.5890249068404956,
                        "bin_end": -0.4890249068404955,
                        "count": 0
                      },
                      {
                        "bin_start": -0.4890249068404955,
                        "bin_end": -0.3890249068404955,
                        "count": 0
                      },
                      {
                        "bin_start": -0.3890249068404955,
                        "bin_end": -0.28902490684049553,
                        "count": 0
                      },
                      {
                        "bin_start": -0.28902490684049553,
                        "bin_end": -0.18902490684049544,
                        "count": 1
                      },
                      {
                        "bin_start": -0.18902490684049544,
                        "bin_end": -0.08902490684049547,
                        "count": 0
                      },
                      {
                        "bin_start": -0.08902490684049547,
                        "bin_end": 0.010975093159504512,
                        "count": 0
                      },
                      {
                        "bin_start": 0.010975093159504512,
                        "bin_end": 0.11097509315950449,
                        "count": 0
                      },
                      {
                        "bin_start": 0.11097509315950449,
                        "bin_end": 0.21097509315950452,
                        "count": 0
                      }
                    ]
                  }
                },
                {
                  "name": "bullish_flag",
                  "dtype": "int64",
                  "stats": {
                    "unique_count": 1,
                    "nan_count": 0,
                    "min": "0",
                    "max": "0",
                    "histogram": [
                      {
                        "bin_start": -0.5,
                        "bin_end": -0.4,
                        "count": 0
                      },
                      {
                        "bin_start": -0.4,
                        "bin_end": -0.3,
                        "count": 0
                      },
                      {
                        "bin_start": -0.3,
                        "bin_end": -0.19999999999999996,
                        "count": 0
                      },
                      {
                        "bin_start": -0.19999999999999996,
                        "bin_end": -0.09999999999999998,
                        "count": 0
                      },
                      {
                        "bin_start": -0.09999999999999998,
                        "bin_end": 0,
                        "count": 0
                      },
                      {
                        "bin_start": 0,
                        "bin_end": 0.10000000000000009,
                        "count": 1
                      },
                      {
                        "bin_start": 0.10000000000000009,
                        "bin_end": 0.20000000000000007,
                        "count": 0
                      },
                      {
                        "bin_start": 0.20000000000000007,
                        "bin_end": 0.30000000000000004,
                        "count": 0
                      },
                      {
                        "bin_start": 0.30000000000000004,
                        "bin_end": 0.4,
                        "count": 0
                      },
                      {
                        "bin_start": 0.4,
                        "bin_end": 0.5,
                        "count": 0
                      }
                    ]
                  }
                },
                {
                  "name": "bearish_flag",
                  "dtype": "int64",
                  "stats": {
                    "unique_count": 1,
                    "nan_count": 0,
                    "min": "2",
                    "max": "2",
                    "histogram": [
                      {
                        "bin_start": 1.5,
                        "bin_end": 1.6,
                        "count": 0
                      },
                      {
                        "bin_start": 1.6,
                        "bin_end": 1.7,
                        "count": 0
                      },
                      {
                        "bin_start": 1.7,
                        "bin_end": 1.8,
                        "count": 0
                      },
                      {
                        "bin_start": 1.8,
                        "bin_end": 1.9,
                        "count": 0
                      },
                      {
                        "bin_start": 1.9,
                        "bin_end": 2,
                        "count": 0
                      },
                      {
                        "bin_start": 2,
                        "bin_end": 2.1,
                        "count": 1
                      },
                      {
                        "bin_start": 2.1,
                        "bin_end": 2.2,
                        "count": 0
                      },
                      {
                        "bin_start": 2.2,
                        "bin_end": 2.3,
                        "count": 0
                      },
                      {
                        "bin_start": 2.3,
                        "bin_end": 2.4,
                        "count": 0
                      },
                      {
                        "bin_start": 2.4,
                        "bin_end": 2.5,
                        "count": 0
                      }
                    ]
                  }
                },
                {
                  "name": "_deepnote_index_column",
                  "dtype": "int64"
                }
              ],
              "rows": [
                {
                  "datetime": "2025-03-19 13:20:00+00:00",
                  "move_from_top": 0.2271561515351239,
                  "EMA_slope": -1.2384775062455446,
                  "volume": 974,
                  "bearish_2": 0.6326550841331482,
                  "bullish_1": 0.4897339046001434,
                  "EMA_slope_60": -0.2890249068404955,
                  "bullish_flag": 0,
                  "bearish_flag": 2,
                  "_deepnote_index_column": 828
                }
              ],
              "type": "dataframe"
            },
            "text/plain": "                      datetime  move_from_top  EMA_slope  volume  bearish_2  \\\n828  2025-03-19 13:20:00+00:00       0.227156  -1.238478     974   0.632655   \n\n     bullish_1  EMA_slope_60  bullish_flag  bearish_flag  \n828   0.489734     -0.289025             0             2  ",
            "text/html": "<div>\n<style scoped>\n    .dataframe tbody tr th:only-of-type {\n        vertical-align: middle;\n    }\n\n    .dataframe tbody tr th {\n        vertical-align: top;\n    }\n\n    .dataframe thead th {\n        text-align: right;\n    }\n</style>\n<table border=\"1\" class=\"dataframe\">\n  <thead>\n    <tr style=\"text-align: right;\">\n      <th></th>\n      <th>datetime</th>\n      <th>move_from_top</th>\n      <th>EMA_slope</th>\n      <th>volume</th>\n      <th>bearish_2</th>\n      <th>bullish_1</th>\n      <th>EMA_slope_60</th>\n      <th>bullish_flag</th>\n      <th>bearish_flag</th>\n    </tr>\n  </thead>\n  <tbody>\n    <tr>\n      <th>828</th>\n      <td>2025-03-19 13:20:00+00:00</td>\n      <td>0.227156</td>\n      <td>-1.238478</td>\n      <td>974</td>\n      <td>0.632655</td>\n      <td>0.489734</td>\n      <td>-0.289025</td>\n      <td>0</td>\n      <td>2</td>\n    </tr>\n  </tbody>\n</table>\n</div>"
          },
          "metadata": {}
        }
      ],
      "outputs_reference": null,
      "content_dependencies": null
    },
    {
      "cell_type": "code",
      "metadata": {
        "source_hash": "19e4182f",
        "execution_start": 1742938905263,
        "execution_millis": 0,
        "is_output_hidden": true,
        "deepnote_table_state": {
          "sortBy": [],
          "filters": [],
          "pageSize": 100,
          "pageIndex": 0,
          "columnOrder": [
            "datetime",
            "move_from_bottom",
            "EMA_slope",
            "volume",
            "bearish_2",
            "bullish_1",
            "EMA_slope_60"
          ],
          "hiddenColumnIds": [],
          "columnDisplayNames": [],
          "conditionalFilters": [],
          "cellFormattingRules": [],
          "wrappedTextColumnIds": []
        },
        "execution_context_id": "4edd767a-85be-4c5a-88ed-35397283a8bf",
        "deepnote_table_loading": false,
        "deepnote_app_is_output_hidden": true,
        "cell_id": "112c68343ed641e4b2d22fe8e3bf8f66",
        "deepnote_cell_type": "code"
      },
      "source": "ss[(ss['bullish_1'] > 0) & (ss['bearish_2'] < 1)] [['datetime',\n    'move_from_bottom',\n    'EMA_slope',\n    'volume',\n    'bearish_2',\n    'bullish_1',\n    'EMA_slope_60']].iloc[-60:]",
      "block_group": "45de44ec26574cabb042f94f4b2e250a",
      "execution_count": 254,
      "outputs": [
        {
          "output_type": "execute_result",
          "execution_count": 256,
          "data": {
            "application/vnd.deepnote.dataframe.v3+json": {
              "column_count": 7,
              "row_count": 60,
              "columns": [
                {
                  "name": "datetime",
                  "dtype": "object",
                  "stats": {
                    "unique_count": 60,
                    "nan_count": 0,
                    "categories": [
                      {
                        "name": "2025-03-25 16:35:00+00:00",
                        "count": 1
                      },
                      {
                        "name": "2025-03-25 16:40:00+00:00",
                        "count": 1
                      },
                      {
                        "name": "58 others",
                        "count": 58
                      }
                    ]
                  }
                },
                {
                  "name": "move_from_bottom",
                  "dtype": "float64",
                  "stats": {
                    "unique_count": 51,
                    "nan_count": 0,
                    "min": "0.0148266211983494",
                    "max": "0.1821190522413696",
                    "histogram": [
                      {
                        "bin_start": 0.0148266211983494,
                        "bin_end": 0.03155586430265142,
                        "count": 15
                      },
                      {
                        "bin_start": 0.03155586430265142,
                        "bin_end": 0.04828510740695344,
                        "count": 10
                      },
                      {
                        "bin_start": 0.04828510740695344,
                        "bin_end": 0.06501435051125547,
                        "count": 10
                      },
                      {
                        "bin_start": 0.06501435051125547,
                        "bin_end": 0.08174359361555748,
                        "count": 4
                      },
                      {
                        "bin_start": 0.08174359361555748,
                        "bin_end": 0.0984728367198595,
                        "count": 4
                      },
                      {
                        "bin_start": 0.0984728367198595,
                        "bin_end": 0.11520207982416153,
                        "count": 5
                      },
                      {
                        "bin_start": 0.11520207982416153,
                        "bin_end": 0.13193132292846355,
                        "count": 3
                      },
                      {
                        "bin_start": 0.13193132292846355,
                        "bin_end": 0.14866056603276556,
                        "count": 7
                      },
                      {
                        "bin_start": 0.14866056603276556,
                        "bin_end": 0.16538980913706758,
                        "count": 1
                      },
                      {
                        "bin_start": 0.16538980913706758,
                        "bin_end": 0.1821190522413696,
                        "count": 1
                      }
                    ]
                  }
                },
                {
                  "name": "EMA_slope",
                  "dtype": "float64",
                  "stats": {
                    "unique_count": 60,
                    "nan_count": 0,
                    "min": "-1.433192851178319",
                    "max": "0.9107445383979212",
                    "histogram": [
                      {
                        "bin_start": -1.433192851178319,
                        "bin_end": -1.198799112220695,
                        "count": 2
                      },
                      {
                        "bin_start": -1.198799112220695,
                        "bin_end": -0.964405373263071,
                        "count": 3
                      },
                      {
                        "bin_start": -0.964405373263071,
                        "bin_end": -0.730011634305447,
                        "count": 4
                      },
                      {
                        "bin_start": -0.730011634305447,
                        "bin_end": -0.49561789534782297,
                        "count": 8
                      },
                      {
                        "bin_start": -0.49561789534782297,
                        "bin_end": -0.2612241563901989,
                        "count": 13
                      },
                      {
                        "bin_start": -0.2612241563901989,
                        "bin_end": -0.026830417432575082,
                        "count": 16
                      },
                      {
                        "bin_start": -0.026830417432575082,
                        "bin_end": 0.20756332152504897,
                        "count": 5
                      },
                      {
                        "bin_start": 0.20756332152504897,
                        "bin_end": 0.441957060482673,
                        "count": 5
                      },
                      {
                        "bin_start": 0.441957060482673,
                        "bin_end": 0.6763507994402969,
                        "count": 3
                      },
                      {
                        "bin_start": 0.6763507994402969,
                        "bin_end": 0.9107445383979212,
                        "count": 1
                      }
                    ]
                  }
                },
                {
                  "name": "volume",
                  "dtype": "int64",
                  "stats": {
                    "unique_count": 58,
                    "nan_count": 0,
                    "min": "1",
                    "max": "636",
                    "histogram": [
                      {
                        "bin_start": 1,
                        "bin_end": 64.5,
                        "count": 7
                      },
                      {
                        "bin_start": 64.5,
                        "bin_end": 128,
                        "count": 6
                      },
                      {
                        "bin_start": 128,
                        "bin_end": 191.5,
                        "count": 3
                      },
                      {
                        "bin_start": 191.5,
                        "bin_end": 255,
                        "count": 6
                      },
                      {
                        "bin_start": 255,
                        "bin_end": 318.5,
                        "count": 9
                      },
                      {
                        "bin_start": 318.5,
                        "bin_end": 382,
                        "count": 7
                      },
                      {
                        "bin_start": 382,
                        "bin_end": 445.5,
                        "count": 10
                      },
                      {
                        "bin_start": 445.5,
                        "bin_end": 509,
                        "count": 5
                      },
                      {
                        "bin_start": 509,
                        "bin_end": 572.5,
                        "count": 4
                      },
                      {
                        "bin_start": 572.5,
                        "bin_end": 636,
                        "count": 3
                      }
                    ]
                  }
                },
                {
                  "name": "bearish_2",
                  "dtype": "float64",
                  "stats": {
                    "unique_count": 60,
                    "nan_count": 0,
                    "min": "0.4293808937072754",
                    "max": "0.6379727721214294",
                    "histogram": [
                      {
                        "bin_start": 0.4293808937072754,
                        "bin_end": 0.4502400815486908,
                        "count": 5
                      },
                      {
                        "bin_start": 0.4502400815486908,
                        "bin_end": 0.4710992693901062,
                        "count": 6
                      },
                      {
                        "bin_start": 0.4710992693901062,
                        "bin_end": 0.4919584572315216,
                        "count": 11
                      },
                      {
                        "bin_start": 0.4919584572315216,
                        "bin_end": 0.512817645072937,
                        "count": 6
                      },
                      {
                        "bin_start": 0.512817645072937,
                        "bin_end": 0.5336768329143524,
                        "count": 9
                      },
                      {
                        "bin_start": 0.5336768329143524,
                        "bin_end": 0.5545360207557678,
                        "count": 10
                      },
                      {
                        "bin_start": 0.5545360207557678,
                        "bin_end": 0.5753952085971832,
                        "count": 4
                      },
                      {
                        "bin_start": 0.5753952085971832,
                        "bin_end": 0.5962543964385987,
                        "count": 6
                      },
                      {
                        "bin_start": 0.5962543964385987,
                        "bin_end": 0.6171135842800141,
                        "count": 1
                      },
                      {
                        "bin_start": 0.6171135842800141,
                        "bin_end": 0.6379727721214294,
                        "count": 2
                      }
                    ]
                  }
                },
                {
                  "name": "bullish_1",
                  "dtype": "float64",
                  "stats": {
                    "unique_count": 60,
                    "nan_count": 0,
                    "min": "0.4157447814941406",
                    "max": "0.6379432678222656",
                    "histogram": [
                      {
                        "bin_start": 0.4157447814941406,
                        "bin_end": 0.43796463012695314,
                        "count": 2
                      },
                      {
                        "bin_start": 0.43796463012695314,
                        "bin_end": 0.46018447875976565,
                        "count": 7
                      },
                      {
                        "bin_start": 0.46018447875976565,
                        "bin_end": 0.4824043273925781,
                        "count": 9
                      },
                      {
                        "bin_start": 0.4824043273925781,
                        "bin_end": 0.5046241760253907,
                        "count": 6
                      },
                      {
                        "bin_start": 0.5046241760253907,
                        "bin_end": 0.5268440246582031,
                        "count": 6
                      },
                      {
                        "bin_start": 0.5268440246582031,
                        "bin_end": 0.5490638732910156,
                        "count": 5
                      },
                      {
                        "bin_start": 0.5490638732910156,
                        "bin_end": 0.5712837219238281,
                        "count": 10
                      },
                      {
                        "bin_start": 0.5712837219238281,
                        "bin_end": 0.5935035705566406,
                        "count": 13
                      },
                      {
                        "bin_start": 0.5935035705566406,
                        "bin_end": 0.6157234191894532,
                        "count": 1
                      },
                      {
                        "bin_start": 0.6157234191894532,
                        "bin_end": 0.6379432678222656,
                        "count": 1
                      }
                    ]
                  }
                },
                {
                  "name": "EMA_slope_60",
                  "dtype": "float64",
                  "stats": {
                    "unique_count": 60,
                    "nan_count": 0,
                    "min": "-0.5071531926514581",
                    "max": "0.0684719790133385",
                    "histogram": [
                      {
                        "bin_start": -0.5071531926514581,
                        "bin_end": -0.44959067548497844,
                        "count": 1
                      },
                      {
                        "bin_start": -0.44959067548497844,
                        "bin_end": -0.3920281583184988,
                        "count": 3
                      },
                      {
                        "bin_start": -0.3920281583184988,
                        "bin_end": -0.3344656411520191,
                        "count": 8
                      },
                      {
                        "bin_start": -0.3344656411520191,
                        "bin_end": -0.27690312398553946,
                        "count": 10
                      },
                      {
                        "bin_start": -0.27690312398553946,
                        "bin_end": -0.2193406068190598,
                        "count": 12
                      },
                      {
                        "bin_start": -0.2193406068190598,
                        "bin_end": -0.16177808965258011,
                        "count": 8
                      },
                      {
                        "bin_start": -0.16177808965258011,
                        "bin_end": -0.10421557248610047,
                        "count": 5
                      },
                      {
                        "bin_start": -0.10421557248610047,
                        "bin_end": -0.04665305531962083,
                        "count": 7
                      },
                      {
                        "bin_start": -0.04665305531962083,
                        "bin_end": 0.010909461846858814,
                        "count": 5
                      },
                      {
                        "bin_start": 0.010909461846858814,
                        "bin_end": 0.0684719790133385,
                        "count": 1
                      }
                    ]
                  }
                },
                {
                  "name": "_deepnote_index_column",
                  "dtype": "int64"
                }
              ],
              "rows": [
                {
                  "datetime": "2025-03-25 16:35:00+00:00",
                  "move_from_bottom": 0.1461177079865483,
                  "EMA_slope": 0.5303172035073658,
                  "volume": 428,
                  "bearish_2": 0.619116485118866,
                  "bullish_1": 0.5773521661758423,
                  "EMA_slope_60": -0.0250452311902336,
                  "_deepnote_index_column": 2019
                },
                {
                  "datetime": "2025-03-25 16:40:00+00:00",
                  "move_from_bottom": 0.1461177079865483,
                  "EMA_slope": 0.1642537628049467,
                  "volume": 503,
                  "bearish_2": 0.5988419651985168,
                  "bullish_1": 0.5668344497680664,
                  "EMA_slope_60": -0.0668470258769957,
                  "_deepnote_index_column": 2020
                },
                {
                  "datetime": "2025-03-25 16:45:00+00:00",
                  "move_from_bottom": 0.1424237940219175,
                  "EMA_slope": 0.511403010243157,
                  "volume": 390,
                  "bearish_2": 0.5415904521942139,
                  "bullish_1": 0.5718191862106323,
                  "EMA_slope_60": -0.0023602458259119,
                  "_deepnote_index_column": 2021
                },
                {
                  "datetime": "2025-03-25 16:50:00+00:00",
                  "move_from_bottom": 0.1147107254528378,
                  "EMA_slope": -0.1108775918037281,
                  "volume": 578,
                  "bearish_2": 0.5486819744110107,
                  "bullish_1": 0.587958037853241,
                  "EMA_slope_60": -0.0875287589187792,
                  "_deepnote_index_column": 2022
                },
                {
                  "datetime": "2025-03-25 16:55:00+00:00",
                  "move_from_bottom": 0.096226799163579,
                  "EMA_slope": -0.7087020734434191,
                  "volume": 536,
                  "bearish_2": 0.5775330066680908,
                  "bullish_1": 0.5611180663108826,
                  "EMA_slope_60": -0.1862983096270909,
                  "_deepnote_index_column": 2023
                },
                {
                  "datetime": "2025-03-25 17:00:00+00:00",
                  "move_from_bottom": 0.1405767345504349,
                  "EMA_slope": -0.5269616587538621,
                  "volume": 609,
                  "bearish_2": 0.5900437831878662,
                  "bullish_1": 0.5739604830741882,
                  "EMA_slope_60": -0.1736327930975676,
                  "_deepnote_index_column": 2024
                },
                {
                  "datetime": "2025-03-25 17:05:00+00:00",
                  "move_from_bottom": 0.1821190522413696,
                  "EMA_slope": 0.5384306729956734,
                  "volume": 563,
                  "bearish_2": 0.5079526305198669,
                  "bullish_1": 0.5650511980056763,
                  "EMA_slope_60": -0.0105628672754392,
                  "_deepnote_index_column": 2025
                },
                {
                  "datetime": "2025-03-25 17:10:00+00:00",
                  "move_from_bottom": 0.1553512973682891,
                  "EMA_slope": 0.9107445383979212,
                  "volume": 458,
                  "bearish_2": 0.5626927614212036,
                  "bullish_1": 0.5889217853546143,
                  "EMA_slope_60": 0.0684719790133385,
                  "_deepnote_index_column": 2026
                },
                {
                  "datetime": "2025-03-25 17:15:00+00:00",
                  "move_from_bottom": 0.1350351461339327,
                  "EMA_slope": 0.2885956307181914,
                  "volume": 449,
                  "bearish_2": 0.4613246619701385,
                  "bullish_1": 0.5430940389633179,
                  "EMA_slope_60": -0.0059041581189376,
                  "_deepnote_index_column": 2027
                },
                {
                  "datetime": "2025-03-25 17:20:00+00:00",
                  "move_from_bottom": 0.1341114882675742,
                  "EMA_slope": 0.2508765045749896,
                  "volume": 474,
                  "bearish_2": 0.5774961113929749,
                  "bullish_1": 0.4911173284053802,
                  "EMA_slope_60": -0.0024318950872839,
                  "_deepnote_index_column": 2028
                },
                {
                  "datetime": "2025-03-25 17:25:00+00:00",
                  "move_from_bottom": 0.1276454047654418,
                  "EMA_slope": -0.199298796342191,
                  "volume": 419,
                  "bearish_2": 0.522162675857544,
                  "bullish_1": 0.5049833655357361,
                  "EMA_slope_60": -0.0679259396038105,
                  "_deepnote_index_column": 2029
                },
                {
                  "datetime": "2025-03-25 17:30:00+00:00",
                  "move_from_bottom": 0.1165587419056479,
                  "EMA_slope": -0.2594390370722976,
                  "volume": 355,
                  "bearish_2": 0.5310853719711304,
                  "bullish_1": 0.4477703869342804,
                  "EMA_slope_60": -0.0820923030478297,
                  "_deepnote_index_column": 2030
                },
                {
                  "datetime": "2025-03-25 17:35:00+00:00",
                  "move_from_bottom": 0.1350351461339327,
                  "EMA_slope": -0.167551229658784,
                  "volume": 440,
                  "bearish_2": 0.4814993441104889,
                  "bullish_1": 0.6080529689788818,
                  "EMA_slope_60": -0.0728433752829005,
                  "_deepnote_index_column": 2031
                },
                {
                  "datetime": "2025-03-25 17:40:00+00:00",
                  "move_from_bottom": 0.1128626406157407,
                  "EMA_slope": -0.3540409837260085,
                  "volume": 393,
                  "bearish_2": 0.5825082659721375,
                  "bullish_1": 0.5672305822372437,
                  "EMA_slope_60": -0.1065206434850551,
                  "_deepnote_index_column": 2032
                },
                {
                  "datetime": "2025-03-25 17:45:00+00:00",
                  "move_from_bottom": 0.1257977985385294,
                  "EMA_slope": -0.2632327869814617,
                  "volume": 299,
                  "bearish_2": 0.5474583506584167,
                  "bullish_1": 0.5602256655693054,
                  "EMA_slope_60": -0.0997494786879542,
                  "_deepnote_index_column": 2033
                },
                {
                  "datetime": "2025-03-25 17:50:00+00:00",
                  "move_from_bottom": 0.0971511579492823,
                  "EMA_slope": -0.5505862295867701,
                  "volume": 422,
                  "bearish_2": 0.6379727721214294,
                  "bullish_1": 0.4865876734256744,
                  "EMA_slope_60": -0.1522167101084051,
                  "_deepnote_index_column": 2034
                },
                {
                  "datetime": "2025-03-25 17:55:00+00:00",
                  "move_from_bottom": 0.1147107254528378,
                  "EMA_slope": -0.4804689836673788,
                  "volume": 350,
                  "bearish_2": 0.5823454260826111,
                  "bullish_1": 0.5814404487609863,
                  "EMA_slope_60": -0.1537833747443073,
                  "_deepnote_index_column": 2035
                },
                {
                  "datetime": "2025-03-25 18:00:00+00:00",
                  "move_from_bottom": 0.1128626406157407,
                  "EMA_slope": 0.195624813066388,
                  "volume": 498,
                  "bearish_2": 0.4594609439373016,
                  "bullish_1": 0.5669747591018677,
                  "EMA_slope_60": -0.0536593280539818,
                  "_deepnote_index_column": 2036
                },
                {
                  "datetime": "2025-03-25 18:05:00+00:00",
                  "move_from_bottom": 0.0943780302749774,
                  "EMA_slope": -0.5635001495465985,
                  "volume": 345,
                  "bearish_2": 0.5461780428886414,
                  "bullish_1": 0.4604856371879577,
                  "EMA_slope_60": -0.169932786237041,
                  "_deepnote_index_column": 2037
                },
                {
                  "datetime": "2025-03-25 18:10:00+00:00",
                  "move_from_bottom": 0.1091662657736081,
                  "EMA_slope": -0.3308001196382975,
                  "volume": 338,
                  "bearish_2": 0.5842289924621582,
                  "bullish_1": 0.5735230445861816,
                  "EMA_slope_60": -0.1446890913593961,
                  "_deepnote_index_column": 2038
                },
                {
                  "datetime": "2025-03-25 18:15:00+00:00",
                  "move_from_bottom": 0.0888313130378515,
                  "EMA_slope": -0.2246400957101286,
                  "volume": 244,
                  "bearish_2": 0.5513716340065002,
                  "bullish_1": 0.6379432678222656,
                  "EMA_slope_60": -0.1333878066434408,
                  "_deepnote_index_column": 2039
                },
                {
                  "datetime": "2025-03-25 18:20:00+00:00",
                  "move_from_bottom": 0.0795854155099085,
                  "EMA_slope": -0.4597120765683939,
                  "volume": 229,
                  "bearish_2": 0.5212486386299133,
                  "bullish_1": 0.524961531162262,
                  "EMA_slope_60": -0.1749160754807235,
                  "_deepnote_index_column": 2040
                },
                {
                  "datetime": "2025-03-25 18:25:00+00:00",
                  "move_from_bottom": 0.05923841611285,
                  "EMA_slope": -0.6877696612555155,
                  "volume": 250,
                  "bearish_2": 0.5128335952758789,
                  "bullish_1": 0.5146932005882263,
                  "EMA_slope_60": -0.2216401383775519,
                  "_deepnote_index_column": 2041
                },
                {
                  "datetime": "2025-03-25 18:30:00+00:00",
                  "move_from_bottom": 0.0601634594914801,
                  "EMA_slope": -0.9502157290025934,
                  "volume": 339,
                  "bearish_2": 0.5027464032173157,
                  "bullish_1": 0.5314157605171204,
                  "EMA_slope_60": -0.2799470229292637,
                  "_deepnote_index_column": 2042
                },
                {
                  "datetime": "2025-03-25 18:35:00+00:00",
                  "move_from_bottom": 0.0647884195328019,
                  "EMA_slope": -0.3801725832036027,
                  "volume": 219,
                  "bearish_2": 0.5737593173980713,
                  "bullish_1": 0.5928635001182556,
                  "EMA_slope_60": -0.2084733462033909,
                  "_deepnote_index_column": 2043
                },
                {
                  "datetime": "2025-03-25 18:40:00+00:00",
                  "move_from_bottom": 0.049987040396926,
                  "EMA_slope": -0.7641380665627366,
                  "volume": 303,
                  "bearish_2": 0.5017080903053284,
                  "bullish_1": 0.5084770321846008,
                  "EMA_slope_60": -0.2770479891751165,
                  "_deepnote_index_column": 2044
                },
                {
                  "datetime": "2025-03-25 18:45:00+00:00",
                  "move_from_bottom": 0.0388831284254265,
                  "EMA_slope": -0.5913104532482976,
                  "volume": 306,
                  "bearish_2": 0.5248287916183472,
                  "bullish_1": 0.4157447814941406,
                  "EMA_slope_60": -0.2646857616400666,
                  "_deepnote_index_column": 2045
                },
                {
                  "datetime": "2025-03-25 18:50:00+00:00",
                  "move_from_bottom": 0.0555380713479269,
                  "EMA_slope": -0.8330483625995839,
                  "volume": 421,
                  "bearish_2": 0.4830861389636993,
                  "bullish_1": 0.4925288558006286,
                  "EMA_slope_60": -0.3150239240876544,
                  "_deepnote_index_column": 2046
                },
                {
                  "datetime": "2025-03-25 18:55:00+00:00",
                  "move_from_bottom": 0.0583149749153188,
                  "EMA_slope": -0.1064386900798126,
                  "volume": 636,
                  "bearish_2": 0.4457445740699768,
                  "bullish_1": 0.5733082294464111,
                  "EMA_slope_60": -0.2128919862880138,
                  "_deepnote_index_column": 2047
                },
                {
                  "datetime": "2025-03-25 19:00:00+00:00",
                  "move_from_bottom": 0.0407362144946854,
                  "EMA_slope": -0.8451509520655236,
                  "volume": 538,
                  "bearish_2": 0.4880759119987488,
                  "bullish_1": 0.5324312448501587,
                  "EMA_slope_60": -0.3305020808529662,
                  "_deepnote_index_column": 2048
                },
                {
                  "datetime": "2025-03-25 19:05:00+00:00",
                  "move_from_bottom": 0.0481392334752861,
                  "EMA_slope": -0.1961207616514002,
                  "volume": 304,
                  "bearish_2": 0.4730134308338165,
                  "bullish_1": 0.5901522636413574,
                  "EMA_slope_60": -0.2409774277202814,
                  "_deepnote_index_column": 2049
                },
                {
                  "datetime": "2025-03-25 19:10:00+00:00",
                  "move_from_bottom": 0.0481392334752861,
                  "EMA_slope": -0.0368966093210474,
                  "volume": 387,
                  "bearish_2": 0.4749640524387359,
                  "bullish_1": 0.5550193786621094,
                  "EMA_slope_60": -0.2134043946753081,
                  "_deepnote_index_column": 2050
                },
                {
                  "datetime": "2025-03-25 19:15:00+00:00",
                  "move_from_bottom": 0.0546387360856548,
                  "EMA_slope": -0.9695172874580748,
                  "volume": 436,
                  "bearish_2": 0.5521721243858337,
                  "bullish_1": 0.4848534166812897,
                  "EMA_slope_60": -0.3605058852808724,
                  "_deepnote_index_column": 2051
                },
                {
                  "datetime": "2025-03-25 19:20:00+00:00",
                  "move_from_bottom": 0.0324239195886755,
                  "EMA_slope": -1.2956138299668964,
                  "volume": 403,
                  "bearish_2": 0.5409963130950928,
                  "bullish_1": 0.4758854806423187,
                  "EMA_slope_60": -0.4339319202117622,
                  "_deepnote_index_column": 2052
                },
                {
                  "datetime": "2025-03-25 19:25:00+00:00",
                  "move_from_bottom": 0.0305719738377896,
                  "EMA_slope": -1.1164910639708978,
                  "volume": 274,
                  "bearish_2": 0.522609293460846,
                  "bullish_1": 0.584716260433197,
                  "EMA_slope_60": -0.4328193998553615,
                  "_deepnote_index_column": 2053
                },
                {
                  "datetime": "2025-03-25 19:30:00+00:00",
                  "move_from_bottom": 0.0601996777001678,
                  "EMA_slope": -1.433192851178319,
                  "volume": 303,
                  "bearish_2": 0.48404660820961,
                  "bullish_1": 0.4800187051296234,
                  "EMA_slope_60": -0.5071531926514581,
                  "_deepnote_index_column": 2054
                },
                {
                  "datetime": "2025-03-25 19:35:00+00:00",
                  "move_from_bottom": 0.0583484607120321,
                  "EMA_slope": 0.0134457190579269,
                  "volume": 246,
                  "bearish_2": 0.5684384107589722,
                  "bullish_1": 0.4949555993080139,
                  "EMA_slope_60": -0.300361293795504,
                  "_deepnote_index_column": 2055
                },
                {
                  "datetime": "2025-03-25 19:40:00+00:00",
                  "move_from_bottom": 0.0759322536136974,
                  "EMA_slope": -0.2092434247533674,
                  "volume": 323,
                  "bearish_2": 0.551058292388916,
                  "bullish_1": 0.5599682927131653,
                  "EMA_slope_60": -0.3265789583147125,
                  "_deepnote_index_column": 2056
                },
                {
                  "datetime": "2025-03-25 19:45:00+00:00",
                  "move_from_bottom": 0.0768575450033282,
                  "EMA_slope": 0.2926052601960691,
                  "volume": 320,
                  "bearish_2": 0.5366300344467163,
                  "bullish_1": 0.4773203134536743,
                  "EMA_slope_60": -0.2404616089497722,
                  "_deepnote_index_column": 2057
                },
                {
                  "datetime": "2025-03-25 19:50:00+00:00",
                  "move_from_bottom": 0.0722309166844126,
                  "EMA_slope": 0.0940842081581649,
                  "volume": 303,
                  "bearish_2": 0.4293808937072754,
                  "bullish_1": 0.5921553373336792,
                  "EMA_slope_60": -0.2555284388145082,
                  "_deepnote_index_column": 2058
                },
                {
                  "datetime": "2025-03-25 19:55:00+00:00",
                  "move_from_bottom": 0.0583484607120321,
                  "EMA_slope": -0.0047326334733952,
                  "volume": 529,
                  "bearish_2": 0.5153191685676575,
                  "bullish_1": 0.5592742562294006,
                  "EMA_slope_60": -0.2602652135356038,
                  "_deepnote_index_column": 2059
                },
                {
                  "datetime": "2025-03-25 20:00:00+00:00",
                  "move_from_bottom": 0.0453880212675117,
                  "EMA_slope": -0.3637861067800259,
                  "volume": 254,
                  "bearish_2": 0.4804796576499939,
                  "bullish_1": 0.4756286740303039,
                  "EMA_slope_60": -0.3107483289713855,
                  "_deepnote_index_column": 2060
                },
                {
                  "datetime": "2025-03-25 20:05:00+00:00",
                  "move_from_bottom": 0.0296471983397661,
                  "EMA_slope": -0.65102888542242,
                  "volume": 171,
                  "bearish_2": 0.534481406211853,
                  "bullish_1": 0.5752943158149719,
                  "EMA_slope_60": -0.3595762507939071,
                  "_deepnote_index_column": 2061
                },
                {
                  "datetime": "2025-03-25 20:10:00+00:00",
                  "move_from_bottom": 0.0259437021662978,
                  "EMA_slope": -1.020823108337936,
                  "volume": 158,
                  "bearish_2": 0.4990690946578979,
                  "bullish_1": 0.4716522693634033,
                  "EMA_slope_60": -0.4297540766146994,
                  "_deepnote_index_column": 2062
                },
                {
                  "datetime": "2025-03-25 20:15:00+00:00",
                  "move_from_bottom": 0.0407626317837306,
                  "EMA_slope": -0.4766584866720222,
                  "volume": 74,
                  "bearish_2": 0.4619693756103515,
                  "bullish_1": 0.4681086838245392,
                  "EMA_slope_60": -0.3599260706650966,
                  "_deepnote_index_column": 2063
                },
                {
                  "datetime": "2025-03-25 20:20:00+00:00",
                  "move_from_bottom": 0.0296488464745614,
                  "EMA_slope": -0.3413267893356533,
                  "volume": 43,
                  "bearish_2": 0.5552992820739746,
                  "bullish_1": 0.5375884175300598,
                  "EMA_slope_60": -0.3415678364144696,
                  "_deepnote_index_column": 2064
                },
                {
                  "datetime": "2025-03-25 20:25:00+00:00",
                  "move_from_bottom": 0.020385470719042,
                  "EMA_slope": -0.4730614314703416,
                  "volume": 85,
                  "bearish_2": 0.4752629399299621,
                  "bullish_1": 0.4419543445110321,
                  "EMA_slope_60": -0.3631557745866303,
                  "_deepnote_index_column": 2065
                },
                {
                  "datetime": "2025-03-25 20:30:00+00:00",
                  "move_from_bottom": 0.020385470719042,
                  "EMA_slope": -0.5384491451750364,
                  "volume": 102,
                  "bearish_2": 0.485281378030777,
                  "bullish_1": 0.4761195778846741,
                  "EMA_slope_60": -0.3774785332443571,
                  "_deepnote_index_column": 2066
                },
                {
                  "datetime": "2025-03-25 20:35:00+00:00",
                  "move_from_bottom": 0.0315013156431787,
                  "EMA_slope": -0.2907593161398836,
                  "volume": 120,
                  "bearish_2": 0.5329388380050659,
                  "bullish_1": 0.5202826857566833,
                  "EMA_slope_60": -0.3421513767116266,
                  "_deepnote_index_column": 2067
                },
                {
                  "datetime": "2025-03-25 20:40:00+00:00",
                  "move_from_bottom": 0.0277963086501964,
                  "EMA_slope": -0.1126074529129255,
                  "volume": 125,
                  "bearish_2": 0.477707028388977,
                  "bullish_1": 0.4551854729652405,
                  "EMA_slope_60": -0.3112611635951907,
                  "_deepnote_index_column": 2068
                },
                {
                  "datetime": "2025-03-25 20:45:00+00:00",
                  "move_from_bottom": 0.0259437021662978,
                  "EMA_slope": -0.0700859623302676,
                  "volume": 140,
                  "bearish_2": 0.5142784118652344,
                  "bullish_1": 0.4468230903148651,
                  "EMA_slope_60": -0.2977771926362038,
                  "_deepnote_index_column": 2069
                },
                {
                  "datetime": "2025-03-25 20:50:00+00:00",
                  "move_from_bottom": 0.0185325895587396,
                  "EMA_slope": -0.3160687698637048,
                  "volume": 302,
                  "bearish_2": 0.4688838422298431,
                  "bullish_1": 0.5575042963027954,
                  "EMA_slope_60": -0.330636957216484,
                  "_deepnote_index_column": 2070
                },
                {
                  "datetime": "2025-03-25 20:55:00+00:00",
                  "move_from_bottom": 0.024091027019002,
                  "EMA_slope": -0.372855015892128,
                  "volume": 258,
                  "bearish_2": 0.4606112539768219,
                  "bullish_1": 0.4502752423286438,
                  "EMA_slope_60": -0.3394685310868226,
                  "_deepnote_index_column": 2071
                },
                {
                  "datetime": "2025-03-25 21:00:00+00:00",
                  "move_from_bottom": 0.0389105058365646,
                  "EMA_slope": 0.3617159872883349,
                  "volume": 1,
                  "bearish_2": 0.4828586280345917,
                  "bullish_1": 0.5097241401672363,
                  "EMA_slope_60": -0.2201416940024501,
                  "_deepnote_index_column": 2072
                },
                {
                  "datetime": "2025-03-25 21:05:00+00:00",
                  "move_from_bottom": 0.0426146890980416,
                  "EMA_slope": 0.3693727898280485,
                  "volume": 73,
                  "bearish_2": 0.4486704170703888,
                  "bullish_1": 0.5278693437576294,
                  "EMA_slope_60": -0.199809176614508,
                  "_deepnote_index_column": 2073
                },
                {
                  "datetime": "2025-03-25 21:10:00+00:00",
                  "move_from_bottom": 0.0352060480284577,
                  "EMA_slope": -0.1245017681358149,
                  "volume": 39,
                  "bearish_2": 0.4421213865280151,
                  "bullish_1": 0.4996204376220703,
                  "EMA_slope_60": -0.2621105171074305,
                  "_deepnote_index_column": 2074
                },
                {
                  "datetime": "2025-03-25 21:15:00+00:00",
                  "move_from_bottom": 0.020385470719042,
                  "EMA_slope": -0.1596014145088702,
                  "volume": 21,
                  "bearish_2": 0.5053015947341919,
                  "bullish_1": 0.4617070853710174,
                  "EMA_slope_60": -0.263352788217162,
                  "_deepnote_index_column": 2075
                },
                {
                  "datetime": "2025-03-25 21:20:00+00:00",
                  "move_from_bottom": 0.0166796397197632,
                  "EMA_slope": -0.2076811316073872,
                  "volume": 7,
                  "bearish_2": 0.4975976645946502,
                  "bullish_1": 0.4291557967662811,
                  "EMA_slope_60": -0.2678330246690166,
                  "_deepnote_index_column": 2076
                },
                {
                  "datetime": "2025-03-25 21:25:00+00:00",
                  "move_from_bottom": 0.0176061232243118,
                  "EMA_slope": -0.2061449052853277,
                  "volume": 14,
                  "bearish_2": 0.4438101947307586,
                  "bullish_1": 0.4441014230251312,
                  "EMA_slope_60": -0.2656089900629013,
                  "_deepnote_index_column": 2077
                },
                {
                  "datetime": "2025-03-25 21:30:00+00:00",
                  "move_from_bottom": 0.0148266211983494,
                  "EMA_slope": -0.1649159242278983,
                  "volume": 3,
                  "bearish_2": 0.4584774076938629,
                  "bullish_1": 0.4518885016441345,
                  "EMA_slope_60": -0.256900492722707,
                  "_deepnote_index_column": 2078
                }
              ],
              "type": "dataframe"
            },
            "text/plain": "                       datetime  move_from_bottom  EMA_slope  volume  \\\n2019  2025-03-25 16:35:00+00:00          0.146118   0.530317     428   \n2020  2025-03-25 16:40:00+00:00          0.146118   0.164254     503   \n2021  2025-03-25 16:45:00+00:00          0.142424   0.511403     390   \n2022  2025-03-25 16:50:00+00:00          0.114711  -0.110878     578   \n2023  2025-03-25 16:55:00+00:00          0.096227  -0.708702     536   \n2024  2025-03-25 17:00:00+00:00          0.140577  -0.526962     609   \n2025  2025-03-25 17:05:00+00:00          0.182119   0.538431     563   \n2026  2025-03-25 17:10:00+00:00          0.155351   0.910745     458   \n2027  2025-03-25 17:15:00+00:00          0.135035   0.288596     449   \n2028  2025-03-25 17:20:00+00:00          0.134111   0.250877     474   \n2029  2025-03-25 17:25:00+00:00          0.127645  -0.199299     419   \n2030  2025-03-25 17:30:00+00:00          0.116559  -0.259439     355   \n2031  2025-03-25 17:35:00+00:00          0.135035  -0.167551     440   \n2032  2025-03-25 17:40:00+00:00          0.112863  -0.354041     393   \n2033  2025-03-25 17:45:00+00:00          0.125798  -0.263233     299   \n2034  2025-03-25 17:50:00+00:00          0.097151  -0.550586     422   \n2035  2025-03-25 17:55:00+00:00          0.114711  -0.480469     350   \n2036  2025-03-25 18:00:00+00:00          0.112863   0.195625     498   \n2037  2025-03-25 18:05:00+00:00          0.094378  -0.563500     345   \n2038  2025-03-25 18:10:00+00:00          0.109166  -0.330800     338   \n2039  2025-03-25 18:15:00+00:00          0.088831  -0.224640     244   \n2040  2025-03-25 18:20:00+00:00          0.079585  -0.459712     229   \n2041  2025-03-25 18:25:00+00:00          0.059238  -0.687770     250   \n2042  2025-03-25 18:30:00+00:00          0.060163  -0.950216     339   \n2043  2025-03-25 18:35:00+00:00          0.064788  -0.380173     219   \n2044  2025-03-25 18:40:00+00:00          0.049987  -0.764138     303   \n2045  2025-03-25 18:45:00+00:00          0.038883  -0.591310     306   \n2046  2025-03-25 18:50:00+00:00          0.055538  -0.833048     421   \n2047  2025-03-25 18:55:00+00:00          0.058315  -0.106439     636   \n2048  2025-03-25 19:00:00+00:00          0.040736  -0.845151     538   \n2049  2025-03-25 19:05:00+00:00          0.048139  -0.196121     304   \n2050  2025-03-25 19:10:00+00:00          0.048139  -0.036897     387   \n2051  2025-03-25 19:15:00+00:00          0.054639  -0.969517     436   \n2052  2025-03-25 19:20:00+00:00          0.032424  -1.295614     403   \n2053  2025-03-25 19:25:00+00:00          0.030572  -1.116491     274   \n2054  2025-03-25 19:30:00+00:00          0.060200  -1.433193     303   \n2055  2025-03-25 19:35:00+00:00          0.058348   0.013446     246   \n2056  2025-03-25 19:40:00+00:00          0.075932  -0.209243     323   \n2057  2025-03-25 19:45:00+00:00          0.076858   0.292605     320   \n2058  2025-03-25 19:50:00+00:00          0.072231   0.094084     303   \n2059  2025-03-25 19:55:00+00:00          0.058348  -0.004733     529   \n2060  2025-03-25 20:00:00+00:00          0.045388  -0.363786     254   \n2061  2025-03-25 20:05:00+00:00          0.029647  -0.651029     171   \n2062  2025-03-25 20:10:00+00:00          0.025944  -1.020823     158   \n2063  2025-03-25 20:15:00+00:00          0.040763  -0.476658      74   \n2064  2025-03-25 20:20:00+00:00          0.029649  -0.341327      43   \n2065  2025-03-25 20:25:00+00:00          0.020385  -0.473061      85   \n2066  2025-03-25 20:30:00+00:00          0.020385  -0.538449     102   \n2067  2025-03-25 20:35:00+00:00          0.031501  -0.290759     120   \n2068  2025-03-25 20:40:00+00:00          0.027796  -0.112607     125   \n2069  2025-03-25 20:45:00+00:00          0.025944  -0.070086     140   \n2070  2025-03-25 20:50:00+00:00          0.018533  -0.316069     302   \n2071  2025-03-25 20:55:00+00:00          0.024091  -0.372855     258   \n2072  2025-03-25 21:00:00+00:00          0.038911   0.361716       1   \n2073  2025-03-25 21:05:00+00:00          0.042615   0.369373      73   \n2074  2025-03-25 21:10:00+00:00          0.035206  -0.124502      39   \n2075  2025-03-25 21:15:00+00:00          0.020385  -0.159601      21   \n2076  2025-03-25 21:20:00+00:00          0.016680  -0.207681       7   \n2077  2025-03-25 21:25:00+00:00          0.017606  -0.206145      14   \n2078  2025-03-25 21:30:00+00:00          0.014827  -0.164916       3   \n\n      bearish_2  bullish_1  EMA_slope_60  \n2019   0.619116   0.577352     -0.025045  \n2020   0.598842   0.566834     -0.066847  \n2021   0.541590   0.571819     -0.002360  \n2022   0.548682   0.587958     -0.087529  \n2023   0.577533   0.561118     -0.186298  \n2024   0.590044   0.573960     -0.173633  \n2025   0.507953   0.565051     -0.010563  \n2026   0.562693   0.588922      0.068472  \n2027   0.461325   0.543094     -0.005904  \n2028   0.577496   0.491117     -0.002432  \n2029   0.522163   0.504983     -0.067926  \n2030   0.531085   0.447770     -0.082092  \n2031   0.481499   0.608053     -0.072843  \n2032   0.582508   0.567231     -0.106521  \n2033   0.547458   0.560226     -0.099749  \n2034   0.637973   0.486588     -0.152217  \n2035   0.582345   0.581440     -0.153783  \n2036   0.459461   0.566975     -0.053659  \n2037   0.546178   0.460486     -0.169933  \n2038   0.584229   0.573523     -0.144689  \n2039   0.551372   0.637943     -0.133388  \n2040   0.521249   0.524962     -0.174916  \n2041   0.512834   0.514693     -0.221640  \n2042   0.502746   0.531416     -0.279947  \n2043   0.573759   0.592864     -0.208473  \n2044   0.501708   0.508477     -0.277048  \n2045   0.524829   0.415745     -0.264686  \n2046   0.483086   0.492529     -0.315024  \n2047   0.445745   0.573308     -0.212892  \n2048   0.488076   0.532431     -0.330502  \n2049   0.473013   0.590152     -0.240977  \n2050   0.474964   0.555019     -0.213404  \n2051   0.552172   0.484853     -0.360506  \n2052   0.540996   0.475885     -0.433932  \n2053   0.522609   0.584716     -0.432819  \n2054   0.484047   0.480019     -0.507153  \n2055   0.568438   0.494956     -0.300361  \n2056   0.551058   0.559968     -0.326579  \n2057   0.536630   0.477320     -0.240462  \n2058   0.429381   0.592155     -0.255528  \n2059   0.515319   0.559274     -0.260265  \n2060   0.480480   0.475629     -0.310748  \n2061   0.534481   0.575294     -0.359576  \n2062   0.499069   0.471652     -0.429754  \n2063   0.461969   0.468109     -0.359926  \n2064   0.555299   0.537588     -0.341568  \n2065   0.475263   0.441954     -0.363156  \n2066   0.485281   0.476120     -0.377479  \n2067   0.532939   0.520283     -0.342151  \n2068   0.477707   0.455185     -0.311261  \n2069   0.514278   0.446823     -0.297777  \n2070   0.468884   0.557504     -0.330637  \n2071   0.460611   0.450275     -0.339469  \n2072   0.482859   0.509724     -0.220142  \n2073   0.448670   0.527869     -0.199809  \n2074   0.442121   0.499620     -0.262111  \n2075   0.505302   0.461707     -0.263353  \n2076   0.497598   0.429156     -0.267833  \n2077   0.443810   0.444101     -0.265609  \n2078   0.458477   0.451889     -0.256900  ",
            "text/html": "<div>\n<style scoped>\n    .dataframe tbody tr th:only-of-type {\n        vertical-align: middle;\n    }\n\n    .dataframe tbody tr th {\n        vertical-align: top;\n    }\n\n    .dataframe thead th {\n        text-align: right;\n    }\n</style>\n<table border=\"1\" class=\"dataframe\">\n  <thead>\n    <tr style=\"text-align: right;\">\n      <th></th>\n      <th>datetime</th>\n      <th>move_from_bottom</th>\n      <th>EMA_slope</th>\n      <th>volume</th>\n      <th>bearish_2</th>\n      <th>bullish_1</th>\n      <th>EMA_slope_60</th>\n    </tr>\n  </thead>\n  <tbody>\n    <tr>\n      <th>2019</th>\n      <td>2025-03-25 16:35:00+00:00</td>\n      <td>0.146118</td>\n      <td>0.530317</td>\n      <td>428</td>\n      <td>0.619116</td>\n      <td>0.577352</td>\n      <td>-0.025045</td>\n    </tr>\n    <tr>\n      <th>2020</th>\n      <td>2025-03-25 16:40:00+00:00</td>\n      <td>0.146118</td>\n      <td>0.164254</td>\n      <td>503</td>\n      <td>0.598842</td>\n      <td>0.566834</td>\n      <td>-0.066847</td>\n    </tr>\n    <tr>\n      <th>2021</th>\n      <td>2025-03-25 16:45:00+00:00</td>\n      <td>0.142424</td>\n      <td>0.511403</td>\n      <td>390</td>\n      <td>0.541590</td>\n      <td>0.571819</td>\n      <td>-0.002360</td>\n    </tr>\n    <tr>\n      <th>2022</th>\n      <td>2025-03-25 16:50:00+00:00</td>\n      <td>0.114711</td>\n      <td>-0.110878</td>\n      <td>578</td>\n      <td>0.548682</td>\n      <td>0.587958</td>\n      <td>-0.087529</td>\n    </tr>\n    <tr>\n      <th>2023</th>\n      <td>2025-03-25 16:55:00+00:00</td>\n      <td>0.096227</td>\n      <td>-0.708702</td>\n      <td>536</td>\n      <td>0.577533</td>\n      <td>0.561118</td>\n      <td>-0.186298</td>\n    </tr>\n    <tr>\n      <th>2024</th>\n      <td>2025-03-25 17:00:00+00:00</td>\n      <td>0.140577</td>\n      <td>-0.526962</td>\n      <td>609</td>\n      <td>0.590044</td>\n      <td>0.573960</td>\n      <td>-0.173633</td>\n    </tr>\n    <tr>\n      <th>2025</th>\n      <td>2025-03-25 17:05:00+00:00</td>\n      <td>0.182119</td>\n      <td>0.538431</td>\n      <td>563</td>\n      <td>0.507953</td>\n      <td>0.565051</td>\n      <td>-0.010563</td>\n    </tr>\n    <tr>\n      <th>2026</th>\n      <td>2025-03-25 17:10:00+00:00</td>\n      <td>0.155351</td>\n      <td>0.910745</td>\n      <td>458</td>\n      <td>0.562693</td>\n      <td>0.588922</td>\n      <td>0.068472</td>\n    </tr>\n    <tr>\n      <th>2027</th>\n      <td>2025-03-25 17:15:00+00:00</td>\n      <td>0.135035</td>\n      <td>0.288596</td>\n      <td>449</td>\n      <td>0.461325</td>\n      <td>0.543094</td>\n      <td>-0.005904</td>\n    </tr>\n    <tr>\n      <th>2028</th>\n      <td>2025-03-25 17:20:00+00:00</td>\n      <td>0.134111</td>\n      <td>0.250877</td>\n      <td>474</td>\n      <td>0.577496</td>\n      <td>0.491117</td>\n      <td>-0.002432</td>\n    </tr>\n    <tr>\n      <th>2029</th>\n      <td>2025-03-25 17:25:00+00:00</td>\n      <td>0.127645</td>\n      <td>-0.199299</td>\n      <td>419</td>\n      <td>0.522163</td>\n      <td>0.504983</td>\n      <td>-0.067926</td>\n    </tr>\n    <tr>\n      <th>2030</th>\n      <td>2025-03-25 17:30:00+00:00</td>\n      <td>0.116559</td>\n      <td>-0.259439</td>\n      <td>355</td>\n      <td>0.531085</td>\n      <td>0.447770</td>\n      <td>-0.082092</td>\n    </tr>\n    <tr>\n      <th>2031</th>\n      <td>2025-03-25 17:35:00+00:00</td>\n      <td>0.135035</td>\n      <td>-0.167551</td>\n      <td>440</td>\n      <td>0.481499</td>\n      <td>0.608053</td>\n      <td>-0.072843</td>\n    </tr>\n    <tr>\n      <th>2032</th>\n      <td>2025-03-25 17:40:00+00:00</td>\n      <td>0.112863</td>\n      <td>-0.354041</td>\n      <td>393</td>\n      <td>0.582508</td>\n      <td>0.567231</td>\n      <td>-0.106521</td>\n    </tr>\n    <tr>\n      <th>2033</th>\n      <td>2025-03-25 17:45:00+00:00</td>\n      <td>0.125798</td>\n      <td>-0.263233</td>\n      <td>299</td>\n      <td>0.547458</td>\n      <td>0.560226</td>\n      <td>-0.099749</td>\n    </tr>\n    <tr>\n      <th>2034</th>\n      <td>2025-03-25 17:50:00+00:00</td>\n      <td>0.097151</td>\n      <td>-0.550586</td>\n      <td>422</td>\n      <td>0.637973</td>\n      <td>0.486588</td>\n      <td>-0.152217</td>\n    </tr>\n    <tr>\n      <th>2035</th>\n      <td>2025-03-25 17:55:00+00:00</td>\n      <td>0.114711</td>\n      <td>-0.480469</td>\n      <td>350</td>\n      <td>0.582345</td>\n      <td>0.581440</td>\n      <td>-0.153783</td>\n    </tr>\n    <tr>\n      <th>2036</th>\n      <td>2025-03-25 18:00:00+00:00</td>\n      <td>0.112863</td>\n      <td>0.195625</td>\n      <td>498</td>\n      <td>0.459461</td>\n      <td>0.566975</td>\n      <td>-0.053659</td>\n    </tr>\n    <tr>\n      <th>2037</th>\n      <td>2025-03-25 18:05:00+00:00</td>\n      <td>0.094378</td>\n      <td>-0.563500</td>\n      <td>345</td>\n      <td>0.546178</td>\n      <td>0.460486</td>\n      <td>-0.169933</td>\n    </tr>\n    <tr>\n      <th>2038</th>\n      <td>2025-03-25 18:10:00+00:00</td>\n      <td>0.109166</td>\n      <td>-0.330800</td>\n      <td>338</td>\n      <td>0.584229</td>\n      <td>0.573523</td>\n      <td>-0.144689</td>\n    </tr>\n    <tr>\n      <th>2039</th>\n      <td>2025-03-25 18:15:00+00:00</td>\n      <td>0.088831</td>\n      <td>-0.224640</td>\n      <td>244</td>\n      <td>0.551372</td>\n      <td>0.637943</td>\n      <td>-0.133388</td>\n    </tr>\n    <tr>\n      <th>2040</th>\n      <td>2025-03-25 18:20:00+00:00</td>\n      <td>0.079585</td>\n      <td>-0.459712</td>\n      <td>229</td>\n      <td>0.521249</td>\n      <td>0.524962</td>\n      <td>-0.174916</td>\n    </tr>\n    <tr>\n      <th>2041</th>\n      <td>2025-03-25 18:25:00+00:00</td>\n      <td>0.059238</td>\n      <td>-0.687770</td>\n      <td>250</td>\n      <td>0.512834</td>\n      <td>0.514693</td>\n      <td>-0.221640</td>\n    </tr>\n    <tr>\n      <th>2042</th>\n      <td>2025-03-25 18:30:00+00:00</td>\n      <td>0.060163</td>\n      <td>-0.950216</td>\n      <td>339</td>\n      <td>0.502746</td>\n      <td>0.531416</td>\n      <td>-0.279947</td>\n    </tr>\n    <tr>\n      <th>2043</th>\n      <td>2025-03-25 18:35:00+00:00</td>\n      <td>0.064788</td>\n      <td>-0.380173</td>\n      <td>219</td>\n      <td>0.573759</td>\n      <td>0.592864</td>\n      <td>-0.208473</td>\n    </tr>\n    <tr>\n      <th>2044</th>\n      <td>2025-03-25 18:40:00+00:00</td>\n      <td>0.049987</td>\n      <td>-0.764138</td>\n      <td>303</td>\n      <td>0.501708</td>\n      <td>0.508477</td>\n      <td>-0.277048</td>\n    </tr>\n    <tr>\n      <th>2045</th>\n      <td>2025-03-25 18:45:00+00:00</td>\n      <td>0.038883</td>\n      <td>-0.591310</td>\n      <td>306</td>\n      <td>0.524829</td>\n      <td>0.415745</td>\n      <td>-0.264686</td>\n    </tr>\n    <tr>\n      <th>2046</th>\n      <td>2025-03-25 18:50:00+00:00</td>\n      <td>0.055538</td>\n      <td>-0.833048</td>\n      <td>421</td>\n      <td>0.483086</td>\n      <td>0.492529</td>\n      <td>-0.315024</td>\n    </tr>\n    <tr>\n      <th>2047</th>\n      <td>2025-03-25 18:55:00+00:00</td>\n      <td>0.058315</td>\n      <td>-0.106439</td>\n      <td>636</td>\n      <td>0.445745</td>\n      <td>0.573308</td>\n      <td>-0.212892</td>\n    </tr>\n    <tr>\n      <th>2048</th>\n      <td>2025-03-25 19:00:00+00:00</td>\n      <td>0.040736</td>\n      <td>-0.845151</td>\n      <td>538</td>\n      <td>0.488076</td>\n      <td>0.532431</td>\n      <td>-0.330502</td>\n    </tr>\n    <tr>\n      <th>2049</th>\n      <td>2025-03-25 19:05:00+00:00</td>\n      <td>0.048139</td>\n      <td>-0.196121</td>\n      <td>304</td>\n      <td>0.473013</td>\n      <td>0.590152</td>\n      <td>-0.240977</td>\n    </tr>\n    <tr>\n      <th>2050</th>\n      <td>2025-03-25 19:10:00+00:00</td>\n      <td>0.048139</td>\n      <td>-0.036897</td>\n      <td>387</td>\n      <td>0.474964</td>\n      <td>0.555019</td>\n      <td>-0.213404</td>\n    </tr>\n    <tr>\n      <th>2051</th>\n      <td>2025-03-25 19:15:00+00:00</td>\n      <td>0.054639</td>\n      <td>-0.969517</td>\n      <td>436</td>\n      <td>0.552172</td>\n      <td>0.484853</td>\n      <td>-0.360506</td>\n    </tr>\n    <tr>\n      <th>2052</th>\n      <td>2025-03-25 19:20:00+00:00</td>\n      <td>0.032424</td>\n      <td>-1.295614</td>\n      <td>403</td>\n      <td>0.540996</td>\n      <td>0.475885</td>\n      <td>-0.433932</td>\n    </tr>\n    <tr>\n      <th>2053</th>\n      <td>2025-03-25 19:25:00+00:00</td>\n      <td>0.030572</td>\n      <td>-1.116491</td>\n      <td>274</td>\n      <td>0.522609</td>\n      <td>0.584716</td>\n      <td>-0.432819</td>\n    </tr>\n    <tr>\n      <th>2054</th>\n      <td>2025-03-25 19:30:00+00:00</td>\n      <td>0.060200</td>\n      <td>-1.433193</td>\n      <td>303</td>\n      <td>0.484047</td>\n      <td>0.480019</td>\n      <td>-0.507153</td>\n    </tr>\n    <tr>\n      <th>2055</th>\n      <td>2025-03-25 19:35:00+00:00</td>\n      <td>0.058348</td>\n      <td>0.013446</td>\n      <td>246</td>\n      <td>0.568438</td>\n      <td>0.494956</td>\n      <td>-0.300361</td>\n    </tr>\n    <tr>\n      <th>2056</th>\n      <td>2025-03-25 19:40:00+00:00</td>\n      <td>0.075932</td>\n      <td>-0.209243</td>\n      <td>323</td>\n      <td>0.551058</td>\n      <td>0.559968</td>\n      <td>-0.326579</td>\n    </tr>\n    <tr>\n      <th>2057</th>\n      <td>2025-03-25 19:45:00+00:00</td>\n      <td>0.076858</td>\n      <td>0.292605</td>\n      <td>320</td>\n      <td>0.536630</td>\n      <td>0.477320</td>\n      <td>-0.240462</td>\n    </tr>\n    <tr>\n      <th>2058</th>\n      <td>2025-03-25 19:50:00+00:00</td>\n      <td>0.072231</td>\n      <td>0.094084</td>\n      <td>303</td>\n      <td>0.429381</td>\n      <td>0.592155</td>\n      <td>-0.255528</td>\n    </tr>\n    <tr>\n      <th>2059</th>\n      <td>2025-03-25 19:55:00+00:00</td>\n      <td>0.058348</td>\n      <td>-0.004733</td>\n      <td>529</td>\n      <td>0.515319</td>\n      <td>0.559274</td>\n      <td>-0.260265</td>\n    </tr>\n    <tr>\n      <th>2060</th>\n      <td>2025-03-25 20:00:00+00:00</td>\n      <td>0.045388</td>\n      <td>-0.363786</td>\n      <td>254</td>\n      <td>0.480480</td>\n      <td>0.475629</td>\n      <td>-0.310748</td>\n    </tr>\n    <tr>\n      <th>2061</th>\n      <td>2025-03-25 20:05:00+00:00</td>\n      <td>0.029647</td>\n      <td>-0.651029</td>\n      <td>171</td>\n      <td>0.534481</td>\n      <td>0.575294</td>\n      <td>-0.359576</td>\n    </tr>\n    <tr>\n      <th>2062</th>\n      <td>2025-03-25 20:10:00+00:00</td>\n      <td>0.025944</td>\n      <td>-1.020823</td>\n      <td>158</td>\n      <td>0.499069</td>\n      <td>0.471652</td>\n      <td>-0.429754</td>\n    </tr>\n    <tr>\n      <th>2063</th>\n      <td>2025-03-25 20:15:00+00:00</td>\n      <td>0.040763</td>\n      <td>-0.476658</td>\n      <td>74</td>\n      <td>0.461969</td>\n      <td>0.468109</td>\n      <td>-0.359926</td>\n    </tr>\n    <tr>\n      <th>2064</th>\n      <td>2025-03-25 20:20:00+00:00</td>\n      <td>0.029649</td>\n      <td>-0.341327</td>\n      <td>43</td>\n      <td>0.555299</td>\n      <td>0.537588</td>\n      <td>-0.341568</td>\n    </tr>\n    <tr>\n      <th>2065</th>\n      <td>2025-03-25 20:25:00+00:00</td>\n      <td>0.020385</td>\n      <td>-0.473061</td>\n      <td>85</td>\n      <td>0.475263</td>\n      <td>0.441954</td>\n      <td>-0.363156</td>\n    </tr>\n    <tr>\n      <th>2066</th>\n      <td>2025-03-25 20:30:00+00:00</td>\n      <td>0.020385</td>\n      <td>-0.538449</td>\n      <td>102</td>\n      <td>0.485281</td>\n      <td>0.476120</td>\n      <td>-0.377479</td>\n    </tr>\n    <tr>\n      <th>2067</th>\n      <td>2025-03-25 20:35:00+00:00</td>\n      <td>0.031501</td>\n      <td>-0.290759</td>\n      <td>120</td>\n      <td>0.532939</td>\n      <td>0.520283</td>\n      <td>-0.342151</td>\n    </tr>\n    <tr>\n      <th>2068</th>\n      <td>2025-03-25 20:40:00+00:00</td>\n      <td>0.027796</td>\n      <td>-0.112607</td>\n      <td>125</td>\n      <td>0.477707</td>\n      <td>0.455185</td>\n      <td>-0.311261</td>\n    </tr>\n    <tr>\n      <th>2069</th>\n      <td>2025-03-25 20:45:00+00:00</td>\n      <td>0.025944</td>\n      <td>-0.070086</td>\n      <td>140</td>\n      <td>0.514278</td>\n      <td>0.446823</td>\n      <td>-0.297777</td>\n    </tr>\n    <tr>\n      <th>2070</th>\n      <td>2025-03-25 20:50:00+00:00</td>\n      <td>0.018533</td>\n      <td>-0.316069</td>\n      <td>302</td>\n      <td>0.468884</td>\n      <td>0.557504</td>\n      <td>-0.330637</td>\n    </tr>\n    <tr>\n      <th>2071</th>\n      <td>2025-03-25 20:55:00+00:00</td>\n      <td>0.024091</td>\n      <td>-0.372855</td>\n      <td>258</td>\n      <td>0.460611</td>\n      <td>0.450275</td>\n      <td>-0.339469</td>\n    </tr>\n    <tr>\n      <th>2072</th>\n      <td>2025-03-25 21:00:00+00:00</td>\n      <td>0.038911</td>\n      <td>0.361716</td>\n      <td>1</td>\n      <td>0.482859</td>\n      <td>0.509724</td>\n      <td>-0.220142</td>\n    </tr>\n    <tr>\n      <th>2073</th>\n      <td>2025-03-25 21:05:00+00:00</td>\n      <td>0.042615</td>\n      <td>0.369373</td>\n      <td>73</td>\n      <td>0.448670</td>\n      <td>0.527869</td>\n      <td>-0.199809</td>\n    </tr>\n    <tr>\n      <th>2074</th>\n      <td>2025-03-25 21:10:00+00:00</td>\n      <td>0.035206</td>\n      <td>-0.124502</td>\n      <td>39</td>\n      <td>0.442121</td>\n      <td>0.499620</td>\n      <td>-0.262111</td>\n    </tr>\n    <tr>\n      <th>2075</th>\n      <td>2025-03-25 21:15:00+00:00</td>\n      <td>0.020385</td>\n      <td>-0.159601</td>\n      <td>21</td>\n      <td>0.505302</td>\n      <td>0.461707</td>\n      <td>-0.263353</td>\n    </tr>\n    <tr>\n      <th>2076</th>\n      <td>2025-03-25 21:20:00+00:00</td>\n      <td>0.016680</td>\n      <td>-0.207681</td>\n      <td>7</td>\n      <td>0.497598</td>\n      <td>0.429156</td>\n      <td>-0.267833</td>\n    </tr>\n    <tr>\n      <th>2077</th>\n      <td>2025-03-25 21:25:00+00:00</td>\n      <td>0.017606</td>\n      <td>-0.206145</td>\n      <td>14</td>\n      <td>0.443810</td>\n      <td>0.444101</td>\n      <td>-0.265609</td>\n    </tr>\n    <tr>\n      <th>2078</th>\n      <td>2025-03-25 21:30:00+00:00</td>\n      <td>0.014827</td>\n      <td>-0.164916</td>\n      <td>3</td>\n      <td>0.458477</td>\n      <td>0.451889</td>\n      <td>-0.256900</td>\n    </tr>\n  </tbody>\n</table>\n</div>"
          },
          "metadata": {}
        }
      ],
      "outputs_reference": null,
      "content_dependencies": null
    },
    {
      "cell_type": "code",
      "metadata": {
        "source_hash": "a7585586",
        "execution_start": 1743184867825,
        "execution_millis": 684,
        "is_output_hidden": true,
        "sql_integration_id": "",
        "execution_context_id": "8e2f0a54-20c5-4172-962a-089e0b96e208",
        "deepnote_variable_name": "",
        "deepnote_app_is_output_hidden": true,
        "cell_id": "79c36be678ba449984b99f4355689107",
        "deepnote_cell_type": "code"
      },
      "source": "import numpy as np\nfrom sklearn.cluster import KMeans\nfrom scipy.signal import argrelextrema\n\n# Create a function to identify supply and demand zones\ndef identify_zones(df, window=20):\n    # Calculate local maxima and minima\n    df['local_max'] = df['High'].rolling(window=window, center=True).apply(lambda x: 1 if x.iloc[len(x)//2] == max(x) else 0)\n    df['local_min'] = df['Low'].rolling(window=window, center=True).apply(lambda x: 1 if x.iloc[len(x)//2] == min(x) else 0)\n    \n    # Identify price levels where reversals occur\n    max_points = df[df['local_max'] == 1][['datetime', 'High']].copy()\n    min_points = df[df['local_min'] == 1][['datetime', 'Low']].copy()\n    \n    # Use KMeans to cluster price levels into zones\n    if len(max_points) > 3:  # Need at least 2 points for 2 zones\n        kmeans_supply = KMeans(n_clusters=3, random_state=42)\n        max_points['supply_zone'] = kmeans_supply.fit_predict(max_points[['High']])\n        supply_zones = max_points.groupby('supply_zone')['High'].mean()\n    else:\n        supply_zones = pd.Series([df['High'].max(), df['High'].mean()], index=[0, 1])\n    \n    if len(min_points) > 3:  # Need at least 2 points for 2 zones\n        kmeans_demand = KMeans(n_clusters=3, random_state=42)\n        min_points['demand_zone'] = kmeans_demand.fit_predict(min_points[['Low']])\n        demand_zones = min_points.groupby('demand_zone')['Low'].mean()\n    else:\n        demand_zones = pd.Series([df['Low'].min(), df['Low'].mean()], index=[0, 1])\n    \n    return supply_zones, demand_zones, max_points, min_points\n\n# Apply the function to our dataset\nsupply_zones, demand_zones, max_points, min_points = identify_zones(ss.iloc[-900:])\n",
      "block_group": "4dba54e3f54449e8b5a440ad8a67bcdb",
      "execution_count": 29,
      "outputs": [
        {
          "name": "stderr",
          "text": "/tmp/ipykernel_122/449004522.py:8: SettingWithCopyWarning:\n\n\nA value is trying to be set on a copy of a slice from a DataFrame.\nTry using .loc[row_indexer,col_indexer] = value instead\n\nSee the caveats in the documentation: https://pandas.pydata.org/pandas-docs/stable/user_guide/indexing.html#returning-a-view-versus-a-copy\n\n/tmp/ipykernel_122/449004522.py:9: SettingWithCopyWarning:\n\n\nA value is trying to be set on a copy of a slice from a DataFrame.\nTry using .loc[row_indexer,col_indexer] = value instead\n\nSee the caveats in the documentation: https://pandas.pydata.org/pandas-docs/stable/user_guide/indexing.html#returning-a-view-versus-a-copy\n\n",
          "output_type": "stream"
        }
      ],
      "outputs_reference": null,
      "content_dependencies": null
    },
    {
      "cell_type": "code",
      "metadata": {
        "source_hash": "abf2b7ac",
        "execution_start": 1743184870538,
        "execution_millis": 2,
        "sql_integration_id": "",
        "execution_context_id": "8e2f0a54-20c5-4172-962a-089e0b96e208",
        "deepnote_variable_name": "",
        "cell_id": "36e8e5b6ca14489daa20892c6eb963ab",
        "deepnote_cell_type": "code"
      },
      "source": "# Let's add these zones to our original dataframe and calculate the frequency of reversals\nss['nearest_supply_1'] = supply_zones[0]\nss['nearest_supply_2'] = supply_zones[1]\nss['nearest_demand_1'] = demand_zones[0]\nss['nearest_demand_2'] = demand_zones[1]\nss['nearest_supply_3'] = supply_zones[2]\nss['nearest_demand_3'] = demand_zones[2]\n\n# Calculate the frequency of reversals near each zone\ntolerance = 5  # price points tolerance for considering a reversal near a zone\n\ndef count_reversals_near_zone(price, zone_price, tolerance):\n    return np.abs(price - zone_price) > tolerance\n\n# Count reversals near each zone\nreversal_counts = {\n    'supply_zone_1_reversals': sum(count_reversals_near_zone(max_points['High'], supply_zones[0], tolerance)),\n    'supply_zone_2_reversals': sum(count_reversals_near_zone(max_points['High'], supply_zones[1], tolerance)),\n    'supply_zone_3_reversals': sum(count_reversals_near_zone(max_points['High'], supply_zones[2], tolerance)),\n    'demand_zone_1_reversals': sum(count_reversals_near_zone(min_points['Low'], demand_zones[0], tolerance)),\n    'demand_zone_2_reversals': sum(count_reversals_near_zone(min_points['Low'], demand_zones[1], tolerance)),\n    'demand_zone_3_reversals': sum(count_reversals_near_zone(min_points['Low'], demand_zones[2], tolerance))\n}\n\nprint(\"\\nReversal Frequencies:\")\nfor zone, count in reversal_counts.items():\n    print(f\"{zone}: {count} reversals\")\n",
      "block_group": "287b567afddc44b39e0f1cbd21dde0a1",
      "execution_count": 31,
      "outputs": [
        {
          "name": "stdout",
          "text": "\nReversal Frequencies:\nsupply_zone_1_reversals: 31 reversals\nsupply_zone_2_reversals: 34 reversals\nsupply_zone_3_reversals: 15 reversals\ndemand_zone_1_reversals: 30 reversals\ndemand_zone_2_reversals: 24 reversals\ndemand_zone_3_reversals: 26 reversals\n",
          "output_type": "stream"
        }
      ],
      "outputs_reference": null,
      "content_dependencies": null
    },
    {
      "cell_type": "code",
      "metadata": {
        "source_hash": "376bf2c2",
        "is_code_hidden": true,
        "execution_start": 1743184878419,
        "execution_millis": 556,
        "execution_context_id": "8e2f0a54-20c5-4172-962a-089e0b96e208",
        "deepnote_app_is_code_hidden": true,
        "cell_id": "bd137c342bcd4788956d1209cb6ed853",
        "deepnote_cell_type": "code"
      },
      "source": "import plotly.graph_objects as go\nfrom datetime import datetime\nss = pd.read_csv('/work/base_data_history.csv')\npp = ss.iloc[-250:] \n\n# Create the OHLC candlestick chart\nfig = go.Figure(data=[go.Candlestick(x=pp['datetime'],\n                open=pp['Open'],\n                high=pp['High'],\n                low=pp['Low'],\n                close=pp['Close'])])\n\n# Add supply zones as horizontal lines\nfig.add_hline(y=supply_zones[0], line_dash=\"dash\", line_color=\"red\", annotation_text=\"Supply Zone 1\")\nfig.add_hline(y=supply_zones[1], line_dash=\"dash\", line_color=\"red\", annotation_text=\"Supply Zone 2\")\nfig.add_hline(y=supply_zones[2], line_dash=\"dash\", line_color=\"red\", annotation_text=\"Supply Zone 3\")\n\n# Add demand zones as horizontal lines\nfig.add_hline(y=demand_zones[0], line_dash=\"dash\", line_color=\"green\", annotation_text=\"Demand Zone 1\")\nfig.add_hline(y=demand_zones[1], line_dash=\"dash\", line_color=\"green\", annotation_text=\"Demand Zone 2\")\nfig.add_hline(y=demand_zones[2], line_dash=\"dash\", line_color=\"green\", annotation_text=\"Demand Zone 3\")\n\n# Update layout\nfig.update_layout(\n    title='OHLC Chart with Supply and Demand Zones',\n    yaxis_title='Price',\n    xaxis_title='Date',\n    template='plotly_dark'\n)\n\n# Make the chart more compact and readable\nfig.update_layout(\n    height=600,\n    xaxis_rangeslider_visible=True  \n)\n# Show the plot\nfig.show()",
      "block_group": "9b8e5682826e4405b2d43bd3e465d897",
      "execution_count": 33,
      "outputs": [
        {
          "data": {
            "text/html": "<html>\n<head><meta charset=\"utf-8\" /></head>\n<body>\n    <div>            <script src=\"https://cdnjs.cloudflare.com/ajax/libs/mathjax/2.7.5/MathJax.js?config=TeX-AMS-MML_SVG\"></script><script type=\"text/javascript\">if (window.MathJax && window.MathJax.Hub && window.MathJax.Hub.Config) {window.MathJax.Hub.Config({SVG: {font: \"STIX-Web\"}});}</script>                <script type=\"text/javascript\">window.PlotlyConfig = {MathJaxConfig: 'local'};</script>\n        <script charset=\"utf-8\" src=\"https://cdn.plot.ly/plotly-3.0.0.min.js\"></script>                <div id=\"eba974f4-749b-4a34-b2c0-873f24b2774c\" class=\"plotly-graph-div\" style=\"height:600px; width:100%;\"></div>            <script type=\"text/javascript\">                window.PLOTLYENV=window.PLOTLYENV || {};                                if (document.getElementById(\"eba974f4-749b-4a34-b2c0-873f24b2774c\")) {                    Plotly.newPlot(                        \"eba974f4-749b-4a34-b2c0-873f24b2774c\",                        [{\"close\":{\"dtype\":\"f8\",\"bdata\":\"mpmZmRkYxUAzMzMzsxbFQAEAAACAFsVAZmZmZqYWxUABAAAAgBbFQJqZmZmZFsVAmpmZmdkWxUDNzMzMzBbFQM3MzMzMFsVAzczMzMwWxUCamZmZGRfFQJqZmZmZFsVAMzMzM\\u002fMVxUBmZmZmJhbFQGZmZmZmFsVAMzMzM3MWxUCamZmZGRfFQGZmZmbmFsVAAAAAAMAWxUDNzMzMjBbFQGZmZmbmFsVAZmZmZiYWxUAzMzMzMxbFQM3MzMzMFsVAAQAAAAAXxUDNzMzMzBbFQJqZmZmZFsVAZmZmZqYWxUAzMzMzcxfFQGZmZmYmGMVAAAAAAIAYxUBmZmZm5hfFQGZmZmYmGMVAMzMzM3MYxUAAAAAAwBbFQM3MzMxMFsVAzczMzEwVxUBmZmZmphTFQP\\u002f\\u002f\\u002f\\u002f9\\u002fFcVAZmZmZiYVxUDNzMzMTBTFQM3MzMyME8VAMzMzM7MSxUCamZmZWRPFQDMzMzOzFMVAMzMzM3MVxUAzMzMzMxbFQDMzMzOzFcVAZmZmZuYVxUBmZmZmZhbFQM3MzMwMFcVAzczMzMwUxUCamZmZ2RXFQDMzMzMzFsVAzczMzEwWxUDNzMzMjBXFQDMzMzOzFMVAmpmZmdkUxUCamZmZWRXFQGZmZmYmFcVAZmZmZuYUxUAzMzMz8xTFQGZmZmbmFcVAZmZmZuYUxUAzMzMzsxTFQAAAAABAFMVAMzMzM3MTxUDNzMzMzBPFQAAAAAAAFcVAZmZmZmYVxUBmZmZm5hXFQJqZmZmZFcVAzczMzAwWxUAzMzMzMxXFQGZmZmZmFcVAmpmZmZkUxUAAAAAAABXFQDMzMzMzFcVAZmZmZuYUxUAAAAAAABXFQAAAAAAAFMVAAAAAAAAUxUAzMzMzsxPFQGZmZmamEsVAZmZmZuYRxUBmZmZm5hHFQDMzMzNzEcVAAAAAAIARxUCamZmZGRHFQJqZmZlZEsVAZmZmZuYSxUAAAAAAgBLFQJqZmZkZEsVAzczMzEwSxUCamZmZGRPFQAAAAAAAE8VAAAAAAAASxUAzMzMzMxLFQM3MzMzMEcVAAAAAAMASxUBmZmZm5hLFQDMzMzMzE8VAmpmZmVkSxUCamZmZmRHFQM3MzMxMEsVAAAAAAIATxUAzMzMzcxPFQDMzMzOzEsVAzczMzIwRxUBmZmZm5hDFQGZmZmamEcVAAAAAAAARxUBmZmZm5hDFQJqZmZmZD8VAMzMzM7MRxUDNzMzMzBHFQDMzMzOzEMVAmpmZmZkQxUAAAAAAgBDFQAAAAACAEsVAAAAAAEATxUDNzMzMTBXFQJqZmZnZFcVAMzMzM7MXxUCamZmZmRbFQGZmZmYmFcVAmpmZmdkTxUBmZmZm5hLFQJqZmZnZEcVAMzMzM7MRxUAzMzMzMxXFQAAAAACAE8VAAAAAAIAQxUAzMzMzcxDFQGZmZmbmDsVAMzMzM\\u002fMNxUAzMzMzswzFQDMzMzMzDcVAMzMzM7MMxUAAAAAAgA3FQDMzMzPzDcVAZmZmZiYNxUAAAAAAQAzFQGZmZmamDMVAMzMzMzMMxUCamZmZ2QzFQM3MzMzMCcVAZmZmZuYJxUCamZmZGQrFQP\\u002f\\u002f\\u002f\\u002f9\\u002fC8VAzczMzEwNxUABAAAAAA3FQAAAAADACsVAZmZmZuYKxUAzMzMzswnFQGZmZmbmCcVAZmZmZuYKxUBmZmZmZgvFQJqZmZnZC8VAMzMzMzMMxUCamZmZmQrFQGZmZmZmC8VAmpmZmdkMxUCamZmZGQvFQM3MzMzMCsVAzczMzEwIxUAAAAAAgAfFQAAAAADACcVAMzMzM7MIxUAzMzMzMwjFQM3MzMzMCMVAmpmZmZkJxUAAAAAAAAnFQM3MzMzMCMVAAAAAAMAJxUAAAAAAwArFQJqZmZlZCsVAAAAAAAAKxUAzMzMzcwfFQDMzMzOzB8VAzczMzEwJxUCamZmZGQrFQDMzMzPzCcVAMzMzMzMJxUBmZmZmJg3FQJqZmZlZDcVAzczMzEwOxUAAAAAAgA\\u002fFQM3MzMxMEsVAzczMzIwSxUBmZmZmZhHFQAEAAACAFsVAMzMzM7MUxUAAAAAAQBrFQJqZmZkZHMVAmpmZmRkaxUDNzMzMjBrFQAAAAAAAGsVAZmZmZqYZxUAzMzMzsxnFQP\\u002f\\u002f\\u002f\\u002f9\\u002fH8VAmpmZmZkdxUDNzMzMDCHFQDMzMzMzIsVA\\u002f\\u002f\\u002f\\u002f\\u002f\\u002f8fxUAzMzMzcyTFQM3MzMzMJcVAmpmZmdklxUCamZmZWSfFQM3MzMzMI8VAzczMzAwkxUCamZmZmSXFQAAAAAAAIsVAzczMzIwjxUDNzMzMzCfFQAAAAACAKMVAzczMzMwoxUDNzMzMzCnFQDMzMzMzLcVAMzMzM3MsxUAAAAAAgC3FQJqZmZmZK8VAMzMzM\\u002fMoxUAzMzMz8yXFQDMzMzOzIsVAmpmZmZkkxUCamZmZmSbFQAAAAABAJ8VAAAAAAAAjxUCamZmZGSXFQJqZmZkZKMVAAAAAAIAnxUAzMzMzMyfFQM3MzMxMJMVAMzMzM7MlxUAAAAAAACPFQM3MzMzMI8VAmpmZmdkixUAzMzMzMyHFQJqZmZnZIsVAAAAAAIAixUBmZmZm5h\\u002fFQAAAAABAIMVAmpmZmRkhxUDNzMzMDCXFQGZmZmbmJMVAZmZmZuYlxUDNzMzMTCXFQAAAAAAAI8VAzczMzMwhxUA=\"},\"high\":{\"dtype\":\"f8\",\"bdata\":\"zczMzEwYxUDNzMzMTBjFQJqZmZnZFsVAzczMzMwWxUCamZmZmRbFQJqZmZmZFsVAmpmZmdkWxUBmZmZm5hbFQGZmZmbmFsVAZmZmZuYWxUAzMzMzcxfFQDMzMzPzFsVAAQAAAIAWxUDNzMzMTBbFQGZmZmamFsVAAQAAAIAWxUCamZmZGRfFQGZmZmYmF8VAzczMzAwXxUCamZmZ2RbFQM3MzMwMF8VAZmZmZuYWxUCamZmZmRbFQM3MzMzMFsVAAQAAAAAXxUCamZmZGRfFQM3MzMzMFsVAAQAAAAAXxUAAAAAAABjFQDMzMzMzGMVAzczMzMwYxUAzMzMzcxjFQAAAAACAGMVAmpmZmZkYxUBmZmZmZhjFQM3MzMzMFsVAAAAAAEAWxUCamZmZWRXFQJqZmZmZFcVAmpmZmVkWxUAzMzMzcxXFQDMzMzMzFMVAZmZmZqYTxUBmZmZmZhPFQM3MzMzMFMVAmpmZmZkVxUAzMzMzMxbFQM3MzMxMFsVA\\u002f\\u002f\\u002f\\u002f\\u002f\\u002f8VxUCamZmZGRfFQAEAAACAFsVAmpmZmVkVxUAAAAAAQBbFQDMzMzNzF8VAmpmZmZkWxUAAAAAAQBbFQP\\u002f\\u002f\\u002f\\u002f9\\u002fFcVAzczMzAwVxUABAAAAgBbFQGZmZmZmFcVAZmZmZmYVxUAAAAAAQBXFQDMzMzMzFsVAmpmZmRkWxUAAAAAAABXFQDMzMzOzFMVAZmZmZmYUxUDNzMzMTBTFQJqZmZkZFcVAMzMzM3MVxUBmZmZmZhbFQJqZmZlZFsVAZmZmZmYWxUAzMzMzMxbFQP\\u002f\\u002f\\u002f\\u002f\\u002f\\u002fFcVAzczMzMwVxUAAAAAAQBXFQM3MzMxMFcVAMzMzMzMVxUAzMzMzMxXFQGZmZmYmFcVAzczMzEwUxUCamZmZmRTFQAAAAAAAFMVAAAAAAMASxUBmZmZmphLFQGZmZmbmEcVAMzMzM3MSxUDNzMzMzBHFQJqZmZlZEsVAzczMzEwTxUAAAAAAABPFQDMzMzNzEsVAzczMzEwSxUCamZmZWRPFQDMzMzMzE8VAmpmZmRkTxUCamZmZWRLFQGZmZmYmEsVAzczMzMwSxUAzMzMzMxPFQGZmZmZmE8VAMzMzMzMTxUAAAAAAgBLFQGZmZmZmEsVAmpmZmZkUxUBmZmZmJhTFQAAAAACAE8VAzczMzMwSxUAAAAAAABLFQM3MzMzMEcVAAAAAAIASxUDNzMzMTBHFQJqZmZkZEcVAZmZmZuYRxUDNzMzMzBLFQM3MzMxMEsVAmpmZmdkQxUDNzMzMTBLFQDMzMzOzEsVAmpmZmZkTxUAzMzMzcxXFQAEAAACAFsVAzczMzMwXxUAAAAAAABjFQGZmZmZmF8VA\\u002f\\u002f\\u002f\\u002f\\u002f38VxUAzMzMzsxPFQGZmZmYmE8VAzczMzEwSxUDNzMzMTBbFQAAAAADAFcVAzczMzIwTxUCamZmZmRHFQDMzMzNzEMVAmpmZmRkQxUDNzMzMjA7FQM3MzMwMD8VAMzMzMzMOxUAzMzMzsw3FQAAAAAAADsVAAAAAAIAOxUAAAAAAQA7FQJqZmZmZDcVAzczMzEwNxUDNzMzMDA7FQGZmZmbmDMVAMzMzM7MKxUDNzMzMjArFQJqZmZmZDMVAZmZmZqYNxUDNzMzMzA3FQM3MzMwMDcVAMzMzM7MLxUCamZmZmQvFQJqZmZkZCsVAZmZmZuYKxUAzMzMzswvFQJqZmZnZC8VAMzMzMzMMxUBmZmZmZg3FQJqZmZkZDMVAZmZmZmYNxUBmZmZm5gzFQGZmZmamDMVAzczMzEwLxUAAAAAAQAnFQAAAAAAACsVAzczMzMwJxUDNzMzMDAnFQJqZmZmZCcVAzczMzMwJxUAAAAAAAArFQM3MzMxMCsVAzczMzEwKxUCamZmZGQvFQGZmZmbmCsVAZmZmZmYLxUAzMzMzswrFQAEAAADAB8VAZmZmZiYKxUCamZmZmQrFQJqZmZlZCsVAAAAAAAALxUAAAAAAgA3FQDMzMzOzDsVAZmZmZmYOxUAzMzMzsw\\u002fFQAAAAACAE8VAAAAAAAAUxUAAAAAAgBLFQDMzMzMzGsVAmpmZmZkWxUAAAAAAQBrFQDMzMzPzHMVAmpmZmRkdxUAzMzMzMxzFQAAAAAAAG8VAMzMzM7MaxUAAAAAAQBrFQAEAAACAIMVAmpmZmZkfxUDNzMzMzCHFQGZmZmamIsVAMzMzM7MixUCamZmZmSTFQDMzMzOzJ8VAmpmZmRknxUAzMzMzcyfFQM3MzMzMJ8VAzczMzEwlxUDNzMzMzCbFQJqZmZmZJcVAzczMzAwkxUCamZmZ2SjFQGZmZmbmKMVAmpmZmRkqxUBmZmZm5inFQJqZmZlZLcVAzczMzMwtxUBmZmZmZi7FQGZmZmZmLsVAMzMzM7MrxUCamZmZGSnFQM3MzMyMJsVAMzMzM7MkxUBmZmZmJifFQGZmZmamJ8VAAAAAAEAnxUCamZmZmSXFQJqZmZmZKMVAMzMzMzMoxUBmZmZmZijFQJqZmZlZKMVAZmZmZuYlxUAzMzMzMybFQM3MzMzMJMVAAAAAAAAkxUCamZmZGSPFQJqZmZnZIsVAAAAAAAAkxUCamZmZmSLFQGZmZmZmIMVAmpmZmVkixUAzMzMzMyXFQAAAAACAJsVAzczMzEwmxUDNzMzMDCbFQM3MzMxMJcVAAAAAAAAjxUA=\"},\"low\":{\"dtype\":\"f8\",\"bdata\":\"MzMzM\\u002fMXxUAzMzMzcxbFQGZmZmZmFsVAZmZmZmYWxUAzMzMzMxbFQGZmZmZmFsVAMzMzM3MWxUBmZmZmZhbFQAEAAACAFsVAzczMzMwWxUAzMzMzsxbFQGZmZmZmFsVAZmZmZuYVxUAzMzMz8xXFQJqZmZkZFsVAmpmZmRkWxUAzMzMzMxbFQDMzMzOzFsVAZmZmZqYWxUAzMzMzcxbFQM3MzMyMFsVAzczMzMwVxUCamZmZGRbFQDMzMzMzFsVAMzMzM7MWxUBmZmZmphbFQDMzMzNzFsVAZmZmZmYWxUBmZmZmZhbFQAAAAABAF8VAmpmZmRkYxUDNzMzMzBfFQJqZmZnZF8VAZmZmZiYYxUAzMzMzMxbFQJqZmZnZFcVAmpmZmRkVxUCamZmZGRTFQAAAAAAAFMVAmpmZmRkVxUDNzMzMDBTFQJqZmZkZE8VAZmZmZiYSxUBmZmZmZhLFQM3MzMxME8VAAAAAAAAUxUBmZmZmZhXFQGZmZmbmFMVAZmZmZiYVxUDNzMzMzBXFQGZmZmbmFMVAzczMzEwUxUAAAAAAwBTFQGZmZmZmFcVA\\u002f\\u002f\\u002f\\u002f\\u002f38VxUDNzMzMTBXFQAAAAACAFMVAzczMzMwTxUCamZmZmRTFQAAAAAAAFcVAAAAAAMAUxUDNzMzMjBTFQJqZmZnZFMVAmpmZmdkUxUAzMzMzMxTFQM3MzMzME8VAZmZmZiYTxUDNzMzMTBPFQDMzMzOzE8VAzczMzIwUxUBmZmZmZhXFQP\\u002f\\u002f\\u002f\\u002f9\\u002fFcVAzczMzEwVxUAzMzMz8xTFQGZmZmbmFMVAMzMzM3MUxUCamZmZmRTFQAAAAADAFMVAAAAAAEAUxUAzMzMzcxTFQDMzMzPzE8VAMzMzM3MTxUBmZmZmZhPFQAAAAAAAEsVAMzMzM7MRxUDNzMzMzBHFQGZmZmYmEMVAmpmZmRkRxUBmZmZm5hDFQDMzMzOzEMVAmpmZmVkSxUAAAAAAgBLFQDMzMzOzEcVAmpmZmdkRxUCamZmZGRLFQDMzMzOzEsVAZmZmZuYRxUBmZmZm5hHFQM3MzMxMEcVAzczMzIwRxUDNzMzMDBLFQM3MzMzMEsVAMzMzM\\u002fMRxUBmZmZmZhHFQGZmZmamEcVAZmZmZmYSxUAzMzMzsxLFQDMzMzOzEsVAAAAAAIARxUCamZmZ2RDFQAAAAAAAEcVAMzMzM\\u002fMQxUDNzMzMTBDFQGZmZmZmD8VAZmZmZmYPxUAzMzMzsxHFQJqZmZmZEMVAZmZmZqYPxUAAAAAAABDFQJqZmZnZD8VAZmZmZuYQxUAzMzMz8xHFQDMzMzMzFMVAMzMzM7MVxUAzMzMzMxbFQGZmZmbmFMVAZmZmZmYTxUAAAAAAgBHFQJqZmZkZEcVAzczMzMwOxUAzMzMzsxDFQGZmZmZmE8VAzczMzMwPxUDNzMzMTA\\u002fFQAAAAABADcVAZmZmZuYNxUCamZmZmQvFQDMzMzMzDMVAMzMzM\\u002fMLxUDNzMzMjAvFQAAAAABADcVAzczMzMwMxUAzMzMzcwvFQJqZmZmZC8VAzczMzMwLxUDNzMzMTAvFQJqZmZkZCcVAAAAAAIAIxUCamZmZWQnFQJqZmZmZCcVAmpmZmVkLxUDNzMzMTAzFQM3MzMyMCsVAAAAAAIAKxUCamZmZmQnFQGZmZmamB8VAAAAAAAAJxUCamZmZGQrFQGZmZmbmCcVAmpmZmZkKxUAzMzMz8wnFQGZmZmZmCsVAzczMzEwLxUBmZmZm5grFQGZmZmZmCsVAzczMzEwIxUDNzMzMTAbFQGZmZmZmB8VAMzMzMzMIxUCamZmZGQjFQJqZmZkZCMVAzczMzEwIxUDNzMzMDAjFQDMzMzMzCMVAmpmZmZkIxUAAAAAAgAnFQM3MzMzMCMVAMzMzM\\u002fMJxUBmZmZmZgfFQM3MzMzMBsVAmpmZmRkHxUAzMzMz8wjFQJqZmZmZCMVAzczMzAwJxUCamZmZ2QbFQJqZmZkZDMVAZmZmZmYLxUAAAAAAAA7FQM3MzMxMD8VAmpmZmZkPxUAAAAAAgBDFQDMzMzNzEMVAZmZmZuYRxUCamZmZGRPFQM3MzMxMGsVAmpmZmdkZxUCamZmZGRnFQM3MzMwMGMVAZmZmZmYYxUAAAAAAgBjFQDMzMzOzGcVAmpmZmZkcxUDNzMzMzBzFQJqZmZmZH8VAZmZmZuYexUDNzMzMDB\\u002fFQM3MzMxMJMVAMzMzM7MlxUBmZmZm5iPFQJqZmZmZIsVAmpmZmZkjxUAzMzMzsyPFQJqZmZnZIcVAAAAAAIAhxUDNzMzMjCPFQJqZmZmZJsVAMzMzM7MnxUBmZmZm5ifFQGZmZmbmKcVAzczMzIwrxUDNzMzMTCzFQAAAAACAK8VAmpmZmVkoxUCamZmZ2SXFQJqZmZlZIsVAmpmZmZkhxUBmZmZmZiTFQM3MzMxMJcVAmpmZmdkixUAAAAAAACPFQJqZmZkZJcVAAAAAAMAmxUAAAAAAwCbFQAAAAABAJMVAZmZmZmYkxUBmZmZm5iLFQM3MzMyMIsVAAAAAAAAixUAzMzMzMyHFQGZmZmbmIMVAZmZmZmYixUDNzMzMzB\\u002fFQAAAAAAAHsVAmpmZmRkgxUBmZmZmZiDFQM3MzMzMJMVAZmZmZuYkxUCamZmZGSXFQGZmZmbmIsVAMzMzM3MhxUA=\"},\"open\":{\"dtype\":\"f8\",\"bdata\":\"AAAAAEAYxUAzMzMzMxjFQAAAAADAFsVAMzMzM3MWxUABAAAAgBbFQGZmZmZmFsVAmpmZmZkWxUBmZmZm5hbFQM3MzMzMFsVAZmZmZuYWxUDNzMzMzBbFQDMzMzPzFsVAAQAAAIAWxUD\\u002f\\u002f\\u002f\\u002f\\u002f\\u002fxXFQJqZmZkZFsVAMzMzMzMWxUABAAAAgBbFQM3MzMwMF8VAZmZmZuYWxUAzMzMzsxbFQJqZmZmZFsVAZmZmZuYWxUCamZmZGRbFQDMzMzMzFsVAzczMzMwWxUABAAAAABfFQM3MzMzMFsVAzczMzIwWxUAzMzMzsxbFQGZmZmZmF8VAMzMzMzMYxUAzMzMzcxjFQDMzMzPzF8VAMzMzMzMYxUBmZmZmZhjFQDMzMzOzFsVAAAAAAEAWxUDNzMzMTBXFQJqZmZmZFMVAzczMzIwVxUAzMzMzMxXFQDMzMzMzFMVAZmZmZqYTxUAzMzMzsxLFQAAAAACAE8VAMzMzM7MUxUD\\u002f\\u002f\\u002f\\u002f\\u002ffxXFQDMzMzMzFsVAMzMzM7MVxUBmZmZm5hXFQGZmZmZmFsVAAAAAAAAVxUDNzMzMzBTFQM3MzMzMFcVAMzMzMzMWxUAAAAAAQBbFQP\\u002f\\u002f\\u002f\\u002f9\\u002fFcVAZmZmZqYUxUBmZmZm5hTFQM3MzMxMFcVAMzMzMzMVxUDNzMzMzBTFQGZmZmbmFMVAMzMzM\\u002fMVxUBmZmZm5hTFQDMzMzOzFMVAzczMzEwUxUAAAAAAgBPFQM3MzMzME8VAzczMzAwVxUBmZmZmZhXFQM3MzMzMFcVA\\u002f\\u002f\\u002f\\u002f\\u002f38VxUD\\u002f\\u002f\\u002f\\u002f\\u002f\\u002fxXFQGZmZmYmFcVA\\u002f\\u002f\\u002f\\u002f\\u002f38VxUCamZmZmRTFQAAAAAAAFcVAZmZmZiYVxUAzMzMz8xTFQDMzMzPzFMVAZmZmZuYTxUAAAAAAABTFQAAAAADAE8VAAAAAAMASxUBmZmZm5hHFQJqZmZnZEcVAAAAAAIARxUAAAAAAgBHFQJqZmZkZEcVAZmZmZmYSxUBmZmZm5hLFQGZmZmZmEsVAmpmZmRkSxUAAAAAAQBLFQJqZmZkZE8VAzczMzAwTxUDNzMzMDBLFQGZmZmYmEsVAzczMzMwRxUCamZmZmRLFQJqZmZnZEsVAMzMzMzMTxUDNzMzMTBLFQGZmZmamEcVAZmZmZmYSxUAAAAAAgBPFQGZmZmZmE8VAMzMzM7MSxUAAAAAAgBHFQAAAAAAAEcVAMzMzM7MRxUAAAAAAABHFQGZmZmbmEMVAzczMzIwPxUAzMzMzsxHFQM3MzMzMEcVAMzMzM7MQxUDNzMzMzBDFQAAAAACAEMVAZmZmZmYSxUDNzMzMTBPFQAAAAABAFcVAZmZmZuYVxUAzMzMzsxfFQM3MzMyMFsVAmpmZmRkVxUAzMzMzsxPFQJqZmZnZEsVAMzMzM7MRxUAzMzMzcxHFQAAAAABAFcVAzczMzIwTxUAzMzMzcxDFQDMzMzNzEMVAmpmZmdkOxUBmZmZm5g3FQM3MzMzMDMVAMzMzMzMNxUBmZmZmpgzFQM3MzMyMDcVAMzMzM\\u002fMNxUAzMzMzMw3FQJqZmZkZDMVAmpmZmZkMxUBmZmZmJgzFQGZmZmbmDMVAMzMzM7MJxUBmZmZm5gnFQJqZmZkZCsVAZmZmZmYLxUDNzMzMTA3FQAEAAAAADcVAMzMzM7MKxUBmZmZm5grFQDMzMzOzCcVAzczMzMwJxUDNzMzMzArFQM3MzMxMC8VAZmZmZuYLxUDNzMzMTAzFQJqZmZmZCsVAzczMzEwLxUDNzMzMzAzFQDMzMzMzC8VAzczMzMwKxUCamZmZWQjFQJqZmZmZB8VAZmZmZqYJxUAzMzMzswjFQJqZmZkZCMVAmpmZmdkIxUCamZmZmQnFQJqZmZkZCcVAzczMzMwIxUBmZmZmpgnFQM3MzMzMCsVAzczMzEwKxUAzMzMz8wnFQM3MzMxMB8VAzczMzMwHxUAzMzMzMwnFQJqZmZkZCsVAmpmZmdkJxUAAAAAAQAnFQGZmZmYmDcVAZmZmZmYNxUAAAAAAQA7FQAAAAACAD8VAZmZmZiYSxUAAAAAAgBLFQAAAAACAEcVAmpmZmZkWxUCamZmZmRTFQM3MzMxMGsVAZmZmZiYcxUAzMzMz8xnFQJqZmZmZGsVAZmZmZuYZxUAzMzMzsxnFQAAAAADAGcVAzczMzIwfxUAzMzMzsx3FQJqZmZkZIcVAAAAAAEAixUAzMzMz8x\\u002fFQGZmZmZmJMVAAQAAAMAlxUDNzMzMzCXFQGZmZmZmJ8VAmpmZmdkjxUAAAAAAACTFQM3MzMyMJcVAAAAAAAAixUCamZmZmSPFQM3MzMzMJ8VAzczMzIwoxUDNzMzMzCjFQGZmZmbmKcVAZmZmZiYtxUAAAAAAgCzFQDMzMzNzLcVAAAAAAIArxUBmZmZm5ijFQM3MzMwMJsVAmpmZmZkixUAAAAAAgCTFQJqZmZmZJsVAMzMzMzMnxUAAAAAAACPFQJqZmZkZJcVAzczMzAwoxUAAAAAAgCfFQM3MzMxMJ8VAZmZmZmYkxUDNzMzMzCXFQAAAAAAAI8VAMzMzM7MjxUDNzMzMzCLFQDMzMzMzIcVAMzMzM\\u002fMixUBmZmZmZiLFQJqZmZnZH8VAmpmZmVkgxUCamZmZGSHFQJqZmZkZJcVAZmZmZuYkxUBmZmZm5iXFQM3MzMxMJcVAAAAAAAAjxUA=\"},\"x\":[\"2025-03-27 21:10:00+00:00\",\"2025-03-27 21:15:00+00:00\",\"2025-03-27 21:20:00+00:00\",\"2025-03-27 21:25:00+00:00\",\"2025-03-27 21:30:00+00:00\",\"2025-03-27 21:35:00+00:00\",\"2025-03-27 21:40:00+00:00\",\"2025-03-27 21:45:00+00:00\",\"2025-03-27 21:50:00+00:00\",\"2025-03-27 21:55:00+00:00\",\"2025-03-27 22:00:00+00:00\",\"2025-03-27 22:05:00+00:00\",\"2025-03-27 22:10:00+00:00\",\"2025-03-27 22:15:00+00:00\",\"2025-03-27 22:20:00+00:00\",\"2025-03-27 22:25:00+00:00\",\"2025-03-27 22:30:00+00:00\",\"2025-03-27 22:35:00+00:00\",\"2025-03-27 22:40:00+00:00\",\"2025-03-27 22:45:00+00:00\",\"2025-03-27 22:50:00+00:00\",\"2025-03-27 22:55:00+00:00\",\"2025-03-27 23:00:00+00:00\",\"2025-03-27 23:05:00+00:00\",\"2025-03-27 23:10:00+00:00\",\"2025-03-27 23:15:00+00:00\",\"2025-03-27 23:20:00+00:00\",\"2025-03-27 23:25:00+00:00\",\"2025-03-27 23:30:00+00:00\",\"2025-03-27 23:35:00+00:00\",\"2025-03-27 23:40:00+00:00\",\"2025-03-27 23:45:00+00:00\",\"2025-03-27 23:50:00+00:00\",\"2025-03-27 23:55:00+00:00\",\"2025-03-28 00:00:00+00:00\",\"2025-03-28 00:05:00+00:00\",\"2025-03-28 00:10:00+00:00\",\"2025-03-28 00:15:00+00:00\",\"2025-03-28 00:20:00+00:00\",\"2025-03-28 00:25:00+00:00\",\"2025-03-28 00:30:00+00:00\",\"2025-03-28 00:35:00+00:00\",\"2025-03-28 00:40:00+00:00\",\"2025-03-28 00:45:00+00:00\",\"2025-03-28 00:50:00+00:00\",\"2025-03-28 00:55:00+00:00\",\"2025-03-28 01:00:00+00:00\",\"2025-03-28 01:05:00+00:00\",\"2025-03-28 01:10:00+00:00\",\"2025-03-28 01:15:00+00:00\",\"2025-03-28 01:20:00+00:00\",\"2025-03-28 01:25:00+00:00\",\"2025-03-28 01:30:00+00:00\",\"2025-03-28 01:35:00+00:00\",\"2025-03-28 01:40:00+00:00\",\"2025-03-28 01:45:00+00:00\",\"2025-03-28 01:50:00+00:00\",\"2025-03-28 01:55:00+00:00\",\"2025-03-28 02:00:00+00:00\",\"2025-03-28 02:05:00+00:00\",\"2025-03-28 02:10:00+00:00\",\"2025-03-28 02:15:00+00:00\",\"2025-03-28 02:20:00+00:00\",\"2025-03-28 02:25:00+00:00\",\"2025-03-28 02:30:00+00:00\",\"2025-03-28 02:35:00+00:00\",\"2025-03-28 02:40:00+00:00\",\"2025-03-28 02:45:00+00:00\",\"2025-03-28 02:50:00+00:00\",\"2025-03-28 02:55:00+00:00\",\"2025-03-28 03:00:00+00:00\",\"2025-03-28 03:05:00+00:00\",\"2025-03-28 03:10:00+00:00\",\"2025-03-28 03:15:00+00:00\",\"2025-03-28 03:20:00+00:00\",\"2025-03-28 03:25:00+00:00\",\"2025-03-28 03:30:00+00:00\",\"2025-03-28 03:35:00+00:00\",\"2025-03-28 03:40:00+00:00\",\"2025-03-28 03:45:00+00:00\",\"2025-03-28 03:50:00+00:00\",\"2025-03-28 03:55:00+00:00\",\"2025-03-28 04:00:00+00:00\",\"2025-03-28 04:05:00+00:00\",\"2025-03-28 04:10:00+00:00\",\"2025-03-28 04:15:00+00:00\",\"2025-03-28 04:20:00+00:00\",\"2025-03-28 04:25:00+00:00\",\"2025-03-28 04:30:00+00:00\",\"2025-03-28 04:35:00+00:00\",\"2025-03-28 04:40:00+00:00\",\"2025-03-28 04:45:00+00:00\",\"2025-03-28 04:50:00+00:00\",\"2025-03-28 04:55:00+00:00\",\"2025-03-28 05:00:00+00:00\",\"2025-03-28 05:05:00+00:00\",\"2025-03-28 05:10:00+00:00\",\"2025-03-28 05:15:00+00:00\",\"2025-03-28 05:20:00+00:00\",\"2025-03-28 05:25:00+00:00\",\"2025-03-28 05:30:00+00:00\",\"2025-03-28 05:35:00+00:00\",\"2025-03-28 05:40:00+00:00\",\"2025-03-28 05:45:00+00:00\",\"2025-03-28 05:50:00+00:00\",\"2025-03-28 05:55:00+00:00\",\"2025-03-28 06:00:00+00:00\",\"2025-03-28 06:05:00+00:00\",\"2025-03-28 06:10:00+00:00\",\"2025-03-28 06:15:00+00:00\",\"2025-03-28 06:20:00+00:00\",\"2025-03-28 06:25:00+00:00\",\"2025-03-28 06:30:00+00:00\",\"2025-03-28 06:35:00+00:00\",\"2025-03-28 06:40:00+00:00\",\"2025-03-28 06:45:00+00:00\",\"2025-03-28 06:50:00+00:00\",\"2025-03-28 06:55:00+00:00\",\"2025-03-28 07:00:00+00:00\",\"2025-03-28 07:05:00+00:00\",\"2025-03-28 07:10:00+00:00\",\"2025-03-28 07:15:00+00:00\",\"2025-03-28 07:20:00+00:00\",\"2025-03-28 07:25:00+00:00\",\"2025-03-28 07:30:00+00:00\",\"2025-03-28 07:35:00+00:00\",\"2025-03-28 07:40:00+00:00\",\"2025-03-28 07:45:00+00:00\",\"2025-03-28 07:50:00+00:00\",\"2025-03-28 07:55:00+00:00\",\"2025-03-28 08:00:00+00:00\",\"2025-03-28 08:05:00+00:00\",\"2025-03-28 08:10:00+00:00\",\"2025-03-28 08:15:00+00:00\",\"2025-03-28 08:20:00+00:00\",\"2025-03-28 08:25:00+00:00\",\"2025-03-28 08:30:00+00:00\",\"2025-03-28 08:35:00+00:00\",\"2025-03-28 08:40:00+00:00\",\"2025-03-28 08:45:00+00:00\",\"2025-03-28 08:50:00+00:00\",\"2025-03-28 08:55:00+00:00\",\"2025-03-28 09:00:00+00:00\",\"2025-03-28 09:05:00+00:00\",\"2025-03-28 09:10:00+00:00\",\"2025-03-28 09:15:00+00:00\",\"2025-03-28 09:20:00+00:00\",\"2025-03-28 09:25:00+00:00\",\"2025-03-28 09:30:00+00:00\",\"2025-03-28 09:35:00+00:00\",\"2025-03-28 09:40:00+00:00\",\"2025-03-28 09:45:00+00:00\",\"2025-03-28 09:50:00+00:00\",\"2025-03-28 09:55:00+00:00\",\"2025-03-28 10:00:00+00:00\",\"2025-03-28 10:05:00+00:00\",\"2025-03-28 10:10:00+00:00\",\"2025-03-28 10:15:00+00:00\",\"2025-03-28 10:20:00+00:00\",\"2025-03-28 10:25:00+00:00\",\"2025-03-28 10:30:00+00:00\",\"2025-03-28 10:35:00+00:00\",\"2025-03-28 10:40:00+00:00\",\"2025-03-28 10:45:00+00:00\",\"2025-03-28 10:50:00+00:00\",\"2025-03-28 10:55:00+00:00\",\"2025-03-28 11:00:00+00:00\",\"2025-03-28 11:05:00+00:00\",\"2025-03-28 11:10:00+00:00\",\"2025-03-28 11:15:00+00:00\",\"2025-03-28 11:20:00+00:00\",\"2025-03-28 11:25:00+00:00\",\"2025-03-28 11:30:00+00:00\",\"2025-03-28 11:35:00+00:00\",\"2025-03-28 11:40:00+00:00\",\"2025-03-28 11:45:00+00:00\",\"2025-03-28 11:50:00+00:00\",\"2025-03-28 11:55:00+00:00\",\"2025-03-28 12:00:00+00:00\",\"2025-03-28 12:05:00+00:00\",\"2025-03-28 12:10:00+00:00\",\"2025-03-28 12:15:00+00:00\",\"2025-03-28 12:20:00+00:00\",\"2025-03-28 12:25:00+00:00\",\"2025-03-28 12:30:00+00:00\",\"2025-03-28 12:35:00+00:00\",\"2025-03-28 12:40:00+00:00\",\"2025-03-28 12:45:00+00:00\",\"2025-03-28 12:50:00+00:00\",\"2025-03-28 12:55:00+00:00\",\"2025-03-28 13:00:00+00:00\",\"2025-03-28 13:05:00+00:00\",\"2025-03-28 13:10:00+00:00\",\"2025-03-28 13:15:00+00:00\",\"2025-03-28 13:20:00+00:00\",\"2025-03-28 13:25:00+00:00\",\"2025-03-28 13:30:00+00:00\",\"2025-03-28 13:35:00+00:00\",\"2025-03-28 13:40:00+00:00\",\"2025-03-28 13:45:00+00:00\",\"2025-03-28 13:50:00+00:00\",\"2025-03-28 13:55:00+00:00\",\"2025-03-28 14:00:00+00:00\",\"2025-03-28 14:05:00+00:00\",\"2025-03-28 14:10:00+00:00\",\"2025-03-28 14:15:00+00:00\",\"2025-03-28 14:20:00+00:00\",\"2025-03-28 14:25:00+00:00\",\"2025-03-28 14:30:00+00:00\",\"2025-03-28 14:35:00+00:00\",\"2025-03-28 14:40:00+00:00\",\"2025-03-28 14:45:00+00:00\",\"2025-03-28 14:50:00+00:00\",\"2025-03-28 14:55:00+00:00\",\"2025-03-28 15:00:00+00:00\",\"2025-03-28 15:05:00+00:00\",\"2025-03-28 15:10:00+00:00\",\"2025-03-28 15:15:00+00:00\",\"2025-03-28 15:20:00+00:00\",\"2025-03-28 15:25:00+00:00\",\"2025-03-28 15:30:00+00:00\",\"2025-03-28 15:35:00+00:00\",\"2025-03-28 15:40:00+00:00\",\"2025-03-28 15:45:00+00:00\",\"2025-03-28 15:50:00+00:00\",\"2025-03-28 15:55:00+00:00\",\"2025-03-28 16:00:00+00:00\",\"2025-03-28 16:05:00+00:00\",\"2025-03-28 16:10:00+00:00\",\"2025-03-28 16:15:00+00:00\",\"2025-03-28 16:20:00+00:00\",\"2025-03-28 16:25:00+00:00\",\"2025-03-28 16:30:00+00:00\",\"2025-03-28 16:35:00+00:00\",\"2025-03-28 16:40:00+00:00\",\"2025-03-28 16:45:00+00:00\",\"2025-03-28 16:50:00+00:00\",\"2025-03-28 16:55:00+00:00\",\"2025-03-28 17:00:00+00:00\",\"2025-03-28 17:05:00+00:00\",\"2025-03-28 17:10:00+00:00\",\"2025-03-28 17:15:00+00:00\",\"2025-03-28 17:20:00+00:00\",\"2025-03-28 17:25:00+00:00\",\"2025-03-28 17:30:00+00:00\",\"2025-03-28 17:35:00+00:00\",\"2025-03-28 17:40:00+00:00\",\"2025-03-28 17:45:00+00:00\",\"2025-03-28 17:50:00+00:00\",\"2025-03-28 17:55:00+00:00\"],\"type\":\"candlestick\"}],                        {\"template\":{\"data\":{\"barpolar\":[{\"marker\":{\"line\":{\"color\":\"rgb(17,17,17)\",\"width\":0.5},\"pattern\":{\"fillmode\":\"overlay\",\"size\":10,\"solidity\":0.2}},\"type\":\"barpolar\"}],\"bar\":[{\"error_x\":{\"color\":\"#f2f5fa\"},\"error_y\":{\"color\":\"#f2f5fa\"},\"marker\":{\"line\":{\"color\":\"rgb(17,17,17)\",\"width\":0.5},\"pattern\":{\"fillmode\":\"overlay\",\"size\":10,\"solidity\":0.2}},\"type\":\"bar\"}],\"carpet\":[{\"aaxis\":{\"endlinecolor\":\"#A2B1C6\",\"gridcolor\":\"#506784\",\"linecolor\":\"#506784\",\"minorgridcolor\":\"#506784\",\"startlinecolor\":\"#A2B1C6\"},\"baxis\":{\"endlinecolor\":\"#A2B1C6\",\"gridcolor\":\"#506784\",\"linecolor\":\"#506784\",\"minorgridcolor\":\"#506784\",\"startlinecolor\":\"#A2B1C6\"},\"type\":\"carpet\"}],\"choropleth\":[{\"colorbar\":{\"outlinewidth\":0,\"ticks\":\"\"},\"type\":\"choropleth\"}],\"contourcarpet\":[{\"colorbar\":{\"outlinewidth\":0,\"ticks\":\"\"},\"type\":\"contourcarpet\"}],\"contour\":[{\"colorbar\":{\"outlinewidth\":0,\"ticks\":\"\"},\"colorscale\":[[0.0,\"#0d0887\"],[0.1111111111111111,\"#46039f\"],[0.2222222222222222,\"#7201a8\"],[0.3333333333333333,\"#9c179e\"],[0.4444444444444444,\"#bd3786\"],[0.5555555555555556,\"#d8576b\"],[0.6666666666666666,\"#ed7953\"],[0.7777777777777778,\"#fb9f3a\"],[0.8888888888888888,\"#fdca26\"],[1.0,\"#f0f921\"]],\"type\":\"contour\"}],\"heatmap\":[{\"colorbar\":{\"outlinewidth\":0,\"ticks\":\"\"},\"colorscale\":[[0.0,\"#0d0887\"],[0.1111111111111111,\"#46039f\"],[0.2222222222222222,\"#7201a8\"],[0.3333333333333333,\"#9c179e\"],[0.4444444444444444,\"#bd3786\"],[0.5555555555555556,\"#d8576b\"],[0.6666666666666666,\"#ed7953\"],[0.7777777777777778,\"#fb9f3a\"],[0.8888888888888888,\"#fdca26\"],[1.0,\"#f0f921\"]],\"type\":\"heatmap\"}],\"histogram2dcontour\":[{\"colorbar\":{\"outlinewidth\":0,\"ticks\":\"\"},\"colorscale\":[[0.0,\"#0d0887\"],[0.1111111111111111,\"#46039f\"],[0.2222222222222222,\"#7201a8\"],[0.3333333333333333,\"#9c179e\"],[0.4444444444444444,\"#bd3786\"],[0.5555555555555556,\"#d8576b\"],[0.6666666666666666,\"#ed7953\"],[0.7777777777777778,\"#fb9f3a\"],[0.8888888888888888,\"#fdca26\"],[1.0,\"#f0f921\"]],\"type\":\"histogram2dcontour\"}],\"histogram2d\":[{\"colorbar\":{\"outlinewidth\":0,\"ticks\":\"\"},\"colorscale\":[[0.0,\"#0d0887\"],[0.1111111111111111,\"#46039f\"],[0.2222222222222222,\"#7201a8\"],[0.3333333333333333,\"#9c179e\"],[0.4444444444444444,\"#bd3786\"],[0.5555555555555556,\"#d8576b\"],[0.6666666666666666,\"#ed7953\"],[0.7777777777777778,\"#fb9f3a\"],[0.8888888888888888,\"#fdca26\"],[1.0,\"#f0f921\"]],\"type\":\"histogram2d\"}],\"histogram\":[{\"marker\":{\"pattern\":{\"fillmode\":\"overlay\",\"size\":10,\"solidity\":0.2}},\"type\":\"histogram\"}],\"mesh3d\":[{\"colorbar\":{\"outlinewidth\":0,\"ticks\":\"\"},\"type\":\"mesh3d\"}],\"parcoords\":[{\"line\":{\"colorbar\":{\"outlinewidth\":0,\"ticks\":\"\"}},\"type\":\"parcoords\"}],\"pie\":[{\"automargin\":true,\"type\":\"pie\"}],\"scatter3d\":[{\"line\":{\"colorbar\":{\"outlinewidth\":0,\"ticks\":\"\"}},\"marker\":{\"colorbar\":{\"outlinewidth\":0,\"ticks\":\"\"}},\"type\":\"scatter3d\"}],\"scattercarpet\":[{\"marker\":{\"colorbar\":{\"outlinewidth\":0,\"ticks\":\"\"}},\"type\":\"scattercarpet\"}],\"scattergeo\":[{\"marker\":{\"colorbar\":{\"outlinewidth\":0,\"ticks\":\"\"}},\"type\":\"scattergeo\"}],\"scattergl\":[{\"marker\":{\"line\":{\"color\":\"#283442\"}},\"type\":\"scattergl\"}],\"scattermapbox\":[{\"marker\":{\"colorbar\":{\"outlinewidth\":0,\"ticks\":\"\"}},\"type\":\"scattermapbox\"}],\"scattermap\":[{\"marker\":{\"colorbar\":{\"outlinewidth\":0,\"ticks\":\"\"}},\"type\":\"scattermap\"}],\"scatterpolargl\":[{\"marker\":{\"colorbar\":{\"outlinewidth\":0,\"ticks\":\"\"}},\"type\":\"scatterpolargl\"}],\"scatterpolar\":[{\"marker\":{\"colorbar\":{\"outlinewidth\":0,\"ticks\":\"\"}},\"type\":\"scatterpolar\"}],\"scatter\":[{\"marker\":{\"line\":{\"color\":\"#283442\"}},\"type\":\"scatter\"}],\"scatterternary\":[{\"marker\":{\"colorbar\":{\"outlinewidth\":0,\"ticks\":\"\"}},\"type\":\"scatterternary\"}],\"surface\":[{\"colorbar\":{\"outlinewidth\":0,\"ticks\":\"\"},\"colorscale\":[[0.0,\"#0d0887\"],[0.1111111111111111,\"#46039f\"],[0.2222222222222222,\"#7201a8\"],[0.3333333333333333,\"#9c179e\"],[0.4444444444444444,\"#bd3786\"],[0.5555555555555556,\"#d8576b\"],[0.6666666666666666,\"#ed7953\"],[0.7777777777777778,\"#fb9f3a\"],[0.8888888888888888,\"#fdca26\"],[1.0,\"#f0f921\"]],\"type\":\"surface\"}],\"table\":[{\"cells\":{\"fill\":{\"color\":\"#506784\"},\"line\":{\"color\":\"rgb(17,17,17)\"}},\"header\":{\"fill\":{\"color\":\"#2a3f5f\"},\"line\":{\"color\":\"rgb(17,17,17)\"}},\"type\":\"table\"}]},\"layout\":{\"annotationdefaults\":{\"arrowcolor\":\"#f2f5fa\",\"arrowhead\":0,\"arrowwidth\":1},\"autotypenumbers\":\"strict\",\"coloraxis\":{\"colorbar\":{\"outlinewidth\":0,\"ticks\":\"\"}},\"colorscale\":{\"diverging\":[[0,\"#8e0152\"],[0.1,\"#c51b7d\"],[0.2,\"#de77ae\"],[0.3,\"#f1b6da\"],[0.4,\"#fde0ef\"],[0.5,\"#f7f7f7\"],[0.6,\"#e6f5d0\"],[0.7,\"#b8e186\"],[0.8,\"#7fbc41\"],[0.9,\"#4d9221\"],[1,\"#276419\"]],\"sequential\":[[0.0,\"#0d0887\"],[0.1111111111111111,\"#46039f\"],[0.2222222222222222,\"#7201a8\"],[0.3333333333333333,\"#9c179e\"],[0.4444444444444444,\"#bd3786\"],[0.5555555555555556,\"#d8576b\"],[0.6666666666666666,\"#ed7953\"],[0.7777777777777778,\"#fb9f3a\"],[0.8888888888888888,\"#fdca26\"],[1.0,\"#f0f921\"]],\"sequentialminus\":[[0.0,\"#0d0887\"],[0.1111111111111111,\"#46039f\"],[0.2222222222222222,\"#7201a8\"],[0.3333333333333333,\"#9c179e\"],[0.4444444444444444,\"#bd3786\"],[0.5555555555555556,\"#d8576b\"],[0.6666666666666666,\"#ed7953\"],[0.7777777777777778,\"#fb9f3a\"],[0.8888888888888888,\"#fdca26\"],[1.0,\"#f0f921\"]]},\"colorway\":[\"#636efa\",\"#EF553B\",\"#00cc96\",\"#ab63fa\",\"#FFA15A\",\"#19d3f3\",\"#FF6692\",\"#B6E880\",\"#FF97FF\",\"#FECB52\"],\"font\":{\"color\":\"#f2f5fa\"},\"geo\":{\"bgcolor\":\"rgb(17,17,17)\",\"lakecolor\":\"rgb(17,17,17)\",\"landcolor\":\"rgb(17,17,17)\",\"showlakes\":true,\"showland\":true,\"subunitcolor\":\"#506784\"},\"hoverlabel\":{\"align\":\"left\"},\"hovermode\":\"closest\",\"mapbox\":{\"style\":\"dark\"},\"paper_bgcolor\":\"rgb(17,17,17)\",\"plot_bgcolor\":\"rgb(17,17,17)\",\"polar\":{\"angularaxis\":{\"gridcolor\":\"#506784\",\"linecolor\":\"#506784\",\"ticks\":\"\"},\"bgcolor\":\"rgb(17,17,17)\",\"radialaxis\":{\"gridcolor\":\"#506784\",\"linecolor\":\"#506784\",\"ticks\":\"\"}},\"scene\":{\"xaxis\":{\"backgroundcolor\":\"rgb(17,17,17)\",\"gridcolor\":\"#506784\",\"gridwidth\":2,\"linecolor\":\"#506784\",\"showbackground\":true,\"ticks\":\"\",\"zerolinecolor\":\"#C8D4E3\"},\"yaxis\":{\"backgroundcolor\":\"rgb(17,17,17)\",\"gridcolor\":\"#506784\",\"gridwidth\":2,\"linecolor\":\"#506784\",\"showbackground\":true,\"ticks\":\"\",\"zerolinecolor\":\"#C8D4E3\"},\"zaxis\":{\"backgroundcolor\":\"rgb(17,17,17)\",\"gridcolor\":\"#506784\",\"gridwidth\":2,\"linecolor\":\"#506784\",\"showbackground\":true,\"ticks\":\"\",\"zerolinecolor\":\"#C8D4E3\"}},\"shapedefaults\":{\"line\":{\"color\":\"#f2f5fa\"}},\"sliderdefaults\":{\"bgcolor\":\"#C8D4E3\",\"bordercolor\":\"rgb(17,17,17)\",\"borderwidth\":1,\"tickwidth\":0},\"ternary\":{\"aaxis\":{\"gridcolor\":\"#506784\",\"linecolor\":\"#506784\",\"ticks\":\"\"},\"baxis\":{\"gridcolor\":\"#506784\",\"linecolor\":\"#506784\",\"ticks\":\"\"},\"bgcolor\":\"rgb(17,17,17)\",\"caxis\":{\"gridcolor\":\"#506784\",\"linecolor\":\"#506784\",\"ticks\":\"\"}},\"title\":{\"x\":0.05},\"updatemenudefaults\":{\"bgcolor\":\"#506784\",\"borderwidth\":0},\"xaxis\":{\"automargin\":true,\"gridcolor\":\"#283442\",\"linecolor\":\"#506784\",\"ticks\":\"\",\"title\":{\"standoff\":15},\"zerolinecolor\":\"#283442\",\"zerolinewidth\":2},\"yaxis\":{\"automargin\":true,\"gridcolor\":\"#283442\",\"linecolor\":\"#506784\",\"ticks\":\"\",\"title\":{\"standoff\":15},\"zerolinecolor\":\"#283442\",\"zerolinewidth\":2}}},\"shapes\":[{\"line\":{\"color\":\"red\",\"dash\":\"dash\"},\"type\":\"line\",\"x0\":0,\"x1\":1,\"xref\":\"x domain\",\"y0\":10777.616666666667,\"y1\":10777.616666666667,\"yref\":\"y\"},{\"line\":{\"color\":\"red\",\"dash\":\"dash\"},\"type\":\"line\",\"x0\":0,\"x1\":1,\"xref\":\"x domain\",\"y0\":10831.975,\"y1\":10831.975,\"yref\":\"y\"},{\"line\":{\"color\":\"red\",\"dash\":\"dash\"},\"type\":\"line\",\"x0\":0,\"x1\":1,\"xref\":\"x domain\",\"y0\":10797.3,\"y1\":10797.3,\"yref\":\"y\"},{\"line\":{\"color\":\"green\",\"dash\":\"dash\"},\"type\":\"line\",\"x0\":0,\"x1\":1,\"xref\":\"x domain\",\"y0\":10747.74,\"y1\":10747.74,\"yref\":\"y\"},{\"line\":{\"color\":\"green\",\"dash\":\"dash\"},\"type\":\"line\",\"x0\":0,\"x1\":1,\"xref\":\"x domain\",\"y0\":10790.4625,\"y1\":10790.4625,\"yref\":\"y\"},{\"line\":{\"color\":\"green\",\"dash\":\"dash\"},\"type\":\"line\",\"x0\":0,\"x1\":1,\"xref\":\"x domain\",\"y0\":10769.400000000001,\"y1\":10769.400000000001,\"yref\":\"y\"}],\"annotations\":[{\"showarrow\":false,\"text\":\"Supply Zone 1\",\"x\":1,\"xanchor\":\"right\",\"xref\":\"x domain\",\"y\":10777.616666666667,\"yanchor\":\"bottom\",\"yref\":\"y\"},{\"showarrow\":false,\"text\":\"Supply Zone 2\",\"x\":1,\"xanchor\":\"right\",\"xref\":\"x domain\",\"y\":10831.975,\"yanchor\":\"bottom\",\"yref\":\"y\"},{\"showarrow\":false,\"text\":\"Supply Zone 3\",\"x\":1,\"xanchor\":\"right\",\"xref\":\"x domain\",\"y\":10797.3,\"yanchor\":\"bottom\",\"yref\":\"y\"},{\"showarrow\":false,\"text\":\"Demand Zone 1\",\"x\":1,\"xanchor\":\"right\",\"xref\":\"x domain\",\"y\":10747.74,\"yanchor\":\"bottom\",\"yref\":\"y\"},{\"showarrow\":false,\"text\":\"Demand Zone 2\",\"x\":1,\"xanchor\":\"right\",\"xref\":\"x domain\",\"y\":10790.4625,\"yanchor\":\"bottom\",\"yref\":\"y\"},{\"showarrow\":false,\"text\":\"Demand Zone 3\",\"x\":1,\"xanchor\":\"right\",\"xref\":\"x domain\",\"y\":10769.400000000001,\"yanchor\":\"bottom\",\"yref\":\"y\"}],\"title\":{\"text\":\"OHLC Chart with Supply and Demand Zones\"},\"yaxis\":{\"title\":{\"text\":\"Price\"}},\"xaxis\":{\"title\":{\"text\":\"Date\"},\"rangeslider\":{\"visible\":true}},\"height\":600},                        {\"responsive\": true}                    ).then(function(){\n                            \nvar gd = document.getElementById('eba974f4-749b-4a34-b2c0-873f24b2774c');\nvar x = new MutationObserver(function (mutations, observer) {{\n        var display = window.getComputedStyle(gd).display;\n        if (!display || display === 'none') {{\n            console.log([gd, 'removed!']);\n            Plotly.purge(gd);\n            observer.disconnect();\n        }}\n}});\n\n// Listen for the removal of the full notebook cells\nvar notebookContainer = gd.closest('#notebook-container');\nif (notebookContainer) {{\n    x.observe(notebookContainer, {childList: true});\n}}\n\n// Listen for the clearing of the current output cell\nvar outputEl = gd.closest('.output');\nif (outputEl) {{\n    x.observe(outputEl, {childList: true});\n}}\n\n                        })                };            </script>        </div>\n</body>\n</html>"
          },
          "metadata": {},
          "output_type": "display_data"
        }
      ],
      "outputs_reference": null,
      "content_dependencies": null
    },
    {
      "cell_type": "markdown",
      "metadata": {
        "color": "purple",
        "cell_id": "aa17d19498494be8ad242ee2c6f4e79f",
        "deepnote_cell_type": "text-cell-callout"
      },
      "source": "> can you identify differences in the pp data where y_true difference characterstics by looking at all the features available. ",
      "block_group": "c84a42b6bfdc4c81a88f94acfdaf5832"
    },
    {
      "cell_type": "code",
      "metadata": {
        "source_hash": "17ac8184",
        "execution_start": 1743127690924,
        "execution_millis": 1269,
        "sql_integration_id": "",
        "execution_context_id": "ca2f94c1-f5a2-4271-8220-9af59ef21879",
        "deepnote_variable_name": "",
        "cell_id": "48b72ad8fce84179af6728e0bcf44171",
        "deepnote_cell_type": "code"
      },
      "source": "# Group by y_true and calculate mean and std for numerical columns\npp_analysis = pp.groupby('y_true').agg(['mean', 'std']).round(4)\n\n# Filter out non-numeric columns if any\nnumeric_cols = pp.select_dtypes(include=['float64', 'int64']).columns\npp_analysis = pp_analysis[numeric_cols]\n\n# Calculate the differences between groups\n# First, get unique y_true values\ny_true_values = sorted(pp['y_true'].unique())\n\n# Print summary of key differences\nprint(\"Key differences between y_true groups:\\n\")\nfor col in numeric_cols:\n    # Calculate max difference between any groups\n    max_diff = pp_analysis[col]['mean'].max() - pp_analysis[col]['mean'].min()\n    if max_diff > 0:  # Only show features with differences\n        print(f\"\\n{col}:\")\n        for i in y_true_values:\n            print(f\"y_true={i}: mean={pp_analysis[col]['mean'][i]:.4f}, std={pp_analysis[col]['std'][i]:.4f}\")",
      "block_group": "b657616aea8c4c239213a7bfd3cda760",
      "execution_count": 195,
      "outputs": [
        {
          "output_type": "error",
          "ename": "TypeError",
          "evalue": "agg function failed [how->mean,dtype->object]",
          "traceback": [
            "\u001b[0;31m---------------------------------------------------------------------------\u001b[0m",
            "\u001b[0;31mTypeError\u001b[0m                                 Traceback (most recent call last)",
            "File \u001b[0;32m~/venv/lib/python3.10/site-packages/pandas/core/groupby/groupby.py:1874\u001b[0m, in \u001b[0;36mGroupBy._agg_py_fallback\u001b[0;34m(self, how, values, ndim, alt)\u001b[0m\n\u001b[1;32m   1873\u001b[0m \u001b[38;5;28;01mtry\u001b[39;00m:\n\u001b[0;32m-> 1874\u001b[0m     res_values \u001b[38;5;241m=\u001b[39m \u001b[38;5;28;43mself\u001b[39;49m\u001b[38;5;241;43m.\u001b[39;49m\u001b[43mgrouper\u001b[49m\u001b[38;5;241;43m.\u001b[39;49m\u001b[43magg_series\u001b[49m\u001b[43m(\u001b[49m\u001b[43mser\u001b[49m\u001b[43m,\u001b[49m\u001b[43m \u001b[49m\u001b[43malt\u001b[49m\u001b[43m,\u001b[49m\u001b[43m \u001b[49m\u001b[43mpreserve_dtype\u001b[49m\u001b[38;5;241;43m=\u001b[39;49m\u001b[38;5;28;43;01mTrue\u001b[39;49;00m\u001b[43m)\u001b[49m\n\u001b[1;32m   1875\u001b[0m \u001b[38;5;28;01mexcept\u001b[39;00m \u001b[38;5;167;01mException\u001b[39;00m \u001b[38;5;28;01mas\u001b[39;00m err:\n",
            "File \u001b[0;32m~/venv/lib/python3.10/site-packages/pandas/core/groupby/ops.py:849\u001b[0m, in \u001b[0;36mBaseGrouper.agg_series\u001b[0;34m(self, obj, func, preserve_dtype)\u001b[0m\n\u001b[1;32m    847\u001b[0m     preserve_dtype \u001b[38;5;241m=\u001b[39m \u001b[38;5;28;01mTrue\u001b[39;00m\n\u001b[0;32m--> 849\u001b[0m result \u001b[38;5;241m=\u001b[39m \u001b[38;5;28;43mself\u001b[39;49m\u001b[38;5;241;43m.\u001b[39;49m\u001b[43m_aggregate_series_pure_python\u001b[49m\u001b[43m(\u001b[49m\u001b[43mobj\u001b[49m\u001b[43m,\u001b[49m\u001b[43m \u001b[49m\u001b[43mfunc\u001b[49m\u001b[43m)\u001b[49m\n\u001b[1;32m    851\u001b[0m \u001b[38;5;28;01mif\u001b[39;00m \u001b[38;5;28mlen\u001b[39m(obj) \u001b[38;5;241m==\u001b[39m \u001b[38;5;241m0\u001b[39m \u001b[38;5;129;01mand\u001b[39;00m \u001b[38;5;28mlen\u001b[39m(result) \u001b[38;5;241m==\u001b[39m \u001b[38;5;241m0\u001b[39m \u001b[38;5;129;01mand\u001b[39;00m \u001b[38;5;28misinstance\u001b[39m(obj\u001b[38;5;241m.\u001b[39mdtype, ExtensionDtype):\n",
            "File \u001b[0;32m~/venv/lib/python3.10/site-packages/pandas/core/groupby/ops.py:877\u001b[0m, in \u001b[0;36mBaseGrouper._aggregate_series_pure_python\u001b[0;34m(self, obj, func)\u001b[0m\n\u001b[1;32m    876\u001b[0m \u001b[38;5;28;01mfor\u001b[39;00m i, group \u001b[38;5;129;01min\u001b[39;00m \u001b[38;5;28menumerate\u001b[39m(splitter):\n\u001b[0;32m--> 877\u001b[0m     res \u001b[38;5;241m=\u001b[39m \u001b[43mfunc\u001b[49m\u001b[43m(\u001b[49m\u001b[43mgroup\u001b[49m\u001b[43m)\u001b[49m\n\u001b[1;32m    878\u001b[0m     res \u001b[38;5;241m=\u001b[39m extract_result(res)\n",
            "File \u001b[0;32m~/venv/lib/python3.10/site-packages/pandas/core/groupby/groupby.py:2380\u001b[0m, in \u001b[0;36mGroupBy.mean.<locals>.<lambda>\u001b[0;34m(x)\u001b[0m\n\u001b[1;32m   2377\u001b[0m \u001b[38;5;28;01melse\u001b[39;00m:\n\u001b[1;32m   2378\u001b[0m     result \u001b[38;5;241m=\u001b[39m \u001b[38;5;28mself\u001b[39m\u001b[38;5;241m.\u001b[39m_cython_agg_general(\n\u001b[1;32m   2379\u001b[0m         \u001b[38;5;124m\"\u001b[39m\u001b[38;5;124mmean\u001b[39m\u001b[38;5;124m\"\u001b[39m,\n\u001b[0;32m-> 2380\u001b[0m         alt\u001b[38;5;241m=\u001b[39m\u001b[38;5;28;01mlambda\u001b[39;00m x: \u001b[43mSeries\u001b[49m\u001b[43m(\u001b[49m\u001b[43mx\u001b[49m\u001b[43m)\u001b[49m\u001b[38;5;241;43m.\u001b[39;49m\u001b[43mmean\u001b[49m\u001b[43m(\u001b[49m\u001b[43mnumeric_only\u001b[49m\u001b[38;5;241;43m=\u001b[39;49m\u001b[43mnumeric_only\u001b[49m\u001b[43m)\u001b[49m,\n\u001b[1;32m   2381\u001b[0m         numeric_only\u001b[38;5;241m=\u001b[39mnumeric_only,\n\u001b[1;32m   2382\u001b[0m     )\n\u001b[1;32m   2383\u001b[0m     \u001b[38;5;28;01mreturn\u001b[39;00m result\u001b[38;5;241m.\u001b[39m__finalize__(\u001b[38;5;28mself\u001b[39m\u001b[38;5;241m.\u001b[39mobj, method\u001b[38;5;241m=\u001b[39m\u001b[38;5;124m\"\u001b[39m\u001b[38;5;124mgroupby\u001b[39m\u001b[38;5;124m\"\u001b[39m)\n",
            "File \u001b[0;32m~/venv/lib/python3.10/site-packages/pandas/core/series.py:6225\u001b[0m, in \u001b[0;36mSeries.mean\u001b[0;34m(self, axis, skipna, numeric_only, **kwargs)\u001b[0m\n\u001b[1;32m   6217\u001b[0m \u001b[38;5;129m@doc\u001b[39m(make_doc(\u001b[38;5;124m\"\u001b[39m\u001b[38;5;124mmean\u001b[39m\u001b[38;5;124m\"\u001b[39m, ndim\u001b[38;5;241m=\u001b[39m\u001b[38;5;241m1\u001b[39m))\n\u001b[1;32m   6218\u001b[0m \u001b[38;5;28;01mdef\u001b[39;00m\u001b[38;5;250m \u001b[39m\u001b[38;5;21mmean\u001b[39m(\n\u001b[1;32m   6219\u001b[0m     \u001b[38;5;28mself\u001b[39m,\n\u001b[0;32m   (...)\u001b[0m\n\u001b[1;32m   6223\u001b[0m     \u001b[38;5;241m*\u001b[39m\u001b[38;5;241m*\u001b[39mkwargs,\n\u001b[1;32m   6224\u001b[0m ):\n\u001b[0;32m-> 6225\u001b[0m     \u001b[38;5;28;01mreturn\u001b[39;00m \u001b[43mNDFrame\u001b[49m\u001b[38;5;241;43m.\u001b[39;49m\u001b[43mmean\u001b[49m\u001b[43m(\u001b[49m\u001b[38;5;28;43mself\u001b[39;49m\u001b[43m,\u001b[49m\u001b[43m \u001b[49m\u001b[43maxis\u001b[49m\u001b[43m,\u001b[49m\u001b[43m \u001b[49m\u001b[43mskipna\u001b[49m\u001b[43m,\u001b[49m\u001b[43m \u001b[49m\u001b[43mnumeric_only\u001b[49m\u001b[43m,\u001b[49m\u001b[43m \u001b[49m\u001b[38;5;241;43m*\u001b[39;49m\u001b[38;5;241;43m*\u001b[39;49m\u001b[43mkwargs\u001b[49m\u001b[43m)\u001b[49m\n",
            "File \u001b[0;32m~/venv/lib/python3.10/site-packages/pandas/core/generic.py:11992\u001b[0m, in \u001b[0;36mNDFrame.mean\u001b[0;34m(self, axis, skipna, numeric_only, **kwargs)\u001b[0m\n\u001b[1;32m  11985\u001b[0m \u001b[38;5;28;01mdef\u001b[39;00m\u001b[38;5;250m \u001b[39m\u001b[38;5;21mmean\u001b[39m(\n\u001b[1;32m  11986\u001b[0m     \u001b[38;5;28mself\u001b[39m,\n\u001b[1;32m  11987\u001b[0m     axis: Axis \u001b[38;5;241m|\u001b[39m \u001b[38;5;28;01mNone\u001b[39;00m \u001b[38;5;241m=\u001b[39m \u001b[38;5;241m0\u001b[39m,\n\u001b[0;32m   (...)\u001b[0m\n\u001b[1;32m  11990\u001b[0m     \u001b[38;5;241m*\u001b[39m\u001b[38;5;241m*\u001b[39mkwargs,\n\u001b[1;32m  11991\u001b[0m ) \u001b[38;5;241m-\u001b[39m\u001b[38;5;241m>\u001b[39m Series \u001b[38;5;241m|\u001b[39m \u001b[38;5;28mfloat\u001b[39m:\n\u001b[0;32m> 11992\u001b[0m     \u001b[38;5;28;01mreturn\u001b[39;00m \u001b[38;5;28;43mself\u001b[39;49m\u001b[38;5;241;43m.\u001b[39;49m\u001b[43m_stat_function\u001b[49m\u001b[43m(\u001b[49m\n\u001b[1;32m  11993\u001b[0m \u001b[43m        \u001b[49m\u001b[38;5;124;43m\"\u001b[39;49m\u001b[38;5;124;43mmean\u001b[39;49m\u001b[38;5;124;43m\"\u001b[39;49m\u001b[43m,\u001b[49m\u001b[43m \u001b[49m\u001b[43mnanops\u001b[49m\u001b[38;5;241;43m.\u001b[39;49m\u001b[43mnanmean\u001b[49m\u001b[43m,\u001b[49m\u001b[43m \u001b[49m\u001b[43maxis\u001b[49m\u001b[43m,\u001b[49m\u001b[43m \u001b[49m\u001b[43mskipna\u001b[49m\u001b[43m,\u001b[49m\u001b[43m \u001b[49m\u001b[43mnumeric_only\u001b[49m\u001b[43m,\u001b[49m\u001b[43m \u001b[49m\u001b[38;5;241;43m*\u001b[39;49m\u001b[38;5;241;43m*\u001b[39;49m\u001b[43mkwargs\u001b[49m\n\u001b[1;32m  11994\u001b[0m \u001b[43m    \u001b[49m\u001b[43m)\u001b[49m\n",
            "File \u001b[0;32m~/venv/lib/python3.10/site-packages/pandas/core/generic.py:11949\u001b[0m, in \u001b[0;36mNDFrame._stat_function\u001b[0;34m(self, name, func, axis, skipna, numeric_only, **kwargs)\u001b[0m\n\u001b[1;32m  11947\u001b[0m validate_bool_kwarg(skipna, \u001b[38;5;124m\"\u001b[39m\u001b[38;5;124mskipna\u001b[39m\u001b[38;5;124m\"\u001b[39m, none_allowed\u001b[38;5;241m=\u001b[39m\u001b[38;5;28;01mFalse\u001b[39;00m)\n\u001b[0;32m> 11949\u001b[0m \u001b[38;5;28;01mreturn\u001b[39;00m \u001b[38;5;28;43mself\u001b[39;49m\u001b[38;5;241;43m.\u001b[39;49m\u001b[43m_reduce\u001b[49m\u001b[43m(\u001b[49m\n\u001b[1;32m  11950\u001b[0m \u001b[43m    \u001b[49m\u001b[43mfunc\u001b[49m\u001b[43m,\u001b[49m\u001b[43m \u001b[49m\u001b[43mname\u001b[49m\u001b[38;5;241;43m=\u001b[39;49m\u001b[43mname\u001b[49m\u001b[43m,\u001b[49m\u001b[43m \u001b[49m\u001b[43maxis\u001b[49m\u001b[38;5;241;43m=\u001b[39;49m\u001b[43maxis\u001b[49m\u001b[43m,\u001b[49m\u001b[43m \u001b[49m\u001b[43mskipna\u001b[49m\u001b[38;5;241;43m=\u001b[39;49m\u001b[43mskipna\u001b[49m\u001b[43m,\u001b[49m\u001b[43m \u001b[49m\u001b[43mnumeric_only\u001b[49m\u001b[38;5;241;43m=\u001b[39;49m\u001b[43mnumeric_only\u001b[49m\n\u001b[1;32m  11951\u001b[0m \u001b[43m\u001b[49m\u001b[43m)\u001b[49m\n",
            "File \u001b[0;32m~/venv/lib/python3.10/site-packages/pandas/core/series.py:6133\u001b[0m, in \u001b[0;36mSeries._reduce\u001b[0;34m(self, op, name, axis, skipna, numeric_only, filter_type, **kwds)\u001b[0m\n\u001b[1;32m   6129\u001b[0m     \u001b[38;5;28;01mraise\u001b[39;00m \u001b[38;5;167;01mTypeError\u001b[39;00m(\n\u001b[1;32m   6130\u001b[0m         \u001b[38;5;124mf\u001b[39m\u001b[38;5;124m\"\u001b[39m\u001b[38;5;124mSeries.\u001b[39m\u001b[38;5;132;01m{\u001b[39;00mname\u001b[38;5;132;01m}\u001b[39;00m\u001b[38;5;124m does not allow \u001b[39m\u001b[38;5;132;01m{\u001b[39;00mkwd_name\u001b[38;5;132;01m}\u001b[39;00m\u001b[38;5;124m=\u001b[39m\u001b[38;5;132;01m{\u001b[39;00mnumeric_only\u001b[38;5;132;01m}\u001b[39;00m\u001b[38;5;124m \u001b[39m\u001b[38;5;124m\"\u001b[39m\n\u001b[1;32m   6131\u001b[0m         \u001b[38;5;124m\"\u001b[39m\u001b[38;5;124mwith non-numeric dtypes.\u001b[39m\u001b[38;5;124m\"\u001b[39m\n\u001b[1;32m   6132\u001b[0m     )\n\u001b[0;32m-> 6133\u001b[0m \u001b[38;5;28;01mreturn\u001b[39;00m \u001b[43mop\u001b[49m\u001b[43m(\u001b[49m\u001b[43mdelegate\u001b[49m\u001b[43m,\u001b[49m\u001b[43m \u001b[49m\u001b[43mskipna\u001b[49m\u001b[38;5;241;43m=\u001b[39;49m\u001b[43mskipna\u001b[49m\u001b[43m,\u001b[49m\u001b[43m \u001b[49m\u001b[38;5;241;43m*\u001b[39;49m\u001b[38;5;241;43m*\u001b[39;49m\u001b[43mkwds\u001b[49m\u001b[43m)\u001b[49m\n",
            "File \u001b[0;32m~/venv/lib/python3.10/site-packages/pandas/core/nanops.py:147\u001b[0m, in \u001b[0;36mbottleneck_switch.__call__.<locals>.f\u001b[0;34m(values, axis, skipna, **kwds)\u001b[0m\n\u001b[1;32m    146\u001b[0m \u001b[38;5;28;01melse\u001b[39;00m:\n\u001b[0;32m--> 147\u001b[0m     result \u001b[38;5;241m=\u001b[39m \u001b[43malt\u001b[49m\u001b[43m(\u001b[49m\u001b[43mvalues\u001b[49m\u001b[43m,\u001b[49m\u001b[43m \u001b[49m\u001b[43maxis\u001b[49m\u001b[38;5;241;43m=\u001b[39;49m\u001b[43maxis\u001b[49m\u001b[43m,\u001b[49m\u001b[43m \u001b[49m\u001b[43mskipna\u001b[49m\u001b[38;5;241;43m=\u001b[39;49m\u001b[43mskipna\u001b[49m\u001b[43m,\u001b[49m\u001b[43m \u001b[49m\u001b[38;5;241;43m*\u001b[39;49m\u001b[38;5;241;43m*\u001b[39;49m\u001b[43mkwds\u001b[49m\u001b[43m)\u001b[49m\n\u001b[1;32m    149\u001b[0m \u001b[38;5;28;01mreturn\u001b[39;00m result\n",
            "File \u001b[0;32m~/venv/lib/python3.10/site-packages/pandas/core/nanops.py:404\u001b[0m, in \u001b[0;36m_datetimelike_compat.<locals>.new_func\u001b[0;34m(values, axis, skipna, mask, **kwargs)\u001b[0m\n\u001b[1;32m    402\u001b[0m     mask \u001b[38;5;241m=\u001b[39m isna(values)\n\u001b[0;32m--> 404\u001b[0m result \u001b[38;5;241m=\u001b[39m \u001b[43mfunc\u001b[49m\u001b[43m(\u001b[49m\u001b[43mvalues\u001b[49m\u001b[43m,\u001b[49m\u001b[43m \u001b[49m\u001b[43maxis\u001b[49m\u001b[38;5;241;43m=\u001b[39;49m\u001b[43maxis\u001b[49m\u001b[43m,\u001b[49m\u001b[43m \u001b[49m\u001b[43mskipna\u001b[49m\u001b[38;5;241;43m=\u001b[39;49m\u001b[43mskipna\u001b[49m\u001b[43m,\u001b[49m\u001b[43m \u001b[49m\u001b[43mmask\u001b[49m\u001b[38;5;241;43m=\u001b[39;49m\u001b[43mmask\u001b[49m\u001b[43m,\u001b[49m\u001b[43m \u001b[49m\u001b[38;5;241;43m*\u001b[39;49m\u001b[38;5;241;43m*\u001b[39;49m\u001b[43mkwargs\u001b[49m\u001b[43m)\u001b[49m\n\u001b[1;32m    406\u001b[0m \u001b[38;5;28;01mif\u001b[39;00m datetimelike:\n",
            "File \u001b[0;32m~/venv/lib/python3.10/site-packages/pandas/core/nanops.py:720\u001b[0m, in \u001b[0;36mnanmean\u001b[0;34m(values, axis, skipna, mask)\u001b[0m\n\u001b[1;32m    719\u001b[0m the_sum \u001b[38;5;241m=\u001b[39m values\u001b[38;5;241m.\u001b[39msum(axis, dtype\u001b[38;5;241m=\u001b[39mdtype_sum)\n\u001b[0;32m--> 720\u001b[0m the_sum \u001b[38;5;241m=\u001b[39m \u001b[43m_ensure_numeric\u001b[49m\u001b[43m(\u001b[49m\u001b[43mthe_sum\u001b[49m\u001b[43m)\u001b[49m\n\u001b[1;32m    722\u001b[0m \u001b[38;5;28;01mif\u001b[39;00m axis \u001b[38;5;129;01mis\u001b[39;00m \u001b[38;5;129;01mnot\u001b[39;00m \u001b[38;5;28;01mNone\u001b[39;00m \u001b[38;5;129;01mand\u001b[39;00m \u001b[38;5;28mgetattr\u001b[39m(the_sum, \u001b[38;5;124m\"\u001b[39m\u001b[38;5;124mndim\u001b[39m\u001b[38;5;124m\"\u001b[39m, \u001b[38;5;28;01mFalse\u001b[39;00m):\n",
            "File \u001b[0;32m~/venv/lib/python3.10/site-packages/pandas/core/nanops.py:1693\u001b[0m, in \u001b[0;36m_ensure_numeric\u001b[0;34m(x)\u001b[0m\n\u001b[1;32m   1691\u001b[0m \u001b[38;5;28;01mif\u001b[39;00m \u001b[38;5;28misinstance\u001b[39m(x, \u001b[38;5;28mstr\u001b[39m):\n\u001b[1;32m   1692\u001b[0m     \u001b[38;5;66;03m# GH#44008, GH#36703 avoid casting e.g. strings to numeric\u001b[39;00m\n\u001b[0;32m-> 1693\u001b[0m     \u001b[38;5;28;01mraise\u001b[39;00m \u001b[38;5;167;01mTypeError\u001b[39;00m(\u001b[38;5;124mf\u001b[39m\u001b[38;5;124m\"\u001b[39m\u001b[38;5;124mCould not convert string \u001b[39m\u001b[38;5;124m'\u001b[39m\u001b[38;5;132;01m{\u001b[39;00mx\u001b[38;5;132;01m}\u001b[39;00m\u001b[38;5;124m'\u001b[39m\u001b[38;5;124m to numeric\u001b[39m\u001b[38;5;124m\"\u001b[39m)\n\u001b[1;32m   1694\u001b[0m \u001b[38;5;28;01mtry\u001b[39;00m:\n",
            "\u001b[0;31mTypeError\u001b[0m: Could not convert string '2025-03-19 13:20:00+00:002025-03-19 15:00:00+00:002025-03-19 19:30:00+00:002025-03-26 10:35:00+00:002025-03-26 10:45:00+00:002025-03-27 08:30:00+00:00' to numeric",
            "\nThe above exception was the direct cause of the following exception:\n",
            "\u001b[0;31mTypeError\u001b[0m                                 Traceback (most recent call last)",
            "Cell \u001b[0;32mIn[195], line 2\u001b[0m\n\u001b[1;32m      1\u001b[0m \u001b[38;5;66;03m# Group by y_true and calculate mean and std for numerical columns\u001b[39;00m\n\u001b[0;32m----> 2\u001b[0m pp_analysis \u001b[38;5;241m=\u001b[39m \u001b[43mpp\u001b[49m\u001b[38;5;241;43m.\u001b[39;49m\u001b[43mgroupby\u001b[49m\u001b[43m(\u001b[49m\u001b[38;5;124;43m'\u001b[39;49m\u001b[38;5;124;43my_true\u001b[39;49m\u001b[38;5;124;43m'\u001b[39;49m\u001b[43m)\u001b[49m\u001b[38;5;241;43m.\u001b[39;49m\u001b[43magg\u001b[49m\u001b[43m(\u001b[49m\u001b[43m[\u001b[49m\u001b[38;5;124;43m'\u001b[39;49m\u001b[38;5;124;43mmean\u001b[39;49m\u001b[38;5;124;43m'\u001b[39;49m\u001b[43m,\u001b[49m\u001b[43m \u001b[49m\u001b[38;5;124;43m'\u001b[39;49m\u001b[38;5;124;43mstd\u001b[39;49m\u001b[38;5;124;43m'\u001b[39;49m\u001b[43m]\u001b[49m\u001b[43m)\u001b[49m\u001b[38;5;241m.\u001b[39mround(\u001b[38;5;241m4\u001b[39m)\n\u001b[1;32m      4\u001b[0m \u001b[38;5;66;03m# Filter out non-numeric columns if any\u001b[39;00m\n\u001b[1;32m      5\u001b[0m numeric_cols \u001b[38;5;241m=\u001b[39m pp\u001b[38;5;241m.\u001b[39mselect_dtypes(include\u001b[38;5;241m=\u001b[39m[\u001b[38;5;124m'\u001b[39m\u001b[38;5;124mfloat64\u001b[39m\u001b[38;5;124m'\u001b[39m, \u001b[38;5;124m'\u001b[39m\u001b[38;5;124mint64\u001b[39m\u001b[38;5;124m'\u001b[39m])\u001b[38;5;241m.\u001b[39mcolumns\n",
            "File \u001b[0;32m~/venv/lib/python3.10/site-packages/pandas/core/groupby/generic.py:1445\u001b[0m, in \u001b[0;36mDataFrameGroupBy.aggregate\u001b[0;34m(self, func, engine, engine_kwargs, *args, **kwargs)\u001b[0m\n\u001b[1;32m   1442\u001b[0m     kwargs[\u001b[38;5;124m\"\u001b[39m\u001b[38;5;124mengine_kwargs\u001b[39m\u001b[38;5;124m\"\u001b[39m] \u001b[38;5;241m=\u001b[39m engine_kwargs\n\u001b[1;32m   1444\u001b[0m op \u001b[38;5;241m=\u001b[39m GroupByApply(\u001b[38;5;28mself\u001b[39m, func, args\u001b[38;5;241m=\u001b[39margs, kwargs\u001b[38;5;241m=\u001b[39mkwargs)\n\u001b[0;32m-> 1445\u001b[0m result \u001b[38;5;241m=\u001b[39m \u001b[43mop\u001b[49m\u001b[38;5;241;43m.\u001b[39;49m\u001b[43magg\u001b[49m\u001b[43m(\u001b[49m\u001b[43m)\u001b[49m\n\u001b[1;32m   1446\u001b[0m \u001b[38;5;28;01mif\u001b[39;00m \u001b[38;5;129;01mnot\u001b[39;00m is_dict_like(func) \u001b[38;5;129;01mand\u001b[39;00m result \u001b[38;5;129;01mis\u001b[39;00m \u001b[38;5;129;01mnot\u001b[39;00m \u001b[38;5;28;01mNone\u001b[39;00m:\n\u001b[1;32m   1447\u001b[0m     \u001b[38;5;66;03m# GH #52849\u001b[39;00m\n\u001b[1;32m   1448\u001b[0m     \u001b[38;5;28;01mif\u001b[39;00m \u001b[38;5;129;01mnot\u001b[39;00m \u001b[38;5;28mself\u001b[39m\u001b[38;5;241m.\u001b[39mas_index \u001b[38;5;129;01mand\u001b[39;00m is_list_like(func):\n",
            "File \u001b[0;32m~/venv/lib/python3.10/site-packages/pandas/core/apply.py:178\u001b[0m, in \u001b[0;36mApply.agg\u001b[0;34m(self)\u001b[0m\n\u001b[1;32m    175\u001b[0m     \u001b[38;5;28;01mreturn\u001b[39;00m \u001b[38;5;28mself\u001b[39m\u001b[38;5;241m.\u001b[39magg_dict_like()\n\u001b[1;32m    176\u001b[0m \u001b[38;5;28;01melif\u001b[39;00m is_list_like(func):\n\u001b[1;32m    177\u001b[0m     \u001b[38;5;66;03m# we require a list, but not a 'str'\u001b[39;00m\n\u001b[0;32m--> 178\u001b[0m     \u001b[38;5;28;01mreturn\u001b[39;00m \u001b[38;5;28;43mself\u001b[39;49m\u001b[38;5;241;43m.\u001b[39;49m\u001b[43magg_list_like\u001b[49m\u001b[43m(\u001b[49m\u001b[43m)\u001b[49m\n\u001b[1;32m    180\u001b[0m \u001b[38;5;28;01mif\u001b[39;00m \u001b[38;5;28mcallable\u001b[39m(func):\n\u001b[1;32m    181\u001b[0m     f \u001b[38;5;241m=\u001b[39m com\u001b[38;5;241m.\u001b[39mget_cython_func(func)\n",
            "File \u001b[0;32m~/venv/lib/python3.10/site-packages/pandas/core/apply.py:311\u001b[0m, in \u001b[0;36mApply.agg_list_like\u001b[0;34m(self)\u001b[0m\n\u001b[1;32m    303\u001b[0m \u001b[38;5;28;01mdef\u001b[39;00m\u001b[38;5;250m \u001b[39m\u001b[38;5;21magg_list_like\u001b[39m(\u001b[38;5;28mself\u001b[39m) \u001b[38;5;241m-\u001b[39m\u001b[38;5;241m>\u001b[39m DataFrame \u001b[38;5;241m|\u001b[39m Series:\n\u001b[1;32m    304\u001b[0m \u001b[38;5;250m    \u001b[39m\u001b[38;5;124;03m\"\"\"\u001b[39;00m\n\u001b[1;32m    305\u001b[0m \u001b[38;5;124;03m    Compute aggregation in the case of a list-like argument.\u001b[39;00m\n\u001b[1;32m    306\u001b[0m \n\u001b[0;32m   (...)\u001b[0m\n\u001b[1;32m    309\u001b[0m \u001b[38;5;124;03m    Result of aggregation.\u001b[39;00m\n\u001b[1;32m    310\u001b[0m \u001b[38;5;124;03m    \"\"\"\u001b[39;00m\n\u001b[0;32m--> 311\u001b[0m     \u001b[38;5;28;01mreturn\u001b[39;00m \u001b[38;5;28;43mself\u001b[39;49m\u001b[38;5;241;43m.\u001b[39;49m\u001b[43magg_or_apply_list_like\u001b[49m\u001b[43m(\u001b[49m\u001b[43mop_name\u001b[49m\u001b[38;5;241;43m=\u001b[39;49m\u001b[38;5;124;43m\"\u001b[39;49m\u001b[38;5;124;43magg\u001b[39;49m\u001b[38;5;124;43m\"\u001b[39;49m\u001b[43m)\u001b[49m\n",
            "File \u001b[0;32m~/venv/lib/python3.10/site-packages/pandas/core/apply.py:1353\u001b[0m, in \u001b[0;36mGroupByApply.agg_or_apply_list_like\u001b[0;34m(self, op_name)\u001b[0m\n\u001b[1;32m   1348\u001b[0m \u001b[38;5;66;03m# Only set as_index=True on groupby objects, not Window or Resample\u001b[39;00m\n\u001b[1;32m   1349\u001b[0m \u001b[38;5;66;03m# that inherit from this class.\u001b[39;00m\n\u001b[1;32m   1350\u001b[0m \u001b[38;5;28;01mwith\u001b[39;00m com\u001b[38;5;241m.\u001b[39mtemp_setattr(\n\u001b[1;32m   1351\u001b[0m     obj, \u001b[38;5;124m\"\u001b[39m\u001b[38;5;124mas_index\u001b[39m\u001b[38;5;124m\"\u001b[39m, \u001b[38;5;28;01mTrue\u001b[39;00m, condition\u001b[38;5;241m=\u001b[39m\u001b[38;5;28mhasattr\u001b[39m(obj, \u001b[38;5;124m\"\u001b[39m\u001b[38;5;124mas_index\u001b[39m\u001b[38;5;124m\"\u001b[39m)\n\u001b[1;32m   1352\u001b[0m ):\n\u001b[0;32m-> 1353\u001b[0m     keys, results \u001b[38;5;241m=\u001b[39m \u001b[38;5;28;43mself\u001b[39;49m\u001b[38;5;241;43m.\u001b[39;49m\u001b[43mcompute_list_like\u001b[49m\u001b[43m(\u001b[49m\u001b[43mop_name\u001b[49m\u001b[43m,\u001b[49m\u001b[43m \u001b[49m\u001b[43mselected_obj\u001b[49m\u001b[43m,\u001b[49m\u001b[43m \u001b[49m\u001b[43mkwargs\u001b[49m\u001b[43m)\u001b[49m\n\u001b[1;32m   1354\u001b[0m result \u001b[38;5;241m=\u001b[39m \u001b[38;5;28mself\u001b[39m\u001b[38;5;241m.\u001b[39mwrap_results_list_like(keys, results)\n\u001b[1;32m   1355\u001b[0m \u001b[38;5;28;01mreturn\u001b[39;00m result\n",
            "File \u001b[0;32m~/venv/lib/python3.10/site-packages/pandas/core/apply.py:370\u001b[0m, in \u001b[0;36mApply.compute_list_like\u001b[0;34m(self, op_name, selected_obj, kwargs)\u001b[0m\n\u001b[1;32m    364\u001b[0m colg \u001b[38;5;241m=\u001b[39m obj\u001b[38;5;241m.\u001b[39m_gotitem(col, ndim\u001b[38;5;241m=\u001b[39m\u001b[38;5;241m1\u001b[39m, subset\u001b[38;5;241m=\u001b[39mselected_obj\u001b[38;5;241m.\u001b[39miloc[:, index])\n\u001b[1;32m    365\u001b[0m args \u001b[38;5;241m=\u001b[39m (\n\u001b[1;32m    366\u001b[0m     [\u001b[38;5;28mself\u001b[39m\u001b[38;5;241m.\u001b[39maxis, \u001b[38;5;241m*\u001b[39m\u001b[38;5;28mself\u001b[39m\u001b[38;5;241m.\u001b[39margs]\n\u001b[1;32m    367\u001b[0m     \u001b[38;5;28;01mif\u001b[39;00m include_axis(op_name, colg)\n\u001b[1;32m    368\u001b[0m     \u001b[38;5;28;01melse\u001b[39;00m \u001b[38;5;28mself\u001b[39m\u001b[38;5;241m.\u001b[39margs\n\u001b[1;32m    369\u001b[0m )\n\u001b[0;32m--> 370\u001b[0m new_res \u001b[38;5;241m=\u001b[39m \u001b[38;5;28;43mgetattr\u001b[39;49m\u001b[43m(\u001b[49m\u001b[43mcolg\u001b[49m\u001b[43m,\u001b[49m\u001b[43m \u001b[49m\u001b[43mop_name\u001b[49m\u001b[43m)\u001b[49m\u001b[43m(\u001b[49m\u001b[43mfunc\u001b[49m\u001b[43m,\u001b[49m\u001b[43m \u001b[49m\u001b[38;5;241;43m*\u001b[39;49m\u001b[43margs\u001b[49m\u001b[43m,\u001b[49m\u001b[43m \u001b[49m\u001b[38;5;241;43m*\u001b[39;49m\u001b[38;5;241;43m*\u001b[39;49m\u001b[43mkwargs\u001b[49m\u001b[43m)\u001b[49m\n\u001b[1;32m    371\u001b[0m results\u001b[38;5;241m.\u001b[39mappend(new_res)\n\u001b[1;32m    372\u001b[0m indices\u001b[38;5;241m.\u001b[39mappend(index)\n",
            "File \u001b[0;32m~/venv/lib/python3.10/site-packages/pandas/core/groupby/generic.py:255\u001b[0m, in \u001b[0;36mSeriesGroupBy.aggregate\u001b[0;34m(self, func, engine, engine_kwargs, *args, **kwargs)\u001b[0m\n\u001b[1;32m    253\u001b[0m kwargs[\u001b[38;5;124m\"\u001b[39m\u001b[38;5;124mengine\u001b[39m\u001b[38;5;124m\"\u001b[39m] \u001b[38;5;241m=\u001b[39m engine\n\u001b[1;32m    254\u001b[0m kwargs[\u001b[38;5;124m\"\u001b[39m\u001b[38;5;124mengine_kwargs\u001b[39m\u001b[38;5;124m\"\u001b[39m] \u001b[38;5;241m=\u001b[39m engine_kwargs\n\u001b[0;32m--> 255\u001b[0m ret \u001b[38;5;241m=\u001b[39m \u001b[38;5;28;43mself\u001b[39;49m\u001b[38;5;241;43m.\u001b[39;49m\u001b[43m_aggregate_multiple_funcs\u001b[49m\u001b[43m(\u001b[49m\u001b[43mfunc\u001b[49m\u001b[43m,\u001b[49m\u001b[43m \u001b[49m\u001b[38;5;241;43m*\u001b[39;49m\u001b[43margs\u001b[49m\u001b[43m,\u001b[49m\u001b[43m \u001b[49m\u001b[38;5;241;43m*\u001b[39;49m\u001b[38;5;241;43m*\u001b[39;49m\u001b[43mkwargs\u001b[49m\u001b[43m)\u001b[49m\n\u001b[1;32m    256\u001b[0m \u001b[38;5;28;01mif\u001b[39;00m relabeling:\n\u001b[1;32m    257\u001b[0m     \u001b[38;5;66;03m# columns is not narrowed by mypy from relabeling flag\u001b[39;00m\n\u001b[1;32m    258\u001b[0m     \u001b[38;5;28;01massert\u001b[39;00m columns \u001b[38;5;129;01mis\u001b[39;00m \u001b[38;5;129;01mnot\u001b[39;00m \u001b[38;5;28;01mNone\u001b[39;00m  \u001b[38;5;66;03m# for mypy\u001b[39;00m\n",
            "File \u001b[0;32m~/venv/lib/python3.10/site-packages/pandas/core/groupby/generic.py:360\u001b[0m, in \u001b[0;36mSeriesGroupBy._aggregate_multiple_funcs\u001b[0;34m(self, arg, *args, **kwargs)\u001b[0m\n\u001b[1;32m    358\u001b[0m     \u001b[38;5;28;01mfor\u001b[39;00m idx, (name, func) \u001b[38;5;129;01min\u001b[39;00m \u001b[38;5;28menumerate\u001b[39m(arg):\n\u001b[1;32m    359\u001b[0m         key \u001b[38;5;241m=\u001b[39m base\u001b[38;5;241m.\u001b[39mOutputKey(label\u001b[38;5;241m=\u001b[39mname, position\u001b[38;5;241m=\u001b[39midx)\n\u001b[0;32m--> 360\u001b[0m         results[key] \u001b[38;5;241m=\u001b[39m \u001b[38;5;28;43mself\u001b[39;49m\u001b[38;5;241;43m.\u001b[39;49m\u001b[43maggregate\u001b[49m\u001b[43m(\u001b[49m\u001b[43mfunc\u001b[49m\u001b[43m,\u001b[49m\u001b[43m \u001b[49m\u001b[38;5;241;43m*\u001b[39;49m\u001b[43margs\u001b[49m\u001b[43m,\u001b[49m\u001b[43m \u001b[49m\u001b[38;5;241;43m*\u001b[39;49m\u001b[38;5;241;43m*\u001b[39;49m\u001b[43mkwargs\u001b[49m\u001b[43m)\u001b[49m\n\u001b[1;32m    362\u001b[0m \u001b[38;5;28;01mif\u001b[39;00m \u001b[38;5;28many\u001b[39m(\u001b[38;5;28misinstance\u001b[39m(x, DataFrame) \u001b[38;5;28;01mfor\u001b[39;00m x \u001b[38;5;129;01min\u001b[39;00m results\u001b[38;5;241m.\u001b[39mvalues()):\n\u001b[1;32m    363\u001b[0m     \u001b[38;5;28;01mfrom\u001b[39;00m\u001b[38;5;250m \u001b[39m\u001b[38;5;21;01mpandas\u001b[39;00m\u001b[38;5;250m \u001b[39m\u001b[38;5;28;01mimport\u001b[39;00m concat\n",
            "File \u001b[0;32m~/venv/lib/python3.10/site-packages/pandas/core/groupby/generic.py:247\u001b[0m, in \u001b[0;36mSeriesGroupBy.aggregate\u001b[0;34m(self, func, engine, engine_kwargs, *args, **kwargs)\u001b[0m\n\u001b[1;32m    245\u001b[0m     \u001b[38;5;28;01mif\u001b[39;00m engine_kwargs \u001b[38;5;129;01mis\u001b[39;00m \u001b[38;5;129;01mnot\u001b[39;00m \u001b[38;5;28;01mNone\u001b[39;00m:\n\u001b[1;32m    246\u001b[0m         kwargs[\u001b[38;5;124m\"\u001b[39m\u001b[38;5;124mengine_kwargs\u001b[39m\u001b[38;5;124m\"\u001b[39m] \u001b[38;5;241m=\u001b[39m engine_kwargs\n\u001b[0;32m--> 247\u001b[0m     \u001b[38;5;28;01mreturn\u001b[39;00m \u001b[38;5;28;43mgetattr\u001b[39;49m\u001b[43m(\u001b[49m\u001b[38;5;28;43mself\u001b[39;49m\u001b[43m,\u001b[49m\u001b[43m \u001b[49m\u001b[43mfunc\u001b[49m\u001b[43m)\u001b[49m\u001b[43m(\u001b[49m\u001b[38;5;241;43m*\u001b[39;49m\u001b[43margs\u001b[49m\u001b[43m,\u001b[49m\u001b[43m \u001b[49m\u001b[38;5;241;43m*\u001b[39;49m\u001b[38;5;241;43m*\u001b[39;49m\u001b[43mkwargs\u001b[49m\u001b[43m)\u001b[49m\n\u001b[1;32m    249\u001b[0m \u001b[38;5;28;01melif\u001b[39;00m \u001b[38;5;28misinstance\u001b[39m(func, abc\u001b[38;5;241m.\u001b[39mIterable):\n\u001b[1;32m    250\u001b[0m     \u001b[38;5;66;03m# Catch instances of lists / tuples\u001b[39;00m\n\u001b[1;32m    251\u001b[0m     \u001b[38;5;66;03m# but not the class list / tuple itself.\u001b[39;00m\n\u001b[1;32m    252\u001b[0m     func \u001b[38;5;241m=\u001b[39m maybe_mangle_lambdas(func)\n",
            "File \u001b[0;32m~/venv/lib/python3.10/site-packages/pandas/core/groupby/groupby.py:2378\u001b[0m, in \u001b[0;36mGroupBy.mean\u001b[0;34m(self, numeric_only, engine, engine_kwargs)\u001b[0m\n\u001b[1;32m   2371\u001b[0m     \u001b[38;5;28;01mreturn\u001b[39;00m \u001b[38;5;28mself\u001b[39m\u001b[38;5;241m.\u001b[39m_numba_agg_general(\n\u001b[1;32m   2372\u001b[0m         grouped_mean,\n\u001b[1;32m   2373\u001b[0m         executor\u001b[38;5;241m.\u001b[39mfloat_dtype_mapping,\n\u001b[1;32m   2374\u001b[0m         engine_kwargs,\n\u001b[1;32m   2375\u001b[0m         min_periods\u001b[38;5;241m=\u001b[39m\u001b[38;5;241m0\u001b[39m,\n\u001b[1;32m   2376\u001b[0m     )\n\u001b[1;32m   2377\u001b[0m \u001b[38;5;28;01melse\u001b[39;00m:\n\u001b[0;32m-> 2378\u001b[0m     result \u001b[38;5;241m=\u001b[39m \u001b[38;5;28;43mself\u001b[39;49m\u001b[38;5;241;43m.\u001b[39;49m\u001b[43m_cython_agg_general\u001b[49m\u001b[43m(\u001b[49m\n\u001b[1;32m   2379\u001b[0m \u001b[43m        \u001b[49m\u001b[38;5;124;43m\"\u001b[39;49m\u001b[38;5;124;43mmean\u001b[39;49m\u001b[38;5;124;43m\"\u001b[39;49m\u001b[43m,\u001b[49m\n\u001b[1;32m   2380\u001b[0m \u001b[43m        \u001b[49m\u001b[43malt\u001b[49m\u001b[38;5;241;43m=\u001b[39;49m\u001b[38;5;28;43;01mlambda\u001b[39;49;00m\u001b[43m \u001b[49m\u001b[43mx\u001b[49m\u001b[43m:\u001b[49m\u001b[43m \u001b[49m\u001b[43mSeries\u001b[49m\u001b[43m(\u001b[49m\u001b[43mx\u001b[49m\u001b[43m)\u001b[49m\u001b[38;5;241;43m.\u001b[39;49m\u001b[43mmean\u001b[49m\u001b[43m(\u001b[49m\u001b[43mnumeric_only\u001b[49m\u001b[38;5;241;43m=\u001b[39;49m\u001b[43mnumeric_only\u001b[49m\u001b[43m)\u001b[49m\u001b[43m,\u001b[49m\n\u001b[1;32m   2381\u001b[0m \u001b[43m        \u001b[49m\u001b[43mnumeric_only\u001b[49m\u001b[38;5;241;43m=\u001b[39;49m\u001b[43mnumeric_only\u001b[49m\u001b[43m,\u001b[49m\n\u001b[1;32m   2382\u001b[0m \u001b[43m    \u001b[49m\u001b[43m)\u001b[49m\n\u001b[1;32m   2383\u001b[0m     \u001b[38;5;28;01mreturn\u001b[39;00m result\u001b[38;5;241m.\u001b[39m__finalize__(\u001b[38;5;28mself\u001b[39m\u001b[38;5;241m.\u001b[39mobj, method\u001b[38;5;241m=\u001b[39m\u001b[38;5;124m\"\u001b[39m\u001b[38;5;124mgroupby\u001b[39m\u001b[38;5;124m\"\u001b[39m)\n",
            "File \u001b[0;32m~/venv/lib/python3.10/site-packages/pandas/core/groupby/groupby.py:1929\u001b[0m, in \u001b[0;36mGroupBy._cython_agg_general\u001b[0;34m(self, how, alt, numeric_only, min_count, **kwargs)\u001b[0m\n\u001b[1;32m   1926\u001b[0m     result \u001b[38;5;241m=\u001b[39m \u001b[38;5;28mself\u001b[39m\u001b[38;5;241m.\u001b[39m_agg_py_fallback(how, values, ndim\u001b[38;5;241m=\u001b[39mdata\u001b[38;5;241m.\u001b[39mndim, alt\u001b[38;5;241m=\u001b[39malt)\n\u001b[1;32m   1927\u001b[0m     \u001b[38;5;28;01mreturn\u001b[39;00m result\n\u001b[0;32m-> 1929\u001b[0m new_mgr \u001b[38;5;241m=\u001b[39m \u001b[43mdata\u001b[49m\u001b[38;5;241;43m.\u001b[39;49m\u001b[43mgrouped_reduce\u001b[49m\u001b[43m(\u001b[49m\u001b[43marray_func\u001b[49m\u001b[43m)\u001b[49m\n\u001b[1;32m   1930\u001b[0m res \u001b[38;5;241m=\u001b[39m \u001b[38;5;28mself\u001b[39m\u001b[38;5;241m.\u001b[39m_wrap_agged_manager(new_mgr)\n\u001b[1;32m   1931\u001b[0m out \u001b[38;5;241m=\u001b[39m \u001b[38;5;28mself\u001b[39m\u001b[38;5;241m.\u001b[39m_wrap_aggregated_output(res)\n",
            "File \u001b[0;32m~/venv/lib/python3.10/site-packages/pandas/core/internals/base.py:336\u001b[0m, in \u001b[0;36mSingleDataManager.grouped_reduce\u001b[0;34m(self, func)\u001b[0m\n\u001b[1;32m    334\u001b[0m \u001b[38;5;28;01mdef\u001b[39;00m\u001b[38;5;250m \u001b[39m\u001b[38;5;21mgrouped_reduce\u001b[39m(\u001b[38;5;28mself\u001b[39m, func):\n\u001b[1;32m    335\u001b[0m     arr \u001b[38;5;241m=\u001b[39m \u001b[38;5;28mself\u001b[39m\u001b[38;5;241m.\u001b[39marray\n\u001b[0;32m--> 336\u001b[0m     res \u001b[38;5;241m=\u001b[39m \u001b[43mfunc\u001b[49m\u001b[43m(\u001b[49m\u001b[43marr\u001b[49m\u001b[43m)\u001b[49m\n\u001b[1;32m    337\u001b[0m     index \u001b[38;5;241m=\u001b[39m default_index(\u001b[38;5;28mlen\u001b[39m(res))\n\u001b[1;32m    339\u001b[0m     mgr \u001b[38;5;241m=\u001b[39m \u001b[38;5;28mtype\u001b[39m(\u001b[38;5;28mself\u001b[39m)\u001b[38;5;241m.\u001b[39mfrom_array(res, index)\n",
            "File \u001b[0;32m~/venv/lib/python3.10/site-packages/pandas/core/groupby/groupby.py:1926\u001b[0m, in \u001b[0;36mGroupBy._cython_agg_general.<locals>.array_func\u001b[0;34m(values)\u001b[0m\n\u001b[1;32m   1923\u001b[0m \u001b[38;5;28;01melse\u001b[39;00m:\n\u001b[1;32m   1924\u001b[0m     \u001b[38;5;28;01mreturn\u001b[39;00m result\n\u001b[0;32m-> 1926\u001b[0m result \u001b[38;5;241m=\u001b[39m \u001b[38;5;28;43mself\u001b[39;49m\u001b[38;5;241;43m.\u001b[39;49m\u001b[43m_agg_py_fallback\u001b[49m\u001b[43m(\u001b[49m\u001b[43mhow\u001b[49m\u001b[43m,\u001b[49m\u001b[43m \u001b[49m\u001b[43mvalues\u001b[49m\u001b[43m,\u001b[49m\u001b[43m \u001b[49m\u001b[43mndim\u001b[49m\u001b[38;5;241;43m=\u001b[39;49m\u001b[43mdata\u001b[49m\u001b[38;5;241;43m.\u001b[39;49m\u001b[43mndim\u001b[49m\u001b[43m,\u001b[49m\u001b[43m \u001b[49m\u001b[43malt\u001b[49m\u001b[38;5;241;43m=\u001b[39;49m\u001b[43malt\u001b[49m\u001b[43m)\u001b[49m\n\u001b[1;32m   1927\u001b[0m \u001b[38;5;28;01mreturn\u001b[39;00m result\n",
            "File \u001b[0;32m~/venv/lib/python3.10/site-packages/pandas/core/groupby/groupby.py:1878\u001b[0m, in \u001b[0;36mGroupBy._agg_py_fallback\u001b[0;34m(self, how, values, ndim, alt)\u001b[0m\n\u001b[1;32m   1876\u001b[0m     msg \u001b[38;5;241m=\u001b[39m \u001b[38;5;124mf\u001b[39m\u001b[38;5;124m\"\u001b[39m\u001b[38;5;124magg function failed [how->\u001b[39m\u001b[38;5;132;01m{\u001b[39;00mhow\u001b[38;5;132;01m}\u001b[39;00m\u001b[38;5;124m,dtype->\u001b[39m\u001b[38;5;132;01m{\u001b[39;00mser\u001b[38;5;241m.\u001b[39mdtype\u001b[38;5;132;01m}\u001b[39;00m\u001b[38;5;124m]\u001b[39m\u001b[38;5;124m\"\u001b[39m\n\u001b[1;32m   1877\u001b[0m     \u001b[38;5;66;03m# preserve the kind of exception that raised\u001b[39;00m\n\u001b[0;32m-> 1878\u001b[0m     \u001b[38;5;28;01mraise\u001b[39;00m \u001b[38;5;28mtype\u001b[39m(err)(msg) \u001b[38;5;28;01mfrom\u001b[39;00m\u001b[38;5;250m \u001b[39m\u001b[38;5;21;01merr\u001b[39;00m\n\u001b[1;32m   1880\u001b[0m \u001b[38;5;28;01mif\u001b[39;00m ser\u001b[38;5;241m.\u001b[39mdtype \u001b[38;5;241m==\u001b[39m \u001b[38;5;28mobject\u001b[39m:\n\u001b[1;32m   1881\u001b[0m     res_values \u001b[38;5;241m=\u001b[39m res_values\u001b[38;5;241m.\u001b[39mastype(\u001b[38;5;28mobject\u001b[39m, copy\u001b[38;5;241m=\u001b[39m\u001b[38;5;28;01mFalse\u001b[39;00m)\n",
            "\u001b[0;31mTypeError\u001b[0m: agg function failed [how->mean,dtype->object]"
          ]
        }
      ],
      "outputs_reference": null,
      "content_dependencies": null
    },
    {
      "cell_type": "code",
      "metadata": {
        "source_hash": "1a9f0cba",
        "execution_start": 1743127695745,
        "execution_millis": 2,
        "sql_integration_id": "",
        "execution_context_id": "ca2f94c1-f5a2-4271-8220-9af59ef21879",
        "deepnote_variable_name": "",
        "cell_id": "c125333dfdad477cb62e9293e28e963e",
        "deepnote_cell_type": "code"
      },
      "source": "# First, let's see what we're working with\nprint(\"y_true value counts:\")\nprint(pp['y_true'].value_counts())\n\nprint(\"\\nDataset info:\")\nprint(pp.info())",
      "block_group": "fe13da5c1aaa465eb37651ea37ac7ef9",
      "execution_count": 197,
      "outputs": [
        {
          "name": "stdout",
          "text": "y_true value counts:\ny_true\n0    6\n2    5\n1    4\nName: count, dtype: int64\n\nDataset info:\n<class 'pandas.core.frame.DataFrame'>\nIndex: 15 entries, 234 to 2498\nData columns (total 11 columns):\n #   Column           Non-Null Count  Dtype  \n---  ------           --------------  -----  \n 0   datetime         15 non-null     object \n 1   y_true           15 non-null     int64  \n 2   volume_std_5     15 non-null     float64\n 3   volume_std_mean  15 non-null     float64\n 4   EMA_slope        15 non-null     float64\n 5   volume           15 non-null     int64  \n 6   bearish_2        15 non-null     float64\n 7   bullish_1        15 non-null     float64\n 8   EMA_slope_60     15 non-null     float64\n 9   bullish_flag     15 non-null     int64  \n 10  bearish_flag     15 non-null     int64  \ndtypes: float64(6), int64(4), object(1)\nmemory usage: 1.4+ KB\nNone\n",
          "output_type": "stream"
        }
      ],
      "outputs_reference": null,
      "content_dependencies": null
    },
    {
      "cell_type": "code",
      "metadata": {
        "source_hash": "fbbee539",
        "execution_start": 1743127701619,
        "execution_millis": 4,
        "sql_integration_id": "",
        "execution_context_id": "ca2f94c1-f5a2-4271-8220-9af59ef21879",
        "deepnote_variable_name": "",
        "cell_id": "f399bbb92d6e474497ddad1b92a68759",
        "deepnote_cell_type": "code"
      },
      "source": "# Let's analyze the numerical features grouped by y_true\nnumerical_features = ['volume_std_5', 'volume_std_mean', 'EMA_slope', 'volume', \n                     'bearish_2', 'bullish_1', 'EMA_slope_60']\n\nprint(\"Mean values for each y_true group:\")\nprint(\"=\"*50)\nfor feature in numerical_features:\n    print(f\"\\n{feature}:\")\n    print(pp.groupby('y_true')[feature].mean().round(4))\n    \nprint(\"\\n\\nStandard deviation for each y_true group:\")\nprint(\"=\"*50)\nfor feature in numerical_features:\n    print(f\"\\n{feature}:\")\n    print(pp.groupby('y_true')[feature].std().round(4))",
      "block_group": "74b3301abf174b1e8c678a5b251d1aab",
      "execution_count": 199,
      "outputs": [
        {
          "name": "stdout",
          "text": "Mean values for each y_true group:\n==================================================\n\nvolume_std_5:\ny_true\n0    127.5348\n1    184.6206\n2    136.5803\nName: volume_std_5, dtype: float64\n\nvolume_std_mean:\ny_true\n0    87.8909\n1    96.0218\n2    96.6271\nName: volume_std_mean, dtype: float64\n\nEMA_slope:\ny_true\n0   -1.4706\n1   -1.8438\n2   -1.5717\nName: EMA_slope, dtype: float64\n\nvolume:\ny_true\n0    736.8333\n1    977.2500\n2    860.8000\nName: volume, dtype: float64\n\nbearish_2:\ny_true\n0    0.6511\n1    0.6339\n2    0.6207\nName: bearish_2, dtype: float64\n\nbullish_1:\ny_true\n0    0.5512\n1    0.5624\n2    0.5876\nName: bullish_1, dtype: float64\n\nEMA_slope_60:\ny_true\n0   -0.2462\n1   -0.3819\n2   -0.5979\nName: EMA_slope_60, dtype: float64\n\n\nStandard deviation for each y_true group:\n==================================================\n\nvolume_std_5:\ny_true\n0     67.5760\n1    110.5927\n2    127.1110\nName: volume_std_5, dtype: float64\n\nvolume_std_mean:\ny_true\n0    10.8456\n1     8.7455\n2    12.5976\nName: volume_std_mean, dtype: float64\n\nEMA_slope:\ny_true\n0    0.3720\n1    0.4289\n2    0.2723\nName: EMA_slope, dtype: float64\n\nvolume:\ny_true\n0    329.2631\n1    320.2357\n2    245.4103\nName: volume, dtype: float64\n\nbearish_2:\ny_true\n0    0.0298\n1    0.0339\n2    0.0208\nName: bearish_2, dtype: float64\n\nbullish_1:\ny_true\n0    0.0553\n1    0.0565\n2    0.0338\nName: bullish_1, dtype: float64\n\nEMA_slope_60:\ny_true\n0    0.2073\n1    0.2907\n2    0.2295\nName: EMA_slope_60, dtype: float64\n",
          "output_type": "stream"
        }
      ],
      "outputs_reference": null,
      "content_dependencies": null
    },
    {
      "cell_type": "code",
      "metadata": {
        "source_hash": "5cbb5d74",
        "execution_start": 1743127708625,
        "execution_millis": 0,
        "sql_integration_id": "",
        "execution_context_id": "ca2f94c1-f5a2-4271-8220-9af59ef21879",
        "deepnote_variable_name": "",
        "cell_id": "53811feeb055424984d609b35eb4851c",
        "deepnote_cell_type": "code"
      },
      "source": "# Calculate the percentage differences between groups\nprint(\"Percentage differences between groups (relative to y_true=0):\")\nprint(\"=\"*50)\n\nfor feature in numerical_features:\n    base = pp[pp['y_true'] == 0][feature].mean()\n    print(f\"\\n{feature}:\")\n    for y_val in [1, 2]:\n        comparison = pp[pp['y_true'] == y_val][feature].mean()\n        pct_diff = ((comparison - base) / base) * 100\n        print(f\"y_true={y_val} vs y_true=0: {pct_diff:.2f}%\")",
      "block_group": "572e81ce00a74334bfcc7254f637ec82",
      "execution_count": 201,
      "outputs": [
        {
          "name": "stdout",
          "text": "Percentage differences between groups (relative to y_true=0):\n==================================================\n\nvolume_std_5:\ny_true=1 vs y_true=0: 44.76%\ny_true=2 vs y_true=0: 7.09%\n\nvolume_std_mean:\ny_true=1 vs y_true=0: 9.25%\ny_true=2 vs y_true=0: 9.94%\n\nEMA_slope:\ny_true=1 vs y_true=0: 25.37%\ny_true=2 vs y_true=0: 6.87%\n\nvolume:\ny_true=1 vs y_true=0: 32.63%\ny_true=2 vs y_true=0: 16.82%\n\nbearish_2:\ny_true=1 vs y_true=0: -2.65%\ny_true=2 vs y_true=0: -4.68%\n\nbullish_1:\ny_true=1 vs y_true=0: 2.02%\ny_true=2 vs y_true=0: 6.61%\n\nEMA_slope_60:\ny_true=1 vs y_true=0: 55.11%\ny_true=2 vs y_true=0: 142.81%\n",
          "output_type": "stream"
        }
      ],
      "outputs_reference": null,
      "content_dependencies": null
    },
    {
      "cell_type": "markdown",
      "metadata": {
        "cell_id": "962c3c717f4f4a329fe14af1a49e73c7",
        "deepnote_cell_type": "text-cell-p"
      },
      "source": "Key differences in characteristics between y_true groups:\n\n1. Volume-related metrics:\n- y_true=1 shows significantly higher volume_std_5 (44.76% higher) and volume (32.63% higher) compared to y_true=0\n- y_true=2 shows moderate increases in volume metrics but less pronounced than y_true=1\n\n2. EMA slopes:\n- EMA_slope_60 shows the most dramatic differences: y_true=2 is 142.81% more negative than y_true=0\n- EMA_slope is more negative for y_true=1 (25.37% difference) compared to other groups\n\n3. Bearish/Bullish indicators:\n- bearish_2 gradually decreases as y_true increases (highest for y_true=0)\n- bullish_1 gradually increases as y_true increases (highest for y_true=2)\n\n4. Volatility indicators:\n- volume_std_5 shows highest variability (std) for y_true=2\n- volume_std_mean is most stable for y_true=1 (lowest std)\n\nThese patterns suggest that:\n- y_true=1 events are characterized by higher volume and volatility\n- y_true=2 events show stronger negative EMA_slope_60 and higher bullish_1 values\n- y_true=0 events have the highest bearish_2 values but lower volume and volatility",
      "block_group": "6ac3cbdacb92442288f20afb369a864e"
    },
    {
      "cell_type": "markdown",
      "metadata": {
        "color": "purple",
        "cell_id": "ab6f9c3ab3d441ccab2b15037259f9fd",
        "deepnote_cell_type": "text-cell-callout"
      },
      "source": "> can you identify differences in the pp data where y_true difference characterstics by looking at all the features available.  Consider y_true =2 vs y_true (both 0 & 1 ) combined together..",
      "block_group": "03cfd10dc2c44b6c945490dba5039115"
    },
    {
      "cell_type": "code",
      "metadata": {
        "source_hash": "2a7c4de",
        "execution_start": 1743127990215,
        "execution_millis": 143,
        "sql_integration_id": "",
        "execution_context_id": "ca2f94c1-f5a2-4271-8220-9af59ef21879",
        "deepnote_variable_name": "",
        "cell_id": "fc881f31520b4ee0a182385af121be8d",
        "deepnote_cell_type": "code"
      },
      "source": "# Create two groups: y_true=2 and y_true in [0,1]\ngroup_2 = pp[pp['y_true'] == 2]\ngroup_01 = pp[pp['y_true'].isin([0,1])]\n\n# Get all numeric columns for analysis\nnumeric_cols = pp.select_dtypes(include=['float64', 'int64']).columns\n\n# Calculate mean and std for both groups\nprint(\"Mean and Standard Deviation Comparison:\")\nprint(\"=\"*80)\nprint(\"\\nGroup y_true=2:\")\nprint(group_2[numeric_cols].describe().round(4))\nprint(\"\\nGroup y_true=[0,1]:\")\nprint(group_01[numeric_cols].describe().round(4))\n\n# Calculate percentage differences in means\nprint(\"\\nPercentage difference in means (y_true=2 vs y_true=[0,1]):\")\nprint(\"=\"*80)\nfor col in numeric_cols:\n    mean_2 = group_2[col].mean()\n    mean_01 = group_01[col].mean()\n    pct_diff = ((mean_2 - mean_01) / mean_01) * 100\n    print(f\"\\n{col}:\")\n    print(f\"Group 2 mean: {mean_2:.4f}\")\n    print(f\"Group [0,1] mean: {mean_01:.4f}\")\n    print(f\"Percentage difference: {pct_diff:.2f}%\")",
      "block_group": "580dc6ee360f4e7ba9f16a6206e3ba5a",
      "execution_count": 213,
      "outputs": [
        {
          "name": "stdout",
          "text": "Mean and Standard Deviation Comparison:\n================================================================================\n\nGroup y_true=2:\n             Open        High         Low       Close     volume   minute  \\\ncount     26.0000     26.0000     26.0000     26.0000    26.0000  26.0000   \nmean   10785.3654  10788.7654  10783.4654  10787.2077   568.5385  26.1538   \nstd       14.0302     15.0156     14.0399     14.9971   264.0946  16.8705   \nmin    10767.4000  10772.1000  10765.9000  10771.4000   198.0000   0.0000   \n25%    10775.1500  10776.1500  10772.7250  10775.1000   403.7500  10.0000   \n50%    10778.2500  10781.9500  10777.1000  10779.0000   491.0000  27.5000   \n75%    10795.3750  10798.2250  10791.7500  10796.5000   759.2500  40.0000   \nmax    10815.6000  10821.2000  10813.4000  10818.7000  1214.0000  55.0000   \n\n          hour     diff  diff_lag_1  diff_lag_2  ...  bearish_1  bearish_2  \\\ncount  26.0000  26.0000     26.0000     26.0000  ...       26.0    26.0000   \nmean    9.1538   1.8423      2.6577      1.0846  ...        0.0     0.5644   \nstd     3.7915   3.6903      3.7905      4.1138  ...        0.0     0.0733   \nmin     5.0000  -4.3000     -4.3000    -10.6000  ...        0.0     0.4292   \n25%     6.0000  -1.0500      0.7750     -0.5000  ...        0.0     0.5135   \n50%     6.5000   1.8500      2.2000      1.5000  ...        0.0     0.5556   \n75%    12.0000   3.7000      4.0750      2.9500  ...        0.0     0.6197   \nmax    17.0000  12.2000     12.2000     10.0000  ...        0.0     0.7138   \n\n       bearish_3  bullish_0  bullish_1  bullish_2  bullish_3  y_true  \\\ncount       26.0    26.0000    26.0000       26.0       26.0    26.0   \nmean         0.0     0.4398     0.5602        0.0        0.0     2.0   \nstd          0.0     0.0594     0.0594        0.0        0.0     0.0   \nmin          0.0     0.3550     0.4409        0.0        0.0     2.0   \n25%          0.0     0.3901     0.5237        0.0        0.0     2.0   \n50%          0.0     0.4304     0.5696        0.0        0.0     2.0   \n75%          0.0     0.4763     0.6099        0.0        0.0     2.0   \nmax          0.0     0.5591     0.6450        0.0        0.0     2.0   \n\n       bullish_flag  bearish_flag  \ncount       26.0000       26.0000  \nmean         0.0769        0.1538  \nstd          0.2717        0.5435  \nmin          0.0000        0.0000  \n25%          0.0000        0.0000  \n50%          0.0000        0.0000  \n75%          0.0000        0.0000  \nmax          1.0000        2.0000  \n\n[8 rows x 101 columns]\n\nGroup y_true=[0,1]:\n             Open        High         Low       Close     volume    minute  \\\ncount    224.0000    224.0000    224.0000    224.0000   224.0000  224.0000   \nmean   10788.0518  10789.8687  10785.9768  10787.9286   460.3304   27.8348   \nstd       11.9695     11.5386     12.4713     11.8603   332.7073   17.3431   \nmin    10757.1000  10762.8000  10754.2000  10757.0000     1.0000    0.0000   \n25%    10780.1750  10781.7750  10778.0000  10780.1000   193.5000   15.0000   \n50%    10793.4000  10794.9500  10791.9500  10793.2500   424.5000   30.0000   \n75%    10796.9250  10797.8000  10796.2000  10797.0000   666.2500   45.0000   \nmax    10818.6000  10820.4000  10807.1000  10807.7000  1768.0000   55.0000   \n\n          hour      diff  diff_lag_1  diff_lag_2  ...  bearish_1  bearish_2  \\\ncount  224.000  224.0000    224.0000    224.0000  ...      224.0   224.0000   \nmean    13.183   -0.1232     -0.2259     -0.0469  ...        0.0     0.5542   \nstd      6.697    2.9275      2.8324      2.9106  ...        0.0     0.0993   \nmin      0.000  -11.5000    -11.5000    -11.5000  ...        0.0     0.3942   \n25%      8.750   -1.5000     -1.6250     -1.6000  ...        0.0     0.4676   \n50%     14.000    0.0000     -0.2000     -0.1500  ...        0.0     0.5749   \n75%     19.000    1.4000      1.4000      1.5000  ...        0.0     0.6363   \nmax     23.000   10.0000      8.9000     12.2000  ...        0.0     0.7169   \n\n       bearish_3  bullish_0  bullish_1  bullish_2  bullish_3    y_true  \\\ncount      224.0   224.0000   224.0000      224.0      224.0  224.0000   \nmean         0.0     0.4490     0.5510        0.0        0.0    0.2188   \nstd          0.0     0.1059     0.1059        0.0        0.0    0.4143   \nmin          0.0     0.2729     0.3419        0.0        0.0    0.0000   \n25%          0.0     0.3634     0.4625        0.0        0.0    0.0000   \n50%          0.0     0.4224     0.5776        0.0        0.0    0.0000   \n75%          0.0     0.5375     0.6366        0.0        0.0    0.0000   \nmax          0.0     0.6581     0.7271        0.0        0.0    1.0000   \n\n       bullish_flag  bearish_flag  \ncount      224.0000      224.0000  \nmean         0.0045        0.0089  \nstd          0.0668        0.1336  \nmin          0.0000        0.0000  \n25%          0.0000        0.0000  \n50%          0.0000        0.0000  \n75%          0.0000        0.0000  \nmax          1.0000        2.0000  \n\n[8 rows x 101 columns]\n\nPercentage difference in means (y_true=2 vs y_true=[0,1]):\n================================================================================\n\nOpen:\nGroup 2 mean: 10785.3654\nGroup [0,1] mean: 10788.0518\nPercentage difference: -0.02%\n\nHigh:\nGroup 2 mean: 10788.7654\nGroup [0,1] mean: 10789.8687\nPercentage difference: -0.01%\n\nLow:\nGroup 2 mean: 10783.4654\nGroup [0,1] mean: 10785.9768\nPercentage difference: -0.02%\n\nClose:\nGroup 2 mean: 10787.2077\nGroup [0,1] mean: 10787.9286\nPercentage difference: -0.01%\n\nvolume:\nGroup 2 mean: 568.5385\nGroup [0,1] mean: 460.3304\nPercentage difference: 23.51%\n\nminute:\nGroup 2 mean: 26.1538\nGroup [0,1] mean: 27.8348\nPercentage difference: -6.04%\n\nhour:\nGroup 2 mean: 9.1538\nGroup [0,1] mean: 13.1830\nPercentage difference: -30.56%\n\ndiff:\nGroup 2 mean: 1.8423\nGroup [0,1] mean: -0.1232\nPercentage difference: -1595.21%\n\ndiff_lag_1:\nGroup 2 mean: 2.6577\nGroup [0,1] mean: -0.2259\nPercentage difference: -1276.53%\n\ndiff_lag_2:\nGroup 2 mean: 1.0846\nGroup [0,1] mean: -0.0469\nPercentage difference: -2413.85%\n\ndiff_lag_3:\nGroup 2 mean: 0.9308\nGroup [0,1] mean: -0.0263\nPercentage difference: -3633.77%\n\ndiff_lag_4:\nGroup 2 mean: 0.1923\nGroup [0,1] mean: 0.0634\nPercentage difference: 203.36%\n\ndiff_lag_5:\nGroup 2 mean: 0.3962\nGroup [0,1] mean: 0.0397\nPercentage difference: 897.06%\n\ndiff_lag_6:\nGroup 2 mean: 0.6077\nGroup [0,1] mean: 0.0022\nPercentage difference: 27124.62%\n\ndiff_lag_7:\nGroup 2 mean: -0.1731\nGroup [0,1] mean: 0.0835\nPercentage difference: -307.32%\n\ndiff_lag_8:\nGroup 2 mean: 0.1692\nGroup [0,1] mean: 0.0321\nPercentage difference: 426.50%\n\ndiff_lag_9:\nGroup 2 mean: -0.4192\nGroup [0,1] mean: 0.1112\nPercentage difference: -477.14%\n\ndiff_lag_10:\nGroup 2 mean: 0.5115\nGroup [0,1] mean: 0.0063\nPercentage difference: 8084.62%\n\ndiff_lag_11:\nGroup 2 mean: -0.7154\nGroup [0,1] mean: 0.1442\nPercentage difference: -596.12%\n\ndiff_lag_12:\nGroup 2 mean: -0.5885\nGroup [0,1] mean: 0.1460\nPercentage difference: -503.11%\n\ndiff_lag_13:\nGroup 2 mean: 0.0385\nGroup [0,1] mean: 0.0603\nPercentage difference: -36.18%\n\ndiff_lag_14:\nGroup 2 mean: 0.4769\nGroup [0,1] mean: 0.0147\nPercentage difference: 3137.30%\n\ndiff_lag_15:\nGroup 2 mean: 0.0846\nGroup [0,1] mean: 0.0607\nPercentage difference: 39.37%\n\ndiff_lag_16:\nGroup 2 mean: -1.3038\nGroup [0,1] mean: 0.2125\nPercentage difference: -713.57%\n\ndiff_lag_17:\nGroup 2 mean: -0.8346\nGroup [0,1] mean: 0.1750\nPercentage difference: -576.92%\n\ndiff_lag_18:\nGroup 2 mean: -0.0808\nGroup [0,1] mean: 0.1031\nPercentage difference: -178.32%\n\ndiff_lag_19:\nGroup 2 mean: 0.4615\nGroup [0,1] mean: 0.0460\nPercentage difference: 903.73%\n\ndiff_lag_20:\nGroup 2 mean: 0.7231\nGroup [0,1] mean: 0.0192\nPercentage difference: 3666.73%\n\ndiff_lag_21:\nGroup 2 mean: 0.0962\nGroup [0,1] mean: 0.0888\nPercentage difference: 8.23%\n\ndiff_lag_22:\nGroup 2 mean: -0.2846\nGroup [0,1] mean: 0.1299\nPercentage difference: -319.09%\n\ndiff_lag_23:\nGroup 2 mean: 0.0231\nGroup [0,1] mean: 0.0964\nPercentage difference: -76.07%\n\ndiff_lag_24:\nGroup 2 mean: -0.0615\nGroup [0,1] mean: 0.1098\nPercentage difference: -156.04%\n\ndiff_lag_25:\nGroup 2 mean: 0.7846\nGroup [0,1] mean: 0.0384\nPercentage difference: 1943.65%\n\ndiff_lag_26:\nGroup 2 mean: 0.8038\nGroup [0,1] mean: 0.0299\nPercentage difference: 2587.49%\n\ndiff_lag_27:\nGroup 2 mean: 0.0462\nGroup [0,1] mean: 0.1107\nPercentage difference: -58.31%\n\ndiff_lag_28:\nGroup 2 mean: 0.3846\nGroup [0,1] mean: 0.0719\nPercentage difference: 435.12%\n\ndiff_lag_29:\nGroup 2 mean: 0.3077\nGroup [0,1] mean: 0.0692\nPercentage difference: 344.67%\n\ndiff_lag_30:\nGroup 2 mean: 0.6192\nGroup [0,1] mean: 0.0362\nPercentage difference: 1612.44%\n\ndiff_lag_31:\nGroup 2 mean: 0.6808\nGroup [0,1] mean: 0.0241\nPercentage difference: 2723.93%\n\ndiff_lag_32:\nGroup 2 mean: 0.7269\nGroup [0,1] mean: 0.0036\nPercentage difference: 20253.85%\n\ndiff_lag_33:\nGroup 2 mean: -0.3308\nGroup [0,1] mean: 0.1406\nPercentage difference: -335.21%\n\ndiff_lag_34:\nGroup 2 mean: 0.1846\nGroup [0,1] mean: 0.0866\nPercentage difference: 113.16%\n\ndiff_lag_35:\nGroup 2 mean: 0.4308\nGroup [0,1] mean: 0.0571\nPercentage difference: 653.85%\n\ndiff_lag_36:\nGroup 2 mean: 0.6154\nGroup [0,1] mean: 0.0357\nPercentage difference: 1623.08%\n\ndiff_lag_37:\nGroup 2 mean: 0.1115\nGroup [0,1] mean: 0.1103\nPercentage difference: 1.15%\n\ndiff_lag_38:\nGroup 2 mean: -0.3462\nGroup [0,1] mean: 0.1737\nPercentage difference: -299.33%\n\ndiff_lag_39:\nGroup 2 mean: -0.2654\nGroup [0,1] mean: 0.1795\nPercentage difference: -247.88%\n\ndiff_lag_40:\nGroup 2 mean: -0.0538\nGroup [0,1] mean: 0.1438\nPercentage difference: -137.46%\n\ndiff_lag_41:\nGroup 2 mean: -0.7154\nGroup [0,1] mean: 0.2250\nPercentage difference: -417.95%\n\ndiff_lag_42:\nGroup 2 mean: -0.1962\nGroup [0,1] mean: 0.1862\nPercentage difference: -205.37%\n\ndiff_lag_43:\nGroup 2 mean: 0.7269\nGroup [0,1] mean: 0.0705\nPercentage difference: 930.57%\n\ndiff_lag_44:\nGroup 2 mean: 0.6000\nGroup [0,1] mean: 0.0871\nPercentage difference: 589.23%\n\ndiff_lag_45:\nGroup 2 mean: 0.0692\nGroup [0,1] mean: 0.1379\nPercentage difference: -49.81%\n\ndiff_lag_46:\nGroup 2 mean: 0.1577\nGroup [0,1] mean: 0.1281\nPercentage difference: 23.08%\n\ndiff_lag_47:\nGroup 2 mean: 0.5346\nGroup [0,1] mean: 0.0960\nPercentage difference: 456.99%\n\ndiff_lag_48:\nGroup 2 mean: 1.3231\nGroup [0,1] mean: 0.0210\nPercentage difference: 6205.73%\n\ndiff_lag_49:\nGroup 2 mean: 0.2154\nGroup [0,1] mean: 0.1455\nPercentage difference: 47.99%\n\ndiff_lag_50:\nGroup 2 mean: -0.1192\nGroup [0,1] mean: 0.1853\nPercentage difference: -164.36%\n\ndiff_lag_51:\nGroup 2 mean: -0.1500\nGroup [0,1] mean: 0.2067\nPercentage difference: -172.57%\n\ndiff_lag_52:\nGroup 2 mean: -0.4423\nGroup [0,1] mean: 0.2455\nPercentage difference: -280.14%\n\ndiff_lag_53:\nGroup 2 mean: 0.1769\nGroup [0,1] mean: 0.1835\nPercentage difference: -3.57%\n\ndiff_lag_54:\nGroup 2 mean: 0.8000\nGroup [0,1] mean: 0.1205\nPercentage difference: 563.70%\n\ndiff_lag_55:\nGroup 2 mean: 1.2500\nGroup [0,1] mean: 0.0665\nPercentage difference: 1779.19%\n\ndiff_lag_56:\nGroup 2 mean: 1.0385\nGroup [0,1] mean: 0.0987\nPercentage difference: 952.56%\n\ndiff_lag_57:\nGroup 2 mean: 0.9615\nGroup [0,1] mean: 0.1223\nPercentage difference: 686.08%\n\ndiff_lag_58:\nGroup 2 mean: 0.6769\nGroup [0,1] mean: 0.1692\nPercentage difference: 300.08%\n\ndiff_lag_59:\nGroup 2 mean: 0.7846\nGroup [0,1] mean: 0.1589\nPercentage difference: 393.69%\n\ndiff_lag_60:\nGroup 2 mean: 1.3962\nGroup [0,1] mean: 0.0701\nPercentage difference: 1891.96%\n\nmax_high_6:\nGroup 2 mean: 10790.4192\nGroup [0,1] mean: 10790.5284\nPercentage difference: -0.00%\n\nmin_low_6:\nGroup 2 mean: 10774.6500\nGroup [0,1] mean: 10777.3518\nPercentage difference: -0.03%\n\nmax_high_20:\nGroup 2 mean: 10791.0808\nGroup [0,1] mean: 10798.5189\nPercentage difference: -0.07%\n\nmin_low_20:\nGroup 2 mean: 10766.7769\nGroup [0,1] mean: 10774.0740\nPercentage difference: -0.07%\n\nupward_move_6:\nGroup 2 mean: 3.2115\nGroup [0,1] mean: 7.8567\nPercentage difference: -59.12%\n\ndownward_move_6:\nGroup 2 mean: 12.5577\nGroup [0,1] mean: 5.3199\nPercentage difference: 136.05%\n\nupward_move_20:\nGroup 2 mean: 3.8731\nGroup [0,1] mean: 17.0472\nPercentage difference: -77.28%\n\ndownward_move_20:\nGroup 2 mean: 20.4308\nGroup [0,1] mean: 7.3976\nPercentage difference: 176.18%\n\nbullish_move_20:\nGroup 2 mean: 0.0004\nGroup [0,1] mean: 0.0016\nPercentage difference: -77.29%\n\nbearish_move_20:\nGroup 2 mean: 0.0019\nGroup [0,1] mean: 0.0007\nPercentage difference: 176.05%\n\nbullish_move_flag_20:\nGroup 2 mean: 0.0000\nGroup [0,1] mean: 0.2188\nPercentage difference: -100.00%\n\nbearish_move_flag_20:\nGroup 2 mean: 2.0000\nGroup [0,1] mean: 0.0000\nPercentage difference: inf%\n\nvolume_std_5:\nGroup 2 mean: 126.1951\nGroup [0,1] mean: 88.1198\nPercentage difference: 43.21%\n\nvolume_std_mean:\nGroup 2 mean: 87.0815\nGroup [0,1] mean: 92.9012\nPercentage difference: -6.26%\n\nvolume_mean_5:\nGroup 2 mean: 569.7231\nGroup [0,1] mean: 459.2759\nPercentage difference: 24.05%\n\nvolume_mean_3:\nGroup 2 mean: 601.3974\nGroup [0,1] mean: 456.0283\nPercentage difference: 31.88%\n\nmove_from_top:\nGroup 2 mean: 0.1085\nGroup [0,1] mean: 0.1382\nPercentage difference: -21.49%\n\nmove_from_bottom:\nGroup 2 mean: 0.2230\nGroup [0,1] mean: 0.1300\nPercentage difference: 71.49%\n\nEMA_slope:\nGroup 2 mean: 0.9130\nGroup [0,1] mean: -0.0439\nPercentage difference: -2181.70%\n\nEMA_slope_15:\nGroup 2 mean: 0.6116\nGroup [0,1] mean: -0.0076\nPercentage difference: -8162.27%\n\nEMA_slope_60:\nGroup 2 mean: 0.2992\nGroup [0,1] mean: 0.0726\nPercentage difference: 312.29%\n\ndeviation_:\nGroup 2 mean: 0.0000\nGroup [0,1] mean: 0.0000\nPercentage difference: nan%\n\nbearish_0:\nGroup 2 mean: 0.4356\nGroup [0,1] mean: 0.4458\nPercentage difference: -2.29%\n\nbearish_1:\nGroup 2 mean: 0.0000\nGroup [0,1] mean: 0.0000\nPercentage difference: 0.79%\n\nbearish_2:\nGroup 2 mean: 0.5644\nGroup [0,1] mean: 0.5542\nPercentage difference: 1.84%\n\nbearish_3:\nGroup 2 mean: 0.0000\nGroup [0,1] mean: 0.0000\nPercentage difference: 0.79%\n\nbullish_0:\nGroup 2 mean: 0.4398\nGroup [0,1] mean: 0.4490\nPercentage difference: -2.05%\n\nbullish_1:\nGroup 2 mean: 0.5602\nGroup [0,1] mean: 0.5510\nPercentage difference: 1.67%\n\nbullish_2:\nGroup 2 mean: 0.0000\nGroup [0,1] mean: 0.0000\nPercentage difference: 1.49%\n\nbullish_3:\nGroup 2 mean: 0.0000\nGroup [0,1] mean: 0.0000\nPercentage difference: 1.49%\n\ny_true:\nGroup 2 mean: 2.0000\nGroup [0,1] mean: 0.2188\nPercentage difference: 814.29%\n\nbullish_flag:\nGroup 2 mean: 0.0769\nGroup [0,1] mean: 0.0045\nPercentage difference: 1623.08%\n\nbearish_flag:\nGroup 2 mean: 0.1538\nGroup [0,1] mean: 0.0089\nPercentage difference: 1623.08%\n/tmp/ipykernel_197/3918542735.py:22: RuntimeWarning:\n\ndivide by zero encountered in scalar divide\n\n/tmp/ipykernel_197/3918542735.py:22: RuntimeWarning:\n\ninvalid value encountered in scalar divide\n\n",
          "output_type": "stream"
        }
      ],
      "outputs_reference": null,
      "content_dependencies": null
    },
    {
      "cell_type": "code",
      "metadata": {
        "source_hash": "16517732",
        "execution_start": 1743127999611,
        "execution_millis": 2,
        "sql_integration_id": "",
        "execution_context_id": "ca2f94c1-f5a2-4271-8220-9af59ef21879",
        "deepnote_variable_name": "",
        "cell_id": "110d726701964ddb9761a4308307ba92",
        "deepnote_cell_type": "code"
      },
      "source": "# Let's focus on the most significant differences and create a more focused analysis\n# Filter for the most relevant features\nkey_features = ['EMA_slope', 'EMA_slope_60', 'volume', 'volume_std_5', \n                'bearish_2', 'bullish_1', 'move_from_top', 'move_from_bottom']\n\n# Calculate statistical significance using t-test\nfrom scipy import stats\n\nprint(\"Statistical Analysis of Key Features:\")\nprint(\"=\"*80)\nfor feature in key_features:\n    if feature in pp.columns:\n        # Perform t-test\n        t_stat, p_val = stats.ttest_ind(group_2[feature], group_01[feature])\n        \n        # Calculate effect size (Cohen's d)\n        n1, n2 = len(group_2), len(group_01)\n        var1, var2 = group_2[feature].var(), group_01[feature].var()\n        pooled_se = np.sqrt(((n1 - 1) * var1 + (n2 - 1) * var2) / (n1 + n2 - 2))\n        cohens_d = (group_2[feature].mean() - group_01[feature].mean()) / pooled_se\n        \n        print(f\"\\n{feature}:\")\n        print(f\"Mean (y_true=2): {group_2[feature].mean():.4f}\")\n        print(f\"Mean (y_true=[0,1]): {group_01[feature].mean():.4f}\")\n        print(f\"T-statistic: {t_stat:.4f}\")\n        print(f\"P-value: {p_val:.4f}\")\n        print(f\"Effect size (Cohen's d): {cohens_d:.4f}\")",
      "block_group": "3087afd5a85c4757a09cb97749edf0a0",
      "execution_count": 215,
      "outputs": [
        {
          "name": "stdout",
          "text": "Statistical Analysis of Key Features:\n================================================================================\n\nEMA_slope:\nMean (y_true=2): 0.9130\nMean (y_true=[0,1]): -0.0439\nT-statistic: 5.1978\nP-value: 0.0000\nEffect size (Cohen's d): 1.0769\n\nEMA_slope_60:\nMean (y_true=2): 0.2992\nMean (y_true=[0,1]): 0.0726\nT-statistic: 5.1595\nP-value: 0.0000\nEffect size (Cohen's d): 1.0690\n\nvolume:\nMean (y_true=2): 568.5385\nMean (y_true=[0,1]): 460.3304\nT-statistic: 1.5999\nP-value: 0.1109\nEffect size (Cohen's d): 0.3315\n\nvolume_std_5:\nMean (y_true=2): 126.1951\nMean (y_true=[0,1]): 88.1198\nT-statistic: 2.0932\nP-value: 0.0374\nEffect size (Cohen's d): 0.4337\n\nbearish_2:\nMean (y_true=2): 0.5644\nMean (y_true=[0,1]): 0.5542\nT-statistic: 0.5078\nP-value: 0.6120\nEffect size (Cohen's d): 0.1052\n\nbullish_1:\nMean (y_true=2): 0.5602\nMean (y_true=[0,1]): 0.5510\nT-statistic: 0.4337\nP-value: 0.6649\nEffect size (Cohen's d): 0.0899\n\nmove_from_top:\nMean (y_true=2): 0.1085\nMean (y_true=[0,1]): 0.1382\nT-statistic: -1.9262\nP-value: 0.0552\nEffect size (Cohen's d): -0.3991\n\nmove_from_bottom:\nMean (y_true=2): 0.2230\nMean (y_true=[0,1]): 0.1300\nT-statistic: 5.2256\nP-value: 0.0000\nEffect size (Cohen's d): 1.0827\n",
          "output_type": "stream"
        }
      ],
      "outputs_reference": null,
      "content_dependencies": null
    },
    {
      "cell_type": "markdown",
      "metadata": {
        "cell_id": "e741b9aaabae4d56a1e354c86f3f4cc3",
        "deepnote_cell_type": "text-cell-p"
      },
      "source": "Key findings comparing y_true=2 vs y_true=[0,1]:\n\n1. Most statistically significant differences (p < 0.05):\n- EMA_slope: Much higher for y_true=2 (0.913 vs -0.044)\n- EMA_slope_60: Higher for y_true=2 (0.299 vs 0.073)\n- volume_std_5: Higher volatility for y_true=2 (126.20 vs 88.12)\n- move_from_bottom: Significantly higher for y_true=2 (0.223 vs 0.130)\n\n2. Notable effect sizes (Cohen's d > 0.8):\n- move_from_bottom: Very large effect (d = 1.083)\n- EMA_slope: Very large effect (d = 1.077)\n- EMA_slope_60: Very large effect (d = 1.069)\n\n3. Moderate differences (not statistically significant):\n- volume: Higher for y_true=2 but not significant (568.54 vs 460.33)\n- move_from_top: Lower for y_true=2 (0.109 vs 0.138)\n\n4. Minimal differences:\n- bearish_2 and bullish_1 show very small differences between groups\n- Both indicators have low effect sizes (d < 0.11) and high p-values\n\nThis suggests that y_true=2 events are characterized by stronger upward momentum (higher EMA slopes), higher volatility, and larger moves from bottom, while traditional bearish/bullish indicators are less discriminative.",
      "block_group": "835c103c79aa4411a33519e970542ee2"
    },
    {
      "cell_type": "markdown",
      "metadata": {
        "color": "purple",
        "cell_id": "6c90cd1a589747f5a120c12ab6b0e685",
        "deepnote_cell_type": "text-cell-callout"
      },
      "source": "> can you summarise the findings better ? what changes do you suggest?",
      "block_group": "de78c30698134181941997b1a5e29efc"
    },
    {
      "cell_type": "code",
      "metadata": {
        "source_hash": "1c59ea44",
        "execution_start": 1743128121645,
        "execution_millis": 0,
        "sql_integration_id": "",
        "execution_context_id": "ca2f94c1-f5a2-4271-8220-9af59ef21879",
        "deepnote_variable_name": "",
        "cell_id": "379685f6cad24e92952a94d8ae28b7d8",
        "deepnote_cell_type": "code"
      },
      "source": "# Quick validation of our existing correct_predictions dataframe patterns\npattern_summary = correct_predictions.groupby(['y_true']).agg({\n    'volume': ['mean', 'std'],\n    'EMA_slope': ['mean', 'std'],\n    'EMA_slope_60': ['mean', 'std'],\n    'bearish_2': ['mean', 'std'],\n    'bullish_1': ['mean', 'std'],\n    'volume_std_5': ['mean', 'std']\n}).round(4)\n\n# Calculate success rate for each y_true value\nsuccess_by_y_true = correct_predictions.groupby('y_true').size()\ntotal_by_y_true = len(correct_predictions)\nsuccess_rate = (success_by_y_true / total_by_y_true * 100).round(2)\n\nprint(\"Success Rate by y_true value:\")\nprint(success_rate)\nprint(\"\\nPattern Summary by y_true:\")\nprint(pattern_summary)",
      "block_group": "3d9da0600979463c9ce669eba0c960b6",
      "execution_count": 217,
      "outputs": [
        {
          "name": "stdout",
          "text": "Success Rate by y_true value:\nSeries([], dtype: float64)\n\nPattern Summary by y_true:\nEmpty DataFrame\nColumns: [(volume, mean), (volume, std), (EMA_slope, mean), (EMA_slope, std), (EMA_slope_60, mean), (EMA_slope_60, std), (bearish_2, mean), (bearish_2, std), (bullish_1, mean), (bullish_1, std), (volume_std_5, mean), (volume_std_5, std)]\nIndex: []\n",
          "output_type": "stream"
        }
      ],
      "outputs_reference": null,
      "content_dependencies": null
    },
    {
      "cell_type": "code",
      "metadata": {
        "source_hash": "de7be0b",
        "execution_start": 1743128137675,
        "execution_millis": 0,
        "sql_integration_id": "",
        "execution_context_id": "ca2f94c1-f5a2-4271-8220-9af59ef21879",
        "deepnote_variable_name": "",
        "cell_id": "08dea1ccacdb4cc8928c5b92dcb1b749",
        "deepnote_cell_type": "code"
      },
      "source": "# Let's summarize our findings in a more structured way\nprint(\"SUMMARY OF MARKET PATTERN ANALYSIS\\n\")\nprint(\"1. STRONG PREDICTIVE INDICATORS:\")\nprint(\"-\" * 50)\nprint(\"a) Momentum Indicators:\")\nprint(f\"   - EMA_slope: y_true=2 avg {group_2['EMA_slope'].mean():.3f} vs others {group_01['EMA_slope'].mean():.3f}\")\nprint(f\"   - EMA_slope_60: y_true=2 avg {group_2['EMA_slope_60'].mean():.3f} vs others {group_01['EMA_slope_60'].mean():.3f}\")\n\nprint(\"\\nb) Price Movement Patterns:\")\nprint(f\"   - Move from bottom: y_true=2 avg {group_2['move_from_bottom'].mean():.3f} vs others {group_01['move_from_bottom'].mean():.3f}\")\nprint(f\"   - Move from top: y_true=2 avg {group_2['move_from_top'].mean():.3f} vs others {group_01['move_from_top'].mean():.3f}\")\n\nprint(\"\\n2. MODERATE INDICATORS:\")\nprint(\"-\" * 50)\nprint(\"Volume Patterns:\")\nprint(f\"   - Volume: y_true=2 avg {group_2['volume'].mean():.1f} vs others {group_01['volume'].mean():.1f}\")\nprint(f\"   - Volume Std (5): y_true=2 avg {group_2['volume_std_5'].mean():.1f} vs others {group_01['volume_std_5'].mean():.1f}\")\n\nprint(\"\\n3. WEAK INDICATORS:\")\nprint(\"-\" * 50)\nprint(\"Traditional Indicators:\")\nprint(f\"   - Bearish_2: y_true=2 avg {group_2['bearish_2'].mean():.3f} vs others {group_01['bearish_2'].mean():.3f}\")\nprint(f\"   - Bullish_1: y_true=2 avg {group_2['bullish_1'].mean():.3f} vs others {group_01['bullish_1'].mean():.3f}\")\n\nprint(\"\\nSUGGESTED IMPROVEMENTS:\")\nprint(\"-\" * 50)\nprint(\"1. Primary Strategy Adjustments:\")\nprint(\"   - Focus on EMA slope combinations (both short and long term)\")\nprint(\"   - Incorporate move_from_bottom as primary indicator\")\nprint(\"   - Use volume patterns as confirmation signals\")\n\nprint(\"\\n2. Entry/Exit Modifications:\")\nprint(\"   - Enter on strong EMA_slope (> 0.9) with high move_from_bottom (> 0.22)\")\nprint(\"   - Use volume spikes (> 550) as confirmation\")\nprint(\"   - Consider trailing stops based on EMA_slope_60 changes\")\n\nprint(\"\\n3. Risk Management:\")\nprint(\"   - Tighter stops when move_from_top > 0.11 (higher risk)\")\nprint(\"   - Larger position sizes when all three main indicators align\")\nprint(\"   - Reduce reliance on traditional bearish/bullish indicators\")",
      "block_group": "ef93b3f838e9460d80003a10ce75a922",
      "execution_count": 219,
      "outputs": [
        {
          "name": "stdout",
          "text": "SUMMARY OF MARKET PATTERN ANALYSIS\n\n1. STRONG PREDICTIVE INDICATORS:\n--------------------------------------------------\na) Momentum Indicators:\n   - EMA_slope: y_true=2 avg 0.913 vs others -0.044\n   - EMA_slope_60: y_true=2 avg 0.299 vs others 0.073\n\nb) Price Movement Patterns:\n   - Move from bottom: y_true=2 avg 0.223 vs others 0.130\n   - Move from top: y_true=2 avg 0.108 vs others 0.138\n\n2. MODERATE INDICATORS:\n--------------------------------------------------\nVolume Patterns:\n   - Volume: y_true=2 avg 568.5 vs others 460.3\n   - Volume Std (5): y_true=2 avg 126.2 vs others 88.1\n\n3. WEAK INDICATORS:\n--------------------------------------------------\nTraditional Indicators:\n   - Bearish_2: y_true=2 avg 0.564 vs others 0.554\n   - Bullish_1: y_true=2 avg 0.560 vs others 0.551\n\nSUGGESTED IMPROVEMENTS:\n--------------------------------------------------\n1. Primary Strategy Adjustments:\n   - Focus on EMA slope combinations (both short and long term)\n   - Incorporate move_from_bottom as primary indicator\n   - Use volume patterns as confirmation signals\n\n2. Entry/Exit Modifications:\n   - Enter on strong EMA_slope (> 0.9) with high move_from_bottom (> 0.22)\n   - Use volume spikes (> 550) as confirmation\n   - Consider trailing stops based on EMA_slope_60 changes\n\n3. Risk Management:\n   - Tighter stops when move_from_top > 0.11 (higher risk)\n   - Larger position sizes when all three main indicators align\n   - Reduce reliance on traditional bearish/bullish indicators\n",
          "output_type": "stream"
        }
      ],
      "outputs_reference": null,
      "content_dependencies": null
    },
    {
      "cell_type": "code",
      "metadata": {
        "source_hash": "f4238313",
        "execution_start": 1743128145688,
        "execution_millis": 5,
        "sql_integration_id": "",
        "execution_context_id": "ca2f94c1-f5a2-4271-8220-9af59ef21879",
        "deepnote_variable_name": "",
        "cell_id": "9d7ef012a5b0497baa618e84765309d1",
        "deepnote_cell_type": "code"
      },
      "source": "# Let's validate these suggested thresholds\nvalidation = ss[\n    (ss['EMA_slope'] > 0.9) & \n    (ss['move_from_bottom'] > 0.22) & \n    (ss['volume'] > 550)\n]\n\nprint(\"\\nVALIDATION OF SUGGESTED THRESHOLDS\")\nprint(\"-\" * 50)\nprint(f\"Total signals with suggested thresholds: {len(validation)}\")\nprint(\"\\nSuccess rate by y_true:\")\nprint(validation['y_true'].value_counts(normalize=True).round(3) * 100)\n\nprint(\"\\nAverage metrics for these signals:\")\nprint(validation[['EMA_slope', 'EMA_slope_60', 'move_from_bottom', 'volume']].mean().round(3))",
      "block_group": "9fc44bd584614f96a8d657819310c18f",
      "execution_count": 221,
      "outputs": [
        {
          "name": "stdout",
          "text": "\nVALIDATION OF SUGGESTED THRESHOLDS\n--------------------------------------------------\nTotal signals with suggested thresholds: 113\n\nSuccess rate by y_true:\ny_true\n0    45.1\n2    35.4\n1    18.6\n3     0.9\nName: proportion, dtype: float64\n\nAverage metrics for these signals:\nEMA_slope             1.872\nEMA_slope_60          0.405\nmove_from_bottom      0.332\nvolume              912.513\ndtype: float64\n",
          "output_type": "stream"
        }
      ],
      "outputs_reference": null,
      "content_dependencies": null
    },
    {
      "cell_type": "markdown",
      "metadata": {
        "cell_id": "78aeb7d8e9e340e885e7c7461752e9ff",
        "deepnote_cell_type": "text-cell-p"
      },
      "source": "Based on the validation results, I would refine the suggestions further:\n\n1. Current thresholds might be too aggressive, creating many false positives (45.1% y_true=0)\n2. Modified entry conditions suggested:\n   - Increase EMA_slope threshold to > 1.5 (current avg is 1.872)\n   - Keep move_from_bottom > 0.22 but add upper limit < 0.35\n   - Add EMA_slope_60 > 0.3 as requirement (current avg is 0.405)\n   - Increase volume threshold to > 800 (current avg is 912)\n\n3. Additional risk filters:\n   - Add volume standard deviation filter (volume_std_5 > 100)\n   - Consider time-of-day patterns (hour patterns show significance)\n   - Implement consecutive signal confirmation (2-3 periods)\n\nThese refinements should help reduce false positives while maintaining the capture of significant moves (y_true=2 signals).",
      "block_group": "7ca253f1ecdc42d18f65efa09c2b9ade"
    },
    {
      "cell_type": "code",
      "metadata": {
        "cell_id": "7618e72630224db992c669d2906541c6",
        "deepnote_cell_type": "code"
      },
      "source": "from simple_salesforce import Salesforce\nfrom pathlib import Path\nimport os\nfrom get_connections import conn_config\nimport boto3\nimport json\nimport os\nimport psycopg2\nfrom datetime import datetime\nimport logging\n\nimport snowflake.connector\nfrom sqlalchemy import create_engine\nfrom snowflake.sqlalchemy import URL\nfrom snowflake.connector import errors as snowflake_errors\nfrom dataclasses import dataclass\nimport pandas as pd\nfrom io import StringIO, BytesIO\n\nSQL_PATH = \"/daily_loader_scripts/queries/\"\ncurrent_time = datetime.now()\nfeed_start_time = current_time.strftime(\"%Y-%m-%d-%H-%M-%S\")\nfeed_start_date = current_time.strftime(\"%Y-%m-%d\")\ns3 = boto3.client(\"s3\")\nsnow_conn = conn_config.get_snowflake_connection()\nsf  = conn_config.get_salesforce_connection()\n\ndef create_new_user():\n    df_agg_final = pd.read_sql(open('queries1/Community_Queries/Community_New_User_Eligible.sql').read(),snow_conn)\n    \n    update_attributes_list = []\n    for i in range(len(df_agg_final)):\n        update_attributes_data = {\n            \"Id\": df_agg_final[\"user_id\"].iloc[i],\n            \"DME_Category_User__c\": df_agg_final[\"audience_mapping\"].iloc[i]\n        }\n        update_attributes_list.append(update_attributes_data)\n    \n\n    sf_output = pd.DataFrame(sf.bulk.user.update(update_attributes_list,batch_size=2000))\n    combined_df = df_agg_final.merge(sf_output,right_on='id',left_on='user_id',how='left')\n    combined_df['status'] = combined_df.apply(lambda x: '1' if x['success']==True else 2, axis=1)\n    combined_df =combined_df[['user_id','contact_id','sf_id','status','localesidkey','audience_mapping','scenario_name','trigger_name']]\n    combined_df['exit_code'] = 0\n    combined_df['insert_date'] = feed_start_date\n    combined_df = combined_df[[\"user_id\",\t\"contact_id\",\t\"sf_id\",\t\"status\",\t\"localesidkey\",\t\"audience_mapping\",\t\"scenario_name\",\"trigger_name\",\t\"exit_code\",\"insert_date\"]]\n    \n    combined_df.columns = map(str.upper, combined_df.columns)\n    \n    combined_df.to_sql(con= snow_conn,name=\"community_user_dim\",\n                if_exists=\"append\",\n                index=False,\n                schema=\"INTERNAL_CLIENT_ANALYTICS\")\n\ndef exit_onboarding_user():\n    df_agg_final = pd.read_sql(open('queries1/Community_Queries/Community_No_Longer_Eligible.sql').read(),snow_conn)\n\n    update_attributes_list = []\n    for i in range(len(df_agg_final)):\n        update_attributes_data = {\n            \"Id\": df_agg_final[\"user_id\"].iloc[i],\n            \"DME_Category_User__c\": ''\n        }\n        update_attributes_list.append(update_attributes_data)\n    \n\n    sf_output = pd.DataFrame(sf.bulk.user.update(update_attributes_list,batch_size=2000))\n    combined_df = df_agg_final.merge(sf_output,right_on='id',left_on='user_id',how='left')\n    combined_df['status'] = 0\n    combined_df['exit_code'] = combined_df.apply(lambda x: '1' if x['success']==True else 5, axis=1)\n    \n    combined_df['insert_date'] = feed_start_date\n    combined_df = combined_df[[\"user_id\",\t\"contact_id\",\t\"sf_id\",\t\"status\",\t\"localesidkey\",\t\"audience_mapping\",\t\"scenario_name\",\"trigger_name\",\t\"exit_code\",\"insert_date\"]]\n    \n    combined_df.columns = map(str.upper, combined_df.columns)\n    \n    combined_df.to_sql(con= snow_conn,name=\"community_user_dim\",\n                if_exists=\"append\",\n                index=False,\n                schema=\"INTERNAL_CLIENT_ANALYTICS\")\n\ndef update_articles:\n    news_sql = '''select * from COMMUNITY_NEWS_DIM'''\n    news_df = pd.read_sql( news_sql, snow_conn)\n\n    for x in range(0,len(news_df)):\n        news_id_sf = news_df['news_id'].iloc[x]\n        audience_mapping_sf = news_df['audience_mapping'].iloc[x]\n        sf.news__c.update(news_id_sf,{'DME_Category_Article__c':audience_mapping_sf})\n        print(news_id_sf)\n\n\nif __name__ == \"__main__\":\n    create_new_user()\n    exit_onboarding_user()",
      "block_group": "73306e2fc0ef455f9d7654ee9a71afe6",
      "execution_count": null,
      "outputs": [],
      "outputs_reference": null,
      "content_dependencies": null
    },
    {
      "cell_type": "markdown",
      "metadata": {
        "color": "purple",
        "cell_id": "0004e374c3764324b7857906f6e2ddbb",
        "deepnote_cell_type": "text-cell-callout"
      },
      "source": "> rewrite the code above to have modular based approach. ",
      "block_group": "be9971525b234151a061950010acf083"
    },
    {
      "cell_type": "markdown",
      "metadata": {
        "cell_id": "6f737d3df9a54f62bb37e6cf3809214b",
        "deepnote_cell_type": "text-cell-p"
      },
      "source": "I'll rewrite the code using a modular approach with proper class structures, error handling, and separation of concerns. Let me break this down into organized modules:",
      "block_group": "4c47b5ae96304830a7c9584cc6b0726a"
    },
    {
      "cell_type": "code",
      "metadata": {
        "source_hash": "160dd78",
        "execution_start": 1744036760084,
        "execution_millis": 503,
        "sql_integration_id": "",
        "execution_context_id": "6156b865-1301-4931-ab7e-ff84cace3cd2",
        "deepnote_variable_name": "",
        "cell_id": "bf79480629824501b7d37b68bd952819",
        "deepnote_cell_type": "code"
      },
      "source": "# connections.py\nfrom dataclasses import dataclass\nfrom typing import Optional, List, Dict\nimport snowflake.connector\nfrom simple_salesforce import Salesforce\nimport pandas as pd\nfrom datetime import datetime\nimport logging\nimport boto3\nfrom sqlalchemy import create_engine\n\n@dataclass\nclass ConnectionConfig:\n    snowflake_user: str\n    snowflake_password: str\n    snowflake_account: str\n    snowflake_warehouse: str\n    snowflake_database: str\n    sf_username: str\n    sf_password: str\n    sf_security_token: str\n    \n    def get_snowflake_connection(self):\n        try:\n            return snowflake.connector.connect(\n                user=self.snowflake_user,\n                password=self.snowflake_password,\n                account=self.snowflake_account,\n                warehouse=self.snowflake_warehouse,\n                database=self.snowflake_database\n            )\n        except Exception as e:\n            logging.error(f\"Failed to connect to Snowflake: {str(e)}\")\n            raise\n            \n    def get_salesforce_connection(self):\n        try:\n            return Salesforce(\n                username=self.sf_username,\n                password=self.sf_password,\n                security_token=self.sf_security_token\n            )\n        except Exception as e:\n            logging.error(f\"Failed to connect to Salesforce: {str(e)}\")\n            raise\n\nclass BaseHandler:\n    def __init__(self, conn_config: ConnectionConfig):\n        self.conn_config = conn_config\n        self.snow_conn = conn_config.get_snowflake_connection()\n        self.sf = conn_config.get_salesforce_connection()\n        self.feed_start_date = datetime.now().strftime(\"%Y-%m-%d\")\n        \n    def execute_query(self, query_path: str) -> pd.DataFrame:\n        try:\n            with open(query_path, 'r') as file:\n                query = file.read()\n            return pd.read_sql(query, self.snow_conn)\n        except Exception as e:\n            logging.error(f\"Query execution failed: {str(e)}\")\n            raise\n            \n    def update_snowflake(self, df: pd.DataFrame, table_name: str, schema: str):\n        try:\n            df.columns = map(str.upper, df.columns)\n            df.to_sql(\n                con=self.snow_conn,\n                name=table_name,\n                if_exists=\"append\",\n                index=False,\n                schema=schema\n            )\n        except Exception as e:\n            logging.error(f\"Snowflake update failed: {str(e)}\")\n            raise",
      "block_group": "4a440b31e5b5474fa0a337ad733e649f",
      "execution_count": 1,
      "outputs": [
        {
          "output_type": "error",
          "ename": "ModuleNotFoundError",
          "evalue": "No module named 'simple_salesforce'",
          "traceback": [
            "\u001b[0;31m---------------------------------------------------------------------------\u001b[0m",
            "\u001b[0;31mModuleNotFoundError\u001b[0m                       Traceback (most recent call last)",
            "Cell \u001b[0;32mIn[1], line 5\u001b[0m\n\u001b[1;32m      3\u001b[0m \u001b[38;5;28;01mfrom\u001b[39;00m\u001b[38;5;250m \u001b[39m\u001b[38;5;21;01mtyping\u001b[39;00m\u001b[38;5;250m \u001b[39m\u001b[38;5;28;01mimport\u001b[39;00m Optional, List, Dict\n\u001b[1;32m      4\u001b[0m \u001b[38;5;28;01mimport\u001b[39;00m\u001b[38;5;250m \u001b[39m\u001b[38;5;21;01msnowflake\u001b[39;00m\u001b[38;5;21;01m.\u001b[39;00m\u001b[38;5;21;01mconnector\u001b[39;00m\n\u001b[0;32m----> 5\u001b[0m \u001b[38;5;28;01mfrom\u001b[39;00m\u001b[38;5;250m \u001b[39m\u001b[38;5;21;01msimple_salesforce\u001b[39;00m\u001b[38;5;250m \u001b[39m\u001b[38;5;28;01mimport\u001b[39;00m Salesforce\n\u001b[1;32m      6\u001b[0m \u001b[38;5;28;01mimport\u001b[39;00m\u001b[38;5;250m \u001b[39m\u001b[38;5;21;01mpandas\u001b[39;00m\u001b[38;5;250m \u001b[39m\u001b[38;5;28;01mas\u001b[39;00m\u001b[38;5;250m \u001b[39m\u001b[38;5;21;01mpd\u001b[39;00m\n\u001b[1;32m      7\u001b[0m \u001b[38;5;28;01mfrom\u001b[39;00m\u001b[38;5;250m \u001b[39m\u001b[38;5;21;01mdatetime\u001b[39;00m\u001b[38;5;250m \u001b[39m\u001b[38;5;28;01mimport\u001b[39;00m datetime\n",
            "\u001b[0;31mModuleNotFoundError\u001b[0m: No module named 'simple_salesforce'"
          ]
        }
      ],
      "outputs_reference": null,
      "content_dependencies": null
    },
    {
      "cell_type": "code",
      "metadata": {
        "source_hash": "440cabe0",
        "execution_start": 1744036766864,
        "execution_millis": 2542,
        "sql_integration_id": "",
        "execution_context_id": "6156b865-1301-4931-ab7e-ff84cace3cd2",
        "deepnote_variable_name": "",
        "cell_id": "6095950967f14dbcaea709cf02c8d040",
        "deepnote_cell_type": "code"
      },
      "source": "!pip install simple-salesforce",
      "block_group": "f05f66ded2a246f08f9ff1e6bfad9cfb",
      "execution_count": 3,
      "outputs": [
        {
          "name": "stdout",
          "text": "Collecting simple-salesforce\n  Downloading simple_salesforce-1.12.6-py2.py3-none-any.whl (132 kB)\n\u001b[2K     \u001b[90m━━━━━━━━━━━━━━━━━━━━━━━━━━━━━━━━━━━━━━\u001b[0m \u001b[32m132.2/132.2 kB\u001b[0m \u001b[31m19.1 MB/s\u001b[0m eta \u001b[36m0:00:00\u001b[0m\n\u001b[?25hCollecting more-itertools\n  Downloading more_itertools-10.6.0-py3-none-any.whl (63 kB)\n\u001b[2K     \u001b[90m━━━━━━━━━━━━━━━━━━━━━━━━━━━━━━━━━━━━━━━━\u001b[0m \u001b[32m63.0/63.0 kB\u001b[0m \u001b[31m15.6 MB/s\u001b[0m eta \u001b[36m0:00:00\u001b[0m\n\u001b[?25hCollecting zeep\n  Downloading zeep-4.3.1-py3-none-any.whl (101 kB)\n\u001b[2K     \u001b[90m━━━━━━━━━━━━━━━━━━━━━━━━━━━━━━━━━━━━━━\u001b[0m \u001b[32m101.7/101.7 kB\u001b[0m \u001b[31m24.8 MB/s\u001b[0m eta \u001b[36m0:00:00\u001b[0m\n\u001b[?25hRequirement already satisfied: pyjwt[crypto] in /root/venv/lib/python3.10/site-packages (from simple-salesforce) (2.10.1)\nRequirement already satisfied: typing-extensions in /root/venv/lib/python3.10/site-packages (from simple-salesforce) (4.12.2)\nRequirement already satisfied: requests>=2.22.0 in /root/venv/lib/python3.10/site-packages (from simple-salesforce) (2.32.3)\nRequirement already satisfied: urllib3<3,>=1.21.1 in /root/venv/lib/python3.10/site-packages (from requests>=2.22.0->simple-salesforce) (2.3.0)\nRequirement already satisfied: charset-normalizer<4,>=2 in /root/venv/lib/python3.10/site-packages (from requests>=2.22.0->simple-salesforce) (3.4.1)\nRequirement already satisfied: certifi>=2017.4.17 in /root/venv/lib/python3.10/site-packages (from requests>=2.22.0->simple-salesforce) (2025.1.31)\nRequirement already satisfied: idna<4,>=2.5 in /root/venv/lib/python3.10/site-packages (from requests>=2.22.0->simple-salesforce) (3.10)\nRequirement already satisfied: cryptography>=3.4.0 in /root/venv/lib/python3.10/site-packages (from pyjwt[crypto]->simple-salesforce) (43.0.3)\nRequirement already satisfied: attrs>=17.2.0 in /root/venv/lib/python3.10/site-packages (from zeep->simple-salesforce) (25.1.0)\nCollecting requests-toolbelt>=0.7.1\n  Downloading requests_toolbelt-1.0.0-py2.py3-none-any.whl (54 kB)\n\u001b[2K     \u001b[90m━━━━━━━━━━━━━━━━━━━━━━━━━━━━━━━━━━━━━━━━\u001b[0m \u001b[32m54.5/54.5 kB\u001b[0m \u001b[31m13.6 MB/s\u001b[0m eta \u001b[36m0:00:00\u001b[0m\n\u001b[?25hRequirement already satisfied: lxml>=4.6.0 in /root/venv/lib/python3.10/site-packages (from zeep->simple-salesforce) (5.3.1)\nRequirement already satisfied: pytz in /root/venv/lib/python3.10/site-packages (from zeep->simple-salesforce) (2025.1)\nRequirement already satisfied: requests-file>=1.5.1 in /root/venv/lib/python3.10/site-packages (from zeep->simple-salesforce) (2.1.0)\nRequirement already satisfied: isodate>=0.5.4 in /root/venv/lib/python3.10/site-packages (from zeep->simple-salesforce) (0.7.2)\nRequirement already satisfied: platformdirs>=1.4.0 in /root/venv/lib/python3.10/site-packages (from zeep->simple-salesforce) (4.3.6)\nRequirement already satisfied: cffi>=1.12 in /root/venv/lib/python3.10/site-packages (from cryptography>=3.4.0->pyjwt[crypto]->simple-salesforce) (1.17.1)\nRequirement already satisfied: pycparser in /root/venv/lib/python3.10/site-packages (from cffi>=1.12->cryptography>=3.4.0->pyjwt[crypto]->simple-salesforce) (2.22)\nInstalling collected packages: more-itertools, requests-toolbelt, zeep, simple-salesforce\nSuccessfully installed more-itertools-10.6.0 requests-toolbelt-1.0.0 simple-salesforce-1.12.6 zeep-4.3.1\n\n\u001b[1m[\u001b[0m\u001b[34;49mnotice\u001b[0m\u001b[1;39;49m]\u001b[0m\u001b[39;49m A new release of pip is available: \u001b[0m\u001b[31;49m23.0.1\u001b[0m\u001b[39;49m -> \u001b[0m\u001b[32;49m25.0.1\u001b[0m\n\u001b[1m[\u001b[0m\u001b[34;49mnotice\u001b[0m\u001b[1;39;49m]\u001b[0m\u001b[39;49m To update, run: \u001b[0m\u001b[32;49mpip install --upgrade pip\u001b[0m\n",
          "output_type": "stream"
        }
      ],
      "outputs_reference": null,
      "content_dependencies": null
    },
    {
      "cell_type": "code",
      "metadata": {
        "source_hash": "dd8a54bc",
        "execution_start": 1744036790757,
        "execution_millis": 25,
        "sql_integration_id": "",
        "execution_context_id": "6156b865-1301-4931-ab7e-ff84cace3cd2",
        "deepnote_variable_name": "",
        "cell_id": "62eba395115640659f356fab1160aa89",
        "deepnote_cell_type": "code"
      },
      "source": "# user_handler.py\nfrom typing import List, Dict\nimport pandas as pd\nimport logging\nfrom datetime import datetime\n\nclass UserHandler(BaseHandler):\n    def __init__(self, conn_config):\n        super().__init__(conn_config)\n        \n    def prepare_user_update(self, df: pd.DataFrame, is_new: bool = True) -> List[Dict]:\n        try:\n            update_attributes_list = []\n            for _, row in df.iterrows():\n                update_attributes_data = {\n                    \"Id\": row[\"user_id\"],\n                    \"DME_Category_User__c\": row[\"audience_mapping\"] if is_new else ''\n                }\n                update_attributes_list.append(update_attributes_data)\n            return update_attributes_list\n        except Exception as e:\n            logging.error(f\"Failed to prepare user update: {str(e)}\")\n            raise\n            \n    def process_sf_response(self, df: pd.DataFrame, sf_output: pd.DataFrame, is_new: bool = True) -> pd.DataFrame:\n        try:\n            combined_df = df.merge(sf_output, right_on='id', left_on='user_id', how='left')\n            combined_df['status'] = combined_df.apply(lambda x: '1' if x['success']==True else '2' if is_new else '0', axis=1)\n            combined_df['exit_code'] = combined_df.apply(lambda x: '0' if is_new else ('1' if x['success']==True else '5'), axis=1)\n            combined_df['insert_date'] = self.feed_start_date\n            \n            return combined_df[[\"user_id\", \"contact_id\", \"sf_id\", \"status\", \"localesidkey\", \n                              \"audience_mapping\", \"scenario_name\", \"trigger_name\", \"exit_code\", \"insert_date\"]]\n        except Exception as e:\n            logging.error(f\"Failed to process Salesforce response: {str(e)}\")\n            raise\n            \n    def create_new_user(self):\n        try:\n            df = self.execute_query('queries1/Community_Queries/Community_New_User_Eligible.sql')\n            update_list = self.prepare_user_update(df, is_new=True)\n            sf_output = pd.DataFrame(self.sf.bulk.user.update(update_list, batch_size=2000))\n            result_df = self.process_sf_response(df, sf_output, is_new=True)\n            self.update_snowflake(result_df, \"community_user_dim\", \"INTERNAL_CLIENT_ANALYTICS\")\n        except Exception as e:\n            logging.error(f\"Failed to create new user: {str(e)}\")\n            raise\n            \n    def exit_onboarding_user(self):\n        try:\n            df = self.execute_query('queries1/Community_Queries/Community_No_Longer_Eligible.sql')\n            update_list = self.prepare_user_update(df, is_new=False)\n            sf_output = pd.DataFrame(self.sf.bulk.user.update(update_list, batch_size=2000))\n            result_df = self.process_sf_response(df, sf_output, is_new=False)\n            self.update_snowflake(result_df, \"community_user_dim\", \"INTERNAL_CLIENT_ANALYTICS\")\n        except Exception as e:\n            logging.error(f\"Failed to exit onboarding user: {str(e)}\")\n            raise",
      "block_group": "8efbf6fec30049ba807b4f0d1219b473",
      "execution_count": 5,
      "outputs": [
        {
          "output_type": "error",
          "ename": "NameError",
          "evalue": "name 'BaseHandler' is not defined",
          "traceback": [
            "\u001b[0;31m---------------------------------------------------------------------------\u001b[0m",
            "\u001b[0;31mNameError\u001b[0m                                 Traceback (most recent call last)",
            "Cell \u001b[0;32mIn[5], line 7\u001b[0m\n\u001b[1;32m      4\u001b[0m \u001b[38;5;28;01mimport\u001b[39;00m\u001b[38;5;250m \u001b[39m\u001b[38;5;21;01mlogging\u001b[39;00m\n\u001b[1;32m      5\u001b[0m \u001b[38;5;28;01mfrom\u001b[39;00m\u001b[38;5;250m \u001b[39m\u001b[38;5;21;01mdatetime\u001b[39;00m\u001b[38;5;250m \u001b[39m\u001b[38;5;28;01mimport\u001b[39;00m datetime\n\u001b[0;32m----> 7\u001b[0m \u001b[38;5;28;01mclass\u001b[39;00m\u001b[38;5;250m \u001b[39m\u001b[38;5;21;01mUserHandler\u001b[39;00m(\u001b[43mBaseHandler\u001b[49m):\n\u001b[1;32m      8\u001b[0m     \u001b[38;5;28;01mdef\u001b[39;00m\u001b[38;5;250m \u001b[39m\u001b[38;5;21m__init__\u001b[39m(\u001b[38;5;28mself\u001b[39m, conn_config):\n\u001b[1;32m      9\u001b[0m         \u001b[38;5;28msuper\u001b[39m()\u001b[38;5;241m.\u001b[39m\u001b[38;5;21m__init__\u001b[39m(conn_config)\n",
            "\u001b[0;31mNameError\u001b[0m: name 'BaseHandler' is not defined"
          ]
        }
      ],
      "outputs_reference": null,
      "content_dependencies": null
    },
    {
      "cell_type": "code",
      "metadata": {
        "source_hash": "511f6c24",
        "execution_start": 1744036803844,
        "execution_millis": 63,
        "sql_integration_id": "",
        "execution_context_id": "6156b865-1301-4931-ab7e-ff84cace3cd2",
        "deepnote_variable_name": "",
        "cell_id": "44f29c24c6234248876e105a2ea32fa1",
        "deepnote_cell_type": "code"
      },
      "source": "# articles_handler.py\nimport pandas as pd\nimport logging\n\nclass ArticlesHandler(BaseHandler):\n    def __init__(self, conn_config):\n        super().__init__(conn_config)\n        \n    def update_articles(self):\n        try:\n            news_df = self.execute_query('SELECT * FROM COMMUNITY_NEWS_DIM')\n            for _, row in news_df.iterrows():\n                self.sf.news__c.update(\n                    row['news_id'],\n                    {'DME_Category_Article__c': row['audience_mapping']}\n                )\n        except Exception as e:\n            logging.error(f\"Failed to update articles: {str(e)}\")\n            raise\n\n# main.py\ndef main():\n    try:\n        # Initialize connection config\n        conn_config = ConnectionConfig(\n            snowflake_user=os.getenv('SNOWFLAKE_USER'),\n            snowflake_password=os.getenv('SNOWFLAKE_PASSWORD'),\n            snowflake_account=os.getenv('SNOWFLAKE_ACCOUNT'),\n            snowflake_warehouse=os.getenv('SNOWFLAKE_WAREHOUSE'),\n            snowflake_database=os.getenv('SNOWFLAKE_DATABASE'),\n            sf_username=os.getenv('SF_USERNAME'),\n            sf_password=os.getenv('SF_PASSWORD'),\n            sf_security_token=os.getenv('SF_SECURITY_TOKEN')\n        )\n        \n        # Initialize handlers\n        user_handler = UserHandler(conn_config)\n        articles_handler = ArticlesHandler(conn_config)\n        \n        # Execute operations\n        user_handler.create_new_user()\n        user_handler.exit_onboarding_user()\n        articles_handler.update_articles()\n        \n    except Exception as e:\n        logging.error(f\"Main execution failed: {str(e)}\")\n        raise\n        \nif __name__ == \"__main__\":\n    logging.basicConfig(level=logging.INFO)\n    main()",
      "block_group": "d9075a60e2ee473fbcd5369999218f1e",
      "execution_count": 7,
      "outputs": [
        {
          "output_type": "error",
          "ename": "NameError",
          "evalue": "name 'BaseHandler' is not defined",
          "traceback": [
            "\u001b[0;31m---------------------------------------------------------------------------\u001b[0m",
            "\u001b[0;31mNameError\u001b[0m                                 Traceback (most recent call last)",
            "Cell \u001b[0;32mIn[7], line 5\u001b[0m\n\u001b[1;32m      2\u001b[0m \u001b[38;5;28;01mimport\u001b[39;00m\u001b[38;5;250m \u001b[39m\u001b[38;5;21;01mpandas\u001b[39;00m\u001b[38;5;250m \u001b[39m\u001b[38;5;28;01mas\u001b[39;00m\u001b[38;5;250m \u001b[39m\u001b[38;5;21;01mpd\u001b[39;00m\n\u001b[1;32m      3\u001b[0m \u001b[38;5;28;01mimport\u001b[39;00m\u001b[38;5;250m \u001b[39m\u001b[38;5;21;01mlogging\u001b[39;00m\n\u001b[0;32m----> 5\u001b[0m \u001b[38;5;28;01mclass\u001b[39;00m\u001b[38;5;250m \u001b[39m\u001b[38;5;21;01mArticlesHandler\u001b[39;00m(\u001b[43mBaseHandler\u001b[49m):\n\u001b[1;32m      6\u001b[0m     \u001b[38;5;28;01mdef\u001b[39;00m\u001b[38;5;250m \u001b[39m\u001b[38;5;21m__init__\u001b[39m(\u001b[38;5;28mself\u001b[39m, conn_config):\n\u001b[1;32m      7\u001b[0m         \u001b[38;5;28msuper\u001b[39m()\u001b[38;5;241m.\u001b[39m\u001b[38;5;21m__init__\u001b[39m(conn_config)\n",
            "\u001b[0;31mNameError\u001b[0m: name 'BaseHandler' is not defined"
          ]
        }
      ],
      "outputs_reference": null,
      "content_dependencies": null
    },
    {
      "cell_type": "code",
      "metadata": {
        "source_hash": "11bf2019",
        "execution_start": 1744036834984,
        "execution_millis": 284,
        "sql_integration_id": "",
        "execution_context_id": "6156b865-1301-4931-ab7e-ff84cace3cd2",
        "deepnote_variable_name": "",
        "cell_id": "9cf668afb1ad4ff5afe48db4184d9ffe",
        "deepnote_cell_type": "code"
      },
      "source": "# Let's combine all the code in proper order to show the complete modular structure:\n\nfrom dataclasses import dataclass\nfrom typing import Optional, List, Dict\nimport snowflake.connector\nfrom simple_salesforce import Salesforce\nimport pandas as pd\nfrom datetime import datetime\nimport logging\nimport boto3\nfrom sqlalchemy import create_engine\nimport os\n\n# Base Configuration and Connection Handler\n@dataclass\nclass ConnectionConfig:\n    snowflake_user: str\n    snowflake_password: str\n    snowflake_account: str\n    snowflake_warehouse: str\n    snowflake_database: str\n    sf_username: str\n    sf_password: str\n    sf_security_token: str\n    \n    def get_snowflake_connection(self):\n        try:\n            return snowflake.connector.connect(\n                user=self.snowflake_user,\n                password=self.snowflake_password,\n                account=self.snowflake_account,\n                warehouse=self.snowflake_warehouse,\n                database=self.snowflake_database\n            )\n        except Exception as e:\n            logging.error(f\"Failed to connect to Snowflake: {str(e)}\")\n            raise\n            \n    def get_salesforce_connection(self):\n        try:\n            return Salesforce(\n                username=self.sf_username,\n                password=self.sf_password,\n                security_token=self.sf_security_token\n            )\n        except Exception as e:\n            logging.error(f\"Failed to connect to Salesforce: {str(e)}\")\n            raise\n\n# Base Handler Class\nclass BaseHandler:\n    def __init__(self, conn_config: ConnectionConfig):\n        self.conn_config = conn_config\n        self.snow_conn = conn_config.get_snowflake_connection()\n        self.sf = conn_config.get_salesforce_connection()\n        self.feed_start_date = datetime.now().strftime(\"%Y-%m-%d\")\n        \n    def execute_query(self, query_path: str) -> pd.DataFrame:\n        try:\n            with open(query_path, 'r') as file:\n                query = file.read()\n            return pd.read_sql(query, self.snow_conn)\n        except Exception as e:\n            logging.error(f\"Query execution failed: {str(e)}\")\n            raise\n            \n    def update_snowflake(self, df: pd.DataFrame, table_name: str, schema: str):\n        try:\n            df.columns = map(str.upper, df.columns)\n            df.to_sql(\n                con=self.snow_conn,\n                name=table_name,\n                if_exists=\"append\",\n                index=False,\n                schema=schema\n            )\n        except Exception as e:\n            logging.error(f\"Snowflake update failed: {str(e)}\")\n            raise\n\n# User Handler Class\nclass UserHandler(BaseHandler):\n    def __init__(self, conn_config):\n        super().__init__(conn_config)\n        \n    def prepare_user_update(self, df: pd.DataFrame, is_new: bool = True) -> List[Dict]:\n        try:\n            update_attributes_list = []\n            for _, row in df.iterrows():\n                update_attributes_data = {\n                    \"Id\": row[\"user_id\"],\n                    \"DME_Category_User__c\": row[\"audience_mapping\"] if is_new else ''\n                }\n                update_attributes_list.append(update_attributes_data)\n            return update_attributes_list\n        except Exception as e:\n            logging.error(f\"Failed to prepare user update: {str(e)}\")\n            raise\n            \n    def process_sf_response(self, df: pd.DataFrame, sf_output: pd.DataFrame, is_new: bool = True) -> pd.DataFrame:\n        try:\n            combined_df = df.merge(sf_output, right_on='id', left_on='user_id', how='left')\n            combined_df['status'] = combined_df.apply(lambda x: '1' if x['success']==True else '2' if is_new else '0', axis=1)\n            combined_df['exit_code'] = combined_df.apply(lambda x: '0' if is_new else ('1' if x['success']==True else '5'), axis=1)\n            combined_df['insert_date'] = self.feed_start_date\n            \n            return combined_df[[\"user_id\", \"contact_id\", \"sf_id\", \"status\", \"localesidkey\", \n                              \"audience_mapping\", \"scenario_name\", \"trigger_name\", \"exit_code\", \"insert_date\"]]\n        except Exception as e:\n            logging.error(f\"Failed to process Salesforce response: {str(e)}\")\n            raise\n            \n    def create_new_user(self):\n        try:\n            df = self.execute_query('queries1/Community_Queries/Community_New_User_Eligible.sql')\n            update_list = self.prepare_user_update(df, is_new=True)\n            sf_output = pd.DataFrame(self.sf.bulk.user.update(update_list, batch_size=2000))\n            result_df = self.process_sf_response(df, sf_output, is_new=True)\n            self.update_snowflake(result_df, \"community_user_dim\", \"INTERNAL_CLIENT_ANALYTICS\")\n        except Exception as e:\n            logging.error(f\"Failed to create new user: {str(e)}\")\n            raise\n            \n    def exit_onboarding_user(self):\n        try:\n            df = self.execute_query('queries1/Community_Queries/Community_No_Longer_Eligible.sql')\n            update_list = self.prepare_user_update(df, is_new=False)\n            sf_output = pd.DataFrame(self.sf.bulk.user.update(update_list, batch_size=2000))\n            result_df = self.process_sf_response(df, sf_output, is_new=False)\n            self.update_snowflake(result_df, \"community_user_dim\", \"INTERNAL_CLIENT_ANALYTICS\")\n        except Exception as e:\n            logging.error(f\"Failed to exit onboarding user: {str(e)}\")\n            raise\n\n# Articles Handler Class\nclass ArticlesHandler(BaseHandler):\n    def __init__(self, conn_config):\n        super().__init__(conn_config)\n        \n    def update_articles(self):\n        try:\n            news_df = self.execute_query('SELECT * FROM COMMUNITY_NEWS_DIM')\n            for _, row in news_df.iterrows():\n                self.sf.news__c.update(\n                    row['news_id'],\n                    {'DME_Category_Article__c': row['audience_mapping']}\n                )\n        except Exception as e:\n            logging.error(f\"Failed to update articles: {str(e)}\")\n            raise\n\n# Main execution\ndef main():\n    try:\n        # Initialize connection config\n        conn_config = ConnectionConfig(\n            snowflake_user=os.getenv('SNOWFLAKE_USER'),\n            snowflake_password=os.getenv('SNOWFLAKE_PASSWORD'),\n            snowflake_account=os.getenv('SNOWFLAKE_ACCOUNT'),\n            snowflake_warehouse=os.getenv('SNOWFLAKE_WAREHOUSE'),\n            snowflake_database=os.getenv('SNOWFLAKE_DATABASE'),\n            sf_username=os.getenv('SF_USERNAME'),\n            sf_password=os.getenv('SF_PASSWORD'),\n            sf_security_token=os.getenv('SF_SECURITY_TOKEN')\n        )\n        \n        # Initialize handlers\n        user_handler = UserHandler(conn_config)\n        articles_handler = ArticlesHandler(conn_config)\n        \n        # Execute operations\n        user_handler.create_new_user()\n        user_handler.exit_onboarding_user()\n        articles_handler.update_articles()\n        \n    except Exception as e:\n        logging.error(f\"Main execution failed: {str(e)}\")\n        raise\n\nif __name__ == \"__main__\":\n    logging.basicConfig(level=logging.INFO)\n    main()",
      "block_group": "b6884a0859ff43c190e274ccfd76ded8",
      "execution_count": 9,
      "outputs": [
        {
          "name": "stderr",
          "text": "INFO:snowflake.connector.connection:Snowflake Connector for Python Version: 3.13.2, Python Version: 3.10.15, Platform: Linux-6.1.128-136.201.amzn2023.x86_64-x86_64-with-glibc2.31\nERROR:root:Failed to connect to Snowflake: 'NoneType' object has no attribute 'find'\nERROR:root:Main execution failed: 'NoneType' object has no attribute 'find'\n",
          "output_type": "stream"
        },
        {
          "output_type": "error",
          "ename": "AttributeError",
          "evalue": "'NoneType' object has no attribute 'find'",
          "traceback": [
            "\u001b[0;31m---------------------------------------------------------------------------\u001b[0m",
            "\u001b[0;31mAttributeError\u001b[0m                            Traceback (most recent call last)",
            "Cell \u001b[0;32mIn[9], line 182\u001b[0m\n\u001b[1;32m    180\u001b[0m \u001b[38;5;28;01mif\u001b[39;00m \u001b[38;5;18m__name__\u001b[39m \u001b[38;5;241m==\u001b[39m \u001b[38;5;124m\"\u001b[39m\u001b[38;5;124m__main__\u001b[39m\u001b[38;5;124m\"\u001b[39m:\n\u001b[1;32m    181\u001b[0m     logging\u001b[38;5;241m.\u001b[39mbasicConfig(level\u001b[38;5;241m=\u001b[39mlogging\u001b[38;5;241m.\u001b[39mINFO)\n\u001b[0;32m--> 182\u001b[0m     \u001b[43mmain\u001b[49m\u001b[43m(\u001b[49m\u001b[43m)\u001b[49m\n",
            "Cell \u001b[0;32mIn[9], line 168\u001b[0m, in \u001b[0;36mmain\u001b[0;34m()\u001b[0m\n\u001b[1;32m    156\u001b[0m conn_config \u001b[38;5;241m=\u001b[39m ConnectionConfig(\n\u001b[1;32m    157\u001b[0m     snowflake_user\u001b[38;5;241m=\u001b[39mos\u001b[38;5;241m.\u001b[39mgetenv(\u001b[38;5;124m'\u001b[39m\u001b[38;5;124mSNOWFLAKE_USER\u001b[39m\u001b[38;5;124m'\u001b[39m),\n\u001b[1;32m    158\u001b[0m     snowflake_password\u001b[38;5;241m=\u001b[39mos\u001b[38;5;241m.\u001b[39mgetenv(\u001b[38;5;124m'\u001b[39m\u001b[38;5;124mSNOWFLAKE_PASSWORD\u001b[39m\u001b[38;5;124m'\u001b[39m),\n\u001b[0;32m   (...)\u001b[0m\n\u001b[1;32m    164\u001b[0m     sf_security_token\u001b[38;5;241m=\u001b[39mos\u001b[38;5;241m.\u001b[39mgetenv(\u001b[38;5;124m'\u001b[39m\u001b[38;5;124mSF_SECURITY_TOKEN\u001b[39m\u001b[38;5;124m'\u001b[39m)\n\u001b[1;32m    165\u001b[0m )\n\u001b[1;32m    167\u001b[0m \u001b[38;5;66;03m# Initialize handlers\u001b[39;00m\n\u001b[0;32m--> 168\u001b[0m user_handler \u001b[38;5;241m=\u001b[39m \u001b[43mUserHandler\u001b[49m\u001b[43m(\u001b[49m\u001b[43mconn_config\u001b[49m\u001b[43m)\u001b[49m\n\u001b[1;32m    169\u001b[0m articles_handler \u001b[38;5;241m=\u001b[39m ArticlesHandler(conn_config)\n\u001b[1;32m    171\u001b[0m \u001b[38;5;66;03m# Execute operations\u001b[39;00m\n",
            "Cell \u001b[0;32mIn[9], line 84\u001b[0m, in \u001b[0;36mUserHandler.__init__\u001b[0;34m(self, conn_config)\u001b[0m\n\u001b[1;32m     83\u001b[0m \u001b[38;5;28;01mdef\u001b[39;00m\u001b[38;5;250m \u001b[39m\u001b[38;5;21m__init__\u001b[39m(\u001b[38;5;28mself\u001b[39m, conn_config):\n\u001b[0;32m---> 84\u001b[0m     \u001b[38;5;28;43msuper\u001b[39;49m\u001b[43m(\u001b[49m\u001b[43m)\u001b[49m\u001b[38;5;241;43m.\u001b[39;49m\u001b[38;5;21;43m__init__\u001b[39;49m\u001b[43m(\u001b[49m\u001b[43mconn_config\u001b[49m\u001b[43m)\u001b[49m\n",
            "Cell \u001b[0;32mIn[9], line 54\u001b[0m, in \u001b[0;36mBaseHandler.__init__\u001b[0;34m(self, conn_config)\u001b[0m\n\u001b[1;32m     52\u001b[0m \u001b[38;5;28;01mdef\u001b[39;00m\u001b[38;5;250m \u001b[39m\u001b[38;5;21m__init__\u001b[39m(\u001b[38;5;28mself\u001b[39m, conn_config: ConnectionConfig):\n\u001b[1;32m     53\u001b[0m     \u001b[38;5;28mself\u001b[39m\u001b[38;5;241m.\u001b[39mconn_config \u001b[38;5;241m=\u001b[39m conn_config\n\u001b[0;32m---> 54\u001b[0m     \u001b[38;5;28mself\u001b[39m\u001b[38;5;241m.\u001b[39msnow_conn \u001b[38;5;241m=\u001b[39m \u001b[43mconn_config\u001b[49m\u001b[38;5;241;43m.\u001b[39;49m\u001b[43mget_snowflake_connection\u001b[49m\u001b[43m(\u001b[49m\u001b[43m)\u001b[49m\n\u001b[1;32m     55\u001b[0m     \u001b[38;5;28mself\u001b[39m\u001b[38;5;241m.\u001b[39msf \u001b[38;5;241m=\u001b[39m conn_config\u001b[38;5;241m.\u001b[39mget_salesforce_connection()\n\u001b[1;32m     56\u001b[0m     \u001b[38;5;28mself\u001b[39m\u001b[38;5;241m.\u001b[39mfeed_start_date \u001b[38;5;241m=\u001b[39m datetime\u001b[38;5;241m.\u001b[39mnow()\u001b[38;5;241m.\u001b[39mstrftime(\u001b[38;5;124m\"\u001b[39m\u001b[38;5;124m%\u001b[39m\u001b[38;5;124mY-\u001b[39m\u001b[38;5;124m%\u001b[39m\u001b[38;5;124mm-\u001b[39m\u001b[38;5;132;01m%d\u001b[39;00m\u001b[38;5;124m\"\u001b[39m)\n",
            "Cell \u001b[0;32mIn[9], line 28\u001b[0m, in \u001b[0;36mConnectionConfig.get_snowflake_connection\u001b[0;34m(self)\u001b[0m\n\u001b[1;32m     26\u001b[0m \u001b[38;5;28;01mdef\u001b[39;00m\u001b[38;5;250m \u001b[39m\u001b[38;5;21mget_snowflake_connection\u001b[39m(\u001b[38;5;28mself\u001b[39m):\n\u001b[1;32m     27\u001b[0m     \u001b[38;5;28;01mtry\u001b[39;00m:\n\u001b[0;32m---> 28\u001b[0m         \u001b[38;5;28;01mreturn\u001b[39;00m \u001b[43msnowflake\u001b[49m\u001b[38;5;241;43m.\u001b[39;49m\u001b[43mconnector\u001b[49m\u001b[38;5;241;43m.\u001b[39;49m\u001b[43mconnect\u001b[49m\u001b[43m(\u001b[49m\n\u001b[1;32m     29\u001b[0m \u001b[43m            \u001b[49m\u001b[43muser\u001b[49m\u001b[38;5;241;43m=\u001b[39;49m\u001b[38;5;28;43mself\u001b[39;49m\u001b[38;5;241;43m.\u001b[39;49m\u001b[43msnowflake_user\u001b[49m\u001b[43m,\u001b[49m\n\u001b[1;32m     30\u001b[0m \u001b[43m            \u001b[49m\u001b[43mpassword\u001b[49m\u001b[38;5;241;43m=\u001b[39;49m\u001b[38;5;28;43mself\u001b[39;49m\u001b[38;5;241;43m.\u001b[39;49m\u001b[43msnowflake_password\u001b[49m\u001b[43m,\u001b[49m\n\u001b[1;32m     31\u001b[0m \u001b[43m            \u001b[49m\u001b[43maccount\u001b[49m\u001b[38;5;241;43m=\u001b[39;49m\u001b[38;5;28;43mself\u001b[39;49m\u001b[38;5;241;43m.\u001b[39;49m\u001b[43msnowflake_account\u001b[49m\u001b[43m,\u001b[49m\n\u001b[1;32m     32\u001b[0m \u001b[43m            \u001b[49m\u001b[43mwarehouse\u001b[49m\u001b[38;5;241;43m=\u001b[39;49m\u001b[38;5;28;43mself\u001b[39;49m\u001b[38;5;241;43m.\u001b[39;49m\u001b[43msnowflake_warehouse\u001b[49m\u001b[43m,\u001b[49m\n\u001b[1;32m     33\u001b[0m \u001b[43m            \u001b[49m\u001b[43mdatabase\u001b[49m\u001b[38;5;241;43m=\u001b[39;49m\u001b[38;5;28;43mself\u001b[39;49m\u001b[38;5;241;43m.\u001b[39;49m\u001b[43msnowflake_database\u001b[49m\n\u001b[1;32m     34\u001b[0m \u001b[43m        \u001b[49m\u001b[43m)\u001b[49m\n\u001b[1;32m     35\u001b[0m     \u001b[38;5;28;01mexcept\u001b[39;00m \u001b[38;5;167;01mException\u001b[39;00m \u001b[38;5;28;01mas\u001b[39;00m e:\n\u001b[1;32m     36\u001b[0m         logging\u001b[38;5;241m.\u001b[39merror(\u001b[38;5;124mf\u001b[39m\u001b[38;5;124m\"\u001b[39m\u001b[38;5;124mFailed to connect to Snowflake: \u001b[39m\u001b[38;5;132;01m{\u001b[39;00m\u001b[38;5;28mstr\u001b[39m(e)\u001b[38;5;132;01m}\u001b[39;00m\u001b[38;5;124m\"\u001b[39m)\n",
            "File \u001b[0;32m~/venv/lib/python3.10/site-packages/snowflake/connector/__init__.py:55\u001b[0m, in \u001b[0;36mConnect\u001b[0;34m(**kwargs)\u001b[0m\n\u001b[1;32m     53\u001b[0m \u001b[38;5;129m@wraps\u001b[39m(SnowflakeConnection\u001b[38;5;241m.\u001b[39m\u001b[38;5;21m__init__\u001b[39m)\n\u001b[1;32m     54\u001b[0m \u001b[38;5;28;01mdef\u001b[39;00m\u001b[38;5;250m \u001b[39m\u001b[38;5;21mConnect\u001b[39m(\u001b[38;5;241m*\u001b[39m\u001b[38;5;241m*\u001b[39mkwargs) \u001b[38;5;241m-\u001b[39m\u001b[38;5;241m>\u001b[39m SnowflakeConnection:\n\u001b[0;32m---> 55\u001b[0m     \u001b[38;5;28;01mreturn\u001b[39;00m \u001b[43mSnowflakeConnection\u001b[49m\u001b[43m(\u001b[49m\u001b[38;5;241;43m*\u001b[39;49m\u001b[38;5;241;43m*\u001b[39;49m\u001b[43mkwargs\u001b[49m\u001b[43m)\u001b[49m\n",
            "File \u001b[0;32m~/venv/lib/python3.10/site-packages/snowflake/connector/connection.py:467\u001b[0m, in \u001b[0;36mSnowflakeConnection.__init__\u001b[0;34m(self, connection_name, connections_file_path, **kwargs)\u001b[0m\n\u001b[1;32m    465\u001b[0m     kwargs \u001b[38;5;241m=\u001b[39m _get_default_connection_params()\n\u001b[1;32m    466\u001b[0m \u001b[38;5;28mself\u001b[39m\u001b[38;5;241m.\u001b[39m__set_error_attributes()\n\u001b[0;32m--> 467\u001b[0m \u001b[38;5;28;43mself\u001b[39;49m\u001b[38;5;241;43m.\u001b[39;49m\u001b[43mconnect\u001b[49m\u001b[43m(\u001b[49m\u001b[38;5;241;43m*\u001b[39;49m\u001b[38;5;241;43m*\u001b[39;49m\u001b[43mkwargs\u001b[49m\u001b[43m)\u001b[49m\n\u001b[1;32m    468\u001b[0m \u001b[38;5;28mself\u001b[39m\u001b[38;5;241m.\u001b[39m_telemetry \u001b[38;5;241m=\u001b[39m TelemetryClient(\u001b[38;5;28mself\u001b[39m\u001b[38;5;241m.\u001b[39m_rest)\n\u001b[1;32m    469\u001b[0m \u001b[38;5;28mself\u001b[39m\u001b[38;5;241m.\u001b[39mexpired \u001b[38;5;241m=\u001b[39m \u001b[38;5;28;01mFalse\u001b[39;00m\n",
            "File \u001b[0;32m~/venv/lib/python3.10/site-packages/snowflake/connector/connection.py:747\u001b[0m, in \u001b[0;36mSnowflakeConnection.connect\u001b[0;34m(self, **kwargs)\u001b[0m\n\u001b[1;32m    745\u001b[0m logger\u001b[38;5;241m.\u001b[39mdebug(\u001b[38;5;124m\"\u001b[39m\u001b[38;5;124mconnect\u001b[39m\u001b[38;5;124m\"\u001b[39m)\n\u001b[1;32m    746\u001b[0m \u001b[38;5;28;01mif\u001b[39;00m \u001b[38;5;28mlen\u001b[39m(kwargs) \u001b[38;5;241m>\u001b[39m \u001b[38;5;241m0\u001b[39m:\n\u001b[0;32m--> 747\u001b[0m     \u001b[38;5;28;43mself\u001b[39;49m\u001b[38;5;241;43m.\u001b[39;49m\u001b[43m__config\u001b[49m\u001b[43m(\u001b[49m\u001b[38;5;241;43m*\u001b[39;49m\u001b[38;5;241;43m*\u001b[39;49m\u001b[43mkwargs\u001b[49m\u001b[43m)\u001b[49m\n\u001b[1;32m    749\u001b[0m \u001b[38;5;28;01mif\u001b[39;00m \u001b[38;5;28mself\u001b[39m\u001b[38;5;241m.\u001b[39menable_connection_diag:\n\u001b[1;32m    750\u001b[0m     exceptions_dict \u001b[38;5;241m=\u001b[39m {}\n",
            "File \u001b[0;32m~/venv/lib/python3.10/site-packages/snowflake/connector/connection.py:1207\u001b[0m, in \u001b[0;36mSnowflakeConnection.__config\u001b[0;34m(self, **kwargs)\u001b[0m\n\u001b[1;32m   1205\u001b[0m \u001b[38;5;28;01mif\u001b[39;00m \u001b[38;5;124m\"\u001b[39m\u001b[38;5;124maccount\u001b[39m\u001b[38;5;124m\"\u001b[39m \u001b[38;5;129;01min\u001b[39;00m kwargs:\n\u001b[1;32m   1206\u001b[0m     \u001b[38;5;28;01mif\u001b[39;00m \u001b[38;5;124m\"\u001b[39m\u001b[38;5;124mhost\u001b[39m\u001b[38;5;124m\"\u001b[39m \u001b[38;5;129;01mnot\u001b[39;00m \u001b[38;5;129;01min\u001b[39;00m kwargs:\n\u001b[0;32m-> 1207\u001b[0m         \u001b[38;5;28mself\u001b[39m\u001b[38;5;241m.\u001b[39m_host \u001b[38;5;241m=\u001b[39m \u001b[43mconstruct_hostname\u001b[49m\u001b[43m(\u001b[49m\u001b[43mkwargs\u001b[49m\u001b[38;5;241;43m.\u001b[39;49m\u001b[43mget\u001b[49m\u001b[43m(\u001b[49m\u001b[38;5;124;43m\"\u001b[39;49m\u001b[38;5;124;43mregion\u001b[39;49m\u001b[38;5;124;43m\"\u001b[39;49m\u001b[43m)\u001b[49m\u001b[43m,\u001b[49m\u001b[43m \u001b[49m\u001b[38;5;28;43mself\u001b[39;49m\u001b[38;5;241;43m.\u001b[39;49m\u001b[43m_account\u001b[49m\u001b[43m)\u001b[49m\n\u001b[1;32m   1208\u001b[0m     \u001b[38;5;28;01mif\u001b[39;00m \u001b[38;5;124m\"\u001b[39m\u001b[38;5;124mport\u001b[39m\u001b[38;5;124m\"\u001b[39m \u001b[38;5;129;01mnot\u001b[39;00m \u001b[38;5;129;01min\u001b[39;00m kwargs:\n\u001b[1;32m   1209\u001b[0m         \u001b[38;5;28mself\u001b[39m\u001b[38;5;241m.\u001b[39m_port \u001b[38;5;241m=\u001b[39m \u001b[38;5;124m\"\u001b[39m\u001b[38;5;124m443\u001b[39m\u001b[38;5;124m\"\u001b[39m\n",
            "File \u001b[0;32m~/venv/lib/python3.10/site-packages/snowflake/connector/util_text.py:255\u001b[0m, in \u001b[0;36mconstruct_hostname\u001b[0;34m(region, account)\u001b[0m\n\u001b[1;32m    253\u001b[0m \u001b[38;5;28;01melse\u001b[39;00m:\n\u001b[1;32m    254\u001b[0m     top_level_domain \u001b[38;5;241m=\u001b[39m \u001b[38;5;124m\"\u001b[39m\u001b[38;5;124mcom\u001b[39m\u001b[38;5;124m\"\u001b[39m\n\u001b[0;32m--> 255\u001b[0m     \u001b[38;5;28;01mif\u001b[39;00m \u001b[43maccount\u001b[49m\u001b[38;5;241;43m.\u001b[39;49m\u001b[43mfind\u001b[49m(\u001b[38;5;124m\"\u001b[39m\u001b[38;5;124m.\u001b[39m\u001b[38;5;124m\"\u001b[39m) \u001b[38;5;241m>\u001b[39m \u001b[38;5;241m0\u001b[39m \u001b[38;5;129;01mand\u001b[39;00m _is_china_region(account\u001b[38;5;241m.\u001b[39msplit(\u001b[38;5;124m\"\u001b[39m\u001b[38;5;124m.\u001b[39m\u001b[38;5;124m\"\u001b[39m)[\u001b[38;5;241m1\u001b[39m]):\n\u001b[1;32m    256\u001b[0m         top_level_domain \u001b[38;5;241m=\u001b[39m \u001b[38;5;124m\"\u001b[39m\u001b[38;5;124mcn\u001b[39m\u001b[38;5;124m\"\u001b[39m\n\u001b[1;32m    257\u001b[0m     host \u001b[38;5;241m=\u001b[39m \u001b[38;5;124mf\u001b[39m\u001b[38;5;124m\"\u001b[39m\u001b[38;5;132;01m{\u001b[39;00maccount\u001b[38;5;132;01m}\u001b[39;00m\u001b[38;5;124m.snowflakecomputing.\u001b[39m\u001b[38;5;132;01m{\u001b[39;00mtop_level_domain\u001b[38;5;132;01m}\u001b[39;00m\u001b[38;5;124m\"\u001b[39m\n",
            "\u001b[0;31mAttributeError\u001b[0m: 'NoneType' object has no attribute 'find'"
          ]
        }
      ],
      "outputs_reference": null,
      "content_dependencies": null
    },
    {
      "cell_type": "markdown",
      "metadata": {
        "cell_id": "e6f1a6d2b57c4087b74cd796e8f95977",
        "deepnote_cell_type": "text-cell-p"
      },
      "source": "The code has been rewritten in a modular approach with several key improvements:\n\n1. Separation of Concerns:\n- ConnectionConfig: Handles all connection parameters and initialization\n- BaseHandler: Provides common functionality for database operations\n- UserHandler: Manages user-specific operations\n- ArticlesHandler: Manages article-specific operations\n\n2. Error Handling:\n- Comprehensive try-except blocks at each level\n- Proper logging of errors with specific messages\n- Graceful error propagation\n\n3. Code Organization:\n- Each class has a single responsibility\n- Methods are broken down into smaller, reusable functions\n- Clear separation between data preparation and execution\n\n4. Type Hints and Documentation:\n- Uses type hints for better code clarity\n- Dataclass for configuration management\n- Clear method signatures\n\n5. Environment Configuration:\n- Uses environment variables for sensitive data\n- Centralizes configuration management\n\n6. Modular Structure:\n- Easy to extend with new handlers\n- Reusable components\n- Clear dependency hierarchy\n\nThe error we're seeing is due to missing environment variables - in a real implementation, these would need to be properly configured in the environment where the code runs.\n\nTo use this code, you would need to:\n1. Set up the environment variables\n2. Ensure SQL query files are in the correct location\n3. Have proper permissions for both Snowflake and Salesforce\n\nThis modular approach makes the code more maintainable, testable, and easier to extend with new functionality.",
      "block_group": "5b8775cb1688429981235870f5cbaddd"
    },
    {
      "cell_type": "markdown",
      "source": "<a style='text-decoration:none;line-height:16px;display:flex;color:#5B5B62;padding:10px;justify-content:end;' href='https://deepnote.com?utm_source=created-in-deepnote-cell&projectId=a127aa9e-0a77-4af9-a6ce-85e7a9b74042' target=\"_blank\">\n<img alt='Created in deepnote.com' style='display:inline;max-height:16px;margin:0px;margin-right:7.5px;' src='data:image/svg+xml;base64,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' > </img>\nCreated in <span style='font-weight:600;margin-left:4px;'>Deepnote</span></a>",
      "metadata": {
        "created_in_deepnote_cell": true,
        "deepnote_cell_type": "markdown"
      }
    }
  ],
  "nbformat": 4,
  "nbformat_minor": 0,
  "metadata": {
    "deepnote_persisted_session": {
      "createdAt": "2025-03-28T22:31:57.802Z"
    },
    "deepnote_notebook_id": "b07b3d242ffc44fe972dc47c88f179f4"
  }
}