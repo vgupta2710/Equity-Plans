{
  "cells": [
    {
      "cell_type": "code",
      "metadata": {
        "source_hash": "545f3b74",
        "execution_start": 1743940711619,
        "execution_millis": 5426,
        "execution_context_id": "a31ff040-3a41-4c9a-9ac7-a98f94f552b1",
        "cell_id": "051f8377b8c247a4941c80e87efdd609",
        "deepnote_cell_type": "code"
      },
      "source": "from Moduled_functions import get_data\nfrom Moduled_functions import tranformation\nfrom Moduled_functions import calculate_ema_slope\nfrom Moduled_functions import place_order\nfrom m_email import send_email\nimport pandas as pd\nfrom keras.models import load_model\nfrom sklearn.preprocessing import StandardScaler",
      "block_group": "e011e7f7e67449c1b21244e5d1d0acb8",
      "execution_count": 1,
      "outputs": [
        {
          "name": "stderr",
          "text": "2025-04-06 11:58:35.213299: I tensorflow/core/util/port.cc:113] oneDNN custom operations are on. You may see slightly different numerical results due to floating-point round-off errors from different computation orders. To turn them off, set the environment variable `TF_ENABLE_ONEDNN_OPTS=0`.\n2025-04-06 11:58:35.216803: I external/local_tsl/tsl/cuda/cudart_stub.cc:31] Could not find cuda drivers on your machine, GPU will not be used.\n2025-04-06 11:58:35.247605: E external/local_xla/xla/stream_executor/cuda/cuda_dnn.cc:9261] Unable to register cuDNN factory: Attempting to register factory for plugin cuDNN when one has already been registered\n2025-04-06 11:58:35.247663: E external/local_xla/xla/stream_executor/cuda/cuda_fft.cc:607] Unable to register cuFFT factory: Attempting to register factory for plugin cuFFT when one has already been registered\n2025-04-06 11:58:35.248541: E external/local_xla/xla/stream_executor/cuda/cuda_blas.cc:1515] Unable to register cuBLAS factory: Attempting to register factory for plugin cuBLAS when one has already been registered\n2025-04-06 11:58:35.253446: I external/local_tsl/tsl/cuda/cudart_stub.cc:31] Could not find cuda drivers on your machine, GPU will not be used.\n2025-04-06 11:58:35.254243: I tensorflow/core/platform/cpu_feature_guard.cc:182] This TensorFlow binary is optimized to use available CPU instructions in performance-critical operations.\nTo enable the following instructions: AVX2 AVX512F AVX512_VNNI FMA, in other operations, rebuild TensorFlow with the appropriate compiler flags.\n2025-04-06 11:58:36.062774: W tensorflow/compiler/tf2tensorrt/utils/py_utils.cc:38] TF-TRT Warning: Could not find TensorRT\n",
          "output_type": "stream"
        }
      ],
      "outputs_reference": null,
      "content_dependencies": null
    },
    {
      "cell_type": "code",
      "metadata": {
        "source_hash": "51bab0e",
        "execution_start": 1743940717097,
        "execution_millis": 784,
        "is_output_hidden": true,
        "execution_context_id": "a31ff040-3a41-4c9a-9ac7-a98f94f552b1",
        "deepnote_app_is_output_hidden": true,
        "cell_id": "00f21d7de5bc487fb721a1659115a7bc",
        "deepnote_cell_type": "code"
      },
      "source": "import os\n\n# Create directory structure\ndef create_directory_structure():\n    directories = [\n        'data',\n        'data/raw',\n        'data/processed',\n        'data/signals',\n        'data/orders',\n        'data/predictions',\n        'logs',\n        'config'\n    ]\n    \n    for directory in directories:\n        os.makedirs(directory, exist_ok=True)\n        print(f\"Created directory: {directory}\")\n\ncreate_directory_structure()",
      "block_group": "00f21d7de5bc487fb721a1659115a7bc",
      "execution_count": 2,
      "outputs": [
        {
          "name": "stdout",
          "text": "Created directory: data\nCreated directory: data/raw\nCreated directory: data/processed\nCreated directory: data/signals\nCreated directory: data/orders\nCreated directory: data/predictions\nCreated directory: models\nCreated directory: logs\nCreated directory: config\n",
          "output_type": "stream"
        }
      ],
      "outputs_reference": null,
      "content_dependencies": null
    },
    {
      "cell_type": "code",
      "metadata": {
        "source_hash": "f2248899",
        "execution_start": 1743940757927,
        "execution_millis": 0,
        "execution_context_id": "a31ff040-3a41-4c9a-9ac7-a98f94f552b1",
        "cell_id": "adb1ed85b389463e88051db3f863e8a1",
        "deepnote_cell_type": "code"
      },
      "source": "# Combined trading system framework\nimport pandas as pd\nimport numpy as np\nfrom datetime import datetime\nimport requests\nfrom abc import ABC, abstractmethod\nimport logging\nimport json\nfrom Moduled_functions import get_data\n\n# Configure logging\nlogging.basicConfig(\n    filename='logs/trading_system.log',\n    level=logging.INFO,\n    format='%(asctime)s - %(name)s - %(levelname)s - %(message)s'\n)\nlogger = logging.getLogger('TradingSystem')\nclass BaseStrategy(ABC):\n    def __init__(self, name):\n        self.name = name\n        self.signals_path = f'data/signals/signals_{name}.csv'\n        self.trades_path = f'data/orders/trades_{name}.csv'\n        self.config_path = f'config/strategy_{name}.json'\n        self.load_config()\n    \n    def load_config(self):\n        \"\"\"Load strategy configuration\"\"\"\n        try:\n            with open(self.config_path, 'r') as f:\n                self.config = json.load(f)\n        except FileNotFoundError:\n            self.config = self.get_default_config()\n            self.save_config()\n    \n    def save_config(self):\n        \"\"\"Save strategy configuration\"\"\"\n        with open(self.config_path, 'w') as f:\n            json.dump(self.config, f, indent=4)\n    \n    @abstractmethod\n    def get_default_config(self):\n        \"\"\"Get default strategy configuration\"\"\"\n        pass\n    \n    @abstractmethod\n    def generate_signals(self, data):\n        \"\"\"Generate trading signals based on strategy logic\"\"\"\n        pass\n    \n    @abstractmethod\n    def get_order_parameters(self, current_price, signal):\n        \"\"\"Get order parameters based on strategy signal\"\"\"\n        pass\n    \n    def save_signals(self, signals_data):\n        \"\"\"Save strategy signals to history\"\"\"\n        try:\n            if os.path.exists(self.signals_path):\n                existing_signals = pd.read_csv(self.signals_path)\n                signals_data = signals_data.iloc[-1:]\n                updated_signals = pd.concat([existing_signals, signals_data])\n            else:\n                updated_signals = signals_data\n            updated_signals.to_csv(self.signals_path, index=False)\n            logger.info(f\"Signals saved for strategy {self.name}\")\n        except Exception as e:\n            logger.error(f\"Error saving signals for strategy {self.name}: {str(e)}\")\n    \n    def save_trade(self, trade_data):\n        \"\"\"Save trade details to history\"\"\"\n        try:\n            if os.path.exists(self.trades_path):\n                existing_trades = pd.read_csv(self.trades_path)\n                updated_trades = pd.concat([existing_trades, trade_data])\n            else:\n                updated_trades = trade_data\n            updated_trades.to_csv(self.trades_path, index=False)\n            logger.info(f\"Trade saved for strategy {self.name}\")\n        except Exception as e:\n            logger.error(f\"Error saving trade for strategy {self.name}: {str(e)}\")\n\nclass StrategyRegistry:\n    _strategies = {}\n    \n    @classmethod\n    def register(cls, strategy_instance):\n        \"\"\"Register a new strategy\"\"\"\n        cls._strategies[strategy_instance.name] = strategy_instance\n        logger.info(f\"Strategy registered: {strategy_instance.name}\")\n    \n    @classmethod\n    def get_strategy(cls, name):\n        \"\"\"Get a registered strategy by name\"\"\"\n        return cls._strategies.get(name)\n    \n    @classmethod\n    def get_all_strategies(cls):\n        \"\"\"Get all registered strategies\"\"\"\n        return cls._strategies",
      "block_group": "d004a156fdd64a0a98947cf34419eae7",
      "execution_count": 7,
      "outputs": [],
      "outputs_reference": null,
      "content_dependencies": null
    },
    {
      "cell_type": "code",
      "metadata": {
        "source_hash": "11554755",
        "execution_start": 1743946158447,
        "execution_millis": 0,
        "execution_context_id": "a31ff040-3a41-4c9a-9ac7-a98f94f552b1",
        "cell_id": "504fb6ab52404f93a5301b732be9f788",
        "deepnote_cell_type": "code"
      },
      "source": "class DataHandler:\n    def __init__(self):\n        self.scaler = None\n        self.raw_data_path = 'data/raw/base_data.csv'\n        self.processed_data_path = 'data/processed/transformed_data.csv'\n    \n    def get_and_prepare_data(self, lookback, access_token):\n        from Moduled_functions import tranformation\n        \"\"\"Get and prepare the base data\"\"\"\n        try:\n            base_data, current_price = get_data(lookback, access_token)\n            #base_data_append=base_data.iloc[-1:]\n\n        # Read existing history\n            try:\n                existing_data = pd.read_csv(self.raw_data_path,index=False)\n                existing_data['datetime'] = pd.to_datetime(existing_data['datetime'])\n                base_data['datetime'] = pd.to_datetime(base_data['datetime'])\n                \n                \n                # Add new records\n                new_records = base_data[~base_data['datetime'].isin(existing_data['datetime'])]\n                if not new_records.empty:\n                    updated_data = pd.concat([existing_data, new_records])\n                    updated_data = updated_data.sort_values('datetime')\n                else:\n                    updated_data = existing_data\n            except FileNotFoundError:\n                updated_data = base_data\n\n            updated_data.to_csv(self.raw_data_path, index=False)\n            logger.info(f\"Raw data saved to {self.raw_data_path}\")\n            \n            base_data = tranformation(base_data, 0.0015)            \n            return base_data, current_price\n        except Exception as e:\n            logger.error(f\"Error in get_and_prepare_data: {str(e)}\")\n            raise\n    \n    def calculate_technical_indicators(self, data):\n        \"\"\"Calculate technical indicators\"\"\"\n        try:\n            data['EMA_slope'] = calculate_ema_slope(data, 'Open', 9)\n            data['EMA_slope_15'] = calculate_ema_slope(data, 'Open', 15)\n            data['EMA_slope_60'] = calculate_ema_slope(data, 'Open', 60)\n            data['deviation_'] = data['bullish_move_flag_20'] + data['bearish_move_flag_20']\n            \n            try:\n                # Read existing history\n                existing_data = pd.read_csv(self.processed_data_path,index=False)\n                existing_data['datetime'] = pd.to_datetime(existing_data['datetime'])\n                data['datetime'] = pd.to_datetime(data['datetime'])\n                # Add new records\n                new_records = data[~data['datetime'].isin(existing_data['datetime'])]\n                if not new_records.empty:\n                    updated_data = pd.concat([existing_data, new_records])\n                    updated_data = updated_data.sort_values('datetime')\n                else:\n                    updated_data = existing_data\n            except FileNotFoundError:\n                updated_data = data \n\n            updated_data.to_csv(self.processed_data_path, index=False)\n\n            logger.info(f\"Processed data saved to {self.processed_data_path}\")\n            return data\n        except Exception as e:\n            logger.error(f\"Error in calculate_technical_indicators: {str(e)}\")\n            raise\n    \n    def normalize_features(self, data):\n        \"\"\"Normalize the feature data\"\"\"\n        try:\n            X = data.iloc[:,9:69]\n            y = data['deviation_']\n            \n            if self.scaler is None:\n                self.scaler = StandardScaler()\n                self.scaler.fit(X)\n            \n            X_normalized = pd.DataFrame(self.scaler.transform(X)).round(1)\n            return X_normalized, y\n        except Exception as e:\n            logger.error(f\"Error in normalize_features: {str(e)}\")\n            raise\nclass OrderManager:\n    def __init__(self, access_token):\n        self.access_token = access_token\n        #self.account_id = account_id\n        self.orders_path = 'data/orders/all_orders.csv'\n    \n    def place_order(self, current_price, stop_loss, take_profit, quantity,account_id):\n        \"\"\"Place an order\"\"\"\n        try:\n            order = place_order(\n                str(current_price),\n                str(round(stop_loss, 5)),\n                str(round(take_profit, 5)),\n                quantity,\n                self.access_token,\n                account_id\n            )\n            logger.info(f\"Order placed: {order['orderCreateTransaction'].get('id')}\")\n            return order\n        except Exception as e:\n            logger.error(f\"Error placing order: {str(e)}\")\n            raise\n    \n    def save_order(self, order_data):\n        \"\"\"Save order details to history\"\"\"\n        try:\n            if os.path.exists(self.orders_path):\n                existing_orders = pd.read_csv(self.orders_path)\n                updated_orders = pd.concat([existing_orders, order_data])\n            else:\n                updated_orders = order_data\n            updated_orders.to_csv(self.orders_path, index=False)\n            logger.info(\"Order saved to history\")\n        except Exception as e:\n            logger.error(f\"Error saving order: {str(e)}\")",
      "block_group": "98e7de400ce44087bb93324ee96e7f8e",
      "execution_count": 89,
      "outputs": [],
      "outputs_reference": null,
      "content_dependencies": null
    },
    {
      "cell_type": "code",
      "metadata": {
        "source_hash": "4728305c",
        "execution_start": 1743946154267,
        "execution_millis": 1,
        "execution_context_id": "a31ff040-3a41-4c9a-9ac7-a98f94f552b1",
        "cell_id": "eb4c0d0fba4740ee82a9e6bcc4475405",
        "deepnote_cell_type": "code"
      },
      "source": "class TradingSystem:\n    def __init__(self, access_token, bearish_model, bullish_model):\n        self.data_handler = DataHandler()\n        self.order_manager = OrderManager(access_token)\n        self.predictions_data_path = 'data/predictions/predictions_data.csv'\n        #self.bearish_model = bearish_model\n        #self.bullish_model = bullish_model\n        \n    def execute(self, lookback=100):\n        try:\n            # Get and prepare data\n            base_data, current_price = self.data_handler.get_and_prepare_data(lookback, self.order_manager.access_token)\n            base_data = self.data_handler.calculate_technical_indicators(base_data)\n            X_normalized, y = self.data_handler.normalize_features(base_data)\n            \n            # Generate predictions\n            \n            y_pred_bearish = bearish_model.predict(X_normalized, verbose=0)\n            y_pred_bearish = pd.DataFrame(y_pred_bearish)\n            y_pred_bullish = bullish_model.predict(X_normalized, verbose=0)\n            y_pred_bullish = pd.DataFrame(y_pred_bullish)\n            \n            # Combine results\n            result_combined = pd.concat([y_pred_bearish, y_pred_bullish, y], axis=1)\n            result_combined.columns = ['bearish_0','bearish_1','bearish_2','bearish_3',\n                                    'bullish_0','bullish_1','bullish_2','bullish_3','y_true']\n            \n            result_combined = pd.concat([base_data['datetime'], result_combined], axis=1)\n\n            try:\n                # Read existing history\n                existing_data = pd.read_csv(self.predictions_data_path,index=False)\n                existing_data['datetime'] = pd.to_datetime(existing_data['datetime'])\n                result_combined['datetime'] = pd.to_datetime(result_combined['datetime'])\n                \n                \n                # Add new records\n                new_records = result_combined[~result_combined['datetime'].isin(existing_data['datetime'])]\n                if not new_records.empty:\n                    updated_data = pd.concat([existing_data, new_records])\n                    updated_data = updated_data.sort_values('datetime')\n                else:\n                    updated_data = existing_data\n            except FileNotFoundError:\n                updated_data = result_combined\n                \n            updated_data.to_csv(self.predictions_data_path, index=False)\n\n            del(result_combined)\n            # Process each strategy\n            for strategy in StrategyRegistry.get_all_strategies().values():\n                self._process_strategy(strategy, base_data, current_price)\n            \n            logger.info(f\"Execution completed at {datetime.now()}\")\n            \n        except Exception as e:\n            logger.error(f\"Error in execute: {str(e)}\")\n    \n    def _process_strategy(self, strategy, base_data, current_price):\n        \"\"\"Process individual strategy signals and execute trades\"\"\"\n        try:\n            # Generate signals\n            signals = strategy.generate_signals(base_data)\n            signals['timestamp'] = datetime.now().strftime('%Y-%m-%d %H:%M:%S')\n            strategy.save_signals(signals)\n            \n            # Check signals and execute trades\n            latest_bearish = signals['bearish_flag'].iloc[-1]\n            latest_bullish = signals['bullish_flag'].iloc[-1]\n            \n            if latest_bullish == 1 and latest_bearish != 2:\n                self._execute_trade(strategy, 1, current_price)\n            elif latest_bearish == 2 and latest_bullish != 1:\n                self._execute_trade(strategy, 2, current_price)\n                \n        except Exception as e:\n            logger.error(f\"Error processing strategy {strategy.name}: {str(e)}\")\n    \n    def _execute_trade(self, strategy, signal, current_price):\n        \"\"\"Execute and record a trade for a strategy\"\"\"\n        try:\n            order_params = strategy.get_order_parameters(current_price, signal)\n            if not order_params:\n                return\n            \n            order = self.order_manager.place_order(\n                current_price,\n                order_params['stop_loss'],\n                order_params['take_profit'],\n                order_params['quantity'],\n                order_params['account_id']\n            )\n            \n            order_id = order['orderCreateTransaction'].get('id')\n            order_time = order['orderCreateTransaction'].get('time')\n            account_id = order['orderCreateTransaction'].get('accountID')\n            \n            # Save trade details\n            trade_data = pd.DataFrame({\n                'Time': [order_time],\n                'Strategy': [strategy.name],\n                'Type': [order_params['type']],\n                'Quantity': [order_params['quantity']],\n                'Price': [current_price],\n                'Take_Profit': [order_params['take_profit']],\n                'Stop_Loss': [order_params['stop_loss']],\n                'Order_ID': [order_id],\n                'Account_ID': [account_id],\n            })\n            \n            strategy.save_trade(trade_data)\n            self.order_manager.save_order(trade_data)\n            \n            # Send notification\n            message = f\"{strategy.name} {order_params['type']} Order placed with order no: {order_id}\"\n            requests.get(f'https://api.day.app/iFbt9PqBdm6d2YvUT4irnN/{order_params[\"type\"]} Order Placed/{message}')\n            logger.info(message)\n            \n        except Exception as e:\n            logger.error(f\"Error executing trade for strategy {strategy.name}: {str(e)}\")\n\nprint(\"Trading system framework initialized with directory structure\")",
      "block_group": "dc265a2ae0a043018ce77028bce37b98",
      "execution_count": 87,
      "outputs": [
        {
          "name": "stdout",
          "text": "Trading system framework initialized with directory structure\n",
          "output_type": "stream"
        }
      ],
      "outputs_reference": null,
      "content_dependencies": null
    },
    {
      "cell_type": "code",
      "metadata": {
        "source_hash": "8dff5d4e",
        "execution_start": 1743946162274,
        "execution_millis": 2,
        "execution_context_id": "a31ff040-3a41-4c9a-9ac7-a98f94f552b1",
        "cell_id": "8e1f6e96a5094d3992fb9e5d9fa5839b",
        "deepnote_cell_type": "code"
      },
      "source": "# Example implementations of concrete strategies\nclass VolumeBasedStrategy(BaseStrategy):\n    def __init__(self):\n        super().__init__('volume_based')\n    \n    def get_default_config(self):\n        return {\n            'ema_slope_threshold': 450,\n            'ema_slope_15_threshold': 750,\n            'ema_slope_60_threshold': 0.50,\n            'bearish_threshold_max': 0.65,\n            'move_from_top_min': 0.08,\n            'move_from_top_max': 0.25,\n            'volume_min': 450,\n            'volume_max': 700,\n            'volume_mean_3_min': 500,\n            'volume_mean_3_max': 750,\n            'take_profit_multiplier': 1.0015,\n            'stop_loss_multiplier': 0.0005,\n            'quantity': '1000000'\n        }\n    \n    def generate_signals(self, data):\n        config = self.config\n        \n        # Generate bearish signals\n        bearish_signals = data.apply(lambda x: 2 if (\n            x['EMA_slope'] < config['ema_slope_threshold'] and\n            x['EMA_slope_15'] < config['ema_slope_15_threshold'] and\n            x['EMA_slope_60'] < config['ema_slope_60_threshold'] and\n            x['volume'] > config['volume_threshold']\n        ) else 0, axis=1)\n        \n        # Generate bullish signals\n        bullish_signals = data.apply(lambda x: 1 if (\n            x['EMA_slope'] > abs(config['ema_slope_threshold']) and\n            x['EMA_slope_15'] > abs(config['ema_slope_15_threshold']) and\n            x['EMA_slope_60'] > abs(config['ema_slope_60_threshold']) and\n            x['volume'] > config['volume_threshold']\n        ) else 0, axis=1)\n        \n        signals = pd.DataFrame({\n            'datetime': data['datetime'],\n            'bearish_flag': bearish_signals,\n            'bullish_flag': bullish_signals\n        })\n        \n        return signals\n    \n    def get_order_parameters(self, current_price, signal):\n        config = self.config\n        \n        if signal == 1:  # Bullish\n            return {\n                'take_profit': current_price * config['take_profit_multiplier'],\n                'stop_loss': current_price * config['stop_loss_multiplier'],\n                'quantity': config['quantity'],\n                'type': 'BUY',\n                'account_id' : '101-004-31059296-001'\n            }\n        elif signal == 2:  # Bearish\n            return {\n                'take_profit': current_price * (2 - config['take_profit_multiplier']),\n                'stop_loss': current_price * config['stop_loss_multiplier'],\n                'quantity': f\"-{config['quantity']}\",\n                'type': 'SELL',\n                'account_id' : '101-004-31059296-001'\n            }\n        return None\n\n# Example implementations of concrete strategies\nclass VolumeBasedStrategyHedge(BaseStrategy):\n    def __init__(self):\n        super().__init__('volume_based_hedge')\n    \n    def get_default_config(self):\n        return {\n            'ema_slope_threshold': 450,\n            'ema_slope_15_threshold': 750,\n            'ema_slope_60_threshold': 0.50,\n            'bearish_threshold_max': 0.65,\n            'move_from_top_min': 0.08,\n            'move_from_top_max': 0.25,\n            'volume_min': 450,\n            'volume_max': 700,\n            'volume_mean_3_min': 500,\n            'volume_mean_3_max': 750,\n            'take_profit_multiplier': 1.0015,\n            'stop_loss_multiplier': 0.0005,\n            'quantity': '1000000'\n        }\n    \n    def generate_signals(self, data):\n        config = self.config\n        \n        # Generate bearish signals\n        bearish_signals = data.apply(lambda x: 2 if (\n            x['EMA_slope'] < config['ema_slope_threshold'] and\n            x['EMA_slope_15'] < config['ema_slope_15_threshold'] and\n            x['EMA_slope_60'] < config['ema_slope_60_threshold'] and\n            x['volume'] > config['volume_threshold']\n        ) else 0, axis=1)\n        \n        # Generate bullish signals\n        bullish_signals = data.apply(lambda x: 1 if (\n            x['EMA_slope'] > abs(config['ema_slope_threshold']) and\n            x['EMA_slope_15'] > abs(config['ema_slope_15_threshold']) and\n            x['EMA_slope_60'] > abs(config['ema_slope_60_threshold']) and\n            x['volume'] > config['volume_threshold']\n        ) else 0, axis=1)\n        \n        signals = pd.DataFrame({\n            'datetime': data['datetime'],\n            'bearish_flag': bearish_signals,\n            'bullish_flag': bullish_signals\n        })\n        \n        return signals\n    \n    def get_order_parameters(self, current_price, signal):\n        config = self.config\n        \n        if signal == 2:  # Bullish\n            return {\n                'take_profit': current_price * config['take_profit_multiplier'],\n                'stop_loss': current_price * config['stop_loss_multiplier'],\n                'quantity': config['quantity'],\n                'type': 'BUY',\n                'account_id' : '101-004-31059296-003'\n            }\n        elif signal == 1:  # Bearish\n            return {\n                'take_profit': current_price * (2 - config['take_profit_multiplier']),\n                'stop_loss': current_price * config['stop_loss_multiplier'],\n                'quantity': f\"-{config['quantity']}\",\n                'type': 'BUY',\n                'account_id' : '101-004-31059296-003'\n            }\n        return None\n\nclass EMASlopeStrategy(BaseStrategy):\n    def __init__(self):\n        super().__init__('ema_slope')\n    \n    def get_default_config(self):\n        return {\n            'ema_slope_threshold': -0.0002,\n            'ema_slope_15_threshold': -0.0001,\n            'ema_slope_60_threshold': 0,\n            'volume_threshold': 500,\n            'take_profit_multiplier': 1.002,\n            'stop_loss_multiplier': 0.001,\n            'quantity': '500000'\n        }\n    \n    def generate_signals(self, data):\n        config = self.config\n        \n        # Generate bearish signals\n        bearish_signals = data.apply(lambda x: 2 if (\n            x['EMA_slope'] < config['ema_slope_threshold'] and\n            x['EMA_slope_15'] < config['ema_slope_15_threshold'] and\n            x['EMA_slope_60'] < config['ema_slope_60_threshold'] and\n            x['volume'] > config['volume_threshold']\n        ) else 0, axis=1)\n        \n        # Generate bullish signals\n        bullish_signals = data.apply(lambda x: 1 if (\n            x['EMA_slope'] > abs(config['ema_slope_threshold']) and\n            x['EMA_slope_15'] > abs(config['ema_slope_15_threshold']) and\n            x['EMA_slope_60'] > abs(config['ema_slope_60_threshold']) and\n            x['volume'] > config['volume_threshold']\n        ) else 0, axis=1)\n        \n        signals = pd.DataFrame({\n            'datetime': data['datetime'],\n            'bearish_flag': bearish_signals,\n            'bullish_flag': bullish_signals\n        })\n        \n        return signals\n    \n    def get_order_parameters(self, current_price, signal):\n        config = self.config\n        \n        if signal == 1:  # Bullish\n            return {\n                'take_profit': current_price * config['take_profit_multiplier'],\n                'stop_loss': current_price * config['stop_loss_multiplier'],\n                'quantity': config['quantity'],\n                'type': 'BUY',\n                'account_id' : '101-004-31059296-001'\n            }\n        elif signal == 2:  # Bearish\n            return {\n                'take_profit': current_price * (2 - config['take_profit_multiplier']),\n                'stop_loss': current_price * config['stop_loss_multiplier'],\n                'quantity': f\"-{config['quantity']}\",\n                'type': 'SELL',\n                'account_id' : '101-004-31059296-001'\n            }\n        return None\n\nprint(\"Strategy implementations completed\")",
      "block_group": "86288f70820f4128b1cfc4b18c880480",
      "execution_count": 91,
      "outputs": [
        {
          "name": "stdout",
          "text": "Strategy implementations completed\n",
          "output_type": "stream"
        }
      ],
      "outputs_reference": null,
      "content_dependencies": null
    },
    {
      "cell_type": "code",
      "metadata": {
        "source_hash": "d5151437",
        "execution_start": 1743946163842,
        "execution_millis": 1416,
        "execution_context_id": "a31ff040-3a41-4c9a-9ac7-a98f94f552b1",
        "cell_id": "52b1e082631d41fca8a8dd78f26dad73",
        "deepnote_cell_type": "code"
      },
      "source": "access_token = '320c03e29b3723c3869a2eafa278c553-c96eccee26e4e5864dcf001e98f7db84'\naccount_id = '101-004-31059296-001'\nbearish_model = load_model('/work/Trained_Models/FX_Bearish_model_2025-02-19.keras')\nbullish_model = load_model('/work/Trained_Models/FX_Bullish_model_2025-02-21.keras')\n\n\n# Initialize the system\ntrading_system = TradingSystem(access_token, bearish_model, bullish_model)\n\n# Register strategies\nvolume_strategy = VolumeBasedStrategy()\nvolume_strategy_hedge = VolumeBasedStrategyHedge()\nema_strategy = EMASlopeStrategy()\n\nStrategyRegistry.register(volume_strategy)\nStrategyRegistry.register(volume_strategy_hedge)\nStrategyRegistry.register(ema_strategy)\n\n# Execute trading system\ntrading_system.execute(lookback=100)",
      "block_group": "ad04ba6aad8847a2bbc3cc519f349dab",
      "execution_count": 93,
      "outputs": [
        {
          "name": "stderr",
          "text": "2025-04-06 13:29:25,161 - INFO - Strategy registered: volume_based\n2025-04-06 13:29:25,163 - INFO - Strategy registered: volume_based_hedge\n2025-04-06 13:29:25,163 - INFO - Strategy registered: ema_slope\n2025-04-06 13:29:25,251 - ERROR - Error in get_and_prepare_data: read_csv() got an unexpected keyword argument 'index'\n2025-04-06 13:29:25,253 - ERROR - Error in execute: read_csv() got an unexpected keyword argument 'index'\n",
          "output_type": "stream"
        }
      ],
      "outputs_reference": null,
      "content_dependencies": null
    },
    {
      "cell_type": "code",
      "metadata": {
        "source_hash": "1c5085c4",
        "execution_start": 1743940946282,
        "execution_millis": 2,
        "execution_context_id": "a31ff040-3a41-4c9a-9ac7-a98f94f552b1",
        "cell_id": "6437b2eff5874155af722cb26f1d337c",
        "deepnote_cell_type": "code"
      },
      "source": "import os\n\n# Check if logs directory exists and create if not\nlog_dir = 'logs'\nif not os.path.exists(log_dir):\n    os.makedirs(log_dir)\n\n# Test if log file is being written\nimport logging\n\n# Configure logging with both file and console handlers\nlogger = logging.getLogger('TradingSystem')\nlogger.setLevel(logging.INFO)\n\n# Clear any existing handlers\nlogger.handlers = []\n\n# Create file handler\nfile_handler = logging.FileHandler('logs/trading_system.log')\nfile_handler.setLevel(logging.INFO)\nfile_formatter = logging.Formatter('%(asctime)s - %(name)s - %(levelname)s - %(message)s')\nfile_handler.setFormatter(file_formatter)\n\n# Create console handler\nconsole_handler = logging.StreamHandler()\nconsole_handler.setLevel(logging.INFO)\nconsole_formatter = logging.Formatter('%(asctime)s - %(levelname)s - %(message)s')\nconsole_handler.setFormatter(console_formatter)\n\n# Add both handlers to logger\nlogger.addHandler(file_handler)\nlogger.addHandler(console_handler)\n\n# Test logging\nlogger.info(\"Test log message - checking if logging is working\")\n\n# Read and display the last few lines of the log file\ntry:\n    with open('logs/trading_system.log', 'r') as f:\n        last_lines = f.readlines()[-5:]  # Get last 5 lines\n        print(\"\\nLast few lines from log file:\")\n        for line in last_lines:\n            print(line.strip())\nexcept FileNotFoundError:\n    print(\"Log file not found!\")\nexcept Exception as e:\n    print(f\"Error reading log file: {str(e)}\")",
      "block_group": "7721ec0d405c4fb48da03c0d4d969f38",
      "execution_count": 29,
      "outputs": [
        {
          "name": "stderr",
          "text": "2025-04-06 12:02:26,280 - INFO - Test log message - checking if logging is working\n\nLast few lines from log file:\n2025-04-06 11:59:28,414 - TradingSystem - INFO - Signals saved for strategy volume_based_hedge\n2025-04-06 11:59:28,868 - TradingSystem - INFO - Signals saved for strategy ema_slope\n2025-04-06 11:59:28,868 - TradingSystem - INFO - Execution completed at 2025-04-06 11:59:28.868861\n2025-04-06 12:02:26,280 - TradingSystem - INFO - Test log message - checking if logging is working\n2025-04-06 12:02:26,280 - TradingSystem - INFO - Test log message - checking if logging is working\n",
          "output_type": "stream"
        }
      ],
      "outputs_reference": null,
      "content_dependencies": null
    },
    {
      "cell_type": "code",
      "metadata": {
        "cell_id": "8d39940b102940aeb0c3f0af5595cba2",
        "deepnote_cell_type": "code"
      },
      "source": "print(f\"Check completed at {current_time}\")",
      "block_group": "e7eb13f062ac44c891b1a1eef3ec8e2b",
      "execution_count": null,
      "outputs": [],
      "outputs_reference": null,
      "content_dependencies": null
    },
    {
      "cell_type": "code",
      "metadata": {
        "cell_id": "e38c3775cbce4c98bd5308a3decf99f0",
        "deepnote_cell_type": "code"
      },
      "source": "# Set up the schedule to run at specified intervals\nfor minute in [1, 6, 11, 16, 21, 26, 31, 36, 41, 46, 51, 56]:\n    schedule.every().hour.at(f\":{minute:02d}\").do(job)",
      "block_group": "f26de8f42aeb4038a9c514548e1604a1",
      "execution_count": null,
      "outputs": [],
      "outputs_reference": null,
      "content_dependencies": null
    },
    {
      "cell_type": "code",
      "metadata": {
        "cell_id": "e2b75dd7944840a6aec43f6b1881fad2",
        "deepnote_cell_type": "code"
      },
      "source": "print(\"Starting the trading bot...\")\nwhile True:\n    schedule.run_pending()\n    time.sleep(1)",
      "block_group": "3472ca3e039440d184c51551be756c4a",
      "execution_count": null,
      "outputs": [],
      "outputs_reference": null,
      "content_dependencies": null
    },
    {
      "cell_type": "code",
      "metadata": {
        "source_hash": "81eb61d6",
        "execution_start": 1743946061307,
        "execution_millis": 83,
        "execution_context_id": "a31ff040-3a41-4c9a-9ac7-a98f94f552b1",
        "cell_id": "56808d75e25c44b79d3f1d5fa927389d",
        "deepnote_cell_type": "code"
      },
      "source": "link = '/work/data/raw/base_data.csv'\nss = pd.read_csv(link)",
      "block_group": "773098b27d3c4dcaa2e57f69c6fa4f39",
      "execution_count": 83,
      "outputs": [
        {
          "output_type": "error",
          "ename": "FileNotFoundError",
          "evalue": "[Errno 2] No such file or directory: '/work/data/raw/base_data.csv'",
          "traceback": [
            "\u001b[0;31m---------------------------------------------------------------------------\u001b[0m",
            "\u001b[0;31mFileNotFoundError\u001b[0m                         Traceback (most recent call last)",
            "Cell \u001b[0;32mIn[83], line 2\u001b[0m\n\u001b[1;32m      1\u001b[0m link \u001b[38;5;241m=\u001b[39m \u001b[38;5;124m'\u001b[39m\u001b[38;5;124m/work/data/raw/base_data.csv\u001b[39m\u001b[38;5;124m'\u001b[39m\n\u001b[0;32m----> 2\u001b[0m ss \u001b[38;5;241m=\u001b[39m \u001b[43mpd\u001b[49m\u001b[38;5;241;43m.\u001b[39;49m\u001b[43mread_csv\u001b[49m\u001b[43m(\u001b[49m\u001b[43mlink\u001b[49m\u001b[43m)\u001b[49m\n",
            "File \u001b[0;32m~/venv/lib/python3.10/site-packages/pandas/io/parsers/readers.py:948\u001b[0m, in \u001b[0;36mread_csv\u001b[0;34m(filepath_or_buffer, sep, delimiter, header, names, index_col, usecols, dtype, engine, converters, true_values, false_values, skipinitialspace, skiprows, skipfooter, nrows, na_values, keep_default_na, na_filter, verbose, skip_blank_lines, parse_dates, infer_datetime_format, keep_date_col, date_parser, date_format, dayfirst, cache_dates, iterator, chunksize, compression, thousands, decimal, lineterminator, quotechar, quoting, doublequote, escapechar, comment, encoding, encoding_errors, dialect, on_bad_lines, delim_whitespace, low_memory, memory_map, float_precision, storage_options, dtype_backend)\u001b[0m\n\u001b[1;32m    935\u001b[0m kwds_defaults \u001b[38;5;241m=\u001b[39m _refine_defaults_read(\n\u001b[1;32m    936\u001b[0m     dialect,\n\u001b[1;32m    937\u001b[0m     delimiter,\n\u001b[0;32m   (...)\u001b[0m\n\u001b[1;32m    944\u001b[0m     dtype_backend\u001b[38;5;241m=\u001b[39mdtype_backend,\n\u001b[1;32m    945\u001b[0m )\n\u001b[1;32m    946\u001b[0m kwds\u001b[38;5;241m.\u001b[39mupdate(kwds_defaults)\n\u001b[0;32m--> 948\u001b[0m \u001b[38;5;28;01mreturn\u001b[39;00m \u001b[43m_read\u001b[49m\u001b[43m(\u001b[49m\u001b[43mfilepath_or_buffer\u001b[49m\u001b[43m,\u001b[49m\u001b[43m \u001b[49m\u001b[43mkwds\u001b[49m\u001b[43m)\u001b[49m\n",
            "File \u001b[0;32m~/venv/lib/python3.10/site-packages/pandas/io/parsers/readers.py:611\u001b[0m, in \u001b[0;36m_read\u001b[0;34m(filepath_or_buffer, kwds)\u001b[0m\n\u001b[1;32m    608\u001b[0m _validate_names(kwds\u001b[38;5;241m.\u001b[39mget(\u001b[38;5;124m\"\u001b[39m\u001b[38;5;124mnames\u001b[39m\u001b[38;5;124m\"\u001b[39m, \u001b[38;5;28;01mNone\u001b[39;00m))\n\u001b[1;32m    610\u001b[0m \u001b[38;5;66;03m# Create the parser.\u001b[39;00m\n\u001b[0;32m--> 611\u001b[0m parser \u001b[38;5;241m=\u001b[39m \u001b[43mTextFileReader\u001b[49m\u001b[43m(\u001b[49m\u001b[43mfilepath_or_buffer\u001b[49m\u001b[43m,\u001b[49m\u001b[43m \u001b[49m\u001b[38;5;241;43m*\u001b[39;49m\u001b[38;5;241;43m*\u001b[39;49m\u001b[43mkwds\u001b[49m\u001b[43m)\u001b[49m\n\u001b[1;32m    613\u001b[0m \u001b[38;5;28;01mif\u001b[39;00m chunksize \u001b[38;5;129;01mor\u001b[39;00m iterator:\n\u001b[1;32m    614\u001b[0m     \u001b[38;5;28;01mreturn\u001b[39;00m parser\n",
            "File \u001b[0;32m~/venv/lib/python3.10/site-packages/pandas/io/parsers/readers.py:1448\u001b[0m, in \u001b[0;36mTextFileReader.__init__\u001b[0;34m(self, f, engine, **kwds)\u001b[0m\n\u001b[1;32m   1445\u001b[0m     \u001b[38;5;28mself\u001b[39m\u001b[38;5;241m.\u001b[39moptions[\u001b[38;5;124m\"\u001b[39m\u001b[38;5;124mhas_index_names\u001b[39m\u001b[38;5;124m\"\u001b[39m] \u001b[38;5;241m=\u001b[39m kwds[\u001b[38;5;124m\"\u001b[39m\u001b[38;5;124mhas_index_names\u001b[39m\u001b[38;5;124m\"\u001b[39m]\n\u001b[1;32m   1447\u001b[0m \u001b[38;5;28mself\u001b[39m\u001b[38;5;241m.\u001b[39mhandles: IOHandles \u001b[38;5;241m|\u001b[39m \u001b[38;5;28;01mNone\u001b[39;00m \u001b[38;5;241m=\u001b[39m \u001b[38;5;28;01mNone\u001b[39;00m\n\u001b[0;32m-> 1448\u001b[0m \u001b[38;5;28mself\u001b[39m\u001b[38;5;241m.\u001b[39m_engine \u001b[38;5;241m=\u001b[39m \u001b[38;5;28;43mself\u001b[39;49m\u001b[38;5;241;43m.\u001b[39;49m\u001b[43m_make_engine\u001b[49m\u001b[43m(\u001b[49m\u001b[43mf\u001b[49m\u001b[43m,\u001b[49m\u001b[43m \u001b[49m\u001b[38;5;28;43mself\u001b[39;49m\u001b[38;5;241;43m.\u001b[39;49m\u001b[43mengine\u001b[49m\u001b[43m)\u001b[49m\n",
            "File \u001b[0;32m~/venv/lib/python3.10/site-packages/pandas/io/parsers/readers.py:1705\u001b[0m, in \u001b[0;36mTextFileReader._make_engine\u001b[0;34m(self, f, engine)\u001b[0m\n\u001b[1;32m   1703\u001b[0m     \u001b[38;5;28;01mif\u001b[39;00m \u001b[38;5;124m\"\u001b[39m\u001b[38;5;124mb\u001b[39m\u001b[38;5;124m\"\u001b[39m \u001b[38;5;129;01mnot\u001b[39;00m \u001b[38;5;129;01min\u001b[39;00m mode:\n\u001b[1;32m   1704\u001b[0m         mode \u001b[38;5;241m+\u001b[39m\u001b[38;5;241m=\u001b[39m \u001b[38;5;124m\"\u001b[39m\u001b[38;5;124mb\u001b[39m\u001b[38;5;124m\"\u001b[39m\n\u001b[0;32m-> 1705\u001b[0m \u001b[38;5;28mself\u001b[39m\u001b[38;5;241m.\u001b[39mhandles \u001b[38;5;241m=\u001b[39m \u001b[43mget_handle\u001b[49m\u001b[43m(\u001b[49m\n\u001b[1;32m   1706\u001b[0m \u001b[43m    \u001b[49m\u001b[43mf\u001b[49m\u001b[43m,\u001b[49m\n\u001b[1;32m   1707\u001b[0m \u001b[43m    \u001b[49m\u001b[43mmode\u001b[49m\u001b[43m,\u001b[49m\n\u001b[1;32m   1708\u001b[0m \u001b[43m    \u001b[49m\u001b[43mencoding\u001b[49m\u001b[38;5;241;43m=\u001b[39;49m\u001b[38;5;28;43mself\u001b[39;49m\u001b[38;5;241;43m.\u001b[39;49m\u001b[43moptions\u001b[49m\u001b[38;5;241;43m.\u001b[39;49m\u001b[43mget\u001b[49m\u001b[43m(\u001b[49m\u001b[38;5;124;43m\"\u001b[39;49m\u001b[38;5;124;43mencoding\u001b[39;49m\u001b[38;5;124;43m\"\u001b[39;49m\u001b[43m,\u001b[49m\u001b[43m \u001b[49m\u001b[38;5;28;43;01mNone\u001b[39;49;00m\u001b[43m)\u001b[49m\u001b[43m,\u001b[49m\n\u001b[1;32m   1709\u001b[0m \u001b[43m    \u001b[49m\u001b[43mcompression\u001b[49m\u001b[38;5;241;43m=\u001b[39;49m\u001b[38;5;28;43mself\u001b[39;49m\u001b[38;5;241;43m.\u001b[39;49m\u001b[43moptions\u001b[49m\u001b[38;5;241;43m.\u001b[39;49m\u001b[43mget\u001b[49m\u001b[43m(\u001b[49m\u001b[38;5;124;43m\"\u001b[39;49m\u001b[38;5;124;43mcompression\u001b[39;49m\u001b[38;5;124;43m\"\u001b[39;49m\u001b[43m,\u001b[49m\u001b[43m \u001b[49m\u001b[38;5;28;43;01mNone\u001b[39;49;00m\u001b[43m)\u001b[49m\u001b[43m,\u001b[49m\n\u001b[1;32m   1710\u001b[0m \u001b[43m    \u001b[49m\u001b[43mmemory_map\u001b[49m\u001b[38;5;241;43m=\u001b[39;49m\u001b[38;5;28;43mself\u001b[39;49m\u001b[38;5;241;43m.\u001b[39;49m\u001b[43moptions\u001b[49m\u001b[38;5;241;43m.\u001b[39;49m\u001b[43mget\u001b[49m\u001b[43m(\u001b[49m\u001b[38;5;124;43m\"\u001b[39;49m\u001b[38;5;124;43mmemory_map\u001b[39;49m\u001b[38;5;124;43m\"\u001b[39;49m\u001b[43m,\u001b[49m\u001b[43m \u001b[49m\u001b[38;5;28;43;01mFalse\u001b[39;49;00m\u001b[43m)\u001b[49m\u001b[43m,\u001b[49m\n\u001b[1;32m   1711\u001b[0m \u001b[43m    \u001b[49m\u001b[43mis_text\u001b[49m\u001b[38;5;241;43m=\u001b[39;49m\u001b[43mis_text\u001b[49m\u001b[43m,\u001b[49m\n\u001b[1;32m   1712\u001b[0m \u001b[43m    \u001b[49m\u001b[43merrors\u001b[49m\u001b[38;5;241;43m=\u001b[39;49m\u001b[38;5;28;43mself\u001b[39;49m\u001b[38;5;241;43m.\u001b[39;49m\u001b[43moptions\u001b[49m\u001b[38;5;241;43m.\u001b[39;49m\u001b[43mget\u001b[49m\u001b[43m(\u001b[49m\u001b[38;5;124;43m\"\u001b[39;49m\u001b[38;5;124;43mencoding_errors\u001b[39;49m\u001b[38;5;124;43m\"\u001b[39;49m\u001b[43m,\u001b[49m\u001b[43m \u001b[49m\u001b[38;5;124;43m\"\u001b[39;49m\u001b[38;5;124;43mstrict\u001b[39;49m\u001b[38;5;124;43m\"\u001b[39;49m\u001b[43m)\u001b[49m\u001b[43m,\u001b[49m\n\u001b[1;32m   1713\u001b[0m \u001b[43m    \u001b[49m\u001b[43mstorage_options\u001b[49m\u001b[38;5;241;43m=\u001b[39;49m\u001b[38;5;28;43mself\u001b[39;49m\u001b[38;5;241;43m.\u001b[39;49m\u001b[43moptions\u001b[49m\u001b[38;5;241;43m.\u001b[39;49m\u001b[43mget\u001b[49m\u001b[43m(\u001b[49m\u001b[38;5;124;43m\"\u001b[39;49m\u001b[38;5;124;43mstorage_options\u001b[39;49m\u001b[38;5;124;43m\"\u001b[39;49m\u001b[43m,\u001b[49m\u001b[43m \u001b[49m\u001b[38;5;28;43;01mNone\u001b[39;49;00m\u001b[43m)\u001b[49m\u001b[43m,\u001b[49m\n\u001b[1;32m   1714\u001b[0m \u001b[43m\u001b[49m\u001b[43m)\u001b[49m\n\u001b[1;32m   1715\u001b[0m \u001b[38;5;28;01massert\u001b[39;00m \u001b[38;5;28mself\u001b[39m\u001b[38;5;241m.\u001b[39mhandles \u001b[38;5;129;01mis\u001b[39;00m \u001b[38;5;129;01mnot\u001b[39;00m \u001b[38;5;28;01mNone\u001b[39;00m\n\u001b[1;32m   1716\u001b[0m f \u001b[38;5;241m=\u001b[39m \u001b[38;5;28mself\u001b[39m\u001b[38;5;241m.\u001b[39mhandles\u001b[38;5;241m.\u001b[39mhandle\n",
            "File \u001b[0;32m~/venv/lib/python3.10/site-packages/pandas/io/common.py:863\u001b[0m, in \u001b[0;36mget_handle\u001b[0;34m(path_or_buf, mode, encoding, compression, memory_map, is_text, errors, storage_options)\u001b[0m\n\u001b[1;32m    858\u001b[0m \u001b[38;5;28;01melif\u001b[39;00m \u001b[38;5;28misinstance\u001b[39m(handle, \u001b[38;5;28mstr\u001b[39m):\n\u001b[1;32m    859\u001b[0m     \u001b[38;5;66;03m# Check whether the filename is to be opened in binary mode.\u001b[39;00m\n\u001b[1;32m    860\u001b[0m     \u001b[38;5;66;03m# Binary mode does not support 'encoding' and 'newline'.\u001b[39;00m\n\u001b[1;32m    861\u001b[0m     \u001b[38;5;28;01mif\u001b[39;00m ioargs\u001b[38;5;241m.\u001b[39mencoding \u001b[38;5;129;01mand\u001b[39;00m \u001b[38;5;124m\"\u001b[39m\u001b[38;5;124mb\u001b[39m\u001b[38;5;124m\"\u001b[39m \u001b[38;5;129;01mnot\u001b[39;00m \u001b[38;5;129;01min\u001b[39;00m ioargs\u001b[38;5;241m.\u001b[39mmode:\n\u001b[1;32m    862\u001b[0m         \u001b[38;5;66;03m# Encoding\u001b[39;00m\n\u001b[0;32m--> 863\u001b[0m         handle \u001b[38;5;241m=\u001b[39m \u001b[38;5;28;43mopen\u001b[39;49m\u001b[43m(\u001b[49m\n\u001b[1;32m    864\u001b[0m \u001b[43m            \u001b[49m\u001b[43mhandle\u001b[49m\u001b[43m,\u001b[49m\n\u001b[1;32m    865\u001b[0m \u001b[43m            \u001b[49m\u001b[43mioargs\u001b[49m\u001b[38;5;241;43m.\u001b[39;49m\u001b[43mmode\u001b[49m\u001b[43m,\u001b[49m\n\u001b[1;32m    866\u001b[0m \u001b[43m            \u001b[49m\u001b[43mencoding\u001b[49m\u001b[38;5;241;43m=\u001b[39;49m\u001b[43mioargs\u001b[49m\u001b[38;5;241;43m.\u001b[39;49m\u001b[43mencoding\u001b[49m\u001b[43m,\u001b[49m\n\u001b[1;32m    867\u001b[0m \u001b[43m            \u001b[49m\u001b[43merrors\u001b[49m\u001b[38;5;241;43m=\u001b[39;49m\u001b[43merrors\u001b[49m\u001b[43m,\u001b[49m\n\u001b[1;32m    868\u001b[0m \u001b[43m            \u001b[49m\u001b[43mnewline\u001b[49m\u001b[38;5;241;43m=\u001b[39;49m\u001b[38;5;124;43m\"\u001b[39;49m\u001b[38;5;124;43m\"\u001b[39;49m\u001b[43m,\u001b[49m\n\u001b[1;32m    869\u001b[0m \u001b[43m        \u001b[49m\u001b[43m)\u001b[49m\n\u001b[1;32m    870\u001b[0m     \u001b[38;5;28;01melse\u001b[39;00m:\n\u001b[1;32m    871\u001b[0m         \u001b[38;5;66;03m# Binary mode\u001b[39;00m\n\u001b[1;32m    872\u001b[0m         handle \u001b[38;5;241m=\u001b[39m \u001b[38;5;28mopen\u001b[39m(handle, ioargs\u001b[38;5;241m.\u001b[39mmode)\n",
            "\u001b[0;31mFileNotFoundError\u001b[0m: [Errno 2] No such file or directory: '/work/data/raw/base_data.csv'"
          ]
        }
      ],
      "outputs_reference": null,
      "content_dependencies": null
    },
    {
      "cell_type": "code",
      "metadata": {
        "source_hash": "42e71519",
        "execution_start": 1743946062121,
        "execution_millis": 15,
        "execution_context_id": "a31ff040-3a41-4c9a-9ac7-a98f94f552b1",
        "cell_id": "6f0540d4ab4d48c4958c0067e8baaca3",
        "deepnote_cell_type": "code"
      },
      "source": "pd.read_csv(link)",
      "block_group": "80071b45cfd248b7b885b7bdfdd45e78",
      "execution_count": 85,
      "outputs": [
        {
          "output_type": "execute_result",
          "execution_count": 85,
          "data": {
            "application/vnd.deepnote.dataframe.v3+json": {
              "column_count": 7,
              "row_count": 497,
              "columns": [
                {
                  "name": "Unnamed: 0",
                  "dtype": "int64",
                  "stats": {
                    "unique_count": 497,
                    "nan_count": 0,
                    "min": "0",
                    "max": "496",
                    "histogram": [
                      {
                        "bin_start": 0,
                        "bin_end": 49.6,
                        "count": 50
                      },
                      {
                        "bin_start": 49.6,
                        "bin_end": 99.2,
                        "count": 50
                      },
                      {
                        "bin_start": 99.2,
                        "bin_end": 148.8,
                        "count": 49
                      },
                      {
                        "bin_start": 148.8,
                        "bin_end": 198.4,
                        "count": 50
                      },
                      {
                        "bin_start": 198.4,
                        "bin_end": 248,
                        "count": 49
                      },
                      {
                        "bin_start": 248,
                        "bin_end": 297.6,
                        "count": 50
                      },
                      {
                        "bin_start": 297.6,
                        "bin_end": 347.2,
                        "count": 50
                      },
                      {
                        "bin_start": 347.2,
                        "bin_end": 396.8,
                        "count": 49
                      },
                      {
                        "bin_start": 396.8,
                        "bin_end": 446.40000000000003,
                        "count": 50
                      },
                      {
                        "bin_start": 446.40000000000003,
                        "bin_end": 496,
                        "count": 50
                      }
                    ]
                  }
                },
                {
                  "name": "datetime",
                  "dtype": "object",
                  "stats": {
                    "unique_count": 497,
                    "nan_count": 0,
                    "categories": [
                      {
                        "name": "2025-04-03 03:20:00+00:00",
                        "count": 1
                      },
                      {
                        "name": "2025-04-03 03:25:00+00:00",
                        "count": 1
                      },
                      {
                        "name": "495 others",
                        "count": 495
                      }
                    ]
                  }
                },
                {
                  "name": "Open",
                  "dtype": "float64",
                  "stats": {
                    "unique_count": 418,
                    "nan_count": 0,
                    "min": "10906.9",
                    "max": "11128.6",
                    "histogram": [
                      {
                        "bin_start": 10906.9,
                        "bin_end": 10929.07,
                        "count": 26
                      },
                      {
                        "bin_start": 10929.07,
                        "bin_end": 10951.24,
                        "count": 41
                      },
                      {
                        "bin_start": 10951.24,
                        "bin_end": 10973.41,
                        "count": 34
                      },
                      {
                        "bin_start": 10973.41,
                        "bin_end": 10995.58,
                        "count": 48
                      },
                      {
                        "bin_start": 10995.58,
                        "bin_end": 11017.75,
                        "count": 37
                      },
                      {
                        "bin_start": 11017.75,
                        "bin_end": 11039.92,
                        "count": 79
                      },
                      {
                        "bin_start": 11039.92,
                        "bin_end": 11062.09,
                        "count": 99
                      },
                      {
                        "bin_start": 11062.09,
                        "bin_end": 11084.26,
                        "count": 67
                      },
                      {
                        "bin_start": 11084.26,
                        "bin_end": 11106.43,
                        "count": 55
                      },
                      {
                        "bin_start": 11106.43,
                        "bin_end": 11128.6,
                        "count": 11
                      }
                    ]
                  }
                },
                {
                  "name": "High",
                  "dtype": "float64",
                  "stats": {
                    "unique_count": 423,
                    "nan_count": 0,
                    "min": "10910.5",
                    "max": "11146.4",
                    "histogram": [
                      {
                        "bin_start": 10910.5,
                        "bin_end": 10934.09,
                        "count": 25
                      },
                      {
                        "bin_start": 10934.09,
                        "bin_end": 10957.68,
                        "count": 46
                      },
                      {
                        "bin_start": 10957.68,
                        "bin_end": 10981.27,
                        "count": 28
                      },
                      {
                        "bin_start": 10981.27,
                        "bin_end": 11004.86,
                        "count": 55
                      },
                      {
                        "bin_start": 11004.86,
                        "bin_end": 11028.45,
                        "count": 47
                      },
                      {
                        "bin_start": 11028.45,
                        "bin_end": 11052.039999999999,
                        "count": 99
                      },
                      {
                        "bin_start": 11052.039999999999,
                        "bin_end": 11075.63,
                        "count": 99
                      },
                      {
                        "bin_start": 11075.63,
                        "bin_end": 11099.22,
                        "count": 64
                      },
                      {
                        "bin_start": 11099.22,
                        "bin_end": 11122.81,
                        "count": 29
                      },
                      {
                        "bin_start": 11122.81,
                        "bin_end": 11146.4,
                        "count": 5
                      }
                    ]
                  }
                },
                {
                  "name": "Low",
                  "dtype": "float64",
                  "stats": {
                    "unique_count": 412,
                    "nan_count": 0,
                    "min": "10905.8",
                    "max": "11116.2",
                    "histogram": [
                      {
                        "bin_start": 10905.8,
                        "bin_end": 10926.84,
                        "count": 28
                      },
                      {
                        "bin_start": 10926.84,
                        "bin_end": 10947.88,
                        "count": 42
                      },
                      {
                        "bin_start": 10947.88,
                        "bin_end": 10968.92,
                        "count": 32
                      },
                      {
                        "bin_start": 10968.92,
                        "bin_end": 10989.96,
                        "count": 54
                      },
                      {
                        "bin_start": 10989.96,
                        "bin_end": 11011,
                        "count": 29
                      },
                      {
                        "bin_start": 11011,
                        "bin_end": 11032.04,
                        "count": 67
                      },
                      {
                        "bin_start": 11032.04,
                        "bin_end": 11053.08,
                        "count": 94
                      },
                      {
                        "bin_start": 11053.08,
                        "bin_end": 11074.12,
                        "count": 73
                      },
                      {
                        "bin_start": 11074.12,
                        "bin_end": 11095.16,
                        "count": 63
                      },
                      {
                        "bin_start": 11095.16,
                        "bin_end": 11116.2,
                        "count": 15
                      }
                    ]
                  }
                },
                {
                  "name": "Close",
                  "dtype": "float64",
                  "stats": {
                    "unique_count": 413,
                    "nan_count": 0,
                    "min": "10907.0",
                    "max": "11128.4",
                    "histogram": [
                      {
                        "bin_start": 10907,
                        "bin_end": 10929.14,
                        "count": 25
                      },
                      {
                        "bin_start": 10929.14,
                        "bin_end": 10951.28,
                        "count": 42
                      },
                      {
                        "bin_start": 10951.28,
                        "bin_end": 10973.42,
                        "count": 32
                      },
                      {
                        "bin_start": 10973.42,
                        "bin_end": 10995.56,
                        "count": 50
                      },
                      {
                        "bin_start": 10995.56,
                        "bin_end": 11017.7,
                        "count": 37
                      },
                      {
                        "bin_start": 11017.7,
                        "bin_end": 11039.84,
                        "count": 79
                      },
                      {
                        "bin_start": 11039.84,
                        "bin_end": 11061.98,
                        "count": 99
                      },
                      {
                        "bin_start": 11061.98,
                        "bin_end": 11084.119999999999,
                        "count": 66
                      },
                      {
                        "bin_start": 11084.119999999999,
                        "bin_end": 11106.26,
                        "count": 55
                      },
                      {
                        "bin_start": 11106.26,
                        "bin_end": 11128.4,
                        "count": 12
                      }
                    ]
                  }
                },
                {
                  "name": "volume",
                  "dtype": "int64",
                  "stats": {
                    "unique_count": 465,
                    "nan_count": 0,
                    "min": "1",
                    "max": "7369",
                    "histogram": [
                      {
                        "bin_start": 1,
                        "bin_end": 737.8,
                        "count": 151
                      },
                      {
                        "bin_start": 737.8,
                        "bin_end": 1474.6,
                        "count": 136
                      },
                      {
                        "bin_start": 1474.6,
                        "bin_end": 2211.3999999999996,
                        "count": 94
                      },
                      {
                        "bin_start": 2211.3999999999996,
                        "bin_end": 2948.2,
                        "count": 56
                      },
                      {
                        "bin_start": 2948.2,
                        "bin_end": 3685,
                        "count": 33
                      },
                      {
                        "bin_start": 3685,
                        "bin_end": 4421.799999999999,
                        "count": 19
                      },
                      {
                        "bin_start": 4421.799999999999,
                        "bin_end": 5158.599999999999,
                        "count": 3
                      },
                      {
                        "bin_start": 5158.599999999999,
                        "bin_end": 5895.4,
                        "count": 2
                      },
                      {
                        "bin_start": 5895.4,
                        "bin_end": 6632.2,
                        "count": 2
                      },
                      {
                        "bin_start": 6632.2,
                        "bin_end": 7369,
                        "count": 1
                      }
                    ]
                  }
                },
                {
                  "name": "_deepnote_index_column",
                  "dtype": "int64"
                }
              ],
              "rows": [
                {
                  "Unnamed: 0": 0,
                  "datetime": "2025-04-03 03:20:00+00:00",
                  "Open": 10914.6,
                  "High": 10917.2,
                  "Low": 10911.6,
                  "Close": 10916.4,
                  "volume": 702,
                  "_deepnote_index_column": 0
                },
                {
                  "Unnamed: 0": 1,
                  "datetime": "2025-04-03 03:25:00+00:00",
                  "Open": 10916.3,
                  "High": 10920.5,
                  "Low": 10916.1,
                  "Close": 10919.7,
                  "volume": 574,
                  "_deepnote_index_column": 1
                },
                {
                  "Unnamed: 0": 2,
                  "datetime": "2025-04-03 03:30:00+00:00",
                  "Open": 10920,
                  "High": 10921.2,
                  "Low": 10917.4,
                  "Close": 10917.6,
                  "volume": 640,
                  "_deepnote_index_column": 2
                },
                {
                  "Unnamed: 0": 3,
                  "datetime": "2025-04-03 03:35:00+00:00",
                  "Open": 10917.6,
                  "High": 10921.1,
                  "Low": 10915.5,
                  "Close": 10915.7,
                  "volume": 469,
                  "_deepnote_index_column": 3
                },
                {
                  "Unnamed: 0": 4,
                  "datetime": "2025-04-03 03:40:00+00:00",
                  "Open": 10915.6,
                  "High": 10916.2,
                  "Low": 10911.6,
                  "Close": 10911.6,
                  "volume": 590,
                  "_deepnote_index_column": 4
                },
                {
                  "Unnamed: 0": 5,
                  "datetime": "2025-04-03 03:45:00+00:00",
                  "Open": 10911.4,
                  "High": 10915.6,
                  "Low": 10910.2,
                  "Close": 10915.5,
                  "volume": 612,
                  "_deepnote_index_column": 5
                },
                {
                  "Unnamed: 0": 6,
                  "datetime": "2025-04-03 03:50:00+00:00",
                  "Open": 10915.6,
                  "High": 10919.6,
                  "Low": 10915.2,
                  "Close": 10918.2,
                  "volume": 509,
                  "_deepnote_index_column": 6
                },
                {
                  "Unnamed: 0": 7,
                  "datetime": "2025-04-03 03:55:00+00:00",
                  "Open": 10918.000000000002,
                  "High": 10919.2,
                  "Low": 10911.6,
                  "Close": 10915,
                  "volume": 564,
                  "_deepnote_index_column": 7
                },
                {
                  "Unnamed: 0": 8,
                  "datetime": "2025-04-03 04:00:00+00:00",
                  "Open": 10915.2,
                  "High": 10916.8,
                  "Low": 10911.2,
                  "Close": 10913.4,
                  "volume": 720,
                  "_deepnote_index_column": 8
                },
                {
                  "Unnamed: 0": 9,
                  "datetime": "2025-04-03 04:05:00+00:00",
                  "Open": 10913.4,
                  "High": 10914.6,
                  "Low": 10907.6,
                  "Close": 10909.2,
                  "volume": 489,
                  "_deepnote_index_column": 9
                }
              ],
              "type": "dataframe"
            },
            "text/plain": "     Unnamed: 0                   datetime     Open     High      Low  \\\n0             0  2025-04-03 03:20:00+00:00  10914.6  10917.2  10911.6   \n1             1  2025-04-03 03:25:00+00:00  10916.3  10920.5  10916.1   \n2             2  2025-04-03 03:30:00+00:00  10920.0  10921.2  10917.4   \n3             3  2025-04-03 03:35:00+00:00  10917.6  10921.1  10915.5   \n4             4  2025-04-03 03:40:00+00:00  10915.6  10916.2  10911.6   \n..          ...                        ...      ...      ...      ...   \n492         492  2025-04-04 20:20:00+00:00  10951.9  10951.9  10936.2   \n493         493  2025-04-04 20:25:00+00:00  10937.4  10939.2  10932.6   \n494         494  2025-04-04 20:30:00+00:00  10934.2  10944.6  10933.4   \n495         495  2025-04-04 20:35:00+00:00  10944.6  10948.6  10943.8   \n496         496  2025-04-04 20:40:00+00:00  10943.8  10944.2  10941.5   \n\n       Close  volume  \n0    10916.4     702  \n1    10919.7     574  \n2    10917.6     640  \n3    10915.7     469  \n4    10911.6     590  \n..       ...     ...  \n492  10937.6     802  \n493  10934.1     867  \n494  10944.5     696  \n495  10943.8     528  \n496  10943.4     515  \n\n[497 rows x 7 columns]",
            "text/html": "<div>\n<style scoped>\n    .dataframe tbody tr th:only-of-type {\n        vertical-align: middle;\n    }\n\n    .dataframe tbody tr th {\n        vertical-align: top;\n    }\n\n    .dataframe thead th {\n        text-align: right;\n    }\n</style>\n<table border=\"1\" class=\"dataframe\">\n  <thead>\n    <tr style=\"text-align: right;\">\n      <th></th>\n      <th>Unnamed: 0</th>\n      <th>datetime</th>\n      <th>Open</th>\n      <th>High</th>\n      <th>Low</th>\n      <th>Close</th>\n      <th>volume</th>\n    </tr>\n  </thead>\n  <tbody>\n    <tr>\n      <th>0</th>\n      <td>0</td>\n      <td>2025-04-03 03:20:00+00:00</td>\n      <td>10914.6</td>\n      <td>10917.2</td>\n      <td>10911.6</td>\n      <td>10916.4</td>\n      <td>702</td>\n    </tr>\n    <tr>\n      <th>1</th>\n      <td>1</td>\n      <td>2025-04-03 03:25:00+00:00</td>\n      <td>10916.3</td>\n      <td>10920.5</td>\n      <td>10916.1</td>\n      <td>10919.7</td>\n      <td>574</td>\n    </tr>\n    <tr>\n      <th>2</th>\n      <td>2</td>\n      <td>2025-04-03 03:30:00+00:00</td>\n      <td>10920.0</td>\n      <td>10921.2</td>\n      <td>10917.4</td>\n      <td>10917.6</td>\n      <td>640</td>\n    </tr>\n    <tr>\n      <th>3</th>\n      <td>3</td>\n      <td>2025-04-03 03:35:00+00:00</td>\n      <td>10917.6</td>\n      <td>10921.1</td>\n      <td>10915.5</td>\n      <td>10915.7</td>\n      <td>469</td>\n    </tr>\n    <tr>\n      <th>4</th>\n      <td>4</td>\n      <td>2025-04-03 03:40:00+00:00</td>\n      <td>10915.6</td>\n      <td>10916.2</td>\n      <td>10911.6</td>\n      <td>10911.6</td>\n      <td>590</td>\n    </tr>\n    <tr>\n      <th>...</th>\n      <td>...</td>\n      <td>...</td>\n      <td>...</td>\n      <td>...</td>\n      <td>...</td>\n      <td>...</td>\n      <td>...</td>\n    </tr>\n    <tr>\n      <th>492</th>\n      <td>492</td>\n      <td>2025-04-04 20:20:00+00:00</td>\n      <td>10951.9</td>\n      <td>10951.9</td>\n      <td>10936.2</td>\n      <td>10937.6</td>\n      <td>802</td>\n    </tr>\n    <tr>\n      <th>493</th>\n      <td>493</td>\n      <td>2025-04-04 20:25:00+00:00</td>\n      <td>10937.4</td>\n      <td>10939.2</td>\n      <td>10932.6</td>\n      <td>10934.1</td>\n      <td>867</td>\n    </tr>\n    <tr>\n      <th>494</th>\n      <td>494</td>\n      <td>2025-04-04 20:30:00+00:00</td>\n      <td>10934.2</td>\n      <td>10944.6</td>\n      <td>10933.4</td>\n      <td>10944.5</td>\n      <td>696</td>\n    </tr>\n    <tr>\n      <th>495</th>\n      <td>495</td>\n      <td>2025-04-04 20:35:00+00:00</td>\n      <td>10944.6</td>\n      <td>10948.6</td>\n      <td>10943.8</td>\n      <td>10943.8</td>\n      <td>528</td>\n    </tr>\n    <tr>\n      <th>496</th>\n      <td>496</td>\n      <td>2025-04-04 20:40:00+00:00</td>\n      <td>10943.8</td>\n      <td>10944.2</td>\n      <td>10941.5</td>\n      <td>10943.4</td>\n      <td>515</td>\n    </tr>\n  </tbody>\n</table>\n<p>497 rows × 7 columns</p>\n</div>"
          },
          "metadata": {}
        }
      ],
      "outputs_reference": null,
      "content_dependencies": null
    },
    {
      "cell_type": "code",
      "metadata": {
        "source_hash": "b22da254",
        "execution_start": 1743906469093,
        "execution_millis": 1,
        "execution_context_id": "51ff70fb-8afb-43df-a1c4-935586253e5d",
        "cell_id": "24fea8b7f8ae4b8f93886877451023da",
        "deepnote_cell_type": "code"
      },
      "source": "1ss.iloc[-1:]",
      "block_group": "521562887ec143a6b8b3facdf2d97220",
      "execution_count": 79,
      "outputs": [
        {
          "output_type": "execute_result",
          "execution_count": 79,
          "data": {
            "application/vnd.deepnote.dataframe.v3+json": {
              "column_count": 10,
              "row_count": 1,
              "columns": [
                {
                  "name": "datetime",
                  "dtype": "object",
                  "stats": {
                    "unique_count": 1,
                    "nan_count": 0,
                    "categories": [
                      {
                        "name": "2025-04-04 20:50:00+00:00",
                        "count": 1
                      }
                    ]
                  }
                },
                {
                  "name": "bearish_0",
                  "dtype": "float64",
                  "stats": {
                    "unique_count": 1,
                    "nan_count": 0,
                    "min": "0.47734532",
                    "max": "0.47734532",
                    "histogram": [
                      {
                        "bin_start": -0.022654679999999983,
                        "bin_end": 0.07734532000000002,
                        "count": 0
                      },
                      {
                        "bin_start": 0.07734532000000002,
                        "bin_end": 0.17734532000000003,
                        "count": 0
                      },
                      {
                        "bin_start": 0.17734532000000003,
                        "bin_end": 0.27734532000000006,
                        "count": 0
                      },
                      {
                        "bin_start": 0.27734532000000006,
                        "bin_end": 0.37734532000000004,
                        "count": 0
                      },
                      {
                        "bin_start": 0.37734532000000004,
                        "bin_end": 0.47734532,
                        "count": 0
                      },
                      {
                        "bin_start": 0.47734532,
                        "bin_end": 0.57734532,
                        "count": 1
                      },
                      {
                        "bin_start": 0.57734532,
                        "bin_end": 0.6773453200000001,
                        "count": 0
                      },
                      {
                        "bin_start": 0.6773453200000001,
                        "bin_end": 0.77734532,
                        "count": 0
                      },
                      {
                        "bin_start": 0.77734532,
                        "bin_end": 0.8773453200000001,
                        "count": 0
                      },
                      {
                        "bin_start": 0.8773453200000001,
                        "bin_end": 0.97734532,
                        "count": 0
                      }
                    ]
                  }
                },
                {
                  "name": "bearish_1",
                  "dtype": "float64",
                  "stats": {
                    "unique_count": 1,
                    "nan_count": 0,
                    "min": "1.0308667e-10",
                    "max": "1.0308667e-10",
                    "histogram": [
                      {
                        "bin_start": -0.49999999989691335,
                        "bin_end": -0.39999999989691337,
                        "count": 0
                      },
                      {
                        "bin_start": -0.39999999989691337,
                        "bin_end": -0.29999999989691334,
                        "count": 0
                      },
                      {
                        "bin_start": -0.29999999989691334,
                        "bin_end": -0.1999999998969133,
                        "count": 0
                      },
                      {
                        "bin_start": -0.1999999998969133,
                        "bin_end": -0.09999999989691333,
                        "count": 0
                      },
                      {
                        "bin_start": -0.09999999989691333,
                        "bin_end": 1.0308665032709996e-10,
                        "count": 0
                      },
                      {
                        "bin_start": 1.0308665032709996e-10,
                        "bin_end": 0.10000000010308674,
                        "count": 1
                      },
                      {
                        "bin_start": 0.10000000010308674,
                        "bin_end": 0.20000000010308672,
                        "count": 0
                      },
                      {
                        "bin_start": 0.20000000010308672,
                        "bin_end": 0.3000000001030867,
                        "count": 0
                      },
                      {
                        "bin_start": 0.3000000001030867,
                        "bin_end": 0.4000000001030867,
                        "count": 0
                      },
                      {
                        "bin_start": 0.4000000001030867,
                        "bin_end": 0.5000000001030867,
                        "count": 0
                      }
                    ]
                  }
                },
                {
                  "name": "bearish_2",
                  "dtype": "float64",
                  "stats": {
                    "unique_count": 1,
                    "nan_count": 0,
                    "min": "0.5226547",
                    "max": "0.5226547",
                    "histogram": [
                      {
                        "bin_start": 0.022654700000000028,
                        "bin_end": 0.12265470000000002,
                        "count": 0
                      },
                      {
                        "bin_start": 0.12265470000000002,
                        "bin_end": 0.2226547,
                        "count": 0
                      },
                      {
                        "bin_start": 0.2226547,
                        "bin_end": 0.3226547,
                        "count": 0
                      },
                      {
                        "bin_start": 0.3226547,
                        "bin_end": 0.4226547,
                        "count": 0
                      },
                      {
                        "bin_start": 0.4226547,
                        "bin_end": 0.5226546999999999,
                        "count": 0
                      },
                      {
                        "bin_start": 0.5226546999999999,
                        "bin_end": 0.6226547,
                        "count": 1
                      },
                      {
                        "bin_start": 0.6226547,
                        "bin_end": 0.7226547,
                        "count": 0
                      },
                      {
                        "bin_start": 0.7226547,
                        "bin_end": 0.8226547,
                        "count": 0
                      },
                      {
                        "bin_start": 0.8226547,
                        "bin_end": 0.9226546999999999,
                        "count": 0
                      },
                      {
                        "bin_start": 0.9226546999999999,
                        "bin_end": 1.0226547,
                        "count": 0
                      }
                    ]
                  }
                },
                {
                  "name": "bearish_3",
                  "dtype": "float64",
                  "stats": {
                    "unique_count": 1,
                    "nan_count": 0,
                    "min": "1.0308667e-10",
                    "max": "1.0308667e-10",
                    "histogram": [
                      {
                        "bin_start": -0.49999999989691335,
                        "bin_end": -0.39999999989691337,
                        "count": 0
                      },
                      {
                        "bin_start": -0.39999999989691337,
                        "bin_end": -0.29999999989691334,
                        "count": 0
                      },
                      {
                        "bin_start": -0.29999999989691334,
                        "bin_end": -0.1999999998969133,
                        "count": 0
                      },
                      {
                        "bin_start": -0.1999999998969133,
                        "bin_end": -0.09999999989691333,
                        "count": 0
                      },
                      {
                        "bin_start": -0.09999999989691333,
                        "bin_end": 1.0308665032709996e-10,
                        "count": 0
                      },
                      {
                        "bin_start": 1.0308665032709996e-10,
                        "bin_end": 0.10000000010308674,
                        "count": 1
                      },
                      {
                        "bin_start": 0.10000000010308674,
                        "bin_end": 0.20000000010308672,
                        "count": 0
                      },
                      {
                        "bin_start": 0.20000000010308672,
                        "bin_end": 0.3000000001030867,
                        "count": 0
                      },
                      {
                        "bin_start": 0.3000000001030867,
                        "bin_end": 0.4000000001030867,
                        "count": 0
                      },
                      {
                        "bin_start": 0.4000000001030867,
                        "bin_end": 0.5000000001030867,
                        "count": 0
                      }
                    ]
                  }
                },
                {
                  "name": "bullish_0",
                  "dtype": "float64",
                  "stats": {
                    "unique_count": 1,
                    "nan_count": 0,
                    "min": "0.48791215",
                    "max": "0.48791215",
                    "histogram": [
                      {
                        "bin_start": -0.012087850000000011,
                        "bin_end": 0.08791215,
                        "count": 0
                      },
                      {
                        "bin_start": 0.08791215,
                        "bin_end": 0.18791215,
                        "count": 0
                      },
                      {
                        "bin_start": 0.18791215,
                        "bin_end": 0.28791215000000003,
                        "count": 0
                      },
                      {
                        "bin_start": 0.28791215000000003,
                        "bin_end": 0.38791215,
                        "count": 0
                      },
                      {
                        "bin_start": 0.38791215,
                        "bin_end": 0.48791215,
                        "count": 0
                      },
                      {
                        "bin_start": 0.48791215,
                        "bin_end": 0.5879121500000001,
                        "count": 1
                      },
                      {
                        "bin_start": 0.5879121500000001,
                        "bin_end": 0.6879121500000001,
                        "count": 0
                      },
                      {
                        "bin_start": 0.6879121500000001,
                        "bin_end": 0.78791215,
                        "count": 0
                      },
                      {
                        "bin_start": 0.78791215,
                        "bin_end": 0.88791215,
                        "count": 0
                      },
                      {
                        "bin_start": 0.88791215,
                        "bin_end": 0.98791215,
                        "count": 0
                      }
                    ]
                  }
                },
                {
                  "name": "bullish_1",
                  "dtype": "float64",
                  "stats": {
                    "unique_count": 1,
                    "nan_count": 0,
                    "min": "0.5120879",
                    "max": "0.5120879",
                    "histogram": [
                      {
                        "bin_start": 0.01208790000000004,
                        "bin_end": 0.11208790000000005,
                        "count": 0
                      },
                      {
                        "bin_start": 0.11208790000000005,
                        "bin_end": 0.21208790000000005,
                        "count": 0
                      },
                      {
                        "bin_start": 0.21208790000000005,
                        "bin_end": 0.3120879000000001,
                        "count": 0
                      },
                      {
                        "bin_start": 0.3120879000000001,
                        "bin_end": 0.41208790000000006,
                        "count": 0
                      },
                      {
                        "bin_start": 0.41208790000000006,
                        "bin_end": 0.5120879,
                        "count": 0
                      },
                      {
                        "bin_start": 0.5120879,
                        "bin_end": 0.6120879000000001,
                        "count": 1
                      },
                      {
                        "bin_start": 0.6120879000000001,
                        "bin_end": 0.7120879000000001,
                        "count": 0
                      },
                      {
                        "bin_start": 0.7120879000000001,
                        "bin_end": 0.8120879000000001,
                        "count": 0
                      },
                      {
                        "bin_start": 0.8120879000000001,
                        "bin_end": 0.9120879000000001,
                        "count": 0
                      },
                      {
                        "bin_start": 0.9120879000000001,
                        "bin_end": 1.0120879,
                        "count": 0
                      }
                    ]
                  }
                },
                {
                  "name": "bullish_2",
                  "dtype": "float64",
                  "stats": {
                    "unique_count": 1,
                    "nan_count": 0,
                    "min": "1.2953232e-10",
                    "max": "1.2953232e-10",
                    "histogram": [
                      {
                        "bin_start": -0.49999999987046767,
                        "bin_end": -0.39999999987046764,
                        "count": 0
                      },
                      {
                        "bin_start": -0.39999999987046764,
                        "bin_end": -0.29999999987046766,
                        "count": 0
                      },
                      {
                        "bin_start": -0.29999999987046766,
                        "bin_end": -0.19999999987046763,
                        "count": 0
                      },
                      {
                        "bin_start": -0.19999999987046763,
                        "bin_end": -0.09999999987046765,
                        "count": 0
                      },
                      {
                        "bin_start": -0.09999999987046765,
                        "bin_end": 1.2953232930712488e-10,
                        "count": 1
                      },
                      {
                        "bin_start": 1.2953232930712488e-10,
                        "bin_end": 0.10000000012953242,
                        "count": 0
                      },
                      {
                        "bin_start": 0.10000000012953242,
                        "bin_end": 0.2000000001295324,
                        "count": 0
                      },
                      {
                        "bin_start": 0.2000000001295324,
                        "bin_end": 0.3000000001295324,
                        "count": 0
                      },
                      {
                        "bin_start": 0.3000000001295324,
                        "bin_end": 0.40000000012953235,
                        "count": 0
                      },
                      {
                        "bin_start": 0.40000000012953235,
                        "bin_end": 0.5000000001295323,
                        "count": 0
                      }
                    ]
                  }
                },
                {
                  "name": "bullish_3",
                  "dtype": "float64",
                  "stats": {
                    "unique_count": 1,
                    "nan_count": 0,
                    "min": "1.2959979e-10",
                    "max": "1.2959979e-10",
                    "histogram": [
                      {
                        "bin_start": -0.4999999998704002,
                        "bin_end": -0.39999999987040025,
                        "count": 0
                      },
                      {
                        "bin_start": -0.39999999987040025,
                        "bin_end": -0.2999999998704002,
                        "count": 0
                      },
                      {
                        "bin_start": -0.2999999998704002,
                        "bin_end": -0.19999999987040018,
                        "count": 0
                      },
                      {
                        "bin_start": -0.19999999987040018,
                        "bin_end": -0.0999999998704002,
                        "count": 0
                      },
                      {
                        "bin_start": -0.0999999998704002,
                        "bin_end": 1.2959977535587086e-10,
                        "count": 0
                      },
                      {
                        "bin_start": 1.2959977535587086e-10,
                        "bin_end": 0.10000000012959986,
                        "count": 1
                      },
                      {
                        "bin_start": 0.10000000012959986,
                        "bin_end": 0.20000000012959984,
                        "count": 0
                      },
                      {
                        "bin_start": 0.20000000012959984,
                        "bin_end": 0.3000000001295998,
                        "count": 0
                      },
                      {
                        "bin_start": 0.3000000001295998,
                        "bin_end": 0.4000000001295998,
                        "count": 0
                      },
                      {
                        "bin_start": 0.4000000001295998,
                        "bin_end": 0.5000000001295998,
                        "count": 0
                      }
                    ]
                  }
                },
                {
                  "name": "y_true",
                  "dtype": "int64",
                  "stats": {
                    "unique_count": 1,
                    "nan_count": 0,
                    "min": "0",
                    "max": "0",
                    "histogram": [
                      {
                        "bin_start": -0.5,
                        "bin_end": -0.4,
                        "count": 0
                      },
                      {
                        "bin_start": -0.4,
                        "bin_end": -0.3,
                        "count": 0
                      },
                      {
                        "bin_start": -0.3,
                        "bin_end": -0.19999999999999996,
                        "count": 0
                      },
                      {
                        "bin_start": -0.19999999999999996,
                        "bin_end": -0.09999999999999998,
                        "count": 0
                      },
                      {
                        "bin_start": -0.09999999999999998,
                        "bin_end": 0,
                        "count": 0
                      },
                      {
                        "bin_start": 0,
                        "bin_end": 0.10000000000000009,
                        "count": 1
                      },
                      {
                        "bin_start": 0.10000000000000009,
                        "bin_end": 0.20000000000000007,
                        "count": 0
                      },
                      {
                        "bin_start": 0.20000000000000007,
                        "bin_end": 0.30000000000000004,
                        "count": 0
                      },
                      {
                        "bin_start": 0.30000000000000004,
                        "bin_end": 0.4,
                        "count": 0
                      },
                      {
                        "bin_start": 0.4,
                        "bin_end": 0.5,
                        "count": 0
                      }
                    ]
                  }
                },
                {
                  "name": "_deepnote_index_column",
                  "dtype": "int64"
                }
              ],
              "rows": [
                {
                  "datetime": "2025-04-04 20:50:00+00:00",
                  "bearish_0": 0.47734532,
                  "bearish_1": 1.0308667e-10,
                  "bearish_2": 0.5226547,
                  "bearish_3": 1.0308667e-10,
                  "bullish_0": 0.48791215,
                  "bullish_1": 0.5120879,
                  "bullish_2": 1.2953232e-10,
                  "bullish_3": 1.2959979e-10,
                  "y_true": 0,
                  "_deepnote_index_column": 498
                }
              ],
              "type": "dataframe"
            },
            "text/plain": "                      datetime  bearish_0     bearish_1  bearish_2  \\\n498  2025-04-04 20:50:00+00:00   0.477345  1.030867e-10   0.522655   \n\n        bearish_3  bullish_0  bullish_1     bullish_2     bullish_3  y_true  \n498  1.030867e-10   0.487912   0.512088  1.295323e-10  1.295998e-10       0  ",
            "text/html": "<div>\n<style scoped>\n    .dataframe tbody tr th:only-of-type {\n        vertical-align: middle;\n    }\n\n    .dataframe tbody tr th {\n        vertical-align: top;\n    }\n\n    .dataframe thead th {\n        text-align: right;\n    }\n</style>\n<table border=\"1\" class=\"dataframe\">\n  <thead>\n    <tr style=\"text-align: right;\">\n      <th></th>\n      <th>datetime</th>\n      <th>bearish_0</th>\n      <th>bearish_1</th>\n      <th>bearish_2</th>\n      <th>bearish_3</th>\n      <th>bullish_0</th>\n      <th>bullish_1</th>\n      <th>bullish_2</th>\n      <th>bullish_3</th>\n      <th>y_true</th>\n    </tr>\n  </thead>\n  <tbody>\n    <tr>\n      <th>498</th>\n      <td>2025-04-04 20:50:00+00:00</td>\n      <td>0.477345</td>\n      <td>1.030867e-10</td>\n      <td>0.522655</td>\n      <td>1.030867e-10</td>\n      <td>0.487912</td>\n      <td>0.512088</td>\n      <td>1.295323e-10</td>\n      <td>1.295998e-10</td>\n      <td>0</td>\n    </tr>\n  </tbody>\n</table>\n</div>"
          },
          "metadata": {}
        }
      ],
      "outputs_reference": null,
      "content_dependencies": null
    },
    {
      "cell_type": "code",
      "metadata": {
        "cell_id": "782896c114dc4afa84a4b3f12f77b4dc",
        "deepnote_cell_type": "code"
      },
      "source": "",
      "block_group": "89eba9ac521d4849ad46d619a6bc3815",
      "execution_count": null,
      "outputs": [],
      "outputs_reference": null,
      "content_dependencies": null
    },
    {
      "cell_type": "markdown",
      "source": "<a style='text-decoration:none;line-height:16px;display:flex;color:#5B5B62;padding:10px;justify-content:end;' href='https://deepnote.com?utm_source=created-in-deepnote-cell&projectId=a127aa9e-0a77-4af9-a6ce-85e7a9b74042' target=\"_blank\">\n<img alt='Created in deepnote.com' style='display:inline;max-height:16px;margin:0px;margin-right:7.5px;' src='data:image/svg+xml;base64,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' > </img>\nCreated in <span style='font-weight:600;margin-left:4px;'>Deepnote</span></a>",
      "metadata": {
        "created_in_deepnote_cell": true,
        "deepnote_cell_type": "markdown"
      }
    }
  ],
  "nbformat": 4,
  "nbformat_minor": 0,
  "metadata": {
    "deepnote_notebook_id": "11990d6ad3584e009dbd2e0e8ac5dabf"
  }
}