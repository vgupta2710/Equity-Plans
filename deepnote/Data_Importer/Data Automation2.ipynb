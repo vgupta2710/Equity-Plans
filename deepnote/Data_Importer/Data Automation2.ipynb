{
  "cells": [
    {
      "cell_type": "code",
      "metadata": {
        "source_hash": "545f3b74",
        "execution_start": 1743940711619,
        "execution_millis": 5426,
        "execution_context_id": "a31ff040-3a41-4c9a-9ac7-a98f94f552b1",
        "cell_id": "051f8377b8c247a4941c80e87efdd609",
        "deepnote_cell_type": "code"
      },
      "source": "from Moduled_functions import get_data\nfrom Moduled_functions import tranformation\nfrom Moduled_functions import calculate_ema_slope\nfrom Moduled_functions import place_order\nfrom m_email import send_email\nimport pandas as pd\nfrom keras.models import load_model\nfrom sklearn.preprocessing import StandardScaler",
      "block_group": "e011e7f7e67449c1b21244e5d1d0acb8",
      "execution_count": 1,
      "outputs": [
        {
          "name": "stderr",
          "text": "2025-04-06 11:58:35.213299: I tensorflow/core/util/port.cc:113] oneDNN custom operations are on. You may see slightly different numerical results due to floating-point round-off errors from different computation orders. To turn them off, set the environment variable `TF_ENABLE_ONEDNN_OPTS=0`.\n2025-04-06 11:58:35.216803: I external/local_tsl/tsl/cuda/cudart_stub.cc:31] Could not find cuda drivers on your machine, GPU will not be used.\n2025-04-06 11:58:35.247605: E external/local_xla/xla/stream_executor/cuda/cuda_dnn.cc:9261] Unable to register cuDNN factory: Attempting to register factory for plugin cuDNN when one has already been registered\n2025-04-06 11:58:35.247663: E external/local_xla/xla/stream_executor/cuda/cuda_fft.cc:607] Unable to register cuFFT factory: Attempting to register factory for plugin cuFFT when one has already been registered\n2025-04-06 11:58:35.248541: E external/local_xla/xla/stream_executor/cuda/cuda_blas.cc:1515] Unable to register cuBLAS factory: Attempting to register factory for plugin cuBLAS when one has already been registered\n2025-04-06 11:58:35.253446: I external/local_tsl/tsl/cuda/cudart_stub.cc:31] Could not find cuda drivers on your machine, GPU will not be used.\n2025-04-06 11:58:35.254243: I tensorflow/core/platform/cpu_feature_guard.cc:182] This TensorFlow binary is optimized to use available CPU instructions in performance-critical operations.\nTo enable the following instructions: AVX2 AVX512F AVX512_VNNI FMA, in other operations, rebuild TensorFlow with the appropriate compiler flags.\n2025-04-06 11:58:36.062774: W tensorflow/compiler/tf2tensorrt/utils/py_utils.cc:38] TF-TRT Warning: Could not find TensorRT\n",
          "output_type": "stream"
        }
      ],
      "outputs_reference": null,
      "content_dependencies": null
    },
    {
      "cell_type": "code",
      "metadata": {
        "source_hash": "51bab0e",
        "execution_start": 1743940717097,
        "execution_millis": 784,
        "is_output_hidden": true,
        "execution_context_id": "a31ff040-3a41-4c9a-9ac7-a98f94f552b1",
        "deepnote_app_is_output_hidden": true,
        "cell_id": "00f21d7de5bc487fb721a1659115a7bc",
        "deepnote_cell_type": "code"
      },
      "source": "import os\n\n# Create directory structure\ndef create_directory_structure():\n    directories = [\n        'data',\n        'data/raw',\n        'data/processed',\n        'data/signals',\n        'data/orders',\n        'data/predictions',\n        'logs',\n        'config'\n    ]\n    \n    for directory in directories:\n        os.makedirs(directory, exist_ok=True)\n        print(f\"Created directory: {directory}\")\n\ncreate_directory_structure()",
      "block_group": "00f21d7de5bc487fb721a1659115a7bc",
      "execution_count": 2,
      "outputs": [
        {
          "name": "stdout",
          "text": "Created directory: data\nCreated directory: data/raw\nCreated directory: data/processed\nCreated directory: data/signals\nCreated directory: data/orders\nCreated directory: data/predictions\nCreated directory: models\nCreated directory: logs\nCreated directory: config\n",
          "output_type": "stream"
        }
      ],
      "outputs_reference": null,
      "content_dependencies": null
    },
    {
      "cell_type": "code",
      "metadata": {
        "source_hash": "f2248899",
        "execution_start": 1743940757927,
        "execution_millis": 0,
        "execution_context_id": "a31ff040-3a41-4c9a-9ac7-a98f94f552b1",
        "cell_id": "adb1ed85b389463e88051db3f863e8a1",
        "deepnote_cell_type": "code"
      },
      "source": "# Combined trading system framework\nimport pandas as pd\nimport numpy as np\nfrom datetime import datetime\nimport requests\nfrom abc import ABC, abstractmethod\nimport logging\nimport json\nfrom Moduled_functions import get_data\n\n# Configure logging\nlogging.basicConfig(\n    filename='logs/trading_system.log',\n    level=logging.INFO,\n    format='%(asctime)s - %(name)s - %(levelname)s - %(message)s'\n)\nlogger = logging.getLogger('TradingSystem')\nclass BaseStrategy(ABC):\n    def __init__(self, name):\n        self.name = name\n        self.signals_path = f'data/signals/signals_{name}.csv'\n        self.trades_path = f'data/orders/trades_{name}.csv'\n        self.config_path = f'config/strategy_{name}.json'\n        self.load_config()\n    \n    def load_config(self):\n        \"\"\"Load strategy configuration\"\"\"\n        try:\n            with open(self.config_path, 'r') as f:\n                self.config = json.load(f)\n        except FileNotFoundError:\n            self.config = self.get_default_config()\n            self.save_config()\n    \n    def save_config(self):\n        \"\"\"Save strategy configuration\"\"\"\n        with open(self.config_path, 'w') as f:\n            json.dump(self.config, f, indent=4)\n    \n    @abstractmethod\n    def get_default_config(self):\n        \"\"\"Get default strategy configuration\"\"\"\n        pass\n    \n    @abstractmethod\n    def generate_signals(self, data):\n        \"\"\"Generate trading signals based on strategy logic\"\"\"\n        pass\n    \n    @abstractmethod\n    def get_order_parameters(self, current_price, signal):\n        \"\"\"Get order parameters based on strategy signal\"\"\"\n        pass\n    \n    def save_signals(self, signals_data):\n        \"\"\"Save strategy signals to history\"\"\"\n        try:\n            if os.path.exists(self.signals_path):\n                existing_signals = pd.read_csv(self.signals_path)\n                signals_data = signals_data.iloc[-1:]\n                updated_signals = pd.concat([existing_signals, signals_data])\n            else:\n                updated_signals = signals_data\n            updated_signals.to_csv(self.signals_path, index=False)\n            logger.info(f\"Signals saved for strategy {self.name}\")\n        except Exception as e:\n            logger.error(f\"Error saving signals for strategy {self.name}: {str(e)}\")\n    \n    def save_trade(self, trade_data):\n        \"\"\"Save trade details to history\"\"\"\n        try:\n            if os.path.exists(self.trades_path):\n                existing_trades = pd.read_csv(self.trades_path)\n                updated_trades = pd.concat([existing_trades, trade_data])\n            else:\n                updated_trades = trade_data\n            updated_trades.to_csv(self.trades_path, index=False)\n            logger.info(f\"Trade saved for strategy {self.name}\")\n        except Exception as e:\n            logger.error(f\"Error saving trade for strategy {self.name}: {str(e)}\")\n\nclass StrategyRegistry:\n    _strategies = {}\n    \n    @classmethod\n    def register(cls, strategy_instance):\n        \"\"\"Register a new strategy\"\"\"\n        cls._strategies[strategy_instance.name] = strategy_instance\n        logger.info(f\"Strategy registered: {strategy_instance.name}\")\n    \n    @classmethod\n    def get_strategy(cls, name):\n        \"\"\"Get a registered strategy by name\"\"\"\n        return cls._strategies.get(name)\n    \n    @classmethod\n    def get_all_strategies(cls):\n        \"\"\"Get all registered strategies\"\"\"\n        return cls._strategies",
      "block_group": "d004a156fdd64a0a98947cf34419eae7",
      "execution_count": 7,
      "outputs": [],
      "outputs_reference": null,
      "content_dependencies": null
    },
    {
      "cell_type": "code",
      "metadata": {
        "source_hash": "8072b51b",
        "execution_start": 1743941407757,
        "execution_millis": 0,
        "execution_context_id": "a31ff040-3a41-4c9a-9ac7-a98f94f552b1",
        "cell_id": "504fb6ab52404f93a5301b732be9f788",
        "deepnote_cell_type": "code"
      },
      "source": "class DataHandler:\n    def __init__(self):\n        self.scaler = None\n        self.raw_data_path = 'data/raw/base_data.csv'\n        self.processed_data_path = 'data/processed/transformed_data.csv'\n    \n    def get_and_prepare_data(self, lookback, access_token):\n        from Moduled_functions import tranformation\n        \"\"\"Get and prepare the base data\"\"\"\n        try:\n            base_data, current_price = get_data(lookback, access_token)\n            #base_data_append=base_data.iloc[-1:]\n\n        # Read existing history\n            existing_data = pd.read_csv(self.raw_data_path)\n            existing_data['datetime'] = pd.to_datetime(existing_data['datetime'])\n            base_data['datetime'] = pd.to_datetime(base_data['datetime'])\n            \n            \n            # Add new records\n            new_records = base_data[~base_data['datetime'].isin(existing_data['datetime'])]\n            if not new_records.empty:\n                updated_data = pd.concat([existing_data, new_records])\n                updated_data = updated_data.sort_values('datetime')\n            else:\n                updated_data = existing_data\n                \n            updated_data.to_csv(self.raw_data_path, index=False)\n            logger.info(f\"Raw data saved to {self.raw_data_path}\")\n            \n            base_data = tranformation(base_data, 0.0015)            \n            return base_data, current_price\n        except Exception as e:\n            logger.error(f\"Error in get_and_prepare_data: {str(e)}\")\n            raise\n    \n    def calculate_technical_indicators(self, data):\n        \"\"\"Calculate technical indicators\"\"\"\n        try:\n            data['EMA_slope'] = calculate_ema_slope(data, 'Open', 9)\n            data['EMA_slope_15'] = calculate_ema_slope(data, 'Open', 15)\n            data['EMA_slope_60'] = calculate_ema_slope(data, 'Open', 60)\n            data['deviation_'] = data['bullish_move_flag_20'] + data['bearish_move_flag_20']\n            data=data.iloc[-1:]\n            data.to_csv(self.processed_data_path, index=False,mode ='a')\n            logger.info(f\"Processed data saved to {self.processed_data_path}\")\n            return data\n        except Exception as e:\n            logger.error(f\"Error in calculate_technical_indicators: {str(e)}\")\n            raise\n    \n    def normalize_features(self, data):\n        \"\"\"Normalize the feature data\"\"\"\n        try:\n            X = data.iloc[:,9:69]\n            y = data['deviation_']\n            \n            if self.scaler is None:\n                self.scaler = StandardScaler()\n                self.scaler.fit(X)\n            \n            X_normalized = pd.DataFrame(self.scaler.transform(X)).round(1)\n            return X_normalized, y\n        except Exception as e:\n            logger.error(f\"Error in normalize_features: {str(e)}\")\n            raise\nclass OrderManager:\n    def __init__(self, access_token):\n        self.access_token = access_token\n        #self.account_id = account_id\n        self.orders_path = 'data/orders/all_orders.csv'\n    \n    def place_order(self, current_price, stop_loss, take_profit, quantity,account_id):\n        \"\"\"Place an order\"\"\"\n        try:\n            order = place_order(\n                str(current_price),\n                str(round(stop_loss, 5)),\n                str(round(take_profit, 5)),\n                quantity,\n                self.access_token,\n                account_id\n            )\n            logger.info(f\"Order placed: {order['orderCreateTransaction'].get('id')}\")\n            return order\n        except Exception as e:\n            logger.error(f\"Error placing order: {str(e)}\")\n            raise\n    \n    def save_order(self, order_data):\n        \"\"\"Save order details to history\"\"\"\n        try:\n            if os.path.exists(self.orders_path):\n                existing_orders = pd.read_csv(self.orders_path)\n                updated_orders = pd.concat([existing_orders, order_data])\n            else:\n                updated_orders = order_data\n            updated_orders.to_csv(self.orders_path, index=False)\n            logger.info(\"Order saved to history\")\n        except Exception as e:\n            logger.error(f\"Error saving order: {str(e)}\")",
      "block_group": "98e7de400ce44087bb93324ee96e7f8e",
      "execution_count": 33,
      "outputs": [],
      "outputs_reference": null,
      "content_dependencies": null
    },
    {
      "cell_type": "code",
      "metadata": {
        "source_hash": "2ced9ee1",
        "execution_start": 1743940942065,
        "execution_millis": 3,
        "execution_context_id": "a31ff040-3a41-4c9a-9ac7-a98f94f552b1",
        "cell_id": "eb4c0d0fba4740ee82a9e6bcc4475405",
        "deepnote_cell_type": "code"
      },
      "source": "class TradingSystem:\n    def __init__(self, access_token, bearish_model, bullish_model):\n        self.data_handler = DataHandler()\n        self.order_manager = OrderManager(access_token)\n        self.predictions_data_path = 'data/predictions/predictions_data.csv'\n        #self.bearish_model = bearish_model\n        #self.bullish_model = bullish_model\n        \n    def execute(self, lookback=100):\n        try:\n            # Get and prepare data\n            base_data, current_price = self.data_handler.get_and_prepare_data(lookback, self.order_manager.access_token)\n            base_data = self.data_handler.calculate_technical_indicators(base_data)\n            X_normalized, y = self.data_handler.normalize_features(base_data)\n            \n            # Generate predictions\n            \n            y_pred_bearish = bearish_model.predict(X_normalized, verbose=0)\n            y_pred_bearish = pd.DataFrame(y_pred_bearish)\n            y_pred_bullish = bullish_model.predict(X_normalized, verbose=0)\n            y_pred_bullish = pd.DataFrame(y_pred_bullish)\n            \n            # Combine results\n            result_combined = pd.concat([y_pred_bearish, y_pred_bullish, y], axis=1)\n            result_combined.columns = ['bearish_0','bearish_1','bearish_2','bearish_3',\n                                    'bullish_0','bullish_1','bullish_2','bullish_3','y_true']\n            \n            result_combined = pd.concat([base_data['datetime'], result_combined], axis=1)\n            result_combined = result_combined.iloc[-1:]\n            result_combined.to_csv(self.predictions_data_path,index=False,mode = 'a')\n            del(result_combined)\n            # Process each strategy\n            for strategy in StrategyRegistry.get_all_strategies().values():\n                self._process_strategy(strategy, base_data, current_price)\n            \n            logger.info(f\"Execution completed at {datetime.now()}\")\n            \n        except Exception as e:\n            logger.error(f\"Error in execute: {str(e)}\")\n    \n    def _process_strategy(self, strategy, base_data, current_price):\n        \"\"\"Process individual strategy signals and execute trades\"\"\"\n        try:\n            # Generate signals\n            signals = strategy.generate_signals(base_data)\n            signals['timestamp'] = datetime.now().strftime('%Y-%m-%d %H:%M:%S')\n            strategy.save_signals(signals)\n            \n            # Check signals and execute trades\n            latest_bearish = signals['bearish_flag'].iloc[-1]\n            latest_bullish = signals['bullish_flag'].iloc[-1]\n            \n            if latest_bullish == 1 and latest_bearish != 2:\n                self._execute_trade(strategy, 1, current_price)\n            elif latest_bearish == 2 and latest_bullish != 1:\n                self._execute_trade(strategy, 2, current_price)\n                \n        except Exception as e:\n            logger.error(f\"Error processing strategy {strategy.name}: {str(e)}\")\n    \n    def _execute_trade(self, strategy, signal, current_price):\n        \"\"\"Execute and record a trade for a strategy\"\"\"\n        try:\n            order_params = strategy.get_order_parameters(current_price, signal)\n            if not order_params:\n                return\n            \n            order = self.order_manager.place_order(\n                current_price,\n                order_params['stop_loss'],\n                order_params['take_profit'],\n                order_params['quantity'],\n                order_params['account_id']\n            )\n            \n            order_id = order['orderCreateTransaction'].get('id')\n            order_time = order['orderCreateTransaction'].get('time')\n            account_id = order['orderCreateTransaction'].get('accountID')\n            \n            # Save trade details\n            trade_data = pd.DataFrame({\n                'Time': [order_time],\n                'Strategy': [strategy.name],\n                'Type': [order_params['type']],\n                'Quantity': [order_params['quantity']],\n                'Price': [current_price],\n                'Take_Profit': [order_params['take_profit']],\n                'Stop_Loss': [order_params['stop_loss']],\n                'Order_ID': [order_id],\n                'Account_ID': [account_id],\n            })\n            \n            strategy.save_trade(trade_data)\n            self.order_manager.save_order(trade_data)\n            \n            # Send notification\n            message = f\"{strategy.name} {order_params['type']} Order placed with order no: {order_id}\"\n            requests.get(f'https://api.day.app/iFbt9PqBdm6d2YvUT4irnN/{order_params[\"type\"]} Order Placed/{message}')\n            logger.info(message)\n            \n        except Exception as e:\n            logger.error(f\"Error executing trade for strategy {strategy.name}: {str(e)}\")\n\nprint(\"Trading system framework initialized with directory structure\")",
      "block_group": "dc265a2ae0a043018ce77028bce37b98",
      "execution_count": 25,
      "outputs": [
        {
          "name": "stdout",
          "text": "Trading system framework initialized with directory structure\n",
          "output_type": "stream"
        }
      ],
      "outputs_reference": null,
      "content_dependencies": null
    },
    {
      "cell_type": "code",
      "metadata": {
        "source_hash": "8dff5d4e",
        "execution_start": 1743940944952,
        "execution_millis": 10,
        "execution_context_id": "a31ff040-3a41-4c9a-9ac7-a98f94f552b1",
        "cell_id": "8e1f6e96a5094d3992fb9e5d9fa5839b",
        "deepnote_cell_type": "code"
      },
      "source": "# Example implementations of concrete strategies\nclass VolumeBasedStrategy(BaseStrategy):\n    def __init__(self):\n        super().__init__('volume_based')\n    \n    def get_default_config(self):\n        return {\n            'ema_slope_threshold': 450,\n            'ema_slope_15_threshold': 750,\n            'ema_slope_60_threshold': 0.50,\n            'bearish_threshold_max': 0.65,\n            'move_from_top_min': 0.08,\n            'move_from_top_max': 0.25,\n            'volume_min': 450,\n            'volume_max': 700,\n            'volume_mean_3_min': 500,\n            'volume_mean_3_max': 750,\n            'take_profit_multiplier': 1.0015,\n            'stop_loss_multiplier': 0.0005,\n            'quantity': '1000000'\n        }\n    \n    def generate_signals(self, data):\n        config = self.config\n        \n        # Generate bearish signals\n        bearish_signals = data.apply(lambda x: 2 if (\n            x['EMA_slope'] < config['ema_slope_threshold'] and\n            x['EMA_slope_15'] < config['ema_slope_15_threshold'] and\n            x['EMA_slope_60'] < config['ema_slope_60_threshold'] and\n            x['volume'] > config['volume_threshold']\n        ) else 0, axis=1)\n        \n        # Generate bullish signals\n        bullish_signals = data.apply(lambda x: 1 if (\n            x['EMA_slope'] > abs(config['ema_slope_threshold']) and\n            x['EMA_slope_15'] > abs(config['ema_slope_15_threshold']) and\n            x['EMA_slope_60'] > abs(config['ema_slope_60_threshold']) and\n            x['volume'] > config['volume_threshold']\n        ) else 0, axis=1)\n        \n        signals = pd.DataFrame({\n            'datetime': data['datetime'],\n            'bearish_flag': bearish_signals,\n            'bullish_flag': bullish_signals\n        })\n        \n        return signals\n    \n    def get_order_parameters(self, current_price, signal):\n        config = self.config\n        \n        if signal == 1:  # Bullish\n            return {\n                'take_profit': current_price * config['take_profit_multiplier'],\n                'stop_loss': current_price * config['stop_loss_multiplier'],\n                'quantity': config['quantity'],\n                'type': 'BUY',\n                'account_id' : '101-004-31059296-001'\n            }\n        elif signal == 2:  # Bearish\n            return {\n                'take_profit': current_price * (2 - config['take_profit_multiplier']),\n                'stop_loss': current_price * config['stop_loss_multiplier'],\n                'quantity': f\"-{config['quantity']}\",\n                'type': 'SELL',\n                'account_id' : '101-004-31059296-001'\n            }\n        return None\n\n# Example implementations of concrete strategies\nclass VolumeBasedStrategyHedge(BaseStrategy):\n    def __init__(self):\n        super().__init__('volume_based_hedge')\n    \n    def get_default_config(self):\n        return {\n            'ema_slope_threshold': 450,\n            'ema_slope_15_threshold': 750,\n            'ema_slope_60_threshold': 0.50,\n            'bearish_threshold_max': 0.65,\n            'move_from_top_min': 0.08,\n            'move_from_top_max': 0.25,\n            'volume_min': 450,\n            'volume_max': 700,\n            'volume_mean_3_min': 500,\n            'volume_mean_3_max': 750,\n            'take_profit_multiplier': 1.0015,\n            'stop_loss_multiplier': 0.0005,\n            'quantity': '1000000'\n        }\n    \n    def generate_signals(self, data):\n        config = self.config\n        \n        # Generate bearish signals\n        bearish_signals = data.apply(lambda x: 2 if (\n            x['EMA_slope'] < config['ema_slope_threshold'] and\n            x['EMA_slope_15'] < config['ema_slope_15_threshold'] and\n            x['EMA_slope_60'] < config['ema_slope_60_threshold'] and\n            x['volume'] > config['volume_threshold']\n        ) else 0, axis=1)\n        \n        # Generate bullish signals\n        bullish_signals = data.apply(lambda x: 1 if (\n            x['EMA_slope'] > abs(config['ema_slope_threshold']) and\n            x['EMA_slope_15'] > abs(config['ema_slope_15_threshold']) and\n            x['EMA_slope_60'] > abs(config['ema_slope_60_threshold']) and\n            x['volume'] > config['volume_threshold']\n        ) else 0, axis=1)\n        \n        signals = pd.DataFrame({\n            'datetime': data['datetime'],\n            'bearish_flag': bearish_signals,\n            'bullish_flag': bullish_signals\n        })\n        \n        return signals\n    \n    def get_order_parameters(self, current_price, signal):\n        config = self.config\n        \n        if signal == 2:  # Bullish\n            return {\n                'take_profit': current_price * config['take_profit_multiplier'],\n                'stop_loss': current_price * config['stop_loss_multiplier'],\n                'quantity': config['quantity'],\n                'type': 'BUY',\n                'account_id' : '101-004-31059296-003'\n            }\n        elif signal == 1:  # Bearish\n            return {\n                'take_profit': current_price * (2 - config['take_profit_multiplier']),\n                'stop_loss': current_price * config['stop_loss_multiplier'],\n                'quantity': f\"-{config['quantity']}\",\n                'type': 'BUY',\n                'account_id' : '101-004-31059296-003'\n            }\n        return None\n\nclass EMASlopeStrategy(BaseStrategy):\n    def __init__(self):\n        super().__init__('ema_slope')\n    \n    def get_default_config(self):\n        return {\n            'ema_slope_threshold': -0.0002,\n            'ema_slope_15_threshold': -0.0001,\n            'ema_slope_60_threshold': 0,\n            'volume_threshold': 500,\n            'take_profit_multiplier': 1.002,\n            'stop_loss_multiplier': 0.001,\n            'quantity': '500000'\n        }\n    \n    def generate_signals(self, data):\n        config = self.config\n        \n        # Generate bearish signals\n        bearish_signals = data.apply(lambda x: 2 if (\n            x['EMA_slope'] < config['ema_slope_threshold'] and\n            x['EMA_slope_15'] < config['ema_slope_15_threshold'] and\n            x['EMA_slope_60'] < config['ema_slope_60_threshold'] and\n            x['volume'] > config['volume_threshold']\n        ) else 0, axis=1)\n        \n        # Generate bullish signals\n        bullish_signals = data.apply(lambda x: 1 if (\n            x['EMA_slope'] > abs(config['ema_slope_threshold']) and\n            x['EMA_slope_15'] > abs(config['ema_slope_15_threshold']) and\n            x['EMA_slope_60'] > abs(config['ema_slope_60_threshold']) and\n            x['volume'] > config['volume_threshold']\n        ) else 0, axis=1)\n        \n        signals = pd.DataFrame({\n            'datetime': data['datetime'],\n            'bearish_flag': bearish_signals,\n            'bullish_flag': bullish_signals\n        })\n        \n        return signals\n    \n    def get_order_parameters(self, current_price, signal):\n        config = self.config\n        \n        if signal == 1:  # Bullish\n            return {\n                'take_profit': current_price * config['take_profit_multiplier'],\n                'stop_loss': current_price * config['stop_loss_multiplier'],\n                'quantity': config['quantity'],\n                'type': 'BUY',\n                'account_id' : '101-004-31059296-001'\n            }\n        elif signal == 2:  # Bearish\n            return {\n                'take_profit': current_price * (2 - config['take_profit_multiplier']),\n                'stop_loss': current_price * config['stop_loss_multiplier'],\n                'quantity': f\"-{config['quantity']}\",\n                'type': 'SELL',\n                'account_id' : '101-004-31059296-001'\n            }\n        return None\n\nprint(\"Strategy implementations completed\")",
      "block_group": "86288f70820f4128b1cfc4b18c880480",
      "execution_count": 27,
      "outputs": [
        {
          "name": "stdout",
          "text": "Strategy implementations completed\n",
          "output_type": "stream"
        }
      ],
      "outputs_reference": null,
      "content_dependencies": null
    },
    {
      "cell_type": "code",
      "metadata": {
        "source_hash": "d5151437",
        "execution_start": 1743940949754,
        "execution_millis": 3739,
        "execution_context_id": "a31ff040-3a41-4c9a-9ac7-a98f94f552b1",
        "cell_id": "52b1e082631d41fca8a8dd78f26dad73",
        "deepnote_cell_type": "code"
      },
      "source": "access_token = '320c03e29b3723c3869a2eafa278c553-c96eccee26e4e5864dcf001e98f7db84'\naccount_id = '101-004-31059296-001'\nbearish_model = load_model('/work/Trained_Models/FX_Bearish_model_2025-02-19.keras')\nbullish_model = load_model('/work/Trained_Models/FX_Bullish_model_2025-02-21.keras')\n\n\n# Initialize the system\ntrading_system = TradingSystem(access_token, bearish_model, bullish_model)\n\n# Register strategies\nvolume_strategy = VolumeBasedStrategy()\nvolume_strategy_hedge = VolumeBasedStrategyHedge()\nema_strategy = EMASlopeStrategy()\n\nStrategyRegistry.register(volume_strategy)\nStrategyRegistry.register(volume_strategy_hedge)\nStrategyRegistry.register(ema_strategy)\n\n# Execute trading system\ntrading_system.execute(lookback=100)",
      "block_group": "ad04ba6aad8847a2bbc3cc519f349dab",
      "execution_count": 31,
      "outputs": [
        {
          "name": "stderr",
          "text": "2025-04-06 12:02:31,214 - INFO - Strategy registered: volume_based\n2025-04-06 12:02:31,215 - INFO - Strategy registered: volume_based_hedge\n2025-04-06 12:02:31,216 - INFO - Strategy registered: ema_slope\n2025-04-06 12:02:31,608 - INFO - Raw data saved to data/raw/base_data.csv\n2025-04-06 12:02:31,882 - INFO - Processed data saved to data/processed/transformed_data.csv\n2025-04-06 12:02:32,703 - INFO - Signals saved for strategy volume_based\n2025-04-06 12:02:33,015 - INFO - Signals saved for strategy volume_based_hedge\n2025-04-06 12:02:33,489 - INFO - Signals saved for strategy ema_slope\n2025-04-06 12:02:33,490 - INFO - Execution completed at 2025-04-06 12:02:33.490421\n",
          "output_type": "stream"
        }
      ],
      "outputs_reference": null,
      "content_dependencies": null
    },
    {
      "cell_type": "code",
      "metadata": {
        "source_hash": "1c5085c4",
        "execution_start": 1743940946282,
        "execution_millis": 2,
        "execution_context_id": "a31ff040-3a41-4c9a-9ac7-a98f94f552b1",
        "cell_id": "6437b2eff5874155af722cb26f1d337c",
        "deepnote_cell_type": "code"
      },
      "source": "import os\n\n# Check if logs directory exists and create if not\nlog_dir = 'logs'\nif not os.path.exists(log_dir):\n    os.makedirs(log_dir)\n\n# Test if log file is being written\nimport logging\n\n# Configure logging with both file and console handlers\nlogger = logging.getLogger('TradingSystem')\nlogger.setLevel(logging.INFO)\n\n# Clear any existing handlers\nlogger.handlers = []\n\n# Create file handler\nfile_handler = logging.FileHandler('logs/trading_system.log')\nfile_handler.setLevel(logging.INFO)\nfile_formatter = logging.Formatter('%(asctime)s - %(name)s - %(levelname)s - %(message)s')\nfile_handler.setFormatter(file_formatter)\n\n# Create console handler\nconsole_handler = logging.StreamHandler()\nconsole_handler.setLevel(logging.INFO)\nconsole_formatter = logging.Formatter('%(asctime)s - %(levelname)s - %(message)s')\nconsole_handler.setFormatter(console_formatter)\n\n# Add both handlers to logger\nlogger.addHandler(file_handler)\nlogger.addHandler(console_handler)\n\n# Test logging\nlogger.info(\"Test log message - checking if logging is working\")\n\n# Read and display the last few lines of the log file\ntry:\n    with open('logs/trading_system.log', 'r') as f:\n        last_lines = f.readlines()[-5:]  # Get last 5 lines\n        print(\"\\nLast few lines from log file:\")\n        for line in last_lines:\n            print(line.strip())\nexcept FileNotFoundError:\n    print(\"Log file not found!\")\nexcept Exception as e:\n    print(f\"Error reading log file: {str(e)}\")",
      "block_group": "7721ec0d405c4fb48da03c0d4d969f38",
      "execution_count": 29,
      "outputs": [
        {
          "name": "stderr",
          "text": "2025-04-06 12:02:26,280 - INFO - Test log message - checking if logging is working\n\nLast few lines from log file:\n2025-04-06 11:59:28,414 - TradingSystem - INFO - Signals saved for strategy volume_based_hedge\n2025-04-06 11:59:28,868 - TradingSystem - INFO - Signals saved for strategy ema_slope\n2025-04-06 11:59:28,868 - TradingSystem - INFO - Execution completed at 2025-04-06 11:59:28.868861\n2025-04-06 12:02:26,280 - TradingSystem - INFO - Test log message - checking if logging is working\n2025-04-06 12:02:26,280 - TradingSystem - INFO - Test log message - checking if logging is working\n",
          "output_type": "stream"
        }
      ],
      "outputs_reference": null,
      "content_dependencies": null
    },
    {
      "cell_type": "code",
      "metadata": {
        "cell_id": "8d39940b102940aeb0c3f0af5595cba2",
        "deepnote_cell_type": "code"
      },
      "source": "print(f\"Check completed at {current_time}\")",
      "block_group": "e7eb13f062ac44c891b1a1eef3ec8e2b",
      "execution_count": null,
      "outputs": [],
      "outputs_reference": null,
      "content_dependencies": null
    },
    {
      "cell_type": "code",
      "metadata": {
        "cell_id": "e38c3775cbce4c98bd5308a3decf99f0",
        "deepnote_cell_type": "code"
      },
      "source": "# Set up the schedule to run at specified intervals\nfor minute in [1, 6, 11, 16, 21, 26, 31, 36, 41, 46, 51, 56]:\n    schedule.every().hour.at(f\":{minute:02d}\").do(job)",
      "block_group": "f26de8f42aeb4038a9c514548e1604a1",
      "execution_count": null,
      "outputs": [],
      "outputs_reference": null,
      "content_dependencies": null
    },
    {
      "cell_type": "code",
      "metadata": {
        "cell_id": "e2b75dd7944840a6aec43f6b1881fad2",
        "deepnote_cell_type": "code"
      },
      "source": "print(\"Starting the trading bot...\")\nwhile True:\n    schedule.run_pending()\n    time.sleep(1)",
      "block_group": "3472ca3e039440d184c51551be756c4a",
      "execution_count": null,
      "outputs": [],
      "outputs_reference": null,
      "content_dependencies": null
    },
    {
      "cell_type": "code",
      "metadata": {
        "source_hash": "6f3f200d",
        "execution_start": 1743940877677,
        "execution_millis": 380,
        "execution_context_id": "a31ff040-3a41-4c9a-9ac7-a98f94f552b1",
        "cell_id": "56808d75e25c44b79d3f1d5fa927389d",
        "deepnote_cell_type": "code"
      },
      "source": "link = '/work/data/processed/transformed_data.csv'\nss = pd.read_csv(link)\nss = ss.iloc[:-1]\nss.to_csv(link)",
      "block_group": "773098b27d3c4dcaa2e57f69c6fa4f39",
      "execution_count": 21,
      "outputs": [],
      "outputs_reference": null,
      "content_dependencies": null
    },
    {
      "cell_type": "code",
      "metadata": {
        "source_hash": "fe48bd08",
        "execution_start": 1743906577686,
        "execution_millis": 1,
        "execution_context_id": "51ff70fb-8afb-43df-a1c4-935586253e5d",
        "cell_id": "6f0540d4ab4d48c4958c0067e8baaca3",
        "deepnote_cell_type": "code"
      },
      "source": "3993\n1997\n999",
      "block_group": "80071b45cfd248b7b885b7bdfdd45e78",
      "execution_count": 87,
      "outputs": [
        {
          "output_type": "execute_result",
          "execution_count": 87,
          "data": {
            "text/plain": "3993"
          },
          "metadata": {}
        }
      ],
      "outputs_reference": null,
      "content_dependencies": null
    },
    {
      "cell_type": "code",
      "metadata": {
        "source_hash": "b22da254",
        "execution_start": 1743906469093,
        "execution_millis": 1,
        "execution_context_id": "51ff70fb-8afb-43df-a1c4-935586253e5d",
        "cell_id": "24fea8b7f8ae4b8f93886877451023da",
        "deepnote_cell_type": "code"
      },
      "source": "1ss.iloc[-1:]",
      "block_group": "521562887ec143a6b8b3facdf2d97220",
      "execution_count": 79,
      "outputs": [
        {
          "output_type": "execute_result",
          "execution_count": 79,
          "data": {
            "application/vnd.deepnote.dataframe.v3+json": {
              "column_count": 10,
              "row_count": 1,
              "columns": [
                {
                  "name": "datetime",
                  "dtype": "object",
                  "stats": {
                    "unique_count": 1,
                    "nan_count": 0,
                    "categories": [
                      {
                        "name": "2025-04-04 20:50:00+00:00",
                        "count": 1
                      }
                    ]
                  }
                },
                {
                  "name": "bearish_0",
                  "dtype": "float64",
                  "stats": {
                    "unique_count": 1,
                    "nan_count": 0,
                    "min": "0.47734532",
                    "max": "0.47734532",
                    "histogram": [
                      {
                        "bin_start": -0.022654679999999983,
                        "bin_end": 0.07734532000000002,
                        "count": 0
                      },
                      {
                        "bin_start": 0.07734532000000002,
                        "bin_end": 0.17734532000000003,
                        "count": 0
                      },
                      {
                        "bin_start": 0.17734532000000003,
                        "bin_end": 0.27734532000000006,
                        "count": 0
                      },
                      {
                        "bin_start": 0.27734532000000006,
                        "bin_end": 0.37734532000000004,
                        "count": 0
                      },
                      {
                        "bin_start": 0.37734532000000004,
                        "bin_end": 0.47734532,
                        "count": 0
                      },
                      {
                        "bin_start": 0.47734532,
                        "bin_end": 0.57734532,
                        "count": 1
                      },
                      {
                        "bin_start": 0.57734532,
                        "bin_end": 0.6773453200000001,
                        "count": 0
                      },
                      {
                        "bin_start": 0.6773453200000001,
                        "bin_end": 0.77734532,
                        "count": 0
                      },
                      {
                        "bin_start": 0.77734532,
                        "bin_end": 0.8773453200000001,
                        "count": 0
                      },
                      {
                        "bin_start": 0.8773453200000001,
                        "bin_end": 0.97734532,
                        "count": 0
                      }
                    ]
                  }
                },
                {
                  "name": "bearish_1",
                  "dtype": "float64",
                  "stats": {
                    "unique_count": 1,
                    "nan_count": 0,
                    "min": "1.0308667e-10",
                    "max": "1.0308667e-10",
                    "histogram": [
                      {
                        "bin_start": -0.49999999989691335,
                        "bin_end": -0.39999999989691337,
                        "count": 0
                      },
                      {
                        "bin_start": -0.39999999989691337,
                        "bin_end": -0.29999999989691334,
                        "count": 0
                      },
                      {
                        "bin_start": -0.29999999989691334,
                        "bin_end": -0.1999999998969133,
                        "count": 0
                      },
                      {
                        "bin_start": -0.1999999998969133,
                        "bin_end": -0.09999999989691333,
                        "count": 0
                      },
                      {
                        "bin_start": -0.09999999989691333,
                        "bin_end": 1.0308665032709996e-10,
                        "count": 0
                      },
                      {
                        "bin_start": 1.0308665032709996e-10,
                        "bin_end": 0.10000000010308674,
                        "count": 1
                      },
                      {
                        "bin_start": 0.10000000010308674,
                        "bin_end": 0.20000000010308672,
                        "count": 0
                      },
                      {
                        "bin_start": 0.20000000010308672,
                        "bin_end": 0.3000000001030867,
                        "count": 0
                      },
                      {
                        "bin_start": 0.3000000001030867,
                        "bin_end": 0.4000000001030867,
                        "count": 0
                      },
                      {
                        "bin_start": 0.4000000001030867,
                        "bin_end": 0.5000000001030867,
                        "count": 0
                      }
                    ]
                  }
                },
                {
                  "name": "bearish_2",
                  "dtype": "float64",
                  "stats": {
                    "unique_count": 1,
                    "nan_count": 0,
                    "min": "0.5226547",
                    "max": "0.5226547",
                    "histogram": [
                      {
                        "bin_start": 0.022654700000000028,
                        "bin_end": 0.12265470000000002,
                        "count": 0
                      },
                      {
                        "bin_start": 0.12265470000000002,
                        "bin_end": 0.2226547,
                        "count": 0
                      },
                      {
                        "bin_start": 0.2226547,
                        "bin_end": 0.3226547,
                        "count": 0
                      },
                      {
                        "bin_start": 0.3226547,
                        "bin_end": 0.4226547,
                        "count": 0
                      },
                      {
                        "bin_start": 0.4226547,
                        "bin_end": 0.5226546999999999,
                        "count": 0
                      },
                      {
                        "bin_start": 0.5226546999999999,
                        "bin_end": 0.6226547,
                        "count": 1
                      },
                      {
                        "bin_start": 0.6226547,
                        "bin_end": 0.7226547,
                        "count": 0
                      },
                      {
                        "bin_start": 0.7226547,
                        "bin_end": 0.8226547,
                        "count": 0
                      },
                      {
                        "bin_start": 0.8226547,
                        "bin_end": 0.9226546999999999,
                        "count": 0
                      },
                      {
                        "bin_start": 0.9226546999999999,
                        "bin_end": 1.0226547,
                        "count": 0
                      }
                    ]
                  }
                },
                {
                  "name": "bearish_3",
                  "dtype": "float64",
                  "stats": {
                    "unique_count": 1,
                    "nan_count": 0,
                    "min": "1.0308667e-10",
                    "max": "1.0308667e-10",
                    "histogram": [
                      {
                        "bin_start": -0.49999999989691335,
                        "bin_end": -0.39999999989691337,
                        "count": 0
                      },
                      {
                        "bin_start": -0.39999999989691337,
                        "bin_end": -0.29999999989691334,
                        "count": 0
                      },
                      {
                        "bin_start": -0.29999999989691334,
                        "bin_end": -0.1999999998969133,
                        "count": 0
                      },
                      {
                        "bin_start": -0.1999999998969133,
                        "bin_end": -0.09999999989691333,
                        "count": 0
                      },
                      {
                        "bin_start": -0.09999999989691333,
                        "bin_end": 1.0308665032709996e-10,
                        "count": 0
                      },
                      {
                        "bin_start": 1.0308665032709996e-10,
                        "bin_end": 0.10000000010308674,
                        "count": 1
                      },
                      {
                        "bin_start": 0.10000000010308674,
                        "bin_end": 0.20000000010308672,
                        "count": 0
                      },
                      {
                        "bin_start": 0.20000000010308672,
                        "bin_end": 0.3000000001030867,
                        "count": 0
                      },
                      {
                        "bin_start": 0.3000000001030867,
                        "bin_end": 0.4000000001030867,
                        "count": 0
                      },
                      {
                        "bin_start": 0.4000000001030867,
                        "bin_end": 0.5000000001030867,
                        "count": 0
                      }
                    ]
                  }
                },
                {
                  "name": "bullish_0",
                  "dtype": "float64",
                  "stats": {
                    "unique_count": 1,
                    "nan_count": 0,
                    "min": "0.48791215",
                    "max": "0.48791215",
                    "histogram": [
                      {
                        "bin_start": -0.012087850000000011,
                        "bin_end": 0.08791215,
                        "count": 0
                      },
                      {
                        "bin_start": 0.08791215,
                        "bin_end": 0.18791215,
                        "count": 0
                      },
                      {
                        "bin_start": 0.18791215,
                        "bin_end": 0.28791215000000003,
                        "count": 0
                      },
                      {
                        "bin_start": 0.28791215000000003,
                        "bin_end": 0.38791215,
                        "count": 0
                      },
                      {
                        "bin_start": 0.38791215,
                        "bin_end": 0.48791215,
                        "count": 0
                      },
                      {
                        "bin_start": 0.48791215,
                        "bin_end": 0.5879121500000001,
                        "count": 1
                      },
                      {
                        "bin_start": 0.5879121500000001,
                        "bin_end": 0.6879121500000001,
                        "count": 0
                      },
                      {
                        "bin_start": 0.6879121500000001,
                        "bin_end": 0.78791215,
                        "count": 0
                      },
                      {
                        "bin_start": 0.78791215,
                        "bin_end": 0.88791215,
                        "count": 0
                      },
                      {
                        "bin_start": 0.88791215,
                        "bin_end": 0.98791215,
                        "count": 0
                      }
                    ]
                  }
                },
                {
                  "name": "bullish_1",
                  "dtype": "float64",
                  "stats": {
                    "unique_count": 1,
                    "nan_count": 0,
                    "min": "0.5120879",
                    "max": "0.5120879",
                    "histogram": [
                      {
                        "bin_start": 0.01208790000000004,
                        "bin_end": 0.11208790000000005,
                        "count": 0
                      },
                      {
                        "bin_start": 0.11208790000000005,
                        "bin_end": 0.21208790000000005,
                        "count": 0
                      },
                      {
                        "bin_start": 0.21208790000000005,
                        "bin_end": 0.3120879000000001,
                        "count": 0
                      },
                      {
                        "bin_start": 0.3120879000000001,
                        "bin_end": 0.41208790000000006,
                        "count": 0
                      },
                      {
                        "bin_start": 0.41208790000000006,
                        "bin_end": 0.5120879,
                        "count": 0
                      },
                      {
                        "bin_start": 0.5120879,
                        "bin_end": 0.6120879000000001,
                        "count": 1
                      },
                      {
                        "bin_start": 0.6120879000000001,
                        "bin_end": 0.7120879000000001,
                        "count": 0
                      },
                      {
                        "bin_start": 0.7120879000000001,
                        "bin_end": 0.8120879000000001,
                        "count": 0
                      },
                      {
                        "bin_start": 0.8120879000000001,
                        "bin_end": 0.9120879000000001,
                        "count": 0
                      },
                      {
                        "bin_start": 0.9120879000000001,
                        "bin_end": 1.0120879,
                        "count": 0
                      }
                    ]
                  }
                },
                {
                  "name": "bullish_2",
                  "dtype": "float64",
                  "stats": {
                    "unique_count": 1,
                    "nan_count": 0,
                    "min": "1.2953232e-10",
                    "max": "1.2953232e-10",
                    "histogram": [
                      {
                        "bin_start": -0.49999999987046767,
                        "bin_end": -0.39999999987046764,
                        "count": 0
                      },
                      {
                        "bin_start": -0.39999999987046764,
                        "bin_end": -0.29999999987046766,
                        "count": 0
                      },
                      {
                        "bin_start": -0.29999999987046766,
                        "bin_end": -0.19999999987046763,
                        "count": 0
                      },
                      {
                        "bin_start": -0.19999999987046763,
                        "bin_end": -0.09999999987046765,
                        "count": 0
                      },
                      {
                        "bin_start": -0.09999999987046765,
                        "bin_end": 1.2953232930712488e-10,
                        "count": 1
                      },
                      {
                        "bin_start": 1.2953232930712488e-10,
                        "bin_end": 0.10000000012953242,
                        "count": 0
                      },
                      {
                        "bin_start": 0.10000000012953242,
                        "bin_end": 0.2000000001295324,
                        "count": 0
                      },
                      {
                        "bin_start": 0.2000000001295324,
                        "bin_end": 0.3000000001295324,
                        "count": 0
                      },
                      {
                        "bin_start": 0.3000000001295324,
                        "bin_end": 0.40000000012953235,
                        "count": 0
                      },
                      {
                        "bin_start": 0.40000000012953235,
                        "bin_end": 0.5000000001295323,
                        "count": 0
                      }
                    ]
                  }
                },
                {
                  "name": "bullish_3",
                  "dtype": "float64",
                  "stats": {
                    "unique_count": 1,
                    "nan_count": 0,
                    "min": "1.2959979e-10",
                    "max": "1.2959979e-10",
                    "histogram": [
                      {
                        "bin_start": -0.4999999998704002,
                        "bin_end": -0.39999999987040025,
                        "count": 0
                      },
                      {
                        "bin_start": -0.39999999987040025,
                        "bin_end": -0.2999999998704002,
                        "count": 0
                      },
                      {
                        "bin_start": -0.2999999998704002,
                        "bin_end": -0.19999999987040018,
                        "count": 0
                      },
                      {
                        "bin_start": -0.19999999987040018,
                        "bin_end": -0.0999999998704002,
                        "count": 0
                      },
                      {
                        "bin_start": -0.0999999998704002,
                        "bin_end": 1.2959977535587086e-10,
                        "count": 0
                      },
                      {
                        "bin_start": 1.2959977535587086e-10,
                        "bin_end": 0.10000000012959986,
                        "count": 1
                      },
                      {
                        "bin_start": 0.10000000012959986,
                        "bin_end": 0.20000000012959984,
                        "count": 0
                      },
                      {
                        "bin_start": 0.20000000012959984,
                        "bin_end": 0.3000000001295998,
                        "count": 0
                      },
                      {
                        "bin_start": 0.3000000001295998,
                        "bin_end": 0.4000000001295998,
                        "count": 0
                      },
                      {
                        "bin_start": 0.4000000001295998,
                        "bin_end": 0.5000000001295998,
                        "count": 0
                      }
                    ]
                  }
                },
                {
                  "name": "y_true",
                  "dtype": "int64",
                  "stats": {
                    "unique_count": 1,
                    "nan_count": 0,
                    "min": "0",
                    "max": "0",
                    "histogram": [
                      {
                        "bin_start": -0.5,
                        "bin_end": -0.4,
                        "count": 0
                      },
                      {
                        "bin_start": -0.4,
                        "bin_end": -0.3,
                        "count": 0
                      },
                      {
                        "bin_start": -0.3,
                        "bin_end": -0.19999999999999996,
                        "count": 0
                      },
                      {
                        "bin_start": -0.19999999999999996,
                        "bin_end": -0.09999999999999998,
                        "count": 0
                      },
                      {
                        "bin_start": -0.09999999999999998,
                        "bin_end": 0,
                        "count": 0
                      },
                      {
                        "bin_start": 0,
                        "bin_end": 0.10000000000000009,
                        "count": 1
                      },
                      {
                        "bin_start": 0.10000000000000009,
                        "bin_end": 0.20000000000000007,
                        "count": 0
                      },
                      {
                        "bin_start": 0.20000000000000007,
                        "bin_end": 0.30000000000000004,
                        "count": 0
                      },
                      {
                        "bin_start": 0.30000000000000004,
                        "bin_end": 0.4,
                        "count": 0
                      },
                      {
                        "bin_start": 0.4,
                        "bin_end": 0.5,
                        "count": 0
                      }
                    ]
                  }
                },
                {
                  "name": "_deepnote_index_column",
                  "dtype": "int64"
                }
              ],
              "rows": [
                {
                  "datetime": "2025-04-04 20:50:00+00:00",
                  "bearish_0": 0.47734532,
                  "bearish_1": 1.0308667e-10,
                  "bearish_2": 0.5226547,
                  "bearish_3": 1.0308667e-10,
                  "bullish_0": 0.48791215,
                  "bullish_1": 0.5120879,
                  "bullish_2": 1.2953232e-10,
                  "bullish_3": 1.2959979e-10,
                  "y_true": 0,
                  "_deepnote_index_column": 498
                }
              ],
              "type": "dataframe"
            },
            "text/plain": "                      datetime  bearish_0     bearish_1  bearish_2  \\\n498  2025-04-04 20:50:00+00:00   0.477345  1.030867e-10   0.522655   \n\n        bearish_3  bullish_0  bullish_1     bullish_2     bullish_3  y_true  \n498  1.030867e-10   0.487912   0.512088  1.295323e-10  1.295998e-10       0  ",
            "text/html": "<div>\n<style scoped>\n    .dataframe tbody tr th:only-of-type {\n        vertical-align: middle;\n    }\n\n    .dataframe tbody tr th {\n        vertical-align: top;\n    }\n\n    .dataframe thead th {\n        text-align: right;\n    }\n</style>\n<table border=\"1\" class=\"dataframe\">\n  <thead>\n    <tr style=\"text-align: right;\">\n      <th></th>\n      <th>datetime</th>\n      <th>bearish_0</th>\n      <th>bearish_1</th>\n      <th>bearish_2</th>\n      <th>bearish_3</th>\n      <th>bullish_0</th>\n      <th>bullish_1</th>\n      <th>bullish_2</th>\n      <th>bullish_3</th>\n      <th>y_true</th>\n    </tr>\n  </thead>\n  <tbody>\n    <tr>\n      <th>498</th>\n      <td>2025-04-04 20:50:00+00:00</td>\n      <td>0.477345</td>\n      <td>1.030867e-10</td>\n      <td>0.522655</td>\n      <td>1.030867e-10</td>\n      <td>0.487912</td>\n      <td>0.512088</td>\n      <td>1.295323e-10</td>\n      <td>1.295998e-10</td>\n      <td>0</td>\n    </tr>\n  </tbody>\n</table>\n</div>"
          },
          "metadata": {}
        }
      ],
      "outputs_reference": null,
      "content_dependencies": null
    },
    {
      "cell_type": "code",
      "metadata": {
        "cell_id": "782896c114dc4afa84a4b3f12f77b4dc",
        "deepnote_cell_type": "code"
      },
      "source": "",
      "block_group": "89eba9ac521d4849ad46d619a6bc3815",
      "execution_count": null,
      "outputs": [],
      "outputs_reference": null,
      "content_dependencies": null
    },
    {
      "cell_type": "markdown",
      "source": "<a style='text-decoration:none;line-height:16px;display:flex;color:#5B5B62;padding:10px;justify-content:end;' href='https://deepnote.com?utm_source=created-in-deepnote-cell&projectId=a127aa9e-0a77-4af9-a6ce-85e7a9b74042' target=\"_blank\">\n<img alt='Created in deepnote.com' style='display:inline;max-height:16px;margin:0px;margin-right:7.5px;' src='data:image/svg+xml;base64,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' > </img>\nCreated in <span style='font-weight:600;margin-left:4px;'>Deepnote</span></a>",
      "metadata": {
        "created_in_deepnote_cell": true,
        "deepnote_cell_type": "markdown"
      }
    }
  ],
  "nbformat": 4,
  "nbformat_minor": 0,
  "metadata": {
    "deepnote_notebook_id": "11990d6ad3584e009dbd2e0e8ac5dabf"
  }
}